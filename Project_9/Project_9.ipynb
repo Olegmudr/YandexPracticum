{
 "cells": [
  {
   "cell_type": "markdown",
   "metadata": {
    "toc": true
   },
   "source": [
    "<h1>Содержание<span class=\"tocSkip\"></span></h1>\n",
    "<div class=\"toc\"><ul class=\"toc-item\"><li><span><a href=\"#Подготовка-данных\" data-toc-modified-id=\"Подготовка-данных-1\"><span class=\"toc-item-num\">1&nbsp;&nbsp;</span>Подготовка данных</a></span><ul class=\"toc-item\"><li><span><a href=\"#Открытие-и-изучение-файлов\" data-toc-modified-id=\"Открытие-и-изучение-файлов-1.1\"><span class=\"toc-item-num\">1.1&nbsp;&nbsp;</span>Открытие и изучение файлов</a></span></li><li><span><a href=\"#Проверим-расчет-обогащения-руды\" data-toc-modified-id=\"Проверим-расчет-обогащения-руды-1.2\"><span class=\"toc-item-num\">1.2&nbsp;&nbsp;</span>Проверим расчет обогащения руды</a></span></li><li><span><a href=\"#Преодобратка-данных\" data-toc-modified-id=\"Преодобратка-данных-1.3\"><span class=\"toc-item-num\">1.3&nbsp;&nbsp;</span>Преодобратка данных</a></span></li></ul></li><li><span><a href=\"#Анализ-данных\" data-toc-modified-id=\"Анализ-данных-2\"><span class=\"toc-item-num\">2&nbsp;&nbsp;</span>Анализ данных</a></span><ul class=\"toc-item\"><li><span><a href=\"#Посмотрите,-как-меняется-концентрация-металлов-(Au,-Ag,-Pb)-на-различных-этапах-очистки.\" data-toc-modified-id=\"Посмотрите,-как-меняется-концентрация-металлов-(Au,-Ag,-Pb)-на-различных-этапах-очистки.-2.1\"><span class=\"toc-item-num\">2.1&nbsp;&nbsp;</span>Посмотрите, как меняется концентрация металлов (Au, Ag, Pb) на различных этапах очистки.</a></span></li><li><span><a href=\"#2.1-обновленный\" data-toc-modified-id=\"2.1-обновленный-2.2\"><span class=\"toc-item-num\">2.2&nbsp;&nbsp;</span>2.1 обновленный</a></span></li><li><span><a href=\"#Исследуйте-суммарную-концентрацию-всех-веществ-на-разных-стадиях:-в-сырье,-в-черновом-и-финальном-концентратах.\" data-toc-modified-id=\"Исследуйте-суммарную-концентрацию-всех-веществ-на-разных-стадиях:-в-сырье,-в-черновом-и-финальном-концентратах.-2.3\"><span class=\"toc-item-num\">2.3&nbsp;&nbsp;</span>Исследуйте суммарную концентрацию всех веществ на разных стадиях: в сырье, в черновом и финальном концентратах.</a></span></li></ul></li><li><span><a href=\"#Модель\" data-toc-modified-id=\"Модель-3\"><span class=\"toc-item-num\">3&nbsp;&nbsp;</span>Модель</a></span><ul class=\"toc-item\"><li><span><a href=\"#Напишите-функцию-для-вычисления-итоговой-sMAPE\" data-toc-modified-id=\"Напишите-функцию-для-вычисления-итоговой-sMAPE-3.1\"><span class=\"toc-item-num\">3.1&nbsp;&nbsp;</span>Напишите функцию для вычисления итоговой sMAPE</a></span></li><li><span><a href=\"#Обучите-разные-модели-и-оцените-их-качество-кросс-валидацией.-Выберите-лучшую-модель-и-проверьте-её-на-тестовой-выборке.-Опишите-выводы.\" data-toc-modified-id=\"Обучите-разные-модели-и-оцените-их-качество-кросс-валидацией.-Выберите-лучшую-модель-и-проверьте-её-на-тестовой-выборке.-Опишите-выводы.-3.2\"><span class=\"toc-item-num\">3.2&nbsp;&nbsp;</span>Обучите разные модели и оцените их качество кросс-валидацией. Выберите лучшую модель и проверьте её на тестовой выборке. Опишите выводы.</a></span></li><li><span><a href=\"#Решающее-дерево\" data-toc-modified-id=\"Решающее-дерево-3.3\"><span class=\"toc-item-num\">3.3&nbsp;&nbsp;</span>Решающее дерево</a></span></li><li><span><a href=\"#Случайный-лес\" data-toc-modified-id=\"Случайный-лес-3.4\"><span class=\"toc-item-num\">3.4&nbsp;&nbsp;</span>Случайный лес</a></span></li></ul></li><li><span><a href=\"#Чек-лист-готовности-проекта\" data-toc-modified-id=\"Чек-лист-готовности-проекта-4\"><span class=\"toc-item-num\">4&nbsp;&nbsp;</span>Чек-лист готовности проекта</a></span></li></ul></div>"
   ]
  },
  {
   "cell_type": "markdown",
   "metadata": {},
   "source": [
    "# Восстановление золота из руды"
   ]
  },
  {
   "cell_type": "markdown",
   "metadata": {},
   "source": [
    "Подготовьте прототип модели машинного обучения для «Цифры». Компания разрабатывает решения для эффективной работы промышленных предприятий.\n",
    "\n",
    "Модель должна предсказать коэффициент восстановления золота из золотосодержащей руды. Используйте данные с параметрами добычи и очистки. \n",
    "\n",
    "Модель поможет оптимизировать производство, чтобы не запускать предприятие с убыточными характеристиками.\n",
    "\n",
    "Вам нужно:\n",
    "\n",
    "1. Подготовить данные;\n",
    "2. Провести исследовательский анализ данных;\n",
    "3. Построить и обучить модель.\n",
    "\n",
    "Чтобы выполнить проект, обращайтесь к библиотекам *pandas*, *matplotlib* и *sklearn.* Вам поможет их документация."
   ]
  },
  {
   "cell_type": "markdown",
   "metadata": {},
   "source": [
    "## Подготовка данных"
   ]
  },
  {
   "cell_type": "markdown",
   "metadata": {},
   "source": [
    "### Открытие и изучение файлов"
   ]
  },
  {
   "cell_type": "code",
   "execution_count": 1,
   "metadata": {},
   "outputs": [],
   "source": [
    "import numpy as np # импортируем нампи\n",
    "import pandas as pd #имортируем пандас\n",
    "from sklearn.metrics import mean_absolute_error #для нахождения MAE\n",
    "import matplotlib.pyplot as plt #импортируем matplotlib.pyplot для построения графиков\n",
    "import seaborn as sbs #импорт сеаборн\n",
    "from sklearn.metrics import make_scorer #для нахождения оценки smape\n",
    "from sklearn.model_selection import GridSearchCV #для гинерации автоматически оптимальных параметров\n",
    "from sklearn.tree import DecisionTreeRegressor #модель решающего дерева\n",
    "from sklearn.ensemble import RandomForestRegressor #модель случайного леса\n",
    "from sklearn.preprocessing import StandardScaler #стандартизация\n",
    "from sklearn.dummy import DummyRegressor #для простой модели"
   ]
  },
  {
   "cell_type": "code",
   "execution_count": 2,
   "metadata": {},
   "outputs": [],
   "source": [
    "data_1 = pd.read_csv(\"/datasets/gold_recovery_train_new.csv\", index_col='date', parse_dates=True)#скачиаем обучабшую выборку\n",
    "data_2 = pd.read_csv(\"/datasets/gold_recovery_test_new.csv\", index_col='date', parse_dates=True) #скачивам тестовую выборк\n",
    "data_3 = pd.read_csv(\"/datasets/gold_recovery_full_new.csv\", index_col='date', parse_dates=True) #скачиаем исходную выборку"
   ]
  },
  {
   "cell_type": "code",
   "execution_count": 3,
   "metadata": {},
   "outputs": [],
   "source": [
    "def analis(data): #Пишем функцию для удобства\n",
    "    print(\"Колтчество дубликатов :\", data.duplicated().sum())\n",
    "    print(\"Количество пропусков :\", data.isna().sum().sum())\n",
    "    data.info()\n",
    "    display(data.head(2))"
   ]
  },
  {
   "cell_type": "markdown",
   "metadata": {},
   "source": [
    "Обучающая выборка"
   ]
  },
  {
   "cell_type": "code",
   "execution_count": 4,
   "metadata": {},
   "outputs": [
    {
     "name": "stdout",
     "output_type": "stream",
     "text": [
      "Колтчество дубликатов : 0\n",
      "Количество пропусков : 4100\n",
      "<class 'pandas.core.frame.DataFrame'>\n",
      "DatetimeIndex: 14149 entries, 2016-01-15 00:00:00 to 2018-08-18 10:59:59\n",
      "Data columns (total 86 columns):\n",
      " #   Column                                              Non-Null Count  Dtype  \n",
      "---  ------                                              --------------  -----  \n",
      " 0   final.output.concentrate_ag                         14148 non-null  float64\n",
      " 1   final.output.concentrate_pb                         14148 non-null  float64\n",
      " 2   final.output.concentrate_sol                        13938 non-null  float64\n",
      " 3   final.output.concentrate_au                         14149 non-null  float64\n",
      " 4   final.output.recovery                               14149 non-null  float64\n",
      " 5   final.output.tail_ag                                14149 non-null  float64\n",
      " 6   final.output.tail_pb                                14049 non-null  float64\n",
      " 7   final.output.tail_sol                               14144 non-null  float64\n",
      " 8   final.output.tail_au                                14149 non-null  float64\n",
      " 9   primary_cleaner.input.sulfate                       14129 non-null  float64\n",
      " 10  primary_cleaner.input.depressant                    14117 non-null  float64\n",
      " 11  primary_cleaner.input.feed_size                     14149 non-null  float64\n",
      " 12  primary_cleaner.input.xanthate                      14049 non-null  float64\n",
      " 13  primary_cleaner.output.concentrate_ag               14149 non-null  float64\n",
      " 14  primary_cleaner.output.concentrate_pb               14063 non-null  float64\n",
      " 15  primary_cleaner.output.concentrate_sol              13863 non-null  float64\n",
      " 16  primary_cleaner.output.concentrate_au               14149 non-null  float64\n",
      " 17  primary_cleaner.output.tail_ag                      14148 non-null  float64\n",
      " 18  primary_cleaner.output.tail_pb                      14134 non-null  float64\n",
      " 19  primary_cleaner.output.tail_sol                     14103 non-null  float64\n",
      " 20  primary_cleaner.output.tail_au                      14149 non-null  float64\n",
      " 21  primary_cleaner.state.floatbank8_a_air              14145 non-null  float64\n",
      " 22  primary_cleaner.state.floatbank8_a_level            14148 non-null  float64\n",
      " 23  primary_cleaner.state.floatbank8_b_air              14145 non-null  float64\n",
      " 24  primary_cleaner.state.floatbank8_b_level            14148 non-null  float64\n",
      " 25  primary_cleaner.state.floatbank8_c_air              14147 non-null  float64\n",
      " 26  primary_cleaner.state.floatbank8_c_level            14148 non-null  float64\n",
      " 27  primary_cleaner.state.floatbank8_d_air              14146 non-null  float64\n",
      " 28  primary_cleaner.state.floatbank8_d_level            14148 non-null  float64\n",
      " 29  rougher.calculation.sulfate_to_au_concentrate       14148 non-null  float64\n",
      " 30  rougher.calculation.floatbank10_sulfate_to_au_feed  14148 non-null  float64\n",
      " 31  rougher.calculation.floatbank11_sulfate_to_au_feed  14148 non-null  float64\n",
      " 32  rougher.calculation.au_pb_ratio                     14149 non-null  float64\n",
      " 33  rougher.input.feed_ag                               14149 non-null  float64\n",
      " 34  rougher.input.feed_pb                               14049 non-null  float64\n",
      " 35  rougher.input.feed_rate                             14141 non-null  float64\n",
      " 36  rougher.input.feed_size                             14005 non-null  float64\n",
      " 37  rougher.input.feed_sol                              14071 non-null  float64\n",
      " 38  rougher.input.feed_au                               14149 non-null  float64\n",
      " 39  rougher.input.floatbank10_sulfate                   14120 non-null  float64\n",
      " 40  rougher.input.floatbank10_xanthate                  14141 non-null  float64\n",
      " 41  rougher.input.floatbank11_sulfate                   14113 non-null  float64\n",
      " 42  rougher.input.floatbank11_xanthate                  13721 non-null  float64\n",
      " 43  rougher.output.concentrate_ag                       14149 non-null  float64\n",
      " 44  rougher.output.concentrate_pb                       14149 non-null  float64\n",
      " 45  rougher.output.concentrate_sol                      14127 non-null  float64\n",
      " 46  rougher.output.concentrate_au                       14149 non-null  float64\n",
      " 47  rougher.output.recovery                             14149 non-null  float64\n",
      " 48  rougher.output.tail_ag                              14148 non-null  float64\n",
      " 49  rougher.output.tail_pb                              14149 non-null  float64\n",
      " 50  rougher.output.tail_sol                             14149 non-null  float64\n",
      " 51  rougher.output.tail_au                              14149 non-null  float64\n",
      " 52  rougher.state.floatbank10_a_air                     14148 non-null  float64\n",
      " 53  rougher.state.floatbank10_a_level                   14148 non-null  float64\n",
      " 54  rougher.state.floatbank10_b_air                     14148 non-null  float64\n",
      " 55  rougher.state.floatbank10_b_level                   14148 non-null  float64\n",
      " 56  rougher.state.floatbank10_c_air                     14148 non-null  float64\n",
      " 57  rougher.state.floatbank10_c_level                   14148 non-null  float64\n",
      " 58  rougher.state.floatbank10_d_air                     14149 non-null  float64\n",
      " 59  rougher.state.floatbank10_d_level                   14149 non-null  float64\n",
      " 60  rougher.state.floatbank10_e_air                     13713 non-null  float64\n",
      " 61  rougher.state.floatbank10_e_level                   14149 non-null  float64\n",
      " 62  rougher.state.floatbank10_f_air                     14149 non-null  float64\n",
      " 63  rougher.state.floatbank10_f_level                   14149 non-null  float64\n",
      " 64  secondary_cleaner.output.tail_ag                    14147 non-null  float64\n",
      " 65  secondary_cleaner.output.tail_pb                    14139 non-null  float64\n",
      " 66  secondary_cleaner.output.tail_sol                   12544 non-null  float64\n",
      " 67  secondary_cleaner.output.tail_au                    14149 non-null  float64\n",
      " 68  secondary_cleaner.state.floatbank2_a_air            13932 non-null  float64\n",
      " 69  secondary_cleaner.state.floatbank2_a_level          14148 non-null  float64\n",
      " 70  secondary_cleaner.state.floatbank2_b_air            14128 non-null  float64\n",
      " 71  secondary_cleaner.state.floatbank2_b_level          14148 non-null  float64\n",
      " 72  secondary_cleaner.state.floatbank3_a_air            14145 non-null  float64\n",
      " 73  secondary_cleaner.state.floatbank3_a_level          14148 non-null  float64\n",
      " 74  secondary_cleaner.state.floatbank3_b_air            14148 non-null  float64\n",
      " 75  secondary_cleaner.state.floatbank3_b_level          14148 non-null  float64\n",
      " 76  secondary_cleaner.state.floatbank4_a_air            14143 non-null  float64\n",
      " 77  secondary_cleaner.state.floatbank4_a_level          14148 non-null  float64\n",
      " 78  secondary_cleaner.state.floatbank4_b_air            14148 non-null  float64\n",
      " 79  secondary_cleaner.state.floatbank4_b_level          14148 non-null  float64\n",
      " 80  secondary_cleaner.state.floatbank5_a_air            14148 non-null  float64\n",
      " 81  secondary_cleaner.state.floatbank5_a_level          14148 non-null  float64\n",
      " 82  secondary_cleaner.state.floatbank5_b_air            14148 non-null  float64\n",
      " 83  secondary_cleaner.state.floatbank5_b_level          14148 non-null  float64\n",
      " 84  secondary_cleaner.state.floatbank6_a_air            14147 non-null  float64\n",
      " 85  secondary_cleaner.state.floatbank6_a_level          14148 non-null  float64\n",
      "dtypes: float64(86)\n",
      "memory usage: 9.4 MB\n"
     ]
    },
    {
     "data": {
      "text/html": [
       "<div>\n",
       "<style scoped>\n",
       "    .dataframe tbody tr th:only-of-type {\n",
       "        vertical-align: middle;\n",
       "    }\n",
       "\n",
       "    .dataframe tbody tr th {\n",
       "        vertical-align: top;\n",
       "    }\n",
       "\n",
       "    .dataframe thead th {\n",
       "        text-align: right;\n",
       "    }\n",
       "</style>\n",
       "<table border=\"1\" class=\"dataframe\">\n",
       "  <thead>\n",
       "    <tr style=\"text-align: right;\">\n",
       "      <th></th>\n",
       "      <th>final.output.concentrate_ag</th>\n",
       "      <th>final.output.concentrate_pb</th>\n",
       "      <th>final.output.concentrate_sol</th>\n",
       "      <th>final.output.concentrate_au</th>\n",
       "      <th>final.output.recovery</th>\n",
       "      <th>final.output.tail_ag</th>\n",
       "      <th>final.output.tail_pb</th>\n",
       "      <th>final.output.tail_sol</th>\n",
       "      <th>final.output.tail_au</th>\n",
       "      <th>primary_cleaner.input.sulfate</th>\n",
       "      <th>...</th>\n",
       "      <th>secondary_cleaner.state.floatbank4_a_air</th>\n",
       "      <th>secondary_cleaner.state.floatbank4_a_level</th>\n",
       "      <th>secondary_cleaner.state.floatbank4_b_air</th>\n",
       "      <th>secondary_cleaner.state.floatbank4_b_level</th>\n",
       "      <th>secondary_cleaner.state.floatbank5_a_air</th>\n",
       "      <th>secondary_cleaner.state.floatbank5_a_level</th>\n",
       "      <th>secondary_cleaner.state.floatbank5_b_air</th>\n",
       "      <th>secondary_cleaner.state.floatbank5_b_level</th>\n",
       "      <th>secondary_cleaner.state.floatbank6_a_air</th>\n",
       "      <th>secondary_cleaner.state.floatbank6_a_level</th>\n",
       "    </tr>\n",
       "    <tr>\n",
       "      <th>date</th>\n",
       "      <th></th>\n",
       "      <th></th>\n",
       "      <th></th>\n",
       "      <th></th>\n",
       "      <th></th>\n",
       "      <th></th>\n",
       "      <th></th>\n",
       "      <th></th>\n",
       "      <th></th>\n",
       "      <th></th>\n",
       "      <th></th>\n",
       "      <th></th>\n",
       "      <th></th>\n",
       "      <th></th>\n",
       "      <th></th>\n",
       "      <th></th>\n",
       "      <th></th>\n",
       "      <th></th>\n",
       "      <th></th>\n",
       "      <th></th>\n",
       "      <th></th>\n",
       "    </tr>\n",
       "  </thead>\n",
       "  <tbody>\n",
       "    <tr>\n",
       "      <th>2016-01-15 00:00:00</th>\n",
       "      <td>6.055403</td>\n",
       "      <td>9.889648</td>\n",
       "      <td>5.507324</td>\n",
       "      <td>42.192020</td>\n",
       "      <td>70.541216</td>\n",
       "      <td>10.411962</td>\n",
       "      <td>0.895447</td>\n",
       "      <td>16.904297</td>\n",
       "      <td>2.143149</td>\n",
       "      <td>127.092003</td>\n",
       "      <td>...</td>\n",
       "      <td>14.016835</td>\n",
       "      <td>-502.488007</td>\n",
       "      <td>12.099931</td>\n",
       "      <td>-504.715942</td>\n",
       "      <td>9.925633</td>\n",
       "      <td>-498.310211</td>\n",
       "      <td>8.079666</td>\n",
       "      <td>-500.470978</td>\n",
       "      <td>14.151341</td>\n",
       "      <td>-605.841980</td>\n",
       "    </tr>\n",
       "    <tr>\n",
       "      <th>2016-01-15 01:00:00</th>\n",
       "      <td>6.029369</td>\n",
       "      <td>9.968944</td>\n",
       "      <td>5.257781</td>\n",
       "      <td>42.701629</td>\n",
       "      <td>69.266198</td>\n",
       "      <td>10.462676</td>\n",
       "      <td>0.927452</td>\n",
       "      <td>16.634514</td>\n",
       "      <td>2.224930</td>\n",
       "      <td>125.629232</td>\n",
       "      <td>...</td>\n",
       "      <td>13.992281</td>\n",
       "      <td>-505.503262</td>\n",
       "      <td>11.950531</td>\n",
       "      <td>-501.331529</td>\n",
       "      <td>10.039245</td>\n",
       "      <td>-500.169983</td>\n",
       "      <td>7.984757</td>\n",
       "      <td>-500.582168</td>\n",
       "      <td>13.998353</td>\n",
       "      <td>-599.787184</td>\n",
       "    </tr>\n",
       "  </tbody>\n",
       "</table>\n",
       "<p>2 rows × 86 columns</p>\n",
       "</div>"
      ],
      "text/plain": [
       "                     final.output.concentrate_ag  final.output.concentrate_pb  \\\n",
       "date                                                                            \n",
       "2016-01-15 00:00:00                     6.055403                     9.889648   \n",
       "2016-01-15 01:00:00                     6.029369                     9.968944   \n",
       "\n",
       "                     final.output.concentrate_sol  \\\n",
       "date                                                \n",
       "2016-01-15 00:00:00                      5.507324   \n",
       "2016-01-15 01:00:00                      5.257781   \n",
       "\n",
       "                     final.output.concentrate_au  final.output.recovery  \\\n",
       "date                                                                      \n",
       "2016-01-15 00:00:00                    42.192020              70.541216   \n",
       "2016-01-15 01:00:00                    42.701629              69.266198   \n",
       "\n",
       "                     final.output.tail_ag  final.output.tail_pb  \\\n",
       "date                                                              \n",
       "2016-01-15 00:00:00             10.411962              0.895447   \n",
       "2016-01-15 01:00:00             10.462676              0.927452   \n",
       "\n",
       "                     final.output.tail_sol  final.output.tail_au  \\\n",
       "date                                                               \n",
       "2016-01-15 00:00:00              16.904297              2.143149   \n",
       "2016-01-15 01:00:00              16.634514              2.224930   \n",
       "\n",
       "                     primary_cleaner.input.sulfate  ...  \\\n",
       "date                                                ...   \n",
       "2016-01-15 00:00:00                     127.092003  ...   \n",
       "2016-01-15 01:00:00                     125.629232  ...   \n",
       "\n",
       "                     secondary_cleaner.state.floatbank4_a_air  \\\n",
       "date                                                            \n",
       "2016-01-15 00:00:00                                 14.016835   \n",
       "2016-01-15 01:00:00                                 13.992281   \n",
       "\n",
       "                     secondary_cleaner.state.floatbank4_a_level  \\\n",
       "date                                                              \n",
       "2016-01-15 00:00:00                                 -502.488007   \n",
       "2016-01-15 01:00:00                                 -505.503262   \n",
       "\n",
       "                     secondary_cleaner.state.floatbank4_b_air  \\\n",
       "date                                                            \n",
       "2016-01-15 00:00:00                                 12.099931   \n",
       "2016-01-15 01:00:00                                 11.950531   \n",
       "\n",
       "                     secondary_cleaner.state.floatbank4_b_level  \\\n",
       "date                                                              \n",
       "2016-01-15 00:00:00                                 -504.715942   \n",
       "2016-01-15 01:00:00                                 -501.331529   \n",
       "\n",
       "                     secondary_cleaner.state.floatbank5_a_air  \\\n",
       "date                                                            \n",
       "2016-01-15 00:00:00                                  9.925633   \n",
       "2016-01-15 01:00:00                                 10.039245   \n",
       "\n",
       "                     secondary_cleaner.state.floatbank5_a_level  \\\n",
       "date                                                              \n",
       "2016-01-15 00:00:00                                 -498.310211   \n",
       "2016-01-15 01:00:00                                 -500.169983   \n",
       "\n",
       "                     secondary_cleaner.state.floatbank5_b_air  \\\n",
       "date                                                            \n",
       "2016-01-15 00:00:00                                  8.079666   \n",
       "2016-01-15 01:00:00                                  7.984757   \n",
       "\n",
       "                     secondary_cleaner.state.floatbank5_b_level  \\\n",
       "date                                                              \n",
       "2016-01-15 00:00:00                                 -500.470978   \n",
       "2016-01-15 01:00:00                                 -500.582168   \n",
       "\n",
       "                     secondary_cleaner.state.floatbank6_a_air  \\\n",
       "date                                                            \n",
       "2016-01-15 00:00:00                                 14.151341   \n",
       "2016-01-15 01:00:00                                 13.998353   \n",
       "\n",
       "                     secondary_cleaner.state.floatbank6_a_level  \n",
       "date                                                             \n",
       "2016-01-15 00:00:00                                 -605.841980  \n",
       "2016-01-15 01:00:00                                 -599.787184  \n",
       "\n",
       "[2 rows x 86 columns]"
      ]
     },
     "metadata": {},
     "output_type": "display_data"
    }
   ],
   "source": [
    "analis(data_1)"
   ]
  },
  {
   "cell_type": "markdown",
   "metadata": {},
   "source": [
    "Тестовая выборка"
   ]
  },
  {
   "cell_type": "code",
   "execution_count": 5,
   "metadata": {},
   "outputs": [
    {
     "name": "stdout",
     "output_type": "stream",
     "text": [
      "Колтчество дубликатов : 0\n",
      "Количество пропусков : 90\n",
      "<class 'pandas.core.frame.DataFrame'>\n",
      "DatetimeIndex: 5290 entries, 2016-09-01 00:59:59 to 2017-12-31 23:59:59\n",
      "Data columns (total 52 columns):\n",
      " #   Column                                      Non-Null Count  Dtype  \n",
      "---  ------                                      --------------  -----  \n",
      " 0   primary_cleaner.input.sulfate               5286 non-null   float64\n",
      " 1   primary_cleaner.input.depressant            5285 non-null   float64\n",
      " 2   primary_cleaner.input.feed_size             5290 non-null   float64\n",
      " 3   primary_cleaner.input.xanthate              5286 non-null   float64\n",
      " 4   primary_cleaner.state.floatbank8_a_air      5290 non-null   float64\n",
      " 5   primary_cleaner.state.floatbank8_a_level    5290 non-null   float64\n",
      " 6   primary_cleaner.state.floatbank8_b_air      5290 non-null   float64\n",
      " 7   primary_cleaner.state.floatbank8_b_level    5290 non-null   float64\n",
      " 8   primary_cleaner.state.floatbank8_c_air      5290 non-null   float64\n",
      " 9   primary_cleaner.state.floatbank8_c_level    5290 non-null   float64\n",
      " 10  primary_cleaner.state.floatbank8_d_air      5290 non-null   float64\n",
      " 11  primary_cleaner.state.floatbank8_d_level    5290 non-null   float64\n",
      " 12  rougher.input.feed_ag                       5290 non-null   float64\n",
      " 13  rougher.input.feed_pb                       5290 non-null   float64\n",
      " 14  rougher.input.feed_rate                     5287 non-null   float64\n",
      " 15  rougher.input.feed_size                     5289 non-null   float64\n",
      " 16  rougher.input.feed_sol                      5269 non-null   float64\n",
      " 17  rougher.input.feed_au                       5290 non-null   float64\n",
      " 18  rougher.input.floatbank10_sulfate           5285 non-null   float64\n",
      " 19  rougher.input.floatbank10_xanthate          5290 non-null   float64\n",
      " 20  rougher.input.floatbank11_sulfate           5282 non-null   float64\n",
      " 21  rougher.input.floatbank11_xanthate          5265 non-null   float64\n",
      " 22  rougher.state.floatbank10_a_air             5290 non-null   float64\n",
      " 23  rougher.state.floatbank10_a_level           5290 non-null   float64\n",
      " 24  rougher.state.floatbank10_b_air             5290 non-null   float64\n",
      " 25  rougher.state.floatbank10_b_level           5290 non-null   float64\n",
      " 26  rougher.state.floatbank10_c_air             5290 non-null   float64\n",
      " 27  rougher.state.floatbank10_c_level           5290 non-null   float64\n",
      " 28  rougher.state.floatbank10_d_air             5290 non-null   float64\n",
      " 29  rougher.state.floatbank10_d_level           5290 non-null   float64\n",
      " 30  rougher.state.floatbank10_e_air             5290 non-null   float64\n",
      " 31  rougher.state.floatbank10_e_level           5290 non-null   float64\n",
      " 32  rougher.state.floatbank10_f_air             5290 non-null   float64\n",
      " 33  rougher.state.floatbank10_f_level           5290 non-null   float64\n",
      " 34  secondary_cleaner.state.floatbank2_a_air    5287 non-null   float64\n",
      " 35  secondary_cleaner.state.floatbank2_a_level  5290 non-null   float64\n",
      " 36  secondary_cleaner.state.floatbank2_b_air    5288 non-null   float64\n",
      " 37  secondary_cleaner.state.floatbank2_b_level  5290 non-null   float64\n",
      " 38  secondary_cleaner.state.floatbank3_a_air    5281 non-null   float64\n",
      " 39  secondary_cleaner.state.floatbank3_a_level  5290 non-null   float64\n",
      " 40  secondary_cleaner.state.floatbank3_b_air    5290 non-null   float64\n",
      " 41  secondary_cleaner.state.floatbank3_b_level  5290 non-null   float64\n",
      " 42  secondary_cleaner.state.floatbank4_a_air    5290 non-null   float64\n",
      " 43  secondary_cleaner.state.floatbank4_a_level  5290 non-null   float64\n",
      " 44  secondary_cleaner.state.floatbank4_b_air    5290 non-null   float64\n",
      " 45  secondary_cleaner.state.floatbank4_b_level  5290 non-null   float64\n",
      " 46  secondary_cleaner.state.floatbank5_a_air    5290 non-null   float64\n",
      " 47  secondary_cleaner.state.floatbank5_a_level  5290 non-null   float64\n",
      " 48  secondary_cleaner.state.floatbank5_b_air    5290 non-null   float64\n",
      " 49  secondary_cleaner.state.floatbank5_b_level  5290 non-null   float64\n",
      " 50  secondary_cleaner.state.floatbank6_a_air    5290 non-null   float64\n",
      " 51  secondary_cleaner.state.floatbank6_a_level  5290 non-null   float64\n",
      "dtypes: float64(52)\n",
      "memory usage: 2.1 MB\n"
     ]
    },
    {
     "data": {
      "text/html": [
       "<div>\n",
       "<style scoped>\n",
       "    .dataframe tbody tr th:only-of-type {\n",
       "        vertical-align: middle;\n",
       "    }\n",
       "\n",
       "    .dataframe tbody tr th {\n",
       "        vertical-align: top;\n",
       "    }\n",
       "\n",
       "    .dataframe thead th {\n",
       "        text-align: right;\n",
       "    }\n",
       "</style>\n",
       "<table border=\"1\" class=\"dataframe\">\n",
       "  <thead>\n",
       "    <tr style=\"text-align: right;\">\n",
       "      <th></th>\n",
       "      <th>primary_cleaner.input.sulfate</th>\n",
       "      <th>primary_cleaner.input.depressant</th>\n",
       "      <th>primary_cleaner.input.feed_size</th>\n",
       "      <th>primary_cleaner.input.xanthate</th>\n",
       "      <th>primary_cleaner.state.floatbank8_a_air</th>\n",
       "      <th>primary_cleaner.state.floatbank8_a_level</th>\n",
       "      <th>primary_cleaner.state.floatbank8_b_air</th>\n",
       "      <th>primary_cleaner.state.floatbank8_b_level</th>\n",
       "      <th>primary_cleaner.state.floatbank8_c_air</th>\n",
       "      <th>primary_cleaner.state.floatbank8_c_level</th>\n",
       "      <th>...</th>\n",
       "      <th>secondary_cleaner.state.floatbank4_a_air</th>\n",
       "      <th>secondary_cleaner.state.floatbank4_a_level</th>\n",
       "      <th>secondary_cleaner.state.floatbank4_b_air</th>\n",
       "      <th>secondary_cleaner.state.floatbank4_b_level</th>\n",
       "      <th>secondary_cleaner.state.floatbank5_a_air</th>\n",
       "      <th>secondary_cleaner.state.floatbank5_a_level</th>\n",
       "      <th>secondary_cleaner.state.floatbank5_b_air</th>\n",
       "      <th>secondary_cleaner.state.floatbank5_b_level</th>\n",
       "      <th>secondary_cleaner.state.floatbank6_a_air</th>\n",
       "      <th>secondary_cleaner.state.floatbank6_a_level</th>\n",
       "    </tr>\n",
       "    <tr>\n",
       "      <th>date</th>\n",
       "      <th></th>\n",
       "      <th></th>\n",
       "      <th></th>\n",
       "      <th></th>\n",
       "      <th></th>\n",
       "      <th></th>\n",
       "      <th></th>\n",
       "      <th></th>\n",
       "      <th></th>\n",
       "      <th></th>\n",
       "      <th></th>\n",
       "      <th></th>\n",
       "      <th></th>\n",
       "      <th></th>\n",
       "      <th></th>\n",
       "      <th></th>\n",
       "      <th></th>\n",
       "      <th></th>\n",
       "      <th></th>\n",
       "      <th></th>\n",
       "      <th></th>\n",
       "    </tr>\n",
       "  </thead>\n",
       "  <tbody>\n",
       "    <tr>\n",
       "      <th>2016-09-01 00:59:59</th>\n",
       "      <td>210.800909</td>\n",
       "      <td>14.993118</td>\n",
       "      <td>8.08</td>\n",
       "      <td>1.005021</td>\n",
       "      <td>1398.981301</td>\n",
       "      <td>-500.225577</td>\n",
       "      <td>1399.144926</td>\n",
       "      <td>-499.919735</td>\n",
       "      <td>1400.102998</td>\n",
       "      <td>-500.704369</td>\n",
       "      <td>...</td>\n",
       "      <td>12.023554</td>\n",
       "      <td>-497.795834</td>\n",
       "      <td>8.016656</td>\n",
       "      <td>-501.289139</td>\n",
       "      <td>7.946562</td>\n",
       "      <td>-432.317850</td>\n",
       "      <td>4.872511</td>\n",
       "      <td>-500.037437</td>\n",
       "      <td>26.705889</td>\n",
       "      <td>-499.709414</td>\n",
       "    </tr>\n",
       "    <tr>\n",
       "      <th>2016-09-01 01:59:59</th>\n",
       "      <td>215.392455</td>\n",
       "      <td>14.987471</td>\n",
       "      <td>8.08</td>\n",
       "      <td>0.990469</td>\n",
       "      <td>1398.777912</td>\n",
       "      <td>-500.057435</td>\n",
       "      <td>1398.055362</td>\n",
       "      <td>-499.778182</td>\n",
       "      <td>1396.151033</td>\n",
       "      <td>-499.240168</td>\n",
       "      <td>...</td>\n",
       "      <td>12.058140</td>\n",
       "      <td>-498.695773</td>\n",
       "      <td>8.130979</td>\n",
       "      <td>-499.634209</td>\n",
       "      <td>7.958270</td>\n",
       "      <td>-525.839648</td>\n",
       "      <td>4.878850</td>\n",
       "      <td>-500.162375</td>\n",
       "      <td>25.019940</td>\n",
       "      <td>-499.819438</td>\n",
       "    </tr>\n",
       "  </tbody>\n",
       "</table>\n",
       "<p>2 rows × 52 columns</p>\n",
       "</div>"
      ],
      "text/plain": [
       "                     primary_cleaner.input.sulfate  \\\n",
       "date                                                 \n",
       "2016-09-01 00:59:59                     210.800909   \n",
       "2016-09-01 01:59:59                     215.392455   \n",
       "\n",
       "                     primary_cleaner.input.depressant  \\\n",
       "date                                                    \n",
       "2016-09-01 00:59:59                         14.993118   \n",
       "2016-09-01 01:59:59                         14.987471   \n",
       "\n",
       "                     primary_cleaner.input.feed_size  \\\n",
       "date                                                   \n",
       "2016-09-01 00:59:59                             8.08   \n",
       "2016-09-01 01:59:59                             8.08   \n",
       "\n",
       "                     primary_cleaner.input.xanthate  \\\n",
       "date                                                  \n",
       "2016-09-01 00:59:59                        1.005021   \n",
       "2016-09-01 01:59:59                        0.990469   \n",
       "\n",
       "                     primary_cleaner.state.floatbank8_a_air  \\\n",
       "date                                                          \n",
       "2016-09-01 00:59:59                             1398.981301   \n",
       "2016-09-01 01:59:59                             1398.777912   \n",
       "\n",
       "                     primary_cleaner.state.floatbank8_a_level  \\\n",
       "date                                                            \n",
       "2016-09-01 00:59:59                               -500.225577   \n",
       "2016-09-01 01:59:59                               -500.057435   \n",
       "\n",
       "                     primary_cleaner.state.floatbank8_b_air  \\\n",
       "date                                                          \n",
       "2016-09-01 00:59:59                             1399.144926   \n",
       "2016-09-01 01:59:59                             1398.055362   \n",
       "\n",
       "                     primary_cleaner.state.floatbank8_b_level  \\\n",
       "date                                                            \n",
       "2016-09-01 00:59:59                               -499.919735   \n",
       "2016-09-01 01:59:59                               -499.778182   \n",
       "\n",
       "                     primary_cleaner.state.floatbank8_c_air  \\\n",
       "date                                                          \n",
       "2016-09-01 00:59:59                             1400.102998   \n",
       "2016-09-01 01:59:59                             1396.151033   \n",
       "\n",
       "                     primary_cleaner.state.floatbank8_c_level  ...  \\\n",
       "date                                                           ...   \n",
       "2016-09-01 00:59:59                               -500.704369  ...   \n",
       "2016-09-01 01:59:59                               -499.240168  ...   \n",
       "\n",
       "                     secondary_cleaner.state.floatbank4_a_air  \\\n",
       "date                                                            \n",
       "2016-09-01 00:59:59                                 12.023554   \n",
       "2016-09-01 01:59:59                                 12.058140   \n",
       "\n",
       "                     secondary_cleaner.state.floatbank4_a_level  \\\n",
       "date                                                              \n",
       "2016-09-01 00:59:59                                 -497.795834   \n",
       "2016-09-01 01:59:59                                 -498.695773   \n",
       "\n",
       "                     secondary_cleaner.state.floatbank4_b_air  \\\n",
       "date                                                            \n",
       "2016-09-01 00:59:59                                  8.016656   \n",
       "2016-09-01 01:59:59                                  8.130979   \n",
       "\n",
       "                     secondary_cleaner.state.floatbank4_b_level  \\\n",
       "date                                                              \n",
       "2016-09-01 00:59:59                                 -501.289139   \n",
       "2016-09-01 01:59:59                                 -499.634209   \n",
       "\n",
       "                     secondary_cleaner.state.floatbank5_a_air  \\\n",
       "date                                                            \n",
       "2016-09-01 00:59:59                                  7.946562   \n",
       "2016-09-01 01:59:59                                  7.958270   \n",
       "\n",
       "                     secondary_cleaner.state.floatbank5_a_level  \\\n",
       "date                                                              \n",
       "2016-09-01 00:59:59                                 -432.317850   \n",
       "2016-09-01 01:59:59                                 -525.839648   \n",
       "\n",
       "                     secondary_cleaner.state.floatbank5_b_air  \\\n",
       "date                                                            \n",
       "2016-09-01 00:59:59                                  4.872511   \n",
       "2016-09-01 01:59:59                                  4.878850   \n",
       "\n",
       "                     secondary_cleaner.state.floatbank5_b_level  \\\n",
       "date                                                              \n",
       "2016-09-01 00:59:59                                 -500.037437   \n",
       "2016-09-01 01:59:59                                 -500.162375   \n",
       "\n",
       "                     secondary_cleaner.state.floatbank6_a_air  \\\n",
       "date                                                            \n",
       "2016-09-01 00:59:59                                 26.705889   \n",
       "2016-09-01 01:59:59                                 25.019940   \n",
       "\n",
       "                     secondary_cleaner.state.floatbank6_a_level  \n",
       "date                                                             \n",
       "2016-09-01 00:59:59                                 -499.709414  \n",
       "2016-09-01 01:59:59                                 -499.819438  \n",
       "\n",
       "[2 rows x 52 columns]"
      ]
     },
     "metadata": {},
     "output_type": "display_data"
    }
   ],
   "source": [
    "analis(data_2) #применяем функцию на "
   ]
  },
  {
   "cell_type": "markdown",
   "metadata": {},
   "source": [
    "Исходная выборка"
   ]
  },
  {
   "cell_type": "code",
   "execution_count": 6,
   "metadata": {},
   "outputs": [
    {
     "name": "stdout",
     "output_type": "stream",
     "text": [
      "Колтчество дубликатов : 0\n",
      "Количество пропусков : 4481\n",
      "<class 'pandas.core.frame.DataFrame'>\n",
      "DatetimeIndex: 19439 entries, 2016-01-15 00:00:00 to 2018-08-18 10:59:59\n",
      "Data columns (total 86 columns):\n",
      " #   Column                                              Non-Null Count  Dtype  \n",
      "---  ------                                              --------------  -----  \n",
      " 0   final.output.concentrate_ag                         19438 non-null  float64\n",
      " 1   final.output.concentrate_pb                         19438 non-null  float64\n",
      " 2   final.output.concentrate_sol                        19228 non-null  float64\n",
      " 3   final.output.concentrate_au                         19439 non-null  float64\n",
      " 4   final.output.recovery                               19439 non-null  float64\n",
      " 5   final.output.tail_ag                                19438 non-null  float64\n",
      " 6   final.output.tail_pb                                19338 non-null  float64\n",
      " 7   final.output.tail_sol                               19433 non-null  float64\n",
      " 8   final.output.tail_au                                19439 non-null  float64\n",
      " 9   primary_cleaner.input.sulfate                       19415 non-null  float64\n",
      " 10  primary_cleaner.input.depressant                    19402 non-null  float64\n",
      " 11  primary_cleaner.input.feed_size                     19439 non-null  float64\n",
      " 12  primary_cleaner.input.xanthate                      19335 non-null  float64\n",
      " 13  primary_cleaner.output.concentrate_ag               19439 non-null  float64\n",
      " 14  primary_cleaner.output.concentrate_pb               19323 non-null  float64\n",
      " 15  primary_cleaner.output.concentrate_sol              19069 non-null  float64\n",
      " 16  primary_cleaner.output.concentrate_au               19439 non-null  float64\n",
      " 17  primary_cleaner.output.tail_ag                      19435 non-null  float64\n",
      " 18  primary_cleaner.output.tail_pb                      19418 non-null  float64\n",
      " 19  primary_cleaner.output.tail_sol                     19377 non-null  float64\n",
      " 20  primary_cleaner.output.tail_au                      19439 non-null  float64\n",
      " 21  primary_cleaner.state.floatbank8_a_air              19435 non-null  float64\n",
      " 22  primary_cleaner.state.floatbank8_a_level            19438 non-null  float64\n",
      " 23  primary_cleaner.state.floatbank8_b_air              19435 non-null  float64\n",
      " 24  primary_cleaner.state.floatbank8_b_level            19438 non-null  float64\n",
      " 25  primary_cleaner.state.floatbank8_c_air              19437 non-null  float64\n",
      " 26  primary_cleaner.state.floatbank8_c_level            19438 non-null  float64\n",
      " 27  primary_cleaner.state.floatbank8_d_air              19436 non-null  float64\n",
      " 28  primary_cleaner.state.floatbank8_d_level            19438 non-null  float64\n",
      " 29  rougher.calculation.sulfate_to_au_concentrate       19437 non-null  float64\n",
      " 30  rougher.calculation.floatbank10_sulfate_to_au_feed  19437 non-null  float64\n",
      " 31  rougher.calculation.floatbank11_sulfate_to_au_feed  19437 non-null  float64\n",
      " 32  rougher.calculation.au_pb_ratio                     19439 non-null  float64\n",
      " 33  rougher.input.feed_ag                               19439 non-null  float64\n",
      " 34  rougher.input.feed_pb                               19339 non-null  float64\n",
      " 35  rougher.input.feed_rate                             19428 non-null  float64\n",
      " 36  rougher.input.feed_size                             19294 non-null  float64\n",
      " 37  rougher.input.feed_sol                              19340 non-null  float64\n",
      " 38  rougher.input.feed_au                               19439 non-null  float64\n",
      " 39  rougher.input.floatbank10_sulfate                   19405 non-null  float64\n",
      " 40  rougher.input.floatbank10_xanthate                  19431 non-null  float64\n",
      " 41  rougher.input.floatbank11_sulfate                   19395 non-null  float64\n",
      " 42  rougher.input.floatbank11_xanthate                  18986 non-null  float64\n",
      " 43  rougher.output.concentrate_ag                       19439 non-null  float64\n",
      " 44  rougher.output.concentrate_pb                       19439 non-null  float64\n",
      " 45  rougher.output.concentrate_sol                      19416 non-null  float64\n",
      " 46  rougher.output.concentrate_au                       19439 non-null  float64\n",
      " 47  rougher.output.recovery                             19439 non-null  float64\n",
      " 48  rougher.output.tail_ag                              19438 non-null  float64\n",
      " 49  rougher.output.tail_pb                              19439 non-null  float64\n",
      " 50  rougher.output.tail_sol                             19439 non-null  float64\n",
      " 51  rougher.output.tail_au                              19439 non-null  float64\n",
      " 52  rougher.state.floatbank10_a_air                     19438 non-null  float64\n",
      " 53  rougher.state.floatbank10_a_level                   19438 non-null  float64\n",
      " 54  rougher.state.floatbank10_b_air                     19438 non-null  float64\n",
      " 55  rougher.state.floatbank10_b_level                   19438 non-null  float64\n",
      " 56  rougher.state.floatbank10_c_air                     19438 non-null  float64\n",
      " 57  rougher.state.floatbank10_c_level                   19438 non-null  float64\n",
      " 58  rougher.state.floatbank10_d_air                     19439 non-null  float64\n",
      " 59  rougher.state.floatbank10_d_level                   19439 non-null  float64\n",
      " 60  rougher.state.floatbank10_e_air                     19003 non-null  float64\n",
      " 61  rougher.state.floatbank10_e_level                   19439 non-null  float64\n",
      " 62  rougher.state.floatbank10_f_air                     19439 non-null  float64\n",
      " 63  rougher.state.floatbank10_f_level                   19439 non-null  float64\n",
      " 64  secondary_cleaner.output.tail_ag                    19437 non-null  float64\n",
      " 65  secondary_cleaner.output.tail_pb                    19427 non-null  float64\n",
      " 66  secondary_cleaner.output.tail_sol                   17691 non-null  float64\n",
      " 67  secondary_cleaner.output.tail_au                    19439 non-null  float64\n",
      " 68  secondary_cleaner.state.floatbank2_a_air            19219 non-null  float64\n",
      " 69  secondary_cleaner.state.floatbank2_a_level          19438 non-null  float64\n",
      " 70  secondary_cleaner.state.floatbank2_b_air            19416 non-null  float64\n",
      " 71  secondary_cleaner.state.floatbank2_b_level          19438 non-null  float64\n",
      " 72  secondary_cleaner.state.floatbank3_a_air            19426 non-null  float64\n",
      " 73  secondary_cleaner.state.floatbank3_a_level          19438 non-null  float64\n",
      " 74  secondary_cleaner.state.floatbank3_b_air            19438 non-null  float64\n",
      " 75  secondary_cleaner.state.floatbank3_b_level          19438 non-null  float64\n",
      " 76  secondary_cleaner.state.floatbank4_a_air            19433 non-null  float64\n",
      " 77  secondary_cleaner.state.floatbank4_a_level          19438 non-null  float64\n",
      " 78  secondary_cleaner.state.floatbank4_b_air            19438 non-null  float64\n",
      " 79  secondary_cleaner.state.floatbank4_b_level          19438 non-null  float64\n",
      " 80  secondary_cleaner.state.floatbank5_a_air            19438 non-null  float64\n",
      " 81  secondary_cleaner.state.floatbank5_a_level          19438 non-null  float64\n",
      " 82  secondary_cleaner.state.floatbank5_b_air            19438 non-null  float64\n",
      " 83  secondary_cleaner.state.floatbank5_b_level          19438 non-null  float64\n",
      " 84  secondary_cleaner.state.floatbank6_a_air            19437 non-null  float64\n",
      " 85  secondary_cleaner.state.floatbank6_a_level          19438 non-null  float64\n",
      "dtypes: float64(86)\n",
      "memory usage: 12.9 MB\n"
     ]
    },
    {
     "data": {
      "text/html": [
       "<div>\n",
       "<style scoped>\n",
       "    .dataframe tbody tr th:only-of-type {\n",
       "        vertical-align: middle;\n",
       "    }\n",
       "\n",
       "    .dataframe tbody tr th {\n",
       "        vertical-align: top;\n",
       "    }\n",
       "\n",
       "    .dataframe thead th {\n",
       "        text-align: right;\n",
       "    }\n",
       "</style>\n",
       "<table border=\"1\" class=\"dataframe\">\n",
       "  <thead>\n",
       "    <tr style=\"text-align: right;\">\n",
       "      <th></th>\n",
       "      <th>final.output.concentrate_ag</th>\n",
       "      <th>final.output.concentrate_pb</th>\n",
       "      <th>final.output.concentrate_sol</th>\n",
       "      <th>final.output.concentrate_au</th>\n",
       "      <th>final.output.recovery</th>\n",
       "      <th>final.output.tail_ag</th>\n",
       "      <th>final.output.tail_pb</th>\n",
       "      <th>final.output.tail_sol</th>\n",
       "      <th>final.output.tail_au</th>\n",
       "      <th>primary_cleaner.input.sulfate</th>\n",
       "      <th>...</th>\n",
       "      <th>secondary_cleaner.state.floatbank4_a_air</th>\n",
       "      <th>secondary_cleaner.state.floatbank4_a_level</th>\n",
       "      <th>secondary_cleaner.state.floatbank4_b_air</th>\n",
       "      <th>secondary_cleaner.state.floatbank4_b_level</th>\n",
       "      <th>secondary_cleaner.state.floatbank5_a_air</th>\n",
       "      <th>secondary_cleaner.state.floatbank5_a_level</th>\n",
       "      <th>secondary_cleaner.state.floatbank5_b_air</th>\n",
       "      <th>secondary_cleaner.state.floatbank5_b_level</th>\n",
       "      <th>secondary_cleaner.state.floatbank6_a_air</th>\n",
       "      <th>secondary_cleaner.state.floatbank6_a_level</th>\n",
       "    </tr>\n",
       "    <tr>\n",
       "      <th>date</th>\n",
       "      <th></th>\n",
       "      <th></th>\n",
       "      <th></th>\n",
       "      <th></th>\n",
       "      <th></th>\n",
       "      <th></th>\n",
       "      <th></th>\n",
       "      <th></th>\n",
       "      <th></th>\n",
       "      <th></th>\n",
       "      <th></th>\n",
       "      <th></th>\n",
       "      <th></th>\n",
       "      <th></th>\n",
       "      <th></th>\n",
       "      <th></th>\n",
       "      <th></th>\n",
       "      <th></th>\n",
       "      <th></th>\n",
       "      <th></th>\n",
       "      <th></th>\n",
       "    </tr>\n",
       "  </thead>\n",
       "  <tbody>\n",
       "    <tr>\n",
       "      <th>2016-01-15 00:00:00</th>\n",
       "      <td>6.055403</td>\n",
       "      <td>9.889648</td>\n",
       "      <td>5.507324</td>\n",
       "      <td>42.192020</td>\n",
       "      <td>70.541216</td>\n",
       "      <td>10.411962</td>\n",
       "      <td>0.895447</td>\n",
       "      <td>16.904297</td>\n",
       "      <td>2.143149</td>\n",
       "      <td>127.092003</td>\n",
       "      <td>...</td>\n",
       "      <td>14.016835</td>\n",
       "      <td>-502.488007</td>\n",
       "      <td>12.099931</td>\n",
       "      <td>-504.715942</td>\n",
       "      <td>9.925633</td>\n",
       "      <td>-498.310211</td>\n",
       "      <td>8.079666</td>\n",
       "      <td>-500.470978</td>\n",
       "      <td>14.151341</td>\n",
       "      <td>-605.841980</td>\n",
       "    </tr>\n",
       "    <tr>\n",
       "      <th>2016-01-15 01:00:00</th>\n",
       "      <td>6.029369</td>\n",
       "      <td>9.968944</td>\n",
       "      <td>5.257781</td>\n",
       "      <td>42.701629</td>\n",
       "      <td>69.266198</td>\n",
       "      <td>10.462676</td>\n",
       "      <td>0.927452</td>\n",
       "      <td>16.634514</td>\n",
       "      <td>2.224930</td>\n",
       "      <td>125.629232</td>\n",
       "      <td>...</td>\n",
       "      <td>13.992281</td>\n",
       "      <td>-505.503262</td>\n",
       "      <td>11.950531</td>\n",
       "      <td>-501.331529</td>\n",
       "      <td>10.039245</td>\n",
       "      <td>-500.169983</td>\n",
       "      <td>7.984757</td>\n",
       "      <td>-500.582168</td>\n",
       "      <td>13.998353</td>\n",
       "      <td>-599.787184</td>\n",
       "    </tr>\n",
       "  </tbody>\n",
       "</table>\n",
       "<p>2 rows × 86 columns</p>\n",
       "</div>"
      ],
      "text/plain": [
       "                     final.output.concentrate_ag  final.output.concentrate_pb  \\\n",
       "date                                                                            \n",
       "2016-01-15 00:00:00                     6.055403                     9.889648   \n",
       "2016-01-15 01:00:00                     6.029369                     9.968944   \n",
       "\n",
       "                     final.output.concentrate_sol  \\\n",
       "date                                                \n",
       "2016-01-15 00:00:00                      5.507324   \n",
       "2016-01-15 01:00:00                      5.257781   \n",
       "\n",
       "                     final.output.concentrate_au  final.output.recovery  \\\n",
       "date                                                                      \n",
       "2016-01-15 00:00:00                    42.192020              70.541216   \n",
       "2016-01-15 01:00:00                    42.701629              69.266198   \n",
       "\n",
       "                     final.output.tail_ag  final.output.tail_pb  \\\n",
       "date                                                              \n",
       "2016-01-15 00:00:00             10.411962              0.895447   \n",
       "2016-01-15 01:00:00             10.462676              0.927452   \n",
       "\n",
       "                     final.output.tail_sol  final.output.tail_au  \\\n",
       "date                                                               \n",
       "2016-01-15 00:00:00              16.904297              2.143149   \n",
       "2016-01-15 01:00:00              16.634514              2.224930   \n",
       "\n",
       "                     primary_cleaner.input.sulfate  ...  \\\n",
       "date                                                ...   \n",
       "2016-01-15 00:00:00                     127.092003  ...   \n",
       "2016-01-15 01:00:00                     125.629232  ...   \n",
       "\n",
       "                     secondary_cleaner.state.floatbank4_a_air  \\\n",
       "date                                                            \n",
       "2016-01-15 00:00:00                                 14.016835   \n",
       "2016-01-15 01:00:00                                 13.992281   \n",
       "\n",
       "                     secondary_cleaner.state.floatbank4_a_level  \\\n",
       "date                                                              \n",
       "2016-01-15 00:00:00                                 -502.488007   \n",
       "2016-01-15 01:00:00                                 -505.503262   \n",
       "\n",
       "                     secondary_cleaner.state.floatbank4_b_air  \\\n",
       "date                                                            \n",
       "2016-01-15 00:00:00                                 12.099931   \n",
       "2016-01-15 01:00:00                                 11.950531   \n",
       "\n",
       "                     secondary_cleaner.state.floatbank4_b_level  \\\n",
       "date                                                              \n",
       "2016-01-15 00:00:00                                 -504.715942   \n",
       "2016-01-15 01:00:00                                 -501.331529   \n",
       "\n",
       "                     secondary_cleaner.state.floatbank5_a_air  \\\n",
       "date                                                            \n",
       "2016-01-15 00:00:00                                  9.925633   \n",
       "2016-01-15 01:00:00                                 10.039245   \n",
       "\n",
       "                     secondary_cleaner.state.floatbank5_a_level  \\\n",
       "date                                                              \n",
       "2016-01-15 00:00:00                                 -498.310211   \n",
       "2016-01-15 01:00:00                                 -500.169983   \n",
       "\n",
       "                     secondary_cleaner.state.floatbank5_b_air  \\\n",
       "date                                                            \n",
       "2016-01-15 00:00:00                                  8.079666   \n",
       "2016-01-15 01:00:00                                  7.984757   \n",
       "\n",
       "                     secondary_cleaner.state.floatbank5_b_level  \\\n",
       "date                                                              \n",
       "2016-01-15 00:00:00                                 -500.470978   \n",
       "2016-01-15 01:00:00                                 -500.582168   \n",
       "\n",
       "                     secondary_cleaner.state.floatbank6_a_air  \\\n",
       "date                                                            \n",
       "2016-01-15 00:00:00                                 14.151341   \n",
       "2016-01-15 01:00:00                                 13.998353   \n",
       "\n",
       "                     secondary_cleaner.state.floatbank6_a_level  \n",
       "date                                                             \n",
       "2016-01-15 00:00:00                                 -605.841980  \n",
       "2016-01-15 01:00:00                                 -599.787184  \n",
       "\n",
       "[2 rows x 86 columns]"
      ]
     },
     "metadata": {},
     "output_type": "display_data"
    }
   ],
   "source": [
    "analis(data_3)"
   ]
  },
  {
   "cell_type": "markdown",
   "metadata": {},
   "source": [
    "### Проверим расчет обогащения руды"
   ]
  },
  {
   "cell_type": "markdown",
   "metadata": {},
   "source": [
    "recovery = (C*(F-T)*100) \\ (F*(C-T)) \n",
    "* C - доля золота в концентрате после флотации/очистки\n",
    "* F - доля золота в сырье/концентрате до флотации/очистки\n",
    "* T - доля золота в отвальных хвостаъ после фильтрации/очистки"
   ]
  },
  {
   "cell_type": "code",
   "execution_count": 7,
   "metadata": {},
   "outputs": [],
   "source": [
    "#присваиваем переменные\n",
    "C = data_1[\"rougher.output.concentrate_au\"] \n",
    "F = data_1[\"rougher.input.feed_au\"]\n",
    "T = data_1[\"rougher.output.tail_au\"]"
   ]
  },
  {
   "cell_type": "code",
   "execution_count": 8,
   "metadata": {},
   "outputs": [
    {
     "name": "stdout",
     "output_type": "stream",
     "text": [
      "Для recovery : count    14149.000000\n",
      "mean        82.704502\n",
      "std         14.479156\n",
      "min         -0.000000\n",
      "25%         79.993067\n",
      "50%         85.299462\n",
      "75%         90.165021\n",
      "max        100.000000\n",
      "dtype: float64\n",
      "Для rougher.output.recovery : count    14149.000000\n",
      "mean        82.704502\n",
      "std         14.479156\n",
      "min          0.000000\n",
      "25%         79.993067\n",
      "50%         85.299462\n",
      "75%         90.165021\n",
      "max        100.000000\n",
      "Name: rougher.output.recovery, dtype: float64\n"
     ]
    }
   ],
   "source": [
    "recovery = ((C*(F-T)) / (F*(C-T))) * 100 #возьмем среднее и сравним со средним столбцом, так будет нагляднее\n",
    "print(\"Для recovery :\",recovery.describe()) #числовое описание\n",
    "print(\"Для rougher.output.recovery :\", data_1[\"rougher.output.recovery\"].describe())"
   ]
  },
  {
   "cell_type": "markdown",
   "metadata": {},
   "source": [
    "Следовательно, наши значения практически не отличаются, подвтеврдим это расчтитав MAE."
   ]
  },
  {
   "cell_type": "code",
   "execution_count": 9,
   "metadata": {},
   "outputs": [
    {
     "data": {
      "text/plain": [
       "9.73512347450521e-15"
      ]
     },
     "execution_count": 9,
     "metadata": {},
     "output_type": "execute_result"
    }
   ],
   "source": [
    "mean_absolute_error(recovery, data_1[\"rougher.output.recovery\"]) #применяем функцию MAE и получаем ответ"
   ]
  },
  {
   "cell_type": "markdown",
   "metadata": {},
   "source": [
    "### Преодобратка данных"
   ]
  },
  {
   "cell_type": "markdown",
   "metadata": {},
   "source": [
    "Как мы можем заметить, часть столбцов отсутсвует в тестовой выборке, считаю, что обучение в таком случае проводить нельзя, так как разное количество признаков, поэтому оставим в обучающей выборке те самые столбцы, которые присутсвуют в тестовой выборке."
   ]
  },
  {
   "cell_type": "code",
   "execution_count": 10,
   "metadata": {},
   "outputs": [
    {
     "data": {
      "text/plain": [
       "{'final.output.concentrate_ag',\n",
       " 'final.output.concentrate_au',\n",
       " 'final.output.concentrate_pb',\n",
       " 'final.output.concentrate_sol',\n",
       " 'final.output.recovery',\n",
       " 'final.output.tail_ag',\n",
       " 'final.output.tail_au',\n",
       " 'final.output.tail_pb',\n",
       " 'final.output.tail_sol',\n",
       " 'primary_cleaner.output.concentrate_ag',\n",
       " 'primary_cleaner.output.concentrate_au',\n",
       " 'primary_cleaner.output.concentrate_pb',\n",
       " 'primary_cleaner.output.concentrate_sol',\n",
       " 'primary_cleaner.output.tail_ag',\n",
       " 'primary_cleaner.output.tail_au',\n",
       " 'primary_cleaner.output.tail_pb',\n",
       " 'primary_cleaner.output.tail_sol',\n",
       " 'rougher.calculation.au_pb_ratio',\n",
       " 'rougher.calculation.floatbank10_sulfate_to_au_feed',\n",
       " 'rougher.calculation.floatbank11_sulfate_to_au_feed',\n",
       " 'rougher.calculation.sulfate_to_au_concentrate',\n",
       " 'rougher.output.concentrate_ag',\n",
       " 'rougher.output.concentrate_au',\n",
       " 'rougher.output.concentrate_pb',\n",
       " 'rougher.output.concentrate_sol',\n",
       " 'rougher.output.recovery',\n",
       " 'rougher.output.tail_ag',\n",
       " 'rougher.output.tail_au',\n",
       " 'rougher.output.tail_pb',\n",
       " 'rougher.output.tail_sol',\n",
       " 'secondary_cleaner.output.tail_ag',\n",
       " 'secondary_cleaner.output.tail_au',\n",
       " 'secondary_cleaner.output.tail_pb',\n",
       " 'secondary_cleaner.output.tail_sol'}"
      ]
     },
     "execution_count": 10,
     "metadata": {},
     "output_type": "execute_result"
    }
   ],
   "source": [
    "set(data_1) - set(data_2) #нашел пример использования, прошу будет посмотреть, почему эта функция так работает"
   ]
  },
  {
   "cell_type": "markdown",
   "metadata": {},
   "source": [
    "В нашаем случае в обучающей выборке отсутсвовали значения, обозначающие технологический процесс, так как их нет в тестовой выборке, учить на них не можем, значит удаляем, однако для дальнейшей работы необходимо найти целевые признаки.\n"
   ]
  },
  {
   "cell_type": "code",
   "execution_count": 11,
   "metadata": {},
   "outputs": [],
   "source": [
    "data_1 = data_1[data_2.columns] #следовательно удалим столбцы, которые отсутсвуют в тренировочной"
   ]
  },
  {
   "cell_type": "code",
   "execution_count": 12,
   "metadata": {},
   "outputs": [],
   "source": [
    "target_train = data_3[[\"rougher.output.recovery\", \"rougher.output.recovery\"]].loc[data_1.index]\n",
    "target_test = data_3[[\"rougher.output.recovery\", \"rougher.output.recovery\"]].loc[data_2.index]"
   ]
  },
  {
   "cell_type": "code",
   "execution_count": 13,
   "metadata": {},
   "outputs": [
    {
     "data": {
      "text/html": [
       "<div>\n",
       "<style scoped>\n",
       "    .dataframe tbody tr th:only-of-type {\n",
       "        vertical-align: middle;\n",
       "    }\n",
       "\n",
       "    .dataframe tbody tr th {\n",
       "        vertical-align: top;\n",
       "    }\n",
       "\n",
       "    .dataframe thead th {\n",
       "        text-align: right;\n",
       "    }\n",
       "</style>\n",
       "<table border=\"1\" class=\"dataframe\">\n",
       "  <thead>\n",
       "    <tr style=\"text-align: right;\">\n",
       "      <th></th>\n",
       "      <th>rougher.output.recovery</th>\n",
       "      <th>rougher.output.recovery</th>\n",
       "    </tr>\n",
       "    <tr>\n",
       "      <th>date</th>\n",
       "      <th></th>\n",
       "      <th></th>\n",
       "    </tr>\n",
       "  </thead>\n",
       "  <tbody>\n",
       "    <tr>\n",
       "      <th>2016-01-15 00:00:00</th>\n",
       "      <td>87.107763</td>\n",
       "      <td>87.107763</td>\n",
       "    </tr>\n",
       "    <tr>\n",
       "      <th>2016-01-15 01:00:00</th>\n",
       "      <td>86.843261</td>\n",
       "      <td>86.843261</td>\n",
       "    </tr>\n",
       "    <tr>\n",
       "      <th>2016-01-15 02:00:00</th>\n",
       "      <td>86.842308</td>\n",
       "      <td>86.842308</td>\n",
       "    </tr>\n",
       "    <tr>\n",
       "      <th>2016-01-15 03:00:00</th>\n",
       "      <td>87.226430</td>\n",
       "      <td>87.226430</td>\n",
       "    </tr>\n",
       "    <tr>\n",
       "      <th>2016-01-15 04:00:00</th>\n",
       "      <td>86.688794</td>\n",
       "      <td>86.688794</td>\n",
       "    </tr>\n",
       "    <tr>\n",
       "      <th>...</th>\n",
       "      <td>...</td>\n",
       "      <td>...</td>\n",
       "    </tr>\n",
       "    <tr>\n",
       "      <th>2018-08-18 06:59:59</th>\n",
       "      <td>89.574376</td>\n",
       "      <td>89.574376</td>\n",
       "    </tr>\n",
       "    <tr>\n",
       "      <th>2018-08-18 07:59:59</th>\n",
       "      <td>87.724007</td>\n",
       "      <td>87.724007</td>\n",
       "    </tr>\n",
       "    <tr>\n",
       "      <th>2018-08-18 08:59:59</th>\n",
       "      <td>88.890579</td>\n",
       "      <td>88.890579</td>\n",
       "    </tr>\n",
       "    <tr>\n",
       "      <th>2018-08-18 09:59:59</th>\n",
       "      <td>89.858126</td>\n",
       "      <td>89.858126</td>\n",
       "    </tr>\n",
       "    <tr>\n",
       "      <th>2018-08-18 10:59:59</th>\n",
       "      <td>89.514960</td>\n",
       "      <td>89.514960</td>\n",
       "    </tr>\n",
       "  </tbody>\n",
       "</table>\n",
       "<p>14149 rows × 2 columns</p>\n",
       "</div>"
      ],
      "text/plain": [
       "                     rougher.output.recovery  rougher.output.recovery\n",
       "date                                                                 \n",
       "2016-01-15 00:00:00                87.107763                87.107763\n",
       "2016-01-15 01:00:00                86.843261                86.843261\n",
       "2016-01-15 02:00:00                86.842308                86.842308\n",
       "2016-01-15 03:00:00                87.226430                87.226430\n",
       "2016-01-15 04:00:00                86.688794                86.688794\n",
       "...                                      ...                      ...\n",
       "2018-08-18 06:59:59                89.574376                89.574376\n",
       "2018-08-18 07:59:59                87.724007                87.724007\n",
       "2018-08-18 08:59:59                88.890579                88.890579\n",
       "2018-08-18 09:59:59                89.858126                89.858126\n",
       "2018-08-18 10:59:59                89.514960                89.514960\n",
       "\n",
       "[14149 rows x 2 columns]"
      ]
     },
     "execution_count": 13,
     "metadata": {},
     "output_type": "execute_result"
    }
   ],
   "source": [
    "target_train #целевые признаки для тестовой выборки"
   ]
  },
  {
   "cell_type": "code",
   "execution_count": 14,
   "metadata": {},
   "outputs": [
    {
     "data": {
      "text/html": [
       "<div>\n",
       "<style scoped>\n",
       "    .dataframe tbody tr th:only-of-type {\n",
       "        vertical-align: middle;\n",
       "    }\n",
       "\n",
       "    .dataframe tbody tr th {\n",
       "        vertical-align: top;\n",
       "    }\n",
       "\n",
       "    .dataframe thead th {\n",
       "        text-align: right;\n",
       "    }\n",
       "</style>\n",
       "<table border=\"1\" class=\"dataframe\">\n",
       "  <thead>\n",
       "    <tr style=\"text-align: right;\">\n",
       "      <th></th>\n",
       "      <th>rougher.output.recovery</th>\n",
       "      <th>rougher.output.recovery</th>\n",
       "    </tr>\n",
       "    <tr>\n",
       "      <th>date</th>\n",
       "      <th></th>\n",
       "      <th></th>\n",
       "    </tr>\n",
       "  </thead>\n",
       "  <tbody>\n",
       "    <tr>\n",
       "      <th>2016-09-01 00:59:59</th>\n",
       "      <td>89.993421</td>\n",
       "      <td>89.993421</td>\n",
       "    </tr>\n",
       "    <tr>\n",
       "      <th>2016-09-01 01:59:59</th>\n",
       "      <td>88.089657</td>\n",
       "      <td>88.089657</td>\n",
       "    </tr>\n",
       "    <tr>\n",
       "      <th>2016-09-01 02:59:59</th>\n",
       "      <td>88.412756</td>\n",
       "      <td>88.412756</td>\n",
       "    </tr>\n",
       "    <tr>\n",
       "      <th>2016-09-01 03:59:59</th>\n",
       "      <td>87.360133</td>\n",
       "      <td>87.360133</td>\n",
       "    </tr>\n",
       "    <tr>\n",
       "      <th>2016-09-01 04:59:59</th>\n",
       "      <td>83.236367</td>\n",
       "      <td>83.236367</td>\n",
       "    </tr>\n",
       "    <tr>\n",
       "      <th>...</th>\n",
       "      <td>...</td>\n",
       "      <td>...</td>\n",
       "    </tr>\n",
       "    <tr>\n",
       "      <th>2017-12-31 19:59:59</th>\n",
       "      <td>95.172585</td>\n",
       "      <td>95.172585</td>\n",
       "    </tr>\n",
       "    <tr>\n",
       "      <th>2017-12-31 20:59:59</th>\n",
       "      <td>94.575036</td>\n",
       "      <td>94.575036</td>\n",
       "    </tr>\n",
       "    <tr>\n",
       "      <th>2017-12-31 21:59:59</th>\n",
       "      <td>93.018138</td>\n",
       "      <td>93.018138</td>\n",
       "    </tr>\n",
       "    <tr>\n",
       "      <th>2017-12-31 22:59:59</th>\n",
       "      <td>92.599042</td>\n",
       "      <td>92.599042</td>\n",
       "    </tr>\n",
       "    <tr>\n",
       "      <th>2017-12-31 23:59:59</th>\n",
       "      <td>91.177695</td>\n",
       "      <td>91.177695</td>\n",
       "    </tr>\n",
       "  </tbody>\n",
       "</table>\n",
       "<p>5290 rows × 2 columns</p>\n",
       "</div>"
      ],
      "text/plain": [
       "                     rougher.output.recovery  rougher.output.recovery\n",
       "date                                                                 \n",
       "2016-09-01 00:59:59                89.993421                89.993421\n",
       "2016-09-01 01:59:59                88.089657                88.089657\n",
       "2016-09-01 02:59:59                88.412756                88.412756\n",
       "2016-09-01 03:59:59                87.360133                87.360133\n",
       "2016-09-01 04:59:59                83.236367                83.236367\n",
       "...                                      ...                      ...\n",
       "2017-12-31 19:59:59                95.172585                95.172585\n",
       "2017-12-31 20:59:59                94.575036                94.575036\n",
       "2017-12-31 21:59:59                93.018138                93.018138\n",
       "2017-12-31 22:59:59                92.599042                92.599042\n",
       "2017-12-31 23:59:59                91.177695                91.177695\n",
       "\n",
       "[5290 rows x 2 columns]"
      ]
     },
     "execution_count": 14,
     "metadata": {},
     "output_type": "execute_result"
    }
   ],
   "source": [
    "target_test #целевые признаки для обучающей выборке"
   ]
  },
  {
   "cell_type": "code",
   "execution_count": 15,
   "metadata": {},
   "outputs": [],
   "source": [
    "train  = data_1\n",
    "test = data_2"
   ]
  },
  {
   "cell_type": "markdown",
   "metadata": {},
   "source": [
    "Таким образом, на даннаном этапе, мы открыли и изучили данные, проверили коэфицент обогащения руды различными способами, провели предобработку данных, выделив помимо прочего целевой признак на тестовой, обучающей выборках."
   ]
  },
  {
   "cell_type": "markdown",
   "metadata": {},
   "source": [
    "## Анализ данных"
   ]
  },
  {
   "cell_type": "markdown",
   "metadata": {},
   "source": [
    "### Посмотрите, как меняется концентрация металлов (Au, Ag, Pb) на различных этапах очистки."
   ]
  },
  {
   "cell_type": "code",
   "execution_count": 16,
   "metadata": {},
   "outputs": [],
   "source": [
    "#код ревьюера\n",
    "#подготовим датасет с необходимыми данными для золота\n",
    "au_data = (data_3[[\n",
    "    'rougher.input.feed_au', \n",
    "    'rougher.output.concentrate_au', \n",
    "    'primary_cleaner.output.concentrate_au', \n",
    "    'final.output.concentrate_au']].copy())"
   ]
  },
  {
   "cell_type": "code",
   "execution_count": 17,
   "metadata": {},
   "outputs": [],
   "source": [
    "#код ревьюера\n",
    "#серебра\n",
    "ag_data = (data_3[[\n",
    "    'rougher.input.feed_ag', \n",
    "    'rougher.output.concentrate_ag', \n",
    "    'primary_cleaner.output.concentrate_ag', \n",
    "    'final.output.concentrate_ag']].copy())"
   ]
  },
  {
   "cell_type": "code",
   "execution_count": 18,
   "metadata": {},
   "outputs": [],
   "source": [
    "#код ревьюера\n",
    "#свинца\n",
    "pb_data = (data_3[[\n",
    "    'rougher.input.feed_pb', \n",
    "    'rougher.output.concentrate_pb', \n",
    "    'primary_cleaner.output.concentrate_pb', \n",
    "    'final.output.concentrate_pb']].copy())"
   ]
  },
  {
   "cell_type": "code",
   "execution_count": 19,
   "metadata": {},
   "outputs": [],
   "source": [
    "#код ревьюера\n",
    "def draw_hist (data, title):\n",
    "    fig, ax = plt.subplots()\n",
    "    ax.set_ylabel('Кол-во наблюдений')\n",
    "    ax.set_xlabel('Концентрация металла')\n",
    "    ax.set_title(title)\n",
    "    for col in data:\n",
    "        data[col].hist(alpha=.3) \n",
    "        ax.legend(['Исходное сырье','Флотация','Первичная очистка', 'Вторичная очистка'])"
   ]
  },
  {
   "cell_type": "code",
   "execution_count": 20,
   "metadata": {},
   "outputs": [
    {
     "data": {
      "image/png": "[encoded data removed]",
      "text/plain": [
       "<Figure size 432x288 with 1 Axes>"
      ]
     },
     "metadata": {
      "needs_background": "light"
     },
     "output_type": "display_data"
    },
    {
     "data": {
      "image/png": "[encoded data removed]",
      "text/plain": [
       "<Figure size 432x288 with 1 Axes>"
      ]
     },
     "metadata": {
      "needs_background": "light"
     },
     "output_type": "display_data"
    },
    {
     "data": {
      "image/png": "[encoded data removed]",
      "text/plain": [
       "<Figure size 432x288 with 1 Axes>"
      ]
     },
     "metadata": {
      "needs_background": "light"
     },
     "output_type": "display_data"
    }
   ],
   "source": [
    "#код ревьюера\n",
    "draw_hist(au_data, 'Изменение концентрации золота в руде')\n",
    "draw_hist(ag_data, 'Изменение концентрации серебра в руде')\n",
    "draw_hist(pb_data, 'Изменение концентрации свинца в руде')"
   ]
  },
  {
   "cell_type": "markdown",
   "metadata": {},
   "source": [
    "### 2.1 обновленный"
   ]
  },
  {
   "cell_type": "markdown",
   "metadata": {},
   "source": [
    "Для AG"
   ]
  },
  {
   "cell_type": "code",
   "execution_count": 52,
   "metadata": {},
   "outputs": [],
   "source": [
    "def hist_metal(feed, rougher, primary_cleaner, final, name): #создаем функцию\n",
    "    plt.hist(feed, alpha = 0.5 , label = \"final\") #для каждого этапа график\n",
    "    plt.hist(rougher, alpha = 0.5 , label = \"primary\")\n",
    "    plt.hist(primary_cleaner, alpha = 0.5, label = \"rougher\")\n",
    "    plt.hist(final, alpha = 0.5, label = \"rougher\")\n",
    "    #plt.xlim(0,20) #лимит по оси x\n",
    "    plt.title(name)\n",
    "    plt.xlabel(\"Концентрация\")\n",
    "    plt.ylabel(\"Количество наблюдений\")\n",
    "    plt.legend(['Исходное сырье','Флотация','Первичная очистка', 'Вторичная очистка'])\n",
    "    plt.show()"
   ]
  },
  {
   "cell_type": "code",
   "execution_count": 53,
   "metadata": {
    "scrolled": false
   },
   "outputs": [
    {
     "data": {
      "image/png": "[encoded data removed]",
      "text/plain": [
       "<Figure size 432x288 with 1 Axes>"
      ]
     },
     "metadata": {
      "needs_background": "light"
     },
     "output_type": "display_data"
    }
   ],
   "source": [
    "hist_metal(data_3['rougher.input.feed_ag'], data_3[\"rougher.output.concentrate_ag\"],\n",
    "           data_3[\"primary_cleaner.output.concentrate_ag\"], data_3[\"final.output.concentrate_ag\"],\"ag\")"
   ]
  },
  {
   "cell_type": "markdown",
   "metadata": {},
   "source": [
    "Для AU"
   ]
  },
  {
   "cell_type": "code",
   "execution_count": 54,
   "metadata": {},
   "outputs": [
    {
     "data": {
      "image/png": "[encoded data removed]",
      "text/plain": [
       "<Figure size 432x288 with 1 Axes>"
      ]
     },
     "metadata": {
      "needs_background": "light"
     },
     "output_type": "display_data"
    }
   ],
   "source": [
    "hist_metal(data_3['rougher.input.feed_au'], data_3[\"rougher.output.concentrate_au\"],\n",
    "           data_3[\"primary_cleaner.output.concentrate_au\"], data_3[\"final.output.concentrate_au\"],\"au\")"
   ]
  },
  {
   "cell_type": "markdown",
   "metadata": {},
   "source": [
    "Для PB"
   ]
  },
  {
   "cell_type": "code",
   "execution_count": 55,
   "metadata": {
    "scrolled": true
   },
   "outputs": [
    {
     "data": {
      "image/png": "[encoded data removed]",
      "text/plain": [
       "<Figure size 432x288 with 1 Axes>"
      ]
     },
     "metadata": {
      "needs_background": "light"
     },
     "output_type": "display_data"
    }
   ],
   "source": [
    "hist_metal(data_3['rougher.input.feed_pb'], data_3[\"rougher.output.concentrate_pb\"],\n",
    "           data_3[\"primary_cleaner.output.concentrate_pb\"], data_3[\"final.output.concentrate_pb\"],\"pb\")"
   ]
  },
  {
   "cell_type": "markdown",
   "metadata": {},
   "source": [
    "Концентрация Ag на каждом этапе технологического процесса увеличивается. Значение дисперсий увеличивается на каждом этапе технологического процесса. Наблюдается аномальные значения около нуля, значения около нуля, которые могут быть связаны с не дополучения данных от приборов или осатновка произвоства."
   ]
  },
  {
   "cell_type": "markdown",
   "metadata": {},
   "source": [
    "Итак дубль три, таким образом:\n",
    "\n",
    "1) Если брать финальный этап, то с каждым шагом, концентрация чистого золота падает, присутсвуют аномальные значения в районе 0\n",
    "\n",
    "2) На флотацию естественно поступает большое количество концентрата, для дальнешей обработки, в последствии на этом этапе концентрация падает\n",
    "\n",
    "3) Вторичная очистка аналогична первой, все меньше и меньше конценрата \n",
    "\n",
    "4) Финальный этап, показывает, что концентрация падает и падает, что означает, что технологический этап заканчивается,  ценные металлы очищены."
   ]
  },
  {
   "cell_type": "code",
   "execution_count": 25,
   "metadata": {},
   "outputs": [
    {
     "name": "stderr",
     "output_type": "stream",
     "text": [
      "/opt/conda/lib/python3.9/site-packages/seaborn/distributions.py:2557: FutureWarning: `distplot` is a deprecated function and will be removed in a future version. Please adapt your code to use either `displot` (a figure-level function with similar flexibility) or `histplot` (an axes-level function for histograms).\n",
      "  warnings.warn(msg, FutureWarning)\n",
      "/opt/conda/lib/python3.9/site-packages/seaborn/distributions.py:2557: FutureWarning: `distplot` is a deprecated function and will be removed in a future version. Please adapt your code to use either `displot` (a figure-level function with similar flexibility) or `histplot` (an axes-level function for histograms).\n",
      "  warnings.warn(msg, FutureWarning)\n"
     ]
    },
    {
     "data": {
      "image/png": "[encoded data removed]",
      "text/plain": [
       "<Figure size 432x288 with 1 Axes>"
      ]
     },
     "metadata": {
      "needs_background": "light"
     },
     "output_type": "display_data"
    }
   ],
   "source": [
    "sbs.distplot(train['rougher.input.feed_size'], label='train')\n",
    "sbs.distplot(test['rougher.input.feed_size'], label='test')\n",
    "plt.title('Суммарное распределение размера гранул', fontsize=16)\n",
    "plt.legend()\n",
    "plt.xlim(0,200)\n",
    "plt.show()"
   ]
  },
  {
   "cell_type": "markdown",
   "metadata": {},
   "source": [
    "Как можем заметить, распределение гранул на двух выборках примерно одинаково, существуют аномальные значения, которые в следующем пункте исправим. Однако отмечу, что на обучающец выборке данные колеблються вокруг 0,3 , а на тестовой в районе 0,4 и таких значений явно больше."
   ]
  },
  {
   "cell_type": "markdown",
   "metadata": {},
   "source": [
    "### Исследуйте суммарную концентрацию всех веществ на разных стадиях: в сырье, в черновом и финальном концентратах."
   ]
  },
  {
   "cell_type": "code",
   "execution_count": 26,
   "metadata": {},
   "outputs": [],
   "source": [
    "sum_conc = data_3.copy() #копируем датасет, чтобы убедиться в независимости в последующих вычислений"
   ]
  },
  {
   "cell_type": "code",
   "execution_count": 27,
   "metadata": {},
   "outputs": [
    {
     "data": {
      "text/plain": [
       "date\n",
       "2016-01-15 00:00:00    35.130371\n",
       "2016-01-15 01:00:00    35.345870\n",
       "2016-01-15 02:00:00    34.670869\n",
       "2016-01-15 03:00:00    34.516893\n",
       "2016-01-15 04:00:00    34.281228\n",
       "                         ...    \n",
       "2018-08-18 06:59:59    41.052879\n",
       "2018-08-18 07:59:59    40.672184\n",
       "2018-08-18 08:59:59    31.741602\n",
       "2018-08-18 09:59:59    39.708119\n",
       "2018-08-18 10:59:59    39.780383\n",
       "Length: 19439, dtype: float64"
      ]
     },
     "execution_count": 27,
     "metadata": {},
     "output_type": "execute_result"
    }
   ],
   "source": [
    "#для финальной стадии концентрации\n",
    "sum_conc[\"final.output.concentrate_sum\"] = sum_conc[\"final.output.concentrate_ag\"] + sum_conc[\"final.output.concentrate_au\"]\n",
    "+ sum_conc[\"final.output.concentrate_pb\"] + sum_conc[\"final.output.concentrate_sol\"] \n",
    "\n",
    "#концентрация отвала всех веществ в финальной стадии\n",
    "sum_conc[\"final.output.tail_sum\"] = sum_conc[\"final.output.tail_ag\"] + sum_conc[\"final.output.tail_au\"]\n",
    "+ sum_conc[\"final.output.tail_pb\"]+ sum_conc[\"final.output.tail_sol\"] \n",
    "\n",
    "#уссма концентрации в сырье\n",
    "sum_conc[\"rougher.input.feed_sum\"] = sum_conc[\"rougher.input.feed_ag\"] + sum_conc[\"rougher.input.feed_au\"]\n",
    "+ sum_conc[\"rougher.input.feed_pb\"] +sum_conc[\"rougher.input.feed_sol\"] \n",
    "\n",
    "# суммарная концентрация веществ в черновом виде\n",
    "sum_conc[\"rougher.output.concentrate_sum\"] = sum_conc[\"rougher.output.concentrate_ag\"] + sum_conc[\"rougher.output.concentrate_au\"]\n",
    "+ sum_conc[\"rougher.output.concentrate_pb\"] + sum_conc[\"rougher.output.concentrate_sol\"] "
   ]
  },
  {
   "cell_type": "code",
   "execution_count": 28,
   "metadata": {},
   "outputs": [
    {
     "data": {
      "image/png": "[encoded data removed]",
      "text/plain": [
       "<Figure size 720x360 with 1 Axes>"
      ]
     },
     "metadata": {
      "needs_background": "light"
     },
     "output_type": "display_data"
    }
   ],
   "source": [
    "sum_conc[\"final.output.concentrate_sum\"].hist(bins = 40, figsize = (10,5)) #аналолично примерам выше\n",
    "plt.xlabel(\"Сумма долей компонентов\")\n",
    "plt.title(\"Сумма концентраций всех веществ в финальной концентраций\")\n",
    "plt.show()"
   ]
  },
  {
   "cell_type": "code",
   "execution_count": 29,
   "metadata": {},
   "outputs": [
    {
     "data": {
      "image/png": "[encoded data removed]",
      "text/plain": [
       "<Figure size 1080x576 with 1 Axes>"
      ]
     },
     "metadata": {
      "needs_background": "light"
     },
     "output_type": "display_data"
    }
   ],
   "source": [
    "sum_conc[\"final.output.tail_sum\"].hist(bins = 70, figsize = (15,8), color = \"red\")\n",
    "plt.xlabel(\"Сумма долей компонентов\")\n",
    "plt.title(\"Сумма концентраций отвала всех веществ в финальной концентраций\")\n",
    "plt.show()"
   ]
  },
  {
   "cell_type": "code",
   "execution_count": 30,
   "metadata": {},
   "outputs": [
    {
     "data": {
      "image/png": "[encoded data removed]",
      "text/plain": [
       "<Figure size 720x504 with 1 Axes>"
      ]
     },
     "metadata": {
      "needs_background": "light"
     },
     "output_type": "display_data"
    }
   ],
   "source": [
    "sum_conc[\"rougher.input.feed_sum\"].hist(bins = 40, figsize = (10,7))\n",
    "plt.xlabel(\"Сумма долей компонентов\")\n",
    "plt.title(\"Сумма концентраций всех веществ в сырье\")\n",
    "plt.show()"
   ]
  },
  {
   "cell_type": "code",
   "execution_count": 31,
   "metadata": {},
   "outputs": [
    {
     "data": {
      "image/png": "[encoded data removed]",
      "text/plain": [
       "<Figure size 720x504 with 1 Axes>"
      ]
     },
     "metadata": {
      "needs_background": "light"
     },
     "output_type": "display_data"
    }
   ],
   "source": [
    "sum_conc[\"rougher.output.concentrate_sum\"].hist(bins = 40, figsize = (10,7))\n",
    "plt.xlabel(\"Сумма долей компонентов\")\n",
    "plt.title(\"Сумма концентраций всех веществ в черновом\")\n",
    "plt.show()"
   ]
  },
  {
   "cell_type": "markdown",
   "metadata": {},
   "source": [
    "Как можем заметить, на каждом из примеров, мы наблюдаем аномальные значения в области нуля, для корректного обучения предлагаю, удалить такие строки. В остатальном, по гистрограммамам можно сделать вывод, что технологический процесс настроен корректно, так как распределения близки к \"нормальным\"."
   ]
  },
  {
   "cell_type": "code",
   "execution_count": 32,
   "metadata": {},
   "outputs": [
    {
     "data": {
      "text/plain": [
       "Index(['primary_cleaner.input.sulfate', 'primary_cleaner.input.depressant',\n",
       "       'primary_cleaner.input.feed_size', 'primary_cleaner.input.xanthate',\n",
       "       'primary_cleaner.state.floatbank8_a_air',\n",
       "       'primary_cleaner.state.floatbank8_a_level',\n",
       "       'primary_cleaner.state.floatbank8_b_air',\n",
       "       'primary_cleaner.state.floatbank8_b_level',\n",
       "       'primary_cleaner.state.floatbank8_c_air',\n",
       "       'primary_cleaner.state.floatbank8_c_level',\n",
       "       'primary_cleaner.state.floatbank8_d_air',\n",
       "       'primary_cleaner.state.floatbank8_d_level', 'rougher.input.feed_ag',\n",
       "       'rougher.input.feed_pb', 'rougher.input.feed_rate',\n",
       "       'rougher.input.feed_size', 'rougher.input.feed_sol',\n",
       "       'rougher.input.feed_au', 'rougher.input.floatbank10_sulfate',\n",
       "       'rougher.input.floatbank10_xanthate',\n",
       "       'rougher.input.floatbank11_sulfate',\n",
       "       'rougher.input.floatbank11_xanthate', 'rougher.state.floatbank10_a_air',\n",
       "       'rougher.state.floatbank10_a_level', 'rougher.state.floatbank10_b_air',\n",
       "       'rougher.state.floatbank10_b_level', 'rougher.state.floatbank10_c_air',\n",
       "       'rougher.state.floatbank10_c_level', 'rougher.state.floatbank10_d_air',\n",
       "       'rougher.state.floatbank10_d_level', 'rougher.state.floatbank10_e_air',\n",
       "       'rougher.state.floatbank10_e_level', 'rougher.state.floatbank10_f_air',\n",
       "       'rougher.state.floatbank10_f_level',\n",
       "       'secondary_cleaner.state.floatbank2_a_air',\n",
       "       'secondary_cleaner.state.floatbank2_a_level',\n",
       "       'secondary_cleaner.state.floatbank2_b_air',\n",
       "       'secondary_cleaner.state.floatbank2_b_level',\n",
       "       'secondary_cleaner.state.floatbank3_a_air',\n",
       "       'secondary_cleaner.state.floatbank3_a_level',\n",
       "       'secondary_cleaner.state.floatbank3_b_air',\n",
       "       'secondary_cleaner.state.floatbank3_b_level',\n",
       "       'secondary_cleaner.state.floatbank4_a_air',\n",
       "       'secondary_cleaner.state.floatbank4_a_level',\n",
       "       'secondary_cleaner.state.floatbank4_b_air',\n",
       "       'secondary_cleaner.state.floatbank4_b_level',\n",
       "       'secondary_cleaner.state.floatbank5_a_air',\n",
       "       'secondary_cleaner.state.floatbank5_a_level',\n",
       "       'secondary_cleaner.state.floatbank5_b_air',\n",
       "       'secondary_cleaner.state.floatbank5_b_level',\n",
       "       'secondary_cleaner.state.floatbank6_a_air',\n",
       "       'secondary_cleaner.state.floatbank6_a_level'],\n",
       "      dtype='object')"
      ]
     },
     "execution_count": 32,
     "metadata": {},
     "output_type": "execute_result"
    }
   ],
   "source": [
    "train.columns #проверяем обязательно какие столбцы есть в выборках, что изменить значения"
   ]
  },
  {
   "cell_type": "code",
   "execution_count": 33,
   "metadata": {},
   "outputs": [],
   "source": [
    "data_train = data_1.fillna(method='ffill') #пересоздадим датасеты\n",
    "data_test = data_2.fillna(method='ffill')\n",
    "data_full = data_3.fillna(method='ffill')"
   ]
  },
  {
   "cell_type": "code",
   "execution_count": 34,
   "metadata": {},
   "outputs": [],
   "source": [
    "#на основе полного датасета, создадим обучающий и тренировочный, соеденим со столбцами по индексу даты, чтобы удалить строки, где присутсвуют нули\n",
    "data_full_1 = data_full[[\"rougher.output.recovery\", \"final.output.recovery\", \"rougher.output.concentrate_au\", \"rougher.output.concentrate_ag\", \"rougher.output.concentrate_pb\", \"rougher.output.concentrate_sol\", \"final.output.concentrate_au\", \"final.output.concentrate_ag\", \"final.output.concentrate_pb\", \"final.output.concentrate_sol\"]]\n",
    "data_test = data_test.merge(data_full_1, on=\"date\", how=\"left\")\n",
    "data_train = data_train.merge(data_full_1, on=\"date\", how=\"left\")"
   ]
  },
  {
   "cell_type": "code",
   "execution_count": 35,
   "metadata": {},
   "outputs": [
    {
     "name": "stdout",
     "output_type": "stream",
     "text": [
      "(5290, 62)\n",
      "(14149, 62)\n",
      "(5154, 62)\n",
      "(14149, 52)\n"
     ]
    },
    {
     "name": "stderr",
     "output_type": "stream",
     "text": [
      "/tmp/ipykernel_113/4198215821.py:15: UserWarning: Boolean Series key will be reindexed to match DataFrame index.\n",
      "  data_test = data_test[data_full[features_final_concentrate].sum(1) > 0]\n"
     ]
    }
   ],
   "source": [
    "#создаем массивы с нужными столбцами\n",
    "features_rough_concentrate = ['rougher.output.concentrate_au', 'rougher.output.concentrate_ag', 'rougher.output.concentrate_pb','rougher.output.concentrate_sol']\n",
    "features_input_concentrate = ['rougher.input.feed_au','rougher.input.feed_ag','rougher.input.feed_pb','rougher.input.feed_sol']\n",
    "features_final_concentrate = ['final.output.concentrate_au','final.output.concentrate_ag','final.output.concentrate_pb','final.output.concentrate_sol']\n",
    "print(data_test.shape) #проверяем размер тестовой\n",
    "print(data_train.shape) #проверяем размер тренировочной\n",
    "\n",
    "data_train = data_train[data_train[features_input_concentrate].sum(1) > 0] #отсекаем нулевые значения \n",
    "data_train = data_train[data_train[features_rough_concentrate].sum(1) > 0]\n",
    "data_train = data_train[data_train[features_final_concentrate].sum(1) > 0]\n",
    "\n",
    "data_full = data_full.loc[data_test.index]\n",
    "data_test = data_test[data_full[features_input_concentrate].sum(1) > 0] #аналогично\n",
    "data_test = data_test[data_full[features_rough_concentrate].sum(1) > 0]\n",
    "data_test = data_test[data_full[features_final_concentrate].sum(1) > 0]\n",
    "\n",
    "print(data_test.shape)\n",
    "print(train.shape)"
   ]
  },
  {
   "cell_type": "code",
   "execution_count": 36,
   "metadata": {},
   "outputs": [],
   "source": [
    "#создадим признаки и целевой признак\n",
    "features_train = data_train.drop(columns=[\"rougher.output.recovery\", \"final.output.recovery\"], axis=1) \n",
    "target_train = data_train[[\"rougher.output.recovery\", \"final.output.recovery\"]]\n",
    "\n",
    "features_test = data_test.drop(columns=[\"rougher.output.recovery\", \"final.output.recovery\"], axis=1)\n",
    "target_test = data_test[[\"rougher.output.recovery\", \"final.output.recovery\"]]"
   ]
  },
  {
   "cell_type": "markdown",
   "metadata": {},
   "source": [
    "фух, я намучился с удалением!\n",
    "Таким образом, мы провели анализ данных, сравнили концентрацию на разных этапах обработки, перейдем к обучению модели."
   ]
  },
  {
   "cell_type": "markdown",
   "metadata": {},
   "source": [
    "## Модель"
   ]
  },
  {
   "cell_type": "markdown",
   "metadata": {},
   "source": [
    "### Напишите функцию для вычисления итоговой sMAPE"
   ]
  },
  {
   "cell_type": "code",
   "execution_count": 37,
   "metadata": {},
   "outputs": [],
   "source": [
    "def calculate_smape(target_actual, target_predictions): #функуия для нахождения sMape\n",
    "    numerator = np.abs(target_actual - target_predictions)\n",
    "    denominator = (np.abs(target_actual) + np.abs(target_predictions)) / 2 \n",
    "    return 1 / len(target_actual) * np.sum(numerator / denominator) * 100 \n",
    "  \n",
    "def calculate_final_smape(target_actual, target_predictions): #итоговое, тут особо не сложно.\n",
    "    target_actual_rougher = target_actual['rougher.output.recovery']\n",
    "    target_actual_final = target_actual['final.output.recovery']\n",
    "    target_predictions_rougher = target_predictions[:, 0]\n",
    "    target_predictions_final = target_predictions[:, 1]\n",
    "    return 0.25 * calculate_smape(target_actual_rougher, target_predictions_rougher) + 0.75 * calculate_smape(target_actual_rougher, target_predictions_rougher)\n",
    "\n",
    "smape_scorer = make_scorer(calculate_final_smape, greater_is_better=False) #вызываем для оцени"
   ]
  },
  {
   "cell_type": "markdown",
   "metadata": {},
   "source": [
    "### Обучите разные модели и оцените их качество кросс-валидацией. Выберите лучшую модель и проверьте её на тестовой выборке. Опишите выводы."
   ]
  },
  {
   "cell_type": "markdown",
   "metadata": {},
   "source": [
    "### Решающее дерево"
   ]
  },
  {
   "cell_type": "code",
   "execution_count": 38,
   "metadata": {},
   "outputs": [
    {
     "name": "stdout",
     "output_type": "stream",
     "text": [
      "Лучшее значение smape для дерева решений: 7.04941063341983 при значениях гиперпараметров: {'max_depth': 1}\n"
     ]
    }
   ],
   "source": [
    "scaler = StandardScaler() #стандартизация данных\n",
    "scaler.fit(features_train) #вычисляем среднее\n",
    "features_train = scaler.transform(features_train) #преобразуем обучающую и валидационную выборки\n",
    "model = DecisionTreeRegressor(random_state=12345) #создаем модель\n",
    "params = [{'max_depth': range(1, 4)}] #создаем массив\n",
    "best_model_tree = GridSearchCV(model, param_grid=params, scoring=smape_scorer )#выбираем параметры для модели\n",
    "best_model_tree.fit(features_train, target_train) #обучаем ее на тренировочных данных\n",
    "print('Лучшее значение smape для дерева решений: {} при значениях гиперпараметров: {}'.format(-best_model_tree.best_score_, best_model_tree.best_params_))\n",
    "est_dtr = -best_model_tree.best_score_"
   ]
  },
  {
   "cell_type": "markdown",
   "metadata": {},
   "source": [
    "### Случайный лес"
   ]
  },
  {
   "cell_type": "code",
   "execution_count": 39,
   "metadata": {},
   "outputs": [
    {
     "name": "stdout",
     "output_type": "stream",
     "text": [
      "Лучшее значение smape для случайного леса: 6.853728969842024 при значениях гиперпараметров: {'max_depth': 3}\n"
     ]
    }
   ],
   "source": [
    "features_train = scaler.transform(features_train) #преобразуем обучающую и валидационную выборки\n",
    "model = RandomForestRegressor(random_state=12345) #создаем модель\n",
    "params = [{'max_depth': range(1, 4)}] #создаем массив \n",
    "best_model_tree = GridSearchCV(model, param_grid=params, scoring=smape_scorer )#выбираем параметры для модели\n",
    "best_model_tree.fit(features_train, target_train) #обучаем ее на тренировочных данных\n",
    "print('Лучшее значение smape для случайного леса: {} при значениях гиперпараметров: {}'.format(-best_model_tree.best_score_, best_model_tree.best_params_))\n",
    "est_dtr = -best_model_tree.best_score_"
   ]
  },
  {
   "cell_type": "markdown",
   "metadata": {},
   "source": [
    "Таким образом, лучшее значение при использовании случайного леса, перейдем к тестированию модели."
   ]
  },
  {
   "cell_type": "code",
   "execution_count": 40,
   "metadata": {},
   "outputs": [],
   "source": [
    "predictions = best_model_tree.predict(features_test)"
   ]
  },
  {
   "cell_type": "code",
   "execution_count": 41,
   "metadata": {},
   "outputs": [
    {
     "data": {
      "text/plain": [
       "6.518078498294415"
      ]
     },
     "execution_count": 41,
     "metadata": {},
     "output_type": "execute_result"
    }
   ],
   "source": [
    "calculate_final_smape(target_test, predictions) #функуия для нахождения sMape"
   ]
  },
  {
   "cell_type": "code",
   "execution_count": 42,
   "metadata": {},
   "outputs": [],
   "source": [
    "constant_model = DummyRegressor(strategy=\"median\") #это какая то модель простых правил\n",
    "constant_model.fit(features_train, target_train)\n",
    "constant_predictions = constant_model.predict(target_test)"
   ]
  },
  {
   "cell_type": "code",
   "execution_count": 43,
   "metadata": {},
   "outputs": [
    {
     "data": {
      "text/plain": [
       "4.820878835102405"
      ]
     },
     "execution_count": 43,
     "metadata": {},
     "output_type": "execute_result"
    }
   ],
   "source": [
    "calculate_final_smape(target_test, constant_predictions)"
   ]
  },
  {
   "cell_type": "markdown",
   "metadata": {},
   "source": [
    "Таким образом, в рамках проекта мы :\n",
    "\n",
    "* открыли изучили даннеы\n",
    "* провели предобработку \n",
    "* рассчитали MAE сами и сравнили с исходными данными\n",
    "* Провели анализ данных\n",
    "* Избавились от аномальных значений\n",
    "* Написали функцию для метрики \n",
    "* Обучили модели, лучшее качество оказалось у случайного леса\n",
    "* В Результате, при проверке на тестовой выборке, мы получили sMAPE = 6.51"
   ]
  }
 ],
 "metadata": {
  "ExecuteTimeLog": [
   {
    "duration": 391,
    "start_time": "2022-04-07T17:58:24.597Z"
   },
   {
    "duration": 417,
    "start_time": "2022-04-08T13:01:47.542Z"
   },
   {
    "duration": 690,
    "start_time": "2022-04-08T13:01:48.936Z"
   },
   {
    "duration": 31,
    "start_time": "2022-04-08T13:02:14.753Z"
   },
   {
    "duration": 3,
    "start_time": "2022-04-08T13:12:51.704Z"
   },
   {
    "duration": 209,
    "start_time": "2022-04-08T13:14:28.184Z"
   },
   {
    "duration": 3,
    "start_time": "2022-04-08T13:15:29.064Z"
   },
   {
    "duration": 131,
    "start_time": "2022-04-08T13:15:30.344Z"
   },
   {
    "duration": 4,
    "start_time": "2022-04-08T13:15:48.592Z"
   },
   {
    "duration": 143,
    "start_time": "2022-04-08T13:15:50.729Z"
   },
   {
    "duration": 4,
    "start_time": "2022-04-08T13:16:23.241Z"
   },
   {
    "duration": 125,
    "start_time": "2022-04-08T13:16:24.289Z"
   },
   {
    "duration": 29,
    "start_time": "2022-04-08T13:16:37.353Z"
   },
   {
    "duration": 16,
    "start_time": "2022-04-08T13:16:44.226Z"
   },
   {
    "duration": 33,
    "start_time": "2022-04-08T13:17:52.891Z"
   },
   {
    "duration": 4,
    "start_time": "2022-04-08T13:18:23.211Z"
   },
   {
    "duration": 145,
    "start_time": "2022-04-08T13:18:25.147Z"
   },
   {
    "duration": 4,
    "start_time": "2022-04-08T13:18:50.900Z"
   },
   {
    "duration": 140,
    "start_time": "2022-04-08T13:18:51.788Z"
   },
   {
    "duration": 7,
    "start_time": "2022-04-08T13:23:04.097Z"
   },
   {
    "duration": 8,
    "start_time": "2022-04-08T13:23:07.297Z"
   },
   {
    "duration": 7,
    "start_time": "2022-04-08T13:23:16.738Z"
   },
   {
    "duration": 7,
    "start_time": "2022-04-08T13:23:20.497Z"
   },
   {
    "duration": 460,
    "start_time": "2022-04-08T13:23:45.802Z"
   },
   {
    "duration": 721,
    "start_time": "2022-04-08T13:23:46.264Z"
   },
   {
    "duration": 4,
    "start_time": "2022-04-08T13:23:46.987Z"
   },
   {
    "duration": 163,
    "start_time": "2022-04-08T13:23:46.993Z"
   },
   {
    "duration": 38,
    "start_time": "2022-04-08T13:23:47.158Z"
   },
   {
    "duration": 3,
    "start_time": "2022-04-08T13:24:03.426Z"
   },
   {
    "duration": 164,
    "start_time": "2022-04-08T13:24:07.114Z"
   },
   {
    "duration": 142,
    "start_time": "2022-04-08T13:52:14.959Z"
   },
   {
    "duration": 883,
    "start_time": "2022-04-08T14:01:02.822Z"
   },
   {
    "duration": 8,
    "start_time": "2022-04-08T14:07:31.076Z"
   },
   {
    "duration": 107,
    "start_time": "2022-04-08T14:21:49.408Z"
   },
   {
    "duration": 2,
    "start_time": "2022-04-08T14:22:14.320Z"
   },
   {
    "duration": 1208,
    "start_time": "2022-04-08T14:25:41.787Z"
   },
   {
    "duration": 779,
    "start_time": "2022-04-08T14:25:42.998Z"
   },
   {
    "duration": 4,
    "start_time": "2022-04-08T14:25:43.779Z"
   },
   {
    "duration": 212,
    "start_time": "2022-04-08T14:25:43.785Z"
   },
   {
    "duration": 67,
    "start_time": "2022-04-08T14:25:44.000Z"
   },
   {
    "duration": 184,
    "start_time": "2022-04-08T14:25:44.068Z"
   },
   {
    "duration": 6,
    "start_time": "2022-04-08T14:30:49.053Z"
   },
   {
    "duration": 4,
    "start_time": "2022-04-08T14:38:53.910Z"
   },
   {
    "duration": 3,
    "start_time": "2022-04-08T14:39:15.606Z"
   },
   {
    "duration": 208,
    "start_time": "2022-04-08T14:45:13.876Z"
   },
   {
    "duration": 219,
    "start_time": "2022-04-08T14:45:36.069Z"
   },
   {
    "duration": 13,
    "start_time": "2022-04-08T14:45:40.708Z"
   },
   {
    "duration": 9,
    "start_time": "2022-04-08T14:46:00.508Z"
   },
   {
    "duration": 20,
    "start_time": "2022-04-08T14:47:47.444Z"
   },
   {
    "duration": 221,
    "start_time": "2022-04-08T14:49:38.464Z"
   },
   {
    "duration": 3032,
    "start_time": "2022-04-08T14:50:25.161Z"
   },
   {
    "duration": 3,
    "start_time": "2022-04-08T14:51:07.994Z"
   },
   {
    "duration": 8,
    "start_time": "2022-04-08T14:51:13.626Z"
   },
   {
    "duration": 7,
    "start_time": "2022-04-08T14:54:12.540Z"
   },
   {
    "duration": 1215,
    "start_time": "2022-04-08T14:55:03.709Z"
   },
   {
    "duration": 772,
    "start_time": "2022-04-08T14:55:04.927Z"
   },
   {
    "duration": 3,
    "start_time": "2022-04-08T14:55:05.701Z"
   },
   {
    "duration": 191,
    "start_time": "2022-04-08T14:55:05.707Z"
   },
   {
    "duration": 67,
    "start_time": "2022-04-08T14:55:05.899Z"
   },
   {
    "duration": 167,
    "start_time": "2022-04-08T14:55:05.968Z"
   },
   {
    "duration": 5,
    "start_time": "2022-04-08T14:55:06.137Z"
   },
   {
    "duration": 19,
    "start_time": "2022-04-08T14:55:06.144Z"
   },
   {
    "duration": 8,
    "start_time": "2022-04-08T14:55:06.165Z"
   },
   {
    "duration": 105,
    "start_time": "2022-04-08T14:56:51.348Z"
   },
   {
    "duration": 7,
    "start_time": "2022-04-08T14:56:55.300Z"
   },
   {
    "duration": 1222,
    "start_time": "2022-04-08T14:57:02.815Z"
   },
   {
    "duration": 788,
    "start_time": "2022-04-08T14:57:04.039Z"
   },
   {
    "duration": 7,
    "start_time": "2022-04-08T14:57:04.830Z"
   },
   {
    "duration": 218,
    "start_time": "2022-04-08T14:57:04.839Z"
   },
   {
    "duration": 75,
    "start_time": "2022-04-08T14:57:05.060Z"
   },
   {
    "duration": 173,
    "start_time": "2022-04-08T14:57:05.141Z"
   },
   {
    "duration": 19,
    "start_time": "2022-04-08T14:57:05.316Z"
   },
   {
    "duration": 28,
    "start_time": "2022-04-08T14:57:05.340Z"
   },
   {
    "duration": 17,
    "start_time": "2022-04-08T14:57:05.370Z"
   },
   {
    "duration": 190,
    "start_time": "2022-04-08T14:57:56.248Z"
   },
   {
    "duration": 13,
    "start_time": "2022-04-08T14:58:01.951Z"
   },
   {
    "duration": 17,
    "start_time": "2022-04-08T14:58:16.341Z"
   },
   {
    "duration": 1246,
    "start_time": "2022-04-08T14:58:31.456Z"
   },
   {
    "duration": 747,
    "start_time": "2022-04-08T14:58:32.704Z"
   },
   {
    "duration": 5,
    "start_time": "2022-04-08T14:58:33.452Z"
   },
   {
    "duration": 204,
    "start_time": "2022-04-08T14:58:33.459Z"
   },
   {
    "duration": 52,
    "start_time": "2022-04-08T14:58:33.665Z"
   },
   {
    "duration": 168,
    "start_time": "2022-04-08T14:58:33.718Z"
   },
   {
    "duration": 3,
    "start_time": "2022-04-08T14:58:33.887Z"
   },
   {
    "duration": 17,
    "start_time": "2022-04-08T14:58:33.892Z"
   },
   {
    "duration": 25,
    "start_time": "2022-04-08T14:58:33.911Z"
   },
   {
    "duration": 1205,
    "start_time": "2022-04-08T15:00:37.618Z"
   },
   {
    "duration": 733,
    "start_time": "2022-04-08T15:00:38.825Z"
   },
   {
    "duration": 4,
    "start_time": "2022-04-08T15:00:39.560Z"
   },
   {
    "duration": 196,
    "start_time": "2022-04-08T15:00:39.565Z"
   },
   {
    "duration": 81,
    "start_time": "2022-04-08T15:00:39.763Z"
   },
   {
    "duration": 166,
    "start_time": "2022-04-08T15:00:39.847Z"
   },
   {
    "duration": 3,
    "start_time": "2022-04-08T15:00:40.015Z"
   },
   {
    "duration": 25,
    "start_time": "2022-04-08T15:00:40.032Z"
   },
   {
    "duration": 5,
    "start_time": "2022-04-08T15:00:40.059Z"
   },
   {
    "duration": 3,
    "start_time": "2022-04-08T15:01:23.468Z"
   },
   {
    "duration": 5,
    "start_time": "2022-04-08T15:05:46.860Z"
   },
   {
    "duration": 110,
    "start_time": "2022-04-08T15:05:51.872Z"
   },
   {
    "duration": 12,
    "start_time": "2022-04-08T15:05:58.304Z"
   },
   {
    "duration": 5,
    "start_time": "2022-04-08T15:06:01.464Z"
   },
   {
    "duration": 9,
    "start_time": "2022-04-08T15:06:05.808Z"
   },
   {
    "duration": 5,
    "start_time": "2022-04-08T15:06:09.072Z"
   },
   {
    "duration": 9,
    "start_time": "2022-04-08T15:06:18.259Z"
   },
   {
    "duration": 5,
    "start_time": "2022-04-08T15:06:25.880Z"
   },
   {
    "duration": 14,
    "start_time": "2022-04-08T15:09:24.459Z"
   },
   {
    "duration": 9,
    "start_time": "2022-04-08T15:09:27.180Z"
   },
   {
    "duration": 9,
    "start_time": "2022-04-08T15:10:42.285Z"
   },
   {
    "duration": 12,
    "start_time": "2022-04-08T15:11:10.918Z"
   },
   {
    "duration": 1222,
    "start_time": "2022-04-08T15:11:49.287Z"
   },
   {
    "duration": 801,
    "start_time": "2022-04-08T15:11:50.511Z"
   },
   {
    "duration": 4,
    "start_time": "2022-04-08T15:11:51.314Z"
   },
   {
    "duration": 200,
    "start_time": "2022-04-08T15:11:51.320Z"
   },
   {
    "duration": 69,
    "start_time": "2022-04-08T15:11:51.523Z"
   },
   {
    "duration": 185,
    "start_time": "2022-04-08T15:11:51.594Z"
   },
   {
    "duration": 3,
    "start_time": "2022-04-08T15:11:51.781Z"
   },
   {
    "duration": 17,
    "start_time": "2022-04-08T15:11:51.786Z"
   },
   {
    "duration": 5,
    "start_time": "2022-04-08T15:11:51.805Z"
   },
   {
    "duration": 149,
    "start_time": "2022-04-08T15:11:51.811Z"
   },
   {
    "duration": 8,
    "start_time": "2022-04-08T15:12:49.971Z"
   },
   {
    "duration": 22,
    "start_time": "2022-04-08T15:15:18.559Z"
   },
   {
    "duration": 22,
    "start_time": "2022-04-08T15:17:47.696Z"
   },
   {
    "duration": 9,
    "start_time": "2022-04-08T15:18:02.961Z"
   },
   {
    "duration": 22,
    "start_time": "2022-04-08T15:18:12.648Z"
   },
   {
    "duration": 12,
    "start_time": "2022-04-08T15:18:35.969Z"
   },
   {
    "duration": 203,
    "start_time": "2022-04-08T15:18:59.810Z"
   },
   {
    "duration": 16,
    "start_time": "2022-04-08T15:19:05.137Z"
   },
   {
    "duration": 5,
    "start_time": "2022-04-08T15:19:11.634Z"
   },
   {
    "duration": 1291,
    "start_time": "2022-04-08T15:19:48.324Z"
   },
   {
    "duration": 847,
    "start_time": "2022-04-08T15:19:49.617Z"
   },
   {
    "duration": 4,
    "start_time": "2022-04-08T15:19:50.466Z"
   },
   {
    "duration": 208,
    "start_time": "2022-04-08T15:19:50.472Z"
   },
   {
    "duration": 75,
    "start_time": "2022-04-08T15:19:50.682Z"
   },
   {
    "duration": 159,
    "start_time": "2022-04-08T15:19:50.759Z"
   },
   {
    "duration": 18,
    "start_time": "2022-04-08T15:19:50.920Z"
   },
   {
    "duration": 24,
    "start_time": "2022-04-08T15:19:50.941Z"
   },
   {
    "duration": 12,
    "start_time": "2022-04-08T15:19:50.967Z"
   },
   {
    "duration": 7,
    "start_time": "2022-04-08T15:19:50.981Z"
   },
   {
    "duration": 10,
    "start_time": "2022-04-08T15:19:50.990Z"
   },
   {
    "duration": 1359,
    "start_time": "2022-04-08T15:20:15.057Z"
   },
   {
    "duration": 823,
    "start_time": "2022-04-08T15:20:16.418Z"
   },
   {
    "duration": 4,
    "start_time": "2022-04-08T15:20:17.245Z"
   },
   {
    "duration": 215,
    "start_time": "2022-04-08T15:20:17.251Z"
   },
   {
    "duration": 51,
    "start_time": "2022-04-08T15:20:17.469Z"
   },
   {
    "duration": 174,
    "start_time": "2022-04-08T15:20:17.522Z"
   },
   {
    "duration": 3,
    "start_time": "2022-04-08T15:20:17.698Z"
   },
   {
    "duration": 39,
    "start_time": "2022-04-08T15:20:17.702Z"
   },
   {
    "duration": 6,
    "start_time": "2022-04-08T15:20:17.745Z"
   },
   {
    "duration": 18,
    "start_time": "2022-04-08T15:20:17.755Z"
   },
   {
    "duration": 10,
    "start_time": "2022-04-08T15:20:17.775Z"
   },
   {
    "duration": 193,
    "start_time": "2022-04-08T15:33:51.294Z"
   },
   {
    "duration": 4,
    "start_time": "2022-04-08T15:34:06.176Z"
   },
   {
    "duration": 4,
    "start_time": "2022-04-08T15:34:19.255Z"
   },
   {
    "duration": 110,
    "start_time": "2022-04-08T15:34:26.998Z"
   },
   {
    "duration": 12,
    "start_time": "2022-04-08T15:34:33.072Z"
   },
   {
    "duration": 10,
    "start_time": "2022-04-08T15:34:38.719Z"
   },
   {
    "duration": 10,
    "start_time": "2022-04-08T15:34:42.448Z"
   },
   {
    "duration": 20,
    "start_time": "2022-04-08T15:34:59.448Z"
   },
   {
    "duration": 14,
    "start_time": "2022-04-08T15:35:14.991Z"
   },
   {
    "duration": 1337,
    "start_time": "2022-04-08T15:35:25.473Z"
   },
   {
    "duration": 807,
    "start_time": "2022-04-08T15:35:26.812Z"
   },
   {
    "duration": 4,
    "start_time": "2022-04-08T15:35:27.621Z"
   },
   {
    "duration": 214,
    "start_time": "2022-04-08T15:35:27.627Z"
   },
   {
    "duration": 56,
    "start_time": "2022-04-08T15:35:27.844Z"
   },
   {
    "duration": 178,
    "start_time": "2022-04-08T15:35:27.903Z"
   },
   {
    "duration": 3,
    "start_time": "2022-04-08T15:35:28.083Z"
   },
   {
    "duration": 30,
    "start_time": "2022-04-08T15:35:28.088Z"
   },
   {
    "duration": 10,
    "start_time": "2022-04-08T15:35:28.132Z"
   },
   {
    "duration": 23,
    "start_time": "2022-04-08T15:35:28.144Z"
   },
   {
    "duration": 126,
    "start_time": "2022-04-08T15:35:28.169Z"
   },
   {
    "duration": 0,
    "start_time": "2022-04-08T15:35:28.297Z"
   },
   {
    "duration": 8,
    "start_time": "2022-04-08T15:39:59.650Z"
   },
   {
    "duration": 8,
    "start_time": "2022-04-08T15:42:25.421Z"
   },
   {
    "duration": 4,
    "start_time": "2022-04-08T15:42:50.753Z"
   },
   {
    "duration": 4,
    "start_time": "2022-04-08T15:42:57.325Z"
   },
   {
    "duration": 10,
    "start_time": "2022-04-08T15:43:09.462Z"
   },
   {
    "duration": 12,
    "start_time": "2022-04-08T15:43:30.714Z"
   },
   {
    "duration": 12,
    "start_time": "2022-04-08T15:45:03.328Z"
   },
   {
    "duration": 9,
    "start_time": "2022-04-08T18:17:09.327Z"
   },
   {
    "duration": 4,
    "start_time": "2022-04-08T18:17:14.848Z"
   },
   {
    "duration": 8,
    "start_time": "2022-04-08T18:17:42.167Z"
   },
   {
    "duration": 4,
    "start_time": "2022-04-08T18:17:45.512Z"
   },
   {
    "duration": 13,
    "start_time": "2022-04-08T18:17:46.839Z"
   },
   {
    "duration": 489,
    "start_time": "2022-04-08T18:18:54.505Z"
   },
   {
    "duration": 1700,
    "start_time": "2022-04-08T18:19:23.411Z"
   },
   {
    "duration": 729,
    "start_time": "2022-04-08T18:19:25.113Z"
   },
   {
    "duration": 3,
    "start_time": "2022-04-08T18:19:25.844Z"
   },
   {
    "duration": 182,
    "start_time": "2022-04-08T18:19:25.849Z"
   },
   {
    "duration": 55,
    "start_time": "2022-04-08T18:19:26.033Z"
   },
   {
    "duration": 170,
    "start_time": "2022-04-08T18:19:26.090Z"
   },
   {
    "duration": 3,
    "start_time": "2022-04-08T18:19:26.261Z"
   },
   {
    "duration": 23,
    "start_time": "2022-04-08T18:19:26.266Z"
   },
   {
    "duration": 6,
    "start_time": "2022-04-08T18:19:26.290Z"
   },
   {
    "duration": 6,
    "start_time": "2022-04-08T18:19:26.298Z"
   },
   {
    "duration": 32,
    "start_time": "2022-04-08T18:19:26.305Z"
   },
   {
    "duration": 7,
    "start_time": "2022-04-08T18:19:26.338Z"
   },
   {
    "duration": 10,
    "start_time": "2022-04-08T18:19:26.346Z"
   },
   {
    "duration": 18,
    "start_time": "2022-04-08T18:19:26.357Z"
   },
   {
    "duration": 6,
    "start_time": "2022-04-08T18:19:26.377Z"
   },
   {
    "duration": 67,
    "start_time": "2022-04-08T18:20:00.044Z"
   },
   {
    "duration": 1527,
    "start_time": "2022-04-08T18:20:00.158Z"
   },
   {
    "duration": 780,
    "start_time": "2022-04-08T18:20:01.687Z"
   },
   {
    "duration": 4,
    "start_time": "2022-04-08T18:20:02.470Z"
   },
   {
    "duration": 206,
    "start_time": "2022-04-08T18:20:02.476Z"
   },
   {
    "duration": 73,
    "start_time": "2022-04-08T18:20:02.684Z"
   },
   {
    "duration": 177,
    "start_time": "2022-04-08T18:20:02.759Z"
   },
   {
    "duration": 4,
    "start_time": "2022-04-08T18:20:02.938Z"
   },
   {
    "duration": 22,
    "start_time": "2022-04-08T18:20:02.943Z"
   },
   {
    "duration": 6,
    "start_time": "2022-04-08T18:20:02.967Z"
   },
   {
    "duration": 7,
    "start_time": "2022-04-08T18:20:02.976Z"
   },
   {
    "duration": 14,
    "start_time": "2022-04-08T18:20:02.984Z"
   },
   {
    "duration": 7,
    "start_time": "2022-04-08T18:20:03.031Z"
   },
   {
    "duration": 14,
    "start_time": "2022-04-08T18:20:03.040Z"
   },
   {
    "duration": 35,
    "start_time": "2022-04-08T18:20:03.056Z"
   },
   {
    "duration": 11,
    "start_time": "2022-04-08T18:20:03.093Z"
   },
   {
    "duration": 9,
    "start_time": "2022-04-08T18:20:03.106Z"
   },
   {
    "duration": 12,
    "start_time": "2022-04-08T18:20:09.584Z"
   },
   {
    "duration": 60,
    "start_time": "2022-04-08T18:21:11.593Z"
   },
   {
    "duration": 160,
    "start_time": "2022-04-08T18:21:38.073Z"
   },
   {
    "duration": 75,
    "start_time": "2022-04-08T18:27:29.168Z"
   },
   {
    "duration": 623,
    "start_time": "2022-04-08T18:28:59.159Z"
   },
   {
    "duration": 10,
    "start_time": "2022-04-08T18:29:23.094Z"
   },
   {
    "duration": 9,
    "start_time": "2022-04-08T18:29:57.102Z"
   },
   {
    "duration": 10,
    "start_time": "2022-04-08T18:30:28.567Z"
   },
   {
    "duration": 625,
    "start_time": "2022-04-08T18:30:35.231Z"
   },
   {
    "duration": 20,
    "start_time": "2022-04-08T18:33:13.763Z"
   },
   {
    "duration": 204,
    "start_time": "2022-04-08T18:34:09.012Z"
   },
   {
    "duration": 121,
    "start_time": "2022-04-08T18:34:27.155Z"
   },
   {
    "duration": 223,
    "start_time": "2022-04-08T18:34:50.748Z"
   },
   {
    "duration": 154,
    "start_time": "2022-04-08T18:37:27.710Z"
   },
   {
    "duration": 151,
    "start_time": "2022-04-08T18:37:36.414Z"
   },
   {
    "duration": 15,
    "start_time": "2022-04-08T18:38:08.095Z"
   },
   {
    "duration": 16,
    "start_time": "2022-04-08T18:38:37.040Z"
   },
   {
    "duration": 149,
    "start_time": "2022-04-08T18:38:45.048Z"
   },
   {
    "duration": 148,
    "start_time": "2022-04-08T18:39:06.384Z"
   },
   {
    "duration": 154,
    "start_time": "2022-04-08T18:39:13.400Z"
   },
   {
    "duration": 147,
    "start_time": "2022-04-08T18:39:18.776Z"
   },
   {
    "duration": 3,
    "start_time": "2022-04-08T18:54:14.792Z"
   },
   {
    "duration": 4,
    "start_time": "2022-04-08T18:58:09.116Z"
   },
   {
    "duration": 5,
    "start_time": "2022-04-08T19:02:06.432Z"
   },
   {
    "duration": 241,
    "start_time": "2022-04-08T19:03:57.065Z"
   },
   {
    "duration": 1545,
    "start_time": "2022-04-08T19:04:56.654Z"
   },
   {
    "duration": 722,
    "start_time": "2022-04-08T19:04:58.201Z"
   },
   {
    "duration": 3,
    "start_time": "2022-04-08T19:04:58.925Z"
   },
   {
    "duration": 173,
    "start_time": "2022-04-08T19:04:58.931Z"
   },
   {
    "duration": 63,
    "start_time": "2022-04-08T19:04:59.106Z"
   },
   {
    "duration": 148,
    "start_time": "2022-04-08T19:04:59.171Z"
   },
   {
    "duration": 11,
    "start_time": "2022-04-08T19:04:59.321Z"
   },
   {
    "duration": 20,
    "start_time": "2022-04-08T19:04:59.334Z"
   },
   {
    "duration": 6,
    "start_time": "2022-04-08T19:04:59.356Z"
   },
   {
    "duration": 7,
    "start_time": "2022-04-08T19:04:59.365Z"
   },
   {
    "duration": 8,
    "start_time": "2022-04-08T19:04:59.374Z"
   },
   {
    "duration": 9,
    "start_time": "2022-04-08T19:04:59.384Z"
   },
   {
    "duration": 42,
    "start_time": "2022-04-08T19:04:59.394Z"
   },
   {
    "duration": 11,
    "start_time": "2022-04-08T19:04:59.438Z"
   },
   {
    "duration": 5,
    "start_time": "2022-04-08T19:04:59.451Z"
   },
   {
    "duration": 527,
    "start_time": "2022-04-08T19:04:59.457Z"
   },
   {
    "duration": 4,
    "start_time": "2022-04-08T19:05:23.267Z"
   },
   {
    "duration": 332,
    "start_time": "2022-04-08T19:05:26.490Z"
   },
   {
    "duration": 4,
    "start_time": "2022-04-08T19:06:12.862Z"
   },
   {
    "duration": 594,
    "start_time": "2022-04-08T19:06:15.543Z"
   },
   {
    "duration": 4,
    "start_time": "2022-04-08T19:06:24.944Z"
   },
   {
    "duration": 4,
    "start_time": "2022-04-08T19:06:26.134Z"
   },
   {
    "duration": 494,
    "start_time": "2022-04-08T19:06:28.342Z"
   },
   {
    "duration": 4,
    "start_time": "2022-04-08T19:06:34.430Z"
   },
   {
    "duration": 521,
    "start_time": "2022-04-08T19:06:36.103Z"
   },
   {
    "duration": 4,
    "start_time": "2022-04-08T19:06:44.150Z"
   },
   {
    "duration": 633,
    "start_time": "2022-04-08T19:06:45.310Z"
   },
   {
    "duration": 4,
    "start_time": "2022-04-08T19:06:51.559Z"
   },
   {
    "duration": 484,
    "start_time": "2022-04-08T19:06:52.670Z"
   },
   {
    "duration": 4,
    "start_time": "2022-04-08T19:11:33.108Z"
   },
   {
    "duration": 616,
    "start_time": "2022-04-08T19:12:07.068Z"
   },
   {
    "duration": 521,
    "start_time": "2022-04-08T19:12:25.029Z"
   },
   {
    "duration": 250,
    "start_time": "2022-04-08T19:12:28.813Z"
   },
   {
    "duration": 497,
    "start_time": "2022-04-08T19:13:36.253Z"
   },
   {
    "duration": 1543,
    "start_time": "2022-04-08T19:13:49.129Z"
   },
   {
    "duration": 708,
    "start_time": "2022-04-08T19:13:50.674Z"
   },
   {
    "duration": 3,
    "start_time": "2022-04-08T19:13:51.384Z"
   },
   {
    "duration": 179,
    "start_time": "2022-04-08T19:13:51.390Z"
   },
   {
    "duration": 68,
    "start_time": "2022-04-08T19:13:51.570Z"
   },
   {
    "duration": 147,
    "start_time": "2022-04-08T19:13:51.639Z"
   },
   {
    "duration": 3,
    "start_time": "2022-04-08T19:13:51.788Z"
   },
   {
    "duration": 18,
    "start_time": "2022-04-08T19:13:51.793Z"
   },
   {
    "duration": 23,
    "start_time": "2022-04-08T19:13:51.813Z"
   },
   {
    "duration": 4,
    "start_time": "2022-04-08T19:13:51.840Z"
   },
   {
    "duration": 10,
    "start_time": "2022-04-08T19:13:51.846Z"
   },
   {
    "duration": 9,
    "start_time": "2022-04-08T19:13:51.858Z"
   },
   {
    "duration": 11,
    "start_time": "2022-04-08T19:13:51.869Z"
   },
   {
    "duration": 11,
    "start_time": "2022-04-08T19:13:51.882Z"
   },
   {
    "duration": 38,
    "start_time": "2022-04-08T19:13:51.895Z"
   },
   {
    "duration": 119,
    "start_time": "2022-04-08T19:13:51.936Z"
   },
   {
    "duration": 4,
    "start_time": "2022-04-08T19:14:14.828Z"
   },
   {
    "duration": 515,
    "start_time": "2022-04-08T19:14:15.844Z"
   },
   {
    "duration": 599,
    "start_time": "2022-04-08T19:22:33.479Z"
   },
   {
    "duration": 211,
    "start_time": "2022-04-08T19:23:26.207Z"
   },
   {
    "duration": 521,
    "start_time": "2022-04-08T19:23:56.032Z"
   },
   {
    "duration": 1054,
    "start_time": "2022-04-08T19:35:57.599Z"
   },
   {
    "duration": 3,
    "start_time": "2022-04-08T19:38:10.080Z"
   },
   {
    "duration": 4,
    "start_time": "2022-04-08T19:38:12.825Z"
   },
   {
    "duration": 706,
    "start_time": "2022-04-08T19:38:12.831Z"
   },
   {
    "duration": 4,
    "start_time": "2022-04-08T19:38:13.539Z"
   },
   {
    "duration": 174,
    "start_time": "2022-04-08T19:38:13.544Z"
   },
   {
    "duration": 60,
    "start_time": "2022-04-08T19:38:13.721Z"
   },
   {
    "duration": 150,
    "start_time": "2022-04-08T19:38:13.783Z"
   },
   {
    "duration": 3,
    "start_time": "2022-04-08T19:38:13.935Z"
   },
   {
    "duration": 16,
    "start_time": "2022-04-08T19:38:13.940Z"
   },
   {
    "duration": 6,
    "start_time": "2022-04-08T19:38:13.957Z"
   },
   {
    "duration": 9,
    "start_time": "2022-04-08T19:38:13.965Z"
   },
   {
    "duration": 13,
    "start_time": "2022-04-08T19:38:13.976Z"
   },
   {
    "duration": 9,
    "start_time": "2022-04-08T19:38:13.991Z"
   },
   {
    "duration": 11,
    "start_time": "2022-04-08T19:38:14.032Z"
   },
   {
    "duration": 12,
    "start_time": "2022-04-08T19:38:14.046Z"
   },
   {
    "duration": 8,
    "start_time": "2022-04-08T19:38:14.060Z"
   },
   {
    "duration": 13,
    "start_time": "2022-04-08T19:38:14.070Z"
   },
   {
    "duration": 513,
    "start_time": "2022-04-08T19:38:14.084Z"
   },
   {
    "duration": 491,
    "start_time": "2022-04-08T19:38:14.599Z"
   },
   {
    "duration": 628,
    "start_time": "2022-04-08T19:38:15.092Z"
   },
   {
    "duration": 16,
    "start_time": "2022-04-08T19:38:15.722Z"
   },
   {
    "duration": 213,
    "start_time": "2022-04-08T19:40:59.171Z"
   },
   {
    "duration": 305,
    "start_time": "2022-04-08T19:41:05.635Z"
   },
   {
    "duration": 140,
    "start_time": "2022-04-08T19:42:05.581Z"
   },
   {
    "duration": 295,
    "start_time": "2022-04-08T19:42:40.678Z"
   },
   {
    "duration": 399,
    "start_time": "2022-04-08T19:42:52.550Z"
   },
   {
    "duration": 304,
    "start_time": "2022-04-08T19:42:59.749Z"
   },
   {
    "duration": 299,
    "start_time": "2022-04-08T19:43:05.006Z"
   },
   {
    "duration": 295,
    "start_time": "2022-04-08T19:43:10.134Z"
   },
   {
    "duration": 282,
    "start_time": "2022-04-08T19:43:15.606Z"
   },
   {
    "duration": 301,
    "start_time": "2022-04-08T19:43:25.430Z"
   },
   {
    "duration": 455,
    "start_time": "2022-04-08T19:43:30.991Z"
   },
   {
    "duration": 298,
    "start_time": "2022-04-08T19:43:35.271Z"
   },
   {
    "duration": 297,
    "start_time": "2022-04-08T19:43:39.918Z"
   },
   {
    "duration": 328,
    "start_time": "2022-04-08T19:43:42.103Z"
   },
   {
    "duration": 325,
    "start_time": "2022-04-08T19:43:46.157Z"
   },
   {
    "duration": 426,
    "start_time": "2022-04-08T19:43:53.071Z"
   },
   {
    "duration": 300,
    "start_time": "2022-04-08T19:43:59.286Z"
   },
   {
    "duration": 313,
    "start_time": "2022-04-08T19:44:04.398Z"
   },
   {
    "duration": 306,
    "start_time": "2022-04-08T19:44:09.799Z"
   },
   {
    "duration": 11,
    "start_time": "2022-04-08T19:44:41.024Z"
   },
   {
    "duration": 583,
    "start_time": "2022-04-08T19:44:46.943Z"
   },
   {
    "duration": 306,
    "start_time": "2022-04-08T19:45:07.608Z"
   },
   {
    "duration": 651,
    "start_time": "2022-04-08T19:47:06.017Z"
   },
   {
    "duration": 1636,
    "start_time": "2022-04-08T19:47:13.923Z"
   },
   {
    "duration": 760,
    "start_time": "2022-04-08T19:47:15.562Z"
   },
   {
    "duration": 3,
    "start_time": "2022-04-08T19:47:16.324Z"
   },
   {
    "duration": 187,
    "start_time": "2022-04-08T19:47:16.336Z"
   },
   {
    "duration": 63,
    "start_time": "2022-04-08T19:47:16.525Z"
   },
   {
    "duration": 162,
    "start_time": "2022-04-08T19:47:16.590Z"
   },
   {
    "duration": 2,
    "start_time": "2022-04-08T19:47:16.754Z"
   },
   {
    "duration": 16,
    "start_time": "2022-04-08T19:47:16.759Z"
   },
   {
    "duration": 6,
    "start_time": "2022-04-08T19:47:16.777Z"
   },
   {
    "duration": 10,
    "start_time": "2022-04-08T19:47:16.786Z"
   },
   {
    "duration": 38,
    "start_time": "2022-04-08T19:47:16.798Z"
   },
   {
    "duration": 8,
    "start_time": "2022-04-08T19:47:16.839Z"
   },
   {
    "duration": 15,
    "start_time": "2022-04-08T19:47:16.848Z"
   },
   {
    "duration": 13,
    "start_time": "2022-04-08T19:47:16.865Z"
   },
   {
    "duration": 7,
    "start_time": "2022-04-08T19:47:16.880Z"
   },
   {
    "duration": 6,
    "start_time": "2022-04-08T19:47:16.889Z"
   },
   {
    "duration": 562,
    "start_time": "2022-04-08T19:47:16.897Z"
   },
   {
    "duration": 599,
    "start_time": "2022-04-08T19:47:17.461Z"
   },
   {
    "duration": 538,
    "start_time": "2022-04-08T19:47:18.062Z"
   },
   {
    "duration": 351,
    "start_time": "2022-04-08T19:47:18.602Z"
   },
   {
    "duration": 125,
    "start_time": "2022-04-08T19:48:06.260Z"
   },
   {
    "duration": 772,
    "start_time": "2022-04-08T19:48:13.380Z"
   },
   {
    "duration": 622,
    "start_time": "2022-04-08T19:48:32.485Z"
   },
   {
    "duration": 770,
    "start_time": "2022-04-08T19:48:39.877Z"
   },
   {
    "duration": 45,
    "start_time": "2022-04-11T11:43:47.578Z"
   },
   {
    "duration": 1509,
    "start_time": "2022-04-11T11:43:55.790Z"
   },
   {
    "duration": 608,
    "start_time": "2022-04-11T11:43:57.301Z"
   },
   {
    "duration": 3,
    "start_time": "2022-04-11T11:43:57.911Z"
   },
   {
    "duration": 160,
    "start_time": "2022-04-11T11:43:57.916Z"
   },
   {
    "duration": 45,
    "start_time": "2022-04-11T11:43:58.078Z"
   },
   {
    "duration": 148,
    "start_time": "2022-04-11T11:43:58.125Z"
   },
   {
    "duration": 3,
    "start_time": "2022-04-11T11:43:58.276Z"
   },
   {
    "duration": 16,
    "start_time": "2022-04-11T11:43:58.280Z"
   },
   {
    "duration": 17,
    "start_time": "2022-04-11T11:43:58.298Z"
   },
   {
    "duration": 9,
    "start_time": "2022-04-11T11:43:58.319Z"
   },
   {
    "duration": 22,
    "start_time": "2022-04-11T11:43:58.330Z"
   },
   {
    "duration": 23,
    "start_time": "2022-04-11T11:43:58.354Z"
   },
   {
    "duration": 14,
    "start_time": "2022-04-11T11:43:58.378Z"
   },
   {
    "duration": 19,
    "start_time": "2022-04-11T11:43:58.394Z"
   },
   {
    "duration": 18,
    "start_time": "2022-04-11T11:43:58.414Z"
   },
   {
    "duration": 8,
    "start_time": "2022-04-11T11:43:58.434Z"
   },
   {
    "duration": 441,
    "start_time": "2022-04-11T11:43:58.444Z"
   },
   {
    "duration": 476,
    "start_time": "2022-04-11T11:43:58.887Z"
   },
   {
    "duration": 425,
    "start_time": "2022-04-11T11:43:59.365Z"
   },
   {
    "duration": 555,
    "start_time": "2022-04-11T11:43:59.792Z"
   },
   {
    "duration": 9,
    "start_time": "2022-04-11T11:44:00.349Z"
   },
   {
    "duration": 8,
    "start_time": "2022-04-11T11:46:32.953Z"
   },
   {
    "duration": 114,
    "start_time": "2022-04-11T11:47:15.828Z"
   },
   {
    "duration": 10,
    "start_time": "2022-04-11T11:47:17.729Z"
   },
   {
    "duration": 11,
    "start_time": "2022-04-11T11:47:22.540Z"
   },
   {
    "duration": 6,
    "start_time": "2022-04-11T11:47:25.524Z"
   },
   {
    "duration": 1417,
    "start_time": "2022-04-11T12:04:51.981Z"
   },
   {
    "duration": 639,
    "start_time": "2022-04-11T12:04:53.400Z"
   },
   {
    "duration": 4,
    "start_time": "2022-04-11T12:04:54.040Z"
   },
   {
    "duration": 163,
    "start_time": "2022-04-11T12:04:54.045Z"
   },
   {
    "duration": 57,
    "start_time": "2022-04-11T12:04:54.209Z"
   },
   {
    "duration": 133,
    "start_time": "2022-04-11T12:04:54.267Z"
   },
   {
    "duration": 3,
    "start_time": "2022-04-11T12:04:54.401Z"
   },
   {
    "duration": 18,
    "start_time": "2022-04-11T12:04:54.405Z"
   },
   {
    "duration": 25,
    "start_time": "2022-04-11T12:04:54.424Z"
   },
   {
    "duration": 6,
    "start_time": "2022-04-11T12:04:54.451Z"
   },
   {
    "duration": 8,
    "start_time": "2022-04-11T12:04:54.458Z"
   },
   {
    "duration": 15,
    "start_time": "2022-04-11T12:04:54.467Z"
   },
   {
    "duration": 12,
    "start_time": "2022-04-11T12:04:54.484Z"
   },
   {
    "duration": 11,
    "start_time": "2022-04-11T12:04:54.498Z"
   },
   {
    "duration": 7,
    "start_time": "2022-04-11T12:04:54.511Z"
   },
   {
    "duration": 4,
    "start_time": "2022-04-11T12:04:54.548Z"
   },
   {
    "duration": 449,
    "start_time": "2022-04-11T12:04:54.554Z"
   },
   {
    "duration": 525,
    "start_time": "2022-04-11T12:04:55.004Z"
   },
   {
    "duration": 435,
    "start_time": "2022-04-11T12:04:55.530Z"
   },
   {
    "duration": 591,
    "start_time": "2022-04-11T12:04:55.967Z"
   },
   {
    "duration": 9,
    "start_time": "2022-04-11T12:04:56.560Z"
   },
   {
    "duration": 16,
    "start_time": "2022-04-11T12:04:56.571Z"
   },
   {
    "duration": 109,
    "start_time": "2022-04-11T12:04:56.589Z"
   },
   {
    "duration": 119,
    "start_time": "2022-04-11T12:07:24.539Z"
   },
   {
    "duration": 155,
    "start_time": "2022-04-11T12:07:27.118Z"
   },
   {
    "duration": 125,
    "start_time": "2022-04-11T12:08:08.042Z"
   },
   {
    "duration": 140,
    "start_time": "2022-04-11T12:09:20.395Z"
   },
   {
    "duration": 258,
    "start_time": "2022-04-11T12:09:28.594Z"
   },
   {
    "duration": 165,
    "start_time": "2022-04-11T12:10:43.368Z"
   },
   {
    "duration": 168,
    "start_time": "2022-04-11T12:13:32.139Z"
   },
   {
    "duration": 188,
    "start_time": "2022-04-11T12:13:56.271Z"
   },
   {
    "duration": 286,
    "start_time": "2022-04-11T12:14:03.042Z"
   },
   {
    "duration": 183,
    "start_time": "2022-04-11T12:16:19.836Z"
   },
   {
    "duration": 173,
    "start_time": "2022-04-11T12:16:35.642Z"
   },
   {
    "duration": 174,
    "start_time": "2022-04-11T12:17:33.182Z"
   },
   {
    "duration": 175,
    "start_time": "2022-04-11T12:18:02.131Z"
   },
   {
    "duration": 204,
    "start_time": "2022-04-11T12:18:52.427Z"
   },
   {
    "duration": 180,
    "start_time": "2022-04-11T12:19:02.406Z"
   },
   {
    "duration": 1484,
    "start_time": "2022-04-11T12:25:46.447Z"
   },
   {
    "duration": 639,
    "start_time": "2022-04-11T12:25:47.933Z"
   },
   {
    "duration": 4,
    "start_time": "2022-04-11T12:25:48.574Z"
   },
   {
    "duration": 161,
    "start_time": "2022-04-11T12:25:48.580Z"
   },
   {
    "duration": 49,
    "start_time": "2022-04-11T12:25:48.747Z"
   },
   {
    "duration": 150,
    "start_time": "2022-04-11T12:25:48.798Z"
   },
   {
    "duration": 3,
    "start_time": "2022-04-11T12:25:48.950Z"
   },
   {
    "duration": 19,
    "start_time": "2022-04-11T12:25:48.955Z"
   },
   {
    "duration": 6,
    "start_time": "2022-04-11T12:25:48.975Z"
   },
   {
    "duration": 7,
    "start_time": "2022-04-11T12:25:48.984Z"
   },
   {
    "duration": 10,
    "start_time": "2022-04-11T12:25:48.993Z"
   },
   {
    "duration": 12,
    "start_time": "2022-04-11T12:25:49.005Z"
   },
   {
    "duration": 31,
    "start_time": "2022-04-11T12:25:49.019Z"
   },
   {
    "duration": 12,
    "start_time": "2022-04-11T12:25:49.052Z"
   },
   {
    "duration": 20,
    "start_time": "2022-04-11T12:25:49.066Z"
   },
   {
    "duration": 17,
    "start_time": "2022-04-11T12:25:49.088Z"
   },
   {
    "duration": 423,
    "start_time": "2022-04-11T12:25:49.107Z"
   },
   {
    "duration": 511,
    "start_time": "2022-04-11T12:25:49.531Z"
   },
   {
    "duration": 423,
    "start_time": "2022-04-11T12:25:50.048Z"
   },
   {
    "duration": 577,
    "start_time": "2022-04-11T12:25:50.474Z"
   },
   {
    "duration": 12,
    "start_time": "2022-04-11T12:25:51.053Z"
   },
   {
    "duration": 15,
    "start_time": "2022-04-11T12:25:51.067Z"
   },
   {
    "duration": 202,
    "start_time": "2022-04-11T12:25:51.083Z"
   },
   {
    "duration": 193,
    "start_time": "2022-04-11T12:25:51.287Z"
   },
   {
    "duration": 180,
    "start_time": "2022-04-11T12:27:12.468Z"
   },
   {
    "duration": 216,
    "start_time": "2022-04-11T12:27:19.943Z"
   },
   {
    "duration": 363,
    "start_time": "2022-04-11T12:28:26.772Z"
   },
   {
    "duration": 162,
    "start_time": "2022-04-11T12:28:50.959Z"
   },
   {
    "duration": 175,
    "start_time": "2022-04-11T12:30:31.463Z"
   },
   {
    "duration": 1354,
    "start_time": "2022-04-11T12:32:47.904Z"
   },
   {
    "duration": 627,
    "start_time": "2022-04-11T12:32:49.260Z"
   },
   {
    "duration": 3,
    "start_time": "2022-04-11T12:32:49.889Z"
   },
   {
    "duration": 159,
    "start_time": "2022-04-11T12:32:49.894Z"
   },
   {
    "duration": 46,
    "start_time": "2022-04-11T12:32:50.055Z"
   },
   {
    "duration": 148,
    "start_time": "2022-04-11T12:32:50.102Z"
   },
   {
    "duration": 2,
    "start_time": "2022-04-11T12:32:50.252Z"
   },
   {
    "duration": 18,
    "start_time": "2022-04-11T12:32:50.256Z"
   },
   {
    "duration": 5,
    "start_time": "2022-04-11T12:32:50.275Z"
   },
   {
    "duration": 5,
    "start_time": "2022-04-11T12:32:50.282Z"
   },
   {
    "duration": 14,
    "start_time": "2022-04-11T12:32:50.288Z"
   },
   {
    "duration": 9,
    "start_time": "2022-04-11T12:32:50.303Z"
   },
   {
    "duration": 11,
    "start_time": "2022-04-11T12:32:50.314Z"
   },
   {
    "duration": 27,
    "start_time": "2022-04-11T12:32:50.327Z"
   },
   {
    "duration": 4,
    "start_time": "2022-04-11T12:32:50.356Z"
   },
   {
    "duration": 6,
    "start_time": "2022-04-11T12:32:50.361Z"
   },
   {
    "duration": 438,
    "start_time": "2022-04-11T12:32:50.369Z"
   },
   {
    "duration": 490,
    "start_time": "2022-04-11T12:32:50.808Z"
   },
   {
    "duration": 402,
    "start_time": "2022-04-11T12:32:51.300Z"
   },
   {
    "duration": 524,
    "start_time": "2022-04-11T12:32:51.703Z"
   },
   {
    "duration": 19,
    "start_time": "2022-04-11T12:32:52.228Z"
   },
   {
    "duration": 9,
    "start_time": "2022-04-11T12:32:52.249Z"
   },
   {
    "duration": 188,
    "start_time": "2022-04-11T12:32:52.259Z"
   },
   {
    "duration": 226,
    "start_time": "2022-04-11T12:32:52.449Z"
   },
   {
    "duration": 179,
    "start_time": "2022-04-11T12:32:52.677Z"
   },
   {
    "duration": 271,
    "start_time": "2022-04-11T12:34:59.089Z"
   },
   {
    "duration": 100,
    "start_time": "2022-04-11T12:41:38.412Z"
   },
   {
    "duration": 23,
    "start_time": "2022-04-11T12:48:26.631Z"
   },
   {
    "duration": 21,
    "start_time": "2022-04-11T12:50:55.407Z"
   },
   {
    "duration": 5,
    "start_time": "2022-04-11T12:51:45.969Z"
   },
   {
    "duration": 5,
    "start_time": "2022-04-11T12:51:57.549Z"
   },
   {
    "duration": 4,
    "start_time": "2022-04-11T12:52:50.557Z"
   },
   {
    "duration": 22,
    "start_time": "2022-04-11T12:55:28.198Z"
   },
   {
    "duration": 1402,
    "start_time": "2022-04-11T12:56:05.811Z"
   },
   {
    "duration": 659,
    "start_time": "2022-04-11T12:56:07.215Z"
   },
   {
    "duration": 3,
    "start_time": "2022-04-11T12:56:07.876Z"
   },
   {
    "duration": 160,
    "start_time": "2022-04-11T12:56:07.881Z"
   },
   {
    "duration": 49,
    "start_time": "2022-04-11T12:56:08.043Z"
   },
   {
    "duration": 150,
    "start_time": "2022-04-11T12:56:08.094Z"
   },
   {
    "duration": 3,
    "start_time": "2022-04-11T12:56:08.247Z"
   },
   {
    "duration": 20,
    "start_time": "2022-04-11T12:56:08.251Z"
   },
   {
    "duration": 5,
    "start_time": "2022-04-11T12:56:08.272Z"
   },
   {
    "duration": 5,
    "start_time": "2022-04-11T12:56:08.279Z"
   },
   {
    "duration": 8,
    "start_time": "2022-04-11T12:56:08.286Z"
   },
   {
    "duration": 12,
    "start_time": "2022-04-11T12:56:08.296Z"
   },
   {
    "duration": 16,
    "start_time": "2022-04-11T12:56:08.309Z"
   },
   {
    "duration": 10,
    "start_time": "2022-04-11T12:56:08.348Z"
   },
   {
    "duration": 14,
    "start_time": "2022-04-11T12:56:08.359Z"
   },
   {
    "duration": 5,
    "start_time": "2022-04-11T12:56:08.375Z"
   },
   {
    "duration": 481,
    "start_time": "2022-04-11T12:56:08.382Z"
   },
   {
    "duration": 546,
    "start_time": "2022-04-11T12:56:08.865Z"
   },
   {
    "duration": 469,
    "start_time": "2022-04-11T12:56:09.413Z"
   },
   {
    "duration": 582,
    "start_time": "2022-04-11T12:56:09.885Z"
   },
   {
    "duration": 11,
    "start_time": "2022-04-11T12:56:10.469Z"
   },
   {
    "duration": 11,
    "start_time": "2022-04-11T12:56:10.481Z"
   },
   {
    "duration": 223,
    "start_time": "2022-04-11T12:56:10.494Z"
   },
   {
    "duration": 250,
    "start_time": "2022-04-11T12:56:10.718Z"
   },
   {
    "duration": 209,
    "start_time": "2022-04-11T12:56:10.969Z"
   },
   {
    "duration": 305,
    "start_time": "2022-04-11T12:56:11.180Z"
   },
   {
    "duration": 5,
    "start_time": "2022-04-11T12:56:11.487Z"
   },
   {
    "duration": 134,
    "start_time": "2022-04-11T12:56:11.494Z"
   },
   {
    "duration": 25,
    "start_time": "2022-04-11T13:01:42.295Z"
   },
   {
    "duration": 1489,
    "start_time": "2022-04-11T13:04:13.829Z"
   },
   {
    "duration": 630,
    "start_time": "2022-04-11T13:04:15.320Z"
   },
   {
    "duration": 3,
    "start_time": "2022-04-11T13:04:15.952Z"
   },
   {
    "duration": 198,
    "start_time": "2022-04-11T13:04:15.957Z"
   },
   {
    "duration": 44,
    "start_time": "2022-04-11T13:04:16.157Z"
   },
   {
    "duration": 145,
    "start_time": "2022-04-11T13:04:16.203Z"
   },
   {
    "duration": 3,
    "start_time": "2022-04-11T13:04:16.350Z"
   },
   {
    "duration": 34,
    "start_time": "2022-04-11T13:04:16.354Z"
   },
   {
    "duration": 16,
    "start_time": "2022-04-11T13:04:16.389Z"
   },
   {
    "duration": 8,
    "start_time": "2022-04-11T13:04:16.408Z"
   },
   {
    "duration": 19,
    "start_time": "2022-04-11T13:04:16.418Z"
   },
   {
    "duration": 20,
    "start_time": "2022-04-11T13:04:16.438Z"
   },
   {
    "duration": 18,
    "start_time": "2022-04-11T13:04:16.459Z"
   },
   {
    "duration": 12,
    "start_time": "2022-04-11T13:04:16.478Z"
   },
   {
    "duration": 6,
    "start_time": "2022-04-11T13:04:16.491Z"
   },
   {
    "duration": 6,
    "start_time": "2022-04-11T13:04:16.498Z"
   },
   {
    "duration": 423,
    "start_time": "2022-04-11T13:04:16.506Z"
   },
   {
    "duration": 496,
    "start_time": "2022-04-11T13:04:16.930Z"
   },
   {
    "duration": 430,
    "start_time": "2022-04-11T13:04:17.428Z"
   },
   {
    "duration": 589,
    "start_time": "2022-04-11T13:04:17.860Z"
   },
   {
    "duration": 9,
    "start_time": "2022-04-11T13:04:18.451Z"
   },
   {
    "duration": 10,
    "start_time": "2022-04-11T13:04:18.461Z"
   },
   {
    "duration": 195,
    "start_time": "2022-04-11T13:04:18.473Z"
   },
   {
    "duration": 234,
    "start_time": "2022-04-11T13:04:18.669Z"
   },
   {
    "duration": 188,
    "start_time": "2022-04-11T13:04:18.904Z"
   },
   {
    "duration": 289,
    "start_time": "2022-04-11T13:04:19.094Z"
   },
   {
    "duration": 4,
    "start_time": "2022-04-11T13:04:19.385Z"
   },
   {
    "duration": 124,
    "start_time": "2022-04-11T13:04:19.392Z"
   },
   {
    "duration": 18,
    "start_time": "2022-04-11T13:07:16.603Z"
   },
   {
    "duration": 1471,
    "start_time": "2022-04-11T13:07:26.360Z"
   },
   {
    "duration": 670,
    "start_time": "2022-04-11T13:07:27.834Z"
   },
   {
    "duration": 5,
    "start_time": "2022-04-11T13:07:28.506Z"
   },
   {
    "duration": 166,
    "start_time": "2022-04-11T13:07:28.513Z"
   },
   {
    "duration": 48,
    "start_time": "2022-04-11T13:07:28.681Z"
   },
   {
    "duration": 148,
    "start_time": "2022-04-11T13:07:28.731Z"
   },
   {
    "duration": 3,
    "start_time": "2022-04-11T13:07:28.880Z"
   },
   {
    "duration": 16,
    "start_time": "2022-04-11T13:07:28.885Z"
   },
   {
    "duration": 5,
    "start_time": "2022-04-11T13:07:28.902Z"
   },
   {
    "duration": 6,
    "start_time": "2022-04-11T13:07:28.909Z"
   },
   {
    "duration": 35,
    "start_time": "2022-04-11T13:07:28.917Z"
   },
   {
    "duration": 13,
    "start_time": "2022-04-11T13:07:28.954Z"
   },
   {
    "duration": 14,
    "start_time": "2022-04-11T13:07:28.968Z"
   },
   {
    "duration": 15,
    "start_time": "2022-04-11T13:07:28.983Z"
   },
   {
    "duration": 7,
    "start_time": "2022-04-11T13:07:29.000Z"
   },
   {
    "duration": 7,
    "start_time": "2022-04-11T13:07:29.008Z"
   },
   {
    "duration": 461,
    "start_time": "2022-04-11T13:07:29.017Z"
   },
   {
    "duration": 542,
    "start_time": "2022-04-11T13:07:29.480Z"
   },
   {
    "duration": 449,
    "start_time": "2022-04-11T13:07:30.024Z"
   },
   {
    "duration": 612,
    "start_time": "2022-04-11T13:07:30.474Z"
   },
   {
    "duration": 11,
    "start_time": "2022-04-11T13:07:31.087Z"
   },
   {
    "duration": 11,
    "start_time": "2022-04-11T13:07:31.100Z"
   },
   {
    "duration": 212,
    "start_time": "2022-04-11T13:07:31.112Z"
   },
   {
    "duration": 240,
    "start_time": "2022-04-11T13:07:31.326Z"
   },
   {
    "duration": 209,
    "start_time": "2022-04-11T13:07:31.568Z"
   },
   {
    "duration": 334,
    "start_time": "2022-04-11T13:07:31.779Z"
   },
   {
    "duration": 5,
    "start_time": "2022-04-11T13:07:32.114Z"
   },
   {
    "duration": 125,
    "start_time": "2022-04-11T13:07:32.123Z"
   },
   {
    "duration": 0,
    "start_time": "2022-04-11T13:07:32.250Z"
   },
   {
    "duration": 28,
    "start_time": "2022-04-11T13:09:47.593Z"
   },
   {
    "duration": 9,
    "start_time": "2022-04-11T13:09:55.375Z"
   },
   {
    "duration": 5,
    "start_time": "2022-04-11T13:09:58.488Z"
   },
   {
    "duration": 2271,
    "start_time": "2022-04-11T17:47:43.535Z"
   },
   {
    "duration": 11159,
    "start_time": "2022-04-11T17:47:45.808Z"
   },
   {
    "duration": 5,
    "start_time": "2022-04-11T17:47:56.969Z"
   },
   {
    "duration": 333,
    "start_time": "2022-04-11T17:47:56.977Z"
   },
   {
    "duration": 125,
    "start_time": "2022-04-11T17:47:57.313Z"
   },
   {
    "duration": 308,
    "start_time": "2022-04-11T17:47:57.443Z"
   },
   {
    "duration": 4,
    "start_time": "2022-04-11T17:47:57.753Z"
   },
   {
    "duration": 24,
    "start_time": "2022-04-11T17:47:57.759Z"
   },
   {
    "duration": 7,
    "start_time": "2022-04-11T17:47:57.786Z"
   },
   {
    "duration": 44,
    "start_time": "2022-04-11T17:47:57.800Z"
   },
   {
    "duration": 11,
    "start_time": "2022-04-11T17:47:57.847Z"
   },
   {
    "duration": 15,
    "start_time": "2022-04-11T17:47:57.860Z"
   },
   {
    "duration": 16,
    "start_time": "2022-04-11T17:47:57.878Z"
   },
   {
    "duration": 48,
    "start_time": "2022-04-11T17:47:57.897Z"
   },
   {
    "duration": 9,
    "start_time": "2022-04-11T17:47:57.947Z"
   },
   {
    "duration": 6,
    "start_time": "2022-04-11T17:47:57.958Z"
   },
   {
    "duration": 776,
    "start_time": "2022-04-11T17:47:57.967Z"
   },
   {
    "duration": 824,
    "start_time": "2022-04-11T17:47:58.745Z"
   },
   {
    "duration": 752,
    "start_time": "2022-04-11T17:47:59.571Z"
   },
   {
    "duration": 852,
    "start_time": "2022-04-11T17:48:00.326Z"
   },
   {
    "duration": 9,
    "start_time": "2022-04-11T17:48:01.181Z"
   },
   {
    "duration": 16,
    "start_time": "2022-04-11T17:48:01.193Z"
   },
   {
    "duration": 381,
    "start_time": "2022-04-11T17:48:01.211Z"
   },
   {
    "duration": 634,
    "start_time": "2022-04-11T17:48:01.595Z"
   },
   {
    "duration": 447,
    "start_time": "2022-04-11T17:48:02.232Z"
   },
   {
    "duration": 465,
    "start_time": "2022-04-11T17:48:02.682Z"
   },
   {
    "duration": 7,
    "start_time": "2022-04-11T17:48:03.150Z"
   },
   {
    "duration": 8,
    "start_time": "2022-04-11T17:48:03.163Z"
   },
   {
    "duration": 304,
    "start_time": "2022-04-11T17:48:03.173Z"
   },
   {
    "duration": 0,
    "start_time": "2022-04-11T17:48:03.479Z"
   },
   {
    "duration": 32,
    "start_time": "2022-04-11T17:48:19.057Z"
   },
   {
    "duration": 806,
    "start_time": "2022-04-11T17:54:13.287Z"
   },
   {
    "duration": 2013,
    "start_time": "2022-04-11T17:54:21.712Z"
   },
   {
    "duration": 810,
    "start_time": "2022-04-11T17:54:23.728Z"
   },
   {
    "duration": 5,
    "start_time": "2022-04-11T17:54:24.540Z"
   },
   {
    "duration": 255,
    "start_time": "2022-04-11T17:54:24.549Z"
   },
   {
    "duration": 113,
    "start_time": "2022-04-11T17:54:24.807Z"
   },
   {
    "duration": 320,
    "start_time": "2022-04-11T17:54:24.923Z"
   },
   {
    "duration": 5,
    "start_time": "2022-04-11T17:54:25.246Z"
   },
   {
    "duration": 24,
    "start_time": "2022-04-11T17:54:25.253Z"
   },
   {
    "duration": 8,
    "start_time": "2022-04-11T17:54:25.279Z"
   },
   {
    "duration": 12,
    "start_time": "2022-04-11T17:54:25.293Z"
   },
   {
    "duration": 44,
    "start_time": "2022-04-11T17:54:25.308Z"
   },
   {
    "duration": 11,
    "start_time": "2022-04-11T17:54:25.355Z"
   },
   {
    "duration": 14,
    "start_time": "2022-04-11T17:54:25.369Z"
   },
   {
    "duration": 14,
    "start_time": "2022-04-11T17:54:25.385Z"
   },
   {
    "duration": 4,
    "start_time": "2022-04-11T17:54:25.401Z"
   },
   {
    "duration": 6,
    "start_time": "2022-04-11T17:54:25.443Z"
   },
   {
    "duration": 753,
    "start_time": "2022-04-11T17:54:25.451Z"
   },
   {
    "duration": 810,
    "start_time": "2022-04-11T17:54:26.207Z"
   },
   {
    "duration": 728,
    "start_time": "2022-04-11T17:54:27.019Z"
   },
   {
    "duration": 807,
    "start_time": "2022-04-11T17:54:27.749Z"
   },
   {
    "duration": 9,
    "start_time": "2022-04-11T17:54:28.559Z"
   },
   {
    "duration": 18,
    "start_time": "2022-04-11T17:54:28.570Z"
   },
   {
    "duration": 543,
    "start_time": "2022-04-11T17:54:28.590Z"
   },
   {
    "duration": 420,
    "start_time": "2022-04-11T17:54:29.136Z"
   },
   {
    "duration": 349,
    "start_time": "2022-04-11T17:54:29.559Z"
   },
   {
    "duration": 596,
    "start_time": "2022-04-11T17:54:29.911Z"
   },
   {
    "duration": 13,
    "start_time": "2022-04-11T17:54:30.510Z"
   },
   {
    "duration": 25,
    "start_time": "2022-04-11T17:54:30.547Z"
   },
   {
    "duration": 208,
    "start_time": "2022-04-11T17:54:30.574Z"
   },
   {
    "duration": 48,
    "start_time": "2022-04-11T17:58:35.459Z"
   },
   {
    "duration": 82,
    "start_time": "2022-04-11T17:58:38.285Z"
   },
   {
    "duration": 19,
    "start_time": "2022-04-11T18:07:06.120Z"
   },
   {
    "duration": 38,
    "start_time": "2022-04-11T18:07:37.932Z"
   },
   {
    "duration": 1911,
    "start_time": "2022-04-11T18:08:35.885Z"
   },
   {
    "duration": 800,
    "start_time": "2022-04-11T18:08:37.799Z"
   },
   {
    "duration": 5,
    "start_time": "2022-04-11T18:08:38.602Z"
   },
   {
    "duration": 253,
    "start_time": "2022-04-11T18:08:38.610Z"
   },
   {
    "duration": 85,
    "start_time": "2022-04-11T18:08:38.865Z"
   },
   {
    "duration": 233,
    "start_time": "2022-04-11T18:08:38.952Z"
   },
   {
    "duration": 4,
    "start_time": "2022-04-11T18:08:39.188Z"
   },
   {
    "duration": 28,
    "start_time": "2022-04-11T18:08:39.195Z"
   },
   {
    "duration": 8,
    "start_time": "2022-04-11T18:08:39.243Z"
   },
   {
    "duration": 6,
    "start_time": "2022-04-11T18:08:39.255Z"
   },
   {
    "duration": 10,
    "start_time": "2022-04-11T18:08:39.264Z"
   },
   {
    "duration": 17,
    "start_time": "2022-04-11T18:08:39.276Z"
   },
   {
    "duration": 59,
    "start_time": "2022-04-11T18:08:39.296Z"
   },
   {
    "duration": 21,
    "start_time": "2022-04-11T18:08:39.358Z"
   },
   {
    "duration": 5,
    "start_time": "2022-04-11T18:08:39.382Z"
   },
   {
    "duration": 7,
    "start_time": "2022-04-11T18:08:39.390Z"
   },
   {
    "duration": 817,
    "start_time": "2022-04-11T18:08:39.400Z"
   },
   {
    "duration": 831,
    "start_time": "2022-04-11T18:08:40.220Z"
   },
   {
    "duration": 747,
    "start_time": "2022-04-11T18:08:41.053Z"
   },
   {
    "duration": 744,
    "start_time": "2022-04-11T18:08:41.804Z"
   },
   {
    "duration": 11,
    "start_time": "2022-04-11T18:08:42.551Z"
   },
   {
    "duration": 22,
    "start_time": "2022-04-11T18:08:42.564Z"
   },
   {
    "duration": 539,
    "start_time": "2022-04-11T18:08:42.590Z"
   },
   {
    "duration": 650,
    "start_time": "2022-04-11T18:08:43.132Z"
   },
   {
    "duration": 353,
    "start_time": "2022-04-11T18:08:43.784Z"
   },
   {
    "duration": 600,
    "start_time": "2022-04-11T18:08:44.143Z"
   },
   {
    "duration": 6,
    "start_time": "2022-04-11T18:08:44.745Z"
   },
   {
    "duration": 35,
    "start_time": "2022-04-11T18:08:44.756Z"
   },
   {
    "duration": 91,
    "start_time": "2022-04-11T18:08:44.794Z"
   },
   {
    "duration": 14,
    "start_time": "2022-04-11T18:08:44.887Z"
   },
   {
    "duration": 231,
    "start_time": "2022-04-11T18:08:44.905Z"
   },
   {
    "duration": 1994,
    "start_time": "2022-04-11T18:09:45.294Z"
   },
   {
    "duration": 859,
    "start_time": "2022-04-11T18:09:47.291Z"
   },
   {
    "duration": 5,
    "start_time": "2022-04-11T18:09:48.152Z"
   },
   {
    "duration": 268,
    "start_time": "2022-04-11T18:09:48.160Z"
   },
   {
    "duration": 86,
    "start_time": "2022-04-11T18:09:48.430Z"
   },
   {
    "duration": 243,
    "start_time": "2022-04-11T18:09:48.518Z"
   },
   {
    "duration": 4,
    "start_time": "2022-04-11T18:09:48.764Z"
   },
   {
    "duration": 21,
    "start_time": "2022-04-11T18:09:48.770Z"
   },
   {
    "duration": 8,
    "start_time": "2022-04-11T18:09:48.793Z"
   },
   {
    "duration": 43,
    "start_time": "2022-04-11T18:09:48.805Z"
   },
   {
    "duration": 10,
    "start_time": "2022-04-11T18:09:48.850Z"
   },
   {
    "duration": 16,
    "start_time": "2022-04-11T18:09:48.863Z"
   },
   {
    "duration": 21,
    "start_time": "2022-04-11T18:09:48.882Z"
   },
   {
    "duration": 56,
    "start_time": "2022-04-11T18:09:48.905Z"
   },
   {
    "duration": 17,
    "start_time": "2022-04-11T18:09:48.964Z"
   },
   {
    "duration": 12,
    "start_time": "2022-04-11T18:09:48.984Z"
   },
   {
    "duration": 1322,
    "start_time": "2022-04-11T18:09:48.999Z"
   },
   {
    "duration": 1390,
    "start_time": "2022-04-11T18:09:50.324Z"
   },
   {
    "duration": 729,
    "start_time": "2022-04-11T18:09:51.717Z"
   },
   {
    "duration": 789,
    "start_time": "2022-04-11T18:09:52.448Z"
   },
   {
    "duration": 10,
    "start_time": "2022-04-11T18:09:53.243Z"
   },
   {
    "duration": 16,
    "start_time": "2022-04-11T18:09:53.256Z"
   },
   {
    "duration": 329,
    "start_time": "2022-04-11T18:09:53.274Z"
   },
   {
    "duration": 415,
    "start_time": "2022-04-11T18:09:53.605Z"
   },
   {
    "duration": 426,
    "start_time": "2022-04-11T18:09:54.022Z"
   },
   {
    "duration": 409,
    "start_time": "2022-04-11T18:09:54.451Z"
   },
   {
    "duration": 6,
    "start_time": "2022-04-11T18:09:54.862Z"
   },
   {
    "duration": 46,
    "start_time": "2022-04-11T18:09:54.873Z"
   },
   {
    "duration": 71,
    "start_time": "2022-04-11T18:09:54.921Z"
   },
   {
    "duration": 13,
    "start_time": "2022-04-11T18:09:54.994Z"
   },
   {
    "duration": 230,
    "start_time": "2022-04-11T18:09:55.009Z"
   },
   {
    "duration": 59,
    "start_time": "2022-04-12T20:01:10.235Z"
   },
   {
    "duration": 1840,
    "start_time": "2022-04-12T20:01:19.700Z"
   },
   {
    "duration": 688,
    "start_time": "2022-04-12T20:01:21.543Z"
   },
   {
    "duration": 4,
    "start_time": "2022-04-12T20:01:22.233Z"
   },
   {
    "duration": 182,
    "start_time": "2022-04-12T20:01:22.239Z"
   },
   {
    "duration": 95,
    "start_time": "2022-04-12T20:01:22.423Z"
   },
   {
    "duration": 152,
    "start_time": "2022-04-12T20:01:22.521Z"
   },
   {
    "duration": 3,
    "start_time": "2022-04-12T20:01:22.675Z"
   },
   {
    "duration": 22,
    "start_time": "2022-04-12T20:01:22.680Z"
   },
   {
    "duration": 6,
    "start_time": "2022-04-12T20:01:22.719Z"
   },
   {
    "duration": 8,
    "start_time": "2022-04-12T20:01:22.728Z"
   },
   {
    "duration": 12,
    "start_time": "2022-04-12T20:01:22.738Z"
   },
   {
    "duration": 12,
    "start_time": "2022-04-12T20:01:22.752Z"
   },
   {
    "duration": 13,
    "start_time": "2022-04-12T20:01:22.766Z"
   },
   {
    "duration": 45,
    "start_time": "2022-04-12T20:01:22.781Z"
   },
   {
    "duration": 13,
    "start_time": "2022-04-12T20:01:22.828Z"
   },
   {
    "duration": 10,
    "start_time": "2022-04-12T20:01:22.843Z"
   },
   {
    "duration": 469,
    "start_time": "2022-04-12T20:01:22.855Z"
   },
   {
    "duration": 539,
    "start_time": "2022-04-12T20:01:23.326Z"
   },
   {
    "duration": 458,
    "start_time": "2022-04-12T20:01:23.867Z"
   },
   {
    "duration": 628,
    "start_time": "2022-04-12T20:01:24.328Z"
   },
   {
    "duration": 10,
    "start_time": "2022-04-12T20:01:24.958Z"
   },
   {
    "duration": 14,
    "start_time": "2022-04-12T20:01:24.970Z"
   },
   {
    "duration": 226,
    "start_time": "2022-04-12T20:01:24.986Z"
   },
   {
    "duration": 254,
    "start_time": "2022-04-12T20:01:25.218Z"
   },
   {
    "duration": 324,
    "start_time": "2022-04-12T20:01:25.474Z"
   },
   {
    "duration": 193,
    "start_time": "2022-04-12T20:01:25.801Z"
   },
   {
    "duration": 22,
    "start_time": "2022-04-12T20:01:25.996Z"
   },
   {
    "duration": 39,
    "start_time": "2022-04-12T20:01:26.024Z"
   },
   {
    "duration": 78,
    "start_time": "2022-04-12T20:01:26.066Z"
   },
   {
    "duration": 15,
    "start_time": "2022-04-12T20:01:26.147Z"
   },
   {
    "duration": 146,
    "start_time": "2022-04-12T20:01:26.165Z"
   },
   {
    "duration": 3,
    "start_time": "2022-04-12T20:03:26.443Z"
   },
   {
    "duration": 6,
    "start_time": "2022-04-12T20:03:31.348Z"
   },
   {
    "duration": 70,
    "start_time": "2022-04-12T20:11:33.691Z"
   },
   {
    "duration": 5,
    "start_time": "2022-04-12T20:12:05.283Z"
   },
   {
    "duration": 17,
    "start_time": "2022-04-12T20:14:15.783Z"
   },
   {
    "duration": 64,
    "start_time": "2022-04-12T20:16:02.544Z"
   },
   {
    "duration": 1824,
    "start_time": "2022-04-12T20:16:17.380Z"
   },
   {
    "duration": 713,
    "start_time": "2022-04-12T20:16:19.206Z"
   },
   {
    "duration": 4,
    "start_time": "2022-04-12T20:16:19.923Z"
   },
   {
    "duration": 179,
    "start_time": "2022-04-12T20:16:19.930Z"
   },
   {
    "duration": 56,
    "start_time": "2022-04-12T20:16:20.111Z"
   },
   {
    "duration": 250,
    "start_time": "2022-04-12T20:16:20.170Z"
   },
   {
    "duration": 4,
    "start_time": "2022-04-12T20:16:20.423Z"
   },
   {
    "duration": 31,
    "start_time": "2022-04-12T20:16:20.430Z"
   },
   {
    "duration": 7,
    "start_time": "2022-04-12T20:16:20.463Z"
   },
   {
    "duration": 10,
    "start_time": "2022-04-12T20:16:20.471Z"
   },
   {
    "duration": 13,
    "start_time": "2022-04-12T20:16:20.483Z"
   },
   {
    "duration": 7,
    "start_time": "2022-04-12T20:16:20.518Z"
   },
   {
    "duration": 12,
    "start_time": "2022-04-12T20:16:20.529Z"
   },
   {
    "duration": 16,
    "start_time": "2022-04-12T20:16:20.543Z"
   },
   {
    "duration": 13,
    "start_time": "2022-04-12T20:16:20.561Z"
   },
   {
    "duration": 11,
    "start_time": "2022-04-12T20:16:20.576Z"
   },
   {
    "duration": 518,
    "start_time": "2022-04-12T20:16:20.590Z"
   },
   {
    "duration": 534,
    "start_time": "2022-04-12T20:16:21.119Z"
   },
   {
    "duration": 450,
    "start_time": "2022-04-12T20:16:21.655Z"
   },
   {
    "duration": 559,
    "start_time": "2022-04-12T20:16:22.107Z"
   },
   {
    "duration": 10,
    "start_time": "2022-04-12T20:16:22.668Z"
   },
   {
    "duration": 13,
    "start_time": "2022-04-12T20:16:22.680Z"
   },
   {
    "duration": 230,
    "start_time": "2022-04-12T20:16:22.695Z"
   },
   {
    "duration": 260,
    "start_time": "2022-04-12T20:16:22.927Z"
   },
   {
    "duration": 325,
    "start_time": "2022-04-12T20:16:23.190Z"
   },
   {
    "duration": 194,
    "start_time": "2022-04-12T20:16:23.517Z"
   },
   {
    "duration": 6,
    "start_time": "2022-04-12T20:16:23.713Z"
   },
   {
    "duration": 35,
    "start_time": "2022-04-12T20:16:23.721Z"
   },
   {
    "duration": 43,
    "start_time": "2022-04-12T20:16:23.759Z"
   },
   {
    "duration": 10,
    "start_time": "2022-04-12T20:16:23.819Z"
   },
   {
    "duration": 18,
    "start_time": "2022-04-12T20:16:23.831Z"
   },
   {
    "duration": 200,
    "start_time": "2022-04-12T20:16:23.852Z"
   },
   {
    "duration": 8,
    "start_time": "2022-04-12T20:16:32.303Z"
   },
   {
    "duration": 100,
    "start_time": "2022-04-12T20:16:34.173Z"
   },
   {
    "duration": 532,
    "start_time": "2022-04-12T20:17:04.087Z"
   },
   {
    "duration": 1759,
    "start_time": "2022-04-12T20:19:10.535Z"
   },
   {
    "duration": 1991,
    "start_time": "2022-04-12T20:19:30.103Z"
   },
   {
    "duration": 787,
    "start_time": "2022-04-12T20:19:32.097Z"
   },
   {
    "duration": 4,
    "start_time": "2022-04-12T20:19:32.886Z"
   },
   {
    "duration": 212,
    "start_time": "2022-04-12T20:19:32.892Z"
   },
   {
    "duration": 63,
    "start_time": "2022-04-12T20:19:33.106Z"
   },
   {
    "duration": 180,
    "start_time": "2022-04-12T20:19:33.171Z"
   },
   {
    "duration": 3,
    "start_time": "2022-04-12T20:19:33.354Z"
   },
   {
    "duration": 40,
    "start_time": "2022-04-12T20:19:33.359Z"
   },
   {
    "duration": 21,
    "start_time": "2022-04-12T20:19:33.402Z"
   },
   {
    "duration": 12,
    "start_time": "2022-04-12T20:19:33.425Z"
   },
   {
    "duration": 16,
    "start_time": "2022-04-12T20:19:33.439Z"
   },
   {
    "duration": 13,
    "start_time": "2022-04-12T20:19:33.458Z"
   },
   {
    "duration": 14,
    "start_time": "2022-04-12T20:19:33.473Z"
   },
   {
    "duration": 28,
    "start_time": "2022-04-12T20:19:33.491Z"
   },
   {
    "duration": 9,
    "start_time": "2022-04-12T20:19:33.521Z"
   },
   {
    "duration": 15,
    "start_time": "2022-04-12T20:19:33.533Z"
   },
   {
    "duration": 491,
    "start_time": "2022-04-12T20:19:33.550Z"
   },
   {
    "duration": 578,
    "start_time": "2022-04-12T20:19:34.043Z"
   },
   {
    "duration": 516,
    "start_time": "2022-04-12T20:19:34.624Z"
   },
   {
    "duration": 872,
    "start_time": "2022-04-12T20:19:35.142Z"
   },
   {
    "duration": 14,
    "start_time": "2022-04-12T20:19:36.018Z"
   },
   {
    "duration": 29,
    "start_time": "2022-04-12T20:19:36.034Z"
   },
   {
    "duration": 236,
    "start_time": "2022-04-12T20:19:36.065Z"
   },
   {
    "duration": 280,
    "start_time": "2022-04-12T20:19:36.305Z"
   },
   {
    "duration": 339,
    "start_time": "2022-04-12T20:19:36.588Z"
   },
   {
    "duration": 216,
    "start_time": "2022-04-12T20:19:36.930Z"
   },
   {
    "duration": 5,
    "start_time": "2022-04-12T20:19:37.148Z"
   },
   {
    "duration": 40,
    "start_time": "2022-04-12T20:19:37.155Z"
   },
   {
    "duration": 59,
    "start_time": "2022-04-12T20:19:37.197Z"
   },
   {
    "duration": 14,
    "start_time": "2022-04-12T20:19:37.258Z"
   },
   {
    "duration": 30,
    "start_time": "2022-04-12T20:19:37.275Z"
   },
   {
    "duration": 1813,
    "start_time": "2022-04-12T20:19:37.307Z"
   },
   {
    "duration": 2003,
    "start_time": "2022-04-12T20:22:01.188Z"
   },
   {
    "duration": 27,
    "start_time": "2022-04-12T20:23:06.431Z"
   },
   {
    "duration": 1573,
    "start_time": "2022-04-12T20:23:13.270Z"
   },
   {
    "duration": 4,
    "start_time": "2022-04-12T20:29:58.046Z"
   },
   {
    "duration": 32,
    "start_time": "2022-04-12T20:30:06.142Z"
   },
   {
    "duration": 1100,
    "start_time": "2022-04-12T20:30:17.061Z"
   },
   {
    "duration": 141,
    "start_time": "2022-04-12T20:34:04.664Z"
   },
   {
    "duration": 11,
    "start_time": "2022-04-12T20:34:10.625Z"
   },
   {
    "duration": 5,
    "start_time": "2022-04-12T20:34:31.832Z"
   },
   {
    "duration": 4,
    "start_time": "2022-04-12T20:34:45.689Z"
   },
   {
    "duration": 13,
    "start_time": "2022-04-12T20:34:57.001Z"
   },
   {
    "duration": 3,
    "start_time": "2022-04-12T20:35:21.322Z"
   },
   {
    "duration": 12,
    "start_time": "2022-04-12T20:35:41.642Z"
   },
   {
    "duration": 11,
    "start_time": "2022-04-12T20:36:22.266Z"
   },
   {
    "duration": 443,
    "start_time": "2022-04-12T20:37:25.155Z"
   },
   {
    "duration": 1842,
    "start_time": "2022-04-12T20:38:21.651Z"
   },
   {
    "duration": 1047,
    "start_time": "2022-04-12T20:38:23.495Z"
   },
   {
    "duration": 4,
    "start_time": "2022-04-12T20:38:24.544Z"
   },
   {
    "duration": 240,
    "start_time": "2022-04-12T20:38:24.551Z"
   },
   {
    "duration": 87,
    "start_time": "2022-04-12T20:38:24.793Z"
   },
   {
    "duration": 214,
    "start_time": "2022-04-12T20:38:24.882Z"
   },
   {
    "duration": 3,
    "start_time": "2022-04-12T20:38:25.099Z"
   },
   {
    "duration": 33,
    "start_time": "2022-04-12T20:38:25.104Z"
   },
   {
    "duration": 7,
    "start_time": "2022-04-12T20:38:25.140Z"
   },
   {
    "duration": 8,
    "start_time": "2022-04-12T20:38:25.150Z"
   },
   {
    "duration": 15,
    "start_time": "2022-04-12T20:38:25.160Z"
   },
   {
    "duration": 17,
    "start_time": "2022-04-12T20:38:25.177Z"
   },
   {
    "duration": 33,
    "start_time": "2022-04-12T20:38:25.197Z"
   },
   {
    "duration": 23,
    "start_time": "2022-04-12T20:38:25.232Z"
   },
   {
    "duration": 9,
    "start_time": "2022-04-12T20:38:25.257Z"
   },
   {
    "duration": 8,
    "start_time": "2022-04-12T20:38:25.269Z"
   },
   {
    "duration": 768,
    "start_time": "2022-04-12T20:38:25.279Z"
   },
   {
    "duration": 861,
    "start_time": "2022-04-12T20:38:26.049Z"
   },
   {
    "duration": 449,
    "start_time": "2022-04-12T20:38:26.918Z"
   },
   {
    "duration": 687,
    "start_time": "2022-04-12T20:38:27.369Z"
   },
   {
    "duration": 10,
    "start_time": "2022-04-12T20:38:28.058Z"
   },
   {
    "duration": 14,
    "start_time": "2022-04-12T20:38:28.070Z"
   },
   {
    "duration": 223,
    "start_time": "2022-04-12T20:38:28.085Z"
   },
   {
    "duration": 264,
    "start_time": "2022-04-12T20:38:28.310Z"
   },
   {
    "duration": 348,
    "start_time": "2022-04-12T20:38:28.576Z"
   },
   {
    "duration": 228,
    "start_time": "2022-04-12T20:38:28.926Z"
   },
   {
    "duration": 6,
    "start_time": "2022-04-12T20:38:29.156Z"
   },
   {
    "duration": 29,
    "start_time": "2022-04-12T20:38:29.166Z"
   },
   {
    "duration": 63,
    "start_time": "2022-04-12T20:38:29.197Z"
   },
   {
    "duration": 11,
    "start_time": "2022-04-12T20:38:29.262Z"
   },
   {
    "duration": 14,
    "start_time": "2022-04-12T20:38:29.275Z"
   },
   {
    "duration": 1250,
    "start_time": "2022-04-12T20:38:29.292Z"
   },
   {
    "duration": 11,
    "start_time": "2022-04-12T20:39:50.258Z"
   },
   {
    "duration": 10,
    "start_time": "2022-04-12T20:39:57.586Z"
   },
   {
    "duration": 7,
    "start_time": "2022-04-12T20:40:01.433Z"
   },
   {
    "duration": 2217,
    "start_time": "2022-04-12T20:41:33.278Z"
   },
   {
    "duration": 880,
    "start_time": "2022-04-12T20:41:35.498Z"
   },
   {
    "duration": 3,
    "start_time": "2022-04-12T20:41:36.380Z"
   },
   {
    "duration": 187,
    "start_time": "2022-04-12T20:41:36.386Z"
   },
   {
    "duration": 65,
    "start_time": "2022-04-12T20:41:36.575Z"
   },
   {
    "duration": 230,
    "start_time": "2022-04-12T20:41:36.642Z"
   },
   {
    "duration": 4,
    "start_time": "2022-04-12T20:41:36.875Z"
   },
   {
    "duration": 41,
    "start_time": "2022-04-12T20:41:36.880Z"
   },
   {
    "duration": 7,
    "start_time": "2022-04-12T20:41:36.924Z"
   },
   {
    "duration": 14,
    "start_time": "2022-04-12T20:41:36.935Z"
   },
   {
    "duration": 13,
    "start_time": "2022-04-12T20:41:36.951Z"
   },
   {
    "duration": 16,
    "start_time": "2022-04-12T20:41:36.967Z"
   },
   {
    "duration": 38,
    "start_time": "2022-04-12T20:41:36.985Z"
   },
   {
    "duration": 21,
    "start_time": "2022-04-12T20:41:37.025Z"
   },
   {
    "duration": 11,
    "start_time": "2022-04-12T20:41:37.049Z"
   },
   {
    "duration": 8,
    "start_time": "2022-04-12T20:41:37.063Z"
   },
   {
    "duration": 607,
    "start_time": "2022-04-12T20:41:37.074Z"
   },
   {
    "duration": 565,
    "start_time": "2022-04-12T20:41:37.683Z"
   },
   {
    "duration": 472,
    "start_time": "2022-04-12T20:41:38.250Z"
   },
   {
    "duration": 835,
    "start_time": "2022-04-12T20:41:38.724Z"
   },
   {
    "duration": 12,
    "start_time": "2022-04-12T20:41:39.562Z"
   },
   {
    "duration": 19,
    "start_time": "2022-04-12T20:41:39.577Z"
   },
   {
    "duration": 207,
    "start_time": "2022-04-12T20:41:39.617Z"
   },
   {
    "duration": 358,
    "start_time": "2022-04-12T20:41:39.826Z"
   },
   {
    "duration": 337,
    "start_time": "2022-04-12T20:41:40.186Z"
   },
   {
    "duration": 195,
    "start_time": "2022-04-12T20:41:40.525Z"
   },
   {
    "duration": 6,
    "start_time": "2022-04-12T20:41:40.722Z"
   },
   {
    "duration": 20,
    "start_time": "2022-04-12T20:41:40.733Z"
   },
   {
    "duration": 221,
    "start_time": "2022-04-12T20:41:40.755Z"
   },
   {
    "duration": 0,
    "start_time": "2022-04-12T20:41:40.978Z"
   },
   {
    "duration": 1,
    "start_time": "2022-04-12T20:41:40.980Z"
   },
   {
    "duration": 0,
    "start_time": "2022-04-12T20:41:40.982Z"
   },
   {
    "duration": 0,
    "start_time": "2022-04-12T20:41:40.983Z"
   },
   {
    "duration": 1679,
    "start_time": "2022-04-12T20:43:30.151Z"
   },
   {
    "duration": 1073,
    "start_time": "2022-04-12T20:43:31.833Z"
   },
   {
    "duration": 4,
    "start_time": "2022-04-12T20:43:32.908Z"
   },
   {
    "duration": 212,
    "start_time": "2022-04-12T20:43:32.919Z"
   },
   {
    "duration": 55,
    "start_time": "2022-04-12T20:43:33.134Z"
   },
   {
    "duration": 175,
    "start_time": "2022-04-12T20:43:33.191Z"
   },
   {
    "duration": 4,
    "start_time": "2022-04-12T20:43:33.368Z"
   },
   {
    "duration": 25,
    "start_time": "2022-04-12T20:43:33.374Z"
   },
   {
    "duration": 22,
    "start_time": "2022-04-12T20:43:33.401Z"
   },
   {
    "duration": 8,
    "start_time": "2022-04-12T20:43:33.426Z"
   },
   {
    "duration": 14,
    "start_time": "2022-04-12T20:43:33.436Z"
   },
   {
    "duration": 13,
    "start_time": "2022-04-12T20:43:33.453Z"
   },
   {
    "duration": 17,
    "start_time": "2022-04-12T20:43:33.468Z"
   },
   {
    "duration": 38,
    "start_time": "2022-04-12T20:43:33.487Z"
   },
   {
    "duration": 15,
    "start_time": "2022-04-12T20:43:33.527Z"
   },
   {
    "duration": 9,
    "start_time": "2022-04-12T20:43:33.544Z"
   },
   {
    "duration": 501,
    "start_time": "2022-04-12T20:43:33.555Z"
   },
   {
    "duration": 564,
    "start_time": "2022-04-12T20:43:34.058Z"
   },
   {
    "duration": 473,
    "start_time": "2022-04-12T20:43:34.624Z"
   },
   {
    "duration": 564,
    "start_time": "2022-04-12T20:43:35.099Z"
   },
   {
    "duration": 11,
    "start_time": "2022-04-12T20:43:35.665Z"
   },
   {
    "duration": 16,
    "start_time": "2022-04-12T20:43:35.678Z"
   },
   {
    "duration": 236,
    "start_time": "2022-04-12T20:43:35.696Z"
   },
   {
    "duration": 255,
    "start_time": "2022-04-12T20:43:35.934Z"
   },
   {
    "duration": 340,
    "start_time": "2022-04-12T20:43:36.191Z"
   },
   {
    "duration": 195,
    "start_time": "2022-04-12T20:43:36.533Z"
   },
   {
    "duration": 5,
    "start_time": "2022-04-12T20:43:36.731Z"
   },
   {
    "duration": 20,
    "start_time": "2022-04-12T20:43:36.739Z"
   },
   {
    "duration": 158,
    "start_time": "2022-04-12T20:43:36.761Z"
   },
   {
    "duration": 0,
    "start_time": "2022-04-12T20:43:36.922Z"
   },
   {
    "duration": 0,
    "start_time": "2022-04-12T20:43:36.923Z"
   },
   {
    "duration": 0,
    "start_time": "2022-04-12T20:43:36.925Z"
   },
   {
    "duration": 0,
    "start_time": "2022-04-12T20:43:36.926Z"
   },
   {
    "duration": 20,
    "start_time": "2022-04-12T20:44:11.146Z"
   },
   {
    "duration": 20,
    "start_time": "2022-04-12T20:44:55.201Z"
   },
   {
    "duration": 25,
    "start_time": "2022-04-12T20:44:56.626Z"
   },
   {
    "duration": 1759,
    "start_time": "2022-04-12T20:45:05.576Z"
   },
   {
    "duration": 747,
    "start_time": "2022-04-12T20:45:07.338Z"
   },
   {
    "duration": 5,
    "start_time": "2022-04-12T20:45:08.086Z"
   },
   {
    "duration": 185,
    "start_time": "2022-04-12T20:45:08.094Z"
   },
   {
    "duration": 67,
    "start_time": "2022-04-12T20:45:08.281Z"
   },
   {
    "duration": 160,
    "start_time": "2022-04-12T20:45:08.350Z"
   },
   {
    "duration": 5,
    "start_time": "2022-04-12T20:45:08.513Z"
   },
   {
    "duration": 26,
    "start_time": "2022-04-12T20:45:08.520Z"
   },
   {
    "duration": 6,
    "start_time": "2022-04-12T20:45:08.548Z"
   },
   {
    "duration": 15,
    "start_time": "2022-04-12T20:45:08.557Z"
   },
   {
    "duration": 14,
    "start_time": "2022-04-12T20:45:08.574Z"
   },
   {
    "duration": 29,
    "start_time": "2022-04-12T20:45:08.590Z"
   },
   {
    "duration": 11,
    "start_time": "2022-04-12T20:45:08.621Z"
   },
   {
    "duration": 19,
    "start_time": "2022-04-12T20:45:08.634Z"
   },
   {
    "duration": 10,
    "start_time": "2022-04-12T20:45:08.655Z"
   },
   {
    "duration": 13,
    "start_time": "2022-04-12T20:45:08.667Z"
   },
   {
    "duration": 489,
    "start_time": "2022-04-12T20:45:08.683Z"
   },
   {
    "duration": 559,
    "start_time": "2022-04-12T20:45:09.174Z"
   },
   {
    "duration": 487,
    "start_time": "2022-04-12T20:45:09.735Z"
   },
   {
    "duration": 644,
    "start_time": "2022-04-12T20:45:10.224Z"
   },
   {
    "duration": 10,
    "start_time": "2022-04-12T20:45:10.870Z"
   },
   {
    "duration": 14,
    "start_time": "2022-04-12T20:45:10.881Z"
   },
   {
    "duration": 222,
    "start_time": "2022-04-12T20:45:10.897Z"
   },
   {
    "duration": 257,
    "start_time": "2022-04-12T20:45:11.121Z"
   },
   {
    "duration": 345,
    "start_time": "2022-04-12T20:45:11.380Z"
   },
   {
    "duration": 203,
    "start_time": "2022-04-12T20:45:11.727Z"
   },
   {
    "duration": 6,
    "start_time": "2022-04-12T20:45:11.932Z"
   },
   {
    "duration": 30,
    "start_time": "2022-04-12T20:45:11.941Z"
   },
   {
    "duration": 147,
    "start_time": "2022-04-12T20:45:11.973Z"
   },
   {
    "duration": 0,
    "start_time": "2022-04-12T20:45:12.122Z"
   },
   {
    "duration": 0,
    "start_time": "2022-04-12T20:45:12.124Z"
   },
   {
    "duration": 0,
    "start_time": "2022-04-12T20:45:12.126Z"
   },
   {
    "duration": 0,
    "start_time": "2022-04-12T20:45:12.127Z"
   },
   {
    "duration": 26,
    "start_time": "2022-04-12T20:46:11.363Z"
   },
   {
    "duration": 43,
    "start_time": "2022-04-12T20:46:12.523Z"
   },
   {
    "duration": 23,
    "start_time": "2022-04-12T20:46:24.019Z"
   },
   {
    "duration": 5,
    "start_time": "2022-04-12T20:46:35.532Z"
   },
   {
    "duration": 1088,
    "start_time": "2022-04-12T20:46:39.388Z"
   },
   {
    "duration": 2173,
    "start_time": "2022-04-12T20:57:55.759Z"
   },
   {
    "duration": 971,
    "start_time": "2022-04-12T20:57:57.935Z"
   },
   {
    "duration": 3,
    "start_time": "2022-04-12T20:57:58.908Z"
   },
   {
    "duration": 174,
    "start_time": "2022-04-12T20:57:58.913Z"
   },
   {
    "duration": 60,
    "start_time": "2022-04-12T20:57:59.090Z"
   },
   {
    "duration": 148,
    "start_time": "2022-04-12T20:57:59.152Z"
   },
   {
    "duration": 4,
    "start_time": "2022-04-12T20:57:59.302Z"
   },
   {
    "duration": 17,
    "start_time": "2022-04-12T20:57:59.318Z"
   },
   {
    "duration": 7,
    "start_time": "2022-04-12T20:57:59.337Z"
   },
   {
    "duration": 9,
    "start_time": "2022-04-12T20:57:59.346Z"
   },
   {
    "duration": 11,
    "start_time": "2022-04-12T20:57:59.357Z"
   },
   {
    "duration": 12,
    "start_time": "2022-04-12T20:57:59.370Z"
   },
   {
    "duration": 38,
    "start_time": "2022-04-12T20:57:59.384Z"
   },
   {
    "duration": 15,
    "start_time": "2022-04-12T20:57:59.425Z"
   },
   {
    "duration": 7,
    "start_time": "2022-04-12T20:57:59.442Z"
   },
   {
    "duration": 9,
    "start_time": "2022-04-12T20:57:59.451Z"
   },
   {
    "duration": 480,
    "start_time": "2022-04-12T20:57:59.461Z"
   },
   {
    "duration": 915,
    "start_time": "2022-04-12T20:57:59.944Z"
   },
   {
    "duration": 885,
    "start_time": "2022-04-12T20:58:00.861Z"
   },
   {
    "duration": 788,
    "start_time": "2022-04-12T20:58:01.749Z"
   },
   {
    "duration": 10,
    "start_time": "2022-04-12T20:58:02.539Z"
   },
   {
    "duration": 20,
    "start_time": "2022-04-12T20:58:02.551Z"
   },
   {
    "duration": 221,
    "start_time": "2022-04-12T20:58:02.573Z"
   },
   {
    "duration": 276,
    "start_time": "2022-04-12T20:58:02.797Z"
   },
   {
    "duration": 348,
    "start_time": "2022-04-12T20:58:03.076Z"
   },
   {
    "duration": 202,
    "start_time": "2022-04-12T20:58:03.426Z"
   },
   {
    "duration": 5,
    "start_time": "2022-04-12T20:58:03.631Z"
   },
   {
    "duration": 30,
    "start_time": "2022-04-12T20:58:03.639Z"
   },
   {
    "duration": 76,
    "start_time": "2022-04-12T20:58:03.671Z"
   },
   {
    "duration": 12,
    "start_time": "2022-04-12T20:58:03.749Z"
   },
   {
    "duration": 33,
    "start_time": "2022-04-12T20:58:03.764Z"
   },
   {
    "duration": 22,
    "start_time": "2022-04-12T20:58:03.800Z"
   },
   {
    "duration": 1258,
    "start_time": "2022-04-12T20:58:03.825Z"
   },
   {
    "duration": 10,
    "start_time": "2022-04-12T20:58:20.241Z"
   },
   {
    "duration": 5,
    "start_time": "2022-04-12T20:58:25.185Z"
   },
   {
    "duration": 6,
    "start_time": "2022-04-12T20:58:36.402Z"
   },
   {
    "duration": 1720,
    "start_time": "2022-04-12T20:59:00.229Z"
   },
   {
    "duration": 714,
    "start_time": "2022-04-12T20:59:01.951Z"
   },
   {
    "duration": 5,
    "start_time": "2022-04-12T20:59:02.667Z"
   },
   {
    "duration": 178,
    "start_time": "2022-04-12T20:59:02.674Z"
   },
   {
    "duration": 68,
    "start_time": "2022-04-12T20:59:02.855Z"
   },
   {
    "duration": 153,
    "start_time": "2022-04-12T20:59:02.925Z"
   },
   {
    "duration": 3,
    "start_time": "2022-04-12T20:59:03.080Z"
   },
   {
    "duration": 34,
    "start_time": "2022-04-12T20:59:03.084Z"
   },
   {
    "duration": 6,
    "start_time": "2022-04-12T20:59:03.120Z"
   },
   {
    "duration": 11,
    "start_time": "2022-04-12T20:59:03.128Z"
   },
   {
    "duration": 14,
    "start_time": "2022-04-12T20:59:03.141Z"
   },
   {
    "duration": 14,
    "start_time": "2022-04-12T20:59:03.157Z"
   },
   {
    "duration": 14,
    "start_time": "2022-04-12T20:59:03.173Z"
   },
   {
    "duration": 30,
    "start_time": "2022-04-12T20:59:03.191Z"
   },
   {
    "duration": 26,
    "start_time": "2022-04-12T20:59:03.223Z"
   },
   {
    "duration": 10,
    "start_time": "2022-04-12T20:59:03.251Z"
   },
   {
    "duration": 468,
    "start_time": "2022-04-12T20:59:03.264Z"
   },
   {
    "duration": 540,
    "start_time": "2022-04-12T20:59:03.734Z"
   },
   {
    "duration": 468,
    "start_time": "2022-04-12T20:59:04.276Z"
   },
   {
    "duration": 614,
    "start_time": "2022-04-12T20:59:04.746Z"
   },
   {
    "duration": 10,
    "start_time": "2022-04-12T20:59:05.362Z"
   },
   {
    "duration": 14,
    "start_time": "2022-04-12T20:59:05.374Z"
   },
   {
    "duration": 219,
    "start_time": "2022-04-12T20:59:05.390Z"
   },
   {
    "duration": 253,
    "start_time": "2022-04-12T20:59:05.617Z"
   },
   {
    "duration": 335,
    "start_time": "2022-04-12T20:59:05.872Z"
   },
   {
    "duration": 190,
    "start_time": "2022-04-12T20:59:06.209Z"
   },
   {
    "duration": 5,
    "start_time": "2022-04-12T20:59:06.401Z"
   },
   {
    "duration": 50,
    "start_time": "2022-04-12T20:59:06.407Z"
   },
   {
    "duration": 47,
    "start_time": "2022-04-12T20:59:06.459Z"
   },
   {
    "duration": 18,
    "start_time": "2022-04-12T20:59:06.508Z"
   },
   {
    "duration": 36,
    "start_time": "2022-04-12T20:59:06.528Z"
   },
   {
    "duration": 15,
    "start_time": "2022-04-12T20:59:12.615Z"
   },
   {
    "duration": 1599,
    "start_time": "2022-04-12T21:06:55.333Z"
   },
   {
    "duration": 723,
    "start_time": "2022-04-12T21:06:56.935Z"
   },
   {
    "duration": 4,
    "start_time": "2022-04-12T21:06:57.660Z"
   },
   {
    "duration": 186,
    "start_time": "2022-04-12T21:06:57.667Z"
   },
   {
    "duration": 63,
    "start_time": "2022-04-12T21:06:57.856Z"
   },
   {
    "duration": 161,
    "start_time": "2022-04-12T21:06:57.921Z"
   },
   {
    "duration": 3,
    "start_time": "2022-04-12T21:06:58.084Z"
   },
   {
    "duration": 31,
    "start_time": "2022-04-12T21:06:58.089Z"
   },
   {
    "duration": 5,
    "start_time": "2022-04-12T21:06:58.122Z"
   },
   {
    "duration": 11,
    "start_time": "2022-04-12T21:06:58.129Z"
   },
   {
    "duration": 13,
    "start_time": "2022-04-12T21:06:58.142Z"
   },
   {
    "duration": 17,
    "start_time": "2022-04-12T21:06:58.156Z"
   },
   {
    "duration": 16,
    "start_time": "2022-04-12T21:06:58.175Z"
   },
   {
    "duration": 26,
    "start_time": "2022-04-12T21:06:58.194Z"
   },
   {
    "duration": 9,
    "start_time": "2022-04-12T21:06:58.222Z"
   },
   {
    "duration": 9,
    "start_time": "2022-04-12T21:06:58.232Z"
   },
   {
    "duration": 451,
    "start_time": "2022-04-12T21:06:58.243Z"
   },
   {
    "duration": 534,
    "start_time": "2022-04-12T21:06:58.695Z"
   },
   {
    "duration": 458,
    "start_time": "2022-04-12T21:06:59.231Z"
   },
   {
    "duration": 569,
    "start_time": "2022-04-12T21:06:59.691Z"
   },
   {
    "duration": 10,
    "start_time": "2022-04-12T21:07:00.262Z"
   },
   {
    "duration": 13,
    "start_time": "2022-04-12T21:07:00.274Z"
   },
   {
    "duration": 229,
    "start_time": "2022-04-12T21:07:00.289Z"
   },
   {
    "duration": 265,
    "start_time": "2022-04-12T21:07:00.520Z"
   },
   {
    "duration": 335,
    "start_time": "2022-04-12T21:07:00.787Z"
   },
   {
    "duration": 194,
    "start_time": "2022-04-12T21:07:01.125Z"
   },
   {
    "duration": 5,
    "start_time": "2022-04-12T21:07:01.321Z"
   },
   {
    "duration": 34,
    "start_time": "2022-04-12T21:07:01.328Z"
   },
   {
    "duration": 124,
    "start_time": "2022-04-12T21:07:01.364Z"
   },
   {
    "duration": 0,
    "start_time": "2022-04-12T21:07:01.490Z"
   },
   {
    "duration": 1,
    "start_time": "2022-04-12T21:07:01.491Z"
   },
   {
    "duration": 0,
    "start_time": "2022-04-12T21:07:01.493Z"
   },
   {
    "duration": 16,
    "start_time": "2022-04-12T21:07:20.176Z"
   },
   {
    "duration": 27,
    "start_time": "2022-04-12T21:07:22.240Z"
   },
   {
    "duration": 19,
    "start_time": "2022-04-12T21:07:27.600Z"
   },
   {
    "duration": 24,
    "start_time": "2022-04-12T21:07:46.880Z"
   },
   {
    "duration": 17,
    "start_time": "2022-04-12T21:07:50.353Z"
   },
   {
    "duration": 4,
    "start_time": "2022-04-12T21:07:52.900Z"
   },
   {
    "duration": 742,
    "start_time": "2022-04-12T21:07:52.907Z"
   },
   {
    "duration": 4,
    "start_time": "2022-04-12T21:07:53.651Z"
   },
   {
    "duration": 170,
    "start_time": "2022-04-12T21:07:53.656Z"
   },
   {
    "duration": 48,
    "start_time": "2022-04-12T21:07:53.828Z"
   },
   {
    "duration": 153,
    "start_time": "2022-04-12T21:07:53.878Z"
   },
   {
    "duration": 4,
    "start_time": "2022-04-12T21:07:54.033Z"
   },
   {
    "duration": 22,
    "start_time": "2022-04-12T21:07:54.038Z"
   },
   {
    "duration": 6,
    "start_time": "2022-04-12T21:07:54.063Z"
   },
   {
    "duration": 9,
    "start_time": "2022-04-12T21:07:54.071Z"
   },
   {
    "duration": 12,
    "start_time": "2022-04-12T21:07:54.081Z"
   },
   {
    "duration": 7,
    "start_time": "2022-04-12T21:07:54.118Z"
   },
   {
    "duration": 11,
    "start_time": "2022-04-12T21:07:54.130Z"
   },
   {
    "duration": 19,
    "start_time": "2022-04-12T21:07:54.143Z"
   },
   {
    "duration": 8,
    "start_time": "2022-04-12T21:07:54.164Z"
   },
   {
    "duration": 9,
    "start_time": "2022-04-12T21:07:54.173Z"
   },
   {
    "duration": 457,
    "start_time": "2022-04-12T21:07:54.184Z"
   },
   {
    "duration": 435,
    "start_time": "2022-04-12T21:07:54.644Z"
   },
   {
    "duration": 560,
    "start_time": "2022-04-12T21:07:55.081Z"
   },
   {
    "duration": 607,
    "start_time": "2022-04-12T21:07:55.643Z"
   },
   {
    "duration": 10,
    "start_time": "2022-04-12T21:07:56.252Z"
   },
   {
    "duration": 13,
    "start_time": "2022-04-12T21:07:56.264Z"
   },
   {
    "duration": 209,
    "start_time": "2022-04-12T21:07:56.279Z"
   },
   {
    "duration": 244,
    "start_time": "2022-04-12T21:07:56.490Z"
   },
   {
    "duration": 200,
    "start_time": "2022-04-12T21:07:56.736Z"
   },
   {
    "duration": 184,
    "start_time": "2022-04-12T21:07:56.938Z"
   },
   {
    "duration": 5,
    "start_time": "2022-04-12T21:07:57.124Z"
   },
   {
    "duration": 23,
    "start_time": "2022-04-12T21:07:57.130Z"
   },
   {
    "duration": 11,
    "start_time": "2022-04-12T21:07:57.155Z"
   },
   {
    "duration": 22,
    "start_time": "2022-04-12T21:07:57.168Z"
   },
   {
    "duration": 1,
    "start_time": "2022-04-12T21:07:57.191Z"
   },
   {
    "duration": 0,
    "start_time": "2022-04-12T21:07:57.193Z"
   },
   {
    "duration": 1724,
    "start_time": "2022-04-12T21:09:25.341Z"
   },
   {
    "duration": 718,
    "start_time": "2022-04-12T21:09:27.067Z"
   },
   {
    "duration": 5,
    "start_time": "2022-04-12T21:09:27.787Z"
   },
   {
    "duration": 189,
    "start_time": "2022-04-12T21:09:27.795Z"
   },
   {
    "duration": 63,
    "start_time": "2022-04-12T21:09:27.986Z"
   },
   {
    "duration": 153,
    "start_time": "2022-04-12T21:09:28.051Z"
   },
   {
    "duration": 12,
    "start_time": "2022-04-12T21:09:28.206Z"
   },
   {
    "duration": 39,
    "start_time": "2022-04-12T21:09:28.220Z"
   },
   {
    "duration": 13,
    "start_time": "2022-04-12T21:09:28.261Z"
   },
   {
    "duration": 17,
    "start_time": "2022-04-12T21:09:28.278Z"
   },
   {
    "duration": 19,
    "start_time": "2022-04-12T21:09:28.297Z"
   },
   {
    "duration": 20,
    "start_time": "2022-04-12T21:09:28.318Z"
   },
   {
    "duration": 19,
    "start_time": "2022-04-12T21:09:28.340Z"
   },
   {
    "duration": 25,
    "start_time": "2022-04-12T21:09:28.361Z"
   },
   {
    "duration": 14,
    "start_time": "2022-04-12T21:09:28.388Z"
   },
   {
    "duration": 21,
    "start_time": "2022-04-12T21:09:28.404Z"
   },
   {
    "duration": 474,
    "start_time": "2022-04-12T21:09:28.427Z"
   },
   {
    "duration": 534,
    "start_time": "2022-04-12T21:09:28.903Z"
   },
   {
    "duration": 446,
    "start_time": "2022-04-12T21:09:29.439Z"
   },
   {
    "duration": 571,
    "start_time": "2022-04-12T21:09:29.887Z"
   },
   {
    "duration": 10,
    "start_time": "2022-04-12T21:09:30.459Z"
   },
   {
    "duration": 18,
    "start_time": "2022-04-12T21:09:30.470Z"
   },
   {
    "duration": 211,
    "start_time": "2022-04-12T21:09:30.490Z"
   },
   {
    "duration": 249,
    "start_time": "2022-04-12T21:09:30.703Z"
   },
   {
    "duration": 326,
    "start_time": "2022-04-12T21:09:30.954Z"
   },
   {
    "duration": 185,
    "start_time": "2022-04-12T21:09:31.283Z"
   },
   {
    "duration": 5,
    "start_time": "2022-04-12T21:09:31.470Z"
   },
   {
    "duration": 26,
    "start_time": "2022-04-12T21:09:31.479Z"
   },
   {
    "duration": 14,
    "start_time": "2022-04-12T21:09:31.518Z"
   },
   {
    "duration": 137,
    "start_time": "2022-04-12T21:09:31.535Z"
   },
   {
    "duration": 0,
    "start_time": "2022-04-12T21:09:31.674Z"
   },
   {
    "duration": 0,
    "start_time": "2022-04-12T21:09:31.676Z"
   },
   {
    "duration": 20,
    "start_time": "2022-04-12T21:10:50.411Z"
   },
   {
    "duration": 12,
    "start_time": "2022-04-12T21:10:52.180Z"
   },
   {
    "duration": 23,
    "start_time": "2022-04-12T21:10:58.067Z"
   },
   {
    "duration": 21,
    "start_time": "2022-04-12T21:11:00.275Z"
   },
   {
    "duration": 24,
    "start_time": "2022-04-12T21:11:01.181Z"
   },
   {
    "duration": 18,
    "start_time": "2022-04-12T21:11:01.859Z"
   },
   {
    "duration": 24,
    "start_time": "2022-04-12T21:11:46.844Z"
   },
   {
    "duration": 35,
    "start_time": "2022-04-12T21:11:48.572Z"
   },
   {
    "duration": 1662,
    "start_time": "2022-04-12T21:12:11.477Z"
   },
   {
    "duration": 722,
    "start_time": "2022-04-12T21:12:13.141Z"
   },
   {
    "duration": 3,
    "start_time": "2022-04-12T21:12:13.865Z"
   },
   {
    "duration": 177,
    "start_time": "2022-04-12T21:12:13.871Z"
   },
   {
    "duration": 50,
    "start_time": "2022-04-12T21:12:14.049Z"
   },
   {
    "duration": 142,
    "start_time": "2022-04-12T21:12:14.117Z"
   },
   {
    "duration": 3,
    "start_time": "2022-04-12T21:12:14.261Z"
   },
   {
    "duration": 20,
    "start_time": "2022-04-12T21:12:14.265Z"
   },
   {
    "duration": 10,
    "start_time": "2022-04-12T21:12:14.287Z"
   },
   {
    "duration": 21,
    "start_time": "2022-04-12T21:12:14.300Z"
   },
   {
    "duration": 16,
    "start_time": "2022-04-12T21:12:14.323Z"
   },
   {
    "duration": 11,
    "start_time": "2022-04-12T21:12:14.341Z"
   },
   {
    "duration": 13,
    "start_time": "2022-04-12T21:12:14.354Z"
   },
   {
    "duration": 16,
    "start_time": "2022-04-12T21:12:14.369Z"
   },
   {
    "duration": 9,
    "start_time": "2022-04-12T21:12:14.387Z"
   },
   {
    "duration": 11,
    "start_time": "2022-04-12T21:12:14.398Z"
   },
   {
    "duration": 459,
    "start_time": "2022-04-12T21:12:14.411Z"
   },
   {
    "duration": 542,
    "start_time": "2022-04-12T21:12:14.871Z"
   },
   {
    "duration": 471,
    "start_time": "2022-04-12T21:12:15.415Z"
   },
   {
    "duration": 561,
    "start_time": "2022-04-12T21:12:15.888Z"
   },
   {
    "duration": 9,
    "start_time": "2022-04-12T21:12:16.450Z"
   },
   {
    "duration": 12,
    "start_time": "2022-04-12T21:12:16.461Z"
   },
   {
    "duration": 212,
    "start_time": "2022-04-12T21:12:16.475Z"
   },
   {
    "duration": 249,
    "start_time": "2022-04-12T21:12:16.689Z"
   },
   {
    "duration": 314,
    "start_time": "2022-04-12T21:12:16.940Z"
   },
   {
    "duration": 181,
    "start_time": "2022-04-12T21:12:17.256Z"
   },
   {
    "duration": 5,
    "start_time": "2022-04-12T21:12:17.439Z"
   },
   {
    "duration": 31,
    "start_time": "2022-04-12T21:12:17.447Z"
   },
   {
    "duration": 38,
    "start_time": "2022-04-12T21:12:17.480Z"
   },
   {
    "duration": 44,
    "start_time": "2022-04-12T21:12:17.520Z"
   },
   {
    "duration": 12,
    "start_time": "2022-04-12T21:12:17.566Z"
   },
   {
    "duration": 42,
    "start_time": "2022-04-12T21:12:17.580Z"
   },
   {
    "duration": 11,
    "start_time": "2022-04-12T21:12:39.745Z"
   },
   {
    "duration": 5,
    "start_time": "2022-04-12T21:12:44.873Z"
   },
   {
    "duration": 111643,
    "start_time": "2022-04-12T21:12:50.105Z"
   },
   {
    "duration": 110985,
    "start_time": "2022-04-12T21:18:12.664Z"
   },
   {
    "duration": 3,
    "start_time": "2022-04-12T21:21:07.051Z"
   },
   {
    "duration": 1589,
    "start_time": "2022-04-12T21:31:15.130Z"
   },
   {
    "duration": 703,
    "start_time": "2022-04-12T21:31:16.721Z"
   },
   {
    "duration": 4,
    "start_time": "2022-04-12T21:31:17.425Z"
   },
   {
    "duration": 171,
    "start_time": "2022-04-12T21:31:17.430Z"
   },
   {
    "duration": 61,
    "start_time": "2022-04-12T21:31:17.604Z"
   },
   {
    "duration": 152,
    "start_time": "2022-04-12T21:31:17.668Z"
   },
   {
    "duration": 4,
    "start_time": "2022-04-12T21:31:17.822Z"
   },
   {
    "duration": 22,
    "start_time": "2022-04-12T21:31:17.828Z"
   },
   {
    "duration": 6,
    "start_time": "2022-04-12T21:31:17.852Z"
   },
   {
    "duration": 9,
    "start_time": "2022-04-12T21:31:17.860Z"
   },
   {
    "duration": 13,
    "start_time": "2022-04-12T21:31:17.870Z"
   },
   {
    "duration": 33,
    "start_time": "2022-04-12T21:31:17.885Z"
   },
   {
    "duration": 11,
    "start_time": "2022-04-12T21:31:17.920Z"
   },
   {
    "duration": 20,
    "start_time": "2022-04-12T21:31:17.934Z"
   },
   {
    "duration": 20,
    "start_time": "2022-04-12T21:31:17.956Z"
   },
   {
    "duration": 9,
    "start_time": "2022-04-12T21:31:17.978Z"
   },
   {
    "duration": 453,
    "start_time": "2022-04-12T21:31:17.989Z"
   },
   {
    "duration": 534,
    "start_time": "2022-04-12T21:31:18.444Z"
   },
   {
    "duration": 532,
    "start_time": "2022-04-12T21:31:18.981Z"
   },
   {
    "duration": 626,
    "start_time": "2022-04-12T21:31:19.518Z"
   },
   {
    "duration": 10,
    "start_time": "2022-04-12T21:31:20.146Z"
   },
   {
    "duration": 14,
    "start_time": "2022-04-12T21:31:20.158Z"
   },
   {
    "duration": 213,
    "start_time": "2022-04-12T21:31:20.174Z"
   },
   {
    "duration": 243,
    "start_time": "2022-04-12T21:31:20.389Z"
   },
   {
    "duration": 325,
    "start_time": "2022-04-12T21:31:20.634Z"
   },
   {
    "duration": 196,
    "start_time": "2022-04-12T21:31:20.961Z"
   },
   {
    "duration": 6,
    "start_time": "2022-04-12T21:31:21.159Z"
   },
   {
    "duration": 26,
    "start_time": "2022-04-12T21:31:21.167Z"
   },
   {
    "duration": 47,
    "start_time": "2022-04-12T21:31:21.195Z"
   },
   {
    "duration": 43,
    "start_time": "2022-04-12T21:31:21.244Z"
   },
   {
    "duration": 34,
    "start_time": "2022-04-12T21:31:21.289Z"
   },
   {
    "duration": 10,
    "start_time": "2022-04-12T21:31:21.325Z"
   },
   {
    "duration": 107969,
    "start_time": "2022-04-12T21:31:21.338Z"
   },
   {
    "duration": 1576,
    "start_time": "2022-04-12T21:44:30.041Z"
   },
   {
    "duration": 713,
    "start_time": "2022-04-12T21:44:31.620Z"
   },
   {
    "duration": 4,
    "start_time": "2022-04-12T21:44:32.336Z"
   },
   {
    "duration": 181,
    "start_time": "2022-04-12T21:44:32.342Z"
   },
   {
    "duration": 52,
    "start_time": "2022-04-12T21:44:32.525Z"
   },
   {
    "duration": 164,
    "start_time": "2022-04-12T21:44:32.579Z"
   },
   {
    "duration": 3,
    "start_time": "2022-04-12T21:44:32.744Z"
   },
   {
    "duration": 30,
    "start_time": "2022-04-12T21:44:32.749Z"
   },
   {
    "duration": 9,
    "start_time": "2022-04-12T21:44:32.780Z"
   },
   {
    "duration": 23,
    "start_time": "2022-04-12T21:44:32.791Z"
   },
   {
    "duration": 33,
    "start_time": "2022-04-12T21:44:32.815Z"
   },
   {
    "duration": 38,
    "start_time": "2022-04-12T21:44:32.850Z"
   },
   {
    "duration": 24,
    "start_time": "2022-04-12T21:44:32.891Z"
   },
   {
    "duration": 69,
    "start_time": "2022-04-12T21:44:32.917Z"
   },
   {
    "duration": 37,
    "start_time": "2022-04-12T21:44:32.988Z"
   },
   {
    "duration": 22,
    "start_time": "2022-04-12T21:44:33.027Z"
   },
   {
    "duration": 457,
    "start_time": "2022-04-12T21:44:33.051Z"
   },
   {
    "duration": 523,
    "start_time": "2022-04-12T21:44:33.510Z"
   },
   {
    "duration": 452,
    "start_time": "2022-04-12T21:44:34.035Z"
   },
   {
    "duration": 556,
    "start_time": "2022-04-12T21:44:34.489Z"
   },
   {
    "duration": 9,
    "start_time": "2022-04-12T21:44:35.047Z"
   },
   {
    "duration": 21,
    "start_time": "2022-04-12T21:44:35.058Z"
   },
   {
    "duration": 204,
    "start_time": "2022-04-12T21:44:35.080Z"
   },
   {
    "duration": 243,
    "start_time": "2022-04-12T21:44:35.286Z"
   },
   {
    "duration": 330,
    "start_time": "2022-04-12T21:44:35.531Z"
   },
   {
    "duration": 189,
    "start_time": "2022-04-12T21:44:35.863Z"
   },
   {
    "duration": 6,
    "start_time": "2022-04-12T21:44:36.054Z"
   },
   {
    "duration": 28,
    "start_time": "2022-04-12T21:44:36.062Z"
   },
   {
    "duration": 42,
    "start_time": "2022-04-12T21:44:36.092Z"
   },
   {
    "duration": 43,
    "start_time": "2022-04-12T21:44:36.136Z"
   },
   {
    "duration": 36,
    "start_time": "2022-04-12T21:44:36.182Z"
   },
   {
    "duration": 9,
    "start_time": "2022-04-12T21:44:36.220Z"
   },
   {
    "duration": 2624,
    "start_time": "2022-04-12T21:44:36.231Z"
   },
   {
    "duration": 144085,
    "start_time": "2022-04-12T21:44:38.857Z"
   },
   {
    "duration": 20,
    "start_time": "2022-04-12T22:00:14.874Z"
   },
   {
    "duration": 18,
    "start_time": "2022-04-12T22:02:13.861Z"
   },
   {
    "duration": 27,
    "start_time": "2022-04-12T22:03:38.318Z"
   },
   {
    "duration": 18,
    "start_time": "2022-04-12T22:08:01.004Z"
   },
   {
    "duration": 20,
    "start_time": "2022-04-12T22:08:07.699Z"
   },
   {
    "duration": 14,
    "start_time": "2022-04-12T22:09:44.517Z"
   },
   {
    "duration": 8,
    "start_time": "2022-04-12T22:11:04.383Z"
   },
   {
    "duration": 8,
    "start_time": "2022-04-12T22:11:46.047Z"
   },
   {
    "duration": 1594,
    "start_time": "2022-04-12T22:11:56.907Z"
   },
   {
    "duration": 703,
    "start_time": "2022-04-12T22:11:58.503Z"
   },
   {
    "duration": 11,
    "start_time": "2022-04-12T22:11:59.208Z"
   },
   {
    "duration": 168,
    "start_time": "2022-04-12T22:11:59.221Z"
   },
   {
    "duration": 62,
    "start_time": "2022-04-12T22:11:59.391Z"
   },
   {
    "duration": 145,
    "start_time": "2022-04-12T22:11:59.455Z"
   },
   {
    "duration": 3,
    "start_time": "2022-04-12T22:11:59.602Z"
   },
   {
    "duration": 25,
    "start_time": "2022-04-12T22:11:59.607Z"
   },
   {
    "duration": 6,
    "start_time": "2022-04-12T22:11:59.634Z"
   },
   {
    "duration": 9,
    "start_time": "2022-04-12T22:11:59.643Z"
   },
   {
    "duration": 11,
    "start_time": "2022-04-12T22:11:59.654Z"
   },
   {
    "duration": 12,
    "start_time": "2022-04-12T22:11:59.667Z"
   },
   {
    "duration": 13,
    "start_time": "2022-04-12T22:11:59.681Z"
   },
   {
    "duration": 10,
    "start_time": "2022-04-12T22:11:59.719Z"
   },
   {
    "duration": 9,
    "start_time": "2022-04-12T22:11:59.731Z"
   },
   {
    "duration": 10,
    "start_time": "2022-04-12T22:11:59.742Z"
   },
   {
    "duration": 467,
    "start_time": "2022-04-12T22:11:59.754Z"
   },
   {
    "duration": 546,
    "start_time": "2022-04-12T22:12:00.223Z"
   },
   {
    "duration": 462,
    "start_time": "2022-04-12T22:12:00.771Z"
   },
   {
    "duration": 622,
    "start_time": "2022-04-12T22:12:01.234Z"
   },
   {
    "duration": 9,
    "start_time": "2022-04-12T22:12:01.858Z"
   },
   {
    "duration": 14,
    "start_time": "2022-04-12T22:12:01.869Z"
   },
   {
    "duration": 223,
    "start_time": "2022-04-12T22:12:01.884Z"
   },
   {
    "duration": 249,
    "start_time": "2022-04-12T22:12:02.109Z"
   },
   {
    "duration": 335,
    "start_time": "2022-04-12T22:12:02.360Z"
   },
   {
    "duration": 189,
    "start_time": "2022-04-12T22:12:02.696Z"
   },
   {
    "duration": 5,
    "start_time": "2022-04-12T22:12:02.887Z"
   },
   {
    "duration": 36,
    "start_time": "2022-04-12T22:12:02.896Z"
   },
   {
    "duration": 24,
    "start_time": "2022-04-12T22:12:02.934Z"
   },
   {
    "duration": 43,
    "start_time": "2022-04-12T22:12:02.959Z"
   },
   {
    "duration": 12,
    "start_time": "2022-04-12T22:12:03.019Z"
   },
   {
    "duration": 11,
    "start_time": "2022-04-12T22:12:03.032Z"
   },
   {
    "duration": 2710,
    "start_time": "2022-04-12T22:12:03.044Z"
   },
   {
    "duration": 144112,
    "start_time": "2022-04-12T22:12:05.756Z"
   },
   {
    "duration": 19,
    "start_time": "2022-04-12T22:14:29.871Z"
   },
   {
    "duration": 27,
    "start_time": "2022-04-12T22:14:29.892Z"
   },
   {
    "duration": 121,
    "start_time": "2022-04-12T22:15:26.722Z"
   },
   {
    "duration": 19,
    "start_time": "2022-04-12T22:16:06.307Z"
   },
   {
    "duration": 44,
    "start_time": "2022-04-13T23:19:58.575Z"
   },
   {
    "duration": 6,
    "start_time": "2022-04-13T23:20:11.585Z"
   },
   {
    "duration": 1476,
    "start_time": "2022-04-13T23:20:18.467Z"
   },
   {
    "duration": 625,
    "start_time": "2022-04-13T23:20:21.723Z"
   },
   {
    "duration": 3,
    "start_time": "2022-04-13T23:20:26.621Z"
   },
   {
    "duration": 144,
    "start_time": "2022-04-13T23:20:28.150Z"
   },
   {
    "duration": 44,
    "start_time": "2022-04-13T23:20:35.673Z"
   },
   {
    "duration": 119,
    "start_time": "2022-04-13T23:20:40.269Z"
   },
   {
    "duration": 2,
    "start_time": "2022-04-13T23:20:43.766Z"
   },
   {
    "duration": 15,
    "start_time": "2022-04-13T23:20:46.822Z"
   },
   {
    "duration": 5,
    "start_time": "2022-04-13T23:21:37.617Z"
   },
   {
    "duration": 4,
    "start_time": "2022-04-13T23:21:42.607Z"
   },
   {
    "duration": 7,
    "start_time": "2022-04-13T23:21:49.194Z"
   },
   {
    "duration": 6,
    "start_time": "2022-04-13T23:21:52.105Z"
   },
   {
    "duration": 10,
    "start_time": "2022-04-13T23:21:54.404Z"
   },
   {
    "duration": 9,
    "start_time": "2022-04-13T23:21:57.929Z"
   },
   {
    "duration": 2,
    "start_time": "2022-04-13T23:22:00.833Z"
   },
   {
    "duration": 3,
    "start_time": "2022-04-13T23:22:05.370Z"
   },
   {
    "duration": 383,
    "start_time": "2022-04-13T23:22:07.967Z"
   },
   {
    "duration": 444,
    "start_time": "2022-04-13T23:22:11.140Z"
   },
   {
    "duration": 377,
    "start_time": "2022-04-13T23:22:14.506Z"
   },
   {
    "duration": 4,
    "start_time": "2022-04-13T23:26:19.410Z"
   },
   {
    "duration": 380,
    "start_time": "2022-04-13T23:26:21.558Z"
   },
   {
    "duration": 467,
    "start_time": "2022-04-13T23:26:24.874Z"
   },
   {
    "duration": 361,
    "start_time": "2022-04-13T23:26:28.282Z"
   },
   {
    "duration": 496,
    "start_time": "2022-04-13T23:26:32.600Z"
   },
   {
    "duration": 9,
    "start_time": "2022-04-13T23:30:59.774Z"
   },
   {
    "duration": 9,
    "start_time": "2022-04-13T23:31:30.283Z"
   },
   {
    "duration": 15,
    "start_time": "2022-04-13T23:31:32.446Z"
   },
   {
    "duration": 158,
    "start_time": "2022-04-13T23:32:14.424Z"
   },
   {
    "duration": 192,
    "start_time": "2022-04-13T23:32:18.308Z"
   },
   {
    "duration": 157,
    "start_time": "2022-04-13T23:32:22.039Z"
   },
   {
    "duration": 246,
    "start_time": "2022-04-13T23:32:25.554Z"
   },
   {
    "duration": 4,
    "start_time": "2022-04-13T23:32:32.979Z"
   },
   {
    "duration": 19,
    "start_time": "2022-04-13T23:32:36.271Z"
   },
   {
    "duration": 21,
    "start_time": "2022-04-13T23:32:39.166Z"
   },
   {
    "duration": 16,
    "start_time": "2022-04-13T23:32:43.934Z"
   },
   {
    "duration": 5,
    "start_time": "2022-04-13T23:32:50.131Z"
   },
   {
    "duration": 2228,
    "start_time": "2022-04-13T23:32:53.604Z"
   },
   {
    "duration": 122630,
    "start_time": "2022-04-13T23:33:54.046Z"
   },
   {
    "duration": 16,
    "start_time": "2022-04-13T23:37:15.325Z"
   },
   {
    "duration": 7,
    "start_time": "2022-04-13T23:37:19.961Z"
   },
   {
    "duration": 34,
    "start_time": "2022-04-13T23:43:48.941Z"
   },
   {
    "duration": 72,
    "start_time": "2022-04-13T23:45:04.641Z"
   },
   {
    "duration": 5,
    "start_time": "2022-04-13T23:46:25.932Z"
   },
   {
    "duration": 14,
    "start_time": "2022-04-13T23:46:29.815Z"
   },
   {
    "duration": 38,
    "start_time": "2022-04-13T23:46:50.941Z"
   },
   {
    "duration": 13,
    "start_time": "2022-04-13T23:46:53.491Z"
   },
   {
    "duration": 36,
    "start_time": "2022-04-13T23:53:57.010Z"
   },
   {
    "duration": 15,
    "start_time": "2022-04-13T23:54:00.003Z"
   },
   {
    "duration": 8,
    "start_time": "2022-04-13T23:54:10.838Z"
   },
   {
    "duration": 8,
    "start_time": "2022-04-13T23:54:20.494Z"
   },
   {
    "duration": 9,
    "start_time": "2022-04-13T23:54:27.418Z"
   },
   {
    "duration": 9,
    "start_time": "2022-04-13T23:54:46.932Z"
   },
   {
    "duration": 9,
    "start_time": "2022-04-13T23:54:54.229Z"
   },
   {
    "duration": 10,
    "start_time": "2022-04-13T23:55:11.742Z"
   },
   {
    "duration": 37,
    "start_time": "2022-04-13T23:55:22.230Z"
   },
   {
    "duration": 9,
    "start_time": "2022-04-13T23:55:27.409Z"
   },
   {
    "duration": 8,
    "start_time": "2022-04-13T23:59:11.018Z"
   },
   {
    "duration": 136,
    "start_time": "2022-04-13T23:59:33.749Z"
   },
   {
    "duration": 3,
    "start_time": "2022-04-13T23:59:39.323Z"
   },
   {
    "duration": 5,
    "start_time": "2022-04-13T23:59:47.164Z"
   },
   {
    "duration": 7,
    "start_time": "2022-04-14T00:00:05.622Z"
   },
   {
    "duration": 101,
    "start_time": "2022-04-14T19:25:54.785Z"
   },
   {
    "duration": 95,
    "start_time": "2022-04-14T19:31:46.173Z"
   },
   {
    "duration": 1759,
    "start_time": "2022-04-14T21:02:32.445Z"
   },
   {
    "duration": 712,
    "start_time": "2022-04-14T21:02:34.207Z"
   },
   {
    "duration": 3,
    "start_time": "2022-04-14T21:02:34.920Z"
   },
   {
    "duration": 175,
    "start_time": "2022-04-14T21:02:34.925Z"
   },
   {
    "duration": 57,
    "start_time": "2022-04-14T21:02:35.102Z"
   },
   {
    "duration": 133,
    "start_time": "2022-04-14T21:02:35.161Z"
   },
   {
    "duration": 2,
    "start_time": "2022-04-14T21:02:35.296Z"
   },
   {
    "duration": 28,
    "start_time": "2022-04-14T21:02:35.300Z"
   },
   {
    "duration": 19,
    "start_time": "2022-04-14T21:02:35.329Z"
   },
   {
    "duration": 18,
    "start_time": "2022-04-14T21:02:35.349Z"
   },
   {
    "duration": 17,
    "start_time": "2022-04-14T21:02:35.368Z"
   },
   {
    "duration": 22,
    "start_time": "2022-04-14T21:02:35.386Z"
   },
   {
    "duration": 30,
    "start_time": "2022-04-14T21:02:35.409Z"
   },
   {
    "duration": 33,
    "start_time": "2022-04-14T21:02:35.442Z"
   },
   {
    "duration": 19,
    "start_time": "2022-04-14T21:02:35.477Z"
   },
   {
    "duration": 16,
    "start_time": "2022-04-14T21:02:35.498Z"
   },
   {
    "duration": 427,
    "start_time": "2022-04-14T21:02:35.515Z"
   },
   {
    "duration": 510,
    "start_time": "2022-04-14T21:02:35.944Z"
   },
   {
    "duration": 412,
    "start_time": "2022-04-14T21:02:36.456Z"
   },
   {
    "duration": 587,
    "start_time": "2022-04-14T21:02:36.870Z"
   },
   {
    "duration": 8,
    "start_time": "2022-04-14T21:02:37.459Z"
   },
   {
    "duration": 15,
    "start_time": "2022-04-14T21:02:37.469Z"
   },
   {
    "duration": 189,
    "start_time": "2022-04-14T21:02:37.486Z"
   },
   {
    "duration": 334,
    "start_time": "2022-04-14T21:02:37.676Z"
   },
   {
    "duration": 191,
    "start_time": "2022-04-14T21:02:38.012Z"
   },
   {
    "duration": 169,
    "start_time": "2022-04-14T21:02:38.204Z"
   },
   {
    "duration": 5,
    "start_time": "2022-04-14T21:02:38.375Z"
   },
   {
    "duration": 23,
    "start_time": "2022-04-14T21:02:38.382Z"
   },
   {
    "duration": 24,
    "start_time": "2022-04-14T21:02:38.407Z"
   },
   {
    "duration": 60,
    "start_time": "2022-04-14T21:02:38.433Z"
   },
   {
    "duration": 11,
    "start_time": "2022-04-14T21:02:38.495Z"
   },
   {
    "duration": 5,
    "start_time": "2022-04-14T21:02:38.508Z"
   },
   {
    "duration": 2381,
    "start_time": "2022-04-14T21:02:38.515Z"
   },
   {
    "duration": 85886,
    "start_time": "2022-04-14T21:02:40.898Z"
   },
   {
    "duration": 0,
    "start_time": "2022-04-14T21:04:06.786Z"
   },
   {
    "duration": 0,
    "start_time": "2022-04-14T21:04:06.788Z"
   },
   {
    "duration": 0,
    "start_time": "2022-04-14T21:04:06.790Z"
   },
   {
    "duration": 0,
    "start_time": "2022-04-14T21:04:06.791Z"
   },
   {
    "duration": 0,
    "start_time": "2022-04-14T21:04:06.793Z"
   },
   {
    "duration": 398,
    "start_time": "2022-04-14T21:04:23.231Z"
   },
   {
    "duration": 1777,
    "start_time": "2022-04-16T09:27:55.941Z"
   },
   {
    "duration": 570,
    "start_time": "2022-04-16T09:28:00.454Z"
   },
   {
    "duration": 3,
    "start_time": "2022-04-16T09:28:03.347Z"
   },
   {
    "duration": 143,
    "start_time": "2022-04-16T09:28:04.799Z"
   },
   {
    "duration": 43,
    "start_time": "2022-04-16T09:28:16.943Z"
   },
   {
    "duration": 117,
    "start_time": "2022-04-16T09:28:22.782Z"
   },
   {
    "duration": 3,
    "start_time": "2022-04-16T09:28:27.957Z"
   },
   {
    "duration": 15,
    "start_time": "2022-04-16T09:28:29.863Z"
   },
   {
    "duration": 5,
    "start_time": "2022-04-16T09:28:32.069Z"
   },
   {
    "duration": 5,
    "start_time": "2022-04-16T09:28:37.053Z"
   },
   {
    "duration": 6,
    "start_time": "2022-04-16T09:28:41.017Z"
   },
   {
    "duration": 6,
    "start_time": "2022-04-16T09:28:42.251Z"
   },
   {
    "duration": 9,
    "start_time": "2022-04-16T09:28:43.691Z"
   },
   {
    "duration": 9,
    "start_time": "2022-04-16T09:28:48.099Z"
   },
   {
    "duration": 3,
    "start_time": "2022-04-16T09:28:52.405Z"
   },
   {
    "duration": 97,
    "start_time": "2022-04-16T09:29:07.968Z"
   },
   {
    "duration": 4,
    "start_time": "2022-04-16T09:29:21.788Z"
   },
   {
    "duration": 4,
    "start_time": "2022-04-16T09:29:23.019Z"
   },
   {
    "duration": 211,
    "start_time": "2022-04-16T09:29:24.502Z"
   },
   {
    "duration": 298,
    "start_time": "2022-04-16T09:29:59.327Z"
   },
   {
    "duration": 261,
    "start_time": "2022-04-16T09:32:37.137Z"
   },
   {
    "duration": 4,
    "start_time": "2022-04-16T09:32:42.053Z"
   },
   {
    "duration": 3,
    "start_time": "2022-04-16T09:32:43.639Z"
   },
   {
    "duration": 3,
    "start_time": "2022-04-16T09:32:45.639Z"
   },
   {
    "duration": 671,
    "start_time": "2022-04-16T09:32:48.575Z"
   },
   {
    "duration": 2348,
    "start_time": "2022-04-16T11:01:32.468Z"
   },
   {
    "duration": 894,
    "start_time": "2022-04-16T11:01:34.820Z"
   },
   {
    "duration": 8,
    "start_time": "2022-04-16T11:01:35.716Z"
   },
   {
    "duration": 268,
    "start_time": "2022-04-16T11:01:35.730Z"
   },
   {
    "duration": 93,
    "start_time": "2022-04-16T11:01:36.002Z"
   },
   {
    "duration": 251,
    "start_time": "2022-04-16T11:01:36.097Z"
   },
   {
    "duration": 5,
    "start_time": "2022-04-16T11:01:36.350Z"
   },
   {
    "duration": 26,
    "start_time": "2022-04-16T11:01:36.357Z"
   },
   {
    "duration": 44,
    "start_time": "2022-04-16T11:01:36.386Z"
   },
   {
    "duration": 13,
    "start_time": "2022-04-16T11:01:36.436Z"
   },
   {
    "duration": 15,
    "start_time": "2022-04-16T11:01:36.451Z"
   },
   {
    "duration": 22,
    "start_time": "2022-04-16T11:01:36.469Z"
   },
   {
    "duration": 17,
    "start_time": "2022-04-16T11:01:36.494Z"
   },
   {
    "duration": 23,
    "start_time": "2022-04-16T11:01:36.523Z"
   },
   {
    "duration": 23,
    "start_time": "2022-04-16T11:01:36.549Z"
   },
   {
    "duration": 10,
    "start_time": "2022-04-16T11:01:36.574Z"
   },
   {
    "duration": 8,
    "start_time": "2022-04-16T11:01:36.587Z"
   },
   {
    "duration": 8,
    "start_time": "2022-04-16T11:01:36.598Z"
   },
   {
    "duration": 20,
    "start_time": "2022-04-16T11:01:36.608Z"
   },
   {
    "duration": 1367,
    "start_time": "2022-04-16T11:01:36.631Z"
   },
   {
    "duration": 7,
    "start_time": "2022-04-16T11:01:38.001Z"
   },
   {
    "duration": 196,
    "start_time": "2022-04-16T11:01:38.011Z"
   },
   {
    "duration": 0,
    "start_time": "2022-04-16T11:01:38.210Z"
   },
   {
    "duration": 0,
    "start_time": "2022-04-16T11:01:38.212Z"
   },
   {
    "duration": 0,
    "start_time": "2022-04-16T11:01:38.214Z"
   },
   {
    "duration": 0,
    "start_time": "2022-04-16T11:01:38.215Z"
   },
   {
    "duration": 0,
    "start_time": "2022-04-16T11:01:38.225Z"
   },
   {
    "duration": 0,
    "start_time": "2022-04-16T11:01:38.226Z"
   },
   {
    "duration": 0,
    "start_time": "2022-04-16T11:01:38.228Z"
   },
   {
    "duration": 0,
    "start_time": "2022-04-16T11:01:38.229Z"
   },
   {
    "duration": 0,
    "start_time": "2022-04-16T11:01:38.231Z"
   },
   {
    "duration": 0,
    "start_time": "2022-04-16T11:01:38.232Z"
   },
   {
    "duration": 0,
    "start_time": "2022-04-16T11:01:38.233Z"
   },
   {
    "duration": 0,
    "start_time": "2022-04-16T11:01:38.235Z"
   },
   {
    "duration": 0,
    "start_time": "2022-04-16T11:01:38.236Z"
   },
   {
    "duration": 0,
    "start_time": "2022-04-16T11:01:38.237Z"
   },
   {
    "duration": 0,
    "start_time": "2022-04-16T11:01:38.240Z"
   },
   {
    "duration": 0,
    "start_time": "2022-04-16T11:01:38.247Z"
   },
   {
    "duration": 0,
    "start_time": "2022-04-16T11:01:38.248Z"
   },
   {
    "duration": 0,
    "start_time": "2022-04-16T11:01:38.250Z"
   },
   {
    "duration": 0,
    "start_time": "2022-04-16T11:01:38.252Z"
   },
   {
    "duration": 0,
    "start_time": "2022-04-16T11:01:38.253Z"
   },
   {
    "duration": 0,
    "start_time": "2022-04-16T11:01:38.255Z"
   },
   {
    "duration": 0,
    "start_time": "2022-04-16T11:01:38.256Z"
   },
   {
    "duration": 6,
    "start_time": "2022-04-16T11:04:12.161Z"
   },
   {
    "duration": 1062,
    "start_time": "2022-04-16T11:04:13.933Z"
   },
   {
    "duration": 7,
    "start_time": "2022-04-16T11:19:36.533Z"
   },
   {
    "duration": 942,
    "start_time": "2022-04-16T11:20:01.709Z"
   },
   {
    "duration": 6,
    "start_time": "2022-04-16T11:20:59.087Z"
   },
   {
    "duration": 1116,
    "start_time": "2022-04-16T11:21:00.847Z"
   },
   {
    "duration": 6,
    "start_time": "2022-04-16T11:21:07.992Z"
   },
   {
    "duration": 870,
    "start_time": "2022-04-16T11:21:10.982Z"
   },
   {
    "duration": 7,
    "start_time": "2022-04-16T11:21:17.434Z"
   },
   {
    "duration": 1292,
    "start_time": "2022-04-16T11:21:19.894Z"
   },
   {
    "duration": 1044,
    "start_time": "2022-04-16T11:22:03.631Z"
   },
   {
    "duration": 2594,
    "start_time": "2022-04-16T11:23:36.824Z"
   },
   {
    "duration": 857,
    "start_time": "2022-04-16T11:23:39.421Z"
   },
   {
    "duration": 5,
    "start_time": "2022-04-16T11:23:40.280Z"
   },
   {
    "duration": 252,
    "start_time": "2022-04-16T11:23:40.287Z"
   },
   {
    "duration": 87,
    "start_time": "2022-04-16T11:23:40.542Z"
   },
   {
    "duration": 235,
    "start_time": "2022-04-16T11:23:40.631Z"
   },
   {
    "duration": 4,
    "start_time": "2022-04-16T11:23:40.868Z"
   },
   {
    "duration": 20,
    "start_time": "2022-04-16T11:23:40.875Z"
   },
   {
    "duration": 32,
    "start_time": "2022-04-16T11:23:40.898Z"
   },
   {
    "duration": 7,
    "start_time": "2022-04-16T11:23:40.933Z"
   },
   {
    "duration": 14,
    "start_time": "2022-04-16T11:23:40.942Z"
   },
   {
    "duration": 12,
    "start_time": "2022-04-16T11:23:40.958Z"
   },
   {
    "duration": 14,
    "start_time": "2022-04-16T11:23:40.972Z"
   },
   {
    "duration": 14,
    "start_time": "2022-04-16T11:23:41.024Z"
   },
   {
    "duration": 7,
    "start_time": "2022-04-16T11:23:41.040Z"
   },
   {
    "duration": 8,
    "start_time": "2022-04-16T11:23:41.049Z"
   },
   {
    "duration": 10,
    "start_time": "2022-04-16T11:23:41.059Z"
   },
   {
    "duration": 8,
    "start_time": "2022-04-16T11:23:41.072Z"
   },
   {
    "duration": 43,
    "start_time": "2022-04-16T11:23:41.082Z"
   },
   {
    "duration": 1303,
    "start_time": "2022-04-16T11:23:41.128Z"
   },
   {
    "duration": 7,
    "start_time": "2022-04-16T11:23:42.433Z"
   },
   {
    "duration": 1341,
    "start_time": "2022-04-16T11:23:42.442Z"
   },
   {
    "duration": 99,
    "start_time": "2022-04-16T11:23:43.785Z"
   },
   {
    "duration": 0,
    "start_time": "2022-04-16T11:23:43.887Z"
   },
   {
    "duration": 0,
    "start_time": "2022-04-16T11:23:43.889Z"
   },
   {
    "duration": 0,
    "start_time": "2022-04-16T11:23:43.891Z"
   },
   {
    "duration": 0,
    "start_time": "2022-04-16T11:23:43.893Z"
   },
   {
    "duration": 0,
    "start_time": "2022-04-16T11:23:43.895Z"
   },
   {
    "duration": 0,
    "start_time": "2022-04-16T11:23:43.897Z"
   },
   {
    "duration": 0,
    "start_time": "2022-04-16T11:23:43.899Z"
   },
   {
    "duration": 0,
    "start_time": "2022-04-16T11:23:43.901Z"
   },
   {
    "duration": 0,
    "start_time": "2022-04-16T11:23:43.903Z"
   },
   {
    "duration": 0,
    "start_time": "2022-04-16T11:23:43.905Z"
   },
   {
    "duration": 0,
    "start_time": "2022-04-16T11:23:43.907Z"
   },
   {
    "duration": 0,
    "start_time": "2022-04-16T11:23:43.909Z"
   },
   {
    "duration": 0,
    "start_time": "2022-04-16T11:23:43.911Z"
   },
   {
    "duration": 0,
    "start_time": "2022-04-16T11:23:43.913Z"
   },
   {
    "duration": 0,
    "start_time": "2022-04-16T11:23:43.916Z"
   },
   {
    "duration": 0,
    "start_time": "2022-04-16T11:23:43.918Z"
   },
   {
    "duration": 0,
    "start_time": "2022-04-16T11:23:43.920Z"
   },
   {
    "duration": 0,
    "start_time": "2022-04-16T11:23:43.922Z"
   },
   {
    "duration": 0,
    "start_time": "2022-04-16T11:23:43.924Z"
   },
   {
    "duration": 0,
    "start_time": "2022-04-16T11:23:43.926Z"
   },
   {
    "duration": 0,
    "start_time": "2022-04-16T11:23:43.928Z"
   },
   {
    "duration": 8,
    "start_time": "2022-04-16T11:24:56.777Z"
   },
   {
    "duration": 370,
    "start_time": "2022-04-16T11:24:58.048Z"
   },
   {
    "duration": 344,
    "start_time": "2022-04-16T11:25:08.232Z"
   },
   {
    "duration": 365,
    "start_time": "2022-04-16T11:26:10.802Z"
   },
   {
    "duration": 8,
    "start_time": "2022-04-16T11:27:36.566Z"
   },
   {
    "duration": 8,
    "start_time": "2022-04-16T11:27:59.541Z"
   },
   {
    "duration": 579,
    "start_time": "2022-04-16T11:28:01.700Z"
   },
   {
    "duration": 520,
    "start_time": "2022-04-16T11:28:20.533Z"
   },
   {
    "duration": 411,
    "start_time": "2022-04-16T11:30:12.182Z"
   },
   {
    "duration": 2216,
    "start_time": "2022-04-16T11:30:54.636Z"
   },
   {
    "duration": 1249,
    "start_time": "2022-04-16T11:30:56.856Z"
   },
   {
    "duration": 5,
    "start_time": "2022-04-16T11:30:58.107Z"
   },
   {
    "duration": 270,
    "start_time": "2022-04-16T11:30:58.114Z"
   },
   {
    "duration": 103,
    "start_time": "2022-04-16T11:30:58.388Z"
   },
   {
    "duration": 242,
    "start_time": "2022-04-16T11:30:58.493Z"
   },
   {
    "duration": 4,
    "start_time": "2022-04-16T11:30:58.737Z"
   },
   {
    "duration": 46,
    "start_time": "2022-04-16T11:30:58.744Z"
   },
   {
    "duration": 34,
    "start_time": "2022-04-16T11:30:58.793Z"
   },
   {
    "duration": 12,
    "start_time": "2022-04-16T11:30:58.830Z"
   },
   {
    "duration": 15,
    "start_time": "2022-04-16T11:30:58.844Z"
   },
   {
    "duration": 12,
    "start_time": "2022-04-16T11:30:58.862Z"
   },
   {
    "duration": 47,
    "start_time": "2022-04-16T11:30:58.877Z"
   },
   {
    "duration": 16,
    "start_time": "2022-04-16T11:30:58.931Z"
   },
   {
    "duration": 10,
    "start_time": "2022-04-16T11:30:58.950Z"
   },
   {
    "duration": 11,
    "start_time": "2022-04-16T11:30:58.962Z"
   },
   {
    "duration": 8,
    "start_time": "2022-04-16T11:30:58.976Z"
   },
   {
    "duration": 49,
    "start_time": "2022-04-16T11:30:58.987Z"
   },
   {
    "duration": 24,
    "start_time": "2022-04-16T11:30:59.041Z"
   },
   {
    "duration": 1289,
    "start_time": "2022-04-16T11:30:59.068Z"
   },
   {
    "duration": 7,
    "start_time": "2022-04-16T11:31:00.359Z"
   },
   {
    "duration": 1072,
    "start_time": "2022-04-16T11:31:00.369Z"
   },
   {
    "duration": 917,
    "start_time": "2022-04-16T11:31:01.444Z"
   },
   {
    "duration": 896,
    "start_time": "2022-04-16T11:31:02.365Z"
   },
   {
    "duration": 1386,
    "start_time": "2022-04-16T11:31:03.264Z"
   },
   {
    "duration": 11,
    "start_time": "2022-04-16T11:31:04.654Z"
   },
   {
    "duration": 82,
    "start_time": "2022-04-16T11:31:04.668Z"
   },
   {
    "duration": 341,
    "start_time": "2022-04-16T11:31:04.752Z"
   },
   {
    "duration": 442,
    "start_time": "2022-04-16T11:31:05.095Z"
   },
   {
    "duration": 348,
    "start_time": "2022-04-16T11:31:05.539Z"
   },
   {
    "duration": 347,
    "start_time": "2022-04-16T11:31:05.889Z"
   },
   {
    "duration": 12,
    "start_time": "2022-04-16T11:31:06.239Z"
   },
   {
    "duration": 31,
    "start_time": "2022-04-16T11:31:06.254Z"
   },
   {
    "duration": 71,
    "start_time": "2022-04-16T11:31:06.288Z"
   },
   {
    "duration": 87,
    "start_time": "2022-04-16T11:31:06.362Z"
   },
   {
    "duration": 15,
    "start_time": "2022-04-16T11:31:06.452Z"
   },
   {
    "duration": 21,
    "start_time": "2022-04-16T11:31:06.470Z"
   },
   {
    "duration": 3273,
    "start_time": "2022-04-16T11:31:06.494Z"
   },
   {
    "duration": 188158,
    "start_time": "2022-04-16T11:31:09.769Z"
   },
   {
    "duration": 31,
    "start_time": "2022-04-16T11:34:17.930Z"
   },
   {
    "duration": 11,
    "start_time": "2022-04-16T11:34:17.966Z"
   },
   {
    "duration": 52,
    "start_time": "2022-04-16T11:34:17.980Z"
   },
   {
    "duration": 64,
    "start_time": "2022-04-16T11:34:18.034Z"
   },
   {
    "duration": 674,
    "start_time": "2022-04-16T11:35:24.429Z"
   },
   {
    "duration": 9,
    "start_time": "2022-04-16T11:37:18.942Z"
   },
   {
    "duration": 510,
    "start_time": "2022-04-16T11:37:21.086Z"
   },
   {
    "duration": 9,
    "start_time": "2022-04-16T11:38:20.978Z"
   },
   {
    "duration": 326,
    "start_time": "2022-04-16T11:38:22.360Z"
   },
   {
    "duration": 7,
    "start_time": "2022-04-16T11:39:23.202Z"
   },
   {
    "duration": 358,
    "start_time": "2022-04-16T11:39:25.169Z"
   },
   {
    "duration": 8,
    "start_time": "2022-04-16T11:40:16.922Z"
   },
   {
    "duration": 6,
    "start_time": "2022-04-16T11:40:45.171Z"
   },
   {
    "duration": 602,
    "start_time": "2022-04-16T11:40:48.858Z"
   },
   {
    "duration": 580,
    "start_time": "2022-04-16T11:40:53.363Z"
   },
   {
    "duration": 642,
    "start_time": "2022-04-16T11:40:56.779Z"
   },
   {
    "duration": 330,
    "start_time": "2022-04-16T11:44:25.215Z"
   }
  ],
  "kernelspec": {
   "display_name": "Python 3 (ipykernel)",
   "language": "python",
   "name": "python3"
  },
  "language_info": {
   "codemirror_mode": {
    "name": "ipython",
    "version": 3
   },
   "file_extension": ".py",
   "mimetype": "text/x-python",
   "name": "python",
   "nbconvert_exporter": "python",
   "pygments_lexer": "ipython3",
   "version": "3.9.12"
  },
  "toc": {
   "base_numbering": 1,
   "nav_menu": {},
   "number_sections": true,
   "sideBar": true,
   "skip_h1_title": true,
   "title_cell": "Содержание",
   "title_sidebar": "Contents",
   "toc_cell": true,
   "toc_position": {
    "height": "calc(100% - 180px)",
    "left": "10px",
    "top": "150px",
    "width": "165px"
   },
   "toc_section_display": true,
   "toc_window_display": true
  }
 },
 "nbformat": 4,
 "nbformat_minor": 2
}
