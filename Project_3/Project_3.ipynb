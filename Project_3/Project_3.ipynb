{
 "cells": [
  {
   "cell_type": "markdown",
   "metadata": {
    "toc": true
   },
   "source": [
    "<h1>Содержание<span class=\"tocSkip\"></span></h1>\n",
    "<div class=\"toc\"><ul class=\"toc-item\"><li><span><a href=\"#Изучение-данных-из-файла\" data-toc-modified-id=\"Изучение-данных-из-файла-1\"><span class=\"toc-item-num\">1&nbsp;&nbsp;</span>Изучение данных из файла</a></span><ul class=\"toc-item\"><li><span><a href=\"#Вывод\" data-toc-modified-id=\"Вывод-1.1\"><span class=\"toc-item-num\">1.1&nbsp;&nbsp;</span>Вывод</a></span></li></ul></li><li><span><a href=\"#Предобработка-данных\" data-toc-modified-id=\"Предобработка-данных-2\"><span class=\"toc-item-num\">2&nbsp;&nbsp;</span>Предобработка данных</a></span><ul class=\"toc-item\"><li><span><a href=\"#Обработка-пропусков-в-данных,-а-так-же-изменение-типов-данных\" data-toc-modified-id=\"Обработка-пропусков-в-данных,-а-так-же-изменение-типов-данных-2.1\"><span class=\"toc-item-num\">2.1&nbsp;&nbsp;</span>Обработка пропусков в данных, а так же изменение типов данных</a></span></li><li><span><a href=\"#Вывод\" data-toc-modified-id=\"Вывод-2.2\"><span class=\"toc-item-num\">2.2&nbsp;&nbsp;</span>Вывод</a></span></li></ul></li><li><span><a href=\"#Расчёты-и-добавление-результатов-в-таблицу\" data-toc-modified-id=\"Расчёты-и-добавление-результатов-в-таблицу-3\"><span class=\"toc-item-num\">3&nbsp;&nbsp;</span>Расчёты и добавление результатов в таблицу</a></span><ul class=\"toc-item\"><li><span><a href=\"#Первая-наша-задача----это-добавление-в-таблицу-цену-квадратного-метра\" data-toc-modified-id=\"Первая-наша-задача----это-добавление-в-таблицу-цену-квадратного-метра-3.1\"><span class=\"toc-item-num\">3.1&nbsp;&nbsp;</span>Первая наша задача  - это добавление в таблицу цену квадратного метра</a></span></li><li><span><a href=\"#Вторая-наша-задача----это-добавление-в-таблицу-день,-месяц,-год-публикации\" data-toc-modified-id=\"Вторая-наша-задача----это-добавление-в-таблицу-день,-месяц,-год-публикации-3.2\"><span class=\"toc-item-num\">3.2&nbsp;&nbsp;</span>Вторая наша задача  - это добавление в таблицу день, месяц, год публикации</a></span></li><li><span><a href=\"#Создание-категорий-этажей\" data-toc-modified-id=\"Создание-категорий-этажей-3.3\"><span class=\"toc-item-num\">3.3&nbsp;&nbsp;</span>Создание категорий этажей</a></span></li><li><span><a href=\"#Отношение-жилой-площади-и-кухни-к-общей-площади-квартиры\" data-toc-modified-id=\"Отношение-жилой-площади-и-кухни-к-общей-площади-квартиры-3.4\"><span class=\"toc-item-num\">3.4&nbsp;&nbsp;</span>Отношение жилой площади и кухни к общей площади квартиры</a></span></li><li><span><a href=\"#Вывод\" data-toc-modified-id=\"Вывод-3.5\"><span class=\"toc-item-num\">3.5&nbsp;&nbsp;</span>Вывод</a></span></li></ul></li><li><span><a href=\"#Исследовательский-анализ-данных\" data-toc-modified-id=\"Исследовательский-анализ-данных-4\"><span class=\"toc-item-num\">4&nbsp;&nbsp;</span>Исследовательский анализ данных</a></span><ul class=\"toc-item\"><li><span><a href=\"#Исследование-параметров-:-площадь,-цена,-число-комнат-и-высоты-потолков\" data-toc-modified-id=\"Исследование-параметров-:-площадь,-цена,-число-комнат-и-высоты-потолков-4.1\"><span class=\"toc-item-num\">4.1&nbsp;&nbsp;</span>Исследование параметров : площадь, цена, число комнат и высоты потолков</a></span></li><li><span><a href=\"#Время-продажи-квартиры\" data-toc-modified-id=\"Время-продажи-квартиры-4.2\"><span class=\"toc-item-num\">4.2&nbsp;&nbsp;</span>Время продажи квартиры</a></span></li><li><span><a href=\"#Удаление-редких-и-выбивающихся-значений.-Нахождение-особенностей\" data-toc-modified-id=\"Удаление-редких-и-выбивающихся-значений.-Нахождение-особенностей-4.3\"><span class=\"toc-item-num\">4.3&nbsp;&nbsp;</span>Удаление редких и выбивающихся значений. Нахождение особенностей</a></span></li><li><span><a href=\"#Какие-факторы-больше-всего-влияют-на-стоимость-квартиры?\" data-toc-modified-id=\"Какие-факторы-больше-всего-влияют-на-стоимость-квартиры?-4.4\"><span class=\"toc-item-num\">4.4&nbsp;&nbsp;</span>Какие факторы больше всего влияют на стоимость квартиры?</a></span><ul class=\"toc-item\"><li><span><a href=\"#Зависимость-цены-квадратного-метра-от-общей-площади-квартиры\" data-toc-modified-id=\"Зависимость-цены-квадратного-метра-от-общей-площади-квартиры-4.4.1\"><span class=\"toc-item-num\">4.4.1&nbsp;&nbsp;</span>Зависимость цены квадратного метра от общей площади квартиры</a></span></li><li><span><a href=\"#Зависимость-цены-квадратного-метра-от-числа-комнат\" data-toc-modified-id=\"Зависимость-цены-квадратного-метра-от-числа-комнат-4.4.2\"><span class=\"toc-item-num\">4.4.2&nbsp;&nbsp;</span>Зависимость цены квадратного метра от числа комнат</a></span></li><li><span><a href=\"#Зависимость-цены-квадратного-метра-от-этажа-в-квартире\" data-toc-modified-id=\"Зависимость-цены-квадратного-метра-от-этажа-в-квартире-4.4.3\"><span class=\"toc-item-num\">4.4.3&nbsp;&nbsp;</span>Зависимость цены квадратного метра от этажа в квартире</a></span></li><li><span><a href=\"#Зависимость-цены-квадратного-метра-от-удаленности-от-центра\" data-toc-modified-id=\"Зависимость-цены-квадратного-метра-от-удаленности-от-центра-4.4.4\"><span class=\"toc-item-num\">4.4.4&nbsp;&nbsp;</span>Зависимость цены квадратного метра от удаленности от центра</a></span></li><li><span><a href=\"#Изучим-зависимость-от-даты-размещения:-дня-недели,-месяца-и-года\" data-toc-modified-id=\"Изучим-зависимость-от-даты-размещения:-дня-недели,-месяца-и-года-4.4.5\"><span class=\"toc-item-num\">4.4.5&nbsp;&nbsp;</span>Изучим зависимость от даты размещения: дня недели, месяца и года</a></span></li><li><span><a href=\"#Выбираем-10-населённых-пунктов-с-наибольшим-числом-объявлений.-Самый-дорогой-и-дешевый-населенный-пункт.\" data-toc-modified-id=\"Выбираем-10-населённых-пунктов-с-наибольшим-числом-объявлений.-Самый-дорогой-и-дешевый-населенный-пункт.-4.4.6\"><span class=\"toc-item-num\">4.4.6&nbsp;&nbsp;</span>Выбираем 10 населённых пунктов с наибольшим числом объявлений. Самый дорогой и дешевый населенный пункт.</a></span></li></ul></li><li><span><a href=\"#Нахождние-центральной-зоны-Санкт---Петербурга\" data-toc-modified-id=\"Нахождние-центральной-зоны-Санкт---Петербурга-4.5\"><span class=\"toc-item-num\">4.5&nbsp;&nbsp;</span>Нахождние центральной зоны Санкт - Петербурга</a></span></li><li><span><a href=\"#Анализ-центральной-области-Санкт-Петербурга\" data-toc-modified-id=\"Анализ-центральной-области-Санкт-Петербурга-4.6\"><span class=\"toc-item-num\">4.6&nbsp;&nbsp;</span>Анализ центральной области Санкт-Петербурга</a></span></li></ul></li><li><span><a href=\"#Общий-вывод\" data-toc-modified-id=\"Общий-вывод-5\"><span class=\"toc-item-num\">5&nbsp;&nbsp;</span>Общий вывод</a></span></li><li><span><a href=\"#Чек-лист-готовности-проекта\" data-toc-modified-id=\"Чек-лист-готовности-проекта-6\"><span class=\"toc-item-num\">6&nbsp;&nbsp;</span>Чек-лист готовности проекта</a></span></li></ul></div>"
   ]
  },
  {
   "cell_type": "markdown",
   "metadata": {},
   "source": [
    "# Исследование объявлений о продаже квартир\n",
    "\n",
    "В вашем распоряжении данные сервиса Яндекс.Недвижимость — архив объявлений о продаже квартир в Санкт-Петербурге и соседних населённых пунктах за несколько лет. Нужно научиться определять рыночную стоимость объектов недвижимости. Ваша задача — установить параметры. Это позволит построить автоматизированную систему: она отследит аномалии и мошенническую деятельность. \n",
    "\n",
    "По каждой квартире на продажу доступны два вида данных. Первые вписаны пользователем, вторые получены автоматически на основе картографических данных. Например, расстояние до центра, аэропорта, ближайшего парка и водоёма. "
   ]
  },
  {
   "cell_type": "markdown",
   "metadata": {},
   "source": [
    "## Изучение данных из файла"
   ]
  },
  {
   "cell_type": "code",
   "execution_count": 138,
   "metadata": {},
   "outputs": [],
   "source": [
    "import pandas as pd #импортируем Pandas для работы с данными в pd\n",
    "import matplotlib.pyplot as plt\n",
    "import seaborn as sns #библиотека для визуализации"
   ]
  },
  {
   "cell_type": "code",
   "execution_count": 65,
   "metadata": {
    "scrolled": true
   },
   "outputs": [
    {
     "name": "stdout",
     "output_type": "stream",
     "text": [
      "<class 'pandas.core.frame.DataFrame'>\n",
      "RangeIndex: 23699 entries, 0 to 23698\n",
      "Data columns (total 22 columns):\n",
      "total_images            23699 non-null int64\n",
      "last_price              23699 non-null float64\n",
      "total_area              23699 non-null float64\n",
      "first_day_exposition    23699 non-null object\n",
      "rooms                   23699 non-null int64\n",
      "ceiling_height          14504 non-null float64\n",
      "floors_total            23613 non-null float64\n",
      "living_area             21796 non-null float64\n",
      "floor                   23699 non-null int64\n",
      "is_apartment            2775 non-null object\n",
      "studio                  23699 non-null bool\n",
      "open_plan               23699 non-null bool\n",
      "kitchen_area            21421 non-null float64\n",
      "balcony                 12180 non-null float64\n",
      "locality_name           23650 non-null object\n",
      "airports_nearest        18157 non-null float64\n",
      "cityCenters_nearest     18180 non-null float64\n",
      "parks_around3000        18181 non-null float64\n",
      "parks_nearest           8079 non-null float64\n",
      "ponds_around3000        18181 non-null float64\n",
      "ponds_nearest           9110 non-null float64\n",
      "days_exposition         20518 non-null float64\n",
      "dtypes: bool(2), float64(14), int64(3), object(3)\n",
      "memory usage: 3.7+ MB\n"
     ]
    },
    {
     "data": {
      "text/html": [
       "<div>\n",
       "<style scoped>\n",
       "    .dataframe tbody tr th:only-of-type {\n",
       "        vertical-align: middle;\n",
       "    }\n",
       "\n",
       "    .dataframe tbody tr th {\n",
       "        vertical-align: top;\n",
       "    }\n",
       "\n",
       "    .dataframe thead th {\n",
       "        text-align: right;\n",
       "    }\n",
       "</style>\n",
       "<table border=\"1\" class=\"dataframe\">\n",
       "  <thead>\n",
       "    <tr style=\"text-align: right;\">\n",
       "      <th></th>\n",
       "      <th>total_images</th>\n",
       "      <th>last_price</th>\n",
       "      <th>total_area</th>\n",
       "      <th>first_day_exposition</th>\n",
       "      <th>rooms</th>\n",
       "      <th>ceiling_height</th>\n",
       "      <th>floors_total</th>\n",
       "      <th>living_area</th>\n",
       "      <th>floor</th>\n",
       "      <th>is_apartment</th>\n",
       "      <th>...</th>\n",
       "      <th>kitchen_area</th>\n",
       "      <th>balcony</th>\n",
       "      <th>locality_name</th>\n",
       "      <th>airports_nearest</th>\n",
       "      <th>cityCenters_nearest</th>\n",
       "      <th>parks_around3000</th>\n",
       "      <th>parks_nearest</th>\n",
       "      <th>ponds_around3000</th>\n",
       "      <th>ponds_nearest</th>\n",
       "      <th>days_exposition</th>\n",
       "    </tr>\n",
       "  </thead>\n",
       "  <tbody>\n",
       "    <tr>\n",
       "      <td>0</td>\n",
       "      <td>20</td>\n",
       "      <td>13000000.0</td>\n",
       "      <td>108.0</td>\n",
       "      <td>2019-03-07T00:00:00</td>\n",
       "      <td>3</td>\n",
       "      <td>2.70</td>\n",
       "      <td>16.0</td>\n",
       "      <td>51.0</td>\n",
       "      <td>8</td>\n",
       "      <td>NaN</td>\n",
       "      <td>...</td>\n",
       "      <td>25.0</td>\n",
       "      <td>NaN</td>\n",
       "      <td>Санкт-Петербург</td>\n",
       "      <td>18863.0</td>\n",
       "      <td>16028.0</td>\n",
       "      <td>1.0</td>\n",
       "      <td>482.0</td>\n",
       "      <td>2.0</td>\n",
       "      <td>755.0</td>\n",
       "      <td>NaN</td>\n",
       "    </tr>\n",
       "    <tr>\n",
       "      <td>1</td>\n",
       "      <td>7</td>\n",
       "      <td>3350000.0</td>\n",
       "      <td>40.4</td>\n",
       "      <td>2018-12-04T00:00:00</td>\n",
       "      <td>1</td>\n",
       "      <td>NaN</td>\n",
       "      <td>11.0</td>\n",
       "      <td>18.6</td>\n",
       "      <td>1</td>\n",
       "      <td>NaN</td>\n",
       "      <td>...</td>\n",
       "      <td>11.0</td>\n",
       "      <td>2.0</td>\n",
       "      <td>посёлок Шушары</td>\n",
       "      <td>12817.0</td>\n",
       "      <td>18603.0</td>\n",
       "      <td>0.0</td>\n",
       "      <td>NaN</td>\n",
       "      <td>0.0</td>\n",
       "      <td>NaN</td>\n",
       "      <td>81.0</td>\n",
       "    </tr>\n",
       "    <tr>\n",
       "      <td>2</td>\n",
       "      <td>10</td>\n",
       "      <td>5196000.0</td>\n",
       "      <td>56.0</td>\n",
       "      <td>2015-08-20T00:00:00</td>\n",
       "      <td>2</td>\n",
       "      <td>NaN</td>\n",
       "      <td>5.0</td>\n",
       "      <td>34.3</td>\n",
       "      <td>4</td>\n",
       "      <td>NaN</td>\n",
       "      <td>...</td>\n",
       "      <td>8.3</td>\n",
       "      <td>0.0</td>\n",
       "      <td>Санкт-Петербург</td>\n",
       "      <td>21741.0</td>\n",
       "      <td>13933.0</td>\n",
       "      <td>1.0</td>\n",
       "      <td>90.0</td>\n",
       "      <td>2.0</td>\n",
       "      <td>574.0</td>\n",
       "      <td>558.0</td>\n",
       "    </tr>\n",
       "    <tr>\n",
       "      <td>3</td>\n",
       "      <td>0</td>\n",
       "      <td>64900000.0</td>\n",
       "      <td>159.0</td>\n",
       "      <td>2015-07-24T00:00:00</td>\n",
       "      <td>3</td>\n",
       "      <td>NaN</td>\n",
       "      <td>14.0</td>\n",
       "      <td>NaN</td>\n",
       "      <td>9</td>\n",
       "      <td>NaN</td>\n",
       "      <td>...</td>\n",
       "      <td>NaN</td>\n",
       "      <td>0.0</td>\n",
       "      <td>Санкт-Петербург</td>\n",
       "      <td>28098.0</td>\n",
       "      <td>6800.0</td>\n",
       "      <td>2.0</td>\n",
       "      <td>84.0</td>\n",
       "      <td>3.0</td>\n",
       "      <td>234.0</td>\n",
       "      <td>424.0</td>\n",
       "    </tr>\n",
       "    <tr>\n",
       "      <td>4</td>\n",
       "      <td>2</td>\n",
       "      <td>10000000.0</td>\n",
       "      <td>100.0</td>\n",
       "      <td>2018-06-19T00:00:00</td>\n",
       "      <td>2</td>\n",
       "      <td>3.03</td>\n",
       "      <td>14.0</td>\n",
       "      <td>32.0</td>\n",
       "      <td>13</td>\n",
       "      <td>NaN</td>\n",
       "      <td>...</td>\n",
       "      <td>41.0</td>\n",
       "      <td>NaN</td>\n",
       "      <td>Санкт-Петербург</td>\n",
       "      <td>31856.0</td>\n",
       "      <td>8098.0</td>\n",
       "      <td>2.0</td>\n",
       "      <td>112.0</td>\n",
       "      <td>1.0</td>\n",
       "      <td>48.0</td>\n",
       "      <td>121.0</td>\n",
       "    </tr>\n",
       "  </tbody>\n",
       "</table>\n",
       "<p>5 rows × 22 columns</p>\n",
       "</div>"
      ],
      "text/plain": [
       "   total_images  last_price  total_area first_day_exposition  rooms  \\\n",
       "0            20  13000000.0       108.0  2019-03-07T00:00:00      3   \n",
       "1             7   3350000.0        40.4  2018-12-04T00:00:00      1   \n",
       "2            10   5196000.0        56.0  2015-08-20T00:00:00      2   \n",
       "3             0  64900000.0       159.0  2015-07-24T00:00:00      3   \n",
       "4             2  10000000.0       100.0  2018-06-19T00:00:00      2   \n",
       "\n",
       "   ceiling_height  floors_total  living_area  floor is_apartment  ...  \\\n",
       "0            2.70          16.0         51.0      8          NaN  ...   \n",
       "1             NaN          11.0         18.6      1          NaN  ...   \n",
       "2             NaN           5.0         34.3      4          NaN  ...   \n",
       "3             NaN          14.0          NaN      9          NaN  ...   \n",
       "4            3.03          14.0         32.0     13          NaN  ...   \n",
       "\n",
       "   kitchen_area  balcony    locality_name  airports_nearest  \\\n",
       "0          25.0      NaN  Санкт-Петербург           18863.0   \n",
       "1          11.0      2.0   посёлок Шушары           12817.0   \n",
       "2           8.3      0.0  Санкт-Петербург           21741.0   \n",
       "3           NaN      0.0  Санкт-Петербург           28098.0   \n",
       "4          41.0      NaN  Санкт-Петербург           31856.0   \n",
       "\n",
       "  cityCenters_nearest  parks_around3000  parks_nearest  ponds_around3000  \\\n",
       "0             16028.0               1.0          482.0               2.0   \n",
       "1             18603.0               0.0            NaN               0.0   \n",
       "2             13933.0               1.0           90.0               2.0   \n",
       "3              6800.0               2.0           84.0               3.0   \n",
       "4              8098.0               2.0          112.0               1.0   \n",
       "\n",
       "   ponds_nearest  days_exposition  \n",
       "0          755.0              NaN  \n",
       "1            NaN             81.0  \n",
       "2          574.0            558.0  \n",
       "3          234.0            424.0  \n",
       "4           48.0            121.0  \n",
       "\n",
       "[5 rows x 22 columns]"
      ]
     },
     "execution_count": 65,
     "metadata": {},
     "output_type": "execute_result"
    }
   ],
   "source": [
    "data = pd.read_csv(\"/datasets/real_estate_data.csv\", sep = \"\\t\") # откроем и сохраним файл, знак разделителя \\\n",
    "data.info() # информация для всей таблицы\n",
    "data.head() #первые 5 строк\n"
   ]
  },
  {
   "cell_type": "markdown",
   "metadata": {},
   "source": [
    "### Вывод"
   ]
  },
  {
   "cell_type": "markdown",
   "metadata": {},
   "source": [
    "Таким образом, мы отобразили таблицу и информацию о ней. \n",
    "Приведем обозначения столбцов:\n",
    "* total_images - количество фотографий квартиры\n",
    "* last_price - цена на момент снятия с публикации\n",
    "* total_area - площадь квартиры в м^2\n",
    "* first_day_exposition\t- дата публикации\n",
    "* rooms - количество комнат\n",
    "* ceiling_height - высота потолков в метрах\n",
    "* floors_total - всего этажей в здании\n",
    "* living_area - жилая площадь в квадратных метрах (м²)\n",
    "* floor - этаж\n",
    "* is_apartment - аппартаменты\n",
    "* kithen_area - площадь кухни в квадратных метрах (м²)\n",
    "* balcony - число балконов\n",
    "* locality_name — название населённого пункта\n",
    "* airports_nearest - расстояние до ближайшего аэропорта в метрах\n",
    "* cityCenters_nearest - расстояние до центра города в метрах\n",
    "* parks_around3000 - число парков в радиусе 3 км\n",
    "* parks_nearest - расстояние до ближайшего парка в метрах\n",
    "* ponds_around3000 - число водоемов в радиусе 3 км\n",
    "* ponds_nearest -  расстояние до ближайшего водоема в метрах\n",
    "* days_exposition - сколько дней было размещено объявление (от публикации до снятия)\n",
    "* open_plan - свободная планировка \n",
    "* studio — квартира-студия\n",
    "\n",
    "Заметим, что часть данных нужно привести к другому типу данных:\n",
    "\n",
    "* first_day_exposition к datatime\n",
    "* floors_total к int\n",
    "* is_apartment к bool\n",
    "* balcony к int\n",
    "* days_exposition к int\n",
    "* parks_around3000 к int\n",
    "* ponds_around3000 к int \n",
    "\n",
    "Нулевые значения присутсвуют в столбцах:\n",
    "* ceiling_height\n",
    "* floors_total\n",
    "* living_area\n",
    "* kitchen_area\n",
    "* locality_name\n",
    "* airports_nearest\n",
    "* cityCenters_nearest\n",
    "* parks_around3000        \n",
    "* parks_nearest           \n",
    "* ponds_around3000        \n",
    "* ponds_nearest           \n",
    "* days_exposition         \n"
   ]
  },
  {
   "cell_type": "markdown",
   "metadata": {},
   "source": [
    "## Предобработка данных"
   ]
  },
  {
   "cell_type": "markdown",
   "metadata": {},
   "source": [
    "### Обработка пропусков в данных, а так же изменение типов данных"
   ]
  },
  {
   "cell_type": "code",
   "execution_count": 66,
   "metadata": {},
   "outputs": [
    {
     "data": {
      "text/plain": [
       "2018-02-01T00:00:00    368\n",
       "2017-11-10T00:00:00    240\n",
       "2017-10-13T00:00:00    124\n",
       "2017-09-27T00:00:00    111\n",
       "2018-03-26T00:00:00     97\n",
       "                      ... \n",
       "2016-08-18T00:00:00      1\n",
       "2015-08-02T00:00:00      1\n",
       "2017-02-25T00:00:00      1\n",
       "2015-05-15T00:00:00      1\n",
       "2016-08-03T00:00:00      1\n",
       "Name: first_day_exposition, Length: 1491, dtype: int64"
      ]
     },
     "execution_count": 66,
     "metadata": {},
     "output_type": "execute_result"
    }
   ],
   "source": [
    "data[\"first_day_exposition\"].value_counts() # рассмотрим все значения даты публикации\n"
   ]
  },
  {
   "cell_type": "code",
   "execution_count": 67,
   "metadata": {},
   "outputs": [
    {
     "data": {
      "text/plain": [
       "0       2019-03-07\n",
       "1       2018-12-04\n",
       "2       2015-08-20\n",
       "3       2015-07-24\n",
       "4       2018-06-19\n",
       "           ...    \n",
       "23694   2017-03-21\n",
       "23695   2018-01-15\n",
       "23696   2018-02-11\n",
       "23697   2017-03-28\n",
       "23698   2017-07-21\n",
       "Name: first_day_exposition, Length: 23699, dtype: datetime64[ns]"
      ]
     },
     "execution_count": 67,
     "metadata": {},
     "output_type": "execute_result"
    }
   ],
   "source": [
    "data['first_day_exposition'] = pd.to_datetime(data['first_day_exposition'], format = \"%Y-%m-%d\")\n",
    "data['first_day_exposition']"
   ]
  },
  {
   "cell_type": "code",
   "execution_count": 68,
   "metadata": {},
   "outputs": [
    {
     "data": {
      "text/plain": [
       "count    14504.000000\n",
       "mean         2.771499\n",
       "std          1.261056\n",
       "min          1.000000\n",
       "25%          2.520000\n",
       "50%          2.650000\n",
       "75%          2.800000\n",
       "max        100.000000\n",
       "Name: ceiling_height, dtype: float64"
      ]
     },
     "execution_count": 68,
     "metadata": {},
     "output_type": "execute_result"
    }
   ],
   "source": [
    "data[\"ceiling_height\"].describe() # выведем числовое описание высоты потолков"
   ]
  },
  {
   "cell_type": "markdown",
   "metadata": {},
   "source": [
    "Как мы можем увидеть, максимальное значение явно выбивается из средних значений высот потолков, проверим кореляцию, чтобы принять решение о замене данного параметра и о его влиянии на различные показатели."
   ]
  },
  {
   "cell_type": "code",
   "execution_count": 69,
   "metadata": {},
   "outputs": [
    {
     "data": {
      "text/plain": [
       "0.08543030982842603"
      ]
     },
     "execution_count": 69,
     "metadata": {},
     "output_type": "execute_result"
    }
   ],
   "source": [
    "data[\"ceiling_height\"].corr(data[\"last_price\"]) # выведем кореляцию высоты потолка и цены квартиры на момент публикации"
   ]
  },
  {
   "cell_type": "markdown",
   "metadata": {},
   "source": [
    "Кореляция мала, следовательно высота потолков не оказывает сильного влияния на стоимость кварирты, предлагаю заменить значение на среднее и перейти к заполнению пропусков."
   ]
  },
  {
   "cell_type": "code",
   "execution_count": 70,
   "metadata": {},
   "outputs": [],
   "source": [
    "ceiling_height_mean =  data.query('ceiling_height != 100')[\"ceiling_height\"].mean() # сделаем срез данных значений высот потолка отлчиных от 100 \n",
    "                                                                #и найдем среднее значение\n",
    "data[\"ceiling_height\"] = data[\"ceiling_height\"].replace(100, ceiling_height_mean) #заменим 100 на среднее значение\n"
   ]
  },
  {
   "cell_type": "code",
   "execution_count": 71,
   "metadata": {},
   "outputs": [
    {
     "data": {
      "text/plain": [
       "9195"
      ]
     },
     "execution_count": 71,
     "metadata": {},
     "output_type": "execute_result"
    }
   ],
   "source": [
    "data[\"ceiling_height\"].isna().sum() # количество пропусков в столбце методом isna(), потом sum() для сумировная строчек\n"
   ]
  },
  {
   "cell_type": "markdown",
   "metadata": {},
   "source": [
    "Из-за низкой корреляции высоты потолков с параметрами стоимости, предлагаю заменить пропущенные значения на среднее значение столбца."
   ]
  },
  {
   "cell_type": "code",
   "execution_count": 72,
   "metadata": {},
   "outputs": [],
   "source": [
    "data[\"ceiling_height\"] = data[\"ceiling_height\"].fillna(data[\"ceiling_height\"].mean()) #\n",
    "#'''меняем пропущенные значения на среднее арифметическое методом fillna к указанному столбцу'''\n",
    "\n"
   ]
  },
  {
   "cell_type": "code",
   "execution_count": 73,
   "metadata": {},
   "outputs": [
    {
     "data": {
      "text/plain": [
       "5.0     5788\n",
       "9.0     3761\n",
       "16.0    1376\n",
       "12.0    1362\n",
       "4.0     1200\n",
       "10.0    1174\n",
       "25.0    1075\n",
       "6.0      914\n",
       "17.0     833\n",
       "3.0      668\n",
       "7.0      592\n",
       "14.0     553\n",
       "18.0     505\n",
       "24.0     469\n",
       "8.0      390\n",
       "2.0      383\n",
       "15.0     365\n",
       "23.0     352\n",
       "19.0     339\n",
       "22.0     286\n",
       "20.0     271\n",
       "13.0     229\n",
       "11.0     203\n",
       "27.0     164\n",
       "21.0     158\n",
       "26.0     124\n",
       "1.0       25\n",
       "35.0      24\n",
       "28.0      21\n",
       "36.0       3\n",
       "29.0       1\n",
       "60.0       1\n",
       "33.0       1\n",
       "52.0       1\n",
       "37.0       1\n",
       "34.0       1\n",
       "Name: floors_total, dtype: int64"
      ]
     },
     "execution_count": 73,
     "metadata": {},
     "output_type": "execute_result"
    }
   ],
   "source": [
    "data[\"floors_total\"].value_counts() # псмотрим значения, количества этажей"
   ]
  },
  {
   "cell_type": "markdown",
   "metadata": {},
   "source": [
    "Каких-то аномальных значений нет, следовательно посчитаем кореляцию и заполним пропуски"
   ]
  },
  {
   "cell_type": "code",
   "execution_count": 74,
   "metadata": {},
   "outputs": [
    {
     "data": {
      "text/plain": [
       "-0.006983534007227366"
      ]
     },
     "execution_count": 74,
     "metadata": {},
     "output_type": "execute_result"
    }
   ],
   "source": [
    "data[\"floors_total\"].corr(data[\"last_price\"]) # кореляция "
   ]
  },
  {
   "cell_type": "code",
   "execution_count": 75,
   "metadata": {},
   "outputs": [],
   "source": [
    "data[\"floors_total\"] = data[\"floors_total\"].fillna(data[\"floors_total\"].mean()) # заменяем пропуски на среднее значение"
   ]
  },
  {
   "cell_type": "markdown",
   "metadata": {},
   "source": [
    "Так как количество этажей -  целочисленный параметр, для экономия памяти предлагаю его поменять тип на int\n"
   ]
  },
  {
   "cell_type": "code",
   "execution_count": 76,
   "metadata": {},
   "outputs": [],
   "source": [
    "data[\"floors_total\"] = data[\"floors_total\"].astype(\"int\") #замена типа данных методом astype()"
   ]
  },
  {
   "cell_type": "code",
   "execution_count": 77,
   "metadata": {},
   "outputs": [],
   "source": [
    "data[\"is_apartment\"] = data[\"is_apartment\"].astype(\"bool\")# замена типа данный на булевый тип, где 1 - опертаменты, 0 - их отсутсвие"
   ]
  },
  {
   "cell_type": "code",
   "execution_count": 78,
   "metadata": {},
   "outputs": [
    {
     "data": {
      "text/plain": [
       "11519"
      ]
     },
     "execution_count": 78,
     "metadata": {},
     "output_type": "execute_result"
    }
   ],
   "source": [
    "data[\"balcony\"].isna().sum() #количество пропусков в графе количество балконов"
   ]
  },
  {
   "cell_type": "markdown",
   "metadata": {},
   "source": [
    "Следовательно, пропуски - это отсутсвие балконов, графы которых не заполняли пользователи, значит их значение 0."
   ]
  },
  {
   "cell_type": "code",
   "execution_count": 79,
   "metadata": {},
   "outputs": [
    {
     "name": "stdout",
     "output_type": "stream",
     "text": [
      "0\n"
     ]
    }
   ],
   "source": [
    "data[\"balcony\"] = data[\"balcony\"].fillna(0) # заменяем пропуски на 0\n",
    "print(data[\"balcony\"].isna().sum()) # проверяем результат действия\n",
    "data[\"balcony\"] = data[\"balcony\"].astype(\"int\") #меняем тип данных на тип int для экономия памяти"
   ]
  },
  {
   "cell_type": "code",
   "execution_count": 80,
   "metadata": {},
   "outputs": [],
   "source": [
    "data[\"days_exposition\"] = data[\"days_exposition\"].fillna(0) # заменим пропуски количества дней на нули\n",
    "data[\"days_exposition\"] = data[\"days_exposition\"].astype(\"int\") #заменим тип данных на целочисленный для экономии памяти и целесообразнее дни иметь целочисленным числом"
   ]
  },
  {
   "cell_type": "code",
   "execution_count": 81,
   "metadata": {},
   "outputs": [
    {
     "data": {
      "text/plain": [
       "count    21796.000000\n",
       "mean        34.457852\n",
       "std         22.030445\n",
       "min          2.000000\n",
       "25%         18.600000\n",
       "50%         30.000000\n",
       "75%         42.300000\n",
       "max        409.700000\n",
       "Name: living_area, dtype: float64"
      ]
     },
     "execution_count": 81,
     "metadata": {},
     "output_type": "execute_result"
    }
   ],
   "source": [
    "data[\"living_area\"].describe() #просмотрим информацию о жилой площади"
   ]
  },
  {
   "cell_type": "markdown",
   "metadata": {},
   "source": [
    "Предположу, что жилая площадь зависит от количества комнат в квартире, для этого посмотрим количество комнат в датасете.\n",
    "Мы имеем право ориентироваться на комнаты, так как пропуски в столбце отствуют и кореляция высока:"
   ]
  },
  {
   "cell_type": "code",
   "execution_count": 82,
   "metadata": {},
   "outputs": [
    {
     "data": {
      "text/plain": [
       "0.8459774567888746"
      ]
     },
     "execution_count": 82,
     "metadata": {},
     "output_type": "execute_result"
    }
   ],
   "source": [
    "data[\"living_area\"].corr(data[\"rooms\"]) #зависимость жилой площади и количества комнат"
   ]
  },
  {
   "cell_type": "code",
   "execution_count": 83,
   "metadata": {},
   "outputs": [
    {
     "data": {
      "text/plain": [
       "1     8047\n",
       "2     7940\n",
       "3     5814\n",
       "4     1180\n",
       "5      326\n",
       "0      197\n",
       "6      105\n",
       "7       59\n",
       "8       12\n",
       "9        8\n",
       "10       3\n",
       "14       2\n",
       "11       2\n",
       "19       1\n",
       "12       1\n",
       "16       1\n",
       "15       1\n",
       "Name: rooms, dtype: int64"
      ]
     },
     "execution_count": 83,
     "metadata": {},
     "output_type": "execute_result"
    }
   ],
   "source": [
    "data[\"rooms\"].value_counts() #количество уникальных значений в столбце с количеством комнтат"
   ]
  },
  {
   "cell_type": "markdown",
   "metadata": {},
   "source": [
    "Предлагаю заменить пропущенные значения на средние значения жилой площади для каждой квартиры на основе количества комнат\n",
    "Использую цикл, чтобы не прописывать для кажого значения отдельно "
   ]
  },
  {
   "cell_type": "code",
   "execution_count": 84,
   "metadata": {},
   "outputs": [
    {
     "name": "stdout",
     "output_type": "stream",
     "text": [
      "0\n"
     ]
    }
   ],
   "source": [
    "data[\"living_area\"] = data[\"living_area\"].fillna(0) ##меняем пропущенные значения на 0\n",
    "for i in range(1,16): #пройдемся по массиву количества комнат\n",
    "    mean_living_area = data.query('rooms == @i')[\"living_area\"].mean() #вычислим среднее арифметическое для каждого i\n",
    "    data[(data[\"living_area\"] == 0 ) & (data[\"rooms\"] == i)].replace(0, mean_living_area ) #для кажддой строчки удовлетворяющей условию меняем на среднен\n",
    "print(data[\"living_area\"].isna().sum()) #проверяем количество пропусков"
   ]
  },
  {
   "cell_type": "code",
   "execution_count": 85,
   "metadata": {},
   "outputs": [
    {
     "data": {
      "text/plain": [
       "2278"
      ]
     },
     "execution_count": 85,
     "metadata": {},
     "output_type": "execute_result"
    }
   ],
   "source": [
    "data[\"kitchen_area\"].isna().sum() #просмотрим количество пропусков в таблице с жилой площадью"
   ]
  },
  {
   "cell_type": "code",
   "execution_count": 86,
   "metadata": {},
   "outputs": [
    {
     "data": {
      "text/plain": [
       "0.5198690130216387"
      ]
     },
     "execution_count": 86,
     "metadata": {},
     "output_type": "execute_result"
    }
   ],
   "source": [
    "data[\"kitchen_area\"].corr(data[\"last_price\"]) #кореляция есть, не особо существенная, попробуем заполнить часть пропусков"
   ]
  },
  {
   "cell_type": "markdown",
   "metadata": {},
   "source": [
    "Для квартир-студий, площадь кухни равно 0, добавим это в таблицу."
   ]
  },
  {
   "cell_type": "code",
   "execution_count": 87,
   "metadata": {},
   "outputs": [
    {
     "data": {
      "text/plain": [
       "2129"
      ]
     },
     "execution_count": 87,
     "metadata": {},
     "output_type": "execute_result"
    }
   ],
   "source": [
    "data.loc[data['studio'] == True, 'kitchen_area'] = 0 #меняем значения, где студия на нули\n",
    "data[\"kitchen_area\"].isna().sum() #находим количество пропусков"
   ]
  },
  {
   "cell_type": "markdown",
   "metadata": {},
   "source": [
    "Таким обрзом, мы избавились от части пропущенных значений, теперь посмотрим как площадь квартиры коррелируется с площадью кухни"
   ]
  },
  {
   "cell_type": "code",
   "execution_count": 88,
   "metadata": {},
   "outputs": [
    {
     "data": {
      "text/plain": [
       "count    23699.000000\n",
       "mean        60.348651\n",
       "std         35.654083\n",
       "min         12.000000\n",
       "25%         40.000000\n",
       "50%         52.000000\n",
       "75%         69.900000\n",
       "max        900.000000\n",
       "Name: total_area, dtype: float64"
      ]
     },
     "execution_count": 88,
     "metadata": {},
     "output_type": "execute_result"
    }
   ],
   "source": [
    "data[\"total_area\"].describe() #числовое описание для площади дилья"
   ]
  },
  {
   "cell_type": "markdown",
   "metadata": {},
   "source": [
    "Следовательно, есть несколько типов квартир:\n",
    "* до 40 \n",
    "* с 40 до 50\n",
    "* с 50 до 70\n",
    "* с 70\n",
    "* больше 100, так как приствует большое количество квартир с большей площадью"
   ]
  },
  {
   "cell_type": "code",
   "execution_count": 89,
   "metadata": {},
   "outputs": [
    {
     "name": "stdout",
     "output_type": "stream",
     "text": [
      "8.120173539839522\n",
      "8.754349293398018\n",
      "9.714946757018392\n",
      "12.945168008886421\n",
      "20.686217833632554\n"
     ]
    }
   ],
   "source": [
    "print(data[data[\"total_area\"] <= 40][\"kitchen_area\"].mean()) #площадь кухни для квартир до 40 м^2\n",
    "print(data[(data[\"total_area\"] <= 50) & (data[\"total_area\"] > 40)][\"kitchen_area\"].mean()) #площадь кухни для квартир до 50\n",
    "print(data[(data[\"total_area\"] <= 70) & (data[\"total_area\"] > 50)][\"kitchen_area\"].mean()) # от 50 до 70\n",
    "print(data[(data[\"total_area\"] <= 100) & (data[\"total_area\"] > 70)][\"kitchen_area\"].mean()) # от 70 до 100\n",
    "print(data[data[\"total_area\"] > 100][\"kitchen_area\"].mean()) #свыше 100\n"
   ]
  },
  {
   "cell_type": "markdown",
   "metadata": {},
   "source": [
    "Для каждой категории найдем среднее значение площади кухни и сохраним в соотвествующие переменные, т.к query() уже использовали, используем прямой метод для повторения:)"
   ]
  },
  {
   "cell_type": "code",
   "execution_count": 90,
   "metadata": {},
   "outputs": [],
   "source": [
    "mean_40 = data[data[\"total_area\"] <= 40][\"kitchen_area\"].mean() #площадь кухни для квартир до 40 м^2\n",
    "mean_40_50 = data[(data[\"total_area\"] <= 50) & (data[\"total_area\"] > 40)][\"kitchen_area\"].mean() #площадь кухни для квартир до 50\n",
    "mean_50_70 = data[(data[\"total_area\"] <= 70) & (data[\"total_area\"] > 50)][\"kitchen_area\"].mean() # от 50 до 70\n",
    "mean_70_100 = data[(data[\"total_area\"] <= 100) & (data[\"total_area\"] > 70)][\"kitchen_area\"].mean() # от 70 до 100\n",
    "mean_100 = data[data[\"total_area\"] > 100][\"kitchen_area\"].mean() #свыше 100"
   ]
  },
  {
   "cell_type": "markdown",
   "metadata": {},
   "source": [
    "С помоощью конструкции data.loc[filter, col] = data.loc[filter, col].fillna() заменим пропуски"
   ]
  },
  {
   "cell_type": "code",
   "execution_count": 91,
   "metadata": {},
   "outputs": [],
   "source": [
    "data.loc[data[\"total_area\"] <= 40, 'kitchen_area'] = data.loc[data[\"total_area\"] <= 40, 'kitchen_area'].fillna(mean_40)\n",
    "data.loc[(data[\"total_area\"] <= 50) & (data[\"total_area\"] > 40), 'kitchen_area'] = data.loc[(data[\"total_area\"] <= 50) & (data[\"total_area\"] > 40), 'kitchen_area'].fillna(mean_40_50)\n",
    "data.loc[(data[\"total_area\"] <= 70) & (data[\"total_area\"] > 50) , 'kitchen_area'] = data.loc[(data[\"total_area\"] <= 70) & (data[\"total_area\"] > 50) , 'kitchen_area'].fillna(mean_50_70)\n",
    "data.loc[(data[\"total_area\"] <= 100) & (data[\"total_area\"] > 70), 'kitchen_area'] = data.loc[(data[\"total_area\"] <= 100) & (data[\"total_area\"] > 70), 'kitchen_area'].fillna(mean_70_100)\n",
    "data.loc[data[\"total_area\"] > 100, \"kitchen_area\"] = data.loc[data[\"total_area\"] > 100, \"kitchen_area\"].fillna(mean_100)"
   ]
  },
  {
   "cell_type": "code",
   "execution_count": 92,
   "metadata": {},
   "outputs": [
    {
     "data": {
      "text/plain": [
       "0"
      ]
     },
     "execution_count": 92,
     "metadata": {},
     "output_type": "execute_result"
    }
   ],
   "source": [
    "data[\"kitchen_area\"].isna().sum() #проверяем наличие пропусков, ура долго не мог придумать как реализовать это"
   ]
  },
  {
   "cell_type": "markdown",
   "metadata": {},
   "source": [
    "Перейдем к проверке столбца locality_name\n"
   ]
  },
  {
   "cell_type": "code",
   "execution_count": 93,
   "metadata": {},
   "outputs": [
    {
     "data": {
      "text/plain": [
       "49"
      ]
     },
     "execution_count": 93,
     "metadata": {},
     "output_type": "execute_result"
    }
   ],
   "source": [
    "data[\"locality_name\"].isna().sum() #всего 49 пропусков, считаю, что целесообразнее оставить их как есть, т.к. не откуда взять эти данные"
   ]
  },
  {
   "cell_type": "code",
   "execution_count": 94,
   "metadata": {},
   "outputs": [
    {
     "data": {
      "text/plain": [
       "0"
      ]
     },
     "execution_count": 94,
     "metadata": {},
     "output_type": "execute_result"
    }
   ],
   "source": [
    "data[\"locality_name\"] = data[\"locality_name\"].fillna(\"NAN\") #заменим на строку указывающая на отсутсвие данных\n",
    "data[\"locality_name\"].isna().sum() #проверяем"
   ]
  },
  {
   "cell_type": "markdown",
   "metadata": {},
   "source": [
    "Далее, категории, которые должны быть заполнены автоматически (картографические) мы не сможем заполнить, так как кореляция на цену их не такая высокая, а так же банально недостаточно данных, они обезличены, а так же их заполнение может привести к низкой объективности значений\n",
    "Кореляцию можно посмотреть ниже:"
   ]
  },
  {
   "cell_type": "code",
   "execution_count": 95,
   "metadata": {
    "scrolled": true
   },
   "outputs": [
    {
     "data": {
      "text/html": [
       "<div>\n",
       "<style scoped>\n",
       "    .dataframe tbody tr th:only-of-type {\n",
       "        vertical-align: middle;\n",
       "    }\n",
       "\n",
       "    .dataframe tbody tr th {\n",
       "        vertical-align: top;\n",
       "    }\n",
       "\n",
       "    .dataframe thead th {\n",
       "        text-align: right;\n",
       "    }\n",
       "</style>\n",
       "<table border=\"1\" class=\"dataframe\">\n",
       "  <thead>\n",
       "    <tr style=\"text-align: right;\">\n",
       "      <th></th>\n",
       "      <th>total_images</th>\n",
       "      <th>last_price</th>\n",
       "      <th>total_area</th>\n",
       "      <th>rooms</th>\n",
       "      <th>ceiling_height</th>\n",
       "      <th>floors_total</th>\n",
       "      <th>living_area</th>\n",
       "      <th>floor</th>\n",
       "      <th>is_apartment</th>\n",
       "      <th>studio</th>\n",
       "      <th>open_plan</th>\n",
       "      <th>kitchen_area</th>\n",
       "      <th>balcony</th>\n",
       "      <th>airports_nearest</th>\n",
       "      <th>cityCenters_nearest</th>\n",
       "      <th>parks_around3000</th>\n",
       "      <th>parks_nearest</th>\n",
       "      <th>ponds_around3000</th>\n",
       "      <th>ponds_nearest</th>\n",
       "      <th>days_exposition</th>\n",
       "    </tr>\n",
       "  </thead>\n",
       "  <tbody>\n",
       "    <tr>\n",
       "      <td>total_images</td>\n",
       "      <td>1.000000</td>\n",
       "      <td>0.104473</td>\n",
       "      <td>0.115352</td>\n",
       "      <td>0.099288</td>\n",
       "      <td>0.007828</td>\n",
       "      <td>0.010694</td>\n",
       "      <td>0.130211</td>\n",
       "      <td>0.031340</td>\n",
       "      <td>0.039860</td>\n",
       "      <td>-0.029303</td>\n",
       "      <td>-0.024407</td>\n",
       "      <td>0.106972</td>\n",
       "      <td>0.048903</td>\n",
       "      <td>-0.002298</td>\n",
       "      <td>-0.047666</td>\n",
       "      <td>0.021120</td>\n",
       "      <td>-0.008347</td>\n",
       "      <td>-0.011553</td>\n",
       "      <td>-0.003034</td>\n",
       "      <td>-0.055593</td>\n",
       "    </tr>\n",
       "    <tr>\n",
       "      <td>last_price</td>\n",
       "      <td>0.104473</td>\n",
       "      <td>1.000000</td>\n",
       "      <td>0.653675</td>\n",
       "      <td>0.363343</td>\n",
       "      <td>0.077307</td>\n",
       "      <td>-0.006989</td>\n",
       "      <td>0.490706</td>\n",
       "      <td>0.026576</td>\n",
       "      <td>0.000640</td>\n",
       "      <td>-0.025362</td>\n",
       "      <td>-0.008802</td>\n",
       "      <td>0.467654</td>\n",
       "      <td>0.008559</td>\n",
       "      <td>-0.026239</td>\n",
       "      <td>-0.206747</td>\n",
       "      <td>0.151058</td>\n",
       "      <td>-0.016414</td>\n",
       "      <td>0.159996</td>\n",
       "      <td>-0.084809</td>\n",
       "      <td>0.053577</td>\n",
       "    </tr>\n",
       "    <tr>\n",
       "      <td>total_area</td>\n",
       "      <td>0.115352</td>\n",
       "      <td>0.653675</td>\n",
       "      <td>1.000000</td>\n",
       "      <td>0.758344</td>\n",
       "      <td>0.106487</td>\n",
       "      <td>-0.075647</td>\n",
       "      <td>0.791720</td>\n",
       "      <td>-0.024754</td>\n",
       "      <td>-0.007836</td>\n",
       "      <td>-0.072653</td>\n",
       "      <td>-0.034885</td>\n",
       "      <td>0.615577</td>\n",
       "      <td>0.009941</td>\n",
       "      <td>-0.030753</td>\n",
       "      <td>-0.231446</td>\n",
       "      <td>0.164689</td>\n",
       "      <td>-0.021497</td>\n",
       "      <td>0.162346</td>\n",
       "      <td>-0.097969</td>\n",
       "      <td>0.097039</td>\n",
       "    </tr>\n",
       "    <tr>\n",
       "      <td>rooms</td>\n",
       "      <td>0.099288</td>\n",
       "      <td>0.363343</td>\n",
       "      <td>0.758344</td>\n",
       "      <td>1.000000</td>\n",
       "      <td>0.062228</td>\n",
       "      <td>-0.227743</td>\n",
       "      <td>0.744691</td>\n",
       "      <td>-0.150862</td>\n",
       "      <td>-0.005338</td>\n",
       "      <td>-0.147286</td>\n",
       "      <td>-0.087500</td>\n",
       "      <td>0.307906</td>\n",
       "      <td>-0.015519</td>\n",
       "      <td>-0.061199</td>\n",
       "      <td>-0.184864</td>\n",
       "      <td>0.137257</td>\n",
       "      <td>-0.054549</td>\n",
       "      <td>0.092693</td>\n",
       "      <td>-0.057689</td>\n",
       "      <td>0.079293</td>\n",
       "    </tr>\n",
       "    <tr>\n",
       "      <td>ceiling_height</td>\n",
       "      <td>0.007828</td>\n",
       "      <td>0.077307</td>\n",
       "      <td>0.106487</td>\n",
       "      <td>0.062228</td>\n",
       "      <td>1.000000</td>\n",
       "      <td>-0.023296</td>\n",
       "      <td>0.095282</td>\n",
       "      <td>-0.010666</td>\n",
       "      <td>-0.034595</td>\n",
       "      <td>0.001931</td>\n",
       "      <td>0.026478</td>\n",
       "      <td>0.087758</td>\n",
       "      <td>0.009301</td>\n",
       "      <td>-0.031910</td>\n",
       "      <td>-0.104115</td>\n",
       "      <td>0.075864</td>\n",
       "      <td>-0.017536</td>\n",
       "      <td>0.074043</td>\n",
       "      <td>-0.057590</td>\n",
       "      <td>0.015066</td>\n",
       "    </tr>\n",
       "    <tr>\n",
       "      <td>floors_total</td>\n",
       "      <td>0.010694</td>\n",
       "      <td>-0.006989</td>\n",
       "      <td>-0.075647</td>\n",
       "      <td>-0.227743</td>\n",
       "      <td>-0.023296</td>\n",
       "      <td>1.000000</td>\n",
       "      <td>-0.153160</td>\n",
       "      <td>0.674878</td>\n",
       "      <td>-0.003605</td>\n",
       "      <td>0.069309</td>\n",
       "      <td>0.050810</td>\n",
       "      <td>0.132693</td>\n",
       "      <td>0.172887</td>\n",
       "      <td>0.107934</td>\n",
       "      <td>0.019615</td>\n",
       "      <td>-0.252311</td>\n",
       "      <td>0.097102</td>\n",
       "      <td>-0.122591</td>\n",
       "      <td>0.038873</td>\n",
       "      <td>-0.026089</td>\n",
       "    </tr>\n",
       "    <tr>\n",
       "      <td>living_area</td>\n",
       "      <td>0.130211</td>\n",
       "      <td>0.490706</td>\n",
       "      <td>0.791720</td>\n",
       "      <td>0.744691</td>\n",
       "      <td>0.095282</td>\n",
       "      <td>-0.153160</td>\n",
       "      <td>1.000000</td>\n",
       "      <td>-0.085570</td>\n",
       "      <td>-0.029579</td>\n",
       "      <td>-0.048086</td>\n",
       "      <td>-0.029197</td>\n",
       "      <td>0.374986</td>\n",
       "      <td>0.022344</td>\n",
       "      <td>-0.054739</td>\n",
       "      <td>-0.201246</td>\n",
       "      <td>0.162529</td>\n",
       "      <td>-0.055604</td>\n",
       "      <td>0.125411</td>\n",
       "      <td>-0.067572</td>\n",
       "      <td>0.099871</td>\n",
       "    </tr>\n",
       "    <tr>\n",
       "      <td>floor</td>\n",
       "      <td>0.031340</td>\n",
       "      <td>0.026576</td>\n",
       "      <td>-0.024754</td>\n",
       "      <td>-0.150862</td>\n",
       "      <td>-0.010666</td>\n",
       "      <td>0.674878</td>\n",
       "      <td>-0.085570</td>\n",
       "      <td>1.000000</td>\n",
       "      <td>-0.006182</td>\n",
       "      <td>0.036940</td>\n",
       "      <td>0.035824</td>\n",
       "      <td>0.114776</td>\n",
       "      <td>0.168567</td>\n",
       "      <td>0.071597</td>\n",
       "      <td>0.009084</td>\n",
       "      <td>-0.163784</td>\n",
       "      <td>0.073045</td>\n",
       "      <td>-0.076312</td>\n",
       "      <td>0.024850</td>\n",
       "      <td>-0.021349</td>\n",
       "    </tr>\n",
       "    <tr>\n",
       "      <td>is_apartment</td>\n",
       "      <td>0.039860</td>\n",
       "      <td>0.000640</td>\n",
       "      <td>-0.007836</td>\n",
       "      <td>-0.005338</td>\n",
       "      <td>-0.034595</td>\n",
       "      <td>-0.003605</td>\n",
       "      <td>-0.029579</td>\n",
       "      <td>-0.006182</td>\n",
       "      <td>1.000000</td>\n",
       "      <td>0.003569</td>\n",
       "      <td>0.001754</td>\n",
       "      <td>-0.010474</td>\n",
       "      <td>-0.155306</td>\n",
       "      <td>0.007712</td>\n",
       "      <td>-0.000720</td>\n",
       "      <td>-0.001200</td>\n",
       "      <td>-0.018743</td>\n",
       "      <td>-0.009599</td>\n",
       "      <td>0.019909</td>\n",
       "      <td>-0.068959</td>\n",
       "    </tr>\n",
       "    <tr>\n",
       "      <td>studio</td>\n",
       "      <td>-0.029303</td>\n",
       "      <td>-0.025362</td>\n",
       "      <td>-0.072653</td>\n",
       "      <td>-0.147286</td>\n",
       "      <td>0.001931</td>\n",
       "      <td>0.069309</td>\n",
       "      <td>-0.048086</td>\n",
       "      <td>0.036940</td>\n",
       "      <td>0.003569</td>\n",
       "      <td>1.000000</td>\n",
       "      <td>-0.004235</td>\n",
       "      <td>-0.144575</td>\n",
       "      <td>0.028899</td>\n",
       "      <td>-0.021876</td>\n",
       "      <td>-0.007029</td>\n",
       "      <td>-0.030202</td>\n",
       "      <td>0.009134</td>\n",
       "      <td>0.000939</td>\n",
       "      <td>0.002606</td>\n",
       "      <td>-0.017766</td>\n",
       "    </tr>\n",
       "    <tr>\n",
       "      <td>open_plan</td>\n",
       "      <td>-0.024407</td>\n",
       "      <td>-0.008802</td>\n",
       "      <td>-0.034885</td>\n",
       "      <td>-0.087500</td>\n",
       "      <td>0.026478</td>\n",
       "      <td>0.050810</td>\n",
       "      <td>-0.029197</td>\n",
       "      <td>0.035824</td>\n",
       "      <td>0.001754</td>\n",
       "      <td>-0.004235</td>\n",
       "      <td>1.000000</td>\n",
       "      <td>-0.016833</td>\n",
       "      <td>0.032639</td>\n",
       "      <td>-0.013583</td>\n",
       "      <td>-0.004204</td>\n",
       "      <td>-0.010077</td>\n",
       "      <td>0.010612</td>\n",
       "      <td>0.008455</td>\n",
       "      <td>-0.003328</td>\n",
       "      <td>-0.017025</td>\n",
       "    </tr>\n",
       "    <tr>\n",
       "      <td>kitchen_area</td>\n",
       "      <td>0.106972</td>\n",
       "      <td>0.467654</td>\n",
       "      <td>0.615577</td>\n",
       "      <td>0.307906</td>\n",
       "      <td>0.087758</td>\n",
       "      <td>0.132693</td>\n",
       "      <td>0.374986</td>\n",
       "      <td>0.114776</td>\n",
       "      <td>-0.010474</td>\n",
       "      <td>-0.144575</td>\n",
       "      <td>-0.016833</td>\n",
       "      <td>1.000000</td>\n",
       "      <td>0.039283</td>\n",
       "      <td>0.009484</td>\n",
       "      <td>-0.189562</td>\n",
       "      <td>0.094853</td>\n",
       "      <td>0.026421</td>\n",
       "      <td>0.146799</td>\n",
       "      <td>-0.099683</td>\n",
       "      <td>0.074635</td>\n",
       "    </tr>\n",
       "    <tr>\n",
       "      <td>balcony</td>\n",
       "      <td>0.048903</td>\n",
       "      <td>0.008559</td>\n",
       "      <td>0.009941</td>\n",
       "      <td>-0.015519</td>\n",
       "      <td>0.009301</td>\n",
       "      <td>0.172887</td>\n",
       "      <td>0.022344</td>\n",
       "      <td>0.168567</td>\n",
       "      <td>-0.155306</td>\n",
       "      <td>0.028899</td>\n",
       "      <td>0.032639</td>\n",
       "      <td>0.039283</td>\n",
       "      <td>1.000000</td>\n",
       "      <td>0.048984</td>\n",
       "      <td>0.065050</td>\n",
       "      <td>-0.077777</td>\n",
       "      <td>0.033256</td>\n",
       "      <td>-0.039604</td>\n",
       "      <td>0.020077</td>\n",
       "      <td>-0.024111</td>\n",
       "    </tr>\n",
       "    <tr>\n",
       "      <td>airports_nearest</td>\n",
       "      <td>-0.002298</td>\n",
       "      <td>-0.026239</td>\n",
       "      <td>-0.030753</td>\n",
       "      <td>-0.061199</td>\n",
       "      <td>-0.031910</td>\n",
       "      <td>0.107934</td>\n",
       "      <td>-0.054739</td>\n",
       "      <td>0.071597</td>\n",
       "      <td>0.007712</td>\n",
       "      <td>-0.021876</td>\n",
       "      <td>-0.013583</td>\n",
       "      <td>0.009484</td>\n",
       "      <td>0.048984</td>\n",
       "      <td>1.000000</td>\n",
       "      <td>0.272184</td>\n",
       "      <td>0.000759</td>\n",
       "      <td>-0.070058</td>\n",
       "      <td>-0.049583</td>\n",
       "      <td>0.014049</td>\n",
       "      <td>-0.013774</td>\n",
       "    </tr>\n",
       "    <tr>\n",
       "      <td>cityCenters_nearest</td>\n",
       "      <td>-0.047666</td>\n",
       "      <td>-0.206747</td>\n",
       "      <td>-0.231446</td>\n",
       "      <td>-0.184864</td>\n",
       "      <td>-0.104115</td>\n",
       "      <td>0.019615</td>\n",
       "      <td>-0.201246</td>\n",
       "      <td>0.009084</td>\n",
       "      <td>-0.000720</td>\n",
       "      <td>-0.007029</td>\n",
       "      <td>-0.004204</td>\n",
       "      <td>-0.189562</td>\n",
       "      <td>0.065050</td>\n",
       "      <td>0.272184</td>\n",
       "      <td>1.000000</td>\n",
       "      <td>-0.161738</td>\n",
       "      <td>-0.040650</td>\n",
       "      <td>-0.074577</td>\n",
       "      <td>0.028903</td>\n",
       "      <td>-0.045479</td>\n",
       "    </tr>\n",
       "    <tr>\n",
       "      <td>parks_around3000</td>\n",
       "      <td>0.021120</td>\n",
       "      <td>0.151058</td>\n",
       "      <td>0.164689</td>\n",
       "      <td>0.137257</td>\n",
       "      <td>0.075864</td>\n",
       "      <td>-0.252311</td>\n",
       "      <td>0.162529</td>\n",
       "      <td>-0.163784</td>\n",
       "      <td>-0.001200</td>\n",
       "      <td>-0.030202</td>\n",
       "      <td>-0.010077</td>\n",
       "      <td>0.094853</td>\n",
       "      <td>-0.077777</td>\n",
       "      <td>0.000759</td>\n",
       "      <td>-0.161738</td>\n",
       "      <td>1.000000</td>\n",
       "      <td>-0.259514</td>\n",
       "      <td>0.304316</td>\n",
       "      <td>-0.167103</td>\n",
       "      <td>0.044109</td>\n",
       "    </tr>\n",
       "    <tr>\n",
       "      <td>parks_nearest</td>\n",
       "      <td>-0.008347</td>\n",
       "      <td>-0.016414</td>\n",
       "      <td>-0.021497</td>\n",
       "      <td>-0.054549</td>\n",
       "      <td>-0.017536</td>\n",
       "      <td>0.097102</td>\n",
       "      <td>-0.055604</td>\n",
       "      <td>0.073045</td>\n",
       "      <td>-0.018743</td>\n",
       "      <td>0.009134</td>\n",
       "      <td>0.010612</td>\n",
       "      <td>0.026421</td>\n",
       "      <td>0.033256</td>\n",
       "      <td>-0.070058</td>\n",
       "      <td>-0.040650</td>\n",
       "      <td>-0.259514</td>\n",
       "      <td>1.000000</td>\n",
       "      <td>0.077280</td>\n",
       "      <td>0.000692</td>\n",
       "      <td>0.021363</td>\n",
       "    </tr>\n",
       "    <tr>\n",
       "      <td>ponds_around3000</td>\n",
       "      <td>-0.011553</td>\n",
       "      <td>0.159996</td>\n",
       "      <td>0.162346</td>\n",
       "      <td>0.092693</td>\n",
       "      <td>0.074043</td>\n",
       "      <td>-0.122591</td>\n",
       "      <td>0.125411</td>\n",
       "      <td>-0.076312</td>\n",
       "      <td>-0.009599</td>\n",
       "      <td>0.000939</td>\n",
       "      <td>0.008455</td>\n",
       "      <td>0.146799</td>\n",
       "      <td>-0.039604</td>\n",
       "      <td>-0.049583</td>\n",
       "      <td>-0.074577</td>\n",
       "      <td>0.304316</td>\n",
       "      <td>0.077280</td>\n",
       "      <td>1.000000</td>\n",
       "      <td>-0.341840</td>\n",
       "      <td>0.057980</td>\n",
       "    </tr>\n",
       "    <tr>\n",
       "      <td>ponds_nearest</td>\n",
       "      <td>-0.003034</td>\n",
       "      <td>-0.084809</td>\n",
       "      <td>-0.097969</td>\n",
       "      <td>-0.057689</td>\n",
       "      <td>-0.057590</td>\n",
       "      <td>0.038873</td>\n",
       "      <td>-0.067572</td>\n",
       "      <td>0.024850</td>\n",
       "      <td>0.019909</td>\n",
       "      <td>0.002606</td>\n",
       "      <td>-0.003328</td>\n",
       "      <td>-0.099683</td>\n",
       "      <td>0.020077</td>\n",
       "      <td>0.014049</td>\n",
       "      <td>0.028903</td>\n",
       "      <td>-0.167103</td>\n",
       "      <td>0.000692</td>\n",
       "      <td>-0.341840</td>\n",
       "      <td>1.000000</td>\n",
       "      <td>-0.063495</td>\n",
       "    </tr>\n",
       "    <tr>\n",
       "      <td>days_exposition</td>\n",
       "      <td>-0.055593</td>\n",
       "      <td>0.053577</td>\n",
       "      <td>0.097039</td>\n",
       "      <td>0.079293</td>\n",
       "      <td>0.015066</td>\n",
       "      <td>-0.026089</td>\n",
       "      <td>0.099871</td>\n",
       "      <td>-0.021349</td>\n",
       "      <td>-0.068959</td>\n",
       "      <td>-0.017766</td>\n",
       "      <td>-0.017025</td>\n",
       "      <td>0.074635</td>\n",
       "      <td>-0.024111</td>\n",
       "      <td>-0.013774</td>\n",
       "      <td>-0.045479</td>\n",
       "      <td>0.044109</td>\n",
       "      <td>0.021363</td>\n",
       "      <td>0.057980</td>\n",
       "      <td>-0.063495</td>\n",
       "      <td>1.000000</td>\n",
       "    </tr>\n",
       "  </tbody>\n",
       "</table>\n",
       "</div>"
      ],
      "text/plain": [
       "                     total_images  last_price  total_area     rooms  \\\n",
       "total_images             1.000000    0.104473    0.115352  0.099288   \n",
       "last_price               0.104473    1.000000    0.653675  0.363343   \n",
       "total_area               0.115352    0.653675    1.000000  0.758344   \n",
       "rooms                    0.099288    0.363343    0.758344  1.000000   \n",
       "ceiling_height           0.007828    0.077307    0.106487  0.062228   \n",
       "floors_total             0.010694   -0.006989   -0.075647 -0.227743   \n",
       "living_area              0.130211    0.490706    0.791720  0.744691   \n",
       "floor                    0.031340    0.026576   -0.024754 -0.150862   \n",
       "is_apartment             0.039860    0.000640   -0.007836 -0.005338   \n",
       "studio                  -0.029303   -0.025362   -0.072653 -0.147286   \n",
       "open_plan               -0.024407   -0.008802   -0.034885 -0.087500   \n",
       "kitchen_area             0.106972    0.467654    0.615577  0.307906   \n",
       "balcony                  0.048903    0.008559    0.009941 -0.015519   \n",
       "airports_nearest        -0.002298   -0.026239   -0.030753 -0.061199   \n",
       "cityCenters_nearest     -0.047666   -0.206747   -0.231446 -0.184864   \n",
       "parks_around3000         0.021120    0.151058    0.164689  0.137257   \n",
       "parks_nearest           -0.008347   -0.016414   -0.021497 -0.054549   \n",
       "ponds_around3000        -0.011553    0.159996    0.162346  0.092693   \n",
       "ponds_nearest           -0.003034   -0.084809   -0.097969 -0.057689   \n",
       "days_exposition         -0.055593    0.053577    0.097039  0.079293   \n",
       "\n",
       "                     ceiling_height  floors_total  living_area     floor  \\\n",
       "total_images               0.007828      0.010694     0.130211  0.031340   \n",
       "last_price                 0.077307     -0.006989     0.490706  0.026576   \n",
       "total_area                 0.106487     -0.075647     0.791720 -0.024754   \n",
       "rooms                      0.062228     -0.227743     0.744691 -0.150862   \n",
       "ceiling_height             1.000000     -0.023296     0.095282 -0.010666   \n",
       "floors_total              -0.023296      1.000000    -0.153160  0.674878   \n",
       "living_area                0.095282     -0.153160     1.000000 -0.085570   \n",
       "floor                     -0.010666      0.674878    -0.085570  1.000000   \n",
       "is_apartment              -0.034595     -0.003605    -0.029579 -0.006182   \n",
       "studio                     0.001931      0.069309    -0.048086  0.036940   \n",
       "open_plan                  0.026478      0.050810    -0.029197  0.035824   \n",
       "kitchen_area               0.087758      0.132693     0.374986  0.114776   \n",
       "balcony                    0.009301      0.172887     0.022344  0.168567   \n",
       "airports_nearest          -0.031910      0.107934    -0.054739  0.071597   \n",
       "cityCenters_nearest       -0.104115      0.019615    -0.201246  0.009084   \n",
       "parks_around3000           0.075864     -0.252311     0.162529 -0.163784   \n",
       "parks_nearest             -0.017536      0.097102    -0.055604  0.073045   \n",
       "ponds_around3000           0.074043     -0.122591     0.125411 -0.076312   \n",
       "ponds_nearest             -0.057590      0.038873    -0.067572  0.024850   \n",
       "days_exposition            0.015066     -0.026089     0.099871 -0.021349   \n",
       "\n",
       "                     is_apartment    studio  open_plan  kitchen_area  \\\n",
       "total_images             0.039860 -0.029303  -0.024407      0.106972   \n",
       "last_price               0.000640 -0.025362  -0.008802      0.467654   \n",
       "total_area              -0.007836 -0.072653  -0.034885      0.615577   \n",
       "rooms                   -0.005338 -0.147286  -0.087500      0.307906   \n",
       "ceiling_height          -0.034595  0.001931   0.026478      0.087758   \n",
       "floors_total            -0.003605  0.069309   0.050810      0.132693   \n",
       "living_area             -0.029579 -0.048086  -0.029197      0.374986   \n",
       "floor                   -0.006182  0.036940   0.035824      0.114776   \n",
       "is_apartment             1.000000  0.003569   0.001754     -0.010474   \n",
       "studio                   0.003569  1.000000  -0.004235     -0.144575   \n",
       "open_plan                0.001754 -0.004235   1.000000     -0.016833   \n",
       "kitchen_area            -0.010474 -0.144575  -0.016833      1.000000   \n",
       "balcony                 -0.155306  0.028899   0.032639      0.039283   \n",
       "airports_nearest         0.007712 -0.021876  -0.013583      0.009484   \n",
       "cityCenters_nearest     -0.000720 -0.007029  -0.004204     -0.189562   \n",
       "parks_around3000        -0.001200 -0.030202  -0.010077      0.094853   \n",
       "parks_nearest           -0.018743  0.009134   0.010612      0.026421   \n",
       "ponds_around3000        -0.009599  0.000939   0.008455      0.146799   \n",
       "ponds_nearest            0.019909  0.002606  -0.003328     -0.099683   \n",
       "days_exposition         -0.068959 -0.017766  -0.017025      0.074635   \n",
       "\n",
       "                      balcony  airports_nearest  cityCenters_nearest  \\\n",
       "total_images         0.048903         -0.002298            -0.047666   \n",
       "last_price           0.008559         -0.026239            -0.206747   \n",
       "total_area           0.009941         -0.030753            -0.231446   \n",
       "rooms               -0.015519         -0.061199            -0.184864   \n",
       "ceiling_height       0.009301         -0.031910            -0.104115   \n",
       "floors_total         0.172887          0.107934             0.019615   \n",
       "living_area          0.022344         -0.054739            -0.201246   \n",
       "floor                0.168567          0.071597             0.009084   \n",
       "is_apartment        -0.155306          0.007712            -0.000720   \n",
       "studio               0.028899         -0.021876            -0.007029   \n",
       "open_plan            0.032639         -0.013583            -0.004204   \n",
       "kitchen_area         0.039283          0.009484            -0.189562   \n",
       "balcony              1.000000          0.048984             0.065050   \n",
       "airports_nearest     0.048984          1.000000             0.272184   \n",
       "cityCenters_nearest  0.065050          0.272184             1.000000   \n",
       "parks_around3000    -0.077777          0.000759            -0.161738   \n",
       "parks_nearest        0.033256         -0.070058            -0.040650   \n",
       "ponds_around3000    -0.039604         -0.049583            -0.074577   \n",
       "ponds_nearest        0.020077          0.014049             0.028903   \n",
       "days_exposition     -0.024111         -0.013774            -0.045479   \n",
       "\n",
       "                     parks_around3000  parks_nearest  ponds_around3000  \\\n",
       "total_images                 0.021120      -0.008347         -0.011553   \n",
       "last_price                   0.151058      -0.016414          0.159996   \n",
       "total_area                   0.164689      -0.021497          0.162346   \n",
       "rooms                        0.137257      -0.054549          0.092693   \n",
       "ceiling_height               0.075864      -0.017536          0.074043   \n",
       "floors_total                -0.252311       0.097102         -0.122591   \n",
       "living_area                  0.162529      -0.055604          0.125411   \n",
       "floor                       -0.163784       0.073045         -0.076312   \n",
       "is_apartment                -0.001200      -0.018743         -0.009599   \n",
       "studio                      -0.030202       0.009134          0.000939   \n",
       "open_plan                   -0.010077       0.010612          0.008455   \n",
       "kitchen_area                 0.094853       0.026421          0.146799   \n",
       "balcony                     -0.077777       0.033256         -0.039604   \n",
       "airports_nearest             0.000759      -0.070058         -0.049583   \n",
       "cityCenters_nearest         -0.161738      -0.040650         -0.074577   \n",
       "parks_around3000             1.000000      -0.259514          0.304316   \n",
       "parks_nearest               -0.259514       1.000000          0.077280   \n",
       "ponds_around3000             0.304316       0.077280          1.000000   \n",
       "ponds_nearest               -0.167103       0.000692         -0.341840   \n",
       "days_exposition              0.044109       0.021363          0.057980   \n",
       "\n",
       "                     ponds_nearest  days_exposition  \n",
       "total_images             -0.003034        -0.055593  \n",
       "last_price               -0.084809         0.053577  \n",
       "total_area               -0.097969         0.097039  \n",
       "rooms                    -0.057689         0.079293  \n",
       "ceiling_height           -0.057590         0.015066  \n",
       "floors_total              0.038873        -0.026089  \n",
       "living_area              -0.067572         0.099871  \n",
       "floor                     0.024850        -0.021349  \n",
       "is_apartment              0.019909        -0.068959  \n",
       "studio                    0.002606        -0.017766  \n",
       "open_plan                -0.003328        -0.017025  \n",
       "kitchen_area             -0.099683         0.074635  \n",
       "balcony                   0.020077        -0.024111  \n",
       "airports_nearest          0.014049        -0.013774  \n",
       "cityCenters_nearest       0.028903        -0.045479  \n",
       "parks_around3000         -0.167103         0.044109  \n",
       "parks_nearest             0.000692         0.021363  \n",
       "ponds_around3000         -0.341840         0.057980  \n",
       "ponds_nearest             1.000000        -0.063495  \n",
       "days_exposition          -0.063495         1.000000  "
      ]
     },
     "execution_count": 95,
     "metadata": {},
     "output_type": "execute_result"
    }
   ],
   "source": [
    "data.corr()"
   ]
  },
  {
   "cell_type": "code",
   "execution_count": 96,
   "metadata": {},
   "outputs": [
    {
     "name": "stdout",
     "output_type": "stream",
     "text": [
      "<class 'pandas.core.frame.DataFrame'>\n",
      "RangeIndex: 23699 entries, 0 to 23698\n",
      "Data columns (total 22 columns):\n",
      "total_images            23699 non-null int64\n",
      "last_price              23699 non-null float64\n",
      "total_area              23699 non-null float64\n",
      "first_day_exposition    23699 non-null datetime64[ns]\n",
      "rooms                   23699 non-null int64\n",
      "ceiling_height          23699 non-null float64\n",
      "floors_total            23699 non-null int64\n",
      "living_area             23699 non-null float64\n",
      "floor                   23699 non-null int64\n",
      "is_apartment            23699 non-null bool\n",
      "studio                  23699 non-null bool\n",
      "open_plan               23699 non-null bool\n",
      "kitchen_area            23699 non-null float64\n",
      "balcony                 23699 non-null int64\n",
      "locality_name           23699 non-null object\n",
      "airports_nearest        18157 non-null float64\n",
      "cityCenters_nearest     18180 non-null float64\n",
      "parks_around3000        18181 non-null float64\n",
      "parks_nearest           8079 non-null float64\n",
      "ponds_around3000        18181 non-null float64\n",
      "ponds_nearest           9110 non-null float64\n",
      "days_exposition         23699 non-null int64\n",
      "dtypes: bool(3), datetime64[ns](1), float64(11), int64(6), object(1)\n",
      "memory usage: 3.5+ MB\n"
     ]
    }
   ],
   "source": [
    "data.info() #таким образом, типы данных были изменены успешно"
   ]
  },
  {
   "cell_type": "markdown",
   "metadata": {},
   "source": [
    "### Вывод"
   ]
  },
  {
   "cell_type": "markdown",
   "metadata": {},
   "source": [
    "Таким образом, мы заполнили все возможные для обработки пропущенные значения, с помощью влияния одних столбцов на другие, часть данных остается пропущенными из-за недостаточного количества информации о картографиическом местоположении."
   ]
  },
  {
   "cell_type": "markdown",
   "metadata": {},
   "source": [
    "## Расчёты и добавление результатов в таблицу"
   ]
  },
  {
   "cell_type": "markdown",
   "metadata": {},
   "source": [
    "### Первая наша задача  - это добавление в таблицу цену квадратного метра"
   ]
  },
  {
   "cell_type": "code",
   "execution_count": 97,
   "metadata": {},
   "outputs": [],
   "source": [
    "data[\"price_to_metr\"] = data[\"last_price\"] / data[\"total_area\"] #добавляем столбец, значение которого находим путем деления цены на общую квадратуру "
   ]
  },
  {
   "cell_type": "markdown",
   "metadata": {},
   "source": [
    "### Вторая наша задача  - это добавление в таблицу день, месяц, год публикации"
   ]
  },
  {
   "cell_type": "code",
   "execution_count": 98,
   "metadata": {},
   "outputs": [
    {
     "data": {
      "text/plain": [
       "Index(['total_images', 'last_price', 'total_area', 'first_day_exposition',\n",
       "       'rooms', 'ceiling_height', 'floors_total', 'living_area', 'floor',\n",
       "       'is_apartment', 'studio', 'open_plan', 'kitchen_area', 'balcony',\n",
       "       'locality_name', 'airports_nearest', 'cityCenters_nearest',\n",
       "       'parks_around3000', 'parks_nearest', 'ponds_around3000',\n",
       "       'ponds_nearest', 'days_exposition', 'price_to_metr', 'weekday', 'month',\n",
       "       'year'],\n",
       "      dtype='object')"
      ]
     },
     "execution_count": 98,
     "metadata": {},
     "output_type": "execute_result"
    }
   ],
   "source": [
    "data[\"weekday\"] = data[\"first_day_exposition\"].dt.weekday #создаем столбец, применяем метод dt. аналогично с каждым параметром\n",
    "data[\"month\"] = data[\"first_day_exposition\"].astype('datetime64[M]')\n",
    "data[\"year\"] = data[\"first_day_exposition\"].dt.year\n",
    "data.columns #проверяем наличие столбцов"
   ]
  },
  {
   "cell_type": "markdown",
   "metadata": {},
   "source": [
    "### Создание категорий этажей"
   ]
  },
  {
   "cell_type": "code",
   "execution_count": 99,
   "metadata": {},
   "outputs": [
    {
     "data": {
      "text/html": [
       "<div>\n",
       "<style scoped>\n",
       "    .dataframe tbody tr th:only-of-type {\n",
       "        vertical-align: middle;\n",
       "    }\n",
       "\n",
       "    .dataframe tbody tr th {\n",
       "        vertical-align: top;\n",
       "    }\n",
       "\n",
       "    .dataframe thead th {\n",
       "        text-align: right;\n",
       "    }\n",
       "</style>\n",
       "<table border=\"1\" class=\"dataframe\">\n",
       "  <thead>\n",
       "    <tr style=\"text-align: right;\">\n",
       "      <th></th>\n",
       "      <th>total_images</th>\n",
       "      <th>last_price</th>\n",
       "      <th>total_area</th>\n",
       "      <th>first_day_exposition</th>\n",
       "      <th>rooms</th>\n",
       "      <th>ceiling_height</th>\n",
       "      <th>floors_total</th>\n",
       "      <th>living_area</th>\n",
       "      <th>floor</th>\n",
       "      <th>is_apartment</th>\n",
       "      <th>...</th>\n",
       "      <th>parks_around3000</th>\n",
       "      <th>parks_nearest</th>\n",
       "      <th>ponds_around3000</th>\n",
       "      <th>ponds_nearest</th>\n",
       "      <th>days_exposition</th>\n",
       "      <th>price_to_metr</th>\n",
       "      <th>weekday</th>\n",
       "      <th>month</th>\n",
       "      <th>year</th>\n",
       "      <th>floor_category</th>\n",
       "    </tr>\n",
       "  </thead>\n",
       "  <tbody>\n",
       "    <tr>\n",
       "      <td>0</td>\n",
       "      <td>20</td>\n",
       "      <td>13000000.0</td>\n",
       "      <td>108.0</td>\n",
       "      <td>2019-03-07</td>\n",
       "      <td>3</td>\n",
       "      <td>2.700000</td>\n",
       "      <td>16</td>\n",
       "      <td>51.0</td>\n",
       "      <td>8</td>\n",
       "      <td>True</td>\n",
       "      <td>...</td>\n",
       "      <td>1.0</td>\n",
       "      <td>482.0</td>\n",
       "      <td>2.0</td>\n",
       "      <td>755.0</td>\n",
       "      <td>0</td>\n",
       "      <td>120370.370370</td>\n",
       "      <td>3</td>\n",
       "      <td>2019-03-01</td>\n",
       "      <td>2019</td>\n",
       "      <td>другой</td>\n",
       "    </tr>\n",
       "    <tr>\n",
       "      <td>1</td>\n",
       "      <td>7</td>\n",
       "      <td>3350000.0</td>\n",
       "      <td>40.4</td>\n",
       "      <td>2018-12-04</td>\n",
       "      <td>1</td>\n",
       "      <td>2.764795</td>\n",
       "      <td>11</td>\n",
       "      <td>18.6</td>\n",
       "      <td>1</td>\n",
       "      <td>True</td>\n",
       "      <td>...</td>\n",
       "      <td>0.0</td>\n",
       "      <td>NaN</td>\n",
       "      <td>0.0</td>\n",
       "      <td>NaN</td>\n",
       "      <td>81</td>\n",
       "      <td>82920.792079</td>\n",
       "      <td>1</td>\n",
       "      <td>2018-12-01</td>\n",
       "      <td>2018</td>\n",
       "      <td>первый</td>\n",
       "    </tr>\n",
       "    <tr>\n",
       "      <td>2</td>\n",
       "      <td>10</td>\n",
       "      <td>5196000.0</td>\n",
       "      <td>56.0</td>\n",
       "      <td>2015-08-20</td>\n",
       "      <td>2</td>\n",
       "      <td>2.764795</td>\n",
       "      <td>5</td>\n",
       "      <td>34.3</td>\n",
       "      <td>4</td>\n",
       "      <td>True</td>\n",
       "      <td>...</td>\n",
       "      <td>1.0</td>\n",
       "      <td>90.0</td>\n",
       "      <td>2.0</td>\n",
       "      <td>574.0</td>\n",
       "      <td>558</td>\n",
       "      <td>92785.714286</td>\n",
       "      <td>3</td>\n",
       "      <td>2015-08-01</td>\n",
       "      <td>2015</td>\n",
       "      <td>другой</td>\n",
       "    </tr>\n",
       "    <tr>\n",
       "      <td>3</td>\n",
       "      <td>0</td>\n",
       "      <td>64900000.0</td>\n",
       "      <td>159.0</td>\n",
       "      <td>2015-07-24</td>\n",
       "      <td>3</td>\n",
       "      <td>2.764795</td>\n",
       "      <td>14</td>\n",
       "      <td>0.0</td>\n",
       "      <td>9</td>\n",
       "      <td>True</td>\n",
       "      <td>...</td>\n",
       "      <td>2.0</td>\n",
       "      <td>84.0</td>\n",
       "      <td>3.0</td>\n",
       "      <td>234.0</td>\n",
       "      <td>424</td>\n",
       "      <td>408176.100629</td>\n",
       "      <td>4</td>\n",
       "      <td>2015-07-01</td>\n",
       "      <td>2015</td>\n",
       "      <td>другой</td>\n",
       "    </tr>\n",
       "    <tr>\n",
       "      <td>4</td>\n",
       "      <td>2</td>\n",
       "      <td>10000000.0</td>\n",
       "      <td>100.0</td>\n",
       "      <td>2018-06-19</td>\n",
       "      <td>2</td>\n",
       "      <td>3.030000</td>\n",
       "      <td>14</td>\n",
       "      <td>32.0</td>\n",
       "      <td>13</td>\n",
       "      <td>True</td>\n",
       "      <td>...</td>\n",
       "      <td>2.0</td>\n",
       "      <td>112.0</td>\n",
       "      <td>1.0</td>\n",
       "      <td>48.0</td>\n",
       "      <td>121</td>\n",
       "      <td>100000.000000</td>\n",
       "      <td>1</td>\n",
       "      <td>2018-06-01</td>\n",
       "      <td>2018</td>\n",
       "      <td>другой</td>\n",
       "    </tr>\n",
       "  </tbody>\n",
       "</table>\n",
       "<p>5 rows × 27 columns</p>\n",
       "</div>"
      ],
      "text/plain": [
       "   total_images  last_price  total_area first_day_exposition  rooms  \\\n",
       "0            20  13000000.0       108.0           2019-03-07      3   \n",
       "1             7   3350000.0        40.4           2018-12-04      1   \n",
       "2            10   5196000.0        56.0           2015-08-20      2   \n",
       "3             0  64900000.0       159.0           2015-07-24      3   \n",
       "4             2  10000000.0       100.0           2018-06-19      2   \n",
       "\n",
       "   ceiling_height  floors_total  living_area  floor  is_apartment  ...  \\\n",
       "0        2.700000            16         51.0      8          True  ...   \n",
       "1        2.764795            11         18.6      1          True  ...   \n",
       "2        2.764795             5         34.3      4          True  ...   \n",
       "3        2.764795            14          0.0      9          True  ...   \n",
       "4        3.030000            14         32.0     13          True  ...   \n",
       "\n",
       "   parks_around3000  parks_nearest  ponds_around3000  ponds_nearest  \\\n",
       "0               1.0          482.0               2.0          755.0   \n",
       "1               0.0            NaN               0.0            NaN   \n",
       "2               1.0           90.0               2.0          574.0   \n",
       "3               2.0           84.0               3.0          234.0   \n",
       "4               2.0          112.0               1.0           48.0   \n",
       "\n",
       "  days_exposition  price_to_metr  weekday      month  year  floor_category  \n",
       "0               0  120370.370370        3 2019-03-01  2019          другой  \n",
       "1              81   82920.792079        1 2018-12-01  2018          первый  \n",
       "2             558   92785.714286        3 2015-08-01  2015          другой  \n",
       "3             424  408176.100629        4 2015-07-01  2015          другой  \n",
       "4             121  100000.000000        1 2018-06-01  2018          другой  \n",
       "\n",
       "[5 rows x 27 columns]"
      ]
     },
     "execution_count": 99,
     "metadata": {},
     "output_type": "execute_result"
    }
   ],
   "source": [
    "def category_floors(data): #cоздаем функцию для категоризации по типам этажей\n",
    "    if data[\"floor\"] == 1: #логическое условие\n",
    "        return \"первый\"\n",
    "    elif data[\"floor\"] == data[\"floors_total\"]: #сравнивааем с общим количеством этажей\n",
    "        return \"последний\"\n",
    "    else:\n",
    "        return \"другой\"\n",
    "data[\"floor_category\"] = data.apply(category_floors, axis = 1) #променяем метод apply для строк датасета\n",
    "data.head() #проверяем"
   ]
  },
  {
   "cell_type": "markdown",
   "metadata": {},
   "source": [
    "### Отношение жилой площади и кухни к общей площади квартиры\n"
   ]
  },
  {
   "cell_type": "code",
   "execution_count": 100,
   "metadata": {
    "scrolled": true
   },
   "outputs": [
    {
     "data": {
      "text/html": [
       "<div>\n",
       "<style scoped>\n",
       "    .dataframe tbody tr th:only-of-type {\n",
       "        vertical-align: middle;\n",
       "    }\n",
       "\n",
       "    .dataframe tbody tr th {\n",
       "        vertical-align: top;\n",
       "    }\n",
       "\n",
       "    .dataframe thead th {\n",
       "        text-align: right;\n",
       "    }\n",
       "</style>\n",
       "<table border=\"1\" class=\"dataframe\">\n",
       "  <thead>\n",
       "    <tr style=\"text-align: right;\">\n",
       "      <th></th>\n",
       "      <th>total_images</th>\n",
       "      <th>last_price</th>\n",
       "      <th>total_area</th>\n",
       "      <th>first_day_exposition</th>\n",
       "      <th>rooms</th>\n",
       "      <th>ceiling_height</th>\n",
       "      <th>floors_total</th>\n",
       "      <th>living_area</th>\n",
       "      <th>floor</th>\n",
       "      <th>is_apartment</th>\n",
       "      <th>...</th>\n",
       "      <th>ponds_around3000</th>\n",
       "      <th>ponds_nearest</th>\n",
       "      <th>days_exposition</th>\n",
       "      <th>price_to_metr</th>\n",
       "      <th>weekday</th>\n",
       "      <th>month</th>\n",
       "      <th>year</th>\n",
       "      <th>floor_category</th>\n",
       "      <th>living_to_total_area</th>\n",
       "      <th>kitchen_to_total_area</th>\n",
       "    </tr>\n",
       "  </thead>\n",
       "  <tbody>\n",
       "    <tr>\n",
       "      <td>23694</td>\n",
       "      <td>9</td>\n",
       "      <td>9700000.0</td>\n",
       "      <td>133.81</td>\n",
       "      <td>2017-03-21</td>\n",
       "      <td>3</td>\n",
       "      <td>3.700000</td>\n",
       "      <td>5</td>\n",
       "      <td>73.3</td>\n",
       "      <td>3</td>\n",
       "      <td>True</td>\n",
       "      <td>...</td>\n",
       "      <td>3.0</td>\n",
       "      <td>381.0</td>\n",
       "      <td>0</td>\n",
       "      <td>72490.845228</td>\n",
       "      <td>1</td>\n",
       "      <td>2017-03-01</td>\n",
       "      <td>2017</td>\n",
       "      <td>другой</td>\n",
       "      <td>0.547792</td>\n",
       "      <td>0.103356</td>\n",
       "    </tr>\n",
       "    <tr>\n",
       "      <td>23695</td>\n",
       "      <td>14</td>\n",
       "      <td>3100000.0</td>\n",
       "      <td>59.00</td>\n",
       "      <td>2018-01-15</td>\n",
       "      <td>3</td>\n",
       "      <td>2.764795</td>\n",
       "      <td>5</td>\n",
       "      <td>38.0</td>\n",
       "      <td>4</td>\n",
       "      <td>True</td>\n",
       "      <td>...</td>\n",
       "      <td>NaN</td>\n",
       "      <td>NaN</td>\n",
       "      <td>45</td>\n",
       "      <td>52542.372881</td>\n",
       "      <td>0</td>\n",
       "      <td>2018-01-01</td>\n",
       "      <td>2018</td>\n",
       "      <td>другой</td>\n",
       "      <td>0.644068</td>\n",
       "      <td>0.144068</td>\n",
       "    </tr>\n",
       "    <tr>\n",
       "      <td>23696</td>\n",
       "      <td>18</td>\n",
       "      <td>2500000.0</td>\n",
       "      <td>56.70</td>\n",
       "      <td>2018-02-11</td>\n",
       "      <td>2</td>\n",
       "      <td>2.764795</td>\n",
       "      <td>3</td>\n",
       "      <td>29.7</td>\n",
       "      <td>1</td>\n",
       "      <td>True</td>\n",
       "      <td>...</td>\n",
       "      <td>NaN</td>\n",
       "      <td>NaN</td>\n",
       "      <td>0</td>\n",
       "      <td>44091.710758</td>\n",
       "      <td>6</td>\n",
       "      <td>2018-02-01</td>\n",
       "      <td>2018</td>\n",
       "      <td>первый</td>\n",
       "      <td>0.523810</td>\n",
       "      <td>0.171339</td>\n",
       "    </tr>\n",
       "    <tr>\n",
       "      <td>23697</td>\n",
       "      <td>13</td>\n",
       "      <td>11475000.0</td>\n",
       "      <td>76.75</td>\n",
       "      <td>2017-03-28</td>\n",
       "      <td>2</td>\n",
       "      <td>3.000000</td>\n",
       "      <td>17</td>\n",
       "      <td>0.0</td>\n",
       "      <td>12</td>\n",
       "      <td>True</td>\n",
       "      <td>...</td>\n",
       "      <td>3.0</td>\n",
       "      <td>196.0</td>\n",
       "      <td>602</td>\n",
       "      <td>149511.400651</td>\n",
       "      <td>1</td>\n",
       "      <td>2017-03-01</td>\n",
       "      <td>2017</td>\n",
       "      <td>другой</td>\n",
       "      <td>0.000000</td>\n",
       "      <td>0.303583</td>\n",
       "    </tr>\n",
       "    <tr>\n",
       "      <td>23698</td>\n",
       "      <td>4</td>\n",
       "      <td>1350000.0</td>\n",
       "      <td>32.30</td>\n",
       "      <td>2017-07-21</td>\n",
       "      <td>1</td>\n",
       "      <td>2.500000</td>\n",
       "      <td>5</td>\n",
       "      <td>12.3</td>\n",
       "      <td>1</td>\n",
       "      <td>True</td>\n",
       "      <td>...</td>\n",
       "      <td>NaN</td>\n",
       "      <td>NaN</td>\n",
       "      <td>0</td>\n",
       "      <td>41795.665635</td>\n",
       "      <td>4</td>\n",
       "      <td>2017-07-01</td>\n",
       "      <td>2017</td>\n",
       "      <td>первый</td>\n",
       "      <td>0.380805</td>\n",
       "      <td>0.278638</td>\n",
       "    </tr>\n",
       "  </tbody>\n",
       "</table>\n",
       "<p>5 rows × 29 columns</p>\n",
       "</div>"
      ],
      "text/plain": [
       "       total_images  last_price  total_area first_day_exposition  rooms  \\\n",
       "23694             9   9700000.0      133.81           2017-03-21      3   \n",
       "23695            14   3100000.0       59.00           2018-01-15      3   \n",
       "23696            18   2500000.0       56.70           2018-02-11      2   \n",
       "23697            13  11475000.0       76.75           2017-03-28      2   \n",
       "23698             4   1350000.0       32.30           2017-07-21      1   \n",
       "\n",
       "       ceiling_height  floors_total  living_area  floor  is_apartment  ...  \\\n",
       "23694        3.700000             5         73.3      3          True  ...   \n",
       "23695        2.764795             5         38.0      4          True  ...   \n",
       "23696        2.764795             3         29.7      1          True  ...   \n",
       "23697        3.000000            17          0.0     12          True  ...   \n",
       "23698        2.500000             5         12.3      1          True  ...   \n",
       "\n",
       "       ponds_around3000  ponds_nearest  days_exposition  price_to_metr  \\\n",
       "23694               3.0          381.0                0   72490.845228   \n",
       "23695               NaN            NaN               45   52542.372881   \n",
       "23696               NaN            NaN                0   44091.710758   \n",
       "23697               3.0          196.0              602  149511.400651   \n",
       "23698               NaN            NaN                0   41795.665635   \n",
       "\n",
       "      weekday      month  year  floor_category  living_to_total_area  \\\n",
       "23694       1 2017-03-01  2017          другой              0.547792   \n",
       "23695       0 2018-01-01  2018          другой              0.644068   \n",
       "23696       6 2018-02-01  2018          первый              0.523810   \n",
       "23697       1 2017-03-01  2017          другой              0.000000   \n",
       "23698       4 2017-07-01  2017          первый              0.380805   \n",
       "\n",
       "       kitchen_to_total_area  \n",
       "23694               0.103356  \n",
       "23695               0.144068  \n",
       "23696               0.171339  \n",
       "23697               0.303583  \n",
       "23698               0.278638  \n",
       "\n",
       "[5 rows x 29 columns]"
      ]
     },
     "execution_count": 100,
     "metadata": {},
     "output_type": "execute_result"
    }
   ],
   "source": [
    "data[\"living_to_total_area\"] = data[\"living_area\"] / data[\"total_area\"] #похожее мы уже делали, просто разделим столбцы\n",
    "data[\"kitchen_to_total_area\"] = data[\"kitchen_area\"] / data[\"total_area\"] \n",
    "data.tail() #проверка последних 5 строк таблицы\n"
   ]
  },
  {
   "cell_type": "markdown",
   "metadata": {},
   "source": [
    "### Вывод"
   ]
  },
  {
   "cell_type": "markdown",
   "metadata": {},
   "source": [
    "Таким образом, была добавлена в датасет информация о цене квадратного метра, дня, месяца, года публикации, категории этажей, а так же отношение жилой площади, кухни к общей площади квартиры."
   ]
  },
  {
   "cell_type": "markdown",
   "metadata": {},
   "source": [
    "## Исследовательский анализ данных"
   ]
  },
  {
   "cell_type": "markdown",
   "metadata": {},
   "source": [
    "### Исследование параметров : площадь, цена, число комнат и высоты потолков"
   ]
  },
  {
   "cell_type": "code",
   "execution_count": 125,
   "metadata": {},
   "outputs": [
    {
     "data": {
      "text/plain": [
       "count    23699.000000\n",
       "mean        60.348651\n",
       "std         35.654083\n",
       "min         12.000000\n",
       "25%         40.000000\n",
       "50%         52.000000\n",
       "75%         69.900000\n",
       "max        900.000000\n",
       "Name: total_area, dtype: float64"
      ]
     },
     "execution_count": 125,
     "metadata": {},
     "output_type": "execute_result"
    },
    {
     "data": {
      "image/png": "[encoded data removed]",
      "text/plain": [
       "<Figure size 720x720 with 1 Axes>"
      ]
     },
     "metadata": {
      "needs_background": "light"
     },
     "output_type": "display_data"
    }
   ],
   "source": [
    "data.plot(y = 'total_area', kind = 'hist', bins = 100, grid=True, figsize = (10,10), range = (0,500) , title = \"Общая площадь квартир\") #посмтроим гистограмму\n",
    "data[\"total_area\"].describe() # числовое описание"
   ]
  },
  {
   "cell_type": "markdown",
   "metadata": {},
   "source": [
    "Общая площадь квартиры находится в диапазоне от 12 до 900 квадратных метров, среднее значение колеблится в районе 60, после 150 квадратных метров считаю, что данные  являются выбросами, их количество мало, следовательно и их влияние тоже. Поэтому оставим как есть."
   ]
  },
  {
   "cell_type": "code",
   "execution_count": 102,
   "metadata": {},
   "outputs": [
    {
     "data": {
      "text/plain": [
       "count    23699.000000\n",
       "mean         6.541549\n",
       "std         10.887013\n",
       "min          0.012190\n",
       "25%          3.400000\n",
       "50%          4.650000\n",
       "75%          6.800000\n",
       "max        763.000000\n",
       "Name: last_price, dtype: float64"
      ]
     },
     "execution_count": 102,
     "metadata": {},
     "output_type": "execute_result"
    },
    {
     "data": {
      "image/png": "[encoded data removed]",
      "text/plain": [
       "<Figure size 360x216 with 1 Axes>"
      ]
     },
     "metadata": {
      "needs_background": "light"
     },
     "output_type": "display_data"
    }
   ],
   "source": [
    "data.plot(y = \"last_price\" , kind = 'hist', bins = 100, grid=True, range = (0,15000000), figsize = (5,3)) #посмтроим гистограмму\n",
    "(data[\"last_price\"] / 1000000).describe() # числовое описание (поделим значения цены на 1000000 для наглядности)"
   ]
  },
  {
   "cell_type": "markdown",
   "metadata": {},
   "source": [
    "Стоимость квартиы в среднем 6,5 миллионов рублей, медиана 4,65. Присутсвуют аномально большие значения, к примеру 763 миллиона."
   ]
  },
  {
   "cell_type": "code",
   "execution_count": 103,
   "metadata": {},
   "outputs": [
    {
     "data": {
      "text/plain": [
       "count    23699.000000\n",
       "mean         2.070636\n",
       "std          1.078405\n",
       "min          0.000000\n",
       "25%          1.000000\n",
       "50%          2.000000\n",
       "75%          3.000000\n",
       "max         19.000000\n",
       "Name: rooms, dtype: float64"
      ]
     },
     "execution_count": 103,
     "metadata": {},
     "output_type": "execute_result"
    },
    {
     "data": {
      "image/png": "[encoded data removed]",
      "text/plain": [
       "<Figure size 360x216 with 1 Axes>"
      ]
     },
     "metadata": {
      "needs_background": "light"
     },
     "output_type": "display_data"
    }
   ],
   "source": [
    "data.plot(y = 'rooms', kind = 'hist', bins = 10, grid=True, figsize = (5,3), range = (0,10)) #посмтроим гистограмму\n",
    "data[\"rooms\"].describe() # числовое описание для комнат"
   ]
  },
  {
   "cell_type": "markdown",
   "metadata": {},
   "source": [
    "Среднее количество комнат 2, медиана 2, присутсвуют аномальные значения такие как 0 комнат, 19 комнат, в будущем необходимо обратиться к комании, предоставляющая данные, в нашем случае их влиянение не высоко, поэтому оставим как есть."
   ]
  },
  {
   "cell_type": "code",
   "execution_count": 104,
   "metadata": {},
   "outputs": [
    {
     "data": {
      "text/plain": [
       "count    23699.000000\n",
       "mean         2.764795\n",
       "std          0.757819\n",
       "min          1.000000\n",
       "25%          2.600000\n",
       "50%          2.764795\n",
       "75%          2.764795\n",
       "max         32.000000\n",
       "Name: ceiling_height, dtype: float64"
      ]
     },
     "execution_count": 104,
     "metadata": {},
     "output_type": "execute_result"
    },
    {
     "data": {
      "image/png": "[encoded data removed]",
      "text/plain": [
       "<Figure size 360x216 with 1 Axes>"
      ]
     },
     "metadata": {
      "needs_background": "light"
     },
     "output_type": "display_data"
    }
   ],
   "source": [
    "data.plot(y = 'ceiling_height', kind = 'hist', bins = 20, grid=True, figsize = (5,3), range = (2,5)) #посмтроим гистограмму\n",
    "data[\"ceiling_height\"].describe() # числовое описание для потолков"
   ]
  },
  {
   "cell_type": "markdown",
   "metadata": {},
   "source": [
    "Высота потолков варьируется от 1 метра до 32, которые являются аномальными, но не влияют на общую картину. Среднее значение равно медиане и составляет 2,76 метра."
   ]
  },
  {
   "cell_type": "markdown",
   "metadata": {},
   "source": [
    "### Время продажи квартиры"
   ]
  },
  {
   "cell_type": "code",
   "execution_count": 105,
   "metadata": {},
   "outputs": [
    {
     "data": {
      "text/plain": [
       "count    23699.000000\n",
       "mean       156.608844\n",
       "std        213.546873\n",
       "min          0.000000\n",
       "25%         22.000000\n",
       "50%         74.000000\n",
       "75%        199.000000\n",
       "max       1580.000000\n",
       "Name: days_exposition, dtype: float64"
      ]
     },
     "execution_count": 105,
     "metadata": {},
     "output_type": "execute_result"
    }
   ],
   "source": [
    "data['days_exposition'].describe() ##выделим числовое описание дней продажи квартиры"
   ]
  },
  {
   "cell_type": "markdown",
   "metadata": {},
   "source": [
    "Медина не совпадает со средним значением, посмотрим на гистрограмму и на разброс значений, чтобы посмотреть в чем дело"
   ]
  },
  {
   "cell_type": "code",
   "execution_count": 106,
   "metadata": {},
   "outputs": [
    {
     "data": {
      "text/plain": [
       "0       3181\n",
       "45       880\n",
       "60       538\n",
       "7        234\n",
       "30       208\n",
       "        ... \n",
       "775        1\n",
       "807        1\n",
       "871        1\n",
       "951        1\n",
       "1175       1\n",
       "Name: days_exposition, Length: 1142, dtype: int64"
      ]
     },
     "execution_count": 106,
     "metadata": {},
     "output_type": "execute_result"
    },
    {
     "data": {
      "image/png": "[encoded data removed]",
      "text/plain": [
       "<Figure size 432x288 with 1 Axes>"
      ]
     },
     "metadata": {
      "needs_background": "light"
     },
     "output_type": "display_data"
    }
   ],
   "source": [
    "data[\"days_exposition\"].hist(bins = 100, range = (0,500)) #гистрограмма для столбца с днями\n",
    "data[\"days_exposition\"].value_counts() #количество значений"
   ]
  },
  {
   "cell_type": "markdown",
   "metadata": {},
   "source": [
    "Значительная часть квартир по неким причинам была продана в первый день, что по моему мнению довольно странно, гистрограмма в то же время показывает, что существует большое количество выбросов, когда квартиры продаются больше года.\n",
    "Так же большие аномалии в 0,7,45,60,30,90 дней. \n",
    "Построим диграмму с ящиком с усами, чтобы убедиться где лежат основные значения."
   ]
  },
  {
   "cell_type": "code",
   "execution_count": 107,
   "metadata": {
    "scrolled": true
   },
   "outputs": [
    {
     "data": {
      "image/png": "[encoded data removed]",
      "text/plain": [
       "<Figure size 432x288 with 1 Axes>"
      ]
     },
     "metadata": {
      "needs_background": "light"
     },
     "output_type": "display_data"
    }
   ],
   "source": [
    "data.boxplot(column = \"days_exposition\") #ящик с усами\n",
    "plt.show() #вывод его на экран"
   ]
  },
  {
   "cell_type": "markdown",
   "metadata": {},
   "source": [
    "Как можно заметить, значения от 500 и выше тоже считаются аномальными, в дальнейшем мы не будем их учитывать, но необходимо связаться с ребятами, которые собирали данные.\n",
    "Сохраним значения от 1 до 500, исключая столбцы 0,7,30,45,60,90.\n",
    "Продажи до 1 месяца считаются быстрым результатом, до 2-3 месяцев средним результатом. Продажи за 2 недели считаются минимальным временем продажи квартиры. "
   ]
  },
  {
   "cell_type": "markdown",
   "metadata": {},
   "source": [
    "### Удаление редких и выбивающихся значений. Нахождение особенностей"
   ]
  },
  {
   "cell_type": "code",
   "execution_count": 108,
   "metadata": {},
   "outputs": [
    {
     "data": {
      "image/png": "[encoded data removed]",
      "text/plain": [
       "<Figure size 432x288 with 1 Axes>"
      ]
     },
     "metadata": {
      "needs_background": "light"
     },
     "output_type": "display_data"
    },
    {
     "data": {
      "text/plain": [
       "<matplotlib.axes._subplots.AxesSubplot at 0x7f77e8575190>"
      ]
     },
     "execution_count": 108,
     "metadata": {},
     "output_type": "execute_result"
    },
    {
     "data": {
      "image/png": "[encoded data removed]",
      "text/plain": [
       "<Figure size 432x288 with 1 Axes>"
      ]
     },
     "metadata": {
      "needs_background": "light"
     },
     "output_type": "display_data"
    }
   ],
   "source": [
    "#уберем аномалии с днями продажи квартиры, исходя из выводов выше.\n",
    "good_data = data.query('days_exposition != 0 and days_exposition != 7 and days_exposition != 30 and days_exposition != 45 and days_exposition != 60 and days_exposition != 90')\n",
    "good_data.boxplot(column = \"days_exposition\") #диаграма ящика с усами\n",
    "plt.show()\n",
    "good_data.plot(y = 'days_exposition', kind = 'hist', bins = 100, grid = True, range = (1,200)) #гистрограмма"
   ]
  },
  {
   "cell_type": "code",
   "execution_count": 109,
   "metadata": {},
   "outputs": [
    {
     "data": {
      "text/plain": [
       "count    18454.000000\n",
       "mean       195.803349\n",
       "std        226.760010\n",
       "min          1.000000\n",
       "25%         44.000000\n",
       "50%        114.000000\n",
       "75%        259.000000\n",
       "max       1580.000000\n",
       "Name: days_exposition, dtype: float64"
      ]
     },
     "execution_count": 109,
     "metadata": {},
     "output_type": "execute_result"
    }
   ],
   "source": [
    "good_data['days_exposition'].describe()"
   ]
  },
  {
   "cell_type": "markdown",
   "metadata": {},
   "source": [
    "Как мы видим после удаления аномалий, нормальные значения располагаются от 1 до 600, а среднее и медиана выборки практически приблизились к друг другу."
   ]
  },
  {
   "cell_type": "markdown",
   "metadata": {},
   "source": [
    "### Какие факторы больше всего влияют на стоимость квартиры?"
   ]
  },
  {
   "cell_type": "markdown",
   "metadata": {},
   "source": [
    "#### Зависимость цены квадратного метра от общей площади квартиры"
   ]
  },
  {
   "cell_type": "code",
   "execution_count": 110,
   "metadata": {},
   "outputs": [
    {
     "data": {
      "text/plain": [
       "0.30196021001472556"
      ]
     },
     "execution_count": 110,
     "metadata": {},
     "output_type": "execute_result"
    }
   ],
   "source": [
    "data['total_area'].corr(data[\"price_to_metr\"]) #кореляция площади от цены квадратного метра"
   ]
  },
  {
   "cell_type": "markdown",
   "metadata": {},
   "source": [
    "Зависимость небольшая, которая показывает, чем выше площадь квартиры, тем немного дороже квадратный метр в квартире"
   ]
  },
  {
   "cell_type": "markdown",
   "metadata": {},
   "source": [
    "#### Зависимость цены квадратного метра от числа комнат"
   ]
  },
  {
   "cell_type": "code",
   "execution_count": 111,
   "metadata": {},
   "outputs": [
    {
     "data": {
      "text/plain": [
       "0.05541965593528785"
      ]
     },
     "execution_count": 111,
     "metadata": {},
     "output_type": "execute_result"
    }
   ],
   "source": [
    "data['rooms'].corr(data[\"price_to_metr\"]) #аналогично"
   ]
  },
  {
   "cell_type": "markdown",
   "metadata": {},
   "source": [
    "Кореляция достаточно низка, что позволяетс сделать вывод, что число комнат практически не влияет на стоимость квадратного метра"
   ]
  },
  {
   "cell_type": "markdown",
   "metadata": {},
   "source": [
    "#### Зависимость цены квадратного метра от этажа в квартире"
   ]
  },
  {
   "cell_type": "code",
   "execution_count": 112,
   "metadata": {},
   "outputs": [
    {
     "data": {
      "text/plain": [
       "<matplotlib.axes._subplots.AxesSubplot at 0x7f77e8365ad0>"
      ]
     },
     "execution_count": 112,
     "metadata": {},
     "output_type": "execute_result"
    },
    {
     "data": {
      "image/png": "[encoded data removed]",
      "text/plain": [
       "<Figure size 432x288 with 1 Axes>"
      ]
     },
     "metadata": {
      "needs_background": "light"
     },
     "output_type": "display_data"
    }
   ],
   "source": [
    "pivot_table_floor_category = data.pivot_table(index = 'floor_category', values = 'price_to_metr', aggfunc = 'median') #сделаем сводную таблицу, сохраняя в ней медианы по категориям\n",
    "pivot_table_floor_category.plot() #строим график"
   ]
  },
  {
   "cell_type": "markdown",
   "metadata": {},
   "source": [
    "Как мы видим цена при первом этаже падает, последний этаж немного больше ценник за квадратный метр, предсказуемо, что цены за \"другие\" этажи выше."
   ]
  },
  {
   "cell_type": "markdown",
   "metadata": {},
   "source": [
    "#### Зависимость цены квадратного метра от удаленности от центра"
   ]
  },
  {
   "cell_type": "code",
   "execution_count": 113,
   "metadata": {},
   "outputs": [
    {
     "data": {
      "text/plain": [
       "<matplotlib.axes._subplots.AxesSubplot at 0x7f77e8330490>"
      ]
     },
     "execution_count": 113,
     "metadata": {},
     "output_type": "execute_result"
    },
    {
     "data": {
      "image/png": "[encoded data removed]",
      "text/plain": [
       "<Figure size 432x288 with 1 Axes>"
      ]
     },
     "metadata": {
      "needs_background": "light"
     },
     "output_type": "display_data"
    }
   ],
   "source": [
    "data.plot(y = \"price_to_metr\", x = \"cityCenters_nearest\", kind = \"scatter\", alpha= 0.3 ) #построим график рассеивания\n",
    "#чтобы видеть насколько много значений в области расстояния от центра, точки по стандарту сделаем полупрозрачными"
   ]
  },
  {
   "cell_type": "markdown",
   "metadata": {},
   "source": [
    "Как мы видим, обратно прямопропорциональны расстоянию до центра. "
   ]
  },
  {
   "cell_type": "markdown",
   "metadata": {},
   "source": [
    "#### Изучим зависимость от даты размещения: дня недели, месяца и года"
   ]
  },
  {
   "cell_type": "code",
   "execution_count": 114,
   "metadata": {},
   "outputs": [
    {
     "data": {
      "text/plain": [
       "<matplotlib.axes._subplots.AxesSubplot at 0x7f77e82a6550>"
      ]
     },
     "execution_count": 114,
     "metadata": {},
     "output_type": "execute_result"
    },
    {
     "data": {
      "image/png": "[encoded data removed]",
      "text/plain": [
       "<Figure size 432x288 with 1 Axes>"
      ]
     },
     "metadata": {
      "needs_background": "light"
     },
     "output_type": "display_data"
    }
   ],
   "source": [
    "day_median_pivot_tabvle = data.pivot_table(index = \"weekday\", values = \"price_to_metr\", aggfunc = 'median') #сводная таблица по дням\n",
    "day_median_pivot_tabvle.plot()"
   ]
  },
  {
   "cell_type": "markdown",
   "metadata": {},
   "source": [
    "По вторникам самая высокая в среднем цена, по субботам наоборот самая низкая."
   ]
  },
  {
   "cell_type": "code",
   "execution_count": 115,
   "metadata": {},
   "outputs": [
    {
     "data": {
      "text/plain": [
       "<matplotlib.axes._subplots.AxesSubplot at 0x7f77e8649f10>"
      ]
     },
     "execution_count": 115,
     "metadata": {},
     "output_type": "execute_result"
    },
    {
     "data": {
      "image/png": "[encoded data removed]",
      "text/plain": [
       "<Figure size 432x288 with 1 Axes>"
      ]
     },
     "metadata": {
      "needs_background": "light"
     },
     "output_type": "display_data"
    }
   ],
   "source": [
    "day_median_pivot_tabvle = data.pivot_table(index = \"month\", values = \"price_to_metr\", aggfunc = 'median') #сводная таблица по месяцам\n",
    "day_median_pivot_tabvle.plot()"
   ]
  },
  {
   "cell_type": "markdown",
   "metadata": {},
   "source": [
    "Интересно, что самый низкий ценник приходится на май,июнь в дальнейшем цена явно выше. Пик стоимости приходит на март. Скорее всего рынок недвижимости имеет некую сезонность."
   ]
  },
  {
   "cell_type": "code",
   "execution_count": 116,
   "metadata": {},
   "outputs": [
    {
     "data": {
      "text/plain": [
       "<matplotlib.axes._subplots.AxesSubplot at 0x7f77e86bb4d0>"
      ]
     },
     "execution_count": 116,
     "metadata": {},
     "output_type": "execute_result"
    },
    {
     "data": {
      "image/png": "[encoded data removed]",
      "text/plain": [
       "<Figure size 432x288 with 1 Axes>"
      ]
     },
     "metadata": {
      "needs_background": "light"
     },
     "output_type": "display_data"
    }
   ],
   "source": [
    "day_median_pivot_tabvle = data.pivot_table(index = \"year\", values = \"price_to_metr\", aggfunc = 'median') #сводная таблица по годам\n",
    "day_median_pivot_tabvle.plot()"
   ]
  },
  {
   "cell_type": "markdown",
   "metadata": {},
   "source": [
    "Начиная с 2014 года до 2016, стоимость квартир увеличивается исходя из данных. Однако можно предположить, что дорожают лишь новые квартиры, которые построены в дальнейшем, старые могут оставаться на том же уровне.\n",
    "Или наоборот старые квартиры, при расширении города были дешевле обычного, но с годами, они стали ближе к центру и их стоимость соотвенно увеличилась, хотя новые квартиры могут быть дешевле."
   ]
  },
  {
   "cell_type": "code",
   "execution_count": 132,
   "metadata": {},
   "outputs": [
    {
     "data": {
      "text/html": [
       "<div>\n",
       "<style scoped>\n",
       "    .dataframe tbody tr th:only-of-type {\n",
       "        vertical-align: middle;\n",
       "    }\n",
       "\n",
       "    .dataframe tbody tr th {\n",
       "        vertical-align: top;\n",
       "    }\n",
       "\n",
       "    .dataframe thead th {\n",
       "        text-align: right;\n",
       "    }\n",
       "</style>\n",
       "<table border=\"1\" class=\"dataframe\">\n",
       "  <thead>\n",
       "    <tr style=\"text-align: right;\">\n",
       "      <th></th>\n",
       "      <th>last_price</th>\n",
       "      <th>price_to_metr</th>\n",
       "      <th>total_area</th>\n",
       "      <th>rooms</th>\n",
       "      <th>cityCenters_nearest</th>\n",
       "    </tr>\n",
       "  </thead>\n",
       "  <tbody>\n",
       "    <tr>\n",
       "      <td>last_price</td>\n",
       "      <td>1.000000</td>\n",
       "      <td>0.736499</td>\n",
       "      <td>0.653675</td>\n",
       "      <td>0.363343</td>\n",
       "      <td>-0.206747</td>\n",
       "    </tr>\n",
       "    <tr>\n",
       "      <td>price_to_metr</td>\n",
       "      <td>0.736499</td>\n",
       "      <td>1.000000</td>\n",
       "      <td>0.301960</td>\n",
       "      <td>0.055420</td>\n",
       "      <td>-0.317951</td>\n",
       "    </tr>\n",
       "    <tr>\n",
       "      <td>total_area</td>\n",
       "      <td>0.653675</td>\n",
       "      <td>0.301960</td>\n",
       "      <td>1.000000</td>\n",
       "      <td>0.758344</td>\n",
       "      <td>-0.231446</td>\n",
       "    </tr>\n",
       "    <tr>\n",
       "      <td>rooms</td>\n",
       "      <td>0.363343</td>\n",
       "      <td>0.055420</td>\n",
       "      <td>0.758344</td>\n",
       "      <td>1.000000</td>\n",
       "      <td>-0.184864</td>\n",
       "    </tr>\n",
       "    <tr>\n",
       "      <td>cityCenters_nearest</td>\n",
       "      <td>-0.206747</td>\n",
       "      <td>-0.317951</td>\n",
       "      <td>-0.231446</td>\n",
       "      <td>-0.184864</td>\n",
       "      <td>1.000000</td>\n",
       "    </tr>\n",
       "  </tbody>\n",
       "</table>\n",
       "</div>"
      ],
      "text/plain": [
       "                     last_price  price_to_metr  total_area     rooms  \\\n",
       "last_price             1.000000       0.736499    0.653675  0.363343   \n",
       "price_to_metr          0.736499       1.000000    0.301960  0.055420   \n",
       "total_area             0.653675       0.301960    1.000000  0.758344   \n",
       "rooms                  0.363343       0.055420    0.758344  1.000000   \n",
       "cityCenters_nearest   -0.206747      -0.317951   -0.231446 -0.184864   \n",
       "\n",
       "                     cityCenters_nearest  \n",
       "last_price                     -0.206747  \n",
       "price_to_metr                  -0.317951  \n",
       "total_area                     -0.231446  \n",
       "rooms                          -0.184864  \n",
       "cityCenters_nearest             1.000000  "
      ]
     },
     "execution_count": 132,
     "metadata": {},
     "output_type": "execute_result"
    }
   ],
   "source": [
    "data_lin_korr = data[['last_price', 'price_to_metr', 'total_area', 'rooms', 'cityCenters_nearest']].corr() #строим кореляцию для\n",
    "#линейно зависимых переменных\n",
    "data_lin_korr"
   ]
  },
  {
   "cell_type": "code",
   "execution_count": 137,
   "metadata": {},
   "outputs": [
    {
     "data": {
      "text/plain": [
       "<seaborn.axisgrid.PairGrid at 0x7f77c996edd0>"
      ]
     },
     "execution_count": 137,
     "metadata": {},
     "output_type": "execute_result"
    },
    {
     "data": {
      "image/png": "[encoded data removed]",
      "text/plain": [
       "<Figure size 900x900 with 30 Axes>"
      ]
     },
     "metadata": {
      "needs_background": "light"
     },
     "output_type": "display_data"
    }
   ],
   "source": [
    "sns.pairplot(data_lin_korr) #визуализируем"
   ]
  },
  {
   "cell_type": "markdown",
   "metadata": {},
   "source": [
    "#### Выбираем 10 населённых пунктов с наибольшим числом объявлений. Самый дорогой и дешевый населенный пункт."
   ]
  },
  {
   "cell_type": "code",
   "execution_count": 117,
   "metadata": {},
   "outputs": [
    {
     "data": {
      "text/html": [
       "<div>\n",
       "<style scoped>\n",
       "    .dataframe tbody tr th:only-of-type {\n",
       "        vertical-align: middle;\n",
       "    }\n",
       "\n",
       "    .dataframe tbody tr th {\n",
       "        vertical-align: top;\n",
       "    }\n",
       "\n",
       "    .dataframe thead th {\n",
       "        text-align: right;\n",
       "    }\n",
       "</style>\n",
       "<table border=\"1\" class=\"dataframe\">\n",
       "  <thead>\n",
       "    <tr style=\"text-align: right;\">\n",
       "      <th></th>\n",
       "      <th>count</th>\n",
       "      <th>mean</th>\n",
       "    </tr>\n",
       "    <tr>\n",
       "      <th>locality_name</th>\n",
       "      <th></th>\n",
       "      <th></th>\n",
       "    </tr>\n",
       "  </thead>\n",
       "  <tbody>\n",
       "    <tr>\n",
       "      <td>Санкт-Петербург</td>\n",
       "      <td>15721</td>\n",
       "      <td>114849.008794</td>\n",
       "    </tr>\n",
       "    <tr>\n",
       "      <td>посёлок Мурино</td>\n",
       "      <td>522</td>\n",
       "      <td>85752.189195</td>\n",
       "    </tr>\n",
       "    <tr>\n",
       "      <td>посёлок Шушары</td>\n",
       "      <td>440</td>\n",
       "      <td>78677.364217</td>\n",
       "    </tr>\n",
       "    <tr>\n",
       "      <td>Всеволожск</td>\n",
       "      <td>398</td>\n",
       "      <td>68654.473986</td>\n",
       "    </tr>\n",
       "    <tr>\n",
       "      <td>Пушкин</td>\n",
       "      <td>369</td>\n",
       "      <td>103125.819291</td>\n",
       "    </tr>\n",
       "    <tr>\n",
       "      <td>Колпино</td>\n",
       "      <td>338</td>\n",
       "      <td>75424.579098</td>\n",
       "    </tr>\n",
       "    <tr>\n",
       "      <td>посёлок Парголово</td>\n",
       "      <td>327</td>\n",
       "      <td>90175.913458</td>\n",
       "    </tr>\n",
       "    <tr>\n",
       "      <td>Гатчина</td>\n",
       "      <td>307</td>\n",
       "      <td>68746.146763</td>\n",
       "    </tr>\n",
       "    <tr>\n",
       "      <td>деревня Кудрово</td>\n",
       "      <td>299</td>\n",
       "      <td>92473.547576</td>\n",
       "    </tr>\n",
       "    <tr>\n",
       "      <td>Выборг</td>\n",
       "      <td>237</td>\n",
       "      <td>58141.909153</td>\n",
       "    </tr>\n",
       "  </tbody>\n",
       "</table>\n",
       "</div>"
      ],
      "text/plain": [
       "                   count           mean\n",
       "locality_name                          \n",
       "Санкт-Петербург    15721  114849.008794\n",
       "посёлок Мурино       522   85752.189195\n",
       "посёлок Шушары       440   78677.364217\n",
       "Всеволожск           398   68654.473986\n",
       "Пушкин               369  103125.819291\n",
       "Колпино              338   75424.579098\n",
       "посёлок Парголово    327   90175.913458\n",
       "Гатчина              307   68746.146763\n",
       "деревня Кудрово      299   92473.547576\n",
       "Выборг               237   58141.909153"
      ]
     },
     "execution_count": 117,
     "metadata": {},
     "output_type": "execute_result"
    }
   ],
   "source": [
    "locality_name_pivot_tabvle = data.pivot_table(index = \"locality_name\", values = \"price_to_metr\", aggfunc = ['count','mean'])\n",
    "#аналогично выше создали таблицу со средним значением и количеством записей\n",
    "locality_name_pivot_tabvle.columns = ['count','mean'] #переименовали столбцы\n",
    "locality_name_pivot_tabvle = locality_name_pivot_tabvle.sort_values(\"count\", ascending = False) #сгруппировали по столбцу count по убыванию\n",
    "locality_name_pivot_tabvle.head(10)\n",
    "#вывели первые 10 строк\n"
   ]
  },
  {
   "cell_type": "markdown",
   "metadata": {},
   "source": [
    "Самая высокая стоимость жилья в Питере, самая низкая в Выборге."
   ]
  },
  {
   "cell_type": "markdown",
   "metadata": {},
   "source": [
    "### Нахождние центральной зоны Санкт - Петербурга"
   ]
  },
  {
   "cell_type": "code",
   "execution_count": 118,
   "metadata": {},
   "outputs": [
    {
     "data": {
      "text/plain": [
       "<matplotlib.axes._subplots.AxesSubplot at 0x7f78576572d0>"
      ]
     },
     "execution_count": 118,
     "metadata": {},
     "output_type": "execute_result"
    },
    {
     "data": {
      "image/png": "[encoded data removed]",
      "text/plain": [
       "<Figure size 432x288 with 1 Axes>"
      ]
     },
     "metadata": {
      "needs_background": "light"
     },
     "output_type": "display_data"
    }
   ],
   "source": [
    "\n",
    "data['cityCenters_nearest_km'] = data['cityCenters_nearest'] / 1000 #делим на 1000 метров\n",
    "data['cityCenters_nearest_km'] = data['cityCenters_nearest_km'].fillna(-5).astype(\"int\") #заменяем пропуски, чтобы их потом исключить и тип данных\n",
    "city_peter_price = data.query('cityCenters_nearest_km != -5 and locality_name == \"Санкт-Петербург\"').pivot_table(index = 'cityCenters_nearest_km', values = 'price_to_metr', aggfunc = 'mean')\n",
    "city_peter_price.plot(kind = \"bar\")\n"
   ]
  },
  {
   "cell_type": "markdown",
   "metadata": {},
   "source": [
    "Как мы видим после 7км, наши значения стали падать, следовательно 7 км - это радиус центра города."
   ]
  },
  {
   "cell_type": "markdown",
   "metadata": {},
   "source": [
    "### Анализ центральной области Санкт-Петербурга"
   ]
  },
  {
   "cell_type": "code",
   "execution_count": 119,
   "metadata": {},
   "outputs": [
    {
     "data": {
      "text/plain": [
       "0.05541965593528785"
      ]
     },
     "execution_count": 119,
     "metadata": {},
     "output_type": "execute_result"
    },
    {
     "data": {
      "image/png": "[encoded data removed]",
      "text/plain": [
       "<Figure size 432x288 with 1 Axes>"
      ]
     },
     "metadata": {
      "needs_background": "light"
     },
     "output_type": "display_data"
    }
   ],
   "source": [
    "city_peter_price = data.query('cityCenters_nearest_km != -5 and locality_name == \"Санкт-Петербург\"') #cрез\n",
    "city_peter_price_rooms = city_peter_price.pivot_table(index = \"rooms\", values = \"price_to_metr\", aggfunc = [\"mean\",\"count\"]) \n",
    "#сводная таблица\n",
    "city_peter_price_rooms.columns = [\"mean\", \"count\"]\n",
    "city_peter_price_rooms = city_peter_price_rooms.query(\"count > 100\") #интересует больше 100 наблюдений\n",
    "city_peter_price_rooms[\"mean\"].plot() #график\n",
    "data['rooms'].corr(data[\"price_to_metr\"]) #кореляция"
   ]
  },
  {
   "cell_type": "markdown",
   "metadata": {},
   "source": [
    "Кореляция практически полностью совпадает с полной выборкой, количество комнат практически не влияет на стоимость жилья в пределах центра Санкт - Петербурга. Можно сделать вывод что явной зависимости нет."
   ]
  },
  {
   "cell_type": "code",
   "execution_count": 120,
   "metadata": {},
   "outputs": [
    {
     "data": {
      "text/plain": [
       "<matplotlib.axes._subplots.AxesSubplot at 0x7f77e799f610>"
      ]
     },
     "execution_count": 120,
     "metadata": {},
     "output_type": "execute_result"
    },
    {
     "data": {
      "image/png": "[encoded data removed]",
      "text/plain": [
       "<Figure size 432x288 with 1 Axes>"
      ]
     },
     "metadata": {
      "needs_background": "light"
     },
     "output_type": "display_data"
    },
    {
     "data": {
      "image/png": "[encoded data removed]",
      "text/plain": [
       "<Figure size 432x288 with 1 Axes>"
      ]
     },
     "metadata": {
      "needs_background": "light"
     },
     "output_type": "display_data"
    }
   ],
   "source": [
    "#аналогино для Питера\n",
    "city_peter_price_floor = city_peter_price.pivot_table(index = \"floor_category\", values = \"price_to_metr\", aggfunc = \"mean\" ) \n",
    "data.pivot_table(index = \"floor_category\", values = \"price_to_metr\", aggfunc=\"mean\" ).plot(kind = \"bar\") #для общей выборки\n",
    "city_peter_price_floor.plot(kind = \"bar\") #график цен по категориям"
   ]
  },
  {
   "cell_type": "markdown",
   "metadata": {},
   "source": [
    "Таким образом, как и предполагалось на первом этаже самые низкие ценники, в центре она конечно же немного выше, последний и \"другие\" этажи стоят в центре в среднем одинаково. \n",
    "Как и ожидалось цены в центре выше, чем за его пределами."
   ]
  },
  {
   "cell_type": "code",
   "execution_count": 121,
   "metadata": {},
   "outputs": [
    {
     "data": {
      "text/plain": [
       "<matplotlib.axes._subplots.AxesSubplot at 0x7f77e86a88d0>"
      ]
     },
     "execution_count": 121,
     "metadata": {},
     "output_type": "execute_result"
    },
    {
     "data": {
      "image/png": "[encoded data removed]",
      "text/plain": [
       "<Figure size 432x288 with 1 Axes>"
      ]
     },
     "metadata": {
      "needs_background": "light"
     },
     "output_type": "display_data"
    },
    {
     "data": {
      "image/png": "[encoded data removed]",
      "text/plain": [
       "<Figure size 432x288 with 1 Axes>"
      ]
     },
     "metadata": {
      "needs_background": "light"
     },
     "output_type": "display_data"
    }
   ],
   "source": [
    "city_peter_price.plot(x = \"cityCenters_nearest\", y = \"price_to_metr\", kind =\"scatter\", color = \"red\",  alpha = 0.3) #для Питера\n",
    "data.plot(x = \"cityCenters_nearest\", y = \"price_to_metr\", kind =\"scatter\", color = \"black\",  alpha = 0.3) #для общей Выборки\n",
    "#рассмотрим зависимость цен на квартиры по двум выборкам"
   ]
  },
  {
   "cell_type": "markdown",
   "metadata": {},
   "source": [
    "Как мы видим, прямая аналогия, чем ближе к центру Питера, тем дороже, здесь взаимосвязь аналогична полной выборке."
   ]
  },
  {
   "cell_type": "code",
   "execution_count": 122,
   "metadata": {},
   "outputs": [
    {
     "data": {
      "text/plain": [
       "<matplotlib.axes._subplots.AxesSubplot at 0x7f77e8793a10>"
      ]
     },
     "execution_count": 122,
     "metadata": {},
     "output_type": "execute_result"
    },
    {
     "data": {
      "image/png": "[encoded data removed]",
      "text/plain": [
       "<Figure size 432x288 with 1 Axes>"
      ]
     },
     "metadata": {
      "needs_background": "light"
     },
     "output_type": "display_data"
    },
    {
     "data": {
      "image/png": "[encoded data removed]",
      "text/plain": [
       "<Figure size 432x288 with 1 Axes>"
      ]
     },
     "metadata": {
      "needs_background": "light"
     },
     "output_type": "display_data"
    }
   ],
   "source": [
    "city_peter_price.pivot_table(index = \"weekday\", values = \"price_to_metr\", aggfunc = 'median').plot(title = \"Для Питера в Центре\") #сводная таблица по дням недели\n",
    "data.pivot_table(index = \"weekday\", values = \"price_to_metr\", aggfunc = 'median').plot(title = \"Для общей выборки\")"
   ]
  },
  {
   "cell_type": "markdown",
   "metadata": {},
   "source": [
    "Для центральной области Санкт-Петербуга характерно, то, что по четвергам пик стоимости, а в субботу самый низкий ценник - аналогично анализу общей выборки."
   ]
  },
  {
   "cell_type": "code",
   "execution_count": 123,
   "metadata": {},
   "outputs": [
    {
     "data": {
      "text/plain": [
       "<matplotlib.axes._subplots.AxesSubplot at 0x7f77e87cc950>"
      ]
     },
     "execution_count": 123,
     "metadata": {},
     "output_type": "execute_result"
    },
    {
     "data": {
      "image/png": "[encoded data removed]",
      "text/plain": [
       "<Figure size 432x288 with 1 Axes>"
      ]
     },
     "metadata": {
      "needs_background": "light"
     },
     "output_type": "display_data"
    },
    {
     "data": {
      "image/png": "[encoded data removed]",
      "text/plain": [
       "<Figure size 432x288 with 1 Axes>"
      ]
     },
     "metadata": {
      "needs_background": "light"
     },
     "output_type": "display_data"
    }
   ],
   "source": [
    "city_peter_price.pivot_table(index = \"month\", values = \"price_to_metr\", aggfunc = 'median').plot(title = \"Для Питера в Центре\") #сводная таблица по месяцам\n",
    "data.pivot_table(index = \"month\", values = \"price_to_metr\", aggfunc = 'median').plot(title = \"Для общей выборки\")"
   ]
  },
  {
   "cell_type": "markdown",
   "metadata": {},
   "source": [
    "Зависимость стоимости от месяца публикации аналогична в двух выборках, с тем отличием, что есть временные отрезки в выборке для центра Санкт - Петербурга, где цены поднимаются или опускаются явно плавнее, как пример от 6 до 7 месяца."
   ]
  },
  {
   "cell_type": "code",
   "execution_count": 124,
   "metadata": {},
   "outputs": [
    {
     "data": {
      "text/plain": [
       "<matplotlib.axes._subplots.AxesSubplot at 0x7f77e8261dd0>"
      ]
     },
     "execution_count": 124,
     "metadata": {},
     "output_type": "execute_result"
    },
    {
     "data": {
      "image/png": "[encoded data removed]",
      "text/plain": [
       "<Figure size 432x288 with 1 Axes>"
      ]
     },
     "metadata": {
      "needs_background": "light"
     },
     "output_type": "display_data"
    },
    {
     "data": {
      "image/png": "[encoded data removed]",
      "text/plain": [
       "<Figure size 432x288 with 1 Axes>"
      ]
     },
     "metadata": {
      "needs_background": "light"
     },
     "output_type": "display_data"
    }
   ],
   "source": [
    "city_peter_price.pivot_table(index = \"year\", values = \"price_to_metr\", aggfunc = 'median').plot(title = \"Для Питера в Центре\") #сводная таблица по годам\n",
    "data.pivot_table(index = \"year\", values = \"price_to_metr\", aggfunc = 'median').plot(title = \"Для общей выборки\")"
   ]
  },
  {
   "cell_type": "markdown",
   "metadata": {},
   "source": [
    "Ситуация для рынка примерно такая же, лишь одна разница, что для квартир в центре Питера с 2017 по 2019 года, цены росли плавнее, нежели если рассматривать этот вопрос по общей выборке."
   ]
  },
  {
   "cell_type": "markdown",
   "metadata": {},
   "source": [
    "## Общий вывод"
   ]
  },
  {
   "cell_type": "markdown",
   "metadata": {},
   "source": [
    "* Таким образом, полученный нами в качестве задания датасет был обработан, была получена первичная информация о нем для дальнейшего анализа.\n",
    "\n",
    "* Проработали вопросы с наличием пропусков, провели замену типов данных там, где это необходимо.\n",
    "\n",
    "* Посчитали и добавили в таблицу цену квадратного метра, день, месяц, год публикации, категории этажей, отношение жилой площади к кухонной.\n",
    "\n",
    "* Изучили парамеры, которые влияют так или иначе на стоимость квадратного метра. Смотрели на их аномальные значения.\n",
    "\n",
    "* Был сделан вывод, что квартиры продаются от 1 до 600 дней. Больше всего на их стоимость влияют расположение географическое, количество комнат, этаж квартиры, год продажи (для центрального района Питера).\n",
    "\n",
    "* Общая площадь, день, месяц продажи лишь в маленькой доли влияют на стоимость квартиры.\n",
    "\n",
    "* Проведя анализ исходных данных, сделали вывод, что центр города Санкт-Петербург ограничивается 7 км. \n",
    "\n",
    "* Проведя анализ для центрального района Санкт-Петербурга и общей выборки был сделан вывод, что большинство факторов влияют таким же образом на центральные квартиры, что и для всей выборки. Только рост цен на квартиры для центрального района с 2017 года по 2019 год происходит плавнее, т.к. в общей выборке мы видим значительное повышение цен."
   ]
  },
  {
   "cell_type": "code",
   "execution_count": null,
   "metadata": {},
   "outputs": [],
   "source": []
  }
 ],
 "metadata": {
  "ExecuteTimeLog": [
   {
    "duration": 521,
    "start_time": "2022-01-12T12:04:04.883Z"
   },
   {
    "duration": 785,
    "start_time": "2022-01-12T12:04:10.893Z"
   },
   {
    "duration": 96,
    "start_time": "2022-01-12T12:04:13.580Z"
   },
   {
    "duration": 86,
    "start_time": "2022-01-12T12:05:15.239Z"
   },
   {
    "duration": 127,
    "start_time": "2022-01-12T12:08:52.538Z"
   },
   {
    "duration": 129,
    "start_time": "2022-01-12T12:09:15.217Z"
   },
   {
    "duration": 130,
    "start_time": "2022-01-12T12:32:23.972Z"
   },
   {
    "duration": 7,
    "start_time": "2022-01-12T12:32:53.408Z"
   },
   {
    "duration": 422,
    "start_time": "2022-01-12T12:33:03.736Z"
   },
   {
    "duration": 386,
    "start_time": "2022-01-12T12:33:07.103Z"
   },
   {
    "duration": 393,
    "start_time": "2022-01-12T12:34:30.506Z"
   },
   {
    "duration": 1098,
    "start_time": "2022-01-12T12:34:35.634Z"
   },
   {
    "duration": 5,
    "start_time": "2022-01-12T13:08:30.676Z"
   },
   {
    "duration": 6,
    "start_time": "2022-01-12T13:08:37.017Z"
   },
   {
    "duration": 7,
    "start_time": "2022-01-12T14:04:37.521Z"
   },
   {
    "duration": 388,
    "start_time": "2022-01-12T14:06:15.232Z"
   },
   {
    "duration": 422,
    "start_time": "2022-01-12T14:06:22.043Z"
   },
   {
    "duration": 386,
    "start_time": "2022-01-12T14:06:24.185Z"
   },
   {
    "duration": 398,
    "start_time": "2022-01-12T14:06:28.654Z"
   },
   {
    "duration": 359,
    "start_time": "2022-01-12T14:07:16.531Z"
   },
   {
    "duration": 10,
    "start_time": "2022-01-12T14:07:24.138Z"
   },
   {
    "duration": 13,
    "start_time": "2022-01-12T14:15:22.902Z"
   },
   {
    "duration": 116,
    "start_time": "2022-01-12T14:16:42.829Z"
   },
   {
    "duration": 227,
    "start_time": "2022-01-12T14:17:30.837Z"
   },
   {
    "duration": 320,
    "start_time": "2022-01-12T14:19:56.452Z"
   },
   {
    "duration": 320,
    "start_time": "2022-01-12T14:20:41.429Z"
   },
   {
    "duration": 163,
    "start_time": "2022-01-12T14:20:47.236Z"
   },
   {
    "duration": 372,
    "start_time": "2022-01-12T14:20:51.137Z"
   },
   {
    "duration": 12,
    "start_time": "2022-01-12T14:37:05.597Z"
   },
   {
    "duration": 361,
    "start_time": "2022-01-12T14:41:37.666Z"
   },
   {
    "duration": 500,
    "start_time": "2022-01-12T14:41:50.392Z"
   },
   {
    "duration": 11,
    "start_time": "2022-01-12T14:42:27.141Z"
   },
   {
    "duration": 10,
    "start_time": "2022-01-12T14:42:38.132Z"
   },
   {
    "duration": 409,
    "start_time": "2022-01-16T19:17:26.025Z"
   },
   {
    "duration": 459,
    "start_time": "2022-01-16T19:17:58.906Z"
   },
   {
    "duration": 857,
    "start_time": "2022-01-16T19:18:03.015Z"
   },
   {
    "duration": 137,
    "start_time": "2022-01-16T19:18:03.875Z"
   },
   {
    "duration": 12,
    "start_time": "2022-01-16T19:18:04.016Z"
   },
   {
    "duration": 35,
    "start_time": "2022-01-16T19:18:04.031Z"
   },
   {
    "duration": 14,
    "start_time": "2022-01-16T19:18:04.069Z"
   },
   {
    "duration": 330,
    "start_time": "2022-01-16T19:20:48.769Z"
   },
   {
    "duration": 306,
    "start_time": "2022-01-16T19:21:36.910Z"
   },
   {
    "duration": 391,
    "start_time": "2022-01-16T19:21:56.373Z"
   },
   {
    "duration": 110,
    "start_time": "2022-01-16T19:22:44.833Z"
   },
   {
    "duration": 341,
    "start_time": "2022-01-16T19:24:38.446Z"
   },
   {
    "duration": 7,
    "start_time": "2022-01-16T19:27:23.128Z"
   },
   {
    "duration": 331,
    "start_time": "2022-01-16T19:27:33.829Z"
   },
   {
    "duration": 91,
    "start_time": "2022-01-16T19:27:53.326Z"
   },
   {
    "duration": 367,
    "start_time": "2022-01-16T19:27:56.151Z"
   },
   {
    "duration": 308,
    "start_time": "2022-01-16T19:28:09.572Z"
   },
   {
    "duration": 8,
    "start_time": "2022-01-16T19:28:43.679Z"
   },
   {
    "duration": 139,
    "start_time": "2022-01-16T19:31:35.895Z"
   },
   {
    "duration": 8838,
    "start_time": "2022-01-16T19:31:58.022Z"
   },
   {
    "duration": 830,
    "start_time": "2022-01-17T08:16:40.444Z"
   },
   {
    "duration": 130,
    "start_time": "2022-01-17T08:16:41.276Z"
   },
   {
    "duration": 14,
    "start_time": "2022-01-17T08:16:41.409Z"
   },
   {
    "duration": 16,
    "start_time": "2022-01-17T08:16:41.425Z"
   },
   {
    "duration": 12,
    "start_time": "2022-01-17T08:16:41.444Z"
   },
   {
    "duration": 6666,
    "start_time": "2022-01-17T08:16:41.458Z"
   },
   {
    "duration": 3,
    "start_time": "2022-01-17T08:17:06.566Z"
   },
   {
    "duration": 124,
    "start_time": "2022-01-17T08:17:08.617Z"
   },
   {
    "duration": 12,
    "start_time": "2022-01-17T08:17:12.978Z"
   },
   {
    "duration": 15,
    "start_time": "2022-01-17T08:17:15.640Z"
   },
   {
    "duration": 14,
    "start_time": "2022-01-17T08:17:18.315Z"
   },
   {
    "duration": 6248,
    "start_time": "2022-01-17T08:17:20.466Z"
   },
   {
    "duration": 268,
    "start_time": "2022-01-17T08:17:34.223Z"
   },
   {
    "duration": 7,
    "start_time": "2022-01-17T08:18:25.789Z"
   },
   {
    "duration": 376,
    "start_time": "2022-01-17T08:25:04.290Z"
   },
   {
    "duration": 308,
    "start_time": "2022-01-17T08:25:15.543Z"
   },
   {
    "duration": 290,
    "start_time": "2022-01-17T08:25:32.241Z"
   },
   {
    "duration": 304,
    "start_time": "2022-01-17T08:26:43.968Z"
   },
   {
    "duration": 276,
    "start_time": "2022-01-17T08:27:47.521Z"
   },
   {
    "duration": 40,
    "start_time": "2022-01-17T08:28:47.112Z"
   },
   {
    "duration": 369,
    "start_time": "2022-01-17T08:34:12.034Z"
   },
   {
    "duration": 14,
    "start_time": "2022-01-17T08:34:17.994Z"
   },
   {
    "duration": 14,
    "start_time": "2022-01-17T08:34:46.704Z"
   },
   {
    "duration": 11,
    "start_time": "2022-01-17T08:34:52.002Z"
   },
   {
    "duration": 21,
    "start_time": "2022-01-17T08:36:54.965Z"
   },
   {
    "duration": 16,
    "start_time": "2022-01-17T08:36:59.885Z"
   },
   {
    "duration": 18,
    "start_time": "2022-01-17T08:37:17.388Z"
   },
   {
    "duration": 18,
    "start_time": "2022-01-17T08:37:41.210Z"
   },
   {
    "duration": 15,
    "start_time": "2022-01-17T08:37:49.212Z"
   },
   {
    "duration": 16,
    "start_time": "2022-01-17T08:37:53.146Z"
   },
   {
    "duration": 12,
    "start_time": "2022-01-17T08:38:15.838Z"
   },
   {
    "duration": 13,
    "start_time": "2022-01-17T08:38:19.338Z"
   },
   {
    "duration": 21,
    "start_time": "2022-01-17T08:39:15.786Z"
   },
   {
    "duration": 15,
    "start_time": "2022-01-17T08:39:25.019Z"
   },
   {
    "duration": 12,
    "start_time": "2022-01-17T08:39:40.093Z"
   },
   {
    "duration": 6,
    "start_time": "2022-01-17T08:42:06.005Z"
   },
   {
    "duration": 10,
    "start_time": "2022-01-17T08:43:52.129Z"
   },
   {
    "duration": 5,
    "start_time": "2022-01-17T08:44:21.134Z"
   },
   {
    "duration": 3,
    "start_time": "2022-01-17T08:48:19.812Z"
   },
   {
    "duration": 173,
    "start_time": "2022-01-17T08:48:19.818Z"
   },
   {
    "duration": 24,
    "start_time": "2022-01-17T08:48:19.995Z"
   },
   {
    "duration": 19,
    "start_time": "2022-01-17T08:48:20.022Z"
   },
   {
    "duration": 13,
    "start_time": "2022-01-17T08:48:20.044Z"
   },
   {
    "duration": 7,
    "start_time": "2022-01-17T08:48:20.059Z"
   },
   {
    "duration": 54,
    "start_time": "2022-01-17T08:48:20.069Z"
   },
   {
    "duration": 9,
    "start_time": "2022-01-17T08:48:20.129Z"
   },
   {
    "duration": 10,
    "start_time": "2022-01-17T08:48:20.140Z"
   },
   {
    "duration": 6,
    "start_time": "2022-01-17T08:48:44.236Z"
   },
   {
    "duration": 90,
    "start_time": "2022-01-17T08:48:58.066Z"
   },
   {
    "duration": 95,
    "start_time": "2022-01-17T08:49:58.753Z"
   },
   {
    "duration": 7,
    "start_time": "2022-01-17T08:50:11.872Z"
   },
   {
    "duration": 4,
    "start_time": "2022-01-17T08:50:32.307Z"
   },
   {
    "duration": 6,
    "start_time": "2022-01-17T08:54:47.758Z"
   },
   {
    "duration": 10,
    "start_time": "2022-01-17T08:55:23.540Z"
   },
   {
    "duration": 11,
    "start_time": "2022-01-17T08:55:40.302Z"
   },
   {
    "duration": 9,
    "start_time": "2022-01-17T08:59:15.487Z"
   },
   {
    "duration": 639,
    "start_time": "2022-01-17T09:01:30.719Z"
   },
   {
    "duration": 7,
    "start_time": "2022-01-17T09:02:01.819Z"
   },
   {
    "duration": 8,
    "start_time": "2022-01-17T09:02:47.777Z"
   },
   {
    "duration": 6,
    "start_time": "2022-01-17T09:03:14.442Z"
   },
   {
    "duration": 6,
    "start_time": "2022-01-17T09:04:47.856Z"
   },
   {
    "duration": 309,
    "start_time": "2022-01-17T09:04:57.886Z"
   },
   {
    "duration": 278,
    "start_time": "2022-01-17T09:05:05.885Z"
   },
   {
    "duration": 17,
    "start_time": "2022-01-17T09:05:08.482Z"
   },
   {
    "duration": 4,
    "start_time": "2022-01-17T09:05:28.376Z"
   },
   {
    "duration": 5,
    "start_time": "2022-01-17T09:08:08.837Z"
   },
   {
    "duration": 4,
    "start_time": "2022-01-17T09:08:35.986Z"
   },
   {
    "duration": 7,
    "start_time": "2022-01-17T09:09:16.997Z"
   },
   {
    "duration": 6,
    "start_time": "2022-01-17T09:10:05.995Z"
   },
   {
    "duration": 282,
    "start_time": "2022-01-17T09:11:18.078Z"
   },
   {
    "duration": 13,
    "start_time": "2022-01-17T09:11:36.268Z"
   },
   {
    "duration": 10,
    "start_time": "2022-01-17T09:11:41.165Z"
   },
   {
    "duration": 10,
    "start_time": "2022-01-17T09:12:15.048Z"
   },
   {
    "duration": 7,
    "start_time": "2022-01-17T09:13:42.566Z"
   },
   {
    "duration": 269,
    "start_time": "2022-01-17T09:14:09.185Z"
   },
   {
    "duration": 6,
    "start_time": "2022-01-17T09:16:23.298Z"
   },
   {
    "duration": 8,
    "start_time": "2022-01-17T09:20:24.630Z"
   },
   {
    "duration": 8,
    "start_time": "2022-01-17T09:21:01.984Z"
   },
   {
    "duration": 4,
    "start_time": "2022-01-17T09:21:11.946Z"
   },
   {
    "duration": 9,
    "start_time": "2022-01-17T09:21:25.842Z"
   },
   {
    "duration": 8,
    "start_time": "2022-01-17T09:21:29.280Z"
   },
   {
    "duration": 7,
    "start_time": "2022-01-17T09:23:27.681Z"
   },
   {
    "duration": 11,
    "start_time": "2022-01-17T09:24:04.942Z"
   },
   {
    "duration": 8,
    "start_time": "2022-01-17T09:24:14.883Z"
   },
   {
    "duration": 7,
    "start_time": "2022-01-17T09:25:35.042Z"
   },
   {
    "duration": 284,
    "start_time": "2022-01-17T09:32:18.380Z"
   },
   {
    "duration": 6,
    "start_time": "2022-01-17T09:32:22.575Z"
   },
   {
    "duration": 8,
    "start_time": "2022-01-17T09:37:02.503Z"
   },
   {
    "duration": 6,
    "start_time": "2022-01-17T09:41:17.315Z"
   },
   {
    "duration": 4,
    "start_time": "2022-01-17T09:48:46.994Z"
   },
   {
    "duration": 151,
    "start_time": "2022-01-17T09:48:47.004Z"
   },
   {
    "duration": 13,
    "start_time": "2022-01-17T09:48:47.158Z"
   },
   {
    "duration": 22,
    "start_time": "2022-01-17T09:48:47.174Z"
   },
   {
    "duration": 13,
    "start_time": "2022-01-17T09:48:47.218Z"
   },
   {
    "duration": 7,
    "start_time": "2022-01-17T09:48:47.233Z"
   },
   {
    "duration": 14,
    "start_time": "2022-01-17T09:48:47.242Z"
   },
   {
    "duration": 6,
    "start_time": "2022-01-17T09:48:47.259Z"
   },
   {
    "duration": 48,
    "start_time": "2022-01-17T09:48:47.269Z"
   },
   {
    "duration": 10,
    "start_time": "2022-01-17T09:48:47.320Z"
   },
   {
    "duration": 13,
    "start_time": "2022-01-17T09:48:47.333Z"
   },
   {
    "duration": 7,
    "start_time": "2022-01-17T09:48:47.349Z"
   },
   {
    "duration": 9,
    "start_time": "2022-01-17T09:48:47.358Z"
   },
   {
    "duration": 6,
    "start_time": "2022-01-17T09:48:47.369Z"
   },
   {
    "duration": 44,
    "start_time": "2022-01-17T09:48:47.377Z"
   },
   {
    "duration": 10,
    "start_time": "2022-01-17T09:48:47.423Z"
   },
   {
    "duration": 8,
    "start_time": "2022-01-17T09:48:47.436Z"
   },
   {
    "duration": 6,
    "start_time": "2022-01-17T09:53:56.845Z"
   },
   {
    "duration": 7,
    "start_time": "2022-01-17T09:54:49.743Z"
   },
   {
    "duration": 95,
    "start_time": "2022-01-17T09:55:52.903Z"
   },
   {
    "duration": 9,
    "start_time": "2022-01-17T09:55:55.995Z"
   },
   {
    "duration": 59,
    "start_time": "2022-01-17T09:56:01.966Z"
   },
   {
    "duration": 44,
    "start_time": "2022-01-17T09:56:10.386Z"
   },
   {
    "duration": 80,
    "start_time": "2022-01-17T09:57:22.853Z"
   },
   {
    "duration": 12,
    "start_time": "2022-01-17T09:57:38.248Z"
   },
   {
    "duration": 12,
    "start_time": "2022-01-17T09:58:50.068Z"
   },
   {
    "duration": 6088,
    "start_time": "2022-01-17T10:01:36.662Z"
   },
   {
    "duration": 7,
    "start_time": "2022-01-17T10:01:43.847Z"
   },
   {
    "duration": 6,
    "start_time": "2022-01-17T10:02:14.201Z"
   },
   {
    "duration": 7,
    "start_time": "2022-01-17T10:02:27.120Z"
   },
   {
    "duration": 10,
    "start_time": "2022-01-17T10:02:49.700Z"
   },
   {
    "duration": 9,
    "start_time": "2022-01-17T10:02:58.461Z"
   },
   {
    "duration": 7,
    "start_time": "2022-01-17T10:03:08.425Z"
   },
   {
    "duration": 76,
    "start_time": "2022-01-17T10:17:37.513Z"
   },
   {
    "duration": 84,
    "start_time": "2022-01-17T10:17:54.930Z"
   },
   {
    "duration": 83,
    "start_time": "2022-01-17T10:18:26.583Z"
   },
   {
    "duration": 82,
    "start_time": "2022-01-17T10:19:15.193Z"
   },
   {
    "duration": 160,
    "start_time": "2022-01-17T10:19:30.228Z"
   },
   {
    "duration": 262,
    "start_time": "2022-01-17T10:19:43.564Z"
   },
   {
    "duration": 259,
    "start_time": "2022-01-17T10:21:03.698Z"
   },
   {
    "duration": 50,
    "start_time": "2022-01-17T10:30:12.726Z"
   },
   {
    "duration": 59,
    "start_time": "2022-01-17T10:30:28.540Z"
   },
   {
    "duration": 117,
    "start_time": "2022-01-17T10:33:06.634Z"
   },
   {
    "duration": 165,
    "start_time": "2022-01-17T10:33:27.051Z"
   },
   {
    "duration": 389,
    "start_time": "2022-01-20T12:43:44.767Z"
   },
   {
    "duration": 732,
    "start_time": "2022-01-20T12:43:50.202Z"
   },
   {
    "duration": 88,
    "start_time": "2022-01-20T12:43:50.936Z"
   },
   {
    "duration": 7,
    "start_time": "2022-01-20T12:43:51.026Z"
   },
   {
    "duration": 16,
    "start_time": "2022-01-20T12:43:51.035Z"
   },
   {
    "duration": 7,
    "start_time": "2022-01-20T12:43:51.053Z"
   },
   {
    "duration": 6,
    "start_time": "2022-01-20T12:43:51.061Z"
   },
   {
    "duration": 11,
    "start_time": "2022-01-20T12:43:51.068Z"
   },
   {
    "duration": 4,
    "start_time": "2022-01-20T12:43:51.081Z"
   },
   {
    "duration": 5,
    "start_time": "2022-01-20T12:43:51.086Z"
   },
   {
    "duration": 36,
    "start_time": "2022-01-20T12:43:51.093Z"
   },
   {
    "duration": 4,
    "start_time": "2022-01-20T12:43:51.131Z"
   },
   {
    "duration": 7,
    "start_time": "2022-01-20T12:43:51.136Z"
   },
   {
    "duration": 6,
    "start_time": "2022-01-20T12:43:51.144Z"
   },
   {
    "duration": 4,
    "start_time": "2022-01-20T12:43:51.151Z"
   },
   {
    "duration": 6,
    "start_time": "2022-01-20T12:43:51.157Z"
   },
   {
    "duration": 7,
    "start_time": "2022-01-20T12:43:51.165Z"
   },
   {
    "duration": 5,
    "start_time": "2022-01-20T12:43:51.173Z"
   },
   {
    "duration": 9,
    "start_time": "2022-01-20T12:43:51.179Z"
   },
   {
    "duration": 39,
    "start_time": "2022-01-20T12:43:51.189Z"
   },
   {
    "duration": 6,
    "start_time": "2022-01-20T12:43:51.231Z"
   },
   {
    "duration": 114,
    "start_time": "2022-01-20T12:43:51.239Z"
   },
   {
    "duration": 5,
    "start_time": "2022-01-20T12:43:51.355Z"
   },
   {
    "duration": 4,
    "start_time": "2022-01-20T12:47:17.690Z"
   },
   {
    "duration": 378,
    "start_time": "2022-01-20T13:27:56.562Z"
   },
   {
    "duration": 34,
    "start_time": "2022-01-20T13:28:14.468Z"
   },
   {
    "duration": 8,
    "start_time": "2022-01-20T13:28:35.113Z"
   },
   {
    "duration": 6,
    "start_time": "2022-01-20T13:30:08.625Z"
   },
   {
    "duration": 6,
    "start_time": "2022-01-20T13:30:17.166Z"
   },
   {
    "duration": 5,
    "start_time": "2022-01-20T13:30:38.220Z"
   },
   {
    "duration": 7,
    "start_time": "2022-01-20T13:30:45.168Z"
   },
   {
    "duration": 2,
    "start_time": "2022-01-20T13:31:05.058Z"
   },
   {
    "duration": 91,
    "start_time": "2022-01-20T13:31:05.063Z"
   },
   {
    "duration": 8,
    "start_time": "2022-01-20T13:31:05.157Z"
   },
   {
    "duration": 22,
    "start_time": "2022-01-20T13:31:05.166Z"
   },
   {
    "duration": 10,
    "start_time": "2022-01-20T13:31:05.189Z"
   },
   {
    "duration": 12,
    "start_time": "2022-01-20T13:31:05.201Z"
   },
   {
    "duration": 13,
    "start_time": "2022-01-20T13:31:05.215Z"
   },
   {
    "duration": 8,
    "start_time": "2022-01-20T13:31:05.230Z"
   },
   {
    "duration": 15,
    "start_time": "2022-01-20T13:31:05.241Z"
   },
   {
    "duration": 21,
    "start_time": "2022-01-20T13:31:05.258Z"
   },
   {
    "duration": 11,
    "start_time": "2022-01-20T13:31:05.280Z"
   },
   {
    "duration": 19,
    "start_time": "2022-01-20T13:31:05.292Z"
   },
   {
    "duration": 5,
    "start_time": "2022-01-20T13:31:05.312Z"
   },
   {
    "duration": 4,
    "start_time": "2022-01-20T13:31:05.319Z"
   },
   {
    "duration": 6,
    "start_time": "2022-01-20T13:31:05.325Z"
   },
   {
    "duration": 8,
    "start_time": "2022-01-20T13:31:05.332Z"
   },
   {
    "duration": 5,
    "start_time": "2022-01-20T13:31:05.341Z"
   },
   {
    "duration": 11,
    "start_time": "2022-01-20T13:31:05.348Z"
   },
   {
    "duration": 4,
    "start_time": "2022-01-20T13:31:05.360Z"
   },
   {
    "duration": 5,
    "start_time": "2022-01-20T13:31:05.365Z"
   },
   {
    "duration": 94,
    "start_time": "2022-01-20T13:31:05.372Z"
   },
   {
    "duration": 4,
    "start_time": "2022-01-20T13:31:05.467Z"
   },
   {
    "duration": 6,
    "start_time": "2022-01-20T13:31:05.472Z"
   },
   {
    "duration": 11,
    "start_time": "2022-01-20T13:31:05.479Z"
   },
   {
    "duration": 479,
    "start_time": "2022-01-20T13:33:21.123Z"
   },
   {
    "duration": 579,
    "start_time": "2022-01-20T13:33:32.520Z"
   },
   {
    "duration": 7,
    "start_time": "2022-01-20T13:33:58.469Z"
   },
   {
    "duration": 458,
    "start_time": "2022-01-20T13:34:11.948Z"
   },
   {
    "duration": 5,
    "start_time": "2022-01-20T13:34:19.592Z"
   },
   {
    "duration": 6,
    "start_time": "2022-01-20T13:34:24.726Z"
   },
   {
    "duration": 7,
    "start_time": "2022-01-20T13:34:57.212Z"
   },
   {
    "duration": 338,
    "start_time": "2022-01-20T13:42:01.306Z"
   },
   {
    "duration": 7,
    "start_time": "2022-01-20T13:42:17.103Z"
   },
   {
    "duration": 21,
    "start_time": "2022-01-20T13:53:24.948Z"
   },
   {
    "duration": 12133,
    "start_time": "2022-01-20T13:53:33.978Z"
   },
   {
    "duration": 7,
    "start_time": "2022-01-20T13:53:53.992Z"
   },
   {
    "duration": 120,
    "start_time": "2022-01-20T13:55:21.405Z"
   },
   {
    "duration": 139,
    "start_time": "2022-01-20T13:55:45.654Z"
   },
   {
    "duration": 11,
    "start_time": "2022-01-20T13:55:51.651Z"
   },
   {
    "duration": 11,
    "start_time": "2022-01-20T13:55:58.914Z"
   },
   {
    "duration": 6,
    "start_time": "2022-01-20T13:59:33.101Z"
   },
   {
    "duration": 113,
    "start_time": "2022-01-20T14:00:20.194Z"
   },
   {
    "duration": 118,
    "start_time": "2022-01-20T14:00:30.682Z"
   },
   {
    "duration": 117,
    "start_time": "2022-01-20T14:00:33.958Z"
   },
   {
    "duration": 359,
    "start_time": "2022-01-20T14:00:43.994Z"
   },
   {
    "duration": 199,
    "start_time": "2022-01-20T14:03:35.395Z"
   },
   {
    "duration": 6,
    "start_time": "2022-01-20T14:04:28.758Z"
   },
   {
    "duration": 327,
    "start_time": "2022-01-20T14:05:02.749Z"
   },
   {
    "duration": 444,
    "start_time": "2022-01-20T14:05:38.392Z"
   },
   {
    "duration": 326,
    "start_time": "2022-01-20T14:05:51.661Z"
   },
   {
    "duration": 10,
    "start_time": "2022-01-20T14:06:03.096Z"
   },
   {
    "duration": 9,
    "start_time": "2022-01-20T14:06:07.697Z"
   },
   {
    "duration": 12,
    "start_time": "2022-01-20T14:06:18.717Z"
   },
   {
    "duration": 11,
    "start_time": "2022-01-20T14:06:28.448Z"
   },
   {
    "duration": 9,
    "start_time": "2022-01-20T14:06:39.087Z"
   },
   {
    "duration": 11,
    "start_time": "2022-01-20T14:07:04.691Z"
   },
   {
    "duration": 14,
    "start_time": "2022-01-20T14:07:31.544Z"
   },
   {
    "duration": 16,
    "start_time": "2022-01-20T14:08:34.109Z"
   },
   {
    "duration": 15,
    "start_time": "2022-01-20T14:15:01.077Z"
   },
   {
    "duration": 407,
    "start_time": "2022-01-20T14:16:49.808Z"
   },
   {
    "duration": 657,
    "start_time": "2022-01-23T15:02:10.481Z"
   },
   {
    "duration": 94,
    "start_time": "2022-01-23T15:02:11.140Z"
   },
   {
    "duration": 7,
    "start_time": "2022-01-23T15:02:11.236Z"
   },
   {
    "duration": 9,
    "start_time": "2022-01-23T15:02:11.245Z"
   },
   {
    "duration": 21,
    "start_time": "2022-01-23T15:02:11.256Z"
   },
   {
    "duration": 4,
    "start_time": "2022-01-23T15:02:11.279Z"
   },
   {
    "duration": 10,
    "start_time": "2022-01-23T15:02:11.285Z"
   },
   {
    "duration": 4,
    "start_time": "2022-01-23T15:02:11.297Z"
   },
   {
    "duration": 5,
    "start_time": "2022-01-23T15:02:11.303Z"
   },
   {
    "duration": 8,
    "start_time": "2022-01-23T15:02:11.309Z"
   },
   {
    "duration": 5,
    "start_time": "2022-01-23T15:02:11.319Z"
   },
   {
    "duration": 6,
    "start_time": "2022-01-23T15:02:11.325Z"
   },
   {
    "duration": 42,
    "start_time": "2022-01-23T15:02:11.332Z"
   },
   {
    "duration": 6,
    "start_time": "2022-01-23T15:02:11.375Z"
   },
   {
    "duration": 9,
    "start_time": "2022-01-23T15:02:11.383Z"
   },
   {
    "duration": 12,
    "start_time": "2022-01-23T15:02:11.394Z"
   },
   {
    "duration": 7,
    "start_time": "2022-01-23T15:02:11.407Z"
   },
   {
    "duration": 11,
    "start_time": "2022-01-23T15:02:11.415Z"
   },
   {
    "duration": 8,
    "start_time": "2022-01-23T15:02:11.427Z"
   },
   {
    "duration": 11,
    "start_time": "2022-01-23T15:02:11.436Z"
   },
   {
    "duration": 91,
    "start_time": "2022-01-23T15:02:11.448Z"
   },
   {
    "duration": 3,
    "start_time": "2022-01-23T15:02:11.541Z"
   },
   {
    "duration": 11,
    "start_time": "2022-01-23T15:02:11.547Z"
   },
   {
    "duration": 13,
    "start_time": "2022-01-23T15:02:11.559Z"
   },
   {
    "duration": 10,
    "start_time": "2022-01-23T15:02:11.573Z"
   },
   {
    "duration": 15,
    "start_time": "2022-01-23T15:02:11.585Z"
   },
   {
    "duration": 13,
    "start_time": "2022-01-23T15:02:11.601Z"
   },
   {
    "duration": 10,
    "start_time": "2022-01-23T15:02:11.616Z"
   },
   {
    "duration": 9,
    "start_time": "2022-01-23T15:04:37.636Z"
   },
   {
    "duration": 7,
    "start_time": "2022-01-23T15:05:40.445Z"
   },
   {
    "duration": 377,
    "start_time": "2022-01-23T15:06:17.856Z"
   },
   {
    "duration": 304,
    "start_time": "2022-01-23T15:06:25.812Z"
   },
   {
    "duration": 10,
    "start_time": "2022-01-23T15:06:31.741Z"
   },
   {
    "duration": 15,
    "start_time": "2022-01-23T15:07:30.806Z"
   },
   {
    "duration": 16,
    "start_time": "2022-01-23T15:07:53.776Z"
   },
   {
    "duration": 22,
    "start_time": "2022-01-23T15:08:34.019Z"
   },
   {
    "duration": 338,
    "start_time": "2022-01-23T15:08:59.914Z"
   },
   {
    "duration": 292,
    "start_time": "2022-01-23T15:09:10.293Z"
   },
   {
    "duration": 448,
    "start_time": "2022-01-23T15:09:23.048Z"
   },
   {
    "duration": 4,
    "start_time": "2022-01-23T15:09:37.264Z"
   },
   {
    "duration": 32,
    "start_time": "2022-01-23T15:12:33.191Z"
   },
   {
    "duration": 31,
    "start_time": "2022-01-23T15:13:18.675Z"
   },
   {
    "duration": 4,
    "start_time": "2022-01-23T15:13:21.957Z"
   },
   {
    "duration": 4,
    "start_time": "2022-01-23T15:13:24.342Z"
   },
   {
    "duration": 3,
    "start_time": "2022-01-23T15:14:30.943Z"
   },
   {
    "duration": 95,
    "start_time": "2022-01-23T15:14:30.949Z"
   },
   {
    "duration": 26,
    "start_time": "2022-01-23T15:14:31.046Z"
   },
   {
    "duration": 10,
    "start_time": "2022-01-23T15:14:31.074Z"
   },
   {
    "duration": 7,
    "start_time": "2022-01-23T15:14:31.086Z"
   },
   {
    "duration": 4,
    "start_time": "2022-01-23T15:14:31.094Z"
   },
   {
    "duration": 10,
    "start_time": "2022-01-23T15:14:31.099Z"
   },
   {
    "duration": 4,
    "start_time": "2022-01-23T15:14:31.111Z"
   },
   {
    "duration": 10,
    "start_time": "2022-01-23T15:14:31.116Z"
   },
   {
    "duration": 9,
    "start_time": "2022-01-23T15:14:31.128Z"
   },
   {
    "duration": 35,
    "start_time": "2022-01-23T15:14:31.139Z"
   },
   {
    "duration": 3,
    "start_time": "2022-01-23T15:14:31.176Z"
   },
   {
    "duration": 11,
    "start_time": "2022-01-23T15:14:31.180Z"
   },
   {
    "duration": 11,
    "start_time": "2022-01-23T15:14:31.192Z"
   },
   {
    "duration": 10,
    "start_time": "2022-01-23T15:14:31.205Z"
   },
   {
    "duration": 23,
    "start_time": "2022-01-23T15:14:31.216Z"
   },
   {
    "duration": 11,
    "start_time": "2022-01-23T15:14:31.240Z"
   },
   {
    "duration": 14,
    "start_time": "2022-01-23T15:14:31.252Z"
   },
   {
    "duration": 7,
    "start_time": "2022-01-23T15:14:31.267Z"
   },
   {
    "duration": 9,
    "start_time": "2022-01-23T15:14:31.275Z"
   },
   {
    "duration": 79,
    "start_time": "2022-01-23T15:14:31.286Z"
   },
   {
    "duration": 6,
    "start_time": "2022-01-23T15:14:31.367Z"
   },
   {
    "duration": 8,
    "start_time": "2022-01-23T15:14:31.374Z"
   },
   {
    "duration": 6,
    "start_time": "2022-01-23T15:14:31.384Z"
   },
   {
    "duration": 10,
    "start_time": "2022-01-23T15:14:31.391Z"
   },
   {
    "duration": 18,
    "start_time": "2022-01-23T15:14:31.402Z"
   },
   {
    "duration": 12,
    "start_time": "2022-01-23T15:14:31.422Z"
   },
   {
    "duration": 56,
    "start_time": "2022-01-23T15:14:31.437Z"
   },
   {
    "duration": 4,
    "start_time": "2022-01-23T15:14:31.495Z"
   },
   {
    "duration": 5,
    "start_time": "2022-01-23T15:14:35.549Z"
   },
   {
    "duration": 22,
    "start_time": "2022-01-23T15:15:56.035Z"
   },
   {
    "duration": 22,
    "start_time": "2022-01-23T15:15:59.323Z"
   },
   {
    "duration": 5,
    "start_time": "2022-01-23T15:16:04.606Z"
   },
   {
    "duration": 9,
    "start_time": "2022-01-23T15:20:09.077Z"
   },
   {
    "duration": 342,
    "start_time": "2022-01-23T15:21:10.482Z"
   },
   {
    "duration": 129,
    "start_time": "2022-01-23T15:21:58.730Z"
   },
   {
    "duration": 27,
    "start_time": "2022-01-23T15:25:38.133Z"
   },
   {
    "duration": 6,
    "start_time": "2022-01-23T15:26:25.868Z"
   },
   {
    "duration": 10,
    "start_time": "2022-01-23T15:29:36.048Z"
   },
   {
    "duration": 10,
    "start_time": "2022-01-23T15:30:14.565Z"
   },
   {
    "duration": 310,
    "start_time": "2022-01-23T15:30:24.803Z"
   },
   {
    "duration": 27,
    "start_time": "2022-01-23T15:30:37.399Z"
   },
   {
    "duration": 6,
    "start_time": "2022-01-23T15:30:39.715Z"
   },
   {
    "duration": 11,
    "start_time": "2022-01-23T15:30:55.018Z"
   },
   {
    "duration": 34,
    "start_time": "2022-01-23T15:31:31.463Z"
   },
   {
    "duration": 28,
    "start_time": "2022-01-23T15:31:39.642Z"
   },
   {
    "duration": 6,
    "start_time": "2022-01-23T15:31:41.806Z"
   },
   {
    "duration": 35,
    "start_time": "2022-01-23T15:31:43.871Z"
   },
   {
    "duration": 103,
    "start_time": "2022-01-23T15:31:57.394Z"
   },
   {
    "duration": 26,
    "start_time": "2022-01-23T15:32:13.119Z"
   },
   {
    "duration": 35,
    "start_time": "2022-01-23T15:32:14.989Z"
   },
   {
    "duration": 426,
    "start_time": "2022-01-23T15:32:24.308Z"
   },
   {
    "duration": 444,
    "start_time": "2022-01-23T15:32:30.783Z"
   },
   {
    "duration": 3,
    "start_time": "2022-01-23T15:32:34.717Z"
   },
   {
    "duration": 97,
    "start_time": "2022-01-23T15:32:34.721Z"
   },
   {
    "duration": 9,
    "start_time": "2022-01-23T15:32:34.820Z"
   },
   {
    "duration": 15,
    "start_time": "2022-01-23T15:32:34.831Z"
   },
   {
    "duration": 24,
    "start_time": "2022-01-23T15:32:34.848Z"
   },
   {
    "duration": 6,
    "start_time": "2022-01-23T15:32:34.874Z"
   },
   {
    "duration": 10,
    "start_time": "2022-01-23T15:32:34.883Z"
   },
   {
    "duration": 5,
    "start_time": "2022-01-23T15:32:34.895Z"
   },
   {
    "duration": 4,
    "start_time": "2022-01-23T15:32:34.902Z"
   },
   {
    "duration": 8,
    "start_time": "2022-01-23T15:32:34.908Z"
   },
   {
    "duration": 5,
    "start_time": "2022-01-23T15:32:34.918Z"
   },
   {
    "duration": 6,
    "start_time": "2022-01-23T15:32:34.925Z"
   },
   {
    "duration": 39,
    "start_time": "2022-01-23T15:32:34.933Z"
   },
   {
    "duration": 4,
    "start_time": "2022-01-23T15:32:34.974Z"
   },
   {
    "duration": 6,
    "start_time": "2022-01-23T15:32:34.980Z"
   },
   {
    "duration": 9,
    "start_time": "2022-01-23T15:32:34.988Z"
   },
   {
    "duration": 15,
    "start_time": "2022-01-23T15:32:34.999Z"
   },
   {
    "duration": 10,
    "start_time": "2022-01-23T15:32:35.015Z"
   },
   {
    "duration": 7,
    "start_time": "2022-01-23T15:32:35.027Z"
   },
   {
    "duration": 9,
    "start_time": "2022-01-23T15:32:35.036Z"
   },
   {
    "duration": 102,
    "start_time": "2022-01-23T15:32:35.047Z"
   },
   {
    "duration": 5,
    "start_time": "2022-01-23T15:32:35.151Z"
   },
   {
    "duration": 15,
    "start_time": "2022-01-23T15:32:35.158Z"
   },
   {
    "duration": 7,
    "start_time": "2022-01-23T15:32:35.175Z"
   },
   {
    "duration": 7,
    "start_time": "2022-01-23T15:32:35.184Z"
   },
   {
    "duration": 15,
    "start_time": "2022-01-23T15:32:35.193Z"
   },
   {
    "duration": 12,
    "start_time": "2022-01-23T15:32:35.210Z"
   },
   {
    "duration": 59,
    "start_time": "2022-01-23T15:32:35.224Z"
   },
   {
    "duration": 6,
    "start_time": "2022-01-23T15:32:35.285Z"
   },
   {
    "duration": 59,
    "start_time": "2022-01-23T15:32:35.292Z"
   },
   {
    "duration": 9,
    "start_time": "2022-01-23T15:33:01.568Z"
   },
   {
    "duration": 5,
    "start_time": "2022-01-23T15:36:41.231Z"
   },
   {
    "duration": 5,
    "start_time": "2022-01-23T15:38:41.824Z"
   },
   {
    "duration": 5,
    "start_time": "2022-01-23T15:39:27.486Z"
   },
   {
    "duration": 5,
    "start_time": "2022-01-23T15:40:16.287Z"
   },
   {
    "duration": 4,
    "start_time": "2022-01-23T15:40:21.115Z"
   },
   {
    "duration": 8,
    "start_time": "2022-01-23T15:41:00.639Z"
   },
   {
    "duration": 8,
    "start_time": "2022-01-23T15:41:06.311Z"
   },
   {
    "duration": 72,
    "start_time": "2022-01-23T15:46:19.250Z"
   },
   {
    "duration": 321,
    "start_time": "2022-01-23T15:47:20.550Z"
   },
   {
    "duration": 315,
    "start_time": "2022-01-23T15:47:30.488Z"
   },
   {
    "duration": 436,
    "start_time": "2022-01-23T15:47:37.829Z"
   },
   {
    "duration": 70,
    "start_time": "2022-01-23T15:47:50.979Z"
   },
   {
    "duration": 10,
    "start_time": "2022-01-23T15:48:12.969Z"
   },
   {
    "duration": 8,
    "start_time": "2022-01-23T15:49:29.181Z"
   },
   {
    "duration": 5,
    "start_time": "2022-01-23T15:51:44.341Z"
   },
   {
    "duration": 4,
    "start_time": "2022-01-23T15:52:22.580Z"
   },
   {
    "duration": 2,
    "start_time": "2022-01-23T15:55:06.602Z"
   },
   {
    "duration": 9,
    "start_time": "2022-01-23T15:58:51.841Z"
   },
   {
    "duration": 12,
    "start_time": "2022-01-23T15:59:19.453Z"
   },
   {
    "duration": 20,
    "start_time": "2022-01-23T15:59:28.855Z"
   },
   {
    "duration": 30,
    "start_time": "2022-01-23T15:59:35.323Z"
   },
   {
    "duration": 314,
    "start_time": "2022-01-23T16:00:35.543Z"
   },
   {
    "duration": 13,
    "start_time": "2022-01-23T16:00:39.043Z"
   },
   {
    "duration": 12,
    "start_time": "2022-01-23T16:00:54.285Z"
   },
   {
    "duration": 3,
    "start_time": "2022-01-23T16:08:51.795Z"
   },
   {
    "duration": 643,
    "start_time": "2022-01-23T16:12:15.186Z"
   },
   {
    "duration": 823,
    "start_time": "2022-01-23T16:12:26.913Z"
   },
   {
    "duration": 527,
    "start_time": "2022-01-23T16:12:33.675Z"
   },
   {
    "duration": 595,
    "start_time": "2022-01-23T16:12:42.315Z"
   },
   {
    "duration": 2,
    "start_time": "2022-01-23T16:18:15.160Z"
   },
   {
    "duration": 4,
    "start_time": "2022-01-23T16:19:34.229Z"
   },
   {
    "duration": 5,
    "start_time": "2022-01-23T16:20:05.857Z"
   },
   {
    "duration": 24,
    "start_time": "2022-01-23T16:20:15.952Z"
   },
   {
    "duration": 23,
    "start_time": "2022-01-23T16:21:08.171Z"
   },
   {
    "duration": 3,
    "start_time": "2022-01-23T16:22:59.332Z"
   },
   {
    "duration": 3,
    "start_time": "2022-01-23T16:23:22.542Z"
   },
   {
    "duration": 2,
    "start_time": "2022-01-23T16:32:55.672Z"
   },
   {
    "duration": 323,
    "start_time": "2022-01-23T16:41:00.116Z"
   },
   {
    "duration": 110,
    "start_time": "2022-01-23T16:43:46.201Z"
   },
   {
    "duration": 170,
    "start_time": "2022-01-23T16:43:49.760Z"
   },
   {
    "duration": 164,
    "start_time": "2022-01-23T16:44:09.312Z"
   },
   {
    "duration": 157,
    "start_time": "2022-01-23T16:44:31.784Z"
   },
   {
    "duration": 429,
    "start_time": "2022-01-23T16:44:54.414Z"
   },
   {
    "duration": 118,
    "start_time": "2022-01-23T16:45:44.335Z"
   },
   {
    "duration": 140,
    "start_time": "2022-01-23T16:45:48.788Z"
   },
   {
    "duration": 153,
    "start_time": "2022-01-23T16:45:51.799Z"
   },
   {
    "duration": 327,
    "start_time": "2022-01-23T16:47:06.955Z"
   },
   {
    "duration": 408,
    "start_time": "2022-01-23T16:47:12.779Z"
   },
   {
    "duration": 429,
    "start_time": "2022-01-23T16:48:00.599Z"
   },
   {
    "duration": 730,
    "start_time": "2022-01-23T16:48:52.499Z"
   },
   {
    "duration": 419,
    "start_time": "2022-01-23T16:49:09.793Z"
   },
   {
    "duration": 416,
    "start_time": "2022-01-23T16:53:03.779Z"
   },
   {
    "duration": 8228,
    "start_time": "2022-01-23T16:53:55.109Z"
   },
   {
    "duration": 480,
    "start_time": "2022-01-23T16:54:27.007Z"
   },
   {
    "duration": 409,
    "start_time": "2022-01-23T16:55:03.126Z"
   },
   {
    "duration": 406,
    "start_time": "2022-01-23T16:55:08.702Z"
   },
   {
    "duration": 408,
    "start_time": "2022-01-23T16:55:16.384Z"
   },
   {
    "duration": 304,
    "start_time": "2022-01-23T16:55:38.421Z"
   },
   {
    "duration": 2227,
    "start_time": "2022-01-23T16:55:56.954Z"
   },
   {
    "duration": 2110,
    "start_time": "2022-01-23T16:56:06.712Z"
   },
   {
    "duration": 2075,
    "start_time": "2022-01-23T16:56:13.124Z"
   },
   {
    "duration": 2213,
    "start_time": "2022-01-23T16:56:20.963Z"
   },
   {
    "duration": 419,
    "start_time": "2022-01-23T16:56:27.477Z"
   },
   {
    "duration": 607,
    "start_time": "2022-01-23T16:56:35.219Z"
   },
   {
    "duration": 661,
    "start_time": "2022-01-23T16:56:51.651Z"
   },
   {
    "duration": 668,
    "start_time": "2022-01-23T16:57:53.629Z"
   },
   {
    "duration": 587,
    "start_time": "2022-01-23T16:58:00.579Z"
   },
   {
    "duration": 629,
    "start_time": "2022-01-23T16:58:09.878Z"
   },
   {
    "duration": 337,
    "start_time": "2022-01-23T16:59:27.044Z"
   },
   {
    "duration": 448,
    "start_time": "2022-01-23T17:01:49.534Z"
   },
   {
    "duration": 331,
    "start_time": "2022-01-23T17:02:07.480Z"
   },
   {
    "duration": 121,
    "start_time": "2022-01-23T17:02:50.584Z"
   },
   {
    "duration": 340,
    "start_time": "2022-01-23T17:02:53.559Z"
   },
   {
    "duration": 7440,
    "start_time": "2022-01-23T17:03:12.295Z"
   },
   {
    "duration": 7557,
    "start_time": "2022-01-23T17:03:31.879Z"
   },
   {
    "duration": 318,
    "start_time": "2022-01-23T17:04:04.077Z"
   },
   {
    "duration": 318,
    "start_time": "2022-01-23T17:04:11.603Z"
   },
   {
    "duration": 317,
    "start_time": "2022-01-23T17:04:35.280Z"
   },
   {
    "duration": 338,
    "start_time": "2022-01-23T17:04:44.654Z"
   },
   {
    "duration": 346,
    "start_time": "2022-01-23T17:04:50.525Z"
   },
   {
    "duration": 414,
    "start_time": "2022-01-23T17:11:26.280Z"
   },
   {
    "duration": 438,
    "start_time": "2022-01-23T17:11:49.036Z"
   },
   {
    "duration": 408,
    "start_time": "2022-01-23T17:11:56.092Z"
   },
   {
    "duration": 462,
    "start_time": "2022-01-23T17:12:02.381Z"
   },
   {
    "duration": 220,
    "start_time": "2022-01-23T17:12:15.674Z"
   },
   {
    "duration": 192,
    "start_time": "2022-01-23T17:12:20.606Z"
   },
   {
    "duration": 201,
    "start_time": "2022-01-23T17:12:41.225Z"
   },
   {
    "duration": 183,
    "start_time": "2022-01-23T17:12:52.880Z"
   },
   {
    "duration": 162,
    "start_time": "2022-01-23T17:13:16.234Z"
   },
   {
    "duration": 276,
    "start_time": "2022-01-23T17:16:48.096Z"
   },
   {
    "duration": 177,
    "start_time": "2022-01-23T17:17:12.021Z"
   },
   {
    "duration": 176,
    "start_time": "2022-01-23T17:17:22.740Z"
   },
   {
    "duration": 212,
    "start_time": "2022-01-23T17:17:26.597Z"
   },
   {
    "duration": 267,
    "start_time": "2022-01-23T17:17:29.838Z"
   },
   {
    "duration": 187,
    "start_time": "2022-01-23T17:17:42.631Z"
   },
   {
    "duration": 218,
    "start_time": "2022-01-23T17:17:45.763Z"
   },
   {
    "duration": 228,
    "start_time": "2022-01-23T17:17:49.679Z"
   },
   {
    "duration": 211,
    "start_time": "2022-01-23T17:17:53.073Z"
   },
   {
    "duration": 223,
    "start_time": "2022-01-23T17:17:56.899Z"
   },
   {
    "duration": 213,
    "start_time": "2022-01-23T17:18:01.062Z"
   },
   {
    "duration": 207,
    "start_time": "2022-01-23T17:18:07.688Z"
   },
   {
    "duration": 210,
    "start_time": "2022-01-23T17:18:21.473Z"
   },
   {
    "duration": 516,
    "start_time": "2022-01-23T17:18:35.932Z"
   },
   {
    "duration": 333,
    "start_time": "2022-01-23T17:18:47.275Z"
   },
   {
    "duration": 210,
    "start_time": "2022-01-23T17:18:52.495Z"
   },
   {
    "duration": 308,
    "start_time": "2022-01-23T17:18:58.718Z"
   },
   {
    "duration": 218,
    "start_time": "2022-01-23T17:19:04.246Z"
   },
   {
    "duration": 200,
    "start_time": "2022-01-23T17:19:09.400Z"
   },
   {
    "duration": 226,
    "start_time": "2022-01-23T17:19:14.689Z"
   },
   {
    "duration": 4,
    "start_time": "2022-01-25T12:12:17.867Z"
   },
   {
    "duration": 339,
    "start_time": "2022-01-25T12:15:43.565Z"
   },
   {
    "duration": 839,
    "start_time": "2022-01-25T12:15:47.164Z"
   },
   {
    "duration": 135,
    "start_time": "2022-01-25T12:15:48.006Z"
   },
   {
    "duration": 22,
    "start_time": "2022-01-25T12:15:48.145Z"
   },
   {
    "duration": 29,
    "start_time": "2022-01-25T12:15:48.170Z"
   },
   {
    "duration": 13,
    "start_time": "2022-01-25T12:15:48.202Z"
   },
   {
    "duration": 10,
    "start_time": "2022-01-25T12:15:48.218Z"
   },
   {
    "duration": 36,
    "start_time": "2022-01-25T12:15:48.231Z"
   },
   {
    "duration": 6,
    "start_time": "2022-01-25T12:15:48.271Z"
   },
   {
    "duration": 20,
    "start_time": "2022-01-25T12:15:48.281Z"
   },
   {
    "duration": 27,
    "start_time": "2022-01-25T12:15:48.304Z"
   },
   {
    "duration": 26,
    "start_time": "2022-01-25T12:15:48.334Z"
   },
   {
    "duration": 28,
    "start_time": "2022-01-25T12:15:48.362Z"
   },
   {
    "duration": 12,
    "start_time": "2022-01-25T12:15:48.393Z"
   },
   {
    "duration": 18,
    "start_time": "2022-01-25T12:15:48.408Z"
   },
   {
    "duration": 25,
    "start_time": "2022-01-25T12:15:48.429Z"
   },
   {
    "duration": 16,
    "start_time": "2022-01-25T12:15:48.457Z"
   },
   {
    "duration": 22,
    "start_time": "2022-01-25T12:15:48.476Z"
   },
   {
    "duration": 18,
    "start_time": "2022-01-25T12:15:48.500Z"
   },
   {
    "duration": 12,
    "start_time": "2022-01-25T12:15:48.521Z"
   },
   {
    "duration": 20,
    "start_time": "2022-01-25T12:15:48.536Z"
   },
   {
    "duration": 125,
    "start_time": "2022-01-25T12:15:48.558Z"
   },
   {
    "duration": 6,
    "start_time": "2022-01-25T12:15:48.685Z"
   },
   {
    "duration": 11,
    "start_time": "2022-01-25T12:15:48.695Z"
   },
   {
    "duration": 15,
    "start_time": "2022-01-25T12:15:48.709Z"
   },
   {
    "duration": 38,
    "start_time": "2022-01-25T12:15:48.727Z"
   },
   {
    "duration": 25,
    "start_time": "2022-01-25T12:15:48.767Z"
   },
   {
    "duration": 19,
    "start_time": "2022-01-25T12:15:48.794Z"
   },
   {
    "duration": 68,
    "start_time": "2022-01-25T12:15:48.817Z"
   },
   {
    "duration": 8,
    "start_time": "2022-01-25T12:15:48.888Z"
   },
   {
    "duration": 15,
    "start_time": "2022-01-25T12:15:48.899Z"
   },
   {
    "duration": 32,
    "start_time": "2022-01-25T12:15:48.917Z"
   },
   {
    "duration": 173,
    "start_time": "2022-01-25T12:15:48.952Z"
   },
   {
    "duration": 37,
    "start_time": "2022-01-25T12:15:49.128Z"
   },
   {
    "duration": 7,
    "start_time": "2022-01-25T12:15:49.168Z"
   },
   {
    "duration": 23,
    "start_time": "2022-01-25T12:15:49.178Z"
   },
   {
    "duration": 1563,
    "start_time": "2022-01-25T12:15:49.204Z"
   },
   {
    "duration": 39,
    "start_time": "2022-01-25T12:15:50.770Z"
   },
   {
    "duration": 848,
    "start_time": "2022-01-25T12:15:50.812Z"
   },
   {
    "duration": 627,
    "start_time": "2022-01-25T12:15:51.665Z"
   },
   {
    "duration": 306,
    "start_time": "2022-01-25T12:15:52.294Z"
   },
   {
    "duration": 348,
    "start_time": "2022-01-25T12:15:52.602Z"
   },
   {
    "duration": 315,
    "start_time": "2022-01-25T12:15:52.953Z"
   },
   {
    "duration": 300,
    "start_time": "2022-01-25T12:16:15.800Z"
   },
   {
    "duration": 11,
    "start_time": "2022-01-25T12:16:21.098Z"
   },
   {
    "duration": 429,
    "start_time": "2022-01-25T12:18:42.825Z"
   },
   {
    "duration": 440,
    "start_time": "2022-01-25T12:18:49.988Z"
   },
   {
    "duration": 681,
    "start_time": "2022-01-25T12:22:05.578Z"
   },
   {
    "duration": 830,
    "start_time": "2022-01-25T12:22:11.741Z"
   },
   {
    "duration": 419,
    "start_time": "2022-01-25T12:23:49.084Z"
   },
   {
    "duration": 757,
    "start_time": "2022-01-25T12:24:01.674Z"
   },
   {
    "duration": 782,
    "start_time": "2022-01-25T12:24:24.863Z"
   },
   {
    "duration": 711,
    "start_time": "2022-01-25T12:25:07.727Z"
   },
   {
    "duration": 420,
    "start_time": "2022-01-25T12:25:21.666Z"
   },
   {
    "duration": 412,
    "start_time": "2022-01-25T12:25:32.482Z"
   },
   {
    "duration": 534,
    "start_time": "2022-01-25T12:27:53.419Z"
   },
   {
    "duration": 569,
    "start_time": "2022-01-25T12:28:14.717Z"
   },
   {
    "duration": 243,
    "start_time": "2022-01-25T12:30:43.965Z"
   },
   {
    "duration": 228,
    "start_time": "2022-01-25T12:38:19.970Z"
   },
   {
    "duration": 3,
    "start_time": "2022-01-25T12:39:26.618Z"
   },
   {
    "duration": 19,
    "start_time": "2022-01-25T12:42:02.509Z"
   },
   {
    "duration": 314,
    "start_time": "2022-01-25T12:44:57.726Z"
   },
   {
    "duration": 305,
    "start_time": "2022-01-25T12:48:35.836Z"
   },
   {
    "duration": 639,
    "start_time": "2022-01-25T12:51:02.368Z"
   },
   {
    "duration": 915,
    "start_time": "2022-01-25T12:51:19.038Z"
   },
   {
    "duration": 898,
    "start_time": "2022-01-25T12:51:31.271Z"
   },
   {
    "duration": 808,
    "start_time": "2022-01-25T12:51:42.805Z"
   },
   {
    "duration": 674,
    "start_time": "2022-01-25T12:51:50.851Z"
   },
   {
    "duration": 828,
    "start_time": "2022-01-25T12:52:14.437Z"
   },
   {
    "duration": 899,
    "start_time": "2022-01-25T12:52:24.233Z"
   },
   {
    "duration": 532,
    "start_time": "2022-01-25T12:53:46.902Z"
   },
   {
    "duration": 553,
    "start_time": "2022-01-25T12:54:32.591Z"
   },
   {
    "duration": 850,
    "start_time": "2022-01-25T12:54:49.371Z"
   },
   {
    "duration": 1101,
    "start_time": "2022-01-25T12:55:05.923Z"
   },
   {
    "duration": 101,
    "start_time": "2022-01-25T12:55:14.483Z"
   },
   {
    "duration": 522,
    "start_time": "2022-01-25T12:55:27.923Z"
   },
   {
    "duration": 295,
    "start_time": "2022-01-25T12:55:56.421Z"
   },
   {
    "duration": 231,
    "start_time": "2022-01-25T12:57:01.940Z"
   },
   {
    "duration": 1238,
    "start_time": "2022-01-25T12:58:35.946Z"
   },
   {
    "duration": 1335,
    "start_time": "2022-01-25T12:59:20.701Z"
   },
   {
    "duration": 1297,
    "start_time": "2022-01-25T12:59:50.370Z"
   },
   {
    "duration": 868,
    "start_time": "2022-01-25T13:00:08.168Z"
   },
   {
    "duration": 380,
    "start_time": "2022-01-25T13:01:34.873Z"
   },
   {
    "duration": 14,
    "start_time": "2022-01-25T13:01:45.075Z"
   },
   {
    "duration": 3,
    "start_time": "2022-01-25T13:06:23.798Z"
   },
   {
    "duration": 328,
    "start_time": "2022-01-25T16:37:55.675Z"
   },
   {
    "duration": 836,
    "start_time": "2022-01-25T16:38:00.331Z"
   },
   {
    "duration": 117,
    "start_time": "2022-01-25T16:38:01.169Z"
   },
   {
    "duration": 20,
    "start_time": "2022-01-25T16:38:01.288Z"
   },
   {
    "duration": 41,
    "start_time": "2022-01-25T16:38:01.311Z"
   },
   {
    "duration": 37,
    "start_time": "2022-01-25T16:38:01.354Z"
   },
   {
    "duration": 30,
    "start_time": "2022-01-25T16:38:01.392Z"
   },
   {
    "duration": 38,
    "start_time": "2022-01-25T16:38:01.424Z"
   },
   {
    "duration": 46,
    "start_time": "2022-01-25T16:38:01.465Z"
   },
   {
    "duration": 18,
    "start_time": "2022-01-25T16:38:01.514Z"
   },
   {
    "duration": 32,
    "start_time": "2022-01-25T16:38:01.534Z"
   },
   {
    "duration": 25,
    "start_time": "2022-01-25T16:38:01.568Z"
   },
   {
    "duration": 24,
    "start_time": "2022-01-25T16:38:01.595Z"
   },
   {
    "duration": 11,
    "start_time": "2022-01-25T16:38:01.621Z"
   },
   {
    "duration": 18,
    "start_time": "2022-01-25T16:38:01.634Z"
   },
   {
    "duration": 24,
    "start_time": "2022-01-25T16:38:01.654Z"
   },
   {
    "duration": 20,
    "start_time": "2022-01-25T16:38:01.680Z"
   },
   {
    "duration": 6,
    "start_time": "2022-01-25T16:38:01.702Z"
   },
   {
    "duration": 18,
    "start_time": "2022-01-25T16:38:01.710Z"
   },
   {
    "duration": 8,
    "start_time": "2022-01-25T16:38:01.731Z"
   },
   {
    "duration": 37,
    "start_time": "2022-01-25T16:38:01.741Z"
   },
   {
    "duration": 99,
    "start_time": "2022-01-25T16:38:01.780Z"
   },
   {
    "duration": 6,
    "start_time": "2022-01-25T16:38:01.882Z"
   },
   {
    "duration": 19,
    "start_time": "2022-01-25T16:38:01.893Z"
   },
   {
    "duration": 34,
    "start_time": "2022-01-25T16:38:01.915Z"
   },
   {
    "duration": 22,
    "start_time": "2022-01-25T16:38:01.951Z"
   },
   {
    "duration": 22,
    "start_time": "2022-01-25T16:38:01.975Z"
   },
   {
    "duration": 23,
    "start_time": "2022-01-25T16:38:01.999Z"
   },
   {
    "duration": 31,
    "start_time": "2022-01-25T16:38:02.024Z"
   },
   {
    "duration": 9,
    "start_time": "2022-01-25T16:38:02.057Z"
   },
   {
    "duration": 19,
    "start_time": "2022-01-25T16:38:02.068Z"
   },
   {
    "duration": 12,
    "start_time": "2022-01-25T16:38:02.108Z"
   },
   {
    "duration": 155,
    "start_time": "2022-01-25T16:38:02.122Z"
   },
   {
    "duration": 14,
    "start_time": "2022-01-25T16:38:02.279Z"
   },
   {
    "duration": 18,
    "start_time": "2022-01-25T16:38:02.296Z"
   },
   {
    "duration": 30,
    "start_time": "2022-01-25T16:38:02.316Z"
   },
   {
    "duration": 660,
    "start_time": "2022-01-25T16:38:02.348Z"
   },
   {
    "duration": 28,
    "start_time": "2022-01-25T16:38:03.010Z"
   },
   {
    "duration": 559,
    "start_time": "2022-01-25T16:38:03.040Z"
   },
   {
    "duration": 416,
    "start_time": "2022-01-25T16:38:03.601Z"
   },
   {
    "duration": 220,
    "start_time": "2022-01-25T16:38:04.019Z"
   },
   {
    "duration": 247,
    "start_time": "2022-01-25T16:38:04.241Z"
   },
   {
    "duration": 22,
    "start_time": "2022-01-25T16:38:04.490Z"
   },
   {
    "duration": 356,
    "start_time": "2022-01-25T16:38:04.514Z"
   },
   {
    "duration": 166,
    "start_time": "2022-01-25T16:38:04.872Z"
   },
   {
    "duration": 939,
    "start_time": "2022-01-25T16:38:05.041Z"
   },
   {
    "duration": 10,
    "start_time": "2022-01-25T16:38:05.982Z"
   },
   {
    "duration": 8,
    "start_time": "2022-01-25T16:38:06.008Z"
   },
   {
    "duration": 3,
    "start_time": "2022-01-25T16:39:47.545Z"
   },
   {
    "duration": 3,
    "start_time": "2022-01-25T16:42:01.389Z"
   },
   {
    "duration": 5,
    "start_time": "2022-01-25T16:44:06.446Z"
   },
   {
    "duration": 2,
    "start_time": "2022-01-25T16:46:30.955Z"
   },
   {
    "duration": 332,
    "start_time": "2022-01-25T16:49:41.760Z"
   },
   {
    "duration": 291,
    "start_time": "2022-01-25T16:50:31.813Z"
   },
   {
    "duration": 269,
    "start_time": "2022-01-25T16:50:53.758Z"
   },
   {
    "duration": 231,
    "start_time": "2022-01-25T16:51:50.488Z"
   },
   {
    "duration": 249,
    "start_time": "2022-01-25T16:52:08.486Z"
   },
   {
    "duration": 223,
    "start_time": "2022-01-25T16:52:19.863Z"
   },
   {
    "duration": 243,
    "start_time": "2022-01-25T16:52:36.944Z"
   },
   {
    "duration": 256,
    "start_time": "2022-01-25T16:54:01.243Z"
   },
   {
    "duration": 5963,
    "start_time": "2022-01-25T16:55:04.309Z"
   },
   {
    "duration": 263,
    "start_time": "2022-01-25T16:55:23.961Z"
   },
   {
    "duration": 261,
    "start_time": "2022-01-25T16:55:37.679Z"
   },
   {
    "duration": 240,
    "start_time": "2022-01-25T16:56:43.864Z"
   },
   {
    "duration": 317,
    "start_time": "2022-01-25T16:56:50.998Z"
   },
   {
    "duration": 238,
    "start_time": "2022-01-25T16:57:35.542Z"
   },
   {
    "duration": 268,
    "start_time": "2022-01-25T16:57:58.597Z"
   },
   {
    "duration": 523,
    "start_time": "2022-01-25T16:58:16.376Z"
   },
   {
    "duration": 124,
    "start_time": "2022-01-25T17:00:09.362Z"
   },
   {
    "duration": 404,
    "start_time": "2022-01-25T17:00:24.855Z"
   },
   {
    "duration": 6709,
    "start_time": "2022-01-25T17:01:03.228Z"
   },
   {
    "duration": 6893,
    "start_time": "2022-01-25T17:01:44.096Z"
   },
   {
    "duration": 7515,
    "start_time": "2022-01-25T17:02:49.983Z"
   },
   {
    "duration": 91,
    "start_time": "2022-01-25T17:03:12.656Z"
   },
   {
    "duration": 7947,
    "start_time": "2022-01-25T17:03:18.896Z"
   },
   {
    "duration": 633,
    "start_time": "2022-01-25T17:03:36.181Z"
   },
   {
    "duration": 785,
    "start_time": "2022-01-25T17:05:21.198Z"
   },
   {
    "duration": 113,
    "start_time": "2022-01-25T17:05:21.985Z"
   },
   {
    "duration": 10,
    "start_time": "2022-01-25T17:05:22.100Z"
   },
   {
    "duration": 22,
    "start_time": "2022-01-25T17:05:22.112Z"
   },
   {
    "duration": 15,
    "start_time": "2022-01-25T17:05:22.136Z"
   },
   {
    "duration": 7,
    "start_time": "2022-01-25T17:05:22.153Z"
   },
   {
    "duration": 15,
    "start_time": "2022-01-25T17:05:22.162Z"
   },
   {
    "duration": 5,
    "start_time": "2022-01-25T17:05:22.180Z"
   },
   {
    "duration": 21,
    "start_time": "2022-01-25T17:05:22.188Z"
   },
   {
    "duration": 10,
    "start_time": "2022-01-25T17:05:22.211Z"
   },
   {
    "duration": 10,
    "start_time": "2022-01-25T17:05:22.222Z"
   },
   {
    "duration": 14,
    "start_time": "2022-01-25T17:05:22.234Z"
   },
   {
    "duration": 8,
    "start_time": "2022-01-25T17:05:22.251Z"
   },
   {
    "duration": 8,
    "start_time": "2022-01-25T17:05:22.261Z"
   },
   {
    "duration": 21,
    "start_time": "2022-01-25T17:05:22.271Z"
   },
   {
    "duration": 18,
    "start_time": "2022-01-25T17:05:22.294Z"
   },
   {
    "duration": 11,
    "start_time": "2022-01-25T17:05:22.314Z"
   },
   {
    "duration": 19,
    "start_time": "2022-01-25T17:05:22.327Z"
   },
   {
    "duration": 25,
    "start_time": "2022-01-25T17:05:22.347Z"
   },
   {
    "duration": 10,
    "start_time": "2022-01-25T17:05:22.374Z"
   },
   {
    "duration": 171,
    "start_time": "2022-01-25T17:05:22.386Z"
   },
   {
    "duration": 5,
    "start_time": "2022-01-25T17:05:22.559Z"
   },
   {
    "duration": 16,
    "start_time": "2022-01-25T17:05:22.567Z"
   },
   {
    "duration": 23,
    "start_time": "2022-01-25T17:05:22.585Z"
   },
   {
    "duration": 10,
    "start_time": "2022-01-25T17:05:22.610Z"
   },
   {
    "duration": 63,
    "start_time": "2022-01-25T17:05:22.644Z"
   },
   {
    "duration": 20,
    "start_time": "2022-01-25T17:05:22.709Z"
   },
   {
    "duration": 85,
    "start_time": "2022-01-25T17:05:22.731Z"
   },
   {
    "duration": 5,
    "start_time": "2022-01-25T17:05:22.819Z"
   },
   {
    "duration": 12,
    "start_time": "2022-01-25T17:05:22.825Z"
   },
   {
    "duration": 11,
    "start_time": "2022-01-25T17:05:22.839Z"
   },
   {
    "duration": 138,
    "start_time": "2022-01-25T17:05:22.852Z"
   },
   {
    "duration": 19,
    "start_time": "2022-01-25T17:05:22.993Z"
   },
   {
    "duration": 5,
    "start_time": "2022-01-25T17:05:23.014Z"
   },
   {
    "duration": 31,
    "start_time": "2022-01-25T17:05:23.021Z"
   },
   {
    "duration": 668,
    "start_time": "2022-01-25T17:05:23.054Z"
   },
   {
    "duration": 28,
    "start_time": "2022-01-25T17:05:23.724Z"
   },
   {
    "duration": 579,
    "start_time": "2022-01-25T17:05:23.755Z"
   },
   {
    "duration": 502,
    "start_time": "2022-01-25T17:05:24.336Z"
   },
   {
    "duration": 224,
    "start_time": "2022-01-25T17:05:24.840Z"
   },
   {
    "duration": 251,
    "start_time": "2022-01-25T17:05:25.066Z"
   },
   {
    "duration": 10,
    "start_time": "2022-01-25T17:05:25.319Z"
   },
   {
    "duration": 365,
    "start_time": "2022-01-25T17:05:25.331Z"
   },
   {
    "duration": 172,
    "start_time": "2022-01-25T17:05:25.698Z"
   },
   {
    "duration": 680,
    "start_time": "2022-01-25T17:05:25.872Z"
   },
   {
    "duration": 8,
    "start_time": "2022-01-25T17:05:26.555Z"
   },
   {
    "duration": 5,
    "start_time": "2022-01-25T17:05:26.565Z"
   },
   {
    "duration": 13,
    "start_time": "2022-01-25T17:05:26.573Z"
   },
   {
    "duration": 678,
    "start_time": "2022-01-25T17:54:57.928Z"
   },
   {
    "duration": 113,
    "start_time": "2022-01-25T17:54:58.609Z"
   },
   {
    "duration": 10,
    "start_time": "2022-01-25T17:54:58.725Z"
   },
   {
    "duration": 16,
    "start_time": "2022-01-25T17:54:58.737Z"
   },
   {
    "duration": 9,
    "start_time": "2022-01-25T17:54:58.755Z"
   },
   {
    "duration": 5,
    "start_time": "2022-01-25T17:54:58.766Z"
   },
   {
    "duration": 34,
    "start_time": "2022-01-25T17:54:58.773Z"
   },
   {
    "duration": 8,
    "start_time": "2022-01-25T17:54:58.810Z"
   },
   {
    "duration": 22,
    "start_time": "2022-01-25T17:54:58.820Z"
   },
   {
    "duration": 13,
    "start_time": "2022-01-25T17:54:58.844Z"
   },
   {
    "duration": 6,
    "start_time": "2022-01-25T17:54:58.859Z"
   },
   {
    "duration": 8,
    "start_time": "2022-01-25T17:54:58.866Z"
   },
   {
    "duration": 12,
    "start_time": "2022-01-25T17:54:58.876Z"
   },
   {
    "duration": 18,
    "start_time": "2022-01-25T17:54:58.890Z"
   },
   {
    "duration": 5,
    "start_time": "2022-01-25T17:54:58.910Z"
   },
   {
    "duration": 15,
    "start_time": "2022-01-25T17:54:58.917Z"
   },
   {
    "duration": 7,
    "start_time": "2022-01-25T17:54:58.934Z"
   },
   {
    "duration": 20,
    "start_time": "2022-01-25T17:54:58.943Z"
   },
   {
    "duration": 7,
    "start_time": "2022-01-25T17:54:58.965Z"
   },
   {
    "duration": 17,
    "start_time": "2022-01-25T17:54:58.974Z"
   },
   {
    "duration": 104,
    "start_time": "2022-01-25T17:54:59.008Z"
   },
   {
    "duration": 5,
    "start_time": "2022-01-25T17:54:59.114Z"
   },
   {
    "duration": 6,
    "start_time": "2022-01-25T17:54:59.123Z"
   },
   {
    "duration": 7,
    "start_time": "2022-01-25T17:54:59.131Z"
   },
   {
    "duration": 8,
    "start_time": "2022-01-25T17:54:59.140Z"
   },
   {
    "duration": 24,
    "start_time": "2022-01-25T17:54:59.150Z"
   },
   {
    "duration": 20,
    "start_time": "2022-01-25T17:54:59.208Z"
   },
   {
    "duration": 27,
    "start_time": "2022-01-25T17:54:59.230Z"
   },
   {
    "duration": 5,
    "start_time": "2022-01-25T17:54:59.259Z"
   },
   {
    "duration": 11,
    "start_time": "2022-01-25T17:54:59.266Z"
   },
   {
    "duration": 34,
    "start_time": "2022-01-25T17:54:59.279Z"
   },
   {
    "duration": 106,
    "start_time": "2022-01-25T17:54:59.315Z"
   },
   {
    "duration": 11,
    "start_time": "2022-01-25T17:54:59.424Z"
   },
   {
    "duration": 6,
    "start_time": "2022-01-25T17:54:59.437Z"
   },
   {
    "duration": 17,
    "start_time": "2022-01-25T17:54:59.445Z"
   },
   {
    "duration": 663,
    "start_time": "2022-01-25T17:54:59.464Z"
   },
   {
    "duration": 27,
    "start_time": "2022-01-25T17:55:00.129Z"
   },
   {
    "duration": 565,
    "start_time": "2022-01-25T17:55:00.158Z"
   },
   {
    "duration": 415,
    "start_time": "2022-01-25T17:55:00.725Z"
   },
   {
    "duration": 228,
    "start_time": "2022-01-25T17:55:01.143Z"
   },
   {
    "duration": 257,
    "start_time": "2022-01-25T17:55:01.373Z"
   },
   {
    "duration": 10,
    "start_time": "2022-01-25T17:55:01.632Z"
   },
   {
    "duration": 386,
    "start_time": "2022-01-25T17:55:01.644Z"
   },
   {
    "duration": 204,
    "start_time": "2022-01-25T17:55:02.032Z"
   },
   {
    "duration": 622,
    "start_time": "2022-01-25T17:55:02.239Z"
   },
   {
    "duration": 9,
    "start_time": "2022-01-25T17:55:02.863Z"
   },
   {
    "duration": 11,
    "start_time": "2022-01-25T17:55:02.873Z"
   },
   {
    "duration": 22,
    "start_time": "2022-01-25T17:55:02.886Z"
   },
   {
    "duration": 704,
    "start_time": "2022-01-25T18:04:28.019Z"
   },
   {
    "duration": 110,
    "start_time": "2022-01-25T18:04:28.726Z"
   },
   {
    "duration": 11,
    "start_time": "2022-01-25T18:04:28.839Z"
   },
   {
    "duration": 12,
    "start_time": "2022-01-25T18:04:28.852Z"
   },
   {
    "duration": 11,
    "start_time": "2022-01-25T18:04:28.866Z"
   },
   {
    "duration": 34,
    "start_time": "2022-01-25T18:04:28.879Z"
   },
   {
    "duration": 14,
    "start_time": "2022-01-25T18:04:28.915Z"
   },
   {
    "duration": 5,
    "start_time": "2022-01-25T18:04:28.933Z"
   },
   {
    "duration": 6,
    "start_time": "2022-01-25T18:04:28.941Z"
   },
   {
    "duration": 8,
    "start_time": "2022-01-25T18:04:28.949Z"
   },
   {
    "duration": 7,
    "start_time": "2022-01-25T18:04:28.959Z"
   },
   {
    "duration": 5,
    "start_time": "2022-01-25T18:04:29.008Z"
   },
   {
    "duration": 9,
    "start_time": "2022-01-25T18:04:29.014Z"
   },
   {
    "duration": 7,
    "start_time": "2022-01-25T18:04:29.025Z"
   },
   {
    "duration": 14,
    "start_time": "2022-01-25T18:04:29.033Z"
   },
   {
    "duration": 10,
    "start_time": "2022-01-25T18:04:29.050Z"
   },
   {
    "duration": 7,
    "start_time": "2022-01-25T18:04:29.062Z"
   },
   {
    "duration": 38,
    "start_time": "2022-01-25T18:04:29.070Z"
   },
   {
    "duration": 6,
    "start_time": "2022-01-25T18:04:29.110Z"
   },
   {
    "duration": 7,
    "start_time": "2022-01-25T18:04:29.118Z"
   },
   {
    "duration": 109,
    "start_time": "2022-01-25T18:04:29.127Z"
   },
   {
    "duration": 5,
    "start_time": "2022-01-25T18:04:29.238Z"
   },
   {
    "duration": 7,
    "start_time": "2022-01-25T18:04:29.247Z"
   },
   {
    "duration": 8,
    "start_time": "2022-01-25T18:04:29.256Z"
   },
   {
    "duration": 10,
    "start_time": "2022-01-25T18:04:29.266Z"
   },
   {
    "duration": 47,
    "start_time": "2022-01-25T18:04:29.278Z"
   },
   {
    "duration": 19,
    "start_time": "2022-01-25T18:04:29.326Z"
   },
   {
    "duration": 26,
    "start_time": "2022-01-25T18:04:29.347Z"
   },
   {
    "duration": 6,
    "start_time": "2022-01-25T18:04:29.375Z"
   },
   {
    "duration": 7,
    "start_time": "2022-01-25T18:04:29.409Z"
   },
   {
    "duration": 12,
    "start_time": "2022-01-25T18:04:29.418Z"
   },
   {
    "duration": 100,
    "start_time": "2022-01-25T18:04:29.432Z"
   },
   {
    "duration": 10,
    "start_time": "2022-01-25T18:04:29.534Z"
   },
   {
    "duration": 14,
    "start_time": "2022-01-25T18:04:29.546Z"
   },
   {
    "duration": 23,
    "start_time": "2022-01-25T18:04:29.562Z"
   },
   {
    "duration": 672,
    "start_time": "2022-01-25T18:04:29.587Z"
   },
   {
    "duration": 26,
    "start_time": "2022-01-25T18:04:30.261Z"
   },
   {
    "duration": 557,
    "start_time": "2022-01-25T18:04:30.289Z"
   },
   {
    "duration": 436,
    "start_time": "2022-01-25T18:04:30.849Z"
   },
   {
    "duration": 222,
    "start_time": "2022-01-25T18:04:31.288Z"
   },
   {
    "duration": 268,
    "start_time": "2022-01-25T18:04:31.512Z"
   },
   {
    "duration": 9,
    "start_time": "2022-01-25T18:04:31.782Z"
   },
   {
    "duration": 422,
    "start_time": "2022-01-25T18:04:31.808Z"
   },
   {
    "duration": 178,
    "start_time": "2022-01-25T18:04:32.233Z"
   },
   {
    "duration": 621,
    "start_time": "2022-01-25T18:04:32.413Z"
   },
   {
    "duration": 9,
    "start_time": "2022-01-25T18:04:33.035Z"
   },
   {
    "duration": 11,
    "start_time": "2022-01-25T18:04:33.046Z"
   },
   {
    "duration": 8,
    "start_time": "2022-01-25T18:04:33.059Z"
   },
   {
    "duration": 414,
    "start_time": "2022-01-25T18:04:33.069Z"
   },
   {
    "duration": 1417,
    "start_time": "2022-01-25T18:36:46.194Z"
   },
   {
    "duration": 218,
    "start_time": "2022-01-25T18:36:47.614Z"
   },
   {
    "duration": 11,
    "start_time": "2022-01-25T18:36:47.835Z"
   },
   {
    "duration": 13,
    "start_time": "2022-01-25T18:36:47.909Z"
   },
   {
    "duration": 11,
    "start_time": "2022-01-25T18:36:47.924Z"
   },
   {
    "duration": 70,
    "start_time": "2022-01-25T18:36:47.937Z"
   },
   {
    "duration": 14,
    "start_time": "2022-01-25T18:36:48.009Z"
   },
   {
    "duration": 5,
    "start_time": "2022-01-25T18:36:48.026Z"
   },
   {
    "duration": 6,
    "start_time": "2022-01-25T18:36:48.034Z"
   },
   {
    "duration": 70,
    "start_time": "2022-01-25T18:36:48.042Z"
   },
   {
    "duration": 6,
    "start_time": "2022-01-25T18:36:48.114Z"
   },
   {
    "duration": 12,
    "start_time": "2022-01-25T18:36:48.122Z"
   },
   {
    "duration": 71,
    "start_time": "2022-01-25T18:36:48.137Z"
   },
   {
    "duration": 4,
    "start_time": "2022-01-25T18:36:48.210Z"
   },
   {
    "duration": 8,
    "start_time": "2022-01-25T18:36:48.216Z"
   },
   {
    "duration": 10,
    "start_time": "2022-01-25T18:36:48.226Z"
   },
   {
    "duration": 70,
    "start_time": "2022-01-25T18:36:48.238Z"
   },
   {
    "duration": 10,
    "start_time": "2022-01-25T18:36:48.310Z"
   },
   {
    "duration": 7,
    "start_time": "2022-01-25T18:36:48.322Z"
   },
   {
    "duration": 8,
    "start_time": "2022-01-25T18:36:48.331Z"
   },
   {
    "duration": 284,
    "start_time": "2022-01-25T18:36:48.341Z"
   },
   {
    "duration": 5,
    "start_time": "2022-01-25T18:36:48.628Z"
   },
   {
    "duration": 8,
    "start_time": "2022-01-25T18:36:48.638Z"
   },
   {
    "duration": 64,
    "start_time": "2022-01-25T18:36:48.649Z"
   },
   {
    "duration": 10,
    "start_time": "2022-01-25T18:36:48.715Z"
   },
   {
    "duration": 80,
    "start_time": "2022-01-25T18:36:48.727Z"
   },
   {
    "duration": 18,
    "start_time": "2022-01-25T18:36:48.809Z"
   },
   {
    "duration": 88,
    "start_time": "2022-01-25T18:36:48.829Z"
   },
   {
    "duration": 6,
    "start_time": "2022-01-25T18:36:48.919Z"
   },
   {
    "duration": 12,
    "start_time": "2022-01-25T18:36:48.927Z"
   },
   {
    "duration": 73,
    "start_time": "2022-01-25T18:36:48.941Z"
   },
   {
    "duration": 191,
    "start_time": "2022-01-25T18:36:49.016Z"
   },
   {
    "duration": 11,
    "start_time": "2022-01-25T18:36:49.209Z"
   },
   {
    "duration": 5,
    "start_time": "2022-01-25T18:36:49.222Z"
   },
   {
    "duration": 81,
    "start_time": "2022-01-25T18:36:49.229Z"
   },
   {
    "duration": 1223,
    "start_time": "2022-01-25T18:36:49.312Z"
   },
   {
    "duration": 84,
    "start_time": "2022-01-25T18:36:50.537Z"
   },
   {
    "duration": 1129,
    "start_time": "2022-01-25T18:36:50.624Z"
   },
   {
    "duration": 818,
    "start_time": "2022-01-25T18:36:51.808Z"
   },
   {
    "duration": 420,
    "start_time": "2022-01-25T18:36:52.629Z"
   },
   {
    "duration": 635,
    "start_time": "2022-01-25T18:36:53.107Z"
   },
   {
    "duration": 64,
    "start_time": "2022-01-25T18:36:53.744Z"
   },
   {
    "duration": 821,
    "start_time": "2022-01-25T18:36:53.810Z"
   },
   {
    "duration": 303,
    "start_time": "2022-01-25T18:36:54.634Z"
   },
   {
    "duration": 1193,
    "start_time": "2022-01-25T18:36:54.939Z"
   },
   {
    "duration": 10,
    "start_time": "2022-01-25T18:36:56.134Z"
   },
   {
    "duration": 67,
    "start_time": "2022-01-25T18:36:56.146Z"
   },
   {
    "duration": 20,
    "start_time": "2022-01-25T18:36:56.215Z"
   },
   {
    "duration": 14,
    "start_time": "2022-01-25T18:36:56.236Z"
   },
   {
    "duration": 4,
    "start_time": "2022-01-25T18:37:05.992Z"
   },
   {
    "duration": 560,
    "start_time": "2022-01-25T18:37:21.270Z"
   },
   {
    "duration": 9157,
    "start_time": "2022-01-25T18:37:57.997Z"
   },
   {
    "duration": 330,
    "start_time": "2022-01-25T18:38:24.415Z"
   },
   {
    "duration": 3,
    "start_time": "2022-01-25T18:42:43.583Z"
   },
   {
    "duration": 6,
    "start_time": "2022-01-25T18:44:12.212Z"
   },
   {
    "duration": 338,
    "start_time": "2022-01-25T18:49:15.016Z"
   },
   {
    "duration": 82,
    "start_time": "2022-01-25T18:50:37.425Z"
   },
   {
    "duration": 91,
    "start_time": "2022-01-25T18:50:53.395Z"
   },
   {
    "duration": 960,
    "start_time": "2022-01-25T18:51:00.192Z"
   },
   {
    "duration": 749,
    "start_time": "2022-01-25T18:51:11.820Z"
   },
   {
    "duration": 599,
    "start_time": "2022-01-25T18:51:18.018Z"
   },
   {
    "duration": 994,
    "start_time": "2022-01-25T18:51:33.316Z"
   },
   {
    "duration": 3,
    "start_time": "2022-01-25T18:54:16.831Z"
   },
   {
    "duration": 1123,
    "start_time": "2022-01-25T19:02:56.990Z"
   },
   {
    "duration": 216,
    "start_time": "2022-01-25T19:02:58.115Z"
   },
   {
    "duration": 10,
    "start_time": "2022-01-25T19:02:58.333Z"
   },
   {
    "duration": 67,
    "start_time": "2022-01-25T19:02:58.345Z"
   },
   {
    "duration": 18,
    "start_time": "2022-01-25T19:02:58.414Z"
   },
   {
    "duration": 5,
    "start_time": "2022-01-25T19:02:58.434Z"
   },
   {
    "duration": 68,
    "start_time": "2022-01-25T19:02:58.441Z"
   },
   {
    "duration": 5,
    "start_time": "2022-01-25T19:02:58.512Z"
   },
   {
    "duration": 17,
    "start_time": "2022-01-25T19:02:58.520Z"
   },
   {
    "duration": 13,
    "start_time": "2022-01-25T19:02:58.539Z"
   },
   {
    "duration": 6,
    "start_time": "2022-01-25T19:02:58.608Z"
   },
   {
    "duration": 5,
    "start_time": "2022-01-25T19:02:58.616Z"
   },
   {
    "duration": 10,
    "start_time": "2022-01-25T19:02:58.623Z"
   },
   {
    "duration": 5,
    "start_time": "2022-01-25T19:02:58.636Z"
   },
   {
    "duration": 7,
    "start_time": "2022-01-25T19:02:58.706Z"
   },
   {
    "duration": 18,
    "start_time": "2022-01-25T19:02:58.715Z"
   },
   {
    "duration": 6,
    "start_time": "2022-01-25T19:02:58.736Z"
   },
   {
    "duration": 71,
    "start_time": "2022-01-25T19:02:58.745Z"
   },
   {
    "duration": 6,
    "start_time": "2022-01-25T19:02:58.818Z"
   },
   {
    "duration": 6,
    "start_time": "2022-01-25T19:02:58.826Z"
   },
   {
    "duration": 214,
    "start_time": "2022-01-25T19:02:58.834Z"
   },
   {
    "duration": 61,
    "start_time": "2022-01-25T19:02:59.050Z"
   },
   {
    "duration": 5,
    "start_time": "2022-01-25T19:02:59.116Z"
   },
   {
    "duration": 10,
    "start_time": "2022-01-25T19:02:59.124Z"
   },
   {
    "duration": 72,
    "start_time": "2022-01-25T19:02:59.136Z"
   },
   {
    "duration": 21,
    "start_time": "2022-01-25T19:02:59.210Z"
   },
   {
    "duration": 85,
    "start_time": "2022-01-25T19:02:59.233Z"
   },
   {
    "duration": 90,
    "start_time": "2022-01-25T19:02:59.321Z"
   },
   {
    "duration": 5,
    "start_time": "2022-01-25T19:02:59.414Z"
   },
   {
    "duration": 12,
    "start_time": "2022-01-25T19:02:59.421Z"
   },
   {
    "duration": 9,
    "start_time": "2022-01-25T19:02:59.435Z"
   },
   {
    "duration": 132,
    "start_time": "2022-01-25T19:02:59.508Z"
   },
   {
    "duration": 65,
    "start_time": "2022-01-25T19:02:59.643Z"
   },
   {
    "duration": 6,
    "start_time": "2022-01-25T19:02:59.710Z"
   },
   {
    "duration": 21,
    "start_time": "2022-01-25T19:02:59.718Z"
   },
   {
    "duration": 1303,
    "start_time": "2022-01-25T19:02:59.741Z"
   },
   {
    "duration": 85,
    "start_time": "2022-01-25T19:03:01.046Z"
   },
   {
    "duration": 1121,
    "start_time": "2022-01-25T19:03:01.133Z"
   },
   {
    "duration": 824,
    "start_time": "2022-01-25T19:03:02.308Z"
   },
   {
    "duration": 412,
    "start_time": "2022-01-25T19:03:03.135Z"
   },
   {
    "duration": 502,
    "start_time": "2022-01-25T19:03:03.549Z"
   },
   {
    "duration": 62,
    "start_time": "2022-01-25T19:03:04.053Z"
   },
   {
    "duration": 720,
    "start_time": "2022-01-25T19:03:04.117Z"
   },
   {
    "duration": 368,
    "start_time": "2022-01-25T19:03:04.839Z"
   },
   {
    "duration": 1198,
    "start_time": "2022-01-25T19:03:05.209Z"
   },
   {
    "duration": 9,
    "start_time": "2022-01-25T19:03:06.409Z"
   },
   {
    "duration": 6,
    "start_time": "2022-01-25T19:03:06.419Z"
   },
   {
    "duration": 7,
    "start_time": "2022-01-25T19:03:06.427Z"
   },
   {
    "duration": 576,
    "start_time": "2022-01-25T19:03:06.436Z"
   },
   {
    "duration": 926,
    "start_time": "2022-01-25T19:03:07.013Z"
   },
   {
    "duration": 1105,
    "start_time": "2022-01-25T19:08:10.643Z"
   },
   {
    "duration": 271,
    "start_time": "2022-01-25T19:08:11.750Z"
   },
   {
    "duration": 10,
    "start_time": "2022-01-25T19:08:12.023Z"
   },
   {
    "duration": 82,
    "start_time": "2022-01-25T19:08:12.035Z"
   },
   {
    "duration": 10,
    "start_time": "2022-01-25T19:08:12.120Z"
   },
   {
    "duration": 6,
    "start_time": "2022-01-25T19:08:12.132Z"
   },
   {
    "duration": 76,
    "start_time": "2022-01-25T19:08:12.140Z"
   },
   {
    "duration": 6,
    "start_time": "2022-01-25T19:08:12.219Z"
   },
   {
    "duration": 13,
    "start_time": "2022-01-25T19:08:12.228Z"
   },
   {
    "duration": 69,
    "start_time": "2022-01-25T19:08:12.243Z"
   },
   {
    "duration": 6,
    "start_time": "2022-01-25T19:08:12.314Z"
   },
   {
    "duration": 9,
    "start_time": "2022-01-25T19:08:12.322Z"
   },
   {
    "duration": 9,
    "start_time": "2022-01-25T19:08:12.333Z"
   },
   {
    "duration": 64,
    "start_time": "2022-01-25T19:08:12.344Z"
   },
   {
    "duration": 6,
    "start_time": "2022-01-25T19:08:12.410Z"
   },
   {
    "duration": 12,
    "start_time": "2022-01-25T19:08:12.417Z"
   },
   {
    "duration": 5,
    "start_time": "2022-01-25T19:08:12.431Z"
   },
   {
    "duration": 76,
    "start_time": "2022-01-25T19:08:12.438Z"
   },
   {
    "duration": 5,
    "start_time": "2022-01-25T19:08:12.516Z"
   },
   {
    "duration": 7,
    "start_time": "2022-01-25T19:08:12.523Z"
   },
   {
    "duration": 207,
    "start_time": "2022-01-25T19:08:12.532Z"
   },
   {
    "duration": 5,
    "start_time": "2022-01-25T19:08:12.741Z"
   },
   {
    "duration": 6,
    "start_time": "2022-01-25T19:08:12.806Z"
   },
   {
    "duration": 10,
    "start_time": "2022-01-25T19:08:12.815Z"
   },
   {
    "duration": 12,
    "start_time": "2022-01-25T19:08:12.827Z"
   },
   {
    "duration": 81,
    "start_time": "2022-01-25T19:08:12.841Z"
   },
   {
    "duration": 18,
    "start_time": "2022-01-25T19:08:12.925Z"
   },
   {
    "duration": 88,
    "start_time": "2022-01-25T19:08:12.945Z"
   },
   {
    "duration": 5,
    "start_time": "2022-01-25T19:08:13.035Z"
   },
   {
    "duration": 67,
    "start_time": "2022-01-25T19:08:13.042Z"
   },
   {
    "duration": 8,
    "start_time": "2022-01-25T19:08:13.111Z"
   },
   {
    "duration": 191,
    "start_time": "2022-01-25T19:08:13.120Z"
   },
   {
    "duration": 12,
    "start_time": "2022-01-25T19:08:13.314Z"
   },
   {
    "duration": 6,
    "start_time": "2022-01-25T19:08:13.328Z"
   },
   {
    "duration": 81,
    "start_time": "2022-01-25T19:08:13.336Z"
   },
   {
    "duration": 1287,
    "start_time": "2022-01-25T19:08:13.420Z"
   },
   {
    "duration": 29,
    "start_time": "2022-01-25T19:08:14.709Z"
   },
   {
    "duration": 1167,
    "start_time": "2022-01-25T19:08:14.740Z"
   },
   {
    "duration": 804,
    "start_time": "2022-01-25T19:08:15.909Z"
   },
   {
    "duration": 423,
    "start_time": "2022-01-25T19:08:16.715Z"
   },
   {
    "duration": 504,
    "start_time": "2022-01-25T19:08:17.140Z"
   },
   {
    "duration": 63,
    "start_time": "2022-01-25T19:08:17.645Z"
   },
   {
    "duration": 721,
    "start_time": "2022-01-25T19:08:17.710Z"
   },
   {
    "duration": 310,
    "start_time": "2022-01-25T19:08:18.433Z"
   },
   {
    "duration": 1263,
    "start_time": "2022-01-25T19:08:18.745Z"
   },
   {
    "duration": 10,
    "start_time": "2022-01-25T19:08:20.010Z"
   },
   {
    "duration": 21,
    "start_time": "2022-01-25T19:08:20.022Z"
   },
   {
    "duration": 64,
    "start_time": "2022-01-25T19:08:20.045Z"
   },
   {
    "duration": 540,
    "start_time": "2022-01-25T19:08:20.111Z"
   },
   {
    "duration": 921,
    "start_time": "2022-01-25T19:08:20.707Z"
   },
   {
    "duration": 415,
    "start_time": "2022-01-25T19:08:21.630Z"
   },
   {
    "duration": 422,
    "start_time": "2022-01-25T19:10:13.791Z"
   },
   {
    "duration": 415,
    "start_time": "2022-01-25T19:11:44.006Z"
   },
   {
    "duration": 411,
    "start_time": "2022-01-25T19:20:25.308Z"
   },
   {
    "duration": 3,
    "start_time": "2022-01-25T19:24:39.686Z"
   },
   {
    "duration": 394,
    "start_time": "2022-01-25T19:29:56.397Z"
   },
   {
    "duration": 73,
    "start_time": "2022-01-25T19:30:15.035Z"
   },
   {
    "duration": 27,
    "start_time": "2022-01-25T19:30:31.698Z"
   },
   {
    "duration": 48,
    "start_time": "2022-01-25T19:30:58.967Z"
   },
   {
    "duration": 277,
    "start_time": "2022-01-25T19:31:16.972Z"
   },
   {
    "duration": 25,
    "start_time": "2022-01-25T19:31:30.350Z"
   },
   {
    "duration": 248,
    "start_time": "2022-01-25T19:37:47.970Z"
   },
   {
    "duration": 241,
    "start_time": "2022-01-25T19:38:18.969Z"
   },
   {
    "duration": 24,
    "start_time": "2022-01-25T19:38:38.289Z"
   },
   {
    "duration": 18,
    "start_time": "2022-01-25T19:38:52.491Z"
   },
   {
    "duration": 28,
    "start_time": "2022-01-25T19:38:57.483Z"
   },
   {
    "duration": 42,
    "start_time": "2022-01-25T19:39:16.973Z"
   },
   {
    "duration": 7247,
    "start_time": "2022-01-25T19:39:26.852Z"
   },
   {
    "duration": 401,
    "start_time": "2022-01-25T19:39:51.976Z"
   },
   {
    "duration": 15,
    "start_time": "2022-01-25T19:40:28.542Z"
   },
   {
    "duration": 6309,
    "start_time": "2022-01-25T19:41:10.185Z"
   },
   {
    "duration": 253,
    "start_time": "2022-01-25T19:41:36.224Z"
   },
   {
    "duration": 236,
    "start_time": "2022-01-25T19:41:49.628Z"
   },
   {
    "duration": 9,
    "start_time": "2022-01-25T19:42:01.481Z"
   },
   {
    "duration": 59,
    "start_time": "2022-01-25T19:50:39.948Z"
   },
   {
    "duration": 21,
    "start_time": "2022-01-25T19:50:43.540Z"
   },
   {
    "duration": 50,
    "start_time": "2022-01-25T19:51:05.164Z"
   },
   {
    "duration": 6142,
    "start_time": "2022-01-25T19:51:45.649Z"
   },
   {
    "duration": 6226,
    "start_time": "2022-01-25T19:51:54.232Z"
   },
   {
    "duration": 33,
    "start_time": "2022-01-25T19:52:04.991Z"
   },
   {
    "duration": 8322,
    "start_time": "2022-01-25T19:52:26.720Z"
   },
   {
    "duration": 12,
    "start_time": "2022-01-25T19:53:43.096Z"
   },
   {
    "duration": 67,
    "start_time": "2022-01-25T19:53:57.849Z"
   },
   {
    "duration": 6,
    "start_time": "2022-01-25T19:54:07.409Z"
   },
   {
    "duration": 6146,
    "start_time": "2022-01-25T19:54:34.495Z"
   },
   {
    "duration": 6364,
    "start_time": "2022-01-25T19:54:48.702Z"
   },
   {
    "duration": 5973,
    "start_time": "2022-01-25T19:54:58.624Z"
   },
   {
    "duration": 5967,
    "start_time": "2022-01-25T19:55:04.969Z"
   },
   {
    "duration": 3,
    "start_time": "2022-01-25T20:01:09.579Z"
   },
   {
    "duration": 318,
    "start_time": "2022-01-25T20:04:07.091Z"
   },
   {
    "duration": 241,
    "start_time": "2022-01-25T20:04:12.694Z"
   },
   {
    "duration": 256,
    "start_time": "2022-01-25T20:13:18.752Z"
   },
   {
    "duration": 266,
    "start_time": "2022-01-25T20:21:05.543Z"
   },
   {
    "duration": 154,
    "start_time": "2022-01-25T20:21:32.787Z"
   },
   {
    "duration": 1218,
    "start_time": "2022-01-25T20:22:03.075Z"
   },
   {
    "duration": 23,
    "start_time": "2022-01-25T20:23:53.031Z"
   },
   {
    "duration": 18,
    "start_time": "2022-01-25T20:23:58.048Z"
   },
   {
    "duration": 1287,
    "start_time": "2022-01-25T20:25:08.020Z"
   },
   {
    "duration": 285,
    "start_time": "2022-01-25T20:28:50.923Z"
   },
   {
    "duration": 440,
    "start_time": "2022-01-25T20:34:04.792Z"
   },
   {
    "duration": 635,
    "start_time": "2022-01-25T20:35:25.897Z"
   },
   {
    "duration": 64,
    "start_time": "2022-01-25T20:38:08.644Z"
   },
   {
    "duration": 476,
    "start_time": "2022-01-25T20:38:20.369Z"
   },
   {
    "duration": 514,
    "start_time": "2022-01-25T20:40:18.914Z"
   },
   {
    "duration": 615,
    "start_time": "2022-01-25T20:40:31.496Z"
   },
   {
    "duration": 274,
    "start_time": "2022-01-25T20:40:44.186Z"
   },
   {
    "duration": 495,
    "start_time": "2022-01-25T20:40:52.112Z"
   },
   {
    "duration": 672,
    "start_time": "2022-01-25T20:41:23.774Z"
   },
   {
    "duration": 438,
    "start_time": "2022-01-25T20:42:20.108Z"
   },
   {
    "duration": 266,
    "start_time": "2022-01-25T20:42:34.595Z"
   },
   {
    "duration": 409,
    "start_time": "2022-01-25T20:42:57.943Z"
   },
   {
    "duration": 463,
    "start_time": "2022-01-25T20:43:16.859Z"
   },
   {
    "duration": 533,
    "start_time": "2022-01-25T20:43:59.695Z"
   },
   {
    "duration": 407,
    "start_time": "2022-01-25T20:45:09.137Z"
   },
   {
    "duration": 411,
    "start_time": "2022-01-25T20:46:05.996Z"
   },
   {
    "duration": 281,
    "start_time": "2022-01-25T20:47:28.045Z"
   },
   {
    "duration": 289,
    "start_time": "2022-01-25T20:49:29.620Z"
   },
   {
    "duration": 366,
    "start_time": "2022-01-25T20:49:54.489Z"
   },
   {
    "duration": 398,
    "start_time": "2022-01-25T20:50:10.249Z"
   },
   {
    "duration": 442,
    "start_time": "2022-01-25T20:50:18.768Z"
   },
   {
    "duration": 268,
    "start_time": "2022-01-25T20:50:45.050Z"
   },
   {
    "duration": 267,
    "start_time": "2022-01-25T20:52:24.284Z"
   },
   {
    "duration": 903,
    "start_time": "2022-01-25T20:52:30.838Z"
   },
   {
    "duration": 252,
    "start_time": "2022-01-25T21:00:04.476Z"
   },
   {
    "duration": 108,
    "start_time": "2022-01-25T21:00:10.837Z"
   },
   {
    "duration": 83,
    "start_time": "2022-01-25T21:00:18.893Z"
   },
   {
    "duration": 8,
    "start_time": "2022-01-25T21:00:25.955Z"
   },
   {
    "duration": 5,
    "start_time": "2022-01-25T21:02:20.125Z"
   },
   {
    "duration": 721,
    "start_time": "2022-01-25T21:02:38.890Z"
   },
   {
    "duration": 8,
    "start_time": "2022-01-25T21:02:52.448Z"
   },
   {
    "duration": 10,
    "start_time": "2022-01-25T21:03:31.330Z"
   },
   {
    "duration": 85,
    "start_time": "2022-01-25T21:03:43.243Z"
   },
   {
    "duration": 454,
    "start_time": "2022-01-25T21:09:19.796Z"
   },
   {
    "duration": 424,
    "start_time": "2022-01-25T21:10:39.896Z"
   },
   {
    "duration": 450,
    "start_time": "2022-01-25T21:11:10.460Z"
   },
   {
    "duration": 298,
    "start_time": "2022-01-25T21:13:13.830Z"
   },
   {
    "duration": 317,
    "start_time": "2022-01-25T21:13:32.563Z"
   },
   {
    "duration": 750,
    "start_time": "2022-01-25T21:13:41.193Z"
   },
   {
    "duration": 626,
    "start_time": "2022-01-25T21:15:37.315Z"
   },
   {
    "duration": 28,
    "start_time": "2022-01-25T21:16:22.025Z"
   },
   {
    "duration": 294,
    "start_time": "2022-01-25T21:18:28.324Z"
   },
   {
    "duration": 492,
    "start_time": "2022-01-25T21:18:58.015Z"
   },
   {
    "duration": 389,
    "start_time": "2022-01-25T21:19:20.518Z"
   },
   {
    "duration": 361,
    "start_time": "2022-01-25T21:19:42.777Z"
   },
   {
    "duration": 470,
    "start_time": "2022-01-25T21:20:46.359Z"
   },
   {
    "duration": 6479,
    "start_time": "2022-01-25T21:20:54.339Z"
   },
   {
    "duration": 378,
    "start_time": "2022-01-25T21:21:03.474Z"
   },
   {
    "duration": 104,
    "start_time": "2022-01-25T21:22:38.481Z"
   },
   {
    "duration": 313,
    "start_time": "2022-01-25T21:22:46.461Z"
   },
   {
    "duration": 372,
    "start_time": "2022-01-25T21:23:46.064Z"
   },
   {
    "duration": 855,
    "start_time": "2022-01-26T05:17:08.736Z"
   },
   {
    "duration": 127,
    "start_time": "2022-01-26T05:17:09.594Z"
   },
   {
    "duration": 24,
    "start_time": "2022-01-26T05:17:09.724Z"
   },
   {
    "duration": 14,
    "start_time": "2022-01-26T05:17:09.752Z"
   },
   {
    "duration": 12,
    "start_time": "2022-01-26T05:17:09.769Z"
   },
   {
    "duration": 6,
    "start_time": "2022-01-26T05:17:09.784Z"
   },
   {
    "duration": 18,
    "start_time": "2022-01-26T05:17:09.793Z"
   },
   {
    "duration": 39,
    "start_time": "2022-01-26T05:17:09.815Z"
   },
   {
    "duration": 6,
    "start_time": "2022-01-26T05:17:09.857Z"
   },
   {
    "duration": 10,
    "start_time": "2022-01-26T05:17:09.865Z"
   },
   {
    "duration": 6,
    "start_time": "2022-01-26T05:17:09.877Z"
   },
   {
    "duration": 7,
    "start_time": "2022-01-26T05:17:09.885Z"
   },
   {
    "duration": 56,
    "start_time": "2022-01-26T05:17:09.894Z"
   },
   {
    "duration": 6,
    "start_time": "2022-01-26T05:17:09.953Z"
   },
   {
    "duration": 9,
    "start_time": "2022-01-26T05:17:09.962Z"
   },
   {
    "duration": 10,
    "start_time": "2022-01-26T05:17:09.974Z"
   },
   {
    "duration": 8,
    "start_time": "2022-01-26T05:17:09.987Z"
   },
   {
    "duration": 58,
    "start_time": "2022-01-26T05:17:09.998Z"
   },
   {
    "duration": 8,
    "start_time": "2022-01-26T05:17:10.059Z"
   },
   {
    "duration": 10,
    "start_time": "2022-01-26T05:17:10.070Z"
   },
   {
    "duration": 166,
    "start_time": "2022-01-26T05:17:10.083Z"
   },
   {
    "duration": 7,
    "start_time": "2022-01-26T05:17:10.253Z"
   },
   {
    "duration": 8,
    "start_time": "2022-01-26T05:17:10.268Z"
   },
   {
    "duration": 16,
    "start_time": "2022-01-26T05:17:10.280Z"
   },
   {
    "duration": 51,
    "start_time": "2022-01-26T05:17:10.299Z"
   },
   {
    "duration": 23,
    "start_time": "2022-01-26T05:17:10.353Z"
   },
   {
    "duration": 18,
    "start_time": "2022-01-26T05:17:10.379Z"
   },
   {
    "duration": 61,
    "start_time": "2022-01-26T05:17:10.400Z"
   },
   {
    "duration": 6,
    "start_time": "2022-01-26T05:17:10.463Z"
   },
   {
    "duration": 7,
    "start_time": "2022-01-26T05:17:10.472Z"
   },
   {
    "duration": 15,
    "start_time": "2022-01-26T05:17:10.482Z"
   },
   {
    "duration": 134,
    "start_time": "2022-01-26T05:17:10.500Z"
   },
   {
    "duration": 22,
    "start_time": "2022-01-26T05:17:10.636Z"
   },
   {
    "duration": 5,
    "start_time": "2022-01-26T05:17:10.661Z"
   },
   {
    "duration": 26,
    "start_time": "2022-01-26T05:17:10.668Z"
   },
   {
    "duration": 1055,
    "start_time": "2022-01-26T05:17:10.696Z"
   },
   {
    "duration": 38,
    "start_time": "2022-01-26T05:17:11.753Z"
   },
   {
    "duration": 787,
    "start_time": "2022-01-26T05:17:11.793Z"
   },
   {
    "duration": 604,
    "start_time": "2022-01-26T05:17:12.582Z"
   },
   {
    "duration": 305,
    "start_time": "2022-01-26T05:17:13.189Z"
   },
   {
    "duration": 359,
    "start_time": "2022-01-26T05:17:13.497Z"
   },
   {
    "duration": 10,
    "start_time": "2022-01-26T05:17:13.859Z"
   },
   {
    "duration": 537,
    "start_time": "2022-01-26T05:17:13.872Z"
   },
   {
    "duration": 229,
    "start_time": "2022-01-26T05:17:14.411Z"
   },
   {
    "duration": 942,
    "start_time": "2022-01-26T05:17:14.643Z"
   },
   {
    "duration": 12,
    "start_time": "2022-01-26T05:17:15.588Z"
   },
   {
    "duration": 7,
    "start_time": "2022-01-26T05:17:15.602Z"
   },
   {
    "duration": 38,
    "start_time": "2022-01-26T05:17:15.612Z"
   },
   {
    "duration": 335,
    "start_time": "2022-01-26T05:17:15.652Z"
   },
   {
    "duration": 676,
    "start_time": "2022-01-26T05:17:15.990Z"
   },
   {
    "duration": 283,
    "start_time": "2022-01-26T05:17:16.669Z"
   },
   {
    "duration": 307,
    "start_time": "2022-01-26T05:17:16.955Z"
   },
   {
    "duration": 300,
    "start_time": "2022-01-26T05:17:17.265Z"
   },
   {
    "duration": 33,
    "start_time": "2022-01-26T05:17:17.567Z"
   },
   {
    "duration": 503,
    "start_time": "2022-01-26T05:17:17.603Z"
   },
   {
    "duration": 276,
    "start_time": "2022-01-26T05:17:18.108Z"
   },
   {
    "duration": 289,
    "start_time": "2022-01-26T05:17:28.534Z"
   },
   {
    "duration": 281,
    "start_time": "2022-01-26T05:17:37.358Z"
   },
   {
    "duration": 373,
    "start_time": "2022-01-26T05:20:15.174Z"
   },
   {
    "duration": 289,
    "start_time": "2022-01-26T05:20:21.350Z"
   },
   {
    "duration": 378,
    "start_time": "2022-01-26T05:20:59.617Z"
   },
   {
    "duration": 279,
    "start_time": "2022-01-26T05:21:03.825Z"
   },
   {
    "duration": 554,
    "start_time": "2022-01-26T05:31:18.626Z"
   },
   {
    "duration": 479,
    "start_time": "2022-01-26T05:31:31.180Z"
   },
   {
    "duration": 293,
    "start_time": "2022-01-26T05:44:39.051Z"
   },
   {
    "duration": 98,
    "start_time": "2022-01-26T06:11:59.766Z"
   },
   {
    "duration": 90,
    "start_time": "2022-01-26T06:12:05.823Z"
   },
   {
    "duration": 92,
    "start_time": "2022-01-26T06:12:17.479Z"
   },
   {
    "duration": 517,
    "start_time": "2022-01-26T06:13:50.699Z"
   },
   {
    "duration": 607,
    "start_time": "2022-01-26T06:13:57.205Z"
   },
   {
    "duration": 1477,
    "start_time": "2022-01-26T06:15:15.339Z"
   },
   {
    "duration": 1298,
    "start_time": "2022-01-26T06:15:30.596Z"
   },
   {
    "duration": 612,
    "start_time": "2022-01-26T06:18:04.053Z"
   },
   {
    "duration": 1609,
    "start_time": "2022-01-26T06:19:02.272Z"
   },
   {
    "duration": 109,
    "start_time": "2022-01-26T06:19:37.363Z"
   },
   {
    "duration": 1290,
    "start_time": "2022-01-26T06:19:40.303Z"
   },
   {
    "duration": 95,
    "start_time": "2022-01-26T06:21:18.784Z"
   },
   {
    "duration": 592,
    "start_time": "2022-01-26T06:22:08.218Z"
   },
   {
    "duration": 629,
    "start_time": "2022-01-26T06:22:15.290Z"
   },
   {
    "duration": 765,
    "start_time": "2022-01-26T06:27:31.311Z"
   },
   {
    "duration": 633,
    "start_time": "2022-01-26T06:27:39.752Z"
   },
   {
    "duration": 292,
    "start_time": "2022-01-26T06:29:49.322Z"
   },
   {
    "duration": 470,
    "start_time": "2022-01-26T06:31:23.739Z"
   },
   {
    "duration": 455,
    "start_time": "2022-01-26T06:32:03.243Z"
   },
   {
    "duration": 321,
    "start_time": "2022-01-26T06:39:38.276Z"
   },
   {
    "duration": 289,
    "start_time": "2022-01-26T06:40:04.044Z"
   },
   {
    "duration": 581,
    "start_time": "2022-01-26T06:40:18.617Z"
   },
   {
    "duration": 591,
    "start_time": "2022-01-26T06:40:25.244Z"
   },
   {
    "duration": 705,
    "start_time": "2022-01-26T06:40:47.637Z"
   },
   {
    "duration": 592,
    "start_time": "2022-01-26T06:41:06.037Z"
   },
   {
    "duration": 566,
    "start_time": "2022-01-26T06:42:56.096Z"
   },
   {
    "duration": 296,
    "start_time": "2022-01-26T06:47:40.845Z"
   },
   {
    "duration": 597,
    "start_time": "2022-01-26T06:47:48.396Z"
   },
   {
    "duration": 4,
    "start_time": "2022-01-26T07:01:50.787Z"
   },
   {
    "duration": 176,
    "start_time": "2022-01-26T07:01:50.794Z"
   },
   {
    "duration": 12,
    "start_time": "2022-01-26T07:01:50.973Z"
   },
   {
    "duration": 25,
    "start_time": "2022-01-26T07:01:50.989Z"
   },
   {
    "duration": 44,
    "start_time": "2022-01-26T07:01:51.017Z"
   },
   {
    "duration": 22,
    "start_time": "2022-01-26T07:01:51.065Z"
   },
   {
    "duration": 24,
    "start_time": "2022-01-26T07:01:51.093Z"
   },
   {
    "duration": 29,
    "start_time": "2022-01-26T07:01:51.121Z"
   },
   {
    "duration": 8,
    "start_time": "2022-01-26T07:01:51.153Z"
   },
   {
    "duration": 29,
    "start_time": "2022-01-26T07:01:51.164Z"
   },
   {
    "duration": 9,
    "start_time": "2022-01-26T07:01:51.196Z"
   },
   {
    "duration": 19,
    "start_time": "2022-01-26T07:01:51.208Z"
   },
   {
    "duration": 18,
    "start_time": "2022-01-26T07:01:51.230Z"
   },
   {
    "duration": 5,
    "start_time": "2022-01-26T07:01:51.251Z"
   },
   {
    "duration": 12,
    "start_time": "2022-01-26T07:01:51.258Z"
   },
   {
    "duration": 11,
    "start_time": "2022-01-26T07:01:51.272Z"
   },
   {
    "duration": 8,
    "start_time": "2022-01-26T07:01:51.286Z"
   },
   {
    "duration": 17,
    "start_time": "2022-01-26T07:01:51.296Z"
   },
   {
    "duration": 36,
    "start_time": "2022-01-26T07:01:51.319Z"
   },
   {
    "duration": 8,
    "start_time": "2022-01-26T07:01:51.359Z"
   },
   {
    "duration": 152,
    "start_time": "2022-01-26T07:01:51.370Z"
   },
   {
    "duration": 6,
    "start_time": "2022-01-26T07:01:51.525Z"
   },
   {
    "duration": 19,
    "start_time": "2022-01-26T07:01:51.533Z"
   },
   {
    "duration": 12,
    "start_time": "2022-01-26T07:01:51.555Z"
   },
   {
    "duration": 11,
    "start_time": "2022-01-26T07:01:51.569Z"
   },
   {
    "duration": 25,
    "start_time": "2022-01-26T07:01:51.582Z"
   },
   {
    "duration": 22,
    "start_time": "2022-01-26T07:01:51.648Z"
   },
   {
    "duration": 32,
    "start_time": "2022-01-26T07:01:51.673Z"
   },
   {
    "duration": 6,
    "start_time": "2022-01-26T07:01:51.707Z"
   },
   {
    "duration": 38,
    "start_time": "2022-01-26T07:01:51.716Z"
   },
   {
    "duration": 12,
    "start_time": "2022-01-26T07:01:51.756Z"
   },
   {
    "duration": 125,
    "start_time": "2022-01-26T07:01:51.770Z"
   },
   {
    "duration": 14,
    "start_time": "2022-01-26T07:01:51.898Z"
   },
   {
    "duration": 5,
    "start_time": "2022-01-26T07:01:51.915Z"
   },
   {
    "duration": 45,
    "start_time": "2022-01-26T07:01:51.922Z"
   },
   {
    "duration": 978,
    "start_time": "2022-01-26T07:01:51.970Z"
   },
   {
    "duration": 37,
    "start_time": "2022-01-26T07:01:52.950Z"
   },
   {
    "duration": 788,
    "start_time": "2022-01-26T07:01:52.990Z"
   },
   {
    "duration": 613,
    "start_time": "2022-01-26T07:01:53.780Z"
   },
   {
    "duration": 293,
    "start_time": "2022-01-26T07:01:54.396Z"
   },
   {
    "duration": 373,
    "start_time": "2022-01-26T07:01:54.692Z"
   },
   {
    "duration": 11,
    "start_time": "2022-01-26T07:01:55.068Z"
   },
   {
    "duration": 557,
    "start_time": "2022-01-26T07:01:55.082Z"
   },
   {
    "duration": 228,
    "start_time": "2022-01-26T07:01:55.642Z"
   },
   {
    "duration": 849,
    "start_time": "2022-01-26T07:01:55.873Z"
   },
   {
    "duration": 25,
    "start_time": "2022-01-26T07:01:56.725Z"
   },
   {
    "duration": 7,
    "start_time": "2022-01-26T07:01:56.753Z"
   },
   {
    "duration": 25,
    "start_time": "2022-01-26T07:01:56.763Z"
   },
   {
    "duration": 277,
    "start_time": "2022-01-26T07:01:56.791Z"
   },
   {
    "duration": 716,
    "start_time": "2022-01-26T07:01:57.070Z"
   },
   {
    "duration": 285,
    "start_time": "2022-01-26T07:01:57.788Z"
   },
   {
    "duration": 305,
    "start_time": "2022-01-26T07:01:58.075Z"
   },
   {
    "duration": 301,
    "start_time": "2022-01-26T07:01:58.383Z"
   },
   {
    "duration": 33,
    "start_time": "2022-01-26T07:01:58.687Z"
   },
   {
    "duration": 500,
    "start_time": "2022-01-26T07:01:58.727Z"
   },
   {
    "duration": 288,
    "start_time": "2022-01-26T07:01:59.230Z"
   },
   {
    "duration": 485,
    "start_time": "2022-01-26T07:01:59.521Z"
   },
   {
    "duration": 1273,
    "start_time": "2022-01-26T07:02:00.009Z"
   },
   {
    "duration": 622,
    "start_time": "2022-01-26T07:02:01.284Z"
   },
   {
    "duration": 604,
    "start_time": "2022-01-26T07:02:01.908Z"
   },
   {
    "duration": 596,
    "start_time": "2022-01-26T07:02:02.515Z"
   },
   {
    "duration": 130,
    "start_time": "2022-02-03T13:12:15.736Z"
   },
   {
    "duration": 715,
    "start_time": "2022-02-03T17:05:54.202Z"
   },
   {
    "duration": 101,
    "start_time": "2022-02-03T17:05:54.919Z"
   },
   {
    "duration": 9,
    "start_time": "2022-02-03T17:05:55.023Z"
   },
   {
    "duration": 18,
    "start_time": "2022-02-03T17:05:55.034Z"
   },
   {
    "duration": 12,
    "start_time": "2022-02-03T17:05:55.053Z"
   },
   {
    "duration": 13,
    "start_time": "2022-02-03T17:05:55.067Z"
   },
   {
    "duration": 23,
    "start_time": "2022-02-03T17:05:55.082Z"
   },
   {
    "duration": 14,
    "start_time": "2022-02-03T17:05:55.107Z"
   },
   {
    "duration": 15,
    "start_time": "2022-02-03T17:05:55.124Z"
   },
   {
    "duration": 25,
    "start_time": "2022-02-03T17:05:55.141Z"
   },
   {
    "duration": 6,
    "start_time": "2022-02-03T17:05:55.168Z"
   },
   {
    "duration": 20,
    "start_time": "2022-02-03T17:05:55.176Z"
   },
   {
    "duration": 24,
    "start_time": "2022-02-03T17:05:55.198Z"
   },
   {
    "duration": 25,
    "start_time": "2022-02-03T17:05:55.223Z"
   },
   {
    "duration": 13,
    "start_time": "2022-02-03T17:05:55.250Z"
   },
   {
    "duration": 23,
    "start_time": "2022-02-03T17:05:55.265Z"
   },
   {
    "duration": 15,
    "start_time": "2022-02-03T17:05:55.290Z"
   },
   {
    "duration": 22,
    "start_time": "2022-02-03T17:05:55.307Z"
   },
   {
    "duration": 20,
    "start_time": "2022-02-03T17:05:55.331Z"
   },
   {
    "duration": 12,
    "start_time": "2022-02-03T17:05:55.353Z"
   },
   {
    "duration": 89,
    "start_time": "2022-02-03T17:05:55.367Z"
   },
   {
    "duration": 4,
    "start_time": "2022-02-03T17:05:55.457Z"
   },
   {
    "duration": 17,
    "start_time": "2022-02-03T17:05:55.463Z"
   },
   {
    "duration": 17,
    "start_time": "2022-02-03T17:05:55.481Z"
   },
   {
    "duration": 12,
    "start_time": "2022-02-03T17:05:55.500Z"
   },
   {
    "duration": 28,
    "start_time": "2022-02-03T17:05:55.514Z"
   },
   {
    "duration": 14,
    "start_time": "2022-02-03T17:05:55.546Z"
   },
   {
    "duration": 22,
    "start_time": "2022-02-03T17:05:55.562Z"
   },
   {
    "duration": 4,
    "start_time": "2022-02-03T17:05:55.586Z"
   },
   {
    "duration": 9,
    "start_time": "2022-02-03T17:05:55.592Z"
   },
   {
    "duration": 34,
    "start_time": "2022-02-03T17:05:55.602Z"
   },
   {
    "duration": 89,
    "start_time": "2022-02-03T17:05:55.638Z"
   },
   {
    "duration": 9,
    "start_time": "2022-02-03T17:05:55.729Z"
   },
   {
    "duration": 7,
    "start_time": "2022-02-03T17:05:55.740Z"
   },
   {
    "duration": 37,
    "start_time": "2022-02-03T17:05:55.748Z"
   },
   {
    "duration": 691,
    "start_time": "2022-02-03T17:05:55.786Z"
   },
   {
    "duration": 21,
    "start_time": "2022-02-03T17:05:56.479Z"
   },
   {
    "duration": 515,
    "start_time": "2022-02-03T17:05:56.501Z"
   },
   {
    "duration": 368,
    "start_time": "2022-02-03T17:05:57.017Z"
   },
   {
    "duration": 195,
    "start_time": "2022-02-03T17:05:57.387Z"
   },
   {
    "duration": 224,
    "start_time": "2022-02-03T17:05:57.584Z"
   },
   {
    "duration": 8,
    "start_time": "2022-02-03T17:05:57.818Z"
   },
   {
    "duration": 334,
    "start_time": "2022-02-03T17:05:57.828Z"
   },
   {
    "duration": 156,
    "start_time": "2022-02-03T17:05:58.164Z"
   },
   {
    "duration": 614,
    "start_time": "2022-02-03T17:05:58.322Z"
   },
   {
    "duration": 8,
    "start_time": "2022-02-03T17:05:58.938Z"
   },
   {
    "duration": 5,
    "start_time": "2022-02-03T17:05:58.948Z"
   },
   {
    "duration": 5,
    "start_time": "2022-02-03T17:05:58.954Z"
   },
   {
    "duration": 197,
    "start_time": "2022-02-03T17:05:58.961Z"
   },
   {
    "duration": 518,
    "start_time": "2022-02-03T17:05:59.160Z"
   },
   {
    "duration": 185,
    "start_time": "2022-02-03T17:05:59.681Z"
   },
   {
    "duration": 193,
    "start_time": "2022-02-03T17:05:59.868Z"
   },
   {
    "duration": 205,
    "start_time": "2022-02-03T17:06:00.063Z"
   },
   {
    "duration": 25,
    "start_time": "2022-02-03T17:06:00.270Z"
   },
   {
    "duration": 324,
    "start_time": "2022-02-03T17:06:00.297Z"
   },
   {
    "duration": 187,
    "start_time": "2022-02-03T17:06:00.623Z"
   },
   {
    "duration": 315,
    "start_time": "2022-02-03T17:06:00.812Z"
   },
   {
    "duration": 925,
    "start_time": "2022-02-03T17:06:01.129Z"
   },
   {
    "duration": 390,
    "start_time": "2022-02-03T17:06:02.056Z"
   },
   {
    "duration": 430,
    "start_time": "2022-02-03T17:06:02.448Z"
   },
   {
    "duration": 372,
    "start_time": "2022-02-03T17:06:02.880Z"
   },
   {
    "duration": 16,
    "start_time": "2022-02-03T17:19:17.255Z"
   },
   {
    "duration": 15,
    "start_time": "2022-02-03T17:19:18.966Z"
   },
   {
    "duration": 3,
    "start_time": "2022-02-03T17:19:21.696Z"
   },
   {
    "duration": 163,
    "start_time": "2022-02-03T17:19:21.701Z"
   },
   {
    "duration": 11,
    "start_time": "2022-02-03T17:19:21.867Z"
   },
   {
    "duration": 47,
    "start_time": "2022-02-03T17:19:21.880Z"
   },
   {
    "duration": 8,
    "start_time": "2022-02-03T17:19:21.929Z"
   },
   {
    "duration": 8,
    "start_time": "2022-02-03T17:19:21.939Z"
   },
   {
    "duration": 10,
    "start_time": "2022-02-03T17:19:21.950Z"
   },
   {
    "duration": 6,
    "start_time": "2022-02-03T17:19:21.963Z"
   },
   {
    "duration": 47,
    "start_time": "2022-02-03T17:19:21.971Z"
   },
   {
    "duration": 8,
    "start_time": "2022-02-03T17:19:22.021Z"
   },
   {
    "duration": 9,
    "start_time": "2022-02-03T17:19:22.031Z"
   },
   {
    "duration": 5,
    "start_time": "2022-02-03T17:19:22.042Z"
   },
   {
    "duration": 12,
    "start_time": "2022-02-03T17:19:22.049Z"
   },
   {
    "duration": 4,
    "start_time": "2022-02-03T17:19:22.063Z"
   },
   {
    "duration": 7,
    "start_time": "2022-02-03T17:19:22.069Z"
   },
   {
    "duration": 40,
    "start_time": "2022-02-03T17:19:22.078Z"
   },
   {
    "duration": 6,
    "start_time": "2022-02-03T17:19:22.120Z"
   },
   {
    "duration": 15,
    "start_time": "2022-02-03T17:19:22.127Z"
   },
   {
    "duration": 5,
    "start_time": "2022-02-03T17:19:22.146Z"
   },
   {
    "duration": 7,
    "start_time": "2022-02-03T17:19:22.154Z"
   },
   {
    "duration": 111,
    "start_time": "2022-02-03T17:19:22.163Z"
   },
   {
    "duration": 4,
    "start_time": "2022-02-03T17:19:22.276Z"
   },
   {
    "duration": 7,
    "start_time": "2022-02-03T17:19:22.282Z"
   },
   {
    "duration": 10,
    "start_time": "2022-02-03T17:19:22.291Z"
   },
   {
    "duration": 16,
    "start_time": "2022-02-03T17:19:22.303Z"
   },
   {
    "duration": 19,
    "start_time": "2022-02-03T17:19:22.321Z"
   },
   {
    "duration": 15,
    "start_time": "2022-02-03T17:19:22.341Z"
   },
   {
    "duration": 22,
    "start_time": "2022-02-03T17:19:22.358Z"
   },
   {
    "duration": 36,
    "start_time": "2022-02-03T17:19:22.382Z"
   },
   {
    "duration": 6,
    "start_time": "2022-02-03T17:19:22.420Z"
   },
   {
    "duration": 9,
    "start_time": "2022-02-03T17:19:22.428Z"
   },
   {
    "duration": 90,
    "start_time": "2022-02-03T17:19:22.439Z"
   },
   {
    "duration": 8,
    "start_time": "2022-02-03T17:19:22.531Z"
   },
   {
    "duration": 9,
    "start_time": "2022-02-03T17:19:22.541Z"
   },
   {
    "duration": 23,
    "start_time": "2022-02-03T17:19:22.552Z"
   },
   {
    "duration": 741,
    "start_time": "2022-02-03T17:19:22.577Z"
   },
   {
    "duration": 29,
    "start_time": "2022-02-03T17:19:23.320Z"
   },
   {
    "duration": 496,
    "start_time": "2022-02-03T17:19:23.351Z"
   },
   {
    "duration": 511,
    "start_time": "2022-02-03T17:19:23.849Z"
   },
   {
    "duration": 238,
    "start_time": "2022-02-03T17:19:24.362Z"
   },
   {
    "duration": 289,
    "start_time": "2022-02-03T17:19:24.603Z"
   },
   {
    "duration": 24,
    "start_time": "2022-02-03T17:19:24.895Z"
   },
   {
    "duration": 346,
    "start_time": "2022-02-03T17:19:24.922Z"
   },
   {
    "duration": 184,
    "start_time": "2022-02-03T17:19:25.271Z"
   },
   {
    "duration": 602,
    "start_time": "2022-02-03T17:19:25.457Z"
   },
   {
    "duration": 10,
    "start_time": "2022-02-03T17:19:26.061Z"
   },
   {
    "duration": 7,
    "start_time": "2022-02-03T17:19:26.074Z"
   },
   {
    "duration": 5,
    "start_time": "2022-02-03T17:19:26.083Z"
   },
   {
    "duration": 239,
    "start_time": "2022-02-03T17:19:26.090Z"
   },
   {
    "duration": 518,
    "start_time": "2022-02-03T17:19:26.331Z"
   },
   {
    "duration": 322,
    "start_time": "2022-02-03T17:19:26.852Z"
   },
   {
    "duration": 203,
    "start_time": "2022-02-03T17:19:27.176Z"
   },
   {
    "duration": 197,
    "start_time": "2022-02-03T17:19:27.381Z"
   },
   {
    "duration": 25,
    "start_time": "2022-02-03T17:19:27.580Z"
   },
   {
    "duration": 319,
    "start_time": "2022-02-03T17:19:27.617Z"
   },
   {
    "duration": 211,
    "start_time": "2022-02-03T17:19:27.938Z"
   },
   {
    "duration": 332,
    "start_time": "2022-02-03T17:19:28.151Z"
   },
   {
    "duration": 1087,
    "start_time": "2022-02-03T17:19:28.485Z"
   },
   {
    "duration": 425,
    "start_time": "2022-02-03T17:19:29.574Z"
   },
   {
    "duration": 472,
    "start_time": "2022-02-03T17:19:30.002Z"
   },
   {
    "duration": 416,
    "start_time": "2022-02-03T17:19:30.476Z"
   },
   {
    "duration": 604,
    "start_time": "2022-02-03T17:22:09.099Z"
   },
   {
    "duration": 334,
    "start_time": "2022-02-03T17:39:51.909Z"
   },
   {
    "duration": 280,
    "start_time": "2022-02-03T17:40:01.205Z"
   },
   {
    "duration": 6227,
    "start_time": "2022-02-03T17:40:14.869Z"
   },
   {
    "duration": 260,
    "start_time": "2022-02-03T17:40:40.590Z"
   },
   {
    "duration": 14,
    "start_time": "2022-02-03T17:41:13.958Z"
   },
   {
    "duration": 14,
    "start_time": "2022-02-03T17:43:42.572Z"
   },
   {
    "duration": 14,
    "start_time": "2022-02-03T17:44:18.506Z"
   },
   {
    "duration": 265,
    "start_time": "2022-02-03T17:44:39.395Z"
   },
   {
    "duration": 246,
    "start_time": "2022-02-03T17:44:44.249Z"
   },
   {
    "duration": 256,
    "start_time": "2022-02-03T17:45:15.067Z"
   },
   {
    "duration": 463,
    "start_time": "2022-02-03T17:45:57.044Z"
   },
   {
    "duration": 6204,
    "start_time": "2022-02-03T17:46:07.491Z"
   },
   {
    "duration": 3,
    "start_time": "2022-02-03T17:47:09.605Z"
   }
  ],
  "kernelspec": {
   "display_name": "Python 3 (ipykernel)",
   "language": "python",
   "name": "python3"
  },
  "language_info": {
   "codemirror_mode": {
    "name": "ipython",
    "version": 3
   },
   "file_extension": ".py",
   "mimetype": "text/x-python",
   "name": "python",
   "nbconvert_exporter": "python",
   "pygments_lexer": "ipython3",
   "version": "3.9.12"
  },
  "toc": {
   "base_numbering": 1,
   "nav_menu": {},
   "number_sections": true,
   "sideBar": true,
   "skip_h1_title": true,
   "title_cell": "Содержание",
   "title_sidebar": "Contents",
   "toc_cell": true,
   "toc_position": {
    "height": "calc(100% - 180px)",
    "left": "10px",
    "top": "150px",
    "width": "320.888px"
   },
   "toc_section_display": true,
   "toc_window_display": true
  }
 },
 "nbformat": 4,
 "nbformat_minor": 2
}
