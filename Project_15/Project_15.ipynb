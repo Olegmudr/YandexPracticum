{
  "cells": [
    {
      "cell_type": "markdown",
      "id": "118bd4da",
      "metadata": {
        "id": "118bd4da"
      },
      "source": [
        "# Телеком — задача проекта"
      ]
    },
    {
      "cell_type": "markdown",
      "id": "839a2749",
      "metadata": {
        "id": "839a2749"
      },
      "source": [
        "Оператор связи «Ниединогоразрыва.ком» хочет научиться прогнозировать отток клиентов. Если выяснится, что пользователь планирует уйти, ему будут предложены промокоды и специальные условия. Команда оператора собрала персональные данные о некоторых клиентах, информацию об их тарифах и договорах."
      ]
    },
    {
      "cell_type": "markdown",
      "id": "6b891848",
      "metadata": {
        "id": "6b891848"
      },
      "source": [
        "***Описание услуг***"
      ]
    },
    {
      "cell_type": "markdown",
      "id": "219c6027",
      "metadata": {
        "id": "219c6027"
      },
      "source": [
        "Оператор предоставляет два основных типа услуг\n",
        "1. Стационарную телефонную связь. Возможно подключение телефонного аппарата к нескольким линиям одновременно.\n",
        "2. Интернет. Подключение может быть двух типов: через телефонную линию (DSL, от англ. digital subscriber line, «цифровая абонентская линия») или оптоволоконный кабель (Fiber optic). \n",
        "\n",
        "Также доступны такие услуги:\n",
        "\n",
        "- Интернет-безопасность: антивирус (*DeviceProtection*) и блокировка небезопасных сайтов (*OnlineSecurity*);\n",
        "- Выделенная линия технической поддержки (*TechSupport*);\n",
        "- Облачное хранилище файлов для резервного копирования данных (*OnlineBackup*);\n",
        "- Стриминговое телевидение (*StreamingTV*) и каталог фильмов (*StreamingMovies*).\n",
        "\n",
        "За услуги клиенты могут платить каждый месяц или заключить договор на 1–2 года. Доступны различные способы расчёта и возможность получения электронного чека.\n",
        "\n",
        "***Описание данных***\n",
        "\n",
        "Данные состоят из файлов, полученных из разных источников:\n",
        "\n",
        "- `contract.csv` — информация о договоре;\n",
        "- `personal.csv` — персональные данные клиента;\n",
        "- `internet.csv` — информация об интернет-услугах;\n",
        "- `phone.csv` — информация об услугах телефонии.\n",
        "\n",
        "Во всех файлах столбец `customerID` содержит код клиента.\n",
        "\n",
        "Информация о договорах актуальна на 1 февраля 2020."
      ]
    },
    {
      "cell_type": "markdown",
      "id": "219a87aa",
      "metadata": {
        "id": "219a87aa"
      },
      "source": [
        "## Анализ данных"
      ]
    },
    {
      "cell_type": "markdown",
      "id": "f72a5ce8",
      "metadata": {
        "id": "f72a5ce8"
      },
      "source": [
        "### Загрузка данных"
      ]
    },
    {
      "cell_type": "code",
      "execution_count": null,
      "id": "b4a69a33",
      "metadata": {
        "id": "b4a69a33"
      },
      "outputs": [],
      "source": [
        "import pandas as pd #импортируем Pandas\n",
        "import numpy as np #импортируем Numpy\n",
        "import matplotlib.pyplot as plt #для создания графиков\n",
        "import seaborn #для матрицы корреляции\n",
        "from sklearn.model_selection import train_test_split # деление на выборки\n",
        "from sklearn.preprocessing import StandardScaler #для масштабирования\n",
        "from sklearn.utils import shuffle #для перемешивания данных\n",
        "from sklearn.linear_model import LogisticRegression #логистичеческая регрессия\n",
        "from sklearn.model_selection import GridSearchCV #для нахождения оптимальных параметров\n",
        "from sklearn.metrics import roc_auc_score #для метрики roc-auc\n",
        "from sklearn import metrics #метрики\n",
        "from sklearn.ensemble import RandomForestClassifier #случайный лес\n",
        "from catboost import CatBoostClassifier #импортируем catboost\n",
        "from sklearn.metrics import accuracy_score #точность \n",
        "from sklearn.metrics import f1_score #f1 метрика"
      ]
    },
    {
      "cell_type": "raw",
      "id": "3e6f0559",
      "metadata": {
        "id": "3e6f0559"
      },
      "source": [
        "contract = pd.read_csv('contract.csv', index_col = 'customerID') #загружаем contract\n",
        "personal = pd.read_csv('personal.csv', index_col = 'customerID') #загружаем персональные данные\n",
        "internet = pd.read_csv('internet.csv', index_col = 'customerID') #информация об интернет-услугах\n",
        "phone = pd.read_csv('phone.csv', index_col = 'customerID') #информация об телефонии"
      ]
    },
    {
      "cell_type": "code",
      "execution_count": null,
      "id": "9995e4dc",
      "metadata": {
        "id": "9995e4dc"
      },
      "outputs": [],
      "source": [
        "contract = pd.read_csv('/datasets/final_provider/contract.csv', index_col = 'customerID') #загружаем contract\n",
        "personal = pd.read_csv('/datasets/final_provider/personal.csv', index_col = 'customerID') #загружаем персональные данные\n",
        "internet = pd.read_csv('/datasets/final_provider/internet.csv', index_col = 'customerID') #информация об интернет-услугах\n",
        "phone = pd.read_csv('/datasets/final_provider/phone.csv', index_col = 'customerID') #информация об телефонии"
      ]
    },
    {
      "cell_type": "markdown",
      "id": "a8417940",
      "metadata": {
        "id": "a8417940"
      },
      "source": [
        "### Предобработка данных"
      ]
    },
    {
      "cell_type": "markdown",
      "id": "eb75a9d1",
      "metadata": {
        "id": "eb75a9d1"
      },
      "source": [
        "На данном этапе просмотрим информацию о наших датасетах, проверим на пропуски, аномалии, приведем данные к нужным"
      ]
    },
    {
      "cell_type": "markdown",
      "id": "0b154b0d",
      "metadata": {
        "id": "0b154b0d"
      },
      "source": [
        "#### Contract"
      ]
    },
    {
      "cell_type": "code",
      "execution_count": null,
      "id": "717937e0",
      "metadata": {
        "id": "717937e0",
        "outputId": "e1263815-e557-4a33-ae30-c0f1327548b2"
      },
      "outputs": [
        {
          "data": {
            "text/html": [
              "<div>\n",
              "<style scoped>\n",
              "    .dataframe tbody tr th:only-of-type {\n",
              "        vertical-align: middle;\n",
              "    }\n",
              "\n",
              "    .dataframe tbody tr th {\n",
              "        vertical-align: top;\n",
              "    }\n",
              "\n",
              "    .dataframe thead th {\n",
              "        text-align: right;\n",
              "    }\n",
              "</style>\n",
              "<table border=\"1\" class=\"dataframe\">\n",
              "  <thead>\n",
              "    <tr style=\"text-align: right;\">\n",
              "      <th></th>\n",
              "      <th>BeginDate</th>\n",
              "      <th>EndDate</th>\n",
              "      <th>Type</th>\n",
              "      <th>PaperlessBilling</th>\n",
              "      <th>PaymentMethod</th>\n",
              "      <th>MonthlyCharges</th>\n",
              "      <th>TotalCharges</th>\n",
              "    </tr>\n",
              "    <tr>\n",
              "      <th>customerID</th>\n",
              "      <th></th>\n",
              "      <th></th>\n",
              "      <th></th>\n",
              "      <th></th>\n",
              "      <th></th>\n",
              "      <th></th>\n",
              "      <th></th>\n",
              "    </tr>\n",
              "  </thead>\n",
              "  <tbody>\n",
              "    <tr>\n",
              "      <th>7590-VHVEG</th>\n",
              "      <td>2020-01-01</td>\n",
              "      <td>No</td>\n",
              "      <td>Month-to-month</td>\n",
              "      <td>Yes</td>\n",
              "      <td>Electronic check</td>\n",
              "      <td>29.85</td>\n",
              "      <td>29.85</td>\n",
              "    </tr>\n",
              "    <tr>\n",
              "      <th>5575-GNVDE</th>\n",
              "      <td>2017-04-01</td>\n",
              "      <td>No</td>\n",
              "      <td>One year</td>\n",
              "      <td>No</td>\n",
              "      <td>Mailed check</td>\n",
              "      <td>56.95</td>\n",
              "      <td>1889.5</td>\n",
              "    </tr>\n",
              "    <tr>\n",
              "      <th>3668-QPYBK</th>\n",
              "      <td>2019-10-01</td>\n",
              "      <td>2019-12-01 00:00:00</td>\n",
              "      <td>Month-to-month</td>\n",
              "      <td>Yes</td>\n",
              "      <td>Mailed check</td>\n",
              "      <td>53.85</td>\n",
              "      <td>108.15</td>\n",
              "    </tr>\n",
              "    <tr>\n",
              "      <th>7795-CFOCW</th>\n",
              "      <td>2016-05-01</td>\n",
              "      <td>No</td>\n",
              "      <td>One year</td>\n",
              "      <td>No</td>\n",
              "      <td>Bank transfer (automatic)</td>\n",
              "      <td>42.30</td>\n",
              "      <td>1840.75</td>\n",
              "    </tr>\n",
              "    <tr>\n",
              "      <th>9237-HQITU</th>\n",
              "      <td>2019-09-01</td>\n",
              "      <td>2019-11-01 00:00:00</td>\n",
              "      <td>Month-to-month</td>\n",
              "      <td>Yes</td>\n",
              "      <td>Electronic check</td>\n",
              "      <td>70.70</td>\n",
              "      <td>151.65</td>\n",
              "    </tr>\n",
              "  </tbody>\n",
              "</table>\n",
              "</div>"
            ],
            "text/plain": [
              "             BeginDate              EndDate            Type PaperlessBilling  \\\n",
              "customerID                                                                     \n",
              "7590-VHVEG  2020-01-01                   No  Month-to-month              Yes   \n",
              "5575-GNVDE  2017-04-01                   No        One year               No   \n",
              "3668-QPYBK  2019-10-01  2019-12-01 00:00:00  Month-to-month              Yes   \n",
              "7795-CFOCW  2016-05-01                   No        One year               No   \n",
              "9237-HQITU  2019-09-01  2019-11-01 00:00:00  Month-to-month              Yes   \n",
              "\n",
              "                        PaymentMethod  MonthlyCharges TotalCharges  \n",
              "customerID                                                          \n",
              "7590-VHVEG           Electronic check           29.85        29.85  \n",
              "5575-GNVDE               Mailed check           56.95       1889.5  \n",
              "3668-QPYBK               Mailed check           53.85       108.15  \n",
              "7795-CFOCW  Bank transfer (automatic)           42.30      1840.75  \n",
              "9237-HQITU           Electronic check           70.70       151.65  "
            ]
          },
          "execution_count": 3,
          "metadata": {},
          "output_type": "execute_result"
        }
      ],
      "source": [
        "contract.head(5) #выведем несколько строчек контрактов"
      ]
    },
    {
      "cell_type": "code",
      "execution_count": null,
      "id": "c9544c97",
      "metadata": {
        "id": "c9544c97",
        "outputId": "9139d919-9258-415e-d3ee-74e2fd6a4106"
      },
      "outputs": [
        {
          "name": "stdout",
          "output_type": "stream",
          "text": [
            "<class 'pandas.core.frame.DataFrame'>\n",
            "Index: 7043 entries, 7590-VHVEG to 3186-AJIEK\n",
            "Data columns (total 7 columns):\n",
            " #   Column            Non-Null Count  Dtype  \n",
            "---  ------            --------------  -----  \n",
            " 0   BeginDate         7043 non-null   object \n",
            " 1   EndDate           7043 non-null   object \n",
            " 2   Type              7043 non-null   object \n",
            " 3   PaperlessBilling  7043 non-null   object \n",
            " 4   PaymentMethod     7043 non-null   object \n",
            " 5   MonthlyCharges    7043 non-null   float64\n",
            " 6   TotalCharges      7043 non-null   object \n",
            "dtypes: float64(1), object(6)\n",
            "memory usage: 440.2+ KB\n"
          ]
        }
      ],
      "source": [
        "contract.info() #информация о датасете"
      ]
    },
    {
      "cell_type": "markdown",
      "id": "94d871bf",
      "metadata": {
        "id": "94d871bf"
      },
      "source": [
        "Как мы видим, существует несколько столбцов данных, посмотрим, что каждый из них значит, перейдем к дальнейшей обработке, изменим типы данных, приведем к стандартному виду, изменим тип переменных."
      ]
    },
    {
      "cell_type": "code",
      "execution_count": null,
      "id": "25e450ea",
      "metadata": {
        "id": "25e450ea"
      },
      "outputs": [],
      "source": [
        "contract.columns =  contract.columns.str.lower() #приведем названия к нижнему регистру"
      ]
    },
    {
      "cell_type": "code",
      "execution_count": null,
      "id": "8266d9de",
      "metadata": {
        "id": "8266d9de",
        "outputId": "6ba9aeed-732e-48e1-d194-2d85522a64c7"
      },
      "outputs": [
        {
          "data": {
            "text/plain": [
              "2014-02-01    366\n",
              "2019-10-01    237\n",
              "2019-09-01    237\n",
              "2019-11-01    237\n",
              "2020-01-01    233\n",
              "             ... \n",
              "2020-02-01     11\n",
              "2014-01-01      7\n",
              "2013-12-01      3\n",
              "2013-10-01      3\n",
              "2013-11-01      2\n",
              "Name: begindate, Length: 77, dtype: int64"
            ]
          },
          "execution_count": 6,
          "metadata": {},
          "output_type": "execute_result"
        }
      ],
      "source": [
        "contract[\"begindate\"].value_counts() #уникальные значения конец даты"
      ]
    },
    {
      "cell_type": "code",
      "execution_count": null,
      "id": "5859f9a8",
      "metadata": {
        "id": "5859f9a8"
      },
      "outputs": [],
      "source": [
        "contract[\"begindate\"] = pd.to_datetime(contract[\"begindate\"], format = '%Y-%m-%d') #меняем на datetime"
      ]
    },
    {
      "cell_type": "code",
      "execution_count": null,
      "id": "3ced23cc",
      "metadata": {
        "id": "3ced23cc",
        "outputId": "a1a0f667-8959-48e2-e60d-ba2079c72fa7"
      },
      "outputs": [
        {
          "data": {
            "text/plain": [
              "No                     5174\n",
              "2019-11-01 00:00:00     485\n",
              "2019-12-01 00:00:00     466\n",
              "2020-01-01 00:00:00     460\n",
              "2019-10-01 00:00:00     458\n",
              "Name: enddate, dtype: int64"
            ]
          },
          "execution_count": 8,
          "metadata": {},
          "output_type": "execute_result"
        }
      ],
      "source": [
        "contract[\"enddate\"].value_counts()"
      ]
    },
    {
      "cell_type": "markdown",
      "id": "28202deb",
      "metadata": {
        "id": "28202deb"
      },
      "source": [
        "Так как для обучения в дальнейшем нам понадобиться сколько примерно находится пользователь в компании, предлагаю заменить отсутвие значений датой выгрузки данных, а именно 2022-02-01."
      ]
    },
    {
      "cell_type": "code",
      "execution_count": null,
      "id": "61720852",
      "metadata": {
        "id": "61720852"
      },
      "outputs": [],
      "source": [
        "contract.loc[contract['enddate'] == 'No', 'enddate'] = '2020-02-01'\n",
        "contract['enddate'] = contract['enddate'].astype('datetime64')"
      ]
    },
    {
      "cell_type": "code",
      "execution_count": null,
      "id": "36e5dca5",
      "metadata": {
        "id": "36e5dca5",
        "outputId": "463a847c-25b1-4af1-9f69-8d9036ba20ee"
      },
      "outputs": [
        {
          "data": {
            "text/plain": [
              "2020-02-01    5174\n",
              "2019-11-01     485\n",
              "2019-12-01     466\n",
              "2020-01-01     460\n",
              "2019-10-01     458\n",
              "Name: enddate, dtype: int64"
            ]
          },
          "execution_count": 10,
          "metadata": {},
          "output_type": "execute_result"
        }
      ],
      "source": [
        "contract[\"enddate\"].value_counts()"
      ]
    },
    {
      "cell_type": "code",
      "execution_count": null,
      "id": "d83997b7",
      "metadata": {
        "id": "d83997b7",
        "outputId": "cb5f6041-7718-455a-a6b7-1b68f0983a57"
      },
      "outputs": [
        {
          "data": {
            "text/plain": [
              "20.2       11\n",
              "           11\n",
              "19.75       9\n",
              "19.9        8\n",
              "19.65       8\n",
              "           ..\n",
              "1218.55     1\n",
              "204.7       1\n",
              "4837.6      1\n",
              "2839.65     1\n",
              "1826.7      1\n",
              "Name: totalcharges, Length: 6531, dtype: int64"
            ]
          },
          "execution_count": 11,
          "metadata": {},
          "output_type": "execute_result"
        }
      ],
      "source": [
        "contract[\"totalcharges\"].value_counts()"
      ]
    },
    {
      "cell_type": "code",
      "execution_count": null,
      "id": "d1f27031",
      "metadata": {
        "id": "d1f27031",
        "outputId": "5ce408d3-db2e-4875-cf5d-5b0e93784e5d"
      },
      "outputs": [
        {
          "data": {
            "text/html": [
              "<div>\n",
              "<style scoped>\n",
              "    .dataframe tbody tr th:only-of-type {\n",
              "        vertical-align: middle;\n",
              "    }\n",
              "\n",
              "    .dataframe tbody tr th {\n",
              "        vertical-align: top;\n",
              "    }\n",
              "\n",
              "    .dataframe thead th {\n",
              "        text-align: right;\n",
              "    }\n",
              "</style>\n",
              "<table border=\"1\" class=\"dataframe\">\n",
              "  <thead>\n",
              "    <tr style=\"text-align: right;\">\n",
              "      <th></th>\n",
              "      <th>begindate</th>\n",
              "      <th>enddate</th>\n",
              "      <th>type</th>\n",
              "      <th>paperlessbilling</th>\n",
              "      <th>paymentmethod</th>\n",
              "      <th>monthlycharges</th>\n",
              "      <th>totalcharges</th>\n",
              "    </tr>\n",
              "    <tr>\n",
              "      <th>customerID</th>\n",
              "      <th></th>\n",
              "      <th></th>\n",
              "      <th></th>\n",
              "      <th></th>\n",
              "      <th></th>\n",
              "      <th></th>\n",
              "      <th></th>\n",
              "    </tr>\n",
              "  </thead>\n",
              "  <tbody>\n",
              "    <tr>\n",
              "      <th>4472-LVYGI</th>\n",
              "      <td>2020-02-01</td>\n",
              "      <td>2020-02-01</td>\n",
              "      <td>Two year</td>\n",
              "      <td>Yes</td>\n",
              "      <td>Bank transfer (automatic)</td>\n",
              "      <td>52.55</td>\n",
              "      <td></td>\n",
              "    </tr>\n",
              "    <tr>\n",
              "      <th>3115-CZMZD</th>\n",
              "      <td>2020-02-01</td>\n",
              "      <td>2020-02-01</td>\n",
              "      <td>Two year</td>\n",
              "      <td>No</td>\n",
              "      <td>Mailed check</td>\n",
              "      <td>20.25</td>\n",
              "      <td></td>\n",
              "    </tr>\n",
              "    <tr>\n",
              "      <th>5709-LVOEQ</th>\n",
              "      <td>2020-02-01</td>\n",
              "      <td>2020-02-01</td>\n",
              "      <td>Two year</td>\n",
              "      <td>No</td>\n",
              "      <td>Mailed check</td>\n",
              "      <td>80.85</td>\n",
              "      <td></td>\n",
              "    </tr>\n",
              "    <tr>\n",
              "      <th>4367-NUYAO</th>\n",
              "      <td>2020-02-01</td>\n",
              "      <td>2020-02-01</td>\n",
              "      <td>Two year</td>\n",
              "      <td>No</td>\n",
              "      <td>Mailed check</td>\n",
              "      <td>25.75</td>\n",
              "      <td></td>\n",
              "    </tr>\n",
              "    <tr>\n",
              "      <th>1371-DWPAZ</th>\n",
              "      <td>2020-02-01</td>\n",
              "      <td>2020-02-01</td>\n",
              "      <td>Two year</td>\n",
              "      <td>No</td>\n",
              "      <td>Credit card (automatic)</td>\n",
              "      <td>56.05</td>\n",
              "      <td></td>\n",
              "    </tr>\n",
              "    <tr>\n",
              "      <th>7644-OMVMY</th>\n",
              "      <td>2020-02-01</td>\n",
              "      <td>2020-02-01</td>\n",
              "      <td>Two year</td>\n",
              "      <td>No</td>\n",
              "      <td>Mailed check</td>\n",
              "      <td>19.85</td>\n",
              "      <td></td>\n",
              "    </tr>\n",
              "    <tr>\n",
              "      <th>3213-VVOLG</th>\n",
              "      <td>2020-02-01</td>\n",
              "      <td>2020-02-01</td>\n",
              "      <td>Two year</td>\n",
              "      <td>No</td>\n",
              "      <td>Mailed check</td>\n",
              "      <td>25.35</td>\n",
              "      <td></td>\n",
              "    </tr>\n",
              "    <tr>\n",
              "      <th>2520-SGTTA</th>\n",
              "      <td>2020-02-01</td>\n",
              "      <td>2020-02-01</td>\n",
              "      <td>Two year</td>\n",
              "      <td>No</td>\n",
              "      <td>Mailed check</td>\n",
              "      <td>20.00</td>\n",
              "      <td></td>\n",
              "    </tr>\n",
              "    <tr>\n",
              "      <th>2923-ARZLG</th>\n",
              "      <td>2020-02-01</td>\n",
              "      <td>2020-02-01</td>\n",
              "      <td>One year</td>\n",
              "      <td>Yes</td>\n",
              "      <td>Mailed check</td>\n",
              "      <td>19.70</td>\n",
              "      <td></td>\n",
              "    </tr>\n",
              "    <tr>\n",
              "      <th>4075-WKNIU</th>\n",
              "      <td>2020-02-01</td>\n",
              "      <td>2020-02-01</td>\n",
              "      <td>Two year</td>\n",
              "      <td>No</td>\n",
              "      <td>Mailed check</td>\n",
              "      <td>73.35</td>\n",
              "      <td></td>\n",
              "    </tr>\n",
              "    <tr>\n",
              "      <th>2775-SEFEE</th>\n",
              "      <td>2020-02-01</td>\n",
              "      <td>2020-02-01</td>\n",
              "      <td>Two year</td>\n",
              "      <td>Yes</td>\n",
              "      <td>Bank transfer (automatic)</td>\n",
              "      <td>61.90</td>\n",
              "      <td></td>\n",
              "    </tr>\n",
              "  </tbody>\n",
              "</table>\n",
              "</div>"
            ],
            "text/plain": [
              "            begindate    enddate      type paperlessbilling  \\\n",
              "customerID                                                    \n",
              "4472-LVYGI 2020-02-01 2020-02-01  Two year              Yes   \n",
              "3115-CZMZD 2020-02-01 2020-02-01  Two year               No   \n",
              "5709-LVOEQ 2020-02-01 2020-02-01  Two year               No   \n",
              "4367-NUYAO 2020-02-01 2020-02-01  Two year               No   \n",
              "1371-DWPAZ 2020-02-01 2020-02-01  Two year               No   \n",
              "7644-OMVMY 2020-02-01 2020-02-01  Two year               No   \n",
              "3213-VVOLG 2020-02-01 2020-02-01  Two year               No   \n",
              "2520-SGTTA 2020-02-01 2020-02-01  Two year               No   \n",
              "2923-ARZLG 2020-02-01 2020-02-01  One year              Yes   \n",
              "4075-WKNIU 2020-02-01 2020-02-01  Two year               No   \n",
              "2775-SEFEE 2020-02-01 2020-02-01  Two year              Yes   \n",
              "\n",
              "                        paymentmethod  monthlycharges totalcharges  \n",
              "customerID                                                          \n",
              "4472-LVYGI  Bank transfer (automatic)           52.55               \n",
              "3115-CZMZD               Mailed check           20.25               \n",
              "5709-LVOEQ               Mailed check           80.85               \n",
              "4367-NUYAO               Mailed check           25.75               \n",
              "1371-DWPAZ    Credit card (automatic)           56.05               \n",
              "7644-OMVMY               Mailed check           19.85               \n",
              "3213-VVOLG               Mailed check           25.35               \n",
              "2520-SGTTA               Mailed check           20.00               \n",
              "2923-ARZLG               Mailed check           19.70               \n",
              "4075-WKNIU               Mailed check           73.35               \n",
              "2775-SEFEE  Bank transfer (automatic)           61.90               "
            ]
          },
          "execution_count": 12,
          "metadata": {},
          "output_type": "execute_result"
        }
      ],
      "source": [
        "contract[contract[\"totalcharges\"] == \" \"] #посмотрим на пропуски,данные коиенты только начали обсуживаться у оператора"
      ]
    },
    {
      "cell_type": "code",
      "execution_count": null,
      "id": "5a954c37",
      "metadata": {
        "id": "5a954c37",
        "outputId": "4486b681-5e3b-4442-ff0a-bbe5deb9ad5b"
      },
      "outputs": [
        {
          "name": "stdout",
          "output_type": "stream",
          "text": [
            "Доля пропущенных значений  0.001561834445548772\n"
          ]
        }
      ],
      "source": [
        "print(\"Доля пропущенных значений \", len(contract[contract[\"totalcharges\"] == \" \"]) / len(contract[\"totalcharges\"]))"
      ]
    },
    {
      "cell_type": "markdown",
      "id": "1435d777",
      "metadata": {
        "id": "1435d777"
      },
      "source": [
        "Следовательно, сделаем срез данных, так как таких значений всего 1,5 %, исходя из логики, они не повлияют на общее решение."
      ]
    },
    {
      "cell_type": "code",
      "execution_count": null,
      "id": "4155cc19",
      "metadata": {
        "id": "4155cc19"
      },
      "outputs": [],
      "source": [
        "contract = contract.query('totalcharges != \" \"')"
      ]
    },
    {
      "cell_type": "markdown",
      "id": "71b4da49",
      "metadata": {
        "id": "71b4da49"
      },
      "source": [
        "Теперь приведем к типу float."
      ]
    },
    {
      "cell_type": "code",
      "execution_count": null,
      "id": "f05a683c",
      "metadata": {
        "id": "f05a683c"
      },
      "outputs": [],
      "source": [
        "contract[\"totalcharges\"]  =  contract[\"totalcharges\"].astype(float)"
      ]
    },
    {
      "cell_type": "code",
      "execution_count": null,
      "id": "65b8f9e1",
      "metadata": {
        "id": "65b8f9e1",
        "outputId": "2a0c8b9b-461a-4601-82dc-6efb9864b814"
      },
      "outputs": [
        {
          "data": {
            "text/plain": [
              "Yes    4168\n",
              "No     2864\n",
              "Name: paperlessbilling, dtype: int64"
            ]
          },
          "execution_count": 16,
          "metadata": {},
          "output_type": "execute_result"
        }
      ],
      "source": [
        "contract[\"paperlessbilling\"].value_counts()"
      ]
    },
    {
      "cell_type": "markdown",
      "id": "c9367158",
      "metadata": {
        "id": "c9367158"
      },
      "source": [
        "Поговорим о представленных данных\n",
        "\n",
        "1. begindate - Дата начала\n",
        "2. enddate - Дата окончания\n",
        "3. type - по месяцу оплата (Month-to-month), или сразу за год (one years)\n",
        "4. paperlessbilling - Бумажный счет\n",
        "5. paymentmethod - метод оплаты : электронный или наличными\n",
        "6. monthlycharges - ежемесячный платеж\n",
        "7. totalcharges - сумма всех платажей по настоящее время."
      ]
    },
    {
      "cell_type": "code",
      "execution_count": null,
      "id": "7a14bac7",
      "metadata": {
        "id": "7a14bac7",
        "outputId": "42802420-c65e-42db-9491-ab9c1a0f62e1"
      },
      "outputs": [
        {
          "name": "stderr",
          "output_type": "stream",
          "text": [
            "/opt/conda/lib/python3.9/site-packages/pandas/core/indexing.py:1637: SettingWithCopyWarning: \n",
            "A value is trying to be set on a copy of a slice from a DataFrame\n",
            "\n",
            "See the caveats in the documentation: https://pandas.pydata.org/pandas-docs/stable/user_guide/indexing.html#returning-a-view-versus-a-copy\n",
            "  self._setitem_single_block(indexer, value, name)\n"
          ]
        }
      ],
      "source": [
        "contract[\"paperlessbilling\"].loc[contract[\"paperlessbilling\"] == \"Yes\"] = 1 #переводим для упрощения работы с признаками\n",
        "contract[\"paperlessbilling\"].loc[contract[\"paperlessbilling\"] == \"No\"] = 0"
      ]
    },
    {
      "cell_type": "code",
      "execution_count": null,
      "id": "f8fc458a",
      "metadata": {
        "id": "f8fc458a",
        "outputId": "7a7e10cd-d135-4c18-a2ef-78ec59ed04f5"
      },
      "outputs": [
        {
          "data": {
            "text/html": [
              "<div>\n",
              "<style scoped>\n",
              "    .dataframe tbody tr th:only-of-type {\n",
              "        vertical-align: middle;\n",
              "    }\n",
              "\n",
              "    .dataframe tbody tr th {\n",
              "        vertical-align: top;\n",
              "    }\n",
              "\n",
              "    .dataframe thead th {\n",
              "        text-align: right;\n",
              "    }\n",
              "</style>\n",
              "<table border=\"1\" class=\"dataframe\">\n",
              "  <thead>\n",
              "    <tr style=\"text-align: right;\">\n",
              "      <th></th>\n",
              "      <th>begindate</th>\n",
              "      <th>enddate</th>\n",
              "      <th>type</th>\n",
              "      <th>paperlessbilling</th>\n",
              "      <th>paymentmethod</th>\n",
              "      <th>monthlycharges</th>\n",
              "      <th>totalcharges</th>\n",
              "    </tr>\n",
              "    <tr>\n",
              "      <th>customerID</th>\n",
              "      <th></th>\n",
              "      <th></th>\n",
              "      <th></th>\n",
              "      <th></th>\n",
              "      <th></th>\n",
              "      <th></th>\n",
              "      <th></th>\n",
              "    </tr>\n",
              "  </thead>\n",
              "  <tbody>\n",
              "    <tr>\n",
              "      <th>7590-VHVEG</th>\n",
              "      <td>2020-01-01</td>\n",
              "      <td>2020-02-01</td>\n",
              "      <td>Month-to-month</td>\n",
              "      <td>1</td>\n",
              "      <td>Electronic check</td>\n",
              "      <td>29.85</td>\n",
              "      <td>29.85</td>\n",
              "    </tr>\n",
              "    <tr>\n",
              "      <th>5575-GNVDE</th>\n",
              "      <td>2017-04-01</td>\n",
              "      <td>2020-02-01</td>\n",
              "      <td>One year</td>\n",
              "      <td>0</td>\n",
              "      <td>Mailed check</td>\n",
              "      <td>56.95</td>\n",
              "      <td>1889.50</td>\n",
              "    </tr>\n",
              "    <tr>\n",
              "      <th>3668-QPYBK</th>\n",
              "      <td>2019-10-01</td>\n",
              "      <td>2019-12-01</td>\n",
              "      <td>Month-to-month</td>\n",
              "      <td>1</td>\n",
              "      <td>Mailed check</td>\n",
              "      <td>53.85</td>\n",
              "      <td>108.15</td>\n",
              "    </tr>\n",
              "    <tr>\n",
              "      <th>7795-CFOCW</th>\n",
              "      <td>2016-05-01</td>\n",
              "      <td>2020-02-01</td>\n",
              "      <td>One year</td>\n",
              "      <td>0</td>\n",
              "      <td>Bank transfer (automatic)</td>\n",
              "      <td>42.30</td>\n",
              "      <td>1840.75</td>\n",
              "    </tr>\n",
              "    <tr>\n",
              "      <th>9237-HQITU</th>\n",
              "      <td>2019-09-01</td>\n",
              "      <td>2019-11-01</td>\n",
              "      <td>Month-to-month</td>\n",
              "      <td>1</td>\n",
              "      <td>Electronic check</td>\n",
              "      <td>70.70</td>\n",
              "      <td>151.65</td>\n",
              "    </tr>\n",
              "    <tr>\n",
              "      <th>...</th>\n",
              "      <td>...</td>\n",
              "      <td>...</td>\n",
              "      <td>...</td>\n",
              "      <td>...</td>\n",
              "      <td>...</td>\n",
              "      <td>...</td>\n",
              "      <td>...</td>\n",
              "    </tr>\n",
              "    <tr>\n",
              "      <th>6840-RESVB</th>\n",
              "      <td>2018-02-01</td>\n",
              "      <td>2020-02-01</td>\n",
              "      <td>One year</td>\n",
              "      <td>1</td>\n",
              "      <td>Mailed check</td>\n",
              "      <td>84.80</td>\n",
              "      <td>1990.50</td>\n",
              "    </tr>\n",
              "    <tr>\n",
              "      <th>2234-XADUH</th>\n",
              "      <td>2014-02-01</td>\n",
              "      <td>2020-02-01</td>\n",
              "      <td>One year</td>\n",
              "      <td>1</td>\n",
              "      <td>Credit card (automatic)</td>\n",
              "      <td>103.20</td>\n",
              "      <td>7362.90</td>\n",
              "    </tr>\n",
              "    <tr>\n",
              "      <th>4801-JZAZL</th>\n",
              "      <td>2019-03-01</td>\n",
              "      <td>2020-02-01</td>\n",
              "      <td>Month-to-month</td>\n",
              "      <td>1</td>\n",
              "      <td>Electronic check</td>\n",
              "      <td>29.60</td>\n",
              "      <td>346.45</td>\n",
              "    </tr>\n",
              "    <tr>\n",
              "      <th>8361-LTMKD</th>\n",
              "      <td>2019-07-01</td>\n",
              "      <td>2019-11-01</td>\n",
              "      <td>Month-to-month</td>\n",
              "      <td>1</td>\n",
              "      <td>Mailed check</td>\n",
              "      <td>74.40</td>\n",
              "      <td>306.60</td>\n",
              "    </tr>\n",
              "    <tr>\n",
              "      <th>3186-AJIEK</th>\n",
              "      <td>2014-08-01</td>\n",
              "      <td>2020-02-01</td>\n",
              "      <td>Two year</td>\n",
              "      <td>1</td>\n",
              "      <td>Bank transfer (automatic)</td>\n",
              "      <td>105.65</td>\n",
              "      <td>6844.50</td>\n",
              "    </tr>\n",
              "  </tbody>\n",
              "</table>\n",
              "<p>7032 rows × 7 columns</p>\n",
              "</div>"
            ],
            "text/plain": [
              "            begindate    enddate            type paperlessbilling  \\\n",
              "customerID                                                          \n",
              "7590-VHVEG 2020-01-01 2020-02-01  Month-to-month                1   \n",
              "5575-GNVDE 2017-04-01 2020-02-01        One year                0   \n",
              "3668-QPYBK 2019-10-01 2019-12-01  Month-to-month                1   \n",
              "7795-CFOCW 2016-05-01 2020-02-01        One year                0   \n",
              "9237-HQITU 2019-09-01 2019-11-01  Month-to-month                1   \n",
              "...               ...        ...             ...              ...   \n",
              "6840-RESVB 2018-02-01 2020-02-01        One year                1   \n",
              "2234-XADUH 2014-02-01 2020-02-01        One year                1   \n",
              "4801-JZAZL 2019-03-01 2020-02-01  Month-to-month                1   \n",
              "8361-LTMKD 2019-07-01 2019-11-01  Month-to-month                1   \n",
              "3186-AJIEK 2014-08-01 2020-02-01        Two year                1   \n",
              "\n",
              "                        paymentmethod  monthlycharges  totalcharges  \n",
              "customerID                                                           \n",
              "7590-VHVEG           Electronic check           29.85         29.85  \n",
              "5575-GNVDE               Mailed check           56.95       1889.50  \n",
              "3668-QPYBK               Mailed check           53.85        108.15  \n",
              "7795-CFOCW  Bank transfer (automatic)           42.30       1840.75  \n",
              "9237-HQITU           Electronic check           70.70        151.65  \n",
              "...                               ...             ...           ...  \n",
              "6840-RESVB               Mailed check           84.80       1990.50  \n",
              "2234-XADUH    Credit card (automatic)          103.20       7362.90  \n",
              "4801-JZAZL           Electronic check           29.60        346.45  \n",
              "8361-LTMKD               Mailed check           74.40        306.60  \n",
              "3186-AJIEK  Bank transfer (automatic)          105.65       6844.50  \n",
              "\n",
              "[7032 rows x 7 columns]"
            ]
          },
          "execution_count": 18,
          "metadata": {},
          "output_type": "execute_result"
        }
      ],
      "source": [
        "contract #проверка"
      ]
    },
    {
      "cell_type": "markdown",
      "id": "b2d2a799",
      "metadata": {
        "id": "b2d2a799"
      },
      "source": [
        "Прежде чем перейти к следующему датасету, думаю, что целесообразнее записать количество дней сколько клиент уже в компании в отдельный столбец \"days\""
      ]
    },
    {
      "cell_type": "code",
      "execution_count": null,
      "id": "5294de74",
      "metadata": {
        "id": "5294de74",
        "outputId": "5817959d-9984-4af4-afb8-2b3560bb9060"
      },
      "outputs": [
        {
          "data": {
            "text/html": [
              "<div>\n",
              "<style scoped>\n",
              "    .dataframe tbody tr th:only-of-type {\n",
              "        vertical-align: middle;\n",
              "    }\n",
              "\n",
              "    .dataframe tbody tr th {\n",
              "        vertical-align: top;\n",
              "    }\n",
              "\n",
              "    .dataframe thead th {\n",
              "        text-align: right;\n",
              "    }\n",
              "</style>\n",
              "<table border=\"1\" class=\"dataframe\">\n",
              "  <thead>\n",
              "    <tr style=\"text-align: right;\">\n",
              "      <th></th>\n",
              "      <th>begindate</th>\n",
              "      <th>enddate</th>\n",
              "      <th>type</th>\n",
              "      <th>paperlessbilling</th>\n",
              "      <th>paymentmethod</th>\n",
              "      <th>monthlycharges</th>\n",
              "      <th>totalcharges</th>\n",
              "      <th>days</th>\n",
              "    </tr>\n",
              "    <tr>\n",
              "      <th>customerID</th>\n",
              "      <th></th>\n",
              "      <th></th>\n",
              "      <th></th>\n",
              "      <th></th>\n",
              "      <th></th>\n",
              "      <th></th>\n",
              "      <th></th>\n",
              "      <th></th>\n",
              "    </tr>\n",
              "  </thead>\n",
              "  <tbody>\n",
              "    <tr>\n",
              "      <th>7590-VHVEG</th>\n",
              "      <td>2020-01-01</td>\n",
              "      <td>2020-02-01</td>\n",
              "      <td>Month-to-month</td>\n",
              "      <td>1</td>\n",
              "      <td>Electronic check</td>\n",
              "      <td>29.85</td>\n",
              "      <td>29.85</td>\n",
              "      <td>31</td>\n",
              "    </tr>\n",
              "    <tr>\n",
              "      <th>5575-GNVDE</th>\n",
              "      <td>2017-04-01</td>\n",
              "      <td>2020-02-01</td>\n",
              "      <td>One year</td>\n",
              "      <td>0</td>\n",
              "      <td>Mailed check</td>\n",
              "      <td>56.95</td>\n",
              "      <td>1889.50</td>\n",
              "      <td>1036</td>\n",
              "    </tr>\n",
              "    <tr>\n",
              "      <th>3668-QPYBK</th>\n",
              "      <td>2019-10-01</td>\n",
              "      <td>2019-12-01</td>\n",
              "      <td>Month-to-month</td>\n",
              "      <td>1</td>\n",
              "      <td>Mailed check</td>\n",
              "      <td>53.85</td>\n",
              "      <td>108.15</td>\n",
              "      <td>61</td>\n",
              "    </tr>\n",
              "    <tr>\n",
              "      <th>7795-CFOCW</th>\n",
              "      <td>2016-05-01</td>\n",
              "      <td>2020-02-01</td>\n",
              "      <td>One year</td>\n",
              "      <td>0</td>\n",
              "      <td>Bank transfer (automatic)</td>\n",
              "      <td>42.30</td>\n",
              "      <td>1840.75</td>\n",
              "      <td>1371</td>\n",
              "    </tr>\n",
              "    <tr>\n",
              "      <th>9237-HQITU</th>\n",
              "      <td>2019-09-01</td>\n",
              "      <td>2019-11-01</td>\n",
              "      <td>Month-to-month</td>\n",
              "      <td>1</td>\n",
              "      <td>Electronic check</td>\n",
              "      <td>70.70</td>\n",
              "      <td>151.65</td>\n",
              "      <td>61</td>\n",
              "    </tr>\n",
              "    <tr>\n",
              "      <th>...</th>\n",
              "      <td>...</td>\n",
              "      <td>...</td>\n",
              "      <td>...</td>\n",
              "      <td>...</td>\n",
              "      <td>...</td>\n",
              "      <td>...</td>\n",
              "      <td>...</td>\n",
              "      <td>...</td>\n",
              "    </tr>\n",
              "    <tr>\n",
              "      <th>6840-RESVB</th>\n",
              "      <td>2018-02-01</td>\n",
              "      <td>2020-02-01</td>\n",
              "      <td>One year</td>\n",
              "      <td>1</td>\n",
              "      <td>Mailed check</td>\n",
              "      <td>84.80</td>\n",
              "      <td>1990.50</td>\n",
              "      <td>730</td>\n",
              "    </tr>\n",
              "    <tr>\n",
              "      <th>2234-XADUH</th>\n",
              "      <td>2014-02-01</td>\n",
              "      <td>2020-02-01</td>\n",
              "      <td>One year</td>\n",
              "      <td>1</td>\n",
              "      <td>Credit card (automatic)</td>\n",
              "      <td>103.20</td>\n",
              "      <td>7362.90</td>\n",
              "      <td>2191</td>\n",
              "    </tr>\n",
              "    <tr>\n",
              "      <th>4801-JZAZL</th>\n",
              "      <td>2019-03-01</td>\n",
              "      <td>2020-02-01</td>\n",
              "      <td>Month-to-month</td>\n",
              "      <td>1</td>\n",
              "      <td>Electronic check</td>\n",
              "      <td>29.60</td>\n",
              "      <td>346.45</td>\n",
              "      <td>337</td>\n",
              "    </tr>\n",
              "    <tr>\n",
              "      <th>8361-LTMKD</th>\n",
              "      <td>2019-07-01</td>\n",
              "      <td>2019-11-01</td>\n",
              "      <td>Month-to-month</td>\n",
              "      <td>1</td>\n",
              "      <td>Mailed check</td>\n",
              "      <td>74.40</td>\n",
              "      <td>306.60</td>\n",
              "      <td>123</td>\n",
              "    </tr>\n",
              "    <tr>\n",
              "      <th>3186-AJIEK</th>\n",
              "      <td>2014-08-01</td>\n",
              "      <td>2020-02-01</td>\n",
              "      <td>Two year</td>\n",
              "      <td>1</td>\n",
              "      <td>Bank transfer (automatic)</td>\n",
              "      <td>105.65</td>\n",
              "      <td>6844.50</td>\n",
              "      <td>2010</td>\n",
              "    </tr>\n",
              "  </tbody>\n",
              "</table>\n",
              "<p>7032 rows × 8 columns</p>\n",
              "</div>"
            ],
            "text/plain": [
              "            begindate    enddate            type paperlessbilling  \\\n",
              "customerID                                                          \n",
              "7590-VHVEG 2020-01-01 2020-02-01  Month-to-month                1   \n",
              "5575-GNVDE 2017-04-01 2020-02-01        One year                0   \n",
              "3668-QPYBK 2019-10-01 2019-12-01  Month-to-month                1   \n",
              "7795-CFOCW 2016-05-01 2020-02-01        One year                0   \n",
              "9237-HQITU 2019-09-01 2019-11-01  Month-to-month                1   \n",
              "...               ...        ...             ...              ...   \n",
              "6840-RESVB 2018-02-01 2020-02-01        One year                1   \n",
              "2234-XADUH 2014-02-01 2020-02-01        One year                1   \n",
              "4801-JZAZL 2019-03-01 2020-02-01  Month-to-month                1   \n",
              "8361-LTMKD 2019-07-01 2019-11-01  Month-to-month                1   \n",
              "3186-AJIEK 2014-08-01 2020-02-01        Two year                1   \n",
              "\n",
              "                        paymentmethod  monthlycharges  totalcharges  days  \n",
              "customerID                                                                 \n",
              "7590-VHVEG           Electronic check           29.85         29.85    31  \n",
              "5575-GNVDE               Mailed check           56.95       1889.50  1036  \n",
              "3668-QPYBK               Mailed check           53.85        108.15    61  \n",
              "7795-CFOCW  Bank transfer (automatic)           42.30       1840.75  1371  \n",
              "9237-HQITU           Electronic check           70.70        151.65    61  \n",
              "...                               ...             ...           ...   ...  \n",
              "6840-RESVB               Mailed check           84.80       1990.50   730  \n",
              "2234-XADUH    Credit card (automatic)          103.20       7362.90  2191  \n",
              "4801-JZAZL           Electronic check           29.60        346.45   337  \n",
              "8361-LTMKD               Mailed check           74.40        306.60   123  \n",
              "3186-AJIEK  Bank transfer (automatic)          105.65       6844.50  2010  \n",
              "\n",
              "[7032 rows x 8 columns]"
            ]
          },
          "execution_count": 19,
          "metadata": {},
          "output_type": "execute_result"
        }
      ],
      "source": [
        "contract[\"days\"] = (contract[\"enddate\"] - contract[\"begindate\"]).dt.days #вычитаем две даты, выводим количество дней.\n",
        "contract"
      ]
    },
    {
      "cell_type": "markdown",
      "id": "8686977a",
      "metadata": {
        "id": "8686977a"
      },
      "source": [
        "#### Personal"
      ]
    },
    {
      "cell_type": "code",
      "execution_count": null,
      "id": "a5f1ebcf",
      "metadata": {
        "id": "a5f1ebcf",
        "outputId": "e499f089-7b3f-4f8e-a794-d8c3f2b18b71"
      },
      "outputs": [
        {
          "data": {
            "text/html": [
              "<div>\n",
              "<style scoped>\n",
              "    .dataframe tbody tr th:only-of-type {\n",
              "        vertical-align: middle;\n",
              "    }\n",
              "\n",
              "    .dataframe tbody tr th {\n",
              "        vertical-align: top;\n",
              "    }\n",
              "\n",
              "    .dataframe thead th {\n",
              "        text-align: right;\n",
              "    }\n",
              "</style>\n",
              "<table border=\"1\" class=\"dataframe\">\n",
              "  <thead>\n",
              "    <tr style=\"text-align: right;\">\n",
              "      <th></th>\n",
              "      <th>gender</th>\n",
              "      <th>SeniorCitizen</th>\n",
              "      <th>Partner</th>\n",
              "      <th>Dependents</th>\n",
              "    </tr>\n",
              "    <tr>\n",
              "      <th>customerID</th>\n",
              "      <th></th>\n",
              "      <th></th>\n",
              "      <th></th>\n",
              "      <th></th>\n",
              "    </tr>\n",
              "  </thead>\n",
              "  <tbody>\n",
              "    <tr>\n",
              "      <th>7590-VHVEG</th>\n",
              "      <td>Female</td>\n",
              "      <td>0</td>\n",
              "      <td>Yes</td>\n",
              "      <td>No</td>\n",
              "    </tr>\n",
              "    <tr>\n",
              "      <th>5575-GNVDE</th>\n",
              "      <td>Male</td>\n",
              "      <td>0</td>\n",
              "      <td>No</td>\n",
              "      <td>No</td>\n",
              "    </tr>\n",
              "    <tr>\n",
              "      <th>3668-QPYBK</th>\n",
              "      <td>Male</td>\n",
              "      <td>0</td>\n",
              "      <td>No</td>\n",
              "      <td>No</td>\n",
              "    </tr>\n",
              "    <tr>\n",
              "      <th>7795-CFOCW</th>\n",
              "      <td>Male</td>\n",
              "      <td>0</td>\n",
              "      <td>No</td>\n",
              "      <td>No</td>\n",
              "    </tr>\n",
              "    <tr>\n",
              "      <th>9237-HQITU</th>\n",
              "      <td>Female</td>\n",
              "      <td>0</td>\n",
              "      <td>No</td>\n",
              "      <td>No</td>\n",
              "    </tr>\n",
              "  </tbody>\n",
              "</table>\n",
              "</div>"
            ],
            "text/plain": [
              "            gender  SeniorCitizen Partner Dependents\n",
              "customerID                                          \n",
              "7590-VHVEG  Female              0     Yes         No\n",
              "5575-GNVDE    Male              0      No         No\n",
              "3668-QPYBK    Male              0      No         No\n",
              "7795-CFOCW    Male              0      No         No\n",
              "9237-HQITU  Female              0      No         No"
            ]
          },
          "execution_count": 20,
          "metadata": {},
          "output_type": "execute_result"
        }
      ],
      "source": [
        "personal.head(5)#таблица данных о клиентах"
      ]
    },
    {
      "cell_type": "code",
      "execution_count": null,
      "id": "20987a64",
      "metadata": {
        "id": "20987a64",
        "outputId": "928f17d0-c220-4733-e13e-49c31545b0c1"
      },
      "outputs": [
        {
          "name": "stdout",
          "output_type": "stream",
          "text": [
            "<class 'pandas.core.frame.DataFrame'>\n",
            "Index: 7043 entries, 7590-VHVEG to 3186-AJIEK\n",
            "Data columns (total 4 columns):\n",
            " #   Column         Non-Null Count  Dtype \n",
            "---  ------         --------------  ----- \n",
            " 0   gender         7043 non-null   object\n",
            " 1   SeniorCitizen  7043 non-null   int64 \n",
            " 2   Partner        7043 non-null   object\n",
            " 3   Dependents     7043 non-null   object\n",
            "dtypes: int64(1), object(3)\n",
            "memory usage: 275.1+ KB\n"
          ]
        }
      ],
      "source": [
        "personal.info()#информация о таблице"
      ]
    },
    {
      "cell_type": "code",
      "execution_count": null,
      "id": "cf0fc5fb",
      "metadata": {
        "id": "cf0fc5fb"
      },
      "outputs": [],
      "source": [
        "personal.columns =  personal.columns.str.lower() #приводим к нижнему регистру столбцы"
      ]
    },
    {
      "cell_type": "markdown",
      "id": "2c334e3b",
      "metadata": {
        "id": "2c334e3b"
      },
      "source": [
        "Данные в таблице представлены несколькими столбцами:\n",
        "\n",
        "1. gender - пол\n",
        "2. seniorcitizen - пенсионер или нет\n",
        "3. partner -  есть ли партнер(муж или жена)\n",
        "4. dependents - есть ли иждевенцы"
      ]
    },
    {
      "cell_type": "code",
      "execution_count": null,
      "id": "c9ec28de",
      "metadata": {
        "id": "c9ec28de",
        "outputId": "8f028e86-6537-4fb5-a3d2-2ce48f2a7b54"
      },
      "outputs": [
        {
          "name": "stderr",
          "output_type": "stream",
          "text": [
            "/opt/conda/lib/python3.9/site-packages/pandas/core/indexing.py:1637: SettingWithCopyWarning: \n",
            "A value is trying to be set on a copy of a slice from a DataFrame\n",
            "\n",
            "See the caveats in the documentation: https://pandas.pydata.org/pandas-docs/stable/user_guide/indexing.html#returning-a-view-versus-a-copy\n",
            "  self._setitem_single_block(indexer, value, name)\n"
          ]
        }
      ],
      "source": [
        "personal['partner'].loc[personal['partner'] == \"Yes\"] = 1 #создание категориальных признаков\n",
        "personal['partner'].loc[personal['partner'] == \"No\"] = 0"
      ]
    },
    {
      "cell_type": "code",
      "execution_count": null,
      "id": "97daa0a2",
      "metadata": {
        "id": "97daa0a2"
      },
      "outputs": [],
      "source": [
        "personal['dependents'].loc[personal['dependents'] == 'Yes'] = 1\n",
        "personal['dependents'].loc[personal['dependents'] == 'No'] = 0"
      ]
    },
    {
      "cell_type": "code",
      "execution_count": null,
      "id": "83bfa24d",
      "metadata": {
        "id": "83bfa24d",
        "outputId": "ef52ec72-335b-443c-d3fb-dc27aa077199"
      },
      "outputs": [
        {
          "data": {
            "text/html": [
              "<div>\n",
              "<style scoped>\n",
              "    .dataframe tbody tr th:only-of-type {\n",
              "        vertical-align: middle;\n",
              "    }\n",
              "\n",
              "    .dataframe tbody tr th {\n",
              "        vertical-align: top;\n",
              "    }\n",
              "\n",
              "    .dataframe thead th {\n",
              "        text-align: right;\n",
              "    }\n",
              "</style>\n",
              "<table border=\"1\" class=\"dataframe\">\n",
              "  <thead>\n",
              "    <tr style=\"text-align: right;\">\n",
              "      <th></th>\n",
              "      <th>gender</th>\n",
              "      <th>seniorcitizen</th>\n",
              "      <th>partner</th>\n",
              "      <th>dependents</th>\n",
              "    </tr>\n",
              "    <tr>\n",
              "      <th>customerID</th>\n",
              "      <th></th>\n",
              "      <th></th>\n",
              "      <th></th>\n",
              "      <th></th>\n",
              "    </tr>\n",
              "  </thead>\n",
              "  <tbody>\n",
              "    <tr>\n",
              "      <th>7590-VHVEG</th>\n",
              "      <td>Female</td>\n",
              "      <td>0</td>\n",
              "      <td>1</td>\n",
              "      <td>0</td>\n",
              "    </tr>\n",
              "    <tr>\n",
              "      <th>5575-GNVDE</th>\n",
              "      <td>Male</td>\n",
              "      <td>0</td>\n",
              "      <td>0</td>\n",
              "      <td>0</td>\n",
              "    </tr>\n",
              "    <tr>\n",
              "      <th>3668-QPYBK</th>\n",
              "      <td>Male</td>\n",
              "      <td>0</td>\n",
              "      <td>0</td>\n",
              "      <td>0</td>\n",
              "    </tr>\n",
              "    <tr>\n",
              "      <th>7795-CFOCW</th>\n",
              "      <td>Male</td>\n",
              "      <td>0</td>\n",
              "      <td>0</td>\n",
              "      <td>0</td>\n",
              "    </tr>\n",
              "    <tr>\n",
              "      <th>9237-HQITU</th>\n",
              "      <td>Female</td>\n",
              "      <td>0</td>\n",
              "      <td>0</td>\n",
              "      <td>0</td>\n",
              "    </tr>\n",
              "    <tr>\n",
              "      <th>...</th>\n",
              "      <td>...</td>\n",
              "      <td>...</td>\n",
              "      <td>...</td>\n",
              "      <td>...</td>\n",
              "    </tr>\n",
              "    <tr>\n",
              "      <th>6840-RESVB</th>\n",
              "      <td>Male</td>\n",
              "      <td>0</td>\n",
              "      <td>1</td>\n",
              "      <td>1</td>\n",
              "    </tr>\n",
              "    <tr>\n",
              "      <th>2234-XADUH</th>\n",
              "      <td>Female</td>\n",
              "      <td>0</td>\n",
              "      <td>1</td>\n",
              "      <td>1</td>\n",
              "    </tr>\n",
              "    <tr>\n",
              "      <th>4801-JZAZL</th>\n",
              "      <td>Female</td>\n",
              "      <td>0</td>\n",
              "      <td>1</td>\n",
              "      <td>1</td>\n",
              "    </tr>\n",
              "    <tr>\n",
              "      <th>8361-LTMKD</th>\n",
              "      <td>Male</td>\n",
              "      <td>1</td>\n",
              "      <td>1</td>\n",
              "      <td>0</td>\n",
              "    </tr>\n",
              "    <tr>\n",
              "      <th>3186-AJIEK</th>\n",
              "      <td>Male</td>\n",
              "      <td>0</td>\n",
              "      <td>0</td>\n",
              "      <td>0</td>\n",
              "    </tr>\n",
              "  </tbody>\n",
              "</table>\n",
              "<p>7043 rows × 4 columns</p>\n",
              "</div>"
            ],
            "text/plain": [
              "            gender  seniorcitizen partner dependents\n",
              "customerID                                          \n",
              "7590-VHVEG  Female              0       1          0\n",
              "5575-GNVDE    Male              0       0          0\n",
              "3668-QPYBK    Male              0       0          0\n",
              "7795-CFOCW    Male              0       0          0\n",
              "9237-HQITU  Female              0       0          0\n",
              "...            ...            ...     ...        ...\n",
              "6840-RESVB    Male              0       1          1\n",
              "2234-XADUH  Female              0       1          1\n",
              "4801-JZAZL  Female              0       1          1\n",
              "8361-LTMKD    Male              1       1          0\n",
              "3186-AJIEK    Male              0       0          0\n",
              "\n",
              "[7043 rows x 4 columns]"
            ]
          },
          "execution_count": 25,
          "metadata": {},
          "output_type": "execute_result"
        }
      ],
      "source": [
        "personal #проверка"
      ]
    },
    {
      "cell_type": "markdown",
      "id": "0ed5c582",
      "metadata": {
        "id": "0ed5c582"
      },
      "source": [
        "#### Internet"
      ]
    },
    {
      "cell_type": "code",
      "execution_count": null,
      "id": "9bed4a34",
      "metadata": {
        "id": "9bed4a34",
        "outputId": "94ba11ad-1165-4fae-aa50-031270610192"
      },
      "outputs": [
        {
          "data": {
            "text/html": [
              "<div>\n",
              "<style scoped>\n",
              "    .dataframe tbody tr th:only-of-type {\n",
              "        vertical-align: middle;\n",
              "    }\n",
              "\n",
              "    .dataframe tbody tr th {\n",
              "        vertical-align: top;\n",
              "    }\n",
              "\n",
              "    .dataframe thead th {\n",
              "        text-align: right;\n",
              "    }\n",
              "</style>\n",
              "<table border=\"1\" class=\"dataframe\">\n",
              "  <thead>\n",
              "    <tr style=\"text-align: right;\">\n",
              "      <th></th>\n",
              "      <th>InternetService</th>\n",
              "      <th>OnlineSecurity</th>\n",
              "      <th>OnlineBackup</th>\n",
              "      <th>DeviceProtection</th>\n",
              "      <th>TechSupport</th>\n",
              "      <th>StreamingTV</th>\n",
              "      <th>StreamingMovies</th>\n",
              "    </tr>\n",
              "    <tr>\n",
              "      <th>customerID</th>\n",
              "      <th></th>\n",
              "      <th></th>\n",
              "      <th></th>\n",
              "      <th></th>\n",
              "      <th></th>\n",
              "      <th></th>\n",
              "      <th></th>\n",
              "    </tr>\n",
              "  </thead>\n",
              "  <tbody>\n",
              "    <tr>\n",
              "      <th>7590-VHVEG</th>\n",
              "      <td>DSL</td>\n",
              "      <td>No</td>\n",
              "      <td>Yes</td>\n",
              "      <td>No</td>\n",
              "      <td>No</td>\n",
              "      <td>No</td>\n",
              "      <td>No</td>\n",
              "    </tr>\n",
              "    <tr>\n",
              "      <th>5575-GNVDE</th>\n",
              "      <td>DSL</td>\n",
              "      <td>Yes</td>\n",
              "      <td>No</td>\n",
              "      <td>Yes</td>\n",
              "      <td>No</td>\n",
              "      <td>No</td>\n",
              "      <td>No</td>\n",
              "    </tr>\n",
              "    <tr>\n",
              "      <th>3668-QPYBK</th>\n",
              "      <td>DSL</td>\n",
              "      <td>Yes</td>\n",
              "      <td>Yes</td>\n",
              "      <td>No</td>\n",
              "      <td>No</td>\n",
              "      <td>No</td>\n",
              "      <td>No</td>\n",
              "    </tr>\n",
              "    <tr>\n",
              "      <th>7795-CFOCW</th>\n",
              "      <td>DSL</td>\n",
              "      <td>Yes</td>\n",
              "      <td>No</td>\n",
              "      <td>Yes</td>\n",
              "      <td>Yes</td>\n",
              "      <td>No</td>\n",
              "      <td>No</td>\n",
              "    </tr>\n",
              "    <tr>\n",
              "      <th>9237-HQITU</th>\n",
              "      <td>Fiber optic</td>\n",
              "      <td>No</td>\n",
              "      <td>No</td>\n",
              "      <td>No</td>\n",
              "      <td>No</td>\n",
              "      <td>No</td>\n",
              "      <td>No</td>\n",
              "    </tr>\n",
              "  </tbody>\n",
              "</table>\n",
              "</div>"
            ],
            "text/plain": [
              "           InternetService OnlineSecurity OnlineBackup DeviceProtection  \\\n",
              "customerID                                                                \n",
              "7590-VHVEG             DSL             No          Yes               No   \n",
              "5575-GNVDE             DSL            Yes           No              Yes   \n",
              "3668-QPYBK             DSL            Yes          Yes               No   \n",
              "7795-CFOCW             DSL            Yes           No              Yes   \n",
              "9237-HQITU     Fiber optic             No           No               No   \n",
              "\n",
              "           TechSupport StreamingTV StreamingMovies  \n",
              "customerID                                          \n",
              "7590-VHVEG          No          No              No  \n",
              "5575-GNVDE          No          No              No  \n",
              "3668-QPYBK          No          No              No  \n",
              "7795-CFOCW         Yes          No              No  \n",
              "9237-HQITU          No          No              No  "
            ]
          },
          "execution_count": 26,
          "metadata": {},
          "output_type": "execute_result"
        }
      ],
      "source": [
        "internet.head() #таблица о интернет - услугах"
      ]
    },
    {
      "cell_type": "code",
      "execution_count": null,
      "id": "84cc1caa",
      "metadata": {
        "id": "84cc1caa",
        "outputId": "f4c9e63d-0f07-40ea-911c-b4517135a914"
      },
      "outputs": [
        {
          "name": "stdout",
          "output_type": "stream",
          "text": [
            "<class 'pandas.core.frame.DataFrame'>\n",
            "Index: 5517 entries, 7590-VHVEG to 3186-AJIEK\n",
            "Data columns (total 7 columns):\n",
            " #   Column            Non-Null Count  Dtype \n",
            "---  ------            --------------  ----- \n",
            " 0   InternetService   5517 non-null   object\n",
            " 1   OnlineSecurity    5517 non-null   object\n",
            " 2   OnlineBackup      5517 non-null   object\n",
            " 3   DeviceProtection  5517 non-null   object\n",
            " 4   TechSupport       5517 non-null   object\n",
            " 5   StreamingTV       5517 non-null   object\n",
            " 6   StreamingMovies   5517 non-null   object\n",
            "dtypes: object(7)\n",
            "memory usage: 344.8+ KB\n"
          ]
        }
      ],
      "source": [
        "internet.info() #информация"
      ]
    },
    {
      "cell_type": "code",
      "execution_count": null,
      "id": "1563d7ff",
      "metadata": {
        "id": "1563d7ff"
      },
      "outputs": [],
      "source": [
        "internet.columns = internet.columns.str.lower() #приводим к нижнему регистру"
      ]
    },
    {
      "cell_type": "code",
      "execution_count": null,
      "id": "1cec2c70",
      "metadata": {
        "id": "1cec2c70",
        "outputId": "5a6df8b2-037f-40ca-f41a-ccb9a2e41f60"
      },
      "outputs": [
        {
          "data": {
            "text/plain": [
              "Fiber optic    3096\n",
              "DSL            2421\n",
              "Name: internetservice, dtype: int64"
            ]
          },
          "execution_count": 29,
          "metadata": {},
          "output_type": "execute_result"
        }
      ],
      "source": [
        "internet[\"internetservice\"].value_counts()"
      ]
    },
    {
      "cell_type": "code",
      "execution_count": null,
      "id": "4c186cce",
      "metadata": {
        "id": "4c186cce",
        "outputId": "a1f4b720-cdde-4da8-f56b-e422fe2499d8"
      },
      "outputs": [
        {
          "data": {
            "text/plain": [
              "Index(['internetservice', 'onlinesecurity', 'onlinebackup', 'deviceprotection',\n",
              "       'techsupport', 'streamingtv', 'streamingmovies'],\n",
              "      dtype='object')"
            ]
          },
          "execution_count": 30,
          "metadata": {},
          "output_type": "execute_result"
        }
      ],
      "source": [
        "internet.columns"
      ]
    },
    {
      "cell_type": "code",
      "execution_count": null,
      "id": "4068b7d1",
      "metadata": {
        "id": "4068b7d1"
      },
      "outputs": [],
      "source": [
        "for i in internet.columns: #сделаем по категориям, заменим yes на 1 no на 0\n",
        "    internet[i].loc[internet[i] == \"Yes\"] = 1\n",
        "    internet[i].loc[internet[i] == \"No\"] = 0\n",
        "    "
      ]
    },
    {
      "cell_type": "code",
      "execution_count": null,
      "id": "1f460ab8",
      "metadata": {
        "id": "1f460ab8",
        "outputId": "080d2ea3-ab47-456f-8f87-1c11a10e2ef1"
      },
      "outputs": [
        {
          "data": {
            "text/html": [
              "<div>\n",
              "<style scoped>\n",
              "    .dataframe tbody tr th:only-of-type {\n",
              "        vertical-align: middle;\n",
              "    }\n",
              "\n",
              "    .dataframe tbody tr th {\n",
              "        vertical-align: top;\n",
              "    }\n",
              "\n",
              "    .dataframe thead th {\n",
              "        text-align: right;\n",
              "    }\n",
              "</style>\n",
              "<table border=\"1\" class=\"dataframe\">\n",
              "  <thead>\n",
              "    <tr style=\"text-align: right;\">\n",
              "      <th></th>\n",
              "      <th>internetservice</th>\n",
              "      <th>onlinesecurity</th>\n",
              "      <th>onlinebackup</th>\n",
              "      <th>deviceprotection</th>\n",
              "      <th>techsupport</th>\n",
              "      <th>streamingtv</th>\n",
              "      <th>streamingmovies</th>\n",
              "    </tr>\n",
              "    <tr>\n",
              "      <th>customerID</th>\n",
              "      <th></th>\n",
              "      <th></th>\n",
              "      <th></th>\n",
              "      <th></th>\n",
              "      <th></th>\n",
              "      <th></th>\n",
              "      <th></th>\n",
              "    </tr>\n",
              "  </thead>\n",
              "  <tbody>\n",
              "    <tr>\n",
              "      <th>7590-VHVEG</th>\n",
              "      <td>DSL</td>\n",
              "      <td>0</td>\n",
              "      <td>1</td>\n",
              "      <td>0</td>\n",
              "      <td>0</td>\n",
              "      <td>0</td>\n",
              "      <td>0</td>\n",
              "    </tr>\n",
              "    <tr>\n",
              "      <th>5575-GNVDE</th>\n",
              "      <td>DSL</td>\n",
              "      <td>1</td>\n",
              "      <td>0</td>\n",
              "      <td>1</td>\n",
              "      <td>0</td>\n",
              "      <td>0</td>\n",
              "      <td>0</td>\n",
              "    </tr>\n",
              "    <tr>\n",
              "      <th>3668-QPYBK</th>\n",
              "      <td>DSL</td>\n",
              "      <td>1</td>\n",
              "      <td>1</td>\n",
              "      <td>0</td>\n",
              "      <td>0</td>\n",
              "      <td>0</td>\n",
              "      <td>0</td>\n",
              "    </tr>\n",
              "    <tr>\n",
              "      <th>7795-CFOCW</th>\n",
              "      <td>DSL</td>\n",
              "      <td>1</td>\n",
              "      <td>0</td>\n",
              "      <td>1</td>\n",
              "      <td>1</td>\n",
              "      <td>0</td>\n",
              "      <td>0</td>\n",
              "    </tr>\n",
              "    <tr>\n",
              "      <th>9237-HQITU</th>\n",
              "      <td>Fiber optic</td>\n",
              "      <td>0</td>\n",
              "      <td>0</td>\n",
              "      <td>0</td>\n",
              "      <td>0</td>\n",
              "      <td>0</td>\n",
              "      <td>0</td>\n",
              "    </tr>\n",
              "    <tr>\n",
              "      <th>...</th>\n",
              "      <td>...</td>\n",
              "      <td>...</td>\n",
              "      <td>...</td>\n",
              "      <td>...</td>\n",
              "      <td>...</td>\n",
              "      <td>...</td>\n",
              "      <td>...</td>\n",
              "    </tr>\n",
              "    <tr>\n",
              "      <th>6840-RESVB</th>\n",
              "      <td>DSL</td>\n",
              "      <td>1</td>\n",
              "      <td>0</td>\n",
              "      <td>1</td>\n",
              "      <td>1</td>\n",
              "      <td>1</td>\n",
              "      <td>1</td>\n",
              "    </tr>\n",
              "    <tr>\n",
              "      <th>2234-XADUH</th>\n",
              "      <td>Fiber optic</td>\n",
              "      <td>0</td>\n",
              "      <td>1</td>\n",
              "      <td>1</td>\n",
              "      <td>0</td>\n",
              "      <td>1</td>\n",
              "      <td>1</td>\n",
              "    </tr>\n",
              "    <tr>\n",
              "      <th>4801-JZAZL</th>\n",
              "      <td>DSL</td>\n",
              "      <td>1</td>\n",
              "      <td>0</td>\n",
              "      <td>0</td>\n",
              "      <td>0</td>\n",
              "      <td>0</td>\n",
              "      <td>0</td>\n",
              "    </tr>\n",
              "    <tr>\n",
              "      <th>8361-LTMKD</th>\n",
              "      <td>Fiber optic</td>\n",
              "      <td>0</td>\n",
              "      <td>0</td>\n",
              "      <td>0</td>\n",
              "      <td>0</td>\n",
              "      <td>0</td>\n",
              "      <td>0</td>\n",
              "    </tr>\n",
              "    <tr>\n",
              "      <th>3186-AJIEK</th>\n",
              "      <td>Fiber optic</td>\n",
              "      <td>1</td>\n",
              "      <td>0</td>\n",
              "      <td>1</td>\n",
              "      <td>1</td>\n",
              "      <td>1</td>\n",
              "      <td>1</td>\n",
              "    </tr>\n",
              "  </tbody>\n",
              "</table>\n",
              "<p>5517 rows × 7 columns</p>\n",
              "</div>"
            ],
            "text/plain": [
              "           internetservice onlinesecurity onlinebackup deviceprotection  \\\n",
              "customerID                                                                \n",
              "7590-VHVEG             DSL              0            1                0   \n",
              "5575-GNVDE             DSL              1            0                1   \n",
              "3668-QPYBK             DSL              1            1                0   \n",
              "7795-CFOCW             DSL              1            0                1   \n",
              "9237-HQITU     Fiber optic              0            0                0   \n",
              "...                    ...            ...          ...              ...   \n",
              "6840-RESVB             DSL              1            0                1   \n",
              "2234-XADUH     Fiber optic              0            1                1   \n",
              "4801-JZAZL             DSL              1            0                0   \n",
              "8361-LTMKD     Fiber optic              0            0                0   \n",
              "3186-AJIEK     Fiber optic              1            0                1   \n",
              "\n",
              "           techsupport streamingtv streamingmovies  \n",
              "customerID                                          \n",
              "7590-VHVEG           0           0               0  \n",
              "5575-GNVDE           0           0               0  \n",
              "3668-QPYBK           0           0               0  \n",
              "7795-CFOCW           1           0               0  \n",
              "9237-HQITU           0           0               0  \n",
              "...                ...         ...             ...  \n",
              "6840-RESVB           1           1               1  \n",
              "2234-XADUH           0           1               1  \n",
              "4801-JZAZL           0           0               0  \n",
              "8361-LTMKD           0           0               0  \n",
              "3186-AJIEK           1           1               1  \n",
              "\n",
              "[5517 rows x 7 columns]"
            ]
          },
          "execution_count": 32,
          "metadata": {},
          "output_type": "execute_result"
        }
      ],
      "source": [
        "internet"
      ]
    },
    {
      "cell_type": "markdown",
      "id": "1c9c32a9",
      "metadata": {
        "id": "1c9c32a9"
      },
      "source": [
        "1. InternetService - Fiber optic или DSL\n",
        "2. onlinesecurity - есть ли блокировка небезопасных сайтов\n",
        "3. onlinebackup - есть ли облачное хранилище данных\n",
        "4. deviceprotection - антивирус\n",
        "5. techsupport - есть ли выделенная техническая поддержка\n",
        "6. streamingtv - наличие стримингового телевидения\n",
        "7. streamingmovies - наличие каталога онлайн фильмов"
      ]
    },
    {
      "cell_type": "markdown",
      "id": "3ada9d69",
      "metadata": {
        "id": "3ada9d69"
      },
      "source": [
        "#### Phone"
      ]
    },
    {
      "cell_type": "code",
      "execution_count": null,
      "id": "bf4cc8da",
      "metadata": {
        "id": "bf4cc8da",
        "outputId": "b1a4039f-0ae9-482d-d1f2-56e28cef14d1"
      },
      "outputs": [
        {
          "data": {
            "text/html": [
              "<div>\n",
              "<style scoped>\n",
              "    .dataframe tbody tr th:only-of-type {\n",
              "        vertical-align: middle;\n",
              "    }\n",
              "\n",
              "    .dataframe tbody tr th {\n",
              "        vertical-align: top;\n",
              "    }\n",
              "\n",
              "    .dataframe thead th {\n",
              "        text-align: right;\n",
              "    }\n",
              "</style>\n",
              "<table border=\"1\" class=\"dataframe\">\n",
              "  <thead>\n",
              "    <tr style=\"text-align: right;\">\n",
              "      <th></th>\n",
              "      <th>MultipleLines</th>\n",
              "    </tr>\n",
              "    <tr>\n",
              "      <th>customerID</th>\n",
              "      <th></th>\n",
              "    </tr>\n",
              "  </thead>\n",
              "  <tbody>\n",
              "    <tr>\n",
              "      <th>5575-GNVDE</th>\n",
              "      <td>No</td>\n",
              "    </tr>\n",
              "    <tr>\n",
              "      <th>3668-QPYBK</th>\n",
              "      <td>No</td>\n",
              "    </tr>\n",
              "    <tr>\n",
              "      <th>9237-HQITU</th>\n",
              "      <td>No</td>\n",
              "    </tr>\n",
              "    <tr>\n",
              "      <th>9305-CDSKC</th>\n",
              "      <td>Yes</td>\n",
              "    </tr>\n",
              "    <tr>\n",
              "      <th>1452-KIOVK</th>\n",
              "      <td>Yes</td>\n",
              "    </tr>\n",
              "  </tbody>\n",
              "</table>\n",
              "</div>"
            ],
            "text/plain": [
              "           MultipleLines\n",
              "customerID              \n",
              "5575-GNVDE            No\n",
              "3668-QPYBK            No\n",
              "9237-HQITU            No\n",
              "9305-CDSKC           Yes\n",
              "1452-KIOVK           Yes"
            ]
          },
          "execution_count": 33,
          "metadata": {},
          "output_type": "execute_result"
        }
      ],
      "source": [
        "phone.head()#информация об услугах телефонии"
      ]
    },
    {
      "cell_type": "code",
      "execution_count": null,
      "id": "5b90a4de",
      "metadata": {
        "id": "5b90a4de",
        "outputId": "f8956daf-6f72-452c-f754-435b9a71ef6b"
      },
      "outputs": [
        {
          "name": "stdout",
          "output_type": "stream",
          "text": [
            "<class 'pandas.core.frame.DataFrame'>\n",
            "Index: 6361 entries, 5575-GNVDE to 3186-AJIEK\n",
            "Data columns (total 1 columns):\n",
            " #   Column         Non-Null Count  Dtype \n",
            "---  ------         --------------  ----- \n",
            " 0   MultipleLines  6361 non-null   object\n",
            "dtypes: object(1)\n",
            "memory usage: 99.4+ KB\n"
          ]
        }
      ],
      "source": [
        "phone.info()#информация"
      ]
    },
    {
      "cell_type": "code",
      "execution_count": null,
      "id": "cb7c569d",
      "metadata": {
        "id": "cb7c569d"
      },
      "outputs": [],
      "source": [
        "phone.columns = phone.columns.str.lower() #нижний регистр"
      ]
    },
    {
      "cell_type": "code",
      "execution_count": null,
      "id": "d5ef69d1",
      "metadata": {
        "id": "d5ef69d1"
      },
      "outputs": [],
      "source": [
        "phone[\"multiplelines\"].loc[phone[\"multiplelines\"] == \"Yes\"] = 1\n",
        "phone[\"multiplelines\"].loc[phone[\"multiplelines\"] == \"No\"] = 0"
      ]
    },
    {
      "cell_type": "markdown",
      "id": "a39476eb",
      "metadata": {
        "id": "a39476eb"
      },
      "source": [
        "MultipleLines  - подключение нескольких линий одновременно."
      ]
    },
    {
      "cell_type": "code",
      "execution_count": null,
      "id": "8aae40de",
      "metadata": {
        "id": "8aae40de",
        "outputId": "7bf79e9f-66e4-4ebc-e56a-8dbcaea3f450"
      },
      "outputs": [
        {
          "data": {
            "text/plain": [
              "customerID\n",
              "5575-GNVDE    0\n",
              "3668-QPYBK    0\n",
              "9237-HQITU    0\n",
              "9305-CDSKC    1\n",
              "1452-KIOVK    1\n",
              "Name: multiplelines, dtype: object"
            ]
          },
          "execution_count": 37,
          "metadata": {},
          "output_type": "execute_result"
        }
      ],
      "source": [
        "phone[\"multiplelines\"].head(5) #проверка"
      ]
    },
    {
      "cell_type": "markdown",
      "id": "f0232805",
      "metadata": {
        "id": "f0232805"
      },
      "source": [
        "#### Объединение данных и выделение целевого признака"
      ]
    },
    {
      "cell_type": "code",
      "execution_count": null,
      "id": "931c57cb",
      "metadata": {
        "id": "931c57cb"
      },
      "outputs": [],
      "source": [
        "import datetime"
      ]
    },
    {
      "cell_type": "code",
      "execution_count": null,
      "id": "a51ab75f",
      "metadata": {
        "id": "a51ab75f",
        "outputId": "d199897a-2ab0-4643-c053-9ded978cc854"
      },
      "outputs": [
        {
          "data": {
            "text/plain": [
              "customerID\n",
              "7590-VHVEG   2020-01-01\n",
              "5575-GNVDE   2017-04-01\n",
              "3668-QPYBK   2019-10-01\n",
              "7795-CFOCW   2016-05-01\n",
              "9237-HQITU   2019-09-01\n",
              "                ...    \n",
              "6840-RESVB   2018-02-01\n",
              "2234-XADUH   2014-02-01\n",
              "4801-JZAZL   2019-03-01\n",
              "8361-LTMKD   2019-07-01\n",
              "3186-AJIEK   2014-08-01\n",
              "Name: begindate, Length: 7032, dtype: datetime64[ns]"
            ]
          },
          "execution_count": 39,
          "metadata": {},
          "output_type": "execute_result"
        }
      ],
      "source": [
        "contract['begindate']"
      ]
    },
    {
      "cell_type": "code",
      "execution_count": null,
      "id": "0b912804",
      "metadata": {
        "id": "0b912804",
        "outputId": "b0f84fbb-be60-4317-f67c-370d7b5735b3"
      },
      "outputs": [
        {
          "data": {
            "text/plain": [
              "0    5163\n",
              "1    1869\n",
              "Name: churn, dtype: int64"
            ]
          },
          "execution_count": 40,
          "metadata": {},
          "output_type": "execute_result"
        }
      ],
      "source": [
        "contract['churn'] = (contract['enddate'] != datetime.datetime(2020,2,1)).astype(int)\n",
        "contract['churn'].value_counts()"
      ]
    },
    {
      "cell_type": "code",
      "execution_count": null,
      "id": "5052f7c0",
      "metadata": {
        "id": "5052f7c0",
        "outputId": "d5bdc985-ee45-4093-dd77-48053fd00a74"
      },
      "outputs": [
        {
          "data": {
            "text/html": [
              "<div>\n",
              "<style scoped>\n",
              "    .dataframe tbody tr th:only-of-type {\n",
              "        vertical-align: middle;\n",
              "    }\n",
              "\n",
              "    .dataframe tbody tr th {\n",
              "        vertical-align: top;\n",
              "    }\n",
              "\n",
              "    .dataframe thead th {\n",
              "        text-align: right;\n",
              "    }\n",
              "</style>\n",
              "<table border=\"1\" class=\"dataframe\">\n",
              "  <thead>\n",
              "    <tr style=\"text-align: right;\">\n",
              "      <th></th>\n",
              "      <th>begindate</th>\n",
              "      <th>enddate</th>\n",
              "      <th>type</th>\n",
              "      <th>paperlessbilling</th>\n",
              "      <th>paymentmethod</th>\n",
              "      <th>monthlycharges</th>\n",
              "      <th>totalcharges</th>\n",
              "      <th>days</th>\n",
              "      <th>churn</th>\n",
              "    </tr>\n",
              "    <tr>\n",
              "      <th>customerID</th>\n",
              "      <th></th>\n",
              "      <th></th>\n",
              "      <th></th>\n",
              "      <th></th>\n",
              "      <th></th>\n",
              "      <th></th>\n",
              "      <th></th>\n",
              "      <th></th>\n",
              "      <th></th>\n",
              "    </tr>\n",
              "  </thead>\n",
              "  <tbody>\n",
              "    <tr>\n",
              "      <th>7590-VHVEG</th>\n",
              "      <td>2020-01-01</td>\n",
              "      <td>2020-02-01</td>\n",
              "      <td>Month-to-month</td>\n",
              "      <td>1</td>\n",
              "      <td>Electronic check</td>\n",
              "      <td>29.85</td>\n",
              "      <td>29.85</td>\n",
              "      <td>31</td>\n",
              "      <td>0</td>\n",
              "    </tr>\n",
              "    <tr>\n",
              "      <th>5575-GNVDE</th>\n",
              "      <td>2017-04-01</td>\n",
              "      <td>2020-02-01</td>\n",
              "      <td>One year</td>\n",
              "      <td>0</td>\n",
              "      <td>Mailed check</td>\n",
              "      <td>56.95</td>\n",
              "      <td>1889.50</td>\n",
              "      <td>1036</td>\n",
              "      <td>0</td>\n",
              "    </tr>\n",
              "    <tr>\n",
              "      <th>3668-QPYBK</th>\n",
              "      <td>2019-10-01</td>\n",
              "      <td>2019-12-01</td>\n",
              "      <td>Month-to-month</td>\n",
              "      <td>1</td>\n",
              "      <td>Mailed check</td>\n",
              "      <td>53.85</td>\n",
              "      <td>108.15</td>\n",
              "      <td>61</td>\n",
              "      <td>1</td>\n",
              "    </tr>\n",
              "    <tr>\n",
              "      <th>7795-CFOCW</th>\n",
              "      <td>2016-05-01</td>\n",
              "      <td>2020-02-01</td>\n",
              "      <td>One year</td>\n",
              "      <td>0</td>\n",
              "      <td>Bank transfer (automatic)</td>\n",
              "      <td>42.30</td>\n",
              "      <td>1840.75</td>\n",
              "      <td>1371</td>\n",
              "      <td>0</td>\n",
              "    </tr>\n",
              "    <tr>\n",
              "      <th>9237-HQITU</th>\n",
              "      <td>2019-09-01</td>\n",
              "      <td>2019-11-01</td>\n",
              "      <td>Month-to-month</td>\n",
              "      <td>1</td>\n",
              "      <td>Electronic check</td>\n",
              "      <td>70.70</td>\n",
              "      <td>151.65</td>\n",
              "      <td>61</td>\n",
              "      <td>1</td>\n",
              "    </tr>\n",
              "  </tbody>\n",
              "</table>\n",
              "</div>"
            ],
            "text/plain": [
              "            begindate    enddate            type paperlessbilling  \\\n",
              "customerID                                                          \n",
              "7590-VHVEG 2020-01-01 2020-02-01  Month-to-month                1   \n",
              "5575-GNVDE 2017-04-01 2020-02-01        One year                0   \n",
              "3668-QPYBK 2019-10-01 2019-12-01  Month-to-month                1   \n",
              "7795-CFOCW 2016-05-01 2020-02-01        One year                0   \n",
              "9237-HQITU 2019-09-01 2019-11-01  Month-to-month                1   \n",
              "\n",
              "                        paymentmethod  monthlycharges  totalcharges  days  \\\n",
              "customerID                                                                  \n",
              "7590-VHVEG           Electronic check           29.85         29.85    31   \n",
              "5575-GNVDE               Mailed check           56.95       1889.50  1036   \n",
              "3668-QPYBK               Mailed check           53.85        108.15    61   \n",
              "7795-CFOCW  Bank transfer (automatic)           42.30       1840.75  1371   \n",
              "9237-HQITU           Electronic check           70.70        151.65    61   \n",
              "\n",
              "            churn  \n",
              "customerID         \n",
              "7590-VHVEG      0  \n",
              "5575-GNVDE      0  \n",
              "3668-QPYBK      1  \n",
              "7795-CFOCW      0  \n",
              "9237-HQITU      1  "
            ]
          },
          "execution_count": 41,
          "metadata": {},
          "output_type": "execute_result"
        }
      ],
      "source": [
        "contract.head() #проверяем"
      ]
    },
    {
      "cell_type": "markdown",
      "id": "5019a5f8",
      "metadata": {
        "id": "5019a5f8"
      },
      "source": [
        "Итак, 0 означает, что клиент не ушел, 1 - ушел. Целевой признак выделен, перед нами задача классификации."
      ]
    },
    {
      "cell_type": "code",
      "execution_count": null,
      "id": "30e35ecc",
      "metadata": {
        "id": "30e35ecc",
        "outputId": "6ec02252-3a37-44b6-8775-dd833582cbb0"
      },
      "outputs": [
        {
          "data": {
            "text/html": [
              "<div>\n",
              "<style scoped>\n",
              "    .dataframe tbody tr th:only-of-type {\n",
              "        vertical-align: middle;\n",
              "    }\n",
              "\n",
              "    .dataframe tbody tr th {\n",
              "        vertical-align: top;\n",
              "    }\n",
              "\n",
              "    .dataframe thead th {\n",
              "        text-align: right;\n",
              "    }\n",
              "</style>\n",
              "<table border=\"1\" class=\"dataframe\">\n",
              "  <thead>\n",
              "    <tr style=\"text-align: right;\">\n",
              "      <th></th>\n",
              "      <th>begindate</th>\n",
              "      <th>enddate</th>\n",
              "      <th>type</th>\n",
              "      <th>paperlessbilling</th>\n",
              "      <th>paymentmethod</th>\n",
              "      <th>monthlycharges</th>\n",
              "      <th>totalcharges</th>\n",
              "      <th>days</th>\n",
              "      <th>churn</th>\n",
              "      <th>gender</th>\n",
              "      <th>...</th>\n",
              "      <th>partner</th>\n",
              "      <th>dependents</th>\n",
              "      <th>internetservice</th>\n",
              "      <th>onlinesecurity</th>\n",
              "      <th>onlinebackup</th>\n",
              "      <th>deviceprotection</th>\n",
              "      <th>techsupport</th>\n",
              "      <th>streamingtv</th>\n",
              "      <th>streamingmovies</th>\n",
              "      <th>multiplelines</th>\n",
              "    </tr>\n",
              "    <tr>\n",
              "      <th>customerID</th>\n",
              "      <th></th>\n",
              "      <th></th>\n",
              "      <th></th>\n",
              "      <th></th>\n",
              "      <th></th>\n",
              "      <th></th>\n",
              "      <th></th>\n",
              "      <th></th>\n",
              "      <th></th>\n",
              "      <th></th>\n",
              "      <th></th>\n",
              "      <th></th>\n",
              "      <th></th>\n",
              "      <th></th>\n",
              "      <th></th>\n",
              "      <th></th>\n",
              "      <th></th>\n",
              "      <th></th>\n",
              "      <th></th>\n",
              "      <th></th>\n",
              "      <th></th>\n",
              "    </tr>\n",
              "  </thead>\n",
              "  <tbody>\n",
              "    <tr>\n",
              "      <th>7590-VHVEG</th>\n",
              "      <td>2020-01-01</td>\n",
              "      <td>2020-02-01</td>\n",
              "      <td>Month-to-month</td>\n",
              "      <td>1</td>\n",
              "      <td>Electronic check</td>\n",
              "      <td>29.85</td>\n",
              "      <td>29.85</td>\n",
              "      <td>31</td>\n",
              "      <td>0</td>\n",
              "      <td>Female</td>\n",
              "      <td>...</td>\n",
              "      <td>1</td>\n",
              "      <td>0</td>\n",
              "      <td>DSL</td>\n",
              "      <td>0</td>\n",
              "      <td>1</td>\n",
              "      <td>0</td>\n",
              "      <td>0</td>\n",
              "      <td>0</td>\n",
              "      <td>0</td>\n",
              "      <td>NaN</td>\n",
              "    </tr>\n",
              "    <tr>\n",
              "      <th>5575-GNVDE</th>\n",
              "      <td>2017-04-01</td>\n",
              "      <td>2020-02-01</td>\n",
              "      <td>One year</td>\n",
              "      <td>0</td>\n",
              "      <td>Mailed check</td>\n",
              "      <td>56.95</td>\n",
              "      <td>1889.50</td>\n",
              "      <td>1036</td>\n",
              "      <td>0</td>\n",
              "      <td>Male</td>\n",
              "      <td>...</td>\n",
              "      <td>0</td>\n",
              "      <td>0</td>\n",
              "      <td>DSL</td>\n",
              "      <td>1</td>\n",
              "      <td>0</td>\n",
              "      <td>1</td>\n",
              "      <td>0</td>\n",
              "      <td>0</td>\n",
              "      <td>0</td>\n",
              "      <td>0</td>\n",
              "    </tr>\n",
              "    <tr>\n",
              "      <th>3668-QPYBK</th>\n",
              "      <td>2019-10-01</td>\n",
              "      <td>2019-12-01</td>\n",
              "      <td>Month-to-month</td>\n",
              "      <td>1</td>\n",
              "      <td>Mailed check</td>\n",
              "      <td>53.85</td>\n",
              "      <td>108.15</td>\n",
              "      <td>61</td>\n",
              "      <td>1</td>\n",
              "      <td>Male</td>\n",
              "      <td>...</td>\n",
              "      <td>0</td>\n",
              "      <td>0</td>\n",
              "      <td>DSL</td>\n",
              "      <td>1</td>\n",
              "      <td>1</td>\n",
              "      <td>0</td>\n",
              "      <td>0</td>\n",
              "      <td>0</td>\n",
              "      <td>0</td>\n",
              "      <td>0</td>\n",
              "    </tr>\n",
              "    <tr>\n",
              "      <th>7795-CFOCW</th>\n",
              "      <td>2016-05-01</td>\n",
              "      <td>2020-02-01</td>\n",
              "      <td>One year</td>\n",
              "      <td>0</td>\n",
              "      <td>Bank transfer (automatic)</td>\n",
              "      <td>42.30</td>\n",
              "      <td>1840.75</td>\n",
              "      <td>1371</td>\n",
              "      <td>0</td>\n",
              "      <td>Male</td>\n",
              "      <td>...</td>\n",
              "      <td>0</td>\n",
              "      <td>0</td>\n",
              "      <td>DSL</td>\n",
              "      <td>1</td>\n",
              "      <td>0</td>\n",
              "      <td>1</td>\n",
              "      <td>1</td>\n",
              "      <td>0</td>\n",
              "      <td>0</td>\n",
              "      <td>NaN</td>\n",
              "    </tr>\n",
              "    <tr>\n",
              "      <th>9237-HQITU</th>\n",
              "      <td>2019-09-01</td>\n",
              "      <td>2019-11-01</td>\n",
              "      <td>Month-to-month</td>\n",
              "      <td>1</td>\n",
              "      <td>Electronic check</td>\n",
              "      <td>70.70</td>\n",
              "      <td>151.65</td>\n",
              "      <td>61</td>\n",
              "      <td>1</td>\n",
              "      <td>Female</td>\n",
              "      <td>...</td>\n",
              "      <td>0</td>\n",
              "      <td>0</td>\n",
              "      <td>Fiber optic</td>\n",
              "      <td>0</td>\n",
              "      <td>0</td>\n",
              "      <td>0</td>\n",
              "      <td>0</td>\n",
              "      <td>0</td>\n",
              "      <td>0</td>\n",
              "      <td>0</td>\n",
              "    </tr>\n",
              "  </tbody>\n",
              "</table>\n",
              "<p>5 rows × 21 columns</p>\n",
              "</div>"
            ],
            "text/plain": [
              "            begindate    enddate            type paperlessbilling  \\\n",
              "customerID                                                          \n",
              "7590-VHVEG 2020-01-01 2020-02-01  Month-to-month                1   \n",
              "5575-GNVDE 2017-04-01 2020-02-01        One year                0   \n",
              "3668-QPYBK 2019-10-01 2019-12-01  Month-to-month                1   \n",
              "7795-CFOCW 2016-05-01 2020-02-01        One year                0   \n",
              "9237-HQITU 2019-09-01 2019-11-01  Month-to-month                1   \n",
              "\n",
              "                        paymentmethod  monthlycharges  totalcharges  days  \\\n",
              "customerID                                                                  \n",
              "7590-VHVEG           Electronic check           29.85         29.85    31   \n",
              "5575-GNVDE               Mailed check           56.95       1889.50  1036   \n",
              "3668-QPYBK               Mailed check           53.85        108.15    61   \n",
              "7795-CFOCW  Bank transfer (automatic)           42.30       1840.75  1371   \n",
              "9237-HQITU           Electronic check           70.70        151.65    61   \n",
              "\n",
              "            churn  gender  ...  partner dependents internetservice  \\\n",
              "customerID                 ...                                       \n",
              "7590-VHVEG      0  Female  ...        1          0             DSL   \n",
              "5575-GNVDE      0    Male  ...        0          0             DSL   \n",
              "3668-QPYBK      1    Male  ...        0          0             DSL   \n",
              "7795-CFOCW      0    Male  ...        0          0             DSL   \n",
              "9237-HQITU      1  Female  ...        0          0     Fiber optic   \n",
              "\n",
              "           onlinesecurity onlinebackup deviceprotection techsupport  \\\n",
              "customerID                                                            \n",
              "7590-VHVEG              0            1                0           0   \n",
              "5575-GNVDE              1            0                1           0   \n",
              "3668-QPYBK              1            1                0           0   \n",
              "7795-CFOCW              1            0                1           1   \n",
              "9237-HQITU              0            0                0           0   \n",
              "\n",
              "           streamingtv streamingmovies multiplelines  \n",
              "customerID                                            \n",
              "7590-VHVEG           0               0           NaN  \n",
              "5575-GNVDE           0               0             0  \n",
              "3668-QPYBK           0               0             0  \n",
              "7795-CFOCW           0               0           NaN  \n",
              "9237-HQITU           0               0             0  \n",
              "\n",
              "[5 rows x 21 columns]"
            ]
          },
          "execution_count": 42,
          "metadata": {},
          "output_type": "execute_result"
        }
      ],
      "source": [
        "#Соберем все в один датасет, по id\n",
        "data = contract.merge(personal,  how = \"left\", on = \"customerID\") \\\n",
        ".merge(internet,  how = \"left\", on = \"customerID\")  \\\n",
        ".merge(phone,  how = \"left\", on = \"customerID\") \n",
        "data.head(5)"
      ]
    },
    {
      "cell_type": "code",
      "execution_count": null,
      "id": "ebade6d8",
      "metadata": {
        "id": "ebade6d8",
        "outputId": "b3202b4e-bb9d-4f57-e031-dce34679699c"
      },
      "outputs": [
        {
          "name": "stdout",
          "output_type": "stream",
          "text": [
            "<class 'pandas.core.frame.DataFrame'>\n",
            "Index: 7032 entries, 7590-VHVEG to 3186-AJIEK\n",
            "Data columns (total 21 columns):\n",
            " #   Column            Non-Null Count  Dtype         \n",
            "---  ------            --------------  -----         \n",
            " 0   begindate         7032 non-null   datetime64[ns]\n",
            " 1   enddate           7032 non-null   datetime64[ns]\n",
            " 2   type              7032 non-null   object        \n",
            " 3   paperlessbilling  7032 non-null   object        \n",
            " 4   paymentmethod     7032 non-null   object        \n",
            " 5   monthlycharges    7032 non-null   float64       \n",
            " 6   totalcharges      7032 non-null   float64       \n",
            " 7   days              7032 non-null   int64         \n",
            " 8   churn             7032 non-null   int64         \n",
            " 9   gender            7032 non-null   object        \n",
            " 10  seniorcitizen     7032 non-null   int64         \n",
            " 11  partner           7032 non-null   object        \n",
            " 12  dependents        7032 non-null   object        \n",
            " 13  internetservice   5512 non-null   object        \n",
            " 14  onlinesecurity    5512 non-null   object        \n",
            " 15  onlinebackup      5512 non-null   object        \n",
            " 16  deviceprotection  5512 non-null   object        \n",
            " 17  techsupport       5512 non-null   object        \n",
            " 18  streamingtv       5512 non-null   object        \n",
            " 19  streamingmovies   5512 non-null   object        \n",
            " 20  multiplelines     6352 non-null   object        \n",
            "dtypes: datetime64[ns](2), float64(2), int64(3), object(14)\n",
            "memory usage: 1.2+ MB\n"
          ]
        }
      ],
      "source": [
        "data.info() #информация"
      ]
    },
    {
      "cell_type": "code",
      "execution_count": null,
      "id": "44627bf2",
      "metadata": {
        "id": "44627bf2",
        "outputId": "23ed8371-b8dd-4cbc-854d-f7891c86794a"
      },
      "outputs": [
        {
          "name": "stdout",
          "output_type": "stream",
          "text": [
            "Количество пропусков : begindate           0\n",
            "enddate             0\n",
            "type                0\n",
            "paperlessbilling    0\n",
            "paymentmethod       0\n",
            "monthlycharges      0\n",
            "totalcharges        0\n",
            "days                0\n",
            "churn               0\n",
            "gender              0\n",
            "seniorcitizen       0\n",
            "partner             0\n",
            "dependents          0\n",
            "internetservice     0\n",
            "onlinesecurity      0\n",
            "onlinebackup        0\n",
            "deviceprotection    0\n",
            "techsupport         0\n",
            "streamingtv         0\n",
            "streamingmovies     0\n",
            "multiplelines       0\n",
            "dtype: int64\n"
          ]
        }
      ],
      "source": [
        "#заменим пропуски на 0, т.е. остутсвие данных услуг\n",
        "data = data.fillna(0)\n",
        "print(\"Количество пропусков :\", data.isna().sum())"
      ]
    },
    {
      "cell_type": "code",
      "execution_count": null,
      "id": "e5bcb041",
      "metadata": {
        "id": "e5bcb041",
        "outputId": "35ae6b41-8af4-453d-a7aa-0905b33c923c"
      },
      "outputs": [
        {
          "data": {
            "text/html": [
              "<div>\n",
              "<style scoped>\n",
              "    .dataframe tbody tr th:only-of-type {\n",
              "        vertical-align: middle;\n",
              "    }\n",
              "\n",
              "    .dataframe tbody tr th {\n",
              "        vertical-align: top;\n",
              "    }\n",
              "\n",
              "    .dataframe thead th {\n",
              "        text-align: right;\n",
              "    }\n",
              "</style>\n",
              "<table border=\"1\" class=\"dataframe\">\n",
              "  <thead>\n",
              "    <tr style=\"text-align: right;\">\n",
              "      <th></th>\n",
              "      <th>begindate</th>\n",
              "      <th>enddate</th>\n",
              "      <th>type</th>\n",
              "      <th>paperlessbilling</th>\n",
              "      <th>paymentmethod</th>\n",
              "      <th>monthlycharges</th>\n",
              "      <th>totalcharges</th>\n",
              "      <th>days</th>\n",
              "      <th>churn</th>\n",
              "      <th>gender</th>\n",
              "      <th>...</th>\n",
              "      <th>partner</th>\n",
              "      <th>dependents</th>\n",
              "      <th>internetservice</th>\n",
              "      <th>onlinesecurity</th>\n",
              "      <th>onlinebackup</th>\n",
              "      <th>deviceprotection</th>\n",
              "      <th>techsupport</th>\n",
              "      <th>streamingtv</th>\n",
              "      <th>streamingmovies</th>\n",
              "      <th>multiplelines</th>\n",
              "    </tr>\n",
              "    <tr>\n",
              "      <th>customerID</th>\n",
              "      <th></th>\n",
              "      <th></th>\n",
              "      <th></th>\n",
              "      <th></th>\n",
              "      <th></th>\n",
              "      <th></th>\n",
              "      <th></th>\n",
              "      <th></th>\n",
              "      <th></th>\n",
              "      <th></th>\n",
              "      <th></th>\n",
              "      <th></th>\n",
              "      <th></th>\n",
              "      <th></th>\n",
              "      <th></th>\n",
              "      <th></th>\n",
              "      <th></th>\n",
              "      <th></th>\n",
              "      <th></th>\n",
              "      <th></th>\n",
              "      <th></th>\n",
              "    </tr>\n",
              "  </thead>\n",
              "  <tbody>\n",
              "    <tr>\n",
              "      <th>7590-VHVEG</th>\n",
              "      <td>2020-01-01</td>\n",
              "      <td>2020-02-01</td>\n",
              "      <td>Month-to-month</td>\n",
              "      <td>1</td>\n",
              "      <td>Electronic check</td>\n",
              "      <td>29.85</td>\n",
              "      <td>29.85</td>\n",
              "      <td>31</td>\n",
              "      <td>0</td>\n",
              "      <td>Female</td>\n",
              "      <td>...</td>\n",
              "      <td>1</td>\n",
              "      <td>0</td>\n",
              "      <td>DSL</td>\n",
              "      <td>0</td>\n",
              "      <td>1</td>\n",
              "      <td>0</td>\n",
              "      <td>0</td>\n",
              "      <td>0</td>\n",
              "      <td>0</td>\n",
              "      <td>0</td>\n",
              "    </tr>\n",
              "    <tr>\n",
              "      <th>5575-GNVDE</th>\n",
              "      <td>2017-04-01</td>\n",
              "      <td>2020-02-01</td>\n",
              "      <td>One year</td>\n",
              "      <td>0</td>\n",
              "      <td>Mailed check</td>\n",
              "      <td>56.95</td>\n",
              "      <td>1889.50</td>\n",
              "      <td>1036</td>\n",
              "      <td>0</td>\n",
              "      <td>Male</td>\n",
              "      <td>...</td>\n",
              "      <td>0</td>\n",
              "      <td>0</td>\n",
              "      <td>DSL</td>\n",
              "      <td>1</td>\n",
              "      <td>0</td>\n",
              "      <td>1</td>\n",
              "      <td>0</td>\n",
              "      <td>0</td>\n",
              "      <td>0</td>\n",
              "      <td>0</td>\n",
              "    </tr>\n",
              "    <tr>\n",
              "      <th>3668-QPYBK</th>\n",
              "      <td>2019-10-01</td>\n",
              "      <td>2019-12-01</td>\n",
              "      <td>Month-to-month</td>\n",
              "      <td>1</td>\n",
              "      <td>Mailed check</td>\n",
              "      <td>53.85</td>\n",
              "      <td>108.15</td>\n",
              "      <td>61</td>\n",
              "      <td>1</td>\n",
              "      <td>Male</td>\n",
              "      <td>...</td>\n",
              "      <td>0</td>\n",
              "      <td>0</td>\n",
              "      <td>DSL</td>\n",
              "      <td>1</td>\n",
              "      <td>1</td>\n",
              "      <td>0</td>\n",
              "      <td>0</td>\n",
              "      <td>0</td>\n",
              "      <td>0</td>\n",
              "      <td>0</td>\n",
              "    </tr>\n",
              "    <tr>\n",
              "      <th>7795-CFOCW</th>\n",
              "      <td>2016-05-01</td>\n",
              "      <td>2020-02-01</td>\n",
              "      <td>One year</td>\n",
              "      <td>0</td>\n",
              "      <td>Bank transfer (automatic)</td>\n",
              "      <td>42.30</td>\n",
              "      <td>1840.75</td>\n",
              "      <td>1371</td>\n",
              "      <td>0</td>\n",
              "      <td>Male</td>\n",
              "      <td>...</td>\n",
              "      <td>0</td>\n",
              "      <td>0</td>\n",
              "      <td>DSL</td>\n",
              "      <td>1</td>\n",
              "      <td>0</td>\n",
              "      <td>1</td>\n",
              "      <td>1</td>\n",
              "      <td>0</td>\n",
              "      <td>0</td>\n",
              "      <td>0</td>\n",
              "    </tr>\n",
              "    <tr>\n",
              "      <th>9237-HQITU</th>\n",
              "      <td>2019-09-01</td>\n",
              "      <td>2019-11-01</td>\n",
              "      <td>Month-to-month</td>\n",
              "      <td>1</td>\n",
              "      <td>Electronic check</td>\n",
              "      <td>70.70</td>\n",
              "      <td>151.65</td>\n",
              "      <td>61</td>\n",
              "      <td>1</td>\n",
              "      <td>Female</td>\n",
              "      <td>...</td>\n",
              "      <td>0</td>\n",
              "      <td>0</td>\n",
              "      <td>Fiber optic</td>\n",
              "      <td>0</td>\n",
              "      <td>0</td>\n",
              "      <td>0</td>\n",
              "      <td>0</td>\n",
              "      <td>0</td>\n",
              "      <td>0</td>\n",
              "      <td>0</td>\n",
              "    </tr>\n",
              "  </tbody>\n",
              "</table>\n",
              "<p>5 rows × 21 columns</p>\n",
              "</div>"
            ],
            "text/plain": [
              "            begindate    enddate            type  paperlessbilling  \\\n",
              "customerID                                                           \n",
              "7590-VHVEG 2020-01-01 2020-02-01  Month-to-month                 1   \n",
              "5575-GNVDE 2017-04-01 2020-02-01        One year                 0   \n",
              "3668-QPYBK 2019-10-01 2019-12-01  Month-to-month                 1   \n",
              "7795-CFOCW 2016-05-01 2020-02-01        One year                 0   \n",
              "9237-HQITU 2019-09-01 2019-11-01  Month-to-month                 1   \n",
              "\n",
              "                        paymentmethod  monthlycharges  totalcharges  days  \\\n",
              "customerID                                                                  \n",
              "7590-VHVEG           Electronic check           29.85         29.85    31   \n",
              "5575-GNVDE               Mailed check           56.95       1889.50  1036   \n",
              "3668-QPYBK               Mailed check           53.85        108.15    61   \n",
              "7795-CFOCW  Bank transfer (automatic)           42.30       1840.75  1371   \n",
              "9237-HQITU           Electronic check           70.70        151.65    61   \n",
              "\n",
              "            churn  gender  ...  partner  dependents  internetservice  \\\n",
              "customerID                 ...                                         \n",
              "7590-VHVEG      0  Female  ...        1           0              DSL   \n",
              "5575-GNVDE      0    Male  ...        0           0              DSL   \n",
              "3668-QPYBK      1    Male  ...        0           0              DSL   \n",
              "7795-CFOCW      0    Male  ...        0           0              DSL   \n",
              "9237-HQITU      1  Female  ...        0           0      Fiber optic   \n",
              "\n",
              "           onlinesecurity  onlinebackup  deviceprotection  techsupport  \\\n",
              "customerID                                                               \n",
              "7590-VHVEG              0             1                 0            0   \n",
              "5575-GNVDE              1             0                 1            0   \n",
              "3668-QPYBK              1             1                 0            0   \n",
              "7795-CFOCW              1             0                 1            1   \n",
              "9237-HQITU              0             0                 0            0   \n",
              "\n",
              "            streamingtv  streamingmovies  multiplelines  \n",
              "customerID                                               \n",
              "7590-VHVEG            0                0              0  \n",
              "5575-GNVDE            0                0              0  \n",
              "3668-QPYBK            0                0              0  \n",
              "7795-CFOCW            0                0              0  \n",
              "9237-HQITU            0                0              0  \n",
              "\n",
              "[5 rows x 21 columns]"
            ]
          },
          "execution_count": 45,
          "metadata": {},
          "output_type": "execute_result"
        }
      ],
      "source": [
        "data.head(5)"
      ]
    },
    {
      "cell_type": "markdown",
      "id": "e120dd6c",
      "metadata": {
        "id": "e120dd6c"
      },
      "source": [
        "На данном этапе можем увидеть, что столбцы обозначающие даты, стоит удалить, т.к. мы уже выделили для них необходимые данные, а именно - количество дней сколько клиент пользуется данной компанией."
      ]
    },
    {
      "cell_type": "code",
      "execution_count": null,
      "id": "2f0941f0",
      "metadata": {
        "id": "2f0941f0"
      },
      "outputs": [],
      "source": [
        "data = data.drop([\"begindate\", \"enddate\"], axis = 1) #удаляем ненужные столбцы"
      ]
    },
    {
      "cell_type": "markdown",
      "id": "05d52f0a",
      "metadata": {
        "id": "05d52f0a"
      },
      "source": [
        "## Анализ данных"
      ]
    },
    {
      "cell_type": "markdown",
      "id": "aa8a8754",
      "metadata": {
        "id": "aa8a8754"
      },
      "source": [
        "### Количественные признаки"
      ]
    },
    {
      "cell_type": "code",
      "execution_count": null,
      "id": "cc9de966",
      "metadata": {
        "id": "cc9de966",
        "outputId": "bc908fb2-e7fd-4f63-e2a6-c9630ce1ddd1"
      },
      "outputs": [
        {
          "data": {
            "text/html": [
              "<div>\n",
              "<style scoped>\n",
              "    .dataframe tbody tr th:only-of-type {\n",
              "        vertical-align: middle;\n",
              "    }\n",
              "\n",
              "    .dataframe tbody tr th {\n",
              "        vertical-align: top;\n",
              "    }\n",
              "\n",
              "    .dataframe thead th {\n",
              "        text-align: right;\n",
              "    }\n",
              "</style>\n",
              "<table border=\"1\" class=\"dataframe\">\n",
              "  <thead>\n",
              "    <tr style=\"text-align: right;\">\n",
              "      <th></th>\n",
              "      <th>paperlessbilling</th>\n",
              "      <th>monthlycharges</th>\n",
              "      <th>totalcharges</th>\n",
              "      <th>days</th>\n",
              "      <th>churn</th>\n",
              "      <th>seniorcitizen</th>\n",
              "      <th>partner</th>\n",
              "      <th>dependents</th>\n",
              "      <th>onlinesecurity</th>\n",
              "      <th>onlinebackup</th>\n",
              "      <th>deviceprotection</th>\n",
              "      <th>techsupport</th>\n",
              "      <th>streamingtv</th>\n",
              "      <th>streamingmovies</th>\n",
              "      <th>multiplelines</th>\n",
              "    </tr>\n",
              "  </thead>\n",
              "  <tbody>\n",
              "    <tr>\n",
              "      <th>count</th>\n",
              "      <td>7032.000000</td>\n",
              "      <td>7032.000000</td>\n",
              "      <td>7032.000000</td>\n",
              "      <td>7032.000000</td>\n",
              "      <td>7032.000000</td>\n",
              "      <td>7032.000000</td>\n",
              "      <td>7032.000000</td>\n",
              "      <td>7032.000000</td>\n",
              "      <td>7032.000000</td>\n",
              "      <td>7032.000000</td>\n",
              "      <td>7032.000000</td>\n",
              "      <td>7032.000000</td>\n",
              "      <td>7032.000000</td>\n",
              "      <td>7032.000000</td>\n",
              "      <td>7032.000000</td>\n",
              "    </tr>\n",
              "    <tr>\n",
              "      <th>mean</th>\n",
              "      <td>0.592719</td>\n",
              "      <td>64.798208</td>\n",
              "      <td>2283.300441</td>\n",
              "      <td>987.538538</td>\n",
              "      <td>0.265785</td>\n",
              "      <td>0.162400</td>\n",
              "      <td>0.482509</td>\n",
              "      <td>0.298493</td>\n",
              "      <td>0.286547</td>\n",
              "      <td>0.344852</td>\n",
              "      <td>0.343857</td>\n",
              "      <td>0.290102</td>\n",
              "      <td>0.384386</td>\n",
              "      <td>0.388367</td>\n",
              "      <td>0.421928</td>\n",
              "    </tr>\n",
              "    <tr>\n",
              "      <th>std</th>\n",
              "      <td>0.491363</td>\n",
              "      <td>30.085974</td>\n",
              "      <td>2266.771362</td>\n",
              "      <td>747.153663</td>\n",
              "      <td>0.441782</td>\n",
              "      <td>0.368844</td>\n",
              "      <td>0.499729</td>\n",
              "      <td>0.457629</td>\n",
              "      <td>0.452180</td>\n",
              "      <td>0.475354</td>\n",
              "      <td>0.475028</td>\n",
              "      <td>0.453842</td>\n",
              "      <td>0.486484</td>\n",
              "      <td>0.487414</td>\n",
              "      <td>0.493902</td>\n",
              "    </tr>\n",
              "    <tr>\n",
              "      <th>min</th>\n",
              "      <td>0.000000</td>\n",
              "      <td>18.250000</td>\n",
              "      <td>18.800000</td>\n",
              "      <td>30.000000</td>\n",
              "      <td>0.000000</td>\n",
              "      <td>0.000000</td>\n",
              "      <td>0.000000</td>\n",
              "      <td>0.000000</td>\n",
              "      <td>0.000000</td>\n",
              "      <td>0.000000</td>\n",
              "      <td>0.000000</td>\n",
              "      <td>0.000000</td>\n",
              "      <td>0.000000</td>\n",
              "      <td>0.000000</td>\n",
              "      <td>0.000000</td>\n",
              "    </tr>\n",
              "    <tr>\n",
              "      <th>25%</th>\n",
              "      <td>0.000000</td>\n",
              "      <td>35.587500</td>\n",
              "      <td>401.450000</td>\n",
              "      <td>275.000000</td>\n",
              "      <td>0.000000</td>\n",
              "      <td>0.000000</td>\n",
              "      <td>0.000000</td>\n",
              "      <td>0.000000</td>\n",
              "      <td>0.000000</td>\n",
              "      <td>0.000000</td>\n",
              "      <td>0.000000</td>\n",
              "      <td>0.000000</td>\n",
              "      <td>0.000000</td>\n",
              "      <td>0.000000</td>\n",
              "      <td>0.000000</td>\n",
              "    </tr>\n",
              "    <tr>\n",
              "      <th>50%</th>\n",
              "      <td>1.000000</td>\n",
              "      <td>70.350000</td>\n",
              "      <td>1397.475000</td>\n",
              "      <td>883.000000</td>\n",
              "      <td>0.000000</td>\n",
              "      <td>0.000000</td>\n",
              "      <td>0.000000</td>\n",
              "      <td>0.000000</td>\n",
              "      <td>0.000000</td>\n",
              "      <td>0.000000</td>\n",
              "      <td>0.000000</td>\n",
              "      <td>0.000000</td>\n",
              "      <td>0.000000</td>\n",
              "      <td>0.000000</td>\n",
              "      <td>0.000000</td>\n",
              "    </tr>\n",
              "    <tr>\n",
              "      <th>75%</th>\n",
              "      <td>1.000000</td>\n",
              "      <td>89.862500</td>\n",
              "      <td>3794.737500</td>\n",
              "      <td>1676.000000</td>\n",
              "      <td>1.000000</td>\n",
              "      <td>0.000000</td>\n",
              "      <td>1.000000</td>\n",
              "      <td>1.000000</td>\n",
              "      <td>1.000000</td>\n",
              "      <td>1.000000</td>\n",
              "      <td>1.000000</td>\n",
              "      <td>1.000000</td>\n",
              "      <td>1.000000</td>\n",
              "      <td>1.000000</td>\n",
              "      <td>1.000000</td>\n",
              "    </tr>\n",
              "    <tr>\n",
              "      <th>max</th>\n",
              "      <td>1.000000</td>\n",
              "      <td>118.750000</td>\n",
              "      <td>8684.800000</td>\n",
              "      <td>2191.000000</td>\n",
              "      <td>1.000000</td>\n",
              "      <td>1.000000</td>\n",
              "      <td>1.000000</td>\n",
              "      <td>1.000000</td>\n",
              "      <td>1.000000</td>\n",
              "      <td>1.000000</td>\n",
              "      <td>1.000000</td>\n",
              "      <td>1.000000</td>\n",
              "      <td>1.000000</td>\n",
              "      <td>1.000000</td>\n",
              "      <td>1.000000</td>\n",
              "    </tr>\n",
              "  </tbody>\n",
              "</table>\n",
              "</div>"
            ],
            "text/plain": [
              "       paperlessbilling  monthlycharges  totalcharges         days  \\\n",
              "count       7032.000000     7032.000000   7032.000000  7032.000000   \n",
              "mean           0.592719       64.798208   2283.300441   987.538538   \n",
              "std            0.491363       30.085974   2266.771362   747.153663   \n",
              "min            0.000000       18.250000     18.800000    30.000000   \n",
              "25%            0.000000       35.587500    401.450000   275.000000   \n",
              "50%            1.000000       70.350000   1397.475000   883.000000   \n",
              "75%            1.000000       89.862500   3794.737500  1676.000000   \n",
              "max            1.000000      118.750000   8684.800000  2191.000000   \n",
              "\n",
              "             churn  seniorcitizen      partner   dependents  onlinesecurity  \\\n",
              "count  7032.000000    7032.000000  7032.000000  7032.000000     7032.000000   \n",
              "mean      0.265785       0.162400     0.482509     0.298493        0.286547   \n",
              "std       0.441782       0.368844     0.499729     0.457629        0.452180   \n",
              "min       0.000000       0.000000     0.000000     0.000000        0.000000   \n",
              "25%       0.000000       0.000000     0.000000     0.000000        0.000000   \n",
              "50%       0.000000       0.000000     0.000000     0.000000        0.000000   \n",
              "75%       1.000000       0.000000     1.000000     1.000000        1.000000   \n",
              "max       1.000000       1.000000     1.000000     1.000000        1.000000   \n",
              "\n",
              "       onlinebackup  deviceprotection  techsupport  streamingtv  \\\n",
              "count   7032.000000       7032.000000  7032.000000  7032.000000   \n",
              "mean       0.344852          0.343857     0.290102     0.384386   \n",
              "std        0.475354          0.475028     0.453842     0.486484   \n",
              "min        0.000000          0.000000     0.000000     0.000000   \n",
              "25%        0.000000          0.000000     0.000000     0.000000   \n",
              "50%        0.000000          0.000000     0.000000     0.000000   \n",
              "75%        1.000000          1.000000     1.000000     1.000000   \n",
              "max        1.000000          1.000000     1.000000     1.000000   \n",
              "\n",
              "       streamingmovies  multiplelines  \n",
              "count      7032.000000    7032.000000  \n",
              "mean          0.388367       0.421928  \n",
              "std           0.487414       0.493902  \n",
              "min           0.000000       0.000000  \n",
              "25%           0.000000       0.000000  \n",
              "50%           0.000000       0.000000  \n",
              "75%           1.000000       1.000000  \n",
              "max           1.000000       1.000000  "
            ]
          },
          "execution_count": 47,
          "metadata": {},
          "output_type": "execute_result"
        }
      ],
      "source": [
        "data.describe() #информация о данных"
      ]
    },
    {
      "cell_type": "code",
      "execution_count": null,
      "id": "29b9f6e8",
      "metadata": {
        "id": "29b9f6e8",
        "outputId": "b7c33aca-d45e-4d8e-fd80-fdbdb0d195fa"
      },
      "outputs": [
        {
          "data": {
            "image/png": "[encoded data removed]",
            "text/plain": [
              "<Figure size 504x504 with 1 Axes>"
            ]
          },
          "metadata": {
            "needs_background": "light"
          },
          "output_type": "display_data"
        },
        {
          "data": {
            "image/png": "[encoded data removed]",
            "text/plain": [
              "<Figure size 504x504 with 1 Axes>"
            ]
          },
          "metadata": {
            "needs_background": "light"
          },
          "output_type": "display_data"
        },
        {
          "data": {
            "image/png": "[encoded data removed]",
            "text/plain": [
              "<Figure size 504x504 with 1 Axes>"
            ]
          },
          "metadata": {
            "needs_background": "light"
          },
          "output_type": "display_data"
        }
      ],
      "source": [
        "numerical_signs = [\"monthlycharges\", \"days\", \"totalcharges\"] #построим ящик к усиками для численных признаков\n",
        "for x in numerical_signs:\n",
        "    data.boxplot(column = x, grid = True, figsize = (7,7))\n",
        "    plt.show()"
      ]
    },
    {
      "cell_type": "markdown",
      "id": "99906523",
      "metadata": {
        "id": "99906523"
      },
      "source": [
        "Для ежемесячного платежа, количества дней и общей выручки, построив ящик с усами, можно сделать вывод, что данные в порядке. Для суммы платежа и количества дней -  графики чуть ли не симметричны. Для общей выручки, на мой взгляд -  есть клиенты, которые платят больше всех остальных, а это нормально на мой взгляд. Перейдем к построению гистограмм."
      ]
    },
    {
      "cell_type": "code",
      "execution_count": null,
      "id": "cd643862",
      "metadata": {
        "id": "cd643862",
        "outputId": "87a4646d-b6ff-486a-f8be-be6b21ab1162"
      },
      "outputs": [
        {
          "data": {
            "text/plain": [
              "(20.0, 120.0)"
            ]
          },
          "execution_count": 49,
          "metadata": {},
          "output_type": "execute_result"
        },
        {
          "data": {
            "image/png": "[encoded data removed]",
            "text/plain": [
              "<Figure size 504x504 with 1 Axes>"
            ]
          },
          "metadata": {
            "needs_background": "light"
          },
          "output_type": "display_data"
        }
      ],
      "source": [
        "data.plot( y = \"monthlycharges\", kind = \"hist\", label = \"ежемесяный платеж\", figsize = (7,7))\n",
        "plt.xlim(20, 120)"
      ]
    },
    {
      "cell_type": "markdown",
      "id": "c43d7b50",
      "metadata": {
        "id": "c43d7b50"
      },
      "source": [
        "Ежемесяные платежи :\n",
        "\n",
        "1. Виден пик в самом начале, что свидетельствует о наличии огромной стартовой аудитории.\n",
        "2. Далее пик в от 70 до 100 - это самое распространненное пространство платажей. Boxplot подтвержает, что среднее значение - 70, а пик - 85.\n",
        "3. Существует часть пользователей, которые скорее всего имеют полный пакет услуг, таких немного, но они присутсвуют.\n",
        "4. Аномальных значений нет."
      ]
    },
    {
      "cell_type": "code",
      "execution_count": null,
      "id": "9b5932e1",
      "metadata": {
        "id": "9b5932e1",
        "outputId": "47d56d31-ae54-44e7-be51-c2808d65071b"
      },
      "outputs": [
        {
          "data": {
            "text/plain": [
              "(30.0, 2200.0)"
            ]
          },
          "execution_count": 50,
          "metadata": {},
          "output_type": "execute_result"
        },
        {
          "data": {
            "image/png": "[encoded data removed]",
            "text/plain": [
              "<Figure size 504x504 with 1 Axes>"
            ]
          },
          "metadata": {
            "needs_background": "light"
          },
          "output_type": "display_data"
        }
      ],
      "source": [
        "data.plot( y = \"days\", kind = \"hist\", label = \"количество дней\", color = \"red\", figsize = (7,7))\n",
        "plt.xlim(30, 2200)"
      ]
    },
    {
      "cell_type": "markdown",
      "id": "d9bb0914",
      "metadata": {
        "id": "d9bb0914"
      },
      "source": [
        "Количество дней\n",
        "\n",
        "1. Логично, что основная масса пользуется, услугами около 8 месяцев, потом по каким - то причинам уходят из компании, оставшиеся с высокой долей вероятностью остаются в пользоваться услугами.\n",
        "2. В нашем датасете достаточно большое количество пользователей, которые пользуются до сих пор услугами.\n",
        "3. Аномальных значений нет.\n",
        "4. Пользователи, которые изначально платят больше всех в дальнейшем уходят из компании."
      ]
    },
    {
      "cell_type": "code",
      "execution_count": null,
      "id": "d661d0cd",
      "metadata": {
        "id": "d661d0cd",
        "outputId": "d36a67c0-4f6b-4389-c205-3e62bbd6d5d7"
      },
      "outputs": [
        {
          "data": {
            "text/plain": [
              "(0.0, 9000.0)"
            ]
          },
          "execution_count": 51,
          "metadata": {},
          "output_type": "execute_result"
        },
        {
          "data": {
            "image/png": "[encoded data removed]",
            "text/plain": [
              "<Figure size 720x504 with 1 Axes>"
            ]
          },
          "metadata": {
            "needs_background": "light"
          },
          "output_type": "display_data"
        }
      ],
      "source": [
        "data.plot( y = \"totalcharges\", kind = \"hist\", label = \"Общая сумма платажей\", color = \"green\", figsize = (10,7))\n",
        "plt.xlim(0, 9000)"
      ]
    },
    {
      "cell_type": "markdown",
      "id": "94af0841",
      "metadata": {
        "id": "94af0841"
      },
      "source": [
        "Общая сумма платажей:\n",
        "\n",
        "1. График идет на убывание, при этом достаточно равномерно.\n",
        "2. Аномальных значений нет."
      ]
    },
    {
      "cell_type": "markdown",
      "id": "1283697f",
      "metadata": {
        "id": "1283697f"
      },
      "source": [
        "### Категориальные признаки"
      ]
    },
    {
      "cell_type": "code",
      "execution_count": null,
      "id": "6b25434b",
      "metadata": {
        "id": "6b25434b",
        "outputId": "6be6f3de-ec0d-4713-8c82-893dbe87676c"
      },
      "outputs": [
        {
          "data": {
            "text/plain": [
              "<AxesSubplot:xlabel='type'>"
            ]
          },
          "execution_count": 52,
          "metadata": {},
          "output_type": "execute_result"
        },
        {
          "data": {
            "image/png": "[encoded data removed]",
            "text/plain": [
              "<Figure size 432x288 with 1 Axes>"
            ]
          },
          "metadata": {
            "needs_background": "light"
          },
          "output_type": "display_data"
        }
      ],
      "source": [
        "data.pivot_table(index = \"type\", values = \"totalcharges\", aggfunc = \"sum\").plot(kind = \"bar\")"
      ]
    },
    {
      "cell_type": "markdown",
      "id": "59973b85",
      "metadata": {
        "id": "59973b85"
      },
      "source": [
        "Самые большие выручки от тех пользователей, которые используют контракт на 2 года, чуть меньше те, которые платят каждый месяц."
      ]
    },
    {
      "cell_type": "code",
      "execution_count": null,
      "id": "762b990a",
      "metadata": {
        "id": "762b990a",
        "outputId": "433aab65-2d53-4b33-b372-5197f190914e"
      },
      "outputs": [
        {
          "data": {
            "text/plain": [
              "<AxesSubplot:xlabel='paymentmethod'>"
            ]
          },
          "execution_count": 53,
          "metadata": {},
          "output_type": "execute_result"
        },
        {
          "data": {
            "image/png": "[encoded data removed]",
            "text/plain": [
              "<Figure size 432x288 with 1 Axes>"
            ]
          },
          "metadata": {
            "needs_background": "light"
          },
          "output_type": "display_data"
        }
      ],
      "source": [
        "data.pivot_table(index = \"paymentmethod\", values = \"totalcharges\", aggfunc = \"sum\").plot(kind = \"bar\")"
      ]
    },
    {
      "cell_type": "markdown",
      "id": "9ac024a3",
      "metadata": {
        "id": "9ac024a3"
      },
      "source": [
        "Больше всего денег приносят электронные платежи, что логично, потому что многие используют автоплатеж и октлючают его редко. К тому же списание происходит автоматически, что удобнее."
      ]
    },
    {
      "cell_type": "code",
      "execution_count": null,
      "id": "31b0b19a",
      "metadata": {
        "id": "31b0b19a",
        "outputId": "a2ab8011-2f71-4fc1-fcc1-2873561f6523"
      },
      "outputs": [
        {
          "data": {
            "text/plain": [
              "<AxesSubplot:xlabel='partner'>"
            ]
          },
          "execution_count": 54,
          "metadata": {},
          "output_type": "execute_result"
        },
        {
          "data": {
            "image/png": "[encoded data removed]",
            "text/plain": [
              "<Figure size 432x288 with 1 Axes>"
            ]
          },
          "metadata": {
            "needs_background": "light"
          },
          "output_type": "display_data"
        }
      ],
      "source": [
        "data.pivot_table(index = \"partner\", values = \"totalcharges\", aggfunc = \"count\").plot(kind = \"bar\")"
      ]
    },
    {
      "cell_type": "code",
      "execution_count": null,
      "id": "afdab1f2",
      "metadata": {
        "id": "afdab1f2",
        "outputId": "d1830da6-4aec-4a4a-a0b4-916cd8acc842"
      },
      "outputs": [
        {
          "data": {
            "text/plain": [
              "<AxesSubplot:xlabel='partner'>"
            ]
          },
          "execution_count": 55,
          "metadata": {},
          "output_type": "execute_result"
        },
        {
          "data": {
            "image/png": "[encoded data removed]",
            "text/plain": [
              "<Figure size 432x288 with 1 Axes>"
            ]
          },
          "metadata": {
            "needs_background": "light"
          },
          "output_type": "display_data"
        }
      ],
      "source": [
        "data.pivot_table(index = \"partner\", values = \"totalcharges\", aggfunc = \"sum\").plot(kind = \"bar\")"
      ]
    },
    {
      "cell_type": "markdown",
      "id": "7413a249",
      "metadata": {
        "id": "7413a249"
      },
      "source": [
        "Люди имеющие партнера платят больше, хотя в выборке их количество примерно одинаково."
      ]
    },
    {
      "cell_type": "code",
      "execution_count": null,
      "id": "ca582b37",
      "metadata": {
        "id": "ca582b37",
        "outputId": "24172c2c-29ba-46d8-f46d-5047e7d746e9"
      },
      "outputs": [
        {
          "data": {
            "text/plain": [
              "<AxesSubplot:xlabel='internetservice'>"
            ]
          },
          "execution_count": 56,
          "metadata": {},
          "output_type": "execute_result"
        },
        {
          "data": {
            "image/png": "[encoded data removed]",
            "text/plain": [
              "<Figure size 432x288 with 1 Axes>"
            ]
          },
          "metadata": {
            "needs_background": "light"
          },
          "output_type": "display_data"
        }
      ],
      "source": [
        "data.pivot_table(index = \"internetservice\", values = \"totalcharges\", aggfunc = \"count\").plot(kind = \"bar\")"
      ]
    },
    {
      "cell_type": "markdown",
      "id": "e71413b8",
      "metadata": {
        "id": "e71413b8"
      },
      "source": [
        "В основном больше всего денежных средств приносят клиенты, использующие оптику."
      ]
    },
    {
      "cell_type": "code",
      "execution_count": null,
      "id": "ee9ecf5a",
      "metadata": {
        "id": "ee9ecf5a",
        "outputId": "1d315e28-5bf7-4b38-fbc5-c94ac97842d6"
      },
      "outputs": [
        {
          "data": {
            "text/plain": [
              "<AxesSubplot:xlabel='gender'>"
            ]
          },
          "execution_count": 57,
          "metadata": {},
          "output_type": "execute_result"
        },
        {
          "data": {
            "image/png": "[encoded data removed]",
            "text/plain": [
              "<Figure size 432x288 with 1 Axes>"
            ]
          },
          "metadata": {
            "needs_background": "light"
          },
          "output_type": "display_data"
        }
      ],
      "source": [
        "data.pivot_table(index = \"gender\", values = \"totalcharges\", aggfunc = \"count\").plot(kind = \"bar\")"
      ]
    },
    {
      "cell_type": "code",
      "execution_count": null,
      "id": "3bae9eaa",
      "metadata": {
        "id": "3bae9eaa",
        "outputId": "48d6ab6f-bc4c-4d36-99fd-50c328273198"
      },
      "outputs": [
        {
          "data": {
            "text/plain": [
              "<AxesSubplot:xlabel='gender'>"
            ]
          },
          "execution_count": 58,
          "metadata": {},
          "output_type": "execute_result"
        },
        {
          "data": {
            "image/png": "[encoded data removed]",
            "text/plain": [
              "<Figure size 432x288 with 1 Axes>"
            ]
          },
          "metadata": {
            "needs_background": "light"
          },
          "output_type": "display_data"
        }
      ],
      "source": [
        "data.pivot_table(index = \"gender\", values = \"totalcharges\", aggfunc = \"count\").plot(kind = \"bar\")"
      ]
    },
    {
      "cell_type": "markdown",
      "id": "fc0aa8f6",
      "metadata": {
        "id": "fc0aa8f6"
      },
      "source": [
        "Мужчин и женщин примерно одинаково  и платят так же)"
      ]
    },
    {
      "cell_type": "code",
      "execution_count": null,
      "id": "b7289195",
      "metadata": {
        "id": "b7289195",
        "outputId": "c36761df-e878-478a-af34-c097e2a09177"
      },
      "outputs": [
        {
          "data": {
            "text/plain": [
              "<AxesSubplot:xlabel='seniorcitizen'>"
            ]
          },
          "execution_count": 59,
          "metadata": {},
          "output_type": "execute_result"
        },
        {
          "data": {
            "image/png": "[encoded data removed]",
            "text/plain": [
              "<Figure size 432x288 with 1 Axes>"
            ]
          },
          "metadata": {
            "needs_background": "light"
          },
          "output_type": "display_data"
        }
      ],
      "source": [
        "data.pivot_table(index = \"seniorcitizen\", values = \"totalcharges\", aggfunc = \"count\").plot(kind = \"bar\")"
      ]
    },
    {
      "cell_type": "markdown",
      "id": "0a3110ba",
      "metadata": {
        "id": "0a3110ba"
      },
      "source": [
        "Доля пенсионеров небольшая в выборке."
      ]
    },
    {
      "cell_type": "code",
      "execution_count": null,
      "id": "67eb1ce9",
      "metadata": {
        "id": "67eb1ce9",
        "outputId": "2141eb01-cc80-4750-c7b4-122adf483d0f"
      },
      "outputs": [
        {
          "data": {
            "text/plain": [
              "<AxesSubplot:xlabel='dependents'>"
            ]
          },
          "execution_count": 60,
          "metadata": {},
          "output_type": "execute_result"
        },
        {
          "data": {
            "image/png": "[encoded data removed]",
            "text/plain": [
              "<Figure size 432x288 with 1 Axes>"
            ]
          },
          "metadata": {
            "needs_background": "light"
          },
          "output_type": "display_data"
        }
      ],
      "source": [
        "data.pivot_table(index = \"dependents\", values = \"totalcharges\", aggfunc = \"count\").plot(kind = \"bar\")"
      ]
    },
    {
      "cell_type": "markdown",
      "id": "3dcd0d71",
      "metadata": {
        "id": "3dcd0d71"
      },
      "source": [
        "Иждвинцев немного у пользователей."
      ]
    },
    {
      "cell_type": "code",
      "execution_count": null,
      "id": "9e3a1503",
      "metadata": {
        "id": "9e3a1503",
        "outputId": "86693093-8e09-48fa-e90f-d304bf16742d"
      },
      "outputs": [
        {
          "data": {
            "text/plain": [
              "<AxesSubplot:xlabel='onlinesecurity'>"
            ]
          },
          "execution_count": 61,
          "metadata": {},
          "output_type": "execute_result"
        },
        {
          "data": {
            "image/png": "[encoded data removed]",
            "text/plain": [
              "<Figure size 432x288 with 1 Axes>"
            ]
          },
          "metadata": {
            "needs_background": "light"
          },
          "output_type": "display_data"
        }
      ],
      "source": [
        "data.pivot_table(index = \"onlinesecurity\", values = \"totalcharges\", aggfunc = \"count\").plot(kind = \"bar\")"
      ]
    },
    {
      "cell_type": "code",
      "execution_count": null,
      "id": "d65c103a",
      "metadata": {
        "id": "d65c103a",
        "outputId": "4ef04025-de64-4927-f56c-8fa212755de8"
      },
      "outputs": [
        {
          "data": {
            "text/plain": [
              "<AxesSubplot:xlabel='onlinebackup'>"
            ]
          },
          "execution_count": 62,
          "metadata": {},
          "output_type": "execute_result"
        },
        {
          "data": {
            "image/png": "[encoded data removed]",
            "text/plain": [
              "<Figure size 432x288 with 1 Axes>"
            ]
          },
          "metadata": {
            "needs_background": "light"
          },
          "output_type": "display_data"
        }
      ],
      "source": [
        "data.pivot_table(index = \"onlinebackup\", values = \"totalcharges\", aggfunc = \"count\").plot(kind = \"bar\")"
      ]
    },
    {
      "cell_type": "code",
      "execution_count": null,
      "id": "6d6a52e7",
      "metadata": {
        "id": "6d6a52e7",
        "outputId": "bb45c7a7-5900-4711-eaa1-aaaa82923342"
      },
      "outputs": [
        {
          "data": {
            "text/plain": [
              "<AxesSubplot:xlabel='deviceprotection'>"
            ]
          },
          "execution_count": 63,
          "metadata": {},
          "output_type": "execute_result"
        },
        {
          "data": {
            "image/png": "[encoded data removed]",
            "text/plain": [
              "<Figure size 432x288 with 1 Axes>"
            ]
          },
          "metadata": {
            "needs_background": "light"
          },
          "output_type": "display_data"
        }
      ],
      "source": [
        "data.pivot_table(index = \"deviceprotection\", values = \"totalcharges\", aggfunc = \"count\").plot(kind = \"bar\")"
      ]
    },
    {
      "cell_type": "code",
      "execution_count": null,
      "id": "6d547b70",
      "metadata": {
        "id": "6d547b70",
        "outputId": "1eeadd49-5f0e-46b4-8e34-62fcde957d9c"
      },
      "outputs": [
        {
          "data": {
            "text/plain": [
              "<AxesSubplot:xlabel='techsupport'>"
            ]
          },
          "execution_count": 64,
          "metadata": {},
          "output_type": "execute_result"
        },
        {
          "data": {
            "image/png": "[encoded data removed]",
            "text/plain": [
              "<Figure size 432x288 with 1 Axes>"
            ]
          },
          "metadata": {
            "needs_background": "light"
          },
          "output_type": "display_data"
        }
      ],
      "source": [
        "data.pivot_table(index = \"techsupport\", values = \"totalcharges\", aggfunc = \"count\").plot(kind = \"bar\")"
      ]
    },
    {
      "cell_type": "code",
      "execution_count": null,
      "id": "6776a601",
      "metadata": {
        "id": "6776a601",
        "outputId": "1266b66d-09b8-409c-9fbd-a64719f5a67d"
      },
      "outputs": [
        {
          "data": {
            "text/plain": [
              "<AxesSubplot:xlabel='streamingtv'>"
            ]
          },
          "execution_count": 65,
          "metadata": {},
          "output_type": "execute_result"
        },
        {
          "data": {
            "image/png": "[encoded data removed]",
            "text/plain": [
              "<Figure size 432x288 with 1 Axes>"
            ]
          },
          "metadata": {
            "needs_background": "light"
          },
          "output_type": "display_data"
        }
      ],
      "source": [
        "data.pivot_table(index = \"streamingtv\", values = \"totalcharges\", aggfunc = \"count\").plot(kind = \"bar\")"
      ]
    },
    {
      "cell_type": "code",
      "execution_count": null,
      "id": "cac56c69",
      "metadata": {
        "id": "cac56c69",
        "outputId": "f39fa51e-d39d-4f80-fc6a-800c348a5daf"
      },
      "outputs": [
        {
          "data": {
            "text/plain": [
              "<AxesSubplot:xlabel='streamingmovies'>"
            ]
          },
          "execution_count": 66,
          "metadata": {},
          "output_type": "execute_result"
        },
        {
          "data": {
            "image/png": "[encoded data removed]",
            "text/plain": [
              "<Figure size 432x288 with 1 Axes>"
            ]
          },
          "metadata": {
            "needs_background": "light"
          },
          "output_type": "display_data"
        }
      ],
      "source": [
        "data.pivot_table(index = \"streamingmovies\", values = \"totalcharges\", aggfunc = \"count\").plot(kind = \"bar\")"
      ]
    },
    {
      "cell_type": "code",
      "execution_count": null,
      "id": "54268827",
      "metadata": {
        "id": "54268827",
        "outputId": "53d89ae5-a9b4-4d50-d87e-96d20f0c11af"
      },
      "outputs": [
        {
          "data": {
            "text/plain": [
              "<AxesSubplot:xlabel='multiplelines'>"
            ]
          },
          "execution_count": 67,
          "metadata": {},
          "output_type": "execute_result"
        },
        {
          "data": {
            "image/png": "[encoded data removed]",
            "text/plain": [
              "<Figure size 432x288 with 1 Axes>"
            ]
          },
          "metadata": {
            "needs_background": "light"
          },
          "output_type": "display_data"
        }
      ],
      "source": [
        "data.pivot_table(index = \"multiplelines\", values = \"totalcharges\", aggfunc = \"count\").plot(kind = \"bar\")"
      ]
    },
    {
      "cell_type": "markdown",
      "id": "01192e41",
      "metadata": {
        "id": "01192e41"
      },
      "source": [
        "Дополнительными услугами почти не пользуются, не считая онлайн-стримнговых сервисов а так же многоканальность, их используют чаще, что логично, потому что сейчас пользователям проще покупать услуги телевидения, онлайн-кинотеатров и тому подобное у одного оператора, чтобы не иметь кучу разных подписок."
      ]
    },
    {
      "cell_type": "markdown",
      "id": "197246ef",
      "metadata": {
        "id": "197246ef"
      },
      "source": [
        "Относительно целевого признака :"
      ]
    },
    {
      "cell_type": "code",
      "execution_count": null,
      "id": "07cc96ed",
      "metadata": {
        "id": "07cc96ed",
        "outputId": "1721ce03-2505-434a-b108-44bf50df8d17"
      },
      "outputs": [
        {
          "data": {
            "text/plain": [
              "<AxesSubplot:xlabel='type,churn'>"
            ]
          },
          "execution_count": 68,
          "metadata": {},
          "output_type": "execute_result"
        },
        {
          "data": {
            "image/png": "[encoded data removed]",
            "text/plain": [
              "<Figure size 432x288 with 1 Axes>"
            ]
          },
          "metadata": {
            "needs_background": "light"
          },
          "output_type": "display_data"
        }
      ],
      "source": [
        "data.groupby([\"type\", \"churn\"])[\"churn\"].count().plot(kind = \"bar\")"
      ]
    },
    {
      "cell_type": "markdown",
      "id": "d19e0579",
      "metadata": {
        "id": "d19e0579"
      },
      "source": [
        "Количество активных пользователей, c увеличением  длительности контракта падает."
      ]
    },
    {
      "cell_type": "code",
      "execution_count": null,
      "id": "a86c7085",
      "metadata": {
        "id": "a86c7085",
        "outputId": "4545fabd-98c4-4e8b-c463-d690d3e7de37"
      },
      "outputs": [
        {
          "data": {
            "text/plain": [
              "<AxesSubplot:xlabel='gender,churn'>"
            ]
          },
          "execution_count": 69,
          "metadata": {},
          "output_type": "execute_result"
        },
        {
          "data": {
            "image/png": "[encoded data removed]",
            "text/plain": [
              "<Figure size 432x288 with 1 Axes>"
            ]
          },
          "metadata": {
            "needs_background": "light"
          },
          "output_type": "display_data"
        }
      ],
      "source": [
        "data.groupby([\"gender\", \"churn\"])[\"churn\"].count().plot(kind = \"bar\")"
      ]
    },
    {
      "cell_type": "markdown",
      "id": "0cf1f503",
      "metadata": {
        "id": "0cf1f503"
      },
      "source": [
        "Количество мужчин и женщин отказавшихся от подписок и активных, примерно одинаково."
      ]
    },
    {
      "cell_type": "code",
      "execution_count": null,
      "id": "e66377eb",
      "metadata": {
        "scrolled": false,
        "id": "e66377eb",
        "outputId": "3ac7b388-520c-43f6-a328-90291437f8b0"
      },
      "outputs": [
        {
          "data": {
            "text/plain": [
              "<AxesSubplot:xlabel='type,churn'>"
            ]
          },
          "execution_count": 70,
          "metadata": {},
          "output_type": "execute_result"
        },
        {
          "data": {
            "image/png": "[encoded data removed]",
            "text/plain": [
              "<Figure size 432x288 with 1 Axes>"
            ]
          },
          "metadata": {
            "needs_background": "light"
          },
          "output_type": "display_data"
        }
      ],
      "source": [
        "data.groupby([\"type\", \"churn\"])[\"churn\"].count().plot(kind = \"bar\")"
      ]
    },
    {
      "cell_type": "markdown",
      "id": "dc9f508e",
      "metadata": {
        "id": "dc9f508e"
      },
      "source": [
        "Ушедшие клиенты в основном используют короткосрочные контракты или на 2 года."
      ]
    },
    {
      "cell_type": "code",
      "execution_count": null,
      "id": "191beb4e",
      "metadata": {
        "id": "191beb4e",
        "outputId": "892d664d-7161-48f4-dadd-e62513289638"
      },
      "outputs": [
        {
          "data": {
            "text/plain": [
              "<AxesSubplot:xlabel='paymentmethod,churn'>"
            ]
          },
          "execution_count": 71,
          "metadata": {},
          "output_type": "execute_result"
        },
        {
          "data": {
            "image/png": "[encoded data removed]",
            "text/plain": [
              "<Figure size 432x288 with 1 Axes>"
            ]
          },
          "metadata": {
            "needs_background": "light"
          },
          "output_type": "display_data"
        }
      ],
      "source": [
        "data.groupby([\"paymentmethod\", \"churn\"])[\"churn\"].count().plot(kind = \"bar\")"
      ]
    },
    {
      "cell_type": "markdown",
      "id": "eeaa8d8e",
      "metadata": {
        "id": "eeaa8d8e"
      },
      "source": [
        "Использующие электронные платежи уходили активно, что странно, практика показывает обратный случай."
      ]
    },
    {
      "cell_type": "markdown",
      "id": "aa058799",
      "metadata": {
        "id": "aa058799"
      },
      "source": [
        "### Матрица корреляции"
      ]
    },
    {
      "cell_type": "code",
      "execution_count": null,
      "id": "f625a1cb",
      "metadata": {
        "id": "f625a1cb",
        "outputId": "773428fd-fbc7-43da-ca6d-776bd2d1ac05"
      },
      "outputs": [
        {
          "data": {
            "text/plain": [
              "<AxesSubplot:>"
            ]
          },
          "execution_count": 72,
          "metadata": {},
          "output_type": "execute_result"
        },
        {
          "data": {
            "image/png": "[encoded data removed]",
            "text/plain": [
              "<Figure size 504x504 with 2 Axes>"
            ]
          },
          "metadata": {
            "needs_background": "light"
          },
          "output_type": "display_data"
        }
      ],
      "source": [
        "corr_matrix = data.loc[:,[\"days\",\"totalcharges\",\"monthlycharges\"]].corr()  #сама матрица\n",
        "plt.figure(figsize=(7,7)) #для отображения нормального, а не маленького\n",
        "seaborn.heatmap(corr_matrix, annot=True, square=True) #построение"
      ]
    },
    {
      "cell_type": "markdown",
      "id": "849663f0",
      "metadata": {
        "id": "849663f0"
      },
      "source": [
        "Заметим тот факт, что количество дней очень сильно влияет на общую выручку, поэтому чтобы избавиться от мультикорреляции - предлагаю экспериментально удалить столбец \"totalcharges\""
      ]
    },
    {
      "cell_type": "code",
      "execution_count": null,
      "id": "18ab3d22",
      "metadata": {
        "id": "18ab3d22"
      },
      "outputs": [],
      "source": [
        "data = data.drop(\"totalcharges\", axis = 1) #удаляем"
      ]
    },
    {
      "cell_type": "code",
      "execution_count": null,
      "id": "cd6d567b",
      "metadata": {
        "id": "cd6d567b",
        "outputId": "5228a9c3-21eb-47fc-f3b1-f4b212a4b31a"
      },
      "outputs": [
        {
          "data": {
            "text/html": [
              "<div>\n",
              "<style scoped>\n",
              "    .dataframe tbody tr th:only-of-type {\n",
              "        vertical-align: middle;\n",
              "    }\n",
              "\n",
              "    .dataframe tbody tr th {\n",
              "        vertical-align: top;\n",
              "    }\n",
              "\n",
              "    .dataframe thead th {\n",
              "        text-align: right;\n",
              "    }\n",
              "</style>\n",
              "<table border=\"1\" class=\"dataframe\">\n",
              "  <thead>\n",
              "    <tr style=\"text-align: right;\">\n",
              "      <th></th>\n",
              "      <th>type</th>\n",
              "      <th>paperlessbilling</th>\n",
              "      <th>paymentmethod</th>\n",
              "      <th>monthlycharges</th>\n",
              "      <th>days</th>\n",
              "      <th>churn</th>\n",
              "      <th>gender</th>\n",
              "      <th>seniorcitizen</th>\n",
              "      <th>partner</th>\n",
              "      <th>dependents</th>\n",
              "      <th>internetservice</th>\n",
              "      <th>onlinesecurity</th>\n",
              "      <th>onlinebackup</th>\n",
              "      <th>deviceprotection</th>\n",
              "      <th>techsupport</th>\n",
              "      <th>streamingtv</th>\n",
              "      <th>streamingmovies</th>\n",
              "      <th>multiplelines</th>\n",
              "    </tr>\n",
              "    <tr>\n",
              "      <th>customerID</th>\n",
              "      <th></th>\n",
              "      <th></th>\n",
              "      <th></th>\n",
              "      <th></th>\n",
              "      <th></th>\n",
              "      <th></th>\n",
              "      <th></th>\n",
              "      <th></th>\n",
              "      <th></th>\n",
              "      <th></th>\n",
              "      <th></th>\n",
              "      <th></th>\n",
              "      <th></th>\n",
              "      <th></th>\n",
              "      <th></th>\n",
              "      <th></th>\n",
              "      <th></th>\n",
              "      <th></th>\n",
              "    </tr>\n",
              "  </thead>\n",
              "  <tbody>\n",
              "    <tr>\n",
              "      <th>7590-VHVEG</th>\n",
              "      <td>Month-to-month</td>\n",
              "      <td>1</td>\n",
              "      <td>Electronic check</td>\n",
              "      <td>29.85</td>\n",
              "      <td>31</td>\n",
              "      <td>0</td>\n",
              "      <td>Female</td>\n",
              "      <td>0</td>\n",
              "      <td>1</td>\n",
              "      <td>0</td>\n",
              "      <td>DSL</td>\n",
              "      <td>0</td>\n",
              "      <td>1</td>\n",
              "      <td>0</td>\n",
              "      <td>0</td>\n",
              "      <td>0</td>\n",
              "      <td>0</td>\n",
              "      <td>0</td>\n",
              "    </tr>\n",
              "    <tr>\n",
              "      <th>5575-GNVDE</th>\n",
              "      <td>One year</td>\n",
              "      <td>0</td>\n",
              "      <td>Mailed check</td>\n",
              "      <td>56.95</td>\n",
              "      <td>1036</td>\n",
              "      <td>0</td>\n",
              "      <td>Male</td>\n",
              "      <td>0</td>\n",
              "      <td>0</td>\n",
              "      <td>0</td>\n",
              "      <td>DSL</td>\n",
              "      <td>1</td>\n",
              "      <td>0</td>\n",
              "      <td>1</td>\n",
              "      <td>0</td>\n",
              "      <td>0</td>\n",
              "      <td>0</td>\n",
              "      <td>0</td>\n",
              "    </tr>\n",
              "    <tr>\n",
              "      <th>3668-QPYBK</th>\n",
              "      <td>Month-to-month</td>\n",
              "      <td>1</td>\n",
              "      <td>Mailed check</td>\n",
              "      <td>53.85</td>\n",
              "      <td>61</td>\n",
              "      <td>1</td>\n",
              "      <td>Male</td>\n",
              "      <td>0</td>\n",
              "      <td>0</td>\n",
              "      <td>0</td>\n",
              "      <td>DSL</td>\n",
              "      <td>1</td>\n",
              "      <td>1</td>\n",
              "      <td>0</td>\n",
              "      <td>0</td>\n",
              "      <td>0</td>\n",
              "      <td>0</td>\n",
              "      <td>0</td>\n",
              "    </tr>\n",
              "    <tr>\n",
              "      <th>7795-CFOCW</th>\n",
              "      <td>One year</td>\n",
              "      <td>0</td>\n",
              "      <td>Bank transfer (automatic)</td>\n",
              "      <td>42.30</td>\n",
              "      <td>1371</td>\n",
              "      <td>0</td>\n",
              "      <td>Male</td>\n",
              "      <td>0</td>\n",
              "      <td>0</td>\n",
              "      <td>0</td>\n",
              "      <td>DSL</td>\n",
              "      <td>1</td>\n",
              "      <td>0</td>\n",
              "      <td>1</td>\n",
              "      <td>1</td>\n",
              "      <td>0</td>\n",
              "      <td>0</td>\n",
              "      <td>0</td>\n",
              "    </tr>\n",
              "    <tr>\n",
              "      <th>9237-HQITU</th>\n",
              "      <td>Month-to-month</td>\n",
              "      <td>1</td>\n",
              "      <td>Electronic check</td>\n",
              "      <td>70.70</td>\n",
              "      <td>61</td>\n",
              "      <td>1</td>\n",
              "      <td>Female</td>\n",
              "      <td>0</td>\n",
              "      <td>0</td>\n",
              "      <td>0</td>\n",
              "      <td>Fiber optic</td>\n",
              "      <td>0</td>\n",
              "      <td>0</td>\n",
              "      <td>0</td>\n",
              "      <td>0</td>\n",
              "      <td>0</td>\n",
              "      <td>0</td>\n",
              "      <td>0</td>\n",
              "    </tr>\n",
              "    <tr>\n",
              "      <th>...</th>\n",
              "      <td>...</td>\n",
              "      <td>...</td>\n",
              "      <td>...</td>\n",
              "      <td>...</td>\n",
              "      <td>...</td>\n",
              "      <td>...</td>\n",
              "      <td>...</td>\n",
              "      <td>...</td>\n",
              "      <td>...</td>\n",
              "      <td>...</td>\n",
              "      <td>...</td>\n",
              "      <td>...</td>\n",
              "      <td>...</td>\n",
              "      <td>...</td>\n",
              "      <td>...</td>\n",
              "      <td>...</td>\n",
              "      <td>...</td>\n",
              "      <td>...</td>\n",
              "    </tr>\n",
              "    <tr>\n",
              "      <th>6840-RESVB</th>\n",
              "      <td>One year</td>\n",
              "      <td>1</td>\n",
              "      <td>Mailed check</td>\n",
              "      <td>84.80</td>\n",
              "      <td>730</td>\n",
              "      <td>0</td>\n",
              "      <td>Male</td>\n",
              "      <td>0</td>\n",
              "      <td>1</td>\n",
              "      <td>1</td>\n",
              "      <td>DSL</td>\n",
              "      <td>1</td>\n",
              "      <td>0</td>\n",
              "      <td>1</td>\n",
              "      <td>1</td>\n",
              "      <td>1</td>\n",
              "      <td>1</td>\n",
              "      <td>1</td>\n",
              "    </tr>\n",
              "    <tr>\n",
              "      <th>2234-XADUH</th>\n",
              "      <td>One year</td>\n",
              "      <td>1</td>\n",
              "      <td>Credit card (automatic)</td>\n",
              "      <td>103.20</td>\n",
              "      <td>2191</td>\n",
              "      <td>0</td>\n",
              "      <td>Female</td>\n",
              "      <td>0</td>\n",
              "      <td>1</td>\n",
              "      <td>1</td>\n",
              "      <td>Fiber optic</td>\n",
              "      <td>0</td>\n",
              "      <td>1</td>\n",
              "      <td>1</td>\n",
              "      <td>0</td>\n",
              "      <td>1</td>\n",
              "      <td>1</td>\n",
              "      <td>1</td>\n",
              "    </tr>\n",
              "    <tr>\n",
              "      <th>4801-JZAZL</th>\n",
              "      <td>Month-to-month</td>\n",
              "      <td>1</td>\n",
              "      <td>Electronic check</td>\n",
              "      <td>29.60</td>\n",
              "      <td>337</td>\n",
              "      <td>0</td>\n",
              "      <td>Female</td>\n",
              "      <td>0</td>\n",
              "      <td>1</td>\n",
              "      <td>1</td>\n",
              "      <td>DSL</td>\n",
              "      <td>1</td>\n",
              "      <td>0</td>\n",
              "      <td>0</td>\n",
              "      <td>0</td>\n",
              "      <td>0</td>\n",
              "      <td>0</td>\n",
              "      <td>0</td>\n",
              "    </tr>\n",
              "    <tr>\n",
              "      <th>8361-LTMKD</th>\n",
              "      <td>Month-to-month</td>\n",
              "      <td>1</td>\n",
              "      <td>Mailed check</td>\n",
              "      <td>74.40</td>\n",
              "      <td>123</td>\n",
              "      <td>1</td>\n",
              "      <td>Male</td>\n",
              "      <td>1</td>\n",
              "      <td>1</td>\n",
              "      <td>0</td>\n",
              "      <td>Fiber optic</td>\n",
              "      <td>0</td>\n",
              "      <td>0</td>\n",
              "      <td>0</td>\n",
              "      <td>0</td>\n",
              "      <td>0</td>\n",
              "      <td>0</td>\n",
              "      <td>1</td>\n",
              "    </tr>\n",
              "    <tr>\n",
              "      <th>3186-AJIEK</th>\n",
              "      <td>Two year</td>\n",
              "      <td>1</td>\n",
              "      <td>Bank transfer (automatic)</td>\n",
              "      <td>105.65</td>\n",
              "      <td>2010</td>\n",
              "      <td>0</td>\n",
              "      <td>Male</td>\n",
              "      <td>0</td>\n",
              "      <td>0</td>\n",
              "      <td>0</td>\n",
              "      <td>Fiber optic</td>\n",
              "      <td>1</td>\n",
              "      <td>0</td>\n",
              "      <td>1</td>\n",
              "      <td>1</td>\n",
              "      <td>1</td>\n",
              "      <td>1</td>\n",
              "      <td>0</td>\n",
              "    </tr>\n",
              "  </tbody>\n",
              "</table>\n",
              "<p>7032 rows × 18 columns</p>\n",
              "</div>"
            ],
            "text/plain": [
              "                      type  paperlessbilling              paymentmethod  \\\n",
              "customerID                                                                \n",
              "7590-VHVEG  Month-to-month                 1           Electronic check   \n",
              "5575-GNVDE        One year                 0               Mailed check   \n",
              "3668-QPYBK  Month-to-month                 1               Mailed check   \n",
              "7795-CFOCW        One year                 0  Bank transfer (automatic)   \n",
              "9237-HQITU  Month-to-month                 1           Electronic check   \n",
              "...                    ...               ...                        ...   \n",
              "6840-RESVB        One year                 1               Mailed check   \n",
              "2234-XADUH        One year                 1    Credit card (automatic)   \n",
              "4801-JZAZL  Month-to-month                 1           Electronic check   \n",
              "8361-LTMKD  Month-to-month                 1               Mailed check   \n",
              "3186-AJIEK        Two year                 1  Bank transfer (automatic)   \n",
              "\n",
              "            monthlycharges  days  churn  gender  seniorcitizen  partner  \\\n",
              "customerID                                                                \n",
              "7590-VHVEG           29.85    31      0  Female              0        1   \n",
              "5575-GNVDE           56.95  1036      0    Male              0        0   \n",
              "3668-QPYBK           53.85    61      1    Male              0        0   \n",
              "7795-CFOCW           42.30  1371      0    Male              0        0   \n",
              "9237-HQITU           70.70    61      1  Female              0        0   \n",
              "...                    ...   ...    ...     ...            ...      ...   \n",
              "6840-RESVB           84.80   730      0    Male              0        1   \n",
              "2234-XADUH          103.20  2191      0  Female              0        1   \n",
              "4801-JZAZL           29.60   337      0  Female              0        1   \n",
              "8361-LTMKD           74.40   123      1    Male              1        1   \n",
              "3186-AJIEK          105.65  2010      0    Male              0        0   \n",
              "\n",
              "            dependents internetservice  onlinesecurity  onlinebackup  \\\n",
              "customerID                                                             \n",
              "7590-VHVEG           0             DSL               0             1   \n",
              "5575-GNVDE           0             DSL               1             0   \n",
              "3668-QPYBK           0             DSL               1             1   \n",
              "7795-CFOCW           0             DSL               1             0   \n",
              "9237-HQITU           0     Fiber optic               0             0   \n",
              "...                ...             ...             ...           ...   \n",
              "6840-RESVB           1             DSL               1             0   \n",
              "2234-XADUH           1     Fiber optic               0             1   \n",
              "4801-JZAZL           1             DSL               1             0   \n",
              "8361-LTMKD           0     Fiber optic               0             0   \n",
              "3186-AJIEK           0     Fiber optic               1             0   \n",
              "\n",
              "            deviceprotection  techsupport  streamingtv  streamingmovies  \\\n",
              "customerID                                                                \n",
              "7590-VHVEG                 0            0            0                0   \n",
              "5575-GNVDE                 1            0            0                0   \n",
              "3668-QPYBK                 0            0            0                0   \n",
              "7795-CFOCW                 1            1            0                0   \n",
              "9237-HQITU                 0            0            0                0   \n",
              "...                      ...          ...          ...              ...   \n",
              "6840-RESVB                 1            1            1                1   \n",
              "2234-XADUH                 1            0            1                1   \n",
              "4801-JZAZL                 0            0            0                0   \n",
              "8361-LTMKD                 0            0            0                0   \n",
              "3186-AJIEK                 1            1            1                1   \n",
              "\n",
              "            multiplelines  \n",
              "customerID                 \n",
              "7590-VHVEG              0  \n",
              "5575-GNVDE              0  \n",
              "3668-QPYBK              0  \n",
              "7795-CFOCW              0  \n",
              "9237-HQITU              0  \n",
              "...                   ...  \n",
              "6840-RESVB              1  \n",
              "2234-XADUH              1  \n",
              "4801-JZAZL              0  \n",
              "8361-LTMKD              1  \n",
              "3186-AJIEK              0  \n",
              "\n",
              "[7032 rows x 18 columns]"
            ]
          },
          "execution_count": 74,
          "metadata": {},
          "output_type": "execute_result"
        }
      ],
      "source": [
        "data #проверяем"
      ]
    },
    {
      "cell_type": "markdown",
      "id": "e9388396",
      "metadata": {
        "id": "e9388396"
      },
      "source": [
        "## Подготовка к обучению и обучение"
      ]
    },
    {
      "cell_type": "markdown",
      "id": "8235db7b",
      "metadata": {
        "id": "8235db7b"
      },
      "source": [
        "### Подготовка данных"
      ]
    },
    {
      "cell_type": "markdown",
      "id": "49706809",
      "metadata": {
        "id": "49706809"
      },
      "source": [
        "Применим OHE, чтобы обработать категориальные признаки, обработаем их в численный метод, чтобы провести обучение, первоначальные признаки сбросим, чтобы не попасть в дамми-ловушку."
      ]
    },
    {
      "cell_type": "code",
      "execution_count": null,
      "id": "af48a557",
      "metadata": {
        "id": "af48a557",
        "outputId": "80cd41f4-9690-40fc-8ab1-d9d567ce24ee"
      },
      "outputs": [
        {
          "data": {
            "text/html": [
              "<div>\n",
              "<style scoped>\n",
              "    .dataframe tbody tr th:only-of-type {\n",
              "        vertical-align: middle;\n",
              "    }\n",
              "\n",
              "    .dataframe tbody tr th {\n",
              "        vertical-align: top;\n",
              "    }\n",
              "\n",
              "    .dataframe thead th {\n",
              "        text-align: right;\n",
              "    }\n",
              "</style>\n",
              "<table border=\"1\" class=\"dataframe\">\n",
              "  <thead>\n",
              "    <tr style=\"text-align: right;\">\n",
              "      <th></th>\n",
              "      <th>type</th>\n",
              "      <th>paperlessbilling</th>\n",
              "      <th>paymentmethod</th>\n",
              "      <th>monthlycharges</th>\n",
              "      <th>days</th>\n",
              "      <th>churn</th>\n",
              "      <th>gender</th>\n",
              "      <th>seniorcitizen</th>\n",
              "      <th>partner</th>\n",
              "      <th>dependents</th>\n",
              "      <th>internetservice</th>\n",
              "      <th>onlinesecurity</th>\n",
              "      <th>onlinebackup</th>\n",
              "      <th>deviceprotection</th>\n",
              "      <th>techsupport</th>\n",
              "      <th>streamingtv</th>\n",
              "      <th>streamingmovies</th>\n",
              "      <th>multiplelines</th>\n",
              "    </tr>\n",
              "    <tr>\n",
              "      <th>customerID</th>\n",
              "      <th></th>\n",
              "      <th></th>\n",
              "      <th></th>\n",
              "      <th></th>\n",
              "      <th></th>\n",
              "      <th></th>\n",
              "      <th></th>\n",
              "      <th></th>\n",
              "      <th></th>\n",
              "      <th></th>\n",
              "      <th></th>\n",
              "      <th></th>\n",
              "      <th></th>\n",
              "      <th></th>\n",
              "      <th></th>\n",
              "      <th></th>\n",
              "      <th></th>\n",
              "      <th></th>\n",
              "    </tr>\n",
              "  </thead>\n",
              "  <tbody>\n",
              "    <tr>\n",
              "      <th>7590-VHVEG</th>\n",
              "      <td>Month-to-month</td>\n",
              "      <td>1</td>\n",
              "      <td>Electronic check</td>\n",
              "      <td>29.85</td>\n",
              "      <td>31</td>\n",
              "      <td>0</td>\n",
              "      <td>Female</td>\n",
              "      <td>0</td>\n",
              "      <td>1</td>\n",
              "      <td>0</td>\n",
              "      <td>DSL</td>\n",
              "      <td>0</td>\n",
              "      <td>1</td>\n",
              "      <td>0</td>\n",
              "      <td>0</td>\n",
              "      <td>0</td>\n",
              "      <td>0</td>\n",
              "      <td>0</td>\n",
              "    </tr>\n",
              "    <tr>\n",
              "      <th>5575-GNVDE</th>\n",
              "      <td>One year</td>\n",
              "      <td>0</td>\n",
              "      <td>Mailed check</td>\n",
              "      <td>56.95</td>\n",
              "      <td>1036</td>\n",
              "      <td>0</td>\n",
              "      <td>Male</td>\n",
              "      <td>0</td>\n",
              "      <td>0</td>\n",
              "      <td>0</td>\n",
              "      <td>DSL</td>\n",
              "      <td>1</td>\n",
              "      <td>0</td>\n",
              "      <td>1</td>\n",
              "      <td>0</td>\n",
              "      <td>0</td>\n",
              "      <td>0</td>\n",
              "      <td>0</td>\n",
              "    </tr>\n",
              "    <tr>\n",
              "      <th>3668-QPYBK</th>\n",
              "      <td>Month-to-month</td>\n",
              "      <td>1</td>\n",
              "      <td>Mailed check</td>\n",
              "      <td>53.85</td>\n",
              "      <td>61</td>\n",
              "      <td>1</td>\n",
              "      <td>Male</td>\n",
              "      <td>0</td>\n",
              "      <td>0</td>\n",
              "      <td>0</td>\n",
              "      <td>DSL</td>\n",
              "      <td>1</td>\n",
              "      <td>1</td>\n",
              "      <td>0</td>\n",
              "      <td>0</td>\n",
              "      <td>0</td>\n",
              "      <td>0</td>\n",
              "      <td>0</td>\n",
              "    </tr>\n",
              "    <tr>\n",
              "      <th>7795-CFOCW</th>\n",
              "      <td>One year</td>\n",
              "      <td>0</td>\n",
              "      <td>Bank transfer (automatic)</td>\n",
              "      <td>42.30</td>\n",
              "      <td>1371</td>\n",
              "      <td>0</td>\n",
              "      <td>Male</td>\n",
              "      <td>0</td>\n",
              "      <td>0</td>\n",
              "      <td>0</td>\n",
              "      <td>DSL</td>\n",
              "      <td>1</td>\n",
              "      <td>0</td>\n",
              "      <td>1</td>\n",
              "      <td>1</td>\n",
              "      <td>0</td>\n",
              "      <td>0</td>\n",
              "      <td>0</td>\n",
              "    </tr>\n",
              "    <tr>\n",
              "      <th>9237-HQITU</th>\n",
              "      <td>Month-to-month</td>\n",
              "      <td>1</td>\n",
              "      <td>Electronic check</td>\n",
              "      <td>70.70</td>\n",
              "      <td>61</td>\n",
              "      <td>1</td>\n",
              "      <td>Female</td>\n",
              "      <td>0</td>\n",
              "      <td>0</td>\n",
              "      <td>0</td>\n",
              "      <td>Fiber optic</td>\n",
              "      <td>0</td>\n",
              "      <td>0</td>\n",
              "      <td>0</td>\n",
              "      <td>0</td>\n",
              "      <td>0</td>\n",
              "      <td>0</td>\n",
              "      <td>0</td>\n",
              "    </tr>\n",
              "  </tbody>\n",
              "</table>\n",
              "</div>"
            ],
            "text/plain": [
              "                      type  paperlessbilling              paymentmethod  \\\n",
              "customerID                                                                \n",
              "7590-VHVEG  Month-to-month                 1           Electronic check   \n",
              "5575-GNVDE        One year                 0               Mailed check   \n",
              "3668-QPYBK  Month-to-month                 1               Mailed check   \n",
              "7795-CFOCW        One year                 0  Bank transfer (automatic)   \n",
              "9237-HQITU  Month-to-month                 1           Electronic check   \n",
              "\n",
              "            monthlycharges  days  churn  gender  seniorcitizen  partner  \\\n",
              "customerID                                                                \n",
              "7590-VHVEG           29.85    31      0  Female              0        1   \n",
              "5575-GNVDE           56.95  1036      0    Male              0        0   \n",
              "3668-QPYBK           53.85    61      1    Male              0        0   \n",
              "7795-CFOCW           42.30  1371      0    Male              0        0   \n",
              "9237-HQITU           70.70    61      1  Female              0        0   \n",
              "\n",
              "            dependents internetservice  onlinesecurity  onlinebackup  \\\n",
              "customerID                                                             \n",
              "7590-VHVEG           0             DSL               0             1   \n",
              "5575-GNVDE           0             DSL               1             0   \n",
              "3668-QPYBK           0             DSL               1             1   \n",
              "7795-CFOCW           0             DSL               1             0   \n",
              "9237-HQITU           0     Fiber optic               0             0   \n",
              "\n",
              "            deviceprotection  techsupport  streamingtv  streamingmovies  \\\n",
              "customerID                                                                \n",
              "7590-VHVEG                 0            0            0                0   \n",
              "5575-GNVDE                 1            0            0                0   \n",
              "3668-QPYBK                 0            0            0                0   \n",
              "7795-CFOCW                 1            1            0                0   \n",
              "9237-HQITU                 0            0            0                0   \n",
              "\n",
              "            multiplelines  \n",
              "customerID                 \n",
              "7590-VHVEG              0  \n",
              "5575-GNVDE              0  \n",
              "3668-QPYBK              0  \n",
              "7795-CFOCW              0  \n",
              "9237-HQITU              0  "
            ]
          },
          "execution_count": 75,
          "metadata": {},
          "output_type": "execute_result"
        }
      ],
      "source": [
        "data.head(5)"
      ]
    },
    {
      "cell_type": "code",
      "execution_count": null,
      "id": "6a12393d",
      "metadata": {
        "id": "6a12393d"
      },
      "outputs": [],
      "source": [
        "data = pd.get_dummies(data, drop_first = True) #первоначальные столбцы удаляем"
      ]
    },
    {
      "cell_type": "code",
      "execution_count": null,
      "id": "09d41306",
      "metadata": {
        "id": "09d41306",
        "outputId": "9f86cf1d-a2ab-42d9-c9cb-1620799ac5e4"
      },
      "outputs": [
        {
          "data": {
            "text/plain": [
              "0    5163\n",
              "1    1869\n",
              "Name: churn, dtype: int64"
            ]
          },
          "execution_count": 77,
          "metadata": {},
          "output_type": "execute_result"
        }
      ],
      "source": [
        "data[\"churn\"].value_counts() #смотрим количество уникальных значений"
      ]
    },
    {
      "cell_type": "code",
      "execution_count": null,
      "id": "2e727b36",
      "metadata": {
        "id": "2e727b36",
        "outputId": "4184009e-c1c7-416f-dffe-32ccccfa9bd1"
      },
      "outputs": [
        {
          "name": "stdout",
          "output_type": "stream",
          "text": [
            "Отношение положительного класса к отрицательному классу -  0.36199883788494286\n"
          ]
        }
      ],
      "source": [
        "delta_klass = sum(data[\"churn\"]/len(data))/ (1-sum(data[\"churn\"]/len(data)))\n",
        "print(\"Отношение положительного класса к отрицательному классу - \", delta_klass)"
      ]
    },
    {
      "cell_type": "markdown",
      "id": "640c2321",
      "metadata": {
        "id": "640c2321"
      },
      "source": [
        "Cледовательно, присутвует дисбаланс классов 3:1."
      ]
    },
    {
      "cell_type": "markdown",
      "id": "4f0b9b2e",
      "metadata": {
        "id": "4f0b9b2e"
      },
      "source": [
        "###  Деление на выборки, масштабирование"
      ]
    },
    {
      "cell_type": "code",
      "execution_count": null,
      "id": "716eb48a",
      "metadata": {
        "id": "716eb48a"
      },
      "outputs": [],
      "source": [
        "data[\"monthlycharges\"] = data[\"monthlycharges\"].astype('int64') #приводим к целочисленным значениям, чтобы избежать ошибки\n",
        "#data[\"totalcharges\"] = data[\"totalcharges\"].astype('int64')"
      ]
    },
    {
      "cell_type": "code",
      "execution_count": null,
      "id": "6b3fd2da",
      "metadata": {
        "id": "6b3fd2da"
      },
      "outputs": [],
      "source": [
        "features = data.drop(\"churn\", axis = 1) #признаки\n",
        "target = data[\"churn\"] #целевой признак"
      ]
    },
    {
      "cell_type": "code",
      "execution_count": null,
      "id": "6baf0167",
      "metadata": {
        "id": "6baf0167"
      },
      "outputs": [],
      "source": [
        "features_train, features_test, target_train, target_test = train_test_split(features, target, test_size = 0.25\n",
        "                                                                            , random_state = 250722) #деление на трэйн и тест"
      ]
    },
    {
      "cell_type": "code",
      "execution_count": null,
      "id": "93a9289a",
      "metadata": {
        "id": "93a9289a"
      },
      "outputs": [],
      "source": [
        "columns_1 = [\"monthlycharges\", \"days\"] #численные признаки"
      ]
    },
    {
      "cell_type": "code",
      "execution_count": null,
      "id": "3b798811",
      "metadata": {
        "id": "3b798811",
        "outputId": "4726f714-cc47-4da2-f5d1-8485247db940"
      },
      "outputs": [
        {
          "name": "stderr",
          "output_type": "stream",
          "text": [
            "/tmp/ipykernel_63/1665881791.py:6: SettingWithCopyWarning: \n",
            "A value is trying to be set on a copy of a slice from a DataFrame.\n",
            "Try using .loc[row_indexer,col_indexer] = value instead\n",
            "\n",
            "See the caveats in the documentation: https://pandas.pydata.org/pandas-docs/stable/user_guide/indexing.html#returning-a-view-versus-a-copy\n",
            "  features_train[columns_1] = scaler.transform(features_train[columns_1])\n",
            "/opt/conda/lib/python3.9/site-packages/pandas/core/indexing.py:1738: SettingWithCopyWarning: \n",
            "A value is trying to be set on a copy of a slice from a DataFrame.\n",
            "Try using .loc[row_indexer,col_indexer] = value instead\n",
            "\n",
            "See the caveats in the documentation: https://pandas.pydata.org/pandas-docs/stable/user_guide/indexing.html#returning-a-view-versus-a-copy\n",
            "  self._setitem_single_column(loc, value[:, i].tolist(), pi)\n",
            "/tmp/ipykernel_63/1665881791.py:7: SettingWithCopyWarning: \n",
            "A value is trying to be set on a copy of a slice from a DataFrame.\n",
            "Try using .loc[row_indexer,col_indexer] = value instead\n",
            "\n",
            "See the caveats in the documentation: https://pandas.pydata.org/pandas-docs/stable/user_guide/indexing.html#returning-a-view-versus-a-copy\n",
            "  features_test[columns_1] = scaler.transform(features_test[columns_1])\n",
            "/opt/conda/lib/python3.9/site-packages/pandas/core/indexing.py:1738: SettingWithCopyWarning: \n",
            "A value is trying to be set on a copy of a slice from a DataFrame.\n",
            "Try using .loc[row_indexer,col_indexer] = value instead\n",
            "\n",
            "See the caveats in the documentation: https://pandas.pydata.org/pandas-docs/stable/user_guide/indexing.html#returning-a-view-versus-a-copy\n",
            "  self._setitem_single_column(loc, value[:, i].tolist(), pi)\n"
          ]
        }
      ],
      "source": [
        "#масштабирование признаков\n",
        "scaler = StandardScaler()\n",
        "\n",
        "scaler.fit(features_train[columns_1])\n",
        "\n",
        "features_train[columns_1] = scaler.transform(features_train[columns_1])\n",
        "features_test[columns_1] = scaler.transform(features_test[columns_1])"
      ]
    },
    {
      "cell_type": "markdown",
      "id": "43eb4aa7",
      "metadata": {
        "id": "43eb4aa7"
      },
      "source": [
        "После масштабирования перейдем к работе с дисбалансом классов"
      ]
    },
    {
      "cell_type": "code",
      "execution_count": null,
      "id": "7170a2fc",
      "metadata": {
        "id": "7170a2fc"
      },
      "outputs": [],
      "source": [
        "features_zeros = features_train[target_train == 0] #делим выборку на полоижительные и отрицательные объекты\n",
        "features_ones = features_train[target_train == 1]\n",
        "target_zeros = target_train[target_train == 0]\n",
        "target_ones= target_train[target_train == 1]\n",
        "repeat = 3 #так как дисбаланс 1 к 3"
      ]
    },
    {
      "cell_type": "code",
      "execution_count": null,
      "id": "db393393",
      "metadata": {
        "id": "db393393"
      },
      "outputs": [],
      "source": [
        "#копируем несколько раз положительные объекты\n",
        "features_upsampled = pd.concat([features_zeros] + [features_ones] * repeat)  #соединяем таблицы\n",
        "target_upsampled = pd.concat([target_zeros] + [target_ones] * repeat) "
      ]
    },
    {
      "cell_type": "code",
      "execution_count": null,
      "id": "c8b0ca14",
      "metadata": {
        "id": "c8b0ca14"
      },
      "outputs": [],
      "source": [
        "#перемешать данные\n",
        "features_upsampled, target_upsampled = shuffle(features_upsampled, target_upsampled, random_state=250722) "
      ]
    },
    {
      "cell_type": "markdown",
      "id": "a629acbd",
      "metadata": {
        "id": "a629acbd"
      },
      "source": [
        "### Обучение моделей"
      ]
    },
    {
      "cell_type": "markdown",
      "id": "8eda8289",
      "metadata": {
        "id": "8eda8289"
      },
      "source": [
        "#### LogisticRegression"
      ]
    },
    {
      "cell_type": "code",
      "execution_count": null,
      "id": "dbe7965e",
      "metadata": {
        "id": "dbe7965e"
      },
      "outputs": [],
      "source": [
        "model_lr = LogisticRegression(random_state = 250722, solver='lbfgs', n_jobs=-1) #загружаем модель\n",
        "params = {'penalty': ['l1','l2'], 'C': [0.001,0.01,0.1,1,10,100,1000]} #загружаем параметры\n",
        "model_lr = GridSearchCV(model_lr, params, cv=5, verbose = 0, scoring='roc_auc') #загружаем в grid данные"
      ]
    },
    {
      "cell_type": "code",
      "execution_count": null,
      "id": "935ba418",
      "metadata": {
        "id": "935ba418",
        "outputId": "eb8765a3-b46c-4aae-fbd4-24c48d87bcd0"
      },
      "outputs": [
        {
          "name": "stderr",
          "output_type": "stream",
          "text": [
            "/opt/conda/lib/python3.9/site-packages/sklearn/model_selection/_validation.py:610: FitFailedWarning: Estimator fit failed. The score on this train-test partition for these parameters will be set to nan. Details: \n",
            "Traceback (most recent call last):\n",
            "  File \"/opt/conda/lib/python3.9/site-packages/sklearn/model_selection/_validation.py\", line 593, in _fit_and_score\n",
            "    estimator.fit(X_train, y_train, **fit_params)\n",
            "  File \"/opt/conda/lib/python3.9/site-packages/sklearn/linear_model/_logistic.py\", line 1306, in fit\n",
            "    solver = _check_solver(self.solver, self.penalty, self.dual)\n",
            "  File \"/opt/conda/lib/python3.9/site-packages/sklearn/linear_model/_logistic.py\", line 443, in _check_solver\n",
            "    raise ValueError(\"Solver %s supports only 'l2' or 'none' penalties, \"\n",
            "ValueError: Solver lbfgs supports only 'l2' or 'none' penalties, got l1 penalty.\n",
            "\n",
            "  warnings.warn(\"Estimator fit failed. The score on this train-test\"\n",
            "/opt/conda/lib/python3.9/site-packages/sklearn/model_selection/_validation.py:610: FitFailedWarning: Estimator fit failed. The score on this train-test partition for these parameters will be set to nan. Details: \n",
            "Traceback (most recent call last):\n",
            "  File \"/opt/conda/lib/python3.9/site-packages/sklearn/model_selection/_validation.py\", line 593, in _fit_and_score\n",
            "    estimator.fit(X_train, y_train, **fit_params)\n",
            "  File \"/opt/conda/lib/python3.9/site-packages/sklearn/linear_model/_logistic.py\", line 1306, in fit\n",
            "    solver = _check_solver(self.solver, self.penalty, self.dual)\n",
            "  File \"/opt/conda/lib/python3.9/site-packages/sklearn/linear_model/_logistic.py\", line 443, in _check_solver\n",
            "    raise ValueError(\"Solver %s supports only 'l2' or 'none' penalties, \"\n",
            "ValueError: Solver lbfgs supports only 'l2' or 'none' penalties, got l1 penalty.\n",
            "\n",
            "  warnings.warn(\"Estimator fit failed. The score on this train-test\"\n",
            "/opt/conda/lib/python3.9/site-packages/sklearn/model_selection/_validation.py:610: FitFailedWarning: Estimator fit failed. The score on this train-test partition for these parameters will be set to nan. Details: \n",
            "Traceback (most recent call last):\n",
            "  File \"/opt/conda/lib/python3.9/site-packages/sklearn/model_selection/_validation.py\", line 593, in _fit_and_score\n",
            "    estimator.fit(X_train, y_train, **fit_params)\n",
            "  File \"/opt/conda/lib/python3.9/site-packages/sklearn/linear_model/_logistic.py\", line 1306, in fit\n",
            "    solver = _check_solver(self.solver, self.penalty, self.dual)\n",
            "  File \"/opt/conda/lib/python3.9/site-packages/sklearn/linear_model/_logistic.py\", line 443, in _check_solver\n",
            "    raise ValueError(\"Solver %s supports only 'l2' or 'none' penalties, \"\n",
            "ValueError: Solver lbfgs supports only 'l2' or 'none' penalties, got l1 penalty.\n",
            "\n",
            "  warnings.warn(\"Estimator fit failed. The score on this train-test\"\n",
            "/opt/conda/lib/python3.9/site-packages/sklearn/model_selection/_validation.py:610: FitFailedWarning: Estimator fit failed. The score on this train-test partition for these parameters will be set to nan. Details: \n",
            "Traceback (most recent call last):\n",
            "  File \"/opt/conda/lib/python3.9/site-packages/sklearn/model_selection/_validation.py\", line 593, in _fit_and_score\n",
            "    estimator.fit(X_train, y_train, **fit_params)\n",
            "  File \"/opt/conda/lib/python3.9/site-packages/sklearn/linear_model/_logistic.py\", line 1306, in fit\n",
            "    solver = _check_solver(self.solver, self.penalty, self.dual)\n",
            "  File \"/opt/conda/lib/python3.9/site-packages/sklearn/linear_model/_logistic.py\", line 443, in _check_solver\n",
            "    raise ValueError(\"Solver %s supports only 'l2' or 'none' penalties, \"\n",
            "ValueError: Solver lbfgs supports only 'l2' or 'none' penalties, got l1 penalty.\n",
            "\n",
            "  warnings.warn(\"Estimator fit failed. The score on this train-test\"\n",
            "/opt/conda/lib/python3.9/site-packages/sklearn/model_selection/_validation.py:610: FitFailedWarning: Estimator fit failed. The score on this train-test partition for these parameters will be set to nan. Details: \n",
            "Traceback (most recent call last):\n",
            "  File \"/opt/conda/lib/python3.9/site-packages/sklearn/model_selection/_validation.py\", line 593, in _fit_and_score\n",
            "    estimator.fit(X_train, y_train, **fit_params)\n",
            "  File \"/opt/conda/lib/python3.9/site-packages/sklearn/linear_model/_logistic.py\", line 1306, in fit\n",
            "    solver = _check_solver(self.solver, self.penalty, self.dual)\n",
            "  File \"/opt/conda/lib/python3.9/site-packages/sklearn/linear_model/_logistic.py\", line 443, in _check_solver\n",
            "    raise ValueError(\"Solver %s supports only 'l2' or 'none' penalties, \"\n",
            "ValueError: Solver lbfgs supports only 'l2' or 'none' penalties, got l1 penalty.\n",
            "\n",
            "  warnings.warn(\"Estimator fit failed. The score on this train-test\"\n",
            "/opt/conda/lib/python3.9/site-packages/sklearn/model_selection/_validation.py:610: FitFailedWarning: Estimator fit failed. The score on this train-test partition for these parameters will be set to nan. Details: \n",
            "Traceback (most recent call last):\n",
            "  File \"/opt/conda/lib/python3.9/site-packages/sklearn/model_selection/_validation.py\", line 593, in _fit_and_score\n",
            "    estimator.fit(X_train, y_train, **fit_params)\n",
            "  File \"/opt/conda/lib/python3.9/site-packages/sklearn/linear_model/_logistic.py\", line 1306, in fit\n",
            "    solver = _check_solver(self.solver, self.penalty, self.dual)\n",
            "  File \"/opt/conda/lib/python3.9/site-packages/sklearn/linear_model/_logistic.py\", line 443, in _check_solver\n",
            "    raise ValueError(\"Solver %s supports only 'l2' or 'none' penalties, \"\n",
            "ValueError: Solver lbfgs supports only 'l2' or 'none' penalties, got l1 penalty.\n",
            "\n",
            "  warnings.warn(\"Estimator fit failed. The score on this train-test\"\n",
            "/opt/conda/lib/python3.9/site-packages/sklearn/model_selection/_validation.py:610: FitFailedWarning: Estimator fit failed. The score on this train-test partition for these parameters will be set to nan. Details: \n",
            "Traceback (most recent call last):\n",
            "  File \"/opt/conda/lib/python3.9/site-packages/sklearn/model_selection/_validation.py\", line 593, in _fit_and_score\n",
            "    estimator.fit(X_train, y_train, **fit_params)\n",
            "  File \"/opt/conda/lib/python3.9/site-packages/sklearn/linear_model/_logistic.py\", line 1306, in fit\n",
            "    solver = _check_solver(self.solver, self.penalty, self.dual)\n",
            "  File \"/opt/conda/lib/python3.9/site-packages/sklearn/linear_model/_logistic.py\", line 443, in _check_solver\n",
            "    raise ValueError(\"Solver %s supports only 'l2' or 'none' penalties, \"\n",
            "ValueError: Solver lbfgs supports only 'l2' or 'none' penalties, got l1 penalty.\n",
            "\n",
            "  warnings.warn(\"Estimator fit failed. The score on this train-test\"\n",
            "/opt/conda/lib/python3.9/site-packages/sklearn/model_selection/_validation.py:610: FitFailedWarning: Estimator fit failed. The score on this train-test partition for these parameters will be set to nan. Details: \n",
            "Traceback (most recent call last):\n",
            "  File \"/opt/conda/lib/python3.9/site-packages/sklearn/model_selection/_validation.py\", line 593, in _fit_and_score\n",
            "    estimator.fit(X_train, y_train, **fit_params)\n",
            "  File \"/opt/conda/lib/python3.9/site-packages/sklearn/linear_model/_logistic.py\", line 1306, in fit\n",
            "    solver = _check_solver(self.solver, self.penalty, self.dual)\n",
            "  File \"/opt/conda/lib/python3.9/site-packages/sklearn/linear_model/_logistic.py\", line 443, in _check_solver\n",
            "    raise ValueError(\"Solver %s supports only 'l2' or 'none' penalties, \"\n",
            "ValueError: Solver lbfgs supports only 'l2' or 'none' penalties, got l1 penalty.\n",
            "\n",
            "  warnings.warn(\"Estimator fit failed. The score on this train-test\"\n",
            "/opt/conda/lib/python3.9/site-packages/sklearn/model_selection/_validation.py:610: FitFailedWarning: Estimator fit failed. The score on this train-test partition for these parameters will be set to nan. Details: \n",
            "Traceback (most recent call last):\n",
            "  File \"/opt/conda/lib/python3.9/site-packages/sklearn/model_selection/_validation.py\", line 593, in _fit_and_score\n",
            "    estimator.fit(X_train, y_train, **fit_params)\n",
            "  File \"/opt/conda/lib/python3.9/site-packages/sklearn/linear_model/_logistic.py\", line 1306, in fit\n",
            "    solver = _check_solver(self.solver, self.penalty, self.dual)\n",
            "  File \"/opt/conda/lib/python3.9/site-packages/sklearn/linear_model/_logistic.py\", line 443, in _check_solver\n",
            "    raise ValueError(\"Solver %s supports only 'l2' or 'none' penalties, \"\n",
            "ValueError: Solver lbfgs supports only 'l2' or 'none' penalties, got l1 penalty.\n",
            "\n",
            "  warnings.warn(\"Estimator fit failed. The score on this train-test\"\n",
            "/opt/conda/lib/python3.9/site-packages/sklearn/model_selection/_validation.py:610: FitFailedWarning: Estimator fit failed. The score on this train-test partition for these parameters will be set to nan. Details: \n",
            "Traceback (most recent call last):\n",
            "  File \"/opt/conda/lib/python3.9/site-packages/sklearn/model_selection/_validation.py\", line 593, in _fit_and_score\n",
            "    estimator.fit(X_train, y_train, **fit_params)\n",
            "  File \"/opt/conda/lib/python3.9/site-packages/sklearn/linear_model/_logistic.py\", line 1306, in fit\n",
            "    solver = _check_solver(self.solver, self.penalty, self.dual)\n",
            "  File \"/opt/conda/lib/python3.9/site-packages/sklearn/linear_model/_logistic.py\", line 443, in _check_solver\n",
            "    raise ValueError(\"Solver %s supports only 'l2' or 'none' penalties, \"\n",
            "ValueError: Solver lbfgs supports only 'l2' or 'none' penalties, got l1 penalty.\n",
            "\n",
            "  warnings.warn(\"Estimator fit failed. The score on this train-test\"\n",
            "/opt/conda/lib/python3.9/site-packages/sklearn/model_selection/_validation.py:610: FitFailedWarning: Estimator fit failed. The score on this train-test partition for these parameters will be set to nan. Details: \n",
            "Traceback (most recent call last):\n",
            "  File \"/opt/conda/lib/python3.9/site-packages/sklearn/model_selection/_validation.py\", line 593, in _fit_and_score\n",
            "    estimator.fit(X_train, y_train, **fit_params)\n",
            "  File \"/opt/conda/lib/python3.9/site-packages/sklearn/linear_model/_logistic.py\", line 1306, in fit\n",
            "    solver = _check_solver(self.solver, self.penalty, self.dual)\n",
            "  File \"/opt/conda/lib/python3.9/site-packages/sklearn/linear_model/_logistic.py\", line 443, in _check_solver\n",
            "    raise ValueError(\"Solver %s supports only 'l2' or 'none' penalties, \"\n",
            "ValueError: Solver lbfgs supports only 'l2' or 'none' penalties, got l1 penalty.\n",
            "\n",
            "  warnings.warn(\"Estimator fit failed. The score on this train-test\"\n",
            "/opt/conda/lib/python3.9/site-packages/sklearn/model_selection/_validation.py:610: FitFailedWarning: Estimator fit failed. The score on this train-test partition for these parameters will be set to nan. Details: \n",
            "Traceback (most recent call last):\n",
            "  File \"/opt/conda/lib/python3.9/site-packages/sklearn/model_selection/_validation.py\", line 593, in _fit_and_score\n",
            "    estimator.fit(X_train, y_train, **fit_params)\n",
            "  File \"/opt/conda/lib/python3.9/site-packages/sklearn/linear_model/_logistic.py\", line 1306, in fit\n",
            "    solver = _check_solver(self.solver, self.penalty, self.dual)\n",
            "  File \"/opt/conda/lib/python3.9/site-packages/sklearn/linear_model/_logistic.py\", line 443, in _check_solver\n",
            "    raise ValueError(\"Solver %s supports only 'l2' or 'none' penalties, \"\n",
            "ValueError: Solver lbfgs supports only 'l2' or 'none' penalties, got l1 penalty.\n",
            "\n",
            "  warnings.warn(\"Estimator fit failed. The score on this train-test\"\n",
            "/opt/conda/lib/python3.9/site-packages/sklearn/model_selection/_validation.py:610: FitFailedWarning: Estimator fit failed. The score on this train-test partition for these parameters will be set to nan. Details: \n",
            "Traceback (most recent call last):\n",
            "  File \"/opt/conda/lib/python3.9/site-packages/sklearn/model_selection/_validation.py\", line 593, in _fit_and_score\n",
            "    estimator.fit(X_train, y_train, **fit_params)\n",
            "  File \"/opt/conda/lib/python3.9/site-packages/sklearn/linear_model/_logistic.py\", line 1306, in fit\n",
            "    solver = _check_solver(self.solver, self.penalty, self.dual)\n",
            "  File \"/opt/conda/lib/python3.9/site-packages/sklearn/linear_model/_logistic.py\", line 443, in _check_solver\n",
            "    raise ValueError(\"Solver %s supports only 'l2' or 'none' penalties, \"\n",
            "ValueError: Solver lbfgs supports only 'l2' or 'none' penalties, got l1 penalty.\n",
            "\n",
            "  warnings.warn(\"Estimator fit failed. The score on this train-test\"\n",
            "/opt/conda/lib/python3.9/site-packages/sklearn/model_selection/_validation.py:610: FitFailedWarning: Estimator fit failed. The score on this train-test partition for these parameters will be set to nan. Details: \n",
            "Traceback (most recent call last):\n",
            "  File \"/opt/conda/lib/python3.9/site-packages/sklearn/model_selection/_validation.py\", line 593, in _fit_and_score\n",
            "    estimator.fit(X_train, y_train, **fit_params)\n",
            "  File \"/opt/conda/lib/python3.9/site-packages/sklearn/linear_model/_logistic.py\", line 1306, in fit\n",
            "    solver = _check_solver(self.solver, self.penalty, self.dual)\n",
            "  File \"/opt/conda/lib/python3.9/site-packages/sklearn/linear_model/_logistic.py\", line 443, in _check_solver\n",
            "    raise ValueError(\"Solver %s supports only 'l2' or 'none' penalties, \"\n",
            "ValueError: Solver lbfgs supports only 'l2' or 'none' penalties, got l1 penalty.\n",
            "\n",
            "  warnings.warn(\"Estimator fit failed. The score on this train-test\"\n",
            "/opt/conda/lib/python3.9/site-packages/sklearn/model_selection/_validation.py:610: FitFailedWarning: Estimator fit failed. The score on this train-test partition for these parameters will be set to nan. Details: \n",
            "Traceback (most recent call last):\n",
            "  File \"/opt/conda/lib/python3.9/site-packages/sklearn/model_selection/_validation.py\", line 593, in _fit_and_score\n",
            "    estimator.fit(X_train, y_train, **fit_params)\n",
            "  File \"/opt/conda/lib/python3.9/site-packages/sklearn/linear_model/_logistic.py\", line 1306, in fit\n",
            "    solver = _check_solver(self.solver, self.penalty, self.dual)\n",
            "  File \"/opt/conda/lib/python3.9/site-packages/sklearn/linear_model/_logistic.py\", line 443, in _check_solver\n",
            "    raise ValueError(\"Solver %s supports only 'l2' or 'none' penalties, \"\n",
            "ValueError: Solver lbfgs supports only 'l2' or 'none' penalties, got l1 penalty.\n",
            "\n",
            "  warnings.warn(\"Estimator fit failed. The score on this train-test\"\n",
            "/opt/conda/lib/python3.9/site-packages/sklearn/model_selection/_validation.py:610: FitFailedWarning: Estimator fit failed. The score on this train-test partition for these parameters will be set to nan. Details: \n",
            "Traceback (most recent call last):\n",
            "  File \"/opt/conda/lib/python3.9/site-packages/sklearn/model_selection/_validation.py\", line 593, in _fit_and_score\n",
            "    estimator.fit(X_train, y_train, **fit_params)\n",
            "  File \"/opt/conda/lib/python3.9/site-packages/sklearn/linear_model/_logistic.py\", line 1306, in fit\n",
            "    solver = _check_solver(self.solver, self.penalty, self.dual)\n",
            "  File \"/opt/conda/lib/python3.9/site-packages/sklearn/linear_model/_logistic.py\", line 443, in _check_solver\n",
            "    raise ValueError(\"Solver %s supports only 'l2' or 'none' penalties, \"\n",
            "ValueError: Solver lbfgs supports only 'l2' or 'none' penalties, got l1 penalty.\n",
            "\n",
            "  warnings.warn(\"Estimator fit failed. The score on this train-test\"\n",
            "/opt/conda/lib/python3.9/site-packages/sklearn/model_selection/_validation.py:610: FitFailedWarning: Estimator fit failed. The score on this train-test partition for these parameters will be set to nan. Details: \n",
            "Traceback (most recent call last):\n",
            "  File \"/opt/conda/lib/python3.9/site-packages/sklearn/model_selection/_validation.py\", line 593, in _fit_and_score\n",
            "    estimator.fit(X_train, y_train, **fit_params)\n",
            "  File \"/opt/conda/lib/python3.9/site-packages/sklearn/linear_model/_logistic.py\", line 1306, in fit\n",
            "    solver = _check_solver(self.solver, self.penalty, self.dual)\n",
            "  File \"/opt/conda/lib/python3.9/site-packages/sklearn/linear_model/_logistic.py\", line 443, in _check_solver\n",
            "    raise ValueError(\"Solver %s supports only 'l2' or 'none' penalties, \"\n",
            "ValueError: Solver lbfgs supports only 'l2' or 'none' penalties, got l1 penalty.\n",
            "\n",
            "  warnings.warn(\"Estimator fit failed. The score on this train-test\"\n",
            "/opt/conda/lib/python3.9/site-packages/sklearn/model_selection/_validation.py:610: FitFailedWarning: Estimator fit failed. The score on this train-test partition for these parameters will be set to nan. Details: \n",
            "Traceback (most recent call last):\n",
            "  File \"/opt/conda/lib/python3.9/site-packages/sklearn/model_selection/_validation.py\", line 593, in _fit_and_score\n",
            "    estimator.fit(X_train, y_train, **fit_params)\n",
            "  File \"/opt/conda/lib/python3.9/site-packages/sklearn/linear_model/_logistic.py\", line 1306, in fit\n",
            "    solver = _check_solver(self.solver, self.penalty, self.dual)\n",
            "  File \"/opt/conda/lib/python3.9/site-packages/sklearn/linear_model/_logistic.py\", line 443, in _check_solver\n",
            "    raise ValueError(\"Solver %s supports only 'l2' or 'none' penalties, \"\n",
            "ValueError: Solver lbfgs supports only 'l2' or 'none' penalties, got l1 penalty.\n",
            "\n",
            "  warnings.warn(\"Estimator fit failed. The score on this train-test\"\n",
            "/opt/conda/lib/python3.9/site-packages/sklearn/model_selection/_validation.py:610: FitFailedWarning: Estimator fit failed. The score on this train-test partition for these parameters will be set to nan. Details: \n",
            "Traceback (most recent call last):\n",
            "  File \"/opt/conda/lib/python3.9/site-packages/sklearn/model_selection/_validation.py\", line 593, in _fit_and_score\n",
            "    estimator.fit(X_train, y_train, **fit_params)\n",
            "  File \"/opt/conda/lib/python3.9/site-packages/sklearn/linear_model/_logistic.py\", line 1306, in fit\n",
            "    solver = _check_solver(self.solver, self.penalty, self.dual)\n",
            "  File \"/opt/conda/lib/python3.9/site-packages/sklearn/linear_model/_logistic.py\", line 443, in _check_solver\n",
            "    raise ValueError(\"Solver %s supports only 'l2' or 'none' penalties, \"\n",
            "ValueError: Solver lbfgs supports only 'l2' or 'none' penalties, got l1 penalty.\n",
            "\n",
            "  warnings.warn(\"Estimator fit failed. The score on this train-test\"\n",
            "/opt/conda/lib/python3.9/site-packages/sklearn/model_selection/_validation.py:610: FitFailedWarning: Estimator fit failed. The score on this train-test partition for these parameters will be set to nan. Details: \n",
            "Traceback (most recent call last):\n",
            "  File \"/opt/conda/lib/python3.9/site-packages/sklearn/model_selection/_validation.py\", line 593, in _fit_and_score\n",
            "    estimator.fit(X_train, y_train, **fit_params)\n",
            "  File \"/opt/conda/lib/python3.9/site-packages/sklearn/linear_model/_logistic.py\", line 1306, in fit\n",
            "    solver = _check_solver(self.solver, self.penalty, self.dual)\n",
            "  File \"/opt/conda/lib/python3.9/site-packages/sklearn/linear_model/_logistic.py\", line 443, in _check_solver\n",
            "    raise ValueError(\"Solver %s supports only 'l2' or 'none' penalties, \"\n",
            "ValueError: Solver lbfgs supports only 'l2' or 'none' penalties, got l1 penalty.\n",
            "\n",
            "  warnings.warn(\"Estimator fit failed. The score on this train-test\"\n",
            "/opt/conda/lib/python3.9/site-packages/sklearn/model_selection/_validation.py:610: FitFailedWarning: Estimator fit failed. The score on this train-test partition for these parameters will be set to nan. Details: \n",
            "Traceback (most recent call last):\n",
            "  File \"/opt/conda/lib/python3.9/site-packages/sklearn/model_selection/_validation.py\", line 593, in _fit_and_score\n",
            "    estimator.fit(X_train, y_train, **fit_params)\n",
            "  File \"/opt/conda/lib/python3.9/site-packages/sklearn/linear_model/_logistic.py\", line 1306, in fit\n",
            "    solver = _check_solver(self.solver, self.penalty, self.dual)\n",
            "  File \"/opt/conda/lib/python3.9/site-packages/sklearn/linear_model/_logistic.py\", line 443, in _check_solver\n",
            "    raise ValueError(\"Solver %s supports only 'l2' or 'none' penalties, \"\n",
            "ValueError: Solver lbfgs supports only 'l2' or 'none' penalties, got l1 penalty.\n",
            "\n",
            "  warnings.warn(\"Estimator fit failed. The score on this train-test\"\n",
            "/opt/conda/lib/python3.9/site-packages/sklearn/model_selection/_validation.py:610: FitFailedWarning: Estimator fit failed. The score on this train-test partition for these parameters will be set to nan. Details: \n",
            "Traceback (most recent call last):\n",
            "  File \"/opt/conda/lib/python3.9/site-packages/sklearn/model_selection/_validation.py\", line 593, in _fit_and_score\n",
            "    estimator.fit(X_train, y_train, **fit_params)\n",
            "  File \"/opt/conda/lib/python3.9/site-packages/sklearn/linear_model/_logistic.py\", line 1306, in fit\n",
            "    solver = _check_solver(self.solver, self.penalty, self.dual)\n",
            "  File \"/opt/conda/lib/python3.9/site-packages/sklearn/linear_model/_logistic.py\", line 443, in _check_solver\n",
            "    raise ValueError(\"Solver %s supports only 'l2' or 'none' penalties, \"\n",
            "ValueError: Solver lbfgs supports only 'l2' or 'none' penalties, got l1 penalty.\n",
            "\n",
            "  warnings.warn(\"Estimator fit failed. The score on this train-test\"\n",
            "/opt/conda/lib/python3.9/site-packages/sklearn/model_selection/_validation.py:610: FitFailedWarning: Estimator fit failed. The score on this train-test partition for these parameters will be set to nan. Details: \n",
            "Traceback (most recent call last):\n",
            "  File \"/opt/conda/lib/python3.9/site-packages/sklearn/model_selection/_validation.py\", line 593, in _fit_and_score\n",
            "    estimator.fit(X_train, y_train, **fit_params)\n",
            "  File \"/opt/conda/lib/python3.9/site-packages/sklearn/linear_model/_logistic.py\", line 1306, in fit\n",
            "    solver = _check_solver(self.solver, self.penalty, self.dual)\n",
            "  File \"/opt/conda/lib/python3.9/site-packages/sklearn/linear_model/_logistic.py\", line 443, in _check_solver\n",
            "    raise ValueError(\"Solver %s supports only 'l2' or 'none' penalties, \"\n",
            "ValueError: Solver lbfgs supports only 'l2' or 'none' penalties, got l1 penalty.\n",
            "\n",
            "  warnings.warn(\"Estimator fit failed. The score on this train-test\"\n",
            "/opt/conda/lib/python3.9/site-packages/sklearn/model_selection/_validation.py:610: FitFailedWarning: Estimator fit failed. The score on this train-test partition for these parameters will be set to nan. Details: \n",
            "Traceback (most recent call last):\n",
            "  File \"/opt/conda/lib/python3.9/site-packages/sklearn/model_selection/_validation.py\", line 593, in _fit_and_score\n",
            "    estimator.fit(X_train, y_train, **fit_params)\n",
            "  File \"/opt/conda/lib/python3.9/site-packages/sklearn/linear_model/_logistic.py\", line 1306, in fit\n",
            "    solver = _check_solver(self.solver, self.penalty, self.dual)\n",
            "  File \"/opt/conda/lib/python3.9/site-packages/sklearn/linear_model/_logistic.py\", line 443, in _check_solver\n",
            "    raise ValueError(\"Solver %s supports only 'l2' or 'none' penalties, \"\n",
            "ValueError: Solver lbfgs supports only 'l2' or 'none' penalties, got l1 penalty.\n",
            "\n",
            "  warnings.warn(\"Estimator fit failed. The score on this train-test\"\n",
            "/opt/conda/lib/python3.9/site-packages/sklearn/model_selection/_validation.py:610: FitFailedWarning: Estimator fit failed. The score on this train-test partition for these parameters will be set to nan. Details: \n",
            "Traceback (most recent call last):\n",
            "  File \"/opt/conda/lib/python3.9/site-packages/sklearn/model_selection/_validation.py\", line 593, in _fit_and_score\n",
            "    estimator.fit(X_train, y_train, **fit_params)\n",
            "  File \"/opt/conda/lib/python3.9/site-packages/sklearn/linear_model/_logistic.py\", line 1306, in fit\n",
            "    solver = _check_solver(self.solver, self.penalty, self.dual)\n",
            "  File \"/opt/conda/lib/python3.9/site-packages/sklearn/linear_model/_logistic.py\", line 443, in _check_solver\n",
            "    raise ValueError(\"Solver %s supports only 'l2' or 'none' penalties, \"\n",
            "ValueError: Solver lbfgs supports only 'l2' or 'none' penalties, got l1 penalty.\n",
            "\n",
            "  warnings.warn(\"Estimator fit failed. The score on this train-test\"\n",
            "/opt/conda/lib/python3.9/site-packages/sklearn/model_selection/_validation.py:610: FitFailedWarning: Estimator fit failed. The score on this train-test partition for these parameters will be set to nan. Details: \n",
            "Traceback (most recent call last):\n",
            "  File \"/opt/conda/lib/python3.9/site-packages/sklearn/model_selection/_validation.py\", line 593, in _fit_and_score\n",
            "    estimator.fit(X_train, y_train, **fit_params)\n",
            "  File \"/opt/conda/lib/python3.9/site-packages/sklearn/linear_model/_logistic.py\", line 1306, in fit\n",
            "    solver = _check_solver(self.solver, self.penalty, self.dual)\n",
            "  File \"/opt/conda/lib/python3.9/site-packages/sklearn/linear_model/_logistic.py\", line 443, in _check_solver\n",
            "    raise ValueError(\"Solver %s supports only 'l2' or 'none' penalties, \"\n",
            "ValueError: Solver lbfgs supports only 'l2' or 'none' penalties, got l1 penalty.\n",
            "\n",
            "  warnings.warn(\"Estimator fit failed. The score on this train-test\"\n",
            "/opt/conda/lib/python3.9/site-packages/sklearn/model_selection/_validation.py:610: FitFailedWarning: Estimator fit failed. The score on this train-test partition for these parameters will be set to nan. Details: \n",
            "Traceback (most recent call last):\n",
            "  File \"/opt/conda/lib/python3.9/site-packages/sklearn/model_selection/_validation.py\", line 593, in _fit_and_score\n",
            "    estimator.fit(X_train, y_train, **fit_params)\n",
            "  File \"/opt/conda/lib/python3.9/site-packages/sklearn/linear_model/_logistic.py\", line 1306, in fit\n",
            "    solver = _check_solver(self.solver, self.penalty, self.dual)\n",
            "  File \"/opt/conda/lib/python3.9/site-packages/sklearn/linear_model/_logistic.py\", line 443, in _check_solver\n",
            "    raise ValueError(\"Solver %s supports only 'l2' or 'none' penalties, \"\n",
            "ValueError: Solver lbfgs supports only 'l2' or 'none' penalties, got l1 penalty.\n",
            "\n",
            "  warnings.warn(\"Estimator fit failed. The score on this train-test\"\n",
            "/opt/conda/lib/python3.9/site-packages/sklearn/model_selection/_validation.py:610: FitFailedWarning: Estimator fit failed. The score on this train-test partition for these parameters will be set to nan. Details: \n",
            "Traceback (most recent call last):\n",
            "  File \"/opt/conda/lib/python3.9/site-packages/sklearn/model_selection/_validation.py\", line 593, in _fit_and_score\n",
            "    estimator.fit(X_train, y_train, **fit_params)\n",
            "  File \"/opt/conda/lib/python3.9/site-packages/sklearn/linear_model/_logistic.py\", line 1306, in fit\n",
            "    solver = _check_solver(self.solver, self.penalty, self.dual)\n",
            "  File \"/opt/conda/lib/python3.9/site-packages/sklearn/linear_model/_logistic.py\", line 443, in _check_solver\n",
            "    raise ValueError(\"Solver %s supports only 'l2' or 'none' penalties, \"\n",
            "ValueError: Solver lbfgs supports only 'l2' or 'none' penalties, got l1 penalty.\n",
            "\n",
            "  warnings.warn(\"Estimator fit failed. The score on this train-test\"\n",
            "/opt/conda/lib/python3.9/site-packages/sklearn/model_selection/_validation.py:610: FitFailedWarning: Estimator fit failed. The score on this train-test partition for these parameters will be set to nan. Details: \n",
            "Traceback (most recent call last):\n",
            "  File \"/opt/conda/lib/python3.9/site-packages/sklearn/model_selection/_validation.py\", line 593, in _fit_and_score\n",
            "    estimator.fit(X_train, y_train, **fit_params)\n",
            "  File \"/opt/conda/lib/python3.9/site-packages/sklearn/linear_model/_logistic.py\", line 1306, in fit\n",
            "    solver = _check_solver(self.solver, self.penalty, self.dual)\n",
            "  File \"/opt/conda/lib/python3.9/site-packages/sklearn/linear_model/_logistic.py\", line 443, in _check_solver\n",
            "    raise ValueError(\"Solver %s supports only 'l2' or 'none' penalties, \"\n",
            "ValueError: Solver lbfgs supports only 'l2' or 'none' penalties, got l1 penalty.\n",
            "\n",
            "  warnings.warn(\"Estimator fit failed. The score on this train-test\"\n",
            "/opt/conda/lib/python3.9/site-packages/sklearn/model_selection/_validation.py:610: FitFailedWarning: Estimator fit failed. The score on this train-test partition for these parameters will be set to nan. Details: \n",
            "Traceback (most recent call last):\n",
            "  File \"/opt/conda/lib/python3.9/site-packages/sklearn/model_selection/_validation.py\", line 593, in _fit_and_score\n",
            "    estimator.fit(X_train, y_train, **fit_params)\n",
            "  File \"/opt/conda/lib/python3.9/site-packages/sklearn/linear_model/_logistic.py\", line 1306, in fit\n",
            "    solver = _check_solver(self.solver, self.penalty, self.dual)\n",
            "  File \"/opt/conda/lib/python3.9/site-packages/sklearn/linear_model/_logistic.py\", line 443, in _check_solver\n",
            "    raise ValueError(\"Solver %s supports only 'l2' or 'none' penalties, \"\n",
            "ValueError: Solver lbfgs supports only 'l2' or 'none' penalties, got l1 penalty.\n",
            "\n",
            "  warnings.warn(\"Estimator fit failed. The score on this train-test\"\n",
            "/opt/conda/lib/python3.9/site-packages/sklearn/model_selection/_validation.py:610: FitFailedWarning: Estimator fit failed. The score on this train-test partition for these parameters will be set to nan. Details: \n",
            "Traceback (most recent call last):\n",
            "  File \"/opt/conda/lib/python3.9/site-packages/sklearn/model_selection/_validation.py\", line 593, in _fit_and_score\n",
            "    estimator.fit(X_train, y_train, **fit_params)\n",
            "  File \"/opt/conda/lib/python3.9/site-packages/sklearn/linear_model/_logistic.py\", line 1306, in fit\n",
            "    solver = _check_solver(self.solver, self.penalty, self.dual)\n",
            "  File \"/opt/conda/lib/python3.9/site-packages/sklearn/linear_model/_logistic.py\", line 443, in _check_solver\n",
            "    raise ValueError(\"Solver %s supports only 'l2' or 'none' penalties, \"\n",
            "ValueError: Solver lbfgs supports only 'l2' or 'none' penalties, got l1 penalty.\n",
            "\n",
            "  warnings.warn(\"Estimator fit failed. The score on this train-test\"\n",
            "/opt/conda/lib/python3.9/site-packages/sklearn/model_selection/_validation.py:610: FitFailedWarning: Estimator fit failed. The score on this train-test partition for these parameters will be set to nan. Details: \n",
            "Traceback (most recent call last):\n",
            "  File \"/opt/conda/lib/python3.9/site-packages/sklearn/model_selection/_validation.py\", line 593, in _fit_and_score\n",
            "    estimator.fit(X_train, y_train, **fit_params)\n",
            "  File \"/opt/conda/lib/python3.9/site-packages/sklearn/linear_model/_logistic.py\", line 1306, in fit\n",
            "    solver = _check_solver(self.solver, self.penalty, self.dual)\n",
            "  File \"/opt/conda/lib/python3.9/site-packages/sklearn/linear_model/_logistic.py\", line 443, in _check_solver\n",
            "    raise ValueError(\"Solver %s supports only 'l2' or 'none' penalties, \"\n",
            "ValueError: Solver lbfgs supports only 'l2' or 'none' penalties, got l1 penalty.\n",
            "\n",
            "  warnings.warn(\"Estimator fit failed. The score on this train-test\"\n",
            "/opt/conda/lib/python3.9/site-packages/sklearn/model_selection/_validation.py:610: FitFailedWarning: Estimator fit failed. The score on this train-test partition for these parameters will be set to nan. Details: \n",
            "Traceback (most recent call last):\n",
            "  File \"/opt/conda/lib/python3.9/site-packages/sklearn/model_selection/_validation.py\", line 593, in _fit_and_score\n",
            "    estimator.fit(X_train, y_train, **fit_params)\n",
            "  File \"/opt/conda/lib/python3.9/site-packages/sklearn/linear_model/_logistic.py\", line 1306, in fit\n",
            "    solver = _check_solver(self.solver, self.penalty, self.dual)\n",
            "  File \"/opt/conda/lib/python3.9/site-packages/sklearn/linear_model/_logistic.py\", line 443, in _check_solver\n",
            "    raise ValueError(\"Solver %s supports only 'l2' or 'none' penalties, \"\n",
            "ValueError: Solver lbfgs supports only 'l2' or 'none' penalties, got l1 penalty.\n",
            "\n",
            "  warnings.warn(\"Estimator fit failed. The score on this train-test\"\n",
            "/opt/conda/lib/python3.9/site-packages/sklearn/model_selection/_validation.py:610: FitFailedWarning: Estimator fit failed. The score on this train-test partition for these parameters will be set to nan. Details: \n",
            "Traceback (most recent call last):\n",
            "  File \"/opt/conda/lib/python3.9/site-packages/sklearn/model_selection/_validation.py\", line 593, in _fit_and_score\n",
            "    estimator.fit(X_train, y_train, **fit_params)\n",
            "  File \"/opt/conda/lib/python3.9/site-packages/sklearn/linear_model/_logistic.py\", line 1306, in fit\n",
            "    solver = _check_solver(self.solver, self.penalty, self.dual)\n",
            "  File \"/opt/conda/lib/python3.9/site-packages/sklearn/linear_model/_logistic.py\", line 443, in _check_solver\n",
            "    raise ValueError(\"Solver %s supports only 'l2' or 'none' penalties, \"\n",
            "ValueError: Solver lbfgs supports only 'l2' or 'none' penalties, got l1 penalty.\n",
            "\n",
            "  warnings.warn(\"Estimator fit failed. The score on this train-test\"\n",
            "/opt/conda/lib/python3.9/site-packages/sklearn/model_selection/_validation.py:610: FitFailedWarning: Estimator fit failed. The score on this train-test partition for these parameters will be set to nan. Details: \n",
            "Traceback (most recent call last):\n",
            "  File \"/opt/conda/lib/python3.9/site-packages/sklearn/model_selection/_validation.py\", line 593, in _fit_and_score\n",
            "    estimator.fit(X_train, y_train, **fit_params)\n",
            "  File \"/opt/conda/lib/python3.9/site-packages/sklearn/linear_model/_logistic.py\", line 1306, in fit\n",
            "    solver = _check_solver(self.solver, self.penalty, self.dual)\n",
            "  File \"/opt/conda/lib/python3.9/site-packages/sklearn/linear_model/_logistic.py\", line 443, in _check_solver\n",
            "    raise ValueError(\"Solver %s supports only 'l2' or 'none' penalties, \"\n",
            "ValueError: Solver lbfgs supports only 'l2' or 'none' penalties, got l1 penalty.\n",
            "\n",
            "  warnings.warn(\"Estimator fit failed. The score on this train-test\"\n",
            "/opt/conda/lib/python3.9/site-packages/sklearn/model_selection/_search.py:918: UserWarning: One or more of the test scores are non-finite: [       nan 0.83637549        nan 0.84005083        nan 0.84345155\n",
            "        nan 0.84500671        nan 0.84514855        nan 0.84515163\n",
            "        nan 0.84515194]\n",
            "  warnings.warn(\n"
          ]
        },
        {
          "name": "stdout",
          "output_type": "stream",
          "text": [
            "CPU times: user 8.41 s, sys: 22.5 s, total: 31 s\n",
            "Wall time: 31 s\n"
          ]
        },
        {
          "data": {
            "text/plain": [
              "GridSearchCV(cv=5, estimator=LogisticRegression(n_jobs=-1, random_state=250722),\n",
              "             param_grid={'C': [0.001, 0.01, 0.1, 1, 10, 100, 1000],\n",
              "                         'penalty': ['l1', 'l2']},\n",
              "             scoring='roc_auc')"
            ]
          },
          "execution_count": 88,
          "metadata": {},
          "output_type": "execute_result"
        }
      ],
      "source": [
        "%%time\n",
        "model_lr.fit(features_upsampled, target_upsampled) #обучение"
      ]
    },
    {
      "cell_type": "code",
      "execution_count": null,
      "id": "35b88281",
      "metadata": {
        "id": "35b88281",
        "outputId": "0d8d0bbb-b6bb-4d4b-9956-06328e8e6bd1"
      },
      "outputs": [
        {
          "data": {
            "text/plain": [
              "LogisticRegression(C=1000, n_jobs=-1, random_state=250722)"
            ]
          },
          "execution_count": 89,
          "metadata": {},
          "output_type": "execute_result"
        }
      ],
      "source": [
        "model_lr.best_estimator_"
      ]
    },
    {
      "cell_type": "code",
      "execution_count": null,
      "id": "bab27bde",
      "metadata": {
        "id": "bab27bde"
      },
      "outputs": [],
      "source": [
        "predict_lr = model_lr.best_estimator_.predict_proba(features_test)[:,1] #находим предсказания вероятности"
      ]
    },
    {
      "cell_type": "code",
      "execution_count": null,
      "id": "f49d287f",
      "metadata": {
        "id": "f49d287f",
        "outputId": "0968fcd3-8b40-45b4-de0d-97b3bd7dd85f"
      },
      "outputs": [
        {
          "data": {
            "text/plain": [
              "0.8412372318168766"
            ]
          },
          "execution_count": 91,
          "metadata": {},
          "output_type": "execute_result"
        }
      ],
      "source": [
        "roc_auc_score(target_test, predict_lr)"
      ]
    },
    {
      "cell_type": "markdown",
      "id": "b60e9af9",
      "metadata": {
        "id": "b60e9af9"
      },
      "source": [
        "#### RandomForest"
      ]
    },
    {
      "cell_type": "code",
      "execution_count": null,
      "id": "92c7e729",
      "metadata": {
        "id": "92c7e729"
      },
      "outputs": [],
      "source": [
        "model = RandomForestClassifier(random_state=250722)\n",
        "params = {'max_depth': [5, 10, 15, 20], 'min_samples_split': [2, 10], 'min_samples_leaf': [2, 10],\n",
        "              'n_estimators': [10,30,50,70,80,90, 100] }\n",
        "model_rf = GridSearchCV(model, params, cv=5, scoring='roc_auc')"
      ]
    },
    {
      "cell_type": "code",
      "execution_count": null,
      "id": "d2979891",
      "metadata": {
        "id": "d2979891",
        "outputId": "cd6ced98-b5ab-45e1-e025-263586b22b85"
      },
      "outputs": [
        {
          "name": "stdout",
          "output_type": "stream",
          "text": [
            "CPU times: user 2min, sys: 850 ms, total: 2min\n",
            "Wall time: 2min 1s\n"
          ]
        },
        {
          "data": {
            "text/plain": [
              "GridSearchCV(cv=5, estimator=RandomForestClassifier(random_state=250722),\n",
              "             param_grid={'max_depth': [5, 10, 15, 20],\n",
              "                         'min_samples_leaf': [2, 10],\n",
              "                         'min_samples_split': [2, 10],\n",
              "                         'n_estimators': [10, 30, 50, 70, 80, 90, 100]},\n",
              "             scoring='roc_auc')"
            ]
          },
          "execution_count": 93,
          "metadata": {},
          "output_type": "execute_result"
        }
      ],
      "source": [
        "%%time\n",
        "model_rf.fit(features_upsampled, target_upsampled)"
      ]
    },
    {
      "cell_type": "code",
      "execution_count": null,
      "id": "7917e33e",
      "metadata": {
        "id": "7917e33e",
        "outputId": "b1a20684-6f04-47da-df0b-e40d318411df"
      },
      "outputs": [
        {
          "data": {
            "text/plain": [
              "{'max_depth': 20,\n",
              " 'min_samples_leaf': 2,\n",
              " 'min_samples_split': 2,\n",
              " 'n_estimators': 100}"
            ]
          },
          "execution_count": 94,
          "metadata": {},
          "output_type": "execute_result"
        }
      ],
      "source": [
        "model_rf.best_params_"
      ]
    },
    {
      "cell_type": "code",
      "execution_count": null,
      "id": "d1a76bf0",
      "metadata": {
        "id": "d1a76bf0"
      },
      "outputs": [],
      "source": [
        "predict_rf = model_rf.best_estimator_.predict_proba(features_test)[:,1] #находим предсказания"
      ]
    },
    {
      "cell_type": "code",
      "execution_count": null,
      "id": "1949832b",
      "metadata": {
        "id": "1949832b",
        "outputId": "2cd268af-024c-4ff2-90d8-4c6ead0b19bd"
      },
      "outputs": [
        {
          "data": {
            "text/plain": [
              "0.8469959387947656"
            ]
          },
          "execution_count": 96,
          "metadata": {},
          "output_type": "execute_result"
        }
      ],
      "source": [
        "roc_auc_score(target_test, predict_rf)"
      ]
    },
    {
      "cell_type": "markdown",
      "id": "2add43da",
      "metadata": {
        "id": "2add43da"
      },
      "source": [
        "#### CatBoost"
      ]
    },
    {
      "cell_type": "code",
      "execution_count": null,
      "id": "1ac51853",
      "metadata": {
        "id": "1ac51853"
      },
      "outputs": [],
      "source": [
        "model_ct = CatBoostClassifier(random_state=250722, verbose=0)\n",
        "\n",
        "params= {\n",
        "    'learning_rate': [0.1, 0.3, 0.4],\n",
        "    'iterations': [50, 80, 100],\n",
        "    'l2_leaf_reg': [3, 6, 9]}\n"
      ]
    },
    {
      "cell_type": "code",
      "execution_count": null,
      "id": "96dd95ae",
      "metadata": {
        "id": "96dd95ae",
        "outputId": "dece2db0-37d3-4897-8aa2-25e30290a91d"
      },
      "outputs": [
        {
          "name": "stdout",
          "output_type": "stream",
          "text": [
            "CPU times: user 24.6 s, sys: 1.23 s, total: 25.8 s\n",
            "Wall time: 1min 30s\n"
          ]
        },
        {
          "data": {
            "text/plain": [
              "GridSearchCV(cv=5,\n",
              "             estimator=<catboost.core.CatBoostClassifier object at 0x7f2764a742e0>,\n",
              "             param_grid={'iterations': [50, 80, 100], 'l2_leaf_reg': [3, 6, 9],\n",
              "                         'learning_rate': [0.1, 0.3, 0.4]},\n",
              "             scoring='roc_auc')"
            ]
          },
          "execution_count": 98,
          "metadata": {},
          "output_type": "execute_result"
        }
      ],
      "source": [
        "%%time\n",
        "model_ct = GridSearchCV(model_ct, params, cv=5, scoring='roc_auc')\n",
        "model_ct.fit(features_upsampled, target_upsampled)"
      ]
    },
    {
      "cell_type": "code",
      "execution_count": null,
      "id": "0343cd14",
      "metadata": {
        "id": "0343cd14"
      },
      "outputs": [],
      "source": [
        "predict_ct = model_ct.best_estimator_.predict_proba(features_test)[:,1] #находим предсказания"
      ]
    },
    {
      "cell_type": "code",
      "execution_count": null,
      "id": "2c4e65fd",
      "metadata": {
        "id": "2c4e65fd",
        "outputId": "fa6af858-bc85-4f24-de16-4fd1c83f398e"
      },
      "outputs": [
        {
          "name": "stdout",
          "output_type": "stream",
          "text": [
            "ROC-AUC на тестовой выборке: 0.9159059769454815\n"
          ]
        }
      ],
      "source": [
        "print(\"ROC-AUC на тестовой выборке:\",roc_auc_score(target_test, predict_ct))"
      ]
    },
    {
      "cell_type": "code",
      "execution_count": null,
      "id": "f49740a2",
      "metadata": {
        "id": "f49740a2",
        "outputId": "8d0ec733-79e5-4000-de56-8079e2d681ec"
      },
      "outputs": [
        {
          "name": "stdout",
          "output_type": "stream",
          "text": [
            "Точность на тестовой выборке: 0.8395904436860068\n"
          ]
        }
      ],
      "source": [
        "print(\"Точность на тестовой выборке:\",accuracy_score(target_test,\n",
        "                                                     model_ct.predict(features_test)))"
      ]
    },
    {
      "cell_type": "code",
      "execution_count": null,
      "id": "52f4c7ec",
      "metadata": {
        "id": "52f4c7ec",
        "outputId": "51800021-aa75-40bb-cecb-12f9d958710d"
      },
      "outputs": [
        {
          "name": "stdout",
          "output_type": "stream",
          "text": [
            "F1 на тестовой выборке: 0.724609375\n"
          ]
        }
      ],
      "source": [
        "print(\"F1 на тестовой выборке:\",f1_score(target_test,\n",
        "                                                     model_ct.predict(features_test)))"
      ]
    },
    {
      "cell_type": "markdown",
      "id": "381bfb57",
      "metadata": {
        "id": "381bfb57"
      },
      "source": [
        "### Важность фактооров "
      ]
    },
    {
      "cell_type": "code",
      "execution_count": null,
      "id": "d0e1ba3a",
      "metadata": {
        "id": "d0e1ba3a"
      },
      "outputs": [],
      "source": [
        "importances = pd.DataFrame(model_ct.best_estimator_.feature_importances_ ,\n",
        "                           index = features_train.columns, \n",
        "                           columns = [\"total\"])"
      ]
    },
    {
      "cell_type": "code",
      "execution_count": null,
      "id": "50c93964",
      "metadata": {
        "id": "50c93964"
      },
      "outputs": [],
      "source": [
        "importances = importances.sort_values(by = 'total', ascending = False)"
      ]
    },
    {
      "cell_type": "code",
      "execution_count": null,
      "id": "f22378b7",
      "metadata": {
        "id": "f22378b7",
        "outputId": "743c52d5-72a3-4fa8-ad97-e65555d7884a"
      },
      "outputs": [
        {
          "data": {
            "text/plain": [
              "<AxesSubplot:title={'center':'Важность факторов'}>"
            ]
          },
          "execution_count": 105,
          "metadata": {},
          "output_type": "execute_result"
        },
        {
          "data": {
            "image/png": "[encoded data removed]",
            "text/plain": [
              "<Figure size 720x360 with 1 Axes>"
            ]
          },
          "metadata": {
            "needs_background": "light"
          },
          "output_type": "display_data"
        }
      ],
      "source": [
        "importances.plot(kind = \"bar\",\n",
        "                 figsize = (10,5),\n",
        "                 grid = True,\n",
        "                 title = \"Важность факторов\" )"
      ]
    },
    {
      "cell_type": "code",
      "execution_count": null,
      "id": "f6dcec23",
      "metadata": {
        "id": "f6dcec23",
        "outputId": "67603288-2b8c-49a7-de7b-b83cd2d35dbd"
      },
      "outputs": [
        {
          "data": {
            "text/html": [
              "<div>\n",
              "<style scoped>\n",
              "    .dataframe tbody tr th:only-of-type {\n",
              "        vertical-align: middle;\n",
              "    }\n",
              "\n",
              "    .dataframe tbody tr th {\n",
              "        vertical-align: top;\n",
              "    }\n",
              "\n",
              "    .dataframe thead th {\n",
              "        text-align: right;\n",
              "    }\n",
              "</style>\n",
              "<table border=\"1\" class=\"dataframe\">\n",
              "  <thead>\n",
              "    <tr style=\"text-align: right;\">\n",
              "      <th></th>\n",
              "      <th>total</th>\n",
              "    </tr>\n",
              "  </thead>\n",
              "  <tbody>\n",
              "    <tr>\n",
              "      <th>days</th>\n",
              "      <td>54.497334</td>\n",
              "    </tr>\n",
              "    <tr>\n",
              "      <th>monthlycharges</th>\n",
              "      <td>10.868840</td>\n",
              "    </tr>\n",
              "    <tr>\n",
              "      <th>type_Two year</th>\n",
              "      <td>3.203340</td>\n",
              "    </tr>\n",
              "    <tr>\n",
              "      <th>gender_Male</th>\n",
              "      <td>2.662219</td>\n",
              "    </tr>\n",
              "    <tr>\n",
              "      <th>deviceprotection</th>\n",
              "      <td>2.228147</td>\n",
              "    </tr>\n",
              "    <tr>\n",
              "      <th>streamingtv</th>\n",
              "      <td>2.129574</td>\n",
              "    </tr>\n",
              "    <tr>\n",
              "      <th>paymentmethod_Electronic check</th>\n",
              "      <td>2.063067</td>\n",
              "    </tr>\n",
              "    <tr>\n",
              "      <th>type_One year</th>\n",
              "      <td>2.047020</td>\n",
              "    </tr>\n",
              "    <tr>\n",
              "      <th>paperlessbilling</th>\n",
              "      <td>1.840398</td>\n",
              "    </tr>\n",
              "    <tr>\n",
              "      <th>internetservice_Fiber optic</th>\n",
              "      <td>1.827890</td>\n",
              "    </tr>\n",
              "    <tr>\n",
              "      <th>internetservice_DSL</th>\n",
              "      <td>1.681359</td>\n",
              "    </tr>\n",
              "    <tr>\n",
              "      <th>multiplelines</th>\n",
              "      <td>1.633183</td>\n",
              "    </tr>\n",
              "    <tr>\n",
              "      <th>paymentmethod_Credit card (automatic)</th>\n",
              "      <td>1.629240</td>\n",
              "    </tr>\n",
              "    <tr>\n",
              "      <th>partner</th>\n",
              "      <td>1.627956</td>\n",
              "    </tr>\n",
              "    <tr>\n",
              "      <th>onlinesecurity</th>\n",
              "      <td>1.602751</td>\n",
              "    </tr>\n",
              "    <tr>\n",
              "      <th>dependents</th>\n",
              "      <td>1.581757</td>\n",
              "    </tr>\n",
              "    <tr>\n",
              "      <th>seniorcitizen</th>\n",
              "      <td>1.546143</td>\n",
              "    </tr>\n",
              "    <tr>\n",
              "      <th>streamingmovies</th>\n",
              "      <td>1.395493</td>\n",
              "    </tr>\n",
              "    <tr>\n",
              "      <th>onlinebackup</th>\n",
              "      <td>1.381484</td>\n",
              "    </tr>\n",
              "    <tr>\n",
              "      <th>paymentmethod_Mailed check</th>\n",
              "      <td>1.321108</td>\n",
              "    </tr>\n",
              "    <tr>\n",
              "      <th>techsupport</th>\n",
              "      <td>1.231696</td>\n",
              "    </tr>\n",
              "  </tbody>\n",
              "</table>\n",
              "</div>"
            ],
            "text/plain": [
              "                                           total\n",
              "days                                   54.497334\n",
              "monthlycharges                         10.868840\n",
              "type_Two year                           3.203340\n",
              "gender_Male                             2.662219\n",
              "deviceprotection                        2.228147\n",
              "streamingtv                             2.129574\n",
              "paymentmethod_Electronic check          2.063067\n",
              "type_One year                           2.047020\n",
              "paperlessbilling                        1.840398\n",
              "internetservice_Fiber optic             1.827890\n",
              "internetservice_DSL                     1.681359\n",
              "multiplelines                           1.633183\n",
              "paymentmethod_Credit card (automatic)   1.629240\n",
              "partner                                 1.627956\n",
              "onlinesecurity                          1.602751\n",
              "dependents                              1.581757\n",
              "seniorcitizen                           1.546143\n",
              "streamingmovies                         1.395493\n",
              "onlinebackup                            1.381484\n",
              "paymentmethod_Mailed check              1.321108\n",
              "techsupport                             1.231696"
            ]
          },
          "execution_count": 106,
          "metadata": {},
          "output_type": "execute_result"
        }
      ],
      "source": [
        "importances"
      ]
    },
    {
      "cell_type": "markdown",
      "id": "70194c70",
      "metadata": {
        "id": "70194c70"
      },
      "source": [
        "На графике выше продемонстрирован рейтинг важности признаков, как и ожидалось - самые важные факторы - это количество дней в компании и ежемесячный платеж. "
      ]
    },
    {
      "cell_type": "markdown",
      "id": "5908920d",
      "metadata": {
        "id": "5908920d"
      },
      "source": [
        "## Вывод"
      ]
    },
    {
      "cell_type": "markdown",
      "id": "6e3fc934",
      "metadata": {
        "id": "6e3fc934"
      },
      "source": [
        "В рамках данного проекта, были исследованы данные о пользователях, пользующиеся неким оператором связи, в результате чего был проведен аналализ данных и построены различные модели обучения, исходя из чего можно сделать выводы о том, что :\n",
        "\n",
        "1. Данные были успешно предобработы, дубликатов явных и неявных не было представлено, удалены неявные пропуски, заполенены пропущенные значения.\n",
        "2. В результате анализа данных, изнчально было очевидно, что ежемесячный платеж, общее количество дней использования оператора и общая сумма -  самые значимые факторы. Дополнительные услуги, уже на данном этапе показались нам не столь важные, т.к. доли клиентов с услугой и без услугой, оставались или уходили в компании примерно одинаково.\n",
        "3. Построив матрицу корреляции было принято решение удалить численный признак, а именно общая выручка, т.к. она коррелирует с высоким значением, а именно - 0.86, по количеству дней в компании.\n",
        "4. Была решена проблема дисбаланса класса, применен метод OHE для категориальных признаков.\n",
        "5. Были построены несколько моделей обучения, а именно LogisticRegression, RandomForest, CatBoost.\n",
        "6. CatBoost на матрике ROC-AUC показала самый высокий результат : 0.9159\n",
        "7. Точность : 0.8395, F1 : 0.7246\n",
        "8. Самые важные факторы - это количество дней и ежемесячный платеж.\n",
        "9. Мои мысли : на мой взгляд, слишком велико значение 2ух численных факторов, компании следует использовать различные промокомпании или усилить конкуретноспособность различных дополнительных \"плюшек\", чтобы оставлять клиентов не только \"по привычке\" (дата) и денежного вопроса (ежемесячный платеж), но и привлекать его по различным продуктам внутри компании. Те же стриминговые сервисы и защита влияют на лояльность пользователя, нужно, на мой взгляд, проработать этот вопрос, чтобы в дальнейшем говорить о встаивания модели предсказания в копмпанию, могу быть не прав, но мысль так легла."
      ]
    },
    {
      "cell_type": "code",
      "execution_count": null,
      "id": "eea86932",
      "metadata": {
        "id": "eea86932"
      },
      "outputs": [],
      "source": []
    }
  ],
  "metadata": {
    "ExecuteTimeLog": [
      {
        "duration": 1756,
        "start_time": "2022-08-02T21:40:27.658Z"
      },
      {
        "duration": 133,
        "start_time": "2022-08-02T21:40:30.850Z"
      },
      {
        "duration": 50,
        "start_time": "2022-08-02T21:41:05.256Z"
      },
      {
        "duration": 101,
        "start_time": "2022-08-02T21:42:29.931Z"
      },
      {
        "duration": 14,
        "start_time": "2022-08-02T21:45:33.372Z"
      },
      {
        "duration": 13,
        "start_time": "2022-08-02T21:45:34.427Z"
      },
      {
        "duration": 4,
        "start_time": "2022-08-02T21:45:36.065Z"
      },
      {
        "duration": 8,
        "start_time": "2022-08-02T21:45:36.200Z"
      },
      {
        "duration": 7,
        "start_time": "2022-08-02T21:45:36.388Z"
      },
      {
        "duration": 6,
        "start_time": "2022-08-02T21:45:36.579Z"
      },
      {
        "duration": 9,
        "start_time": "2022-08-02T21:45:37.358Z"
      },
      {
        "duration": 6,
        "start_time": "2022-08-02T21:45:38.927Z"
      },
      {
        "duration": 8,
        "start_time": "2022-08-02T21:45:39.230Z"
      },
      {
        "duration": 13,
        "start_time": "2022-08-02T21:45:39.427Z"
      },
      {
        "duration": 5,
        "start_time": "2022-08-02T21:45:40.128Z"
      },
      {
        "duration": 8,
        "start_time": "2022-08-02T21:45:42.043Z"
      },
      {
        "duration": 4,
        "start_time": "2022-08-02T21:45:42.586Z"
      },
      {
        "duration": 5,
        "start_time": "2022-08-02T21:45:42.776Z"
      },
      {
        "duration": 7,
        "start_time": "2022-08-02T21:45:43.530Z"
      },
      {
        "duration": 16,
        "start_time": "2022-08-02T21:45:45.857Z"
      },
      {
        "duration": 16,
        "start_time": "2022-08-02T21:45:50.173Z"
      },
      {
        "duration": 19,
        "start_time": "2022-08-02T21:47:08.494Z"
      },
      {
        "duration": 11,
        "start_time": "2022-08-02T21:47:09.649Z"
      },
      {
        "duration": 4,
        "start_time": "2022-08-02T21:47:10.413Z"
      },
      {
        "duration": 6,
        "start_time": "2022-08-02T21:47:13.450Z"
      },
      {
        "duration": 6,
        "start_time": "2022-08-02T21:47:14.503Z"
      },
      {
        "duration": 12,
        "start_time": "2022-08-02T21:47:15.979Z"
      },
      {
        "duration": 14,
        "start_time": "2022-08-02T21:47:49.343Z"
      },
      {
        "duration": 12,
        "start_time": "2022-08-02T21:47:50.211Z"
      },
      {
        "duration": 3,
        "start_time": "2022-08-02T21:47:50.894Z"
      },
      {
        "duration": 7,
        "start_time": "2022-08-02T21:47:51.997Z"
      },
      {
        "duration": 4,
        "start_time": "2022-08-02T21:47:52.582Z"
      },
      {
        "duration": 13,
        "start_time": "2022-08-02T21:47:52.859Z"
      },
      {
        "duration": 13,
        "start_time": "2022-08-02T21:47:53.848Z"
      },
      {
        "duration": 7,
        "start_time": "2022-08-02T21:47:57.384Z"
      },
      {
        "duration": 10,
        "start_time": "2022-08-02T21:47:57.525Z"
      },
      {
        "duration": 3,
        "start_time": "2022-08-02T21:47:57.978Z"
      },
      {
        "duration": 5,
        "start_time": "2022-08-02T21:47:58.524Z"
      },
      {
        "duration": 5,
        "start_time": "2022-08-02T21:47:59.240Z"
      },
      {
        "duration": 3,
        "start_time": "2022-08-02T21:48:38.549Z"
      },
      {
        "duration": 7,
        "start_time": "2022-08-02T21:48:39.268Z"
      },
      {
        "duration": 7,
        "start_time": "2022-08-02T21:48:40.225Z"
      },
      {
        "duration": 12,
        "start_time": "2022-08-02T21:48:41.025Z"
      },
      {
        "duration": 48,
        "start_time": "2022-08-02T21:48:43.324Z"
      },
      {
        "duration": 13,
        "start_time": "2022-08-02T21:48:47.914Z"
      },
      {
        "duration": 31,
        "start_time": "2022-08-02T21:49:11.386Z"
      },
      {
        "duration": 20,
        "start_time": "2022-08-02T21:49:18.041Z"
      },
      {
        "duration": 6,
        "start_time": "2022-08-02T21:49:38.337Z"
      },
      {
        "duration": 56,
        "start_time": "2022-08-02T21:50:28.802Z"
      },
      {
        "duration": 276,
        "start_time": "2022-08-02T21:50:29.468Z"
      },
      {
        "duration": 243,
        "start_time": "2022-08-02T21:50:30.682Z"
      },
      {
        "duration": 197,
        "start_time": "2022-08-02T21:50:32.122Z"
      },
      {
        "duration": 186,
        "start_time": "2022-08-02T21:50:32.706Z"
      },
      {
        "duration": 121,
        "start_time": "2022-08-02T21:50:34.092Z"
      },
      {
        "duration": 128,
        "start_time": "2022-08-02T21:50:35.326Z"
      },
      {
        "duration": 116,
        "start_time": "2022-08-02T21:50:36.228Z"
      },
      {
        "duration": 107,
        "start_time": "2022-08-02T21:50:36.468Z"
      },
      {
        "duration": 126,
        "start_time": "2022-08-02T21:50:36.925Z"
      },
      {
        "duration": 114,
        "start_time": "2022-08-02T21:50:37.376Z"
      },
      {
        "duration": 124,
        "start_time": "2022-08-02T21:50:37.596Z"
      },
      {
        "duration": 114,
        "start_time": "2022-08-02T21:50:38.125Z"
      },
      {
        "duration": 121,
        "start_time": "2022-08-02T21:50:38.500Z"
      },
      {
        "duration": 207,
        "start_time": "2022-08-02T21:50:38.999Z"
      },
      {
        "duration": 122,
        "start_time": "2022-08-02T21:50:39.207Z"
      },
      {
        "duration": 108,
        "start_time": "2022-08-02T21:50:39.383Z"
      },
      {
        "duration": 110,
        "start_time": "2022-08-02T21:50:39.569Z"
      },
      {
        "duration": 104,
        "start_time": "2022-08-02T21:50:40.430Z"
      },
      {
        "duration": 111,
        "start_time": "2022-08-02T21:50:40.536Z"
      },
      {
        "duration": 121,
        "start_time": "2022-08-02T21:50:40.648Z"
      },
      {
        "duration": 119,
        "start_time": "2022-08-02T21:50:40.909Z"
      },
      {
        "duration": 139,
        "start_time": "2022-08-02T21:50:41.496Z"
      },
      {
        "duration": 115,
        "start_time": "2022-08-02T21:50:42.382Z"
      },
      {
        "duration": 152,
        "start_time": "2022-08-02T21:50:42.729Z"
      },
      {
        "duration": 1502,
        "start_time": "2022-08-02T21:50:46.567Z"
      },
      {
        "duration": 5,
        "start_time": "2022-08-02T21:50:48.071Z"
      },
      {
        "duration": 13,
        "start_time": "2022-08-02T21:51:49.968Z"
      },
      {
        "duration": 15,
        "start_time": "2022-08-02T21:51:54.761Z"
      },
      {
        "duration": 7,
        "start_time": "2022-08-02T21:51:55.748Z"
      },
      {
        "duration": 6,
        "start_time": "2022-08-02T21:51:56.544Z"
      },
      {
        "duration": 1965,
        "start_time": "2022-08-03T18:44:51.026Z"
      },
      {
        "duration": 362,
        "start_time": "2022-08-03T18:44:52.994Z"
      },
      {
        "duration": 15,
        "start_time": "2022-08-03T18:44:53.358Z"
      },
      {
        "duration": 15,
        "start_time": "2022-08-03T18:44:53.375Z"
      },
      {
        "duration": 19,
        "start_time": "2022-08-03T18:44:53.392Z"
      },
      {
        "duration": 12,
        "start_time": "2022-08-03T18:44:53.413Z"
      },
      {
        "duration": 8,
        "start_time": "2022-08-03T18:44:53.427Z"
      },
      {
        "duration": 10,
        "start_time": "2022-08-03T18:44:53.437Z"
      },
      {
        "duration": 12,
        "start_time": "2022-08-03T18:44:53.448Z"
      },
      {
        "duration": 5,
        "start_time": "2022-08-03T18:44:53.463Z"
      },
      {
        "duration": 26,
        "start_time": "2022-08-03T18:44:53.470Z"
      },
      {
        "duration": 26,
        "start_time": "2022-08-03T18:44:53.498Z"
      },
      {
        "duration": 11,
        "start_time": "2022-08-03T18:44:53.527Z"
      },
      {
        "duration": 19,
        "start_time": "2022-08-03T18:44:53.540Z"
      },
      {
        "duration": 6,
        "start_time": "2022-08-03T18:44:53.561Z"
      },
      {
        "duration": 25,
        "start_time": "2022-08-03T18:44:53.570Z"
      },
      {
        "duration": 19,
        "start_time": "2022-08-03T18:44:53.597Z"
      },
      {
        "duration": 16,
        "start_time": "2022-08-03T18:44:53.618Z"
      },
      {
        "duration": 23,
        "start_time": "2022-08-03T18:44:53.636Z"
      },
      {
        "duration": 30,
        "start_time": "2022-08-03T18:44:53.660Z"
      },
      {
        "duration": 22,
        "start_time": "2022-08-03T18:44:53.692Z"
      },
      {
        "duration": 5,
        "start_time": "2022-08-03T18:44:53.715Z"
      },
      {
        "duration": 13,
        "start_time": "2022-08-03T18:44:53.722Z"
      },
      {
        "duration": 10,
        "start_time": "2022-08-03T18:44:53.736Z"
      },
      {
        "duration": 16,
        "start_time": "2022-08-03T18:44:53.747Z"
      },
      {
        "duration": 13,
        "start_time": "2022-08-03T18:44:53.789Z"
      },
      {
        "duration": 25,
        "start_time": "2022-08-03T18:44:53.803Z"
      },
      {
        "duration": 7,
        "start_time": "2022-08-03T18:44:53.833Z"
      },
      {
        "duration": 10,
        "start_time": "2022-08-03T18:44:53.842Z"
      },
      {
        "duration": 6,
        "start_time": "2022-08-03T18:44:53.854Z"
      },
      {
        "duration": 24,
        "start_time": "2022-08-03T18:44:53.890Z"
      },
      {
        "duration": 15,
        "start_time": "2022-08-03T18:44:53.917Z"
      },
      {
        "duration": 12,
        "start_time": "2022-08-03T18:44:53.934Z"
      },
      {
        "duration": 28,
        "start_time": "2022-08-03T18:44:53.948Z"
      },
      {
        "duration": 3,
        "start_time": "2022-08-03T18:44:53.988Z"
      },
      {
        "duration": 10,
        "start_time": "2022-08-03T18:44:53.993Z"
      },
      {
        "duration": 20,
        "start_time": "2022-08-03T18:44:54.008Z"
      },
      {
        "duration": 8,
        "start_time": "2022-08-03T18:44:54.029Z"
      },
      {
        "duration": 22,
        "start_time": "2022-08-03T18:44:54.039Z"
      },
      {
        "duration": 16,
        "start_time": "2022-08-03T18:44:54.064Z"
      },
      {
        "duration": 17,
        "start_time": "2022-08-03T18:44:54.089Z"
      },
      {
        "duration": 61,
        "start_time": "2022-08-03T18:44:54.109Z"
      },
      {
        "duration": 30,
        "start_time": "2022-08-03T18:44:54.172Z"
      },
      {
        "duration": 42,
        "start_time": "2022-08-03T18:44:54.205Z"
      },
      {
        "duration": 20,
        "start_time": "2022-08-03T18:44:54.249Z"
      },
      {
        "duration": 9,
        "start_time": "2022-08-03T18:44:54.270Z"
      },
      {
        "duration": 93,
        "start_time": "2022-08-03T18:44:54.280Z"
      },
      {
        "duration": 395,
        "start_time": "2022-08-03T18:44:54.375Z"
      },
      {
        "duration": 291,
        "start_time": "2022-08-03T18:44:54.772Z"
      },
      {
        "duration": 194,
        "start_time": "2022-08-03T18:44:55.065Z"
      },
      {
        "duration": 188,
        "start_time": "2022-08-03T18:44:55.261Z"
      },
      {
        "duration": 147,
        "start_time": "2022-08-03T18:44:55.450Z"
      },
      {
        "duration": 169,
        "start_time": "2022-08-03T18:44:55.600Z"
      },
      {
        "duration": 148,
        "start_time": "2022-08-03T18:44:55.771Z"
      },
      {
        "duration": 148,
        "start_time": "2022-08-03T18:44:55.921Z"
      },
      {
        "duration": 161,
        "start_time": "2022-08-03T18:44:56.070Z"
      },
      {
        "duration": 199,
        "start_time": "2022-08-03T18:44:56.233Z"
      },
      {
        "duration": 169,
        "start_time": "2022-08-03T18:44:56.434Z"
      },
      {
        "duration": 167,
        "start_time": "2022-08-03T18:44:56.606Z"
      },
      {
        "duration": 120,
        "start_time": "2022-08-03T18:44:56.775Z"
      },
      {
        "duration": 138,
        "start_time": "2022-08-03T18:44:56.896Z"
      },
      {
        "duration": 230,
        "start_time": "2022-08-03T18:44:57.036Z"
      },
      {
        "duration": 126,
        "start_time": "2022-08-03T18:44:57.268Z"
      },
      {
        "duration": 154,
        "start_time": "2022-08-03T18:44:57.395Z"
      },
      {
        "duration": 144,
        "start_time": "2022-08-03T18:44:57.551Z"
      },
      {
        "duration": 129,
        "start_time": "2022-08-03T18:44:57.699Z"
      },
      {
        "duration": 143,
        "start_time": "2022-08-03T18:44:57.830Z"
      },
      {
        "duration": 171,
        "start_time": "2022-08-03T18:44:57.975Z"
      },
      {
        "duration": 149,
        "start_time": "2022-08-03T18:44:58.148Z"
      },
      {
        "duration": 137,
        "start_time": "2022-08-03T18:44:58.299Z"
      },
      {
        "duration": 202,
        "start_time": "2022-08-03T18:44:58.438Z"
      },
      {
        "duration": 434,
        "start_time": "2022-08-03T18:44:58.642Z"
      },
      {
        "duration": 35,
        "start_time": "2022-08-03T18:44:59.078Z"
      },
      {
        "duration": 19,
        "start_time": "2022-08-03T18:44:59.114Z"
      },
      {
        "duration": 5,
        "start_time": "2022-08-03T18:44:59.135Z"
      },
      {
        "duration": 8,
        "start_time": "2022-08-03T18:44:59.143Z"
      },
      {
        "duration": 6,
        "start_time": "2022-08-03T18:44:59.153Z"
      },
      {
        "duration": 12,
        "start_time": "2022-08-03T18:44:59.187Z"
      },
      {
        "duration": 15,
        "start_time": "2022-08-03T18:44:59.202Z"
      },
      {
        "duration": 5,
        "start_time": "2022-08-03T18:44:59.219Z"
      },
      {
        "duration": 28,
        "start_time": "2022-08-03T18:44:59.226Z"
      },
      {
        "duration": 30,
        "start_time": "2022-08-03T18:44:59.260Z"
      },
      {
        "duration": 16,
        "start_time": "2022-08-03T18:44:59.293Z"
      },
      {
        "duration": 18,
        "start_time": "2022-08-03T18:44:59.311Z"
      },
      {
        "duration": 5,
        "start_time": "2022-08-03T18:44:59.332Z"
      },
      {
        "duration": 39057,
        "start_time": "2022-08-03T18:44:59.339Z"
      },
      {
        "duration": 86,
        "start_time": "2022-08-03T18:45:38.400Z"
      },
      {
        "duration": 19,
        "start_time": "2022-08-03T18:45:38.488Z"
      },
      {
        "duration": 76,
        "start_time": "2022-08-03T18:45:38.511Z"
      },
      {
        "duration": 88,
        "start_time": "2022-08-03T18:45:38.601Z"
      },
      {
        "duration": 159261,
        "start_time": "2022-08-03T18:45:38.692Z"
      },
      {
        "duration": 3,
        "start_time": "2022-08-03T18:48:17.955Z"
      },
      {
        "duration": 77,
        "start_time": "2022-08-03T18:48:17.960Z"
      },
      {
        "duration": 20,
        "start_time": "2022-08-03T18:48:18.039Z"
      },
      {
        "duration": 3,
        "start_time": "2022-08-03T18:48:18.060Z"
      },
      {
        "duration": 95528,
        "start_time": "2022-08-03T18:48:18.065Z"
      },
      {
        "duration": 6,
        "start_time": "2022-08-03T18:49:53.598Z"
      },
      {
        "duration": 25,
        "start_time": "2022-08-03T18:49:53.606Z"
      },
      {
        "duration": 316,
        "start_time": "2022-08-03T18:50:15.038Z"
      },
      {
        "duration": 4,
        "start_time": "2022-08-03T18:54:32.354Z"
      },
      {
        "duration": 32,
        "start_time": "2022-08-03T18:54:40.661Z"
      },
      {
        "duration": 1629,
        "start_time": "2022-08-03T18:55:36.824Z"
      },
      {
        "duration": 121,
        "start_time": "2022-08-03T18:55:38.455Z"
      },
      {
        "duration": 25,
        "start_time": "2022-08-03T18:55:38.578Z"
      },
      {
        "duration": 19,
        "start_time": "2022-08-03T18:55:38.606Z"
      },
      {
        "duration": 6,
        "start_time": "2022-08-03T18:55:38.627Z"
      },
      {
        "duration": 9,
        "start_time": "2022-08-03T18:55:38.635Z"
      },
      {
        "duration": 8,
        "start_time": "2022-08-03T18:55:38.646Z"
      },
      {
        "duration": 7,
        "start_time": "2022-08-03T18:55:38.655Z"
      },
      {
        "duration": 30,
        "start_time": "2022-08-03T18:55:38.664Z"
      },
      {
        "duration": 7,
        "start_time": "2022-08-03T18:55:38.699Z"
      },
      {
        "duration": 18,
        "start_time": "2022-08-03T18:55:38.709Z"
      },
      {
        "duration": 15,
        "start_time": "2022-08-03T18:55:38.730Z"
      },
      {
        "duration": 5,
        "start_time": "2022-08-03T18:55:38.746Z"
      },
      {
        "duration": 47,
        "start_time": "2022-08-03T18:55:38.752Z"
      },
      {
        "duration": 11,
        "start_time": "2022-08-03T18:55:38.802Z"
      },
      {
        "duration": 12,
        "start_time": "2022-08-03T18:55:38.815Z"
      },
      {
        "duration": 13,
        "start_time": "2022-08-03T18:55:38.829Z"
      },
      {
        "duration": 25,
        "start_time": "2022-08-03T18:55:38.844Z"
      },
      {
        "duration": 31,
        "start_time": "2022-08-03T18:55:38.886Z"
      },
      {
        "duration": 9,
        "start_time": "2022-08-03T18:55:38.918Z"
      },
      {
        "duration": 16,
        "start_time": "2022-08-03T18:55:38.928Z"
      },
      {
        "duration": 5,
        "start_time": "2022-08-03T18:55:38.946Z"
      },
      {
        "duration": 14,
        "start_time": "2022-08-03T18:55:38.954Z"
      },
      {
        "duration": 23,
        "start_time": "2022-08-03T18:55:38.970Z"
      },
      {
        "duration": 24,
        "start_time": "2022-08-03T18:55:38.997Z"
      },
      {
        "duration": 13,
        "start_time": "2022-08-03T18:55:39.023Z"
      },
      {
        "duration": 14,
        "start_time": "2022-08-03T18:55:39.037Z"
      },
      {
        "duration": 3,
        "start_time": "2022-08-03T18:55:39.055Z"
      },
      {
        "duration": 29,
        "start_time": "2022-08-03T18:55:39.060Z"
      },
      {
        "duration": 15,
        "start_time": "2022-08-03T18:55:39.092Z"
      },
      {
        "duration": 13,
        "start_time": "2022-08-03T18:55:39.110Z"
      },
      {
        "duration": 12,
        "start_time": "2022-08-03T18:55:39.125Z"
      },
      {
        "duration": 10,
        "start_time": "2022-08-03T18:55:39.139Z"
      },
      {
        "duration": 14,
        "start_time": "2022-08-03T18:55:39.151Z"
      },
      {
        "duration": 27,
        "start_time": "2022-08-03T18:55:39.167Z"
      },
      {
        "duration": 12,
        "start_time": "2022-08-03T18:55:39.197Z"
      },
      {
        "duration": 7,
        "start_time": "2022-08-03T18:55:39.211Z"
      },
      {
        "duration": 3,
        "start_time": "2022-08-03T18:55:39.221Z"
      },
      {
        "duration": 11,
        "start_time": "2022-08-03T18:55:39.226Z"
      },
      {
        "duration": 10,
        "start_time": "2022-08-03T18:55:39.239Z"
      },
      {
        "duration": 37,
        "start_time": "2022-08-03T18:55:39.251Z"
      },
      {
        "duration": 61,
        "start_time": "2022-08-03T18:55:39.290Z"
      },
      {
        "duration": 48,
        "start_time": "2022-08-03T18:55:39.354Z"
      },
      {
        "duration": 28,
        "start_time": "2022-08-03T18:55:39.403Z"
      },
      {
        "duration": 35,
        "start_time": "2022-08-03T18:55:39.433Z"
      },
      {
        "duration": 13,
        "start_time": "2022-08-03T18:55:39.488Z"
      },
      {
        "duration": 54,
        "start_time": "2022-08-03T18:55:39.504Z"
      },
      {
        "duration": 355,
        "start_time": "2022-08-03T18:55:39.560Z"
      },
      {
        "duration": 264,
        "start_time": "2022-08-03T18:55:39.918Z"
      },
      {
        "duration": 207,
        "start_time": "2022-08-03T18:55:40.183Z"
      },
      {
        "duration": 298,
        "start_time": "2022-08-03T18:55:40.398Z"
      },
      {
        "duration": 178,
        "start_time": "2022-08-03T18:55:40.698Z"
      },
      {
        "duration": 167,
        "start_time": "2022-08-03T18:55:40.878Z"
      },
      {
        "duration": 189,
        "start_time": "2022-08-03T18:55:41.048Z"
      },
      {
        "duration": 133,
        "start_time": "2022-08-03T18:55:41.239Z"
      },
      {
        "duration": 158,
        "start_time": "2022-08-03T18:55:41.374Z"
      },
      {
        "duration": 154,
        "start_time": "2022-08-03T18:55:41.533Z"
      },
      {
        "duration": 168,
        "start_time": "2022-08-03T18:55:41.690Z"
      },
      {
        "duration": 141,
        "start_time": "2022-08-03T18:55:41.859Z"
      },
      {
        "duration": 155,
        "start_time": "2022-08-03T18:55:42.014Z"
      },
      {
        "duration": 143,
        "start_time": "2022-08-03T18:55:42.171Z"
      },
      {
        "duration": 239,
        "start_time": "2022-08-03T18:55:42.316Z"
      },
      {
        "duration": 136,
        "start_time": "2022-08-03T18:55:42.557Z"
      },
      {
        "duration": 150,
        "start_time": "2022-08-03T18:55:42.695Z"
      },
      {
        "duration": 124,
        "start_time": "2022-08-03T18:55:42.846Z"
      },
      {
        "duration": 137,
        "start_time": "2022-08-03T18:55:42.971Z"
      },
      {
        "duration": 145,
        "start_time": "2022-08-03T18:55:43.110Z"
      },
      {
        "duration": 152,
        "start_time": "2022-08-03T18:55:43.257Z"
      },
      {
        "duration": 126,
        "start_time": "2022-08-03T18:55:43.411Z"
      },
      {
        "duration": 180,
        "start_time": "2022-08-03T18:55:43.539Z"
      },
      {
        "duration": 180,
        "start_time": "2022-08-03T18:55:43.721Z"
      },
      {
        "duration": 301,
        "start_time": "2022-08-03T18:55:43.902Z"
      },
      {
        "duration": 10,
        "start_time": "2022-08-03T18:55:44.206Z"
      },
      {
        "duration": 24,
        "start_time": "2022-08-03T18:55:44.218Z"
      },
      {
        "duration": 23,
        "start_time": "2022-08-03T18:55:44.244Z"
      },
      {
        "duration": 18,
        "start_time": "2022-08-03T18:55:44.268Z"
      },
      {
        "duration": 18,
        "start_time": "2022-08-03T18:55:44.288Z"
      },
      {
        "duration": 19,
        "start_time": "2022-08-03T18:55:44.310Z"
      },
      {
        "duration": 14,
        "start_time": "2022-08-03T18:55:44.331Z"
      },
      {
        "duration": 22,
        "start_time": "2022-08-03T18:55:44.347Z"
      },
      {
        "duration": 11,
        "start_time": "2022-08-03T18:55:44.370Z"
      },
      {
        "duration": 14,
        "start_time": "2022-08-03T18:55:44.388Z"
      },
      {
        "duration": 32,
        "start_time": "2022-08-03T18:55:44.404Z"
      },
      {
        "duration": 13,
        "start_time": "2022-08-03T18:55:44.438Z"
      },
      {
        "duration": 15,
        "start_time": "2022-08-03T18:55:44.453Z"
      },
      {
        "duration": 15,
        "start_time": "2022-08-03T18:55:44.470Z"
      },
      {
        "duration": 32,
        "start_time": "2022-08-03T18:55:44.492Z"
      },
      {
        "duration": 52270,
        "start_time": "2022-08-03T18:55:44.525Z"
      },
      {
        "duration": 86,
        "start_time": "2022-08-03T18:56:36.803Z"
      },
      {
        "duration": 24,
        "start_time": "2022-08-03T18:56:36.891Z"
      },
      {
        "duration": 128,
        "start_time": "2022-08-03T18:56:36.988Z"
      },
      {
        "duration": 11,
        "start_time": "2022-08-03T18:56:37.117Z"
      },
      {
        "duration": 140082,
        "start_time": "2022-08-03T18:56:37.130Z"
      },
      {
        "duration": 6,
        "start_time": "2022-08-03T18:58:57.214Z"
      },
      {
        "duration": 66,
        "start_time": "2022-08-03T18:58:57.221Z"
      },
      {
        "duration": 18,
        "start_time": "2022-08-03T18:58:57.294Z"
      },
      {
        "duration": 10,
        "start_time": "2022-08-03T18:58:57.315Z"
      },
      {
        "duration": 95019,
        "start_time": "2022-08-03T18:58:57.327Z"
      },
      {
        "duration": 5,
        "start_time": "2022-08-03T19:00:32.348Z"
      },
      {
        "duration": 11,
        "start_time": "2022-08-03T19:00:32.355Z"
      },
      {
        "duration": 136,
        "start_time": "2022-08-03T19:10:17.883Z"
      },
      {
        "duration": 5,
        "start_time": "2022-08-03T19:40:45.587Z"
      },
      {
        "duration": 3,
        "start_time": "2022-08-03T19:42:09.863Z"
      },
      {
        "duration": 8,
        "start_time": "2022-08-03T19:42:29.931Z"
      },
      {
        "duration": 4,
        "start_time": "2022-08-03T19:45:24.431Z"
      },
      {
        "duration": 144,
        "start_time": "2022-08-03T19:45:33.088Z"
      },
      {
        "duration": 8,
        "start_time": "2022-08-03T19:45:55.176Z"
      },
      {
        "duration": 9,
        "start_time": "2022-08-03T19:46:14.366Z"
      },
      {
        "duration": 10,
        "start_time": "2022-08-03T19:46:44.860Z"
      },
      {
        "duration": 4,
        "start_time": "2022-08-03T19:47:31.999Z"
      },
      {
        "duration": 4,
        "start_time": "2022-08-03T19:47:40.342Z"
      },
      {
        "duration": 4,
        "start_time": "2022-08-03T19:47:57.739Z"
      },
      {
        "duration": 271,
        "start_time": "2022-08-03T19:48:26.044Z"
      },
      {
        "duration": 325,
        "start_time": "2022-08-03T19:48:38.435Z"
      },
      {
        "duration": 241,
        "start_time": "2022-08-03T19:48:43.258Z"
      },
      {
        "duration": 270,
        "start_time": "2022-08-03T19:49:54.444Z"
      },
      {
        "duration": 17,
        "start_time": "2022-08-03T19:52:36.687Z"
      },
      {
        "duration": 5,
        "start_time": "2022-08-03T19:56:25.593Z"
      },
      {
        "duration": 47,
        "start_time": "2022-08-03T19:57:39.720Z"
      },
      {
        "duration": 12,
        "start_time": "2022-08-03T19:57:59.690Z"
      },
      {
        "duration": 16,
        "start_time": "2022-08-03T20:00:22.627Z"
      },
      {
        "duration": 6,
        "start_time": "2022-08-03T20:02:34.445Z"
      },
      {
        "duration": 9,
        "start_time": "2022-08-03T20:20:02.028Z"
      },
      {
        "duration": 1511,
        "start_time": "2022-08-05T21:41:46.935Z"
      },
      {
        "duration": 328,
        "start_time": "2022-08-05T21:41:48.448Z"
      },
      {
        "duration": 13,
        "start_time": "2022-08-05T21:41:48.778Z"
      },
      {
        "duration": 32,
        "start_time": "2022-08-05T21:41:48.793Z"
      },
      {
        "duration": 11,
        "start_time": "2022-08-05T21:41:48.826Z"
      },
      {
        "duration": 32,
        "start_time": "2022-08-05T21:41:48.838Z"
      },
      {
        "duration": 29,
        "start_time": "2022-08-05T21:41:48.871Z"
      },
      {
        "duration": 33,
        "start_time": "2022-08-05T21:41:48.902Z"
      },
      {
        "duration": 22,
        "start_time": "2022-08-05T21:41:48.936Z"
      },
      {
        "duration": 12,
        "start_time": "2022-08-05T21:41:48.960Z"
      },
      {
        "duration": 24,
        "start_time": "2022-08-05T21:41:48.973Z"
      },
      {
        "duration": 38,
        "start_time": "2022-08-05T21:41:48.998Z"
      },
      {
        "duration": 20,
        "start_time": "2022-08-05T21:41:49.038Z"
      },
      {
        "duration": 16,
        "start_time": "2022-08-05T21:41:49.059Z"
      },
      {
        "duration": 21,
        "start_time": "2022-08-05T21:41:49.076Z"
      },
      {
        "duration": 36,
        "start_time": "2022-08-05T21:41:49.098Z"
      },
      {
        "duration": 22,
        "start_time": "2022-08-05T21:41:49.136Z"
      },
      {
        "duration": 26,
        "start_time": "2022-08-05T21:41:49.159Z"
      },
      {
        "duration": 42,
        "start_time": "2022-08-05T21:41:49.186Z"
      },
      {
        "duration": 16,
        "start_time": "2022-08-05T21:41:49.229Z"
      },
      {
        "duration": 20,
        "start_time": "2022-08-05T21:41:49.246Z"
      },
      {
        "duration": 22,
        "start_time": "2022-08-05T21:41:49.268Z"
      },
      {
        "duration": 29,
        "start_time": "2022-08-05T21:41:49.292Z"
      },
      {
        "duration": 17,
        "start_time": "2022-08-05T21:41:49.323Z"
      },
      {
        "duration": 23,
        "start_time": "2022-08-05T21:41:49.341Z"
      },
      {
        "duration": 21,
        "start_time": "2022-08-05T21:41:49.366Z"
      },
      {
        "duration": 49,
        "start_time": "2022-08-05T21:41:49.389Z"
      },
      {
        "duration": 18,
        "start_time": "2022-08-05T21:41:49.443Z"
      },
      {
        "duration": 16,
        "start_time": "2022-08-05T21:41:49.462Z"
      },
      {
        "duration": 34,
        "start_time": "2022-08-05T21:41:49.479Z"
      },
      {
        "duration": 32,
        "start_time": "2022-08-05T21:41:49.515Z"
      },
      {
        "duration": 23,
        "start_time": "2022-08-05T21:41:49.548Z"
      },
      {
        "duration": 25,
        "start_time": "2022-08-05T21:41:49.572Z"
      },
      {
        "duration": 29,
        "start_time": "2022-08-05T21:41:49.602Z"
      },
      {
        "duration": 19,
        "start_time": "2022-08-05T21:41:49.632Z"
      },
      {
        "duration": 17,
        "start_time": "2022-08-05T21:41:49.652Z"
      },
      {
        "duration": 26,
        "start_time": "2022-08-05T21:41:49.671Z"
      },
      {
        "duration": 37,
        "start_time": "2022-08-05T21:41:49.699Z"
      },
      {
        "duration": 30,
        "start_time": "2022-08-05T21:41:49.738Z"
      },
      {
        "duration": 31,
        "start_time": "2022-08-05T21:41:49.770Z"
      },
      {
        "duration": 41,
        "start_time": "2022-08-05T21:41:49.806Z"
      },
      {
        "duration": 68,
        "start_time": "2022-08-05T21:41:49.848Z"
      },
      {
        "duration": 15,
        "start_time": "2022-08-05T21:41:49.918Z"
      },
      {
        "duration": 37,
        "start_time": "2022-08-05T21:41:49.935Z"
      },
      {
        "duration": 29,
        "start_time": "2022-08-05T21:41:49.973Z"
      },
      {
        "duration": 13,
        "start_time": "2022-08-05T21:41:50.004Z"
      },
      {
        "duration": 77,
        "start_time": "2022-08-05T21:41:50.019Z"
      },
      {
        "duration": 281,
        "start_time": "2022-08-05T21:41:50.099Z"
      },
      {
        "duration": 243,
        "start_time": "2022-08-05T21:41:50.382Z"
      },
      {
        "duration": 153,
        "start_time": "2022-08-05T21:41:50.626Z"
      },
      {
        "duration": 172,
        "start_time": "2022-08-05T21:41:50.781Z"
      },
      {
        "duration": 126,
        "start_time": "2022-08-05T21:41:50.955Z"
      },
      {
        "duration": 139,
        "start_time": "2022-08-05T21:41:51.082Z"
      },
      {
        "duration": 121,
        "start_time": "2022-08-05T21:41:51.222Z"
      },
      {
        "duration": 129,
        "start_time": "2022-08-05T21:41:51.345Z"
      },
      {
        "duration": 154,
        "start_time": "2022-08-05T21:41:51.476Z"
      },
      {
        "duration": 130,
        "start_time": "2022-08-05T21:41:51.632Z"
      },
      {
        "duration": 125,
        "start_time": "2022-08-05T21:41:51.763Z"
      },
      {
        "duration": 124,
        "start_time": "2022-08-05T21:41:51.890Z"
      },
      {
        "duration": 108,
        "start_time": "2022-08-05T21:41:52.017Z"
      },
      {
        "duration": 112,
        "start_time": "2022-08-05T21:41:52.127Z"
      },
      {
        "duration": 200,
        "start_time": "2022-08-05T21:41:52.241Z"
      },
      {
        "duration": 111,
        "start_time": "2022-08-05T21:41:52.443Z"
      },
      {
        "duration": 119,
        "start_time": "2022-08-05T21:41:52.556Z"
      },
      {
        "duration": 103,
        "start_time": "2022-08-05T21:41:52.676Z"
      },
      {
        "duration": 109,
        "start_time": "2022-08-05T21:41:52.780Z"
      },
      {
        "duration": 128,
        "start_time": "2022-08-05T21:41:52.901Z"
      },
      {
        "duration": 117,
        "start_time": "2022-08-05T21:41:53.031Z"
      },
      {
        "duration": 108,
        "start_time": "2022-08-05T21:41:53.150Z"
      },
      {
        "duration": 126,
        "start_time": "2022-08-05T21:41:53.260Z"
      },
      {
        "duration": 138,
        "start_time": "2022-08-05T21:41:53.388Z"
      },
      {
        "duration": 288,
        "start_time": "2022-08-05T21:41:53.528Z"
      },
      {
        "duration": 3,
        "start_time": "2022-08-05T21:41:53.818Z"
      },
      {
        "duration": 36,
        "start_time": "2022-08-05T21:41:53.823Z"
      },
      {
        "duration": 56,
        "start_time": "2022-08-05T21:41:53.861Z"
      },
      {
        "duration": 25,
        "start_time": "2022-08-05T21:41:53.919Z"
      },
      {
        "duration": 9,
        "start_time": "2022-08-05T21:41:53.946Z"
      },
      {
        "duration": 25,
        "start_time": "2022-08-05T21:41:53.957Z"
      },
      {
        "duration": 14,
        "start_time": "2022-08-05T21:41:53.983Z"
      },
      {
        "duration": 27,
        "start_time": "2022-08-05T21:41:53.998Z"
      },
      {
        "duration": 32,
        "start_time": "2022-08-05T21:41:54.026Z"
      },
      {
        "duration": 4,
        "start_time": "2022-08-05T21:41:54.063Z"
      },
      {
        "duration": 50,
        "start_time": "2022-08-05T21:41:54.069Z"
      },
      {
        "duration": 22,
        "start_time": "2022-08-05T21:41:54.121Z"
      },
      {
        "duration": 29,
        "start_time": "2022-08-05T21:41:54.145Z"
      },
      {
        "duration": 18,
        "start_time": "2022-08-05T21:41:54.176Z"
      },
      {
        "duration": 19,
        "start_time": "2022-08-05T21:41:54.196Z"
      },
      {
        "duration": 31001,
        "start_time": "2022-08-05T21:41:54.216Z"
      },
      {
        "duration": 86,
        "start_time": "2022-08-05T21:42:25.221Z"
      },
      {
        "duration": 8,
        "start_time": "2022-08-05T21:42:25.312Z"
      },
      {
        "duration": 89,
        "start_time": "2022-08-05T21:42:25.322Z"
      },
      {
        "duration": 89,
        "start_time": "2022-08-05T21:42:25.413Z"
      },
      {
        "duration": 121272,
        "start_time": "2022-08-05T21:42:25.503Z"
      },
      {
        "duration": 4,
        "start_time": "2022-08-05T21:44:26.776Z"
      },
      {
        "duration": 53,
        "start_time": "2022-08-05T21:44:26.781Z"
      },
      {
        "duration": 5,
        "start_time": "2022-08-05T21:44:26.835Z"
      },
      {
        "duration": 3,
        "start_time": "2022-08-05T21:44:26.842Z"
      },
      {
        "duration": 90396,
        "start_time": "2022-08-05T21:44:26.846Z"
      },
      {
        "duration": 4,
        "start_time": "2022-08-05T21:45:57.244Z"
      },
      {
        "duration": 8,
        "start_time": "2022-08-05T21:45:57.249Z"
      },
      {
        "duration": 9,
        "start_time": "2022-08-05T21:45:57.259Z"
      },
      {
        "duration": 7,
        "start_time": "2022-08-05T21:45:57.270Z"
      },
      {
        "duration": 5,
        "start_time": "2022-08-05T21:45:57.279Z"
      },
      {
        "duration": 8,
        "start_time": "2022-08-05T21:45:57.286Z"
      },
      {
        "duration": 279,
        "start_time": "2022-08-05T21:45:57.296Z"
      },
      {
        "duration": 7,
        "start_time": "2022-08-05T21:45:57.577Z"
      },
      {
        "duration": 3,
        "start_time": "2022-08-05T21:48:43.328Z"
      },
      {
        "duration": 3,
        "start_time": "2022-08-05T21:50:14.729Z"
      }
    ],
    "kernelspec": {
      "display_name": "Python 3 (ipykernel)",
      "language": "python",
      "name": "python3"
    },
    "language_info": {
      "codemirror_mode": {
        "name": "ipython",
        "version": 3
      },
      "file_extension": ".py",
      "mimetype": "text/x-python",
      "name": "python",
      "nbconvert_exporter": "python",
      "pygments_lexer": "ipython3",
      "version": "3.9.5"
    },
    "toc": {
      "base_numbering": 1,
      "nav_menu": {},
      "number_sections": true,
      "sideBar": true,
      "skip_h1_title": true,
      "title_cell": "Table of Contents",
      "title_sidebar": "Contents",
      "toc_cell": false,
      "toc_position": {},
      "toc_section_display": true,
      "toc_window_display": false
    },
    "colab": {
      "provenance": []
    }
  },
  "nbformat": 4,
  "nbformat_minor": 5
}