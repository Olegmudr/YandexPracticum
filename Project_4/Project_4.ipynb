{
  "cells": [
    {
      "cell_type": "markdown",
      "metadata": {
        "id": "LHfREuWZ6uHw"
      },
      "source": [
        "# Определение перспективного тарифа для телеком-компании"
      ]
    },
    {
      "cell_type": "markdown",
      "metadata": {
        "id": "rwHcQdo96uHw"
      },
      "source": [
        "Вы аналитик компании «Мегалайн» — федерального оператора сотовой связи. Клиентам предлагают два тарифных плана: «Смарт» и «Ультра». Чтобы скорректировать рекламный бюджет, коммерческий департамент хочет понять, какой тариф приносит больше денег.\n",
        "Вам предстоит сделать предварительный анализ тарифов на небольшой выборке клиентов. В вашем распоряжении данные 500 пользователей «Мегалайна»: кто они, откуда, каким тарифом пользуются, сколько звонков и сообщений каждый отправил за 2018 год. Нужно проанализировать поведение клиентов и сделать вывод — какой тариф лучше."
      ]
    },
    {
      "cell_type": "markdown",
      "metadata": {
        "id": "iHkXnKXs6uHx"
      },
      "source": [
        "# Описание тарифов"
      ]
    },
    {
      "cell_type": "markdown",
      "metadata": {
        "id": "AyfI1Jt66uHx"
      },
      "source": [
        "* Тариф «Смарт»\n",
        "Ежемесячная плата: 550 рублей\n",
        "Включено 500 минут разговора, 50 сообщений и 15 Гб интернет-трафика\n",
        "Стоимость услуг сверх тарифного пакета:\n",
        "минута разговора: 3 рубля\n",
        "сообщение: 3 рубля\n",
        "1 Гб интернет-трафика: 200 рублей\n",
        "\n",
        "* Тариф «Ультра»\n",
        "Ежемесячная плата: 1950 рублей\n",
        "Включено 3000 минут разговора, 1000 сообщений и 30 Гб интернет-трафика\n",
        "Стоимость услуг сверх тарифного пакета:\n",
        "минута разговора: 1 рубль\n",
        "сообщение: 1 рубль\n",
        "1 Гб интернет-трафика: 150 рублей"
      ]
    },
    {
      "cell_type": "markdown",
      "metadata": {
        "id": "2y3UpFzk6uHy"
      },
      "source": [
        "## Откройте файл с данными и изучите общую информацию"
      ]
    },
    {
      "cell_type": "code",
      "execution_count": 1,
      "metadata": {
        "id": "SsYbIy3J6uHy"
      },
      "outputs": [],
      "source": [
        "import pandas as pd #Импортируем Pandas для работы с даннымит\n",
        "import numpy as np #Импортируем Numpy в np\n",
        "import matplotlib.pyplot as plt #импортируем matplotlib.pyplot для построения графиков\n",
        "from scipy import stats as st #импортируем scipy для проверк различным гипотез\n",
        "pd.set_option('display.float_format', '{:,.2f}'.format) #для работы с округлением и экспоненциальными числами"
      ]
    },
    {
      "cell_type": "code",
      "execution_count": 2,
      "metadata": {
        "id": "E7fLM1QR6uHz"
      },
      "outputs": [],
      "source": [
        "calls = pd.read_csv(\"calls.csv\") #открываем поочередно каждый датасет и сохраняем его \n",
        "internet = pd.read_csv(\"internet.csv\") #интернет\n",
        "messages = pd.read_csv(\"messages.csv\") #сообщения\n",
        "tariffs = pd.read_csv(\"tariffs.csv\") #тарифы\n",
        "users = pd.read_csv(\"users.csv\") #пользователи"
      ]
    },
    {
      "cell_type": "markdown",
      "metadata": {
        "id": "pQ00JyoO6uH0"
      },
      "source": [
        "### Информация о звонках"
      ]
    },
    {
      "cell_type": "code",
      "execution_count": 3,
      "metadata": {
        "colab": {
          "base_uri": "https://localhost:8080/",
          "height": 391
        },
        "id": "cRx6VM8a6uH0",
        "outputId": "c3e730c1-0bb9-4814-8414-189ad42acbc8"
      },
      "outputs": [
        {
          "output_type": "stream",
          "name": "stdout",
          "text": [
            "<class 'pandas.core.frame.DataFrame'>\n",
            "RangeIndex: 202607 entries, 0 to 202606\n",
            "Data columns (total 4 columns):\n",
            " #   Column     Non-Null Count   Dtype  \n",
            "---  ------     --------------   -----  \n",
            " 0   id         202607 non-null  object \n",
            " 1   call_date  202607 non-null  object \n",
            " 2   duration   202607 non-null  float64\n",
            " 3   user_id    202607 non-null  int64  \n",
            "dtypes: float64(1), int64(1), object(2)\n",
            "memory usage: 6.2+ MB\n"
          ]
        },
        {
          "output_type": "execute_result",
          "data": {
            "text/plain": [
              "       id   call_date  duration  user_id\n",
              "0  1000_0  2018-07-25      0.00     1000\n",
              "1  1000_1  2018-08-17      0.00     1000\n",
              "2  1000_2  2018-06-11      2.85     1000\n",
              "3  1000_3  2018-09-21     13.80     1000\n",
              "4  1000_4  2018-12-15      5.18     1000"
            ],
            "text/html": [
              "\n",
              "  <div id=\"df-9ac0677d-2251-46e0-b0d3-a7d896569f30\">\n",
              "    <div class=\"colab-df-container\">\n",
              "      <div>\n",
              "<style scoped>\n",
              "    .dataframe tbody tr th:only-of-type {\n",
              "        vertical-align: middle;\n",
              "    }\n",
              "\n",
              "    .dataframe tbody tr th {\n",
              "        vertical-align: top;\n",
              "    }\n",
              "\n",
              "    .dataframe thead th {\n",
              "        text-align: right;\n",
              "    }\n",
              "</style>\n",
              "<table border=\"1\" class=\"dataframe\">\n",
              "  <thead>\n",
              "    <tr style=\"text-align: right;\">\n",
              "      <th></th>\n",
              "      <th>id</th>\n",
              "      <th>call_date</th>\n",
              "      <th>duration</th>\n",
              "      <th>user_id</th>\n",
              "    </tr>\n",
              "  </thead>\n",
              "  <tbody>\n",
              "    <tr>\n",
              "      <th>0</th>\n",
              "      <td>1000_0</td>\n",
              "      <td>2018-07-25</td>\n",
              "      <td>0.00</td>\n",
              "      <td>1000</td>\n",
              "    </tr>\n",
              "    <tr>\n",
              "      <th>1</th>\n",
              "      <td>1000_1</td>\n",
              "      <td>2018-08-17</td>\n",
              "      <td>0.00</td>\n",
              "      <td>1000</td>\n",
              "    </tr>\n",
              "    <tr>\n",
              "      <th>2</th>\n",
              "      <td>1000_2</td>\n",
              "      <td>2018-06-11</td>\n",
              "      <td>2.85</td>\n",
              "      <td>1000</td>\n",
              "    </tr>\n",
              "    <tr>\n",
              "      <th>3</th>\n",
              "      <td>1000_3</td>\n",
              "      <td>2018-09-21</td>\n",
              "      <td>13.80</td>\n",
              "      <td>1000</td>\n",
              "    </tr>\n",
              "    <tr>\n",
              "      <th>4</th>\n",
              "      <td>1000_4</td>\n",
              "      <td>2018-12-15</td>\n",
              "      <td>5.18</td>\n",
              "      <td>1000</td>\n",
              "    </tr>\n",
              "  </tbody>\n",
              "</table>\n",
              "</div>\n",
              "      <button class=\"colab-df-convert\" onclick=\"convertToInteractive('df-9ac0677d-2251-46e0-b0d3-a7d896569f30')\"\n",
              "              title=\"Convert this dataframe to an interactive table.\"\n",
              "              style=\"display:none;\">\n",
              "        \n",
              "  <svg xmlns=\"http://www.w3.org/2000/svg\" height=\"24px\"viewBox=\"0 0 24 24\"\n",
              "       width=\"24px\">\n",
              "    <path d=\"M0 0h24v24H0V0z\" fill=\"none\"/>\n",
              "    <path d=\"M18.56 5.44l.94 2.06.94-2.06 2.06-.94-2.06-.94-.94-2.06-.94 2.06-2.06.94zm-11 1L8.5 8.5l.94-2.06 2.06-.94-2.06-.94L8.5 2.5l-.94 2.06-2.06.94zm10 10l.94 2.06.94-2.06 2.06-.94-2.06-.94-.94-2.06-.94 2.06-2.06.94z\"/><path d=\"M17.41 7.96l-1.37-1.37c-.4-.4-.92-.59-1.43-.59-.52 0-1.04.2-1.43.59L10.3 9.45l-7.72 7.72c-.78.78-.78 2.05 0 2.83L4 21.41c.39.39.9.59 1.41.59.51 0 1.02-.2 1.41-.59l7.78-7.78 2.81-2.81c.8-.78.8-2.07 0-2.86zM5.41 20L4 18.59l7.72-7.72 1.47 1.35L5.41 20z\"/>\n",
              "  </svg>\n",
              "      </button>\n",
              "      \n",
              "  <style>\n",
              "    .colab-df-container {\n",
              "      display:flex;\n",
              "      flex-wrap:wrap;\n",
              "      gap: 12px;\n",
              "    }\n",
              "\n",
              "    .colab-df-convert {\n",
              "      background-color: #E8F0FE;\n",
              "      border: none;\n",
              "      border-radius: 50%;\n",
              "      cursor: pointer;\n",
              "      display: none;\n",
              "      fill: #1967D2;\n",
              "      height: 32px;\n",
              "      padding: 0 0 0 0;\n",
              "      width: 32px;\n",
              "    }\n",
              "\n",
              "    .colab-df-convert:hover {\n",
              "      background-color: #E2EBFA;\n",
              "      box-shadow: 0px 1px 2px rgba(60, 64, 67, 0.3), 0px 1px 3px 1px rgba(60, 64, 67, 0.15);\n",
              "      fill: #174EA6;\n",
              "    }\n",
              "\n",
              "    [theme=dark] .colab-df-convert {\n",
              "      background-color: #3B4455;\n",
              "      fill: #D2E3FC;\n",
              "    }\n",
              "\n",
              "    [theme=dark] .colab-df-convert:hover {\n",
              "      background-color: #434B5C;\n",
              "      box-shadow: 0px 1px 3px 1px rgba(0, 0, 0, 0.15);\n",
              "      filter: drop-shadow(0px 1px 2px rgba(0, 0, 0, 0.3));\n",
              "      fill: #FFFFFF;\n",
              "    }\n",
              "  </style>\n",
              "\n",
              "      <script>\n",
              "        const buttonEl =\n",
              "          document.querySelector('#df-9ac0677d-2251-46e0-b0d3-a7d896569f30 button.colab-df-convert');\n",
              "        buttonEl.style.display =\n",
              "          google.colab.kernel.accessAllowed ? 'block' : 'none';\n",
              "\n",
              "        async function convertToInteractive(key) {\n",
              "          const element = document.querySelector('#df-9ac0677d-2251-46e0-b0d3-a7d896569f30');\n",
              "          const dataTable =\n",
              "            await google.colab.kernel.invokeFunction('convertToInteractive',\n",
              "                                                     [key], {});\n",
              "          if (!dataTable) return;\n",
              "\n",
              "          const docLinkHtml = 'Like what you see? Visit the ' +\n",
              "            '<a target=\"_blank\" href=https://colab.research.google.com/notebooks/data_table.ipynb>data table notebook</a>'\n",
              "            + ' to learn more about interactive tables.';\n",
              "          element.innerHTML = '';\n",
              "          dataTable['output_type'] = 'display_data';\n",
              "          await google.colab.output.renderOutput(dataTable, element);\n",
              "          const docLink = document.createElement('div');\n",
              "          docLink.innerHTML = docLinkHtml;\n",
              "          element.appendChild(docLink);\n",
              "        }\n",
              "      </script>\n",
              "    </div>\n",
              "  </div>\n",
              "  "
            ]
          },
          "metadata": {},
          "execution_count": 3
        }
      ],
      "source": [
        "#вывыдем на экран таблицу и информацию о ней\n",
        "calls.info()\n",
        "calls.head() "
      ]
    },
    {
      "cell_type": "markdown",
      "metadata": {
        "id": "BnNDDk-N6uH1"
      },
      "source": [
        "* id - уникальный номер звонка\n",
        "* call_date - дата звонка\n",
        "* duration - продолжительность звонка в минутах\n",
        "* user_id - id пользователя"
      ]
    },
    {
      "cell_type": "markdown",
      "metadata": {
        "id": "7OgnEsOG6uH1"
      },
      "source": [
        "### Информация о интернете"
      ]
    },
    {
      "cell_type": "code",
      "execution_count": 4,
      "metadata": {
        "colab": {
          "base_uri": "https://localhost:8080/",
          "height": 408
        },
        "id": "TQ3iXB2J6uH2",
        "outputId": "c3a40472-e907-417a-fdf9-c04ba8a10ebd"
      },
      "outputs": [
        {
          "output_type": "stream",
          "name": "stdout",
          "text": [
            "<class 'pandas.core.frame.DataFrame'>\n",
            "RangeIndex: 149396 entries, 0 to 149395\n",
            "Data columns (total 5 columns):\n",
            " #   Column        Non-Null Count   Dtype  \n",
            "---  ------        --------------   -----  \n",
            " 0   Unnamed: 0    149396 non-null  int64  \n",
            " 1   id            149396 non-null  object \n",
            " 2   mb_used       149396 non-null  float64\n",
            " 3   session_date  149396 non-null  object \n",
            " 4   user_id       149396 non-null  int64  \n",
            "dtypes: float64(1), int64(2), object(2)\n",
            "memory usage: 5.7+ MB\n"
          ]
        },
        {
          "output_type": "execute_result",
          "data": {
            "text/plain": [
              "   Unnamed: 0      id  mb_used session_date  user_id\n",
              "0           0  1000_0   112.95   2018-11-25     1000\n",
              "1           1  1000_1 1,052.81   2018-09-07     1000\n",
              "2           2  1000_2 1,197.26   2018-06-25     1000\n",
              "3           3  1000_3   550.27   2018-08-22     1000\n",
              "4           4  1000_4   302.56   2018-09-24     1000"
            ],
            "text/html": [
              "\n",
              "  <div id=\"df-25ad284c-d504-441c-9d86-195a1122a19a\">\n",
              "    <div class=\"colab-df-container\">\n",
              "      <div>\n",
              "<style scoped>\n",
              "    .dataframe tbody tr th:only-of-type {\n",
              "        vertical-align: middle;\n",
              "    }\n",
              "\n",
              "    .dataframe tbody tr th {\n",
              "        vertical-align: top;\n",
              "    }\n",
              "\n",
              "    .dataframe thead th {\n",
              "        text-align: right;\n",
              "    }\n",
              "</style>\n",
              "<table border=\"1\" class=\"dataframe\">\n",
              "  <thead>\n",
              "    <tr style=\"text-align: right;\">\n",
              "      <th></th>\n",
              "      <th>Unnamed: 0</th>\n",
              "      <th>id</th>\n",
              "      <th>mb_used</th>\n",
              "      <th>session_date</th>\n",
              "      <th>user_id</th>\n",
              "    </tr>\n",
              "  </thead>\n",
              "  <tbody>\n",
              "    <tr>\n",
              "      <th>0</th>\n",
              "      <td>0</td>\n",
              "      <td>1000_0</td>\n",
              "      <td>112.95</td>\n",
              "      <td>2018-11-25</td>\n",
              "      <td>1000</td>\n",
              "    </tr>\n",
              "    <tr>\n",
              "      <th>1</th>\n",
              "      <td>1</td>\n",
              "      <td>1000_1</td>\n",
              "      <td>1,052.81</td>\n",
              "      <td>2018-09-07</td>\n",
              "      <td>1000</td>\n",
              "    </tr>\n",
              "    <tr>\n",
              "      <th>2</th>\n",
              "      <td>2</td>\n",
              "      <td>1000_2</td>\n",
              "      <td>1,197.26</td>\n",
              "      <td>2018-06-25</td>\n",
              "      <td>1000</td>\n",
              "    </tr>\n",
              "    <tr>\n",
              "      <th>3</th>\n",
              "      <td>3</td>\n",
              "      <td>1000_3</td>\n",
              "      <td>550.27</td>\n",
              "      <td>2018-08-22</td>\n",
              "      <td>1000</td>\n",
              "    </tr>\n",
              "    <tr>\n",
              "      <th>4</th>\n",
              "      <td>4</td>\n",
              "      <td>1000_4</td>\n",
              "      <td>302.56</td>\n",
              "      <td>2018-09-24</td>\n",
              "      <td>1000</td>\n",
              "    </tr>\n",
              "  </tbody>\n",
              "</table>\n",
              "</div>\n",
              "      <button class=\"colab-df-convert\" onclick=\"convertToInteractive('df-25ad284c-d504-441c-9d86-195a1122a19a')\"\n",
              "              title=\"Convert this dataframe to an interactive table.\"\n",
              "              style=\"display:none;\">\n",
              "        \n",
              "  <svg xmlns=\"http://www.w3.org/2000/svg\" height=\"24px\"viewBox=\"0 0 24 24\"\n",
              "       width=\"24px\">\n",
              "    <path d=\"M0 0h24v24H0V0z\" fill=\"none\"/>\n",
              "    <path d=\"M18.56 5.44l.94 2.06.94-2.06 2.06-.94-2.06-.94-.94-2.06-.94 2.06-2.06.94zm-11 1L8.5 8.5l.94-2.06 2.06-.94-2.06-.94L8.5 2.5l-.94 2.06-2.06.94zm10 10l.94 2.06.94-2.06 2.06-.94-2.06-.94-.94-2.06-.94 2.06-2.06.94z\"/><path d=\"M17.41 7.96l-1.37-1.37c-.4-.4-.92-.59-1.43-.59-.52 0-1.04.2-1.43.59L10.3 9.45l-7.72 7.72c-.78.78-.78 2.05 0 2.83L4 21.41c.39.39.9.59 1.41.59.51 0 1.02-.2 1.41-.59l7.78-7.78 2.81-2.81c.8-.78.8-2.07 0-2.86zM5.41 20L4 18.59l7.72-7.72 1.47 1.35L5.41 20z\"/>\n",
              "  </svg>\n",
              "      </button>\n",
              "      \n",
              "  <style>\n",
              "    .colab-df-container {\n",
              "      display:flex;\n",
              "      flex-wrap:wrap;\n",
              "      gap: 12px;\n",
              "    }\n",
              "\n",
              "    .colab-df-convert {\n",
              "      background-color: #E8F0FE;\n",
              "      border: none;\n",
              "      border-radius: 50%;\n",
              "      cursor: pointer;\n",
              "      display: none;\n",
              "      fill: #1967D2;\n",
              "      height: 32px;\n",
              "      padding: 0 0 0 0;\n",
              "      width: 32px;\n",
              "    }\n",
              "\n",
              "    .colab-df-convert:hover {\n",
              "      background-color: #E2EBFA;\n",
              "      box-shadow: 0px 1px 2px rgba(60, 64, 67, 0.3), 0px 1px 3px 1px rgba(60, 64, 67, 0.15);\n",
              "      fill: #174EA6;\n",
              "    }\n",
              "\n",
              "    [theme=dark] .colab-df-convert {\n",
              "      background-color: #3B4455;\n",
              "      fill: #D2E3FC;\n",
              "    }\n",
              "\n",
              "    [theme=dark] .colab-df-convert:hover {\n",
              "      background-color: #434B5C;\n",
              "      box-shadow: 0px 1px 3px 1px rgba(0, 0, 0, 0.15);\n",
              "      filter: drop-shadow(0px 1px 2px rgba(0, 0, 0, 0.3));\n",
              "      fill: #FFFFFF;\n",
              "    }\n",
              "  </style>\n",
              "\n",
              "      <script>\n",
              "        const buttonEl =\n",
              "          document.querySelector('#df-25ad284c-d504-441c-9d86-195a1122a19a button.colab-df-convert');\n",
              "        buttonEl.style.display =\n",
              "          google.colab.kernel.accessAllowed ? 'block' : 'none';\n",
              "\n",
              "        async function convertToInteractive(key) {\n",
              "          const element = document.querySelector('#df-25ad284c-d504-441c-9d86-195a1122a19a');\n",
              "          const dataTable =\n",
              "            await google.colab.kernel.invokeFunction('convertToInteractive',\n",
              "                                                     [key], {});\n",
              "          if (!dataTable) return;\n",
              "\n",
              "          const docLinkHtml = 'Like what you see? Visit the ' +\n",
              "            '<a target=\"_blank\" href=https://colab.research.google.com/notebooks/data_table.ipynb>data table notebook</a>'\n",
              "            + ' to learn more about interactive tables.';\n",
              "          element.innerHTML = '';\n",
              "          dataTable['output_type'] = 'display_data';\n",
              "          await google.colab.output.renderOutput(dataTable, element);\n",
              "          const docLink = document.createElement('div');\n",
              "          docLink.innerHTML = docLinkHtml;\n",
              "          element.appendChild(docLink);\n",
              "        }\n",
              "      </script>\n",
              "    </div>\n",
              "  </div>\n",
              "  "
            ]
          },
          "metadata": {},
          "execution_count": 4
        }
      ],
      "source": [
        "internet.info() #информация о таблице\n",
        "internet.head() #первые строчки таблицы"
      ]
    },
    {
      "cell_type": "markdown",
      "metadata": {
        "id": "oMu4LhXd6uH2"
      },
      "source": [
        "* id - уникальный номер сессии\n",
        "* md_user - объём потраченного за сессию интернет-трафика\n",
        "* session_date  - дата сессии\n",
        "* user_id - id пользователя"
      ]
    },
    {
      "cell_type": "markdown",
      "metadata": {
        "id": "_FioBkFn6uH2"
      },
      "source": [
        "### Информация об тарифах"
      ]
    },
    {
      "cell_type": "code",
      "execution_count": 5,
      "metadata": {
        "colab": {
          "base_uri": "https://localhost:8080/",
          "height": 366
        },
        "id": "SB2gQF9h6uH3",
        "outputId": "57b5b7fc-d2b3-4ef1-efc4-7f74d10ca25d"
      },
      "outputs": [
        {
          "output_type": "stream",
          "name": "stdout",
          "text": [
            "<class 'pandas.core.frame.DataFrame'>\n",
            "RangeIndex: 2 entries, 0 to 1\n",
            "Data columns (total 8 columns):\n",
            " #   Column                 Non-Null Count  Dtype \n",
            "---  ------                 --------------  ----- \n",
            " 0   messages_included      2 non-null      int64 \n",
            " 1   mb_per_month_included  2 non-null      int64 \n",
            " 2   minutes_included       2 non-null      int64 \n",
            " 3   rub_monthly_fee        2 non-null      int64 \n",
            " 4   rub_per_gb             2 non-null      int64 \n",
            " 5   rub_per_message        2 non-null      int64 \n",
            " 6   rub_per_minute         2 non-null      int64 \n",
            " 7   tariff_name            2 non-null      object\n",
            "dtypes: int64(7), object(1)\n",
            "memory usage: 256.0+ bytes\n"
          ]
        },
        {
          "output_type": "execute_result",
          "data": {
            "text/plain": [
              "   messages_included  mb_per_month_included  minutes_included  \\\n",
              "0                 50                  15360               500   \n",
              "1               1000                  30720              3000   \n",
              "\n",
              "   rub_monthly_fee  rub_per_gb  rub_per_message  rub_per_minute tariff_name  \n",
              "0              550         200                3               3       smart  \n",
              "1             1950         150                1               1       ultra  "
            ],
            "text/html": [
              "\n",
              "  <div id=\"df-7d755fa2-d8bb-46c2-a681-18f2b07b27bb\">\n",
              "    <div class=\"colab-df-container\">\n",
              "      <div>\n",
              "<style scoped>\n",
              "    .dataframe tbody tr th:only-of-type {\n",
              "        vertical-align: middle;\n",
              "    }\n",
              "\n",
              "    .dataframe tbody tr th {\n",
              "        vertical-align: top;\n",
              "    }\n",
              "\n",
              "    .dataframe thead th {\n",
              "        text-align: right;\n",
              "    }\n",
              "</style>\n",
              "<table border=\"1\" class=\"dataframe\">\n",
              "  <thead>\n",
              "    <tr style=\"text-align: right;\">\n",
              "      <th></th>\n",
              "      <th>messages_included</th>\n",
              "      <th>mb_per_month_included</th>\n",
              "      <th>minutes_included</th>\n",
              "      <th>rub_monthly_fee</th>\n",
              "      <th>rub_per_gb</th>\n",
              "      <th>rub_per_message</th>\n",
              "      <th>rub_per_minute</th>\n",
              "      <th>tariff_name</th>\n",
              "    </tr>\n",
              "  </thead>\n",
              "  <tbody>\n",
              "    <tr>\n",
              "      <th>0</th>\n",
              "      <td>50</td>\n",
              "      <td>15360</td>\n",
              "      <td>500</td>\n",
              "      <td>550</td>\n",
              "      <td>200</td>\n",
              "      <td>3</td>\n",
              "      <td>3</td>\n",
              "      <td>smart</td>\n",
              "    </tr>\n",
              "    <tr>\n",
              "      <th>1</th>\n",
              "      <td>1000</td>\n",
              "      <td>30720</td>\n",
              "      <td>3000</td>\n",
              "      <td>1950</td>\n",
              "      <td>150</td>\n",
              "      <td>1</td>\n",
              "      <td>1</td>\n",
              "      <td>ultra</td>\n",
              "    </tr>\n",
              "  </tbody>\n",
              "</table>\n",
              "</div>\n",
              "      <button class=\"colab-df-convert\" onclick=\"convertToInteractive('df-7d755fa2-d8bb-46c2-a681-18f2b07b27bb')\"\n",
              "              title=\"Convert this dataframe to an interactive table.\"\n",
              "              style=\"display:none;\">\n",
              "        \n",
              "  <svg xmlns=\"http://www.w3.org/2000/svg\" height=\"24px\"viewBox=\"0 0 24 24\"\n",
              "       width=\"24px\">\n",
              "    <path d=\"M0 0h24v24H0V0z\" fill=\"none\"/>\n",
              "    <path d=\"M18.56 5.44l.94 2.06.94-2.06 2.06-.94-2.06-.94-.94-2.06-.94 2.06-2.06.94zm-11 1L8.5 8.5l.94-2.06 2.06-.94-2.06-.94L8.5 2.5l-.94 2.06-2.06.94zm10 10l.94 2.06.94-2.06 2.06-.94-2.06-.94-.94-2.06-.94 2.06-2.06.94z\"/><path d=\"M17.41 7.96l-1.37-1.37c-.4-.4-.92-.59-1.43-.59-.52 0-1.04.2-1.43.59L10.3 9.45l-7.72 7.72c-.78.78-.78 2.05 0 2.83L4 21.41c.39.39.9.59 1.41.59.51 0 1.02-.2 1.41-.59l7.78-7.78 2.81-2.81c.8-.78.8-2.07 0-2.86zM5.41 20L4 18.59l7.72-7.72 1.47 1.35L5.41 20z\"/>\n",
              "  </svg>\n",
              "      </button>\n",
              "      \n",
              "  <style>\n",
              "    .colab-df-container {\n",
              "      display:flex;\n",
              "      flex-wrap:wrap;\n",
              "      gap: 12px;\n",
              "    }\n",
              "\n",
              "    .colab-df-convert {\n",
              "      background-color: #E8F0FE;\n",
              "      border: none;\n",
              "      border-radius: 50%;\n",
              "      cursor: pointer;\n",
              "      display: none;\n",
              "      fill: #1967D2;\n",
              "      height: 32px;\n",
              "      padding: 0 0 0 0;\n",
              "      width: 32px;\n",
              "    }\n",
              "\n",
              "    .colab-df-convert:hover {\n",
              "      background-color: #E2EBFA;\n",
              "      box-shadow: 0px 1px 2px rgba(60, 64, 67, 0.3), 0px 1px 3px 1px rgba(60, 64, 67, 0.15);\n",
              "      fill: #174EA6;\n",
              "    }\n",
              "\n",
              "    [theme=dark] .colab-df-convert {\n",
              "      background-color: #3B4455;\n",
              "      fill: #D2E3FC;\n",
              "    }\n",
              "\n",
              "    [theme=dark] .colab-df-convert:hover {\n",
              "      background-color: #434B5C;\n",
              "      box-shadow: 0px 1px 3px 1px rgba(0, 0, 0, 0.15);\n",
              "      filter: drop-shadow(0px 1px 2px rgba(0, 0, 0, 0.3));\n",
              "      fill: #FFFFFF;\n",
              "    }\n",
              "  </style>\n",
              "\n",
              "      <script>\n",
              "        const buttonEl =\n",
              "          document.querySelector('#df-7d755fa2-d8bb-46c2-a681-18f2b07b27bb button.colab-df-convert');\n",
              "        buttonEl.style.display =\n",
              "          google.colab.kernel.accessAllowed ? 'block' : 'none';\n",
              "\n",
              "        async function convertToInteractive(key) {\n",
              "          const element = document.querySelector('#df-7d755fa2-d8bb-46c2-a681-18f2b07b27bb');\n",
              "          const dataTable =\n",
              "            await google.colab.kernel.invokeFunction('convertToInteractive',\n",
              "                                                     [key], {});\n",
              "          if (!dataTable) return;\n",
              "\n",
              "          const docLinkHtml = 'Like what you see? Visit the ' +\n",
              "            '<a target=\"_blank\" href=https://colab.research.google.com/notebooks/data_table.ipynb>data table notebook</a>'\n",
              "            + ' to learn more about interactive tables.';\n",
              "          element.innerHTML = '';\n",
              "          dataTable['output_type'] = 'display_data';\n",
              "          await google.colab.output.renderOutput(dataTable, element);\n",
              "          const docLink = document.createElement('div');\n",
              "          docLink.innerHTML = docLinkHtml;\n",
              "          element.appendChild(docLink);\n",
              "        }\n",
              "      </script>\n",
              "    </div>\n",
              "  </div>\n",
              "  "
            ]
          },
          "metadata": {},
          "execution_count": 5
        }
      ],
      "source": [
        "tariffs.info()\n",
        "tariffs"
      ]
    },
    {
      "cell_type": "markdown",
      "metadata": {
        "id": "INYUfaSG6uH3"
      },
      "source": [
        "* tariff_name — название тарифа\n",
        "* rub_monthly_fee — ежемесячная абонентская плата в рублях\n",
        "* minutes_included — количество минут разговора в месяц, включённых в абонентскую плату\n",
        "* messages_included — количество сообщений в месяц, включённых в абонентскую плату\n",
        "* mb_per_month_included — объём интернет-трафика, включённого в абонентскую плату (в мегабайтах)\n",
        "* rub_per_minute — стоимость минуты разговора сверх тарифного пакета (например, если в тарифе 100 минут разговора в месяц, то со 101 минуты будет взиматься плата)\n",
        "* rub_per_message — стоимость отправки сообщения сверх тарифного пакета\n",
        "* rub_per_gb — стоимость дополнительного гигабайта интернет-трафика сверх тарифного пакета (1 гигабайт = 1024 мегабайта)"
      ]
    },
    {
      "cell_type": "markdown",
      "metadata": {
        "id": "ajF3oG6J6uH3"
      },
      "source": [
        "### Информация об сообщениях"
      ]
    },
    {
      "cell_type": "code",
      "execution_count": 6,
      "metadata": {
        "colab": {
          "base_uri": "https://localhost:8080/",
          "height": 374
        },
        "id": "9WWFbggu6uH4",
        "outputId": "c9ca1ee1-a92d-4b6e-9b08-7bde8a876e5c"
      },
      "outputs": [
        {
          "output_type": "stream",
          "name": "stdout",
          "text": [
            "<class 'pandas.core.frame.DataFrame'>\n",
            "RangeIndex: 123036 entries, 0 to 123035\n",
            "Data columns (total 3 columns):\n",
            " #   Column        Non-Null Count   Dtype \n",
            "---  ------        --------------   ----- \n",
            " 0   id            123036 non-null  object\n",
            " 1   message_date  123036 non-null  object\n",
            " 2   user_id       123036 non-null  int64 \n",
            "dtypes: int64(1), object(2)\n",
            "memory usage: 2.8+ MB\n"
          ]
        },
        {
          "output_type": "execute_result",
          "data": {
            "text/plain": [
              "              id message_date  user_id\n",
              "123031  1499_179   2018-12-12     1499\n",
              "123032  1499_180   2018-09-28     1499\n",
              "123033  1499_181   2018-09-27     1499\n",
              "123034  1499_182   2018-11-15     1499\n",
              "123035  1499_183   2018-11-16     1499"
            ],
            "text/html": [
              "\n",
              "  <div id=\"df-5b9664b2-a859-40bd-a395-71fa046db02b\">\n",
              "    <div class=\"colab-df-container\">\n",
              "      <div>\n",
              "<style scoped>\n",
              "    .dataframe tbody tr th:only-of-type {\n",
              "        vertical-align: middle;\n",
              "    }\n",
              "\n",
              "    .dataframe tbody tr th {\n",
              "        vertical-align: top;\n",
              "    }\n",
              "\n",
              "    .dataframe thead th {\n",
              "        text-align: right;\n",
              "    }\n",
              "</style>\n",
              "<table border=\"1\" class=\"dataframe\">\n",
              "  <thead>\n",
              "    <tr style=\"text-align: right;\">\n",
              "      <th></th>\n",
              "      <th>id</th>\n",
              "      <th>message_date</th>\n",
              "      <th>user_id</th>\n",
              "    </tr>\n",
              "  </thead>\n",
              "  <tbody>\n",
              "    <tr>\n",
              "      <th>123031</th>\n",
              "      <td>1499_179</td>\n",
              "      <td>2018-12-12</td>\n",
              "      <td>1499</td>\n",
              "    </tr>\n",
              "    <tr>\n",
              "      <th>123032</th>\n",
              "      <td>1499_180</td>\n",
              "      <td>2018-09-28</td>\n",
              "      <td>1499</td>\n",
              "    </tr>\n",
              "    <tr>\n",
              "      <th>123033</th>\n",
              "      <td>1499_181</td>\n",
              "      <td>2018-09-27</td>\n",
              "      <td>1499</td>\n",
              "    </tr>\n",
              "    <tr>\n",
              "      <th>123034</th>\n",
              "      <td>1499_182</td>\n",
              "      <td>2018-11-15</td>\n",
              "      <td>1499</td>\n",
              "    </tr>\n",
              "    <tr>\n",
              "      <th>123035</th>\n",
              "      <td>1499_183</td>\n",
              "      <td>2018-11-16</td>\n",
              "      <td>1499</td>\n",
              "    </tr>\n",
              "  </tbody>\n",
              "</table>\n",
              "</div>\n",
              "      <button class=\"colab-df-convert\" onclick=\"convertToInteractive('df-5b9664b2-a859-40bd-a395-71fa046db02b')\"\n",
              "              title=\"Convert this dataframe to an interactive table.\"\n",
              "              style=\"display:none;\">\n",
              "        \n",
              "  <svg xmlns=\"http://www.w3.org/2000/svg\" height=\"24px\"viewBox=\"0 0 24 24\"\n",
              "       width=\"24px\">\n",
              "    <path d=\"M0 0h24v24H0V0z\" fill=\"none\"/>\n",
              "    <path d=\"M18.56 5.44l.94 2.06.94-2.06 2.06-.94-2.06-.94-.94-2.06-.94 2.06-2.06.94zm-11 1L8.5 8.5l.94-2.06 2.06-.94-2.06-.94L8.5 2.5l-.94 2.06-2.06.94zm10 10l.94 2.06.94-2.06 2.06-.94-2.06-.94-.94-2.06-.94 2.06-2.06.94z\"/><path d=\"M17.41 7.96l-1.37-1.37c-.4-.4-.92-.59-1.43-.59-.52 0-1.04.2-1.43.59L10.3 9.45l-7.72 7.72c-.78.78-.78 2.05 0 2.83L4 21.41c.39.39.9.59 1.41.59.51 0 1.02-.2 1.41-.59l7.78-7.78 2.81-2.81c.8-.78.8-2.07 0-2.86zM5.41 20L4 18.59l7.72-7.72 1.47 1.35L5.41 20z\"/>\n",
              "  </svg>\n",
              "      </button>\n",
              "      \n",
              "  <style>\n",
              "    .colab-df-container {\n",
              "      display:flex;\n",
              "      flex-wrap:wrap;\n",
              "      gap: 12px;\n",
              "    }\n",
              "\n",
              "    .colab-df-convert {\n",
              "      background-color: #E8F0FE;\n",
              "      border: none;\n",
              "      border-radius: 50%;\n",
              "      cursor: pointer;\n",
              "      display: none;\n",
              "      fill: #1967D2;\n",
              "      height: 32px;\n",
              "      padding: 0 0 0 0;\n",
              "      width: 32px;\n",
              "    }\n",
              "\n",
              "    .colab-df-convert:hover {\n",
              "      background-color: #E2EBFA;\n",
              "      box-shadow: 0px 1px 2px rgba(60, 64, 67, 0.3), 0px 1px 3px 1px rgba(60, 64, 67, 0.15);\n",
              "      fill: #174EA6;\n",
              "    }\n",
              "\n",
              "    [theme=dark] .colab-df-convert {\n",
              "      background-color: #3B4455;\n",
              "      fill: #D2E3FC;\n",
              "    }\n",
              "\n",
              "    [theme=dark] .colab-df-convert:hover {\n",
              "      background-color: #434B5C;\n",
              "      box-shadow: 0px 1px 3px 1px rgba(0, 0, 0, 0.15);\n",
              "      filter: drop-shadow(0px 1px 2px rgba(0, 0, 0, 0.3));\n",
              "      fill: #FFFFFF;\n",
              "    }\n",
              "  </style>\n",
              "\n",
              "      <script>\n",
              "        const buttonEl =\n",
              "          document.querySelector('#df-5b9664b2-a859-40bd-a395-71fa046db02b button.colab-df-convert');\n",
              "        buttonEl.style.display =\n",
              "          google.colab.kernel.accessAllowed ? 'block' : 'none';\n",
              "\n",
              "        async function convertToInteractive(key) {\n",
              "          const element = document.querySelector('#df-5b9664b2-a859-40bd-a395-71fa046db02b');\n",
              "          const dataTable =\n",
              "            await google.colab.kernel.invokeFunction('convertToInteractive',\n",
              "                                                     [key], {});\n",
              "          if (!dataTable) return;\n",
              "\n",
              "          const docLinkHtml = 'Like what you see? Visit the ' +\n",
              "            '<a target=\"_blank\" href=https://colab.research.google.com/notebooks/data_table.ipynb>data table notebook</a>'\n",
              "            + ' to learn more about interactive tables.';\n",
              "          element.innerHTML = '';\n",
              "          dataTable['output_type'] = 'display_data';\n",
              "          await google.colab.output.renderOutput(dataTable, element);\n",
              "          const docLink = document.createElement('div');\n",
              "          docLink.innerHTML = docLinkHtml;\n",
              "          element.appendChild(docLink);\n",
              "        }\n",
              "      </script>\n",
              "    </div>\n",
              "  </div>\n",
              "  "
            ]
          },
          "metadata": {},
          "execution_count": 6
        }
      ],
      "source": [
        "messages.info()\n",
        "messages.tail()"
      ]
    },
    {
      "cell_type": "markdown",
      "metadata": {
        "id": "CoPmtgAJ6uH4"
      },
      "source": [
        "* id — уникальный номер сообщения\n",
        "* message_date — дата сообщения\n",
        "* user_id — идентификатор пользователя, отправившего сообщение"
      ]
    },
    {
      "cell_type": "markdown",
      "metadata": {
        "id": "LTgD_bGS6uH4"
      },
      "source": [
        "### Информация о пользователях"
      ]
    },
    {
      "cell_type": "code",
      "execution_count": 7,
      "metadata": {
        "colab": {
          "base_uri": "https://localhost:8080/",
          "height": 521
        },
        "id": "bgPlNTk16uH5",
        "outputId": "d7b42e60-38cd-4525-ea2b-872665a01c6f"
      },
      "outputs": [
        {
          "output_type": "stream",
          "name": "stdout",
          "text": [
            "<class 'pandas.core.frame.DataFrame'>\n",
            "RangeIndex: 500 entries, 0 to 499\n",
            "Data columns (total 8 columns):\n",
            " #   Column      Non-Null Count  Dtype \n",
            "---  ------      --------------  ----- \n",
            " 0   user_id     500 non-null    int64 \n",
            " 1   age         500 non-null    int64 \n",
            " 2   churn_date  38 non-null     object\n",
            " 3   city        500 non-null    object\n",
            " 4   first_name  500 non-null    object\n",
            " 5   last_name   500 non-null    object\n",
            " 6   reg_date    500 non-null    object\n",
            " 7   tariff      500 non-null    object\n",
            "dtypes: int64(2), object(6)\n",
            "memory usage: 31.4+ KB\n"
          ]
        },
        {
          "output_type": "execute_result",
          "data": {
            "text/plain": [
              "   user_id  age churn_date              city first_name  last_name  \\\n",
              "0     1000   52        NaN         Краснодар     Рафаил  Верещагин   \n",
              "1     1001   41        NaN            Москва       Иван       Ежов   \n",
              "2     1002   59        NaN       Стерлитамак    Евгений  Абрамович   \n",
              "3     1003   23        NaN            Москва      Белла   Белякова   \n",
              "4     1004   68        NaN       Новокузнецк    Татьяна   Авдеенко   \n",
              "5     1005   67        NaN  Набережные Челны   Афанасий     Горлов   \n",
              "6     1006   21        NaN         Ульяновск     Леонид   Ермолаев   \n",
              "\n",
              "     reg_date tariff  \n",
              "0  2018-05-25  ultra  \n",
              "1  2018-11-01  smart  \n",
              "2  2018-06-17  smart  \n",
              "3  2018-08-17  ultra  \n",
              "4  2018-05-14  ultra  \n",
              "5  2018-01-25  smart  \n",
              "6  2018-02-26  smart  "
            ],
            "text/html": [
              "\n",
              "  <div id=\"df-e5fa45ac-1f19-43a8-8b5b-d8e18aa16a80\">\n",
              "    <div class=\"colab-df-container\">\n",
              "      <div>\n",
              "<style scoped>\n",
              "    .dataframe tbody tr th:only-of-type {\n",
              "        vertical-align: middle;\n",
              "    }\n",
              "\n",
              "    .dataframe tbody tr th {\n",
              "        vertical-align: top;\n",
              "    }\n",
              "\n",
              "    .dataframe thead th {\n",
              "        text-align: right;\n",
              "    }\n",
              "</style>\n",
              "<table border=\"1\" class=\"dataframe\">\n",
              "  <thead>\n",
              "    <tr style=\"text-align: right;\">\n",
              "      <th></th>\n",
              "      <th>user_id</th>\n",
              "      <th>age</th>\n",
              "      <th>churn_date</th>\n",
              "      <th>city</th>\n",
              "      <th>first_name</th>\n",
              "      <th>last_name</th>\n",
              "      <th>reg_date</th>\n",
              "      <th>tariff</th>\n",
              "    </tr>\n",
              "  </thead>\n",
              "  <tbody>\n",
              "    <tr>\n",
              "      <th>0</th>\n",
              "      <td>1000</td>\n",
              "      <td>52</td>\n",
              "      <td>NaN</td>\n",
              "      <td>Краснодар</td>\n",
              "      <td>Рафаил</td>\n",
              "      <td>Верещагин</td>\n",
              "      <td>2018-05-25</td>\n",
              "      <td>ultra</td>\n",
              "    </tr>\n",
              "    <tr>\n",
              "      <th>1</th>\n",
              "      <td>1001</td>\n",
              "      <td>41</td>\n",
              "      <td>NaN</td>\n",
              "      <td>Москва</td>\n",
              "      <td>Иван</td>\n",
              "      <td>Ежов</td>\n",
              "      <td>2018-11-01</td>\n",
              "      <td>smart</td>\n",
              "    </tr>\n",
              "    <tr>\n",
              "      <th>2</th>\n",
              "      <td>1002</td>\n",
              "      <td>59</td>\n",
              "      <td>NaN</td>\n",
              "      <td>Стерлитамак</td>\n",
              "      <td>Евгений</td>\n",
              "      <td>Абрамович</td>\n",
              "      <td>2018-06-17</td>\n",
              "      <td>smart</td>\n",
              "    </tr>\n",
              "    <tr>\n",
              "      <th>3</th>\n",
              "      <td>1003</td>\n",
              "      <td>23</td>\n",
              "      <td>NaN</td>\n",
              "      <td>Москва</td>\n",
              "      <td>Белла</td>\n",
              "      <td>Белякова</td>\n",
              "      <td>2018-08-17</td>\n",
              "      <td>ultra</td>\n",
              "    </tr>\n",
              "    <tr>\n",
              "      <th>4</th>\n",
              "      <td>1004</td>\n",
              "      <td>68</td>\n",
              "      <td>NaN</td>\n",
              "      <td>Новокузнецк</td>\n",
              "      <td>Татьяна</td>\n",
              "      <td>Авдеенко</td>\n",
              "      <td>2018-05-14</td>\n",
              "      <td>ultra</td>\n",
              "    </tr>\n",
              "    <tr>\n",
              "      <th>5</th>\n",
              "      <td>1005</td>\n",
              "      <td>67</td>\n",
              "      <td>NaN</td>\n",
              "      <td>Набережные Челны</td>\n",
              "      <td>Афанасий</td>\n",
              "      <td>Горлов</td>\n",
              "      <td>2018-01-25</td>\n",
              "      <td>smart</td>\n",
              "    </tr>\n",
              "    <tr>\n",
              "      <th>6</th>\n",
              "      <td>1006</td>\n",
              "      <td>21</td>\n",
              "      <td>NaN</td>\n",
              "      <td>Ульяновск</td>\n",
              "      <td>Леонид</td>\n",
              "      <td>Ермолаев</td>\n",
              "      <td>2018-02-26</td>\n",
              "      <td>smart</td>\n",
              "    </tr>\n",
              "  </tbody>\n",
              "</table>\n",
              "</div>\n",
              "      <button class=\"colab-df-convert\" onclick=\"convertToInteractive('df-e5fa45ac-1f19-43a8-8b5b-d8e18aa16a80')\"\n",
              "              title=\"Convert this dataframe to an interactive table.\"\n",
              "              style=\"display:none;\">\n",
              "        \n",
              "  <svg xmlns=\"http://www.w3.org/2000/svg\" height=\"24px\"viewBox=\"0 0 24 24\"\n",
              "       width=\"24px\">\n",
              "    <path d=\"M0 0h24v24H0V0z\" fill=\"none\"/>\n",
              "    <path d=\"M18.56 5.44l.94 2.06.94-2.06 2.06-.94-2.06-.94-.94-2.06-.94 2.06-2.06.94zm-11 1L8.5 8.5l.94-2.06 2.06-.94-2.06-.94L8.5 2.5l-.94 2.06-2.06.94zm10 10l.94 2.06.94-2.06 2.06-.94-2.06-.94-.94-2.06-.94 2.06-2.06.94z\"/><path d=\"M17.41 7.96l-1.37-1.37c-.4-.4-.92-.59-1.43-.59-.52 0-1.04.2-1.43.59L10.3 9.45l-7.72 7.72c-.78.78-.78 2.05 0 2.83L4 21.41c.39.39.9.59 1.41.59.51 0 1.02-.2 1.41-.59l7.78-7.78 2.81-2.81c.8-.78.8-2.07 0-2.86zM5.41 20L4 18.59l7.72-7.72 1.47 1.35L5.41 20z\"/>\n",
              "  </svg>\n",
              "      </button>\n",
              "      \n",
              "  <style>\n",
              "    .colab-df-container {\n",
              "      display:flex;\n",
              "      flex-wrap:wrap;\n",
              "      gap: 12px;\n",
              "    }\n",
              "\n",
              "    .colab-df-convert {\n",
              "      background-color: #E8F0FE;\n",
              "      border: none;\n",
              "      border-radius: 50%;\n",
              "      cursor: pointer;\n",
              "      display: none;\n",
              "      fill: #1967D2;\n",
              "      height: 32px;\n",
              "      padding: 0 0 0 0;\n",
              "      width: 32px;\n",
              "    }\n",
              "\n",
              "    .colab-df-convert:hover {\n",
              "      background-color: #E2EBFA;\n",
              "      box-shadow: 0px 1px 2px rgba(60, 64, 67, 0.3), 0px 1px 3px 1px rgba(60, 64, 67, 0.15);\n",
              "      fill: #174EA6;\n",
              "    }\n",
              "\n",
              "    [theme=dark] .colab-df-convert {\n",
              "      background-color: #3B4455;\n",
              "      fill: #D2E3FC;\n",
              "    }\n",
              "\n",
              "    [theme=dark] .colab-df-convert:hover {\n",
              "      background-color: #434B5C;\n",
              "      box-shadow: 0px 1px 3px 1px rgba(0, 0, 0, 0.15);\n",
              "      filter: drop-shadow(0px 1px 2px rgba(0, 0, 0, 0.3));\n",
              "      fill: #FFFFFF;\n",
              "    }\n",
              "  </style>\n",
              "\n",
              "      <script>\n",
              "        const buttonEl =\n",
              "          document.querySelector('#df-e5fa45ac-1f19-43a8-8b5b-d8e18aa16a80 button.colab-df-convert');\n",
              "        buttonEl.style.display =\n",
              "          google.colab.kernel.accessAllowed ? 'block' : 'none';\n",
              "\n",
              "        async function convertToInteractive(key) {\n",
              "          const element = document.querySelector('#df-e5fa45ac-1f19-43a8-8b5b-d8e18aa16a80');\n",
              "          const dataTable =\n",
              "            await google.colab.kernel.invokeFunction('convertToInteractive',\n",
              "                                                     [key], {});\n",
              "          if (!dataTable) return;\n",
              "\n",
              "          const docLinkHtml = 'Like what you see? Visit the ' +\n",
              "            '<a target=\"_blank\" href=https://colab.research.google.com/notebooks/data_table.ipynb>data table notebook</a>'\n",
              "            + ' to learn more about interactive tables.';\n",
              "          element.innerHTML = '';\n",
              "          dataTable['output_type'] = 'display_data';\n",
              "          await google.colab.output.renderOutput(dataTable, element);\n",
              "          const docLink = document.createElement('div');\n",
              "          docLink.innerHTML = docLinkHtml;\n",
              "          element.appendChild(docLink);\n",
              "        }\n",
              "      </script>\n",
              "    </div>\n",
              "  </div>\n",
              "  "
            ]
          },
          "metadata": {},
          "execution_count": 7
        }
      ],
      "source": [
        "users.info() #информация о таблице\n",
        "users.head(7) #7 первых строк пользователей"
      ]
    },
    {
      "cell_type": "markdown",
      "metadata": {
        "id": "D05HDgJ46uH5"
      },
      "source": [
        "* user_id — уникальный идентификатор пользователя\n",
        "* first_name — имя пользователя\n",
        "* last_name — фамилия пользователя\n",
        "* age — возраст пользователя (годы)\n",
        "* reg_date — дата подключения тарифа (день, месяц, год)\n",
        "* churn_date — дата прекращения пользования тарифом (если значение пропущено, то тариф ещё действовал на момент выгрузки данных)\n",
        "* city — город проживания пользователя\n",
        "* tarif — название тарифного плана"
      ]
    },
    {
      "cell_type": "markdown",
      "metadata": {
        "id": "KLk01aQ26uH6"
      },
      "source": [
        "### Общий вывод"
      ]
    },
    {
      "cell_type": "markdown",
      "metadata": {
        "id": "2JoUNfeD6uH6"
      },
      "source": [
        "Таким образом, мы рассмотрели общую информацию о таблицах, с которыми будем работать, в следующем пункте произведем подготовку данных и исправим ошибки."
      ]
    },
    {
      "cell_type": "markdown",
      "metadata": {
        "id": "d6DUUa2I6uH7"
      },
      "source": [
        "## Подготовка данных"
      ]
    },
    {
      "cell_type": "markdown",
      "metadata": {
        "id": "RdejJeXI6uH7"
      },
      "source": [
        "### Таблица звонков"
      ]
    },
    {
      "cell_type": "code",
      "execution_count": 8,
      "metadata": {
        "colab": {
          "base_uri": "https://localhost:8080/",
          "height": 204
        },
        "id": "3P2szV916uH7",
        "outputId": "d2d37116-180e-4293-c2db-d4282ca1ffa5"
      },
      "outputs": [
        {
          "output_type": "execute_result",
          "data": {
            "text/plain": [
              "       id   call_date  duration  user_id\n",
              "0  1000_0  2018-07-25      0.00     1000\n",
              "1  1000_1  2018-08-17      0.00     1000\n",
              "2  1000_2  2018-06-11      2.85     1000\n",
              "3  1000_3  2018-09-21     13.80     1000\n",
              "4  1000_4  2018-12-15      5.18     1000"
            ],
            "text/html": [
              "\n",
              "  <div id=\"df-8a13ef95-f5d2-4df1-9c1f-2bb828d77e43\">\n",
              "    <div class=\"colab-df-container\">\n",
              "      <div>\n",
              "<style scoped>\n",
              "    .dataframe tbody tr th:only-of-type {\n",
              "        vertical-align: middle;\n",
              "    }\n",
              "\n",
              "    .dataframe tbody tr th {\n",
              "        vertical-align: top;\n",
              "    }\n",
              "\n",
              "    .dataframe thead th {\n",
              "        text-align: right;\n",
              "    }\n",
              "</style>\n",
              "<table border=\"1\" class=\"dataframe\">\n",
              "  <thead>\n",
              "    <tr style=\"text-align: right;\">\n",
              "      <th></th>\n",
              "      <th>id</th>\n",
              "      <th>call_date</th>\n",
              "      <th>duration</th>\n",
              "      <th>user_id</th>\n",
              "    </tr>\n",
              "  </thead>\n",
              "  <tbody>\n",
              "    <tr>\n",
              "      <th>0</th>\n",
              "      <td>1000_0</td>\n",
              "      <td>2018-07-25</td>\n",
              "      <td>0.00</td>\n",
              "      <td>1000</td>\n",
              "    </tr>\n",
              "    <tr>\n",
              "      <th>1</th>\n",
              "      <td>1000_1</td>\n",
              "      <td>2018-08-17</td>\n",
              "      <td>0.00</td>\n",
              "      <td>1000</td>\n",
              "    </tr>\n",
              "    <tr>\n",
              "      <th>2</th>\n",
              "      <td>1000_2</td>\n",
              "      <td>2018-06-11</td>\n",
              "      <td>2.85</td>\n",
              "      <td>1000</td>\n",
              "    </tr>\n",
              "    <tr>\n",
              "      <th>3</th>\n",
              "      <td>1000_3</td>\n",
              "      <td>2018-09-21</td>\n",
              "      <td>13.80</td>\n",
              "      <td>1000</td>\n",
              "    </tr>\n",
              "    <tr>\n",
              "      <th>4</th>\n",
              "      <td>1000_4</td>\n",
              "      <td>2018-12-15</td>\n",
              "      <td>5.18</td>\n",
              "      <td>1000</td>\n",
              "    </tr>\n",
              "  </tbody>\n",
              "</table>\n",
              "</div>\n",
              "      <button class=\"colab-df-convert\" onclick=\"convertToInteractive('df-8a13ef95-f5d2-4df1-9c1f-2bb828d77e43')\"\n",
              "              title=\"Convert this dataframe to an interactive table.\"\n",
              "              style=\"display:none;\">\n",
              "        \n",
              "  <svg xmlns=\"http://www.w3.org/2000/svg\" height=\"24px\"viewBox=\"0 0 24 24\"\n",
              "       width=\"24px\">\n",
              "    <path d=\"M0 0h24v24H0V0z\" fill=\"none\"/>\n",
              "    <path d=\"M18.56 5.44l.94 2.06.94-2.06 2.06-.94-2.06-.94-.94-2.06-.94 2.06-2.06.94zm-11 1L8.5 8.5l.94-2.06 2.06-.94-2.06-.94L8.5 2.5l-.94 2.06-2.06.94zm10 10l.94 2.06.94-2.06 2.06-.94-2.06-.94-.94-2.06-.94 2.06-2.06.94z\"/><path d=\"M17.41 7.96l-1.37-1.37c-.4-.4-.92-.59-1.43-.59-.52 0-1.04.2-1.43.59L10.3 9.45l-7.72 7.72c-.78.78-.78 2.05 0 2.83L4 21.41c.39.39.9.59 1.41.59.51 0 1.02-.2 1.41-.59l7.78-7.78 2.81-2.81c.8-.78.8-2.07 0-2.86zM5.41 20L4 18.59l7.72-7.72 1.47 1.35L5.41 20z\"/>\n",
              "  </svg>\n",
              "      </button>\n",
              "      \n",
              "  <style>\n",
              "    .colab-df-container {\n",
              "      display:flex;\n",
              "      flex-wrap:wrap;\n",
              "      gap: 12px;\n",
              "    }\n",
              "\n",
              "    .colab-df-convert {\n",
              "      background-color: #E8F0FE;\n",
              "      border: none;\n",
              "      border-radius: 50%;\n",
              "      cursor: pointer;\n",
              "      display: none;\n",
              "      fill: #1967D2;\n",
              "      height: 32px;\n",
              "      padding: 0 0 0 0;\n",
              "      width: 32px;\n",
              "    }\n",
              "\n",
              "    .colab-df-convert:hover {\n",
              "      background-color: #E2EBFA;\n",
              "      box-shadow: 0px 1px 2px rgba(60, 64, 67, 0.3), 0px 1px 3px 1px rgba(60, 64, 67, 0.15);\n",
              "      fill: #174EA6;\n",
              "    }\n",
              "\n",
              "    [theme=dark] .colab-df-convert {\n",
              "      background-color: #3B4455;\n",
              "      fill: #D2E3FC;\n",
              "    }\n",
              "\n",
              "    [theme=dark] .colab-df-convert:hover {\n",
              "      background-color: #434B5C;\n",
              "      box-shadow: 0px 1px 3px 1px rgba(0, 0, 0, 0.15);\n",
              "      filter: drop-shadow(0px 1px 2px rgba(0, 0, 0, 0.3));\n",
              "      fill: #FFFFFF;\n",
              "    }\n",
              "  </style>\n",
              "\n",
              "      <script>\n",
              "        const buttonEl =\n",
              "          document.querySelector('#df-8a13ef95-f5d2-4df1-9c1f-2bb828d77e43 button.colab-df-convert');\n",
              "        buttonEl.style.display =\n",
              "          google.colab.kernel.accessAllowed ? 'block' : 'none';\n",
              "\n",
              "        async function convertToInteractive(key) {\n",
              "          const element = document.querySelector('#df-8a13ef95-f5d2-4df1-9c1f-2bb828d77e43');\n",
              "          const dataTable =\n",
              "            await google.colab.kernel.invokeFunction('convertToInteractive',\n",
              "                                                     [key], {});\n",
              "          if (!dataTable) return;\n",
              "\n",
              "          const docLinkHtml = 'Like what you see? Visit the ' +\n",
              "            '<a target=\"_blank\" href=https://colab.research.google.com/notebooks/data_table.ipynb>data table notebook</a>'\n",
              "            + ' to learn more about interactive tables.';\n",
              "          element.innerHTML = '';\n",
              "          dataTable['output_type'] = 'display_data';\n",
              "          await google.colab.output.renderOutput(dataTable, element);\n",
              "          const docLink = document.createElement('div');\n",
              "          docLink.innerHTML = docLinkHtml;\n",
              "          element.appendChild(docLink);\n",
              "        }\n",
              "      </script>\n",
              "    </div>\n",
              "  </div>\n",
              "  "
            ]
          },
          "metadata": {},
          "execution_count": 8
        }
      ],
      "source": [
        "calls.head()"
      ]
    },
    {
      "cell_type": "code",
      "execution_count": 9,
      "metadata": {
        "colab": {
          "base_uri": "https://localhost:8080/"
        },
        "id": "WCIP2mAJ6uH8",
        "outputId": "5a14f9c0-cd55-4d22-ed93-adcc9422cdb6"
      },
      "outputs": [
        {
          "output_type": "stream",
          "name": "stdout",
          "text": [
            "<class 'pandas.core.frame.DataFrame'>\n",
            "RangeIndex: 202607 entries, 0 to 202606\n",
            "Data columns (total 4 columns):\n",
            " #   Column     Non-Null Count   Dtype  \n",
            "---  ------     --------------   -----  \n",
            " 0   id         202607 non-null  object \n",
            " 1   call_date  202607 non-null  object \n",
            " 2   duration   202607 non-null  float64\n",
            " 3   user_id    202607 non-null  int64  \n",
            "dtypes: float64(1), int64(1), object(2)\n",
            "memory usage: 6.2+ MB\n"
          ]
        }
      ],
      "source": [
        "calls.info() #еще раз смотрим информацию о звонках"
      ]
    },
    {
      "cell_type": "code",
      "execution_count": 10,
      "metadata": {
        "colab": {
          "base_uri": "https://localhost:8080/"
        },
        "id": "8omNglFL6uH8",
        "outputId": "df3bf0c3-82d5-41e3-d7db-5418ebf5ffcc"
      },
      "outputs": [
        {
          "output_type": "execute_result",
          "data": {
            "text/plain": [
              "0"
            ]
          },
          "metadata": {},
          "execution_count": 10
        }
      ],
      "source": [
        "calls.duplicated().sum() #количество дубликатов "
      ]
    },
    {
      "cell_type": "code",
      "execution_count": 11,
      "metadata": {
        "colab": {
          "base_uri": "https://localhost:8080/"
        },
        "id": "1xFX7aNQ6uH9",
        "outputId": "2842fbbb-fc8e-4a56-9b66-839571e2a54e"
      },
      "outputs": [
        {
          "output_type": "execute_result",
          "data": {
            "text/plain": [
              "count   202,607.00\n",
              "mean          6.76\n",
              "std           5.84\n",
              "min           0.00\n",
              "25%           1.30\n",
              "50%           6.00\n",
              "75%          10.70\n",
              "max          38.00\n",
              "Name: duration, dtype: float64"
            ]
          },
          "metadata": {},
          "execution_count": 11
        }
      ],
      "source": [
        "calls[\"duration\"].describe() #числовое описание длительности разговора"
      ]
    },
    {
      "cell_type": "code",
      "execution_count": 12,
      "metadata": {
        "colab": {
          "base_uri": "https://localhost:8080/",
          "height": 282
        },
        "id": "bUeBl3Jv6uH9",
        "outputId": "7d8fa6eb-8b77-46eb-b3c2-be572409dd21"
      },
      "outputs": [
        {
          "output_type": "execute_result",
          "data": {
            "text/plain": [
              "<matplotlib.axes._subplots.AxesSubplot at 0x7f19082bc450>"
            ]
          },
          "metadata": {},
          "execution_count": 12
        },
        {
          "output_type": "display_data",
          "data": {
            "text/plain": [
              "<Figure size 432x288 with 1 Axes>"
            ],
            "image/png": "[encoded data removed]"
          },
          "metadata": {
            "needs_background": "light"
          }
        }
      ],
      "source": [
        "calls.boxplot(\"duration\") #ящик с усами для длительности длительности разговора"
      ]
    },
    {
      "cell_type": "markdown",
      "metadata": {
        "id": "-BXMCpyz6uH-"
      },
      "source": [
        "Как мы видим,среднее и медиана практически совпадают с друг другом. Выбросы от 25 минут и более есть, однако считаю их не ошибочными, потому что возможно были длинные разговоры. Однако существует множество звонков по 0 минут, считаю, что для наших целей их следует удалить из выборки."
      ]
    },
    {
      "cell_type": "code",
      "execution_count": 13,
      "metadata": {
        "colab": {
          "base_uri": "https://localhost:8080/"
        },
        "id": "UMsZb_146uH-",
        "outputId": "cd26eb3c-3586-4744-f5e7-2499dfce1543"
      },
      "outputs": [
        {
          "output_type": "execute_result",
          "data": {
            "text/plain": [
              "0         2.85\n",
              "1        13.80\n",
              "2         5.18\n",
              "3        18.31\n",
              "4        18.44\n",
              "          ... \n",
              "162989    0.76\n",
              "162990   18.83\n",
              "162991   10.81\n",
              "162992    4.27\n",
              "162993   19.62\n",
              "Name: duration, Length: 162994, dtype: float64"
            ]
          },
          "metadata": {},
          "execution_count": 13
        }
      ],
      "source": [
        "calls = calls.query('duration > 0').reset_index(drop=True) #сделаем срез данных, где длительность звонка больше 0\n",
        "#сбрасываем индексы и назначем новые для красоты\n",
        "calls['duration'] #столбец с длительностью"
      ]
    },
    {
      "cell_type": "code",
      "execution_count": 14,
      "metadata": {
        "colab": {
          "base_uri": "https://localhost:8080/"
        },
        "id": "d0HeKUJd6uH-",
        "outputId": "ec564922-8d1b-4370-d96b-82d07bab8249"
      },
      "outputs": [
        {
          "output_type": "execute_result",
          "data": {
            "text/plain": [
              "0          3\n",
              "1         14\n",
              "2          6\n",
              "3         19\n",
              "4         19\n",
              "          ..\n",
              "162989     1\n",
              "162990    19\n",
              "162991    11\n",
              "162992     5\n",
              "162993    20\n",
              "Name: duration, Length: 162994, dtype: int64"
            ]
          },
          "metadata": {},
          "execution_count": 14
        }
      ],
      "source": [
        "calls[\"call_date\"] = pd.to_datetime(calls[\"call_date\"], format = \"%Y-%m-%d\") #переводим в формат datetime\n",
        "def round_up(x): #создаем функция для округления на верх\n",
        "    if (x % 1) !=0:\n",
        "        x = int(x) + 1\n",
        "    return x\n",
        "round_up(0.5)\n",
        "calls[\"duration\"] = calls[\"duration\"].apply(round_up).astype(int) #применяем функцию и переводим в тип int\n",
        "calls[\"duration\"]"
      ]
    },
    {
      "cell_type": "code",
      "execution_count": 15,
      "metadata": {
        "id": "Yg5yp80T6uH_"
      },
      "outputs": [],
      "source": [
        "calls[\"month\"] = calls[\"call_date\"].dt.month #добавим столбец с месяцем звонков"
      ]
    },
    {
      "cell_type": "code",
      "execution_count": 16,
      "metadata": {
        "colab": {
          "base_uri": "https://localhost:8080/",
          "height": 419
        },
        "id": "WWryYHYi6uIA",
        "outputId": "c6420d24-ee00-4d9e-81f6-a6c113373676"
      },
      "outputs": [
        {
          "output_type": "execute_result",
          "data": {
            "text/plain": [
              "              id  call_date  duration  user_id  month\n",
              "0         1000_2 2018-06-11         3     1000      6\n",
              "1         1000_3 2018-09-21        14     1000      9\n",
              "2         1000_4 2018-12-15         6     1000     12\n",
              "3         1000_7 2018-08-22        19     1000      8\n",
              "4         1000_8 2018-09-15        19     1000      9\n",
              "...          ...        ...       ...      ...    ...\n",
              "162989  1499_215 2018-12-26         1     1499     12\n",
              "162990  1499_216 2018-10-18        19     1499     10\n",
              "162991  1499_217 2018-11-10        11     1499     11\n",
              "162992  1499_218 2018-10-06         5     1499     10\n",
              "162993  1499_219 2018-12-14        20     1499     12\n",
              "\n",
              "[162994 rows x 5 columns]"
            ],
            "text/html": [
              "\n",
              "  <div id=\"df-d7756786-fc48-47b4-8cce-084efaa7850b\">\n",
              "    <div class=\"colab-df-container\">\n",
              "      <div>\n",
              "<style scoped>\n",
              "    .dataframe tbody tr th:only-of-type {\n",
              "        vertical-align: middle;\n",
              "    }\n",
              "\n",
              "    .dataframe tbody tr th {\n",
              "        vertical-align: top;\n",
              "    }\n",
              "\n",
              "    .dataframe thead th {\n",
              "        text-align: right;\n",
              "    }\n",
              "</style>\n",
              "<table border=\"1\" class=\"dataframe\">\n",
              "  <thead>\n",
              "    <tr style=\"text-align: right;\">\n",
              "      <th></th>\n",
              "      <th>id</th>\n",
              "      <th>call_date</th>\n",
              "      <th>duration</th>\n",
              "      <th>user_id</th>\n",
              "      <th>month</th>\n",
              "    </tr>\n",
              "  </thead>\n",
              "  <tbody>\n",
              "    <tr>\n",
              "      <th>0</th>\n",
              "      <td>1000_2</td>\n",
              "      <td>2018-06-11</td>\n",
              "      <td>3</td>\n",
              "      <td>1000</td>\n",
              "      <td>6</td>\n",
              "    </tr>\n",
              "    <tr>\n",
              "      <th>1</th>\n",
              "      <td>1000_3</td>\n",
              "      <td>2018-09-21</td>\n",
              "      <td>14</td>\n",
              "      <td>1000</td>\n",
              "      <td>9</td>\n",
              "    </tr>\n",
              "    <tr>\n",
              "      <th>2</th>\n",
              "      <td>1000_4</td>\n",
              "      <td>2018-12-15</td>\n",
              "      <td>6</td>\n",
              "      <td>1000</td>\n",
              "      <td>12</td>\n",
              "    </tr>\n",
              "    <tr>\n",
              "      <th>3</th>\n",
              "      <td>1000_7</td>\n",
              "      <td>2018-08-22</td>\n",
              "      <td>19</td>\n",
              "      <td>1000</td>\n",
              "      <td>8</td>\n",
              "    </tr>\n",
              "    <tr>\n",
              "      <th>4</th>\n",
              "      <td>1000_8</td>\n",
              "      <td>2018-09-15</td>\n",
              "      <td>19</td>\n",
              "      <td>1000</td>\n",
              "      <td>9</td>\n",
              "    </tr>\n",
              "    <tr>\n",
              "      <th>...</th>\n",
              "      <td>...</td>\n",
              "      <td>...</td>\n",
              "      <td>...</td>\n",
              "      <td>...</td>\n",
              "      <td>...</td>\n",
              "    </tr>\n",
              "    <tr>\n",
              "      <th>162989</th>\n",
              "      <td>1499_215</td>\n",
              "      <td>2018-12-26</td>\n",
              "      <td>1</td>\n",
              "      <td>1499</td>\n",
              "      <td>12</td>\n",
              "    </tr>\n",
              "    <tr>\n",
              "      <th>162990</th>\n",
              "      <td>1499_216</td>\n",
              "      <td>2018-10-18</td>\n",
              "      <td>19</td>\n",
              "      <td>1499</td>\n",
              "      <td>10</td>\n",
              "    </tr>\n",
              "    <tr>\n",
              "      <th>162991</th>\n",
              "      <td>1499_217</td>\n",
              "      <td>2018-11-10</td>\n",
              "      <td>11</td>\n",
              "      <td>1499</td>\n",
              "      <td>11</td>\n",
              "    </tr>\n",
              "    <tr>\n",
              "      <th>162992</th>\n",
              "      <td>1499_218</td>\n",
              "      <td>2018-10-06</td>\n",
              "      <td>5</td>\n",
              "      <td>1499</td>\n",
              "      <td>10</td>\n",
              "    </tr>\n",
              "    <tr>\n",
              "      <th>162993</th>\n",
              "      <td>1499_219</td>\n",
              "      <td>2018-12-14</td>\n",
              "      <td>20</td>\n",
              "      <td>1499</td>\n",
              "      <td>12</td>\n",
              "    </tr>\n",
              "  </tbody>\n",
              "</table>\n",
              "<p>162994 rows × 5 columns</p>\n",
              "</div>\n",
              "      <button class=\"colab-df-convert\" onclick=\"convertToInteractive('df-d7756786-fc48-47b4-8cce-084efaa7850b')\"\n",
              "              title=\"Convert this dataframe to an interactive table.\"\n",
              "              style=\"display:none;\">\n",
              "        \n",
              "  <svg xmlns=\"http://www.w3.org/2000/svg\" height=\"24px\"viewBox=\"0 0 24 24\"\n",
              "       width=\"24px\">\n",
              "    <path d=\"M0 0h24v24H0V0z\" fill=\"none\"/>\n",
              "    <path d=\"M18.56 5.44l.94 2.06.94-2.06 2.06-.94-2.06-.94-.94-2.06-.94 2.06-2.06.94zm-11 1L8.5 8.5l.94-2.06 2.06-.94-2.06-.94L8.5 2.5l-.94 2.06-2.06.94zm10 10l.94 2.06.94-2.06 2.06-.94-2.06-.94-.94-2.06-.94 2.06-2.06.94z\"/><path d=\"M17.41 7.96l-1.37-1.37c-.4-.4-.92-.59-1.43-.59-.52 0-1.04.2-1.43.59L10.3 9.45l-7.72 7.72c-.78.78-.78 2.05 0 2.83L4 21.41c.39.39.9.59 1.41.59.51 0 1.02-.2 1.41-.59l7.78-7.78 2.81-2.81c.8-.78.8-2.07 0-2.86zM5.41 20L4 18.59l7.72-7.72 1.47 1.35L5.41 20z\"/>\n",
              "  </svg>\n",
              "      </button>\n",
              "      \n",
              "  <style>\n",
              "    .colab-df-container {\n",
              "      display:flex;\n",
              "      flex-wrap:wrap;\n",
              "      gap: 12px;\n",
              "    }\n",
              "\n",
              "    .colab-df-convert {\n",
              "      background-color: #E8F0FE;\n",
              "      border: none;\n",
              "      border-radius: 50%;\n",
              "      cursor: pointer;\n",
              "      display: none;\n",
              "      fill: #1967D2;\n",
              "      height: 32px;\n",
              "      padding: 0 0 0 0;\n",
              "      width: 32px;\n",
              "    }\n",
              "\n",
              "    .colab-df-convert:hover {\n",
              "      background-color: #E2EBFA;\n",
              "      box-shadow: 0px 1px 2px rgba(60, 64, 67, 0.3), 0px 1px 3px 1px rgba(60, 64, 67, 0.15);\n",
              "      fill: #174EA6;\n",
              "    }\n",
              "\n",
              "    [theme=dark] .colab-df-convert {\n",
              "      background-color: #3B4455;\n",
              "      fill: #D2E3FC;\n",
              "    }\n",
              "\n",
              "    [theme=dark] .colab-df-convert:hover {\n",
              "      background-color: #434B5C;\n",
              "      box-shadow: 0px 1px 3px 1px rgba(0, 0, 0, 0.15);\n",
              "      filter: drop-shadow(0px 1px 2px rgba(0, 0, 0, 0.3));\n",
              "      fill: #FFFFFF;\n",
              "    }\n",
              "  </style>\n",
              "\n",
              "      <script>\n",
              "        const buttonEl =\n",
              "          document.querySelector('#df-d7756786-fc48-47b4-8cce-084efaa7850b button.colab-df-convert');\n",
              "        buttonEl.style.display =\n",
              "          google.colab.kernel.accessAllowed ? 'block' : 'none';\n",
              "\n",
              "        async function convertToInteractive(key) {\n",
              "          const element = document.querySelector('#df-d7756786-fc48-47b4-8cce-084efaa7850b');\n",
              "          const dataTable =\n",
              "            await google.colab.kernel.invokeFunction('convertToInteractive',\n",
              "                                                     [key], {});\n",
              "          if (!dataTable) return;\n",
              "\n",
              "          const docLinkHtml = 'Like what you see? Visit the ' +\n",
              "            '<a target=\"_blank\" href=https://colab.research.google.com/notebooks/data_table.ipynb>data table notebook</a>'\n",
              "            + ' to learn more about interactive tables.';\n",
              "          element.innerHTML = '';\n",
              "          dataTable['output_type'] = 'display_data';\n",
              "          await google.colab.output.renderOutput(dataTable, element);\n",
              "          const docLink = document.createElement('div');\n",
              "          docLink.innerHTML = docLinkHtml;\n",
              "          element.appendChild(docLink);\n",
              "        }\n",
              "      </script>\n",
              "    </div>\n",
              "  </div>\n",
              "  "
            ]
          },
          "metadata": {},
          "execution_count": 16
        }
      ],
      "source": [
        "calls #проверяем"
      ]
    },
    {
      "cell_type": "markdown",
      "metadata": {
        "id": "h2gvIVmE6uIA"
      },
      "source": [
        "Количество сделанных звонков разговоров по месяцам:"
      ]
    },
    {
      "cell_type": "code",
      "execution_count": 17,
      "metadata": {
        "colab": {
          "base_uri": "https://localhost:8080/",
          "height": 450
        },
        "id": "eDyVwzRv6uIA",
        "outputId": "061713b0-a1d4-4cc8-8459-8d46be2627af"
      },
      "outputs": [
        {
          "output_type": "execute_result",
          "data": {
            "text/plain": [
              "               duration\n",
              "month user_id          \n",
              "1     1005           11\n",
              "      1032           44\n",
              "      1045            1\n",
              "      1055           47\n",
              "      1071           18\n",
              "...                 ...\n",
              "12    1494           54\n",
              "      1495          120\n",
              "      1496           65\n",
              "      1497           58\n",
              "      1499           56\n",
              "\n",
              "[3168 rows x 1 columns]"
            ],
            "text/html": [
              "\n",
              "  <div id=\"df-7d054e12-5668-4630-9765-6547b10660f4\">\n",
              "    <div class=\"colab-df-container\">\n",
              "      <div>\n",
              "<style scoped>\n",
              "    .dataframe tbody tr th:only-of-type {\n",
              "        vertical-align: middle;\n",
              "    }\n",
              "\n",
              "    .dataframe tbody tr th {\n",
              "        vertical-align: top;\n",
              "    }\n",
              "\n",
              "    .dataframe thead th {\n",
              "        text-align: right;\n",
              "    }\n",
              "</style>\n",
              "<table border=\"1\" class=\"dataframe\">\n",
              "  <thead>\n",
              "    <tr style=\"text-align: right;\">\n",
              "      <th></th>\n",
              "      <th></th>\n",
              "      <th>duration</th>\n",
              "    </tr>\n",
              "    <tr>\n",
              "      <th>month</th>\n",
              "      <th>user_id</th>\n",
              "      <th></th>\n",
              "    </tr>\n",
              "  </thead>\n",
              "  <tbody>\n",
              "    <tr>\n",
              "      <th rowspan=\"5\" valign=\"top\">1</th>\n",
              "      <th>1005</th>\n",
              "      <td>11</td>\n",
              "    </tr>\n",
              "    <tr>\n",
              "      <th>1032</th>\n",
              "      <td>44</td>\n",
              "    </tr>\n",
              "    <tr>\n",
              "      <th>1045</th>\n",
              "      <td>1</td>\n",
              "    </tr>\n",
              "    <tr>\n",
              "      <th>1055</th>\n",
              "      <td>47</td>\n",
              "    </tr>\n",
              "    <tr>\n",
              "      <th>1071</th>\n",
              "      <td>18</td>\n",
              "    </tr>\n",
              "    <tr>\n",
              "      <th>...</th>\n",
              "      <th>...</th>\n",
              "      <td>...</td>\n",
              "    </tr>\n",
              "    <tr>\n",
              "      <th rowspan=\"5\" valign=\"top\">12</th>\n",
              "      <th>1494</th>\n",
              "      <td>54</td>\n",
              "    </tr>\n",
              "    <tr>\n",
              "      <th>1495</th>\n",
              "      <td>120</td>\n",
              "    </tr>\n",
              "    <tr>\n",
              "      <th>1496</th>\n",
              "      <td>65</td>\n",
              "    </tr>\n",
              "    <tr>\n",
              "      <th>1497</th>\n",
              "      <td>58</td>\n",
              "    </tr>\n",
              "    <tr>\n",
              "      <th>1499</th>\n",
              "      <td>56</td>\n",
              "    </tr>\n",
              "  </tbody>\n",
              "</table>\n",
              "<p>3168 rows × 1 columns</p>\n",
              "</div>\n",
              "      <button class=\"colab-df-convert\" onclick=\"convertToInteractive('df-7d054e12-5668-4630-9765-6547b10660f4')\"\n",
              "              title=\"Convert this dataframe to an interactive table.\"\n",
              "              style=\"display:none;\">\n",
              "        \n",
              "  <svg xmlns=\"http://www.w3.org/2000/svg\" height=\"24px\"viewBox=\"0 0 24 24\"\n",
              "       width=\"24px\">\n",
              "    <path d=\"M0 0h24v24H0V0z\" fill=\"none\"/>\n",
              "    <path d=\"M18.56 5.44l.94 2.06.94-2.06 2.06-.94-2.06-.94-.94-2.06-.94 2.06-2.06.94zm-11 1L8.5 8.5l.94-2.06 2.06-.94-2.06-.94L8.5 2.5l-.94 2.06-2.06.94zm10 10l.94 2.06.94-2.06 2.06-.94-2.06-.94-.94-2.06-.94 2.06-2.06.94z\"/><path d=\"M17.41 7.96l-1.37-1.37c-.4-.4-.92-.59-1.43-.59-.52 0-1.04.2-1.43.59L10.3 9.45l-7.72 7.72c-.78.78-.78 2.05 0 2.83L4 21.41c.39.39.9.59 1.41.59.51 0 1.02-.2 1.41-.59l7.78-7.78 2.81-2.81c.8-.78.8-2.07 0-2.86zM5.41 20L4 18.59l7.72-7.72 1.47 1.35L5.41 20z\"/>\n",
              "  </svg>\n",
              "      </button>\n",
              "      \n",
              "  <style>\n",
              "    .colab-df-container {\n",
              "      display:flex;\n",
              "      flex-wrap:wrap;\n",
              "      gap: 12px;\n",
              "    }\n",
              "\n",
              "    .colab-df-convert {\n",
              "      background-color: #E8F0FE;\n",
              "      border: none;\n",
              "      border-radius: 50%;\n",
              "      cursor: pointer;\n",
              "      display: none;\n",
              "      fill: #1967D2;\n",
              "      height: 32px;\n",
              "      padding: 0 0 0 0;\n",
              "      width: 32px;\n",
              "    }\n",
              "\n",
              "    .colab-df-convert:hover {\n",
              "      background-color: #E2EBFA;\n",
              "      box-shadow: 0px 1px 2px rgba(60, 64, 67, 0.3), 0px 1px 3px 1px rgba(60, 64, 67, 0.15);\n",
              "      fill: #174EA6;\n",
              "    }\n",
              "\n",
              "    [theme=dark] .colab-df-convert {\n",
              "      background-color: #3B4455;\n",
              "      fill: #D2E3FC;\n",
              "    }\n",
              "\n",
              "    [theme=dark] .colab-df-convert:hover {\n",
              "      background-color: #434B5C;\n",
              "      box-shadow: 0px 1px 3px 1px rgba(0, 0, 0, 0.15);\n",
              "      filter: drop-shadow(0px 1px 2px rgba(0, 0, 0, 0.3));\n",
              "      fill: #FFFFFF;\n",
              "    }\n",
              "  </style>\n",
              "\n",
              "      <script>\n",
              "        const buttonEl =\n",
              "          document.querySelector('#df-7d054e12-5668-4630-9765-6547b10660f4 button.colab-df-convert');\n",
              "        buttonEl.style.display =\n",
              "          google.colab.kernel.accessAllowed ? 'block' : 'none';\n",
              "\n",
              "        async function convertToInteractive(key) {\n",
              "          const element = document.querySelector('#df-7d054e12-5668-4630-9765-6547b10660f4');\n",
              "          const dataTable =\n",
              "            await google.colab.kernel.invokeFunction('convertToInteractive',\n",
              "                                                     [key], {});\n",
              "          if (!dataTable) return;\n",
              "\n",
              "          const docLinkHtml = 'Like what you see? Visit the ' +\n",
              "            '<a target=\"_blank\" href=https://colab.research.google.com/notebooks/data_table.ipynb>data table notebook</a>'\n",
              "            + ' to learn more about interactive tables.';\n",
              "          element.innerHTML = '';\n",
              "          dataTable['output_type'] = 'display_data';\n",
              "          await google.colab.output.renderOutput(dataTable, element);\n",
              "          const docLink = document.createElement('div');\n",
              "          docLink.innerHTML = docLinkHtml;\n",
              "          element.appendChild(docLink);\n",
              "        }\n",
              "      </script>\n",
              "    </div>\n",
              "  </div>\n",
              "  "
            ]
          },
          "metadata": {},
          "execution_count": 17
        }
      ],
      "source": [
        "count_calls_month = calls.pivot_table(index=['month','user_id'], values = \"duration\", aggfunc = \"count\") \n",
        "#создаем сводную таблицу по идентификатору пользователя, со столбцами месяца звонка, и находим количество значений по продолжительности\n",
        "count_calls_month"
      ]
    },
    {
      "cell_type": "markdown",
      "metadata": {
        "id": "3RAErfni6uIA"
      },
      "source": [
        "Количество израсходованных минут разговора по месяцам:"
      ]
    },
    {
      "cell_type": "code",
      "execution_count": 18,
      "metadata": {
        "colab": {
          "base_uri": "https://localhost:8080/",
          "height": 450
        },
        "id": "cXtPEjhA6uIB",
        "outputId": "5d1061a3-adc2-4145-c890-b67644b26674"
      },
      "outputs": [
        {
          "output_type": "execute_result",
          "data": {
            "text/plain": [
              "               duration\n",
              "month user_id          \n",
              "1     1005           95\n",
              "      1032          380\n",
              "      1045            9\n",
              "      1055          551\n",
              "      1071          194\n",
              "...                 ...\n",
              "12    1494          418\n",
              "      1495         1031\n",
              "      1496          518\n",
              "      1497          545\n",
              "      1499          492\n",
              "\n",
              "[3168 rows x 1 columns]"
            ],
            "text/html": [
              "\n",
              "  <div id=\"df-40893e0a-143b-4e69-926c-844891dd74b5\">\n",
              "    <div class=\"colab-df-container\">\n",
              "      <div>\n",
              "<style scoped>\n",
              "    .dataframe tbody tr th:only-of-type {\n",
              "        vertical-align: middle;\n",
              "    }\n",
              "\n",
              "    .dataframe tbody tr th {\n",
              "        vertical-align: top;\n",
              "    }\n",
              "\n",
              "    .dataframe thead th {\n",
              "        text-align: right;\n",
              "    }\n",
              "</style>\n",
              "<table border=\"1\" class=\"dataframe\">\n",
              "  <thead>\n",
              "    <tr style=\"text-align: right;\">\n",
              "      <th></th>\n",
              "      <th></th>\n",
              "      <th>duration</th>\n",
              "    </tr>\n",
              "    <tr>\n",
              "      <th>month</th>\n",
              "      <th>user_id</th>\n",
              "      <th></th>\n",
              "    </tr>\n",
              "  </thead>\n",
              "  <tbody>\n",
              "    <tr>\n",
              "      <th rowspan=\"5\" valign=\"top\">1</th>\n",
              "      <th>1005</th>\n",
              "      <td>95</td>\n",
              "    </tr>\n",
              "    <tr>\n",
              "      <th>1032</th>\n",
              "      <td>380</td>\n",
              "    </tr>\n",
              "    <tr>\n",
              "      <th>1045</th>\n",
              "      <td>9</td>\n",
              "    </tr>\n",
              "    <tr>\n",
              "      <th>1055</th>\n",
              "      <td>551</td>\n",
              "    </tr>\n",
              "    <tr>\n",
              "      <th>1071</th>\n",
              "      <td>194</td>\n",
              "    </tr>\n",
              "    <tr>\n",
              "      <th>...</th>\n",
              "      <th>...</th>\n",
              "      <td>...</td>\n",
              "    </tr>\n",
              "    <tr>\n",
              "      <th rowspan=\"5\" valign=\"top\">12</th>\n",
              "      <th>1494</th>\n",
              "      <td>418</td>\n",
              "    </tr>\n",
              "    <tr>\n",
              "      <th>1495</th>\n",
              "      <td>1031</td>\n",
              "    </tr>\n",
              "    <tr>\n",
              "      <th>1496</th>\n",
              "      <td>518</td>\n",
              "    </tr>\n",
              "    <tr>\n",
              "      <th>1497</th>\n",
              "      <td>545</td>\n",
              "    </tr>\n",
              "    <tr>\n",
              "      <th>1499</th>\n",
              "      <td>492</td>\n",
              "    </tr>\n",
              "  </tbody>\n",
              "</table>\n",
              "<p>3168 rows × 1 columns</p>\n",
              "</div>\n",
              "      <button class=\"colab-df-convert\" onclick=\"convertToInteractive('df-40893e0a-143b-4e69-926c-844891dd74b5')\"\n",
              "              title=\"Convert this dataframe to an interactive table.\"\n",
              "              style=\"display:none;\">\n",
              "        \n",
              "  <svg xmlns=\"http://www.w3.org/2000/svg\" height=\"24px\"viewBox=\"0 0 24 24\"\n",
              "       width=\"24px\">\n",
              "    <path d=\"M0 0h24v24H0V0z\" fill=\"none\"/>\n",
              "    <path d=\"M18.56 5.44l.94 2.06.94-2.06 2.06-.94-2.06-.94-.94-2.06-.94 2.06-2.06.94zm-11 1L8.5 8.5l.94-2.06 2.06-.94-2.06-.94L8.5 2.5l-.94 2.06-2.06.94zm10 10l.94 2.06.94-2.06 2.06-.94-2.06-.94-.94-2.06-.94 2.06-2.06.94z\"/><path d=\"M17.41 7.96l-1.37-1.37c-.4-.4-.92-.59-1.43-.59-.52 0-1.04.2-1.43.59L10.3 9.45l-7.72 7.72c-.78.78-.78 2.05 0 2.83L4 21.41c.39.39.9.59 1.41.59.51 0 1.02-.2 1.41-.59l7.78-7.78 2.81-2.81c.8-.78.8-2.07 0-2.86zM5.41 20L4 18.59l7.72-7.72 1.47 1.35L5.41 20z\"/>\n",
              "  </svg>\n",
              "      </button>\n",
              "      \n",
              "  <style>\n",
              "    .colab-df-container {\n",
              "      display:flex;\n",
              "      flex-wrap:wrap;\n",
              "      gap: 12px;\n",
              "    }\n",
              "\n",
              "    .colab-df-convert {\n",
              "      background-color: #E8F0FE;\n",
              "      border: none;\n",
              "      border-radius: 50%;\n",
              "      cursor: pointer;\n",
              "      display: none;\n",
              "      fill: #1967D2;\n",
              "      height: 32px;\n",
              "      padding: 0 0 0 0;\n",
              "      width: 32px;\n",
              "    }\n",
              "\n",
              "    .colab-df-convert:hover {\n",
              "      background-color: #E2EBFA;\n",
              "      box-shadow: 0px 1px 2px rgba(60, 64, 67, 0.3), 0px 1px 3px 1px rgba(60, 64, 67, 0.15);\n",
              "      fill: #174EA6;\n",
              "    }\n",
              "\n",
              "    [theme=dark] .colab-df-convert {\n",
              "      background-color: #3B4455;\n",
              "      fill: #D2E3FC;\n",
              "    }\n",
              "\n",
              "    [theme=dark] .colab-df-convert:hover {\n",
              "      background-color: #434B5C;\n",
              "      box-shadow: 0px 1px 3px 1px rgba(0, 0, 0, 0.15);\n",
              "      filter: drop-shadow(0px 1px 2px rgba(0, 0, 0, 0.3));\n",
              "      fill: #FFFFFF;\n",
              "    }\n",
              "  </style>\n",
              "\n",
              "      <script>\n",
              "        const buttonEl =\n",
              "          document.querySelector('#df-40893e0a-143b-4e69-926c-844891dd74b5 button.colab-df-convert');\n",
              "        buttonEl.style.display =\n",
              "          google.colab.kernel.accessAllowed ? 'block' : 'none';\n",
              "\n",
              "        async function convertToInteractive(key) {\n",
              "          const element = document.querySelector('#df-40893e0a-143b-4e69-926c-844891dd74b5');\n",
              "          const dataTable =\n",
              "            await google.colab.kernel.invokeFunction('convertToInteractive',\n",
              "                                                     [key], {});\n",
              "          if (!dataTable) return;\n",
              "\n",
              "          const docLinkHtml = 'Like what you see? Visit the ' +\n",
              "            '<a target=\"_blank\" href=https://colab.research.google.com/notebooks/data_table.ipynb>data table notebook</a>'\n",
              "            + ' to learn more about interactive tables.';\n",
              "          element.innerHTML = '';\n",
              "          dataTable['output_type'] = 'display_data';\n",
              "          await google.colab.output.renderOutput(dataTable, element);\n",
              "          const docLink = document.createElement('div');\n",
              "          docLink.innerHTML = docLinkHtml;\n",
              "          element.appendChild(docLink);\n",
              "        }\n",
              "      </script>\n",
              "    </div>\n",
              "  </div>\n",
              "  "
            ]
          },
          "metadata": {},
          "execution_count": 18
        }
      ],
      "source": [
        "sum_сalls_duration_month = calls.pivot_table(index=['month','user_id'], values = \"duration\", aggfunc = \"sum\") \n",
        "#создаем сводную таблицу по идентификатору пользователя, со столбцами месяца звонка, и находим сумму по продолжительности\n",
        "sum_сalls_duration_month"
      ]
    },
    {
      "cell_type": "markdown",
      "metadata": {
        "id": "pXVRchqw6uIB"
      },
      "source": [
        "### Таблица интернета"
      ]
    },
    {
      "cell_type": "code",
      "execution_count": 19,
      "metadata": {
        "colab": {
          "base_uri": "https://localhost:8080/",
          "height": 623
        },
        "id": "4yU_6evj6uIB",
        "outputId": "6fc3ceda-dc2b-4bfd-aacd-f29cedc338f0"
      },
      "outputs": [
        {
          "output_type": "stream",
          "name": "stdout",
          "text": [
            "<class 'pandas.core.frame.DataFrame'>\n",
            "RangeIndex: 149396 entries, 0 to 149395\n",
            "Data columns (total 5 columns):\n",
            " #   Column        Non-Null Count   Dtype  \n",
            "---  ------        --------------   -----  \n",
            " 0   Unnamed: 0    149396 non-null  int64  \n",
            " 1   id            149396 non-null  object \n",
            " 2   mb_used       149396 non-null  float64\n",
            " 3   session_date  149396 non-null  object \n",
            " 4   user_id       149396 non-null  int64  \n",
            "dtypes: float64(1), int64(2), object(2)\n",
            "memory usage: 5.7+ MB\n"
          ]
        },
        {
          "output_type": "execute_result",
          "data": {
            "text/plain": [
              "        Unnamed: 0        id  mb_used session_date  user_id\n",
              "0                0    1000_0   112.95   2018-11-25     1000\n",
              "1                1    1000_1 1,052.81   2018-09-07     1000\n",
              "2                2    1000_2 1,197.26   2018-06-25     1000\n",
              "3                3    1000_3   550.27   2018-08-22     1000\n",
              "4                4    1000_4   302.56   2018-09-24     1000\n",
              "...            ...       ...      ...          ...      ...\n",
              "149391      149391  1499_152   318.90   2018-10-03     1499\n",
              "149392      149392  1499_153   490.13   2018-12-14     1499\n",
              "149393      149393  1499_154     0.00   2018-10-27     1499\n",
              "149394      149394  1499_155 1,246.32   2018-11-26     1499\n",
              "149395      149395  1499_156   544.37   2018-10-26     1499\n",
              "\n",
              "[149396 rows x 5 columns]"
            ],
            "text/html": [
              "\n",
              "  <div id=\"df-30e52794-b13a-40f3-99a8-5a6d76997b7e\">\n",
              "    <div class=\"colab-df-container\">\n",
              "      <div>\n",
              "<style scoped>\n",
              "    .dataframe tbody tr th:only-of-type {\n",
              "        vertical-align: middle;\n",
              "    }\n",
              "\n",
              "    .dataframe tbody tr th {\n",
              "        vertical-align: top;\n",
              "    }\n",
              "\n",
              "    .dataframe thead th {\n",
              "        text-align: right;\n",
              "    }\n",
              "</style>\n",
              "<table border=\"1\" class=\"dataframe\">\n",
              "  <thead>\n",
              "    <tr style=\"text-align: right;\">\n",
              "      <th></th>\n",
              "      <th>Unnamed: 0</th>\n",
              "      <th>id</th>\n",
              "      <th>mb_used</th>\n",
              "      <th>session_date</th>\n",
              "      <th>user_id</th>\n",
              "    </tr>\n",
              "  </thead>\n",
              "  <tbody>\n",
              "    <tr>\n",
              "      <th>0</th>\n",
              "      <td>0</td>\n",
              "      <td>1000_0</td>\n",
              "      <td>112.95</td>\n",
              "      <td>2018-11-25</td>\n",
              "      <td>1000</td>\n",
              "    </tr>\n",
              "    <tr>\n",
              "      <th>1</th>\n",
              "      <td>1</td>\n",
              "      <td>1000_1</td>\n",
              "      <td>1,052.81</td>\n",
              "      <td>2018-09-07</td>\n",
              "      <td>1000</td>\n",
              "    </tr>\n",
              "    <tr>\n",
              "      <th>2</th>\n",
              "      <td>2</td>\n",
              "      <td>1000_2</td>\n",
              "      <td>1,197.26</td>\n",
              "      <td>2018-06-25</td>\n",
              "      <td>1000</td>\n",
              "    </tr>\n",
              "    <tr>\n",
              "      <th>3</th>\n",
              "      <td>3</td>\n",
              "      <td>1000_3</td>\n",
              "      <td>550.27</td>\n",
              "      <td>2018-08-22</td>\n",
              "      <td>1000</td>\n",
              "    </tr>\n",
              "    <tr>\n",
              "      <th>4</th>\n",
              "      <td>4</td>\n",
              "      <td>1000_4</td>\n",
              "      <td>302.56</td>\n",
              "      <td>2018-09-24</td>\n",
              "      <td>1000</td>\n",
              "    </tr>\n",
              "    <tr>\n",
              "      <th>...</th>\n",
              "      <td>...</td>\n",
              "      <td>...</td>\n",
              "      <td>...</td>\n",
              "      <td>...</td>\n",
              "      <td>...</td>\n",
              "    </tr>\n",
              "    <tr>\n",
              "      <th>149391</th>\n",
              "      <td>149391</td>\n",
              "      <td>1499_152</td>\n",
              "      <td>318.90</td>\n",
              "      <td>2018-10-03</td>\n",
              "      <td>1499</td>\n",
              "    </tr>\n",
              "    <tr>\n",
              "      <th>149392</th>\n",
              "      <td>149392</td>\n",
              "      <td>1499_153</td>\n",
              "      <td>490.13</td>\n",
              "      <td>2018-12-14</td>\n",
              "      <td>1499</td>\n",
              "    </tr>\n",
              "    <tr>\n",
              "      <th>149393</th>\n",
              "      <td>149393</td>\n",
              "      <td>1499_154</td>\n",
              "      <td>0.00</td>\n",
              "      <td>2018-10-27</td>\n",
              "      <td>1499</td>\n",
              "    </tr>\n",
              "    <tr>\n",
              "      <th>149394</th>\n",
              "      <td>149394</td>\n",
              "      <td>1499_155</td>\n",
              "      <td>1,246.32</td>\n",
              "      <td>2018-11-26</td>\n",
              "      <td>1499</td>\n",
              "    </tr>\n",
              "    <tr>\n",
              "      <th>149395</th>\n",
              "      <td>149395</td>\n",
              "      <td>1499_156</td>\n",
              "      <td>544.37</td>\n",
              "      <td>2018-10-26</td>\n",
              "      <td>1499</td>\n",
              "    </tr>\n",
              "  </tbody>\n",
              "</table>\n",
              "<p>149396 rows × 5 columns</p>\n",
              "</div>\n",
              "      <button class=\"colab-df-convert\" onclick=\"convertToInteractive('df-30e52794-b13a-40f3-99a8-5a6d76997b7e')\"\n",
              "              title=\"Convert this dataframe to an interactive table.\"\n",
              "              style=\"display:none;\">\n",
              "        \n",
              "  <svg xmlns=\"http://www.w3.org/2000/svg\" height=\"24px\"viewBox=\"0 0 24 24\"\n",
              "       width=\"24px\">\n",
              "    <path d=\"M0 0h24v24H0V0z\" fill=\"none\"/>\n",
              "    <path d=\"M18.56 5.44l.94 2.06.94-2.06 2.06-.94-2.06-.94-.94-2.06-.94 2.06-2.06.94zm-11 1L8.5 8.5l.94-2.06 2.06-.94-2.06-.94L8.5 2.5l-.94 2.06-2.06.94zm10 10l.94 2.06.94-2.06 2.06-.94-2.06-.94-.94-2.06-.94 2.06-2.06.94z\"/><path d=\"M17.41 7.96l-1.37-1.37c-.4-.4-.92-.59-1.43-.59-.52 0-1.04.2-1.43.59L10.3 9.45l-7.72 7.72c-.78.78-.78 2.05 0 2.83L4 21.41c.39.39.9.59 1.41.59.51 0 1.02-.2 1.41-.59l7.78-7.78 2.81-2.81c.8-.78.8-2.07 0-2.86zM5.41 20L4 18.59l7.72-7.72 1.47 1.35L5.41 20z\"/>\n",
              "  </svg>\n",
              "      </button>\n",
              "      \n",
              "  <style>\n",
              "    .colab-df-container {\n",
              "      display:flex;\n",
              "      flex-wrap:wrap;\n",
              "      gap: 12px;\n",
              "    }\n",
              "\n",
              "    .colab-df-convert {\n",
              "      background-color: #E8F0FE;\n",
              "      border: none;\n",
              "      border-radius: 50%;\n",
              "      cursor: pointer;\n",
              "      display: none;\n",
              "      fill: #1967D2;\n",
              "      height: 32px;\n",
              "      padding: 0 0 0 0;\n",
              "      width: 32px;\n",
              "    }\n",
              "\n",
              "    .colab-df-convert:hover {\n",
              "      background-color: #E2EBFA;\n",
              "      box-shadow: 0px 1px 2px rgba(60, 64, 67, 0.3), 0px 1px 3px 1px rgba(60, 64, 67, 0.15);\n",
              "      fill: #174EA6;\n",
              "    }\n",
              "\n",
              "    [theme=dark] .colab-df-convert {\n",
              "      background-color: #3B4455;\n",
              "      fill: #D2E3FC;\n",
              "    }\n",
              "\n",
              "    [theme=dark] .colab-df-convert:hover {\n",
              "      background-color: #434B5C;\n",
              "      box-shadow: 0px 1px 3px 1px rgba(0, 0, 0, 0.15);\n",
              "      filter: drop-shadow(0px 1px 2px rgba(0, 0, 0, 0.3));\n",
              "      fill: #FFFFFF;\n",
              "    }\n",
              "  </style>\n",
              "\n",
              "      <script>\n",
              "        const buttonEl =\n",
              "          document.querySelector('#df-30e52794-b13a-40f3-99a8-5a6d76997b7e button.colab-df-convert');\n",
              "        buttonEl.style.display =\n",
              "          google.colab.kernel.accessAllowed ? 'block' : 'none';\n",
              "\n",
              "        async function convertToInteractive(key) {\n",
              "          const element = document.querySelector('#df-30e52794-b13a-40f3-99a8-5a6d76997b7e');\n",
              "          const dataTable =\n",
              "            await google.colab.kernel.invokeFunction('convertToInteractive',\n",
              "                                                     [key], {});\n",
              "          if (!dataTable) return;\n",
              "\n",
              "          const docLinkHtml = 'Like what you see? Visit the ' +\n",
              "            '<a target=\"_blank\" href=https://colab.research.google.com/notebooks/data_table.ipynb>data table notebook</a>'\n",
              "            + ' to learn more about interactive tables.';\n",
              "          element.innerHTML = '';\n",
              "          dataTable['output_type'] = 'display_data';\n",
              "          await google.colab.output.renderOutput(dataTable, element);\n",
              "          const docLink = document.createElement('div');\n",
              "          docLink.innerHTML = docLinkHtml;\n",
              "          element.appendChild(docLink);\n",
              "        }\n",
              "      </script>\n",
              "    </div>\n",
              "  </div>\n",
              "  "
            ]
          },
          "metadata": {},
          "execution_count": 19
        }
      ],
      "source": [
        "internet.info() #информация о интернете\n",
        "internet #вывод таблицы"
      ]
    },
    {
      "cell_type": "code",
      "execution_count": 20,
      "metadata": {
        "colab": {
          "base_uri": "https://localhost:8080/"
        },
        "id": "A5Fv76TF6uIC",
        "outputId": "959659f7-d49c-4a14-ce39-1de5f865d206"
      },
      "outputs": [
        {
          "output_type": "execute_result",
          "data": {
            "text/plain": [
              "0"
            ]
          },
          "metadata": {},
          "execution_count": 20
        }
      ],
      "source": [
        "internet.duplicated().sum()#дубликаты отсутствуют"
      ]
    },
    {
      "cell_type": "code",
      "execution_count": 21,
      "metadata": {
        "id": "BJ4g8P--6uIC"
      },
      "outputs": [],
      "source": [
        "internet[\"mb_used\"] = internet[\"mb_used\"].apply(round_up).astype(int) #округляем вверх и приводим к int\n",
        "internet[\"session_date\"] = pd.to_datetime(internet[\"session_date\"], format = \"%Y-%m-%d\") #приводим к формату datetime\n"
      ]
    },
    {
      "cell_type": "code",
      "execution_count": 22,
      "metadata": {
        "colab": {
          "base_uri": "https://localhost:8080/"
        },
        "id": "pKM8Pfr46uIC",
        "outputId": "71cd64c9-cdf5-4853-d649-6495b22701cb"
      },
      "outputs": [
        {
          "output_type": "execute_result",
          "data": {
            "text/plain": [
              "Index(['id', 'mb_used', 'session_date', 'user_id'], dtype='object')"
            ]
          },
          "metadata": {},
          "execution_count": 22
        }
      ],
      "source": [
        "internet = internet.drop(columns = [\"Unnamed: 0\"], axis = 1) #удаляем столбец дублирующий индексы\n",
        "internet.columns #проверяем, вызвав метод возвращающий массив названий столбцов"
      ]
    },
    {
      "cell_type": "code",
      "execution_count": 23,
      "metadata": {
        "colab": {
          "base_uri": "https://localhost:8080/"
        },
        "id": "ctE_5iXC6uIC",
        "outputId": "1a7afa05-c093-4bcf-eeca-02c6d54bf10a"
      },
      "outputs": [
        {
          "output_type": "stream",
          "name": "stdout",
          "text": [
            "<class 'pandas.core.frame.DataFrame'>\n",
            "RangeIndex: 149396 entries, 0 to 149395\n",
            "Data columns (total 4 columns):\n",
            " #   Column        Non-Null Count   Dtype         \n",
            "---  ------        --------------   -----         \n",
            " 0   id            149396 non-null  object        \n",
            " 1   mb_used       149396 non-null  int64         \n",
            " 2   session_date  149396 non-null  datetime64[ns]\n",
            " 3   user_id       149396 non-null  int64         \n",
            "dtypes: datetime64[ns](1), int64(2), object(1)\n",
            "memory usage: 4.6+ MB\n"
          ]
        }
      ],
      "source": [
        "internet.info() "
      ]
    },
    {
      "cell_type": "code",
      "execution_count": 24,
      "metadata": {
        "id": "brCRFZvt6uID"
      },
      "outputs": [],
      "source": [
        "internet[\"month\"] = internet[\"session_date\"].dt.month #вводим столбец месяца сессии интернет трафика"
      ]
    },
    {
      "cell_type": "code",
      "execution_count": 25,
      "metadata": {
        "colab": {
          "base_uri": "https://localhost:8080/",
          "height": 681
        },
        "id": "5IifBoYi6uID",
        "outputId": "21fcbe5b-1b45-49d6-ff52-c3124c7f02be"
      },
      "outputs": [
        {
          "output_type": "display_data",
          "data": {
            "text/plain": [
              "<Figure size 432x288 with 1 Axes>"
            ],
            "image/png": "[encoded data removed]"
          },
          "metadata": {
            "needs_background": "light"
          }
        },
        {
          "output_type": "execute_result",
          "data": {
            "text/plain": [
              "count   149,396.00\n",
              "mean        370.62\n",
              "std         278.39\n",
              "min           0.00\n",
              "25%         139.00\n",
              "50%         349.00\n",
              "75%         560.00\n",
              "max       1,725.00\n",
              "Name: mb_used, dtype: float64"
            ]
          },
          "metadata": {},
          "execution_count": 25
        },
        {
          "output_type": "display_data",
          "data": {
            "text/plain": [
              "<Figure size 432x288 with 1 Axes>"
            ],
            "image/png": "[encoded data removed]"
          },
          "metadata": {
            "needs_background": "light"
          }
        }
      ],
      "source": [
        "internet.boxplot(\"mb_used\") #ящик с усами\n",
        "plt.show()\n",
        "internet.plot(y=\"user_id\", x=\"mb_used\", kind = \"hist\", bins = 100, label = \"потребление трафика\")\n",
        "plt.xlabel(\"количество трафика в мб\")\n",
        "plt.ylabel(\"id\")\n",
        "internet[\"mb_used\"].describe() #числовое описание"
      ]
    },
    {
      "cell_type": "code",
      "execution_count": 26,
      "metadata": {
        "colab": {
          "base_uri": "https://localhost:8080/",
          "height": 450
        },
        "id": "ecX98dsI6uIE",
        "outputId": "5e3c7f18-9030-488f-a7cd-0ab6c4b57d82"
      },
      "outputs": [
        {
          "output_type": "execute_result",
          "data": {
            "text/plain": [
              "               mb_used\n",
              "month user_id         \n",
              "1     1005        2730\n",
              "      1032       24147\n",
              "      1045        2348\n",
              "      1055       17111\n",
              "      1071       15622\n",
              "...                ...\n",
              "12    1494       17645\n",
              "      1495       23450\n",
              "      1496       20757\n",
              "      1497       19940\n",
              "      1499       13077\n",
              "\n",
              "[3203 rows x 1 columns]"
            ],
            "text/html": [
              "\n",
              "  <div id=\"df-bf5ae0b9-73f5-4067-b133-cde6b4f9ccaa\">\n",
              "    <div class=\"colab-df-container\">\n",
              "      <div>\n",
              "<style scoped>\n",
              "    .dataframe tbody tr th:only-of-type {\n",
              "        vertical-align: middle;\n",
              "    }\n",
              "\n",
              "    .dataframe tbody tr th {\n",
              "        vertical-align: top;\n",
              "    }\n",
              "\n",
              "    .dataframe thead th {\n",
              "        text-align: right;\n",
              "    }\n",
              "</style>\n",
              "<table border=\"1\" class=\"dataframe\">\n",
              "  <thead>\n",
              "    <tr style=\"text-align: right;\">\n",
              "      <th></th>\n",
              "      <th></th>\n",
              "      <th>mb_used</th>\n",
              "    </tr>\n",
              "    <tr>\n",
              "      <th>month</th>\n",
              "      <th>user_id</th>\n",
              "      <th></th>\n",
              "    </tr>\n",
              "  </thead>\n",
              "  <tbody>\n",
              "    <tr>\n",
              "      <th rowspan=\"5\" valign=\"top\">1</th>\n",
              "      <th>1005</th>\n",
              "      <td>2730</td>\n",
              "    </tr>\n",
              "    <tr>\n",
              "      <th>1032</th>\n",
              "      <td>24147</td>\n",
              "    </tr>\n",
              "    <tr>\n",
              "      <th>1045</th>\n",
              "      <td>2348</td>\n",
              "    </tr>\n",
              "    <tr>\n",
              "      <th>1055</th>\n",
              "      <td>17111</td>\n",
              "    </tr>\n",
              "    <tr>\n",
              "      <th>1071</th>\n",
              "      <td>15622</td>\n",
              "    </tr>\n",
              "    <tr>\n",
              "      <th>...</th>\n",
              "      <th>...</th>\n",
              "      <td>...</td>\n",
              "    </tr>\n",
              "    <tr>\n",
              "      <th rowspan=\"5\" valign=\"top\">12</th>\n",
              "      <th>1494</th>\n",
              "      <td>17645</td>\n",
              "    </tr>\n",
              "    <tr>\n",
              "      <th>1495</th>\n",
              "      <td>23450</td>\n",
              "    </tr>\n",
              "    <tr>\n",
              "      <th>1496</th>\n",
              "      <td>20757</td>\n",
              "    </tr>\n",
              "    <tr>\n",
              "      <th>1497</th>\n",
              "      <td>19940</td>\n",
              "    </tr>\n",
              "    <tr>\n",
              "      <th>1499</th>\n",
              "      <td>13077</td>\n",
              "    </tr>\n",
              "  </tbody>\n",
              "</table>\n",
              "<p>3203 rows × 1 columns</p>\n",
              "</div>\n",
              "      <button class=\"colab-df-convert\" onclick=\"convertToInteractive('df-bf5ae0b9-73f5-4067-b133-cde6b4f9ccaa')\"\n",
              "              title=\"Convert this dataframe to an interactive table.\"\n",
              "              style=\"display:none;\">\n",
              "        \n",
              "  <svg xmlns=\"http://www.w3.org/2000/svg\" height=\"24px\"viewBox=\"0 0 24 24\"\n",
              "       width=\"24px\">\n",
              "    <path d=\"M0 0h24v24H0V0z\" fill=\"none\"/>\n",
              "    <path d=\"M18.56 5.44l.94 2.06.94-2.06 2.06-.94-2.06-.94-.94-2.06-.94 2.06-2.06.94zm-11 1L8.5 8.5l.94-2.06 2.06-.94-2.06-.94L8.5 2.5l-.94 2.06-2.06.94zm10 10l.94 2.06.94-2.06 2.06-.94-2.06-.94-.94-2.06-.94 2.06-2.06.94z\"/><path d=\"M17.41 7.96l-1.37-1.37c-.4-.4-.92-.59-1.43-.59-.52 0-1.04.2-1.43.59L10.3 9.45l-7.72 7.72c-.78.78-.78 2.05 0 2.83L4 21.41c.39.39.9.59 1.41.59.51 0 1.02-.2 1.41-.59l7.78-7.78 2.81-2.81c.8-.78.8-2.07 0-2.86zM5.41 20L4 18.59l7.72-7.72 1.47 1.35L5.41 20z\"/>\n",
              "  </svg>\n",
              "      </button>\n",
              "      \n",
              "  <style>\n",
              "    .colab-df-container {\n",
              "      display:flex;\n",
              "      flex-wrap:wrap;\n",
              "      gap: 12px;\n",
              "    }\n",
              "\n",
              "    .colab-df-convert {\n",
              "      background-color: #E8F0FE;\n",
              "      border: none;\n",
              "      border-radius: 50%;\n",
              "      cursor: pointer;\n",
              "      display: none;\n",
              "      fill: #1967D2;\n",
              "      height: 32px;\n",
              "      padding: 0 0 0 0;\n",
              "      width: 32px;\n",
              "    }\n",
              "\n",
              "    .colab-df-convert:hover {\n",
              "      background-color: #E2EBFA;\n",
              "      box-shadow: 0px 1px 2px rgba(60, 64, 67, 0.3), 0px 1px 3px 1px rgba(60, 64, 67, 0.15);\n",
              "      fill: #174EA6;\n",
              "    }\n",
              "\n",
              "    [theme=dark] .colab-df-convert {\n",
              "      background-color: #3B4455;\n",
              "      fill: #D2E3FC;\n",
              "    }\n",
              "\n",
              "    [theme=dark] .colab-df-convert:hover {\n",
              "      background-color: #434B5C;\n",
              "      box-shadow: 0px 1px 3px 1px rgba(0, 0, 0, 0.15);\n",
              "      filter: drop-shadow(0px 1px 2px rgba(0, 0, 0, 0.3));\n",
              "      fill: #FFFFFF;\n",
              "    }\n",
              "  </style>\n",
              "\n",
              "      <script>\n",
              "        const buttonEl =\n",
              "          document.querySelector('#df-bf5ae0b9-73f5-4067-b133-cde6b4f9ccaa button.colab-df-convert');\n",
              "        buttonEl.style.display =\n",
              "          google.colab.kernel.accessAllowed ? 'block' : 'none';\n",
              "\n",
              "        async function convertToInteractive(key) {\n",
              "          const element = document.querySelector('#df-bf5ae0b9-73f5-4067-b133-cde6b4f9ccaa');\n",
              "          const dataTable =\n",
              "            await google.colab.kernel.invokeFunction('convertToInteractive',\n",
              "                                                     [key], {});\n",
              "          if (!dataTable) return;\n",
              "\n",
              "          const docLinkHtml = 'Like what you see? Visit the ' +\n",
              "            '<a target=\"_blank\" href=https://colab.research.google.com/notebooks/data_table.ipynb>data table notebook</a>'\n",
              "            + ' to learn more about interactive tables.';\n",
              "          element.innerHTML = '';\n",
              "          dataTable['output_type'] = 'display_data';\n",
              "          await google.colab.output.renderOutput(dataTable, element);\n",
              "          const docLink = document.createElement('div');\n",
              "          docLink.innerHTML = docLinkHtml;\n",
              "          element.appendChild(docLink);\n",
              "        }\n",
              "      </script>\n",
              "    </div>\n",
              "  </div>\n",
              "  "
            ]
          },
          "metadata": {},
          "execution_count": 26
        }
      ],
      "source": [
        "mb_used_month = internet.pivot_table(index=['month','user_id'], values = \"mb_used\", aggfunc = \"sum\")\n",
        "mb_used_month\n",
        "#таблица пользователя, потратившего трафик по месяцам"
      ]
    },
    {
      "cell_type": "markdown",
      "metadata": {
        "id": "Z3vx-fbi6uIE"
      },
      "source": [
        "### Таблица сообщений"
      ]
    },
    {
      "cell_type": "code",
      "execution_count": 27,
      "metadata": {
        "colab": {
          "base_uri": "https://localhost:8080/"
        },
        "id": "C0i8ceqf6uIF",
        "outputId": "0872aba4-28a0-4bce-99d9-9d361b0d4a5d"
      },
      "outputs": [
        {
          "output_type": "stream",
          "name": "stdout",
          "text": [
            "<class 'pandas.core.frame.DataFrame'>\n",
            "RangeIndex: 123036 entries, 0 to 123035\n",
            "Data columns (total 3 columns):\n",
            " #   Column        Non-Null Count   Dtype \n",
            "---  ------        --------------   ----- \n",
            " 0   id            123036 non-null  object\n",
            " 1   message_date  123036 non-null  object\n",
            " 2   user_id       123036 non-null  int64 \n",
            "dtypes: int64(1), object(2)\n",
            "memory usage: 2.8+ MB\n"
          ]
        }
      ],
      "source": [
        "messages.info() #информация о сообщениях"
      ]
    },
    {
      "cell_type": "code",
      "execution_count": 28,
      "metadata": {
        "id": "yJwa_dNt6uIF"
      },
      "outputs": [],
      "source": [
        "messages[\"message_date\"] = pd.to_datetime(messages[\"message_date\"], format = \"%Y-%m-%d\") #приводим к формату datetime\n",
        "messages[\"month\"] = messages[\"message_date\"].dt.month #добавляем столбец с месяцем"
      ]
    },
    {
      "cell_type": "code",
      "execution_count": 29,
      "metadata": {
        "colab": {
          "base_uri": "https://localhost:8080/",
          "height": 450
        },
        "id": "YFHRNWhS6uIF",
        "outputId": "8647e659-21f1-4ed3-d1bf-35b716c51e02"
      },
      "outputs": [
        {
          "output_type": "execute_result",
          "data": {
            "text/plain": [
              "               id\n",
              "month user_id    \n",
              "1     1005      7\n",
              "      1032     38\n",
              "      1045      5\n",
              "      1055     30\n",
              "      1071     16\n",
              "...            ..\n",
              "12    1493     78\n",
              "      1495     84\n",
              "      1496     51\n",
              "      1497     17\n",
              "      1499     66\n",
              "\n",
              "[2717 rows x 1 columns]"
            ],
            "text/html": [
              "\n",
              "  <div id=\"df-178342b3-c356-41ce-aa4b-d3d34c0c501a\">\n",
              "    <div class=\"colab-df-container\">\n",
              "      <div>\n",
              "<style scoped>\n",
              "    .dataframe tbody tr th:only-of-type {\n",
              "        vertical-align: middle;\n",
              "    }\n",
              "\n",
              "    .dataframe tbody tr th {\n",
              "        vertical-align: top;\n",
              "    }\n",
              "\n",
              "    .dataframe thead th {\n",
              "        text-align: right;\n",
              "    }\n",
              "</style>\n",
              "<table border=\"1\" class=\"dataframe\">\n",
              "  <thead>\n",
              "    <tr style=\"text-align: right;\">\n",
              "      <th></th>\n",
              "      <th></th>\n",
              "      <th>id</th>\n",
              "    </tr>\n",
              "    <tr>\n",
              "      <th>month</th>\n",
              "      <th>user_id</th>\n",
              "      <th></th>\n",
              "    </tr>\n",
              "  </thead>\n",
              "  <tbody>\n",
              "    <tr>\n",
              "      <th rowspan=\"5\" valign=\"top\">1</th>\n",
              "      <th>1005</th>\n",
              "      <td>7</td>\n",
              "    </tr>\n",
              "    <tr>\n",
              "      <th>1032</th>\n",
              "      <td>38</td>\n",
              "    </tr>\n",
              "    <tr>\n",
              "      <th>1045</th>\n",
              "      <td>5</td>\n",
              "    </tr>\n",
              "    <tr>\n",
              "      <th>1055</th>\n",
              "      <td>30</td>\n",
              "    </tr>\n",
              "    <tr>\n",
              "      <th>1071</th>\n",
              "      <td>16</td>\n",
              "    </tr>\n",
              "    <tr>\n",
              "      <th>...</th>\n",
              "      <th>...</th>\n",
              "      <td>...</td>\n",
              "    </tr>\n",
              "    <tr>\n",
              "      <th rowspan=\"5\" valign=\"top\">12</th>\n",
              "      <th>1493</th>\n",
              "      <td>78</td>\n",
              "    </tr>\n",
              "    <tr>\n",
              "      <th>1495</th>\n",
              "      <td>84</td>\n",
              "    </tr>\n",
              "    <tr>\n",
              "      <th>1496</th>\n",
              "      <td>51</td>\n",
              "    </tr>\n",
              "    <tr>\n",
              "      <th>1497</th>\n",
              "      <td>17</td>\n",
              "    </tr>\n",
              "    <tr>\n",
              "      <th>1499</th>\n",
              "      <td>66</td>\n",
              "    </tr>\n",
              "  </tbody>\n",
              "</table>\n",
              "<p>2717 rows × 1 columns</p>\n",
              "</div>\n",
              "      <button class=\"colab-df-convert\" onclick=\"convertToInteractive('df-178342b3-c356-41ce-aa4b-d3d34c0c501a')\"\n",
              "              title=\"Convert this dataframe to an interactive table.\"\n",
              "              style=\"display:none;\">\n",
              "        \n",
              "  <svg xmlns=\"http://www.w3.org/2000/svg\" height=\"24px\"viewBox=\"0 0 24 24\"\n",
              "       width=\"24px\">\n",
              "    <path d=\"M0 0h24v24H0V0z\" fill=\"none\"/>\n",
              "    <path d=\"M18.56 5.44l.94 2.06.94-2.06 2.06-.94-2.06-.94-.94-2.06-.94 2.06-2.06.94zm-11 1L8.5 8.5l.94-2.06 2.06-.94-2.06-.94L8.5 2.5l-.94 2.06-2.06.94zm10 10l.94 2.06.94-2.06 2.06-.94-2.06-.94-.94-2.06-.94 2.06-2.06.94z\"/><path d=\"M17.41 7.96l-1.37-1.37c-.4-.4-.92-.59-1.43-.59-.52 0-1.04.2-1.43.59L10.3 9.45l-7.72 7.72c-.78.78-.78 2.05 0 2.83L4 21.41c.39.39.9.59 1.41.59.51 0 1.02-.2 1.41-.59l7.78-7.78 2.81-2.81c.8-.78.8-2.07 0-2.86zM5.41 20L4 18.59l7.72-7.72 1.47 1.35L5.41 20z\"/>\n",
              "  </svg>\n",
              "      </button>\n",
              "      \n",
              "  <style>\n",
              "    .colab-df-container {\n",
              "      display:flex;\n",
              "      flex-wrap:wrap;\n",
              "      gap: 12px;\n",
              "    }\n",
              "\n",
              "    .colab-df-convert {\n",
              "      background-color: #E8F0FE;\n",
              "      border: none;\n",
              "      border-radius: 50%;\n",
              "      cursor: pointer;\n",
              "      display: none;\n",
              "      fill: #1967D2;\n",
              "      height: 32px;\n",
              "      padding: 0 0 0 0;\n",
              "      width: 32px;\n",
              "    }\n",
              "\n",
              "    .colab-df-convert:hover {\n",
              "      background-color: #E2EBFA;\n",
              "      box-shadow: 0px 1px 2px rgba(60, 64, 67, 0.3), 0px 1px 3px 1px rgba(60, 64, 67, 0.15);\n",
              "      fill: #174EA6;\n",
              "    }\n",
              "\n",
              "    [theme=dark] .colab-df-convert {\n",
              "      background-color: #3B4455;\n",
              "      fill: #D2E3FC;\n",
              "    }\n",
              "\n",
              "    [theme=dark] .colab-df-convert:hover {\n",
              "      background-color: #434B5C;\n",
              "      box-shadow: 0px 1px 3px 1px rgba(0, 0, 0, 0.15);\n",
              "      filter: drop-shadow(0px 1px 2px rgba(0, 0, 0, 0.3));\n",
              "      fill: #FFFFFF;\n",
              "    }\n",
              "  </style>\n",
              "\n",
              "      <script>\n",
              "        const buttonEl =\n",
              "          document.querySelector('#df-178342b3-c356-41ce-aa4b-d3d34c0c501a button.colab-df-convert');\n",
              "        buttonEl.style.display =\n",
              "          google.colab.kernel.accessAllowed ? 'block' : 'none';\n",
              "\n",
              "        async function convertToInteractive(key) {\n",
              "          const element = document.querySelector('#df-178342b3-c356-41ce-aa4b-d3d34c0c501a');\n",
              "          const dataTable =\n",
              "            await google.colab.kernel.invokeFunction('convertToInteractive',\n",
              "                                                     [key], {});\n",
              "          if (!dataTable) return;\n",
              "\n",
              "          const docLinkHtml = 'Like what you see? Visit the ' +\n",
              "            '<a target=\"_blank\" href=https://colab.research.google.com/notebooks/data_table.ipynb>data table notebook</a>'\n",
              "            + ' to learn more about interactive tables.';\n",
              "          element.innerHTML = '';\n",
              "          dataTable['output_type'] = 'display_data';\n",
              "          await google.colab.output.renderOutput(dataTable, element);\n",
              "          const docLink = document.createElement('div');\n",
              "          docLink.innerHTML = docLinkHtml;\n",
              "          element.appendChild(docLink);\n",
              "        }\n",
              "      </script>\n",
              "    </div>\n",
              "  </div>\n",
              "  "
            ]
          },
          "metadata": {},
          "execution_count": 29
        }
      ],
      "source": [
        "messages_count_month = messages.pivot_table(index=['month','user_id'], values = \"id\",  aggfunc = \"count\")\n",
        "#переименуем столбец в смс,для лучшего чтения\n",
        "messages_count_month"
      ]
    },
    {
      "cell_type": "markdown",
      "metadata": {
        "id": "VEAebGqH6uIG"
      },
      "source": [
        "### Помесячная выручка с каждого пользователя"
      ]
    },
    {
      "cell_type": "code",
      "execution_count": 30,
      "metadata": {
        "colab": {
          "base_uri": "https://localhost:8080/",
          "height": 450
        },
        "id": "VQIfx9aD6uIG",
        "outputId": "8dc32401-9b56-4534-b118-3ff484bf85df"
      },
      "outputs": [
        {
          "output_type": "execute_result",
          "data": {
            "text/plain": [
              "               count_calls  sum_calls_min   mb_used    sms\n",
              "user_id month                                             \n",
              "1005    1            11.00          95.00  2,730.00   7.00\n",
              "1032    1            44.00         380.00 24,147.00  38.00\n",
              "1045    1             1.00           9.00  2,348.00   5.00\n",
              "1055    1            47.00         551.00 17,111.00  30.00\n",
              "1071    1            18.00         194.00 15,622.00  16.00\n",
              "...                    ...            ...       ...    ...\n",
              "1106    12             NaN            NaN 18,722.00  24.00\n",
              "1231    12             NaN            NaN 32,481.00 191.00\n",
              "1328    12             NaN            NaN 39,461.00   7.00\n",
              "1473    12             NaN            NaN 18,432.00  20.00\n",
              "1489    12             NaN            NaN 17,341.00  35.00\n",
              "\n",
              "[3214 rows x 4 columns]"
            ],
            "text/html": [
              "\n",
              "  <div id=\"df-2aa05c91-66da-42d1-9d5a-016bddb7a951\">\n",
              "    <div class=\"colab-df-container\">\n",
              "      <div>\n",
              "<style scoped>\n",
              "    .dataframe tbody tr th:only-of-type {\n",
              "        vertical-align: middle;\n",
              "    }\n",
              "\n",
              "    .dataframe tbody tr th {\n",
              "        vertical-align: top;\n",
              "    }\n",
              "\n",
              "    .dataframe thead th {\n",
              "        text-align: right;\n",
              "    }\n",
              "</style>\n",
              "<table border=\"1\" class=\"dataframe\">\n",
              "  <thead>\n",
              "    <tr style=\"text-align: right;\">\n",
              "      <th></th>\n",
              "      <th></th>\n",
              "      <th>count_calls</th>\n",
              "      <th>sum_calls_min</th>\n",
              "      <th>mb_used</th>\n",
              "      <th>sms</th>\n",
              "    </tr>\n",
              "    <tr>\n",
              "      <th>user_id</th>\n",
              "      <th>month</th>\n",
              "      <th></th>\n",
              "      <th></th>\n",
              "      <th></th>\n",
              "      <th></th>\n",
              "    </tr>\n",
              "  </thead>\n",
              "  <tbody>\n",
              "    <tr>\n",
              "      <th>1005</th>\n",
              "      <th>1</th>\n",
              "      <td>11.00</td>\n",
              "      <td>95.00</td>\n",
              "      <td>2,730.00</td>\n",
              "      <td>7.00</td>\n",
              "    </tr>\n",
              "    <tr>\n",
              "      <th>1032</th>\n",
              "      <th>1</th>\n",
              "      <td>44.00</td>\n",
              "      <td>380.00</td>\n",
              "      <td>24,147.00</td>\n",
              "      <td>38.00</td>\n",
              "    </tr>\n",
              "    <tr>\n",
              "      <th>1045</th>\n",
              "      <th>1</th>\n",
              "      <td>1.00</td>\n",
              "      <td>9.00</td>\n",
              "      <td>2,348.00</td>\n",
              "      <td>5.00</td>\n",
              "    </tr>\n",
              "    <tr>\n",
              "      <th>1055</th>\n",
              "      <th>1</th>\n",
              "      <td>47.00</td>\n",
              "      <td>551.00</td>\n",
              "      <td>17,111.00</td>\n",
              "      <td>30.00</td>\n",
              "    </tr>\n",
              "    <tr>\n",
              "      <th>1071</th>\n",
              "      <th>1</th>\n",
              "      <td>18.00</td>\n",
              "      <td>194.00</td>\n",
              "      <td>15,622.00</td>\n",
              "      <td>16.00</td>\n",
              "    </tr>\n",
              "    <tr>\n",
              "      <th>...</th>\n",
              "      <th>...</th>\n",
              "      <td>...</td>\n",
              "      <td>...</td>\n",
              "      <td>...</td>\n",
              "      <td>...</td>\n",
              "    </tr>\n",
              "    <tr>\n",
              "      <th>1106</th>\n",
              "      <th>12</th>\n",
              "      <td>NaN</td>\n",
              "      <td>NaN</td>\n",
              "      <td>18,722.00</td>\n",
              "      <td>24.00</td>\n",
              "    </tr>\n",
              "    <tr>\n",
              "      <th>1231</th>\n",
              "      <th>12</th>\n",
              "      <td>NaN</td>\n",
              "      <td>NaN</td>\n",
              "      <td>32,481.00</td>\n",
              "      <td>191.00</td>\n",
              "    </tr>\n",
              "    <tr>\n",
              "      <th>1328</th>\n",
              "      <th>12</th>\n",
              "      <td>NaN</td>\n",
              "      <td>NaN</td>\n",
              "      <td>39,461.00</td>\n",
              "      <td>7.00</td>\n",
              "    </tr>\n",
              "    <tr>\n",
              "      <th>1473</th>\n",
              "      <th>12</th>\n",
              "      <td>NaN</td>\n",
              "      <td>NaN</td>\n",
              "      <td>18,432.00</td>\n",
              "      <td>20.00</td>\n",
              "    </tr>\n",
              "    <tr>\n",
              "      <th>1489</th>\n",
              "      <th>12</th>\n",
              "      <td>NaN</td>\n",
              "      <td>NaN</td>\n",
              "      <td>17,341.00</td>\n",
              "      <td>35.00</td>\n",
              "    </tr>\n",
              "  </tbody>\n",
              "</table>\n",
              "<p>3214 rows × 4 columns</p>\n",
              "</div>\n",
              "      <button class=\"colab-df-convert\" onclick=\"convertToInteractive('df-2aa05c91-66da-42d1-9d5a-016bddb7a951')\"\n",
              "              title=\"Convert this dataframe to an interactive table.\"\n",
              "              style=\"display:none;\">\n",
              "        \n",
              "  <svg xmlns=\"http://www.w3.org/2000/svg\" height=\"24px\"viewBox=\"0 0 24 24\"\n",
              "       width=\"24px\">\n",
              "    <path d=\"M0 0h24v24H0V0z\" fill=\"none\"/>\n",
              "    <path d=\"M18.56 5.44l.94 2.06.94-2.06 2.06-.94-2.06-.94-.94-2.06-.94 2.06-2.06.94zm-11 1L8.5 8.5l.94-2.06 2.06-.94-2.06-.94L8.5 2.5l-.94 2.06-2.06.94zm10 10l.94 2.06.94-2.06 2.06-.94-2.06-.94-.94-2.06-.94 2.06-2.06.94z\"/><path d=\"M17.41 7.96l-1.37-1.37c-.4-.4-.92-.59-1.43-.59-.52 0-1.04.2-1.43.59L10.3 9.45l-7.72 7.72c-.78.78-.78 2.05 0 2.83L4 21.41c.39.39.9.59 1.41.59.51 0 1.02-.2 1.41-.59l7.78-7.78 2.81-2.81c.8-.78.8-2.07 0-2.86zM5.41 20L4 18.59l7.72-7.72 1.47 1.35L5.41 20z\"/>\n",
              "  </svg>\n",
              "      </button>\n",
              "      \n",
              "  <style>\n",
              "    .colab-df-container {\n",
              "      display:flex;\n",
              "      flex-wrap:wrap;\n",
              "      gap: 12px;\n",
              "    }\n",
              "\n",
              "    .colab-df-convert {\n",
              "      background-color: #E8F0FE;\n",
              "      border: none;\n",
              "      border-radius: 50%;\n",
              "      cursor: pointer;\n",
              "      display: none;\n",
              "      fill: #1967D2;\n",
              "      height: 32px;\n",
              "      padding: 0 0 0 0;\n",
              "      width: 32px;\n",
              "    }\n",
              "\n",
              "    .colab-df-convert:hover {\n",
              "      background-color: #E2EBFA;\n",
              "      box-shadow: 0px 1px 2px rgba(60, 64, 67, 0.3), 0px 1px 3px 1px rgba(60, 64, 67, 0.15);\n",
              "      fill: #174EA6;\n",
              "    }\n",
              "\n",
              "    [theme=dark] .colab-df-convert {\n",
              "      background-color: #3B4455;\n",
              "      fill: #D2E3FC;\n",
              "    }\n",
              "\n",
              "    [theme=dark] .colab-df-convert:hover {\n",
              "      background-color: #434B5C;\n",
              "      box-shadow: 0px 1px 3px 1px rgba(0, 0, 0, 0.15);\n",
              "      filter: drop-shadow(0px 1px 2px rgba(0, 0, 0, 0.3));\n",
              "      fill: #FFFFFF;\n",
              "    }\n",
              "  </style>\n",
              "\n",
              "      <script>\n",
              "        const buttonEl =\n",
              "          document.querySelector('#df-2aa05c91-66da-42d1-9d5a-016bddb7a951 button.colab-df-convert');\n",
              "        buttonEl.style.display =\n",
              "          google.colab.kernel.accessAllowed ? 'block' : 'none';\n",
              "\n",
              "        async function convertToInteractive(key) {\n",
              "          const element = document.querySelector('#df-2aa05c91-66da-42d1-9d5a-016bddb7a951');\n",
              "          const dataTable =\n",
              "            await google.colab.kernel.invokeFunction('convertToInteractive',\n",
              "                                                     [key], {});\n",
              "          if (!dataTable) return;\n",
              "\n",
              "          const docLinkHtml = 'Like what you see? Visit the ' +\n",
              "            '<a target=\"_blank\" href=https://colab.research.google.com/notebooks/data_table.ipynb>data table notebook</a>'\n",
              "            + ' to learn more about interactive tables.';\n",
              "          element.innerHTML = '';\n",
              "          dataTable['output_type'] = 'display_data';\n",
              "          await google.colab.output.renderOutput(dataTable, element);\n",
              "          const docLink = document.createElement('div');\n",
              "          docLink.innerHTML = docLinkHtml;\n",
              "          element.appendChild(docLink);\n",
              "        }\n",
              "      </script>\n",
              "    </div>\n",
              "  </div>\n",
              "  "
            ]
          },
          "metadata": {},
          "execution_count": 30
        }
      ],
      "source": [
        "money = count_calls_month.merge(sum_сalls_duration_month, on=['user_id', 'month'], how='outer') #связываем таблицы\n",
        "money = money.merge(mb_used_month, on = [\"user_id\", \"month\"], how = \"outer\")\n",
        "money = money.merge(messages_count_month, on = [\"user_id\", \"month\"], how = \"outer\")\n",
        "money = money.rename(columns={'id': 'sms', \"duration_x\" : \"count_calls\", \"duration_y\" : \"sum_calls_min\"}) #переименовываем столбцы для удобстава\n",
        "money"
      ]
    },
    {
      "cell_type": "markdown",
      "metadata": {
        "id": "_5dzMtnK6uIH"
      },
      "source": [
        "Как мы видим, у нас есть сводная таблица, где по каждому пользователю, расписано, в какие месяцы сколько совершалось звонков, какая общая длительность, количество смс, использование трафика.\n",
        "Предлагаю, изменить тип данных, для экономии данных."
      ]
    },
    {
      "cell_type": "code",
      "execution_count": 31,
      "metadata": {
        "colab": {
          "base_uri": "https://localhost:8080/"
        },
        "id": "EKgNGHzJ6uIH",
        "outputId": "8c12673d-f32f-4a7d-93d7-c44e644233ec"
      },
      "outputs": [
        {
          "output_type": "stream",
          "name": "stdout",
          "text": [
            "Заполняем пропуски\n"
          ]
        }
      ],
      "source": [
        "try:\n",
        "    money[\"sms\"] = money[\"sms\"].astype(\"int\")\n",
        "    print(\"Меняем тип данных\")\n",
        "except:\n",
        "    print(\"Заполняем пропуски\")"
      ]
    },
    {
      "cell_type": "markdown",
      "metadata": {
        "id": "ESWIrMd76uIH"
      },
      "source": [
        "Видим ошибку, значит есть пустые данные, заменим их на 0, т.к. просто сообщений банально не отправлялось в данный промежуток времени. Мы могли это сделать другим путем, но я решил вспомнить это."
      ]
    },
    {
      "cell_type": "code",
      "execution_count": 32,
      "metadata": {
        "colab": {
          "base_uri": "https://localhost:8080/"
        },
        "id": "jjm1rJOh6uII",
        "outputId": "ebccbdef-cca8-46e7-b6d2-dbc14a3f9639"
      },
      "outputs": [
        {
          "output_type": "stream",
          "name": "stdout",
          "text": [
            "<class 'pandas.core.frame.DataFrame'>\n",
            "MultiIndex: 3214 entries, (1005, 1) to (1489, 12)\n",
            "Data columns (total 4 columns):\n",
            " #   Column         Non-Null Count  Dtype\n",
            "---  ------         --------------  -----\n",
            " 0   count_calls    3214 non-null   int64\n",
            " 1   sum_calls_min  3214 non-null   int64\n",
            " 2   mb_used        3214 non-null   int64\n",
            " 3   sms            3214 non-null   int64\n",
            "dtypes: int64(4)\n",
            "memory usage: 130.4 KB\n"
          ]
        }
      ],
      "source": [
        "list_columns = [\"count_calls\", \"sum_calls_min\", \"mb_used\", \"sms\"] #делаем массив стобцов, по которым необходмо будет пройтись\n",
        "for i in list_columns:\n",
        "    money[i] = money[i].fillna(0).astype(\"int\") #меняем на 0 и на тип данных int\n",
        "money.info() #проверяем"
      ]
    },
    {
      "cell_type": "code",
      "execution_count": 33,
      "metadata": {
        "id": "d0bRd_vq6uII"
      },
      "outputs": [],
      "source": [
        "money =  pd.DataFrame(money.to_records()) #используем to_records, чтобы преобразовать индекс (в нашем случае месяц) в массив данных\n"
      ]
    },
    {
      "cell_type": "code",
      "execution_count": 34,
      "metadata": {
        "colab": {
          "base_uri": "https://localhost:8080/"
        },
        "id": "OoaGvFsT6uII",
        "outputId": "b2126602-d847-4257-9bc5-966b43f0ed9e"
      },
      "outputs": [
        {
          "output_type": "stream",
          "name": "stdout",
          "text": [
            "<class 'pandas.core.frame.DataFrame'>\n",
            "Int64Index: 3214 entries, 0 to 3213\n",
            "Data columns (total 20 columns):\n",
            " #   Column                 Non-Null Count  Dtype \n",
            "---  ------                 --------------  ----- \n",
            " 0   user_id                3214 non-null   int64 \n",
            " 1   month                  3214 non-null   int64 \n",
            " 2   count_calls            3214 non-null   int64 \n",
            " 3   sum_calls_min          3214 non-null   int64 \n",
            " 4   mb_used                3214 non-null   int64 \n",
            " 5   sms                    3214 non-null   int64 \n",
            " 6   age                    3214 non-null   int64 \n",
            " 7   churn_date             187 non-null    object\n",
            " 8   city                   3214 non-null   object\n",
            " 9   first_name             3214 non-null   object\n",
            " 10  last_name              3214 non-null   object\n",
            " 11  reg_date               3214 non-null   object\n",
            " 12  tariff                 3214 non-null   object\n",
            " 13  messages_included      3214 non-null   int64 \n",
            " 14  mb_per_month_included  3214 non-null   int64 \n",
            " 15  minutes_included       3214 non-null   int64 \n",
            " 16  rub_monthly_fee        3214 non-null   int64 \n",
            " 17  rub_per_gb             3214 non-null   int64 \n",
            " 18  rub_per_message        3214 non-null   int64 \n",
            " 19  rub_per_minute         3214 non-null   int64 \n",
            "dtypes: int64(14), object(6)\n",
            "memory usage: 527.3+ KB\n"
          ]
        }
      ],
      "source": [
        "tariffs = tariffs.rename(columns = {\"tariff_name\":\"tariff\"}) #переименуем для склейки\n",
        "money = money.merge(users, on='user_id', how='left').merge(tariffs, on='tariff', how='left')\n",
        "money.info()"
      ]
    },
    {
      "cell_type": "code",
      "execution_count": 35,
      "metadata": {
        "id": "-JA8nG3X6uIJ"
      },
      "outputs": [],
      "source": [
        "money = money.drop([\"age\", \"first_name\", \"last_name\"], axis = \"columns\") #избавляемся это лишних столбцов, так как они не участвуют в анализе"
      ]
    },
    {
      "cell_type": "code",
      "execution_count": 36,
      "metadata": {
        "colab": {
          "base_uri": "https://localhost:8080/"
        },
        "id": "5J8eOqqc6uIJ",
        "outputId": "2f79db9e-27dc-412f-9cf5-cdd793dc3ce9"
      },
      "outputs": [
        {
          "output_type": "stream",
          "name": "stdout",
          "text": [
            "<class 'pandas.core.frame.DataFrame'>\n",
            "Int64Index: 3214 entries, 0 to 3213\n",
            "Data columns (total 17 columns):\n",
            " #   Column                 Non-Null Count  Dtype \n",
            "---  ------                 --------------  ----- \n",
            " 0   user_id                3214 non-null   int64 \n",
            " 1   month                  3214 non-null   int64 \n",
            " 2   count_calls            3214 non-null   int64 \n",
            " 3   sum_calls_min          3214 non-null   int64 \n",
            " 4   mb_used                3214 non-null   int64 \n",
            " 5   sms                    3214 non-null   int64 \n",
            " 6   churn_date             187 non-null    object\n",
            " 7   city                   3214 non-null   object\n",
            " 8   reg_date               3214 non-null   object\n",
            " 9   tariff                 3214 non-null   object\n",
            " 10  messages_included      3214 non-null   int64 \n",
            " 11  mb_per_month_included  3214 non-null   int64 \n",
            " 12  minutes_included       3214 non-null   int64 \n",
            " 13  rub_monthly_fee        3214 non-null   int64 \n",
            " 14  rub_per_gb             3214 non-null   int64 \n",
            " 15  rub_per_message        3214 non-null   int64 \n",
            " 16  rub_per_minute         3214 non-null   int64 \n",
            "dtypes: int64(13), object(4)\n",
            "memory usage: 452.0+ KB\n"
          ]
        }
      ],
      "source": [
        "money.info()"
      ]
    },
    {
      "cell_type": "code",
      "execution_count": 37,
      "metadata": {
        "colab": {
          "base_uri": "https://localhost:8080/",
          "height": 353
        },
        "id": "jFwSTBRf6uIJ",
        "outputId": "a7ce375b-4683-4436-aa52-fd2e2536f28a"
      },
      "outputs": [
        {
          "output_type": "execute_result",
          "data": {
            "text/plain": [
              "   user_id  month  count_calls  sum_calls_min  mb_used  sms  churn_date  \\\n",
              "0     1005      1           11             95     2730    7         NaN   \n",
              "1     1032      1           44            380    24147   38         NaN   \n",
              "2     1045      1            1              9     2348    5         NaN   \n",
              "3     1055      1           47            551    17111   30         NaN   \n",
              "4     1071      1           18            194    15622   16  2018-08-31   \n",
              "\n",
              "               city    reg_date tariff  messages_included  \\\n",
              "0  Набережные Челны  2018-01-25  smart                 50   \n",
              "1         Ульяновск  2018-01-04  smart                 50   \n",
              "2          Улан-Удэ  2018-01-30  smart                 50   \n",
              "3            Казань  2018-01-02  smart                 50   \n",
              "4              Омск  2018-01-09  smart                 50   \n",
              "\n",
              "   mb_per_month_included  minutes_included  rub_monthly_fee  rub_per_gb  \\\n",
              "0                  15360               500              550         200   \n",
              "1                  15360               500              550         200   \n",
              "2                  15360               500              550         200   \n",
              "3                  15360               500              550         200   \n",
              "4                  15360               500              550         200   \n",
              "\n",
              "   rub_per_message  rub_per_minute  \n",
              "0                3               3  \n",
              "1                3               3  \n",
              "2                3               3  \n",
              "3                3               3  \n",
              "4                3               3  "
            ],
            "text/html": [
              "\n",
              "  <div id=\"df-1a0a8ebd-7720-4003-a335-400c00422104\">\n",
              "    <div class=\"colab-df-container\">\n",
              "      <div>\n",
              "<style scoped>\n",
              "    .dataframe tbody tr th:only-of-type {\n",
              "        vertical-align: middle;\n",
              "    }\n",
              "\n",
              "    .dataframe tbody tr th {\n",
              "        vertical-align: top;\n",
              "    }\n",
              "\n",
              "    .dataframe thead th {\n",
              "        text-align: right;\n",
              "    }\n",
              "</style>\n",
              "<table border=\"1\" class=\"dataframe\">\n",
              "  <thead>\n",
              "    <tr style=\"text-align: right;\">\n",
              "      <th></th>\n",
              "      <th>user_id</th>\n",
              "      <th>month</th>\n",
              "      <th>count_calls</th>\n",
              "      <th>sum_calls_min</th>\n",
              "      <th>mb_used</th>\n",
              "      <th>sms</th>\n",
              "      <th>churn_date</th>\n",
              "      <th>city</th>\n",
              "      <th>reg_date</th>\n",
              "      <th>tariff</th>\n",
              "      <th>messages_included</th>\n",
              "      <th>mb_per_month_included</th>\n",
              "      <th>minutes_included</th>\n",
              "      <th>rub_monthly_fee</th>\n",
              "      <th>rub_per_gb</th>\n",
              "      <th>rub_per_message</th>\n",
              "      <th>rub_per_minute</th>\n",
              "    </tr>\n",
              "  </thead>\n",
              "  <tbody>\n",
              "    <tr>\n",
              "      <th>0</th>\n",
              "      <td>1005</td>\n",
              "      <td>1</td>\n",
              "      <td>11</td>\n",
              "      <td>95</td>\n",
              "      <td>2730</td>\n",
              "      <td>7</td>\n",
              "      <td>NaN</td>\n",
              "      <td>Набережные Челны</td>\n",
              "      <td>2018-01-25</td>\n",
              "      <td>smart</td>\n",
              "      <td>50</td>\n",
              "      <td>15360</td>\n",
              "      <td>500</td>\n",
              "      <td>550</td>\n",
              "      <td>200</td>\n",
              "      <td>3</td>\n",
              "      <td>3</td>\n",
              "    </tr>\n",
              "    <tr>\n",
              "      <th>1</th>\n",
              "      <td>1032</td>\n",
              "      <td>1</td>\n",
              "      <td>44</td>\n",
              "      <td>380</td>\n",
              "      <td>24147</td>\n",
              "      <td>38</td>\n",
              "      <td>NaN</td>\n",
              "      <td>Ульяновск</td>\n",
              "      <td>2018-01-04</td>\n",
              "      <td>smart</td>\n",
              "      <td>50</td>\n",
              "      <td>15360</td>\n",
              "      <td>500</td>\n",
              "      <td>550</td>\n",
              "      <td>200</td>\n",
              "      <td>3</td>\n",
              "      <td>3</td>\n",
              "    </tr>\n",
              "    <tr>\n",
              "      <th>2</th>\n",
              "      <td>1045</td>\n",
              "      <td>1</td>\n",
              "      <td>1</td>\n",
              "      <td>9</td>\n",
              "      <td>2348</td>\n",
              "      <td>5</td>\n",
              "      <td>NaN</td>\n",
              "      <td>Улан-Удэ</td>\n",
              "      <td>2018-01-30</td>\n",
              "      <td>smart</td>\n",
              "      <td>50</td>\n",
              "      <td>15360</td>\n",
              "      <td>500</td>\n",
              "      <td>550</td>\n",
              "      <td>200</td>\n",
              "      <td>3</td>\n",
              "      <td>3</td>\n",
              "    </tr>\n",
              "    <tr>\n",
              "      <th>3</th>\n",
              "      <td>1055</td>\n",
              "      <td>1</td>\n",
              "      <td>47</td>\n",
              "      <td>551</td>\n",
              "      <td>17111</td>\n",
              "      <td>30</td>\n",
              "      <td>NaN</td>\n",
              "      <td>Казань</td>\n",
              "      <td>2018-01-02</td>\n",
              "      <td>smart</td>\n",
              "      <td>50</td>\n",
              "      <td>15360</td>\n",
              "      <td>500</td>\n",
              "      <td>550</td>\n",
              "      <td>200</td>\n",
              "      <td>3</td>\n",
              "      <td>3</td>\n",
              "    </tr>\n",
              "    <tr>\n",
              "      <th>4</th>\n",
              "      <td>1071</td>\n",
              "      <td>1</td>\n",
              "      <td>18</td>\n",
              "      <td>194</td>\n",
              "      <td>15622</td>\n",
              "      <td>16</td>\n",
              "      <td>2018-08-31</td>\n",
              "      <td>Омск</td>\n",
              "      <td>2018-01-09</td>\n",
              "      <td>smart</td>\n",
              "      <td>50</td>\n",
              "      <td>15360</td>\n",
              "      <td>500</td>\n",
              "      <td>550</td>\n",
              "      <td>200</td>\n",
              "      <td>3</td>\n",
              "      <td>3</td>\n",
              "    </tr>\n",
              "  </tbody>\n",
              "</table>\n",
              "</div>\n",
              "      <button class=\"colab-df-convert\" onclick=\"convertToInteractive('df-1a0a8ebd-7720-4003-a335-400c00422104')\"\n",
              "              title=\"Convert this dataframe to an interactive table.\"\n",
              "              style=\"display:none;\">\n",
              "        \n",
              "  <svg xmlns=\"http://www.w3.org/2000/svg\" height=\"24px\"viewBox=\"0 0 24 24\"\n",
              "       width=\"24px\">\n",
              "    <path d=\"M0 0h24v24H0V0z\" fill=\"none\"/>\n",
              "    <path d=\"M18.56 5.44l.94 2.06.94-2.06 2.06-.94-2.06-.94-.94-2.06-.94 2.06-2.06.94zm-11 1L8.5 8.5l.94-2.06 2.06-.94-2.06-.94L8.5 2.5l-.94 2.06-2.06.94zm10 10l.94 2.06.94-2.06 2.06-.94-2.06-.94-.94-2.06-.94 2.06-2.06.94z\"/><path d=\"M17.41 7.96l-1.37-1.37c-.4-.4-.92-.59-1.43-.59-.52 0-1.04.2-1.43.59L10.3 9.45l-7.72 7.72c-.78.78-.78 2.05 0 2.83L4 21.41c.39.39.9.59 1.41.59.51 0 1.02-.2 1.41-.59l7.78-7.78 2.81-2.81c.8-.78.8-2.07 0-2.86zM5.41 20L4 18.59l7.72-7.72 1.47 1.35L5.41 20z\"/>\n",
              "  </svg>\n",
              "      </button>\n",
              "      \n",
              "  <style>\n",
              "    .colab-df-container {\n",
              "      display:flex;\n",
              "      flex-wrap:wrap;\n",
              "      gap: 12px;\n",
              "    }\n",
              "\n",
              "    .colab-df-convert {\n",
              "      background-color: #E8F0FE;\n",
              "      border: none;\n",
              "      border-radius: 50%;\n",
              "      cursor: pointer;\n",
              "      display: none;\n",
              "      fill: #1967D2;\n",
              "      height: 32px;\n",
              "      padding: 0 0 0 0;\n",
              "      width: 32px;\n",
              "    }\n",
              "\n",
              "    .colab-df-convert:hover {\n",
              "      background-color: #E2EBFA;\n",
              "      box-shadow: 0px 1px 2px rgba(60, 64, 67, 0.3), 0px 1px 3px 1px rgba(60, 64, 67, 0.15);\n",
              "      fill: #174EA6;\n",
              "    }\n",
              "\n",
              "    [theme=dark] .colab-df-convert {\n",
              "      background-color: #3B4455;\n",
              "      fill: #D2E3FC;\n",
              "    }\n",
              "\n",
              "    [theme=dark] .colab-df-convert:hover {\n",
              "      background-color: #434B5C;\n",
              "      box-shadow: 0px 1px 3px 1px rgba(0, 0, 0, 0.15);\n",
              "      filter: drop-shadow(0px 1px 2px rgba(0, 0, 0, 0.3));\n",
              "      fill: #FFFFFF;\n",
              "    }\n",
              "  </style>\n",
              "\n",
              "      <script>\n",
              "        const buttonEl =\n",
              "          document.querySelector('#df-1a0a8ebd-7720-4003-a335-400c00422104 button.colab-df-convert');\n",
              "        buttonEl.style.display =\n",
              "          google.colab.kernel.accessAllowed ? 'block' : 'none';\n",
              "\n",
              "        async function convertToInteractive(key) {\n",
              "          const element = document.querySelector('#df-1a0a8ebd-7720-4003-a335-400c00422104');\n",
              "          const dataTable =\n",
              "            await google.colab.kernel.invokeFunction('convertToInteractive',\n",
              "                                                     [key], {});\n",
              "          if (!dataTable) return;\n",
              "\n",
              "          const docLinkHtml = 'Like what you see? Visit the ' +\n",
              "            '<a target=\"_blank\" href=https://colab.research.google.com/notebooks/data_table.ipynb>data table notebook</a>'\n",
              "            + ' to learn more about interactive tables.';\n",
              "          element.innerHTML = '';\n",
              "          dataTable['output_type'] = 'display_data';\n",
              "          await google.colab.output.renderOutput(dataTable, element);\n",
              "          const docLink = document.createElement('div');\n",
              "          docLink.innerHTML = docLinkHtml;\n",
              "          element.appendChild(docLink);\n",
              "        }\n",
              "      </script>\n",
              "    </div>\n",
              "  </div>\n",
              "  "
            ]
          },
          "metadata": {},
          "execution_count": 37
        }
      ],
      "source": [
        "money.head()"
      ]
    },
    {
      "cell_type": "code",
      "execution_count": 38,
      "metadata": {
        "id": "C1El2PY46uIK"
      },
      "outputs": [],
      "source": [
        "money = money.rename(columns={'messages_included': 'sms_limit', \"mb_per_month_included\" : \"mb_limit\", \"minutes_included\" : \"calls_limit\"})\n",
        "#Переименовываем столбцы для удобства"
      ]
    },
    {
      "cell_type": "code",
      "execution_count": 39,
      "metadata": {
        "colab": {
          "base_uri": "https://localhost:8080/",
          "height": 593
        },
        "id": "nZ2i_b_B6uIK",
        "outputId": "ea84da41-9a6b-419c-b454-ade767f6b951"
      },
      "outputs": [
        {
          "output_type": "execute_result",
          "data": {
            "text/plain": [
              "      user_id  month  count_calls  sum_calls_min  mb_used  sms churn_date  \\\n",
              "3204     1231     11            0              0    27459  173        NaN   \n",
              "3205     1328     11            0              0    35567    8        NaN   \n",
              "3206     1473     11            0              0    21692   14        NaN   \n",
              "3207     1489     11            0              0    17516   20        NaN   \n",
              "3208     1091     12            0              0    13292   42        NaN   \n",
              "3209     1106     12            0              0    18722   24        NaN   \n",
              "3210     1231     12            0              0    32481  191        NaN   \n",
              "3211     1328     12            0              0    39461    7        NaN   \n",
              "3212     1473     12            0              0    18432   20        NaN   \n",
              "3213     1489     12            0              0    17341   35        NaN   \n",
              "\n",
              "                  city    reg_date tariff  sms_limit  mb_limit  calls_limit  \\\n",
              "3204         Чебоксары  2018-05-23  ultra       1000     30720         3000   \n",
              "3205          Мурманск  2018-10-16  ultra       1000     30720         3000   \n",
              "3206        Красноярск  2018-08-05  ultra       1000     30720         3000   \n",
              "3207   Санкт-Петербург  2018-08-15  smart         50     15360          500   \n",
              "3208  Набережные Челны  2018-05-08  ultra       1000     30720         3000   \n",
              "3209            Калуга  2018-04-26  ultra       1000     30720         3000   \n",
              "3210         Чебоксары  2018-05-23  ultra       1000     30720         3000   \n",
              "3211          Мурманск  2018-10-16  ultra       1000     30720         3000   \n",
              "3212        Красноярск  2018-08-05  ultra       1000     30720         3000   \n",
              "3213   Санкт-Петербург  2018-08-15  smart         50     15360          500   \n",
              "\n",
              "      rub_monthly_fee  rub_per_gb  rub_per_message  rub_per_minute  \\\n",
              "3204             1950         150                1               1   \n",
              "3205             1950         150                1               1   \n",
              "3206             1950         150                1               1   \n",
              "3207              550         200                3               3   \n",
              "3208             1950         150                1               1   \n",
              "3209             1950         150                1               1   \n",
              "3210             1950         150                1               1   \n",
              "3211             1950         150                1               1   \n",
              "3212             1950         150                1               1   \n",
              "3213              550         200                3               3   \n",
              "\n",
              "      delta_calls  delta_sms  delta_mb  \n",
              "3204        -3000       -827     -3261  \n",
              "3205        -3000       -992      4847  \n",
              "3206        -3000       -986     -9028  \n",
              "3207         -500        -30      2156  \n",
              "3208        -3000       -958    -17428  \n",
              "3209        -3000       -976    -11998  \n",
              "3210        -3000       -809      1761  \n",
              "3211        -3000       -993      8741  \n",
              "3212        -3000       -980    -12288  \n",
              "3213         -500        -15      1981  "
            ],
            "text/html": [
              "\n",
              "  <div id=\"df-5788c007-5f2d-4dfe-9c2c-f08116f98d20\">\n",
              "    <div class=\"colab-df-container\">\n",
              "      <div>\n",
              "<style scoped>\n",
              "    .dataframe tbody tr th:only-of-type {\n",
              "        vertical-align: middle;\n",
              "    }\n",
              "\n",
              "    .dataframe tbody tr th {\n",
              "        vertical-align: top;\n",
              "    }\n",
              "\n",
              "    .dataframe thead th {\n",
              "        text-align: right;\n",
              "    }\n",
              "</style>\n",
              "<table border=\"1\" class=\"dataframe\">\n",
              "  <thead>\n",
              "    <tr style=\"text-align: right;\">\n",
              "      <th></th>\n",
              "      <th>user_id</th>\n",
              "      <th>month</th>\n",
              "      <th>count_calls</th>\n",
              "      <th>sum_calls_min</th>\n",
              "      <th>mb_used</th>\n",
              "      <th>sms</th>\n",
              "      <th>churn_date</th>\n",
              "      <th>city</th>\n",
              "      <th>reg_date</th>\n",
              "      <th>tariff</th>\n",
              "      <th>sms_limit</th>\n",
              "      <th>mb_limit</th>\n",
              "      <th>calls_limit</th>\n",
              "      <th>rub_monthly_fee</th>\n",
              "      <th>rub_per_gb</th>\n",
              "      <th>rub_per_message</th>\n",
              "      <th>rub_per_minute</th>\n",
              "      <th>delta_calls</th>\n",
              "      <th>delta_sms</th>\n",
              "      <th>delta_mb</th>\n",
              "    </tr>\n",
              "  </thead>\n",
              "  <tbody>\n",
              "    <tr>\n",
              "      <th>3204</th>\n",
              "      <td>1231</td>\n",
              "      <td>11</td>\n",
              "      <td>0</td>\n",
              "      <td>0</td>\n",
              "      <td>27459</td>\n",
              "      <td>173</td>\n",
              "      <td>NaN</td>\n",
              "      <td>Чебоксары</td>\n",
              "      <td>2018-05-23</td>\n",
              "      <td>ultra</td>\n",
              "      <td>1000</td>\n",
              "      <td>30720</td>\n",
              "      <td>3000</td>\n",
              "      <td>1950</td>\n",
              "      <td>150</td>\n",
              "      <td>1</td>\n",
              "      <td>1</td>\n",
              "      <td>-3000</td>\n",
              "      <td>-827</td>\n",
              "      <td>-3261</td>\n",
              "    </tr>\n",
              "    <tr>\n",
              "      <th>3205</th>\n",
              "      <td>1328</td>\n",
              "      <td>11</td>\n",
              "      <td>0</td>\n",
              "      <td>0</td>\n",
              "      <td>35567</td>\n",
              "      <td>8</td>\n",
              "      <td>NaN</td>\n",
              "      <td>Мурманск</td>\n",
              "      <td>2018-10-16</td>\n",
              "      <td>ultra</td>\n",
              "      <td>1000</td>\n",
              "      <td>30720</td>\n",
              "      <td>3000</td>\n",
              "      <td>1950</td>\n",
              "      <td>150</td>\n",
              "      <td>1</td>\n",
              "      <td>1</td>\n",
              "      <td>-3000</td>\n",
              "      <td>-992</td>\n",
              "      <td>4847</td>\n",
              "    </tr>\n",
              "    <tr>\n",
              "      <th>3206</th>\n",
              "      <td>1473</td>\n",
              "      <td>11</td>\n",
              "      <td>0</td>\n",
              "      <td>0</td>\n",
              "      <td>21692</td>\n",
              "      <td>14</td>\n",
              "      <td>NaN</td>\n",
              "      <td>Красноярск</td>\n",
              "      <td>2018-08-05</td>\n",
              "      <td>ultra</td>\n",
              "      <td>1000</td>\n",
              "      <td>30720</td>\n",
              "      <td>3000</td>\n",
              "      <td>1950</td>\n",
              "      <td>150</td>\n",
              "      <td>1</td>\n",
              "      <td>1</td>\n",
              "      <td>-3000</td>\n",
              "      <td>-986</td>\n",
              "      <td>-9028</td>\n",
              "    </tr>\n",
              "    <tr>\n",
              "      <th>3207</th>\n",
              "      <td>1489</td>\n",
              "      <td>11</td>\n",
              "      <td>0</td>\n",
              "      <td>0</td>\n",
              "      <td>17516</td>\n",
              "      <td>20</td>\n",
              "      <td>NaN</td>\n",
              "      <td>Санкт-Петербург</td>\n",
              "      <td>2018-08-15</td>\n",
              "      <td>smart</td>\n",
              "      <td>50</td>\n",
              "      <td>15360</td>\n",
              "      <td>500</td>\n",
              "      <td>550</td>\n",
              "      <td>200</td>\n",
              "      <td>3</td>\n",
              "      <td>3</td>\n",
              "      <td>-500</td>\n",
              "      <td>-30</td>\n",
              "      <td>2156</td>\n",
              "    </tr>\n",
              "    <tr>\n",
              "      <th>3208</th>\n",
              "      <td>1091</td>\n",
              "      <td>12</td>\n",
              "      <td>0</td>\n",
              "      <td>0</td>\n",
              "      <td>13292</td>\n",
              "      <td>42</td>\n",
              "      <td>NaN</td>\n",
              "      <td>Набережные Челны</td>\n",
              "      <td>2018-05-08</td>\n",
              "      <td>ultra</td>\n",
              "      <td>1000</td>\n",
              "      <td>30720</td>\n",
              "      <td>3000</td>\n",
              "      <td>1950</td>\n",
              "      <td>150</td>\n",
              "      <td>1</td>\n",
              "      <td>1</td>\n",
              "      <td>-3000</td>\n",
              "      <td>-958</td>\n",
              "      <td>-17428</td>\n",
              "    </tr>\n",
              "    <tr>\n",
              "      <th>3209</th>\n",
              "      <td>1106</td>\n",
              "      <td>12</td>\n",
              "      <td>0</td>\n",
              "      <td>0</td>\n",
              "      <td>18722</td>\n",
              "      <td>24</td>\n",
              "      <td>NaN</td>\n",
              "      <td>Калуга</td>\n",
              "      <td>2018-04-26</td>\n",
              "      <td>ultra</td>\n",
              "      <td>1000</td>\n",
              "      <td>30720</td>\n",
              "      <td>3000</td>\n",
              "      <td>1950</td>\n",
              "      <td>150</td>\n",
              "      <td>1</td>\n",
              "      <td>1</td>\n",
              "      <td>-3000</td>\n",
              "      <td>-976</td>\n",
              "      <td>-11998</td>\n",
              "    </tr>\n",
              "    <tr>\n",
              "      <th>3210</th>\n",
              "      <td>1231</td>\n",
              "      <td>12</td>\n",
              "      <td>0</td>\n",
              "      <td>0</td>\n",
              "      <td>32481</td>\n",
              "      <td>191</td>\n",
              "      <td>NaN</td>\n",
              "      <td>Чебоксары</td>\n",
              "      <td>2018-05-23</td>\n",
              "      <td>ultra</td>\n",
              "      <td>1000</td>\n",
              "      <td>30720</td>\n",
              "      <td>3000</td>\n",
              "      <td>1950</td>\n",
              "      <td>150</td>\n",
              "      <td>1</td>\n",
              "      <td>1</td>\n",
              "      <td>-3000</td>\n",
              "      <td>-809</td>\n",
              "      <td>1761</td>\n",
              "    </tr>\n",
              "    <tr>\n",
              "      <th>3211</th>\n",
              "      <td>1328</td>\n",
              "      <td>12</td>\n",
              "      <td>0</td>\n",
              "      <td>0</td>\n",
              "      <td>39461</td>\n",
              "      <td>7</td>\n",
              "      <td>NaN</td>\n",
              "      <td>Мурманск</td>\n",
              "      <td>2018-10-16</td>\n",
              "      <td>ultra</td>\n",
              "      <td>1000</td>\n",
              "      <td>30720</td>\n",
              "      <td>3000</td>\n",
              "      <td>1950</td>\n",
              "      <td>150</td>\n",
              "      <td>1</td>\n",
              "      <td>1</td>\n",
              "      <td>-3000</td>\n",
              "      <td>-993</td>\n",
              "      <td>8741</td>\n",
              "    </tr>\n",
              "    <tr>\n",
              "      <th>3212</th>\n",
              "      <td>1473</td>\n",
              "      <td>12</td>\n",
              "      <td>0</td>\n",
              "      <td>0</td>\n",
              "      <td>18432</td>\n",
              "      <td>20</td>\n",
              "      <td>NaN</td>\n",
              "      <td>Красноярск</td>\n",
              "      <td>2018-08-05</td>\n",
              "      <td>ultra</td>\n",
              "      <td>1000</td>\n",
              "      <td>30720</td>\n",
              "      <td>3000</td>\n",
              "      <td>1950</td>\n",
              "      <td>150</td>\n",
              "      <td>1</td>\n",
              "      <td>1</td>\n",
              "      <td>-3000</td>\n",
              "      <td>-980</td>\n",
              "      <td>-12288</td>\n",
              "    </tr>\n",
              "    <tr>\n",
              "      <th>3213</th>\n",
              "      <td>1489</td>\n",
              "      <td>12</td>\n",
              "      <td>0</td>\n",
              "      <td>0</td>\n",
              "      <td>17341</td>\n",
              "      <td>35</td>\n",
              "      <td>NaN</td>\n",
              "      <td>Санкт-Петербург</td>\n",
              "      <td>2018-08-15</td>\n",
              "      <td>smart</td>\n",
              "      <td>50</td>\n",
              "      <td>15360</td>\n",
              "      <td>500</td>\n",
              "      <td>550</td>\n",
              "      <td>200</td>\n",
              "      <td>3</td>\n",
              "      <td>3</td>\n",
              "      <td>-500</td>\n",
              "      <td>-15</td>\n",
              "      <td>1981</td>\n",
              "    </tr>\n",
              "  </tbody>\n",
              "</table>\n",
              "</div>\n",
              "      <button class=\"colab-df-convert\" onclick=\"convertToInteractive('df-5788c007-5f2d-4dfe-9c2c-f08116f98d20')\"\n",
              "              title=\"Convert this dataframe to an interactive table.\"\n",
              "              style=\"display:none;\">\n",
              "        \n",
              "  <svg xmlns=\"http://www.w3.org/2000/svg\" height=\"24px\"viewBox=\"0 0 24 24\"\n",
              "       width=\"24px\">\n",
              "    <path d=\"M0 0h24v24H0V0z\" fill=\"none\"/>\n",
              "    <path d=\"M18.56 5.44l.94 2.06.94-2.06 2.06-.94-2.06-.94-.94-2.06-.94 2.06-2.06.94zm-11 1L8.5 8.5l.94-2.06 2.06-.94-2.06-.94L8.5 2.5l-.94 2.06-2.06.94zm10 10l.94 2.06.94-2.06 2.06-.94-2.06-.94-.94-2.06-.94 2.06-2.06.94z\"/><path d=\"M17.41 7.96l-1.37-1.37c-.4-.4-.92-.59-1.43-.59-.52 0-1.04.2-1.43.59L10.3 9.45l-7.72 7.72c-.78.78-.78 2.05 0 2.83L4 21.41c.39.39.9.59 1.41.59.51 0 1.02-.2 1.41-.59l7.78-7.78 2.81-2.81c.8-.78.8-2.07 0-2.86zM5.41 20L4 18.59l7.72-7.72 1.47 1.35L5.41 20z\"/>\n",
              "  </svg>\n",
              "      </button>\n",
              "      \n",
              "  <style>\n",
              "    .colab-df-container {\n",
              "      display:flex;\n",
              "      flex-wrap:wrap;\n",
              "      gap: 12px;\n",
              "    }\n",
              "\n",
              "    .colab-df-convert {\n",
              "      background-color: #E8F0FE;\n",
              "      border: none;\n",
              "      border-radius: 50%;\n",
              "      cursor: pointer;\n",
              "      display: none;\n",
              "      fill: #1967D2;\n",
              "      height: 32px;\n",
              "      padding: 0 0 0 0;\n",
              "      width: 32px;\n",
              "    }\n",
              "\n",
              "    .colab-df-convert:hover {\n",
              "      background-color: #E2EBFA;\n",
              "      box-shadow: 0px 1px 2px rgba(60, 64, 67, 0.3), 0px 1px 3px 1px rgba(60, 64, 67, 0.15);\n",
              "      fill: #174EA6;\n",
              "    }\n",
              "\n",
              "    [theme=dark] .colab-df-convert {\n",
              "      background-color: #3B4455;\n",
              "      fill: #D2E3FC;\n",
              "    }\n",
              "\n",
              "    [theme=dark] .colab-df-convert:hover {\n",
              "      background-color: #434B5C;\n",
              "      box-shadow: 0px 1px 3px 1px rgba(0, 0, 0, 0.15);\n",
              "      filter: drop-shadow(0px 1px 2px rgba(0, 0, 0, 0.3));\n",
              "      fill: #FFFFFF;\n",
              "    }\n",
              "  </style>\n",
              "\n",
              "      <script>\n",
              "        const buttonEl =\n",
              "          document.querySelector('#df-5788c007-5f2d-4dfe-9c2c-f08116f98d20 button.colab-df-convert');\n",
              "        buttonEl.style.display =\n",
              "          google.colab.kernel.accessAllowed ? 'block' : 'none';\n",
              "\n",
              "        async function convertToInteractive(key) {\n",
              "          const element = document.querySelector('#df-5788c007-5f2d-4dfe-9c2c-f08116f98d20');\n",
              "          const dataTable =\n",
              "            await google.colab.kernel.invokeFunction('convertToInteractive',\n",
              "                                                     [key], {});\n",
              "          if (!dataTable) return;\n",
              "\n",
              "          const docLinkHtml = 'Like what you see? Visit the ' +\n",
              "            '<a target=\"_blank\" href=https://colab.research.google.com/notebooks/data_table.ipynb>data table notebook</a>'\n",
              "            + ' to learn more about interactive tables.';\n",
              "          element.innerHTML = '';\n",
              "          dataTable['output_type'] = 'display_data';\n",
              "          await google.colab.output.renderOutput(dataTable, element);\n",
              "          const docLink = document.createElement('div');\n",
              "          docLink.innerHTML = docLinkHtml;\n",
              "          element.appendChild(docLink);\n",
              "        }\n",
              "      </script>\n",
              "    </div>\n",
              "  </div>\n",
              "  "
            ]
          },
          "metadata": {},
          "execution_count": 39
        }
      ],
      "source": [
        "money[\"delta_calls\"] = money[\"sum_calls_min\"] - money[\"calls_limit\"] #сверхтарифное использование для звонков\n",
        "money[\"delta_sms\"] = money[\"sms\"] - money[\"sms_limit\"] #для смс\n",
        "money[\"delta_mb\"] = money[\"mb_used\"] - money[\"mb_limit\"] #для интернета\n",
        "money.tail(10) #последние 10 строк"
      ]
    },
    {
      "cell_type": "markdown",
      "metadata": {
        "id": "QnVuzW8s6uIK"
      },
      "source": [
        "Отрицательные значения обозначают то, что входящие в тариф лимиты не были исчерпаны, теперь перейдем к подсчету денежных средств для пользователя."
      ]
    },
    {
      "cell_type": "code",
      "execution_count": 40,
      "metadata": {
        "id": "O4YU9eaI6uIL"
      },
      "outputs": [],
      "source": [
        "def total_price(row): #фунция для подсчета деньжат\n",
        "    calls_price = 0\n",
        "    sms_price = 0\n",
        "    internet_price = 0 \n",
        "    if row[\"delta_calls\"] > 0: #если все не израсходовано, то просто используется цена тарифа за месяц\n",
        "        calls_price = row[\"delta_calls\"] * row[\"rub_per_minute\"]\n",
        "    if row[\"delta_sms\"] > 0:\n",
        "        sms_price = row[\"delta_sms\"] * row[\"rub_per_message\"]\n",
        "    if row[\"delta_mb\"] > 0:\n",
        "        internet_price = (row[\"delta_mb\"] / 1024) * row[\"rub_per_gb\"] \n",
        "    return (calls_price + sms_price + internet_price)\n",
        " "
      ]
    },
    {
      "cell_type": "code",
      "execution_count": 41,
      "metadata": {
        "id": "qQGf5Ejb6uIM"
      },
      "outputs": [],
      "source": [
        "money[\"price_total\"] = money.apply(total_price, axis = 1) #применяем функцию для всех строк\n",
        "money[\"price_total\"] = money[\"price_total\"] + money[\"rub_monthly_fee\"] #считаем сумму необходимую для оплаты"
      ]
    },
    {
      "cell_type": "markdown",
      "metadata": {
        "id": "3hDcBRN16uIN"
      },
      "source": [
        "## Анализ данных"
      ]
    },
    {
      "cell_type": "code",
      "execution_count": 42,
      "metadata": {
        "id": "7mSYy8206uIN"
      },
      "outputs": [],
      "source": [
        "#создадим сводную таблицу, со всеми тарифами, и медианой, средним, дисперсия, среднее отклонение"
      ]
    },
    {
      "cell_type": "code",
      "execution_count": 43,
      "metadata": {
        "colab": {
          "base_uri": "https://localhost:8080/",
          "height": 217
        },
        "id": "7JG4BriM6uIN",
        "outputId": "324596c4-0cc2-4b6d-af8b-3c4cc8f941ba"
      },
      "outputs": [
        {
          "output_type": "execute_result",
          "data": {
            "text/plain": [
              "        median                                    mean                    \\\n",
              "       mb_used price_total sms sum_calls_min   mb_used price_total   sms   \n",
              "tariff                                                                     \n",
              "smart    16531      959.90  28           422 16,229.19    1,233.35 33.38   \n",
              "ultra    19324    1,950.00  38           518 19,486.90    2,060.53 49.36   \n",
              "\n",
              "                                var                                     \\\n",
              "       sum_calls_min        mb_used price_total      sms sum_calls_min   \n",
              "tariff                                                                   \n",
              "smart         417.93  34,545,911.13  620,452.61   796.81     36,219.32   \n",
              "ultra         526.62 101,935,621.05  126,953.29 2,285.27    100,873.63   \n",
              "\n",
              "             std                                  \n",
              "         mb_used price_total   sms sum_calls_min  \n",
              "tariff                                            \n",
              "smart   5,877.58      787.69 28.23        190.31  \n",
              "ultra  10,096.32      356.31 47.80        317.61  "
            ],
            "text/html": [
              "\n",
              "  <div id=\"df-dd5f6def-c1ea-44e8-a663-d7d3dfef35a9\">\n",
              "    <div class=\"colab-df-container\">\n",
              "      <div>\n",
              "<style scoped>\n",
              "    .dataframe tbody tr th:only-of-type {\n",
              "        vertical-align: middle;\n",
              "    }\n",
              "\n",
              "    .dataframe tbody tr th {\n",
              "        vertical-align: top;\n",
              "    }\n",
              "\n",
              "    .dataframe thead tr th {\n",
              "        text-align: left;\n",
              "    }\n",
              "\n",
              "    .dataframe thead tr:last-of-type th {\n",
              "        text-align: right;\n",
              "    }\n",
              "</style>\n",
              "<table border=\"1\" class=\"dataframe\">\n",
              "  <thead>\n",
              "    <tr>\n",
              "      <th></th>\n",
              "      <th colspan=\"4\" halign=\"left\">median</th>\n",
              "      <th colspan=\"4\" halign=\"left\">mean</th>\n",
              "      <th colspan=\"4\" halign=\"left\">var</th>\n",
              "      <th colspan=\"4\" halign=\"left\">std</th>\n",
              "    </tr>\n",
              "    <tr>\n",
              "      <th></th>\n",
              "      <th>mb_used</th>\n",
              "      <th>price_total</th>\n",
              "      <th>sms</th>\n",
              "      <th>sum_calls_min</th>\n",
              "      <th>mb_used</th>\n",
              "      <th>price_total</th>\n",
              "      <th>sms</th>\n",
              "      <th>sum_calls_min</th>\n",
              "      <th>mb_used</th>\n",
              "      <th>price_total</th>\n",
              "      <th>sms</th>\n",
              "      <th>sum_calls_min</th>\n",
              "      <th>mb_used</th>\n",
              "      <th>price_total</th>\n",
              "      <th>sms</th>\n",
              "      <th>sum_calls_min</th>\n",
              "    </tr>\n",
              "    <tr>\n",
              "      <th>tariff</th>\n",
              "      <th></th>\n",
              "      <th></th>\n",
              "      <th></th>\n",
              "      <th></th>\n",
              "      <th></th>\n",
              "      <th></th>\n",
              "      <th></th>\n",
              "      <th></th>\n",
              "      <th></th>\n",
              "      <th></th>\n",
              "      <th></th>\n",
              "      <th></th>\n",
              "      <th></th>\n",
              "      <th></th>\n",
              "      <th></th>\n",
              "      <th></th>\n",
              "    </tr>\n",
              "  </thead>\n",
              "  <tbody>\n",
              "    <tr>\n",
              "      <th>smart</th>\n",
              "      <td>16531</td>\n",
              "      <td>959.90</td>\n",
              "      <td>28</td>\n",
              "      <td>422</td>\n",
              "      <td>16,229.19</td>\n",
              "      <td>1,233.35</td>\n",
              "      <td>33.38</td>\n",
              "      <td>417.93</td>\n",
              "      <td>34,545,911.13</td>\n",
              "      <td>620,452.61</td>\n",
              "      <td>796.81</td>\n",
              "      <td>36,219.32</td>\n",
              "      <td>5,877.58</td>\n",
              "      <td>787.69</td>\n",
              "      <td>28.23</td>\n",
              "      <td>190.31</td>\n",
              "    </tr>\n",
              "    <tr>\n",
              "      <th>ultra</th>\n",
              "      <td>19324</td>\n",
              "      <td>1,950.00</td>\n",
              "      <td>38</td>\n",
              "      <td>518</td>\n",
              "      <td>19,486.90</td>\n",
              "      <td>2,060.53</td>\n",
              "      <td>49.36</td>\n",
              "      <td>526.62</td>\n",
              "      <td>101,935,621.05</td>\n",
              "      <td>126,953.29</td>\n",
              "      <td>2,285.27</td>\n",
              "      <td>100,873.63</td>\n",
              "      <td>10,096.32</td>\n",
              "      <td>356.31</td>\n",
              "      <td>47.80</td>\n",
              "      <td>317.61</td>\n",
              "    </tr>\n",
              "  </tbody>\n",
              "</table>\n",
              "</div>\n",
              "      <button class=\"colab-df-convert\" onclick=\"convertToInteractive('df-dd5f6def-c1ea-44e8-a663-d7d3dfef35a9')\"\n",
              "              title=\"Convert this dataframe to an interactive table.\"\n",
              "              style=\"display:none;\">\n",
              "        \n",
              "  <svg xmlns=\"http://www.w3.org/2000/svg\" height=\"24px\"viewBox=\"0 0 24 24\"\n",
              "       width=\"24px\">\n",
              "    <path d=\"M0 0h24v24H0V0z\" fill=\"none\"/>\n",
              "    <path d=\"M18.56 5.44l.94 2.06.94-2.06 2.06-.94-2.06-.94-.94-2.06-.94 2.06-2.06.94zm-11 1L8.5 8.5l.94-2.06 2.06-.94-2.06-.94L8.5 2.5l-.94 2.06-2.06.94zm10 10l.94 2.06.94-2.06 2.06-.94-2.06-.94-.94-2.06-.94 2.06-2.06.94z\"/><path d=\"M17.41 7.96l-1.37-1.37c-.4-.4-.92-.59-1.43-.59-.52 0-1.04.2-1.43.59L10.3 9.45l-7.72 7.72c-.78.78-.78 2.05 0 2.83L4 21.41c.39.39.9.59 1.41.59.51 0 1.02-.2 1.41-.59l7.78-7.78 2.81-2.81c.8-.78.8-2.07 0-2.86zM5.41 20L4 18.59l7.72-7.72 1.47 1.35L5.41 20z\"/>\n",
              "  </svg>\n",
              "      </button>\n",
              "      \n",
              "  <style>\n",
              "    .colab-df-container {\n",
              "      display:flex;\n",
              "      flex-wrap:wrap;\n",
              "      gap: 12px;\n",
              "    }\n",
              "\n",
              "    .colab-df-convert {\n",
              "      background-color: #E8F0FE;\n",
              "      border: none;\n",
              "      border-radius: 50%;\n",
              "      cursor: pointer;\n",
              "      display: none;\n",
              "      fill: #1967D2;\n",
              "      height: 32px;\n",
              "      padding: 0 0 0 0;\n",
              "      width: 32px;\n",
              "    }\n",
              "\n",
              "    .colab-df-convert:hover {\n",
              "      background-color: #E2EBFA;\n",
              "      box-shadow: 0px 1px 2px rgba(60, 64, 67, 0.3), 0px 1px 3px 1px rgba(60, 64, 67, 0.15);\n",
              "      fill: #174EA6;\n",
              "    }\n",
              "\n",
              "    [theme=dark] .colab-df-convert {\n",
              "      background-color: #3B4455;\n",
              "      fill: #D2E3FC;\n",
              "    }\n",
              "\n",
              "    [theme=dark] .colab-df-convert:hover {\n",
              "      background-color: #434B5C;\n",
              "      box-shadow: 0px 1px 3px 1px rgba(0, 0, 0, 0.15);\n",
              "      filter: drop-shadow(0px 1px 2px rgba(0, 0, 0, 0.3));\n",
              "      fill: #FFFFFF;\n",
              "    }\n",
              "  </style>\n",
              "\n",
              "      <script>\n",
              "        const buttonEl =\n",
              "          document.querySelector('#df-dd5f6def-c1ea-44e8-a663-d7d3dfef35a9 button.colab-df-convert');\n",
              "        buttonEl.style.display =\n",
              "          google.colab.kernel.accessAllowed ? 'block' : 'none';\n",
              "\n",
              "        async function convertToInteractive(key) {\n",
              "          const element = document.querySelector('#df-dd5f6def-c1ea-44e8-a663-d7d3dfef35a9');\n",
              "          const dataTable =\n",
              "            await google.colab.kernel.invokeFunction('convertToInteractive',\n",
              "                                                     [key], {});\n",
              "          if (!dataTable) return;\n",
              "\n",
              "          const docLinkHtml = 'Like what you see? Visit the ' +\n",
              "            '<a target=\"_blank\" href=https://colab.research.google.com/notebooks/data_table.ipynb>data table notebook</a>'\n",
              "            + ' to learn more about interactive tables.';\n",
              "          element.innerHTML = '';\n",
              "          dataTable['output_type'] = 'display_data';\n",
              "          await google.colab.output.renderOutput(dataTable, element);\n",
              "          const docLink = document.createElement('div');\n",
              "          docLink.innerHTML = docLinkHtml;\n",
              "          element.appendChild(docLink);\n",
              "        }\n",
              "      </script>\n",
              "    </div>\n",
              "  </div>\n",
              "  "
            ]
          },
          "metadata": {},
          "execution_count": 43
        }
      ],
      "source": [
        "analis_tariff_pivot = money.pivot_table(index = \"tariff\", values = [\"mb_used\", \"sms\", \"sum_calls_min\", \"price_total\"], aggfunc = [\"median\",\"mean\",'var','std'])\n",
        "analis_tariff_pivot #сводная таблица со значениями"
      ]
    },
    {
      "cell_type": "code",
      "execution_count": 44,
      "metadata": {
        "colab": {
          "base_uri": "https://localhost:8080/",
          "height": 1000
        },
        "id": "LMr5zTd36uIO",
        "outputId": "ff7b7a79-7658-4646-db3a-87553f666dd1"
      },
      "outputs": [
        {
          "output_type": "display_data",
          "data": {
            "text/plain": [
              "<Figure size 720x360 with 1 Axes>"
            ],
            "image/png": "[encoded data removed]"
          },
          "metadata": {
            "needs_background": "light"
          }
        },
        {
          "output_type": "stream",
          "name": "stdout",
          "text": [
            "Среднее для ультра: 19486.90152284264\n",
            "Среднее для смарта: 16229.188425302826\n",
            "Медиана для ультра: 19324.0\n",
            "Медиана для смарта: 16531.0\n",
            "Дисперсия для ультра: 101935621.04821922\n",
            "Дисперсия для смарта: 34545911.12695752\n",
            "Стандартное отклонение для ультра: 10096.317202238608\n",
            "Стандартное отклонение для смарта: 5877.576977544192\n"
          ]
        },
        {
          "output_type": "display_data",
          "data": {
            "text/plain": [
              "<Figure size 720x360 with 1 Axes>"
            ],
            "image/png": "[encoded data removed]"
          },
          "metadata": {
            "needs_background": "light"
          }
        },
        {
          "output_type": "stream",
          "name": "stdout",
          "text": [
            "Среднее для ультра: 49.36345177664975\n",
            "Среднее для смарта: 33.384028712427096\n",
            "Медиана для ультра: 38.0\n",
            "Медиана для смарта: 28.0\n",
            "Дисперсия для ультра: 2285.2661425446736\n",
            "Дисперсия для смарта: 796.8129584480083\n",
            "Стандартное отклонение для ультра: 47.804457350174715\n",
            "Стандартное отклонение для смарта: 28.22787555676141\n"
          ]
        },
        {
          "output_type": "display_data",
          "data": {
            "text/plain": [
              "<Figure size 720x360 with 1 Axes>"
            ],
            "image/png": "[encoded data removed]"
          },
          "metadata": {
            "needs_background": "light"
          }
        },
        {
          "output_type": "stream",
          "name": "stdout",
          "text": [
            "Среднее для ультра: 526.6233502538071\n",
            "Среднее для смарта: 417.9349484073576\n",
            "Медиана для ультра: 518.0\n",
            "Медиана для смарта: 422.0\n",
            "Дисперсия для ультра: 100873.63339730098\n",
            "Дисперсия для смарта: 36219.31578434428\n",
            "Стандартное отклонение для ультра: 317.6060978591264\n",
            "Стандартное отклонение для смарта: 190.31372988921288\n"
          ]
        },
        {
          "output_type": "display_data",
          "data": {
            "text/plain": [
              "<Figure size 720x360 with 1 Axes>"
            ],
            "image/png": "[encoded data removed]"
          },
          "metadata": {
            "needs_background": "light"
          }
        },
        {
          "output_type": "stream",
          "name": "stdout",
          "text": [
            "Среднее для ультра: 2060.5299710501267\n",
            "Среднее для смарта: 1233.3494665489009\n",
            "Медиана для ультра: 1950.0\n",
            "Медиана для смарта: 959.8984375\n",
            "Дисперсия для ультра: 126953.28545993957\n",
            "Дисперсия для смарта: 620452.6075337975\n",
            "Стандартное отклонение для ультра: 356.3050455156923\n",
            "Стандартное отклонение для смарта: 787.6881410392043\n"
          ]
        }
      ],
      "source": [
        "analis_tariff_ultra = money.query('tariff == \"ultra\"') #срез по первому тарифу\n",
        "analis_tariff_smart = money.query('tariff == \"smart\"') #срез по другому тарифу\n",
        "columns = [\"mb_used\", \"sms\", \"sum_calls_min\", \"price_total\"]\n",
        "for i in columns:\n",
        "    analis_tariff_ultra[i].plot(kind = 'hist',bins = 30,label = 'ultra', figsize = (10,5))\n",
        "    analis_tariff_smart[i].plot(kind = \"hist\", bins = 30, label = \"smart\", figsize = (10,5), alpha = 0.7) \n",
        "    plt.title(i) #подписываем графики\n",
        "    plt.legend() #подписываем каждое распределение\n",
        "    plt.show() #показать\n",
        "    print(\"Среднее для ультра:\", analis_tariff_ultra[i].mean())\n",
        "    print(\"Среднее для смарта:\", analis_tariff_smart[i].mean())\n",
        "    print(\"Медиана для ультра:\", analis_tariff_ultra[i].median())\n",
        "    print(\"Медиана для смарта:\", analis_tariff_smart[i].median())\n",
        "    print(\"Дисперсия для ультра:\", analis_tariff_ultra[i].var())\n",
        "    print(\"Дисперсия для смарта:\", analis_tariff_smart[i].var())\n",
        "    print(\"Стандартное отклонение для ультра:\", analis_tariff_ultra[i].std())\n",
        "    print(\"Стандартное отклонение для смарта:\", analis_tariff_smart[i].std())"
      ]
    },
    {
      "cell_type": "markdown",
      "metadata": {
        "id": "PGJPKx716uIO"
      },
      "source": [
        "* Вывод\n",
        "* По количеству израсходованного трафика можно сделать вывод, что среднее значение использованного трафика у смарт и ультра отличаются, у смарта график склоняется левее, чем у смарта. Что позволяет сделать вывод, что использование трафика в ультре больше чем в смарте.\n",
        "* По количеству sms :есть люди которые не пользуются ими вовсе, они занимают значительную часть выборки. Ситуация аналогична, значения в среднем находятся левее у смарта, в отличии от ультры, следовательно используют смс чаще.\n",
        "* По звонкам аналогично, скос в лево во стороны смарта\n",
        "* по цене явный скок, но это логично, ведь начальная цена смарта явно выше ультры.\n",
        "* Стоит отметить, что у пользователей смарта всегда используется больше базового количества трафика. Среднее, медиана доказывают, что пользователи смарта зачастую не расходуют весь пакет по смс и звонкам.\n",
        "* Для тарифа ультра: Практически все пользователи используют полностью пакет интернета, сообщения их совершенно не интересуют,звонки израсходуются не все. "
      ]
    },
    {
      "cell_type": "markdown",
      "metadata": {
        "id": "O6V38XS46uIP"
      },
      "source": [
        "## Проверка гипотез"
      ]
    },
    {
      "cell_type": "markdown",
      "metadata": {
        "id": "Z8Re6aBw6uIP"
      },
      "source": [
        "* средняя выручка пользователей тарифов «Ультра» и «Смарт» различаются;\n",
        "* средняя выручка пользователей из Москвы отличается от выручки пользователей из других регионов."
      ]
    },
    {
      "cell_type": "markdown",
      "metadata": {
        "id": "Qtj3ilww6uIP"
      },
      "source": [
        "### Проверка гипотезы 1\n",
        "* средняя выручка пользователей тарифов «Ультра» и «Смарт» различаются - нулевая гипотеза\n",
        "* средняя выручка пользователей тарифов «Ультра» и «Смарт» равны - альтернативная"
      ]
    },
    {
      "cell_type": "code",
      "execution_count": 45,
      "metadata": {
        "colab": {
          "base_uri": "https://localhost:8080/"
        },
        "id": "HMsKp6Ir6uIP",
        "outputId": "e9fb5720-be08-45a4-a4ef-d19620700270"
      },
      "outputs": [
        {
          "output_type": "stream",
          "name": "stdout",
          "text": [
            "Значение pvalue для двух выборк: 1.172655564462924e-190\n"
          ]
        }
      ],
      "source": [
        "alpha = 0.01\n",
        "money_smart = money.query('tariff == \"smart\"')[\"price_total\"]\n",
        "money_ultra = money.query('tariff == \"ultra\"')[\"price_total\"]\n",
        "print(\"Значение pvalue для двух выборк:\", st.stats.ttest_ind(money_smart, money_ultra).pvalue)"
      ]
    },
    {
      "cell_type": "markdown",
      "metadata": {
        "id": "FiBOm1336uIQ"
      },
      "source": [
        "Так как значение крайне мало, следовательно, мы отвергаем альтернативную гипотезу, подтверждая нулевую гипотезу."
      ]
    },
    {
      "cell_type": "code",
      "execution_count": 46,
      "metadata": {
        "colab": {
          "base_uri": "https://localhost:8080/",
          "height": 354
        },
        "id": "kxBUFhde6uIQ",
        "outputId": "9ae2ee2c-1cb5-455e-f495-93b642fb8470"
      },
      "outputs": [
        {
          "output_type": "stream",
          "name": "stdout",
          "text": [
            "Дисперсия для смарта: 620174.2528422166\n",
            "Дисперсия для утра: 126824.39887571629\n"
          ]
        },
        {
          "output_type": "display_data",
          "data": {
            "text/plain": [
              "<Figure size 720x360 with 1 Axes>"
            ],
            "image/png": "[encoded data removed]"
          },
          "metadata": {
            "needs_background": "light"
          }
        }
      ],
      "source": [
        "money.query('tariff == \"smart\"')[\"price_total\"].plot(kind = \"hist\", bins = 30 ,label = 'smart', figsize = (10,5))\n",
        "money.query('tariff == \"ultra\"')[\"price_total\"].plot(kind = \"hist\", bins = 30 ,label = 'ultra', figsize = (10,5))\n",
        "plt.legend() \n",
        "print(\"Дисперсия для смарта:\",np.var(money_smart)) \n",
        "print(\"Дисперсия для утра:\",np.var(money_ultra))"
      ]
    },
    {
      "cell_type": "markdown",
      "metadata": {
        "id": "hcu-OqAQ6uIQ"
      },
      "source": [
        "Диаграмма и дисперсия подверждают, что средняя выручка различается. "
      ]
    },
    {
      "cell_type": "markdown",
      "metadata": {
        "id": "vtZ7BC0r6uIR"
      },
      "source": [
        "### Проверка гипотезы 2"
      ]
    },
    {
      "cell_type": "markdown",
      "metadata": {
        "id": "l8U1ekko6uIR"
      },
      "source": [
        "* средняя выручка пользователей из Москвы отличается от выручки пользователей из других регионов - нулевая гипотеза \n",
        "* средняя выручка пользователей из Москвы равна выручке пользователей из других регионов - альтернативная гипотеза"
      ]
    },
    {
      "cell_type": "code",
      "execution_count": 47,
      "metadata": {
        "colab": {
          "base_uri": "https://localhost:8080/"
        },
        "id": "1zPkFGy-6uIR",
        "outputId": "01776e7e-6dd8-48b2-f345-13058e290d08"
      },
      "outputs": [
        {
          "output_type": "stream",
          "name": "stdout",
          "text": [
            "Значение pvalue для двух выборк: 0.47443187631524797\n"
          ]
        }
      ],
      "source": [
        "alpha = 0.01\n",
        "money_msk = money.query('city == \"Москва\"')[\"price_total\"]\n",
        "money_not_msk = money.query('city != \"Москва\"')[\"price_total\"]\n",
        "print(\"Значение pvalue для двух выборк:\", st.stats.ttest_ind(money_msk, money_not_msk).pvalue)"
      ]
    },
    {
      "cell_type": "markdown",
      "metadata": {
        "id": "F9TkydZT6uIS"
      },
      "source": [
        "Значение p-величины больше 10%, cледовательно альтернативная гипотеза верна, а нулевую гипотезу отвергнуть не можем."
      ]
    },
    {
      "cell_type": "code",
      "execution_count": 48,
      "metadata": {
        "colab": {
          "base_uri": "https://localhost:8080/"
        },
        "id": "Yi2P7iQZ6uIS",
        "outputId": "141ae8ff-142c-4f5b-a291-32d8e6153803"
      },
      "outputs": [
        {
          "output_type": "stream",
          "name": "stdout",
          "text": [
            "Дисперсия для Москвы: 546347.0989109281\n",
            "Дисперсия для отстальных городов: 630261.63263902\n"
          ]
        }
      ],
      "source": [
        "print(\"Дисперсия для Москвы:\",np.var(money_msk)) \n",
        "print(\"Дисперсия для отстальных городов:\",np.var(money_not_msk))"
      ]
    },
    {
      "cell_type": "markdown",
      "metadata": {
        "id": "vaPNqmB46uIS"
      },
      "source": [
        "Мера разброса в обоих случаях - велика, как и вероятность нулевой гипотезы, следовательно снова нулевую гипотезу отвергнуть мы не сможем."
      ]
    },
    {
      "cell_type": "markdown",
      "metadata": {
        "id": "RmwcbHys6uIT"
      },
      "source": [
        "## Общий вывод"
      ]
    },
    {
      "cell_type": "markdown",
      "metadata": {
        "id": "Yoztk8zG6uIT"
      },
      "source": [
        "Таким образом, в рамках проекта:\n",
        "* Были исследованы датасеты\n",
        "* Проведен их анализ\n",
        "* Заполнены пропуски\n",
        "* Изменены типы переменных\n",
        "* Построена сортировка различных показателей по месяцам\n",
        "* Посчитана выручка с каждого пользователя\n",
        "* Сделан вывод, что пользователи двух тарифов чаще всего не расходуют полностью смс и звонки. Пользователи смарта чаще всего доплачивают за интернет. График для смарта всегда склонен влево, а это обозначает меньшие показатели, чем у ультры\n",
        "* Была подверждена гипотеза - средняя выручка пользователей тарифов «Ультра» и «Смарт» различаются.\n",
        "* Была подверждена гипотеза - средняя выручка пользователей из Москвы отличается от выручки пользователей из других регионов."
      ]
    },
    {
      "cell_type": "code",
      "execution_count": 48,
      "metadata": {
        "id": "CnM0ITR86uIU"
      },
      "outputs": [],
      "source": []
    }
  ],
  "metadata": {
    "ExecuteTimeLog": [
      {
        "duration": 83,
        "start_time": "2022-02-08T04:09:20.537Z"
      },
      {
        "duration": 626,
        "start_time": "2022-02-08T04:13:49.312Z"
      },
      {
        "duration": 525,
        "start_time": "2022-02-08T04:21:49.775Z"
      },
      {
        "duration": 165,
        "start_time": "2022-02-08T04:22:53.720Z"
      },
      {
        "duration": 175,
        "start_time": "2022-02-08T04:23:02.243Z"
      },
      {
        "duration": 437,
        "start_time": "2022-02-08T04:25:03.539Z"
      },
      {
        "duration": 424,
        "start_time": "2022-02-08T04:27:30.115Z"
      },
      {
        "duration": 14,
        "start_time": "2022-02-08T04:30:24.945Z"
      },
      {
        "duration": 3,
        "start_time": "2022-02-08T04:31:16.241Z"
      },
      {
        "duration": 330,
        "start_time": "2022-02-10T14:16:10.264Z"
      },
      {
        "duration": 996,
        "start_time": "2022-02-10T14:16:16.346Z"
      },
      {
        "duration": 337,
        "start_time": "2022-02-10T14:16:17.344Z"
      },
      {
        "duration": 18,
        "start_time": "2022-02-10T14:16:17.683Z"
      },
      {
        "duration": 20,
        "start_time": "2022-02-10T14:16:48.280Z"
      },
      {
        "duration": 18,
        "start_time": "2022-02-10T14:17:00.080Z"
      },
      {
        "duration": 26,
        "start_time": "2022-02-10T14:17:08.909Z"
      },
      {
        "duration": 348,
        "start_time": "2022-02-10T14:18:16.087Z"
      },
      {
        "duration": 16,
        "start_time": "2022-02-10T14:18:22.035Z"
      },
      {
        "duration": 21,
        "start_time": "2022-02-10T14:18:31.434Z"
      },
      {
        "duration": 6,
        "start_time": "2022-02-10T14:27:31.800Z"
      },
      {
        "duration": 10,
        "start_time": "2022-02-10T14:27:47.194Z"
      },
      {
        "duration": 8,
        "start_time": "2022-02-10T14:28:07.462Z"
      },
      {
        "duration": 10,
        "start_time": "2022-02-10T14:28:20.919Z"
      },
      {
        "duration": 3,
        "start_time": "2022-02-10T14:43:29.623Z"
      },
      {
        "duration": 20,
        "start_time": "2022-02-10T14:47:48.223Z"
      },
      {
        "duration": 18,
        "start_time": "2022-02-10T14:47:54.783Z"
      },
      {
        "duration": 2,
        "start_time": "2022-02-10T14:50:16.897Z"
      },
      {
        "duration": 315,
        "start_time": "2022-02-10T14:51:30.729Z"
      },
      {
        "duration": 5,
        "start_time": "2022-02-10T14:51:40.976Z"
      },
      {
        "duration": 14,
        "start_time": "2022-02-10T14:52:01.267Z"
      },
      {
        "duration": 12,
        "start_time": "2022-02-10T14:52:15.555Z"
      },
      {
        "duration": 12,
        "start_time": "2022-02-10T14:52:54.770Z"
      },
      {
        "duration": 3,
        "start_time": "2022-02-10T15:02:18.926Z"
      },
      {
        "duration": 26,
        "start_time": "2022-02-10T15:06:37.737Z"
      },
      {
        "duration": 261,
        "start_time": "2022-02-11T05:12:40.035Z"
      },
      {
        "duration": 1070,
        "start_time": "2022-02-11T05:12:46.109Z"
      },
      {
        "duration": 369,
        "start_time": "2022-02-11T05:12:47.181Z"
      },
      {
        "duration": 29,
        "start_time": "2022-02-11T05:12:47.552Z"
      },
      {
        "duration": 22,
        "start_time": "2022-02-11T05:12:47.583Z"
      },
      {
        "duration": 15,
        "start_time": "2022-02-11T05:12:47.607Z"
      },
      {
        "duration": 21,
        "start_time": "2022-02-11T05:12:47.623Z"
      },
      {
        "duration": 12,
        "start_time": "2022-02-11T05:12:47.645Z"
      },
      {
        "duration": 25,
        "start_time": "2022-02-11T05:12:47.659Z"
      },
      {
        "duration": 108,
        "start_time": "2022-02-11T05:12:47.713Z"
      },
      {
        "duration": 97,
        "start_time": "2022-02-11T05:12:53.393Z"
      },
      {
        "duration": 71,
        "start_time": "2022-02-11T05:13:00.761Z"
      },
      {
        "duration": 65,
        "start_time": "2022-02-11T05:22:37.899Z"
      },
      {
        "duration": 60,
        "start_time": "2022-02-11T05:22:43.604Z"
      },
      {
        "duration": 76,
        "start_time": "2022-02-11T05:23:06.268Z"
      },
      {
        "duration": 64,
        "start_time": "2022-02-11T05:23:36.342Z"
      },
      {
        "duration": 68,
        "start_time": "2022-02-11T05:23:41.885Z"
      },
      {
        "duration": 257,
        "start_time": "2022-02-11T05:23:50.893Z"
      },
      {
        "duration": 190,
        "start_time": "2022-02-11T05:24:01.061Z"
      },
      {
        "duration": 4686,
        "start_time": "2022-02-11T05:24:23.086Z"
      },
      {
        "duration": 4594,
        "start_time": "2022-02-11T05:24:58.471Z"
      },
      {
        "duration": 195,
        "start_time": "2022-02-11T05:25:08.143Z"
      },
      {
        "duration": 196,
        "start_time": "2022-02-11T05:25:16.375Z"
      },
      {
        "duration": 4646,
        "start_time": "2022-02-11T05:26:17.160Z"
      },
      {
        "duration": 4892,
        "start_time": "2022-02-11T05:26:37.249Z"
      },
      {
        "duration": 390,
        "start_time": "2022-02-11T05:27:15.513Z"
      },
      {
        "duration": 281,
        "start_time": "2022-02-11T05:27:25.169Z"
      },
      {
        "duration": 261,
        "start_time": "2022-02-11T19:21:10.592Z"
      },
      {
        "duration": 4791,
        "start_time": "2022-02-11T19:21:23.751Z"
      },
      {
        "duration": 66,
        "start_time": "2022-02-11T19:21:52.221Z"
      },
      {
        "duration": 80,
        "start_time": "2022-02-11T19:22:12.523Z"
      },
      {
        "duration": 72,
        "start_time": "2022-02-11T19:22:33.509Z"
      },
      {
        "duration": 71,
        "start_time": "2022-02-11T19:22:51.157Z"
      },
      {
        "duration": 65,
        "start_time": "2022-02-11T19:22:54.596Z"
      },
      {
        "duration": 72,
        "start_time": "2022-02-11T19:23:11.037Z"
      },
      {
        "duration": 103,
        "start_time": "2022-02-11T19:24:30.558Z"
      },
      {
        "duration": 101,
        "start_time": "2022-02-11T19:24:48.382Z"
      },
      {
        "duration": 209,
        "start_time": "2022-02-11T19:26:08.192Z"
      },
      {
        "duration": 191,
        "start_time": "2022-02-11T19:26:23.968Z"
      },
      {
        "duration": 1086,
        "start_time": "2022-02-11T19:27:31.769Z"
      },
      {
        "duration": 181,
        "start_time": "2022-02-11T19:28:07.770Z"
      },
      {
        "duration": 153,
        "start_time": "2022-02-11T19:28:28.234Z"
      },
      {
        "duration": 16,
        "start_time": "2022-02-11T19:29:58.388Z"
      },
      {
        "duration": 21,
        "start_time": "2022-02-11T19:33:16.063Z"
      },
      {
        "duration": 26,
        "start_time": "2022-02-11T19:33:28.520Z"
      },
      {
        "duration": 21,
        "start_time": "2022-02-11T19:39:32.014Z"
      },
      {
        "duration": 8,
        "start_time": "2022-02-11T19:39:44.662Z"
      },
      {
        "duration": 187,
        "start_time": "2022-02-11T19:43:37.521Z"
      },
      {
        "duration": 196,
        "start_time": "2022-02-11T19:43:47.691Z"
      },
      {
        "duration": 25,
        "start_time": "2022-02-11T19:43:55.322Z"
      },
      {
        "duration": 10,
        "start_time": "2022-02-11T19:44:28.483Z"
      },
      {
        "duration": 10,
        "start_time": "2022-02-11T19:44:39.691Z"
      },
      {
        "duration": 218,
        "start_time": "2022-02-11T19:46:30.045Z"
      },
      {
        "duration": 208,
        "start_time": "2022-02-11T19:46:32.997Z"
      },
      {
        "duration": 9,
        "start_time": "2022-02-11T19:46:44.719Z"
      },
      {
        "duration": 10,
        "start_time": "2022-02-11T19:46:51.198Z"
      },
      {
        "duration": 14,
        "start_time": "2022-02-11T19:49:45.232Z"
      },
      {
        "duration": 11,
        "start_time": "2022-02-11T19:49:49.433Z"
      },
      {
        "duration": 3,
        "start_time": "2022-02-11T19:50:03.047Z"
      },
      {
        "duration": 360,
        "start_time": "2022-02-11T19:50:03.052Z"
      },
      {
        "duration": 25,
        "start_time": "2022-02-11T19:50:03.414Z"
      },
      {
        "duration": 21,
        "start_time": "2022-02-11T19:50:03.441Z"
      },
      {
        "duration": 12,
        "start_time": "2022-02-11T19:50:03.463Z"
      },
      {
        "duration": 48,
        "start_time": "2022-02-11T19:50:03.477Z"
      },
      {
        "duration": 13,
        "start_time": "2022-02-11T19:50:03.527Z"
      },
      {
        "duration": 44,
        "start_time": "2022-02-11T19:50:03.542Z"
      },
      {
        "duration": 23,
        "start_time": "2022-02-11T19:50:03.589Z"
      },
      {
        "duration": 79,
        "start_time": "2022-02-11T19:50:03.615Z"
      },
      {
        "duration": 27,
        "start_time": "2022-02-11T19:50:03.695Z"
      },
      {
        "duration": 166,
        "start_time": "2022-02-11T19:50:03.723Z"
      },
      {
        "duration": 11,
        "start_time": "2022-02-11T19:50:03.891Z"
      },
      {
        "duration": 31,
        "start_time": "2022-02-11T19:50:03.904Z"
      },
      {
        "duration": 3,
        "start_time": "2022-02-11T19:50:39.571Z"
      },
      {
        "duration": 340,
        "start_time": "2022-02-11T19:50:39.576Z"
      },
      {
        "duration": 24,
        "start_time": "2022-02-11T19:50:39.918Z"
      },
      {
        "duration": 23,
        "start_time": "2022-02-11T19:50:39.944Z"
      },
      {
        "duration": 10,
        "start_time": "2022-02-11T19:50:39.968Z"
      },
      {
        "duration": 41,
        "start_time": "2022-02-11T19:50:39.979Z"
      },
      {
        "duration": 13,
        "start_time": "2022-02-11T19:50:40.022Z"
      },
      {
        "duration": 7,
        "start_time": "2022-02-11T19:50:40.037Z"
      },
      {
        "duration": 22,
        "start_time": "2022-02-11T19:50:40.046Z"
      },
      {
        "duration": 97,
        "start_time": "2022-02-11T19:50:40.069Z"
      },
      {
        "duration": 15,
        "start_time": "2022-02-11T19:50:40.167Z"
      },
      {
        "duration": 164,
        "start_time": "2022-02-11T19:50:40.183Z"
      },
      {
        "duration": 18,
        "start_time": "2022-02-11T19:50:40.348Z"
      },
      {
        "duration": 44,
        "start_time": "2022-02-11T19:50:40.368Z"
      },
      {
        "duration": 198,
        "start_time": "2022-02-11T19:50:46.601Z"
      },
      {
        "duration": 17,
        "start_time": "2022-02-11T19:50:50.691Z"
      },
      {
        "duration": 15,
        "start_time": "2022-02-11T19:51:11.313Z"
      },
      {
        "duration": 10,
        "start_time": "2022-02-11T19:51:14.202Z"
      },
      {
        "duration": 7,
        "start_time": "2022-02-11T19:54:02.165Z"
      },
      {
        "duration": 19,
        "start_time": "2022-02-11T19:57:14.328Z"
      },
      {
        "duration": 15,
        "start_time": "2022-02-11T19:57:24.712Z"
      },
      {
        "duration": 3,
        "start_time": "2022-02-11T19:58:34.847Z"
      },
      {
        "duration": 363,
        "start_time": "2022-02-11T19:58:34.852Z"
      },
      {
        "duration": 26,
        "start_time": "2022-02-11T19:58:35.217Z"
      },
      {
        "duration": 23,
        "start_time": "2022-02-11T19:58:35.245Z"
      },
      {
        "duration": 11,
        "start_time": "2022-02-11T19:58:35.270Z"
      },
      {
        "duration": 48,
        "start_time": "2022-02-11T19:58:35.283Z"
      },
      {
        "duration": 15,
        "start_time": "2022-02-11T19:58:35.333Z"
      },
      {
        "duration": 12,
        "start_time": "2022-02-11T19:58:35.350Z"
      },
      {
        "duration": 52,
        "start_time": "2022-02-11T19:58:35.364Z"
      },
      {
        "duration": 78,
        "start_time": "2022-02-11T19:58:35.419Z"
      },
      {
        "duration": 17,
        "start_time": "2022-02-11T19:58:35.511Z"
      },
      {
        "duration": 166,
        "start_time": "2022-02-11T19:58:35.530Z"
      },
      {
        "duration": 17,
        "start_time": "2022-02-11T19:58:35.697Z"
      },
      {
        "duration": 23,
        "start_time": "2022-02-11T19:58:35.715Z"
      },
      {
        "duration": 17,
        "start_time": "2022-02-11T19:58:35.740Z"
      },
      {
        "duration": 14,
        "start_time": "2022-02-11T19:58:35.758Z"
      },
      {
        "duration": 3,
        "start_time": "2022-02-11T19:58:42.489Z"
      },
      {
        "duration": 365,
        "start_time": "2022-02-11T19:58:42.494Z"
      },
      {
        "duration": 25,
        "start_time": "2022-02-11T19:58:42.860Z"
      },
      {
        "duration": 22,
        "start_time": "2022-02-11T19:58:42.887Z"
      },
      {
        "duration": 10,
        "start_time": "2022-02-11T19:58:42.910Z"
      },
      {
        "duration": 18,
        "start_time": "2022-02-11T19:58:42.921Z"
      },
      {
        "duration": 12,
        "start_time": "2022-02-11T19:58:42.940Z"
      },
      {
        "duration": 7,
        "start_time": "2022-02-11T19:58:42.954Z"
      },
      {
        "duration": 49,
        "start_time": "2022-02-11T19:58:42.963Z"
      },
      {
        "duration": 79,
        "start_time": "2022-02-11T19:58:43.014Z"
      },
      {
        "duration": 27,
        "start_time": "2022-02-11T19:58:43.095Z"
      },
      {
        "duration": 162,
        "start_time": "2022-02-11T19:58:43.123Z"
      },
      {
        "duration": 12,
        "start_time": "2022-02-11T19:58:43.287Z"
      },
      {
        "duration": 32,
        "start_time": "2022-02-11T19:58:43.300Z"
      },
      {
        "duration": 17,
        "start_time": "2022-02-11T19:58:43.334Z"
      },
      {
        "duration": 13,
        "start_time": "2022-02-11T19:58:43.353Z"
      },
      {
        "duration": 18,
        "start_time": "2022-02-11T19:59:07.874Z"
      },
      {
        "duration": 15,
        "start_time": "2022-02-11T19:59:10.665Z"
      },
      {
        "duration": 15,
        "start_time": "2022-02-11T19:59:16.419Z"
      },
      {
        "duration": 3,
        "start_time": "2022-02-11T19:59:22.184Z"
      },
      {
        "duration": 369,
        "start_time": "2022-02-11T19:59:22.189Z"
      },
      {
        "duration": 26,
        "start_time": "2022-02-11T19:59:22.560Z"
      },
      {
        "duration": 27,
        "start_time": "2022-02-11T19:59:22.588Z"
      },
      {
        "duration": 11,
        "start_time": "2022-02-11T19:59:22.617Z"
      },
      {
        "duration": 22,
        "start_time": "2022-02-11T19:59:22.630Z"
      },
      {
        "duration": 13,
        "start_time": "2022-02-11T19:59:22.653Z"
      },
      {
        "duration": 8,
        "start_time": "2022-02-11T19:59:22.668Z"
      },
      {
        "duration": 53,
        "start_time": "2022-02-11T19:59:22.679Z"
      },
      {
        "duration": 96,
        "start_time": "2022-02-11T19:59:22.733Z"
      },
      {
        "duration": 15,
        "start_time": "2022-02-11T19:59:22.831Z"
      },
      {
        "duration": 178,
        "start_time": "2022-02-11T19:59:22.847Z"
      },
      {
        "duration": 13,
        "start_time": "2022-02-11T19:59:23.026Z"
      },
      {
        "duration": 24,
        "start_time": "2022-02-11T19:59:23.040Z"
      },
      {
        "duration": 17,
        "start_time": "2022-02-11T19:59:23.066Z"
      },
      {
        "duration": 34,
        "start_time": "2022-02-11T19:59:23.085Z"
      },
      {
        "duration": 18,
        "start_time": "2022-02-11T19:59:51.084Z"
      },
      {
        "duration": 14,
        "start_time": "2022-02-11T19:59:52.650Z"
      },
      {
        "duration": 14,
        "start_time": "2022-02-11T20:00:11.187Z"
      },
      {
        "duration": 20,
        "start_time": "2022-02-11T20:05:40.441Z"
      },
      {
        "duration": 7,
        "start_time": "2022-02-11T20:05:41.336Z"
      },
      {
        "duration": 18,
        "start_time": "2022-02-11T20:05:41.817Z"
      },
      {
        "duration": 15,
        "start_time": "2022-02-11T20:05:42.240Z"
      },
      {
        "duration": 224,
        "start_time": "2022-02-11T20:06:00.561Z"
      },
      {
        "duration": 21,
        "start_time": "2022-02-11T20:07:29.650Z"
      },
      {
        "duration": 8,
        "start_time": "2022-02-11T20:07:30.194Z"
      },
      {
        "duration": 21,
        "start_time": "2022-02-11T20:07:30.618Z"
      },
      {
        "duration": 15,
        "start_time": "2022-02-11T20:07:31.067Z"
      },
      {
        "duration": 3,
        "start_time": "2022-02-11T20:08:01.223Z"
      },
      {
        "duration": 362,
        "start_time": "2022-02-11T20:08:01.228Z"
      },
      {
        "duration": 26,
        "start_time": "2022-02-11T20:08:01.593Z"
      },
      {
        "duration": 23,
        "start_time": "2022-02-11T20:08:01.621Z"
      },
      {
        "duration": 11,
        "start_time": "2022-02-11T20:08:01.646Z"
      },
      {
        "duration": 22,
        "start_time": "2022-02-11T20:08:01.659Z"
      },
      {
        "duration": 38,
        "start_time": "2022-02-11T20:08:01.683Z"
      },
      {
        "duration": 8,
        "start_time": "2022-02-11T20:08:01.723Z"
      },
      {
        "duration": 19,
        "start_time": "2022-02-11T20:08:01.733Z"
      },
      {
        "duration": 105,
        "start_time": "2022-02-11T20:08:01.754Z"
      },
      {
        "duration": 16,
        "start_time": "2022-02-11T20:08:01.860Z"
      },
      {
        "duration": 161,
        "start_time": "2022-02-11T20:08:01.877Z"
      },
      {
        "duration": 17,
        "start_time": "2022-02-11T20:08:02.040Z"
      },
      {
        "duration": 23,
        "start_time": "2022-02-11T20:08:02.059Z"
      },
      {
        "duration": 39,
        "start_time": "2022-02-11T20:08:02.084Z"
      },
      {
        "duration": 13,
        "start_time": "2022-02-11T20:08:02.124Z"
      },
      {
        "duration": 24,
        "start_time": "2022-02-11T20:12:30.400Z"
      },
      {
        "duration": 16,
        "start_time": "2022-02-11T20:16:05.813Z"
      },
      {
        "duration": 1035,
        "start_time": "2022-02-11T20:16:12.671Z"
      },
      {
        "duration": 413,
        "start_time": "2022-02-11T20:16:13.708Z"
      },
      {
        "duration": 31,
        "start_time": "2022-02-11T20:16:14.124Z"
      },
      {
        "duration": 23,
        "start_time": "2022-02-11T20:16:14.157Z"
      },
      {
        "duration": 31,
        "start_time": "2022-02-11T20:16:14.182Z"
      },
      {
        "duration": 25,
        "start_time": "2022-02-11T20:16:14.216Z"
      },
      {
        "duration": 13,
        "start_time": "2022-02-11T20:16:14.243Z"
      },
      {
        "duration": 7,
        "start_time": "2022-02-11T20:16:14.258Z"
      },
      {
        "duration": 59,
        "start_time": "2022-02-11T20:16:14.267Z"
      },
      {
        "duration": 118,
        "start_time": "2022-02-11T20:16:14.328Z"
      },
      {
        "duration": 16,
        "start_time": "2022-02-11T20:16:14.448Z"
      },
      {
        "duration": 191,
        "start_time": "2022-02-11T20:16:14.465Z"
      },
      {
        "duration": 21,
        "start_time": "2022-02-11T20:16:14.658Z"
      },
      {
        "duration": 43,
        "start_time": "2022-02-11T20:16:14.681Z"
      },
      {
        "duration": 19,
        "start_time": "2022-02-11T20:16:14.726Z"
      },
      {
        "duration": 13,
        "start_time": "2022-02-11T20:16:14.746Z"
      },
      {
        "duration": 66,
        "start_time": "2022-02-11T20:16:14.761Z"
      },
      {
        "duration": 351,
        "start_time": "2022-02-11T20:16:14.478Z"
      },
      {
        "duration": 281,
        "start_time": "2022-02-11T20:17:38.710Z"
      },
      {
        "duration": 190,
        "start_time": "2022-02-11T20:17:49.231Z"
      },
      {
        "duration": 192,
        "start_time": "2022-02-11T20:19:24.100Z"
      },
      {
        "duration": 198,
        "start_time": "2022-02-11T20:21:08.056Z"
      },
      {
        "duration": 220,
        "start_time": "2022-02-11T20:21:15.032Z"
      },
      {
        "duration": 3,
        "start_time": "2022-02-11T20:21:29.334Z"
      },
      {
        "duration": 365,
        "start_time": "2022-02-11T20:21:29.339Z"
      },
      {
        "duration": 27,
        "start_time": "2022-02-11T20:21:29.706Z"
      },
      {
        "duration": 23,
        "start_time": "2022-02-11T20:21:29.735Z"
      },
      {
        "duration": 11,
        "start_time": "2022-02-11T20:21:29.759Z"
      },
      {
        "duration": 47,
        "start_time": "2022-02-11T20:21:29.772Z"
      },
      {
        "duration": 13,
        "start_time": "2022-02-11T20:21:29.821Z"
      },
      {
        "duration": 8,
        "start_time": "2022-02-11T20:21:29.835Z"
      },
      {
        "duration": 25,
        "start_time": "2022-02-11T20:21:29.846Z"
      },
      {
        "duration": 112,
        "start_time": "2022-02-11T20:21:29.873Z"
      },
      {
        "duration": 25,
        "start_time": "2022-02-11T20:21:29.987Z"
      },
      {
        "duration": 165,
        "start_time": "2022-02-11T20:21:30.014Z"
      },
      {
        "duration": 17,
        "start_time": "2022-02-11T20:21:30.181Z"
      },
      {
        "duration": 251,
        "start_time": "2022-02-11T20:21:30.200Z"
      },
      {
        "duration": 352,
        "start_time": "2022-02-11T20:21:30.101Z"
      },
      {
        "duration": 352,
        "start_time": "2022-02-11T20:21:30.102Z"
      },
      {
        "duration": 350,
        "start_time": "2022-02-11T20:21:30.104Z"
      },
      {
        "duration": 199,
        "start_time": "2022-02-11T20:21:51.960Z"
      },
      {
        "duration": 4,
        "start_time": "2022-02-11T20:23:33.402Z"
      },
      {
        "duration": 214,
        "start_time": "2022-02-11T20:24:18.202Z"
      },
      {
        "duration": 182,
        "start_time": "2022-02-11T20:24:54.444Z"
      },
      {
        "duration": 204,
        "start_time": "2022-02-11T20:30:33.474Z"
      },
      {
        "duration": 69,
        "start_time": "2022-02-11T20:36:37.579Z"
      },
      {
        "duration": 58,
        "start_time": "2022-02-11T20:36:46.440Z"
      },
      {
        "duration": 1087,
        "start_time": "2022-02-11T20:37:11.783Z"
      },
      {
        "duration": 372,
        "start_time": "2022-02-11T20:37:12.872Z"
      },
      {
        "duration": 29,
        "start_time": "2022-02-11T20:37:13.247Z"
      },
      {
        "duration": 23,
        "start_time": "2022-02-11T20:37:13.278Z"
      },
      {
        "duration": 19,
        "start_time": "2022-02-11T20:37:13.302Z"
      },
      {
        "duration": 20,
        "start_time": "2022-02-11T20:37:13.323Z"
      },
      {
        "duration": 15,
        "start_time": "2022-02-11T20:37:13.345Z"
      },
      {
        "duration": 9,
        "start_time": "2022-02-11T20:37:13.364Z"
      },
      {
        "duration": 56,
        "start_time": "2022-02-11T20:37:13.375Z"
      },
      {
        "duration": 121,
        "start_time": "2022-02-11T20:37:13.433Z"
      },
      {
        "duration": 17,
        "start_time": "2022-02-11T20:37:13.555Z"
      },
      {
        "duration": 181,
        "start_time": "2022-02-11T20:37:13.574Z"
      },
      {
        "duration": 25,
        "start_time": "2022-02-11T20:37:13.757Z"
      },
      {
        "duration": 96,
        "start_time": "2022-02-11T20:37:13.783Z"
      },
      {
        "duration": 31,
        "start_time": "2022-02-11T20:37:13.881Z"
      },
      {
        "duration": 13,
        "start_time": "2022-02-11T20:37:13.914Z"
      },
      {
        "duration": 31,
        "start_time": "2022-02-11T20:37:13.929Z"
      },
      {
        "duration": 63,
        "start_time": "2022-02-11T20:38:27.015Z"
      },
      {
        "duration": 4,
        "start_time": "2022-02-11T20:38:38.946Z"
      },
      {
        "duration": 364,
        "start_time": "2022-02-11T20:38:38.952Z"
      },
      {
        "duration": 26,
        "start_time": "2022-02-11T20:38:39.319Z"
      },
      {
        "duration": 21,
        "start_time": "2022-02-11T20:38:39.347Z"
      },
      {
        "duration": 10,
        "start_time": "2022-02-11T20:38:39.370Z"
      },
      {
        "duration": 42,
        "start_time": "2022-02-11T20:38:39.382Z"
      },
      {
        "duration": 14,
        "start_time": "2022-02-11T20:38:39.425Z"
      },
      {
        "duration": 8,
        "start_time": "2022-02-11T20:38:39.440Z"
      },
      {
        "duration": 20,
        "start_time": "2022-02-11T20:38:39.451Z"
      },
      {
        "duration": 114,
        "start_time": "2022-02-11T20:38:39.473Z"
      },
      {
        "duration": 28,
        "start_time": "2022-02-11T20:38:39.588Z"
      },
      {
        "duration": 164,
        "start_time": "2022-02-11T20:38:39.617Z"
      },
      {
        "duration": 38,
        "start_time": "2022-02-11T20:38:39.783Z"
      },
      {
        "duration": 99,
        "start_time": "2022-02-11T20:38:39.823Z"
      },
      {
        "duration": 20,
        "start_time": "2022-02-11T20:38:39.923Z"
      },
      {
        "duration": 50,
        "start_time": "2022-02-11T20:38:39.944Z"
      },
      {
        "duration": 31,
        "start_time": "2022-02-11T20:38:39.996Z"
      },
      {
        "duration": 34,
        "start_time": "2022-02-11T20:39:27.319Z"
      },
      {
        "duration": 34,
        "start_time": "2022-02-11T20:43:13.732Z"
      },
      {
        "duration": 3,
        "start_time": "2022-02-11T20:44:11.399Z"
      },
      {
        "duration": 373,
        "start_time": "2022-02-11T20:44:11.405Z"
      },
      {
        "duration": 26,
        "start_time": "2022-02-11T20:44:11.780Z"
      },
      {
        "duration": 24,
        "start_time": "2022-02-11T20:44:11.808Z"
      },
      {
        "duration": 11,
        "start_time": "2022-02-11T20:44:11.834Z"
      },
      {
        "duration": 20,
        "start_time": "2022-02-11T20:44:11.846Z"
      },
      {
        "duration": 14,
        "start_time": "2022-02-11T20:44:11.868Z"
      },
      {
        "duration": 35,
        "start_time": "2022-02-11T20:44:11.883Z"
      },
      {
        "duration": 20,
        "start_time": "2022-02-11T20:44:11.921Z"
      },
      {
        "duration": 114,
        "start_time": "2022-02-11T20:44:11.942Z"
      },
      {
        "duration": 14,
        "start_time": "2022-02-11T20:44:12.058Z"
      },
      {
        "duration": 180,
        "start_time": "2022-02-11T20:44:12.074Z"
      },
      {
        "duration": 22,
        "start_time": "2022-02-11T20:44:12.256Z"
      },
      {
        "duration": 99,
        "start_time": "2022-02-11T20:44:12.280Z"
      },
      {
        "duration": 19,
        "start_time": "2022-02-11T20:44:12.381Z"
      },
      {
        "duration": 11,
        "start_time": "2022-02-11T20:44:12.412Z"
      },
      {
        "duration": 44,
        "start_time": "2022-02-11T20:44:12.425Z"
      },
      {
        "duration": 289,
        "start_time": "2022-02-11T20:44:12.470Z"
      },
      {
        "duration": 35,
        "start_time": "2022-02-11T20:44:35.557Z"
      },
      {
        "duration": 13,
        "start_time": "2022-02-11T21:13:40.693Z"
      },
      {
        "duration": 19,
        "start_time": "2022-02-11T21:13:49.788Z"
      },
      {
        "duration": 28,
        "start_time": "2022-02-11T21:13:59.100Z"
      },
      {
        "duration": 50,
        "start_time": "2022-02-11T21:15:29.919Z"
      },
      {
        "duration": 56,
        "start_time": "2022-02-11T21:18:07.193Z"
      },
      {
        "duration": 69,
        "start_time": "2022-02-11T21:19:56.835Z"
      },
      {
        "duration": 218,
        "start_time": "2022-02-11T21:26:17.209Z"
      },
      {
        "duration": 10,
        "start_time": "2022-02-11T21:26:27.714Z"
      },
      {
        "duration": 268,
        "start_time": "2022-02-11T21:26:38.450Z"
      },
      {
        "duration": 204,
        "start_time": "2022-02-11T21:26:47.418Z"
      },
      {
        "duration": 208,
        "start_time": "2022-02-11T21:27:15.643Z"
      },
      {
        "duration": 196,
        "start_time": "2022-02-11T21:28:33.181Z"
      },
      {
        "duration": 190,
        "start_time": "2022-02-11T21:29:00.806Z"
      },
      {
        "duration": 205,
        "start_time": "2022-02-11T21:29:44.925Z"
      },
      {
        "duration": 200,
        "start_time": "2022-02-11T21:29:55.093Z"
      },
      {
        "duration": 201,
        "start_time": "2022-02-11T21:29:59.245Z"
      },
      {
        "duration": 208,
        "start_time": "2022-02-11T21:30:15.719Z"
      },
      {
        "duration": 189,
        "start_time": "2022-02-11T21:31:08.175Z"
      },
      {
        "duration": 193,
        "start_time": "2022-02-11T21:31:16.888Z"
      },
      {
        "duration": 194,
        "start_time": "2022-02-11T21:32:09.873Z"
      },
      {
        "duration": 185,
        "start_time": "2022-02-11T21:32:29.720Z"
      },
      {
        "duration": 2,
        "start_time": "2022-02-11T21:32:35.154Z"
      },
      {
        "duration": 353,
        "start_time": "2022-02-11T21:32:35.158Z"
      },
      {
        "duration": 26,
        "start_time": "2022-02-11T21:32:35.513Z"
      },
      {
        "duration": 22,
        "start_time": "2022-02-11T21:32:35.541Z"
      },
      {
        "duration": 10,
        "start_time": "2022-02-11T21:32:35.565Z"
      },
      {
        "duration": 48,
        "start_time": "2022-02-11T21:32:35.576Z"
      },
      {
        "duration": 12,
        "start_time": "2022-02-11T21:32:35.626Z"
      },
      {
        "duration": 8,
        "start_time": "2022-02-11T21:32:35.639Z"
      },
      {
        "duration": 22,
        "start_time": "2022-02-11T21:32:35.649Z"
      },
      {
        "duration": 113,
        "start_time": "2022-02-11T21:32:35.673Z"
      },
      {
        "duration": 28,
        "start_time": "2022-02-11T21:32:35.788Z"
      },
      {
        "duration": 162,
        "start_time": "2022-02-11T21:32:35.818Z"
      },
      {
        "duration": 31,
        "start_time": "2022-02-11T21:32:35.982Z"
      },
      {
        "duration": 76,
        "start_time": "2022-02-11T21:32:36.015Z"
      },
      {
        "duration": 35,
        "start_time": "2022-02-11T21:32:36.093Z"
      },
      {
        "duration": 12,
        "start_time": "2022-02-11T21:32:36.129Z"
      },
      {
        "duration": 39,
        "start_time": "2022-02-11T21:32:36.142Z"
      },
      {
        "duration": 52,
        "start_time": "2022-02-11T21:32:36.183Z"
      },
      {
        "duration": 25,
        "start_time": "2022-02-11T21:32:36.237Z"
      },
      {
        "duration": 65,
        "start_time": "2022-02-11T21:32:36.264Z"
      },
      {
        "duration": 81,
        "start_time": "2022-02-11T21:32:36.331Z"
      },
      {
        "duration": 198,
        "start_time": "2022-02-11T21:32:36.414Z"
      },
      {
        "duration": 3,
        "start_time": "2022-02-11T21:32:44.836Z"
      },
      {
        "duration": 359,
        "start_time": "2022-02-11T21:32:44.841Z"
      },
      {
        "duration": 27,
        "start_time": "2022-02-11T21:32:45.202Z"
      },
      {
        "duration": 24,
        "start_time": "2022-02-11T21:32:45.231Z"
      },
      {
        "duration": 12,
        "start_time": "2022-02-11T21:32:45.257Z"
      },
      {
        "duration": 47,
        "start_time": "2022-02-11T21:32:45.271Z"
      },
      {
        "duration": 14,
        "start_time": "2022-02-11T21:32:45.320Z"
      },
      {
        "duration": 9,
        "start_time": "2022-02-11T21:32:45.336Z"
      },
      {
        "duration": 20,
        "start_time": "2022-02-11T21:32:45.349Z"
      },
      {
        "duration": 119,
        "start_time": "2022-02-11T21:32:45.371Z"
      },
      {
        "duration": 24,
        "start_time": "2022-02-11T21:32:45.492Z"
      },
      {
        "duration": 179,
        "start_time": "2022-02-11T21:32:45.518Z"
      },
      {
        "duration": 25,
        "start_time": "2022-02-11T21:32:45.699Z"
      },
      {
        "duration": 90,
        "start_time": "2022-02-11T21:32:45.726Z"
      },
      {
        "duration": 18,
        "start_time": "2022-02-11T21:32:45.817Z"
      },
      {
        "duration": 12,
        "start_time": "2022-02-11T21:32:45.837Z"
      },
      {
        "duration": 63,
        "start_time": "2022-02-11T21:32:45.850Z"
      },
      {
        "duration": 33,
        "start_time": "2022-02-11T21:32:45.915Z"
      },
      {
        "duration": 26,
        "start_time": "2022-02-11T21:32:45.949Z"
      },
      {
        "duration": 75,
        "start_time": "2022-02-11T21:32:45.976Z"
      },
      {
        "duration": 79,
        "start_time": "2022-02-11T21:32:46.053Z"
      },
      {
        "duration": 11,
        "start_time": "2022-02-11T21:32:46.133Z"
      },
      {
        "duration": 12,
        "start_time": "2022-02-11T21:35:32.755Z"
      },
      {
        "duration": 195,
        "start_time": "2022-02-11T21:38:39.463Z"
      },
      {
        "duration": 17,
        "start_time": "2022-02-11T21:38:55.950Z"
      },
      {
        "duration": 186,
        "start_time": "2022-02-11T21:40:49.144Z"
      },
      {
        "duration": 40,
        "start_time": "2022-02-11T21:40:54.937Z"
      },
      {
        "duration": 139,
        "start_time": "2022-02-11T21:48:19.248Z"
      },
      {
        "duration": 209,
        "start_time": "2022-02-11T21:49:08.873Z"
      },
      {
        "duration": 150,
        "start_time": "2022-02-11T21:49:14.945Z"
      },
      {
        "duration": 157,
        "start_time": "2022-02-11T21:49:28.626Z"
      },
      {
        "duration": 763,
        "start_time": "2022-02-11T21:51:54.756Z"
      },
      {
        "duration": 374,
        "start_time": "2022-02-11T21:52:29.045Z"
      },
      {
        "duration": 2435,
        "start_time": "2022-02-11T21:52:41.156Z"
      },
      {
        "duration": 548,
        "start_time": "2022-02-11T21:52:58.207Z"
      },
      {
        "duration": 561,
        "start_time": "2022-02-11T21:53:26.294Z"
      },
      {
        "duration": 640,
        "start_time": "2022-02-11T21:53:31.534Z"
      },
      {
        "duration": 530,
        "start_time": "2022-02-11T21:53:38.862Z"
      },
      {
        "duration": 674,
        "start_time": "2022-02-11T21:53:52.334Z"
      },
      {
        "duration": 17,
        "start_time": "2022-02-11T21:58:42.059Z"
      },
      {
        "duration": 286,
        "start_time": "2022-02-11T22:05:34.667Z"
      },
      {
        "duration": 9,
        "start_time": "2022-02-11T22:05:37.707Z"
      },
      {
        "duration": 14,
        "start_time": "2022-02-11T22:05:46.277Z"
      },
      {
        "duration": 203,
        "start_time": "2022-02-11T22:07:49.478Z"
      },
      {
        "duration": 180,
        "start_time": "2022-02-11T22:07:58.814Z"
      },
      {
        "duration": 17,
        "start_time": "2022-02-11T22:08:10.894Z"
      },
      {
        "duration": 19,
        "start_time": "2022-02-11T22:09:14.633Z"
      },
      {
        "duration": 17,
        "start_time": "2022-02-11T22:09:55.449Z"
      },
      {
        "duration": 203,
        "start_time": "2022-02-11T22:11:17.634Z"
      },
      {
        "duration": 26,
        "start_time": "2022-02-11T22:11:31.634Z"
      },
      {
        "duration": 52,
        "start_time": "2022-02-11T22:11:40.922Z"
      },
      {
        "duration": 25,
        "start_time": "2022-02-11T22:12:02.595Z"
      },
      {
        "duration": 210,
        "start_time": "2022-02-11T22:12:32.995Z"
      },
      {
        "duration": 27,
        "start_time": "2022-02-11T22:12:45.156Z"
      },
      {
        "duration": 39,
        "start_time": "2022-02-11T22:12:52.492Z"
      },
      {
        "duration": 2,
        "start_time": "2022-02-11T22:14:05.381Z"
      },
      {
        "duration": 207,
        "start_time": "2022-02-11T22:21:16.653Z"
      },
      {
        "duration": 204,
        "start_time": "2022-02-11T22:22:15.312Z"
      },
      {
        "duration": 12,
        "start_time": "2022-02-11T22:22:18.558Z"
      },
      {
        "duration": 191,
        "start_time": "2022-02-11T22:23:19.407Z"
      },
      {
        "duration": 39,
        "start_time": "2022-02-11T22:25:25.419Z"
      },
      {
        "duration": 1025,
        "start_time": "2022-02-11T22:25:32.046Z"
      },
      {
        "duration": 367,
        "start_time": "2022-02-11T22:25:33.073Z"
      },
      {
        "duration": 29,
        "start_time": "2022-02-11T22:25:33.444Z"
      },
      {
        "duration": 22,
        "start_time": "2022-02-11T22:25:33.474Z"
      },
      {
        "duration": 14,
        "start_time": "2022-02-11T22:25:33.498Z"
      },
      {
        "duration": 17,
        "start_time": "2022-02-11T22:25:33.514Z"
      },
      {
        "duration": 12,
        "start_time": "2022-02-11T22:25:33.534Z"
      },
      {
        "duration": 8,
        "start_time": "2022-02-11T22:25:33.548Z"
      },
      {
        "duration": 55,
        "start_time": "2022-02-11T22:25:33.557Z"
      },
      {
        "duration": 103,
        "start_time": "2022-02-11T22:25:33.614Z"
      },
      {
        "duration": 17,
        "start_time": "2022-02-11T22:25:33.718Z"
      },
      {
        "duration": 182,
        "start_time": "2022-02-11T22:25:33.737Z"
      },
      {
        "duration": 24,
        "start_time": "2022-02-11T22:25:33.920Z"
      },
      {
        "duration": 100,
        "start_time": "2022-02-11T22:25:33.946Z"
      },
      {
        "duration": 19,
        "start_time": "2022-02-11T22:25:34.048Z"
      },
      {
        "duration": 11,
        "start_time": "2022-02-11T22:25:34.069Z"
      },
      {
        "duration": 64,
        "start_time": "2022-02-11T22:25:34.082Z"
      },
      {
        "duration": 34,
        "start_time": "2022-02-11T22:25:34.148Z"
      },
      {
        "duration": 44,
        "start_time": "2022-02-11T22:25:34.184Z"
      },
      {
        "duration": 54,
        "start_time": "2022-02-11T22:25:34.230Z"
      },
      {
        "duration": 92,
        "start_time": "2022-02-11T22:25:34.286Z"
      },
      {
        "duration": 11,
        "start_time": "2022-02-11T22:25:34.381Z"
      },
      {
        "duration": 28,
        "start_time": "2022-02-11T22:25:34.394Z"
      },
      {
        "duration": 18,
        "start_time": "2022-02-11T22:25:34.423Z"
      },
      {
        "duration": 606,
        "start_time": "2022-02-11T22:25:34.443Z"
      },
      {
        "duration": 36,
        "start_time": "2022-02-11T22:25:35.051Z"
      },
      {
        "duration": 27,
        "start_time": "2022-02-11T22:25:35.089Z"
      },
      {
        "duration": 30,
        "start_time": "2022-02-11T22:25:35.118Z"
      },
      {
        "duration": 63,
        "start_time": "2022-02-11T22:25:35.150Z"
      },
      {
        "duration": 13,
        "start_time": "2022-02-11T22:25:35.215Z"
      },
      {
        "duration": 277,
        "start_time": "2022-02-11T22:25:35.229Z"
      },
      {
        "duration": 218,
        "start_time": "2022-02-11T22:27:10.435Z"
      },
      {
        "duration": 203,
        "start_time": "2022-02-11T22:27:49.363Z"
      },
      {
        "duration": 195,
        "start_time": "2022-02-11T22:28:08.315Z"
      },
      {
        "duration": 192,
        "start_time": "2022-02-11T22:35:05.211Z"
      },
      {
        "duration": 197,
        "start_time": "2022-02-11T22:35:14.355Z"
      },
      {
        "duration": 1261,
        "start_time": "2022-02-15T18:28:06.329Z"
      },
      {
        "duration": 462,
        "start_time": "2022-02-15T18:28:07.593Z"
      },
      {
        "duration": 33,
        "start_time": "2022-02-15T18:28:08.058Z"
      },
      {
        "duration": 33,
        "start_time": "2022-02-15T18:28:08.094Z"
      },
      {
        "duration": 16,
        "start_time": "2022-02-15T18:28:08.129Z"
      },
      {
        "duration": 21,
        "start_time": "2022-02-15T18:28:08.147Z"
      },
      {
        "duration": 49,
        "start_time": "2022-02-15T18:28:08.170Z"
      },
      {
        "duration": 31,
        "start_time": "2022-02-15T18:28:08.221Z"
      },
      {
        "duration": 26,
        "start_time": "2022-02-15T18:28:08.255Z"
      },
      {
        "duration": 117,
        "start_time": "2022-02-15T18:28:08.284Z"
      },
      {
        "duration": 22,
        "start_time": "2022-02-15T18:28:08.406Z"
      },
      {
        "duration": 209,
        "start_time": "2022-02-15T18:28:08.431Z"
      },
      {
        "duration": 29,
        "start_time": "2022-02-15T18:28:08.642Z"
      },
      {
        "duration": 112,
        "start_time": "2022-02-15T18:28:08.673Z"
      },
      {
        "duration": 32,
        "start_time": "2022-02-15T18:28:08.787Z"
      },
      {
        "duration": 19,
        "start_time": "2022-02-15T18:28:08.825Z"
      },
      {
        "duration": 61,
        "start_time": "2022-02-15T18:28:08.847Z"
      },
      {
        "duration": 48,
        "start_time": "2022-02-15T18:28:08.912Z"
      },
      {
        "duration": 46,
        "start_time": "2022-02-15T18:28:08.961Z"
      },
      {
        "duration": 70,
        "start_time": "2022-02-15T18:28:09.010Z"
      },
      {
        "duration": 103,
        "start_time": "2022-02-15T18:28:09.082Z"
      },
      {
        "duration": 29,
        "start_time": "2022-02-15T18:28:09.187Z"
      },
      {
        "duration": 20,
        "start_time": "2022-02-15T18:28:09.218Z"
      },
      {
        "duration": 27,
        "start_time": "2022-02-15T18:28:09.240Z"
      },
      {
        "duration": 692,
        "start_time": "2022-02-15T18:28:09.270Z"
      },
      {
        "duration": 53,
        "start_time": "2022-02-15T18:28:09.964Z"
      },
      {
        "duration": 18,
        "start_time": "2022-02-15T18:28:10.021Z"
      },
      {
        "duration": 62,
        "start_time": "2022-02-15T18:28:10.041Z"
      },
      {
        "duration": 63,
        "start_time": "2022-02-15T18:28:10.105Z"
      },
      {
        "duration": 14,
        "start_time": "2022-02-15T18:28:10.170Z"
      },
      {
        "duration": 419,
        "start_time": "2022-02-15T18:28:10.186Z"
      },
      {
        "duration": 257,
        "start_time": "2022-02-15T19:01:36.236Z"
      },
      {
        "duration": 276,
        "start_time": "2022-02-15T19:02:12.727Z"
      },
      {
        "duration": 264,
        "start_time": "2022-02-15T19:10:24.008Z"
      },
      {
        "duration": 7,
        "start_time": "2022-02-15T19:12:59.523Z"
      },
      {
        "duration": 16,
        "start_time": "2022-02-15T19:13:54.117Z"
      },
      {
        "duration": 38,
        "start_time": "2022-02-15T19:14:01.275Z"
      },
      {
        "duration": 34,
        "start_time": "2022-02-15T19:17:06.535Z"
      },
      {
        "duration": 41,
        "start_time": "2022-02-15T19:17:14.303Z"
      },
      {
        "duration": 270,
        "start_time": "2022-02-15T19:25:04.121Z"
      },
      {
        "duration": 3,
        "start_time": "2022-02-15T19:26:38.722Z"
      },
      {
        "duration": 544,
        "start_time": "2022-02-15T19:26:38.728Z"
      },
      {
        "duration": 29,
        "start_time": "2022-02-15T19:26:39.275Z"
      },
      {
        "duration": 36,
        "start_time": "2022-02-15T19:26:39.306Z"
      },
      {
        "duration": 12,
        "start_time": "2022-02-15T19:26:39.344Z"
      },
      {
        "duration": 26,
        "start_time": "2022-02-15T19:26:39.358Z"
      },
      {
        "duration": 23,
        "start_time": "2022-02-15T19:26:39.409Z"
      },
      {
        "duration": 9,
        "start_time": "2022-02-15T19:26:39.434Z"
      },
      {
        "duration": 26,
        "start_time": "2022-02-15T19:26:39.446Z"
      },
      {
        "duration": 142,
        "start_time": "2022-02-15T19:26:39.475Z"
      },
      {
        "duration": 19,
        "start_time": "2022-02-15T19:26:39.620Z"
      },
      {
        "duration": 195,
        "start_time": "2022-02-15T19:26:39.641Z"
      },
      {
        "duration": 23,
        "start_time": "2022-02-15T19:26:39.839Z"
      },
      {
        "duration": 132,
        "start_time": "2022-02-15T19:26:39.864Z"
      },
      {
        "duration": 26,
        "start_time": "2022-02-15T19:26:39.998Z"
      },
      {
        "duration": 19,
        "start_time": "2022-02-15T19:26:40.027Z"
      },
      {
        "duration": 72,
        "start_time": "2022-02-15T19:26:40.048Z"
      },
      {
        "duration": 41,
        "start_time": "2022-02-15T19:26:40.123Z"
      },
      {
        "duration": 53,
        "start_time": "2022-02-15T19:26:40.166Z"
      },
      {
        "duration": 59,
        "start_time": "2022-02-15T19:26:40.222Z"
      },
      {
        "duration": 146,
        "start_time": "2022-02-15T19:26:40.283Z"
      },
      {
        "duration": 14,
        "start_time": "2022-02-15T19:26:40.431Z"
      },
      {
        "duration": 21,
        "start_time": "2022-02-15T19:26:40.447Z"
      },
      {
        "duration": 42,
        "start_time": "2022-02-15T19:26:40.470Z"
      },
      {
        "duration": 649,
        "start_time": "2022-02-15T19:26:40.515Z"
      },
      {
        "duration": 49,
        "start_time": "2022-02-15T19:26:41.166Z"
      },
      {
        "duration": 16,
        "start_time": "2022-02-15T19:26:41.219Z"
      },
      {
        "duration": 56,
        "start_time": "2022-02-15T19:26:41.238Z"
      },
      {
        "duration": 74,
        "start_time": "2022-02-15T19:26:41.296Z"
      },
      {
        "duration": 36,
        "start_time": "2022-02-15T19:26:41.371Z"
      },
      {
        "duration": 266,
        "start_time": "2022-02-15T19:26:41.411Z"
      },
      {
        "duration": 42,
        "start_time": "2022-02-15T19:27:17.330Z"
      },
      {
        "duration": 337,
        "start_time": "2022-02-15T19:28:46.092Z"
      },
      {
        "duration": 38,
        "start_time": "2022-02-15T19:29:01.868Z"
      },
      {
        "duration": 35,
        "start_time": "2022-02-15T19:29:38.453Z"
      },
      {
        "duration": 40,
        "start_time": "2022-02-15T19:29:49.548Z"
      },
      {
        "duration": 23,
        "start_time": "2022-02-15T19:29:57.884Z"
      },
      {
        "duration": 252,
        "start_time": "2022-02-15T19:31:56.426Z"
      },
      {
        "duration": 49,
        "start_time": "2022-02-15T19:32:33.524Z"
      },
      {
        "duration": 33,
        "start_time": "2022-02-15T19:32:43.552Z"
      },
      {
        "duration": 22,
        "start_time": "2022-02-15T19:33:48.944Z"
      },
      {
        "duration": 19,
        "start_time": "2022-02-15T19:35:19.187Z"
      },
      {
        "duration": 17,
        "start_time": "2022-02-15T19:35:23.221Z"
      },
      {
        "duration": 25,
        "start_time": "2022-02-15T19:35:33.274Z"
      },
      {
        "duration": 32,
        "start_time": "2022-02-15T19:35:38.625Z"
      },
      {
        "duration": 30,
        "start_time": "2022-02-15T19:36:16.740Z"
      },
      {
        "duration": 21,
        "start_time": "2022-02-15T19:36:22.163Z"
      },
      {
        "duration": 978,
        "start_time": "2022-02-15T19:39:03.470Z"
      },
      {
        "duration": 266,
        "start_time": "2022-02-15T19:40:29.464Z"
      },
      {
        "duration": 32,
        "start_time": "2022-02-15T19:40:34.896Z"
      },
      {
        "duration": 282,
        "start_time": "2022-02-15T19:40:53.280Z"
      },
      {
        "duration": 312,
        "start_time": "2022-02-15T19:41:03.272Z"
      },
      {
        "duration": 1007,
        "start_time": "2022-02-15T19:41:15.496Z"
      },
      {
        "duration": 268,
        "start_time": "2022-02-15T19:43:05.187Z"
      },
      {
        "duration": 33,
        "start_time": "2022-02-15T19:43:28.227Z"
      },
      {
        "duration": 42,
        "start_time": "2022-02-15T19:43:40.971Z"
      },
      {
        "duration": 31,
        "start_time": "2022-02-15T19:44:23.548Z"
      },
      {
        "duration": 22,
        "start_time": "2022-02-15T19:45:33.021Z"
      },
      {
        "duration": 31,
        "start_time": "2022-02-15T19:45:50.501Z"
      },
      {
        "duration": 41,
        "start_time": "2022-02-15T19:48:15.985Z"
      },
      {
        "duration": 88,
        "start_time": "2022-02-15T19:50:24.538Z"
      },
      {
        "duration": 110,
        "start_time": "2022-02-15T19:50:32.770Z"
      },
      {
        "duration": 83,
        "start_time": "2022-02-15T19:51:13.213Z"
      },
      {
        "duration": 26,
        "start_time": "2022-02-15T19:51:17.431Z"
      },
      {
        "duration": 26,
        "start_time": "2022-02-15T19:51:49.364Z"
      },
      {
        "duration": 50,
        "start_time": "2022-02-15T19:51:58.100Z"
      },
      {
        "duration": 259,
        "start_time": "2022-02-15T19:54:06.891Z"
      },
      {
        "duration": 4,
        "start_time": "2022-02-15T19:55:43.200Z"
      },
      {
        "duration": 5,
        "start_time": "2022-02-15T19:56:00.073Z"
      },
      {
        "duration": 5,
        "start_time": "2022-02-15T19:56:24.313Z"
      },
      {
        "duration": 19,
        "start_time": "2022-02-15T19:56:32.234Z"
      },
      {
        "duration": 272,
        "start_time": "2022-02-15T19:57:15.688Z"
      },
      {
        "duration": 6,
        "start_time": "2022-02-15T19:58:17.724Z"
      },
      {
        "duration": 10,
        "start_time": "2022-02-15T19:58:34.052Z"
      },
      {
        "duration": 11,
        "start_time": "2022-02-15T19:58:40.508Z"
      },
      {
        "duration": 10,
        "start_time": "2022-02-15T20:03:33.777Z"
      },
      {
        "duration": 297,
        "start_time": "2022-02-15T20:06:43.635Z"
      },
      {
        "duration": 248,
        "start_time": "2022-02-15T20:06:49.882Z"
      },
      {
        "duration": 243,
        "start_time": "2022-02-15T20:08:15.174Z"
      },
      {
        "duration": 10,
        "start_time": "2022-02-15T20:08:21.758Z"
      },
      {
        "duration": 28,
        "start_time": "2022-02-15T20:08:34.542Z"
      },
      {
        "duration": 35,
        "start_time": "2022-02-15T20:09:15.448Z"
      },
      {
        "duration": 36,
        "start_time": "2022-02-15T20:09:21.512Z"
      },
      {
        "duration": 53,
        "start_time": "2022-02-15T20:09:28.111Z"
      },
      {
        "duration": 3,
        "start_time": "2022-02-15T20:10:48.249Z"
      },
      {
        "duration": 385,
        "start_time": "2022-02-15T20:10:48.261Z"
      },
      {
        "duration": 27,
        "start_time": "2022-02-15T20:10:48.648Z"
      },
      {
        "duration": 24,
        "start_time": "2022-02-15T20:10:48.678Z"
      },
      {
        "duration": 12,
        "start_time": "2022-02-15T20:10:48.708Z"
      },
      {
        "duration": 24,
        "start_time": "2022-02-15T20:10:48.722Z"
      },
      {
        "duration": 14,
        "start_time": "2022-02-15T20:10:48.748Z"
      },
      {
        "duration": 13,
        "start_time": "2022-02-15T20:10:48.763Z"
      },
      {
        "duration": 49,
        "start_time": "2022-02-15T20:10:48.778Z"
      },
      {
        "duration": 115,
        "start_time": "2022-02-15T20:10:48.831Z"
      },
      {
        "duration": 17,
        "start_time": "2022-02-15T20:10:48.948Z"
      },
      {
        "duration": 242,
        "start_time": "2022-02-15T20:10:48.966Z"
      },
      {
        "duration": 20,
        "start_time": "2022-02-15T20:10:49.210Z"
      },
      {
        "duration": 106,
        "start_time": "2022-02-15T20:10:49.232Z"
      },
      {
        "duration": 22,
        "start_time": "2022-02-15T20:10:49.340Z"
      },
      {
        "duration": 15,
        "start_time": "2022-02-15T20:10:49.363Z"
      },
      {
        "duration": 53,
        "start_time": "2022-02-15T20:10:49.380Z"
      },
      {
        "duration": 30,
        "start_time": "2022-02-15T20:10:49.436Z"
      },
      {
        "duration": 52,
        "start_time": "2022-02-15T20:10:49.469Z"
      },
      {
        "duration": 59,
        "start_time": "2022-02-15T20:10:49.523Z"
      },
      {
        "duration": 95,
        "start_time": "2022-02-15T20:10:49.584Z"
      },
      {
        "duration": 11,
        "start_time": "2022-02-15T20:10:49.681Z"
      },
      {
        "duration": 15,
        "start_time": "2022-02-15T20:10:49.707Z"
      },
      {
        "duration": 33,
        "start_time": "2022-02-15T20:10:49.724Z"
      },
      {
        "duration": 684,
        "start_time": "2022-02-15T20:10:49.760Z"
      },
      {
        "duration": 29,
        "start_time": "2022-02-15T20:10:50.446Z"
      },
      {
        "duration": 33,
        "start_time": "2022-02-15T20:10:50.477Z"
      },
      {
        "duration": 32,
        "start_time": "2022-02-15T20:10:50.514Z"
      },
      {
        "duration": 35,
        "start_time": "2022-02-15T20:10:50.548Z"
      },
      {
        "duration": 56,
        "start_time": "2022-02-15T20:10:50.585Z"
      },
      {
        "duration": 241,
        "start_time": "2022-02-15T20:10:50.643Z"
      },
      {
        "duration": 360,
        "start_time": "2022-02-15T20:10:50.525Z"
      },
      {
        "duration": 360,
        "start_time": "2022-02-15T20:10:50.527Z"
      },
      {
        "duration": 11,
        "start_time": "2022-02-15T20:10:54.873Z"
      },
      {
        "duration": 270,
        "start_time": "2022-02-15T20:10:56.562Z"
      },
      {
        "duration": 10,
        "start_time": "2022-02-15T20:11:06.550Z"
      },
      {
        "duration": 234,
        "start_time": "2022-02-15T20:11:07.737Z"
      },
      {
        "duration": 21,
        "start_time": "2022-02-15T20:11:13.632Z"
      },
      {
        "duration": 30,
        "start_time": "2022-02-15T20:11:19.089Z"
      },
      {
        "duration": 4,
        "start_time": "2022-02-15T20:11:21.977Z"
      },
      {
        "duration": 420,
        "start_time": "2022-02-15T20:11:21.983Z"
      },
      {
        "duration": 29,
        "start_time": "2022-02-15T20:11:22.405Z"
      },
      {
        "duration": 36,
        "start_time": "2022-02-15T20:11:22.436Z"
      },
      {
        "duration": 14,
        "start_time": "2022-02-15T20:11:22.473Z"
      },
      {
        "duration": 36,
        "start_time": "2022-02-15T20:11:22.490Z"
      },
      {
        "duration": 15,
        "start_time": "2022-02-15T20:11:22.528Z"
      },
      {
        "duration": 30,
        "start_time": "2022-02-15T20:11:22.546Z"
      },
      {
        "duration": 37,
        "start_time": "2022-02-15T20:11:22.579Z"
      },
      {
        "duration": 102,
        "start_time": "2022-02-15T20:11:22.618Z"
      },
      {
        "duration": 19,
        "start_time": "2022-02-15T20:11:22.722Z"
      },
      {
        "duration": 185,
        "start_time": "2022-02-15T20:11:22.742Z"
      },
      {
        "duration": 25,
        "start_time": "2022-02-15T20:11:22.929Z"
      },
      {
        "duration": 109,
        "start_time": "2022-02-15T20:11:22.956Z"
      },
      {
        "duration": 21,
        "start_time": "2022-02-15T20:11:23.067Z"
      },
      {
        "duration": 26,
        "start_time": "2022-02-15T20:11:23.090Z"
      },
      {
        "duration": 37,
        "start_time": "2022-02-15T20:11:23.118Z"
      },
      {
        "duration": 27,
        "start_time": "2022-02-15T20:11:23.157Z"
      },
      {
        "duration": 29,
        "start_time": "2022-02-15T20:11:23.207Z"
      },
      {
        "duration": 75,
        "start_time": "2022-02-15T20:11:23.238Z"
      },
      {
        "duration": 96,
        "start_time": "2022-02-15T20:11:23.315Z"
      },
      {
        "duration": 12,
        "start_time": "2022-02-15T20:11:23.413Z"
      },
      {
        "duration": 22,
        "start_time": "2022-02-15T20:11:23.428Z"
      },
      {
        "duration": 20,
        "start_time": "2022-02-15T20:11:23.452Z"
      },
      {
        "duration": 589,
        "start_time": "2022-02-15T20:11:23.474Z"
      },
      {
        "duration": 27,
        "start_time": "2022-02-15T20:11:24.065Z"
      },
      {
        "duration": 29,
        "start_time": "2022-02-15T20:11:24.094Z"
      },
      {
        "duration": 34,
        "start_time": "2022-02-15T20:11:24.125Z"
      },
      {
        "duration": 60,
        "start_time": "2022-02-15T20:11:24.162Z"
      },
      {
        "duration": 38,
        "start_time": "2022-02-15T20:11:24.224Z"
      },
      {
        "duration": 243,
        "start_time": "2022-02-15T20:11:24.264Z"
      },
      {
        "duration": 358,
        "start_time": "2022-02-15T20:11:24.151Z"
      },
      {
        "duration": 357,
        "start_time": "2022-02-15T20:11:24.153Z"
      },
      {
        "duration": 11,
        "start_time": "2022-02-15T20:11:29.313Z"
      },
      {
        "duration": 22,
        "start_time": "2022-02-15T20:11:31.017Z"
      },
      {
        "duration": 4,
        "start_time": "2022-02-15T20:13:44.356Z"
      },
      {
        "duration": 4,
        "start_time": "2022-02-15T20:15:04.121Z"
      },
      {
        "duration": 413,
        "start_time": "2022-02-15T20:15:04.127Z"
      },
      {
        "duration": 30,
        "start_time": "2022-02-15T20:15:04.543Z"
      },
      {
        "duration": 25,
        "start_time": "2022-02-15T20:15:04.575Z"
      },
      {
        "duration": 13,
        "start_time": "2022-02-15T20:15:04.608Z"
      },
      {
        "duration": 28,
        "start_time": "2022-02-15T20:15:04.623Z"
      },
      {
        "duration": 17,
        "start_time": "2022-02-15T20:15:04.653Z"
      },
      {
        "duration": 42,
        "start_time": "2022-02-15T20:15:04.672Z"
      },
      {
        "duration": 25,
        "start_time": "2022-02-15T20:15:04.719Z"
      },
      {
        "duration": 121,
        "start_time": "2022-02-15T20:15:04.747Z"
      },
      {
        "duration": 19,
        "start_time": "2022-02-15T20:15:04.871Z"
      },
      {
        "duration": 186,
        "start_time": "2022-02-15T20:15:04.892Z"
      },
      {
        "duration": 38,
        "start_time": "2022-02-15T20:15:05.081Z"
      },
      {
        "duration": 95,
        "start_time": "2022-02-15T20:15:05.122Z"
      },
      {
        "duration": 22,
        "start_time": "2022-02-15T20:15:05.219Z"
      },
      {
        "duration": 13,
        "start_time": "2022-02-15T20:15:05.242Z"
      },
      {
        "duration": 60,
        "start_time": "2022-02-15T20:15:05.257Z"
      },
      {
        "duration": 28,
        "start_time": "2022-02-15T20:15:05.318Z"
      },
      {
        "duration": 29,
        "start_time": "2022-02-15T20:15:05.348Z"
      },
      {
        "duration": 82,
        "start_time": "2022-02-15T20:15:05.379Z"
      },
      {
        "duration": 85,
        "start_time": "2022-02-15T20:15:05.463Z"
      },
      {
        "duration": 11,
        "start_time": "2022-02-15T20:15:05.550Z"
      },
      {
        "duration": 20,
        "start_time": "2022-02-15T20:15:05.563Z"
      },
      {
        "duration": 34,
        "start_time": "2022-02-15T20:15:05.586Z"
      },
      {
        "duration": 653,
        "start_time": "2022-02-15T20:15:05.622Z"
      },
      {
        "duration": 35,
        "start_time": "2022-02-15T20:15:06.277Z"
      },
      {
        "duration": 15,
        "start_time": "2022-02-15T20:15:06.316Z"
      },
      {
        "duration": 39,
        "start_time": "2022-02-15T20:15:06.333Z"
      },
      {
        "duration": 47,
        "start_time": "2022-02-15T20:15:06.374Z"
      },
      {
        "duration": 39,
        "start_time": "2022-02-15T20:15:06.423Z"
      },
      {
        "duration": 4,
        "start_time": "2022-02-15T20:15:06.464Z"
      },
      {
        "duration": 16,
        "start_time": "2022-02-15T20:15:06.469Z"
      },
      {
        "duration": 260,
        "start_time": "2022-02-15T20:15:06.508Z"
      },
      {
        "duration": 9,
        "start_time": "2022-02-15T20:15:17.109Z"
      },
      {
        "duration": 3,
        "start_time": "2022-02-15T20:15:29.437Z"
      },
      {
        "duration": 391,
        "start_time": "2022-02-15T20:15:29.442Z"
      },
      {
        "duration": 28,
        "start_time": "2022-02-15T20:15:29.835Z"
      },
      {
        "duration": 28,
        "start_time": "2022-02-15T20:15:29.865Z"
      },
      {
        "duration": 21,
        "start_time": "2022-02-15T20:15:29.895Z"
      },
      {
        "duration": 33,
        "start_time": "2022-02-15T20:15:29.918Z"
      },
      {
        "duration": 16,
        "start_time": "2022-02-15T20:15:29.954Z"
      },
      {
        "duration": 10,
        "start_time": "2022-02-15T20:15:29.973Z"
      },
      {
        "duration": 26,
        "start_time": "2022-02-15T20:15:30.010Z"
      },
      {
        "duration": 119,
        "start_time": "2022-02-15T20:15:30.039Z"
      },
      {
        "duration": 18,
        "start_time": "2022-02-15T20:15:30.161Z"
      },
      {
        "duration": 176,
        "start_time": "2022-02-15T20:15:30.181Z"
      },
      {
        "duration": 21,
        "start_time": "2022-02-15T20:15:30.360Z"
      },
      {
        "duration": 107,
        "start_time": "2022-02-15T20:15:30.383Z"
      },
      {
        "duration": 30,
        "start_time": "2022-02-15T20:15:30.492Z"
      },
      {
        "duration": 13,
        "start_time": "2022-02-15T20:15:30.524Z"
      },
      {
        "duration": 41,
        "start_time": "2022-02-15T20:15:30.539Z"
      },
      {
        "duration": 47,
        "start_time": "2022-02-15T20:15:30.582Z"
      },
      {
        "duration": 31,
        "start_time": "2022-02-15T20:15:30.631Z"
      },
      {
        "duration": 87,
        "start_time": "2022-02-15T20:15:30.665Z"
      },
      {
        "duration": 87,
        "start_time": "2022-02-15T20:15:30.754Z"
      },
      {
        "duration": 11,
        "start_time": "2022-02-15T20:15:30.843Z"
      },
      {
        "duration": 30,
        "start_time": "2022-02-15T20:15:30.856Z"
      },
      {
        "duration": 31,
        "start_time": "2022-02-15T20:15:30.888Z"
      },
      {
        "duration": 588,
        "start_time": "2022-02-15T20:15:30.921Z"
      },
      {
        "duration": 28,
        "start_time": "2022-02-15T20:15:31.512Z"
      },
      {
        "duration": 16,
        "start_time": "2022-02-15T20:15:31.544Z"
      },
      {
        "duration": 58,
        "start_time": "2022-02-15T20:15:31.563Z"
      },
      {
        "duration": 35,
        "start_time": "2022-02-15T20:15:31.623Z"
      },
      {
        "duration": 53,
        "start_time": "2022-02-15T20:15:31.660Z"
      },
      {
        "duration": 4,
        "start_time": "2022-02-15T20:15:31.715Z"
      },
      {
        "duration": 16,
        "start_time": "2022-02-15T20:15:31.721Z"
      },
      {
        "duration": 61,
        "start_time": "2022-02-15T20:15:31.739Z"
      },
      {
        "duration": 249,
        "start_time": "2022-02-15T20:18:06.425Z"
      },
      {
        "duration": 306,
        "start_time": "2022-02-15T20:18:10.777Z"
      },
      {
        "duration": 252,
        "start_time": "2022-02-15T20:18:12.545Z"
      },
      {
        "duration": 341,
        "start_time": "2022-02-15T20:18:20.089Z"
      },
      {
        "duration": 250,
        "start_time": "2022-02-15T20:18:39.057Z"
      },
      {
        "duration": 244,
        "start_time": "2022-02-15T20:18:43.249Z"
      },
      {
        "duration": 40,
        "start_time": "2022-02-15T20:19:22.202Z"
      },
      {
        "duration": 3,
        "start_time": "2022-02-15T20:19:38.801Z"
      },
      {
        "duration": 404,
        "start_time": "2022-02-15T20:19:38.806Z"
      },
      {
        "duration": 28,
        "start_time": "2022-02-15T20:19:39.213Z"
      },
      {
        "duration": 25,
        "start_time": "2022-02-15T20:19:39.243Z"
      },
      {
        "duration": 38,
        "start_time": "2022-02-15T20:19:39.270Z"
      },
      {
        "duration": 21,
        "start_time": "2022-02-15T20:19:39.310Z"
      },
      {
        "duration": 18,
        "start_time": "2022-02-15T20:19:39.333Z"
      },
      {
        "duration": 10,
        "start_time": "2022-02-15T20:19:39.354Z"
      },
      {
        "duration": 56,
        "start_time": "2022-02-15T20:19:39.366Z"
      },
      {
        "duration": 111,
        "start_time": "2022-02-15T20:19:39.424Z"
      },
      {
        "duration": 16,
        "start_time": "2022-02-15T20:19:39.538Z"
      },
      {
        "duration": 178,
        "start_time": "2022-02-15T20:19:39.556Z"
      },
      {
        "duration": 24,
        "start_time": "2022-02-15T20:19:39.736Z"
      },
      {
        "duration": 100,
        "start_time": "2022-02-15T20:19:39.762Z"
      },
      {
        "duration": 21,
        "start_time": "2022-02-15T20:19:39.864Z"
      },
      {
        "duration": 29,
        "start_time": "2022-02-15T20:19:39.887Z"
      },
      {
        "duration": 36,
        "start_time": "2022-02-15T20:19:39.917Z"
      },
      {
        "duration": 28,
        "start_time": "2022-02-15T20:19:39.955Z"
      },
      {
        "duration": 51,
        "start_time": "2022-02-15T20:19:39.985Z"
      },
      {
        "duration": 80,
        "start_time": "2022-02-15T20:19:40.038Z"
      },
      {
        "duration": 93,
        "start_time": "2022-02-15T20:19:40.120Z"
      },
      {
        "duration": 13,
        "start_time": "2022-02-15T20:19:40.215Z"
      },
      {
        "duration": 13,
        "start_time": "2022-02-15T20:19:40.232Z"
      },
      {
        "duration": 19,
        "start_time": "2022-02-15T20:19:40.248Z"
      },
      {
        "duration": 597,
        "start_time": "2022-02-15T20:19:40.269Z"
      },
      {
        "duration": 39,
        "start_time": "2022-02-15T20:19:40.868Z"
      },
      {
        "duration": 15,
        "start_time": "2022-02-15T20:19:40.909Z"
      },
      {
        "duration": 35,
        "start_time": "2022-02-15T20:19:40.926Z"
      },
      {
        "duration": 55,
        "start_time": "2022-02-15T20:19:40.964Z"
      },
      {
        "duration": 39,
        "start_time": "2022-02-15T20:19:41.021Z"
      },
      {
        "duration": 4,
        "start_time": "2022-02-15T20:19:41.062Z"
      },
      {
        "duration": 15,
        "start_time": "2022-02-15T20:19:41.068Z"
      },
      {
        "duration": 22,
        "start_time": "2022-02-15T20:19:41.107Z"
      },
      {
        "duration": 14,
        "start_time": "2022-02-15T20:20:47.196Z"
      },
      {
        "duration": 23,
        "start_time": "2022-02-15T20:21:01.037Z"
      },
      {
        "duration": 3,
        "start_time": "2022-02-15T20:21:03.935Z"
      },
      {
        "duration": 404,
        "start_time": "2022-02-15T20:21:03.940Z"
      },
      {
        "duration": 28,
        "start_time": "2022-02-15T20:21:04.346Z"
      },
      {
        "duration": 32,
        "start_time": "2022-02-15T20:21:04.376Z"
      },
      {
        "duration": 12,
        "start_time": "2022-02-15T20:21:04.410Z"
      },
      {
        "duration": 30,
        "start_time": "2022-02-15T20:21:04.423Z"
      },
      {
        "duration": 14,
        "start_time": "2022-02-15T20:21:04.456Z"
      },
      {
        "duration": 39,
        "start_time": "2022-02-15T20:21:04.474Z"
      },
      {
        "duration": 24,
        "start_time": "2022-02-15T20:21:04.516Z"
      },
      {
        "duration": 110,
        "start_time": "2022-02-15T20:21:04.542Z"
      },
      {
        "duration": 16,
        "start_time": "2022-02-15T20:21:04.654Z"
      },
      {
        "duration": 172,
        "start_time": "2022-02-15T20:21:04.672Z"
      },
      {
        "duration": 21,
        "start_time": "2022-02-15T20:21:04.846Z"
      },
      {
        "duration": 100,
        "start_time": "2022-02-15T20:21:04.869Z"
      },
      {
        "duration": 20,
        "start_time": "2022-02-15T20:21:04.972Z"
      },
      {
        "duration": 21,
        "start_time": "2022-02-15T20:21:04.994Z"
      },
      {
        "duration": 44,
        "start_time": "2022-02-15T20:21:05.017Z"
      },
      {
        "duration": 29,
        "start_time": "2022-02-15T20:21:05.063Z"
      },
      {
        "duration": 43,
        "start_time": "2022-02-15T20:21:05.094Z"
      },
      {
        "duration": 77,
        "start_time": "2022-02-15T20:21:05.139Z"
      },
      {
        "duration": 89,
        "start_time": "2022-02-15T20:21:05.218Z"
      },
      {
        "duration": 10,
        "start_time": "2022-02-15T20:21:05.309Z"
      },
      {
        "duration": 16,
        "start_time": "2022-02-15T20:21:05.322Z"
      },
      {
        "duration": 30,
        "start_time": "2022-02-15T20:21:05.340Z"
      },
      {
        "duration": 678,
        "start_time": "2022-02-15T20:21:05.372Z"
      },
      {
        "duration": 29,
        "start_time": "2022-02-15T20:21:06.052Z"
      },
      {
        "duration": 32,
        "start_time": "2022-02-15T20:21:06.083Z"
      },
      {
        "duration": 32,
        "start_time": "2022-02-15T20:21:06.117Z"
      },
      {
        "duration": 33,
        "start_time": "2022-02-15T20:21:06.151Z"
      },
      {
        "duration": 39,
        "start_time": "2022-02-15T20:21:06.207Z"
      },
      {
        "duration": 4,
        "start_time": "2022-02-15T20:21:06.247Z"
      },
      {
        "duration": 19,
        "start_time": "2022-02-15T20:21:06.253Z"
      },
      {
        "duration": 34,
        "start_time": "2022-02-15T20:21:06.273Z"
      },
      {
        "duration": 4,
        "start_time": "2022-02-15T20:24:03.641Z"
      },
      {
        "duration": 388,
        "start_time": "2022-02-15T20:24:03.647Z"
      },
      {
        "duration": 29,
        "start_time": "2022-02-15T20:24:04.038Z"
      },
      {
        "duration": 25,
        "start_time": "2022-02-15T20:24:04.069Z"
      },
      {
        "duration": 20,
        "start_time": "2022-02-15T20:24:04.096Z"
      },
      {
        "duration": 25,
        "start_time": "2022-02-15T20:24:04.118Z"
      },
      {
        "duration": 14,
        "start_time": "2022-02-15T20:24:04.146Z"
      },
      {
        "duration": 10,
        "start_time": "2022-02-15T20:24:04.163Z"
      },
      {
        "duration": 48,
        "start_time": "2022-02-15T20:24:04.175Z"
      },
      {
        "duration": 103,
        "start_time": "2022-02-15T20:24:04.225Z"
      },
      {
        "duration": 17,
        "start_time": "2022-02-15T20:24:04.330Z"
      },
      {
        "duration": 179,
        "start_time": "2022-02-15T20:24:04.349Z"
      },
      {
        "duration": 24,
        "start_time": "2022-02-15T20:24:04.530Z"
      },
      {
        "duration": 100,
        "start_time": "2022-02-15T20:24:04.556Z"
      },
      {
        "duration": 21,
        "start_time": "2022-02-15T20:24:04.657Z"
      },
      {
        "duration": 28,
        "start_time": "2022-02-15T20:24:04.680Z"
      },
      {
        "duration": 975,
        "start_time": "2022-02-15T20:24:04.710Z"
      },
      {
        "duration": 371,
        "start_time": "2022-02-15T20:24:05.317Z"
      },
      {
        "duration": 369,
        "start_time": "2022-02-15T20:24:05.320Z"
      },
      {
        "duration": 368,
        "start_time": "2022-02-15T20:24:05.322Z"
      },
      {
        "duration": 367,
        "start_time": "2022-02-15T20:24:05.324Z"
      },
      {
        "duration": 366,
        "start_time": "2022-02-15T20:24:05.326Z"
      },
      {
        "duration": 364,
        "start_time": "2022-02-15T20:24:05.329Z"
      },
      {
        "duration": 364,
        "start_time": "2022-02-15T20:24:05.330Z"
      },
      {
        "duration": 362,
        "start_time": "2022-02-15T20:24:05.333Z"
      },
      {
        "duration": 361,
        "start_time": "2022-02-15T20:24:05.335Z"
      },
      {
        "duration": 360,
        "start_time": "2022-02-15T20:24:05.337Z"
      },
      {
        "duration": 360,
        "start_time": "2022-02-15T20:24:05.339Z"
      },
      {
        "duration": 359,
        "start_time": "2022-02-15T20:24:05.341Z"
      },
      {
        "duration": 359,
        "start_time": "2022-02-15T20:24:05.342Z"
      },
      {
        "duration": 358,
        "start_time": "2022-02-15T20:24:05.344Z"
      },
      {
        "duration": 357,
        "start_time": "2022-02-15T20:24:05.346Z"
      },
      {
        "duration": 356,
        "start_time": "2022-02-15T20:24:05.348Z"
      },
      {
        "duration": 34,
        "start_time": "2022-02-15T20:24:48.672Z"
      },
      {
        "duration": 37,
        "start_time": "2022-02-15T20:25:36.305Z"
      },
      {
        "duration": 31,
        "start_time": "2022-02-15T20:25:39.817Z"
      },
      {
        "duration": 60,
        "start_time": "2022-02-15T20:25:44.937Z"
      },
      {
        "duration": 76,
        "start_time": "2022-02-15T20:25:49.153Z"
      },
      {
        "duration": 11,
        "start_time": "2022-02-15T20:25:51.585Z"
      },
      {
        "duration": 13,
        "start_time": "2022-02-15T20:25:55.113Z"
      },
      {
        "duration": 19,
        "start_time": "2022-02-15T20:25:58.521Z"
      },
      {
        "duration": 573,
        "start_time": "2022-02-15T20:26:00.385Z"
      },
      {
        "duration": 37,
        "start_time": "2022-02-15T20:26:04.585Z"
      },
      {
        "duration": 15,
        "start_time": "2022-02-15T20:26:36.715Z"
      },
      {
        "duration": 34,
        "start_time": "2022-02-15T20:26:38.610Z"
      },
      {
        "duration": 976,
        "start_time": "2022-02-15T20:26:40.034Z"
      },
      {
        "duration": 41,
        "start_time": "2022-02-15T20:26:47.771Z"
      },
      {
        "duration": 255,
        "start_time": "2022-02-15T20:28:05.749Z"
      },
      {
        "duration": 269,
        "start_time": "2022-02-15T20:29:02.143Z"
      },
      {
        "duration": 8,
        "start_time": "2022-02-15T20:30:04.149Z"
      },
      {
        "duration": 30,
        "start_time": "2022-02-15T20:30:13.510Z"
      },
      {
        "duration": 3,
        "start_time": "2022-02-15T20:30:57.051Z"
      },
      {
        "duration": 396,
        "start_time": "2022-02-15T20:30:57.056Z"
      },
      {
        "duration": 31,
        "start_time": "2022-02-15T20:30:57.455Z"
      },
      {
        "duration": 25,
        "start_time": "2022-02-15T20:30:57.488Z"
      },
      {
        "duration": 12,
        "start_time": "2022-02-15T20:30:57.516Z"
      },
      {
        "duration": 21,
        "start_time": "2022-02-15T20:30:57.530Z"
      },
      {
        "duration": 15,
        "start_time": "2022-02-15T20:30:57.553Z"
      },
      {
        "duration": 10,
        "start_time": "2022-02-15T20:30:57.607Z"
      },
      {
        "duration": 24,
        "start_time": "2022-02-15T20:30:57.621Z"
      },
      {
        "duration": 113,
        "start_time": "2022-02-15T20:30:57.647Z"
      },
      {
        "duration": 17,
        "start_time": "2022-02-15T20:30:57.761Z"
      },
      {
        "duration": 185,
        "start_time": "2022-02-15T20:30:57.780Z"
      },
      {
        "duration": 21,
        "start_time": "2022-02-15T20:30:57.967Z"
      },
      {
        "duration": 118,
        "start_time": "2022-02-15T20:30:57.990Z"
      },
      {
        "duration": 21,
        "start_time": "2022-02-15T20:30:58.110Z"
      },
      {
        "duration": 14,
        "start_time": "2022-02-15T20:30:58.133Z"
      },
      {
        "duration": 64,
        "start_time": "2022-02-15T20:30:58.148Z"
      },
      {
        "duration": 36,
        "start_time": "2022-02-15T20:30:58.213Z"
      },
      {
        "duration": 29,
        "start_time": "2022-02-15T20:30:58.251Z"
      },
      {
        "duration": 79,
        "start_time": "2022-02-15T20:30:58.282Z"
      },
      {
        "duration": 89,
        "start_time": "2022-02-15T20:30:58.363Z"
      },
      {
        "duration": 11,
        "start_time": "2022-02-15T20:30:58.454Z"
      },
      {
        "duration": 14,
        "start_time": "2022-02-15T20:30:58.469Z"
      },
      {
        "duration": 41,
        "start_time": "2022-02-15T20:30:58.485Z"
      },
      {
        "duration": 598,
        "start_time": "2022-02-15T20:30:58.528Z"
      },
      {
        "duration": 41,
        "start_time": "2022-02-15T20:30:59.128Z"
      },
      {
        "duration": 36,
        "start_time": "2022-02-15T20:30:59.172Z"
      },
      {
        "duration": 32,
        "start_time": "2022-02-15T20:30:59.210Z"
      },
      {
        "duration": 41,
        "start_time": "2022-02-15T20:30:59.244Z"
      },
      {
        "duration": 46,
        "start_time": "2022-02-15T20:30:59.287Z"
      },
      {
        "duration": 248,
        "start_time": "2022-02-15T20:30:59.334Z"
      },
      {
        "duration": 375,
        "start_time": "2022-02-15T20:30:59.209Z"
      },
      {
        "duration": 371,
        "start_time": "2022-02-15T20:30:59.214Z"
      },
      {
        "duration": 369,
        "start_time": "2022-02-15T20:30:59.217Z"
      },
      {
        "duration": 392,
        "start_time": "2022-02-15T20:33:02.784Z"
      },
      {
        "duration": 259,
        "start_time": "2022-02-15T20:33:31.113Z"
      },
      {
        "duration": 13,
        "start_time": "2022-02-15T20:33:41.737Z"
      },
      {
        "duration": 82,
        "start_time": "2022-02-15T20:34:33.002Z"
      },
      {
        "duration": 317,
        "start_time": "2022-02-15T20:34:39.346Z"
      },
      {
        "duration": 18,
        "start_time": "2022-02-15T20:34:57.330Z"
      },
      {
        "duration": 39,
        "start_time": "2022-02-15T20:35:04.658Z"
      },
      {
        "duration": 33,
        "start_time": "2022-02-15T20:36:43.356Z"
      },
      {
        "duration": 43,
        "start_time": "2022-02-15T20:36:51.844Z"
      },
      {
        "duration": 27,
        "start_time": "2022-02-15T20:37:47.613Z"
      },
      {
        "duration": 45,
        "start_time": "2022-02-15T20:38:14.805Z"
      },
      {
        "duration": 42,
        "start_time": "2022-02-15T20:38:59.414Z"
      },
      {
        "duration": 43,
        "start_time": "2022-02-15T20:39:13.870Z"
      },
      {
        "duration": 43,
        "start_time": "2022-02-15T20:39:44.855Z"
      },
      {
        "duration": 45,
        "start_time": "2022-02-15T20:39:53.991Z"
      },
      {
        "duration": 42,
        "start_time": "2022-02-15T20:40:38.344Z"
      },
      {
        "duration": 43,
        "start_time": "2022-02-15T20:40:46.592Z"
      },
      {
        "duration": 59,
        "start_time": "2022-02-15T20:42:06.562Z"
      },
      {
        "duration": 37,
        "start_time": "2022-02-15T20:42:18.906Z"
      },
      {
        "duration": 24,
        "start_time": "2022-02-15T20:42:37.363Z"
      },
      {
        "duration": 37,
        "start_time": "2022-02-15T20:42:47.226Z"
      },
      {
        "duration": 38,
        "start_time": "2022-02-15T20:43:08.826Z"
      },
      {
        "duration": 37,
        "start_time": "2022-02-15T20:43:24.323Z"
      },
      {
        "duration": 3,
        "start_time": "2022-02-15T20:43:29.018Z"
      },
      {
        "duration": 405,
        "start_time": "2022-02-15T20:43:29.023Z"
      },
      {
        "duration": 28,
        "start_time": "2022-02-15T20:43:29.431Z"
      },
      {
        "duration": 37,
        "start_time": "2022-02-15T20:43:29.461Z"
      },
      {
        "duration": 13,
        "start_time": "2022-02-15T20:43:29.499Z"
      },
      {
        "duration": 33,
        "start_time": "2022-02-15T20:43:29.514Z"
      },
      {
        "duration": 20,
        "start_time": "2022-02-15T20:43:29.548Z"
      },
      {
        "duration": 22,
        "start_time": "2022-02-15T20:43:29.569Z"
      },
      {
        "duration": 27,
        "start_time": "2022-02-15T20:43:29.594Z"
      },
      {
        "duration": 106,
        "start_time": "2022-02-15T20:43:29.624Z"
      },
      {
        "duration": 17,
        "start_time": "2022-02-15T20:43:29.731Z"
      },
      {
        "duration": 175,
        "start_time": "2022-02-15T20:43:29.750Z"
      },
      {
        "duration": 24,
        "start_time": "2022-02-15T20:43:29.927Z"
      },
      {
        "duration": 113,
        "start_time": "2022-02-15T20:43:29.953Z"
      },
      {
        "duration": 21,
        "start_time": "2022-02-15T20:43:30.068Z"
      },
      {
        "duration": 26,
        "start_time": "2022-02-15T20:43:30.091Z"
      },
      {
        "duration": 45,
        "start_time": "2022-02-15T20:43:30.119Z"
      },
      {
        "duration": 155,
        "start_time": "2022-02-15T20:43:30.166Z"
      },
      {
        "duration": 30,
        "start_time": "2022-02-15T20:43:30.323Z"
      },
      {
        "duration": 77,
        "start_time": "2022-02-15T20:43:30.355Z"
      },
      {
        "duration": 92,
        "start_time": "2022-02-15T20:43:30.434Z"
      },
      {
        "duration": 13,
        "start_time": "2022-02-15T20:43:30.528Z"
      },
      {
        "duration": 22,
        "start_time": "2022-02-15T20:43:30.542Z"
      },
      {
        "duration": 24,
        "start_time": "2022-02-15T20:43:30.566Z"
      },
      {
        "duration": 594,
        "start_time": "2022-02-15T20:43:30.592Z"
      },
      {
        "duration": 48,
        "start_time": "2022-02-15T20:43:31.188Z"
      },
      {
        "duration": 21,
        "start_time": "2022-02-15T20:43:31.240Z"
      },
      {
        "duration": 54,
        "start_time": "2022-02-15T20:43:31.264Z"
      },
      {
        "duration": 56,
        "start_time": "2022-02-15T20:43:31.320Z"
      },
      {
        "duration": 53,
        "start_time": "2022-02-15T20:43:31.378Z"
      },
      {
        "duration": 277,
        "start_time": "2022-02-15T20:43:31.433Z"
      },
      {
        "duration": 397,
        "start_time": "2022-02-15T20:43:31.315Z"
      },
      {
        "duration": 392,
        "start_time": "2022-02-15T20:43:31.321Z"
      },
      {
        "duration": 391,
        "start_time": "2022-02-15T20:43:31.323Z"
      },
      {
        "duration": 24,
        "start_time": "2022-02-15T20:46:33.215Z"
      },
      {
        "duration": 28,
        "start_time": "2022-02-15T20:49:31.986Z"
      },
      {
        "duration": 28,
        "start_time": "2022-02-15T20:49:39.354Z"
      },
      {
        "duration": 95,
        "start_time": "2022-02-15T20:50:14.538Z"
      },
      {
        "duration": 29,
        "start_time": "2022-02-15T20:50:21.546Z"
      },
      {
        "duration": 33,
        "start_time": "2022-02-15T20:51:18.995Z"
      },
      {
        "duration": 27,
        "start_time": "2022-02-15T20:51:23.221Z"
      },
      {
        "duration": 22,
        "start_time": "2022-02-15T20:51:48.395Z"
      },
      {
        "duration": 26,
        "start_time": "2022-02-15T20:52:07.973Z"
      },
      {
        "duration": 261,
        "start_time": "2022-02-15T20:52:31.812Z"
      },
      {
        "duration": 290,
        "start_time": "2022-02-15T20:52:35.701Z"
      },
      {
        "duration": 22,
        "start_time": "2022-02-15T20:53:27.838Z"
      },
      {
        "duration": 26,
        "start_time": "2022-02-15T20:54:14.894Z"
      },
      {
        "duration": 30,
        "start_time": "2022-02-15T20:54:38.375Z"
      },
      {
        "duration": 37,
        "start_time": "2022-02-15T20:55:02.136Z"
      },
      {
        "duration": 35,
        "start_time": "2022-02-15T20:55:36.920Z"
      },
      {
        "duration": 227,
        "start_time": "2022-02-15T20:55:44.111Z"
      },
      {
        "duration": 209,
        "start_time": "2022-02-15T20:56:06.072Z"
      },
      {
        "duration": 212,
        "start_time": "2022-02-15T20:56:17.225Z"
      },
      {
        "duration": 181,
        "start_time": "2022-02-15T20:56:24.704Z"
      },
      {
        "duration": 3,
        "start_time": "2022-02-15T20:56:28.606Z"
      },
      {
        "duration": 387,
        "start_time": "2022-02-15T20:56:28.611Z"
      },
      {
        "duration": 27,
        "start_time": "2022-02-15T20:56:29.001Z"
      },
      {
        "duration": 35,
        "start_time": "2022-02-15T20:56:29.030Z"
      },
      {
        "duration": 12,
        "start_time": "2022-02-15T20:56:29.067Z"
      },
      {
        "duration": 34,
        "start_time": "2022-02-15T20:56:29.081Z"
      },
      {
        "duration": 17,
        "start_time": "2022-02-15T20:56:29.117Z"
      },
      {
        "duration": 19,
        "start_time": "2022-02-15T20:56:29.136Z"
      },
      {
        "duration": 34,
        "start_time": "2022-02-15T20:56:29.158Z"
      },
      {
        "duration": 91,
        "start_time": "2022-02-15T20:56:29.195Z"
      },
      {
        "duration": 26,
        "start_time": "2022-02-15T20:56:29.288Z"
      },
      {
        "duration": 168,
        "start_time": "2022-02-15T20:56:29.316Z"
      },
      {
        "duration": 29,
        "start_time": "2022-02-15T20:56:29.486Z"
      },
      {
        "duration": 91,
        "start_time": "2022-02-15T20:56:29.517Z"
      },
      {
        "duration": 21,
        "start_time": "2022-02-15T20:56:29.610Z"
      },
      {
        "duration": 13,
        "start_time": "2022-02-15T20:56:29.633Z"
      },
      {
        "duration": 42,
        "start_time": "2022-02-15T20:56:29.647Z"
      },
      {
        "duration": 42,
        "start_time": "2022-02-15T20:56:29.691Z"
      },
      {
        "duration": 31,
        "start_time": "2022-02-15T20:56:29.735Z"
      },
      {
        "duration": 83,
        "start_time": "2022-02-15T20:56:29.768Z"
      },
      {
        "duration": 88,
        "start_time": "2022-02-15T20:56:29.853Z"
      },
      {
        "duration": 11,
        "start_time": "2022-02-15T20:56:29.943Z"
      },
      {
        "duration": 22,
        "start_time": "2022-02-15T20:56:29.956Z"
      },
      {
        "duration": 36,
        "start_time": "2022-02-15T20:56:29.981Z"
      },
      {
        "duration": 578,
        "start_time": "2022-02-15T20:56:30.019Z"
      },
      {
        "duration": 28,
        "start_time": "2022-02-15T20:56:30.608Z"
      },
      {
        "duration": 15,
        "start_time": "2022-02-15T20:56:30.641Z"
      },
      {
        "duration": 59,
        "start_time": "2022-02-15T20:56:30.659Z"
      },
      {
        "duration": 35,
        "start_time": "2022-02-15T20:56:30.720Z"
      },
      {
        "duration": 175,
        "start_time": "2022-02-15T20:56:30.757Z"
      },
      {
        "duration": 5,
        "start_time": "2022-02-15T20:56:30.933Z"
      },
      {
        "duration": 5938,
        "start_time": "2022-02-15T20:56:30.940Z"
      },
      {
        "duration": 403,
        "start_time": "2022-02-15T20:56:36.477Z"
      },
      {
        "duration": 39,
        "start_time": "2022-02-15T20:57:26.473Z"
      },
      {
        "duration": 11,
        "start_time": "2022-02-15T20:57:32.221Z"
      },
      {
        "duration": 23,
        "start_time": "2022-02-15T20:57:36.697Z"
      },
      {
        "duration": 295,
        "start_time": "2022-02-15T21:00:42.693Z"
      },
      {
        "duration": 19,
        "start_time": "2022-02-15T21:00:51.558Z"
      },
      {
        "duration": 30,
        "start_time": "2022-02-15T21:01:28.782Z"
      },
      {
        "duration": 28,
        "start_time": "2022-02-15T21:02:21.119Z"
      },
      {
        "duration": 37,
        "start_time": "2022-02-15T21:02:35.231Z"
      },
      {
        "duration": 52,
        "start_time": "2022-02-15T21:03:06.848Z"
      },
      {
        "duration": 38,
        "start_time": "2022-02-15T21:03:59.417Z"
      },
      {
        "duration": 39,
        "start_time": "2022-02-15T21:04:33.874Z"
      },
      {
        "duration": 38,
        "start_time": "2022-02-15T21:05:05.587Z"
      },
      {
        "duration": 40,
        "start_time": "2022-02-15T21:05:41.436Z"
      },
      {
        "duration": 5,
        "start_time": "2022-02-15T21:05:43.882Z"
      },
      {
        "duration": 421,
        "start_time": "2022-02-15T21:05:52.396Z"
      },
      {
        "duration": 421,
        "start_time": "2022-02-15T21:05:52.398Z"
      },
      {
        "duration": 3,
        "start_time": "2022-02-15T21:06:07.461Z"
      },
      {
        "duration": 364,
        "start_time": "2022-02-15T21:06:07.467Z"
      },
      {
        "duration": 29,
        "start_time": "2022-02-15T21:06:07.833Z"
      },
      {
        "duration": 25,
        "start_time": "2022-02-15T21:06:07.865Z"
      },
      {
        "duration": 24,
        "start_time": "2022-02-15T21:06:07.892Z"
      },
      {
        "duration": 28,
        "start_time": "2022-02-15T21:06:07.918Z"
      },
      {
        "duration": 16,
        "start_time": "2022-02-15T21:06:07.948Z"
      },
      {
        "duration": 9,
        "start_time": "2022-02-15T21:06:07.968Z"
      },
      {
        "duration": 53,
        "start_time": "2022-02-15T21:06:07.979Z"
      },
      {
        "duration": 101,
        "start_time": "2022-02-15T21:06:08.034Z"
      },
      {
        "duration": 17,
        "start_time": "2022-02-15T21:06:08.137Z"
      },
      {
        "duration": 170,
        "start_time": "2022-02-15T21:06:08.155Z"
      },
      {
        "duration": 20,
        "start_time": "2022-02-15T21:06:08.326Z"
      },
      {
        "duration": 97,
        "start_time": "2022-02-15T21:06:08.348Z"
      },
      {
        "duration": 21,
        "start_time": "2022-02-15T21:06:08.446Z"
      },
      {
        "duration": 13,
        "start_time": "2022-02-15T21:06:08.469Z"
      },
      {
        "duration": 49,
        "start_time": "2022-02-15T21:06:08.483Z"
      },
      {
        "duration": 29,
        "start_time": "2022-02-15T21:06:08.533Z"
      },
      {
        "duration": 49,
        "start_time": "2022-02-15T21:06:08.564Z"
      },
      {
        "duration": 54,
        "start_time": "2022-02-15T21:06:08.615Z"
      },
      {
        "duration": 98,
        "start_time": "2022-02-15T21:06:08.670Z"
      },
      {
        "duration": 10,
        "start_time": "2022-02-15T21:06:08.770Z"
      },
      {
        "duration": 25,
        "start_time": "2022-02-15T21:06:08.784Z"
      },
      {
        "duration": 19,
        "start_time": "2022-02-15T21:06:08.812Z"
      },
      {
        "duration": 579,
        "start_time": "2022-02-15T21:06:08.833Z"
      },
      {
        "duration": 30,
        "start_time": "2022-02-15T21:06:09.414Z"
      },
      {
        "duration": 17,
        "start_time": "2022-02-15T21:06:09.445Z"
      },
      {
        "duration": 55,
        "start_time": "2022-02-15T21:06:09.464Z"
      },
      {
        "duration": 33,
        "start_time": "2022-02-15T21:06:09.521Z"
      },
      {
        "duration": 158,
        "start_time": "2022-02-15T21:06:09.556Z"
      },
      {
        "duration": 3,
        "start_time": "2022-02-15T21:06:09.716Z"
      },
      {
        "duration": 6517,
        "start_time": "2022-02-15T21:06:09.721Z"
      },
      {
        "duration": 421,
        "start_time": "2022-02-15T21:06:15.819Z"
      },
      {
        "duration": 427,
        "start_time": "2022-02-15T21:07:04.546Z"
      },
      {
        "duration": 421,
        "start_time": "2022-02-15T21:07:20.934Z"
      },
      {
        "duration": 419,
        "start_time": "2022-02-15T21:07:20.937Z"
      },
      {
        "duration": 416,
        "start_time": "2022-02-15T21:07:20.941Z"
      },
      {
        "duration": 415,
        "start_time": "2022-02-15T21:07:20.943Z"
      },
      {
        "duration": 413,
        "start_time": "2022-02-15T21:07:20.946Z"
      },
      {
        "duration": 413,
        "start_time": "2022-02-15T21:07:20.948Z"
      },
      {
        "duration": 412,
        "start_time": "2022-02-15T21:07:20.949Z"
      },
      {
        "duration": 412,
        "start_time": "2022-02-15T21:07:20.951Z"
      },
      {
        "duration": 412,
        "start_time": "2022-02-15T21:07:20.952Z"
      },
      {
        "duration": 411,
        "start_time": "2022-02-15T21:07:20.954Z"
      },
      {
        "duration": 411,
        "start_time": "2022-02-15T21:07:20.955Z"
      },
      {
        "duration": 406,
        "start_time": "2022-02-15T21:07:20.961Z"
      },
      {
        "duration": 404,
        "start_time": "2022-02-15T21:07:20.964Z"
      },
      {
        "duration": 404,
        "start_time": "2022-02-15T21:07:20.965Z"
      },
      {
        "duration": 403,
        "start_time": "2022-02-15T21:07:20.967Z"
      },
      {
        "duration": 403,
        "start_time": "2022-02-15T21:07:20.968Z"
      },
      {
        "duration": 398,
        "start_time": "2022-02-15T21:07:20.974Z"
      },
      {
        "duration": 396,
        "start_time": "2022-02-15T21:07:20.977Z"
      },
      {
        "duration": 395,
        "start_time": "2022-02-15T21:07:20.979Z"
      },
      {
        "duration": 394,
        "start_time": "2022-02-15T21:07:20.981Z"
      },
      {
        "duration": 394,
        "start_time": "2022-02-15T21:07:20.982Z"
      },
      {
        "duration": 393,
        "start_time": "2022-02-15T21:07:20.984Z"
      },
      {
        "duration": 392,
        "start_time": "2022-02-15T21:07:20.985Z"
      },
      {
        "duration": 392,
        "start_time": "2022-02-15T21:07:20.987Z"
      },
      {
        "duration": 392,
        "start_time": "2022-02-15T21:07:20.988Z"
      },
      {
        "duration": 386,
        "start_time": "2022-02-15T21:07:20.995Z"
      },
      {
        "duration": 382,
        "start_time": "2022-02-15T21:07:21.000Z"
      },
      {
        "duration": 382,
        "start_time": "2022-02-15T21:07:21.001Z"
      },
      {
        "duration": 380,
        "start_time": "2022-02-15T21:07:21.003Z"
      },
      {
        "duration": 380,
        "start_time": "2022-02-15T21:07:21.005Z"
      },
      {
        "duration": 378,
        "start_time": "2022-02-15T21:07:21.008Z"
      },
      {
        "duration": 377,
        "start_time": "2022-02-15T21:07:21.010Z"
      },
      {
        "duration": 375,
        "start_time": "2022-02-15T21:07:21.013Z"
      },
      {
        "duration": 1159,
        "start_time": "2022-02-15T21:07:30.549Z"
      },
      {
        "duration": 470,
        "start_time": "2022-02-15T21:07:31.711Z"
      },
      {
        "duration": 31,
        "start_time": "2022-02-15T21:07:32.186Z"
      },
      {
        "duration": 24,
        "start_time": "2022-02-15T21:07:32.219Z"
      },
      {
        "duration": 22,
        "start_time": "2022-02-15T21:07:32.245Z"
      },
      {
        "duration": 44,
        "start_time": "2022-02-15T21:07:32.269Z"
      },
      {
        "duration": 15,
        "start_time": "2022-02-15T21:07:32.315Z"
      },
      {
        "duration": 9,
        "start_time": "2022-02-15T21:07:32.333Z"
      },
      {
        "duration": 33,
        "start_time": "2022-02-15T21:07:32.344Z"
      },
      {
        "duration": 140,
        "start_time": "2022-02-15T21:07:32.379Z"
      },
      {
        "duration": 19,
        "start_time": "2022-02-15T21:07:32.521Z"
      },
      {
        "duration": 193,
        "start_time": "2022-02-15T21:07:32.542Z"
      },
      {
        "duration": 30,
        "start_time": "2022-02-15T21:07:32.737Z"
      },
      {
        "duration": 99,
        "start_time": "2022-02-15T21:07:32.769Z"
      },
      {
        "duration": 20,
        "start_time": "2022-02-15T21:07:32.870Z"
      },
      {
        "duration": 26,
        "start_time": "2022-02-15T21:07:32.892Z"
      },
      {
        "duration": 39,
        "start_time": "2022-02-15T21:07:32.920Z"
      },
      {
        "duration": 48,
        "start_time": "2022-02-15T21:07:32.961Z"
      },
      {
        "duration": 30,
        "start_time": "2022-02-15T21:07:33.011Z"
      },
      {
        "duration": 78,
        "start_time": "2022-02-15T21:07:33.042Z"
      },
      {
        "duration": 96,
        "start_time": "2022-02-15T21:07:33.122Z"
      },
      {
        "duration": 13,
        "start_time": "2022-02-15T21:07:33.220Z"
      },
      {
        "duration": 12,
        "start_time": "2022-02-15T21:07:33.235Z"
      },
      {
        "duration": 28,
        "start_time": "2022-02-15T21:07:33.249Z"
      },
      {
        "duration": 603,
        "start_time": "2022-02-15T21:07:33.279Z"
      },
      {
        "duration": 39,
        "start_time": "2022-02-15T21:07:33.885Z"
      },
      {
        "duration": 16,
        "start_time": "2022-02-15T21:07:33.926Z"
      },
      {
        "duration": 35,
        "start_time": "2022-02-15T21:07:33.944Z"
      },
      {
        "duration": 63,
        "start_time": "2022-02-15T21:07:33.981Z"
      },
      {
        "duration": 39,
        "start_time": "2022-02-15T21:07:34.046Z"
      },
      {
        "duration": 22,
        "start_time": "2022-02-15T21:07:34.087Z"
      },
      {
        "duration": 6785,
        "start_time": "2022-02-15T21:07:34.112Z"
      },
      {
        "duration": 422,
        "start_time": "2022-02-15T21:07:40.478Z"
      },
      {
        "duration": 6250,
        "start_time": "2022-02-15T21:08:20.062Z"
      },
      {
        "duration": 4,
        "start_time": "2022-02-15T21:08:29.717Z"
      },
      {
        "duration": 28,
        "start_time": "2022-02-15T21:08:46.638Z"
      },
      {
        "duration": 39,
        "start_time": "2022-02-15T21:08:54.775Z"
      },
      {
        "duration": 10,
        "start_time": "2022-02-15T21:09:57.287Z"
      },
      {
        "duration": 82,
        "start_time": "2022-02-15T21:10:14.072Z"
      },
      {
        "duration": 5,
        "start_time": "2022-02-15T21:10:17.463Z"
      },
      {
        "duration": 7,
        "start_time": "2022-02-15T21:10:53.016Z"
      },
      {
        "duration": 22,
        "start_time": "2022-02-15T21:11:05.560Z"
      },
      {
        "duration": 10,
        "start_time": "2022-02-15T21:11:47.433Z"
      },
      {
        "duration": 18,
        "start_time": "2022-02-15T21:11:56.625Z"
      },
      {
        "duration": 21,
        "start_time": "2022-02-15T21:12:32.122Z"
      },
      {
        "duration": 19,
        "start_time": "2022-02-15T21:12:51.954Z"
      },
      {
        "duration": 4,
        "start_time": "2022-02-15T21:12:55.111Z"
      },
      {
        "duration": 409,
        "start_time": "2022-02-15T21:12:55.117Z"
      },
      {
        "duration": 27,
        "start_time": "2022-02-15T21:12:55.529Z"
      },
      {
        "duration": 24,
        "start_time": "2022-02-15T21:12:55.559Z"
      },
      {
        "duration": 24,
        "start_time": "2022-02-15T21:12:55.585Z"
      },
      {
        "duration": 26,
        "start_time": "2022-02-15T21:12:55.611Z"
      },
      {
        "duration": 15,
        "start_time": "2022-02-15T21:12:55.639Z"
      },
      {
        "duration": 18,
        "start_time": "2022-02-15T21:12:55.656Z"
      },
      {
        "duration": 45,
        "start_time": "2022-02-15T21:12:55.676Z"
      },
      {
        "duration": 110,
        "start_time": "2022-02-15T21:12:55.723Z"
      },
      {
        "duration": 17,
        "start_time": "2022-02-15T21:12:55.836Z"
      },
      {
        "duration": 184,
        "start_time": "2022-02-15T21:12:55.855Z"
      },
      {
        "duration": 22,
        "start_time": "2022-02-15T21:12:56.040Z"
      },
      {
        "duration": 106,
        "start_time": "2022-02-15T21:12:56.064Z"
      },
      {
        "duration": 21,
        "start_time": "2022-02-15T21:12:56.172Z"
      },
      {
        "duration": 23,
        "start_time": "2022-02-15T21:12:56.195Z"
      },
      {
        "duration": 35,
        "start_time": "2022-02-15T21:12:56.220Z"
      },
      {
        "duration": 53,
        "start_time": "2022-02-15T21:12:56.257Z"
      },
      {
        "duration": 28,
        "start_time": "2022-02-15T21:12:56.312Z"
      },
      {
        "duration": 74,
        "start_time": "2022-02-15T21:12:56.342Z"
      },
      {
        "duration": 91,
        "start_time": "2022-02-15T21:12:56.418Z"
      },
      {
        "duration": 12,
        "start_time": "2022-02-15T21:12:56.511Z"
      },
      {
        "duration": 16,
        "start_time": "2022-02-15T21:12:56.526Z"
      },
      {
        "duration": 37,
        "start_time": "2022-02-15T21:12:56.544Z"
      },
      {
        "duration": 577,
        "start_time": "2022-02-15T21:12:56.583Z"
      },
      {
        "duration": 28,
        "start_time": "2022-02-15T21:12:57.162Z"
      },
      {
        "duration": 33,
        "start_time": "2022-02-15T21:12:57.192Z"
      },
      {
        "duration": 52,
        "start_time": "2022-02-15T21:12:57.227Z"
      },
      {
        "duration": 38,
        "start_time": "2022-02-15T21:12:57.280Z"
      },
      {
        "duration": 37,
        "start_time": "2022-02-15T21:12:57.320Z"
      },
      {
        "duration": 13,
        "start_time": "2022-02-15T21:12:57.359Z"
      },
      {
        "duration": 46,
        "start_time": "2022-02-15T21:12:57.374Z"
      },
      {
        "duration": 22,
        "start_time": "2022-02-15T21:15:00.900Z"
      },
      {
        "duration": 11,
        "start_time": "2022-02-15T21:15:12.556Z"
      },
      {
        "duration": 254,
        "start_time": "2022-02-15T21:17:29.791Z"
      },
      {
        "duration": 247,
        "start_time": "2022-02-15T21:18:46.824Z"
      },
      {
        "duration": 244,
        "start_time": "2022-02-15T21:18:50.784Z"
      },
      {
        "duration": 408,
        "start_time": "2022-02-15T21:19:21.448Z"
      },
      {
        "duration": 269,
        "start_time": "2022-02-15T21:19:35.777Z"
      },
      {
        "duration": 9,
        "start_time": "2022-02-15T21:19:48.977Z"
      },
      {
        "duration": 10,
        "start_time": "2022-02-15T21:23:33.821Z"
      },
      {
        "duration": 38,
        "start_time": "2022-02-15T21:23:39.333Z"
      },
      {
        "duration": 3,
        "start_time": "2022-02-15T21:23:43.292Z"
      },
      {
        "duration": 422,
        "start_time": "2022-02-15T21:23:43.298Z"
      },
      {
        "duration": 27,
        "start_time": "2022-02-15T21:23:43.722Z"
      },
      {
        "duration": 37,
        "start_time": "2022-02-15T21:23:43.751Z"
      },
      {
        "duration": 19,
        "start_time": "2022-02-15T21:23:43.790Z"
      },
      {
        "duration": 96,
        "start_time": "2022-02-15T21:23:43.811Z"
      },
      {
        "duration": 103,
        "start_time": "2022-02-15T21:23:43.910Z"
      },
      {
        "duration": 110,
        "start_time": "2022-02-15T21:23:44.017Z"
      },
      {
        "duration": 31,
        "start_time": "2022-02-15T21:23:44.129Z"
      },
      {
        "duration": 115,
        "start_time": "2022-02-15T21:23:44.162Z"
      },
      {
        "duration": 16,
        "start_time": "2022-02-15T21:23:44.279Z"
      },
      {
        "duration": 171,
        "start_time": "2022-02-15T21:23:44.297Z"
      },
      {
        "duration": 25,
        "start_time": "2022-02-15T21:23:44.470Z"
      },
      {
        "duration": 84,
        "start_time": "2022-02-15T21:23:44.507Z"
      },
      {
        "duration": 29,
        "start_time": "2022-02-15T21:23:44.592Z"
      },
      {
        "duration": 13,
        "start_time": "2022-02-15T21:23:44.624Z"
      },
      {
        "duration": 41,
        "start_time": "2022-02-15T21:23:44.639Z"
      },
      {
        "duration": 49,
        "start_time": "2022-02-15T21:23:44.682Z"
      },
      {
        "duration": 119,
        "start_time": "2022-02-15T21:23:44.733Z"
      },
      {
        "duration": 63,
        "start_time": "2022-02-15T21:23:44.854Z"
      },
      {
        "duration": 77,
        "start_time": "2022-02-15T21:23:44.919Z"
      },
      {
        "duration": 20,
        "start_time": "2022-02-15T21:23:44.998Z"
      },
      {
        "duration": 36,
        "start_time": "2022-02-15T21:23:45.022Z"
      },
      {
        "duration": 40,
        "start_time": "2022-02-15T21:23:45.060Z"
      },
      {
        "duration": 570,
        "start_time": "2022-02-15T21:23:45.102Z"
      },
      {
        "duration": 37,
        "start_time": "2022-02-15T21:23:45.674Z"
      },
      {
        "duration": 17,
        "start_time": "2022-02-15T21:23:45.713Z"
      },
      {
        "duration": 66,
        "start_time": "2022-02-15T21:23:45.732Z"
      },
      {
        "duration": 36,
        "start_time": "2022-02-15T21:23:45.800Z"
      },
      {
        "duration": 42,
        "start_time": "2022-02-15T21:23:45.838Z"
      },
      {
        "duration": 4,
        "start_time": "2022-02-15T21:23:45.882Z"
      },
      {
        "duration": 15,
        "start_time": "2022-02-15T21:23:45.908Z"
      },
      {
        "duration": 50,
        "start_time": "2022-02-15T21:23:45.924Z"
      },
      {
        "duration": 15,
        "start_time": "2022-02-15T21:25:17.335Z"
      },
      {
        "duration": 3,
        "start_time": "2022-02-15T21:25:23.527Z"
      },
      {
        "duration": 403,
        "start_time": "2022-02-15T21:25:23.532Z"
      },
      {
        "duration": 29,
        "start_time": "2022-02-15T21:25:23.938Z"
      },
      {
        "duration": 25,
        "start_time": "2022-02-15T21:25:23.969Z"
      },
      {
        "duration": 17,
        "start_time": "2022-02-15T21:25:23.996Z"
      },
      {
        "duration": 26,
        "start_time": "2022-02-15T21:25:24.016Z"
      },
      {
        "duration": 14,
        "start_time": "2022-02-15T21:25:24.044Z"
      },
      {
        "duration": 15,
        "start_time": "2022-02-15T21:25:24.060Z"
      },
      {
        "duration": 45,
        "start_time": "2022-02-15T21:25:24.078Z"
      },
      {
        "duration": 111,
        "start_time": "2022-02-15T21:25:24.126Z"
      },
      {
        "duration": 17,
        "start_time": "2022-02-15T21:25:24.239Z"
      },
      {
        "duration": 167,
        "start_time": "2022-02-15T21:25:24.258Z"
      },
      {
        "duration": 25,
        "start_time": "2022-02-15T21:25:24.427Z"
      },
      {
        "duration": 105,
        "start_time": "2022-02-15T21:25:24.453Z"
      },
      {
        "duration": 21,
        "start_time": "2022-02-15T21:25:24.560Z"
      },
      {
        "duration": 30,
        "start_time": "2022-02-15T21:25:24.583Z"
      },
      {
        "duration": 35,
        "start_time": "2022-02-15T21:25:24.615Z"
      },
      {
        "duration": 28,
        "start_time": "2022-02-15T21:25:24.652Z"
      },
      {
        "duration": 52,
        "start_time": "2022-02-15T21:25:24.682Z"
      },
      {
        "duration": 72,
        "start_time": "2022-02-15T21:25:24.736Z"
      },
      {
        "duration": 75,
        "start_time": "2022-02-15T21:25:24.810Z"
      },
      {
        "duration": 27,
        "start_time": "2022-02-15T21:25:24.887Z"
      },
      {
        "duration": 13,
        "start_time": "2022-02-15T21:25:24.916Z"
      },
      {
        "duration": 23,
        "start_time": "2022-02-15T21:25:24.931Z"
      },
      {
        "duration": 582,
        "start_time": "2022-02-15T21:25:24.956Z"
      },
      {
        "duration": 29,
        "start_time": "2022-02-15T21:25:25.540Z"
      },
      {
        "duration": 16,
        "start_time": "2022-02-15T21:25:25.572Z"
      },
      {
        "duration": 32,
        "start_time": "2022-02-15T21:25:25.607Z"
      },
      {
        "duration": 37,
        "start_time": "2022-02-15T21:25:25.642Z"
      },
      {
        "duration": 62,
        "start_time": "2022-02-15T21:25:25.681Z"
      },
      {
        "duration": 5,
        "start_time": "2022-02-15T21:25:25.745Z"
      },
      {
        "duration": 18,
        "start_time": "2022-02-15T21:25:25.752Z"
      },
      {
        "duration": 39,
        "start_time": "2022-02-15T21:25:25.773Z"
      },
      {
        "duration": 8,
        "start_time": "2022-02-15T21:26:34.856Z"
      },
      {
        "duration": 243,
        "start_time": "2022-02-15T21:26:52.065Z"
      },
      {
        "duration": 247,
        "start_time": "2022-02-15T21:26:55.865Z"
      },
      {
        "duration": 241,
        "start_time": "2022-02-15T21:27:00.201Z"
      },
      {
        "duration": 8,
        "start_time": "2022-02-15T21:27:06.865Z"
      },
      {
        "duration": 6,
        "start_time": "2022-02-15T21:27:31.665Z"
      },
      {
        "duration": 3,
        "start_time": "2022-02-15T21:27:34.173Z"
      },
      {
        "duration": 394,
        "start_time": "2022-02-15T21:27:34.177Z"
      },
      {
        "duration": 28,
        "start_time": "2022-02-15T21:27:34.573Z"
      },
      {
        "duration": 24,
        "start_time": "2022-02-15T21:27:34.603Z"
      },
      {
        "duration": 13,
        "start_time": "2022-02-15T21:27:34.628Z"
      },
      {
        "duration": 27,
        "start_time": "2022-02-15T21:27:34.642Z"
      },
      {
        "duration": 16,
        "start_time": "2022-02-15T21:27:34.671Z"
      },
      {
        "duration": 14,
        "start_time": "2022-02-15T21:27:34.709Z"
      },
      {
        "duration": 28,
        "start_time": "2022-02-15T21:27:34.727Z"
      },
      {
        "duration": 117,
        "start_time": "2022-02-15T21:27:34.758Z"
      },
      {
        "duration": 32,
        "start_time": "2022-02-15T21:27:34.877Z"
      },
      {
        "duration": 171,
        "start_time": "2022-02-15T21:27:34.911Z"
      },
      {
        "duration": 29,
        "start_time": "2022-02-15T21:27:35.084Z"
      },
      {
        "duration": 94,
        "start_time": "2022-02-15T21:27:35.114Z"
      },
      {
        "duration": 21,
        "start_time": "2022-02-15T21:27:35.210Z"
      },
      {
        "duration": 13,
        "start_time": "2022-02-15T21:27:35.233Z"
      },
      {
        "duration": 39,
        "start_time": "2022-02-15T21:27:35.248Z"
      },
      {
        "duration": 45,
        "start_time": "2022-02-15T21:27:35.289Z"
      },
      {
        "duration": 28,
        "start_time": "2022-02-15T21:27:35.335Z"
      },
      {
        "duration": 83,
        "start_time": "2022-02-15T21:27:35.365Z"
      },
      {
        "duration": 79,
        "start_time": "2022-02-15T21:27:35.450Z"
      },
      {
        "duration": 13,
        "start_time": "2022-02-15T21:27:35.531Z"
      },
      {
        "duration": 22,
        "start_time": "2022-02-15T21:27:35.546Z"
      },
      {
        "duration": 41,
        "start_time": "2022-02-15T21:27:35.570Z"
      },
      {
        "duration": 576,
        "start_time": "2022-02-15T21:27:35.613Z"
      },
      {
        "duration": 38,
        "start_time": "2022-02-15T21:27:36.191Z"
      },
      {
        "duration": 26,
        "start_time": "2022-02-15T21:27:36.232Z"
      },
      {
        "duration": 53,
        "start_time": "2022-02-15T21:27:36.260Z"
      },
      {
        "duration": 37,
        "start_time": "2022-02-15T21:27:36.315Z"
      },
      {
        "duration": 56,
        "start_time": "2022-02-15T21:27:36.353Z"
      },
      {
        "duration": 4,
        "start_time": "2022-02-15T21:27:36.410Z"
      },
      {
        "duration": 32,
        "start_time": "2022-02-15T21:27:36.416Z"
      },
      {
        "duration": 21,
        "start_time": "2022-02-15T21:27:36.450Z"
      },
      {
        "duration": 9,
        "start_time": "2022-02-15T21:27:36.473Z"
      },
      {
        "duration": 9,
        "start_time": "2022-02-15T21:28:40.867Z"
      },
      {
        "duration": 10,
        "start_time": "2022-02-15T21:28:55.731Z"
      },
      {
        "duration": 3,
        "start_time": "2022-02-15T21:29:10.667Z"
      },
      {
        "duration": 494,
        "start_time": "2022-02-15T21:29:10.673Z"
      },
      {
        "duration": 27,
        "start_time": "2022-02-15T21:29:11.169Z"
      },
      {
        "duration": 25,
        "start_time": "2022-02-15T21:29:11.198Z"
      },
      {
        "duration": 12,
        "start_time": "2022-02-15T21:29:11.224Z"
      },
      {
        "duration": 25,
        "start_time": "2022-02-15T21:29:11.237Z"
      },
      {
        "duration": 21,
        "start_time": "2022-02-15T21:29:11.264Z"
      },
      {
        "duration": 27,
        "start_time": "2022-02-15T21:29:11.287Z"
      },
      {
        "duration": 23,
        "start_time": "2022-02-15T21:29:11.317Z"
      },
      {
        "duration": 120,
        "start_time": "2022-02-15T21:29:11.342Z"
      },
      {
        "duration": 17,
        "start_time": "2022-02-15T21:29:11.464Z"
      },
      {
        "duration": 180,
        "start_time": "2022-02-15T21:29:11.483Z"
      },
      {
        "duration": 21,
        "start_time": "2022-02-15T21:29:11.665Z"
      },
      {
        "duration": 108,
        "start_time": "2022-02-15T21:29:11.688Z"
      },
      {
        "duration": 27,
        "start_time": "2022-02-15T21:29:11.799Z"
      },
      {
        "duration": 16,
        "start_time": "2022-02-15T21:29:11.828Z"
      },
      {
        "duration": 33,
        "start_time": "2022-02-15T21:29:11.846Z"
      },
      {
        "duration": 55,
        "start_time": "2022-02-15T21:29:11.881Z"
      },
      {
        "duration": 33,
        "start_time": "2022-02-15T21:29:11.937Z"
      },
      {
        "duration": 78,
        "start_time": "2022-02-15T21:29:11.972Z"
      },
      {
        "duration": 91,
        "start_time": "2022-02-15T21:29:12.052Z"
      },
      {
        "duration": 10,
        "start_time": "2022-02-15T21:29:12.146Z"
      },
      {
        "duration": 13,
        "start_time": "2022-02-15T21:29:12.158Z"
      },
      {
        "duration": 37,
        "start_time": "2022-02-15T21:29:12.174Z"
      },
      {
        "duration": 582,
        "start_time": "2022-02-15T21:29:12.214Z"
      },
      {
        "duration": 34,
        "start_time": "2022-02-15T21:29:12.798Z"
      },
      {
        "duration": 16,
        "start_time": "2022-02-15T21:29:12.836Z"
      },
      {
        "duration": 59,
        "start_time": "2022-02-15T21:29:12.855Z"
      },
      {
        "duration": 35,
        "start_time": "2022-02-15T21:29:12.916Z"
      },
      {
        "duration": 56,
        "start_time": "2022-02-15T21:29:12.953Z"
      },
      {
        "duration": 5,
        "start_time": "2022-02-15T21:29:13.011Z"
      },
      {
        "duration": 26,
        "start_time": "2022-02-15T21:29:13.017Z"
      },
      {
        "duration": 18,
        "start_time": "2022-02-15T21:29:13.045Z"
      },
      {
        "duration": 8,
        "start_time": "2022-02-15T21:29:13.065Z"
      },
      {
        "duration": 54,
        "start_time": "2022-02-15T21:29:13.076Z"
      },
      {
        "duration": 3,
        "start_time": "2022-02-15T21:29:40.085Z"
      },
      {
        "duration": 416,
        "start_time": "2022-02-15T21:29:40.091Z"
      },
      {
        "duration": 30,
        "start_time": "2022-02-15T21:29:40.509Z"
      },
      {
        "duration": 27,
        "start_time": "2022-02-15T21:29:40.542Z"
      },
      {
        "duration": 39,
        "start_time": "2022-02-15T21:29:40.571Z"
      },
      {
        "duration": 26,
        "start_time": "2022-02-15T21:29:40.612Z"
      },
      {
        "duration": 17,
        "start_time": "2022-02-15T21:29:40.640Z"
      },
      {
        "duration": 15,
        "start_time": "2022-02-15T21:29:40.659Z"
      },
      {
        "duration": 51,
        "start_time": "2022-02-15T21:29:40.677Z"
      },
      {
        "duration": 112,
        "start_time": "2022-02-15T21:29:40.731Z"
      },
      {
        "duration": 16,
        "start_time": "2022-02-15T21:29:40.845Z"
      },
      {
        "duration": 178,
        "start_time": "2022-02-15T21:29:40.863Z"
      },
      {
        "duration": 24,
        "start_time": "2022-02-15T21:29:41.043Z"
      },
      {
        "duration": 109,
        "start_time": "2022-02-15T21:29:41.069Z"
      },
      {
        "duration": 27,
        "start_time": "2022-02-15T21:29:41.180Z"
      },
      {
        "duration": 13,
        "start_time": "2022-02-15T21:29:41.209Z"
      },
      {
        "duration": 38,
        "start_time": "2022-02-15T21:29:41.224Z"
      },
      {
        "duration": 49,
        "start_time": "2022-02-15T21:29:41.264Z"
      },
      {
        "duration": 30,
        "start_time": "2022-02-15T21:29:41.314Z"
      },
      {
        "duration": 75,
        "start_time": "2022-02-15T21:29:41.345Z"
      },
      {
        "duration": 87,
        "start_time": "2022-02-15T21:29:41.422Z"
      },
      {
        "duration": 10,
        "start_time": "2022-02-15T21:29:41.511Z"
      },
      {
        "duration": 15,
        "start_time": "2022-02-15T21:29:41.523Z"
      },
      {
        "duration": 28,
        "start_time": "2022-02-15T21:29:41.540Z"
      },
      {
        "duration": 591,
        "start_time": "2022-02-15T21:29:41.570Z"
      },
      {
        "duration": 28,
        "start_time": "2022-02-15T21:29:42.163Z"
      },
      {
        "duration": 17,
        "start_time": "2022-02-15T21:29:42.207Z"
      },
      {
        "duration": 44,
        "start_time": "2022-02-15T21:29:42.226Z"
      },
      {
        "duration": 48,
        "start_time": "2022-02-15T21:29:42.272Z"
      },
      {
        "duration": 39,
        "start_time": "2022-02-15T21:29:42.322Z"
      },
      {
        "duration": 4,
        "start_time": "2022-02-15T21:29:42.364Z"
      },
      {
        "duration": 18,
        "start_time": "2022-02-15T21:29:42.370Z"
      },
      {
        "duration": 47,
        "start_time": "2022-02-15T21:29:42.390Z"
      },
      {
        "duration": 5,
        "start_time": "2022-02-15T21:29:42.439Z"
      },
      {
        "duration": 43,
        "start_time": "2022-02-15T21:29:42.445Z"
      },
      {
        "duration": 4,
        "start_time": "2022-02-15T21:31:01.300Z"
      },
      {
        "duration": 428,
        "start_time": "2022-02-15T21:31:01.306Z"
      },
      {
        "duration": 31,
        "start_time": "2022-02-15T21:31:01.736Z"
      },
      {
        "duration": 30,
        "start_time": "2022-02-15T21:31:01.770Z"
      },
      {
        "duration": 24,
        "start_time": "2022-02-15T21:31:01.802Z"
      },
      {
        "duration": 34,
        "start_time": "2022-02-15T21:31:01.828Z"
      },
      {
        "duration": 23,
        "start_time": "2022-02-15T21:31:01.864Z"
      },
      {
        "duration": 31,
        "start_time": "2022-02-15T21:31:01.890Z"
      },
      {
        "duration": 42,
        "start_time": "2022-02-15T21:31:01.923Z"
      },
      {
        "duration": 107,
        "start_time": "2022-02-15T21:31:01.968Z"
      },
      {
        "duration": 19,
        "start_time": "2022-02-15T21:31:02.077Z"
      },
      {
        "duration": 177,
        "start_time": "2022-02-15T21:31:02.107Z"
      },
      {
        "duration": 31,
        "start_time": "2022-02-15T21:31:02.286Z"
      },
      {
        "duration": 101,
        "start_time": "2022-02-15T21:31:02.319Z"
      },
      {
        "duration": 22,
        "start_time": "2022-02-15T21:31:02.421Z"
      },
      {
        "duration": 16,
        "start_time": "2022-02-15T21:31:02.445Z"
      },
      {
        "duration": 69,
        "start_time": "2022-02-15T21:31:02.463Z"
      },
      {
        "duration": 31,
        "start_time": "2022-02-15T21:31:02.534Z"
      },
      {
        "duration": 42,
        "start_time": "2022-02-15T21:31:02.567Z"
      },
      {
        "duration": 64,
        "start_time": "2022-02-15T21:31:02.611Z"
      },
      {
        "duration": 93,
        "start_time": "2022-02-15T21:31:02.677Z"
      },
      {
        "duration": 13,
        "start_time": "2022-02-15T21:31:02.772Z"
      },
      {
        "duration": 27,
        "start_time": "2022-02-15T21:31:02.788Z"
      },
      {
        "duration": 56,
        "start_time": "2022-02-15T21:31:02.817Z"
      },
      {
        "duration": 706,
        "start_time": "2022-02-15T21:31:02.875Z"
      },
      {
        "duration": 28,
        "start_time": "2022-02-15T21:31:03.583Z"
      },
      {
        "duration": 25,
        "start_time": "2022-02-15T21:31:03.613Z"
      },
      {
        "duration": 59,
        "start_time": "2022-02-15T21:31:03.640Z"
      },
      {
        "duration": 36,
        "start_time": "2022-02-15T21:31:03.701Z"
      },
      {
        "duration": 45,
        "start_time": "2022-02-15T21:31:03.738Z"
      },
      {
        "duration": 3,
        "start_time": "2022-02-15T21:31:03.786Z"
      },
      {
        "duration": 66,
        "start_time": "2022-02-15T21:31:03.791Z"
      },
      {
        "duration": 45,
        "start_time": "2022-02-15T21:31:03.859Z"
      },
      {
        "duration": 30,
        "start_time": "2022-02-15T21:31:03.907Z"
      },
      {
        "duration": 21,
        "start_time": "2022-02-15T21:31:03.939Z"
      },
      {
        "duration": 16,
        "start_time": "2022-02-15T21:31:14.990Z"
      },
      {
        "duration": 19,
        "start_time": "2022-02-15T21:33:30.264Z"
      },
      {
        "duration": 4,
        "start_time": "2022-02-15T21:34:12.527Z"
      },
      {
        "duration": 402,
        "start_time": "2022-02-15T21:34:12.533Z"
      },
      {
        "duration": 29,
        "start_time": "2022-02-15T21:34:12.938Z"
      },
      {
        "duration": 27,
        "start_time": "2022-02-15T21:34:12.970Z"
      },
      {
        "duration": 22,
        "start_time": "2022-02-15T21:34:12.999Z"
      },
      {
        "duration": 30,
        "start_time": "2022-02-15T21:34:13.023Z"
      },
      {
        "duration": 16,
        "start_time": "2022-02-15T21:34:13.055Z"
      },
      {
        "duration": 10,
        "start_time": "2022-02-15T21:34:13.107Z"
      },
      {
        "duration": 29,
        "start_time": "2022-02-15T21:34:13.120Z"
      },
      {
        "duration": 121,
        "start_time": "2022-02-15T21:34:13.151Z"
      },
      {
        "duration": 34,
        "start_time": "2022-02-15T21:34:13.275Z"
      },
      {
        "duration": 169,
        "start_time": "2022-02-15T21:34:13.311Z"
      },
      {
        "duration": 38,
        "start_time": "2022-02-15T21:34:13.482Z"
      },
      {
        "duration": 95,
        "start_time": "2022-02-15T21:34:13.522Z"
      },
      {
        "duration": 22,
        "start_time": "2022-02-15T21:34:13.619Z"
      },
      {
        "duration": 13,
        "start_time": "2022-02-15T21:34:13.643Z"
      },
      {
        "duration": 61,
        "start_time": "2022-02-15T21:34:13.658Z"
      },
      {
        "duration": 30,
        "start_time": "2022-02-15T21:34:13.720Z"
      },
      {
        "duration": 31,
        "start_time": "2022-02-15T21:34:13.752Z"
      },
      {
        "duration": 54,
        "start_time": "2022-02-15T21:34:13.808Z"
      },
      {
        "duration": 92,
        "start_time": "2022-02-15T21:34:13.864Z"
      },
      {
        "duration": 11,
        "start_time": "2022-02-15T21:34:13.958Z"
      },
      {
        "duration": 14,
        "start_time": "2022-02-15T21:34:13.972Z"
      },
      {
        "duration": 19,
        "start_time": "2022-02-15T21:34:14.008Z"
      },
      {
        "duration": 573,
        "start_time": "2022-02-15T21:34:14.029Z"
      },
      {
        "duration": 27,
        "start_time": "2022-02-15T21:34:14.608Z"
      },
      {
        "duration": 17,
        "start_time": "2022-02-15T21:34:14.636Z"
      },
      {
        "duration": 53,
        "start_time": "2022-02-15T21:34:14.655Z"
      },
      {
        "duration": 34,
        "start_time": "2022-02-15T21:34:14.710Z"
      },
      {
        "duration": 37,
        "start_time": "2022-02-15T21:34:14.745Z"
      },
      {
        "duration": 25,
        "start_time": "2022-02-15T21:34:14.784Z"
      },
      {
        "duration": 25,
        "start_time": "2022-02-15T21:34:14.811Z"
      },
      {
        "duration": 33,
        "start_time": "2022-02-15T21:34:14.838Z"
      },
      {
        "duration": 3,
        "start_time": "2022-02-15T21:34:14.874Z"
      },
      {
        "duration": 18,
        "start_time": "2022-02-15T21:34:14.879Z"
      },
      {
        "duration": 18,
        "start_time": "2022-02-15T21:34:14.899Z"
      },
      {
        "duration": 13,
        "start_time": "2022-02-15T21:34:29.217Z"
      },
      {
        "duration": 3,
        "start_time": "2022-02-15T21:34:32.052Z"
      },
      {
        "duration": 426,
        "start_time": "2022-02-15T21:34:32.057Z"
      },
      {
        "duration": 31,
        "start_time": "2022-02-15T21:34:32.486Z"
      },
      {
        "duration": 27,
        "start_time": "2022-02-15T21:34:32.520Z"
      },
      {
        "duration": 15,
        "start_time": "2022-02-15T21:34:32.550Z"
      },
      {
        "duration": 55,
        "start_time": "2022-02-15T21:34:32.567Z"
      },
      {
        "duration": 26,
        "start_time": "2022-02-15T21:34:32.624Z"
      },
      {
        "duration": 35,
        "start_time": "2022-02-15T21:34:32.652Z"
      },
      {
        "duration": 40,
        "start_time": "2022-02-15T21:34:32.690Z"
      },
      {
        "duration": 107,
        "start_time": "2022-02-15T21:34:32.732Z"
      },
      {
        "duration": 18,
        "start_time": "2022-02-15T21:34:32.841Z"
      },
      {
        "duration": 187,
        "start_time": "2022-02-15T21:34:32.861Z"
      },
      {
        "duration": 24,
        "start_time": "2022-02-15T21:34:33.050Z"
      },
      {
        "duration": 104,
        "start_time": "2022-02-15T21:34:33.075Z"
      },
      {
        "duration": 29,
        "start_time": "2022-02-15T21:34:33.181Z"
      },
      {
        "duration": 14,
        "start_time": "2022-02-15T21:34:33.212Z"
      },
      {
        "duration": 36,
        "start_time": "2022-02-15T21:34:33.227Z"
      },
      {
        "duration": 50,
        "start_time": "2022-02-15T21:34:33.264Z"
      },
      {
        "duration": 29,
        "start_time": "2022-02-15T21:34:33.316Z"
      },
      {
        "duration": 82,
        "start_time": "2022-02-15T21:34:33.348Z"
      },
      {
        "duration": 93,
        "start_time": "2022-02-15T21:34:33.432Z"
      },
      {
        "duration": 14,
        "start_time": "2022-02-15T21:34:33.527Z"
      },
      {
        "duration": 22,
        "start_time": "2022-02-15T21:34:33.543Z"
      },
      {
        "duration": 29,
        "start_time": "2022-02-15T21:34:33.567Z"
      },
      {
        "duration": 583,
        "start_time": "2022-02-15T21:34:33.598Z"
      },
      {
        "duration": 42,
        "start_time": "2022-02-15T21:34:34.182Z"
      },
      {
        "duration": 16,
        "start_time": "2022-02-15T21:34:34.227Z"
      },
      {
        "duration": 35,
        "start_time": "2022-02-15T21:34:34.245Z"
      },
      {
        "duration": 53,
        "start_time": "2022-02-15T21:34:34.282Z"
      },
      {
        "duration": 37,
        "start_time": "2022-02-15T21:34:34.337Z"
      },
      {
        "duration": 4,
        "start_time": "2022-02-15T21:34:34.376Z"
      },
      {
        "duration": 33,
        "start_time": "2022-02-15T21:34:34.382Z"
      },
      {
        "duration": 14,
        "start_time": "2022-02-15T21:34:34.416Z"
      },
      {
        "duration": 11,
        "start_time": "2022-02-15T21:34:34.432Z"
      },
      {
        "duration": 15,
        "start_time": "2022-02-15T21:34:34.445Z"
      },
      {
        "duration": 12,
        "start_time": "2022-02-15T21:34:34.462Z"
      },
      {
        "duration": 4,
        "start_time": "2022-02-15T21:38:33.823Z"
      },
      {
        "duration": 425,
        "start_time": "2022-02-15T21:38:33.829Z"
      },
      {
        "duration": 31,
        "start_time": "2022-02-15T21:38:34.257Z"
      },
      {
        "duration": 29,
        "start_time": "2022-02-15T21:38:34.291Z"
      },
      {
        "duration": 14,
        "start_time": "2022-02-15T21:38:34.322Z"
      },
      {
        "duration": 24,
        "start_time": "2022-02-15T21:38:34.339Z"
      },
      {
        "duration": 45,
        "start_time": "2022-02-15T21:38:34.365Z"
      },
      {
        "duration": 10,
        "start_time": "2022-02-15T21:38:34.412Z"
      },
      {
        "duration": 31,
        "start_time": "2022-02-15T21:38:34.425Z"
      },
      {
        "duration": 124,
        "start_time": "2022-02-15T21:38:34.459Z"
      },
      {
        "duration": 34,
        "start_time": "2022-02-15T21:38:34.585Z"
      },
      {
        "duration": 190,
        "start_time": "2022-02-15T21:38:34.621Z"
      },
      {
        "duration": 22,
        "start_time": "2022-02-15T21:38:34.813Z"
      },
      {
        "duration": 110,
        "start_time": "2022-02-15T21:38:34.837Z"
      },
      {
        "duration": 21,
        "start_time": "2022-02-15T21:38:34.948Z"
      },
      {
        "duration": 13,
        "start_time": "2022-02-15T21:38:34.971Z"
      },
      {
        "duration": 52,
        "start_time": "2022-02-15T21:38:34.986Z"
      },
      {
        "duration": 31,
        "start_time": "2022-02-15T21:38:35.041Z"
      },
      {
        "duration": 52,
        "start_time": "2022-02-15T21:38:35.074Z"
      },
      {
        "duration": 85,
        "start_time": "2022-02-15T21:38:35.127Z"
      },
      {
        "duration": 76,
        "start_time": "2022-02-15T21:38:35.214Z"
      },
      {
        "duration": 27,
        "start_time": "2022-02-15T21:38:35.292Z"
      },
      {
        "duration": 18,
        "start_time": "2022-02-15T21:38:35.321Z"
      },
      {
        "duration": 34,
        "start_time": "2022-02-15T21:38:35.341Z"
      },
      {
        "duration": 708,
        "start_time": "2022-02-15T21:38:35.378Z"
      },
      {
        "duration": 37,
        "start_time": "2022-02-15T21:38:36.088Z"
      },
      {
        "duration": 18,
        "start_time": "2022-02-15T21:38:36.130Z"
      },
      {
        "duration": 48,
        "start_time": "2022-02-15T21:38:36.150Z"
      },
      {
        "duration": 43,
        "start_time": "2022-02-15T21:38:36.200Z"
      },
      {
        "duration": 42,
        "start_time": "2022-02-15T21:38:36.244Z"
      },
      {
        "duration": 4,
        "start_time": "2022-02-15T21:38:36.308Z"
      },
      {
        "duration": 32,
        "start_time": "2022-02-15T21:38:36.316Z"
      },
      {
        "duration": 291,
        "start_time": "2022-02-15T21:38:36.350Z"
      },
      {
        "duration": 449,
        "start_time": "2022-02-15T21:38:36.195Z"
      },
      {
        "duration": 447,
        "start_time": "2022-02-15T21:38:36.198Z"
      },
      {
        "duration": 445,
        "start_time": "2022-02-15T21:38:36.201Z"
      },
      {
        "duration": 3,
        "start_time": "2022-02-15T21:38:43.819Z"
      },
      {
        "duration": 379,
        "start_time": "2022-02-15T21:38:43.824Z"
      },
      {
        "duration": 30,
        "start_time": "2022-02-15T21:38:44.206Z"
      },
      {
        "duration": 24,
        "start_time": "2022-02-15T21:38:44.239Z"
      },
      {
        "duration": 12,
        "start_time": "2022-02-15T21:38:44.266Z"
      },
      {
        "duration": 21,
        "start_time": "2022-02-15T21:38:44.308Z"
      },
      {
        "duration": 16,
        "start_time": "2022-02-15T21:38:44.331Z"
      },
      {
        "duration": 11,
        "start_time": "2022-02-15T21:38:44.349Z"
      },
      {
        "duration": 57,
        "start_time": "2022-02-15T21:38:44.363Z"
      },
      {
        "duration": 110,
        "start_time": "2022-02-15T21:38:44.423Z"
      },
      {
        "duration": 17,
        "start_time": "2022-02-15T21:38:44.535Z"
      },
      {
        "duration": 178,
        "start_time": "2022-02-15T21:38:44.554Z"
      },
      {
        "duration": 21,
        "start_time": "2022-02-15T21:38:44.734Z"
      },
      {
        "duration": 100,
        "start_time": "2022-02-15T21:38:44.757Z"
      },
      {
        "duration": 21,
        "start_time": "2022-02-15T21:38:44.859Z"
      },
      {
        "duration": 27,
        "start_time": "2022-02-15T21:38:44.882Z"
      },
      {
        "duration": 36,
        "start_time": "2022-02-15T21:38:44.911Z"
      },
      {
        "duration": 59,
        "start_time": "2022-02-15T21:38:44.949Z"
      },
      {
        "duration": 35,
        "start_time": "2022-02-15T21:38:45.010Z"
      },
      {
        "duration": 84,
        "start_time": "2022-02-15T21:38:45.048Z"
      },
      {
        "duration": 87,
        "start_time": "2022-02-15T21:38:45.135Z"
      },
      {
        "duration": 11,
        "start_time": "2022-02-15T21:38:45.225Z"
      },
      {
        "duration": 16,
        "start_time": "2022-02-15T21:38:45.238Z"
      },
      {
        "duration": 21,
        "start_time": "2022-02-15T21:38:45.257Z"
      },
      {
        "duration": 598,
        "start_time": "2022-02-15T21:38:45.280Z"
      },
      {
        "duration": 41,
        "start_time": "2022-02-15T21:38:45.880Z"
      },
      {
        "duration": 17,
        "start_time": "2022-02-15T21:38:45.925Z"
      },
      {
        "duration": 35,
        "start_time": "2022-02-15T21:38:45.944Z"
      },
      {
        "duration": 56,
        "start_time": "2022-02-15T21:38:45.981Z"
      },
      {
        "duration": 40,
        "start_time": "2022-02-15T21:38:46.039Z"
      },
      {
        "duration": 4,
        "start_time": "2022-02-15T21:38:46.081Z"
      },
      {
        "duration": 25,
        "start_time": "2022-02-15T21:38:46.087Z"
      },
      {
        "duration": 256,
        "start_time": "2022-02-15T21:38:46.114Z"
      },
      {
        "duration": 456,
        "start_time": "2022-02-15T21:38:45.916Z"
      },
      {
        "duration": 455,
        "start_time": "2022-02-15T21:38:45.918Z"
      },
      {
        "duration": 455,
        "start_time": "2022-02-15T21:38:45.920Z"
      },
      {
        "duration": 3,
        "start_time": "2022-02-15T21:39:34.143Z"
      },
      {
        "duration": 399,
        "start_time": "2022-02-15T21:39:34.148Z"
      },
      {
        "duration": 31,
        "start_time": "2022-02-15T21:39:34.550Z"
      },
      {
        "duration": 25,
        "start_time": "2022-02-15T21:39:34.583Z"
      },
      {
        "duration": 12,
        "start_time": "2022-02-15T21:39:34.610Z"
      },
      {
        "duration": 26,
        "start_time": "2022-02-15T21:39:34.624Z"
      },
      {
        "duration": 17,
        "start_time": "2022-02-15T21:39:34.652Z"
      },
      {
        "duration": 38,
        "start_time": "2022-02-15T21:39:34.671Z"
      },
      {
        "duration": 26,
        "start_time": "2022-02-15T21:39:34.713Z"
      },
      {
        "duration": 117,
        "start_time": "2022-02-15T21:39:34.742Z"
      },
      {
        "duration": 16,
        "start_time": "2022-02-15T21:39:34.861Z"
      },
      {
        "duration": 185,
        "start_time": "2022-02-15T21:39:34.879Z"
      },
      {
        "duration": 23,
        "start_time": "2022-02-15T21:39:35.065Z"
      },
      {
        "duration": 98,
        "start_time": "2022-02-15T21:39:35.090Z"
      },
      {
        "duration": 34,
        "start_time": "2022-02-15T21:39:35.189Z"
      },
      {
        "duration": 13,
        "start_time": "2022-02-15T21:39:35.225Z"
      },
      {
        "duration": 36,
        "start_time": "2022-02-15T21:39:35.240Z"
      },
      {
        "duration": 53,
        "start_time": "2022-02-15T21:39:35.278Z"
      },
      {
        "duration": 32,
        "start_time": "2022-02-15T21:39:35.333Z"
      },
      {
        "duration": 82,
        "start_time": "2022-02-15T21:39:35.367Z"
      },
      {
        "duration": 89,
        "start_time": "2022-02-15T21:39:35.451Z"
      },
      {
        "duration": 11,
        "start_time": "2022-02-15T21:39:35.542Z"
      },
      {
        "duration": 13,
        "start_time": "2022-02-15T21:39:35.555Z"
      },
      {
        "duration": 44,
        "start_time": "2022-02-15T21:39:35.570Z"
      },
      {
        "duration": 598,
        "start_time": "2022-02-15T21:39:35.616Z"
      },
      {
        "duration": 30,
        "start_time": "2022-02-15T21:39:36.215Z"
      },
      {
        "duration": 16,
        "start_time": "2022-02-15T21:39:36.249Z"
      },
      {
        "duration": 61,
        "start_time": "2022-02-15T21:39:36.267Z"
      },
      {
        "duration": 35,
        "start_time": "2022-02-15T21:39:36.330Z"
      },
      {
        "duration": 53,
        "start_time": "2022-02-15T21:39:36.367Z"
      },
      {
        "duration": 4,
        "start_time": "2022-02-15T21:39:36.422Z"
      },
      {
        "duration": 20,
        "start_time": "2022-02-15T21:39:36.428Z"
      },
      {
        "duration": 262,
        "start_time": "2022-02-15T21:39:36.451Z"
      },
      {
        "duration": 457,
        "start_time": "2022-02-15T21:39:36.258Z"
      },
      {
        "duration": 451,
        "start_time": "2022-02-15T21:39:36.265Z"
      },
      {
        "duration": 450,
        "start_time": "2022-02-15T21:39:36.267Z"
      },
      {
        "duration": 446,
        "start_time": "2022-02-15T21:42:18.666Z"
      },
      {
        "duration": 500,
        "start_time": "2022-02-15T21:42:30.499Z"
      },
      {
        "duration": 244,
        "start_time": "2022-02-15T21:45:06.014Z"
      },
      {
        "duration": 267,
        "start_time": "2022-02-15T21:45:12.549Z"
      },
      {
        "duration": 25,
        "start_time": "2022-02-15T21:45:23.758Z"
      },
      {
        "duration": 254,
        "start_time": "2022-02-15T21:46:09.975Z"
      },
      {
        "duration": 267,
        "start_time": "2022-02-15T21:47:24.600Z"
      },
      {
        "duration": 253,
        "start_time": "2022-02-15T21:47:31.656Z"
      },
      {
        "duration": 21,
        "start_time": "2022-02-15T21:50:51.164Z"
      },
      {
        "duration": 3,
        "start_time": "2022-02-15T21:50:56.225Z"
      },
      {
        "duration": 398,
        "start_time": "2022-02-15T21:50:56.230Z"
      },
      {
        "duration": 27,
        "start_time": "2022-02-15T21:50:56.630Z"
      },
      {
        "duration": 24,
        "start_time": "2022-02-15T21:50:56.660Z"
      },
      {
        "duration": 26,
        "start_time": "2022-02-15T21:50:56.685Z"
      },
      {
        "duration": 30,
        "start_time": "2022-02-15T21:50:56.713Z"
      },
      {
        "duration": 16,
        "start_time": "2022-02-15T21:50:56.745Z"
      },
      {
        "duration": 13,
        "start_time": "2022-02-15T21:50:56.764Z"
      },
      {
        "duration": 45,
        "start_time": "2022-02-15T21:50:56.781Z"
      },
      {
        "duration": 116,
        "start_time": "2022-02-15T21:50:56.829Z"
      },
      {
        "duration": 17,
        "start_time": "2022-02-15T21:50:56.948Z"
      },
      {
        "duration": 171,
        "start_time": "2022-02-15T21:50:56.967Z"
      },
      {
        "duration": 24,
        "start_time": "2022-02-15T21:50:57.140Z"
      },
      {
        "duration": 106,
        "start_time": "2022-02-15T21:50:57.166Z"
      },
      {
        "duration": 20,
        "start_time": "2022-02-15T21:50:57.274Z"
      },
      {
        "duration": 22,
        "start_time": "2022-02-15T21:50:57.296Z"
      },
      {
        "duration": 38,
        "start_time": "2022-02-15T21:50:57.319Z"
      },
      {
        "duration": 49,
        "start_time": "2022-02-15T21:50:57.359Z"
      },
      {
        "duration": 29,
        "start_time": "2022-02-15T21:50:57.410Z"
      },
      {
        "duration": 72,
        "start_time": "2022-02-15T21:50:57.441Z"
      },
      {
        "duration": 193,
        "start_time": "2022-02-15T21:50:57.515Z"
      },
      {
        "duration": 10,
        "start_time": "2022-02-15T21:50:57.710Z"
      },
      {
        "duration": 16,
        "start_time": "2022-02-15T21:50:57.721Z"
      },
      {
        "duration": 19,
        "start_time": "2022-02-15T21:50:57.739Z"
      },
      {
        "duration": 596,
        "start_time": "2022-02-15T21:50:57.760Z"
      },
      {
        "duration": 27,
        "start_time": "2022-02-15T21:50:58.358Z"
      },
      {
        "duration": 32,
        "start_time": "2022-02-15T21:50:58.389Z"
      },
      {
        "duration": 35,
        "start_time": "2022-02-15T21:50:58.423Z"
      },
      {
        "duration": 52,
        "start_time": "2022-02-15T21:50:58.460Z"
      },
      {
        "duration": 38,
        "start_time": "2022-02-15T21:50:58.514Z"
      },
      {
        "duration": 4,
        "start_time": "2022-02-15T21:50:58.554Z"
      },
      {
        "duration": 16,
        "start_time": "2022-02-15T21:50:58.560Z"
      },
      {
        "duration": 35,
        "start_time": "2022-02-15T21:50:58.578Z"
      },
      {
        "duration": 2,
        "start_time": "2022-02-15T21:50:58.615Z"
      },
      {
        "duration": 10,
        "start_time": "2022-02-15T21:50:58.619Z"
      },
      {
        "duration": 8,
        "start_time": "2022-02-15T21:50:58.631Z"
      },
      {
        "duration": 3,
        "start_time": "2022-02-15T21:52:24.094Z"
      },
      {
        "duration": 408,
        "start_time": "2022-02-15T21:52:24.100Z"
      },
      {
        "duration": 30,
        "start_time": "2022-02-15T21:52:24.510Z"
      },
      {
        "duration": 25,
        "start_time": "2022-02-15T21:52:24.542Z"
      },
      {
        "duration": 12,
        "start_time": "2022-02-15T21:52:24.569Z"
      },
      {
        "duration": 21,
        "start_time": "2022-02-15T21:52:24.608Z"
      },
      {
        "duration": 22,
        "start_time": "2022-02-15T21:52:24.631Z"
      },
      {
        "duration": 10,
        "start_time": "2022-02-15T21:52:24.655Z"
      },
      {
        "duration": 55,
        "start_time": "2022-02-15T21:52:24.668Z"
      },
      {
        "duration": 105,
        "start_time": "2022-02-15T21:52:24.725Z"
      },
      {
        "duration": 18,
        "start_time": "2022-02-15T21:52:24.832Z"
      },
      {
        "duration": 182,
        "start_time": "2022-02-15T21:52:24.853Z"
      },
      {
        "duration": 23,
        "start_time": "2022-02-15T21:52:25.037Z"
      },
      {
        "duration": 103,
        "start_time": "2022-02-15T21:52:25.062Z"
      },
      {
        "duration": 21,
        "start_time": "2022-02-15T21:52:25.167Z"
      },
      {
        "duration": 28,
        "start_time": "2022-02-15T21:52:25.190Z"
      },
      {
        "duration": 38,
        "start_time": "2022-02-15T21:52:25.220Z"
      },
      {
        "duration": 51,
        "start_time": "2022-02-15T21:52:25.259Z"
      },
      {
        "duration": 32,
        "start_time": "2022-02-15T21:52:25.312Z"
      },
      {
        "duration": 78,
        "start_time": "2022-02-15T21:52:25.346Z"
      },
      {
        "duration": 86,
        "start_time": "2022-02-15T21:52:25.426Z"
      },
      {
        "duration": 11,
        "start_time": "2022-02-15T21:52:25.514Z"
      },
      {
        "duration": 19,
        "start_time": "2022-02-15T21:52:25.527Z"
      },
      {
        "duration": 29,
        "start_time": "2022-02-15T21:52:25.548Z"
      },
      {
        "duration": 584,
        "start_time": "2022-02-15T21:52:25.580Z"
      },
      {
        "duration": 42,
        "start_time": "2022-02-15T21:52:26.166Z"
      },
      {
        "duration": 16,
        "start_time": "2022-02-15T21:52:26.212Z"
      },
      {
        "duration": 33,
        "start_time": "2022-02-15T21:52:26.231Z"
      },
      {
        "duration": 56,
        "start_time": "2022-02-15T21:52:26.265Z"
      },
      {
        "duration": 41,
        "start_time": "2022-02-15T21:52:26.324Z"
      },
      {
        "duration": 5,
        "start_time": "2022-02-15T21:52:26.367Z"
      },
      {
        "duration": 40,
        "start_time": "2022-02-15T21:52:26.374Z"
      },
      {
        "duration": 12,
        "start_time": "2022-02-15T21:52:26.416Z"
      },
      {
        "duration": 7,
        "start_time": "2022-02-15T21:52:26.431Z"
      },
      {
        "duration": 14,
        "start_time": "2022-02-15T21:52:26.441Z"
      },
      {
        "duration": 12,
        "start_time": "2022-02-15T21:52:26.457Z"
      },
      {
        "duration": 3,
        "start_time": "2022-02-15T21:53:36.848Z"
      },
      {
        "duration": 420,
        "start_time": "2022-02-15T21:53:36.853Z"
      },
      {
        "duration": 29,
        "start_time": "2022-02-15T21:53:37.275Z"
      },
      {
        "duration": 40,
        "start_time": "2022-02-15T21:53:37.306Z"
      },
      {
        "duration": 12,
        "start_time": "2022-02-15T21:53:37.348Z"
      },
      {
        "duration": 29,
        "start_time": "2022-02-15T21:53:37.362Z"
      },
      {
        "duration": 21,
        "start_time": "2022-02-15T21:53:37.393Z"
      },
      {
        "duration": 23,
        "start_time": "2022-02-15T21:53:37.417Z"
      },
      {
        "duration": 30,
        "start_time": "2022-02-15T21:53:37.443Z"
      },
      {
        "duration": 118,
        "start_time": "2022-02-15T21:53:37.475Z"
      },
      {
        "duration": 28,
        "start_time": "2022-02-15T21:53:37.596Z"
      },
      {
        "duration": 196,
        "start_time": "2022-02-15T21:53:37.626Z"
      },
      {
        "duration": 28,
        "start_time": "2022-02-15T21:53:37.824Z"
      },
      {
        "duration": 163,
        "start_time": "2022-02-15T21:53:37.854Z"
      },
      {
        "duration": 26,
        "start_time": "2022-02-15T21:53:38.019Z"
      },
      {
        "duration": 21,
        "start_time": "2022-02-15T21:53:38.047Z"
      },
      {
        "duration": 70,
        "start_time": "2022-02-15T21:53:38.070Z"
      },
      {
        "duration": 42,
        "start_time": "2022-02-15T21:53:38.143Z"
      },
      {
        "duration": 66,
        "start_time": "2022-02-15T21:53:38.188Z"
      },
      {
        "duration": 70,
        "start_time": "2022-02-15T21:53:38.256Z"
      },
      {
        "duration": 88,
        "start_time": "2022-02-15T21:53:38.328Z"
      },
      {
        "duration": 12,
        "start_time": "2022-02-15T21:53:38.418Z"
      },
      {
        "duration": 16,
        "start_time": "2022-02-15T21:53:38.432Z"
      },
      {
        "duration": 23,
        "start_time": "2022-02-15T21:53:38.450Z"
      },
      {
        "duration": 780,
        "start_time": "2022-02-15T21:53:38.476Z"
      },
      {
        "duration": 53,
        "start_time": "2022-02-15T21:53:39.259Z"
      },
      {
        "duration": 17,
        "start_time": "2022-02-15T21:53:39.316Z"
      },
      {
        "duration": 40,
        "start_time": "2022-02-15T21:53:39.335Z"
      },
      {
        "duration": 62,
        "start_time": "2022-02-15T21:53:39.377Z"
      },
      {
        "duration": 40,
        "start_time": "2022-02-15T21:53:39.441Z"
      },
      {
        "duration": 27,
        "start_time": "2022-02-15T21:53:39.483Z"
      },
      {
        "duration": 15,
        "start_time": "2022-02-15T21:53:39.512Z"
      },
      {
        "duration": 16,
        "start_time": "2022-02-15T21:53:39.530Z"
      },
      {
        "duration": 7,
        "start_time": "2022-02-15T21:53:39.548Z"
      },
      {
        "duration": 8,
        "start_time": "2022-02-15T21:53:39.557Z"
      },
      {
        "duration": 41,
        "start_time": "2022-02-15T21:53:39.567Z"
      },
      {
        "duration": 336,
        "start_time": "2022-02-15T21:54:33.240Z"
      },
      {
        "duration": 501,
        "start_time": "2022-02-15T21:54:59.688Z"
      },
      {
        "duration": 247,
        "start_time": "2022-02-15T21:55:07.729Z"
      },
      {
        "duration": 269,
        "start_time": "2022-02-15T21:58:02.332Z"
      },
      {
        "duration": 3,
        "start_time": "2022-02-15T21:58:12.785Z"
      },
      {
        "duration": 446,
        "start_time": "2022-02-15T21:58:12.790Z"
      },
      {
        "duration": 30,
        "start_time": "2022-02-15T21:58:13.239Z"
      },
      {
        "duration": 33,
        "start_time": "2022-02-15T21:58:13.271Z"
      },
      {
        "duration": 14,
        "start_time": "2022-02-15T21:58:13.306Z"
      },
      {
        "duration": 24,
        "start_time": "2022-02-15T21:58:13.322Z"
      },
      {
        "duration": 17,
        "start_time": "2022-02-15T21:58:13.348Z"
      },
      {
        "duration": 42,
        "start_time": "2022-02-15T21:58:13.367Z"
      },
      {
        "duration": 23,
        "start_time": "2022-02-15T21:58:13.412Z"
      },
      {
        "duration": 123,
        "start_time": "2022-02-15T21:58:13.438Z"
      },
      {
        "duration": 16,
        "start_time": "2022-02-15T21:58:13.563Z"
      },
      {
        "duration": 172,
        "start_time": "2022-02-15T21:58:13.581Z"
      },
      {
        "duration": 24,
        "start_time": "2022-02-15T21:58:13.755Z"
      },
      {
        "duration": 98,
        "start_time": "2022-02-15T21:58:13.780Z"
      },
      {
        "duration": 29,
        "start_time": "2022-02-15T21:58:13.880Z"
      },
      {
        "duration": 13,
        "start_time": "2022-02-15T21:58:13.910Z"
      },
      {
        "duration": 32,
        "start_time": "2022-02-15T21:58:13.925Z"
      },
      {
        "duration": 51,
        "start_time": "2022-02-15T21:58:13.959Z"
      },
      {
        "duration": 28,
        "start_time": "2022-02-15T21:58:14.012Z"
      },
      {
        "duration": 71,
        "start_time": "2022-02-15T21:58:14.042Z"
      },
      {
        "duration": 73,
        "start_time": "2022-02-15T21:58:14.115Z"
      },
      {
        "duration": 23,
        "start_time": "2022-02-15T21:58:14.190Z"
      },
      {
        "duration": 14,
        "start_time": "2022-02-15T21:58:14.215Z"
      },
      {
        "duration": 20,
        "start_time": "2022-02-15T21:58:14.230Z"
      },
      {
        "duration": 694,
        "start_time": "2022-02-15T21:58:14.252Z"
      },
      {
        "duration": 30,
        "start_time": "2022-02-15T21:58:14.948Z"
      },
      {
        "duration": 36,
        "start_time": "2022-02-15T21:58:14.982Z"
      },
      {
        "duration": 41,
        "start_time": "2022-02-15T21:58:15.021Z"
      },
      {
        "duration": 49,
        "start_time": "2022-02-15T21:58:15.064Z"
      },
      {
        "duration": 39,
        "start_time": "2022-02-15T21:58:15.115Z"
      },
      {
        "duration": 4,
        "start_time": "2022-02-15T21:58:15.156Z"
      },
      {
        "duration": 16,
        "start_time": "2022-02-15T21:58:15.162Z"
      },
      {
        "duration": 40,
        "start_time": "2022-02-15T21:58:15.181Z"
      },
      {
        "duration": 11,
        "start_time": "2022-02-15T21:58:49.300Z"
      },
      {
        "duration": 16,
        "start_time": "2022-02-15T21:58:57.708Z"
      },
      {
        "duration": 14,
        "start_time": "2022-02-15T22:00:05.038Z"
      },
      {
        "duration": 25,
        "start_time": "2022-02-15T22:00:13.638Z"
      },
      {
        "duration": 9,
        "start_time": "2022-02-15T22:00:25.631Z"
      },
      {
        "duration": 25,
        "start_time": "2022-02-15T22:00:44.150Z"
      },
      {
        "duration": 3,
        "start_time": "2022-02-15T22:01:49.908Z"
      },
      {
        "duration": 554,
        "start_time": "2022-02-15T22:01:49.914Z"
      },
      {
        "duration": 29,
        "start_time": "2022-02-15T22:01:50.471Z"
      },
      {
        "duration": 26,
        "start_time": "2022-02-15T22:01:50.502Z"
      },
      {
        "duration": 13,
        "start_time": "2022-02-15T22:01:50.529Z"
      },
      {
        "duration": 25,
        "start_time": "2022-02-15T22:01:50.544Z"
      },
      {
        "duration": 38,
        "start_time": "2022-02-15T22:01:50.571Z"
      },
      {
        "duration": 9,
        "start_time": "2022-02-15T22:01:50.611Z"
      },
      {
        "duration": 28,
        "start_time": "2022-02-15T22:01:50.623Z"
      },
      {
        "duration": 109,
        "start_time": "2022-02-15T22:01:50.654Z"
      },
      {
        "duration": 19,
        "start_time": "2022-02-15T22:01:50.765Z"
      },
      {
        "duration": 174,
        "start_time": "2022-02-15T22:01:50.786Z"
      },
      {
        "duration": 21,
        "start_time": "2022-02-15T22:01:50.962Z"
      },
      {
        "duration": 103,
        "start_time": "2022-02-15T22:01:50.985Z"
      },
      {
        "duration": 29,
        "start_time": "2022-02-15T22:01:51.090Z"
      },
      {
        "duration": 15,
        "start_time": "2022-02-15T22:01:51.121Z"
      },
      {
        "duration": 34,
        "start_time": "2022-02-15T22:01:51.138Z"
      },
      {
        "duration": 53,
        "start_time": "2022-02-15T22:01:51.174Z"
      },
      {
        "duration": 32,
        "start_time": "2022-02-15T22:01:51.230Z"
      },
      {
        "duration": 89,
        "start_time": "2022-02-15T22:01:51.264Z"
      },
      {
        "duration": 95,
        "start_time": "2022-02-15T22:01:51.355Z"
      },
      {
        "duration": 13,
        "start_time": "2022-02-15T22:01:51.452Z"
      },
      {
        "duration": 16,
        "start_time": "2022-02-15T22:01:51.467Z"
      },
      {
        "duration": 21,
        "start_time": "2022-02-15T22:01:51.508Z"
      },
      {
        "duration": 625,
        "start_time": "2022-02-15T22:01:51.531Z"
      },
      {
        "duration": 32,
        "start_time": "2022-02-15T22:01:52.158Z"
      },
      {
        "duration": 16,
        "start_time": "2022-02-15T22:01:52.209Z"
      },
      {
        "duration": 38,
        "start_time": "2022-02-15T22:01:52.227Z"
      },
      {
        "duration": 52,
        "start_time": "2022-02-15T22:01:52.267Z"
      },
      {
        "duration": 41,
        "start_time": "2022-02-15T22:01:52.321Z"
      },
      {
        "duration": 5,
        "start_time": "2022-02-15T22:01:52.364Z"
      },
      {
        "duration": 37,
        "start_time": "2022-02-15T22:01:52.371Z"
      },
      {
        "duration": 14,
        "start_time": "2022-02-15T22:01:52.410Z"
      },
      {
        "duration": 23,
        "start_time": "2022-02-15T22:01:52.426Z"
      },
      {
        "duration": 265,
        "start_time": "2022-02-15T22:04:37.307Z"
      },
      {
        "duration": 3,
        "start_time": "2022-02-15T22:04:43.360Z"
      },
      {
        "duration": 393,
        "start_time": "2022-02-15T22:04:43.366Z"
      },
      {
        "duration": 28,
        "start_time": "2022-02-15T22:04:43.761Z"
      },
      {
        "duration": 24,
        "start_time": "2022-02-15T22:04:43.791Z"
      },
      {
        "duration": 12,
        "start_time": "2022-02-15T22:04:43.817Z"
      },
      {
        "duration": 26,
        "start_time": "2022-02-15T22:04:43.831Z"
      },
      {
        "duration": 15,
        "start_time": "2022-02-15T22:04:43.859Z"
      },
      {
        "duration": 32,
        "start_time": "2022-02-15T22:04:43.876Z"
      },
      {
        "duration": 21,
        "start_time": "2022-02-15T22:04:43.911Z"
      },
      {
        "duration": 108,
        "start_time": "2022-02-15T22:04:43.935Z"
      },
      {
        "duration": 18,
        "start_time": "2022-02-15T22:04:44.045Z"
      },
      {
        "duration": 182,
        "start_time": "2022-02-15T22:04:44.065Z"
      },
      {
        "duration": 24,
        "start_time": "2022-02-15T22:04:44.249Z"
      },
      {
        "duration": 111,
        "start_time": "2022-02-15T22:04:44.275Z"
      },
      {
        "duration": 25,
        "start_time": "2022-02-15T22:04:44.388Z"
      },
      {
        "duration": 14,
        "start_time": "2022-02-15T22:04:44.415Z"
      },
      {
        "duration": 37,
        "start_time": "2022-02-15T22:04:44.430Z"
      },
      {
        "duration": 49,
        "start_time": "2022-02-15T22:04:44.469Z"
      },
      {
        "duration": 30,
        "start_time": "2022-02-15T22:04:44.519Z"
      },
      {
        "duration": 75,
        "start_time": "2022-02-15T22:04:44.550Z"
      },
      {
        "duration": 89,
        "start_time": "2022-02-15T22:04:44.627Z"
      },
      {
        "duration": 13,
        "start_time": "2022-02-15T22:04:44.718Z"
      },
      {
        "duration": 16,
        "start_time": "2022-02-15T22:04:44.733Z"
      },
      {
        "duration": 24,
        "start_time": "2022-02-15T22:04:44.751Z"
      },
      {
        "duration": 694,
        "start_time": "2022-02-15T22:04:44.777Z"
      },
      {
        "duration": 36,
        "start_time": "2022-02-15T22:04:45.473Z"
      },
      {
        "duration": 16,
        "start_time": "2022-02-15T22:04:45.512Z"
      },
      {
        "duration": 47,
        "start_time": "2022-02-15T22:04:45.530Z"
      },
      {
        "duration": 47,
        "start_time": "2022-02-15T22:04:45.579Z"
      },
      {
        "duration": 39,
        "start_time": "2022-02-15T22:04:45.628Z"
      },
      {
        "duration": 4,
        "start_time": "2022-02-15T22:04:45.668Z"
      },
      {
        "duration": 33,
        "start_time": "2022-02-15T22:04:45.674Z"
      },
      {
        "duration": 33,
        "start_time": "2022-02-15T22:04:45.709Z"
      },
      {
        "duration": 337,
        "start_time": "2022-02-15T22:05:29.220Z"
      },
      {
        "duration": 294,
        "start_time": "2022-02-15T22:05:42.052Z"
      },
      {
        "duration": 3,
        "start_time": "2022-02-15T22:05:47.270Z"
      },
      {
        "duration": 401,
        "start_time": "2022-02-15T22:05:47.276Z"
      },
      {
        "duration": 30,
        "start_time": "2022-02-15T22:05:47.679Z"
      },
      {
        "duration": 25,
        "start_time": "2022-02-15T22:05:47.711Z"
      },
      {
        "duration": 13,
        "start_time": "2022-02-15T22:05:47.738Z"
      },
      {
        "duration": 26,
        "start_time": "2022-02-15T22:05:47.753Z"
      },
      {
        "duration": 40,
        "start_time": "2022-02-15T22:05:47.781Z"
      },
      {
        "duration": 9,
        "start_time": "2022-02-15T22:05:47.822Z"
      },
      {
        "duration": 25,
        "start_time": "2022-02-15T22:05:47.834Z"
      },
      {
        "duration": 122,
        "start_time": "2022-02-15T22:05:47.862Z"
      },
      {
        "duration": 31,
        "start_time": "2022-02-15T22:05:47.987Z"
      },
      {
        "duration": 176,
        "start_time": "2022-02-15T22:05:48.021Z"
      },
      {
        "duration": 27,
        "start_time": "2022-02-15T22:05:48.199Z"
      },
      {
        "duration": 102,
        "start_time": "2022-02-15T22:05:48.228Z"
      },
      {
        "duration": 22,
        "start_time": "2022-02-15T22:05:48.332Z"
      },
      {
        "duration": 14,
        "start_time": "2022-02-15T22:05:48.356Z"
      },
      {
        "duration": 56,
        "start_time": "2022-02-15T22:05:48.372Z"
      },
      {
        "duration": 27,
        "start_time": "2022-02-15T22:05:48.430Z"
      },
      {
        "duration": 49,
        "start_time": "2022-02-15T22:05:48.460Z"
      },
      {
        "duration": 55,
        "start_time": "2022-02-15T22:05:48.511Z"
      },
      {
        "duration": 96,
        "start_time": "2022-02-15T22:05:48.568Z"
      },
      {
        "duration": 10,
        "start_time": "2022-02-15T22:05:48.666Z"
      },
      {
        "duration": 17,
        "start_time": "2022-02-15T22:05:48.678Z"
      },
      {
        "duration": 19,
        "start_time": "2022-02-15T22:05:48.707Z"
      },
      {
        "duration": 579,
        "start_time": "2022-02-15T22:05:48.728Z"
      },
      {
        "duration": 29,
        "start_time": "2022-02-15T22:05:49.309Z"
      },
      {
        "duration": 17,
        "start_time": "2022-02-15T22:05:49.341Z"
      },
      {
        "duration": 57,
        "start_time": "2022-02-15T22:05:49.360Z"
      },
      {
        "duration": 37,
        "start_time": "2022-02-15T22:05:49.419Z"
      },
      {
        "duration": 52,
        "start_time": "2022-02-15T22:05:49.458Z"
      },
      {
        "duration": 5,
        "start_time": "2022-02-15T22:05:49.512Z"
      },
      {
        "duration": 22,
        "start_time": "2022-02-15T22:05:49.518Z"
      },
      {
        "duration": 16,
        "start_time": "2022-02-15T22:05:49.542Z"
      },
      {
        "duration": 21,
        "start_time": "2022-02-15T22:05:57.932Z"
      },
      {
        "duration": 4,
        "start_time": "2022-02-15T22:06:16.019Z"
      },
      {
        "duration": 406,
        "start_time": "2022-02-15T22:06:16.026Z"
      },
      {
        "duration": 28,
        "start_time": "2022-02-15T22:06:16.435Z"
      },
      {
        "duration": 35,
        "start_time": "2022-02-15T22:06:16.466Z"
      },
      {
        "duration": 12,
        "start_time": "2022-02-15T22:06:16.502Z"
      },
      {
        "duration": 44,
        "start_time": "2022-02-15T22:06:16.516Z"
      },
      {
        "duration": 32,
        "start_time": "2022-02-15T22:06:16.562Z"
      },
      {
        "duration": 9,
        "start_time": "2022-02-15T22:06:16.597Z"
      },
      {
        "duration": 27,
        "start_time": "2022-02-15T22:06:16.608Z"
      },
      {
        "duration": 103,
        "start_time": "2022-02-15T22:06:16.636Z"
      },
      {
        "duration": 17,
        "start_time": "2022-02-15T22:06:16.741Z"
      },
      {
        "duration": 181,
        "start_time": "2022-02-15T22:06:16.760Z"
      },
      {
        "duration": 24,
        "start_time": "2022-02-15T22:06:16.943Z"
      },
      {
        "duration": 100,
        "start_time": "2022-02-15T22:06:16.969Z"
      },
      {
        "duration": 21,
        "start_time": "2022-02-15T22:06:17.071Z"
      },
      {
        "duration": 25,
        "start_time": "2022-02-15T22:06:17.093Z"
      },
      {
        "duration": 43,
        "start_time": "2022-02-15T22:06:17.120Z"
      },
      {
        "duration": 44,
        "start_time": "2022-02-15T22:06:17.165Z"
      },
      {
        "duration": 30,
        "start_time": "2022-02-15T22:06:17.211Z"
      },
      {
        "duration": 78,
        "start_time": "2022-02-15T22:06:17.243Z"
      },
      {
        "duration": 84,
        "start_time": "2022-02-15T22:06:17.323Z"
      },
      {
        "duration": 13,
        "start_time": "2022-02-15T22:06:17.409Z"
      },
      {
        "duration": 14,
        "start_time": "2022-02-15T22:06:17.426Z"
      },
      {
        "duration": 19,
        "start_time": "2022-02-15T22:06:17.442Z"
      },
      {
        "duration": 589,
        "start_time": "2022-02-15T22:06:17.463Z"
      },
      {
        "duration": 28,
        "start_time": "2022-02-15T22:06:18.054Z"
      },
      {
        "duration": 31,
        "start_time": "2022-02-15T22:06:18.084Z"
      },
      {
        "duration": 34,
        "start_time": "2022-02-15T22:06:18.117Z"
      },
      {
        "duration": 36,
        "start_time": "2022-02-15T22:06:18.154Z"
      },
      {
        "duration": 38,
        "start_time": "2022-02-15T22:06:18.208Z"
      },
      {
        "duration": 4,
        "start_time": "2022-02-15T22:06:18.248Z"
      },
      {
        "duration": 41,
        "start_time": "2022-02-15T22:06:18.254Z"
      },
      {
        "duration": 29,
        "start_time": "2022-02-15T22:06:18.297Z"
      },
      {
        "duration": 43,
        "start_time": "2022-02-15T22:06:18.327Z"
      },
      {
        "duration": 4,
        "start_time": "2022-02-15T22:06:27.860Z"
      },
      {
        "duration": 468,
        "start_time": "2022-02-15T22:06:27.866Z"
      },
      {
        "duration": 30,
        "start_time": "2022-02-15T22:06:28.337Z"
      },
      {
        "duration": 26,
        "start_time": "2022-02-15T22:06:28.370Z"
      },
      {
        "duration": 23,
        "start_time": "2022-02-15T22:06:28.398Z"
      },
      {
        "duration": 22,
        "start_time": "2022-02-15T22:06:28.423Z"
      },
      {
        "duration": 17,
        "start_time": "2022-02-15T22:06:28.447Z"
      },
      {
        "duration": 9,
        "start_time": "2022-02-15T22:06:28.508Z"
      },
      {
        "duration": 25,
        "start_time": "2022-02-15T22:06:28.520Z"
      },
      {
        "duration": 117,
        "start_time": "2022-02-15T22:06:28.547Z"
      },
      {
        "duration": 18,
        "start_time": "2022-02-15T22:06:28.666Z"
      },
      {
        "duration": 167,
        "start_time": "2022-02-15T22:06:28.687Z"
      },
      {
        "duration": 22,
        "start_time": "2022-02-15T22:06:28.856Z"
      },
      {
        "duration": 104,
        "start_time": "2022-02-15T22:06:28.880Z"
      },
      {
        "duration": 28,
        "start_time": "2022-02-15T22:06:28.986Z"
      },
      {
        "duration": 12,
        "start_time": "2022-02-15T22:06:29.016Z"
      },
      {
        "duration": 35,
        "start_time": "2022-02-15T22:06:29.030Z"
      },
      {
        "duration": 50,
        "start_time": "2022-02-15T22:06:29.067Z"
      },
      {
        "duration": 29,
        "start_time": "2022-02-15T22:06:29.119Z"
      },
      {
        "duration": 79,
        "start_time": "2022-02-15T22:06:29.150Z"
      },
      {
        "duration": 85,
        "start_time": "2022-02-15T22:06:29.231Z"
      },
      {
        "duration": 13,
        "start_time": "2022-02-15T22:06:29.318Z"
      },
      {
        "duration": 16,
        "start_time": "2022-02-15T22:06:29.335Z"
      },
      {
        "duration": 22,
        "start_time": "2022-02-15T22:06:29.353Z"
      },
      {
        "duration": 725,
        "start_time": "2022-02-15T22:06:29.378Z"
      },
      {
        "duration": 30,
        "start_time": "2022-02-15T22:06:30.108Z"
      },
      {
        "duration": 28,
        "start_time": "2022-02-15T22:06:30.140Z"
      },
      {
        "duration": 44,
        "start_time": "2022-02-15T22:06:30.170Z"
      },
      {
        "duration": 36,
        "start_time": "2022-02-15T22:06:30.216Z"
      },
      {
        "duration": 56,
        "start_time": "2022-02-15T22:06:30.254Z"
      },
      {
        "duration": 4,
        "start_time": "2022-02-15T22:06:30.311Z"
      },
      {
        "duration": 31,
        "start_time": "2022-02-15T22:06:30.317Z"
      },
      {
        "duration": 48,
        "start_time": "2022-02-15T22:06:30.350Z"
      },
      {
        "duration": 30,
        "start_time": "2022-02-15T22:06:30.400Z"
      },
      {
        "duration": 255,
        "start_time": "2022-02-15T22:07:47.429Z"
      },
      {
        "duration": 4,
        "start_time": "2022-02-15T22:07:53.228Z"
      },
      {
        "duration": 389,
        "start_time": "2022-02-15T22:07:53.234Z"
      },
      {
        "duration": 29,
        "start_time": "2022-02-15T22:07:53.625Z"
      },
      {
        "duration": 28,
        "start_time": "2022-02-15T22:07:53.657Z"
      },
      {
        "duration": 28,
        "start_time": "2022-02-15T22:07:53.687Z"
      },
      {
        "duration": 27,
        "start_time": "2022-02-15T22:07:53.718Z"
      },
      {
        "duration": 16,
        "start_time": "2022-02-15T22:07:53.747Z"
      },
      {
        "duration": 16,
        "start_time": "2022-02-15T22:07:53.766Z"
      },
      {
        "duration": 23,
        "start_time": "2022-02-15T22:07:53.809Z"
      },
      {
        "duration": 114,
        "start_time": "2022-02-15T22:07:53.834Z"
      },
      {
        "duration": 19,
        "start_time": "2022-02-15T22:07:53.950Z"
      },
      {
        "duration": 185,
        "start_time": "2022-02-15T22:07:53.972Z"
      },
      {
        "duration": 23,
        "start_time": "2022-02-15T22:07:54.159Z"
      },
      {
        "duration": 105,
        "start_time": "2022-02-15T22:07:54.183Z"
      },
      {
        "duration": 29,
        "start_time": "2022-02-15T22:07:54.290Z"
      },
      {
        "duration": 25,
        "start_time": "2022-02-15T22:07:54.321Z"
      },
      {
        "duration": 57,
        "start_time": "2022-02-15T22:07:54.348Z"
      },
      {
        "duration": 29,
        "start_time": "2022-02-15T22:07:54.407Z"
      },
      {
        "duration": 32,
        "start_time": "2022-02-15T22:07:54.438Z"
      },
      {
        "duration": 81,
        "start_time": "2022-02-15T22:07:54.472Z"
      },
      {
        "duration": 89,
        "start_time": "2022-02-15T22:07:54.555Z"
      },
      {
        "duration": 11,
        "start_time": "2022-02-15T22:07:54.647Z"
      },
      {
        "duration": 14,
        "start_time": "2022-02-15T22:07:54.662Z"
      },
      {
        "duration": 45,
        "start_time": "2022-02-15T22:07:54.678Z"
      },
      {
        "duration": 632,
        "start_time": "2022-02-15T22:07:54.725Z"
      },
      {
        "duration": 30,
        "start_time": "2022-02-15T22:07:55.359Z"
      },
      {
        "duration": 16,
        "start_time": "2022-02-15T22:07:55.407Z"
      },
      {
        "duration": 42,
        "start_time": "2022-02-15T22:07:55.425Z"
      },
      {
        "duration": 48,
        "start_time": "2022-02-15T22:07:55.470Z"
      },
      {
        "duration": 39,
        "start_time": "2022-02-15T22:07:55.521Z"
      },
      {
        "duration": 4,
        "start_time": "2022-02-15T22:07:55.562Z"
      },
      {
        "duration": 16,
        "start_time": "2022-02-15T22:07:55.568Z"
      },
      {
        "duration": 14,
        "start_time": "2022-02-15T22:07:55.607Z"
      },
      {
        "duration": 19,
        "start_time": "2022-02-15T22:07:55.623Z"
      },
      {
        "duration": 3,
        "start_time": "2022-02-15T22:08:08.983Z"
      },
      {
        "duration": 395,
        "start_time": "2022-02-15T22:08:08.988Z"
      },
      {
        "duration": 28,
        "start_time": "2022-02-15T22:08:09.385Z"
      },
      {
        "duration": 25,
        "start_time": "2022-02-15T22:08:09.416Z"
      },
      {
        "duration": 13,
        "start_time": "2022-02-15T22:08:09.443Z"
      },
      {
        "duration": 51,
        "start_time": "2022-02-15T22:08:09.458Z"
      },
      {
        "duration": 17,
        "start_time": "2022-02-15T22:08:09.511Z"
      },
      {
        "duration": 9,
        "start_time": "2022-02-15T22:08:09.531Z"
      },
      {
        "duration": 27,
        "start_time": "2022-02-15T22:08:09.543Z"
      },
      {
        "duration": 126,
        "start_time": "2022-02-15T22:08:09.572Z"
      },
      {
        "duration": 19,
        "start_time": "2022-02-15T22:08:09.708Z"
      },
      {
        "duration": 179,
        "start_time": "2022-02-15T22:08:09.729Z"
      },
      {
        "duration": 24,
        "start_time": "2022-02-15T22:08:09.909Z"
      },
      {
        "duration": 101,
        "start_time": "2022-02-15T22:08:09.935Z"
      },
      {
        "duration": 21,
        "start_time": "2022-02-15T22:08:10.038Z"
      },
      {
        "duration": 15,
        "start_time": "2022-02-15T22:08:10.061Z"
      },
      {
        "duration": 57,
        "start_time": "2022-02-15T22:08:10.078Z"
      },
      {
        "duration": 30,
        "start_time": "2022-02-15T22:08:10.137Z"
      },
      {
        "duration": 46,
        "start_time": "2022-02-15T22:08:10.169Z"
      },
      {
        "duration": 58,
        "start_time": "2022-02-15T22:08:10.217Z"
      },
      {
        "duration": 98,
        "start_time": "2022-02-15T22:08:10.277Z"
      },
      {
        "duration": 12,
        "start_time": "2022-02-15T22:08:10.377Z"
      },
      {
        "duration": 25,
        "start_time": "2022-02-15T22:08:10.393Z"
      },
      {
        "duration": 31,
        "start_time": "2022-02-15T22:08:10.420Z"
      },
      {
        "duration": 586,
        "start_time": "2022-02-15T22:08:10.453Z"
      },
      {
        "duration": 28,
        "start_time": "2022-02-15T22:08:11.041Z"
      },
      {
        "duration": 36,
        "start_time": "2022-02-15T22:08:11.071Z"
      },
      {
        "duration": 33,
        "start_time": "2022-02-15T22:08:11.109Z"
      },
      {
        "duration": 33,
        "start_time": "2022-02-15T22:08:11.144Z"
      },
      {
        "duration": 60,
        "start_time": "2022-02-15T22:08:11.179Z"
      },
      {
        "duration": 4,
        "start_time": "2022-02-15T22:08:11.241Z"
      },
      {
        "duration": 20,
        "start_time": "2022-02-15T22:08:11.247Z"
      },
      {
        "duration": 13,
        "start_time": "2022-02-15T22:08:11.270Z"
      },
      {
        "duration": 43,
        "start_time": "2022-02-15T22:08:11.285Z"
      },
      {
        "duration": 256,
        "start_time": "2022-02-15T22:09:32.576Z"
      },
      {
        "duration": 3,
        "start_time": "2022-02-15T22:09:38.725Z"
      },
      {
        "duration": 391,
        "start_time": "2022-02-15T22:09:38.730Z"
      },
      {
        "duration": 28,
        "start_time": "2022-02-15T22:09:39.124Z"
      },
      {
        "duration": 25,
        "start_time": "2022-02-15T22:09:39.154Z"
      },
      {
        "duration": 12,
        "start_time": "2022-02-15T22:09:39.180Z"
      },
      {
        "duration": 23,
        "start_time": "2022-02-15T22:09:39.208Z"
      },
      {
        "duration": 15,
        "start_time": "2022-02-15T22:09:39.232Z"
      },
      {
        "duration": 15,
        "start_time": "2022-02-15T22:09:39.250Z"
      },
      {
        "duration": 54,
        "start_time": "2022-02-15T22:09:39.268Z"
      },
      {
        "duration": 102,
        "start_time": "2022-02-15T22:09:39.324Z"
      },
      {
        "duration": 17,
        "start_time": "2022-02-15T22:09:39.428Z"
      },
      {
        "duration": 179,
        "start_time": "2022-02-15T22:09:39.448Z"
      },
      {
        "duration": 23,
        "start_time": "2022-02-15T22:09:39.630Z"
      },
      {
        "duration": 109,
        "start_time": "2022-02-15T22:09:39.655Z"
      },
      {
        "duration": 22,
        "start_time": "2022-02-15T22:09:39.767Z"
      },
      {
        "duration": 28,
        "start_time": "2022-02-15T22:09:39.791Z"
      },
      {
        "duration": 36,
        "start_time": "2022-02-15T22:09:39.821Z"
      },
      {
        "duration": 59,
        "start_time": "2022-02-15T22:09:39.859Z"
      },
      {
        "duration": 175,
        "start_time": "2022-02-15T22:09:39.921Z"
      },
      {
        "duration": 59,
        "start_time": "2022-02-15T22:09:40.098Z"
      },
      {
        "duration": 103,
        "start_time": "2022-02-15T22:09:40.160Z"
      },
      {
        "duration": 12,
        "start_time": "2022-02-15T22:09:40.266Z"
      },
      {
        "duration": 27,
        "start_time": "2022-02-15T22:09:40.283Z"
      },
      {
        "duration": 21,
        "start_time": "2022-02-15T22:09:40.313Z"
      },
      {
        "duration": 608,
        "start_time": "2022-02-15T22:09:40.336Z"
      },
      {
        "duration": 28,
        "start_time": "2022-02-15T22:09:40.946Z"
      },
      {
        "duration": 33,
        "start_time": "2022-02-15T22:09:40.976Z"
      },
      {
        "duration": 32,
        "start_time": "2022-02-15T22:09:41.011Z"
      },
      {
        "duration": 35,
        "start_time": "2022-02-15T22:09:41.045Z"
      },
      {
        "duration": 56,
        "start_time": "2022-02-15T22:09:41.082Z"
      },
      {
        "duration": 4,
        "start_time": "2022-02-15T22:09:41.140Z"
      },
      {
        "duration": 21,
        "start_time": "2022-02-15T22:09:41.146Z"
      },
      {
        "duration": 21,
        "start_time": "2022-02-15T22:09:41.169Z"
      },
      {
        "duration": 35,
        "start_time": "2022-02-15T22:09:41.192Z"
      },
      {
        "duration": 244,
        "start_time": "2022-02-15T22:09:49.192Z"
      },
      {
        "duration": 3,
        "start_time": "2022-02-15T22:09:54.365Z"
      },
      {
        "duration": 419,
        "start_time": "2022-02-15T22:09:54.370Z"
      },
      {
        "duration": 30,
        "start_time": "2022-02-15T22:09:54.792Z"
      },
      {
        "duration": 28,
        "start_time": "2022-02-15T22:09:54.824Z"
      },
      {
        "duration": 14,
        "start_time": "2022-02-15T22:09:54.854Z"
      },
      {
        "duration": 43,
        "start_time": "2022-02-15T22:09:54.870Z"
      },
      {
        "duration": 16,
        "start_time": "2022-02-15T22:09:54.915Z"
      },
      {
        "duration": 17,
        "start_time": "2022-02-15T22:09:54.933Z"
      },
      {
        "duration": 28,
        "start_time": "2022-02-15T22:09:54.953Z"
      },
      {
        "duration": 100,
        "start_time": "2022-02-15T22:09:55.008Z"
      },
      {
        "duration": 19,
        "start_time": "2022-02-15T22:09:55.110Z"
      },
      {
        "duration": 185,
        "start_time": "2022-02-15T22:09:55.131Z"
      },
      {
        "duration": 21,
        "start_time": "2022-02-15T22:09:55.319Z"
      },
      {
        "duration": 103,
        "start_time": "2022-02-15T22:09:55.343Z"
      },
      {
        "duration": 20,
        "start_time": "2022-02-15T22:09:55.448Z"
      },
      {
        "duration": 14,
        "start_time": "2022-02-15T22:09:55.470Z"
      },
      {
        "duration": 54,
        "start_time": "2022-02-15T22:09:55.486Z"
      },
      {
        "duration": 30,
        "start_time": "2022-02-15T22:09:55.542Z"
      },
      {
        "duration": 51,
        "start_time": "2022-02-15T22:09:55.574Z"
      },
      {
        "duration": 58,
        "start_time": "2022-02-15T22:09:55.627Z"
      },
      {
        "duration": 100,
        "start_time": "2022-02-15T22:09:55.687Z"
      },
      {
        "duration": 26,
        "start_time": "2022-02-15T22:09:55.789Z"
      },
      {
        "duration": 16,
        "start_time": "2022-02-15T22:09:55.817Z"
      },
      {
        "duration": 29,
        "start_time": "2022-02-15T22:09:55.835Z"
      },
      {
        "duration": 610,
        "start_time": "2022-02-15T22:09:55.866Z"
      },
      {
        "duration": 38,
        "start_time": "2022-02-15T22:09:56.478Z"
      },
      {
        "duration": 17,
        "start_time": "2022-02-15T22:09:56.520Z"
      },
      {
        "duration": 35,
        "start_time": "2022-02-15T22:09:56.540Z"
      },
      {
        "duration": 62,
        "start_time": "2022-02-15T22:09:56.577Z"
      },
      {
        "duration": 42,
        "start_time": "2022-02-15T22:09:56.641Z"
      },
      {
        "duration": 25,
        "start_time": "2022-02-15T22:09:56.685Z"
      },
      {
        "duration": 17,
        "start_time": "2022-02-15T22:09:56.712Z"
      },
      {
        "duration": 15,
        "start_time": "2022-02-15T22:09:56.731Z"
      },
      {
        "duration": 23,
        "start_time": "2022-02-15T22:09:56.749Z"
      },
      {
        "duration": 3,
        "start_time": "2022-02-15T22:13:20.755Z"
      },
      {
        "duration": 433,
        "start_time": "2022-02-15T22:13:20.761Z"
      },
      {
        "duration": 30,
        "start_time": "2022-02-15T22:13:21.197Z"
      },
      {
        "duration": 27,
        "start_time": "2022-02-15T22:13:21.229Z"
      },
      {
        "duration": 13,
        "start_time": "2022-02-15T22:13:21.258Z"
      },
      {
        "duration": 52,
        "start_time": "2022-02-15T22:13:21.273Z"
      },
      {
        "duration": 25,
        "start_time": "2022-02-15T22:13:21.327Z"
      },
      {
        "duration": 9,
        "start_time": "2022-02-15T22:13:21.354Z"
      },
      {
        "duration": 46,
        "start_time": "2022-02-15T22:13:21.367Z"
      },
      {
        "duration": 123,
        "start_time": "2022-02-15T22:13:21.416Z"
      },
      {
        "duration": 18,
        "start_time": "2022-02-15T22:13:21.542Z"
      },
      {
        "duration": 184,
        "start_time": "2022-02-15T22:13:21.562Z"
      },
      {
        "duration": 25,
        "start_time": "2022-02-15T22:13:21.748Z"
      },
      {
        "duration": 103,
        "start_time": "2022-02-15T22:13:21.775Z"
      },
      {
        "duration": 34,
        "start_time": "2022-02-15T22:13:21.881Z"
      },
      {
        "duration": 15,
        "start_time": "2022-02-15T22:13:21.917Z"
      },
      {
        "duration": 37,
        "start_time": "2022-02-15T22:13:21.934Z"
      },
      {
        "duration": 55,
        "start_time": "2022-02-15T22:13:21.974Z"
      },
      {
        "duration": 32,
        "start_time": "2022-02-15T22:13:22.032Z"
      },
      {
        "duration": 89,
        "start_time": "2022-02-15T22:13:22.066Z"
      },
      {
        "duration": 88,
        "start_time": "2022-02-15T22:13:22.158Z"
      },
      {
        "duration": 14,
        "start_time": "2022-02-15T22:13:22.248Z"
      },
      {
        "duration": 13,
        "start_time": "2022-02-15T22:13:22.264Z"
      },
      {
        "duration": 41,
        "start_time": "2022-02-15T22:13:22.279Z"
      },
      {
        "duration": 573,
        "start_time": "2022-02-15T22:13:22.322Z"
      },
      {
        "duration": 36,
        "start_time": "2022-02-15T22:13:22.897Z"
      },
      {
        "duration": 16,
        "start_time": "2022-02-15T22:13:22.937Z"
      },
      {
        "duration": 52,
        "start_time": "2022-02-15T22:13:22.955Z"
      },
      {
        "duration": 35,
        "start_time": "2022-02-15T22:13:23.010Z"
      },
      {
        "duration": 38,
        "start_time": "2022-02-15T22:13:23.047Z"
      },
      {
        "duration": 5,
        "start_time": "2022-02-15T22:13:23.107Z"
      },
      {
        "duration": 19,
        "start_time": "2022-02-15T22:13:23.114Z"
      },
      {
        "duration": 155,
        "start_time": "2022-02-15T22:13:23.136Z"
      },
      {
        "duration": 31,
        "start_time": "2022-02-15T22:13:23.293Z"
      },
      {
        "duration": 3,
        "start_time": "2022-02-15T22:14:10.157Z"
      },
      {
        "duration": 4,
        "start_time": "2022-02-15T22:14:14.713Z"
      },
      {
        "duration": 500,
        "start_time": "2022-02-15T22:14:14.720Z"
      },
      {
        "duration": 30,
        "start_time": "2022-02-15T22:14:15.223Z"
      },
      {
        "duration": 27,
        "start_time": "2022-02-15T22:14:15.255Z"
      },
      {
        "duration": 32,
        "start_time": "2022-02-15T22:14:15.284Z"
      },
      {
        "duration": 32,
        "start_time": "2022-02-15T22:14:15.318Z"
      },
      {
        "duration": 21,
        "start_time": "2022-02-15T22:14:15.352Z"
      },
      {
        "duration": 39,
        "start_time": "2022-02-15T22:14:15.376Z"
      },
      {
        "duration": 26,
        "start_time": "2022-02-15T22:14:15.417Z"
      },
      {
        "duration": 123,
        "start_time": "2022-02-15T22:14:15.445Z"
      },
      {
        "duration": 17,
        "start_time": "2022-02-15T22:14:15.570Z"
      },
      {
        "duration": 191,
        "start_time": "2022-02-15T22:14:15.589Z"
      },
      {
        "duration": 37,
        "start_time": "2022-02-15T22:14:15.782Z"
      },
      {
        "duration": 106,
        "start_time": "2022-02-15T22:14:15.821Z"
      },
      {
        "duration": 23,
        "start_time": "2022-02-15T22:14:15.929Z"
      },
      {
        "duration": 18,
        "start_time": "2022-02-15T22:14:15.955Z"
      },
      {
        "duration": 67,
        "start_time": "2022-02-15T22:14:15.975Z"
      },
      {
        "duration": 40,
        "start_time": "2022-02-15T22:14:16.044Z"
      },
      {
        "duration": 49,
        "start_time": "2022-02-15T22:14:16.087Z"
      },
      {
        "duration": 70,
        "start_time": "2022-02-15T22:14:16.138Z"
      },
      {
        "duration": 98,
        "start_time": "2022-02-15T22:14:16.210Z"
      },
      {
        "duration": 11,
        "start_time": "2022-02-15T22:14:16.310Z"
      },
      {
        "duration": 13,
        "start_time": "2022-02-15T22:14:16.325Z"
      },
      {
        "duration": 25,
        "start_time": "2022-02-15T22:14:16.340Z"
      },
      {
        "duration": 673,
        "start_time": "2022-02-15T22:14:16.367Z"
      },
      {
        "duration": 32,
        "start_time": "2022-02-15T22:14:17.043Z"
      },
      {
        "duration": 34,
        "start_time": "2022-02-15T22:14:17.077Z"
      },
      {
        "duration": 33,
        "start_time": "2022-02-15T22:14:17.113Z"
      },
      {
        "duration": 36,
        "start_time": "2022-02-15T22:14:17.148Z"
      },
      {
        "duration": 41,
        "start_time": "2022-02-15T22:14:17.208Z"
      },
      {
        "duration": 4,
        "start_time": "2022-02-15T22:14:17.251Z"
      },
      {
        "duration": 20,
        "start_time": "2022-02-15T22:14:17.257Z"
      },
      {
        "duration": 4,
        "start_time": "2022-02-15T22:14:17.280Z"
      },
      {
        "duration": 16,
        "start_time": "2022-02-15T22:14:17.307Z"
      },
      {
        "duration": 3,
        "start_time": "2022-02-15T22:17:14.718Z"
      },
      {
        "duration": 429,
        "start_time": "2022-02-15T22:17:14.723Z"
      },
      {
        "duration": 29,
        "start_time": "2022-02-15T22:17:15.155Z"
      },
      {
        "duration": 35,
        "start_time": "2022-02-15T22:17:15.186Z"
      },
      {
        "duration": 13,
        "start_time": "2022-02-15T22:17:15.223Z"
      },
      {
        "duration": 31,
        "start_time": "2022-02-15T22:17:15.238Z"
      },
      {
        "duration": 38,
        "start_time": "2022-02-15T22:17:15.271Z"
      },
      {
        "duration": 11,
        "start_time": "2022-02-15T22:17:15.311Z"
      },
      {
        "duration": 28,
        "start_time": "2022-02-15T22:17:15.326Z"
      },
      {
        "duration": 122,
        "start_time": "2022-02-15T22:17:15.357Z"
      },
      {
        "duration": 27,
        "start_time": "2022-02-15T22:17:15.482Z"
      },
      {
        "duration": 176,
        "start_time": "2022-02-15T22:17:15.512Z"
      },
      {
        "duration": 34,
        "start_time": "2022-02-15T22:17:15.690Z"
      },
      {
        "duration": 92,
        "start_time": "2022-02-15T22:17:15.726Z"
      },
      {
        "duration": 20,
        "start_time": "2022-02-15T22:17:15.820Z"
      },
      {
        "duration": 13,
        "start_time": "2022-02-15T22:17:15.842Z"
      },
      {
        "duration": 58,
        "start_time": "2022-02-15T22:17:15.857Z"
      },
      {
        "duration": 29,
        "start_time": "2022-02-15T22:17:15.917Z"
      },
      {
        "duration": 30,
        "start_time": "2022-02-15T22:17:15.948Z"
      },
      {
        "duration": 62,
        "start_time": "2022-02-15T22:17:16.008Z"
      },
      {
        "duration": 93,
        "start_time": "2022-02-15T22:17:16.072Z"
      },
      {
        "duration": 15,
        "start_time": "2022-02-15T22:17:16.167Z"
      },
      {
        "duration": 31,
        "start_time": "2022-02-15T22:17:16.183Z"
      },
      {
        "duration": 20,
        "start_time": "2022-02-15T22:17:16.216Z"
      },
      {
        "duration": 578,
        "start_time": "2022-02-15T22:17:16.238Z"
      },
      {
        "duration": 28,
        "start_time": "2022-02-15T22:17:16.817Z"
      },
      {
        "duration": 25,
        "start_time": "2022-02-15T22:17:16.849Z"
      },
      {
        "duration": 46,
        "start_time": "2022-02-15T22:17:16.876Z"
      },
      {
        "duration": 34,
        "start_time": "2022-02-15T22:17:16.924Z"
      },
      {
        "duration": 53,
        "start_time": "2022-02-15T22:17:16.960Z"
      },
      {
        "duration": 4,
        "start_time": "2022-02-15T22:17:17.015Z"
      },
      {
        "duration": 37,
        "start_time": "2022-02-15T22:17:17.021Z"
      },
      {
        "duration": 23,
        "start_time": "2022-02-15T22:17:17.060Z"
      },
      {
        "duration": 42,
        "start_time": "2022-02-15T22:17:17.085Z"
      },
      {
        "duration": 11,
        "start_time": "2022-02-15T22:17:24.032Z"
      },
      {
        "duration": 12,
        "start_time": "2022-02-15T22:21:04.437Z"
      },
      {
        "duration": 3,
        "start_time": "2022-02-15T22:21:07.338Z"
      },
      {
        "duration": 402,
        "start_time": "2022-02-15T22:21:07.344Z"
      },
      {
        "duration": 27,
        "start_time": "2022-02-15T22:21:07.748Z"
      },
      {
        "duration": 24,
        "start_time": "2022-02-15T22:21:07.778Z"
      },
      {
        "duration": 11,
        "start_time": "2022-02-15T22:21:07.804Z"
      },
      {
        "duration": 21,
        "start_time": "2022-02-15T22:21:07.818Z"
      },
      {
        "duration": 15,
        "start_time": "2022-02-15T22:21:07.841Z"
      },
      {
        "duration": 15,
        "start_time": "2022-02-15T22:21:07.857Z"
      },
      {
        "duration": 56,
        "start_time": "2022-02-15T22:21:07.875Z"
      },
      {
        "duration": 109,
        "start_time": "2022-02-15T22:21:07.933Z"
      },
      {
        "duration": 16,
        "start_time": "2022-02-15T22:21:08.044Z"
      },
      {
        "duration": 177,
        "start_time": "2022-02-15T22:21:08.062Z"
      },
      {
        "duration": 24,
        "start_time": "2022-02-15T22:21:08.241Z"
      },
      {
        "duration": 104,
        "start_time": "2022-02-15T22:21:08.267Z"
      },
      {
        "duration": 20,
        "start_time": "2022-02-15T22:21:08.373Z"
      },
      {
        "duration": 24,
        "start_time": "2022-02-15T22:21:08.395Z"
      },
      {
        "duration": 37,
        "start_time": "2022-02-15T22:21:08.421Z"
      },
      {
        "duration": 49,
        "start_time": "2022-02-15T22:21:08.460Z"
      },
      {
        "duration": 28,
        "start_time": "2022-02-15T22:21:08.511Z"
      },
      {
        "duration": 76,
        "start_time": "2022-02-15T22:21:08.541Z"
      },
      {
        "duration": 77,
        "start_time": "2022-02-15T22:21:08.619Z"
      },
      {
        "duration": 12,
        "start_time": "2022-02-15T22:21:08.708Z"
      },
      {
        "duration": 15,
        "start_time": "2022-02-15T22:21:08.722Z"
      },
      {
        "duration": 20,
        "start_time": "2022-02-15T22:21:08.739Z"
      },
      {
        "duration": 739,
        "start_time": "2022-02-15T22:21:08.761Z"
      },
      {
        "duration": 29,
        "start_time": "2022-02-15T22:21:09.502Z"
      },
      {
        "duration": 16,
        "start_time": "2022-02-15T22:21:09.535Z"
      },
      {
        "duration": 58,
        "start_time": "2022-02-15T22:21:09.553Z"
      },
      {
        "duration": 35,
        "start_time": "2022-02-15T22:21:09.613Z"
      },
      {
        "duration": 57,
        "start_time": "2022-02-15T22:21:09.650Z"
      },
      {
        "duration": 4,
        "start_time": "2022-02-15T22:21:09.710Z"
      },
      {
        "duration": 19,
        "start_time": "2022-02-15T22:21:09.716Z"
      },
      {
        "duration": 10,
        "start_time": "2022-02-15T22:21:09.737Z"
      },
      {
        "duration": 20,
        "start_time": "2022-02-15T22:21:09.749Z"
      },
      {
        "duration": 255,
        "start_time": "2022-02-15T22:23:43.526Z"
      },
      {
        "duration": 3,
        "start_time": "2022-02-15T22:23:47.091Z"
      },
      {
        "duration": 403,
        "start_time": "2022-02-15T22:23:47.096Z"
      },
      {
        "duration": 30,
        "start_time": "2022-02-15T22:23:47.501Z"
      },
      {
        "duration": 24,
        "start_time": "2022-02-15T22:23:47.533Z"
      },
      {
        "duration": 12,
        "start_time": "2022-02-15T22:23:47.559Z"
      },
      {
        "duration": 52,
        "start_time": "2022-02-15T22:23:47.573Z"
      },
      {
        "duration": 15,
        "start_time": "2022-02-15T22:23:47.628Z"
      },
      {
        "duration": 13,
        "start_time": "2022-02-15T22:23:47.645Z"
      },
      {
        "duration": 47,
        "start_time": "2022-02-15T22:23:47.662Z"
      },
      {
        "duration": 115,
        "start_time": "2022-02-15T22:23:47.711Z"
      },
      {
        "duration": 16,
        "start_time": "2022-02-15T22:23:47.828Z"
      },
      {
        "duration": 170,
        "start_time": "2022-02-15T22:23:47.846Z"
      },
      {
        "duration": 26,
        "start_time": "2022-02-15T22:23:48.018Z"
      },
      {
        "duration": 108,
        "start_time": "2022-02-15T22:23:48.045Z"
      },
      {
        "duration": 21,
        "start_time": "2022-02-15T22:23:48.155Z"
      },
      {
        "duration": 13,
        "start_time": "2022-02-15T22:23:48.178Z"
      },
      {
        "duration": 36,
        "start_time": "2022-02-15T22:23:48.208Z"
      },
      {
        "duration": 29,
        "start_time": "2022-02-15T22:23:48.246Z"
      },
      {
        "duration": 53,
        "start_time": "2022-02-15T22:23:48.277Z"
      },
      {
        "duration": 55,
        "start_time": "2022-02-15T22:23:48.332Z"
      },
      {
        "duration": 91,
        "start_time": "2022-02-15T22:23:48.389Z"
      },
      {
        "duration": 25,
        "start_time": "2022-02-15T22:23:48.482Z"
      },
      {
        "duration": 13,
        "start_time": "2022-02-15T22:23:48.509Z"
      },
      {
        "duration": 20,
        "start_time": "2022-02-15T22:23:48.524Z"
      },
      {
        "duration": 689,
        "start_time": "2022-02-15T22:23:48.545Z"
      },
      {
        "duration": 28,
        "start_time": "2022-02-15T22:23:49.236Z"
      },
      {
        "duration": 15,
        "start_time": "2022-02-15T22:23:49.268Z"
      },
      {
        "duration": 52,
        "start_time": "2022-02-15T22:23:49.285Z"
      },
      {
        "duration": 34,
        "start_time": "2022-02-15T22:23:49.339Z"
      },
      {
        "duration": 66,
        "start_time": "2022-02-15T22:23:49.375Z"
      },
      {
        "duration": 5,
        "start_time": "2022-02-15T22:23:49.443Z"
      },
      {
        "duration": 17,
        "start_time": "2022-02-15T22:23:49.450Z"
      },
      {
        "duration": 8,
        "start_time": "2022-02-15T22:23:49.469Z"
      },
      {
        "duration": 41,
        "start_time": "2022-02-15T22:23:49.479Z"
      },
      {
        "duration": 20,
        "start_time": "2022-02-15T22:24:53.696Z"
      },
      {
        "duration": 3,
        "start_time": "2022-02-16T04:05:54.619Z"
      },
      {
        "duration": 421,
        "start_time": "2022-02-16T04:05:54.625Z"
      },
      {
        "duration": 28,
        "start_time": "2022-02-16T04:05:55.049Z"
      },
      {
        "duration": 28,
        "start_time": "2022-02-16T04:05:55.080Z"
      },
      {
        "duration": 13,
        "start_time": "2022-02-16T04:05:55.110Z"
      },
      {
        "duration": 22,
        "start_time": "2022-02-16T04:05:55.125Z"
      },
      {
        "duration": 16,
        "start_time": "2022-02-16T04:05:55.149Z"
      },
      {
        "duration": 42,
        "start_time": "2022-02-16T04:05:55.167Z"
      },
      {
        "duration": 29,
        "start_time": "2022-02-16T04:05:55.211Z"
      },
      {
        "duration": 116,
        "start_time": "2022-02-16T04:05:55.242Z"
      },
      {
        "duration": 18,
        "start_time": "2022-02-16T04:05:55.359Z"
      },
      {
        "duration": 175,
        "start_time": "2022-02-16T04:05:55.379Z"
      },
      {
        "duration": 23,
        "start_time": "2022-02-16T04:05:55.556Z"
      },
      {
        "duration": 97,
        "start_time": "2022-02-16T04:05:55.581Z"
      },
      {
        "duration": 32,
        "start_time": "2022-02-16T04:05:55.680Z"
      },
      {
        "duration": 14,
        "start_time": "2022-02-16T04:05:55.714Z"
      },
      {
        "duration": 36,
        "start_time": "2022-02-16T04:05:55.729Z"
      },
      {
        "duration": 53,
        "start_time": "2022-02-16T04:05:55.767Z"
      },
      {
        "duration": 30,
        "start_time": "2022-02-16T04:05:55.822Z"
      },
      {
        "duration": 83,
        "start_time": "2022-02-16T04:05:55.854Z"
      },
      {
        "duration": 89,
        "start_time": "2022-02-16T04:05:55.939Z"
      },
      {
        "duration": 12,
        "start_time": "2022-02-16T04:05:56.030Z"
      },
      {
        "duration": 13,
        "start_time": "2022-02-16T04:05:56.045Z"
      },
      {
        "duration": 47,
        "start_time": "2022-02-16T04:05:56.061Z"
      },
      {
        "duration": 554,
        "start_time": "2022-02-16T04:05:56.110Z"
      },
      {
        "duration": 42,
        "start_time": "2022-02-16T04:05:56.667Z"
      },
      {
        "duration": 19,
        "start_time": "2022-02-16T04:05:56.711Z"
      },
      {
        "duration": 34,
        "start_time": "2022-02-16T04:05:56.732Z"
      },
      {
        "duration": 59,
        "start_time": "2022-02-16T04:05:56.768Z"
      },
      {
        "duration": 38,
        "start_time": "2022-02-16T04:05:56.828Z"
      },
      {
        "duration": 4,
        "start_time": "2022-02-16T04:05:56.867Z"
      },
      {
        "duration": 34,
        "start_time": "2022-02-16T04:05:56.873Z"
      },
      {
        "duration": 8,
        "start_time": "2022-02-16T04:05:56.909Z"
      },
      {
        "duration": 21,
        "start_time": "2022-02-16T04:05:56.919Z"
      },
      {
        "duration": 21,
        "start_time": "2022-02-16T04:05:56.941Z"
      },
      {
        "duration": 241,
        "start_time": "2022-02-16T04:07:56.855Z"
      },
      {
        "duration": 272,
        "start_time": "2022-02-16T04:09:24.584Z"
      },
      {
        "duration": 5,
        "start_time": "2022-02-16T04:09:41.336Z"
      },
      {
        "duration": 9,
        "start_time": "2022-02-16T04:10:25.056Z"
      },
      {
        "duration": 14,
        "start_time": "2022-02-16T04:11:42.010Z"
      },
      {
        "duration": 5,
        "start_time": "2022-02-16T04:15:05.382Z"
      },
      {
        "duration": 20,
        "start_time": "2022-02-16T04:15:17.893Z"
      },
      {
        "duration": 1060,
        "start_time": "2022-02-16T04:17:51.649Z"
      },
      {
        "duration": 401,
        "start_time": "2022-02-16T04:17:52.711Z"
      },
      {
        "duration": 32,
        "start_time": "2022-02-16T04:17:53.114Z"
      },
      {
        "duration": 24,
        "start_time": "2022-02-16T04:17:53.147Z"
      },
      {
        "duration": 12,
        "start_time": "2022-02-16T04:17:53.173Z"
      },
      {
        "duration": 21,
        "start_time": "2022-02-16T04:17:53.208Z"
      },
      {
        "duration": 14,
        "start_time": "2022-02-16T04:17:53.231Z"
      },
      {
        "duration": 10,
        "start_time": "2022-02-16T04:17:53.247Z"
      },
      {
        "duration": 57,
        "start_time": "2022-02-16T04:17:53.259Z"
      },
      {
        "duration": 117,
        "start_time": "2022-02-16T04:17:53.318Z"
      },
      {
        "duration": 18,
        "start_time": "2022-02-16T04:17:53.437Z"
      },
      {
        "duration": 176,
        "start_time": "2022-02-16T04:17:53.457Z"
      },
      {
        "duration": 28,
        "start_time": "2022-02-16T04:17:53.635Z"
      },
      {
        "duration": 102,
        "start_time": "2022-02-16T04:17:53.664Z"
      },
      {
        "duration": 21,
        "start_time": "2022-02-16T04:17:53.768Z"
      },
      {
        "duration": 25,
        "start_time": "2022-02-16T04:17:53.791Z"
      },
      {
        "duration": 35,
        "start_time": "2022-02-16T04:17:53.818Z"
      },
      {
        "duration": 54,
        "start_time": "2022-02-16T04:17:53.855Z"
      },
      {
        "duration": 29,
        "start_time": "2022-02-16T04:17:53.911Z"
      },
      {
        "duration": 75,
        "start_time": "2022-02-16T04:17:53.941Z"
      },
      {
        "duration": 91,
        "start_time": "2022-02-16T04:17:54.018Z"
      },
      {
        "duration": 12,
        "start_time": "2022-02-16T04:17:54.113Z"
      },
      {
        "duration": 13,
        "start_time": "2022-02-16T04:17:54.128Z"
      },
      {
        "duration": 20,
        "start_time": "2022-02-16T04:17:54.142Z"
      },
      {
        "duration": 621,
        "start_time": "2022-02-16T04:17:54.164Z"
      },
      {
        "duration": 43,
        "start_time": "2022-02-16T04:17:54.787Z"
      },
      {
        "duration": 16,
        "start_time": "2022-02-16T04:17:54.832Z"
      },
      {
        "duration": 33,
        "start_time": "2022-02-16T04:17:54.850Z"
      },
      {
        "duration": 60,
        "start_time": "2022-02-16T04:17:54.885Z"
      },
      {
        "duration": 37,
        "start_time": "2022-02-16T04:17:54.948Z"
      },
      {
        "duration": 22,
        "start_time": "2022-02-16T04:17:54.987Z"
      },
      {
        "duration": 12,
        "start_time": "2022-02-16T04:17:55.012Z"
      },
      {
        "duration": 8,
        "start_time": "2022-02-16T04:17:55.026Z"
      },
      {
        "duration": 19,
        "start_time": "2022-02-16T04:17:55.035Z"
      },
      {
        "duration": 5,
        "start_time": "2022-02-16T04:17:55.056Z"
      },
      {
        "duration": 46,
        "start_time": "2022-02-16T04:17:55.063Z"
      },
      {
        "duration": 16,
        "start_time": "2022-02-16T04:17:55.110Z"
      },
      {
        "duration": 6,
        "start_time": "2022-02-16T04:17:55.128Z"
      },
      {
        "duration": 5,
        "start_time": "2022-02-16T04:21:53.822Z"
      },
      {
        "duration": 4,
        "start_time": "2022-02-16T04:24:23.666Z"
      },
      {
        "duration": 425,
        "start_time": "2022-02-16T04:24:23.672Z"
      },
      {
        "duration": 27,
        "start_time": "2022-02-16T04:24:24.099Z"
      },
      {
        "duration": 34,
        "start_time": "2022-02-16T04:24:24.128Z"
      },
      {
        "duration": 12,
        "start_time": "2022-02-16T04:24:24.164Z"
      },
      {
        "duration": 41,
        "start_time": "2022-02-16T04:24:24.178Z"
      },
      {
        "duration": 15,
        "start_time": "2022-02-16T04:24:24.220Z"
      },
      {
        "duration": 8,
        "start_time": "2022-02-16T04:24:24.238Z"
      },
      {
        "duration": 22,
        "start_time": "2022-02-16T04:24:24.249Z"
      },
      {
        "duration": 123,
        "start_time": "2022-02-16T04:24:24.273Z"
      },
      {
        "duration": 21,
        "start_time": "2022-02-16T04:24:24.406Z"
      },
      {
        "duration": 171,
        "start_time": "2022-02-16T04:24:24.429Z"
      },
      {
        "duration": 26,
        "start_time": "2022-02-16T04:24:24.602Z"
      },
      {
        "duration": 101,
        "start_time": "2022-02-16T04:24:24.630Z"
      },
      {
        "duration": 20,
        "start_time": "2022-02-16T04:24:24.733Z"
      },
      {
        "duration": 13,
        "start_time": "2022-02-16T04:24:24.754Z"
      },
      {
        "duration": 60,
        "start_time": "2022-02-16T04:24:24.769Z"
      },
      {
        "duration": 29,
        "start_time": "2022-02-16T04:24:24.831Z"
      },
      {
        "duration": 46,
        "start_time": "2022-02-16T04:24:24.861Z"
      },
      {
        "duration": 57,
        "start_time": "2022-02-16T04:24:24.910Z"
      },
      {
        "duration": 93,
        "start_time": "2022-02-16T04:24:24.969Z"
      },
      {
        "duration": 12,
        "start_time": "2022-02-16T04:24:25.064Z"
      },
      {
        "duration": 29,
        "start_time": "2022-02-16T04:24:25.081Z"
      },
      {
        "duration": 20,
        "start_time": "2022-02-16T04:24:25.113Z"
      },
      {
        "duration": 579,
        "start_time": "2022-02-16T04:24:25.135Z"
      },
      {
        "duration": 29,
        "start_time": "2022-02-16T04:24:25.716Z"
      },
      {
        "duration": 16,
        "start_time": "2022-02-16T04:24:25.747Z"
      },
      {
        "duration": 57,
        "start_time": "2022-02-16T04:24:25.765Z"
      },
      {
        "duration": 33,
        "start_time": "2022-02-16T04:24:25.824Z"
      },
      {
        "duration": 50,
        "start_time": "2022-02-16T04:24:25.859Z"
      },
      {
        "duration": 4,
        "start_time": "2022-02-16T04:24:25.911Z"
      },
      {
        "duration": 102,
        "start_time": "2022-02-16T04:24:25.917Z"
      },
      {
        "duration": 7,
        "start_time": "2022-02-16T04:24:26.021Z"
      },
      {
        "duration": 25,
        "start_time": "2022-02-16T04:24:26.030Z"
      },
      {
        "duration": 4,
        "start_time": "2022-02-16T04:24:26.057Z"
      },
      {
        "duration": 14,
        "start_time": "2022-02-16T04:24:26.063Z"
      },
      {
        "duration": 30,
        "start_time": "2022-02-16T04:24:26.079Z"
      },
      {
        "duration": 11,
        "start_time": "2022-02-16T04:24:26.111Z"
      },
      {
        "duration": 21,
        "start_time": "2022-02-16T04:24:26.124Z"
      },
      {
        "duration": 18,
        "start_time": "2022-02-16T04:24:45.305Z"
      },
      {
        "duration": 18,
        "start_time": "2022-02-16T04:25:16.377Z"
      },
      {
        "duration": 19,
        "start_time": "2022-02-16T04:25:33.610Z"
      },
      {
        "duration": 4,
        "start_time": "2022-02-16T04:47:27.673Z"
      },
      {
        "duration": 584,
        "start_time": "2022-02-16T04:51:46.622Z"
      },
      {
        "duration": 1039,
        "start_time": "2022-02-19T20:01:21.266Z"
      },
      {
        "duration": 348,
        "start_time": "2022-02-19T20:01:22.307Z"
      },
      {
        "duration": 27,
        "start_time": "2022-02-19T20:01:22.657Z"
      },
      {
        "duration": 31,
        "start_time": "2022-02-19T20:01:22.686Z"
      },
      {
        "duration": 16,
        "start_time": "2022-02-19T20:01:22.719Z"
      },
      {
        "duration": 24,
        "start_time": "2022-02-19T20:01:22.737Z"
      },
      {
        "duration": 12,
        "start_time": "2022-02-19T20:01:22.763Z"
      },
      {
        "duration": 11,
        "start_time": "2022-02-19T20:01:22.778Z"
      },
      {
        "duration": 45,
        "start_time": "2022-02-19T20:01:22.791Z"
      },
      {
        "duration": 105,
        "start_time": "2022-02-19T20:01:22.838Z"
      },
      {
        "duration": 16,
        "start_time": "2022-02-19T20:01:22.944Z"
      },
      {
        "duration": 161,
        "start_time": "2022-02-19T20:01:22.962Z"
      },
      {
        "duration": 26,
        "start_time": "2022-02-19T20:01:23.124Z"
      },
      {
        "duration": 91,
        "start_time": "2022-02-19T20:01:23.151Z"
      },
      {
        "duration": 19,
        "start_time": "2022-02-19T20:01:23.243Z"
      },
      {
        "duration": 11,
        "start_time": "2022-02-19T20:01:23.265Z"
      },
      {
        "duration": 54,
        "start_time": "2022-02-19T20:01:23.278Z"
      },
      {
        "duration": 30,
        "start_time": "2022-02-19T20:01:23.334Z"
      },
      {
        "duration": 25,
        "start_time": "2022-02-19T20:01:23.366Z"
      },
      {
        "duration": 81,
        "start_time": "2022-02-19T20:01:23.392Z"
      },
      {
        "duration": 77,
        "start_time": "2022-02-19T20:01:23.475Z"
      },
      {
        "duration": 10,
        "start_time": "2022-02-19T20:01:23.553Z"
      },
      {
        "duration": 13,
        "start_time": "2022-02-19T20:01:23.566Z"
      },
      {
        "duration": 19,
        "start_time": "2022-02-19T20:01:23.581Z"
      },
      {
        "duration": 695,
        "start_time": "2022-02-19T20:01:23.602Z"
      },
      {
        "duration": 34,
        "start_time": "2022-02-19T20:01:24.299Z"
      },
      {
        "duration": 15,
        "start_time": "2022-02-19T20:01:24.335Z"
      },
      {
        "duration": 32,
        "start_time": "2022-02-19T20:01:24.352Z"
      },
      {
        "duration": 62,
        "start_time": "2022-02-19T20:01:24.386Z"
      },
      {
        "duration": 34,
        "start_time": "2022-02-19T20:01:24.450Z"
      },
      {
        "duration": 4,
        "start_time": "2022-02-19T20:01:24.485Z"
      },
      {
        "duration": 10,
        "start_time": "2022-02-19T20:01:24.490Z"
      },
      {
        "duration": 29,
        "start_time": "2022-02-19T20:01:24.502Z"
      },
      {
        "duration": 15,
        "start_time": "2022-02-19T20:01:24.532Z"
      },
      {
        "duration": 4,
        "start_time": "2022-02-19T20:01:24.548Z"
      },
      {
        "duration": 11,
        "start_time": "2022-02-19T20:01:24.554Z"
      },
      {
        "duration": 15,
        "start_time": "2022-02-19T20:01:24.567Z"
      },
      {
        "duration": 4,
        "start_time": "2022-02-19T20:01:24.584Z"
      },
      {
        "duration": 51,
        "start_time": "2022-02-19T20:01:24.589Z"
      },
      {
        "duration": 3,
        "start_time": "2022-02-19T20:01:24.642Z"
      },
      {
        "duration": 472,
        "start_time": "2022-02-19T20:01:24.647Z"
      },
      {
        "duration": 4,
        "start_time": "2022-02-19T20:19:39.826Z"
      },
      {
        "duration": 386,
        "start_time": "2022-02-19T20:19:43.946Z"
      },
      {
        "duration": 4,
        "start_time": "2022-02-19T20:21:05.788Z"
      },
      {
        "duration": 101,
        "start_time": "2022-02-19T20:21:09.100Z"
      },
      {
        "duration": 5,
        "start_time": "2022-02-19T20:21:25.541Z"
      },
      {
        "duration": 6,
        "start_time": "2022-02-19T20:21:47.972Z"
      },
      {
        "duration": 2,
        "start_time": "2022-02-19T20:31:16.917Z"
      },
      {
        "duration": 6,
        "start_time": "2022-02-19T20:33:29.649Z"
      },
      {
        "duration": 24,
        "start_time": "2022-02-19T20:33:49.559Z"
      },
      {
        "duration": 8,
        "start_time": "2022-02-19T20:35:09.451Z"
      },
      {
        "duration": 67,
        "start_time": "2022-02-19T20:49:12.231Z"
      },
      {
        "duration": 70,
        "start_time": "2022-02-19T20:50:05.724Z"
      },
      {
        "duration": 194,
        "start_time": "2022-02-19T20:50:17.182Z"
      },
      {
        "duration": 36,
        "start_time": "2022-02-19T20:53:24.774Z"
      },
      {
        "duration": 15,
        "start_time": "2022-02-19T20:54:01.398Z"
      },
      {
        "duration": 3,
        "start_time": "2022-02-19T20:54:44.234Z"
      },
      {
        "duration": 384,
        "start_time": "2022-02-19T20:54:44.239Z"
      },
      {
        "duration": 26,
        "start_time": "2022-02-19T20:54:44.626Z"
      },
      {
        "duration": 21,
        "start_time": "2022-02-19T20:54:44.655Z"
      },
      {
        "duration": 9,
        "start_time": "2022-02-19T20:54:44.678Z"
      },
      {
        "duration": 46,
        "start_time": "2022-02-19T20:54:44.689Z"
      },
      {
        "duration": 14,
        "start_time": "2022-02-19T20:54:44.738Z"
      },
      {
        "duration": 8,
        "start_time": "2022-02-19T20:54:44.755Z"
      },
      {
        "duration": 22,
        "start_time": "2022-02-19T20:54:44.764Z"
      },
      {
        "duration": 119,
        "start_time": "2022-02-19T20:54:44.787Z"
      },
      {
        "duration": 28,
        "start_time": "2022-02-19T20:54:44.908Z"
      },
      {
        "duration": 156,
        "start_time": "2022-02-19T20:54:44.938Z"
      },
      {
        "duration": 21,
        "start_time": "2022-02-19T20:54:45.096Z"
      },
      {
        "duration": 78,
        "start_time": "2022-02-19T20:54:45.130Z"
      },
      {
        "duration": 31,
        "start_time": "2022-02-19T20:54:45.210Z"
      },
      {
        "duration": 11,
        "start_time": "2022-02-19T20:54:45.242Z"
      },
      {
        "duration": 33,
        "start_time": "2022-02-19T20:54:45.255Z"
      },
      {
        "duration": 48,
        "start_time": "2022-02-19T20:54:45.290Z"
      },
      {
        "duration": 26,
        "start_time": "2022-02-19T20:54:45.341Z"
      },
      {
        "duration": 67,
        "start_time": "2022-02-19T20:54:45.369Z"
      },
      {
        "duration": 72,
        "start_time": "2022-02-19T20:54:45.438Z"
      },
      {
        "duration": 24,
        "start_time": "2022-02-19T20:54:45.512Z"
      },
      {
        "duration": 12,
        "start_time": "2022-02-19T20:54:45.538Z"
      },
      {
        "duration": 18,
        "start_time": "2022-02-19T20:54:45.552Z"
      },
      {
        "duration": 529,
        "start_time": "2022-02-19T20:54:45.571Z"
      },
      {
        "duration": 37,
        "start_time": "2022-02-19T20:54:46.102Z"
      },
      {
        "duration": 14,
        "start_time": "2022-02-19T20:54:46.140Z"
      },
      {
        "duration": 28,
        "start_time": "2022-02-19T20:54:46.155Z"
      },
      {
        "duration": 47,
        "start_time": "2022-02-19T20:54:46.184Z"
      },
      {
        "duration": 100,
        "start_time": "2022-02-19T20:54:46.232Z"
      },
      {
        "duration": 4,
        "start_time": "2022-02-19T20:54:46.333Z"
      },
      {
        "duration": 11,
        "start_time": "2022-02-19T20:54:46.338Z"
      },
      {
        "duration": 7,
        "start_time": "2022-02-19T20:54:46.350Z"
      },
      {
        "duration": 19,
        "start_time": "2022-02-19T20:54:46.359Z"
      },
      {
        "duration": 3,
        "start_time": "2022-02-19T20:54:46.379Z"
      },
      {
        "duration": 8,
        "start_time": "2022-02-19T20:54:46.384Z"
      },
      {
        "duration": 39,
        "start_time": "2022-02-19T20:54:46.393Z"
      },
      {
        "duration": 6,
        "start_time": "2022-02-19T20:54:46.433Z"
      },
      {
        "duration": 17,
        "start_time": "2022-02-19T20:54:46.441Z"
      },
      {
        "duration": 5,
        "start_time": "2022-02-19T20:54:46.460Z"
      },
      {
        "duration": 120,
        "start_time": "2022-02-19T20:54:46.466Z"
      },
      {
        "duration": 30,
        "start_time": "2022-02-19T20:54:46.587Z"
      },
      {
        "duration": 24,
        "start_time": "2022-02-19T20:54:46.618Z"
      },
      {
        "duration": 228,
        "start_time": "2022-02-19T21:00:39.659Z"
      },
      {
        "duration": 2,
        "start_time": "2022-02-19T21:01:44.609Z"
      },
      {
        "duration": 372,
        "start_time": "2022-02-19T21:01:44.613Z"
      },
      {
        "duration": 27,
        "start_time": "2022-02-19T21:01:44.986Z"
      },
      {
        "duration": 25,
        "start_time": "2022-02-19T21:01:45.015Z"
      },
      {
        "duration": 11,
        "start_time": "2022-02-19T21:01:45.043Z"
      },
      {
        "duration": 20,
        "start_time": "2022-02-19T21:01:45.057Z"
      },
      {
        "duration": 19,
        "start_time": "2022-02-19T21:01:45.079Z"
      },
      {
        "duration": 37,
        "start_time": "2022-02-19T21:01:45.099Z"
      },
      {
        "duration": 21,
        "start_time": "2022-02-19T21:01:45.138Z"
      },
      {
        "duration": 99,
        "start_time": "2022-02-19T21:01:45.161Z"
      },
      {
        "duration": 14,
        "start_time": "2022-02-19T21:01:45.261Z"
      },
      {
        "duration": 160,
        "start_time": "2022-02-19T21:01:45.277Z"
      },
      {
        "duration": 22,
        "start_time": "2022-02-19T21:01:45.439Z"
      },
      {
        "duration": 94,
        "start_time": "2022-02-19T21:01:45.462Z"
      },
      {
        "duration": 18,
        "start_time": "2022-02-19T21:01:45.558Z"
      },
      {
        "duration": 15,
        "start_time": "2022-02-19T21:01:45.577Z"
      },
      {
        "duration": 54,
        "start_time": "2022-02-19T21:01:45.595Z"
      },
      {
        "duration": 26,
        "start_time": "2022-02-19T21:01:45.651Z"
      },
      {
        "duration": 27,
        "start_time": "2022-02-19T21:01:45.678Z"
      },
      {
        "duration": 73,
        "start_time": "2022-02-19T21:01:45.706Z"
      },
      {
        "duration": 86,
        "start_time": "2022-02-19T21:01:45.780Z"
      },
      {
        "duration": 11,
        "start_time": "2022-02-19T21:01:45.867Z"
      },
      {
        "duration": 13,
        "start_time": "2022-02-19T21:01:45.879Z"
      },
      {
        "duration": 36,
        "start_time": "2022-02-19T21:01:45.894Z"
      },
      {
        "duration": 2932,
        "start_time": "2022-02-19T21:01:45.931Z"
      },
      {
        "duration": 26,
        "start_time": "2022-02-19T21:01:48.864Z"
      },
      {
        "duration": 14,
        "start_time": "2022-02-19T21:01:48.891Z"
      },
      {
        "duration": 48,
        "start_time": "2022-02-19T21:01:48.907Z"
      },
      {
        "duration": 31,
        "start_time": "2022-02-19T21:01:48.956Z"
      },
      {
        "duration": 57,
        "start_time": "2022-02-19T21:01:48.989Z"
      },
      {
        "duration": 4,
        "start_time": "2022-02-19T21:01:49.048Z"
      },
      {
        "duration": 12,
        "start_time": "2022-02-19T21:01:49.054Z"
      },
      {
        "duration": 10,
        "start_time": "2022-02-19T21:01:49.068Z"
      },
      {
        "duration": 19,
        "start_time": "2022-02-19T21:01:49.080Z"
      },
      {
        "duration": 28,
        "start_time": "2022-02-19T21:01:49.101Z"
      },
      {
        "duration": 8,
        "start_time": "2022-02-19T21:01:49.131Z"
      },
      {
        "duration": 17,
        "start_time": "2022-02-19T21:01:49.141Z"
      },
      {
        "duration": 9,
        "start_time": "2022-02-19T21:01:49.160Z"
      },
      {
        "duration": 21,
        "start_time": "2022-02-19T21:01:49.171Z"
      },
      {
        "duration": 9,
        "start_time": "2022-02-19T21:01:49.194Z"
      },
      {
        "duration": 130,
        "start_time": "2022-02-19T21:01:49.205Z"
      },
      {
        "duration": 3,
        "start_time": "2022-02-19T21:01:49.337Z"
      },
      {
        "duration": 38,
        "start_time": "2022-02-19T21:01:49.341Z"
      },
      {
        "duration": 30003,
        "start_time": "2022-02-19T21:01:49.381Z"
      },
      {
        "duration": 6456,
        "start_time": "2022-02-19T21:02:25.735Z"
      },
      {
        "duration": 4484,
        "start_time": "2022-02-19T21:04:28.889Z"
      },
      {
        "duration": 5202,
        "start_time": "2022-02-19T21:05:00.827Z"
      },
      {
        "duration": 5203,
        "start_time": "2022-02-19T21:05:53.276Z"
      },
      {
        "duration": 5137,
        "start_time": "2022-02-19T21:06:03.747Z"
      },
      {
        "duration": 5242,
        "start_time": "2022-02-19T21:07:46.614Z"
      },
      {
        "duration": 5256,
        "start_time": "2022-02-19T21:08:11.214Z"
      },
      {
        "duration": 5022,
        "start_time": "2022-02-19T21:09:32.846Z"
      },
      {
        "duration": 4696,
        "start_time": "2022-02-19T21:11:47.827Z"
      },
      {
        "duration": 3,
        "start_time": "2022-02-19T21:12:03.396Z"
      },
      {
        "duration": 353,
        "start_time": "2022-02-19T21:12:03.401Z"
      },
      {
        "duration": 25,
        "start_time": "2022-02-19T21:12:03.755Z"
      },
      {
        "duration": 20,
        "start_time": "2022-02-19T21:12:03.781Z"
      },
      {
        "duration": 9,
        "start_time": "2022-02-19T21:12:03.803Z"
      },
      {
        "duration": 26,
        "start_time": "2022-02-19T21:12:03.814Z"
      },
      {
        "duration": 13,
        "start_time": "2022-02-19T21:12:03.842Z"
      },
      {
        "duration": 9,
        "start_time": "2022-02-19T21:12:03.857Z"
      },
      {
        "duration": 22,
        "start_time": "2022-02-19T21:12:03.868Z"
      },
      {
        "duration": 115,
        "start_time": "2022-02-19T21:12:03.892Z"
      },
      {
        "duration": 23,
        "start_time": "2022-02-19T21:12:04.009Z"
      },
      {
        "duration": 151,
        "start_time": "2022-02-19T21:12:04.034Z"
      },
      {
        "duration": 19,
        "start_time": "2022-02-19T21:12:04.186Z"
      },
      {
        "duration": 82,
        "start_time": "2022-02-19T21:12:04.207Z"
      },
      {
        "duration": 19,
        "start_time": "2022-02-19T21:12:04.290Z"
      },
      {
        "duration": 24,
        "start_time": "2022-02-19T21:12:04.310Z"
      },
      {
        "duration": 30,
        "start_time": "2022-02-19T21:12:04.336Z"
      },
      {
        "duration": 24,
        "start_time": "2022-02-19T21:12:04.367Z"
      },
      {
        "duration": 50,
        "start_time": "2022-02-19T21:12:04.393Z"
      },
      {
        "duration": 50,
        "start_time": "2022-02-19T21:12:04.445Z"
      },
      {
        "duration": 78,
        "start_time": "2022-02-19T21:12:04.496Z"
      },
      {
        "duration": 10,
        "start_time": "2022-02-19T21:12:04.575Z"
      },
      {
        "duration": 13,
        "start_time": "2022-02-19T21:12:04.587Z"
      },
      {
        "duration": 39,
        "start_time": "2022-02-19T21:12:04.601Z"
      },
      {
        "duration": 525,
        "start_time": "2022-02-19T21:12:04.642Z"
      },
      {
        "duration": 28,
        "start_time": "2022-02-19T21:12:05.169Z"
      },
      {
        "duration": 32,
        "start_time": "2022-02-19T21:12:05.200Z"
      },
      {
        "duration": 29,
        "start_time": "2022-02-19T21:12:05.234Z"
      },
      {
        "duration": 33,
        "start_time": "2022-02-19T21:12:05.264Z"
      },
      {
        "duration": 57,
        "start_time": "2022-02-19T21:12:05.299Z"
      },
      {
        "duration": 4,
        "start_time": "2022-02-19T21:12:05.357Z"
      },
      {
        "duration": 13,
        "start_time": "2022-02-19T21:12:05.362Z"
      },
      {
        "duration": 6,
        "start_time": "2022-02-19T21:12:05.377Z"
      },
      {
        "duration": 16,
        "start_time": "2022-02-19T21:12:05.384Z"
      },
      {
        "duration": 3,
        "start_time": "2022-02-19T21:12:05.402Z"
      },
      {
        "duration": 34,
        "start_time": "2022-02-19T21:12:05.407Z"
      },
      {
        "duration": 15,
        "start_time": "2022-02-19T21:12:05.443Z"
      },
      {
        "duration": 9,
        "start_time": "2022-02-19T21:12:05.460Z"
      },
      {
        "duration": 23,
        "start_time": "2022-02-19T21:12:05.471Z"
      },
      {
        "duration": 10,
        "start_time": "2022-02-19T21:12:05.496Z"
      },
      {
        "duration": 117,
        "start_time": "2022-02-19T21:12:05.507Z"
      },
      {
        "duration": 5,
        "start_time": "2022-02-19T21:12:05.625Z"
      },
      {
        "duration": 35,
        "start_time": "2022-02-19T21:12:05.631Z"
      },
      {
        "duration": 4962,
        "start_time": "2022-02-19T21:12:05.667Z"
      },
      {
        "duration": 4940,
        "start_time": "2022-02-19T21:12:27.650Z"
      },
      {
        "duration": 7,
        "start_time": "2022-02-19T21:15:11.461Z"
      },
      {
        "duration": 7,
        "start_time": "2022-02-19T21:15:32.557Z"
      },
      {
        "duration": 7,
        "start_time": "2022-02-19T21:15:59.662Z"
      },
      {
        "duration": 4753,
        "start_time": "2022-02-19T21:17:13.207Z"
      },
      {
        "duration": 15,
        "start_time": "2022-02-19T21:20:55.875Z"
      },
      {
        "duration": 4744,
        "start_time": "2022-02-19T21:24:16.878Z"
      },
      {
        "duration": 64,
        "start_time": "2022-02-19T21:29:23.611Z"
      },
      {
        "duration": 4729,
        "start_time": "2022-02-19T21:29:31.308Z"
      },
      {
        "duration": 43,
        "start_time": "2022-02-19T21:35:28.914Z"
      },
      {
        "duration": 43,
        "start_time": "2022-02-19T21:35:38.914Z"
      },
      {
        "duration": 15,
        "start_time": "2022-02-19T21:36:18.131Z"
      },
      {
        "duration": 182,
        "start_time": "2022-02-19T21:36:49.859Z"
      },
      {
        "duration": 4749,
        "start_time": "2022-02-19T21:36:55.259Z"
      },
      {
        "duration": 4680,
        "start_time": "2022-02-19T21:40:38.863Z"
      },
      {
        "duration": 22,
        "start_time": "2022-02-19T21:41:06.337Z"
      },
      {
        "duration": 1262,
        "start_time": "2022-02-19T21:42:46.330Z"
      },
      {
        "duration": 5042,
        "start_time": "2022-02-19T21:44:02.219Z"
      },
      {
        "duration": 19,
        "start_time": "2022-02-19T21:44:57.627Z"
      },
      {
        "duration": 15,
        "start_time": "2022-02-19T21:46:24.885Z"
      },
      {
        "duration": 66,
        "start_time": "2022-02-19T21:46:30.974Z"
      },
      {
        "duration": 41,
        "start_time": "2022-02-19T21:46:54.695Z"
      },
      {
        "duration": 32,
        "start_time": "2022-02-19T21:47:41.599Z"
      },
      {
        "duration": 4535,
        "start_time": "2022-02-19T21:51:04.995Z"
      },
      {
        "duration": 4546,
        "start_time": "2022-02-19T21:52:03.413Z"
      },
      {
        "duration": 248,
        "start_time": "2022-02-19T21:55:23.969Z"
      },
      {
        "duration": 603,
        "start_time": "2022-02-19T21:55:35.776Z"
      },
      {
        "duration": 45,
        "start_time": "2022-02-19T21:56:43.218Z"
      },
      {
        "duration": 3,
        "start_time": "2022-02-19T21:56:46.043Z"
      },
      {
        "duration": 343,
        "start_time": "2022-02-19T21:56:46.048Z"
      },
      {
        "duration": 24,
        "start_time": "2022-02-19T21:56:46.393Z"
      },
      {
        "duration": 22,
        "start_time": "2022-02-19T21:56:46.418Z"
      },
      {
        "duration": 9,
        "start_time": "2022-02-19T21:56:46.441Z"
      },
      {
        "duration": 19,
        "start_time": "2022-02-19T21:56:46.452Z"
      },
      {
        "duration": 11,
        "start_time": "2022-02-19T21:56:46.472Z"
      },
      {
        "duration": 7,
        "start_time": "2022-02-19T21:56:46.486Z"
      },
      {
        "duration": 50,
        "start_time": "2022-02-19T21:56:46.495Z"
      },
      {
        "duration": 101,
        "start_time": "2022-02-19T21:56:46.546Z"
      },
      {
        "duration": 15,
        "start_time": "2022-02-19T21:56:46.648Z"
      },
      {
        "duration": 154,
        "start_time": "2022-02-19T21:56:46.664Z"
      },
      {
        "duration": 24,
        "start_time": "2022-02-19T21:56:46.819Z"
      },
      {
        "duration": 86,
        "start_time": "2022-02-19T21:56:46.845Z"
      },
      {
        "duration": 18,
        "start_time": "2022-02-19T21:56:46.932Z"
      },
      {
        "duration": 11,
        "start_time": "2022-02-19T21:56:46.952Z"
      },
      {
        "duration": 32,
        "start_time": "2022-02-19T21:56:46.964Z"
      },
      {
        "duration": 45,
        "start_time": "2022-02-19T21:56:46.997Z"
      },
      {
        "duration": 26,
        "start_time": "2022-02-19T21:56:47.044Z"
      },
      {
        "duration": 72,
        "start_time": "2022-02-19T21:56:47.071Z"
      },
      {
        "duration": 65,
        "start_time": "2022-02-19T21:56:47.145Z"
      },
      {
        "duration": 25,
        "start_time": "2022-02-19T21:56:47.211Z"
      },
      {
        "duration": 12,
        "start_time": "2022-02-19T21:56:47.239Z"
      },
      {
        "duration": 17,
        "start_time": "2022-02-19T21:56:47.252Z"
      },
      {
        "duration": 528,
        "start_time": "2022-02-19T21:56:47.270Z"
      },
      {
        "duration": 32,
        "start_time": "2022-02-19T21:56:47.800Z"
      },
      {
        "duration": 13,
        "start_time": "2022-02-19T21:56:47.834Z"
      },
      {
        "duration": 28,
        "start_time": "2022-02-19T21:56:47.849Z"
      },
      {
        "duration": 53,
        "start_time": "2022-02-19T21:56:47.878Z"
      },
      {
        "duration": 33,
        "start_time": "2022-02-19T21:56:47.932Z"
      },
      {
        "duration": 3,
        "start_time": "2022-02-19T21:56:47.967Z"
      },
      {
        "duration": 11,
        "start_time": "2022-02-19T21:56:47.972Z"
      },
      {
        "duration": 6,
        "start_time": "2022-02-19T21:56:47.984Z"
      },
      {
        "duration": 44,
        "start_time": "2022-02-19T21:56:47.991Z"
      },
      {
        "duration": 4,
        "start_time": "2022-02-19T21:56:48.037Z"
      },
      {
        "duration": 8,
        "start_time": "2022-02-19T21:56:48.043Z"
      },
      {
        "duration": 14,
        "start_time": "2022-02-19T21:56:48.052Z"
      },
      {
        "duration": 4,
        "start_time": "2022-02-19T21:56:48.068Z"
      },
      {
        "duration": 20,
        "start_time": "2022-02-19T21:56:48.073Z"
      },
      {
        "duration": 6,
        "start_time": "2022-02-19T21:56:48.095Z"
      },
      {
        "duration": 117,
        "start_time": "2022-02-19T21:56:48.131Z"
      },
      {
        "duration": 3,
        "start_time": "2022-02-19T21:56:48.249Z"
      },
      {
        "duration": 44,
        "start_time": "2022-02-19T21:56:48.253Z"
      },
      {
        "duration": 486,
        "start_time": "2022-02-19T21:56:48.299Z"
      },
      {
        "duration": 1102,
        "start_time": "2022-02-19T21:57:03.786Z"
      },
      {
        "duration": 2001,
        "start_time": "2022-02-19T21:57:24.882Z"
      },
      {
        "duration": 1152,
        "start_time": "2022-02-19T21:57:47.235Z"
      },
      {
        "duration": 492,
        "start_time": "2022-02-19T21:58:01.203Z"
      },
      {
        "duration": 1105,
        "start_time": "2022-02-19T21:58:11.580Z"
      },
      {
        "duration": 1257,
        "start_time": "2022-02-19T21:59:00.501Z"
      },
      {
        "duration": 1248,
        "start_time": "2022-02-19T22:18:05.649Z"
      },
      {
        "duration": 1269,
        "start_time": "2022-02-19T22:18:38.218Z"
      },
      {
        "duration": 1270,
        "start_time": "2022-02-19T22:19:43.133Z"
      },
      {
        "duration": 1263,
        "start_time": "2022-02-19T22:20:26.172Z"
      },
      {
        "duration": 1269,
        "start_time": "2022-02-19T22:23:53.284Z"
      },
      {
        "duration": 3,
        "start_time": "2022-02-19T22:24:12.503Z"
      },
      {
        "duration": 384,
        "start_time": "2022-02-19T22:24:12.508Z"
      },
      {
        "duration": 25,
        "start_time": "2022-02-19T22:24:12.895Z"
      },
      {
        "duration": 26,
        "start_time": "2022-02-19T22:24:12.922Z"
      },
      {
        "duration": 10,
        "start_time": "2022-02-19T22:24:12.949Z"
      },
      {
        "duration": 20,
        "start_time": "2022-02-19T22:24:12.961Z"
      },
      {
        "duration": 13,
        "start_time": "2022-02-19T22:24:12.982Z"
      },
      {
        "duration": 38,
        "start_time": "2022-02-19T22:24:12.998Z"
      },
      {
        "duration": 21,
        "start_time": "2022-02-19T22:24:13.038Z"
      },
      {
        "duration": 110,
        "start_time": "2022-02-19T22:24:13.061Z"
      },
      {
        "duration": 16,
        "start_time": "2022-02-19T22:24:13.173Z"
      },
      {
        "duration": 156,
        "start_time": "2022-02-19T22:24:13.191Z"
      },
      {
        "duration": 20,
        "start_time": "2022-02-19T22:24:13.349Z"
      },
      {
        "duration": 98,
        "start_time": "2022-02-19T22:24:13.371Z"
      },
      {
        "duration": 17,
        "start_time": "2022-02-19T22:24:13.471Z"
      },
      {
        "duration": 12,
        "start_time": "2022-02-19T22:24:13.489Z"
      },
      {
        "duration": 53,
        "start_time": "2022-02-19T22:24:13.502Z"
      },
      {
        "duration": 25,
        "start_time": "2022-02-19T22:24:13.556Z"
      },
      {
        "duration": 25,
        "start_time": "2022-02-19T22:24:13.582Z"
      },
      {
        "duration": 71,
        "start_time": "2022-02-19T22:24:13.608Z"
      },
      {
        "duration": 82,
        "start_time": "2022-02-19T22:24:13.680Z"
      },
      {
        "duration": 12,
        "start_time": "2022-02-19T22:24:13.764Z"
      },
      {
        "duration": 13,
        "start_time": "2022-02-19T22:24:13.779Z"
      },
      {
        "duration": 16,
        "start_time": "2022-02-19T22:24:13.794Z"
      },
      {
        "duration": 526,
        "start_time": "2022-02-19T22:24:13.830Z"
      },
      {
        "duration": 27,
        "start_time": "2022-02-19T22:24:14.357Z"
      },
      {
        "duration": 13,
        "start_time": "2022-02-19T22:24:14.385Z"
      },
      {
        "duration": 51,
        "start_time": "2022-02-19T22:24:14.400Z"
      },
      {
        "duration": 30,
        "start_time": "2022-02-19T22:24:14.453Z"
      },
      {
        "duration": 47,
        "start_time": "2022-02-19T22:24:14.484Z"
      },
      {
        "duration": 4,
        "start_time": "2022-02-19T22:24:14.532Z"
      },
      {
        "duration": 11,
        "start_time": "2022-02-19T22:24:14.537Z"
      },
      {
        "duration": 6,
        "start_time": "2022-02-19T22:24:14.550Z"
      },
      {
        "duration": 15,
        "start_time": "2022-02-19T22:24:14.558Z"
      },
      {
        "duration": 4,
        "start_time": "2022-02-19T22:24:14.574Z"
      },
      {
        "duration": 8,
        "start_time": "2022-02-19T22:24:14.580Z"
      },
      {
        "duration": 44,
        "start_time": "2022-02-19T22:24:14.589Z"
      },
      {
        "duration": 5,
        "start_time": "2022-02-19T22:24:14.635Z"
      },
      {
        "duration": 16,
        "start_time": "2022-02-19T22:24:14.641Z"
      },
      {
        "duration": 5,
        "start_time": "2022-02-19T22:24:14.658Z"
      },
      {
        "duration": 129,
        "start_time": "2022-02-19T22:24:14.665Z"
      },
      {
        "duration": 3,
        "start_time": "2022-02-19T22:24:14.795Z"
      },
      {
        "duration": 49,
        "start_time": "2022-02-19T22:24:14.799Z"
      },
      {
        "duration": 2167,
        "start_time": "2022-02-19T22:24:14.850Z"
      },
      {
        "duration": 63,
        "start_time": "2022-02-19T22:30:30.222Z"
      },
      {
        "duration": 6,
        "start_time": "2022-02-19T22:33:43.937Z"
      },
      {
        "duration": 10,
        "start_time": "2022-02-19T22:35:14.635Z"
      },
      {
        "duration": 197,
        "start_time": "2022-02-19T22:36:10.932Z"
      },
      {
        "duration": 199,
        "start_time": "2022-02-19T22:36:13.795Z"
      },
      {
        "duration": 194,
        "start_time": "2022-02-19T22:36:20.093Z"
      },
      {
        "duration": 10,
        "start_time": "2022-02-19T22:36:22.677Z"
      },
      {
        "duration": 66,
        "start_time": "2022-02-19T22:37:10.721Z"
      },
      {
        "duration": 10,
        "start_time": "2022-02-19T22:37:17.383Z"
      },
      {
        "duration": 2,
        "start_time": "2022-02-19T22:42:04.986Z"
      },
      {
        "duration": 120,
        "start_time": "2022-02-20T04:06:49.491Z"
      },
      {
        "duration": 9,
        "start_time": "2022-02-20T04:08:30.478Z"
      },
      {
        "duration": 9,
        "start_time": "2022-02-20T04:10:20.160Z"
      },
      {
        "duration": 9,
        "start_time": "2022-02-20T04:10:40.223Z"
      },
      {
        "duration": 10,
        "start_time": "2022-02-20T04:11:34.177Z"
      },
      {
        "duration": 9,
        "start_time": "2022-02-20T04:13:14.307Z"
      },
      {
        "duration": 9,
        "start_time": "2022-02-20T04:14:06.491Z"
      },
      {
        "duration": 10,
        "start_time": "2022-02-20T04:14:50.940Z"
      },
      {
        "duration": 10,
        "start_time": "2022-02-20T04:15:20.701Z"
      },
      {
        "duration": 64,
        "start_time": "2022-02-20T04:21:20.459Z"
      },
      {
        "duration": 194,
        "start_time": "2022-02-20T04:21:25.452Z"
      },
      {
        "duration": 176,
        "start_time": "2022-02-20T04:21:57.020Z"
      },
      {
        "duration": 182,
        "start_time": "2022-02-20T04:22:26.365Z"
      },
      {
        "duration": 169,
        "start_time": "2022-02-20T04:23:42.430Z"
      },
      {
        "duration": 2,
        "start_time": "2022-02-20T04:23:54.689Z"
      },
      {
        "duration": 354,
        "start_time": "2022-02-20T04:23:54.694Z"
      },
      {
        "duration": 28,
        "start_time": "2022-02-20T04:23:55.050Z"
      },
      {
        "duration": 22,
        "start_time": "2022-02-20T04:23:55.080Z"
      },
      {
        "duration": 11,
        "start_time": "2022-02-20T04:23:55.104Z"
      },
      {
        "duration": 19,
        "start_time": "2022-02-20T04:23:55.130Z"
      },
      {
        "duration": 13,
        "start_time": "2022-02-20T04:23:55.151Z"
      },
      {
        "duration": 8,
        "start_time": "2022-02-20T04:23:55.166Z"
      },
      {
        "duration": 23,
        "start_time": "2022-02-20T04:23:55.176Z"
      },
      {
        "duration": 108,
        "start_time": "2022-02-20T04:23:55.200Z"
      },
      {
        "duration": 32,
        "start_time": "2022-02-20T04:23:55.310Z"
      },
      {
        "duration": 148,
        "start_time": "2022-02-20T04:23:55.343Z"
      },
      {
        "duration": 20,
        "start_time": "2022-02-20T04:23:55.493Z"
      },
      {
        "duration": 87,
        "start_time": "2022-02-20T04:23:55.515Z"
      },
      {
        "duration": 31,
        "start_time": "2022-02-20T04:23:55.603Z"
      },
      {
        "duration": 11,
        "start_time": "2022-02-20T04:23:55.635Z"
      },
      {
        "duration": 33,
        "start_time": "2022-02-20T04:23:55.648Z"
      },
      {
        "duration": 47,
        "start_time": "2022-02-20T04:23:55.683Z"
      },
      {
        "duration": 27,
        "start_time": "2022-02-20T04:23:55.732Z"
      },
      {
        "duration": 50,
        "start_time": "2022-02-20T04:23:55.761Z"
      },
      {
        "duration": 88,
        "start_time": "2022-02-20T04:23:55.812Z"
      },
      {
        "duration": 10,
        "start_time": "2022-02-20T04:23:55.903Z"
      },
      {
        "duration": 13,
        "start_time": "2022-02-20T04:23:55.932Z"
      },
      {
        "duration": 17,
        "start_time": "2022-02-20T04:23:55.948Z"
      },
      {
        "duration": 533,
        "start_time": "2022-02-20T04:23:55.967Z"
      },
      {
        "duration": 33,
        "start_time": "2022-02-20T04:23:56.501Z"
      },
      {
        "duration": 13,
        "start_time": "2022-02-20T04:23:56.536Z"
      },
      {
        "duration": 27,
        "start_time": "2022-02-20T04:23:56.551Z"
      },
      {
        "duration": 52,
        "start_time": "2022-02-20T04:23:56.579Z"
      },
      {
        "duration": 33,
        "start_time": "2022-02-20T04:23:56.633Z"
      },
      {
        "duration": 3,
        "start_time": "2022-02-20T04:23:56.668Z"
      },
      {
        "duration": 12,
        "start_time": "2022-02-20T04:23:56.672Z"
      },
      {
        "duration": 6,
        "start_time": "2022-02-20T04:23:56.686Z"
      },
      {
        "duration": 39,
        "start_time": "2022-02-20T04:23:56.694Z"
      },
      {
        "duration": 4,
        "start_time": "2022-02-20T04:23:56.735Z"
      },
      {
        "duration": 8,
        "start_time": "2022-02-20T04:23:56.741Z"
      },
      {
        "duration": 11,
        "start_time": "2022-02-20T04:23:56.751Z"
      },
      {
        "duration": 4,
        "start_time": "2022-02-20T04:23:56.764Z"
      },
      {
        "duration": 19,
        "start_time": "2022-02-20T04:23:56.770Z"
      },
      {
        "duration": 4,
        "start_time": "2022-02-20T04:23:56.790Z"
      },
      {
        "duration": 137,
        "start_time": "2022-02-20T04:23:56.795Z"
      },
      {
        "duration": 2,
        "start_time": "2022-02-20T04:23:56.934Z"
      },
      {
        "duration": 45,
        "start_time": "2022-02-20T04:23:56.937Z"
      },
      {
        "duration": 1300,
        "start_time": "2022-02-20T04:23:56.984Z"
      },
      {
        "duration": 9,
        "start_time": "2022-02-20T04:23:58.285Z"
      },
      {
        "duration": 169,
        "start_time": "2022-02-20T04:23:58.295Z"
      },
      {
        "duration": 978,
        "start_time": "2022-02-20T04:23:57.488Z"
      },
      {
        "duration": 977,
        "start_time": "2022-02-20T04:23:57.490Z"
      },
      {
        "duration": 455,
        "start_time": "2022-02-20T04:24:51.152Z"
      },
      {
        "duration": 302,
        "start_time": "2022-02-20T04:25:06.536Z"
      },
      {
        "duration": 971,
        "start_time": "2022-02-20T04:25:15.841Z"
      },
      {
        "duration": 363,
        "start_time": "2022-02-20T04:25:16.814Z"
      },
      {
        "duration": 30,
        "start_time": "2022-02-20T04:25:17.179Z"
      },
      {
        "duration": 24,
        "start_time": "2022-02-20T04:25:17.211Z"
      },
      {
        "duration": 10,
        "start_time": "2022-02-20T04:25:17.237Z"
      },
      {
        "duration": 19,
        "start_time": "2022-02-20T04:25:17.249Z"
      },
      {
        "duration": 13,
        "start_time": "2022-02-20T04:25:17.270Z"
      },
      {
        "duration": 7,
        "start_time": "2022-02-20T04:25:17.285Z"
      },
      {
        "duration": 51,
        "start_time": "2022-02-20T04:25:17.295Z"
      },
      {
        "duration": 107,
        "start_time": "2022-02-20T04:25:17.348Z"
      },
      {
        "duration": 16,
        "start_time": "2022-02-20T04:25:17.457Z"
      },
      {
        "duration": 164,
        "start_time": "2022-02-20T04:25:17.475Z"
      },
      {
        "duration": 24,
        "start_time": "2022-02-20T04:25:17.640Z"
      },
      {
        "duration": 96,
        "start_time": "2022-02-20T04:25:17.666Z"
      },
      {
        "duration": 18,
        "start_time": "2022-02-20T04:25:17.763Z"
      },
      {
        "duration": 11,
        "start_time": "2022-02-20T04:25:17.782Z"
      },
      {
        "duration": 53,
        "start_time": "2022-02-20T04:25:17.795Z"
      },
      {
        "duration": 24,
        "start_time": "2022-02-20T04:25:17.850Z"
      },
      {
        "duration": 25,
        "start_time": "2022-02-20T04:25:17.876Z"
      },
      {
        "duration": 70,
        "start_time": "2022-02-20T04:25:17.903Z"
      },
      {
        "duration": 76,
        "start_time": "2022-02-20T04:25:17.974Z"
      },
      {
        "duration": 10,
        "start_time": "2022-02-20T04:25:18.052Z"
      },
      {
        "duration": 12,
        "start_time": "2022-02-20T04:25:18.064Z"
      },
      {
        "duration": 19,
        "start_time": "2022-02-20T04:25:18.077Z"
      },
      {
        "duration": 541,
        "start_time": "2022-02-20T04:25:18.097Z"
      },
      {
        "duration": 25,
        "start_time": "2022-02-20T04:25:18.639Z"
      },
      {
        "duration": 13,
        "start_time": "2022-02-20T04:25:18.667Z"
      },
      {
        "duration": 49,
        "start_time": "2022-02-20T04:25:18.682Z"
      },
      {
        "duration": 31,
        "start_time": "2022-02-20T04:25:18.733Z"
      },
      {
        "duration": 36,
        "start_time": "2022-02-20T04:25:18.765Z"
      },
      {
        "duration": 3,
        "start_time": "2022-02-20T04:25:18.803Z"
      },
      {
        "duration": 31,
        "start_time": "2022-02-20T04:25:18.808Z"
      },
      {
        "duration": 7,
        "start_time": "2022-02-20T04:25:18.841Z"
      },
      {
        "duration": 16,
        "start_time": "2022-02-20T04:25:18.850Z"
      },
      {
        "duration": 5,
        "start_time": "2022-02-20T04:25:18.868Z"
      },
      {
        "duration": 8,
        "start_time": "2022-02-20T04:25:18.875Z"
      },
      {
        "duration": 46,
        "start_time": "2022-02-20T04:25:18.885Z"
      },
      {
        "duration": 5,
        "start_time": "2022-02-20T04:25:18.933Z"
      },
      {
        "duration": 20,
        "start_time": "2022-02-20T04:25:18.940Z"
      },
      {
        "duration": 5,
        "start_time": "2022-02-20T04:25:18.962Z"
      },
      {
        "duration": 130,
        "start_time": "2022-02-20T04:25:18.968Z"
      },
      {
        "duration": 2,
        "start_time": "2022-02-20T04:25:19.100Z"
      },
      {
        "duration": 59,
        "start_time": "2022-02-20T04:25:19.104Z"
      },
      {
        "duration": 1375,
        "start_time": "2022-02-20T04:25:19.165Z"
      },
      {
        "duration": 9,
        "start_time": "2022-02-20T04:25:20.541Z"
      },
      {
        "duration": 250,
        "start_time": "2022-02-20T04:25:20.552Z"
      },
      {
        "duration": 990,
        "start_time": "2022-02-20T04:25:19.814Z"
      },
      {
        "duration": 987,
        "start_time": "2022-02-20T04:25:19.818Z"
      },
      {
        "duration": 292,
        "start_time": "2022-02-20T04:25:32.021Z"
      },
      {
        "duration": 563,
        "start_time": "2022-02-20T04:26:28.269Z"
      },
      {
        "duration": 533,
        "start_time": "2022-02-20T04:26:46.135Z"
      },
      {
        "duration": 3,
        "start_time": "2022-02-20T04:28:26.128Z"
      },
      {
        "duration": 319,
        "start_time": "2022-02-20T04:28:39.615Z"
      },
      {
        "duration": 56,
        "start_time": "2022-02-20T04:31:38.635Z"
      },
      {
        "duration": 332,
        "start_time": "2022-02-20T04:31:44.027Z"
      },
      {
        "duration": 167,
        "start_time": "2022-02-20T04:36:07.010Z"
      },
      {
        "duration": 970,
        "start_time": "2022-02-20T04:36:22.040Z"
      },
      {
        "duration": 360,
        "start_time": "2022-02-20T04:36:23.012Z"
      },
      {
        "duration": 27,
        "start_time": "2022-02-20T04:36:23.375Z"
      },
      {
        "duration": 20,
        "start_time": "2022-02-20T04:36:23.404Z"
      },
      {
        "duration": 12,
        "start_time": "2022-02-20T04:36:23.426Z"
      },
      {
        "duration": 17,
        "start_time": "2022-02-20T04:36:23.440Z"
      },
      {
        "duration": 12,
        "start_time": "2022-02-20T04:36:23.458Z"
      },
      {
        "duration": 8,
        "start_time": "2022-02-20T04:36:23.472Z"
      },
      {
        "duration": 52,
        "start_time": "2022-02-20T04:36:23.482Z"
      },
      {
        "duration": 104,
        "start_time": "2022-02-20T04:36:23.536Z"
      },
      {
        "duration": 16,
        "start_time": "2022-02-20T04:36:23.641Z"
      },
      {
        "duration": 154,
        "start_time": "2022-02-20T04:36:23.659Z"
      },
      {
        "duration": 26,
        "start_time": "2022-02-20T04:36:23.815Z"
      },
      {
        "duration": 90,
        "start_time": "2022-02-20T04:36:23.843Z"
      },
      {
        "duration": 17,
        "start_time": "2022-02-20T04:36:23.935Z"
      },
      {
        "duration": 11,
        "start_time": "2022-02-20T04:36:23.954Z"
      },
      {
        "duration": 33,
        "start_time": "2022-02-20T04:36:23.966Z"
      },
      {
        "duration": 44,
        "start_time": "2022-02-20T04:36:24.000Z"
      },
      {
        "duration": 24,
        "start_time": "2022-02-20T04:36:24.045Z"
      },
      {
        "duration": 70,
        "start_time": "2022-02-20T04:36:24.070Z"
      },
      {
        "duration": 70,
        "start_time": "2022-02-20T04:36:24.142Z"
      },
      {
        "duration": 24,
        "start_time": "2022-02-20T04:36:24.214Z"
      },
      {
        "duration": 11,
        "start_time": "2022-02-20T04:36:24.240Z"
      },
      {
        "duration": 18,
        "start_time": "2022-02-20T04:36:24.252Z"
      },
      {
        "duration": 533,
        "start_time": "2022-02-20T04:36:24.272Z"
      },
      {
        "duration": 33,
        "start_time": "2022-02-20T04:36:24.807Z"
      },
      {
        "duration": 13,
        "start_time": "2022-02-20T04:36:24.845Z"
      },
      {
        "duration": 29,
        "start_time": "2022-02-20T04:36:24.860Z"
      },
      {
        "duration": 55,
        "start_time": "2022-02-20T04:36:24.891Z"
      },
      {
        "duration": 32,
        "start_time": "2022-02-20T04:36:24.949Z"
      },
      {
        "duration": 4,
        "start_time": "2022-02-20T04:36:24.983Z"
      },
      {
        "duration": 10,
        "start_time": "2022-02-20T04:36:24.989Z"
      },
      {
        "duration": 33,
        "start_time": "2022-02-20T04:36:25.001Z"
      },
      {
        "duration": 16,
        "start_time": "2022-02-20T04:36:25.036Z"
      },
      {
        "duration": 5,
        "start_time": "2022-02-20T04:36:25.054Z"
      },
      {
        "duration": 10,
        "start_time": "2022-02-20T04:36:25.061Z"
      },
      {
        "duration": 13,
        "start_time": "2022-02-20T04:36:25.073Z"
      },
      {
        "duration": 6,
        "start_time": "2022-02-20T04:36:25.087Z"
      },
      {
        "duration": 52,
        "start_time": "2022-02-20T04:36:25.094Z"
      },
      {
        "duration": 8,
        "start_time": "2022-02-20T04:36:25.148Z"
      },
      {
        "duration": 116,
        "start_time": "2022-02-20T04:36:25.158Z"
      },
      {
        "duration": 2,
        "start_time": "2022-02-20T04:36:25.276Z"
      },
      {
        "duration": 51,
        "start_time": "2022-02-20T04:36:25.280Z"
      },
      {
        "duration": 1376,
        "start_time": "2022-02-20T04:36:25.332Z"
      },
      {
        "duration": 21,
        "start_time": "2022-02-20T04:36:26.710Z"
      },
      {
        "duration": 325,
        "start_time": "2022-02-20T04:36:26.732Z"
      },
      {
        "duration": 9,
        "start_time": "2022-02-20T04:36:27.059Z"
      },
      {
        "duration": 7,
        "start_time": "2022-02-20T04:36:27.070Z"
      },
      {
        "duration": 3,
        "start_time": "2022-02-20T04:39:04.187Z"
      },
      {
        "duration": 59,
        "start_time": "2022-02-20T04:39:24.236Z"
      },
      {
        "duration": 1914,
        "start_time": "2022-03-01T14:17:37.095Z"
      },
      {
        "duration": 706,
        "start_time": "2022-03-01T14:17:39.012Z"
      },
      {
        "duration": 40,
        "start_time": "2022-03-01T14:17:39.722Z"
      },
      {
        "duration": 32,
        "start_time": "2022-03-01T14:17:39.765Z"
      },
      {
        "duration": 17,
        "start_time": "2022-03-01T14:17:39.799Z"
      },
      {
        "duration": 56,
        "start_time": "2022-03-01T14:17:39.819Z"
      },
      {
        "duration": 21,
        "start_time": "2022-03-01T14:17:39.878Z"
      },
      {
        "duration": 15,
        "start_time": "2022-03-01T14:17:39.903Z"
      },
      {
        "duration": 59,
        "start_time": "2022-03-01T14:17:39.921Z"
      },
      {
        "duration": 156,
        "start_time": "2022-03-01T14:17:39.982Z"
      },
      {
        "duration": 34,
        "start_time": "2022-03-01T14:17:40.141Z"
      },
      {
        "duration": 260,
        "start_time": "2022-03-01T14:17:40.177Z"
      },
      {
        "duration": 44,
        "start_time": "2022-03-01T14:17:40.439Z"
      },
      {
        "duration": 133,
        "start_time": "2022-03-01T14:17:40.485Z"
      },
      {
        "duration": 26,
        "start_time": "2022-03-01T14:17:40.620Z"
      },
      {
        "duration": 35,
        "start_time": "2022-03-01T14:17:40.649Z"
      },
      {
        "duration": 48,
        "start_time": "2022-03-01T14:17:40.686Z"
      },
      {
        "duration": 66,
        "start_time": "2022-03-01T14:17:40.736Z"
      },
      {
        "duration": 38,
        "start_time": "2022-03-01T14:17:40.804Z"
      },
      {
        "duration": 133,
        "start_time": "2022-03-01T14:17:40.844Z"
      },
      {
        "duration": 115,
        "start_time": "2022-03-01T14:17:40.979Z"
      },
      {
        "duration": 16,
        "start_time": "2022-03-01T14:17:41.097Z"
      },
      {
        "duration": 16,
        "start_time": "2022-03-01T14:17:41.118Z"
      },
      {
        "duration": 49,
        "start_time": "2022-03-01T14:17:41.137Z"
      },
      {
        "duration": 919,
        "start_time": "2022-03-01T14:17:41.189Z"
      },
      {
        "duration": 38,
        "start_time": "2022-03-01T14:17:42.110Z"
      },
      {
        "duration": 36,
        "start_time": "2022-03-01T14:17:42.150Z"
      },
      {
        "duration": 44,
        "start_time": "2022-03-01T14:17:42.188Z"
      },
      {
        "duration": 73,
        "start_time": "2022-03-01T14:17:42.234Z"
      },
      {
        "duration": 74,
        "start_time": "2022-03-01T14:17:42.309Z"
      },
      {
        "duration": 5,
        "start_time": "2022-03-01T14:17:42.386Z"
      },
      {
        "duration": 16,
        "start_time": "2022-03-01T14:17:42.394Z"
      },
      {
        "duration": 9,
        "start_time": "2022-03-01T14:17:42.413Z"
      },
      {
        "duration": 58,
        "start_time": "2022-03-01T14:17:42.425Z"
      },
      {
        "duration": 5,
        "start_time": "2022-03-01T14:17:42.486Z"
      },
      {
        "duration": 19,
        "start_time": "2022-03-01T14:17:42.493Z"
      },
      {
        "duration": 18,
        "start_time": "2022-03-01T14:17:42.515Z"
      },
      {
        "duration": 39,
        "start_time": "2022-03-01T14:17:42.536Z"
      },
      {
        "duration": 37,
        "start_time": "2022-03-01T14:17:42.578Z"
      },
      {
        "duration": 6,
        "start_time": "2022-03-01T14:17:42.617Z"
      },
      {
        "duration": 199,
        "start_time": "2022-03-01T14:17:42.625Z"
      },
      {
        "duration": 4,
        "start_time": "2022-03-01T14:17:42.826Z"
      },
      {
        "duration": 92,
        "start_time": "2022-03-01T14:17:42.832Z"
      },
      {
        "duration": 2375,
        "start_time": "2022-03-01T14:17:42.927Z"
      },
      {
        "duration": 17,
        "start_time": "2022-03-01T14:17:45.305Z"
      },
      {
        "duration": 588,
        "start_time": "2022-03-01T14:17:45.325Z"
      },
      {
        "duration": 13,
        "start_time": "2022-03-01T14:17:45.915Z"
      },
      {
        "duration": 21,
        "start_time": "2022-03-01T14:17:45.931Z"
      },
      {
        "duration": 5,
        "start_time": "2022-03-01T14:19:37.157Z"
      },
      {
        "duration": 1357,
        "start_time": "2022-03-01T15:59:52.139Z"
      },
      {
        "duration": 451,
        "start_time": "2022-03-01T15:59:53.498Z"
      },
      {
        "duration": 36,
        "start_time": "2022-03-01T15:59:53.952Z"
      },
      {
        "duration": 28,
        "start_time": "2022-03-01T15:59:53.992Z"
      },
      {
        "duration": 16,
        "start_time": "2022-03-01T15:59:54.022Z"
      },
      {
        "duration": 56,
        "start_time": "2022-03-01T15:59:54.040Z"
      },
      {
        "duration": 18,
        "start_time": "2022-03-01T15:59:54.099Z"
      },
      {
        "duration": 11,
        "start_time": "2022-03-01T15:59:54.121Z"
      },
      {
        "duration": 58,
        "start_time": "2022-03-01T15:59:54.135Z"
      },
      {
        "duration": 136,
        "start_time": "2022-03-01T15:59:54.195Z"
      },
      {
        "duration": 20,
        "start_time": "2022-03-01T15:59:54.334Z"
      },
      {
        "duration": 259,
        "start_time": "2022-03-01T15:59:54.356Z"
      },
      {
        "duration": 31,
        "start_time": "2022-03-01T15:59:54.618Z"
      },
      {
        "duration": 178,
        "start_time": "2022-03-01T15:59:54.652Z"
      },
      {
        "duration": 26,
        "start_time": "2022-03-01T15:59:54.833Z"
      },
      {
        "duration": 32,
        "start_time": "2022-03-01T15:59:54.861Z"
      },
      {
        "duration": 42,
        "start_time": "2022-03-01T15:59:54.895Z"
      },
      {
        "duration": 59,
        "start_time": "2022-03-01T15:59:54.939Z"
      },
      {
        "duration": 36,
        "start_time": "2022-03-01T15:59:55.000Z"
      },
      {
        "duration": 116,
        "start_time": "2022-03-01T15:59:55.039Z"
      },
      {
        "duration": 150,
        "start_time": "2022-03-01T15:59:55.158Z"
      },
      {
        "duration": 13,
        "start_time": "2022-03-01T15:59:55.311Z"
      },
      {
        "duration": 17,
        "start_time": "2022-03-01T15:59:55.331Z"
      },
      {
        "duration": 51,
        "start_time": "2022-03-01T15:59:55.351Z"
      },
      {
        "duration": 843,
        "start_time": "2022-03-01T15:59:55.405Z"
      },
      {
        "duration": 57,
        "start_time": "2022-03-01T15:59:56.252Z"
      },
      {
        "duration": 18,
        "start_time": "2022-03-01T15:59:56.312Z"
      },
      {
        "duration": 60,
        "start_time": "2022-03-01T15:59:56.333Z"
      },
      {
        "duration": 46,
        "start_time": "2022-03-01T15:59:56.395Z"
      },
      {
        "duration": 72,
        "start_time": "2022-03-01T15:59:56.443Z"
      },
      {
        "duration": 5,
        "start_time": "2022-03-01T15:59:56.517Z"
      },
      {
        "duration": 16,
        "start_time": "2022-03-01T15:59:56.524Z"
      },
      {
        "duration": 9,
        "start_time": "2022-03-01T15:59:56.542Z"
      },
      {
        "duration": 22,
        "start_time": "2022-03-01T15:59:56.582Z"
      },
      {
        "duration": 5,
        "start_time": "2022-03-01T15:59:56.606Z"
      },
      {
        "duration": 15,
        "start_time": "2022-03-01T15:59:56.613Z"
      },
      {
        "duration": 23,
        "start_time": "2022-03-01T15:59:56.630Z"
      },
      {
        "duration": 6,
        "start_time": "2022-03-01T15:59:56.683Z"
      },
      {
        "duration": 27,
        "start_time": "2022-03-01T15:59:56.692Z"
      },
      {
        "duration": 5,
        "start_time": "2022-03-01T15:59:56.722Z"
      },
      {
        "duration": 215,
        "start_time": "2022-03-01T15:59:56.729Z"
      },
      {
        "duration": 4,
        "start_time": "2022-03-01T15:59:56.946Z"
      },
      {
        "duration": 75,
        "start_time": "2022-03-01T15:59:56.952Z"
      },
      {
        "duration": 2188,
        "start_time": "2022-03-01T15:59:57.030Z"
      },
      {
        "duration": 16,
        "start_time": "2022-03-01T15:59:59.220Z"
      },
      {
        "duration": 562,
        "start_time": "2022-03-01T15:59:59.239Z"
      },
      {
        "duration": 15,
        "start_time": "2022-03-01T15:59:59.805Z"
      },
      {
        "duration": 11,
        "start_time": "2022-03-01T15:59:59.822Z"
      },
      {
        "duration": 866,
        "start_time": "2022-03-01T16:01:55.921Z"
      },
      {
        "duration": 855,
        "start_time": "2022-03-01T16:02:20.627Z"
      },
      {
        "duration": 627,
        "start_time": "2022-03-01T16:02:37.684Z"
      },
      {
        "duration": 868,
        "start_time": "2022-03-01T16:02:56.037Z"
      },
      {
        "duration": 455,
        "start_time": "2022-03-01T16:03:21.578Z"
      },
      {
        "duration": 839,
        "start_time": "2022-03-01T16:03:27.831Z"
      },
      {
        "duration": 984,
        "start_time": "2022-03-01T16:04:32.438Z"
      },
      {
        "duration": 974,
        "start_time": "2022-03-01T16:04:58.341Z"
      },
      {
        "duration": 879,
        "start_time": "2022-03-01T16:06:47.846Z"
      },
      {
        "duration": 866,
        "start_time": "2022-03-01T16:07:10.867Z"
      },
      {
        "duration": 1015,
        "start_time": "2022-03-01T16:07:24.761Z"
      },
      {
        "duration": 78,
        "start_time": "2022-03-01T16:08:08.878Z"
      },
      {
        "duration": 70,
        "start_time": "2022-03-01T16:08:17.857Z"
      },
      {
        "duration": 93,
        "start_time": "2022-03-01T16:08:24.297Z"
      },
      {
        "duration": 1066,
        "start_time": "2022-03-01T16:08:36.374Z"
      },
      {
        "duration": 869,
        "start_time": "2022-03-01T16:09:17.234Z"
      },
      {
        "duration": 1175,
        "start_time": "2022-03-01T16:09:32.119Z"
      },
      {
        "duration": 1068,
        "start_time": "2022-03-01T16:12:23.649Z"
      },
      {
        "duration": 882,
        "start_time": "2022-03-01T16:12:54.190Z"
      },
      {
        "duration": 974,
        "start_time": "2022-03-01T16:13:03.968Z"
      },
      {
        "duration": 1154,
        "start_time": "2022-03-01T16:13:10.856Z"
      },
      {
        "duration": 1126,
        "start_time": "2022-03-01T16:13:50.332Z"
      },
      {
        "duration": 1083,
        "start_time": "2022-03-01T16:14:02.613Z"
      },
      {
        "duration": 885,
        "start_time": "2022-03-01T16:14:49.211Z"
      },
      {
        "duration": 979,
        "start_time": "2022-03-01T16:15:29.029Z"
      },
      {
        "duration": 1303,
        "start_time": "2022-03-01T17:57:31.712Z"
      },
      {
        "duration": 480,
        "start_time": "2022-03-01T17:57:33.017Z"
      },
      {
        "duration": 40,
        "start_time": "2022-03-01T17:57:33.500Z"
      },
      {
        "duration": 44,
        "start_time": "2022-03-01T17:57:33.543Z"
      },
      {
        "duration": 15,
        "start_time": "2022-03-01T17:57:33.589Z"
      },
      {
        "duration": 31,
        "start_time": "2022-03-01T17:57:33.606Z"
      },
      {
        "duration": 51,
        "start_time": "2022-03-01T17:57:33.640Z"
      },
      {
        "duration": 15,
        "start_time": "2022-03-01T17:57:33.696Z"
      },
      {
        "duration": 77,
        "start_time": "2022-03-01T17:57:33.714Z"
      },
      {
        "duration": 136,
        "start_time": "2022-03-01T17:57:33.794Z"
      },
      {
        "duration": 20,
        "start_time": "2022-03-01T17:57:33.933Z"
      },
      {
        "duration": 261,
        "start_time": "2022-03-01T17:57:33.955Z"
      },
      {
        "duration": 32,
        "start_time": "2022-03-01T17:57:34.219Z"
      },
      {
        "duration": 176,
        "start_time": "2022-03-01T17:57:34.253Z"
      },
      {
        "duration": 25,
        "start_time": "2022-03-01T17:57:34.431Z"
      },
      {
        "duration": 36,
        "start_time": "2022-03-01T17:57:34.458Z"
      },
      {
        "duration": 41,
        "start_time": "2022-03-01T17:57:34.497Z"
      },
      {
        "duration": 68,
        "start_time": "2022-03-01T17:57:34.541Z"
      },
      {
        "duration": 37,
        "start_time": "2022-03-01T17:57:34.612Z"
      },
      {
        "duration": 120,
        "start_time": "2022-03-01T17:57:34.652Z"
      },
      {
        "duration": 162,
        "start_time": "2022-03-01T17:57:34.775Z"
      },
      {
        "duration": 15,
        "start_time": "2022-03-01T17:57:34.939Z"
      },
      {
        "duration": 32,
        "start_time": "2022-03-01T17:57:34.959Z"
      },
      {
        "duration": 27,
        "start_time": "2022-03-01T17:57:34.994Z"
      },
      {
        "duration": 918,
        "start_time": "2022-03-01T17:57:35.023Z"
      },
      {
        "duration": 64,
        "start_time": "2022-03-01T17:57:35.943Z"
      },
      {
        "duration": 18,
        "start_time": "2022-03-01T17:57:36.009Z"
      },
      {
        "duration": 62,
        "start_time": "2022-03-01T17:57:36.030Z"
      },
      {
        "duration": 45,
        "start_time": "2022-03-01T17:57:36.094Z"
      },
      {
        "duration": 72,
        "start_time": "2022-03-01T17:57:36.141Z"
      },
      {
        "duration": 5,
        "start_time": "2022-03-01T17:57:36.216Z"
      },
      {
        "duration": 22,
        "start_time": "2022-03-01T17:57:36.223Z"
      },
      {
        "duration": 13,
        "start_time": "2022-03-01T17:57:36.247Z"
      },
      {
        "duration": 41,
        "start_time": "2022-03-01T17:57:36.262Z"
      },
      {
        "duration": 6,
        "start_time": "2022-03-01T17:57:36.305Z"
      },
      {
        "duration": 17,
        "start_time": "2022-03-01T17:57:36.313Z"
      },
      {
        "duration": 18,
        "start_time": "2022-03-01T17:57:36.332Z"
      },
      {
        "duration": 41,
        "start_time": "2022-03-01T17:57:36.352Z"
      },
      {
        "duration": 35,
        "start_time": "2022-03-01T17:57:36.395Z"
      },
      {
        "duration": 12,
        "start_time": "2022-03-01T17:57:36.433Z"
      },
      {
        "duration": 202,
        "start_time": "2022-03-01T17:57:36.447Z"
      },
      {
        "duration": 3,
        "start_time": "2022-03-01T17:57:36.651Z"
      },
      {
        "duration": 75,
        "start_time": "2022-03-01T17:57:36.656Z"
      },
      {
        "duration": 2233,
        "start_time": "2022-03-01T17:57:36.733Z"
      },
      {
        "duration": 25,
        "start_time": "2022-03-01T17:57:38.969Z"
      },
      {
        "duration": 539,
        "start_time": "2022-03-01T17:57:38.997Z"
      },
      {
        "duration": 14,
        "start_time": "2022-03-01T17:57:39.538Z"
      },
      {
        "duration": 11,
        "start_time": "2022-03-01T17:57:39.554Z"
      },
      {
        "duration": 380,
        "start_time": "2022-03-01T17:58:03.823Z"
      },
      {
        "duration": 5,
        "start_time": "2022-03-01T17:58:25.467Z"
      },
      {
        "duration": 5,
        "start_time": "2022-03-01T17:58:29.169Z"
      },
      {
        "duration": 6,
        "start_time": "2022-03-01T17:58:31.639Z"
      },
      {
        "duration": 6,
        "start_time": "2022-03-01T17:58:34.446Z"
      },
      {
        "duration": 5,
        "start_time": "2022-03-01T17:58:39.315Z"
      },
      {
        "duration": 5,
        "start_time": "2022-03-01T17:59:16.327Z"
      },
      {
        "duration": 5,
        "start_time": "2022-03-01T17:59:29.827Z"
      },
      {
        "duration": 5,
        "start_time": "2022-03-01T17:59:37.865Z"
      },
      {
        "duration": 5,
        "start_time": "2022-03-01T17:59:43.339Z"
      },
      {
        "duration": 5,
        "start_time": "2022-03-01T17:59:53.899Z"
      },
      {
        "duration": 6,
        "start_time": "2022-03-01T18:00:26.836Z"
      },
      {
        "duration": 6,
        "start_time": "2022-03-01T18:00:49.826Z"
      },
      {
        "duration": 43,
        "start_time": "2022-08-01T10:59:40.551Z"
      }
    ],
    "kernelspec": {
      "display_name": "Python 3 (ipykernel)",
      "language": "python",
      "name": "python3"
    },
    "language_info": {
      "codemirror_mode": {
        "name": "ipython",
        "version": 3
      },
      "file_extension": ".py",
      "mimetype": "text/x-python",
      "name": "python",
      "nbconvert_exporter": "python",
      "pygments_lexer": "ipython3",
      "version": "3.9.5"
    },
    "toc": {
      "base_numbering": 1,
      "nav_menu": {
        "height": "218px",
        "width": "334px"
      },
      "number_sections": true,
      "sideBar": true,
      "skip_h1_title": true,
      "title_cell": "Table of Contents",
      "title_sidebar": "Contents",
      "toc_cell": false,
      "toc_position": {},
      "toc_section_display": true,
      "toc_window_display": false
    },
    "colab": {
      "provenance": []
    }
  },
  "nbformat": 4,
  "nbformat_minor": 0
}