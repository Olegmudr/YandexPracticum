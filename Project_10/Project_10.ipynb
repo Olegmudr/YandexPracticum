{
 "cells": [
  {
   "cell_type": "markdown",
   "metadata": {
    "toc": true
   },
   "source": [
    "<h1>Содержание<span class=\"tocSkip\"></span></h1>\n",
    "<div class=\"toc\"><ul class=\"toc-item\"><li><span><a href=\"#Загрузка-данных\" data-toc-modified-id=\"Загрузка-данных-1\"><span class=\"toc-item-num\">1&nbsp;&nbsp;</span>Загрузка данных</a></span></li><li><span><a href=\"#Умножение-матриц\" data-toc-modified-id=\"Умножение-матриц-2\"><span class=\"toc-item-num\">2&nbsp;&nbsp;</span>Умножение матриц</a></span></li><li><span><a href=\"#Алгоритм-преобразования\" data-toc-modified-id=\"Алгоритм-преобразования-3\"><span class=\"toc-item-num\">3&nbsp;&nbsp;</span>Алгоритм преобразования</a></span></li><li><span><a href=\"#Проверка-алгоритма\" data-toc-modified-id=\"Проверка-алгоритма-4\"><span class=\"toc-item-num\">4&nbsp;&nbsp;</span>Проверка алгоритма</a></span></li><li><span><a href=\"#Чек-лист-проверки\" data-toc-modified-id=\"Чек-лист-проверки-5\"><span class=\"toc-item-num\">5&nbsp;&nbsp;</span>Чек-лист проверки</a></span></li></ul></div>"
   ]
  },
  {
   "cell_type": "markdown",
   "metadata": {},
   "source": [
    "# Защита персональных данных клиентов"
   ]
  },
  {
   "cell_type": "markdown",
   "metadata": {},
   "source": [
    "Вам нужно защитить данные клиентов страховой компании «Хоть потоп». Разработайте такой метод преобразования данных, чтобы по ним было сложно восстановить персональную информацию. Обоснуйте корректность его работы.\n",
    "\n",
    "Нужно защитить данные, чтобы при преобразовании качество моделей машинного обучения не ухудшилось. Подбирать наилучшую модель не требуется."
   ]
  },
  {
   "cell_type": "markdown",
   "metadata": {},
   "source": [
    "## Загрузка данных"
   ]
  },
  {
   "cell_type": "code",
   "execution_count": 1,
   "metadata": {},
   "outputs": [],
   "source": [
    "import pandas as pd #импортируем Pandas для работы с данными\n",
    "import numpy as np #импортируем Numpy для работы с массивами\n",
    "from sklearn.linear_model import LinearRegression #импортирем из библиотеки sklearn Линейную регресиию\n",
    "from sklearn.metrics import r2_score #для нахождения метрики R2\n",
    "from sklearn.model_selection import train_test_split #для деления датасета"
   ]
  },
  {
   "cell_type": "code",
   "execution_count": 2,
   "metadata": {},
   "outputs": [
    {
     "data": {
      "text/html": [
       "<div>\n",
       "<style scoped>\n",
       "    .dataframe tbody tr th:only-of-type {\n",
       "        vertical-align: middle;\n",
       "    }\n",
       "\n",
       "    .dataframe tbody tr th {\n",
       "        vertical-align: top;\n",
       "    }\n",
       "\n",
       "    .dataframe thead th {\n",
       "        text-align: right;\n",
       "    }\n",
       "</style>\n",
       "<table border=\"1\" class=\"dataframe\">\n",
       "  <thead>\n",
       "    <tr style=\"text-align: right;\">\n",
       "      <th></th>\n",
       "      <th>Пол</th>\n",
       "      <th>Возраст</th>\n",
       "      <th>Зарплата</th>\n",
       "      <th>Члены семьи</th>\n",
       "      <th>Страховые выплаты</th>\n",
       "    </tr>\n",
       "  </thead>\n",
       "  <tbody>\n",
       "    <tr>\n",
       "      <th>0</th>\n",
       "      <td>1</td>\n",
       "      <td>41.0</td>\n",
       "      <td>49600.0</td>\n",
       "      <td>1</td>\n",
       "      <td>0</td>\n",
       "    </tr>\n",
       "    <tr>\n",
       "      <th>1</th>\n",
       "      <td>0</td>\n",
       "      <td>46.0</td>\n",
       "      <td>38000.0</td>\n",
       "      <td>1</td>\n",
       "      <td>1</td>\n",
       "    </tr>\n",
       "    <tr>\n",
       "      <th>2</th>\n",
       "      <td>0</td>\n",
       "      <td>29.0</td>\n",
       "      <td>21000.0</td>\n",
       "      <td>0</td>\n",
       "      <td>0</td>\n",
       "    </tr>\n",
       "    <tr>\n",
       "      <th>3</th>\n",
       "      <td>0</td>\n",
       "      <td>21.0</td>\n",
       "      <td>41700.0</td>\n",
       "      <td>2</td>\n",
       "      <td>0</td>\n",
       "    </tr>\n",
       "    <tr>\n",
       "      <th>4</th>\n",
       "      <td>1</td>\n",
       "      <td>28.0</td>\n",
       "      <td>26100.0</td>\n",
       "      <td>0</td>\n",
       "      <td>0</td>\n",
       "    </tr>\n",
       "  </tbody>\n",
       "</table>\n",
       "</div>"
      ],
      "text/plain": [
       "   Пол  Возраст  Зарплата  Члены семьи  Страховые выплаты\n",
       "0    1     41.0   49600.0            1                  0\n",
       "1    0     46.0   38000.0            1                  1\n",
       "2    0     29.0   21000.0            0                  0\n",
       "3    0     21.0   41700.0            2                  0\n",
       "4    1     28.0   26100.0            0                  0"
      ]
     },
     "execution_count": 2,
     "metadata": {},
     "output_type": "execute_result"
    }
   ],
   "source": [
    "data = pd.read_csv(\"/datasets/insurance.csv\") #скачивает датасет для работы\n",
    "data.head() #выведем несколько строк"
   ]
  },
  {
   "cell_type": "markdown",
   "metadata": {},
   "source": [
    "Для дальнейшей работы, хорошим тоном будет считаться обработка данных. Проверим на пропуски, преобразуем типы переменных."
   ]
  },
  {
   "cell_type": "code",
   "execution_count": 3,
   "metadata": {},
   "outputs": [
    {
     "data": {
      "text/plain": [
       "Пол                  0\n",
       "Возраст              0\n",
       "Зарплата             0\n",
       "Члены семьи          0\n",
       "Страховые выплаты    0\n",
       "dtype: int64"
      ]
     },
     "execution_count": 3,
     "metadata": {},
     "output_type": "execute_result"
    }
   ],
   "source": [
    "data.isna().sum() # количество пропусков"
   ]
  },
  {
   "cell_type": "code",
   "execution_count": 4,
   "metadata": {},
   "outputs": [
    {
     "name": "stdout",
     "output_type": "stream",
     "text": [
      "<class 'pandas.core.frame.DataFrame'>\n",
      "RangeIndex: 5000 entries, 0 to 4999\n",
      "Data columns (total 5 columns):\n",
      " #   Column             Non-Null Count  Dtype  \n",
      "---  ------             --------------  -----  \n",
      " 0   Пол                5000 non-null   int64  \n",
      " 1   Возраст            5000 non-null   float64\n",
      " 2   Зарплата           5000 non-null   float64\n",
      " 3   Члены семьи        5000 non-null   int64  \n",
      " 4   Страховые выплаты  5000 non-null   int64  \n",
      "dtypes: float64(2), int64(3)\n",
      "memory usage: 195.4 KB\n"
     ]
    }
   ],
   "source": [
    "data.info() #выведем информацию"
   ]
  },
  {
   "cell_type": "markdown",
   "metadata": {},
   "source": [
    "Предлагаю не бинарные значения столбцов перевести в целочисленный тип данных"
   ]
  },
  {
   "cell_type": "code",
   "execution_count": 5,
   "metadata": {},
   "outputs": [],
   "source": [
    "data[\"Члены семьи\"] = data[\"Члены семьи\"].astype(int) #перевод в целочисленный\n",
    "data[\"Возраст\"] = data[\"Возраст\"].astype(int)\n",
    "data[\"Зарплата\"] = data[\"Зарплата\"].astype(int)"
   ]
  },
  {
   "cell_type": "code",
   "execution_count": 6,
   "metadata": {},
   "outputs": [
    {
     "name": "stdout",
     "output_type": "stream",
     "text": [
      "<class 'pandas.core.frame.DataFrame'>\n",
      "RangeIndex: 5000 entries, 0 to 4999\n",
      "Data columns (total 5 columns):\n",
      " #   Column             Non-Null Count  Dtype\n",
      "---  ------             --------------  -----\n",
      " 0   Пол                5000 non-null   int64\n",
      " 1   Возраст            5000 non-null   int64\n",
      " 2   Зарплата           5000 non-null   int64\n",
      " 3   Члены семьи        5000 non-null   int64\n",
      " 4   Страховые выплаты  5000 non-null   int64\n",
      "dtypes: int64(5)\n",
      "memory usage: 195.4 KB\n"
     ]
    }
   ],
   "source": [
    "data.info() #проверка"
   ]
  },
  {
   "cell_type": "code",
   "execution_count": 7,
   "metadata": {},
   "outputs": [
    {
     "data": {
      "text/html": [
       "<div>\n",
       "<style scoped>\n",
       "    .dataframe tbody tr th:only-of-type {\n",
       "        vertical-align: middle;\n",
       "    }\n",
       "\n",
       "    .dataframe tbody tr th {\n",
       "        vertical-align: top;\n",
       "    }\n",
       "\n",
       "    .dataframe thead th {\n",
       "        text-align: right;\n",
       "    }\n",
       "</style>\n",
       "<table border=\"1\" class=\"dataframe\">\n",
       "  <thead>\n",
       "    <tr style=\"text-align: right;\">\n",
       "      <th></th>\n",
       "      <th>Пол</th>\n",
       "      <th>Возраст</th>\n",
       "      <th>Зарплата</th>\n",
       "      <th>Члены семьи</th>\n",
       "      <th>Страховые выплаты</th>\n",
       "    </tr>\n",
       "  </thead>\n",
       "  <tbody>\n",
       "    <tr>\n",
       "      <th>0</th>\n",
       "      <td>1</td>\n",
       "      <td>41</td>\n",
       "      <td>49600</td>\n",
       "      <td>1</td>\n",
       "      <td>0</td>\n",
       "    </tr>\n",
       "    <tr>\n",
       "      <th>1</th>\n",
       "      <td>0</td>\n",
       "      <td>46</td>\n",
       "      <td>38000</td>\n",
       "      <td>1</td>\n",
       "      <td>1</td>\n",
       "    </tr>\n",
       "    <tr>\n",
       "      <th>2</th>\n",
       "      <td>0</td>\n",
       "      <td>29</td>\n",
       "      <td>21000</td>\n",
       "      <td>0</td>\n",
       "      <td>0</td>\n",
       "    </tr>\n",
       "    <tr>\n",
       "      <th>3</th>\n",
       "      <td>0</td>\n",
       "      <td>21</td>\n",
       "      <td>41700</td>\n",
       "      <td>2</td>\n",
       "      <td>0</td>\n",
       "    </tr>\n",
       "    <tr>\n",
       "      <th>4</th>\n",
       "      <td>1</td>\n",
       "      <td>28</td>\n",
       "      <td>26100</td>\n",
       "      <td>0</td>\n",
       "      <td>0</td>\n",
       "    </tr>\n",
       "  </tbody>\n",
       "</table>\n",
       "</div>"
      ],
      "text/plain": [
       "   Пол  Возраст  Зарплата  Члены семьи  Страховые выплаты\n",
       "0    1       41     49600            1                  0\n",
       "1    0       46     38000            1                  1\n",
       "2    0       29     21000            0                  0\n",
       "3    0       21     41700            2                  0\n",
       "4    1       28     26100            0                  0"
      ]
     },
     "execution_count": 7,
     "metadata": {},
     "output_type": "execute_result"
    }
   ],
   "source": [
    "data.head() # выведем конечную таблицу"
   ]
  },
  {
   "cell_type": "markdown",
   "metadata": {},
   "source": [
    "Таким образом, мы загрузили данные провели минимальную предобработку для дальнейшего использования его в рамках нашего проекта."
   ]
  },
  {
   "cell_type": "markdown",
   "metadata": {},
   "source": [
    "## Умножение матриц"
   ]
  },
  {
   "cell_type": "markdown",
   "metadata": {},
   "source": [
    "Проведем математические преобразования, для проверки гипотезы : При умножении матрицы признаков на обратимую матрицу, значение качества модели линейной регрессии не изменяется."
   ]
  },
  {
   "cell_type": "markdown",
   "metadata": {},
   "source": [
    "Для обучения модели, выведем признаки и целевой признак.\n",
    "Страховые выплаты - целевой признак\n",
    "Остальные столбцы - это основа для матрицы признаков."
   ]
  },
  {
   "cell_type": "code",
   "execution_count": 8,
   "metadata": {},
   "outputs": [],
   "source": [
    "y = data[\"Страховые выплаты\"] #целевой признак\n",
    "x = data.drop(\"Страховые выплаты\", axis = 1) #матрица признаков"
   ]
  },
  {
   "cell_type": "code",
   "execution_count": 9,
   "metadata": {},
   "outputs": [
    {
     "name": "stdout",
     "output_type": "stream",
     "text": [
      "Линейная регрессия для обычной матрицы признаков -  0.42494550308169177\n"
     ]
    }
   ],
   "source": [
    "model = LinearRegression()\n",
    "model.fit(x,y)\n",
    "print(\"Линейная регрессия для обычной матрицы признаков - \", model.score(x,y)) "
   ]
  },
  {
   "cell_type": "code",
   "execution_count": 10,
   "metadata": {},
   "outputs": [],
   "source": [
    "x_inv =  x @ np.random.rand(4,4) #обратимая случайная матрица умножается на первоначальную матрицу признаков"
   ]
  },
  {
   "cell_type": "code",
   "execution_count": 11,
   "metadata": {},
   "outputs": [
    {
     "name": "stdout",
     "output_type": "stream",
     "text": [
      "Линейная регрессия для преобразованной матрицы признаков -  0.4249455030816903\n"
     ]
    }
   ],
   "source": [
    "model.fit(x_inv, y)#переобучаем модель\n",
    "print(\"Линейная регрессия для преобразованной матрицы признаков - \", model.score(x_inv,y))"
   ]
  },
  {
   "cell_type": "markdown",
   "metadata": {},
   "source": [
    "Таким образом, исходя из наших ответов, которые идентичные, сделаем вывод, что наша гипотеза верна, при умножении матрицы признаков на случайную обратимую матрицу, качество модели не изменяется, перейдем к теоретическому обоснованию данной гипотезы."
   ]
  },
  {
   "cell_type": "markdown",
   "metadata": {},
   "source": [
    "В этом задании вы можете записывать формулы в *Jupyter Notebook.*\n",
    "\n",
    "Чтобы записать формулу внутри текста, окружите её символами доллара \\\\$; если снаружи —  двойными символами \\\\$\\\\$. Эти формулы записываются на языке вёрстки *LaTeX.* \n",
    "\n",
    "Для примера мы записали формулы линейной регрессии. Можете их скопировать и отредактировать, чтобы решить задачу.\n",
    "\n",
    "Работать в *LaTeX* необязательно."
   ]
  },
  {
   "cell_type": "markdown",
   "metadata": {},
   "source": [
    "Обозначения:\n",
    "\n",
    "- $X$ — матрица признаков (нулевой столбец состоит из единиц)\n",
    "\n",
    "- $y$ — вектор целевого признака\n",
    "\n",
    "- $P$ — матрица, на которую умножаются признаки\n",
    "\n",
    "- $w$ — вектор весов линейной регрессии (нулевой элемент равен сдвигу)"
   ]
  },
  {
   "cell_type": "markdown",
   "metadata": {},
   "source": [
    "Предсказания:\n",
    "\n",
    "$$\n",
    "a = Xw\n",
    "$$\n",
    "\n",
    "Задача обучения:\n",
    "\n",
    "$$\n",
    "w = \\arg\\min_w MSE(Xw, y)\n",
    "$$\n",
    "\n",
    "Формула обучения:\n",
    "\n",
    "$$\n",
    "w = (X^T X)^{-1} X^T y\n",
    "$$"
   ]
  },
  {
   "cell_type": "markdown",
   "metadata": {},
   "source": [
    "**Ответ:** Не изменятся\n",
    "\n",
    "**Обоснование:** Пусть некий вектор Z - это произведение X на некоторую матрицу M:\n",
    "\n",
    "$$\n",
    "Z = X  M\n",
    "$$\n",
    "\n",
    "Тогда a_1 и w_1 представляют собой следующие формулы:\n",
    "\n",
    "$$\n",
    "a_1 = Z  w\n",
    "$$\n",
    "\n",
    "$$\n",
    "w_1= (Z ^ T  Z) ^ {-1}  Z ^ T  y\n",
    "$$ \n",
    "\n",
    "Подставим в значение w_1 формулу a_1 \n",
    "\n",
    "$$\n",
    "a_1 = Z  (Z ^ T  Z) ^ {-1}  Z ^ T  y\n",
    "$$\n",
    "\n",
    "Раскроем формулу, расписав Z \n",
    "\n",
    "$$\n",
    "a_1 = X  M  ((X  M) ^ T  X  M) ^ {-1}  (X  M) ^ T  y\n",
    "$$\n",
    "\n",
    "Далее приведу несколько правил, для дальнейшего преобразования \n",
    "\n",
    "$$\n",
    "(AB) ^ {-1} = A ^ {-1} B ^{-1}\n",
    "$$\n",
    "\n",
    "$$\n",
    "(AB) ^ {T} = A ^ {T} B ^{T}\n",
    "$$\n",
    "\n",
    "$$\n",
    "A ^ {-1} A = E\n",
    "$$\n",
    "\n",
    "Где E - единичная матрица, теперь распишем формулу в несколько этапов:\n",
    "\n",
    "\n",
    "Так как a = a1, следовательно гипотеза верна, что и требовалось доказать.\n",
    "* PS : умножение на единичную матрицу равнозначно умножению на единицу в линейном уравнении, где :\n",
    "\n",
    "$$\n",
    "EA = A\n",
    "$$"
   ]
  },
  {
   "cell_type": "markdown",
   "metadata": {},
   "source": [
    "$$\n",
    "a1 = X  M  ((X  M) ^ T  X  M) ^ {-1}  (X  M) ^ T  y\n",
    "$$\n",
    "\n",
    "Так как матрица M квадратная выведем ее за сколбки\n",
    "\n",
    "$$\n",
    "a1 = X  M (M^T)^{-1} (X ^ T  X ) ^ {-1}  X^T  M^ T M^{-1}  y\n",
    "$$ "
   ]
  },
  {
   "cell_type": "markdown",
   "metadata": {},
   "source": [
    "$$\n",
    "a1 = X (X ^T X) ^ {-1} X ^T y = wX = a\n",
    "$$\n",
    "\n",
    "Что и требовалось доказать"
   ]
  },
  {
   "cell_type": "markdown",
   "metadata": {},
   "source": [
    "## Алгоритм преобразования"
   ]
  },
  {
   "cell_type": "markdown",
   "metadata": {},
   "source": [
    "**Алгоритм**\n",
    " * Создадим матрицу Y\n",
    " * Создадим обратимую матрицу X, генерируюшая значения случайным образом\n",
    " * Используем для обучения матрицу Z = XY\n",
    " "
   ]
  },
  {
   "cell_type": "markdown",
   "metadata": {},
   "source": [
    "**Обоснование**\n",
    "* Матрицы обязательно должны быть квадратными\n",
    "* Условие обратимости матрицы : детерминат должен быть отличен от 0\n",
    "* Гипотеза доказана выше"
   ]
  },
  {
   "cell_type": "markdown",
   "metadata": {},
   "source": [
    "## Проверка алгоритма"
   ]
  },
  {
   "cell_type": "markdown",
   "metadata": {},
   "source": [
    "Сначала работаем со способом без преобразования"
   ]
  },
  {
   "cell_type": "code",
   "execution_count": 12,
   "metadata": {},
   "outputs": [],
   "source": [
    "features_train, features_test, target_train, target_test = train_test_split(\n",
    "    x, y,  test_size = 0.25, random_state = 12345)"
   ]
  },
  {
   "cell_type": "code",
   "execution_count": 13,
   "metadata": {},
   "outputs": [
    {
     "name": "stdout",
     "output_type": "stream",
     "text": [
      "Значение R-2 без преобразования 0.4352275684083322\n"
     ]
    }
   ],
   "source": [
    "model = LinearRegression()\n",
    "model.fit(features_train, target_train)\n",
    "print(\"Значение R-2 без преобразования\", r2_score(target_test, model.predict(features_test)))"
   ]
  },
  {
   "cell_type": "code",
   "execution_count": 19,
   "metadata": {},
   "outputs": [
    {
     "name": "stdout",
     "output_type": "stream",
     "text": [
      "Матрица обратима\n",
      "Значение R-2 с преобразованием матрицы 0.43522756836857446\n"
     ]
    }
   ],
   "source": [
    "iv = np.random.rand(4,4)\n",
    "if np.linalg.det(iv) != 0:\n",
    "    print(\"Матрица обратима\")\n",
    "    x =  x @ inv\n",
    "    features_train, features_test, target_train, target_test = train_test_split(x, y,  test_size = 0.25, random_state = 12345)\n",
    "    model = LinearRegression()\n",
    "    model.fit(features_train, target_train)\n",
    "    print(\"Значение R-2 с преобразованием матрицы\", r2_score(target_test, model.predict(features_test)))\n",
    "else:\n",
    "    print(\"Шифрование невозможно, сформируйте новую матрицу\")"
   ]
  },
  {
   "cell_type": "markdown",
   "metadata": {},
   "source": [
    "Таким образом, в рамках исследовательской работы, мы : \n",
    "* загрузили данные, обработали их\n",
    "* теоретически и практически проработали алгоритм для нахождения предсказаний модели линейной регрессии\n",
    "* сделали программную реализацию алгоритма шифрования персональных данных\n",
    "* на примере модели Логистической регрессии обнаружили, что алгоритм устойчив, т.е. метрика R2 аналогична при использовании не зашифрованного объема данных"
   ]
  }
 ],
 "metadata": {
  "ExecuteTimeLog": [
   {
    "duration": 437,
    "start_time": "2022-05-29T18:32:01.940Z"
   },
   {
    "duration": 106,
    "start_time": "2022-05-29T18:34:12.114Z"
   },
   {
    "duration": 9,
    "start_time": "2022-05-29T18:41:26.285Z"
   },
   {
    "duration": 18,
    "start_time": "2022-05-29T18:41:58.878Z"
   },
   {
    "duration": 27,
    "start_time": "2022-05-29T18:42:49.661Z"
   },
   {
    "duration": 4,
    "start_time": "2022-05-29T18:43:19.747Z"
   },
   {
    "duration": 637,
    "start_time": "2022-05-29T18:45:12.309Z"
   },
   {
    "duration": 6,
    "start_time": "2022-05-29T18:45:49.034Z"
   },
   {
    "duration": 6,
    "start_time": "2022-05-29T18:46:40.708Z"
   },
   {
    "duration": 16,
    "start_time": "2022-05-29T18:46:57.845Z"
   },
   {
    "duration": 10,
    "start_time": "2022-05-29T18:47:09.579Z"
   },
   {
    "duration": 904,
    "start_time": "2022-05-29T18:48:29.347Z"
   },
   {
    "duration": 116,
    "start_time": "2022-05-29T18:48:30.254Z"
   },
   {
    "duration": 19,
    "start_time": "2022-05-29T18:48:30.372Z"
   },
   {
    "duration": 17,
    "start_time": "2022-05-29T18:48:30.394Z"
   },
   {
    "duration": 16,
    "start_time": "2022-05-29T18:48:30.413Z"
   },
   {
    "duration": 23,
    "start_time": "2022-05-29T18:48:30.431Z"
   },
   {
    "duration": 28,
    "start_time": "2022-05-29T18:48:30.455Z"
   },
   {
    "duration": 3,
    "start_time": "2022-05-29T19:25:08.944Z"
   },
   {
    "duration": 4,
    "start_time": "2022-05-29T19:28:42.917Z"
   },
   {
    "duration": 6,
    "start_time": "2022-05-29T19:28:57.912Z"
   },
   {
    "duration": 6,
    "start_time": "2022-05-29T19:29:01.430Z"
   },
   {
    "duration": 9,
    "start_time": "2022-05-29T19:29:07.867Z"
   },
   {
    "duration": 117,
    "start_time": "2022-05-29T19:36:46.005Z"
   },
   {
    "duration": 13,
    "start_time": "2022-05-29T19:37:04.333Z"
   },
   {
    "duration": 55,
    "start_time": "2022-05-29T19:37:33.929Z"
   },
   {
    "duration": 56,
    "start_time": "2022-05-29T19:39:08.369Z"
   },
   {
    "duration": 98,
    "start_time": "2022-05-29T19:41:00.311Z"
   },
   {
    "duration": 104,
    "start_time": "2022-05-29T19:44:14.115Z"
   },
   {
    "duration": 71,
    "start_time": "2022-05-29T19:46:14.283Z"
   },
   {
    "duration": 4,
    "start_time": "2022-05-29T19:48:09.953Z"
   },
   {
    "duration": 12,
    "start_time": "2022-05-29T19:48:31.265Z"
   },
   {
    "duration": 108,
    "start_time": "2022-05-29T19:50:02.902Z"
   },
   {
    "duration": 4,
    "start_time": "2022-05-29T22:00:55.125Z"
   },
   {
    "duration": 12,
    "start_time": "2022-05-29T22:01:08.830Z"
   },
   {
    "duration": 203,
    "start_time": "2022-05-29T22:01:13.282Z"
   },
   {
    "duration": 9,
    "start_time": "2022-05-29T22:02:10.972Z"
   },
   {
    "duration": 9,
    "start_time": "2022-05-29T22:02:21.505Z"
   },
   {
    "duration": 5,
    "start_time": "2022-05-29T22:02:25.443Z"
   },
   {
    "duration": 14,
    "start_time": "2022-05-29T22:02:32.053Z"
   },
   {
    "duration": 525,
    "start_time": "2022-05-29T22:02:35.975Z"
   },
   {
    "duration": 3,
    "start_time": "2022-05-29T22:03:51.243Z"
   },
   {
    "duration": 67,
    "start_time": "2022-05-29T22:03:53.626Z"
   },
   {
    "duration": 15,
    "start_time": "2022-05-29T22:11:05.277Z"
   },
   {
    "duration": 12,
    "start_time": "2022-05-29T22:12:39.573Z"
   },
   {
    "duration": 11,
    "start_time": "2022-05-29T22:12:59.296Z"
   },
   {
    "duration": 11,
    "start_time": "2022-05-29T22:13:02.173Z"
   },
   {
    "duration": 11,
    "start_time": "2022-05-29T22:18:01.667Z"
   },
   {
    "duration": 4,
    "start_time": "2022-05-29T22:18:30.403Z"
   },
   {
    "duration": 5,
    "start_time": "2022-05-29T22:18:39.259Z"
   },
   {
    "duration": 16,
    "start_time": "2022-05-29T22:19:44.881Z"
   },
   {
    "duration": 5,
    "start_time": "2022-05-29T22:20:42.427Z"
   },
   {
    "duration": 16,
    "start_time": "2022-05-29T22:20:45.320Z"
   },
   {
    "duration": 5,
    "start_time": "2022-05-29T22:21:13.385Z"
   },
   {
    "duration": 9,
    "start_time": "2022-05-29T22:21:15.473Z"
   },
   {
    "duration": 9,
    "start_time": "2022-05-29T22:23:06.381Z"
   },
   {
    "duration": 15,
    "start_time": "2022-05-29T22:24:25.846Z"
   },
   {
    "duration": 10,
    "start_time": "2022-05-29T22:24:51.552Z"
   },
   {
    "duration": 12,
    "start_time": "2022-05-29T22:26:08.795Z"
   },
   {
    "duration": 63,
    "start_time": "2022-05-29T22:26:26.275Z"
   },
   {
    "duration": 67,
    "start_time": "2022-05-29T22:26:33.229Z"
   },
   {
    "duration": 46,
    "start_time": "2022-05-29T22:27:08.495Z"
   },
   {
    "duration": 39,
    "start_time": "2022-05-29T22:27:19.997Z"
   },
   {
    "duration": 11,
    "start_time": "2022-05-29T22:27:32.034Z"
   },
   {
    "duration": 65,
    "start_time": "2022-05-29T22:27:38.877Z"
   },
   {
    "duration": 58,
    "start_time": "2022-05-29T22:27:48.959Z"
   },
   {
    "duration": 58,
    "start_time": "2022-05-29T22:28:24.161Z"
   },
   {
    "duration": 55,
    "start_time": "2022-05-29T22:28:28.950Z"
   },
   {
    "duration": 14,
    "start_time": "2022-05-29T22:28:33.115Z"
   },
   {
    "duration": 12,
    "start_time": "2022-05-29T22:28:56.525Z"
   },
   {
    "duration": 13,
    "start_time": "2022-05-29T22:29:08.796Z"
   },
   {
    "duration": 12,
    "start_time": "2022-05-29T22:31:03.378Z"
   },
   {
    "duration": 13,
    "start_time": "2022-05-29T22:31:08.169Z"
   },
   {
    "duration": 12,
    "start_time": "2022-05-29T22:31:11.240Z"
   },
   {
    "duration": 12,
    "start_time": "2022-05-29T22:31:14.450Z"
   },
   {
    "duration": 11,
    "start_time": "2022-05-29T22:31:23.538Z"
   },
   {
    "duration": 11,
    "start_time": "2022-05-29T22:31:55.136Z"
   },
   {
    "duration": 889,
    "start_time": "2022-05-29T22:32:05.751Z"
   },
   {
    "duration": 102,
    "start_time": "2022-05-29T22:32:06.642Z"
   },
   {
    "duration": 6,
    "start_time": "2022-05-29T22:32:06.746Z"
   },
   {
    "duration": 16,
    "start_time": "2022-05-29T22:32:06.754Z"
   },
   {
    "duration": 14,
    "start_time": "2022-05-29T22:32:06.771Z"
   },
   {
    "duration": 11,
    "start_time": "2022-05-29T22:32:06.787Z"
   },
   {
    "duration": 9,
    "start_time": "2022-05-29T22:32:06.800Z"
   },
   {
    "duration": 5,
    "start_time": "2022-05-29T22:32:06.811Z"
   },
   {
    "duration": 23,
    "start_time": "2022-05-29T22:32:06.818Z"
   },
   {
    "duration": 97,
    "start_time": "2022-05-29T22:32:06.889Z"
   },
   {
    "duration": 20,
    "start_time": "2022-05-29T22:32:06.988Z"
   },
   {
    "duration": 78,
    "start_time": "2022-05-29T22:32:07.011Z"
   },
   {
    "duration": 96,
    "start_time": "2022-05-29T22:32:07.091Z"
   },
   {
    "duration": 14,
    "start_time": "2022-05-29T22:32:07.189Z"
   },
   {
    "duration": 11,
    "start_time": "2022-05-29T22:32:07.205Z"
   },
   {
    "duration": 895,
    "start_time": "2022-05-29T22:34:16.254Z"
   },
   {
    "duration": 103,
    "start_time": "2022-05-29T22:34:17.152Z"
   },
   {
    "duration": 7,
    "start_time": "2022-05-29T22:34:17.257Z"
   },
   {
    "duration": 22,
    "start_time": "2022-05-29T22:34:17.267Z"
   },
   {
    "duration": 38,
    "start_time": "2022-05-29T22:34:17.291Z"
   },
   {
    "duration": 27,
    "start_time": "2022-05-29T22:34:17.331Z"
   },
   {
    "duration": 32,
    "start_time": "2022-05-29T22:34:17.360Z"
   },
   {
    "duration": 48,
    "start_time": "2022-05-29T22:34:17.394Z"
   },
   {
    "duration": 52,
    "start_time": "2022-05-29T22:34:17.444Z"
   },
   {
    "duration": 111,
    "start_time": "2022-05-29T22:34:17.585Z"
   },
   {
    "duration": 44,
    "start_time": "2022-05-29T22:34:17.698Z"
   },
   {
    "duration": 148,
    "start_time": "2022-05-29T22:34:17.745Z"
   },
   {
    "duration": 31,
    "start_time": "2022-05-29T22:34:17.895Z"
   },
   {
    "duration": 125,
    "start_time": "2022-05-29T22:34:17.929Z"
   },
   {
    "duration": 12,
    "start_time": "2022-05-29T22:34:38.118Z"
   },
   {
    "duration": 843,
    "start_time": "2022-05-29T22:39:04.388Z"
   },
   {
    "duration": 103,
    "start_time": "2022-05-29T22:39:05.233Z"
   },
   {
    "duration": 7,
    "start_time": "2022-05-29T22:39:05.337Z"
   },
   {
    "duration": 28,
    "start_time": "2022-05-29T22:39:05.346Z"
   },
   {
    "duration": 23,
    "start_time": "2022-05-29T22:39:05.376Z"
   },
   {
    "duration": 33,
    "start_time": "2022-05-29T22:39:05.401Z"
   },
   {
    "duration": 12,
    "start_time": "2022-05-29T22:39:05.436Z"
   },
   {
    "duration": 24,
    "start_time": "2022-05-29T22:39:05.450Z"
   },
   {
    "duration": 38,
    "start_time": "2022-05-29T22:39:05.476Z"
   },
   {
    "duration": 167,
    "start_time": "2022-05-29T22:39:05.517Z"
   },
   {
    "duration": 10,
    "start_time": "2022-05-29T22:39:05.686Z"
   },
   {
    "duration": 195,
    "start_time": "2022-05-29T22:39:05.698Z"
   },
   {
    "duration": 19,
    "start_time": "2022-05-29T22:39:05.895Z"
   },
   {
    "duration": 17,
    "start_time": "2022-05-29T22:39:05.915Z"
   },
   {
    "duration": 926,
    "start_time": "2022-05-30T10:36:15.242Z"
   },
   {
    "duration": 160,
    "start_time": "2022-05-30T10:36:16.171Z"
   },
   {
    "duration": 6,
    "start_time": "2022-05-30T10:36:16.332Z"
   },
   {
    "duration": 13,
    "start_time": "2022-05-30T10:36:16.340Z"
   },
   {
    "duration": 5,
    "start_time": "2022-05-30T10:36:16.355Z"
   },
   {
    "duration": 11,
    "start_time": "2022-05-30T10:36:16.361Z"
   },
   {
    "duration": 31,
    "start_time": "2022-05-30T10:36:16.374Z"
   },
   {
    "duration": 5,
    "start_time": "2022-05-30T10:36:16.407Z"
   },
   {
    "duration": 89,
    "start_time": "2022-05-30T10:36:16.414Z"
   },
   {
    "duration": 98,
    "start_time": "2022-05-30T10:36:16.505Z"
   },
   {
    "duration": 12,
    "start_time": "2022-05-30T10:36:16.605Z"
   },
   {
    "duration": 93,
    "start_time": "2022-05-30T10:36:16.619Z"
   },
   {
    "duration": 9,
    "start_time": "2022-05-30T10:36:16.803Z"
   },
   {
    "duration": 5,
    "start_time": "2022-05-30T10:36:16.815Z"
   },
   {
    "duration": 247,
    "start_time": "2022-05-30T10:36:40.083Z"
   },
   {
    "duration": 15,
    "start_time": "2022-05-30T10:37:10.977Z"
   },
   {
    "duration": 11,
    "start_time": "2022-05-30T10:38:56.271Z"
   },
   {
    "duration": 11,
    "start_time": "2022-05-30T10:39:25.311Z"
   },
   {
    "duration": 11,
    "start_time": "2022-05-30T10:39:32.612Z"
   }
  ],
  "kernelspec": {
   "display_name": "Python 3 (ipykernel)",
   "language": "python",
   "name": "python3"
  },
  "language_info": {
   "codemirror_mode": {
    "name": "ipython",
    "version": 3
   },
   "file_extension": ".py",
   "mimetype": "text/x-python",
   "name": "python",
   "nbconvert_exporter": "python",
   "pygments_lexer": "ipython3",
   "version": "3.9.12"
  },
  "toc": {
   "base_numbering": 1,
   "nav_menu": {},
   "number_sections": true,
   "sideBar": true,
   "skip_h1_title": true,
   "title_cell": "Содержание",
   "title_sidebar": "Contents",
   "toc_cell": true,
   "toc_position": {},
   "toc_section_display": true,
   "toc_window_display": true
  }
 },
 "nbformat": 4,
 "nbformat_minor": 2
}
