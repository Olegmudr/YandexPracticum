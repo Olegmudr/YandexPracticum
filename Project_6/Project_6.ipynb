{
 "cells": [
  {
   "cell_type": "markdown",
   "metadata": {},
   "source": [
    "# Рекомендация тарифов"
   ]
  },
  {
   "cell_type": "markdown",
   "metadata": {},
   "source": [
    "В вашем распоряжении данные о поведении клиентов, которые уже перешли на эти тарифы (из проекта курса «Статистический анализ данных»). Нужно построить модель для задачи классификации, которая выберет подходящий тариф. Предобработка данных не понадобится — вы её уже сделали.\n",
    "\n",
    "Постройте модель с максимально большим значением *accuracy*. Чтобы сдать проект успешно, нужно довести долю правильных ответов по крайней мере до 0.75. Проверьте *accuracy* на тестовой выборке самостоятельно."
   ]
  },
  {
   "cell_type": "markdown",
   "metadata": {},
   "source": [
    "## Откройте и изучите файл"
   ]
  },
  {
   "cell_type": "code",
   "execution_count": 1,
   "metadata": {},
   "outputs": [
    {
     "name": "stdout",
     "output_type": "stream",
     "text": [
      "Collecting tabulate\n",
      "  Downloading tabulate-0.8.10-py3-none-any.whl (29 kB)\n",
      "Installing collected packages: tabulate\n",
      "Successfully installed tabulate-0.8.10\n"
     ]
    }
   ],
   "source": [
    "import pandas as pd #для обработки данных\n",
    "from sklearn.model_selection import train_test_split #для деления набора данных \n",
    "from sklearn.tree import DecisionTreeClassifier #импортируем дерево решений\n",
    "from sklearn.ensemble import RandomForestClassifier #модель случайного леса\n",
    "from sklearn.linear_model import LogisticRegression #модель логистической регрессии\n",
    "!pip install tabulate\n",
    "from tabulate import tabulate #для отображения табличных данных\n",
    "from sklearn.dummy import DummyClassifier #для адекватности"
   ]
  },
  {
   "cell_type": "code",
   "execution_count": 2,
   "metadata": {},
   "outputs": [
    {
     "data": {
      "text/html": [
       "<div>\n",
       "<style scoped>\n",
       "    .dataframe tbody tr th:only-of-type {\n",
       "        vertical-align: middle;\n",
       "    }\n",
       "\n",
       "    .dataframe tbody tr th {\n",
       "        vertical-align: top;\n",
       "    }\n",
       "\n",
       "    .dataframe thead th {\n",
       "        text-align: right;\n",
       "    }\n",
       "</style>\n",
       "<table border=\"1\" class=\"dataframe\">\n",
       "  <thead>\n",
       "    <tr style=\"text-align: right;\">\n",
       "      <th></th>\n",
       "      <th>calls</th>\n",
       "      <th>minutes</th>\n",
       "      <th>messages</th>\n",
       "      <th>mb_used</th>\n",
       "      <th>is_ultra</th>\n",
       "    </tr>\n",
       "  </thead>\n",
       "  <tbody>\n",
       "    <tr>\n",
       "      <th>0</th>\n",
       "      <td>40.0</td>\n",
       "      <td>311.90</td>\n",
       "      <td>83.0</td>\n",
       "      <td>19915.42</td>\n",
       "      <td>0</td>\n",
       "    </tr>\n",
       "    <tr>\n",
       "      <th>1</th>\n",
       "      <td>85.0</td>\n",
       "      <td>516.75</td>\n",
       "      <td>56.0</td>\n",
       "      <td>22696.96</td>\n",
       "      <td>0</td>\n",
       "    </tr>\n",
       "    <tr>\n",
       "      <th>2</th>\n",
       "      <td>77.0</td>\n",
       "      <td>467.66</td>\n",
       "      <td>86.0</td>\n",
       "      <td>21060.45</td>\n",
       "      <td>0</td>\n",
       "    </tr>\n",
       "    <tr>\n",
       "      <th>3</th>\n",
       "      <td>106.0</td>\n",
       "      <td>745.53</td>\n",
       "      <td>81.0</td>\n",
       "      <td>8437.39</td>\n",
       "      <td>1</td>\n",
       "    </tr>\n",
       "    <tr>\n",
       "      <th>4</th>\n",
       "      <td>66.0</td>\n",
       "      <td>418.74</td>\n",
       "      <td>1.0</td>\n",
       "      <td>14502.75</td>\n",
       "      <td>0</td>\n",
       "    </tr>\n",
       "  </tbody>\n",
       "</table>\n",
       "</div>"
      ],
      "text/plain": [
       "   calls  minutes  messages   mb_used  is_ultra\n",
       "0   40.0   311.90      83.0  19915.42         0\n",
       "1   85.0   516.75      56.0  22696.96         0\n",
       "2   77.0   467.66      86.0  21060.45         0\n",
       "3  106.0   745.53      81.0   8437.39         1\n",
       "4   66.0   418.74       1.0  14502.75         0"
      ]
     },
     "metadata": {},
     "output_type": "display_data"
    },
    {
     "name": "stdout",
     "output_type": "stream",
     "text": [
      "<class 'pandas.core.frame.DataFrame'>\n",
      "RangeIndex: 3214 entries, 0 to 3213\n",
      "Data columns (total 5 columns):\n",
      " #   Column    Non-Null Count  Dtype  \n",
      "---  ------    --------------  -----  \n",
      " 0   calls     3214 non-null   float64\n",
      " 1   minutes   3214 non-null   float64\n",
      " 2   messages  3214 non-null   float64\n",
      " 3   mb_used   3214 non-null   float64\n",
      " 4   is_ultra  3214 non-null   int64  \n",
      "dtypes: float64(4), int64(1)\n",
      "memory usage: 125.7 KB\n",
      "None\n"
     ]
    }
   ],
   "source": [
    "data = pd.read_csv(\"/datasets/users_behavior.csv\") #открываем файл\n",
    "display(data.head(5)) #вывод первых 5 строк\n",
    "print(data.info()) #информация о датасете"
   ]
  },
  {
   "cell_type": "markdown",
   "metadata": {},
   "source": [
    "Описание данных\n",
    "\n",
    "* calls - количество звонков\n",
    "* minutes - суммарное количество минут\n",
    "* messages - количество сообщений\n",
    "* mb_used  -  количество трафика в МБ\n",
    "* is_ultra - при 1 тариф ультра, при 0 смарт\n",
    "\n",
    "На данном этапе, все задачи выполнены, так как предобработка данных уже была проведена. Стоит лишь отметить, что перед нами классическая задача классификации -  опредить подходящий тариф на основе эти данных."
   ]
  },
  {
   "cell_type": "markdown",
   "metadata": {},
   "source": [
    "## Разбейте данные на выборки"
   ]
  },
  {
   "cell_type": "markdown",
   "metadata": {},
   "source": [
    "Так как спрятанной тестовой выборки нет, предлагаю поделить датасет на 60-20-20. Сначала отдадим 60% обучающей, 40% тестовой"
   ]
  },
  {
   "cell_type": "code",
   "execution_count": 3,
   "metadata": {},
   "outputs": [],
   "source": [
    "data_train, data_test = train_test_split(data, test_size = 0.4, random_state = 12345) # закрепляем шаг для повторения эксперемента\n",
    "#на первом этапе размер валидационной выборки 0.6, тестосовой 0.4"
   ]
  },
  {
   "cell_type": "markdown",
   "metadata": {},
   "source": [
    "Создаем признаки и целевой признак на тестовом наборе данных"
   ]
  },
  {
   "cell_type": "code",
   "execution_count": 4,
   "metadata": {},
   "outputs": [],
   "source": [
    "features = data_test.drop([\"is_ultra\"], axis = 1) #признаки\n",
    "target =  data_test[\"is_ultra\"] #целевой признак"
   ]
  },
  {
   "cell_type": "markdown",
   "metadata": {},
   "source": [
    "Делим тестовую выборку пополам, чтобы получить валидационную и тестовые выборки."
   ]
  },
  {
   "cell_type": "code",
   "execution_count": 5,
   "metadata": {},
   "outputs": [],
   "source": [
    "features_valid, features_test, target_valid, target_test = train_test_split(features, target, test_size= 0.5 , random_state=12345)\n",
    "#делим оставшую часть пополам, сохраняем шаг для закрепления эксперимента"
   ]
  },
  {
   "cell_type": "markdown",
   "metadata": {},
   "source": [
    "Создаем тестовую выборку"
   ]
  },
  {
   "cell_type": "code",
   "execution_count": 6,
   "metadata": {},
   "outputs": [],
   "source": [
    "features_train = data_train.drop([\"is_ultra\"], axis = 1)\n",
    "target_train = data_train[\"is_ultra\"]"
   ]
  },
  {
   "cell_type": "markdown",
   "metadata": {},
   "source": [
    "* features_train, target_train - тренировачные даннные\n",
    "* features_test, target_test - тестовые даннные\n",
    "* features_valid, target_valid - валидационные даннные"
   ]
  },
  {
   "cell_type": "markdown",
   "metadata": {},
   "source": [
    "## Исследуйте модели"
   ]
  },
  {
   "cell_type": "markdown",
   "metadata": {},
   "source": [
    "### Дерево решений"
   ]
  },
  {
   "cell_type": "code",
   "execution_count": 7,
   "metadata": {},
   "outputs": [
    {
     "name": "stdout",
     "output_type": "stream",
     "text": [
      "При глубине дерева - 3 , качество  - 0.7853810264385692\n"
     ]
    }
   ],
   "source": [
    "best_accuracy = 0 #лучшее значение\n",
    "best_depth = 0 #лучшая глубина \n",
    "for depth in range(1,100): #цикл\n",
    "    model = DecisionTreeClassifier(random_state = 12345, max_depth = depth) #создание модели\n",
    "    model.fit(features_train, target_train) #обучение\n",
    "    accuracy = model.score(features_valid, target_valid) #качество\n",
    "    if accuracy > best_accuracy: #цикл для выбора лучшей модели\n",
    "        best_accuracy = accuracy\n",
    "        best_depth = depth\n",
    "print(f'При глубине дерева - {best_depth} , качество  - {best_accuracy}')"
   ]
  },
  {
   "cell_type": "markdown",
   "metadata": {},
   "source": [
    "### Случайный лес"
   ]
  },
  {
   "cell_type": "code",
   "execution_count": 8,
   "metadata": {},
   "outputs": [
    {
     "name": "stdout",
     "output_type": "stream",
     "text": [
      "При Количестве деревьев - 40 , при  глубине - 8, качество  - 0.8087091757387247\n"
     ]
    }
   ],
   "source": [
    "best_accuracy = 0\n",
    "best_n_estimators = 0\n",
    "best_depth = 0 \n",
    "for est in range(1, 50, 3):\n",
    "    for depth in range(1, 100):\n",
    "        model = RandomForestClassifier(random_state = 12345, n_estimators=est, max_depth = depth)\n",
    "        model.fit(features_train, target_train)\n",
    "        accuracy = model.score(features_valid, target_valid)\n",
    "        if accuracy > best_accuracy:\n",
    "            best_accuracy = accuracy\n",
    "            best_n_estimators = est\n",
    "            best_depth = depth\n",
    "print(f'При Количестве деревьев - {best_n_estimators} , при  глубине - {best_depth}, качество  - {best_accuracy}')"
   ]
  },
  {
   "cell_type": "markdown",
   "metadata": {},
   "source": [
    "### Логистическая регрессия"
   ]
  },
  {
   "cell_type": "code",
   "execution_count": 9,
   "metadata": {},
   "outputs": [
    {
     "name": "stdout",
     "output_type": "stream",
     "text": [
      "Качество при логистической регрессии -  0.7107309486780715\n"
     ]
    }
   ],
   "source": [
    "model = LogisticRegression(random_state = 12345, solver = \"lbfgs\")\n",
    "model.fit(features_train, target_train)\n",
    "accuracy = model.score(features_valid, target_valid)\n",
    "print(\"Качество при логистической регрессии - \", accuracy)"
   ]
  },
  {
   "cell_type": "markdown",
   "metadata": {},
   "source": [
    "Таким образом лучшее качество достигается при использовании модели случайного леса, проверим это на тестовой выборке."
   ]
  },
  {
   "cell_type": "markdown",
   "metadata": {},
   "source": [
    "## Проверьте модель на тестовой выборке"
   ]
  },
  {
   "cell_type": "markdown",
   "metadata": {},
   "source": [
    "### Дерево решений"
   ]
  },
  {
   "cell_type": "code",
   "execution_count": 10,
   "metadata": {},
   "outputs": [
    {
     "name": "stdout",
     "output_type": "stream",
     "text": [
      "Качество -  0.7791601866251944\n"
     ]
    }
   ],
   "source": [
    "model = DecisionTreeClassifier(random_state = 12345, max_depth = 3)\n",
    "model.fit(features_train, target_train)\n",
    "accuracy = model.score(features_test, target_test)\n",
    "print(\"Качество - \", accuracy)"
   ]
  },
  {
   "cell_type": "markdown",
   "metadata": {},
   "source": [
    "### Случайный лес"
   ]
  },
  {
   "cell_type": "code",
   "execution_count": 11,
   "metadata": {},
   "outputs": [
    {
     "name": "stdout",
     "output_type": "stream",
     "text": [
      "Качество -  0.7962674961119751\n"
     ]
    }
   ],
   "source": [
    "model = RandomForestClassifier(random_state = 12345, n_estimators = 40, max_depth = 8)\n",
    "model.fit(features_train, target_train)\n",
    "accuracy = model.score(features_test, target_test)\n",
    "print(\"Качество - \", accuracy)"
   ]
  },
  {
   "cell_type": "markdown",
   "metadata": {},
   "source": [
    "### Логистическая регрессия"
   ]
  },
  {
   "cell_type": "code",
   "execution_count": 12,
   "metadata": {},
   "outputs": [
    {
     "name": "stdout",
     "output_type": "stream",
     "text": [
      "Качество при логистической регрессии -  0.6842923794712286\n"
     ]
    }
   ],
   "source": [
    "model = LogisticRegression(random_state = 12345, solver = \"lbfgs\")\n",
    "model.fit(features_train, target_train)\n",
    "accuracy = model.score(features_test, target_test)\n",
    "print(\"Качество при логистической регрессии - \", accuracy)"
   ]
  },
  {
   "cell_type": "code",
   "execution_count": 13,
   "metadata": {},
   "outputs": [
    {
     "name": "stdout",
     "output_type": "stream",
     "text": [
      "+-------------------------+------------+\n",
      "| Модель                  |   Качество |\n",
      "+=========================+============+\n",
      "| дерево_решений          |       0.77 |\n",
      "+-------------------------+------------+\n",
      "| случайный_лес           |       0.79 |\n",
      "+-------------------------+------------+\n",
      "| логистическая_регрессия |       0.68 |\n",
      "+-------------------------+------------+\n"
     ]
    }
   ],
   "source": [
    "table = {'дерево_решений' : 0.77, 'случайный_лес' : 0.79, 'логистическая_регрессия' : 0.68}\n",
    "print(tabulate(table.items(), headers=['Модель', 'Качество'], tablefmt=\"grid\"))"
   ]
  },
  {
   "cell_type": "markdown",
   "metadata": {},
   "source": [
    "### Вывод"
   ]
  },
  {
   "cell_type": "markdown",
   "metadata": {},
   "source": [
    "Таким образом, наша гипотеза была верна, модель случаного леса при определенных параметрах, показывает результаты выше чем у остальных моделей. Ее значение большое 0,75 следовательно задача в рамках проекта была выполнена."
   ]
  },
  {
   "cell_type": "markdown",
   "metadata": {},
   "source": [
    "## (бонус) Проверьте модели на адекватность"
   ]
  },
  {
   "cell_type": "code",
   "execution_count": 14,
   "metadata": {},
   "outputs": [
    {
     "name": "stdout",
     "output_type": "stream",
     "text": [
      "Качество при стратифицированной стратегии: 0.6842923794712286\n",
      "Качество при выборе наиболее частой метки: 0.6842923794712286\n"
     ]
    }
   ],
   "source": [
    "x = DummyClassifier(random_state = 12345, strategy = \"stratified\")\n",
    "model.fit(features_train, target_train)\n",
    "accuracy = model.score(features_test, target_test)\n",
    "print(\"Качество при стратифицированной стратегии:\", accuracy)\n",
    "x = DummyClassifier(random_state = 12345, strategy = \"most_frequent\")\n",
    "model.fit(features_train, target_train)\n",
    "accuracy = model.score(features_test, target_test)\n",
    "print(\"Качество при выборе наиболее частой метки:\", accuracy )"
   ]
  }
 ],
 "metadata": {
  "ExecuteTimeLog": [
   {
    "duration": 475,
    "start_time": "2022-03-24T13:32:45.196Z"
   },
   {
    "duration": 148,
    "start_time": "2022-03-24T13:33:13.247Z"
   },
   {
    "duration": 16,
    "start_time": "2022-03-24T13:33:26.893Z"
   },
   {
    "duration": 34,
    "start_time": "2022-03-24T13:33:38.875Z"
   },
   {
    "duration": 26,
    "start_time": "2022-03-24T13:34:03.870Z"
   },
   {
    "duration": 31,
    "start_time": "2022-03-24T13:34:19.683Z"
   },
   {
    "duration": 36,
    "start_time": "2022-03-24T13:34:29.171Z"
   },
   {
    "duration": 923,
    "start_time": "2022-03-24T13:48:52.606Z"
   },
   {
    "duration": 1585,
    "start_time": "2022-03-27T13:53:25.546Z"
   },
   {
    "duration": 75,
    "start_time": "2022-03-27T13:53:27.135Z"
   },
   {
    "duration": 8,
    "start_time": "2022-03-27T13:53:27.213Z"
   },
   {
    "duration": 172,
    "start_time": "2022-03-27T13:56:04.584Z"
   },
   {
    "duration": 20,
    "start_time": "2022-03-27T13:56:24.880Z"
   },
   {
    "duration": 13,
    "start_time": "2022-03-27T13:57:04.386Z"
   },
   {
    "duration": 5,
    "start_time": "2022-03-27T13:58:32.292Z"
   },
   {
    "duration": 7,
    "start_time": "2022-03-27T14:01:00.614Z"
   },
   {
    "duration": 7,
    "start_time": "2022-03-27T14:06:19.749Z"
   },
   {
    "duration": 6,
    "start_time": "2022-03-27T14:08:53.544Z"
   },
   {
    "duration": 3,
    "start_time": "2022-03-27T14:17:04.527Z"
   },
   {
    "duration": 61,
    "start_time": "2022-03-27T14:17:58.528Z"
   },
   {
    "duration": 5,
    "start_time": "2022-03-27T14:18:18.824Z"
   },
   {
    "duration": 1562,
    "start_time": "2022-03-27T14:43:33.702Z"
   },
   {
    "duration": 49,
    "start_time": "2022-03-27T14:43:35.268Z"
   },
   {
    "duration": 7,
    "start_time": "2022-03-27T14:43:35.320Z"
   },
   {
    "duration": 106,
    "start_time": "2022-03-27T14:43:35.330Z"
   },
   {
    "duration": 0,
    "start_time": "2022-03-27T14:43:35.439Z"
   },
   {
    "duration": 0,
    "start_time": "2022-03-27T14:43:35.441Z"
   },
   {
    "duration": 0,
    "start_time": "2022-03-27T14:43:35.443Z"
   },
   {
    "duration": 0,
    "start_time": "2022-03-27T14:43:35.446Z"
   },
   {
    "duration": 144,
    "start_time": "2022-03-27T14:46:44.589Z"
   },
   {
    "duration": 5,
    "start_time": "2022-03-27T14:46:51.035Z"
   },
   {
    "duration": 40,
    "start_time": "2022-03-27T14:46:51.044Z"
   },
   {
    "duration": 7,
    "start_time": "2022-03-27T14:46:51.087Z"
   },
   {
    "duration": 89,
    "start_time": "2022-03-27T14:46:51.097Z"
   },
   {
    "duration": 0,
    "start_time": "2022-03-27T14:46:51.189Z"
   },
   {
    "duration": 0,
    "start_time": "2022-03-27T14:46:51.191Z"
   },
   {
    "duration": 1,
    "start_time": "2022-03-27T14:46:51.193Z"
   },
   {
    "duration": 0,
    "start_time": "2022-03-27T14:46:51.196Z"
   },
   {
    "duration": 4,
    "start_time": "2022-03-27T14:47:08.688Z"
   },
   {
    "duration": 41,
    "start_time": "2022-03-27T14:47:08.695Z"
   },
   {
    "duration": 6,
    "start_time": "2022-03-27T14:47:08.739Z"
   },
   {
    "duration": 12,
    "start_time": "2022-03-27T14:47:08.749Z"
   },
   {
    "duration": 22,
    "start_time": "2022-03-27T14:47:08.763Z"
   },
   {
    "duration": 7,
    "start_time": "2022-03-27T14:47:08.787Z"
   },
   {
    "duration": 140,
    "start_time": "2022-03-27T14:47:08.796Z"
   },
   {
    "duration": 183,
    "start_time": "2022-03-27T14:47:24.158Z"
   },
   {
    "duration": 5,
    "start_time": "2022-03-27T14:47:28.270Z"
   },
   {
    "duration": 36,
    "start_time": "2022-03-27T14:47:28.279Z"
   },
   {
    "duration": 8,
    "start_time": "2022-03-27T14:47:28.318Z"
   },
   {
    "duration": 41,
    "start_time": "2022-03-27T14:47:28.328Z"
   },
   {
    "duration": 8,
    "start_time": "2022-03-27T14:47:28.372Z"
   },
   {
    "duration": 6,
    "start_time": "2022-03-27T14:47:28.382Z"
   },
   {
    "duration": 196,
    "start_time": "2022-03-27T14:47:28.391Z"
   },
   {
    "duration": 5,
    "start_time": "2022-03-27T14:47:37.106Z"
   },
   {
    "duration": 36,
    "start_time": "2022-03-27T14:47:37.114Z"
   },
   {
    "duration": 6,
    "start_time": "2022-03-27T14:47:37.152Z"
   },
   {
    "duration": 7,
    "start_time": "2022-03-27T14:47:37.160Z"
   },
   {
    "duration": 6,
    "start_time": "2022-03-27T14:47:37.170Z"
   },
   {
    "duration": 5,
    "start_time": "2022-03-27T14:47:37.178Z"
   },
   {
    "duration": 985,
    "start_time": "2022-03-27T14:47:37.186Z"
   },
   {
    "duration": 41,
    "start_time": "2022-03-27T14:47:45.215Z"
   },
   {
    "duration": 1450,
    "start_time": "2022-03-27T14:47:50.207Z"
   },
   {
    "duration": 1442,
    "start_time": "2022-03-27T14:47:59.818Z"
   },
   {
    "duration": 46,
    "start_time": "2022-03-27T14:48:01.262Z"
   },
   {
    "duration": 6,
    "start_time": "2022-03-27T14:48:01.311Z"
   },
   {
    "duration": 14,
    "start_time": "2022-03-27T14:48:01.319Z"
   },
   {
    "duration": 16,
    "start_time": "2022-03-27T14:48:01.334Z"
   },
   {
    "duration": 16,
    "start_time": "2022-03-27T14:48:01.351Z"
   },
   {
    "duration": 1028,
    "start_time": "2022-03-27T14:48:01.369Z"
   },
   {
    "duration": 16,
    "start_time": "2022-03-27T14:50:07.298Z"
   },
   {
    "duration": 155,
    "start_time": "2022-03-27T14:55:12.576Z"
   },
   {
    "duration": 6374,
    "start_time": "2022-03-27T14:55:27.184Z"
   },
   {
    "duration": 1967,
    "start_time": "2022-03-27T15:16:47.101Z"
   },
   {
    "duration": 54,
    "start_time": "2022-03-27T15:16:49.071Z"
   },
   {
    "duration": 7,
    "start_time": "2022-03-27T15:16:49.127Z"
   },
   {
    "duration": 10,
    "start_time": "2022-03-27T15:16:49.136Z"
   },
   {
    "duration": 19,
    "start_time": "2022-03-27T15:16:49.149Z"
   },
   {
    "duration": 5,
    "start_time": "2022-03-27T15:16:49.170Z"
   },
   {
    "duration": 1027,
    "start_time": "2022-03-27T15:16:49.177Z"
   },
   {
    "duration": 21747,
    "start_time": "2022-03-27T15:16:50.206Z"
   },
   {
    "duration": 50,
    "start_time": "2022-03-27T15:17:11.956Z"
   },
   {
    "duration": 149,
    "start_time": "2022-03-27T15:21:15.240Z"
   },
   {
    "duration": 25,
    "start_time": "2022-03-27T15:21:35.241Z"
   },
   {
    "duration": 13,
    "start_time": "2022-03-27T15:21:43.608Z"
   },
   {
    "duration": 5,
    "start_time": "2022-03-27T15:21:51.802Z"
   },
   {
    "duration": 45,
    "start_time": "2022-03-27T15:21:51.809Z"
   },
   {
    "duration": 5,
    "start_time": "2022-03-27T15:21:51.857Z"
   },
   {
    "duration": 8,
    "start_time": "2022-03-27T15:21:51.865Z"
   },
   {
    "duration": 6,
    "start_time": "2022-03-27T15:21:51.876Z"
   },
   {
    "duration": 6,
    "start_time": "2022-03-27T15:21:51.885Z"
   },
   {
    "duration": 988,
    "start_time": "2022-03-27T15:21:51.893Z"
   },
   {
    "duration": 21414,
    "start_time": "2022-03-27T15:21:52.883Z"
   },
   {
    "duration": 41,
    "start_time": "2022-03-27T15:22:14.299Z"
   },
   {
    "duration": 0,
    "start_time": "2022-03-27T15:22:14.376Z"
   },
   {
    "duration": 1658,
    "start_time": "2022-03-27T15:24:37.722Z"
   },
   {
    "duration": 67,
    "start_time": "2022-03-27T15:24:39.383Z"
   },
   {
    "duration": 18,
    "start_time": "2022-03-27T15:24:39.452Z"
   },
   {
    "duration": 16,
    "start_time": "2022-03-27T15:24:39.473Z"
   },
   {
    "duration": 9,
    "start_time": "2022-03-27T15:24:39.493Z"
   },
   {
    "duration": 7,
    "start_time": "2022-03-27T15:24:39.504Z"
   },
   {
    "duration": 1516,
    "start_time": "2022-03-27T15:24:39.514Z"
   },
   {
    "duration": 33192,
    "start_time": "2022-03-27T15:24:41.033Z"
   },
   {
    "duration": 59,
    "start_time": "2022-03-27T15:25:14.227Z"
   },
   {
    "duration": 15,
    "start_time": "2022-03-27T15:25:14.289Z"
   },
   {
    "duration": 15,
    "start_time": "2022-03-27T15:25:28.912Z"
   },
   {
    "duration": 14,
    "start_time": "2022-03-27T15:25:32.208Z"
   },
   {
    "duration": 149,
    "start_time": "2022-03-27T15:32:22.759Z"
   },
   {
    "duration": 39,
    "start_time": "2022-03-27T15:32:38.391Z"
   },
   {
    "duration": 1449,
    "start_time": "2022-03-27T15:35:25.094Z"
   },
   {
    "duration": 46,
    "start_time": "2022-03-27T15:35:26.546Z"
   },
   {
    "duration": 7,
    "start_time": "2022-03-27T15:35:26.594Z"
   },
   {
    "duration": 9,
    "start_time": "2022-03-27T15:35:26.603Z"
   },
   {
    "duration": 6,
    "start_time": "2022-03-27T15:35:26.615Z"
   },
   {
    "duration": 5,
    "start_time": "2022-03-27T15:35:26.624Z"
   },
   {
    "duration": 1037,
    "start_time": "2022-03-27T15:35:26.631Z"
   },
   {
    "duration": 191346,
    "start_time": "2022-03-27T15:35:27.671Z"
   },
   {
    "duration": 59,
    "start_time": "2022-03-27T15:38:39.019Z"
   },
   {
    "duration": 13,
    "start_time": "2022-03-27T15:38:39.080Z"
   },
   {
    "duration": 38,
    "start_time": "2022-03-27T15:38:39.095Z"
   },
   {
    "duration": 73,
    "start_time": "2022-03-27T15:38:39.135Z"
   },
   {
    "duration": 97,
    "start_time": "2022-03-27T15:39:53.999Z"
   },
   {
    "duration": 1508,
    "start_time": "2022-03-27T15:46:16.853Z"
   },
   {
    "duration": 46,
    "start_time": "2022-03-27T15:46:18.363Z"
   },
   {
    "duration": 8,
    "start_time": "2022-03-27T15:46:18.412Z"
   },
   {
    "duration": 8,
    "start_time": "2022-03-27T15:46:18.423Z"
   },
   {
    "duration": 7,
    "start_time": "2022-03-27T15:46:18.434Z"
   },
   {
    "duration": 5,
    "start_time": "2022-03-27T15:46:18.469Z"
   },
   {
    "duration": 1365,
    "start_time": "2022-03-27T15:46:18.477Z"
   },
   {
    "duration": 271823,
    "start_time": "2022-03-27T15:46:19.844Z"
   },
   {
    "duration": 53,
    "start_time": "2022-03-27T15:50:51.670Z"
   },
   {
    "duration": 42,
    "start_time": "2022-03-27T15:50:51.728Z"
   },
   {
    "duration": 189,
    "start_time": "2022-03-27T15:50:51.773Z"
   },
   {
    "duration": 54,
    "start_time": "2022-03-27T15:50:51.969Z"
   },
   {
    "duration": 242,
    "start_time": "2022-03-27T15:51:30.259Z"
   },
   {
    "duration": 1816,
    "start_time": "2022-03-27T17:34:29.358Z"
   },
   {
    "duration": 197,
    "start_time": "2022-03-27T17:34:56.266Z"
   },
   {
    "duration": 194,
    "start_time": "2022-03-27T17:35:33.154Z"
   },
   {
    "duration": 208,
    "start_time": "2022-03-27T17:36:28.019Z"
   },
   {
    "duration": 167,
    "start_time": "2022-03-27T17:37:25.805Z"
   },
   {
    "duration": 17,
    "start_time": "2022-03-27T17:37:37.076Z"
   },
   {
    "duration": 13,
    "start_time": "2022-03-27T17:38:01.142Z"
   },
   {
    "duration": 4762,
    "start_time": "2022-03-27T17:38:05.341Z"
   },
   {
    "duration": 214,
    "start_time": "2022-03-27T17:38:23.806Z"
   },
   {
    "duration": 202,
    "start_time": "2022-03-27T17:39:43.064Z"
   },
   {
    "duration": 7,
    "start_time": "2022-03-27T17:39:47.762Z"
   },
   {
    "duration": 7,
    "start_time": "2022-03-27T17:40:06.715Z"
   },
   {
    "duration": 3462,
    "start_time": "2022-03-27T17:46:01.641Z"
   },
   {
    "duration": 3239,
    "start_time": "2022-03-27T17:51:22.595Z"
   },
   {
    "duration": 52,
    "start_time": "2022-03-27T17:51:25.837Z"
   },
   {
    "duration": 7,
    "start_time": "2022-03-27T17:51:25.891Z"
   },
   {
    "duration": 15,
    "start_time": "2022-03-27T17:51:25.901Z"
   },
   {
    "duration": 13,
    "start_time": "2022-03-27T17:51:25.918Z"
   },
   {
    "duration": 15,
    "start_time": "2022-03-27T17:51:25.933Z"
   },
   {
    "duration": 1300,
    "start_time": "2022-03-27T17:51:25.950Z"
   },
   {
    "duration": 283779,
    "start_time": "2022-03-27T17:51:27.252Z"
   },
   {
    "duration": 58,
    "start_time": "2022-03-27T17:56:11.035Z"
   },
   {
    "duration": 16,
    "start_time": "2022-03-27T17:56:11.097Z"
   },
   {
    "duration": 251,
    "start_time": "2022-03-27T17:56:11.116Z"
   },
   {
    "duration": 51,
    "start_time": "2022-03-27T17:56:11.369Z"
   },
   {
    "duration": 5,
    "start_time": "2022-03-27T17:56:11.422Z"
   },
   {
    "duration": 102,
    "start_time": "2022-03-27T17:56:11.495Z"
   },
   {
    "duration": 116,
    "start_time": "2022-03-28T17:42:53.841Z"
   },
   {
    "duration": 5823,
    "start_time": "2022-03-28T17:43:14.551Z"
   },
   {
    "duration": 57,
    "start_time": "2022-03-28T17:43:20.378Z"
   },
   {
    "duration": 7,
    "start_time": "2022-03-28T17:43:20.437Z"
   },
   {
    "duration": 6,
    "start_time": "2022-03-28T17:43:20.446Z"
   },
   {
    "duration": 9,
    "start_time": "2022-03-28T17:43:20.455Z"
   },
   {
    "duration": 9,
    "start_time": "2022-03-28T17:43:20.466Z"
   },
   {
    "duration": 1332,
    "start_time": "2022-03-28T17:43:20.477Z"
   },
   {
    "duration": 80971,
    "start_time": "2022-03-28T17:43:21.811Z"
   },
   {
    "duration": 0,
    "start_time": "2022-03-28T17:44:42.785Z"
   },
   {
    "duration": 0,
    "start_time": "2022-03-28T17:44:42.787Z"
   },
   {
    "duration": 0,
    "start_time": "2022-03-28T17:44:42.788Z"
   },
   {
    "duration": 0,
    "start_time": "2022-03-28T17:44:42.790Z"
   },
   {
    "duration": 0,
    "start_time": "2022-03-28T17:44:42.793Z"
   },
   {
    "duration": 0,
    "start_time": "2022-03-28T17:44:42.794Z"
   },
   {
    "duration": 0,
    "start_time": "2022-03-28T17:44:42.796Z"
   },
   {
    "duration": 13,
    "start_time": "2022-03-28T17:45:17.964Z"
   },
   {
    "duration": 405,
    "start_time": "2022-03-28T17:46:08.667Z"
   },
   {
    "duration": 423,
    "start_time": "2022-03-28T17:46:32.552Z"
   },
   {
    "duration": 4434,
    "start_time": "2022-09-09T13:44:39.208Z"
   },
   {
    "duration": 93,
    "start_time": "2022-09-09T13:44:43.645Z"
   },
   {
    "duration": 5,
    "start_time": "2022-09-09T13:44:43.739Z"
   },
   {
    "duration": 6,
    "start_time": "2022-09-09T13:44:43.746Z"
   },
   {
    "duration": 9,
    "start_time": "2022-09-09T13:44:43.754Z"
   },
   {
    "duration": 22,
    "start_time": "2022-09-09T13:44:43.764Z"
   },
   {
    "duration": 1031,
    "start_time": "2022-09-09T13:44:43.789Z"
   },
   {
    "duration": 170930,
    "start_time": "2022-09-09T13:44:44.822Z"
   },
   {
    "duration": 36,
    "start_time": "2022-09-09T13:47:35.753Z"
   },
   {
    "duration": 11,
    "start_time": "2022-09-09T13:47:35.791Z"
   },
   {
    "duration": 142,
    "start_time": "2022-09-09T13:47:35.803Z"
   },
   {
    "duration": 33,
    "start_time": "2022-09-09T13:47:35.947Z"
   },
   {
    "duration": 5,
    "start_time": "2022-09-09T13:47:35.982Z"
   },
   {
    "duration": 52,
    "start_time": "2022-09-09T13:47:35.988Z"
   },
   {
    "duration": 320,
    "start_time": "2022-09-09T13:47:36.042Z"
   }
  ],
  "kernelspec": {
   "display_name": "Python 3 (ipykernel)",
   "language": "python",
   "name": "python3"
  },
  "language_info": {
   "codemirror_mode": {
    "name": "ipython",
    "version": 3
   },
   "file_extension": ".py",
   "mimetype": "text/x-python",
   "name": "python",
   "nbconvert_exporter": "python",
   "pygments_lexer": "ipython3",
   "version": "3.9.12"
  },
  "toc": {
   "base_numbering": 1,
   "nav_menu": {},
   "number_sections": true,
   "sideBar": true,
   "skip_h1_title": true,
   "title_cell": "Table of Contents",
   "title_sidebar": "Contents",
   "toc_cell": false,
   "toc_position": {},
   "toc_section_display": true,
   "toc_window_display": false
  }
 },
 "nbformat": 4,
 "nbformat_minor": 2
}
