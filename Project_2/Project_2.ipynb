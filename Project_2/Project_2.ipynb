{
 "cells": [
  {
   "cell_type": "markdown",
   "metadata": {
    "cellId": "t1c4wam07doj74fhz2vfr"
   },
   "source": [
    "# Исследование надёжности заёмщиков\n",
    "\n",
    "Заказчик — кредитный отдел банка. Нужно разобраться, влияет ли семейное положение и количество детей клиента на факт погашения кредита в срок. Входные данные от банка — статистика о платёжеспособности клиентов.\n",
    "\n",
    "Результаты исследования будут учтены при построении модели **кредитного скоринга** — специальной системы, которая оценивает способность потенциального заёмщика вернуть кредит банку.\n",
    "\n",
    "Столбцы в таблице обозначают:\n",
    "\n",
    "* children — количество детей в семье\n",
    "* days_employed — общий трудовой стаж в днях\n",
    "* dob_years — возраст клиента в годах\n",
    "* education — уровень образования клиента\n",
    "* education_id — идентификатор уровня образования\n",
    "* family_status — семейное положение\n",
    "* family_status_id — идентификатор семейного положения\n",
    "* gender — пол клиента\n",
    "* income_type — тип занятости\n",
    "* debt — имел ли задолженность по возврату кредитов\n",
    "* total_income — ежемесячный доход\n",
    "* purpose — цель получения кредита\n",
    "\n",
    "В рамках проекта на предстоит решить несколько подзадач, такие как:\n",
    "* открыть и изучить входные данные\n",
    "* преодбработать данные, удалив пропуски, заменив типы данных, обрабоботать повторы и сделать ламметизацию\n",
    "* провести категоризацию данных\n",
    "* ответить на несколько вопросов, описанных выше\n",
    "* написать общий вывод\n"
   ]
  },
  {
   "cell_type": "markdown",
   "metadata": {},
   "source": [
    "1. [Открытие данных](#1)\n",
    "2. [Предобработка данных](#2)\n",
    "    * [Обработка пропущенных значения](#2.1)\n",
    "    * [Замена типов данных](#2.2)\n",
    "    * [Обработка дубликато](#2.3)\n",
    "    * [Лемматизация](#2.4)\n",
    "    * [Категоризация данных](#2.5)\n",
    "    \n",
    "3. [Ответы на вопросы](#3)\n",
    "4. [Общий вывод](#4)"
   ]
  },
  {
   "cell_type": "markdown",
   "metadata": {
    "cellId": "ixz0t4va3owtov3aml4ee"
   },
   "source": [
    "# Шаг 1. Откройте файл с данными и изучите общую информацию\n",
    "<a id=\"1\"></a>"
   ]
  },
  {
   "cell_type": "code",
   "execution_count": 207,
   "metadata": {},
   "outputs": [],
   "source": [
    "import pandas as pd #импортируем библиотеку pandas в pd\n",
    "from pymystem3 import Mystem #Одна из библиотек с функцией лемматизации на русском языке — pymystem3\n",
    "m = Mystem()"
   ]
  },
  {
   "cell_type": "code",
   "execution_count": 208,
   "metadata": {
    "cellId": "vyzf4lrmlio9cqmisyttbu",
    "scrolled": true
   },
   "outputs": [
    {
     "name": "stdout",
     "output_type": "stream",
     "text": [
      "<class 'pandas.core.frame.DataFrame'>\n",
      "RangeIndex: 21525 entries, 0 to 21524\n",
      "Data columns (total 12 columns):\n",
      "children            21525 non-null int64\n",
      "days_employed       19351 non-null float64\n",
      "dob_years           21525 non-null int64\n",
      "education           21525 non-null object\n",
      "education_id        21525 non-null int64\n",
      "family_status       21525 non-null object\n",
      "family_status_id    21525 non-null int64\n",
      "gender              21525 non-null object\n",
      "income_type         21525 non-null object\n",
      "debt                21525 non-null int64\n",
      "total_income        19351 non-null float64\n",
      "purpose             21525 non-null object\n",
      "dtypes: float64(2), int64(5), object(5)\n",
      "memory usage: 2.0+ MB\n"
     ]
    },
    {
     "data": {
      "text/html": [
       "<div>\n",
       "<style scoped>\n",
       "    .dataframe tbody tr th:only-of-type {\n",
       "        vertical-align: middle;\n",
       "    }\n",
       "\n",
       "    .dataframe tbody tr th {\n",
       "        vertical-align: top;\n",
       "    }\n",
       "\n",
       "    .dataframe thead th {\n",
       "        text-align: right;\n",
       "    }\n",
       "</style>\n",
       "<table border=\"1\" class=\"dataframe\">\n",
       "  <thead>\n",
       "    <tr style=\"text-align: right;\">\n",
       "      <th></th>\n",
       "      <th>children</th>\n",
       "      <th>days_employed</th>\n",
       "      <th>dob_years</th>\n",
       "      <th>education</th>\n",
       "      <th>education_id</th>\n",
       "      <th>family_status</th>\n",
       "      <th>family_status_id</th>\n",
       "      <th>gender</th>\n",
       "      <th>income_type</th>\n",
       "      <th>debt</th>\n",
       "      <th>total_income</th>\n",
       "      <th>purpose</th>\n",
       "    </tr>\n",
       "  </thead>\n",
       "  <tbody>\n",
       "    <tr>\n",
       "      <td>0</td>\n",
       "      <td>1</td>\n",
       "      <td>-8437.673028</td>\n",
       "      <td>42</td>\n",
       "      <td>высшее</td>\n",
       "      <td>0</td>\n",
       "      <td>женат / замужем</td>\n",
       "      <td>0</td>\n",
       "      <td>F</td>\n",
       "      <td>сотрудник</td>\n",
       "      <td>0</td>\n",
       "      <td>253875.639453</td>\n",
       "      <td>покупка жилья</td>\n",
       "    </tr>\n",
       "    <tr>\n",
       "      <td>1</td>\n",
       "      <td>1</td>\n",
       "      <td>-4024.803754</td>\n",
       "      <td>36</td>\n",
       "      <td>среднее</td>\n",
       "      <td>1</td>\n",
       "      <td>женат / замужем</td>\n",
       "      <td>0</td>\n",
       "      <td>F</td>\n",
       "      <td>сотрудник</td>\n",
       "      <td>0</td>\n",
       "      <td>112080.014102</td>\n",
       "      <td>приобретение автомобиля</td>\n",
       "    </tr>\n",
       "    <tr>\n",
       "      <td>2</td>\n",
       "      <td>0</td>\n",
       "      <td>-5623.422610</td>\n",
       "      <td>33</td>\n",
       "      <td>Среднее</td>\n",
       "      <td>1</td>\n",
       "      <td>женат / замужем</td>\n",
       "      <td>0</td>\n",
       "      <td>M</td>\n",
       "      <td>сотрудник</td>\n",
       "      <td>0</td>\n",
       "      <td>145885.952297</td>\n",
       "      <td>покупка жилья</td>\n",
       "    </tr>\n",
       "    <tr>\n",
       "      <td>3</td>\n",
       "      <td>3</td>\n",
       "      <td>-4124.747207</td>\n",
       "      <td>32</td>\n",
       "      <td>среднее</td>\n",
       "      <td>1</td>\n",
       "      <td>женат / замужем</td>\n",
       "      <td>0</td>\n",
       "      <td>M</td>\n",
       "      <td>сотрудник</td>\n",
       "      <td>0</td>\n",
       "      <td>267628.550329</td>\n",
       "      <td>дополнительное образование</td>\n",
       "    </tr>\n",
       "    <tr>\n",
       "      <td>4</td>\n",
       "      <td>0</td>\n",
       "      <td>340266.072047</td>\n",
       "      <td>53</td>\n",
       "      <td>среднее</td>\n",
       "      <td>1</td>\n",
       "      <td>гражданский брак</td>\n",
       "      <td>1</td>\n",
       "      <td>F</td>\n",
       "      <td>пенсионер</td>\n",
       "      <td>0</td>\n",
       "      <td>158616.077870</td>\n",
       "      <td>сыграть свадьбу</td>\n",
       "    </tr>\n",
       "    <tr>\n",
       "      <td>...</td>\n",
       "      <td>...</td>\n",
       "      <td>...</td>\n",
       "      <td>...</td>\n",
       "      <td>...</td>\n",
       "      <td>...</td>\n",
       "      <td>...</td>\n",
       "      <td>...</td>\n",
       "      <td>...</td>\n",
       "      <td>...</td>\n",
       "      <td>...</td>\n",
       "      <td>...</td>\n",
       "      <td>...</td>\n",
       "    </tr>\n",
       "    <tr>\n",
       "      <td>21520</td>\n",
       "      <td>1</td>\n",
       "      <td>-4529.316663</td>\n",
       "      <td>43</td>\n",
       "      <td>среднее</td>\n",
       "      <td>1</td>\n",
       "      <td>гражданский брак</td>\n",
       "      <td>1</td>\n",
       "      <td>F</td>\n",
       "      <td>компаньон</td>\n",
       "      <td>0</td>\n",
       "      <td>224791.862382</td>\n",
       "      <td>операции с жильем</td>\n",
       "    </tr>\n",
       "    <tr>\n",
       "      <td>21521</td>\n",
       "      <td>0</td>\n",
       "      <td>343937.404131</td>\n",
       "      <td>67</td>\n",
       "      <td>среднее</td>\n",
       "      <td>1</td>\n",
       "      <td>женат / замужем</td>\n",
       "      <td>0</td>\n",
       "      <td>F</td>\n",
       "      <td>пенсионер</td>\n",
       "      <td>0</td>\n",
       "      <td>155999.806512</td>\n",
       "      <td>сделка с автомобилем</td>\n",
       "    </tr>\n",
       "    <tr>\n",
       "      <td>21522</td>\n",
       "      <td>1</td>\n",
       "      <td>-2113.346888</td>\n",
       "      <td>38</td>\n",
       "      <td>среднее</td>\n",
       "      <td>1</td>\n",
       "      <td>гражданский брак</td>\n",
       "      <td>1</td>\n",
       "      <td>M</td>\n",
       "      <td>сотрудник</td>\n",
       "      <td>1</td>\n",
       "      <td>89672.561153</td>\n",
       "      <td>недвижимость</td>\n",
       "    </tr>\n",
       "    <tr>\n",
       "      <td>21523</td>\n",
       "      <td>3</td>\n",
       "      <td>-3112.481705</td>\n",
       "      <td>38</td>\n",
       "      <td>среднее</td>\n",
       "      <td>1</td>\n",
       "      <td>женат / замужем</td>\n",
       "      <td>0</td>\n",
       "      <td>M</td>\n",
       "      <td>сотрудник</td>\n",
       "      <td>1</td>\n",
       "      <td>244093.050500</td>\n",
       "      <td>на покупку своего автомобиля</td>\n",
       "    </tr>\n",
       "    <tr>\n",
       "      <td>21524</td>\n",
       "      <td>2</td>\n",
       "      <td>-1984.507589</td>\n",
       "      <td>40</td>\n",
       "      <td>среднее</td>\n",
       "      <td>1</td>\n",
       "      <td>женат / замужем</td>\n",
       "      <td>0</td>\n",
       "      <td>F</td>\n",
       "      <td>сотрудник</td>\n",
       "      <td>0</td>\n",
       "      <td>82047.418899</td>\n",
       "      <td>на покупку автомобиля</td>\n",
       "    </tr>\n",
       "  </tbody>\n",
       "</table>\n",
       "<p>21525 rows × 12 columns</p>\n",
       "</div>"
      ],
      "text/plain": [
       "       children  days_employed  dob_years education  education_id  \\\n",
       "0             1   -8437.673028         42    высшее             0   \n",
       "1             1   -4024.803754         36   среднее             1   \n",
       "2             0   -5623.422610         33   Среднее             1   \n",
       "3             3   -4124.747207         32   среднее             1   \n",
       "4             0  340266.072047         53   среднее             1   \n",
       "...         ...            ...        ...       ...           ...   \n",
       "21520         1   -4529.316663         43   среднее             1   \n",
       "21521         0  343937.404131         67   среднее             1   \n",
       "21522         1   -2113.346888         38   среднее             1   \n",
       "21523         3   -3112.481705         38   среднее             1   \n",
       "21524         2   -1984.507589         40   среднее             1   \n",
       "\n",
       "          family_status  family_status_id gender income_type  debt  \\\n",
       "0       женат / замужем                 0      F   сотрудник     0   \n",
       "1       женат / замужем                 0      F   сотрудник     0   \n",
       "2       женат / замужем                 0      M   сотрудник     0   \n",
       "3       женат / замужем                 0      M   сотрудник     0   \n",
       "4      гражданский брак                 1      F   пенсионер     0   \n",
       "...                 ...               ...    ...         ...   ...   \n",
       "21520  гражданский брак                 1      F   компаньон     0   \n",
       "21521   женат / замужем                 0      F   пенсионер     0   \n",
       "21522  гражданский брак                 1      M   сотрудник     1   \n",
       "21523   женат / замужем                 0      M   сотрудник     1   \n",
       "21524   женат / замужем                 0      F   сотрудник     0   \n",
       "\n",
       "        total_income                       purpose  \n",
       "0      253875.639453                 покупка жилья  \n",
       "1      112080.014102       приобретение автомобиля  \n",
       "2      145885.952297                 покупка жилья  \n",
       "3      267628.550329    дополнительное образование  \n",
       "4      158616.077870               сыграть свадьбу  \n",
       "...              ...                           ...  \n",
       "21520  224791.862382             операции с жильем  \n",
       "21521  155999.806512          сделка с автомобилем  \n",
       "21522   89672.561153                  недвижимость  \n",
       "21523  244093.050500  на покупку своего автомобиля  \n",
       "21524   82047.418899         на покупку автомобиля  \n",
       "\n",
       "[21525 rows x 12 columns]"
      ]
     },
     "metadata": {},
     "output_type": "display_data"
    },
    {
     "data": {
      "text/html": [
       "<div>\n",
       "<style scoped>\n",
       "    .dataframe tbody tr th:only-of-type {\n",
       "        vertical-align: middle;\n",
       "    }\n",
       "\n",
       "    .dataframe tbody tr th {\n",
       "        vertical-align: top;\n",
       "    }\n",
       "\n",
       "    .dataframe thead th {\n",
       "        text-align: right;\n",
       "    }\n",
       "</style>\n",
       "<table border=\"1\" class=\"dataframe\">\n",
       "  <thead>\n",
       "    <tr style=\"text-align: right;\">\n",
       "      <th></th>\n",
       "      <th>children</th>\n",
       "      <th>days_employed</th>\n",
       "      <th>dob_years</th>\n",
       "      <th>education</th>\n",
       "      <th>education_id</th>\n",
       "      <th>family_status</th>\n",
       "      <th>family_status_id</th>\n",
       "      <th>gender</th>\n",
       "      <th>income_type</th>\n",
       "      <th>debt</th>\n",
       "      <th>total_income</th>\n",
       "      <th>purpose</th>\n",
       "    </tr>\n",
       "  </thead>\n",
       "  <tbody>\n",
       "    <tr>\n",
       "      <td>4060</td>\n",
       "      <td>0</td>\n",
       "      <td>339221.668471</td>\n",
       "      <td>52</td>\n",
       "      <td>среднее</td>\n",
       "      <td>1</td>\n",
       "      <td>Не женат / не замужем</td>\n",
       "      <td>4</td>\n",
       "      <td>F</td>\n",
       "      <td>пенсионер</td>\n",
       "      <td>0</td>\n",
       "      <td>118599.872418</td>\n",
       "      <td>получение образования</td>\n",
       "    </tr>\n",
       "  </tbody>\n",
       "</table>\n",
       "</div>"
      ],
      "text/plain": [
       "      children  days_employed  dob_years education  education_id  \\\n",
       "4060         0  339221.668471         52   среднее             1   \n",
       "\n",
       "              family_status  family_status_id gender income_type  debt  \\\n",
       "4060  Не женат / не замужем                 4      F   пенсионер     0   \n",
       "\n",
       "       total_income                purpose  \n",
       "4060  118599.872418  получение образования  "
      ]
     },
     "execution_count": 208,
     "metadata": {},
     "output_type": "execute_result"
    }
   ],
   "source": [
    "import pandas as pd #импортируем библиотеку pandas в pd\n",
    "data = pd.read_csv(\"/datasets/data.csv\") #читаем файл \n",
    "data.info() #открываем информацию по файлу\n",
    "display(data) #выведем на экран таблицу функцией display(), чтобы просмотреть значения в таблиц\n",
    "data.tail() #последние 5 строк\n",
    "data.sample() #случайная строка"
   ]
  },
  {
   "cell_type": "markdown",
   "metadata": {
    "cellId": "11ae1fy077kqxh6o64vjyn"
   },
   "source": [
    "# Шаг 2. Предобработка данных \n",
    "<a id=\"2\"></a>"
   ]
  },
  {
   "cell_type": "markdown",
   "metadata": {
    "cellId": "ep7cnjxidzfv2mcg2toy8"
   },
   "source": [
    "### Обработка пропусков\n",
    "<a id=\"2.1\"></a>"
   ]
  },
  {
   "cell_type": "code",
   "execution_count": 209,
   "metadata": {
    "cellId": "vlcojdphchgz45qr4s4eai"
   },
   "outputs": [
    {
     "data": {
      "text/plain": [
       "children               0\n",
       "days_employed       2174\n",
       "dob_years              0\n",
       "education              0\n",
       "education_id           0\n",
       "family_status          0\n",
       "family_status_id       0\n",
       "gender                 0\n",
       "income_type            0\n",
       "debt                   0\n",
       "total_income        2174\n",
       "purpose                0\n",
       "dtype: int64"
      ]
     },
     "execution_count": 209,
     "metadata": {},
     "output_type": "execute_result"
    }
   ],
   "source": [
    "data.isna().sum() # проверяем таблицу на пропуски"
   ]
  },
  {
   "cell_type": "markdown",
   "metadata": {
    "cellId": "x761m4vuor9m5p4yekdrv"
   },
   "source": [
    "* Таким образом в двух столбцах, у нас пропущенные значения, поэтому заменим Nan на среднее значение выборки в столбце days_employed(потому что разброс данных велик)  и медиану(потому что для зарплаты целесообразнее использовать медиану) для total_income. \n",
    "* Проверку результата произведем, оторбразив уникальные значения столбца\n",
    "* Уже на данном этапе становится понятно, что этот столбец не нужен будет в ходе решения, но для обработки пропусков необходимо это сделать."
   ]
  },
  {
   "cell_type": "code",
   "execution_count": 210,
   "metadata": {
    "cellId": "ee09w4a9ihto80gky22zs"
   },
   "outputs": [
    {
     "data": {
      "text/plain": [
       " 63046.497661    2174\n",
       "-986.927316         1\n",
       "-4236.274243        1\n",
       "-1238.560080        1\n",
       "-3047.519891        1\n",
       "                 ... \n",
       "-2849.351119        1\n",
       "-5619.328204        1\n",
       "-448.829898         1\n",
       "-1687.038672        1\n",
       "-582.538413         1\n",
       "Name: days_employed, Length: 19352, dtype: int64"
      ]
     },
     "execution_count": 210,
     "metadata": {},
     "output_type": "execute_result"
    }
   ],
   "source": [
    "data[\"days_employed\"] = data[\"days_employed\"].fillna(data[\"days_employed\"].mean()) # заменим пропуски на среднее значение в данном столбце\n",
    "data[\"days_employed\"].value_counts() #выведем уникальные значения и сгруппируем "
   ]
  },
  {
   "cell_type": "code",
   "execution_count": 211,
   "metadata": {
    "cellId": "89theka0saukh1f7i1m9y"
   },
   "outputs": [
    {
     "data": {
      "text/plain": [
       "145017.937533    2175\n",
       "112874.418757       1\n",
       "104381.857170       1\n",
       "182036.676828       1\n",
       "122421.963500       1\n",
       "                 ... \n",
       "133299.194693       1\n",
       "115080.782380       1\n",
       "84896.781597        1\n",
       "153838.839212       1\n",
       "150014.128510       1\n",
       "Name: total_income, Length: 19351, dtype: int64"
      ]
     },
     "execution_count": 211,
     "metadata": {},
     "output_type": "execute_result"
    }
   ],
   "source": [
    "data[\"total_income\"] = data[\"total_income\"].fillna(data[\"total_income\"].median()) # заменим пропуски на медиану в столбце с зарплатой \n",
    "data[\"total_income\"].value_counts() #выведем уникальные значения и сгруппируем"
   ]
  },
  {
   "cell_type": "code",
   "execution_count": 212,
   "metadata": {
    "cellId": "sgpzi0l9tvjuhb5o5tmvvj"
   },
   "outputs": [
    {
     "data": {
      "text/plain": [
       "children            0\n",
       "days_employed       0\n",
       "dob_years           0\n",
       "education           0\n",
       "education_id        0\n",
       "family_status       0\n",
       "family_status_id    0\n",
       "gender              0\n",
       "income_type         0\n",
       "debt                0\n",
       "total_income        0\n",
       "purpose             0\n",
       "dtype: int64"
      ]
     },
     "execution_count": 212,
     "metadata": {},
     "output_type": "execute_result"
    }
   ],
   "source": [
    "data.isna().sum() # проверяем таблицу на пропуски"
   ]
  },
  {
   "cell_type": "markdown",
   "metadata": {
    "cellId": "8ulzya4zv09jnz1xvnml5l"
   },
   "source": [
    "### Замена типа данных\n",
    "<a id=\"2.2\"></a>"
   ]
  },
  {
   "cell_type": "markdown",
   "metadata": {
    "cellId": "l7ey840iovnauvnis9zo"
   },
   "source": [
    "Приведем days_employed и total_income к типу int"
   ]
  },
  {
   "cell_type": "code",
   "execution_count": 213,
   "metadata": {
    "cellId": "4butrepg3byz3mzzev09de"
   },
   "outputs": [
    {
     "name": "stdout",
     "output_type": "stream",
     "text": [
      "<class 'pandas.core.frame.DataFrame'>\n",
      "RangeIndex: 21525 entries, 0 to 21524\n",
      "Data columns (total 12 columns):\n",
      "children            21525 non-null int64\n",
      "days_employed       21525 non-null int64\n",
      "dob_years           21525 non-null int64\n",
      "education           21525 non-null object\n",
      "education_id        21525 non-null int64\n",
      "family_status       21525 non-null object\n",
      "family_status_id    21525 non-null int64\n",
      "gender              21525 non-null object\n",
      "income_type         21525 non-null object\n",
      "debt                21525 non-null int64\n",
      "total_income        21525 non-null int64\n",
      "purpose             21525 non-null object\n",
      "dtypes: int64(7), object(5)\n",
      "memory usage: 2.0+ MB\n"
     ]
    }
   ],
   "source": [
    "data[\"days_employed\"] =  data[\"days_employed\"].astype(int) # перевод типа float к int методом astype(), который оптимален для этого действия\n",
    "data['total_income'] = data['total_income'].astype(int) #приведем аналогичное действие к эжемесечной зарплате, так будет репрезентативнее\n",
    "data.info()"
   ]
  },
  {
   "cell_type": "code",
   "execution_count": 214,
   "metadata": {},
   "outputs": [
    {
     "name": "stdout",
     "output_type": "stream",
     "text": [
      "<class 'pandas.core.frame.DataFrame'>\n",
      "RangeIndex: 21525 entries, 0 to 21524\n",
      "Data columns (total 12 columns):\n",
      "children            21525 non-null int64\n",
      "days_employed       21525 non-null int64\n",
      "dob_years           21525 non-null int64\n",
      "education           21525 non-null object\n",
      "education_id        21525 non-null bool\n",
      "family_status       21525 non-null object\n",
      "family_status_id    21525 non-null bool\n",
      "gender              21525 non-null object\n",
      "income_type         21525 non-null object\n",
      "debt                21525 non-null int64\n",
      "total_income        21525 non-null int64\n",
      "purpose             21525 non-null object\n",
      "dtypes: bool(2), int64(5), object(5)\n",
      "memory usage: 1.7+ MB\n"
     ]
    }
   ],
   "source": [
    "data[\"family_status_id\"] =  data[\"family_status_id\"].astype(\"int8\") # перевод типа int64 к int8 методом astype(), который сэкономит память\n",
    "data[\"education_id\"] =  data[\"education_id\"].astype(\"int8\") #аналогично\n",
    "data[\"education_id\"] =  data[\"education_id\"].astype(\"bool\")\n",
    "data[\"family_status_id\"] =  data[\"family_status_id\"].astype(\"bool\")\n",
    "data.info()"
   ]
  },
  {
   "cell_type": "markdown",
   "metadata": {
    "cellId": "gayh0a38d99ozstr6jw8el"
   },
   "source": [
    "Таким образом, мы days_employed приведен в целочисленный тип данных\n",
    "Однако, по моему мнению, данный столбец несущественен в решении данной задачи, в связи с тем, что он заполнен ошибочными данными, которые не влияют на результаты других столбцов, его значения очень странные, стоило бы в реальной жизни запросить данные еще, вдруг произошла техническая ошибка, к тому же максимальное значение столбца, по модулю, не выглядит адекватным"
   ]
  },
  {
   "cell_type": "code",
   "execution_count": 215,
   "metadata": {
    "cellId": "tgq435y6ijrd118746a2rl"
   },
   "outputs": [
    {
     "data": {
      "text/plain": [
       "1100.6986301369864"
      ]
     },
     "execution_count": 215,
     "metadata": {},
     "output_type": "execute_result"
    }
   ],
   "source": [
    "days_employed_max = data[\"days_employed\"].max()\n",
    "days_employed_max_uear = days_employed_max/365\n",
    "days_employed_max_uear"
   ]
  },
  {
   "cell_type": "markdown",
   "metadata": {
    "cellId": "2gbm7xv9ojo0u6pq9zvg7bl"
   },
   "source": [
    "1100 лет?????? Удалим данный столбец."
   ]
  },
  {
   "cell_type": "code",
   "execution_count": 216,
   "metadata": {
    "cellId": "4oxfk0a0au1cyfyfti4mn"
   },
   "outputs": [
    {
     "data": {
      "text/html": [
       "<div>\n",
       "<style scoped>\n",
       "    .dataframe tbody tr th:only-of-type {\n",
       "        vertical-align: middle;\n",
       "    }\n",
       "\n",
       "    .dataframe tbody tr th {\n",
       "        vertical-align: top;\n",
       "    }\n",
       "\n",
       "    .dataframe thead th {\n",
       "        text-align: right;\n",
       "    }\n",
       "</style>\n",
       "<table border=\"1\" class=\"dataframe\">\n",
       "  <thead>\n",
       "    <tr style=\"text-align: right;\">\n",
       "      <th></th>\n",
       "      <th>children</th>\n",
       "      <th>dob_years</th>\n",
       "      <th>education</th>\n",
       "      <th>education_id</th>\n",
       "      <th>family_status</th>\n",
       "      <th>family_status_id</th>\n",
       "      <th>gender</th>\n",
       "      <th>income_type</th>\n",
       "      <th>debt</th>\n",
       "      <th>total_income</th>\n",
       "      <th>purpose</th>\n",
       "    </tr>\n",
       "  </thead>\n",
       "  <tbody>\n",
       "    <tr>\n",
       "      <td>0</td>\n",
       "      <td>1</td>\n",
       "      <td>42</td>\n",
       "      <td>высшее</td>\n",
       "      <td>False</td>\n",
       "      <td>женат / замужем</td>\n",
       "      <td>False</td>\n",
       "      <td>F</td>\n",
       "      <td>сотрудник</td>\n",
       "      <td>0</td>\n",
       "      <td>253875</td>\n",
       "      <td>покупка жилья</td>\n",
       "    </tr>\n",
       "    <tr>\n",
       "      <td>1</td>\n",
       "      <td>1</td>\n",
       "      <td>36</td>\n",
       "      <td>среднее</td>\n",
       "      <td>True</td>\n",
       "      <td>женат / замужем</td>\n",
       "      <td>False</td>\n",
       "      <td>F</td>\n",
       "      <td>сотрудник</td>\n",
       "      <td>0</td>\n",
       "      <td>112080</td>\n",
       "      <td>приобретение автомобиля</td>\n",
       "    </tr>\n",
       "    <tr>\n",
       "      <td>2</td>\n",
       "      <td>0</td>\n",
       "      <td>33</td>\n",
       "      <td>Среднее</td>\n",
       "      <td>True</td>\n",
       "      <td>женат / замужем</td>\n",
       "      <td>False</td>\n",
       "      <td>M</td>\n",
       "      <td>сотрудник</td>\n",
       "      <td>0</td>\n",
       "      <td>145885</td>\n",
       "      <td>покупка жилья</td>\n",
       "    </tr>\n",
       "    <tr>\n",
       "      <td>3</td>\n",
       "      <td>3</td>\n",
       "      <td>32</td>\n",
       "      <td>среднее</td>\n",
       "      <td>True</td>\n",
       "      <td>женат / замужем</td>\n",
       "      <td>False</td>\n",
       "      <td>M</td>\n",
       "      <td>сотрудник</td>\n",
       "      <td>0</td>\n",
       "      <td>267628</td>\n",
       "      <td>дополнительное образование</td>\n",
       "    </tr>\n",
       "    <tr>\n",
       "      <td>4</td>\n",
       "      <td>0</td>\n",
       "      <td>53</td>\n",
       "      <td>среднее</td>\n",
       "      <td>True</td>\n",
       "      <td>гражданский брак</td>\n",
       "      <td>True</td>\n",
       "      <td>F</td>\n",
       "      <td>пенсионер</td>\n",
       "      <td>0</td>\n",
       "      <td>158616</td>\n",
       "      <td>сыграть свадьбу</td>\n",
       "    </tr>\n",
       "    <tr>\n",
       "      <td>...</td>\n",
       "      <td>...</td>\n",
       "      <td>...</td>\n",
       "      <td>...</td>\n",
       "      <td>...</td>\n",
       "      <td>...</td>\n",
       "      <td>...</td>\n",
       "      <td>...</td>\n",
       "      <td>...</td>\n",
       "      <td>...</td>\n",
       "      <td>...</td>\n",
       "      <td>...</td>\n",
       "    </tr>\n",
       "    <tr>\n",
       "      <td>21520</td>\n",
       "      <td>1</td>\n",
       "      <td>43</td>\n",
       "      <td>среднее</td>\n",
       "      <td>True</td>\n",
       "      <td>гражданский брак</td>\n",
       "      <td>True</td>\n",
       "      <td>F</td>\n",
       "      <td>компаньон</td>\n",
       "      <td>0</td>\n",
       "      <td>224791</td>\n",
       "      <td>операции с жильем</td>\n",
       "    </tr>\n",
       "    <tr>\n",
       "      <td>21521</td>\n",
       "      <td>0</td>\n",
       "      <td>67</td>\n",
       "      <td>среднее</td>\n",
       "      <td>True</td>\n",
       "      <td>женат / замужем</td>\n",
       "      <td>False</td>\n",
       "      <td>F</td>\n",
       "      <td>пенсионер</td>\n",
       "      <td>0</td>\n",
       "      <td>155999</td>\n",
       "      <td>сделка с автомобилем</td>\n",
       "    </tr>\n",
       "    <tr>\n",
       "      <td>21522</td>\n",
       "      <td>1</td>\n",
       "      <td>38</td>\n",
       "      <td>среднее</td>\n",
       "      <td>True</td>\n",
       "      <td>гражданский брак</td>\n",
       "      <td>True</td>\n",
       "      <td>M</td>\n",
       "      <td>сотрудник</td>\n",
       "      <td>1</td>\n",
       "      <td>89672</td>\n",
       "      <td>недвижимость</td>\n",
       "    </tr>\n",
       "    <tr>\n",
       "      <td>21523</td>\n",
       "      <td>3</td>\n",
       "      <td>38</td>\n",
       "      <td>среднее</td>\n",
       "      <td>True</td>\n",
       "      <td>женат / замужем</td>\n",
       "      <td>False</td>\n",
       "      <td>M</td>\n",
       "      <td>сотрудник</td>\n",
       "      <td>1</td>\n",
       "      <td>244093</td>\n",
       "      <td>на покупку своего автомобиля</td>\n",
       "    </tr>\n",
       "    <tr>\n",
       "      <td>21524</td>\n",
       "      <td>2</td>\n",
       "      <td>40</td>\n",
       "      <td>среднее</td>\n",
       "      <td>True</td>\n",
       "      <td>женат / замужем</td>\n",
       "      <td>False</td>\n",
       "      <td>F</td>\n",
       "      <td>сотрудник</td>\n",
       "      <td>0</td>\n",
       "      <td>82047</td>\n",
       "      <td>на покупку автомобиля</td>\n",
       "    </tr>\n",
       "  </tbody>\n",
       "</table>\n",
       "<p>21525 rows × 11 columns</p>\n",
       "</div>"
      ],
      "text/plain": [
       "       children  dob_years education  education_id     family_status  \\\n",
       "0             1         42    высшее         False   женат / замужем   \n",
       "1             1         36   среднее          True   женат / замужем   \n",
       "2             0         33   Среднее          True   женат / замужем   \n",
       "3             3         32   среднее          True   женат / замужем   \n",
       "4             0         53   среднее          True  гражданский брак   \n",
       "...         ...        ...       ...           ...               ...   \n",
       "21520         1         43   среднее          True  гражданский брак   \n",
       "21521         0         67   среднее          True   женат / замужем   \n",
       "21522         1         38   среднее          True  гражданский брак   \n",
       "21523         3         38   среднее          True   женат / замужем   \n",
       "21524         2         40   среднее          True   женат / замужем   \n",
       "\n",
       "       family_status_id gender income_type  debt  total_income  \\\n",
       "0                 False      F   сотрудник     0        253875   \n",
       "1                 False      F   сотрудник     0        112080   \n",
       "2                 False      M   сотрудник     0        145885   \n",
       "3                 False      M   сотрудник     0        267628   \n",
       "4                  True      F   пенсионер     0        158616   \n",
       "...                 ...    ...         ...   ...           ...   \n",
       "21520              True      F   компаньон     0        224791   \n",
       "21521             False      F   пенсионер     0        155999   \n",
       "21522              True      M   сотрудник     1         89672   \n",
       "21523             False      M   сотрудник     1        244093   \n",
       "21524             False      F   сотрудник     0         82047   \n",
       "\n",
       "                            purpose  \n",
       "0                     покупка жилья  \n",
       "1           приобретение автомобиля  \n",
       "2                     покупка жилья  \n",
       "3        дополнительное образование  \n",
       "4                   сыграть свадьбу  \n",
       "...                             ...  \n",
       "21520             операции с жильем  \n",
       "21521          сделка с автомобилем  \n",
       "21522                  недвижимость  \n",
       "21523  на покупку своего автомобиля  \n",
       "21524         на покупку автомобиля  \n",
       "\n",
       "[21525 rows x 11 columns]"
      ]
     },
     "execution_count": 216,
     "metadata": {},
     "output_type": "execute_result"
    }
   ],
   "source": [
    "data = data.drop([\"days_employed\"],  axis=1) # применим метод dpop, в качестве аргумента название столбца, axis=1 - параметр удаление столбца)\n",
    "data #выведем на экран"
   ]
  },
  {
   "cell_type": "markdown",
   "metadata": {
    "cellId": "np2nm19gdoeu0mvchlt8rj"
   },
   "source": [
    "Таблица выше, показывает, что изменение типа произошло успешно, как и удаление столбца days_employed"
   ]
  },
  {
   "cell_type": "markdown",
   "metadata": {
    "cellId": "2ijuarlxmh53jw5inc9miy"
   },
   "source": [
    "### Обработка дубликатов\n",
    "<a id=\"2.3\"></a>"
   ]
  },
  {
   "cell_type": "markdown",
   "metadata": {
    "cellId": "9e2101xrntp8t04cgm09px"
   },
   "source": [
    "**Вывод**"
   ]
  },
  {
   "cell_type": "markdown",
   "metadata": {
    "cellId": "ok1jmzuj9esmgz9ee4uy"
   },
   "source": []
  },
  {
   "cell_type": "code",
   "execution_count": 217,
   "metadata": {
    "cellId": "jvr15igsnjsna1bj5bdb3l"
   },
   "outputs": [
    {
     "data": {
      "text/html": [
       "<div>\n",
       "<style scoped>\n",
       "    .dataframe tbody tr th:only-of-type {\n",
       "        vertical-align: middle;\n",
       "    }\n",
       "\n",
       "    .dataframe tbody tr th {\n",
       "        vertical-align: top;\n",
       "    }\n",
       "\n",
       "    .dataframe thead th {\n",
       "        text-align: right;\n",
       "    }\n",
       "</style>\n",
       "<table border=\"1\" class=\"dataframe\">\n",
       "  <thead>\n",
       "    <tr style=\"text-align: right;\">\n",
       "      <th></th>\n",
       "      <th>children</th>\n",
       "      <th>dob_years</th>\n",
       "      <th>education</th>\n",
       "      <th>education_id</th>\n",
       "      <th>family_status</th>\n",
       "      <th>family_status_id</th>\n",
       "      <th>gender</th>\n",
       "      <th>income_type</th>\n",
       "      <th>debt</th>\n",
       "      <th>total_income</th>\n",
       "      <th>purpose</th>\n",
       "    </tr>\n",
       "  </thead>\n",
       "  <tbody>\n",
       "    <tr>\n",
       "      <td>2849</td>\n",
       "      <td>0</td>\n",
       "      <td>41</td>\n",
       "      <td>среднее</td>\n",
       "      <td>True</td>\n",
       "      <td>женат / замужем</td>\n",
       "      <td>False</td>\n",
       "      <td>F</td>\n",
       "      <td>сотрудник</td>\n",
       "      <td>0</td>\n",
       "      <td>145017</td>\n",
       "      <td>покупка жилья для семьи</td>\n",
       "    </tr>\n",
       "    <tr>\n",
       "      <td>4182</td>\n",
       "      <td>1</td>\n",
       "      <td>34</td>\n",
       "      <td>ВЫСШЕЕ</td>\n",
       "      <td>False</td>\n",
       "      <td>гражданский брак</td>\n",
       "      <td>True</td>\n",
       "      <td>F</td>\n",
       "      <td>сотрудник</td>\n",
       "      <td>0</td>\n",
       "      <td>145017</td>\n",
       "      <td>свадьба</td>\n",
       "    </tr>\n",
       "    <tr>\n",
       "      <td>4851</td>\n",
       "      <td>0</td>\n",
       "      <td>60</td>\n",
       "      <td>среднее</td>\n",
       "      <td>True</td>\n",
       "      <td>гражданский брак</td>\n",
       "      <td>True</td>\n",
       "      <td>F</td>\n",
       "      <td>пенсионер</td>\n",
       "      <td>0</td>\n",
       "      <td>145017</td>\n",
       "      <td>свадьба</td>\n",
       "    </tr>\n",
       "    <tr>\n",
       "      <td>5557</td>\n",
       "      <td>0</td>\n",
       "      <td>58</td>\n",
       "      <td>среднее</td>\n",
       "      <td>True</td>\n",
       "      <td>гражданский брак</td>\n",
       "      <td>True</td>\n",
       "      <td>F</td>\n",
       "      <td>пенсионер</td>\n",
       "      <td>0</td>\n",
       "      <td>145017</td>\n",
       "      <td>сыграть свадьбу</td>\n",
       "    </tr>\n",
       "    <tr>\n",
       "      <td>7808</td>\n",
       "      <td>0</td>\n",
       "      <td>57</td>\n",
       "      <td>среднее</td>\n",
       "      <td>True</td>\n",
       "      <td>гражданский брак</td>\n",
       "      <td>True</td>\n",
       "      <td>F</td>\n",
       "      <td>пенсионер</td>\n",
       "      <td>0</td>\n",
       "      <td>145017</td>\n",
       "      <td>на проведение свадьбы</td>\n",
       "    </tr>\n",
       "    <tr>\n",
       "      <td>8583</td>\n",
       "      <td>0</td>\n",
       "      <td>58</td>\n",
       "      <td>высшее</td>\n",
       "      <td>False</td>\n",
       "      <td>Не женат / не замужем</td>\n",
       "      <td>True</td>\n",
       "      <td>F</td>\n",
       "      <td>пенсионер</td>\n",
       "      <td>0</td>\n",
       "      <td>145017</td>\n",
       "      <td>дополнительное образование</td>\n",
       "    </tr>\n",
       "    <tr>\n",
       "      <td>9238</td>\n",
       "      <td>2</td>\n",
       "      <td>34</td>\n",
       "      <td>среднее</td>\n",
       "      <td>True</td>\n",
       "      <td>женат / замужем</td>\n",
       "      <td>False</td>\n",
       "      <td>F</td>\n",
       "      <td>сотрудник</td>\n",
       "      <td>0</td>\n",
       "      <td>145017</td>\n",
       "      <td>покупка жилья для сдачи</td>\n",
       "    </tr>\n",
       "    <tr>\n",
       "      <td>9528</td>\n",
       "      <td>0</td>\n",
       "      <td>66</td>\n",
       "      <td>среднее</td>\n",
       "      <td>True</td>\n",
       "      <td>вдовец / вдова</td>\n",
       "      <td>True</td>\n",
       "      <td>F</td>\n",
       "      <td>пенсионер</td>\n",
       "      <td>0</td>\n",
       "      <td>145017</td>\n",
       "      <td>операции со своей недвижимостью</td>\n",
       "    </tr>\n",
       "    <tr>\n",
       "      <td>9627</td>\n",
       "      <td>0</td>\n",
       "      <td>56</td>\n",
       "      <td>среднее</td>\n",
       "      <td>True</td>\n",
       "      <td>женат / замужем</td>\n",
       "      <td>False</td>\n",
       "      <td>F</td>\n",
       "      <td>пенсионер</td>\n",
       "      <td>0</td>\n",
       "      <td>145017</td>\n",
       "      <td>операции со своей недвижимостью</td>\n",
       "    </tr>\n",
       "    <tr>\n",
       "      <td>10462</td>\n",
       "      <td>0</td>\n",
       "      <td>62</td>\n",
       "      <td>среднее</td>\n",
       "      <td>True</td>\n",
       "      <td>женат / замужем</td>\n",
       "      <td>False</td>\n",
       "      <td>F</td>\n",
       "      <td>пенсионер</td>\n",
       "      <td>0</td>\n",
       "      <td>145017</td>\n",
       "      <td>покупка коммерческой недвижимости</td>\n",
       "    </tr>\n",
       "    <tr>\n",
       "      <td>10697</td>\n",
       "      <td>0</td>\n",
       "      <td>40</td>\n",
       "      <td>среднее</td>\n",
       "      <td>True</td>\n",
       "      <td>гражданский брак</td>\n",
       "      <td>True</td>\n",
       "      <td>F</td>\n",
       "      <td>компаньон</td>\n",
       "      <td>0</td>\n",
       "      <td>145017</td>\n",
       "      <td>сыграть свадьбу</td>\n",
       "    </tr>\n",
       "    <tr>\n",
       "      <td>10864</td>\n",
       "      <td>0</td>\n",
       "      <td>62</td>\n",
       "      <td>среднее</td>\n",
       "      <td>True</td>\n",
       "      <td>женат / замужем</td>\n",
       "      <td>False</td>\n",
       "      <td>F</td>\n",
       "      <td>пенсионер</td>\n",
       "      <td>0</td>\n",
       "      <td>145017</td>\n",
       "      <td>ремонт жилью</td>\n",
       "    </tr>\n",
       "    <tr>\n",
       "      <td>10994</td>\n",
       "      <td>0</td>\n",
       "      <td>62</td>\n",
       "      <td>среднее</td>\n",
       "      <td>True</td>\n",
       "      <td>женат / замужем</td>\n",
       "      <td>False</td>\n",
       "      <td>F</td>\n",
       "      <td>пенсионер</td>\n",
       "      <td>0</td>\n",
       "      <td>145017</td>\n",
       "      <td>ремонт жилью</td>\n",
       "    </tr>\n",
       "    <tr>\n",
       "      <td>11791</td>\n",
       "      <td>0</td>\n",
       "      <td>47</td>\n",
       "      <td>среднее</td>\n",
       "      <td>True</td>\n",
       "      <td>женат / замужем</td>\n",
       "      <td>False</td>\n",
       "      <td>F</td>\n",
       "      <td>сотрудник</td>\n",
       "      <td>0</td>\n",
       "      <td>145017</td>\n",
       "      <td>строительство недвижимости</td>\n",
       "    </tr>\n",
       "    <tr>\n",
       "      <td>12373</td>\n",
       "      <td>0</td>\n",
       "      <td>58</td>\n",
       "      <td>среднее</td>\n",
       "      <td>True</td>\n",
       "      <td>женат / замужем</td>\n",
       "      <td>False</td>\n",
       "      <td>M</td>\n",
       "      <td>сотрудник</td>\n",
       "      <td>0</td>\n",
       "      <td>145017</td>\n",
       "      <td>покупка недвижимости</td>\n",
       "    </tr>\n",
       "    <tr>\n",
       "      <td>12375</td>\n",
       "      <td>1</td>\n",
       "      <td>37</td>\n",
       "      <td>среднее</td>\n",
       "      <td>True</td>\n",
       "      <td>женат / замужем</td>\n",
       "      <td>False</td>\n",
       "      <td>F</td>\n",
       "      <td>сотрудник</td>\n",
       "      <td>0</td>\n",
       "      <td>145017</td>\n",
       "      <td>покупка недвижимости</td>\n",
       "    </tr>\n",
       "    <tr>\n",
       "      <td>12736</td>\n",
       "      <td>0</td>\n",
       "      <td>59</td>\n",
       "      <td>среднее</td>\n",
       "      <td>True</td>\n",
       "      <td>женат / замужем</td>\n",
       "      <td>False</td>\n",
       "      <td>F</td>\n",
       "      <td>пенсионер</td>\n",
       "      <td>0</td>\n",
       "      <td>145017</td>\n",
       "      <td>заняться образованием</td>\n",
       "    </tr>\n",
       "    <tr>\n",
       "      <td>13025</td>\n",
       "      <td>1</td>\n",
       "      <td>44</td>\n",
       "      <td>среднее</td>\n",
       "      <td>True</td>\n",
       "      <td>женат / замужем</td>\n",
       "      <td>False</td>\n",
       "      <td>F</td>\n",
       "      <td>сотрудник</td>\n",
       "      <td>0</td>\n",
       "      <td>145017</td>\n",
       "      <td>сделка с подержанным автомобилем</td>\n",
       "    </tr>\n",
       "    <tr>\n",
       "      <td>13639</td>\n",
       "      <td>0</td>\n",
       "      <td>64</td>\n",
       "      <td>среднее</td>\n",
       "      <td>True</td>\n",
       "      <td>женат / замужем</td>\n",
       "      <td>False</td>\n",
       "      <td>F</td>\n",
       "      <td>пенсионер</td>\n",
       "      <td>0</td>\n",
       "      <td>145017</td>\n",
       "      <td>автомобиль</td>\n",
       "    </tr>\n",
       "    <tr>\n",
       "      <td>13773</td>\n",
       "      <td>0</td>\n",
       "      <td>35</td>\n",
       "      <td>среднее</td>\n",
       "      <td>True</td>\n",
       "      <td>гражданский брак</td>\n",
       "      <td>True</td>\n",
       "      <td>F</td>\n",
       "      <td>сотрудник</td>\n",
       "      <td>0</td>\n",
       "      <td>145017</td>\n",
       "      <td>сыграть свадьбу</td>\n",
       "    </tr>\n",
       "    <tr>\n",
       "      <td>13878</td>\n",
       "      <td>1</td>\n",
       "      <td>31</td>\n",
       "      <td>среднее</td>\n",
       "      <td>True</td>\n",
       "      <td>женат / замужем</td>\n",
       "      <td>False</td>\n",
       "      <td>F</td>\n",
       "      <td>компаньон</td>\n",
       "      <td>0</td>\n",
       "      <td>145017</td>\n",
       "      <td>покупка жилья</td>\n",
       "    </tr>\n",
       "    <tr>\n",
       "      <td>13942</td>\n",
       "      <td>0</td>\n",
       "      <td>44</td>\n",
       "      <td>среднее</td>\n",
       "      <td>True</td>\n",
       "      <td>женат / замужем</td>\n",
       "      <td>False</td>\n",
       "      <td>F</td>\n",
       "      <td>сотрудник</td>\n",
       "      <td>0</td>\n",
       "      <td>145017</td>\n",
       "      <td>приобретение автомобиля</td>\n",
       "    </tr>\n",
       "    <tr>\n",
       "      <td>14432</td>\n",
       "      <td>2</td>\n",
       "      <td>36</td>\n",
       "      <td>высшее</td>\n",
       "      <td>False</td>\n",
       "      <td>женат / замужем</td>\n",
       "      <td>False</td>\n",
       "      <td>F</td>\n",
       "      <td>госслужащий</td>\n",
       "      <td>0</td>\n",
       "      <td>145017</td>\n",
       "      <td>получение образования</td>\n",
       "    </tr>\n",
       "    <tr>\n",
       "      <td>14832</td>\n",
       "      <td>0</td>\n",
       "      <td>50</td>\n",
       "      <td>среднее</td>\n",
       "      <td>True</td>\n",
       "      <td>Не женат / не замужем</td>\n",
       "      <td>True</td>\n",
       "      <td>F</td>\n",
       "      <td>сотрудник</td>\n",
       "      <td>0</td>\n",
       "      <td>145017</td>\n",
       "      <td>недвижимость</td>\n",
       "    </tr>\n",
       "    <tr>\n",
       "      <td>15091</td>\n",
       "      <td>0</td>\n",
       "      <td>58</td>\n",
       "      <td>среднее</td>\n",
       "      <td>True</td>\n",
       "      <td>гражданский брак</td>\n",
       "      <td>True</td>\n",
       "      <td>M</td>\n",
       "      <td>сотрудник</td>\n",
       "      <td>0</td>\n",
       "      <td>145017</td>\n",
       "      <td>на проведение свадьбы</td>\n",
       "    </tr>\n",
       "    <tr>\n",
       "      <td>15188</td>\n",
       "      <td>0</td>\n",
       "      <td>60</td>\n",
       "      <td>среднее</td>\n",
       "      <td>True</td>\n",
       "      <td>женат / замужем</td>\n",
       "      <td>False</td>\n",
       "      <td>M</td>\n",
       "      <td>сотрудник</td>\n",
       "      <td>0</td>\n",
       "      <td>145017</td>\n",
       "      <td>покупка недвижимости</td>\n",
       "    </tr>\n",
       "    <tr>\n",
       "      <td>15273</td>\n",
       "      <td>0</td>\n",
       "      <td>57</td>\n",
       "      <td>среднее</td>\n",
       "      <td>True</td>\n",
       "      <td>гражданский брак</td>\n",
       "      <td>True</td>\n",
       "      <td>F</td>\n",
       "      <td>пенсионер</td>\n",
       "      <td>0</td>\n",
       "      <td>145017</td>\n",
       "      <td>свадьба</td>\n",
       "    </tr>\n",
       "    <tr>\n",
       "      <td>16176</td>\n",
       "      <td>0</td>\n",
       "      <td>47</td>\n",
       "      <td>среднее</td>\n",
       "      <td>True</td>\n",
       "      <td>женат / замужем</td>\n",
       "      <td>False</td>\n",
       "      <td>F</td>\n",
       "      <td>сотрудник</td>\n",
       "      <td>0</td>\n",
       "      <td>145017</td>\n",
       "      <td>ремонт жилью</td>\n",
       "    </tr>\n",
       "    <tr>\n",
       "      <td>16378</td>\n",
       "      <td>0</td>\n",
       "      <td>46</td>\n",
       "      <td>среднее</td>\n",
       "      <td>True</td>\n",
       "      <td>женат / замужем</td>\n",
       "      <td>False</td>\n",
       "      <td>F</td>\n",
       "      <td>сотрудник</td>\n",
       "      <td>0</td>\n",
       "      <td>145017</td>\n",
       "      <td>высшее образование</td>\n",
       "    </tr>\n",
       "    <tr>\n",
       "      <td>16902</td>\n",
       "      <td>2</td>\n",
       "      <td>39</td>\n",
       "      <td>среднее</td>\n",
       "      <td>True</td>\n",
       "      <td>гражданский брак</td>\n",
       "      <td>True</td>\n",
       "      <td>F</td>\n",
       "      <td>сотрудник</td>\n",
       "      <td>0</td>\n",
       "      <td>145017</td>\n",
       "      <td>сыграть свадьбу</td>\n",
       "    </tr>\n",
       "    <tr>\n",
       "      <td>16904</td>\n",
       "      <td>1</td>\n",
       "      <td>32</td>\n",
       "      <td>высшее</td>\n",
       "      <td>False</td>\n",
       "      <td>женат / замужем</td>\n",
       "      <td>False</td>\n",
       "      <td>F</td>\n",
       "      <td>сотрудник</td>\n",
       "      <td>0</td>\n",
       "      <td>145017</td>\n",
       "      <td>на покупку подержанного автомобиля</td>\n",
       "    </tr>\n",
       "    <tr>\n",
       "      <td>17379</td>\n",
       "      <td>0</td>\n",
       "      <td>54</td>\n",
       "      <td>высшее</td>\n",
       "      <td>False</td>\n",
       "      <td>женат / замужем</td>\n",
       "      <td>False</td>\n",
       "      <td>M</td>\n",
       "      <td>компаньон</td>\n",
       "      <td>0</td>\n",
       "      <td>145017</td>\n",
       "      <td>операции с коммерческой недвижимостью</td>\n",
       "    </tr>\n",
       "    <tr>\n",
       "      <td>17755</td>\n",
       "      <td>1</td>\n",
       "      <td>43</td>\n",
       "      <td>среднее</td>\n",
       "      <td>True</td>\n",
       "      <td>женат / замужем</td>\n",
       "      <td>False</td>\n",
       "      <td>M</td>\n",
       "      <td>сотрудник</td>\n",
       "      <td>0</td>\n",
       "      <td>145017</td>\n",
       "      <td>заняться образованием</td>\n",
       "    </tr>\n",
       "    <tr>\n",
       "      <td>17774</td>\n",
       "      <td>1</td>\n",
       "      <td>40</td>\n",
       "      <td>среднее</td>\n",
       "      <td>True</td>\n",
       "      <td>гражданский брак</td>\n",
       "      <td>True</td>\n",
       "      <td>F</td>\n",
       "      <td>компаньон</td>\n",
       "      <td>0</td>\n",
       "      <td>145017</td>\n",
       "      <td>строительство жилой недвижимости</td>\n",
       "    </tr>\n",
       "    <tr>\n",
       "      <td>18328</td>\n",
       "      <td>0</td>\n",
       "      <td>29</td>\n",
       "      <td>высшее</td>\n",
       "      <td>False</td>\n",
       "      <td>женат / замужем</td>\n",
       "      <td>False</td>\n",
       "      <td>M</td>\n",
       "      <td>сотрудник</td>\n",
       "      <td>0</td>\n",
       "      <td>145017</td>\n",
       "      <td>покупка жилой недвижимости</td>\n",
       "    </tr>\n",
       "    <tr>\n",
       "      <td>18349</td>\n",
       "      <td>1</td>\n",
       "      <td>30</td>\n",
       "      <td>высшее</td>\n",
       "      <td>False</td>\n",
       "      <td>женат / замужем</td>\n",
       "      <td>False</td>\n",
       "      <td>F</td>\n",
       "      <td>госслужащий</td>\n",
       "      <td>0</td>\n",
       "      <td>145017</td>\n",
       "      <td>покупка жилья для семьи</td>\n",
       "    </tr>\n",
       "    <tr>\n",
       "      <td>18428</td>\n",
       "      <td>0</td>\n",
       "      <td>64</td>\n",
       "      <td>среднее</td>\n",
       "      <td>True</td>\n",
       "      <td>женат / замужем</td>\n",
       "      <td>False</td>\n",
       "      <td>F</td>\n",
       "      <td>пенсионер</td>\n",
       "      <td>0</td>\n",
       "      <td>145017</td>\n",
       "      <td>жилье</td>\n",
       "    </tr>\n",
       "    <tr>\n",
       "      <td>18521</td>\n",
       "      <td>0</td>\n",
       "      <td>56</td>\n",
       "      <td>среднее</td>\n",
       "      <td>True</td>\n",
       "      <td>гражданский брак</td>\n",
       "      <td>True</td>\n",
       "      <td>F</td>\n",
       "      <td>сотрудник</td>\n",
       "      <td>0</td>\n",
       "      <td>145017</td>\n",
       "      <td>сыграть свадьбу</td>\n",
       "    </tr>\n",
       "    <tr>\n",
       "      <td>18563</td>\n",
       "      <td>0</td>\n",
       "      <td>54</td>\n",
       "      <td>среднее</td>\n",
       "      <td>True</td>\n",
       "      <td>женат / замужем</td>\n",
       "      <td>False</td>\n",
       "      <td>F</td>\n",
       "      <td>сотрудник</td>\n",
       "      <td>0</td>\n",
       "      <td>145017</td>\n",
       "      <td>операции со своей недвижимостью</td>\n",
       "    </tr>\n",
       "    <tr>\n",
       "      <td>18755</td>\n",
       "      <td>0</td>\n",
       "      <td>58</td>\n",
       "      <td>среднее</td>\n",
       "      <td>True</td>\n",
       "      <td>женат / замужем</td>\n",
       "      <td>False</td>\n",
       "      <td>F</td>\n",
       "      <td>пенсионер</td>\n",
       "      <td>0</td>\n",
       "      <td>145017</td>\n",
       "      <td>заняться образованием</td>\n",
       "    </tr>\n",
       "    <tr>\n",
       "      <td>19041</td>\n",
       "      <td>0</td>\n",
       "      <td>56</td>\n",
       "      <td>среднее</td>\n",
       "      <td>True</td>\n",
       "      <td>гражданский брак</td>\n",
       "      <td>True</td>\n",
       "      <td>F</td>\n",
       "      <td>сотрудник</td>\n",
       "      <td>0</td>\n",
       "      <td>145017</td>\n",
       "      <td>на проведение свадьбы</td>\n",
       "    </tr>\n",
       "    <tr>\n",
       "      <td>19184</td>\n",
       "      <td>0</td>\n",
       "      <td>46</td>\n",
       "      <td>среднее</td>\n",
       "      <td>True</td>\n",
       "      <td>женат / замужем</td>\n",
       "      <td>False</td>\n",
       "      <td>F</td>\n",
       "      <td>сотрудник</td>\n",
       "      <td>0</td>\n",
       "      <td>145017</td>\n",
       "      <td>свой автомобиль</td>\n",
       "    </tr>\n",
       "    <tr>\n",
       "      <td>19321</td>\n",
       "      <td>0</td>\n",
       "      <td>23</td>\n",
       "      <td>среднее</td>\n",
       "      <td>True</td>\n",
       "      <td>Не женат / не замужем</td>\n",
       "      <td>True</td>\n",
       "      <td>F</td>\n",
       "      <td>сотрудник</td>\n",
       "      <td>0</td>\n",
       "      <td>145017</td>\n",
       "      <td>сделка с подержанным автомобилем</td>\n",
       "    </tr>\n",
       "    <tr>\n",
       "      <td>19387</td>\n",
       "      <td>0</td>\n",
       "      <td>38</td>\n",
       "      <td>высшее</td>\n",
       "      <td>False</td>\n",
       "      <td>гражданский брак</td>\n",
       "      <td>True</td>\n",
       "      <td>F</td>\n",
       "      <td>компаньон</td>\n",
       "      <td>0</td>\n",
       "      <td>145017</td>\n",
       "      <td>на проведение свадьбы</td>\n",
       "    </tr>\n",
       "    <tr>\n",
       "      <td>19688</td>\n",
       "      <td>0</td>\n",
       "      <td>61</td>\n",
       "      <td>среднее</td>\n",
       "      <td>True</td>\n",
       "      <td>женат / замужем</td>\n",
       "      <td>False</td>\n",
       "      <td>F</td>\n",
       "      <td>пенсионер</td>\n",
       "      <td>0</td>\n",
       "      <td>145017</td>\n",
       "      <td>операции с недвижимостью</td>\n",
       "    </tr>\n",
       "    <tr>\n",
       "      <td>19832</td>\n",
       "      <td>0</td>\n",
       "      <td>48</td>\n",
       "      <td>среднее</td>\n",
       "      <td>True</td>\n",
       "      <td>женат / замужем</td>\n",
       "      <td>False</td>\n",
       "      <td>F</td>\n",
       "      <td>сотрудник</td>\n",
       "      <td>0</td>\n",
       "      <td>145017</td>\n",
       "      <td>ремонт жилью</td>\n",
       "    </tr>\n",
       "    <tr>\n",
       "      <td>19946</td>\n",
       "      <td>0</td>\n",
       "      <td>57</td>\n",
       "      <td>среднее</td>\n",
       "      <td>True</td>\n",
       "      <td>женат / замужем</td>\n",
       "      <td>False</td>\n",
       "      <td>F</td>\n",
       "      <td>сотрудник</td>\n",
       "      <td>0</td>\n",
       "      <td>145017</td>\n",
       "      <td>сделка с подержанным автомобилем</td>\n",
       "    </tr>\n",
       "    <tr>\n",
       "      <td>20116</td>\n",
       "      <td>0</td>\n",
       "      <td>57</td>\n",
       "      <td>среднее</td>\n",
       "      <td>True</td>\n",
       "      <td>гражданский брак</td>\n",
       "      <td>True</td>\n",
       "      <td>M</td>\n",
       "      <td>пенсионер</td>\n",
       "      <td>0</td>\n",
       "      <td>145017</td>\n",
       "      <td>свадьба</td>\n",
       "    </tr>\n",
       "    <tr>\n",
       "      <td>20165</td>\n",
       "      <td>0</td>\n",
       "      <td>42</td>\n",
       "      <td>среднее</td>\n",
       "      <td>True</td>\n",
       "      <td>женат / замужем</td>\n",
       "      <td>False</td>\n",
       "      <td>F</td>\n",
       "      <td>сотрудник</td>\n",
       "      <td>0</td>\n",
       "      <td>145017</td>\n",
       "      <td>покупка жилья для семьи</td>\n",
       "    </tr>\n",
       "    <tr>\n",
       "      <td>20702</td>\n",
       "      <td>0</td>\n",
       "      <td>64</td>\n",
       "      <td>среднее</td>\n",
       "      <td>True</td>\n",
       "      <td>женат / замужем</td>\n",
       "      <td>False</td>\n",
       "      <td>F</td>\n",
       "      <td>пенсионер</td>\n",
       "      <td>0</td>\n",
       "      <td>145017</td>\n",
       "      <td>дополнительное образование</td>\n",
       "    </tr>\n",
       "    <tr>\n",
       "      <td>21032</td>\n",
       "      <td>0</td>\n",
       "      <td>60</td>\n",
       "      <td>среднее</td>\n",
       "      <td>True</td>\n",
       "      <td>женат / замужем</td>\n",
       "      <td>False</td>\n",
       "      <td>F</td>\n",
       "      <td>пенсионер</td>\n",
       "      <td>0</td>\n",
       "      <td>145017</td>\n",
       "      <td>заняться образованием</td>\n",
       "    </tr>\n",
       "    <tr>\n",
       "      <td>21132</td>\n",
       "      <td>0</td>\n",
       "      <td>47</td>\n",
       "      <td>среднее</td>\n",
       "      <td>True</td>\n",
       "      <td>женат / замужем</td>\n",
       "      <td>False</td>\n",
       "      <td>F</td>\n",
       "      <td>сотрудник</td>\n",
       "      <td>0</td>\n",
       "      <td>145017</td>\n",
       "      <td>ремонт жилью</td>\n",
       "    </tr>\n",
       "    <tr>\n",
       "      <td>21281</td>\n",
       "      <td>1</td>\n",
       "      <td>30</td>\n",
       "      <td>высшее</td>\n",
       "      <td>False</td>\n",
       "      <td>женат / замужем</td>\n",
       "      <td>False</td>\n",
       "      <td>F</td>\n",
       "      <td>сотрудник</td>\n",
       "      <td>0</td>\n",
       "      <td>145017</td>\n",
       "      <td>покупка коммерческой недвижимости</td>\n",
       "    </tr>\n",
       "    <tr>\n",
       "      <td>21415</td>\n",
       "      <td>0</td>\n",
       "      <td>54</td>\n",
       "      <td>среднее</td>\n",
       "      <td>True</td>\n",
       "      <td>женат / замужем</td>\n",
       "      <td>False</td>\n",
       "      <td>F</td>\n",
       "      <td>пенсионер</td>\n",
       "      <td>0</td>\n",
       "      <td>145017</td>\n",
       "      <td>операции с жильем</td>\n",
       "    </tr>\n",
       "  </tbody>\n",
       "</table>\n",
       "</div>"
      ],
      "text/plain": [
       "       children  dob_years education  education_id          family_status  \\\n",
       "2849          0         41   среднее          True        женат / замужем   \n",
       "4182          1         34    ВЫСШЕЕ         False       гражданский брак   \n",
       "4851          0         60   среднее          True       гражданский брак   \n",
       "5557          0         58   среднее          True       гражданский брак   \n",
       "7808          0         57   среднее          True       гражданский брак   \n",
       "8583          0         58    высшее         False  Не женат / не замужем   \n",
       "9238          2         34   среднее          True        женат / замужем   \n",
       "9528          0         66   среднее          True         вдовец / вдова   \n",
       "9627          0         56   среднее          True        женат / замужем   \n",
       "10462         0         62   среднее          True        женат / замужем   \n",
       "10697         0         40   среднее          True       гражданский брак   \n",
       "10864         0         62   среднее          True        женат / замужем   \n",
       "10994         0         62   среднее          True        женат / замужем   \n",
       "11791         0         47   среднее          True        женат / замужем   \n",
       "12373         0         58   среднее          True        женат / замужем   \n",
       "12375         1         37   среднее          True        женат / замужем   \n",
       "12736         0         59   среднее          True        женат / замужем   \n",
       "13025         1         44   среднее          True        женат / замужем   \n",
       "13639         0         64   среднее          True        женат / замужем   \n",
       "13773         0         35   среднее          True       гражданский брак   \n",
       "13878         1         31   среднее          True        женат / замужем   \n",
       "13942         0         44   среднее          True        женат / замужем   \n",
       "14432         2         36    высшее         False        женат / замужем   \n",
       "14832         0         50   среднее          True  Не женат / не замужем   \n",
       "15091         0         58   среднее          True       гражданский брак   \n",
       "15188         0         60   среднее          True        женат / замужем   \n",
       "15273         0         57   среднее          True       гражданский брак   \n",
       "16176         0         47   среднее          True        женат / замужем   \n",
       "16378         0         46   среднее          True        женат / замужем   \n",
       "16902         2         39   среднее          True       гражданский брак   \n",
       "16904         1         32    высшее         False        женат / замужем   \n",
       "17379         0         54    высшее         False        женат / замужем   \n",
       "17755         1         43   среднее          True        женат / замужем   \n",
       "17774         1         40   среднее          True       гражданский брак   \n",
       "18328         0         29    высшее         False        женат / замужем   \n",
       "18349         1         30    высшее         False        женат / замужем   \n",
       "18428         0         64   среднее          True        женат / замужем   \n",
       "18521         0         56   среднее          True       гражданский брак   \n",
       "18563         0         54   среднее          True        женат / замужем   \n",
       "18755         0         58   среднее          True        женат / замужем   \n",
       "19041         0         56   среднее          True       гражданский брак   \n",
       "19184         0         46   среднее          True        женат / замужем   \n",
       "19321         0         23   среднее          True  Не женат / не замужем   \n",
       "19387         0         38    высшее         False       гражданский брак   \n",
       "19688         0         61   среднее          True        женат / замужем   \n",
       "19832         0         48   среднее          True        женат / замужем   \n",
       "19946         0         57   среднее          True        женат / замужем   \n",
       "20116         0         57   среднее          True       гражданский брак   \n",
       "20165         0         42   среднее          True        женат / замужем   \n",
       "20702         0         64   среднее          True        женат / замужем   \n",
       "21032         0         60   среднее          True        женат / замужем   \n",
       "21132         0         47   среднее          True        женат / замужем   \n",
       "21281         1         30    высшее         False        женат / замужем   \n",
       "21415         0         54   среднее          True        женат / замужем   \n",
       "\n",
       "       family_status_id gender  income_type  debt  total_income  \\\n",
       "2849              False      F    сотрудник     0        145017   \n",
       "4182               True      F    сотрудник     0        145017   \n",
       "4851               True      F    пенсионер     0        145017   \n",
       "5557               True      F    пенсионер     0        145017   \n",
       "7808               True      F    пенсионер     0        145017   \n",
       "8583               True      F    пенсионер     0        145017   \n",
       "9238              False      F    сотрудник     0        145017   \n",
       "9528               True      F    пенсионер     0        145017   \n",
       "9627              False      F    пенсионер     0        145017   \n",
       "10462             False      F    пенсионер     0        145017   \n",
       "10697              True      F    компаньон     0        145017   \n",
       "10864             False      F    пенсионер     0        145017   \n",
       "10994             False      F    пенсионер     0        145017   \n",
       "11791             False      F    сотрудник     0        145017   \n",
       "12373             False      M    сотрудник     0        145017   \n",
       "12375             False      F    сотрудник     0        145017   \n",
       "12736             False      F    пенсионер     0        145017   \n",
       "13025             False      F    сотрудник     0        145017   \n",
       "13639             False      F    пенсионер     0        145017   \n",
       "13773              True      F    сотрудник     0        145017   \n",
       "13878             False      F    компаньон     0        145017   \n",
       "13942             False      F    сотрудник     0        145017   \n",
       "14432             False      F  госслужащий     0        145017   \n",
       "14832              True      F    сотрудник     0        145017   \n",
       "15091              True      M    сотрудник     0        145017   \n",
       "15188             False      M    сотрудник     0        145017   \n",
       "15273              True      F    пенсионер     0        145017   \n",
       "16176             False      F    сотрудник     0        145017   \n",
       "16378             False      F    сотрудник     0        145017   \n",
       "16902              True      F    сотрудник     0        145017   \n",
       "16904             False      F    сотрудник     0        145017   \n",
       "17379             False      M    компаньон     0        145017   \n",
       "17755             False      M    сотрудник     0        145017   \n",
       "17774              True      F    компаньон     0        145017   \n",
       "18328             False      M    сотрудник     0        145017   \n",
       "18349             False      F  госслужащий     0        145017   \n",
       "18428             False      F    пенсионер     0        145017   \n",
       "18521              True      F    сотрудник     0        145017   \n",
       "18563             False      F    сотрудник     0        145017   \n",
       "18755             False      F    пенсионер     0        145017   \n",
       "19041              True      F    сотрудник     0        145017   \n",
       "19184             False      F    сотрудник     0        145017   \n",
       "19321              True      F    сотрудник     0        145017   \n",
       "19387              True      F    компаньон     0        145017   \n",
       "19688             False      F    пенсионер     0        145017   \n",
       "19832             False      F    сотрудник     0        145017   \n",
       "19946             False      F    сотрудник     0        145017   \n",
       "20116              True      M    пенсионер     0        145017   \n",
       "20165             False      F    сотрудник     0        145017   \n",
       "20702             False      F    пенсионер     0        145017   \n",
       "21032             False      F    пенсионер     0        145017   \n",
       "21132             False      F    сотрудник     0        145017   \n",
       "21281             False      F    сотрудник     0        145017   \n",
       "21415             False      F    пенсионер     0        145017   \n",
       "\n",
       "                                     purpose  \n",
       "2849                 покупка жилья для семьи  \n",
       "4182                                 свадьба  \n",
       "4851                                 свадьба  \n",
       "5557                         сыграть свадьбу  \n",
       "7808                   на проведение свадьбы  \n",
       "8583              дополнительное образование  \n",
       "9238                 покупка жилья для сдачи  \n",
       "9528         операции со своей недвижимостью  \n",
       "9627         операции со своей недвижимостью  \n",
       "10462      покупка коммерческой недвижимости  \n",
       "10697                        сыграть свадьбу  \n",
       "10864                           ремонт жилью  \n",
       "10994                           ремонт жилью  \n",
       "11791             строительство недвижимости  \n",
       "12373                   покупка недвижимости  \n",
       "12375                   покупка недвижимости  \n",
       "12736                  заняться образованием  \n",
       "13025       сделка с подержанным автомобилем  \n",
       "13639                             автомобиль  \n",
       "13773                        сыграть свадьбу  \n",
       "13878                          покупка жилья  \n",
       "13942                приобретение автомобиля  \n",
       "14432                  получение образования  \n",
       "14832                           недвижимость  \n",
       "15091                  на проведение свадьбы  \n",
       "15188                   покупка недвижимости  \n",
       "15273                                свадьба  \n",
       "16176                           ремонт жилью  \n",
       "16378                     высшее образование  \n",
       "16902                        сыграть свадьбу  \n",
       "16904     на покупку подержанного автомобиля  \n",
       "17379  операции с коммерческой недвижимостью  \n",
       "17755                  заняться образованием  \n",
       "17774       строительство жилой недвижимости  \n",
       "18328             покупка жилой недвижимости  \n",
       "18349                покупка жилья для семьи  \n",
       "18428                                  жилье  \n",
       "18521                        сыграть свадьбу  \n",
       "18563        операции со своей недвижимостью  \n",
       "18755                  заняться образованием  \n",
       "19041                  на проведение свадьбы  \n",
       "19184                        свой автомобиль  \n",
       "19321       сделка с подержанным автомобилем  \n",
       "19387                  на проведение свадьбы  \n",
       "19688               операции с недвижимостью  \n",
       "19832                           ремонт жилью  \n",
       "19946       сделка с подержанным автомобилем  \n",
       "20116                                свадьба  \n",
       "20165                покупка жилья для семьи  \n",
       "20702             дополнительное образование  \n",
       "21032                  заняться образованием  \n",
       "21132                           ремонт жилью  \n",
       "21281      покупка коммерческой недвижимости  \n",
       "21415                      операции с жильем  "
      ]
     },
     "execution_count": 217,
     "metadata": {},
     "output_type": "execute_result"
    }
   ],
   "source": [
    "data_duplicated = data[data.duplicated()] #для наглядности выведем DataFrame с дубликатами,делаем вывод что явные дубликаты присутсвуют\n",
    "data_duplicated"
   ]
  },
  {
   "cell_type": "markdown",
   "metadata": {
    "cellId": "ztuigrw0ulswmnl478y7o"
   },
   "source": [
    "Можно убедиться в этом же, применим метод duplicated  и sum()"
   ]
  },
  {
   "cell_type": "code",
   "execution_count": 218,
   "metadata": {
    "cellId": "vt732utkum7bf23jjjkx7"
   },
   "outputs": [
    {
     "data": {
      "text/plain": [
       "54"
      ]
     },
     "execution_count": 218,
     "metadata": {},
     "output_type": "execute_result"
    }
   ],
   "source": [
    "data.duplicated().sum() # количество строк с явными дубликатами"
   ]
  },
  {
   "cell_type": "markdown",
   "metadata": {
    "cellId": "uztkihk1c2imqfazxutx"
   },
   "source": [
    "Удалим явные дубликаты, методом drop_duplicates(),перезапишем индексы и сделаем проверку."
   ]
  },
  {
   "cell_type": "code",
   "execution_count": 219,
   "metadata": {
    "cellId": "nodewrmol5krc3ccmyv0x"
   },
   "outputs": [
    {
     "data": {
      "text/plain": [
       "0"
      ]
     },
     "execution_count": 219,
     "metadata": {},
     "output_type": "execute_result"
    }
   ],
   "source": [
    "data = data.drop_duplicates().reset_index(drop=True)\n",
    "data.duplicated().sum()\n"
   ]
  },
  {
   "cell_type": "markdown",
   "metadata": {
    "cellId": "wtc4mq7xt8bja1ejehotu"
   },
   "source": [
    "После удаления явных дубликатов перейдем к ручному поиску дубликатов с учетом регистра."
   ]
  },
  {
   "cell_type": "code",
   "execution_count": 220,
   "metadata": {
    "cellId": "wlowjchz0vfvtq67qn3yo"
   },
   "outputs": [
    {
     "data": {
      "text/plain": [
       "Index(['children', 'dob_years', 'education', 'education_id', 'family_status',\n",
       "       'family_status_id', 'gender', 'income_type', 'debt', 'total_income',\n",
       "       'purpose'],\n",
       "      dtype='object')"
      ]
     },
     "execution_count": 220,
     "metadata": {},
     "output_type": "execute_result"
    }
   ],
   "source": [
    "data.columns #для удобства "
   ]
  },
  {
   "cell_type": "code",
   "execution_count": 221,
   "metadata": {
    "cellId": "k3skwkltl6c1f6o6miiw2r"
   },
   "outputs": [
    {
     "data": {
      "text/plain": [
       "среднее                15188\n",
       "высшее                  5251\n",
       "неоконченное высшее      744\n",
       "начальное                282\n",
       "ученая степень             6\n",
       "Name: education, dtype: int64"
      ]
     },
     "execution_count": 221,
     "metadata": {},
     "output_type": "execute_result"
    }
   ],
   "source": [
    "index = ['education','family_status','gender','income_type','purpose'] # cоздадим список\n",
    "for i in index: \n",
    "    data[i] = data[i].str.lower() #присвоим значение одного столбца к столбцу с нижним регистром\n",
    "data[\"education\"].value_counts()# для проверки выведем уникальные значения столбцов"
   ]
  },
  {
   "cell_type": "code",
   "execution_count": 222,
   "metadata": {
    "cellId": "cwd49hvnwrpw5wdvbvmqso"
   },
   "outputs": [
    {
     "data": {
      "text/plain": [
       "женат / замужем          12344\n",
       "гражданский брак          4163\n",
       "не женат / не замужем     2810\n",
       "в разводе                 1195\n",
       "вдовец / вдова             959\n",
       "Name: family_status, dtype: int64"
      ]
     },
     "execution_count": 222,
     "metadata": {},
     "output_type": "execute_result"
    }
   ],
   "source": [
    "data[\"family_status\"].value_counts()"
   ]
  },
  {
   "cell_type": "code",
   "execution_count": 223,
   "metadata": {
    "cellId": "r03a19n2z1p3izifj3xki"
   },
   "outputs": [
    {
     "data": {
      "text/plain": [
       "f      14189\n",
       "m       7281\n",
       "xna        1\n",
       "Name: gender, dtype: int64"
      ]
     },
     "execution_count": 223,
     "metadata": {},
     "output_type": "execute_result"
    }
   ],
   "source": [
    "data[\"gender\"].value_counts() #проверим и пол"
   ]
  },
  {
   "cell_type": "markdown",
   "metadata": {
    "cellId": "0rk3tbwdzayshtjpjsdd6x8"
   },
   "source": [
    "Как мы видим, что здесь появилось интересное значение XNA, пожалуй удалим его его, так как в решении задачи расчетов для гендера нет, скорее всего это ошибочное значение. После этого имеет смысл проверить остальные столбцы, на всякий случай, вдруг обнаружим что-нибудь интересное."
   ]
  },
  {
   "cell_type": "code",
   "execution_count": 224,
   "metadata": {
    "cellId": "j2s09jyinr77m7xpb2mlkx"
   },
   "outputs": [
    {
     "data": {
      "text/plain": [
       "f    14189\n",
       "m     7281\n",
       "Name: gender, dtype: int64"
      ]
     },
     "execution_count": 224,
     "metadata": {},
     "output_type": "execute_result"
    }
   ],
   "source": [
    "data = data[data['gender'] != 'xna']\n",
    "data[\"gender\"].value_counts()"
   ]
  },
  {
   "cell_type": "code",
   "execution_count": 225,
   "metadata": {
    "cellId": "1ty84pw0hh2i070otlavve"
   },
   "outputs": [
    {
     "data": {
      "text/plain": [
       " 0     14106\n",
       " 1      4809\n",
       " 2      2052\n",
       " 3       330\n",
       " 20       76\n",
       "-1        47\n",
       " 4        41\n",
       " 5         9\n",
       "Name: children, dtype: int64"
      ]
     },
     "execution_count": 225,
     "metadata": {},
     "output_type": "execute_result"
    }
   ],
   "source": [
    "data[\"children\"].value_counts()"
   ]
  },
  {
   "cell_type": "markdown",
   "metadata": {
    "cellId": "6we10z6woeswszupxa9d"
   },
   "source": [
    "Так, странно но у одной семьи 20 детей, а у одной -1, скорее всего в первом случае лишний 0, а в другом минус, подкоректируем эти значения."
   ]
  },
  {
   "cell_type": "code",
   "execution_count": 226,
   "metadata": {
    "cellId": "a8g4hap6lzkjymsfkb5n3"
   },
   "outputs": [],
   "source": [
    "data[\"children\"] = data[\"children\"].replace(-1,1)"
   ]
  },
  {
   "cell_type": "code",
   "execution_count": 227,
   "metadata": {
    "cellId": "ywhew6ffasnskj7ezjr8sj"
   },
   "outputs": [
    {
     "data": {
      "text/plain": [
       "0     14106\n",
       "1      4856\n",
       "2      2052\n",
       "3       330\n",
       "20       76\n",
       "4        41\n",
       "5         9\n",
       "Name: children, dtype: int64"
      ]
     },
     "execution_count": 227,
     "metadata": {},
     "output_type": "execute_result"
    }
   ],
   "source": [
    "data[\"children\"].value_counts() #проверили, -1 отсутсвует"
   ]
  },
  {
   "cell_type": "code",
   "execution_count": 228,
   "metadata": {
    "cellId": "a736lybhd1cend03djmhkv"
   },
   "outputs": [],
   "source": [
    "children_median = data.loc[data.loc[:, 'children'] != 20]['children'].median() #найдем медиану для всех строк в столбце, где значение не равно 20.\n",
    "data['children'] = data['children'].replace(20, children_median) #метод replace идеально подходит в этом случае"
   ]
  },
  {
   "cell_type": "code",
   "execution_count": 229,
   "metadata": {
    "cellId": "rydgwfccfpa0chwglawlnkv"
   },
   "outputs": [
    {
     "data": {
      "text/plain": [
       "0    14182\n",
       "1     4856\n",
       "2     2052\n",
       "3      330\n",
       "4       41\n",
       "5        9\n",
       "Name: children, dtype: int64"
      ]
     },
     "execution_count": 229,
     "metadata": {},
     "output_type": "execute_result"
    }
   ],
   "source": [
    "data[\"children\"].value_counts()"
   ]
  },
  {
   "cell_type": "code",
   "execution_count": 230,
   "metadata": {
    "cellId": "425i15rfekfh2ad5jqjrcr"
   },
   "outputs": [
    {
     "data": {
      "text/plain": [
       "17"
      ]
     },
     "execution_count": 230,
     "metadata": {},
     "output_type": "execute_result"
    }
   ],
   "source": [
    "data.duplicated().sum() #после изменения регистра нашлось еще несколько строчек дубликатов"
   ]
  },
  {
   "cell_type": "code",
   "execution_count": 231,
   "metadata": {
    "cellId": "jn6wbkg6aznrxiooiw16g"
   },
   "outputs": [
    {
     "data": {
      "text/plain": [
       "0"
      ]
     },
     "execution_count": 231,
     "metadata": {},
     "output_type": "execute_result"
    }
   ],
   "source": [
    "data = data.drop_duplicates().reset_index(drop=True) #аналогично примеру выше\n",
    "data.duplicated().sum() #дубликатов нет"
   ]
  },
  {
   "cell_type": "markdown",
   "metadata": {
    "cellId": "v4k1w3ba6gbg74d36xc6r"
   },
   "source": [
    "Итак, стоит отметить, что данный путь можно было сократить, изначально применив нижний регистр по всем значениям и удалить уже \"явные\" дубликаты, но так как это учебный проект, решил сделать таким образом, вспомнив все основные методы.\n",
    "Данные дубликаты в первом случае - техническая ошибка, во втором - это человеческий фактор:)"
   ]
  },
  {
   "cell_type": "code",
   "execution_count": 232,
   "metadata": {
    "cellId": "4rsoolntv3qc5um1c914ro"
   },
   "outputs": [
    {
     "data": {
      "text/plain": [
       "(21453, 11)"
      ]
     },
     "execution_count": 232,
     "metadata": {},
     "output_type": "execute_result"
    }
   ],
   "source": [
    "data.shape\n",
    "\n"
   ]
  },
  {
   "cell_type": "markdown",
   "metadata": {
    "cellId": "fj8hizafh6tdbg96ux0a"
   },
   "source": [
    "### Лемматизация\n",
    "<a id=\"2.4\"></a>"
   ]
  },
  {
   "cell_type": "code",
   "execution_count": 233,
   "metadata": {
    "cellId": "j1g93epvzexiscjgs36af"
   },
   "outputs": [
    {
     "data": {
      "text/plain": [
       "Counter({'покупка': 5896,\n",
       "         ' ': 33569,\n",
       "         'жилье': 4460,\n",
       "         '\\n': 21453,\n",
       "         'приобретение': 461,\n",
       "         'автомобиль': 4306,\n",
       "         'дополнительный': 906,\n",
       "         'образование': 4013,\n",
       "         'сыграть': 765,\n",
       "         'свадьба': 2324,\n",
       "         'операция': 2604,\n",
       "         'с': 2918,\n",
       "         'на': 2222,\n",
       "         'проведение': 768,\n",
       "         'для': 1289,\n",
       "         'семья': 638,\n",
       "         'недвижимость': 6350,\n",
       "         'коммерческий': 1311,\n",
       "         'жилой': 1230,\n",
       "         'строительство': 1878,\n",
       "         'собственный': 635,\n",
       "         'подержать': 478,\n",
       "         'свой': 2230,\n",
       "         'со': 627,\n",
       "         'заниматься': 904,\n",
       "         'сделка': 941,\n",
       "         'подержанный': 486,\n",
       "         'получение': 1314,\n",
       "         'высокий': 1374,\n",
       "         'профильный': 436,\n",
       "         'сдача': 651,\n",
       "         'ремонт': 607})"
      ]
     },
     "execution_count": 233,
     "metadata": {},
     "output_type": "execute_result"
    }
   ],
   "source": [
    "data[\"purpose_lemma\"] = data[\"purpose\"].apply(m.lemmatize) #Создадим столбец с леммой\n",
    "from collections import Counter #для подсчета упоминания в тексте\n",
    "text = [] #cоздадим лист с леммами\n",
    "for i in data[\"purpose_lemma\"]: #пройдемся циклом по нему\n",
    "    text.extend(i) #в данном случае нужно использовать метод extend, который в отличие от append, добавляет все элеметты списка, расширяя его\n",
    "Counter(text) # контейнер для нахождения числа упоминания в столбце"
   ]
  },
  {
   "cell_type": "markdown",
   "metadata": {
    "cellId": "xd4ep5dtt7tbpm6xm9ygms"
   },
   "source": [
    "Выше - это частота, упоминаемых в столбце слов, предлагаю создать список с категориями, в дальнейшем применить стеминг для того, чтобы категоризировать данные"
   ]
  },
  {
   "cell_type": "code",
   "execution_count": 234,
   "metadata": {
    "cellId": "j4c8nejek363m1tfw8iqv"
   },
   "outputs": [
    {
     "name": "stdout",
     "output_type": "stream",
     "text": [
      "['жил', 'свадьб', 'автомобил', 'образован', 'недвижим']\n"
     ]
    }
   ],
   "source": [
    "from nltk.stem import SnowballStemmer #импортируем библиотеку для стемминга\n",
    "russian_stemmer = SnowballStemmer('russian') # передаем функция для стеминга рускоязычного текста\n",
    "text = [\"жилье\", \"свадьба\", \"автомобиль\", \"образование\", \"недвижимость\"] # создаем список лемм\n",
    "kategorii = [] #создаем пустой список категорий\n",
    "for word in text: #проходим по циклу\n",
    "    kategorii.append(russian_stemmer.stem(word)) #добавляем в список результаты стемминга по каждому слову \n",
    "print(kategorii) #выводим на экран стемминг слов"
   ]
  },
  {
   "cell_type": "markdown",
   "metadata": {
    "cellId": "mht6dhk5rwqi2o297s7eh"
   },
   "source": [
    "**Вывод** \n",
    "Таким образом, мы произвели лематизацию и нашли стемминг слов, чтобы создать в следующем пункте, категории для целей получения кредита."
   ]
  },
  {
   "cell_type": "markdown",
   "metadata": {
    "cellId": "9md11diz218how7kbqketv"
   },
   "source": [
    "### Категоризация данных\n",
    "<a id=\"2.5\"></a>"
   ]
  },
  {
   "cell_type": "code",
   "execution_count": 235,
   "metadata": {
    "cellId": "jutw5i8zyghdxl6jc4pdqh"
   },
   "outputs": [
    {
     "data": {
      "text/plain": [
       "от 150           9183\n",
       "от 100 до 150    7807\n",
       "от 50 до 100     4091\n",
       "меньше 50         372\n",
       "Name: total_income_categories, dtype: int64"
      ]
     },
     "execution_count": 235,
     "metadata": {},
     "output_type": "execute_result"
    }
   ],
   "source": [
    "def purposes_categories(purposes_kredit): #создадим функцию, которая будет проверять есть ли значение леммы в стемминге\n",
    "    if (\"жил\")  in  purposes_kredit or (\"недвижим\") in purposes_kredit: #логичекое выражение, потому что и в тов и в том случае будет категория недвижимость\n",
    "        return \"недвижимость\"\n",
    "    elif \"свадьб\" in purposes_kredit: #аналоично\n",
    "        return \"свадьба\"\n",
    "    elif \"автомобил\" in purposes_kredit:\n",
    "        return \"автомобиль\"\n",
    "    elif \"образован\" in purposes_kredit:\n",
    "        return \"образование\"\n",
    "data[\"purposes_categories\"] = data[\"purpose\"].apply(purposes_categories) #для применения функции к столбцу применим метод apply()\n",
    "\n",
    "def children_categories(children): # аналогично выше\n",
    "    if children == 0:\n",
    "        return \"бездетная_семья\"\n",
    "    elif  0< children < 3:\n",
    "        return \"малодетная_семья\"\n",
    "    elif children >=3:\n",
    "        return \"многодетная_семья\"\n",
    "data['children_categories'] = data[\"children\"].apply(children_categories)\n",
    "\n",
    "def total_income_categories(total_income): # аналогично выше\n",
    "    if 50000 > total_income:\n",
    "        return \"меньше 50\"\n",
    "    elif 50000 <= total_income < 100000:\n",
    "        return \"от 50 до 100\"\n",
    "    elif 100000 <= total_income < 150000:\n",
    "        return \"от 100 до 150\"\n",
    "    elif 150000 <= total_income: \n",
    "        return \"от 150\"  \n",
    "data['total_income_categories'] = data[\"total_income\"].apply(total_income_categories)\n",
    "data['total_income_categories'].value_counts()"
   ]
  },
  {
   "cell_type": "markdown",
   "metadata": {
    "cellId": "g4fsdonw7g5rqlyayltkc"
   },
   "source": [
    "**Вывод**"
   ]
  },
  {
   "cell_type": "markdown",
   "metadata": {
    "cellId": "fk5hfjwblqnm4tep88zo3a"
   },
   "source": [
    "Таким образом, мы разделили цели взятия кредита на 4 категории, которые наиболее часто встречаюся в списке из лемм, жилье и недвижемость объеденили в одну категорию.\n",
    "С детьми, я посчитал, что целесообразнее выделить три категории(общепринятые) : бездетные, малодетные и многодетные семьи.\n",
    "По заработной плане, исходя из статей в интернете, было принято решение сделать срезы по 50 тысяч."
   ]
  },
  {
   "cell_type": "markdown",
   "metadata": {
    "cellId": "5zuoabvhb4krjcq6hnzj9r"
   },
   "source": [
    "# Шаг 3. Ответьте на вопросы \n",
    "<a id=\"3\"></a>"
   ]
  },
  {
   "cell_type": "markdown",
   "metadata": {
    "cellId": "n520d1j7evn87ifmpt7a7y"
   },
   "source": [
    "- Есть ли зависимость между наличием детей и возвратом кредита в срок?"
   ]
  },
  {
   "cell_type": "code",
   "execution_count": 236,
   "metadata": {
    "cellId": "mxcoct07ngu9bkwvy00t"
   },
   "outputs": [
    {
     "data": {
      "text/html": [
       "<div>\n",
       "<style scoped>\n",
       "    .dataframe tbody tr th:only-of-type {\n",
       "        vertical-align: middle;\n",
       "    }\n",
       "\n",
       "    .dataframe tbody tr th {\n",
       "        vertical-align: top;\n",
       "    }\n",
       "\n",
       "    .dataframe thead th {\n",
       "        text-align: right;\n",
       "    }\n",
       "</style>\n",
       "<table border=\"1\" class=\"dataframe\">\n",
       "  <thead>\n",
       "    <tr style=\"text-align: right;\">\n",
       "      <th></th>\n",
       "      <th>debt</th>\n",
       "    </tr>\n",
       "    <tr>\n",
       "      <th>children_categories</th>\n",
       "      <th></th>\n",
       "    </tr>\n",
       "  </thead>\n",
       "  <tbody>\n",
       "    <tr>\n",
       "      <td>бездетная_семья</td>\n",
       "      <td>0.075604</td>\n",
       "    </tr>\n",
       "    <tr>\n",
       "      <td>малодетная_семья</td>\n",
       "      <td>0.092515</td>\n",
       "    </tr>\n",
       "    <tr>\n",
       "      <td>многодетная_семья</td>\n",
       "      <td>0.081579</td>\n",
       "    </tr>\n",
       "  </tbody>\n",
       "</table>\n",
       "</div>"
      ],
      "text/plain": [
       "                         debt\n",
       "children_categories          \n",
       "бездетная_семья      0.075604\n",
       "малодетная_семья     0.092515\n",
       "многодетная_семья    0.081579"
      ]
     },
     "execution_count": 236,
     "metadata": {},
     "output_type": "execute_result"
    }
   ],
   "source": [
    "data_pivot = data.pivot_table(index = [\"children_categories\"], values = [\"debt\"]) #создадим сводную таблицу, \n",
    "data_pivot"
   ]
  },
  {
   "cell_type": "markdown",
   "metadata": {
    "cellId": "aabc7q49tpj0p08oh9ayvk"
   },
   "source": [
    "**Вывод**"
   ]
  },
  {
   "cell_type": "markdown",
   "metadata": {
    "cellId": "pzs1g222spmbfkt78abpof"
   },
   "source": [
    "Как мы видим по сводной таблице, бездетные семьи показывают меньше склонны к просрочкам по кредитам - это связано с тем, что в семьях с детьми часть дохода уходит на содержание детей. Стоит отметить, что многодетные семьи в отличии от малодетных более отвественно относятся к кредитам, это логично, у таких семей более высокая степень ответсвенности во многих аспектах жизни, что конечно же влияет на платежеспособность. "
   ]
  },
  {
   "cell_type": "markdown",
   "metadata": {
    "cellId": "fa02ggujf9clx69hk478a"
   },
   "source": [
    "- Есть ли зависимость между семейным положением и возвратом кредита в срок?"
   ]
  },
  {
   "cell_type": "code",
   "execution_count": 237,
   "metadata": {
    "cellId": "dloqsd54h8i6hijbbu7zwg"
   },
   "outputs": [
    {
     "data": {
      "text/html": [
       "<div>\n",
       "<style scoped>\n",
       "    .dataframe tbody tr th:only-of-type {\n",
       "        vertical-align: middle;\n",
       "    }\n",
       "\n",
       "    .dataframe tbody tr th {\n",
       "        vertical-align: top;\n",
       "    }\n",
       "\n",
       "    .dataframe thead th {\n",
       "        text-align: right;\n",
       "    }\n",
       "</style>\n",
       "<table border=\"1\" class=\"dataframe\">\n",
       "  <thead>\n",
       "    <tr style=\"text-align: right;\">\n",
       "      <th></th>\n",
       "      <th>debt</th>\n",
       "    </tr>\n",
       "    <tr>\n",
       "      <th>family_status</th>\n",
       "      <th></th>\n",
       "    </tr>\n",
       "  </thead>\n",
       "  <tbody>\n",
       "    <tr>\n",
       "      <td>в разводе</td>\n",
       "      <td>0.071130</td>\n",
       "    </tr>\n",
       "    <tr>\n",
       "      <td>вдовец / вдова</td>\n",
       "      <td>0.065693</td>\n",
       "    </tr>\n",
       "    <tr>\n",
       "      <td>гражданский брак</td>\n",
       "      <td>0.093494</td>\n",
       "    </tr>\n",
       "    <tr>\n",
       "      <td>женат / замужем</td>\n",
       "      <td>0.075452</td>\n",
       "    </tr>\n",
       "    <tr>\n",
       "      <td>не женат / не замужем</td>\n",
       "      <td>0.097509</td>\n",
       "    </tr>\n",
       "  </tbody>\n",
       "</table>\n",
       "</div>"
      ],
      "text/plain": [
       "                           debt\n",
       "family_status                  \n",
       "в разводе              0.071130\n",
       "вдовец / вдова         0.065693\n",
       "гражданский брак       0.093494\n",
       "женат / замужем        0.075452\n",
       "не женат / не замужем  0.097509"
      ]
     },
     "execution_count": 237,
     "metadata": {},
     "output_type": "execute_result"
    }
   ],
   "source": [
    "data_pivot = data.pivot_table(index = [\"family_status\"], values = [\"debt\"]) #создадим сводную таблицу, \n",
    "data_pivot"
   ]
  },
  {
   "cell_type": "markdown",
   "metadata": {
    "cellId": "a74rrhcryloyyb620vnj4"
   },
   "source": [
    "**Вывод**"
   ]
  },
  {
   "cell_type": "markdown",
   "metadata": {
    "cellId": "taybj3mlmmz3tt4xc7utc"
   },
   "source": [
    "Интересно, но люди в разводе или не в браке, а так же овдовевшие платят чаще в срок, нежели в браке или гражданском браке. Возможно, это признак того, что люди более скорпулезно относятся со своими деньгами и нет отвественности за кого-либо. "
   ]
  },
  {
   "cell_type": "markdown",
   "metadata": {
    "cellId": "en12mj5btknw2invu2v87d"
   },
   "source": [
    "- Есть ли зависимость между уровнем дохода и возвратом кредита в срок?"
   ]
  },
  {
   "cell_type": "code",
   "execution_count": 238,
   "metadata": {
    "cellId": "d2mfz9pbp5l4whxo8vd8"
   },
   "outputs": [
    {
     "data": {
      "text/html": [
       "<div>\n",
       "<style scoped>\n",
       "    .dataframe tbody tr th:only-of-type {\n",
       "        vertical-align: middle;\n",
       "    }\n",
       "\n",
       "    .dataframe tbody tr th {\n",
       "        vertical-align: top;\n",
       "    }\n",
       "\n",
       "    .dataframe thead th {\n",
       "        text-align: right;\n",
       "    }\n",
       "</style>\n",
       "<table border=\"1\" class=\"dataframe\">\n",
       "  <thead>\n",
       "    <tr style=\"text-align: right;\">\n",
       "      <th></th>\n",
       "      <th>debt</th>\n",
       "    </tr>\n",
       "    <tr>\n",
       "      <th>total_income_categories</th>\n",
       "      <th></th>\n",
       "    </tr>\n",
       "  </thead>\n",
       "  <tbody>\n",
       "    <tr>\n",
       "      <td>меньше 50</td>\n",
       "      <td>0.061828</td>\n",
       "    </tr>\n",
       "    <tr>\n",
       "      <td>от 100 до 150</td>\n",
       "      <td>0.084668</td>\n",
       "    </tr>\n",
       "    <tr>\n",
       "      <td>от 150</td>\n",
       "      <td>0.079059</td>\n",
       "    </tr>\n",
       "    <tr>\n",
       "      <td>от 50 до 100</td>\n",
       "      <td>0.080909</td>\n",
       "    </tr>\n",
       "  </tbody>\n",
       "</table>\n",
       "</div>"
      ],
      "text/plain": [
       "                             debt\n",
       "total_income_categories          \n",
       "меньше 50                0.061828\n",
       "от 100 до 150            0.084668\n",
       "от 150                   0.079059\n",
       "от 50 до 100             0.080909"
      ]
     },
     "execution_count": 238,
     "metadata": {},
     "output_type": "execute_result"
    }
   ],
   "source": [
    "data_pivot = data.pivot_table(index = [\"total_income_categories\"], values = [\"debt\"]) #создадим сводную таблицу, \n",
    "data_pivot"
   ]
  },
  {
   "cell_type": "markdown",
   "metadata": {
    "cellId": "90znkx8u0a97r9w2pifqmq"
   },
   "source": [
    "**Вывод**\n",
    "Люди с доходом меньше 50 тысяч платят стабильнее, остальных групп. Влияние дохода в других группах есть, но это небольшое."
   ]
  },
  {
   "cell_type": "markdown",
   "metadata": {
    "cellId": "0ggysn0l1bevqaswcttn1iq"
   },
   "source": [
    "- Как разные цели кредита влияют на его возврат в срок?"
   ]
  },
  {
   "cell_type": "code",
   "execution_count": 239,
   "metadata": {
    "cellId": "7ngxzlfcqzqdolroznrm1p"
   },
   "outputs": [
    {
     "data": {
      "text/html": [
       "<div>\n",
       "<style scoped>\n",
       "    .dataframe tbody tr th:only-of-type {\n",
       "        vertical-align: middle;\n",
       "    }\n",
       "\n",
       "    .dataframe tbody tr th {\n",
       "        vertical-align: top;\n",
       "    }\n",
       "\n",
       "    .dataframe thead th {\n",
       "        text-align: right;\n",
       "    }\n",
       "</style>\n",
       "<table border=\"1\" class=\"dataframe\">\n",
       "  <thead>\n",
       "    <tr style=\"text-align: right;\">\n",
       "      <th></th>\n",
       "      <th>debt</th>\n",
       "    </tr>\n",
       "    <tr>\n",
       "      <th>purposes_categories</th>\n",
       "      <th></th>\n",
       "    </tr>\n",
       "  </thead>\n",
       "  <tbody>\n",
       "    <tr>\n",
       "      <td>автомобиль</td>\n",
       "      <td>0.093590</td>\n",
       "    </tr>\n",
       "    <tr>\n",
       "      <td>недвижимость</td>\n",
       "      <td>0.072340</td>\n",
       "    </tr>\n",
       "    <tr>\n",
       "      <td>образование</td>\n",
       "      <td>0.092200</td>\n",
       "    </tr>\n",
       "    <tr>\n",
       "      <td>свадьба</td>\n",
       "      <td>0.080034</td>\n",
       "    </tr>\n",
       "  </tbody>\n",
       "</table>\n",
       "</div>"
      ],
      "text/plain": [
       "                         debt\n",
       "purposes_categories          \n",
       "автомобиль           0.093590\n",
       "недвижимость         0.072340\n",
       "образование          0.092200\n",
       "свадьба              0.080034"
      ]
     },
     "execution_count": 239,
     "metadata": {},
     "output_type": "execute_result"
    }
   ],
   "source": [
    "data_pivot = data.pivot_table(index = [\"purposes_categories\"], values = [\"debt\"]) #создадим сводную таблицу, \n",
    "data_pivot"
   ]
  },
  {
   "cell_type": "markdown",
   "metadata": {
    "cellId": "h52ujk61we6hvlrsw6kli"
   },
   "source": [
    "**Вывод**"
   ]
  },
  {
   "cell_type": "markdown",
   "metadata": {
    "cellId": "ek5p944zs5l896b0krq0dn"
   },
   "source": [
    "Как мы видим, среди 4 наших категорий, чаще всего платят в срок с целью кредита недвижимость, чаще просрочка у тех кому нужен кредит на автомобиль и образование. Кредиты на свадьбу просрачивают реже - примерно как и в случае недвижимости."
   ]
  },
  {
   "cell_type": "markdown",
   "metadata": {
    "cellId": "mc0xmcbblqr2e84kw5mvmc"
   },
   "source": [
    "# Шаг 4. Общий вывод\n",
    "<a id=\"4\"></a>"
   ]
  },
  {
   "cell_type": "markdown",
   "metadata": {
    "cellId": "8bwpxcyln96477mvhm25ax"
   },
   "source": [
    "Итак, исходя из исследования ответим на несколько вопросов:\n",
    "1) зависимость между наличием детей и возвратом в срок:\n",
    "- бездетные семьи имеют 7,5% просроченных платажей\n",
    "- малодетные семьи 8,1% просроченных платажей\n",
    "- многодетные семьи 9,2%\n",
    "\n",
    "Таким образом, наличие детей уже отражается на платежеспособность в срок от 0.6% до 1.7%. Стоит отметить, что многодетные семьи платят в срок чаще, нежели малодетные семьи, думаю это завивисит от ответсвенности, в многодетных семьях родители распределяют бюджет намного лучше, так как их зона ответственности повышается и к кредиту они могут подходить наиболее обдуманнее.\n",
    "\n",
    "2) связь семейного положения и возвратом в срок:\n",
    "- для вдовцы/вдовца 6.6%\n",
    "- для людей в разводе 7.1%\n",
    "- для женатых людей 7.5%\n",
    "- для гражданского брака 9.3%\n",
    "- для тех, кто не имеет отношений 9.7%\n",
    "\n",
    "Таким образом, присутсвует связь, интересно для тех, кто был в семейных отношений платят в срок чаще, в отличии от других групп. Стоит обратить внимание при одобрении кредита, что люди не в отношениях чаще чем другие имеют задолжность по кредитам.\n",
    "\n",
    "3) связь уровня дохода и возвратом в срок:\n",
    "- меньше 50 -  6.1%\n",
    "- от 50 до 100 -  8%\n",
    "- от 100 до 150 - 8.4%\n",
    "- от 150 - 8%\n",
    "\n",
    "Исходя из выше данных, люди с небольшим доходов платят стабильнее других групп. Если заработок выше 50 тысяч рублей, значение повышается, но не критично.\n",
    "\n",
    "4) связь цели кредита и возвратом в срок:\n",
    "- для недвижимости - 7.2%\n",
    "- для свадьбы - 8%\n",
    "- для образования - 9.2%\n",
    "- для автомобиля - 9.3%\n",
    "\n",
    "Исходя из этих результатов, кредиты для свадьбы и недвижимости платят в срок чаще, нежели другие. Образование и автомобиль чаще не платят в срок.\n"
   ]
  },
  {
   "cell_type": "code",
   "execution_count": 240,
   "metadata": {
    "cellId": "ux7nkx9ue1cx4gt9bm72u"
   },
   "outputs": [],
   "source": [
    "#!c1.4\n"
   ]
  }
 ],
 "metadata": {
  "ExecuteTimeLog": [
   {
    "duration": 3,
    "start_time": "2021-12-09T18:47:32.266Z"
   },
   {
    "duration": 632,
    "start_time": "2021-12-09T18:47:32.271Z"
   },
   {
    "duration": 9,
    "start_time": "2021-12-09T18:47:32.905Z"
   },
   {
    "duration": 8,
    "start_time": "2021-12-09T18:47:32.917Z"
   },
   {
    "duration": 12,
    "start_time": "2021-12-09T18:47:32.926Z"
   },
   {
    "duration": 8,
    "start_time": "2021-12-09T18:47:32.940Z"
   },
   {
    "duration": 37,
    "start_time": "2021-12-09T18:47:32.950Z"
   },
   {
    "duration": 3,
    "start_time": "2021-12-09T18:47:32.989Z"
   },
   {
    "duration": 19,
    "start_time": "2021-12-09T18:47:32.994Z"
   },
   {
    "duration": 27,
    "start_time": "2021-12-09T18:47:33.014Z"
   },
   {
    "duration": 12,
    "start_time": "2021-12-09T18:47:33.042Z"
   },
   {
    "duration": 52,
    "start_time": "2021-12-09T18:47:33.056Z"
   },
   {
    "duration": 3,
    "start_time": "2021-12-09T18:47:33.110Z"
   },
   {
    "duration": 48,
    "start_time": "2021-12-09T18:47:33.114Z"
   },
   {
    "duration": 7,
    "start_time": "2021-12-09T18:47:33.164Z"
   },
   {
    "duration": 6,
    "start_time": "2021-12-09T18:47:33.187Z"
   },
   {
    "duration": 11,
    "start_time": "2021-12-09T18:47:33.195Z"
   },
   {
    "duration": 5,
    "start_time": "2021-12-09T18:47:33.208Z"
   },
   {
    "duration": 9,
    "start_time": "2021-12-09T18:47:33.215Z"
   },
   {
    "duration": 7,
    "start_time": "2021-12-09T18:47:33.225Z"
   },
   {
    "duration": 7,
    "start_time": "2021-12-09T18:47:33.233Z"
   },
   {
    "duration": 4,
    "start_time": "2021-12-09T18:47:33.242Z"
   },
   {
    "duration": 50,
    "start_time": "2021-12-09T18:47:33.247Z"
   },
   {
    "duration": 29,
    "start_time": "2021-12-09T18:47:33.299Z"
   },
   {
    "duration": 3,
    "start_time": "2021-12-09T18:47:33.330Z"
   },
   {
    "duration": 3515,
    "start_time": "2021-12-09T18:47:33.334Z"
   },
   {
    "duration": 565,
    "start_time": "2021-12-09T18:47:36.851Z"
   },
   {
    "duration": 25,
    "start_time": "2021-12-09T18:47:37.417Z"
   },
   {
    "duration": 19,
    "start_time": "2021-12-09T18:47:37.444Z"
   },
   {
    "duration": 33,
    "start_time": "2021-12-09T18:47:37.465Z"
   },
   {
    "duration": 11,
    "start_time": "2021-12-09T18:47:37.499Z"
   },
   {
    "duration": 11,
    "start_time": "2021-12-09T18:47:37.511Z"
   },
   {
    "duration": 2,
    "start_time": "2021-12-09T18:47:37.523Z"
   },
   {
    "duration": 982,
    "start_time": "2021-12-09T20:55:17.116Z"
   },
   {
    "duration": 4,
    "start_time": "2021-12-09T20:55:32.668Z"
   },
   {
    "duration": 951,
    "start_time": "2021-12-09T20:55:32.675Z"
   },
   {
    "duration": 13,
    "start_time": "2021-12-09T20:55:33.629Z"
   },
   {
    "duration": 12,
    "start_time": "2021-12-09T20:55:33.660Z"
   },
   {
    "duration": 12,
    "start_time": "2021-12-09T20:55:33.675Z"
   },
   {
    "duration": 13,
    "start_time": "2021-12-09T20:55:33.689Z"
   },
   {
    "duration": 56,
    "start_time": "2021-12-09T20:55:33.705Z"
   },
   {
    "duration": 6,
    "start_time": "2021-12-09T20:55:33.764Z"
   },
   {
    "duration": 34,
    "start_time": "2021-12-09T20:55:33.774Z"
   },
   {
    "duration": 84,
    "start_time": "2021-12-09T20:55:33.811Z"
   },
   {
    "duration": 21,
    "start_time": "2021-12-09T20:55:33.897Z"
   },
   {
    "duration": 64,
    "start_time": "2021-12-09T20:55:33.920Z"
   },
   {
    "duration": 5,
    "start_time": "2021-12-09T20:55:33.987Z"
   },
   {
    "duration": 88,
    "start_time": "2021-12-09T20:55:33.995Z"
   },
   {
    "duration": 12,
    "start_time": "2021-12-09T20:55:34.085Z"
   },
   {
    "duration": 16,
    "start_time": "2021-12-09T20:55:34.099Z"
   },
   {
    "duration": 45,
    "start_time": "2021-12-09T20:55:34.117Z"
   },
   {
    "duration": 10,
    "start_time": "2021-12-09T20:55:34.165Z"
   },
   {
    "duration": 6,
    "start_time": "2021-12-09T20:55:34.177Z"
   },
   {
    "duration": 9,
    "start_time": "2021-12-09T20:55:34.186Z"
   },
   {
    "duration": 61,
    "start_time": "2021-12-09T20:55:34.198Z"
   },
   {
    "duration": 10,
    "start_time": "2021-12-09T20:55:34.262Z"
   },
   {
    "duration": 33,
    "start_time": "2021-12-09T20:55:34.275Z"
   },
   {
    "duration": 80,
    "start_time": "2021-12-09T20:55:34.311Z"
   },
   {
    "duration": 5,
    "start_time": "2021-12-09T20:55:34.394Z"
   },
   {
    "duration": 4690,
    "start_time": "2021-12-09T20:55:34.402Z"
   },
   {
    "duration": 813,
    "start_time": "2021-12-09T20:55:39.096Z"
   },
   {
    "duration": 55,
    "start_time": "2021-12-09T20:55:39.912Z"
   },
   {
    "duration": 47,
    "start_time": "2021-12-09T20:55:39.969Z"
   },
   {
    "duration": 51,
    "start_time": "2021-12-09T20:55:40.018Z"
   },
   {
    "duration": 23,
    "start_time": "2021-12-09T20:55:40.072Z"
   },
   {
    "duration": 24,
    "start_time": "2021-12-09T20:55:40.098Z"
   },
   {
    "duration": 36,
    "start_time": "2021-12-09T20:55:40.124Z"
   },
   {
    "duration": 31,
    "start_time": "2021-12-09T21:20:43.048Z"
   },
   {
    "duration": 114,
    "start_time": "2021-12-09T21:20:45.703Z"
   },
   {
    "duration": 4,
    "start_time": "2021-12-09T21:25:56.137Z"
   },
   {
    "duration": 99,
    "start_time": "2021-12-09T21:25:58.605Z"
   },
   {
    "duration": 121,
    "start_time": "2021-12-09T21:26:12.538Z"
   },
   {
    "duration": 111,
    "start_time": "2021-12-09T21:26:54.280Z"
   },
   {
    "duration": 115,
    "start_time": "2021-12-09T21:27:25.354Z"
   },
   {
    "duration": 114,
    "start_time": "2021-12-09T21:27:31.573Z"
   },
   {
    "duration": 133,
    "start_time": "2021-12-09T21:27:52.363Z"
   },
   {
    "duration": 566,
    "start_time": "2021-12-09T21:31:24.780Z"
   },
   {
    "duration": 388,
    "start_time": "2021-12-09T21:33:11.492Z"
   },
   {
    "duration": 870,
    "start_time": "2021-12-09T21:33:18.754Z"
   },
   {
    "duration": 125,
    "start_time": "2021-12-09T21:37:02.015Z"
   },
   {
    "duration": 5,
    "start_time": "2021-12-09T21:37:15.457Z"
   },
   {
    "duration": 5,
    "start_time": "2021-12-09T21:37:57.423Z"
   },
   {
    "duration": 398,
    "start_time": "2021-12-09T21:38:09.932Z"
   },
   {
    "duration": 410,
    "start_time": "2021-12-09T21:38:29.032Z"
   },
   {
    "duration": 519,
    "start_time": "2021-12-09T21:38:45.038Z"
   },
   {
    "duration": 414,
    "start_time": "2021-12-09T21:38:55.251Z"
   },
   {
    "duration": 3,
    "start_time": "2021-12-09T21:39:18.956Z"
   },
   {
    "duration": 5,
    "start_time": "2021-12-09T21:39:18.966Z"
   },
   {
    "duration": 141,
    "start_time": "2021-12-09T21:39:18.975Z"
   },
   {
    "duration": 12,
    "start_time": "2021-12-09T21:39:19.120Z"
   },
   {
    "duration": 14,
    "start_time": "2021-12-09T21:39:19.159Z"
   },
   {
    "duration": 14,
    "start_time": "2021-12-09T21:39:19.176Z"
   },
   {
    "duration": 13,
    "start_time": "2021-12-09T21:39:19.193Z"
   },
   {
    "duration": 60,
    "start_time": "2021-12-09T21:39:19.208Z"
   },
   {
    "duration": 4,
    "start_time": "2021-12-09T21:39:19.270Z"
   },
   {
    "duration": 6,
    "start_time": "2021-12-09T21:39:19.278Z"
   },
   {
    "duration": 31,
    "start_time": "2021-12-09T21:39:19.287Z"
   },
   {
    "duration": 76,
    "start_time": "2021-12-09T21:39:19.321Z"
   },
   {
    "duration": 20,
    "start_time": "2021-12-09T21:39:19.400Z"
   },
   {
    "duration": 67,
    "start_time": "2021-12-09T21:39:19.423Z"
   },
   {
    "duration": 5,
    "start_time": "2021-12-09T21:39:19.493Z"
   },
   {
    "duration": 90,
    "start_time": "2021-12-09T21:39:19.501Z"
   },
   {
    "duration": 12,
    "start_time": "2021-12-09T21:39:19.594Z"
   },
   {
    "duration": 13,
    "start_time": "2021-12-09T21:39:19.609Z"
   },
   {
    "duration": 49,
    "start_time": "2021-12-09T21:39:19.625Z"
   },
   {
    "duration": 10,
    "start_time": "2021-12-09T21:39:19.677Z"
   },
   {
    "duration": 5,
    "start_time": "2021-12-09T21:39:19.690Z"
   },
   {
    "duration": 10,
    "start_time": "2021-12-09T21:39:19.698Z"
   },
   {
    "duration": 59,
    "start_time": "2021-12-09T21:39:19.710Z"
   },
   {
    "duration": 10,
    "start_time": "2021-12-09T21:39:19.771Z"
   },
   {
    "duration": 33,
    "start_time": "2021-12-09T21:39:19.784Z"
   },
   {
    "duration": 78,
    "start_time": "2021-12-09T21:39:19.819Z"
   },
   {
    "duration": 4,
    "start_time": "2021-12-09T21:39:19.899Z"
   },
   {
    "duration": 4893,
    "start_time": "2021-12-09T21:39:19.908Z"
   },
   {
    "duration": 7,
    "start_time": "2021-12-09T21:39:24.804Z"
   },
   {
    "duration": 65,
    "start_time": "2021-12-09T21:39:24.813Z"
   },
   {
    "duration": 36,
    "start_time": "2021-12-09T21:39:24.880Z"
   },
   {
    "duration": 46,
    "start_time": "2021-12-09T21:39:24.918Z"
   },
   {
    "duration": 22,
    "start_time": "2021-12-09T21:39:24.968Z"
   },
   {
    "duration": 24,
    "start_time": "2021-12-09T21:39:24.993Z"
   },
   {
    "duration": 39,
    "start_time": "2021-12-09T21:39:25.020Z"
   },
   {
    "duration": 20,
    "start_time": "2021-12-09T21:42:24.637Z"
   },
   {
    "duration": 6,
    "start_time": "2021-12-09T21:43:14.187Z"
   },
   {
    "duration": 23,
    "start_time": "2021-12-09T21:44:49.664Z"
   },
   {
    "duration": 25,
    "start_time": "2021-12-09T21:47:30.904Z"
   },
   {
    "duration": 37,
    "start_time": "2021-12-09T21:47:36.087Z"
   },
   {
    "duration": 25,
    "start_time": "2021-12-09T21:47:44.862Z"
   },
   {
    "duration": 16401,
    "start_time": "2021-12-09T21:47:53.286Z"
   },
   {
    "duration": -558,
    "start_time": "2021-12-09T21:48:10.249Z"
   },
   {
    "duration": -558,
    "start_time": "2021-12-09T21:48:10.251Z"
   },
   {
    "duration": 4,
    "start_time": "2021-12-09T21:48:23.904Z"
   },
   {
    "duration": 43,
    "start_time": "2021-12-09T21:48:23.910Z"
   },
   {
    "duration": 115,
    "start_time": "2021-12-09T21:48:23.956Z"
   },
   {
    "duration": 12,
    "start_time": "2021-12-09T21:48:24.074Z"
   },
   {
    "duration": 12,
    "start_time": "2021-12-09T21:48:24.089Z"
   },
   {
    "duration": 13,
    "start_time": "2021-12-09T21:48:24.103Z"
   },
   {
    "duration": 50,
    "start_time": "2021-12-09T21:48:24.119Z"
   },
   {
    "duration": 18,
    "start_time": "2021-12-09T21:48:24.173Z"
   },
   {
    "duration": 17,
    "start_time": "2021-12-09T21:48:24.193Z"
   },
   {
    "duration": 48,
    "start_time": "2021-12-09T21:48:24.213Z"
   },
   {
    "duration": 30,
    "start_time": "2021-12-09T21:48:24.263Z"
   },
   {
    "duration": 70,
    "start_time": "2021-12-09T21:48:24.295Z"
   },
   {
    "duration": 20,
    "start_time": "2021-12-09T21:48:24.368Z"
   },
   {
    "duration": 39,
    "start_time": "2021-12-09T21:48:24.390Z"
   },
   {
    "duration": 30,
    "start_time": "2021-12-09T21:48:24.431Z"
   },
   {
    "duration": 74,
    "start_time": "2021-12-09T21:48:24.464Z"
   },
   {
    "duration": 11,
    "start_time": "2021-12-09T21:48:24.560Z"
   },
   {
    "duration": 13,
    "start_time": "2021-12-09T21:48:24.574Z"
   },
   {
    "duration": 17,
    "start_time": "2021-12-09T21:48:24.591Z"
   },
   {
    "duration": 7,
    "start_time": "2021-12-09T21:48:24.611Z"
   },
   {
    "duration": 6,
    "start_time": "2021-12-09T21:48:24.659Z"
   },
   {
    "duration": 10,
    "start_time": "2021-12-09T21:48:24.668Z"
   },
   {
    "duration": 14,
    "start_time": "2021-12-09T21:48:24.681Z"
   },
   {
    "duration": 8,
    "start_time": "2021-12-09T21:48:24.697Z"
   },
   {
    "duration": 78,
    "start_time": "2021-12-09T21:48:24.707Z"
   },
   {
    "duration": 43,
    "start_time": "2021-12-09T21:48:24.787Z"
   },
   {
    "duration": 4,
    "start_time": "2021-12-09T21:48:24.832Z"
   },
   {
    "duration": 4666,
    "start_time": "2021-12-09T21:48:24.859Z"
   },
   {
    "duration": 8,
    "start_time": "2021-12-09T21:48:29.528Z"
   },
   {
    "duration": 46,
    "start_time": "2021-12-09T21:48:29.559Z"
   },
   {
    "duration": 56,
    "start_time": "2021-12-09T21:48:29.608Z"
   },
   {
    "duration": 24,
    "start_time": "2021-12-09T21:48:29.667Z"
   },
   {
    "duration": 20,
    "start_time": "2021-12-09T21:48:29.693Z"
   },
   {
    "duration": 54,
    "start_time": "2021-12-09T21:48:29.715Z"
   },
   {
    "duration": 3,
    "start_time": "2021-12-09T21:48:29.772Z"
   },
   {
    "duration": 26,
    "start_time": "2021-12-09T21:49:00.772Z"
   },
   {
    "duration": 4,
    "start_time": "2021-12-09T21:49:08.031Z"
   },
   {
    "duration": 38,
    "start_time": "2021-12-09T21:49:08.037Z"
   },
   {
    "duration": 135,
    "start_time": "2021-12-09T21:49:08.078Z"
   },
   {
    "duration": 12,
    "start_time": "2021-12-09T21:49:08.216Z"
   },
   {
    "duration": 39,
    "start_time": "2021-12-09T21:49:08.231Z"
   },
   {
    "duration": 15,
    "start_time": "2021-12-09T21:49:08.273Z"
   },
   {
    "duration": 16,
    "start_time": "2021-12-09T21:49:08.290Z"
   },
   {
    "duration": 61,
    "start_time": "2021-12-09T21:49:08.309Z"
   },
   {
    "duration": 19,
    "start_time": "2021-12-09T21:49:08.376Z"
   },
   {
    "duration": 6,
    "start_time": "2021-12-09T21:49:08.398Z"
   },
   {
    "duration": 66,
    "start_time": "2021-12-09T21:49:08.406Z"
   },
   {
    "duration": 49,
    "start_time": "2021-12-09T21:49:08.475Z"
   },
   {
    "duration": 41,
    "start_time": "2021-12-09T21:49:08.526Z"
   },
   {
    "duration": 41,
    "start_time": "2021-12-09T21:49:08.570Z"
   },
   {
    "duration": 6,
    "start_time": "2021-12-09T21:49:08.613Z"
   },
   {
    "duration": 103,
    "start_time": "2021-12-09T21:49:08.622Z"
   },
   {
    "duration": 11,
    "start_time": "2021-12-09T21:49:08.727Z"
   },
   {
    "duration": 28,
    "start_time": "2021-12-09T21:49:08.740Z"
   },
   {
    "duration": 16,
    "start_time": "2021-12-09T21:49:08.771Z"
   },
   {
    "duration": 10,
    "start_time": "2021-12-09T21:49:08.790Z"
   },
   {
    "duration": 6,
    "start_time": "2021-12-09T21:49:08.802Z"
   },
   {
    "duration": 54,
    "start_time": "2021-12-09T21:49:08.810Z"
   },
   {
    "duration": 12,
    "start_time": "2021-12-09T21:49:08.867Z"
   },
   {
    "duration": 9,
    "start_time": "2021-12-09T21:49:08.881Z"
   },
   {
    "duration": 32,
    "start_time": "2021-12-09T21:49:08.892Z"
   },
   {
    "duration": 46,
    "start_time": "2021-12-09T21:49:08.960Z"
   },
   {
    "duration": 5,
    "start_time": "2021-12-09T21:49:09.011Z"
   },
   {
    "duration": 4866,
    "start_time": "2021-12-09T21:49:09.019Z"
   },
   {
    "duration": 7,
    "start_time": "2021-12-09T21:49:13.888Z"
   },
   {
    "duration": 68,
    "start_time": "2021-12-09T21:49:13.898Z"
   },
   {
    "duration": 34,
    "start_time": "2021-12-09T21:49:13.969Z"
   },
   {
    "duration": 22,
    "start_time": "2021-12-09T21:49:14.005Z"
   },
   {
    "duration": 46,
    "start_time": "2021-12-09T21:49:14.030Z"
   },
   {
    "duration": 19,
    "start_time": "2021-12-09T21:49:14.079Z"
   },
   {
    "duration": 3,
    "start_time": "2021-12-09T21:49:14.100Z"
   },
   {
    "duration": 27,
    "start_time": "2021-12-09T21:52:04.581Z"
   },
   {
    "duration": 3,
    "start_time": "2021-12-09T21:52:17.358Z"
   },
   {
    "duration": 35,
    "start_time": "2021-12-09T21:52:17.364Z"
   },
   {
    "duration": 159,
    "start_time": "2021-12-09T21:52:17.402Z"
   },
   {
    "duration": 15,
    "start_time": "2021-12-09T21:52:17.564Z"
   },
   {
    "duration": 12,
    "start_time": "2021-12-09T21:52:17.581Z"
   },
   {
    "duration": 13,
    "start_time": "2021-12-09T21:52:17.596Z"
   },
   {
    "duration": 57,
    "start_time": "2021-12-09T21:52:17.611Z"
   },
   {
    "duration": 18,
    "start_time": "2021-12-09T21:52:17.672Z"
   },
   {
    "duration": 18,
    "start_time": "2021-12-09T21:52:17.693Z"
   },
   {
    "duration": 48,
    "start_time": "2021-12-09T21:52:17.713Z"
   },
   {
    "duration": 32,
    "start_time": "2021-12-09T21:52:17.763Z"
   },
   {
    "duration": 95,
    "start_time": "2021-12-09T21:52:17.798Z"
   },
   {
    "duration": 20,
    "start_time": "2021-12-09T21:52:17.895Z"
   },
   {
    "duration": 67,
    "start_time": "2021-12-09T21:52:17.917Z"
   },
   {
    "duration": 5,
    "start_time": "2021-12-09T21:52:17.987Z"
   },
   {
    "duration": 101,
    "start_time": "2021-12-09T21:52:17.994Z"
   },
   {
    "duration": 11,
    "start_time": "2021-12-09T21:52:18.097Z"
   },
   {
    "duration": 12,
    "start_time": "2021-12-09T21:52:18.110Z"
   },
   {
    "duration": 47,
    "start_time": "2021-12-09T21:52:18.124Z"
   },
   {
    "duration": 11,
    "start_time": "2021-12-09T21:52:18.175Z"
   },
   {
    "duration": 7,
    "start_time": "2021-12-09T21:52:18.190Z"
   },
   {
    "duration": 58,
    "start_time": "2021-12-09T21:52:18.201Z"
   },
   {
    "duration": 21,
    "start_time": "2021-12-09T21:52:18.267Z"
   },
   {
    "duration": 13,
    "start_time": "2021-12-09T21:52:18.292Z"
   },
   {
    "duration": 93,
    "start_time": "2021-12-09T21:52:18.309Z"
   },
   {
    "duration": 60,
    "start_time": "2021-12-09T21:52:18.405Z"
   },
   {
    "duration": 5,
    "start_time": "2021-12-09T21:52:18.468Z"
   },
   {
    "duration": 5305,
    "start_time": "2021-12-09T21:52:18.475Z"
   },
   {
    "duration": 7,
    "start_time": "2021-12-09T21:52:23.782Z"
   },
   {
    "duration": 73,
    "start_time": "2021-12-09T21:52:23.792Z"
   },
   {
    "duration": 33,
    "start_time": "2021-12-09T21:52:23.868Z"
   },
   {
    "duration": 20,
    "start_time": "2021-12-09T21:52:23.903Z"
   },
   {
    "duration": 55,
    "start_time": "2021-12-09T21:52:23.925Z"
   },
   {
    "duration": 22,
    "start_time": "2021-12-09T21:52:23.983Z"
   },
   {
    "duration": 4,
    "start_time": "2021-12-09T21:52:24.008Z"
   },
   {
    "duration": 125,
    "start_time": "2021-12-09T21:55:03.903Z"
   },
   {
    "duration": 128,
    "start_time": "2021-12-09T21:56:08.456Z"
   },
   {
    "duration": 140,
    "start_time": "2021-12-09T21:57:59.927Z"
   },
   {
    "duration": 26,
    "start_time": "2021-12-09T22:30:22.990Z"
   },
   {
    "duration": 3,
    "start_time": "2021-12-09T22:30:36.461Z"
   },
   {
    "duration": 38,
    "start_time": "2021-12-09T22:30:36.466Z"
   },
   {
    "duration": 156,
    "start_time": "2021-12-09T22:30:36.507Z"
   },
   {
    "duration": 12,
    "start_time": "2021-12-09T22:30:36.666Z"
   },
   {
    "duration": 13,
    "start_time": "2021-12-09T22:30:36.681Z"
   },
   {
    "duration": 13,
    "start_time": "2021-12-09T22:30:36.696Z"
   },
   {
    "duration": 53,
    "start_time": "2021-12-09T22:30:36.712Z"
   },
   {
    "duration": 16,
    "start_time": "2021-12-09T22:30:36.768Z"
   },
   {
    "duration": 18,
    "start_time": "2021-12-09T22:30:36.787Z"
   },
   {
    "duration": 6,
    "start_time": "2021-12-09T22:30:36.807Z"
   },
   {
    "duration": 68,
    "start_time": "2021-12-09T22:30:36.815Z"
   },
   {
    "duration": 74,
    "start_time": "2021-12-09T22:30:36.885Z"
   },
   {
    "duration": 20,
    "start_time": "2021-12-09T22:30:36.961Z"
   },
   {
    "duration": 42,
    "start_time": "2021-12-09T22:30:36.984Z"
   },
   {
    "duration": 7,
    "start_time": "2021-12-09T22:30:37.060Z"
   },
   {
    "duration": 90,
    "start_time": "2021-12-09T22:30:37.070Z"
   },
   {
    "duration": 12,
    "start_time": "2021-12-09T22:30:37.163Z"
   },
   {
    "duration": 13,
    "start_time": "2021-12-09T22:30:37.178Z"
   },
   {
    "duration": 16,
    "start_time": "2021-12-09T22:30:37.196Z"
   },
   {
    "duration": 45,
    "start_time": "2021-12-09T22:30:37.214Z"
   },
   {
    "duration": 5,
    "start_time": "2021-12-09T22:30:37.262Z"
   },
   {
    "duration": 10,
    "start_time": "2021-12-09T22:30:37.269Z"
   },
   {
    "duration": 13,
    "start_time": "2021-12-09T22:30:37.282Z"
   },
   {
    "duration": 10,
    "start_time": "2021-12-09T22:30:37.298Z"
   },
   {
    "duration": 77,
    "start_time": "2021-12-09T22:30:37.311Z"
   },
   {
    "duration": 71,
    "start_time": "2021-12-09T22:30:37.392Z"
   },
   {
    "duration": 6,
    "start_time": "2021-12-09T22:30:37.466Z"
   },
   {
    "duration": 5043,
    "start_time": "2021-12-09T22:30:37.475Z"
   },
   {
    "duration": 6,
    "start_time": "2021-12-09T22:30:42.521Z"
   },
   {
    "duration": 62,
    "start_time": "2021-12-09T22:30:42.530Z"
   },
   {
    "duration": 32,
    "start_time": "2021-12-09T22:30:42.594Z"
   },
   {
    "duration": 42,
    "start_time": "2021-12-09T22:30:42.628Z"
   },
   {
    "duration": 23,
    "start_time": "2021-12-09T22:30:42.673Z"
   },
   {
    "duration": 21,
    "start_time": "2021-12-09T22:30:42.699Z"
   },
   {
    "duration": 3,
    "start_time": "2021-12-09T22:30:42.722Z"
   },
   {
    "duration": 143,
    "start_time": "2021-12-09T22:37:02.776Z"
   }
  ],
  "kernelspec": {
   "display_name": "Python 3 (ipykernel)",
   "language": "python",
   "name": "python3"
  },
  "language_info": {
   "codemirror_mode": {
    "name": "ipython",
    "version": 3
   },
   "file_extension": ".py",
   "mimetype": "text/x-python",
   "name": "python",
   "nbconvert_exporter": "python",
   "pygments_lexer": "ipython3",
   "version": "3.9.12"
  },
  "notebookId": "95d66e74-f867-454b-95c5-3e4cb9cc669f",
  "notebookPath": "da-ds-preprocessing.ipynb",
  "toc": {
   "base_numbering": 1,
   "nav_menu": {},
   "number_sections": true,
   "sideBar": true,
   "skip_h1_title": true,
   "title_cell": "Table of Contents",
   "title_sidebar": "Contents",
   "toc_cell": false,
   "toc_position": {},
   "toc_section_display": true,
   "toc_window_display": false
  }
 },
 "nbformat": 4,
 "nbformat_minor": 4
}
