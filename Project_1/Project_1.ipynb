{
 "cells": [
  {
   "cell_type": "markdown",
   "metadata": {
    "id": "VUC88oWjTJw2"
   },
   "source": [
    "\n",
    "# Яндекс.Музыка\n",
    "\n",
    "Сравнение Москвы и Петербурга окружено мифами. Например:\n",
    " * Москва — мегаполис, подчинённый жёсткому ритму рабочей недели;\n",
    " * Петербург — культурная столица, со своими вкусами.\n",
    "\n",
    "На данных Яндекс.Музыки вы сравните поведение пользователей двух столиц.\n",
    "\n",
    "**Цель исследования** — проверьте три гипотезы:\n",
    "1. Активность пользователей зависит от дня недели. Причём в Москве и Петербурге это проявляется по-разному.\n",
    "2. В понедельник утром в Москве преобладают одни жанры, а в Петербурге — другие. Так же и вечером пятницы преобладают разные жанры — в зависимости от города. \n",
    "3. Москва и Петербург предпочитают разные жанры музыки. В Москве чаще слушают поп-музыку, в Петербурге — русский рэп.\n",
    "\n",
    "**Ход исследования**\n",
    "\n",
    "Данные о поведении пользователей вы получите из файла `yandex_music_project.csv`. О качестве данных ничего не известно. Поэтому перед проверкой гипотез понадобится обзор данных. \n",
    "\n",
    "Вы проверите данные на ошибки и оцените их влияние на исследование. Затем, на этапе предобработки вы поищете возможность исправить самые критичные ошибки данных.\n",
    " \n",
    "Таким образом, исследование пройдёт в три этапа:\n",
    " 1. Обзор данных.\n",
    " 2. Предобработка данных.\n",
    " 3. Проверка гипотез.\n",
    "\n"
   ]
  },
  {
   "cell_type": "markdown",
   "metadata": {
    "id": "Ml1hmfXC_Zcs"
   },
   "source": [
    "## Обзор данных\n",
    "\n",
    "Составьте первое представление о данных Яндекс.Музыки.\n",
    "\n",
    "\n"
   ]
  },
  {
   "cell_type": "markdown",
   "metadata": {
    "id": "57eAOGIz_Zcs"
   },
   "source": [
    "Основной инструмент аналитика — `pandas`. Импортируйте эту библиотеку."
   ]
  },
  {
   "cell_type": "code",
   "execution_count": 139,
   "metadata": {
    "id": "AXN7PHPN_Zcs"
   },
   "outputs": [],
   "source": [
    "# импорт библиотеки pandas\n",
    "import pandas as pd "
   ]
  },
  {
   "cell_type": "code",
   "execution_count": 140,
   "metadata": {
    "id": "fFVu7vqh_Zct"
   },
   "outputs": [],
   "source": [
    "# чтение файла с данными и сохранение в df\n",
    "df = pd.read_csv(\"/datasets/yandex_music_project.csv\")"
   ]
  },
  {
   "cell_type": "markdown",
   "metadata": {
    "id": "rDoOMd3uTqnZ"
   },
   "source": [
    "Выведите на экран первые десять строк таблицы:"
   ]
  },
  {
   "cell_type": "code",
   "execution_count": 141,
   "metadata": {
    "id": "oWTVX3gW_Zct"
   },
   "outputs": [
    {
     "data": {
      "text/html": [
       "<div>\n",
       "<style scoped>\n",
       "    .dataframe tbody tr th:only-of-type {\n",
       "        vertical-align: middle;\n",
       "    }\n",
       "\n",
       "    .dataframe tbody tr th {\n",
       "        vertical-align: top;\n",
       "    }\n",
       "\n",
       "    .dataframe thead th {\n",
       "        text-align: right;\n",
       "    }\n",
       "</style>\n",
       "<table border=\"1\" class=\"dataframe\">\n",
       "  <thead>\n",
       "    <tr style=\"text-align: right;\">\n",
       "      <th></th>\n",
       "      <th>userID</th>\n",
       "      <th>Track</th>\n",
       "      <th>artist</th>\n",
       "      <th>genre</th>\n",
       "      <th>City</th>\n",
       "      <th>time</th>\n",
       "      <th>Day</th>\n",
       "    </tr>\n",
       "  </thead>\n",
       "  <tbody>\n",
       "    <tr>\n",
       "      <td>0</td>\n",
       "      <td>FFB692EC</td>\n",
       "      <td>Kamigata To Boots</td>\n",
       "      <td>The Mass Missile</td>\n",
       "      <td>rock</td>\n",
       "      <td>Saint-Petersburg</td>\n",
       "      <td>20:28:33</td>\n",
       "      <td>Wednesday</td>\n",
       "    </tr>\n",
       "    <tr>\n",
       "      <td>1</td>\n",
       "      <td>55204538</td>\n",
       "      <td>Delayed Because of Accident</td>\n",
       "      <td>Andreas Rönnberg</td>\n",
       "      <td>rock</td>\n",
       "      <td>Moscow</td>\n",
       "      <td>14:07:09</td>\n",
       "      <td>Friday</td>\n",
       "    </tr>\n",
       "    <tr>\n",
       "      <td>2</td>\n",
       "      <td>20EC38</td>\n",
       "      <td>Funiculì funiculà</td>\n",
       "      <td>Mario Lanza</td>\n",
       "      <td>pop</td>\n",
       "      <td>Saint-Petersburg</td>\n",
       "      <td>20:58:07</td>\n",
       "      <td>Wednesday</td>\n",
       "    </tr>\n",
       "    <tr>\n",
       "      <td>3</td>\n",
       "      <td>A3DD03C9</td>\n",
       "      <td>Dragons in the Sunset</td>\n",
       "      <td>Fire + Ice</td>\n",
       "      <td>folk</td>\n",
       "      <td>Saint-Petersburg</td>\n",
       "      <td>08:37:09</td>\n",
       "      <td>Monday</td>\n",
       "    </tr>\n",
       "    <tr>\n",
       "      <td>4</td>\n",
       "      <td>E2DC1FAE</td>\n",
       "      <td>Soul People</td>\n",
       "      <td>Space Echo</td>\n",
       "      <td>dance</td>\n",
       "      <td>Moscow</td>\n",
       "      <td>08:34:34</td>\n",
       "      <td>Monday</td>\n",
       "    </tr>\n",
       "    <tr>\n",
       "      <td>5</td>\n",
       "      <td>842029A1</td>\n",
       "      <td>Преданная</td>\n",
       "      <td>IMPERVTOR</td>\n",
       "      <td>rusrap</td>\n",
       "      <td>Saint-Petersburg</td>\n",
       "      <td>13:09:41</td>\n",
       "      <td>Friday</td>\n",
       "    </tr>\n",
       "    <tr>\n",
       "      <td>6</td>\n",
       "      <td>4CB90AA5</td>\n",
       "      <td>True</td>\n",
       "      <td>Roman Messer</td>\n",
       "      <td>dance</td>\n",
       "      <td>Moscow</td>\n",
       "      <td>13:00:07</td>\n",
       "      <td>Wednesday</td>\n",
       "    </tr>\n",
       "    <tr>\n",
       "      <td>7</td>\n",
       "      <td>F03E1C1F</td>\n",
       "      <td>Feeling This Way</td>\n",
       "      <td>Polina Griffith</td>\n",
       "      <td>dance</td>\n",
       "      <td>Moscow</td>\n",
       "      <td>20:47:49</td>\n",
       "      <td>Wednesday</td>\n",
       "    </tr>\n",
       "    <tr>\n",
       "      <td>8</td>\n",
       "      <td>8FA1D3BE</td>\n",
       "      <td>И вновь продолжается бой</td>\n",
       "      <td>NaN</td>\n",
       "      <td>ruspop</td>\n",
       "      <td>Moscow</td>\n",
       "      <td>09:17:40</td>\n",
       "      <td>Friday</td>\n",
       "    </tr>\n",
       "    <tr>\n",
       "      <td>9</td>\n",
       "      <td>E772D5C0</td>\n",
       "      <td>Pessimist</td>\n",
       "      <td>NaN</td>\n",
       "      <td>dance</td>\n",
       "      <td>Saint-Petersburg</td>\n",
       "      <td>21:20:49</td>\n",
       "      <td>Wednesday</td>\n",
       "    </tr>\n",
       "  </tbody>\n",
       "</table>\n",
       "</div>"
      ],
      "text/plain": [
       "     userID                        Track            artist   genre  \\\n",
       "0  FFB692EC            Kamigata To Boots  The Mass Missile    rock   \n",
       "1  55204538  Delayed Because of Accident  Andreas Rönnberg    rock   \n",
       "2    20EC38            Funiculì funiculà       Mario Lanza     pop   \n",
       "3  A3DD03C9        Dragons in the Sunset        Fire + Ice    folk   \n",
       "4  E2DC1FAE                  Soul People        Space Echo   dance   \n",
       "5  842029A1                    Преданная         IMPERVTOR  rusrap   \n",
       "6  4CB90AA5                         True      Roman Messer   dance   \n",
       "7  F03E1C1F             Feeling This Way   Polina Griffith   dance   \n",
       "8  8FA1D3BE     И вновь продолжается бой               NaN  ruspop   \n",
       "9  E772D5C0                    Pessimist               NaN   dance   \n",
       "\n",
       "             City        time        Day  \n",
       "0  Saint-Petersburg  20:28:33  Wednesday  \n",
       "1            Moscow  14:07:09     Friday  \n",
       "2  Saint-Petersburg  20:58:07  Wednesday  \n",
       "3  Saint-Petersburg  08:37:09     Monday  \n",
       "4            Moscow  08:34:34     Monday  \n",
       "5  Saint-Petersburg  13:09:41     Friday  \n",
       "6            Moscow  13:00:07  Wednesday  \n",
       "7            Moscow  20:47:49  Wednesday  \n",
       "8            Moscow  09:17:40     Friday  \n",
       "9  Saint-Petersburg  21:20:49  Wednesday  "
      ]
     },
     "execution_count": 141,
     "metadata": {},
     "output_type": "execute_result"
    }
   ],
   "source": [
    "# получение первых 10 строк таблицы df\n",
    "df.head(10)"
   ]
  },
  {
   "cell_type": "code",
   "execution_count": 142,
   "metadata": {
    "id": "DSf2kIb-_Zct"
   },
   "outputs": [
    {
     "name": "stdout",
     "output_type": "stream",
     "text": [
      "<class 'pandas.core.frame.DataFrame'>\n",
      "RangeIndex: 65079 entries, 0 to 65078\n",
      "Data columns (total 7 columns):\n",
      "  userID    65079 non-null object\n",
      "Track       63848 non-null object\n",
      "artist      57876 non-null object\n",
      "genre       63881 non-null object\n",
      "  City      65079 non-null object\n",
      "time        65079 non-null object\n",
      "Day         65079 non-null object\n",
      "dtypes: object(7)\n",
      "memory usage: 3.5+ MB\n"
     ]
    }
   ],
   "source": [
    "# получение общей информации о данных в таблице df\n",
    "df.info()"
   ]
  },
  {
   "cell_type": "markdown",
   "metadata": {
    "id": "MCB6-dXG_Zct"
   },
   "source": [
    "**Выводы**\n",
    "\n",
    "В каждой строке таблицы — данные о прослушанном треке. Часть колонок описывает саму композицию: название, исполнителя и жанр. Остальные данные рассказывают о пользователе: из какого он города, когда он слушал музыку. \n",
    "\n",
    "Предварительно можно утверждать, что, данных достаточно для проверки гипотез. Но встречаются пропуски в данных, а в названиях колонок — расхождения с хорошим стилем.\n",
    "\n",
    "Чтобы двигаться дальше, нужно устранить проблемы в данных."
   ]
  },
  {
   "cell_type": "markdown",
   "metadata": {
    "id": "SjYF6Ub9_Zct"
   },
   "source": [
    "## Предобработка данных\n",
    "Исправьте стиль в заголовках столбцов, исключите пропуски. Затем проверьте данные на дубликаты."
   ]
  },
  {
   "cell_type": "markdown",
   "metadata": {
    "id": "dIaKXr29_Zct"
   },
   "source": [
    "### Стиль заголовков\n",
    "Выведите на экран названия столбцов:"
   ]
  },
  {
   "cell_type": "code",
   "execution_count": 143,
   "metadata": {
    "id": "oKOTdF_Q_Zct"
   },
   "outputs": [
    {
     "data": {
      "text/plain": [
       "Index(['  userID', 'Track', 'artist', 'genre', '  City  ', 'time', 'Day'], dtype='object')"
      ]
     },
     "execution_count": 143,
     "metadata": {},
     "output_type": "execute_result"
    }
   ],
   "source": [
    "# перечень названий столбцов таблицы df\n",
    "df.columns "
   ]
  },
  {
   "cell_type": "code",
   "execution_count": 144,
   "metadata": {
    "id": "ISlFqs5y_Zct"
   },
   "outputs": [],
   "source": [
    "df = df.rename(columns = {\"  userID\":\"user_id\", 'Track':\"track\", \"  City  \":\"city\", \"Day\":\"day\"})"
   ]
  },
  {
   "cell_type": "markdown",
   "metadata": {
    "id": "1dqbh00J_Zct"
   },
   "source": [
    "Проверьте результат. Для этого ещё раз выведите на экран названия столбцов:"
   ]
  },
  {
   "cell_type": "code",
   "execution_count": 145,
   "metadata": {
    "id": "d4NOAmTW_Zct"
   },
   "outputs": [
    {
     "data": {
      "text/plain": [
       "Index(['user_id', 'track', 'artist', 'genre', 'city', 'time', 'day'], dtype='object')"
      ]
     },
     "execution_count": 145,
     "metadata": {},
     "output_type": "execute_result"
    }
   ],
   "source": [
    "# проверка результатов - перечень названий столбцов\n",
    "df.columns"
   ]
  },
  {
   "cell_type": "code",
   "execution_count": 146,
   "metadata": {
    "id": "RskX29qr_Zct"
   },
   "outputs": [
    {
     "data": {
      "text/plain": [
       "user_id       0\n",
       "track      1231\n",
       "artist     7203\n",
       "genre      1198\n",
       "city          0\n",
       "time          0\n",
       "day           0\n",
       "dtype: int64"
      ]
     },
     "execution_count": 146,
     "metadata": {},
     "output_type": "execute_result"
    }
   ],
   "source": [
    "# подсчёт пропусков\n",
    "df.isna().sum()"
   ]
  },
  {
   "cell_type": "markdown",
   "metadata": {
    "id": "fSv2laPA_Zct"
   },
   "source": [
    "Замените пропущенные значения в столбцах `track`, `artist` и `genre` на строку `'unknown'`. Для этого создайте список `columns_to_replace`, переберите его элементы циклом `for` и для каждого столбца выполните замену пропущенных значений:"
   ]
  },
  {
   "cell_type": "code",
   "execution_count": 147,
   "metadata": {
    "id": "KplB5qWs_Zct"
   },
   "outputs": [],
   "source": [
    "# перебор названий столбцов в цикле и замена пропущенных значений на 'unknown'\n",
    "columns_to_replace = [\"track\", \"artist\", \"genre\"]\n",
    "for index in columns_to_replace:\n",
    "    df[index] = df[index].fillna(\"unknown\")"
   ]
  },
  {
   "cell_type": "code",
   "execution_count": 148,
   "metadata": {
    "id": "Tq4nYRX4_Zct"
   },
   "outputs": [
    {
     "data": {
      "text/plain": [
       "user_id    0\n",
       "track      0\n",
       "artist     0\n",
       "genre      0\n",
       "city       0\n",
       "time       0\n",
       "day        0\n",
       "dtype: int64"
      ]
     },
     "execution_count": 148,
     "metadata": {},
     "output_type": "execute_result"
    }
   ],
   "source": [
    "# подсчёт пропусков\n",
    "df.isna().sum()"
   ]
  },
  {
   "cell_type": "markdown",
   "metadata": {
    "id": "BWKRtBJ3_Zct"
   },
   "source": [
    "\n",
    "### Дубликаты\n",
    "Посчитайте явные дубликаты в таблице одной командой:"
   ]
  },
  {
   "cell_type": "code",
   "execution_count": 149,
   "metadata": {
    "id": "36eES_S0_Zct"
   },
   "outputs": [
    {
     "data": {
      "text/plain": [
       "3826"
      ]
     },
     "execution_count": 149,
     "metadata": {},
     "output_type": "execute_result"
    }
   ],
   "source": [
    "# подсчёт явных дубликатов\n",
    "df.duplicated().sum()"
   ]
  },
  {
   "cell_type": "markdown",
   "metadata": {
    "id": "Ot25h6XR_Zct"
   },
   "source": [
    "\n",
    "\n",
    "Вызовите специальный метод `pandas`, чтобы удалить явные дубликаты:"
   ]
  },
  {
   "cell_type": "code",
   "execution_count": 150,
   "metadata": {
    "id": "exFHq6tt_Zct"
   },
   "outputs": [],
   "source": [
    "# удаление явных дубликатов (с удалением старых индексов и формированием новых)\n",
    "df = df.drop_duplicates().reset_index(drop=\"True\")"
   ]
  },
  {
   "cell_type": "code",
   "execution_count": 151,
   "metadata": {
    "id": "-8PuNWQ0_Zct"
   },
   "outputs": [
    {
     "data": {
      "text/plain": [
       "0"
      ]
     },
     "execution_count": 151,
     "metadata": {},
     "output_type": "execute_result"
    }
   ],
   "source": [
    "# проверка на отсутствие дубликатов\n",
    "df.duplicated().sum()"
   ]
  },
  {
   "cell_type": "markdown",
   "metadata": {
    "id": "QlFBsxAr_Zct"
   },
   "source": [
    "Теперь избавьтесь от неявных дубликатов в колонке `genre`. Например, название одного и того же жанра может быть записано немного по-разному. Такие ошибки тоже повлияют на результат исследования."
   ]
  },
  {
   "cell_type": "markdown",
   "metadata": {
    "id": "eSjWwsOh_Zct"
   },
   "source": [
    "Выведите на экран список уникальных названий жанров, отсортированный в алфавитном порядке. Для этого:\n",
    "* извлеките нужный столбец датафрейма, \n",
    "* примените к нему метод сортировки,\n",
    "* для отсортированного столбца вызовите метод, который вернёт уникальные значения из столбца."
   ]
  },
  {
   "cell_type": "code",
   "execution_count": 152,
   "metadata": {
    "id": "JIUcqzZN_Zct"
   },
   "outputs": [
    {
     "data": {
      "text/plain": [
       "array(['acid', 'acoustic', 'action', 'adult', 'africa', 'afrikaans',\n",
       "       'alternative', 'alternativepunk', 'ambient', 'americana',\n",
       "       'animated', 'anime', 'arabesk', 'arabic', 'arena',\n",
       "       'argentinetango', 'art', 'audiobook', 'author', 'avantgarde',\n",
       "       'axé', 'baile', 'balkan', 'beats', 'bigroom', 'black', 'bluegrass',\n",
       "       'blues', 'bollywood', 'bossa', 'brazilian', 'breakbeat', 'breaks',\n",
       "       'broadway', 'cantautori', 'cantopop', 'canzone', 'caribbean',\n",
       "       'caucasian', 'celtic', 'chamber', 'chanson', 'children', 'chill',\n",
       "       'chinese', 'choral', 'christian', 'christmas', 'classical',\n",
       "       'classicmetal', 'club', 'colombian', 'comedy', 'conjazz',\n",
       "       'contemporary', 'country', 'cuban', 'dance', 'dancehall',\n",
       "       'dancepop', 'dark', 'death', 'deep', 'deutschrock', 'deutschspr',\n",
       "       'dirty', 'disco', 'dnb', 'documentary', 'downbeat', 'downtempo',\n",
       "       'drum', 'dub', 'dubstep', 'eastern', 'easy', 'electronic',\n",
       "       'electropop', 'emo', 'entehno', 'epicmetal', 'estrada', 'ethnic',\n",
       "       'eurofolk', 'european', 'experimental', 'extrememetal', 'fado',\n",
       "       'fairytail', 'film', 'fitness', 'flamenco', 'folk', 'folklore',\n",
       "       'folkmetal', 'folkrock', 'folktronica', 'forró', 'frankreich',\n",
       "       'französisch', 'french', 'funk', 'future', 'gangsta', 'garage',\n",
       "       'german', 'ghazal', 'gitarre', 'glitch', 'gospel', 'gothic',\n",
       "       'grime', 'grunge', 'gypsy', 'handsup', \"hard'n'heavy\", 'hardcore',\n",
       "       'hardstyle', 'hardtechno', 'hip', 'hip-hop', 'hiphop',\n",
       "       'historisch', 'holiday', 'hop', 'horror', 'house', 'hymn', 'idm',\n",
       "       'independent', 'indian', 'indie', 'indipop', 'industrial',\n",
       "       'inspirational', 'instrumental', 'international', 'irish', 'jam',\n",
       "       'japanese', 'jazz', 'jewish', 'jpop', 'jungle', 'k-pop',\n",
       "       'karadeniz', 'karaoke', 'kayokyoku', 'korean', 'laiko', 'latin',\n",
       "       'latino', 'leftfield', 'local', 'lounge', 'loungeelectronic',\n",
       "       'lovers', 'malaysian', 'mandopop', 'marschmusik', 'meditative',\n",
       "       'mediterranean', 'melodic', 'metal', 'metalcore', 'mexican',\n",
       "       'middle', 'minimal', 'miscellaneous', 'modern', 'mood', 'mpb',\n",
       "       'muslim', 'native', 'neoklassik', 'neue', 'new', 'newage',\n",
       "       'newwave', 'nu', 'nujazz', 'numetal', 'oceania', 'old', 'opera',\n",
       "       'orchestral', 'other', 'piano', 'podcasts', 'pop', 'popdance',\n",
       "       'popelectronic', 'popeurodance', 'poprussian', 'post',\n",
       "       'posthardcore', 'postrock', 'power', 'progmetal', 'progressive',\n",
       "       'psychedelic', 'punjabi', 'punk', 'quebecois', 'ragga', 'ram',\n",
       "       'rancheras', 'rap', 'rave', 'reggae', 'reggaeton', 'regional',\n",
       "       'relax', 'religious', 'retro', 'rhythm', 'rnb', 'rnr', 'rock',\n",
       "       'rockabilly', 'rockalternative', 'rockindie', 'rockother',\n",
       "       'romance', 'roots', 'ruspop', 'rusrap', 'rusrock', 'russian',\n",
       "       'salsa', 'samba', 'scenic', 'schlager', 'self', 'sertanejo',\n",
       "       'shanson', 'shoegazing', 'showtunes', 'singer', 'ska', 'skarock',\n",
       "       'slow', 'smooth', 'soft', 'soul', 'soulful', 'sound', 'soundtrack',\n",
       "       'southern', 'specialty', 'speech', 'spiritual', 'sport',\n",
       "       'stonerrock', 'surf', 'swing', 'synthpop', 'synthrock',\n",
       "       'sängerportrait', 'tango', 'tanzorchester', 'taraftar', 'tatar',\n",
       "       'tech', 'techno', 'teen', 'thrash', 'top', 'traditional',\n",
       "       'tradjazz', 'trance', 'tribal', 'trip', 'triphop', 'tropical',\n",
       "       'türk', 'türkçe', 'ukrrock', 'unknown', 'urban', 'uzbek',\n",
       "       'variété', 'vi', 'videogame', 'vocal', 'western', 'world',\n",
       "       'worldbeat', 'ïîï', 'электроника'], dtype=object)"
      ]
     },
     "execution_count": 152,
     "metadata": {},
     "output_type": "execute_result"
    }
   ],
   "source": [
    "# Просмотр уникальных названий жанров\n",
    "df = df.sort_values(\"genre\")\n",
    "df[\"genre\"].unique()"
   ]
  },
  {
   "cell_type": "code",
   "execution_count": 153,
   "metadata": {
    "id": "ErNDkmns_Zct"
   },
   "outputs": [],
   "source": [
    "wrong_genres = [\"hip\", \"hop\", \"hip-hop\"]# Функция для замены неявных дубликатов\n",
    "correct_genre = \"hiphop\"\n",
    "def replace_wrong_genres(wrong_genres, correct_genre):\n",
    "    for wrong_genre in wrong_genres:\n",
    "        df[\"genre\"] = df[\"genre\"].replace(wrong_genre, correct_genre)"
   ]
  },
  {
   "cell_type": "code",
   "execution_count": 154,
   "metadata": {
    "id": "YN5i2hpmSo09"
   },
   "outputs": [],
   "source": [
    "replace_wrong_genres(wrong_genres, correct_genre)"
   ]
  },
  {
   "cell_type": "code",
   "execution_count": 155,
   "metadata": {
    "id": "wvixALnFG15m"
   },
   "outputs": [
    {
     "data": {
      "text/plain": [
       "array(['acid', 'acoustic', 'action', 'adult', 'africa', 'afrikaans',\n",
       "       'alternative', 'alternativepunk', 'ambient', 'americana',\n",
       "       'animated', 'anime', 'arabesk', 'arabic', 'arena',\n",
       "       'argentinetango', 'art', 'audiobook', 'author', 'avantgarde',\n",
       "       'axé', 'baile', 'balkan', 'beats', 'bigroom', 'black', 'bluegrass',\n",
       "       'blues', 'bollywood', 'bossa', 'brazilian', 'breakbeat', 'breaks',\n",
       "       'broadway', 'cantautori', 'cantopop', 'canzone', 'caribbean',\n",
       "       'caucasian', 'celtic', 'chamber', 'chanson', 'children', 'chill',\n",
       "       'chinese', 'choral', 'christian', 'christmas', 'classical',\n",
       "       'classicmetal', 'club', 'colombian', 'comedy', 'conjazz',\n",
       "       'contemporary', 'country', 'cuban', 'dance', 'dancehall',\n",
       "       'dancepop', 'dark', 'death', 'deep', 'deutschrock', 'deutschspr',\n",
       "       'dirty', 'disco', 'dnb', 'documentary', 'downbeat', 'downtempo',\n",
       "       'drum', 'dub', 'dubstep', 'eastern', 'easy', 'electronic',\n",
       "       'electropop', 'emo', 'entehno', 'epicmetal', 'estrada', 'ethnic',\n",
       "       'eurofolk', 'european', 'experimental', 'extrememetal', 'fado',\n",
       "       'fairytail', 'film', 'fitness', 'flamenco', 'folk', 'folklore',\n",
       "       'folkmetal', 'folkrock', 'folktronica', 'forró', 'frankreich',\n",
       "       'französisch', 'french', 'funk', 'future', 'gangsta', 'garage',\n",
       "       'german', 'ghazal', 'gitarre', 'glitch', 'gospel', 'gothic',\n",
       "       'grime', 'grunge', 'gypsy', 'handsup', \"hard'n'heavy\", 'hardcore',\n",
       "       'hardstyle', 'hardtechno', 'hiphop', 'historisch', 'holiday',\n",
       "       'horror', 'house', 'hymn', 'idm', 'independent', 'indian', 'indie',\n",
       "       'indipop', 'industrial', 'inspirational', 'instrumental',\n",
       "       'international', 'irish', 'jam', 'japanese', 'jazz', 'jewish',\n",
       "       'jpop', 'jungle', 'k-pop', 'karadeniz', 'karaoke', 'kayokyoku',\n",
       "       'korean', 'laiko', 'latin', 'latino', 'leftfield', 'local',\n",
       "       'lounge', 'loungeelectronic', 'lovers', 'malaysian', 'mandopop',\n",
       "       'marschmusik', 'meditative', 'mediterranean', 'melodic', 'metal',\n",
       "       'metalcore', 'mexican', 'middle', 'minimal', 'miscellaneous',\n",
       "       'modern', 'mood', 'mpb', 'muslim', 'native', 'neoklassik', 'neue',\n",
       "       'new', 'newage', 'newwave', 'nu', 'nujazz', 'numetal', 'oceania',\n",
       "       'old', 'opera', 'orchestral', 'other', 'piano', 'podcasts', 'pop',\n",
       "       'popdance', 'popelectronic', 'popeurodance', 'poprussian', 'post',\n",
       "       'posthardcore', 'postrock', 'power', 'progmetal', 'progressive',\n",
       "       'psychedelic', 'punjabi', 'punk', 'quebecois', 'ragga', 'ram',\n",
       "       'rancheras', 'rap', 'rave', 'reggae', 'reggaeton', 'regional',\n",
       "       'relax', 'religious', 'retro', 'rhythm', 'rnb', 'rnr', 'rock',\n",
       "       'rockabilly', 'rockalternative', 'rockindie', 'rockother',\n",
       "       'romance', 'roots', 'ruspop', 'rusrap', 'rusrock', 'russian',\n",
       "       'salsa', 'samba', 'scenic', 'schlager', 'self', 'sertanejo',\n",
       "       'shanson', 'shoegazing', 'showtunes', 'singer', 'ska', 'skarock',\n",
       "       'slow', 'smooth', 'soft', 'soul', 'soulful', 'sound', 'soundtrack',\n",
       "       'southern', 'specialty', 'speech', 'spiritual', 'sport',\n",
       "       'stonerrock', 'surf', 'swing', 'synthpop', 'synthrock',\n",
       "       'sängerportrait', 'tango', 'tanzorchester', 'taraftar', 'tatar',\n",
       "       'tech', 'techno', 'teen', 'thrash', 'top', 'traditional',\n",
       "       'tradjazz', 'trance', 'tribal', 'trip', 'triphop', 'tropical',\n",
       "       'türk', 'türkçe', 'ukrrock', 'unknown', 'urban', 'uzbek',\n",
       "       'variété', 'vi', 'videogame', 'vocal', 'western', 'world',\n",
       "       'worldbeat', 'ïîï', 'электроника'], dtype=object)"
      ]
     },
     "execution_count": 155,
     "metadata": {},
     "output_type": "execute_result"
    }
   ],
   "source": [
    "# Просмотр уникальных названий жанров# Проверка на неявные дубликаты\n",
    "df = df.sort_values(\"genre\")\n",
    "df[\"genre\"].unique()"
   ]
  },
  {
   "cell_type": "markdown",
   "metadata": {
    "id": "jz6a9-7HQUDd"
   },
   "source": [
    "\n",
    "\n",
    "**Выводы**\n",
    "\n",
    "Предобработка обнаружила три проблемы в данных:\n",
    "\n",
    "- нарушения в стиле заголовков,\n",
    "- пропущенные значения,\n",
    "- дубликаты — явные и неявные.\n",
    "\n",
    "Вы исправили заголовки, чтобы упростить работу с таблицей. Без дубликатов исследование станет более точным.\n",
    "\n",
    "Пропущенные значения вы заменили на `'unknown'`. Ещё предстоит увидеть, не повредят ли исследованию пропуски в колонке `genre`.\n",
    "\n",
    "Теперь можно перейти к проверке гипотез. "
   ]
  },
  {
   "cell_type": "markdown",
   "metadata": {
    "id": "WttZHXH0SqKk"
   },
   "source": [
    "## Проверка гипотез"
   ]
  },
  {
   "cell_type": "markdown",
   "metadata": {
    "id": "Im936VVi_Zcu"
   },
   "source": [
    "### Сравнение поведения пользователей двух столиц"
   ]
  },
  {
   "cell_type": "markdown",
   "metadata": {
    "id": "nwt_MuaL_Zcu"
   },
   "source": [
    "Первая гипотеза утверждает, что пользователи по-разному слушают музыку в Москве и Санкт-Петербурге. Проверьте это предположение по данным о трёх днях недели — понедельнике, среде и пятнице. Для этого:\n",
    "\n",
    "* Разделите пользователей Москвы и Санкт-Петербурга\n",
    "* Сравните, сколько треков послушала каждая группа пользователей в понедельник, среду и пятницу.\n"
   ]
  },
  {
   "cell_type": "markdown",
   "metadata": {
    "id": "8Dw_YMmT_Zcu"
   },
   "source": [
    "Для тренировки сначала выполните каждый из расчётов по отдельности. \n",
    "\n",
    "Оцените активность пользователей в каждом городе. Сгруппируйте данные по городу и посчитайте прослушивания в каждой группе.\n",
    "\n"
   ]
  },
  {
   "cell_type": "code",
   "execution_count": 156,
   "metadata": {
    "id": "0_Qs96oh_Zcu"
   },
   "outputs": [
    {
     "data": {
      "text/plain": [
       "city\n",
       "Moscow              42741\n",
       "Saint-Petersburg    18512\n",
       "Name: time, dtype: int64"
      ]
     },
     "execution_count": 156,
     "metadata": {},
     "output_type": "execute_result"
    }
   ],
   "source": [
    "df.groupby(\"city\")[\"time\"].count()# Подсчёт прослушиваний в каждом городе"
   ]
  },
  {
   "cell_type": "markdown",
   "metadata": {
    "id": "dzli3w8o_Zcu"
   },
   "source": [
    "\n",
    "В Москве прослушиваний больше, чем в Петербурге. Из этого не следует, что московские пользователи чаще слушают музыку. Просто самих пользователей в Москве больше.\n",
    "\n",
    "Теперь сгруппируйте данные по дню недели и подсчитайте прослушивания в понедельник, среду и пятницу. Учтите, что в данных есть информация только о прослушиваниях только за эти дни.\n"
   ]
  },
  {
   "cell_type": "code",
   "execution_count": 157,
   "metadata": {
    "id": "uZMKjiJz_Zcu"
   },
   "outputs": [
    {
     "data": {
      "text/plain": [
       "day\n",
       "Friday       21840\n",
       "Monday       21354\n",
       "Wednesday    18059\n",
       "Name: time, dtype: int64"
      ]
     },
     "execution_count": 157,
     "metadata": {},
     "output_type": "execute_result"
    }
   ],
   "source": [
    "df.groupby(\"day\")[\"time\"].count()# Подсчёт прослушиваний в каждый из трёх дней"
   ]
  },
  {
   "cell_type": "markdown",
   "metadata": {
    "id": "cC2tNrlL_Zcu"
   },
   "source": [
    "\n",
    "\n",
    "В среднем пользователи из двух городов менее активны по средам. Но картина может измениться, если рассмотреть каждый город в отдельности."
   ]
  },
  {
   "cell_type": "code",
   "execution_count": 158,
   "metadata": {
    "id": "Nz3GdQB1_Zcu"
   },
   "outputs": [],
   "source": [
    "# Объявляется функция с двумя параметрами: day, city.\n",
    "# В переменной track_list сохраняются те строки таблицы df, для которых значение в столбце 'day' равно параметру day и одновременно значениев столбце 'city' равно параметру city (используйте последовательную фильтрацию с помощью логической индексации).\n",
    "# Функция возвращает число - значение track_list_count.\n",
    "# В переменной track_list_count сохраняется число значений столбца 'user_id', рассчитанное методом count() для таблицы track_list.\n",
    "# Функция для подсчёта прослушиваний для конкретного города и дня.\n",
    "# С помощью последовательной фильтрации с логической индексацией она \n",
    "# сначала получит из исходной таблицы строки с нужным днём,\n",
    "# затем из результата отфильтрует строки с нужным городом,\n",
    "# методом count() посчитает количество значений в колонке user_id. \n",
    "# Это количество функция вернёт в качестве результата\n",
    "def number_tracks(day,city):# Объявляется функция с двумя параметрами: day, city.\n",
    "    track_list = df[df[\"day\"] == day ]# В переменной track_list сохраняются те строки таблицы df, для которых значение в столбце 'day' равно параметру day и одновременно значениев столбце 'city' равно параметру city (используйте последовательную фильтрацию с помощью логической индексации).\n",
    "    track_list = track_list[track_list[\"city\"] == city]\n",
    "    track_list_count = track_list[\"user_id\"].count()\n",
    "    return track_list_count # Функция возвращает число - значение track_list_count."
   ]
  },
  {
   "cell_type": "code",
   "execution_count": 159,
   "metadata": {
    "id": "rJcRATNQ_Zcu"
   },
   "outputs": [
    {
     "data": {
      "text/plain": [
       "15740"
      ]
     },
     "execution_count": 159,
     "metadata": {},
     "output_type": "execute_result"
    }
   ],
   "source": [
    "# количество прослушиваний в Москве по понедельникам\n",
    "number_tracks(\"Monday\", \"Moscow\")"
   ]
  },
  {
   "cell_type": "code",
   "execution_count": 160,
   "metadata": {
    "id": "hq_ncZ5T_Zcu"
   },
   "outputs": [
    {
     "data": {
      "text/plain": [
       "5614"
      ]
     },
     "execution_count": 160,
     "metadata": {},
     "output_type": "execute_result"
    }
   ],
   "source": [
    "# количество прослушиваний в Санкт-Петербурге по понедельникам\n",
    "number_tracks(\"Monday\", \"Saint-Petersburg\")"
   ]
  },
  {
   "cell_type": "code",
   "execution_count": 161,
   "metadata": {
    "id": "_NTy2VPU_Zcu"
   },
   "outputs": [
    {
     "data": {
      "text/plain": [
       "11056"
      ]
     },
     "execution_count": 161,
     "metadata": {},
     "output_type": "execute_result"
    }
   ],
   "source": [
    "# количество прослушиваний в Москве по средам\n",
    "number_tracks(\"Wednesday\", \"Moscow\")"
   ]
  },
  {
   "cell_type": "code",
   "execution_count": 162,
   "metadata": {
    "id": "j2y3TAwo_Zcu"
   },
   "outputs": [
    {
     "data": {
      "text/plain": [
       "7003"
      ]
     },
     "execution_count": 162,
     "metadata": {},
     "output_type": "execute_result"
    }
   ],
   "source": [
    "# количество прослушиваний в Питере по средам\n",
    "number_tracks(\"Wednesday\", \"Saint-Petersburg\")"
   ]
  },
  {
   "cell_type": "code",
   "execution_count": 163,
   "metadata": {
    "id": "vYDw5u_K_Zcu"
   },
   "outputs": [
    {
     "data": {
      "text/plain": [
       "15945"
      ]
     },
     "execution_count": 163,
     "metadata": {},
     "output_type": "execute_result"
    }
   ],
   "source": [
    "# количество прослушиваний в Москве по пятницам\n",
    "number_tracks(\"Friday\", \"Moscow\")"
   ]
  },
  {
   "cell_type": "code",
   "execution_count": 164,
   "metadata": {
    "id": "8_yzFtW3_Zcu"
   },
   "outputs": [
    {
     "data": {
      "text/plain": [
       "5895"
      ]
     },
     "execution_count": 164,
     "metadata": {},
     "output_type": "execute_result"
    }
   ],
   "source": [
    "# количество прослушиваний в Питере по пятницам\n",
    "number_tracks(\"Friday\", \"Saint-Petersburg\")"
   ]
  },
  {
   "cell_type": "markdown",
   "metadata": {
    "id": "7QXffbO-_Zcu"
   },
   "source": [
    "Создайте c помощью конструктора `pd.DataFrame` таблицу, где\n",
    "* названия колонок — `['city', 'monday', 'wednesday', 'friday']`;\n",
    "* данные — результаты, которые вы получили с помощью `number_tracks`."
   ]
  },
  {
   "cell_type": "code",
   "execution_count": 165,
   "metadata": {
    "id": "APAcLpOr_Zcu"
   },
   "outputs": [
    {
     "data": {
      "text/html": [
       "<div>\n",
       "<style scoped>\n",
       "    .dataframe tbody tr th:only-of-type {\n",
       "        vertical-align: middle;\n",
       "    }\n",
       "\n",
       "    .dataframe tbody tr th {\n",
       "        vertical-align: top;\n",
       "    }\n",
       "\n",
       "    .dataframe thead th {\n",
       "        text-align: right;\n",
       "    }\n",
       "</style>\n",
       "<table border=\"1\" class=\"dataframe\">\n",
       "  <thead>\n",
       "    <tr style=\"text-align: right;\">\n",
       "      <th></th>\n",
       "      <th>city</th>\n",
       "      <th>monday</th>\n",
       "      <th>wednesday</th>\n",
       "      <th>friday</th>\n",
       "    </tr>\n",
       "  </thead>\n",
       "  <tbody>\n",
       "    <tr>\n",
       "      <td>0</td>\n",
       "      <td>Moscow</td>\n",
       "      <td>15740</td>\n",
       "      <td>11056</td>\n",
       "      <td>15945</td>\n",
       "    </tr>\n",
       "    <tr>\n",
       "      <td>1</td>\n",
       "      <td>Saint-Petersburg</td>\n",
       "      <td>5614</td>\n",
       "      <td>7003</td>\n",
       "      <td>5895</td>\n",
       "    </tr>\n",
       "  </tbody>\n",
       "</table>\n",
       "</div>"
      ],
      "text/plain": [
       "               city  monday  wednesday  friday\n",
       "0            Moscow   15740      11056   15945\n",
       "1  Saint-Petersburg    5614       7003    5895"
      ]
     },
     "execution_count": 165,
     "metadata": {},
     "output_type": "execute_result"
    }
   ],
   "source": [
    "# Таблица с результатами\n",
    "pd.DataFrame( data = [[\"Moscow\" ,15740, 11056, 15945] , [\"Saint-Petersburg\", 5614, 7003, 5895]], columns = ['city', 'monday', 'wednesday', 'friday'])"
   ]
  },
  {
   "cell_type": "markdown",
   "metadata": {
    "id": "-EgPIHYu_Zcu"
   },
   "source": [
    "\n",
    "**Выводы**\n",
    "\n",
    "Данные показывают разницу поведения пользователей:\n",
    "\n",
    "- В Москве пик прослушиваний приходится на понедельник и пятницу, а в среду заметен спад.\n",
    "- В Петербурге, наоборот, больше слушают музыку по средам. Активность в понедельник и пятницу здесь почти в равной мере уступает среде.\n",
    "\n",
    "Значит, данные говорят в пользу первой гипотезы."
   ]
  },
  {
   "cell_type": "markdown",
   "metadata": {
    "id": "atZAxtq4_Zcu"
   },
   "source": [
    "### Музыка в начале и в конце недели"
   ]
  },
  {
   "cell_type": "markdown",
   "metadata": {
    "id": "eXrQqXFH_Zcu"
   },
   "source": [
    "Согласно второй гипотезе, утром в понедельник в Москве преобладают одни жанры, а в Петербурге — другие. Так же и вечером пятницы преобладают разные жанры — в зависимости от города."
   ]
  },
  {
   "cell_type": "markdown",
   "metadata": {
    "id": "S8UcW6Hw_Zcu"
   },
   "source": [
    "Сохраните таблицы с данными в две переменные:\n",
    "* по Москве — в `moscow_general`;\n",
    "* по Санкт-Петербургу — в `spb_general`."
   ]
  },
  {
   "cell_type": "code",
   "execution_count": 166,
   "metadata": {
    "id": "qeaFfM_P_Zcu"
   },
   "outputs": [],
   "source": [
    "# получение таблицы moscow_general из тех строк таблицы df, \n",
    "# для которых значение в столбце 'city' равно 'Moscow'\n",
    "moscow_general = df[df['city'] == \"Moscow\"]\n"
   ]
  },
  {
   "cell_type": "code",
   "execution_count": 167,
   "metadata": {
    "id": "ORaVRKto_Zcu"
   },
   "outputs": [],
   "source": [
    "# получение таблицы spb_general из тех строк таблицы df,\n",
    "# для которых значение в столбце 'city' равно 'Saint-Petersburg'\n",
    "spb_general = df[df[\"city\"] == \"Saint-Petersburg\"]\n",
    "\n"
   ]
  },
  {
   "cell_type": "code",
   "execution_count": 168,
   "metadata": {
    "id": "laJT9BYl_Zcu"
   },
   "outputs": [],
   "source": [
    "# Объявление функции genre_weekday() с параметрами table, day, time1, time2,\n",
    "# которая возвращает информацию о самых популярных жанрах в указанный день в\n",
    "# заданное время:\n",
    "# 1) в переменную genre_df сохраняются те строки переданного датафрейма table, для\n",
    "#    которых одновременно:\n",
    "#    - значение в столбце day равно значению аргумента day\n",
    "#    - значение в столбце time больше значения аргумента time1\n",
    "#    - значение в столбце time меньше значения аргумента time2\n",
    "#    Используйте последовательную фильтрацию с помощью логической индексации.\n",
    "# 2) сгруппировать датафрейм genre_df по столбцу genre, взять один из его\n",
    "#    столбцов и посчитать методом count() количество записей для каждого из\n",
    "#    присутствующих жанров, получившийся Series записать в переменную\n",
    "#    genre_df_count\n",
    "    \n",
    "# 3) отсортировать genre_df_count по убыванию встречаемости и сохранить\n",
    "#    в переменную genre_df_sorted\n",
    "# 4) вернуть Series из 10 первых значений genre_df_sorted, это будут топ-10\n",
    "#    популярных жанров (в указанный день, в заданное время)\n",
    "def genre_weekday(table, day, time1, time2):\n",
    "    genre_df = table[table['day'] == day]\n",
    "    genre_df = genre_df[genre_df['time'] > time1]\n",
    "    genre_df = genre_df[genre_df['time'] < time2]\n",
    "    genre_df_count = genre_df.groupby('genre')[\"user_id\"].count() \n",
    "    genre_df_sorted = genre_df_count.sort_values(ascending = False) \n",
    "    return genre_df_sorted.head(10) "
   ]
  },
  {
   "cell_type": "markdown",
   "metadata": {
    "id": "la2s2_PF_Zcu"
   },
   "source": [
    "\n",
    "\n",
    "Cравните результаты функции `genre_weekday()` для Москвы и Санкт-Петербурга в понедельник утром (с 7:00 до 11:00) и в пятницу вечером (с 17:00 до 23:00):"
   ]
  },
  {
   "cell_type": "code",
   "execution_count": 169,
   "metadata": {
    "id": "yz7itPUQ_Zcu"
   },
   "outputs": [
    {
     "data": {
      "text/plain": [
       "genre\n",
       "pop            781\n",
       "dance          549\n",
       "electronic     480\n",
       "rock           474\n",
       "hiphop         286\n",
       "ruspop         186\n",
       "world          181\n",
       "rusrap         175\n",
       "alternative    164\n",
       "unknown        161\n",
       "Name: user_id, dtype: int64"
      ]
     },
     "execution_count": 169,
     "metadata": {},
     "output_type": "execute_result"
    }
   ],
   "source": [
    "# вызов функции для утра понедельника в Москве (вместо df — таблица moscow_general)\n",
    "# объекты, хранящие время, являются строками и сравниваются как строки\n",
    "# пример вызова: genre_weekday(moscow_general, 'Monday', '07:00', '11:00')\n",
    "genre_weekday(moscow_general, 'Monday', '07:00', '11:00')"
   ]
  },
  {
   "cell_type": "code",
   "execution_count": 170,
   "metadata": {
    "id": "kwUcHPdy_Zcu"
   },
   "outputs": [
    {
     "data": {
      "text/plain": [
       "genre\n",
       "pop            218\n",
       "dance          182\n",
       "rock           162\n",
       "electronic     147\n",
       "hiphop          80\n",
       "ruspop          64\n",
       "alternative     58\n",
       "rusrap          55\n",
       "jazz            44\n",
       "classical       40\n",
       "Name: user_id, dtype: int64"
      ]
     },
     "execution_count": 170,
     "metadata": {},
     "output_type": "execute_result"
    }
   ],
   "source": [
    "# вызов функции для утра понедельника в Петербурге (вместо df — таблица spb_general)\n",
    "genre_weekday(spb_general, 'Monday', '07:00', '11:00')"
   ]
  },
  {
   "cell_type": "code",
   "execution_count": 171,
   "metadata": {
    "id": "EzXVRE1o_Zcu"
   },
   "outputs": [
    {
     "data": {
      "text/plain": [
       "genre\n",
       "pop            713\n",
       "rock           517\n",
       "dance          495\n",
       "electronic     482\n",
       "hiphop         273\n",
       "world          208\n",
       "ruspop         170\n",
       "alternative    163\n",
       "classical      163\n",
       "rusrap         142\n",
       "Name: user_id, dtype: int64"
      ]
     },
     "execution_count": 171,
     "metadata": {},
     "output_type": "execute_result"
    }
   ],
   "source": [
    "# вызов функции для вечера пятницы в Москве\n",
    "genre_weekday(moscow_general, 'Friday', '17:00', '23:00')"
   ]
  },
  {
   "cell_type": "code",
   "execution_count": 172,
   "metadata": {
    "id": "JZaEKu5v_Zcu"
   },
   "outputs": [
    {
     "data": {
      "text/plain": [
       "genre\n",
       "pop            256\n",
       "rock           216\n",
       "electronic     216\n",
       "dance          210\n",
       "hiphop          97\n",
       "alternative     63\n",
       "jazz            61\n",
       "classical       60\n",
       "rusrap          59\n",
       "world           54\n",
       "Name: user_id, dtype: int64"
      ]
     },
     "execution_count": 172,
     "metadata": {},
     "output_type": "execute_result"
    }
   ],
   "source": [
    "# вызов функции для вечера пятницы в Питере\n",
    "genre_weekday(spb_general, 'Friday', '17:00', '23:00')"
   ]
  },
  {
   "cell_type": "markdown",
   "metadata": {
    "id": "wrCe4MNX_Zcu"
   },
   "source": [
    "\n",
    "**Выводы**\n",
    "\n",
    "Если сравнить топ-10 жанров в понедельник утром, можно сделать такие выводы:\n",
    "\n",
    "1. В Москве и Петербурге слушают похожую музыку. Единственное отличие — в московский рейтинг вошёл жанр “world”, а в петербургский — джаз и классика.\n",
    "\n",
    "2. В Москве пропущенных значений оказалось так много, что значение `'unknown'` заняло десятое место среди самых популярных жанров. Значит, пропущенные значения занимают существенную долю в данных и угрожают достоверности исследования.\n",
    "\n",
    "Вечер пятницы не меняет эту картину. Некоторые жанры поднимаются немного выше, другие спускаются, но в целом топ-10 остаётся тем же самым.\n",
    "\n",
    "Таким образом, вторая гипотеза подтвердилась лишь частично:\n",
    "* Пользователи слушают похожую музыку в начале недели и в конце.\n",
    "* Разница между Москвой и Петербургом не слишком выражена. В Москве чаще слушают русскую популярную музыку, в Петербурге — джаз.\n",
    "\n",
    "Однако пропуски в данных ставят под сомнение этот результат. В Москве их так много, что рейтинг топ-10 мог бы выглядеть иначе, если бы не утерянные  данные о жанрах."
   ]
  },
  {
   "cell_type": "markdown",
   "metadata": {
    "id": "JolODAqr_Zcu"
   },
   "source": [
    "### Жанровые предпочтения в Москве и Петербурге\n",
    "\n",
    "Гипотеза: Петербург — столица рэпа, музыку этого жанра там слушают чаще, чем в Москве.  А Москва — город контрастов, в котором, тем не менее, преобладает поп-музыка."
   ]
  },
  {
   "cell_type": "markdown",
   "metadata": {
    "id": "DlegSvaT_Zcu"
   },
   "source": [
    "Сгруппируйте таблицу `moscow_general` по жанру и посчитайте прослушивания треков каждого жанра методом `count()`. Затем отсортируйте результат в порядке убывания и сохраните его в таблице `moscow_genres`."
   ]
  },
  {
   "cell_type": "code",
   "execution_count": 173,
   "metadata": {
    "id": "r19lIPke_Zcu"
   },
   "outputs": [],
   "source": [
    "# одной строкой: группировка таблицы moscow_general по столбцу 'genre',\n",
    "# подсчёт числа значений 'genre' в этой группировке методом count(),\n",
    "# сортировка получившегося Series в порядке убывания и сохранение в moscow_genres\n",
    "moscow_genres = moscow_general.groupby('genre')[\"user_id\"].count().sort_values(ascending = False)\n"
   ]
  },
  {
   "cell_type": "markdown",
   "metadata": {
    "id": "6kMuomxTiIr8"
   },
   "source": [
    "Выведите на экран первые десять строк `moscow_genres`:"
   ]
  },
  {
   "cell_type": "code",
   "execution_count": 174,
   "metadata": {
    "id": "WhCSooF8_Zcv"
   },
   "outputs": [
    {
     "data": {
      "text/plain": [
       "genre\n",
       "pop            5892\n",
       "dance          4435\n",
       "rock           3965\n",
       "electronic     3786\n",
       "hiphop         2096\n",
       "classical      1616\n",
       "world          1432\n",
       "alternative    1379\n",
       "ruspop         1372\n",
       "rusrap         1161\n",
       "Name: user_id, dtype: int64"
      ]
     },
     "execution_count": 174,
     "metadata": {},
     "output_type": "execute_result"
    }
   ],
   "source": [
    "# просмотр первых 10 строк moscow_genres\n",
    "moscow_genres.head(10)"
   ]
  },
  {
   "cell_type": "markdown",
   "metadata": {
    "id": "cnPG2vnN_Zcv"
   },
   "source": []
  },
  {
   "cell_type": "code",
   "execution_count": 175,
   "metadata": {
    "id": "gluLIpE7_Zcv"
   },
   "outputs": [],
   "source": [
    "# одной строкой: группировка таблицы spb_general по столбцу 'genre', \n",
    "# подсчёт числа значений 'genre' в этой группировке методом count(), \n",
    "# сортировка получившегося Series в порядке убывания и сохранение в spb_genres\n",
    "spb_genres = spb_general.groupby('genre')['user_id'].count().sort_values(ascending = False)"
   ]
  },
  {
   "cell_type": "markdown",
   "metadata": {
    "id": "5Doha_ODgyQ8"
   },
   "source": [
    "Выведите на экран первые десять строк `spb_genres`:"
   ]
  },
  {
   "cell_type": "code",
   "execution_count": 176,
   "metadata": {
    "id": "uaGJHjVU_Zcv"
   },
   "outputs": [
    {
     "data": {
      "text/plain": [
       "genre\n",
       "pop            2431\n",
       "dance          1932\n",
       "rock           1879\n",
       "electronic     1736\n",
       "hiphop          960\n",
       "alternative     649\n",
       "classical       646\n",
       "rusrap          564\n",
       "ruspop          538\n",
       "world           515\n",
       "Name: user_id, dtype: int64"
      ]
     },
     "execution_count": 176,
     "metadata": {},
     "output_type": "execute_result"
    }
   ],
   "source": [
    "# просмотр первых 10 строк spb_genres\n",
    "spb_genres.head(10)"
   ]
  },
  {
   "cell_type": "markdown",
   "metadata": {
    "id": "RY51YJYu_Zcv"
   },
   "source": [
    "\n",
    "**Выводы**"
   ]
  },
  {
   "cell_type": "markdown",
   "metadata": {
    "id": "nVhnJEm__Zcv"
   },
   "source": [
    "Гипотеза частично подтвердилась:\n",
    "* Поп-музыка — самый популярный жанр в Москве, как и предполагала гипотеза. Более того, в топ-10 жанров встречается близкий жанр — русская популярная музыка.\n",
    "* Вопреки ожиданиям, рэп одинаково популярен в Москве и Петербурге. \n"
   ]
  },
  {
   "cell_type": "markdown",
   "metadata": {
    "id": "ykKQ0N65_Zcv"
   },
   "source": [
    "## Итоги исследования"
   ]
  },
  {
   "cell_type": "markdown",
   "metadata": {
    "id": "tjUwbHb3_Zcv"
   },
   "source": [
    "Вы проверили три гипотезы и установили:\n",
    "\n",
    "1. День недели по-разному влияет на активность пользователей в Москве и Петербурге. \n",
    "\n",
    "Первая гипотеза полностью подтвердилась.\n",
    "\n",
    "2. Музыкальные предпочтения не сильно меняются в течение недели — будь то Москва или Петербург. Небольшие различия заметны в начале недели, по понедельникам:\n",
    "* в Москве слушают музыку жанра “world”,\n",
    "* в Петербурге — джаз и классику.\n",
    "\n",
    "Таким образом, вторая гипотеза подтвердилась лишь отчасти. Этот результат мог оказаться иным, если бы не пропуски в данных.\n",
    "\n",
    "3. Во вкусах пользователей Москвы и Петербурга больше общего чем различий. Вопреки ожиданиям, предпочтения жанров в Петербурге напоминают московские.\n",
    "\n",
    "Третья гипотеза не подтвердилась. Если различия в предпочтениях и существуют, на основной массе пользователей они незаметны.\n",
    "\n",
    "**На практике исследования содержат проверки статистических гипотез.**\n",
    "Из данных одного сервиса не всегда можно сделать вывод о всех жителях города.\n",
    "Проверки статистических гипотез покажут, насколько они достоверны, исходя из имеющихся данных. \n",
    "С методами проверок гипотез вы ещё познакомитесь в следующих темах."
   ]
  }
 ],
 "metadata": {
  "ExecuteTimeLog": [
   {
    "duration": 650,
    "start_time": "2021-11-17T11:51:23.969Z"
   },
   {
    "duration": 126,
    "start_time": "2021-11-17T11:52:08.654Z"
   },
   {
    "duration": 15,
    "start_time": "2021-11-17T11:52:26.439Z"
   },
   {
    "duration": 8,
    "start_time": "2021-11-17T11:53:11.221Z"
   },
   {
    "duration": 15,
    "start_time": "2021-11-17T11:54:40.686Z"
   },
   {
    "duration": 329,
    "start_time": "2021-11-17T12:45:31.912Z"
   },
   {
    "duration": 312,
    "start_time": "2021-11-17T12:45:43.358Z"
   },
   {
    "duration": 273,
    "start_time": "2021-11-17T12:45:52.422Z"
   },
   {
    "duration": 24,
    "start_time": "2021-11-17T12:46:04.340Z"
   },
   {
    "duration": 276,
    "start_time": "2021-11-17T12:53:06.983Z"
   },
   {
    "duration": 302,
    "start_time": "2021-11-17T12:53:30.312Z"
   },
   {
    "duration": 5,
    "start_time": "2021-11-17T12:53:33.809Z"
   },
   {
    "duration": 5,
    "start_time": "2021-11-17T12:53:44.790Z"
   },
   {
    "duration": 4,
    "start_time": "2021-11-17T12:53:53.402Z"
   },
   {
    "duration": 20,
    "start_time": "2021-11-17T13:00:21.609Z"
   },
   {
    "duration": 4,
    "start_time": "2021-11-17T13:00:34.756Z"
   },
   {
    "duration": 19,
    "start_time": "2021-11-17T13:00:47.410Z"
   },
   {
    "duration": 5,
    "start_time": "2021-11-17T13:00:50.579Z"
   },
   {
    "duration": 19,
    "start_time": "2021-11-17T13:01:36.248Z"
   },
   {
    "duration": 16,
    "start_time": "2021-11-17T13:02:06.021Z"
   },
   {
    "duration": 3,
    "start_time": "2021-11-17T13:02:09.959Z"
   },
   {
    "duration": 11,
    "start_time": "2021-11-17T13:02:24.752Z"
   },
   {
    "duration": 5,
    "start_time": "2021-11-17T13:02:27.000Z"
   },
   {
    "duration": 19,
    "start_time": "2021-11-17T13:02:51.222Z"
   },
   {
    "duration": 5,
    "start_time": "2021-11-17T13:02:53.680Z"
   },
   {
    "duration": 32,
    "start_time": "2021-11-17T13:05:44.523Z"
   },
   {
    "duration": 19,
    "start_time": "2021-11-17T13:15:36.463Z"
   },
   {
    "duration": 36,
    "start_time": "2021-11-17T13:15:53.973Z"
   },
   {
    "duration": 411,
    "start_time": "2021-11-17T13:16:26.796Z"
   },
   {
    "duration": 49,
    "start_time": "2021-11-17T13:16:36.716Z"
   },
   {
    "duration": 255,
    "start_time": "2021-11-17T13:21:54.558Z"
   },
   {
    "duration": 62,
    "start_time": "2021-11-17T13:22:00.944Z"
   },
   {
    "duration": 50,
    "start_time": "2021-11-17T13:31:46.803Z"
   },
   {
    "duration": 58,
    "start_time": "2021-11-17T13:32:10.660Z"
   },
   {
    "duration": 51,
    "start_time": "2021-11-17T13:32:47.737Z"
   },
   {
    "duration": 59,
    "start_time": "2021-11-17T13:32:51.336Z"
   },
   {
    "duration": 48,
    "start_time": "2021-11-17T13:32:59.488Z"
   },
   {
    "duration": 46,
    "start_time": "2021-11-17T13:35:37.244Z"
   },
   {
    "duration": 94,
    "start_time": "2021-11-17T13:36:12.833Z"
   },
   {
    "duration": 85,
    "start_time": "2021-11-17T13:36:21.088Z"
   },
   {
    "duration": 44,
    "start_time": "2021-11-17T13:36:26.266Z"
   },
   {
    "duration": 50,
    "start_time": "2021-11-17T13:36:52.606Z"
   },
   {
    "duration": 56,
    "start_time": "2021-11-17T13:37:03.218Z"
   },
   {
    "duration": 45,
    "start_time": "2021-11-17T13:37:35.041Z"
   },
   {
    "duration": 45,
    "start_time": "2021-11-17T13:38:25.182Z"
   },
   {
    "duration": 45,
    "start_time": "2021-11-17T13:38:28.237Z"
   },
   {
    "duration": 48,
    "start_time": "2021-11-17T13:44:00.231Z"
   },
   {
    "duration": 62,
    "start_time": "2021-11-17T13:44:05.391Z"
   },
   {
    "duration": 52,
    "start_time": "2021-11-17T13:47:24.248Z"
   },
   {
    "duration": 46,
    "start_time": "2021-11-17T13:47:31.696Z"
   },
   {
    "duration": 6,
    "start_time": "2021-11-17T13:50:59.653Z"
   },
   {
    "duration": 3,
    "start_time": "2021-11-17T14:08:31.626Z"
   },
   {
    "duration": 332,
    "start_time": "2021-11-17T14:10:48.846Z"
   },
   {
    "duration": 3,
    "start_time": "2021-11-17T14:11:14.336Z"
   },
   {
    "duration": 13,
    "start_time": "2021-11-17T14:11:17.570Z"
   },
   {
    "duration": 6,
    "start_time": "2021-11-17T14:14:48.642Z"
   },
   {
    "duration": 10,
    "start_time": "2021-11-17T14:23:11.390Z"
   },
   {
    "duration": 6,
    "start_time": "2021-11-17T14:23:35.681Z"
   },
   {
    "duration": 102,
    "start_time": "2021-11-17T14:23:47.849Z"
   },
   {
    "duration": 6,
    "start_time": "2021-11-17T14:23:56.924Z"
   },
   {
    "duration": 20,
    "start_time": "2021-11-17T14:24:12.060Z"
   },
   {
    "duration": 402,
    "start_time": "2021-11-17T14:24:14.390Z"
   },
   {
    "duration": 98,
    "start_time": "2021-11-17T14:24:39.749Z"
   },
   {
    "duration": 267,
    "start_time": "2021-11-17T14:24:43.738Z"
   },
   {
    "duration": 2,
    "start_time": "2021-11-17T14:24:57.272Z"
   },
   {
    "duration": 129,
    "start_time": "2021-11-17T14:25:00.113Z"
   },
   {
    "duration": 21,
    "start_time": "2021-11-17T14:25:02.681Z"
   },
   {
    "duration": 30,
    "start_time": "2021-11-17T14:25:06.878Z"
   },
   {
    "duration": 4,
    "start_time": "2021-11-17T14:25:12.345Z"
   },
   {
    "duration": 16,
    "start_time": "2021-11-17T14:25:17.123Z"
   },
   {
    "duration": 4,
    "start_time": "2021-11-17T14:25:19.620Z"
   },
   {
    "duration": 21,
    "start_time": "2021-11-17T14:25:25.730Z"
   },
   {
    "duration": 15,
    "start_time": "2021-11-17T14:25:33.366Z"
   },
   {
    "duration": 21,
    "start_time": "2021-11-17T14:25:37.207Z"
   },
   {
    "duration": 49,
    "start_time": "2021-11-17T14:25:40.337Z"
   },
   {
    "duration": 52,
    "start_time": "2021-11-17T14:25:43.513Z"
   },
   {
    "duration": 44,
    "start_time": "2021-11-17T14:25:49.317Z"
   },
   {
    "duration": 6,
    "start_time": "2021-11-17T14:26:05.973Z"
   },
   {
    "duration": 7,
    "start_time": "2021-11-17T14:26:22.469Z"
   },
   {
    "duration": 3,
    "start_time": "2021-11-17T14:26:29.735Z"
   },
   {
    "duration": 20,
    "start_time": "2021-11-17T14:26:33.302Z"
   },
   {
    "duration": 352,
    "start_time": "2021-11-17T14:26:36.893Z"
   },
   {
    "duration": 270,
    "start_time": "2021-11-17T14:26:45.732Z"
   },
   {
    "duration": 263,
    "start_time": "2021-11-17T14:28:12.754Z"
   },
   {
    "duration": 447,
    "start_time": "2021-11-17T14:28:56.087Z"
   },
   {
    "duration": 522,
    "start_time": "2021-11-17T14:29:15.643Z"
   },
   {
    "duration": 528,
    "start_time": "2021-11-17T14:29:18.808Z"
   },
   {
    "duration": 3,
    "start_time": "2021-11-17T14:29:23.683Z"
   },
   {
    "duration": 633,
    "start_time": "2021-11-17T14:29:25.891Z"
   },
   {
    "duration": 3,
    "start_time": "2021-11-17T14:29:41.000Z"
   },
   {
    "duration": 129,
    "start_time": "2021-11-17T14:29:41.016Z"
   },
   {
    "duration": 10,
    "start_time": "2021-11-17T14:29:41.147Z"
   },
   {
    "duration": 43,
    "start_time": "2021-11-17T14:29:41.159Z"
   },
   {
    "duration": 8,
    "start_time": "2021-11-17T14:29:41.204Z"
   },
   {
    "duration": 16,
    "start_time": "2021-11-17T14:29:41.214Z"
   },
   {
    "duration": 4,
    "start_time": "2021-11-17T14:29:41.231Z"
   },
   {
    "duration": 24,
    "start_time": "2021-11-17T14:29:41.237Z"
   },
   {
    "duration": 44,
    "start_time": "2021-11-17T14:29:41.262Z"
   },
   {
    "duration": 21,
    "start_time": "2021-11-17T14:29:41.308Z"
   },
   {
    "duration": 72,
    "start_time": "2021-11-17T14:29:41.331Z"
   },
   {
    "duration": 56,
    "start_time": "2021-11-17T14:29:41.405Z"
   },
   {
    "duration": 57,
    "start_time": "2021-11-17T14:29:41.462Z"
   },
   {
    "duration": 6,
    "start_time": "2021-11-17T14:29:41.521Z"
   },
   {
    "duration": 4,
    "start_time": "2021-11-17T14:29:41.528Z"
   },
   {
    "duration": 20,
    "start_time": "2021-11-17T14:29:41.534Z"
   },
   {
    "duration": 7,
    "start_time": "2021-11-17T14:29:41.556Z"
   },
   {
    "duration": 22,
    "start_time": "2021-11-17T14:29:41.565Z"
   },
   {
    "duration": 3,
    "start_time": "2021-11-17T14:29:41.589Z"
   },
   {
    "duration": 4,
    "start_time": "2021-11-17T14:29:41.594Z"
   },
   {
    "duration": 11,
    "start_time": "2021-11-17T14:29:41.600Z"
   },
   {
    "duration": 5,
    "start_time": "2021-11-17T14:29:41.613Z"
   },
   {
    "duration": 5,
    "start_time": "2021-11-17T14:29:41.619Z"
   },
   {
    "duration": 7,
    "start_time": "2021-11-17T14:29:41.625Z"
   },
   {
    "duration": 5,
    "start_time": "2021-11-17T14:29:41.633Z"
   },
   {
    "duration": 6,
    "start_time": "2021-11-17T14:29:41.640Z"
   },
   {
    "duration": 4,
    "start_time": "2021-11-17T14:29:41.647Z"
   },
   {
    "duration": 5,
    "start_time": "2021-11-17T14:29:41.654Z"
   },
   {
    "duration": 4,
    "start_time": "2021-11-17T14:29:41.661Z"
   },
   {
    "duration": 4,
    "start_time": "2021-11-17T14:29:41.666Z"
   },
   {
    "duration": 3,
    "start_time": "2021-11-17T14:29:41.693Z"
   },
   {
    "duration": 6,
    "start_time": "2021-11-17T14:29:41.698Z"
   },
   {
    "duration": 9,
    "start_time": "2021-11-17T14:29:41.705Z"
   },
   {
    "duration": 4,
    "start_time": "2021-11-17T14:29:41.715Z"
   },
   {
    "duration": 10,
    "start_time": "2021-11-17T14:29:41.721Z"
   },
   {
    "duration": 10,
    "start_time": "2021-11-17T14:29:41.732Z"
   },
   {
    "duration": 7,
    "start_time": "2021-11-17T14:29:41.743Z"
   },
   {
    "duration": 9,
    "start_time": "2021-11-17T14:29:41.751Z"
   },
   {
    "duration": 23,
    "start_time": "2021-11-17T14:36:29.073Z"
   },
   {
    "duration": 290,
    "start_time": "2021-11-17T14:36:32.771Z"
   },
   {
    "duration": 733,
    "start_time": "2021-11-17T14:38:18.885Z"
   },
   {
    "duration": 3,
    "start_time": "2021-11-17T14:38:29.029Z"
   },
   {
    "duration": 537,
    "start_time": "2021-11-17T14:38:31.577Z"
   },
   {
    "duration": 387,
    "start_time": "2021-11-17T14:38:46.660Z"
   },
   {
    "duration": 3,
    "start_time": "2021-11-17T14:38:59.425Z"
   },
   {
    "duration": 139,
    "start_time": "2021-11-17T14:38:59.430Z"
   },
   {
    "duration": 11,
    "start_time": "2021-11-17T14:38:59.571Z"
   },
   {
    "duration": 34,
    "start_time": "2021-11-17T14:38:59.583Z"
   },
   {
    "duration": 4,
    "start_time": "2021-11-17T14:38:59.619Z"
   },
   {
    "duration": 19,
    "start_time": "2021-11-17T14:38:59.625Z"
   },
   {
    "duration": 3,
    "start_time": "2021-11-17T14:38:59.646Z"
   },
   {
    "duration": 53,
    "start_time": "2021-11-17T14:38:59.651Z"
   },
   {
    "duration": 15,
    "start_time": "2021-11-17T14:38:59.707Z"
   },
   {
    "duration": 21,
    "start_time": "2021-11-17T14:38:59.724Z"
   },
   {
    "duration": 75,
    "start_time": "2021-11-17T14:38:59.747Z"
   },
   {
    "duration": 66,
    "start_time": "2021-11-17T14:38:59.824Z"
   },
   {
    "duration": 48,
    "start_time": "2021-11-17T14:38:59.894Z"
   },
   {
    "duration": 6,
    "start_time": "2021-11-17T14:38:59.944Z"
   },
   {
    "duration": 8,
    "start_time": "2021-11-17T14:38:59.951Z"
   },
   {
    "duration": 16,
    "start_time": "2021-11-17T14:38:59.960Z"
   },
   {
    "duration": 23,
    "start_time": "2021-11-17T14:38:59.978Z"
   },
   {
    "duration": 3,
    "start_time": "2021-11-17T14:39:00.003Z"
   },
   {
    "duration": 12,
    "start_time": "2021-11-17T14:39:00.008Z"
   },
   {
    "duration": 6,
    "start_time": "2021-11-17T14:39:00.023Z"
   },
   {
    "duration": 5,
    "start_time": "2021-11-17T14:39:00.031Z"
   },
   {
    "duration": 8,
    "start_time": "2021-11-17T14:39:00.037Z"
   },
   {
    "duration": 5,
    "start_time": "2021-11-17T14:39:00.046Z"
   },
   {
    "duration": 13,
    "start_time": "2021-11-17T14:39:00.053Z"
   },
   {
    "duration": 5,
    "start_time": "2021-11-17T14:39:00.068Z"
   },
   {
    "duration": 15,
    "start_time": "2021-11-17T14:39:00.075Z"
   },
   {
    "duration": 3,
    "start_time": "2021-11-17T14:39:00.092Z"
   },
   {
    "duration": 11,
    "start_time": "2021-11-17T14:39:00.098Z"
   },
   {
    "duration": 5,
    "start_time": "2021-11-17T14:39:00.111Z"
   },
   {
    "duration": 8,
    "start_time": "2021-11-17T14:39:00.118Z"
   },
   {
    "duration": 8,
    "start_time": "2021-11-17T14:39:00.127Z"
   },
   {
    "duration": 6,
    "start_time": "2021-11-17T14:39:00.137Z"
   },
   {
    "duration": 7,
    "start_time": "2021-11-17T14:39:00.145Z"
   },
   {
    "duration": 10,
    "start_time": "2021-11-17T14:39:00.153Z"
   },
   {
    "duration": 6,
    "start_time": "2021-11-17T14:39:00.165Z"
   },
   {
    "duration": 10,
    "start_time": "2021-11-17T14:39:00.172Z"
   },
   {
    "duration": 16,
    "start_time": "2021-11-17T14:39:00.184Z"
   },
   {
    "duration": 8,
    "start_time": "2021-11-17T14:39:00.202Z"
   },
   {
    "duration": 3,
    "start_time": "2021-11-17T14:40:48.907Z"
   },
   {
    "duration": 129,
    "start_time": "2021-11-17T14:40:48.911Z"
   },
   {
    "duration": 9,
    "start_time": "2021-11-17T14:40:49.042Z"
   },
   {
    "duration": 40,
    "start_time": "2021-11-17T14:40:49.053Z"
   },
   {
    "duration": 6,
    "start_time": "2021-11-17T14:40:49.095Z"
   },
   {
    "duration": 17,
    "start_time": "2021-11-17T14:40:49.103Z"
   },
   {
    "duration": 10,
    "start_time": "2021-11-17T14:40:49.122Z"
   },
   {
    "duration": 28,
    "start_time": "2021-11-17T14:40:49.135Z"
   },
   {
    "duration": 35,
    "start_time": "2021-11-17T14:40:49.165Z"
   },
   {
    "duration": 20,
    "start_time": "2021-11-17T14:40:49.203Z"
   },
   {
    "duration": 61,
    "start_time": "2021-11-17T14:40:49.224Z"
   },
   {
    "duration": 56,
    "start_time": "2021-11-17T14:40:49.286Z"
   },
   {
    "duration": 57,
    "start_time": "2021-11-17T14:40:49.344Z"
   },
   {
    "duration": 12,
    "start_time": "2021-11-17T14:40:49.403Z"
   },
   {
    "duration": 9,
    "start_time": "2021-11-17T14:40:49.416Z"
   },
   {
    "duration": 19,
    "start_time": "2021-11-17T14:40:49.427Z"
   },
   {
    "duration": 267,
    "start_time": "2021-11-17T14:40:49.447Z"
   },
   {
    "duration": -1783,
    "start_time": "2021-11-17T14:40:51.500Z"
   },
   {
    "duration": -1788,
    "start_time": "2021-11-17T14:40:51.506Z"
   },
   {
    "duration": -1794,
    "start_time": "2021-11-17T14:40:51.513Z"
   },
   {
    "duration": -1798,
    "start_time": "2021-11-17T14:40:51.518Z"
   },
   {
    "duration": -1803,
    "start_time": "2021-11-17T14:40:51.524Z"
   },
   {
    "duration": -1807,
    "start_time": "2021-11-17T14:40:51.529Z"
   },
   {
    "duration": -1815,
    "start_time": "2021-11-17T14:40:51.538Z"
   },
   {
    "duration": -1821,
    "start_time": "2021-11-17T14:40:51.544Z"
   },
   {
    "duration": -1826,
    "start_time": "2021-11-17T14:40:51.550Z"
   },
   {
    "duration": -1830,
    "start_time": "2021-11-17T14:40:51.555Z"
   },
   {
    "duration": -1834,
    "start_time": "2021-11-17T14:40:51.560Z"
   },
   {
    "duration": -1838,
    "start_time": "2021-11-17T14:40:51.565Z"
   },
   {
    "duration": -1842,
    "start_time": "2021-11-17T14:40:51.570Z"
   },
   {
    "duration": -1856,
    "start_time": "2021-11-17T14:40:51.585Z"
   },
   {
    "duration": -1861,
    "start_time": "2021-11-17T14:40:51.591Z"
   },
   {
    "duration": -1865,
    "start_time": "2021-11-17T14:40:51.596Z"
   },
   {
    "duration": -1869,
    "start_time": "2021-11-17T14:40:51.601Z"
   },
   {
    "duration": -1872,
    "start_time": "2021-11-17T14:40:51.605Z"
   },
   {
    "duration": -1875,
    "start_time": "2021-11-17T14:40:51.609Z"
   },
   {
    "duration": -1879,
    "start_time": "2021-11-17T14:40:51.614Z"
   },
   {
    "duration": -1882,
    "start_time": "2021-11-17T14:40:51.618Z"
   },
   {
    "duration": 5,
    "start_time": "2021-11-17T14:44:10.488Z"
   },
   {
    "duration": 538,
    "start_time": "2021-11-17T14:44:13.337Z"
   },
   {
    "duration": 273,
    "start_time": "2021-11-17T14:44:35.344Z"
   },
   {
    "duration": 2,
    "start_time": "2021-11-17T14:44:50.551Z"
   },
   {
    "duration": 136,
    "start_time": "2021-11-17T14:44:50.555Z"
   },
   {
    "duration": 15,
    "start_time": "2021-11-17T14:44:50.693Z"
   },
   {
    "duration": 32,
    "start_time": "2021-11-17T14:44:50.710Z"
   },
   {
    "duration": 4,
    "start_time": "2021-11-17T14:44:50.744Z"
   },
   {
    "duration": 21,
    "start_time": "2021-11-17T14:44:50.750Z"
   },
   {
    "duration": 17,
    "start_time": "2021-11-17T14:44:50.773Z"
   },
   {
    "duration": 25,
    "start_time": "2021-11-17T14:44:50.801Z"
   },
   {
    "duration": 16,
    "start_time": "2021-11-17T14:44:50.830Z"
   },
   {
    "duration": 55,
    "start_time": "2021-11-17T14:44:50.848Z"
   },
   {
    "duration": 49,
    "start_time": "2021-11-17T14:44:50.905Z"
   },
   {
    "duration": 83,
    "start_time": "2021-11-17T14:44:50.956Z"
   },
   {
    "duration": 53,
    "start_time": "2021-11-17T14:44:51.041Z"
   },
   {
    "duration": 8,
    "start_time": "2021-11-17T14:44:51.097Z"
   },
   {
    "duration": 6,
    "start_time": "2021-11-17T14:44:51.106Z"
   },
   {
    "duration": 15,
    "start_time": "2021-11-17T14:44:51.114Z"
   },
   {
    "duration": 7,
    "start_time": "2021-11-17T14:44:51.131Z"
   },
   {
    "duration": 5,
    "start_time": "2021-11-17T14:44:51.139Z"
   },
   {
    "duration": 10,
    "start_time": "2021-11-17T14:44:51.146Z"
   },
   {
    "duration": 6,
    "start_time": "2021-11-17T14:44:51.158Z"
   },
   {
    "duration": 10,
    "start_time": "2021-11-17T14:44:51.166Z"
   },
   {
    "duration": 13,
    "start_time": "2021-11-17T14:44:51.177Z"
   },
   {
    "duration": 7,
    "start_time": "2021-11-17T14:44:51.192Z"
   },
   {
    "duration": 9,
    "start_time": "2021-11-17T14:44:51.201Z"
   },
   {
    "duration": 4,
    "start_time": "2021-11-17T14:44:51.212Z"
   },
   {
    "duration": 11,
    "start_time": "2021-11-17T14:44:51.218Z"
   },
   {
    "duration": 2,
    "start_time": "2021-11-17T14:44:57.350Z"
   },
   {
    "duration": 6,
    "start_time": "2021-11-17T14:44:57.354Z"
   },
   {
    "duration": 4,
    "start_time": "2021-11-17T14:44:57.362Z"
   },
   {
    "duration": 7,
    "start_time": "2021-11-17T14:44:57.368Z"
   },
   {
    "duration": 7,
    "start_time": "2021-11-17T14:44:57.376Z"
   },
   {
    "duration": 7,
    "start_time": "2021-11-17T14:44:57.385Z"
   },
   {
    "duration": 11,
    "start_time": "2021-11-17T14:44:57.395Z"
   },
   {
    "duration": 13,
    "start_time": "2021-11-17T14:44:57.407Z"
   },
   {
    "duration": 6,
    "start_time": "2021-11-17T14:44:57.421Z"
   },
   {
    "duration": 2,
    "start_time": "2021-11-17T14:44:58.108Z"
   },
   {
    "duration": 5,
    "start_time": "2021-11-17T14:44:58.112Z"
   },
   {
    "duration": 12,
    "start_time": "2021-11-17T14:44:58.118Z"
   },
   {
    "duration": 330,
    "start_time": "2021-11-17T17:03:14.560Z"
   },
   {
    "duration": 761,
    "start_time": "2021-11-17T17:03:21.360Z"
   },
   {
    "duration": 195,
    "start_time": "2021-11-17T17:03:23.653Z"
   },
   {
    "duration": 28,
    "start_time": "2021-11-17T17:03:26.663Z"
   },
   {
    "duration": 38,
    "start_time": "2021-11-17T17:03:34.786Z"
   },
   {
    "duration": 6,
    "start_time": "2021-11-17T17:03:42.378Z"
   },
   {
    "duration": 25,
    "start_time": "2021-11-17T17:03:46.416Z"
   },
   {
    "duration": 6,
    "start_time": "2021-11-17T17:03:48.737Z"
   },
   {
    "duration": 5,
    "start_time": "2021-11-17T17:04:12.067Z"
   },
   {
    "duration": 30,
    "start_time": "2021-11-17T17:04:16.795Z"
   },
   {
    "duration": 23,
    "start_time": "2021-11-17T17:04:22.077Z"
   },
   {
    "duration": 31,
    "start_time": "2021-11-17T17:04:25.359Z"
   },
   {
    "duration": 86,
    "start_time": "2021-11-17T17:04:28.727Z"
   },
   {
    "duration": 104,
    "start_time": "2021-11-17T17:04:31.181Z"
   },
   {
    "duration": 78,
    "start_time": "2021-11-17T17:04:37.437Z"
   },
   {
    "duration": 10,
    "start_time": "2021-11-17T17:04:41.000Z"
   },
   {
    "duration": 5,
    "start_time": "2021-11-17T17:05:24.775Z"
   },
   {
    "duration": 30,
    "start_time": "2021-11-17T17:05:36.807Z"
   },
   {
    "duration": 10,
    "start_time": "2021-11-17T17:05:42.669Z"
   },
   {
    "duration": 6,
    "start_time": "2021-11-17T17:24:10.401Z"
   },
   {
    "duration": 21,
    "start_time": "2021-11-17T17:24:13.744Z"
   },
   {
    "duration": 10,
    "start_time": "2021-11-17T17:24:17.287Z"
   },
   {
    "duration": 8,
    "start_time": "2021-11-17T17:26:50.978Z"
   },
   {
    "duration": 13,
    "start_time": "2021-11-17T17:26:53.519Z"
   },
   {
    "duration": 14,
    "start_time": "2021-11-17T17:26:57.458Z"
   },
   {
    "duration": 306,
    "start_time": "2021-11-17T17:35:10.786Z"
   },
   {
    "duration": 6,
    "start_time": "2021-11-17T17:40:05.287Z"
   },
   {
    "duration": 44,
    "start_time": "2021-11-17T17:40:14.785Z"
   },
   {
    "duration": 16,
    "start_time": "2021-11-17T17:40:40.162Z"
   },
   {
    "duration": 15,
    "start_time": "2021-11-17T17:40:57.374Z"
   },
   {
    "duration": 16,
    "start_time": "2021-11-17T17:41:05.345Z"
   },
   {
    "duration": 45,
    "start_time": "2021-11-17T17:44:32.677Z"
   },
   {
    "duration": 16,
    "start_time": "2021-11-17T17:44:55.813Z"
   },
   {
    "duration": 17,
    "start_time": "2021-11-17T17:45:59.023Z"
   },
   {
    "duration": 97,
    "start_time": "2021-11-17T17:59:12.373Z"
   },
   {
    "duration": 5,
    "start_time": "2021-11-17T18:02:03.239Z"
   },
   {
    "duration": 110,
    "start_time": "2021-11-17T18:04:10.853Z"
   },
   {
    "duration": 23,
    "start_time": "2021-11-17T18:04:26.036Z"
   },
   {
    "duration": 31,
    "start_time": "2021-11-17T18:05:06.844Z"
   },
   {
    "duration": 28,
    "start_time": "2021-11-17T18:05:51.713Z"
   },
   {
    "duration": 26,
    "start_time": "2021-11-17T18:06:20.341Z"
   },
   {
    "duration": 22,
    "start_time": "2021-11-17T18:06:51.906Z"
   },
   {
    "duration": 32,
    "start_time": "2021-11-17T18:08:50.075Z"
   },
   {
    "duration": 30,
    "start_time": "2021-11-17T18:08:54.155Z"
   },
   {
    "duration": 287,
    "start_time": "2021-11-17T18:09:47.108Z"
   },
   {
    "duration": 251,
    "start_time": "2021-11-17T18:09:54.060Z"
   },
   {
    "duration": 21,
    "start_time": "2021-11-17T18:10:00.037Z"
   },
   {
    "duration": 5,
    "start_time": "2021-11-17T18:10:58.414Z"
   },
   {
    "duration": 22,
    "start_time": "2021-11-17T18:11:02.434Z"
   },
   {
    "duration": 4,
    "start_time": "2021-11-17T18:11:07.542Z"
   },
   {
    "duration": 24,
    "start_time": "2021-11-17T18:11:11.373Z"
   },
   {
    "duration": 24,
    "start_time": "2021-11-17T18:11:13.983Z"
   },
   {
    "duration": 21,
    "start_time": "2021-11-17T18:11:23.508Z"
   },
   {
    "duration": 26,
    "start_time": "2021-11-17T18:11:24.087Z"
   },
   {
    "duration": 28,
    "start_time": "2021-11-17T18:11:24.744Z"
   },
   {
    "duration": 21,
    "start_time": "2021-11-17T18:11:25.597Z"
   },
   {
    "duration": 30,
    "start_time": "2021-11-17T18:11:27.827Z"
   },
   {
    "duration": 27,
    "start_time": "2021-11-17T18:11:28.757Z"
   },
   {
    "duration": 6,
    "start_time": "2021-11-17T18:12:58.175Z"
   },
   {
    "duration": 6,
    "start_time": "2021-11-17T18:13:30.545Z"
   },
   {
    "duration": -577,
    "start_time": "2021-11-17T18:13:40.270Z"
   },
   {
    "duration": 5,
    "start_time": "2021-11-17T18:13:54.420Z"
   },
   {
    "duration": -623,
    "start_time": "2021-11-17T18:14:03.869Z"
   },
   {
    "duration": -624,
    "start_time": "2021-11-17T18:14:03.872Z"
   },
   {
    "duration": 7514,
    "start_time": "2021-11-17T18:14:09.898Z"
   },
   {
    "duration": 6661,
    "start_time": "2021-11-17T18:14:24.138Z"
   },
   {
    "duration": 5,
    "start_time": "2021-11-17T18:26:54.025Z"
   },
   {
    "duration": 31,
    "start_time": "2021-11-17T18:26:56.793Z"
   },
   {
    "duration": 5,
    "start_time": "2021-11-17T23:27:59.511Z"
   },
   {
    "duration": 23,
    "start_time": "2021-11-17T23:28:03.101Z"
   },
   {
    "duration": 27,
    "start_time": "2021-11-17T23:28:06.490Z"
   },
   {
    "duration": 25,
    "start_time": "2021-11-17T23:28:13.764Z"
   },
   {
    "duration": 5,
    "start_time": "2021-11-17T23:29:14.073Z"
   },
   {
    "duration": -870,
    "start_time": "2021-11-17T23:29:25.000Z"
   },
   {
    "duration": 6230,
    "start_time": "2021-11-17T23:29:24.466Z"
   },
   {
    "duration": -549,
    "start_time": "2021-11-17T23:29:48.238Z"
   },
   {
    "duration": 4,
    "start_time": "2021-11-17T23:30:26.994Z"
   },
   {
    "duration": 4886,
    "start_time": "2021-11-17T23:30:30.238Z"
   },
   {
    "duration": 5,
    "start_time": "2021-11-17T23:30:58.140Z"
   },
   {
    "duration": 5457,
    "start_time": "2021-11-17T23:31:01.262Z"
   },
   {
    "duration": 5198,
    "start_time": "2021-11-17T23:31:20.269Z"
   },
   {
    "duration": 5,
    "start_time": "2021-11-17T23:31:47.944Z"
   },
   {
    "duration": 4881,
    "start_time": "2021-11-17T23:31:52.257Z"
   },
   {
    "duration": 5242,
    "start_time": "2021-11-17T23:32:01.978Z"
   },
   {
    "duration": -885,
    "start_time": "2021-11-17T23:32:08.108Z"
   },
   {
    "duration": -887,
    "start_time": "2021-11-17T23:32:08.112Z"
   },
   {
    "duration": 4972,
    "start_time": "2021-11-17T23:32:07.592Z"
   },
   {
    "duration": 5,
    "start_time": "2021-11-17T23:33:36.779Z"
   },
   {
    "duration": 497,
    "start_time": "2021-11-17T23:33:40.538Z"
   },
   {
    "duration": 4,
    "start_time": "2021-11-17T23:34:37.035Z"
   },
   {
    "duration": 586,
    "start_time": "2021-11-17T23:34:40.658Z"
   },
   {
    "duration": 3,
    "start_time": "2021-11-17T23:34:50.635Z"
   },
   {
    "duration": 228,
    "start_time": "2021-11-17T23:34:50.644Z"
   },
   {
    "duration": 15,
    "start_time": "2021-11-17T23:34:50.875Z"
   },
   {
    "duration": 40,
    "start_time": "2021-11-17T23:34:50.893Z"
   },
   {
    "duration": 31,
    "start_time": "2021-11-17T23:34:50.936Z"
   },
   {
    "duration": 28,
    "start_time": "2021-11-17T23:34:50.969Z"
   },
   {
    "duration": 11,
    "start_time": "2021-11-17T23:34:50.999Z"
   },
   {
    "duration": 56,
    "start_time": "2021-11-17T23:34:51.012Z"
   },
   {
    "duration": 22,
    "start_time": "2021-11-17T23:34:51.072Z"
   },
   {
    "duration": 37,
    "start_time": "2021-11-17T23:34:51.097Z"
   },
   {
    "duration": 106,
    "start_time": "2021-11-17T23:34:51.136Z"
   },
   {
    "duration": 101,
    "start_time": "2021-11-17T23:34:51.245Z"
   },
   {
    "duration": 80,
    "start_time": "2021-11-17T23:34:51.348Z"
   },
   {
    "duration": 10,
    "start_time": "2021-11-17T23:34:51.430Z"
   },
   {
    "duration": 26,
    "start_time": "2021-11-17T23:34:51.442Z"
   },
   {
    "duration": 16,
    "start_time": "2021-11-17T23:34:51.471Z"
   },
   {
    "duration": 10,
    "start_time": "2021-11-17T23:34:51.490Z"
   },
   {
    "duration": 20,
    "start_time": "2021-11-17T23:34:51.503Z"
   },
   {
    "duration": 48,
    "start_time": "2021-11-17T23:34:51.525Z"
   },
   {
    "duration": 5,
    "start_time": "2021-11-17T23:34:51.575Z"
   },
   {
    "duration": 526,
    "start_time": "2021-11-17T23:34:51.583Z"
   },
   {
    "duration": -646,
    "start_time": "2021-11-17T23:34:52.758Z"
   },
   {
    "duration": -650,
    "start_time": "2021-11-17T23:34:52.763Z"
   },
   {
    "duration": -654,
    "start_time": "2021-11-17T23:34:52.769Z"
   },
   {
    "duration": -657,
    "start_time": "2021-11-17T23:34:52.773Z"
   },
   {
    "duration": -660,
    "start_time": "2021-11-17T23:34:52.778Z"
   },
   {
    "duration": -663,
    "start_time": "2021-11-17T23:34:52.782Z"
   },
   {
    "duration": -665,
    "start_time": "2021-11-17T23:34:52.786Z"
   },
   {
    "duration": -668,
    "start_time": "2021-11-17T23:34:52.790Z"
   },
   {
    "duration": -671,
    "start_time": "2021-11-17T23:34:52.795Z"
   },
   {
    "duration": -673,
    "start_time": "2021-11-17T23:34:52.798Z"
   },
   {
    "duration": -675,
    "start_time": "2021-11-17T23:34:52.802Z"
   },
   {
    "duration": -678,
    "start_time": "2021-11-17T23:34:52.806Z"
   },
   {
    "duration": -681,
    "start_time": "2021-11-17T23:34:52.810Z"
   },
   {
    "duration": -700,
    "start_time": "2021-11-17T23:34:52.831Z"
   },
   {
    "duration": -705,
    "start_time": "2021-11-17T23:34:52.837Z"
   },
   {
    "duration": -710,
    "start_time": "2021-11-17T23:34:52.843Z"
   },
   {
    "duration": -712,
    "start_time": "2021-11-17T23:34:52.847Z"
   },
   {
    "duration": 5,
    "start_time": "2021-11-17T23:35:34.510Z"
   },
   {
    "duration": 21,
    "start_time": "2021-11-17T23:35:37.442Z"
   },
   {
    "duration": 26,
    "start_time": "2021-11-17T23:35:40.998Z"
   },
   {
    "duration": 24,
    "start_time": "2021-11-17T23:35:43.768Z"
   },
   {
    "duration": 19,
    "start_time": "2021-11-17T23:35:47.633Z"
   },
   {
    "duration": 21,
    "start_time": "2021-11-17T23:40:23.320Z"
   },
   {
    "duration": 24,
    "start_time": "2021-11-17T23:40:37.615Z"
   },
   {
    "duration": 5,
    "start_time": "2021-11-17T23:42:13.716Z"
   },
   {
    "duration": 21,
    "start_time": "2021-11-17T23:42:16.855Z"
   },
   {
    "duration": 25,
    "start_time": "2021-11-17T23:42:22.266Z"
   },
   {
    "duration": 25,
    "start_time": "2021-11-17T23:42:24.243Z"
   },
   {
    "duration": 25,
    "start_time": "2021-11-17T23:42:27.061Z"
   },
   {
    "duration": 4,
    "start_time": "2021-11-17T23:43:30.891Z"
   },
   {
    "duration": 21,
    "start_time": "2021-11-17T23:43:33.052Z"
   },
   {
    "duration": 5,
    "start_time": "2021-11-17T23:46:41.523Z"
   },
   {
    "duration": 21,
    "start_time": "2021-11-17T23:46:44.244Z"
   },
   {
    "duration": 4,
    "start_time": "2021-11-17T23:46:57.347Z"
   },
   {
    "duration": 22,
    "start_time": "2021-11-17T23:47:00.679Z"
   },
   {
    "duration": 87,
    "start_time": "2021-11-17T23:52:31.434Z"
   },
   {
    "duration": 85,
    "start_time": "2021-11-17T23:53:02.718Z"
   },
   {
    "duration": 6,
    "start_time": "2021-11-17T23:54:10.911Z"
   },
   {
    "duration": 7677,
    "start_time": "2021-11-17T23:54:14.143Z"
   },
   {
    "duration": -999,
    "start_time": "2021-11-17T23:54:22.822Z"
   },
   {
    "duration": -1003,
    "start_time": "2021-11-17T23:54:22.827Z"
   },
   {
    "duration": 4,
    "start_time": "2021-11-17T23:58:11.538Z"
   },
   {
    "duration": 21,
    "start_time": "2021-11-17T23:58:13.646Z"
   },
   {
    "duration": 27,
    "start_time": "2021-11-17T23:58:17.769Z"
   },
   {
    "duration": 5,
    "start_time": "2021-11-17T23:58:40.801Z"
   },
   {
    "duration": 20,
    "start_time": "2021-11-17T23:58:43.029Z"
   },
   {
    "duration": 21,
    "start_time": "2021-11-17T23:58:46.660Z"
   },
   {
    "duration": 12,
    "start_time": "2021-11-17T23:58:49.310Z"
   },
   {
    "duration": 20,
    "start_time": "2021-11-17T23:58:51.919Z"
   },
   {
    "duration": 24,
    "start_time": "2021-11-17T23:58:54.299Z"
   },
   {
    "duration": 21,
    "start_time": "2021-11-17T23:58:57.838Z"
   },
   {
    "duration": 21,
    "start_time": "2021-11-17T23:59:09.688Z"
   },
   {
    "duration": 24,
    "start_time": "2021-11-17T23:59:20.489Z"
   },
   {
    "duration": 18,
    "start_time": "2021-11-17T23:59:24.854Z"
   },
   {
    "duration": 24,
    "start_time": "2021-11-17T23:59:26.568Z"
   },
   {
    "duration": 21,
    "start_time": "2021-11-17T23:59:28.704Z"
   },
   {
    "duration": 307,
    "start_time": "2021-11-18T00:01:58.026Z"
   },
   {
    "duration": 264,
    "start_time": "2021-11-18T00:05:13.137Z"
   },
   {
    "duration": 261,
    "start_time": "2021-11-18T00:05:36.148Z"
   },
   {
    "duration": 4,
    "start_time": "2021-11-18T00:06:16.709Z"
   },
   {
    "duration": 92,
    "start_time": "2021-11-18T00:11:35.583Z"
   },
   {
    "duration": 12,
    "start_time": "2021-11-18T00:11:43.605Z"
   },
   {
    "duration": 14,
    "start_time": "2021-11-18T00:13:09.857Z"
   },
   {
    "duration": 15,
    "start_time": "2021-11-18T00:14:38.853Z"
   },
   {
    "duration": 12,
    "start_time": "2021-11-18T00:15:27.192Z"
   },
   {
    "duration": 5,
    "start_time": "2021-11-18T00:24:21.209Z"
   },
   {
    "duration": 5,
    "start_time": "2021-11-18T00:29:18.018Z"
   },
   {
    "duration": 6,
    "start_time": "2021-11-18T00:30:01.892Z"
   },
   {
    "duration": 537,
    "start_time": "2021-11-18T00:30:41.573Z"
   },
   {
    "duration": 6,
    "start_time": "2021-11-18T00:30:55.949Z"
   },
   {
    "duration": 515,
    "start_time": "2021-11-18T00:30:58.686Z"
   },
   {
    "duration": 5,
    "start_time": "2021-11-18T00:31:29.226Z"
   },
   {
    "duration": 5,
    "start_time": "2021-11-18T00:31:31.326Z"
   },
   {
    "duration": 529,
    "start_time": "2021-11-18T00:31:33.658Z"
   },
   {
    "duration": 6,
    "start_time": "2021-11-18T00:32:23.300Z"
   },
   {
    "duration": 26,
    "start_time": "2021-11-18T00:32:26.171Z"
   },
   {
    "duration": 27,
    "start_time": "2021-11-18T00:34:27.133Z"
   },
   {
    "duration": 18,
    "start_time": "2021-11-18T00:35:56.051Z"
   },
   {
    "duration": 24,
    "start_time": "2021-11-18T00:36:51.042Z"
   },
   {
    "duration": 21,
    "start_time": "2021-11-18T00:37:57.863Z"
   },
   {
    "duration": 43,
    "start_time": "2021-11-18T00:41:35.813Z"
   },
   {
    "duration": 296,
    "start_time": "2021-11-18T00:45:34.630Z"
   },
   {
    "duration": 306,
    "start_time": "2021-11-18T00:47:52.029Z"
   },
   {
    "duration": 302,
    "start_time": "2021-11-18T00:48:18.079Z"
   },
   {
    "duration": 280,
    "start_time": "2021-11-18T00:48:34.872Z"
   },
   {
    "duration": 32,
    "start_time": "2021-11-18T00:49:10.733Z"
   },
   {
    "duration": 12,
    "start_time": "2021-11-18T00:49:29.961Z"
   },
   {
    "duration": 13,
    "start_time": "2021-11-18T00:50:34.376Z"
   },
   {
    "duration": 14,
    "start_time": "2021-11-18T00:54:19.745Z"
   },
   {
    "duration": 12,
    "start_time": "2021-11-18T00:55:04.244Z"
   },
   {
    "duration": 21,
    "start_time": "2021-11-18T00:56:08.677Z"
   },
   {
    "duration": 13,
    "start_time": "2021-11-18T00:56:28.460Z"
   },
   {
    "duration": 33,
    "start_time": "2021-11-18T00:59:18.818Z"
   },
   {
    "duration": 13,
    "start_time": "2021-11-18T00:59:20.656Z"
   },
   {
    "duration": 267,
    "start_time": "2021-11-18T00:59:26.049Z"
   },
   {
    "duration": 301,
    "start_time": "2021-11-18T00:59:59.683Z"
   },
   {
    "duration": 7,
    "start_time": "2021-11-18T01:00:18.240Z"
   },
   {
    "duration": 12,
    "start_time": "2021-11-18T01:00:20.917Z"
   },
   {
    "duration": 6,
    "start_time": "2021-11-18T01:01:53.447Z"
   },
   {
    "duration": 12,
    "start_time": "2021-11-18T01:02:03.972Z"
   },
   {
    "duration": 14,
    "start_time": "2021-11-18T01:03:17.533Z"
   },
   {
    "duration": 8,
    "start_time": "2021-11-18T01:03:44.193Z"
   },
   {
    "duration": 14,
    "start_time": "2021-11-18T01:03:47.263Z"
   },
   {
    "duration": 7,
    "start_time": "2021-11-18T01:04:14.821Z"
   },
   {
    "duration": 15,
    "start_time": "2021-11-18T01:04:25.913Z"
   },
   {
    "duration": 12,
    "start_time": "2021-11-18T01:04:32.162Z"
   },
   {
    "duration": 12,
    "start_time": "2021-11-18T01:06:01.854Z"
   },
   {
    "duration": 16,
    "start_time": "2021-11-18T01:11:42.759Z"
   },
   {
    "duration": 248,
    "start_time": "2021-11-18T01:12:22.000Z"
   },
   {
    "duration": 94,
    "start_time": "2021-11-18T01:12:37.613Z"
   },
   {
    "duration": 7,
    "start_time": "2021-11-18T01:12:41.160Z"
   },
   {
    "duration": 6,
    "start_time": "2021-11-18T01:12:43.474Z"
   },
   {
    "duration": 10,
    "start_time": "2021-11-18T01:13:30.804Z"
   },
   {
    "duration": 7,
    "start_time": "2021-11-18T01:13:34.442Z"
   },
   {
    "duration": 8,
    "start_time": "2021-11-18T01:13:57.263Z"
   },
   {
    "duration": 6,
    "start_time": "2021-11-18T01:14:01.169Z"
   },
   {
    "duration": 8,
    "start_time": "2021-11-18T01:15:13.981Z"
   },
   {
    "duration": 7,
    "start_time": "2021-11-18T01:15:15.802Z"
   },
   {
    "duration": 9,
    "start_time": "2021-11-18T01:15:20.526Z"
   },
   {
    "duration": 6,
    "start_time": "2021-11-18T01:15:22.363Z"
   },
   {
    "duration": 7,
    "start_time": "2021-11-18T01:16:34.023Z"
   },
   {
    "duration": 6,
    "start_time": "2021-11-18T01:16:43.975Z"
   },
   {
    "duration": 6,
    "start_time": "2021-11-18T01:16:58.859Z"
   },
   {
    "duration": 4,
    "start_time": "2021-11-18T01:17:51.150Z"
   },
   {
    "duration": 219,
    "start_time": "2021-11-18T01:17:51.157Z"
   },
   {
    "duration": 16,
    "start_time": "2021-11-18T01:17:51.379Z"
   },
   {
    "duration": 42,
    "start_time": "2021-11-18T01:17:51.398Z"
   },
   {
    "duration": 29,
    "start_time": "2021-11-18T01:17:51.442Z"
   },
   {
    "duration": 25,
    "start_time": "2021-11-18T01:17:51.474Z"
   },
   {
    "duration": 6,
    "start_time": "2021-11-18T01:17:51.503Z"
   },
   {
    "duration": 60,
    "start_time": "2021-11-18T01:17:51.512Z"
   },
   {
    "duration": 24,
    "start_time": "2021-11-18T01:17:51.574Z"
   },
   {
    "duration": 31,
    "start_time": "2021-11-18T01:17:51.600Z"
   },
   {
    "duration": 106,
    "start_time": "2021-11-18T01:17:51.633Z"
   },
   {
    "duration": 112,
    "start_time": "2021-11-18T01:17:51.742Z"
   },
   {
    "duration": 82,
    "start_time": "2021-11-18T01:17:51.856Z"
   },
   {
    "duration": 27,
    "start_time": "2021-11-18T01:17:51.941Z"
   },
   {
    "duration": 4,
    "start_time": "2021-11-18T01:17:51.971Z"
   },
   {
    "duration": 16,
    "start_time": "2021-11-18T01:17:51.978Z"
   },
   {
    "duration": 10,
    "start_time": "2021-11-18T01:17:51.997Z"
   },
   {
    "duration": 16,
    "start_time": "2021-11-18T01:17:52.009Z"
   },
   {
    "duration": 15,
    "start_time": "2021-11-18T01:17:52.066Z"
   },
   {
    "duration": 4,
    "start_time": "2021-11-18T01:17:52.085Z"
   },
   {
    "duration": 27,
    "start_time": "2021-11-18T01:17:52.091Z"
   },
   {
    "duration": 47,
    "start_time": "2021-11-18T01:17:52.121Z"
   },
   {
    "duration": 18,
    "start_time": "2021-11-18T01:17:52.171Z"
   },
   {
    "duration": 18,
    "start_time": "2021-11-18T01:17:52.192Z"
   },
   {
    "duration": 56,
    "start_time": "2021-11-18T01:17:52.212Z"
   },
   {
    "duration": 19,
    "start_time": "2021-11-18T01:17:52.271Z"
   },
   {
    "duration": 12,
    "start_time": "2021-11-18T01:17:52.292Z"
   },
   {
    "duration": 17,
    "start_time": "2021-11-18T01:17:52.307Z"
   },
   {
    "duration": 46,
    "start_time": "2021-11-18T01:17:52.327Z"
   },
   {
    "duration": 6,
    "start_time": "2021-11-18T01:17:52.375Z"
   },
   {
    "duration": 31,
    "start_time": "2021-11-18T01:17:52.383Z"
   },
   {
    "duration": 17,
    "start_time": "2021-11-18T01:17:52.416Z"
   },
   {
    "duration": 49,
    "start_time": "2021-11-18T01:17:52.436Z"
   },
   {
    "duration": 19,
    "start_time": "2021-11-18T01:17:52.488Z"
   },
   {
    "duration": 14,
    "start_time": "2021-11-18T01:17:52.509Z"
   },
   {
    "duration": 47,
    "start_time": "2021-11-18T01:17:52.525Z"
   },
   {
    "duration": 12,
    "start_time": "2021-11-18T01:17:52.575Z"
   },
   {
    "duration": 8,
    "start_time": "2021-11-18T01:17:52.590Z"
   },
   {
    "duration": 77,
    "start_time": "2021-11-18T13:59:08.862Z"
   },
   {
    "duration": 76,
    "start_time": "2021-11-18T13:59:16.597Z"
   },
   {
    "duration": 77,
    "start_time": "2021-11-18T13:59:30.190Z"
   },
   {
    "duration": 80,
    "start_time": "2021-11-18T14:00:34.468Z"
   },
   {
    "duration": 78,
    "start_time": "2021-11-18T14:00:45.965Z"
   },
   {
    "duration": 87,
    "start_time": "2021-11-18T14:02:21.191Z"
   },
   {
    "duration": 84,
    "start_time": "2021-11-18T14:02:52.067Z"
   },
   {
    "duration": 75,
    "start_time": "2021-11-18T14:13:38.160Z"
   },
   {
    "duration": 264,
    "start_time": "2021-11-18T14:13:41.827Z"
   },
   {
    "duration": 242,
    "start_time": "2021-11-18T14:14:24.273Z"
   },
   {
    "duration": 518,
    "start_time": "2021-11-18T14:15:19.644Z"
   },
   {
    "duration": 125,
    "start_time": "2021-11-18T14:15:20.164Z"
   },
   {
    "duration": 15,
    "start_time": "2021-11-18T14:15:20.291Z"
   },
   {
    "duration": 29,
    "start_time": "2021-11-18T14:15:20.307Z"
   },
   {
    "duration": 3,
    "start_time": "2021-11-18T14:15:20.337Z"
   },
   {
    "duration": 20,
    "start_time": "2021-11-18T14:15:20.342Z"
   },
   {
    "duration": 3,
    "start_time": "2021-11-18T14:15:20.363Z"
   },
   {
    "duration": 32,
    "start_time": "2021-11-18T14:15:20.368Z"
   },
   {
    "duration": 18,
    "start_time": "2021-11-18T14:15:20.402Z"
   },
   {
    "duration": 19,
    "start_time": "2021-11-18T14:15:20.421Z"
   },
   {
    "duration": 70,
    "start_time": "2021-11-18T14:15:20.442Z"
   },
   {
    "duration": 60,
    "start_time": "2021-11-18T14:15:20.513Z"
   },
   {
    "duration": 56,
    "start_time": "2021-11-18T14:15:20.575Z"
   },
   {
    "duration": 306,
    "start_time": "2021-11-18T14:15:20.633Z"
   },
   {
    "duration": -444,
    "start_time": "2021-11-18T14:15:21.385Z"
   },
   {
    "duration": -447,
    "start_time": "2021-11-18T14:15:21.389Z"
   },
   {
    "duration": -452,
    "start_time": "2021-11-18T14:15:21.395Z"
   },
   {
    "duration": -456,
    "start_time": "2021-11-18T14:15:21.400Z"
   },
   {
    "duration": -465,
    "start_time": "2021-11-18T14:15:21.410Z"
   },
   {
    "duration": -471,
    "start_time": "2021-11-18T14:15:21.416Z"
   },
   {
    "duration": -477,
    "start_time": "2021-11-18T14:15:21.423Z"
   },
   {
    "duration": -483,
    "start_time": "2021-11-18T14:15:21.430Z"
   },
   {
    "duration": -490,
    "start_time": "2021-11-18T14:15:21.438Z"
   },
   {
    "duration": -494,
    "start_time": "2021-11-18T14:15:21.444Z"
   },
   {
    "duration": -499,
    "start_time": "2021-11-18T14:15:21.449Z"
   },
   {
    "duration": -504,
    "start_time": "2021-11-18T14:15:21.455Z"
   },
   {
    "duration": -506,
    "start_time": "2021-11-18T14:15:21.458Z"
   },
   {
    "duration": -508,
    "start_time": "2021-11-18T14:15:21.461Z"
   },
   {
    "duration": -510,
    "start_time": "2021-11-18T14:15:21.464Z"
   },
   {
    "duration": -511,
    "start_time": "2021-11-18T14:15:21.467Z"
   },
   {
    "duration": -513,
    "start_time": "2021-11-18T14:15:21.470Z"
   },
   {
    "duration": -516,
    "start_time": "2021-11-18T14:15:21.474Z"
   },
   {
    "duration": -527,
    "start_time": "2021-11-18T14:15:21.486Z"
   },
   {
    "duration": -532,
    "start_time": "2021-11-18T14:15:21.492Z"
   },
   {
    "duration": -536,
    "start_time": "2021-11-18T14:15:21.497Z"
   },
   {
    "duration": -540,
    "start_time": "2021-11-18T14:15:21.502Z"
   },
   {
    "duration": -545,
    "start_time": "2021-11-18T14:15:21.507Z"
   },
   {
    "duration": -550,
    "start_time": "2021-11-18T14:15:21.513Z"
   },
   {
    "duration": 50,
    "start_time": "2021-11-18T14:15:53.896Z"
   },
   {
    "duration": 269,
    "start_time": "2021-11-18T14:16:32.956Z"
   },
   {
    "duration": 413,
    "start_time": "2021-11-18T14:16:58.099Z"
   },
   {
    "duration": 47,
    "start_time": "2021-11-18T14:17:08.104Z"
   },
   {
    "duration": 40,
    "start_time": "2021-11-18T14:18:18.244Z"
   },
   {
    "duration": 501,
    "start_time": "2021-11-18T14:18:23.832Z"
   },
   {
    "duration": 35,
    "start_time": "2021-11-18T14:18:41.322Z"
   },
   {
    "duration": 38,
    "start_time": "2021-11-18T14:19:06.166Z"
   },
   {
    "duration": 33,
    "start_time": "2021-11-18T14:39:12.260Z"
   },
   {
    "duration": 2,
    "start_time": "2021-11-18T14:39:20.664Z"
   },
   {
    "duration": 147,
    "start_time": "2021-11-18T14:39:20.668Z"
   },
   {
    "duration": 9,
    "start_time": "2021-11-18T14:39:20.817Z"
   },
   {
    "duration": 56,
    "start_time": "2021-11-18T14:39:20.828Z"
   },
   {
    "duration": 3,
    "start_time": "2021-11-18T14:39:20.886Z"
   },
   {
    "duration": 18,
    "start_time": "2021-11-18T14:39:20.891Z"
   },
   {
    "duration": 4,
    "start_time": "2021-11-18T14:39:20.911Z"
   },
   {
    "duration": 24,
    "start_time": "2021-11-18T14:39:20.916Z"
   },
   {
    "duration": 15,
    "start_time": "2021-11-18T14:39:20.941Z"
   },
   {
    "duration": 49,
    "start_time": "2021-11-18T14:39:20.957Z"
   },
   {
    "duration": 52,
    "start_time": "2021-11-18T14:39:21.007Z"
   },
   {
    "duration": 72,
    "start_time": "2021-11-18T14:39:21.060Z"
   },
   {
    "duration": 44,
    "start_time": "2021-11-18T14:39:21.133Z"
   },
   {
    "duration": 40,
    "start_time": "2021-11-18T14:39:21.187Z"
   },
   {
    "duration": 3,
    "start_time": "2021-11-18T14:39:21.228Z"
   },
   {
    "duration": 11,
    "start_time": "2021-11-18T14:39:21.233Z"
   },
   {
    "duration": 5,
    "start_time": "2021-11-18T14:39:21.245Z"
   },
   {
    "duration": 13,
    "start_time": "2021-11-18T14:39:21.251Z"
   },
   {
    "duration": 11,
    "start_time": "2021-11-18T14:39:21.287Z"
   },
   {
    "duration": 3,
    "start_time": "2021-11-18T14:39:21.300Z"
   },
   {
    "duration": 17,
    "start_time": "2021-11-18T14:39:21.304Z"
   },
   {
    "duration": 11,
    "start_time": "2021-11-18T14:39:21.322Z"
   },
   {
    "duration": 13,
    "start_time": "2021-11-18T14:39:21.335Z"
   },
   {
    "duration": 41,
    "start_time": "2021-11-18T14:39:21.349Z"
   },
   {
    "duration": 14,
    "start_time": "2021-11-18T14:39:21.391Z"
   },
   {
    "duration": 11,
    "start_time": "2021-11-18T14:39:21.407Z"
   },
   {
    "duration": 7,
    "start_time": "2021-11-18T14:39:21.419Z"
   },
   {
    "duration": 11,
    "start_time": "2021-11-18T14:39:21.427Z"
   },
   {
    "duration": 7,
    "start_time": "2021-11-18T14:39:21.440Z"
   },
   {
    "duration": 4,
    "start_time": "2021-11-18T14:39:21.448Z"
   },
   {
    "duration": 46,
    "start_time": "2021-11-18T14:39:21.453Z"
   },
   {
    "duration": 10,
    "start_time": "2021-11-18T14:39:21.501Z"
   },
   {
    "duration": 14,
    "start_time": "2021-11-18T14:39:21.512Z"
   },
   {
    "duration": 18,
    "start_time": "2021-11-18T14:39:21.527Z"
   },
   {
    "duration": 13,
    "start_time": "2021-11-18T14:39:21.546Z"
   },
   {
    "duration": 16,
    "start_time": "2021-11-18T14:39:21.560Z"
   },
   {
    "duration": 12,
    "start_time": "2021-11-18T14:39:21.578Z"
   },
   {
    "duration": 6,
    "start_time": "2021-11-18T14:39:21.591Z"
   },
   {
    "duration": 34,
    "start_time": "2021-11-18T14:41:20.700Z"
   },
   {
    "duration": 40,
    "start_time": "2021-11-18T14:41:29.508Z"
   },
   {
    "duration": 279,
    "start_time": "2021-11-18T14:43:50.321Z"
   },
   {
    "duration": 37,
    "start_time": "2021-11-18T14:44:09.807Z"
   },
   {
    "duration": 36,
    "start_time": "2021-11-18T14:45:42.070Z"
   },
   {
    "duration": 6,
    "start_time": "2021-11-18T14:46:01.003Z"
   },
   {
    "duration": 38,
    "start_time": "2021-11-18T14:46:34.243Z"
   },
   {
    "duration": 6,
    "start_time": "2021-11-18T14:47:30.045Z"
   },
   {
    "duration": 228,
    "start_time": "2021-11-18T14:52:43.622Z"
   },
   {
    "duration": 31,
    "start_time": "2021-11-18T14:53:02.305Z"
   },
   {
    "duration": 4048,
    "start_time": "2021-11-18T14:53:05.423Z"
   },
   {
    "duration": 3058,
    "start_time": "2021-11-18T14:53:17.039Z"
   },
   {
    "duration": 3184,
    "start_time": "2021-11-18T14:53:55.301Z"
   },
   {
    "duration": 3014,
    "start_time": "2021-11-18T14:54:03.932Z"
   },
   {
    "duration": 2979,
    "start_time": "2021-11-18T14:54:39.676Z"
   },
   {
    "duration": 2,
    "start_time": "2021-11-18T14:54:51.371Z"
   },
   {
    "duration": 138,
    "start_time": "2021-11-18T14:54:51.378Z"
   },
   {
    "duration": 9,
    "start_time": "2021-11-18T14:54:51.518Z"
   },
   {
    "duration": 29,
    "start_time": "2021-11-18T14:54:51.529Z"
   },
   {
    "duration": 3,
    "start_time": "2021-11-18T14:54:51.560Z"
   },
   {
    "duration": 36,
    "start_time": "2021-11-18T14:54:51.564Z"
   },
   {
    "duration": 3,
    "start_time": "2021-11-18T14:54:51.602Z"
   },
   {
    "duration": 25,
    "start_time": "2021-11-18T14:54:51.607Z"
   },
   {
    "duration": 21,
    "start_time": "2021-11-18T14:54:51.634Z"
   },
   {
    "duration": 42,
    "start_time": "2021-11-18T14:54:51.658Z"
   },
   {
    "duration": 51,
    "start_time": "2021-11-18T14:54:51.702Z"
   },
   {
    "duration": 80,
    "start_time": "2021-11-18T14:54:51.756Z"
   },
   {
    "duration": 50,
    "start_time": "2021-11-18T14:54:51.838Z"
   },
   {
    "duration": 6,
    "start_time": "2021-11-18T14:54:51.890Z"
   },
   {
    "duration": 5,
    "start_time": "2021-11-18T14:54:51.898Z"
   },
   {
    "duration": 11,
    "start_time": "2021-11-18T14:54:51.905Z"
   },
   {
    "duration": 6,
    "start_time": "2021-11-18T14:54:51.917Z"
   },
   {
    "duration": 10,
    "start_time": "2021-11-18T14:54:51.924Z"
   },
   {
    "duration": 9,
    "start_time": "2021-11-18T14:54:51.935Z"
   },
   {
    "duration": 3,
    "start_time": "2021-11-18T14:54:51.946Z"
   },
   {
    "duration": 46,
    "start_time": "2021-11-18T14:54:51.950Z"
   },
   {
    "duration": 12,
    "start_time": "2021-11-18T14:54:51.998Z"
   },
   {
    "duration": 18,
    "start_time": "2021-11-18T14:54:52.011Z"
   },
   {
    "duration": 15,
    "start_time": "2021-11-18T14:54:52.031Z"
   },
   {
    "duration": 15,
    "start_time": "2021-11-18T14:54:52.047Z"
   },
   {
    "duration": 34,
    "start_time": "2021-11-18T14:54:52.063Z"
   },
   {
    "duration": 8,
    "start_time": "2021-11-18T14:54:52.098Z"
   },
   {
    "duration": 22,
    "start_time": "2021-11-18T14:54:52.109Z"
   },
   {
    "duration": 23,
    "start_time": "2021-11-18T14:54:52.133Z"
   },
   {
    "duration": 13,
    "start_time": "2021-11-18T14:54:52.157Z"
   },
   {
    "duration": 34,
    "start_time": "2021-11-18T14:54:52.171Z"
   },
   {
    "duration": 17,
    "start_time": "2021-11-18T14:54:52.208Z"
   },
   {
    "duration": 36,
    "start_time": "2021-11-18T14:54:52.226Z"
   },
   {
    "duration": 10,
    "start_time": "2021-11-18T14:54:52.264Z"
   },
   {
    "duration": 11,
    "start_time": "2021-11-18T14:54:52.275Z"
   },
   {
    "duration": 24,
    "start_time": "2021-11-18T14:54:52.287Z"
   },
   {
    "duration": 8,
    "start_time": "2021-11-18T14:54:52.313Z"
   },
   {
    "duration": 19,
    "start_time": "2021-11-18T14:54:52.322Z"
   },
   {
    "duration": 75,
    "start_time": "2021-11-18T14:56:10.284Z"
   },
   {
    "duration": 226,
    "start_time": "2021-11-18T14:56:13.912Z"
   },
   {
    "duration": 264,
    "start_time": "2021-11-18T14:56:33.680Z"
   },
   {
    "duration": 276,
    "start_time": "2021-11-18T14:56:40.451Z"
   },
   {
    "duration": 77,
    "start_time": "2021-11-18T14:56:55.490Z"
   },
   {
    "duration": 44,
    "start_time": "2021-11-18T14:57:13.179Z"
   },
   {
    "duration": 4,
    "start_time": "2021-11-18T14:59:48.655Z"
   },
   {
    "duration": 9,
    "start_time": "2021-11-18T14:59:51.310Z"
   },
   {
    "duration": 41,
    "start_time": "2021-11-18T15:00:47.220Z"
   },
   {
    "duration": 104,
    "start_time": "2021-11-18T15:02:38.900Z"
   },
   {
    "duration": 3,
    "start_time": "2021-11-18T15:02:45.372Z"
   },
   {
    "duration": 4,
    "start_time": "2021-11-18T15:05:10.355Z"
   },
   {
    "duration": 8,
    "start_time": "2021-11-18T15:06:39.695Z"
   },
   {
    "duration": 15,
    "start_time": "2021-11-18T15:07:34.500Z"
   },
   {
    "duration": 3,
    "start_time": "2021-11-18T15:10:24.251Z"
   },
   {
    "duration": 141,
    "start_time": "2021-11-18T15:10:24.256Z"
   },
   {
    "duration": 11,
    "start_time": "2021-11-18T15:10:24.399Z"
   },
   {
    "duration": 27,
    "start_time": "2021-11-18T15:10:24.412Z"
   },
   {
    "duration": 5,
    "start_time": "2021-11-18T15:10:24.441Z"
   },
   {
    "duration": 16,
    "start_time": "2021-11-18T15:10:24.448Z"
   },
   {
    "duration": 24,
    "start_time": "2021-11-18T15:10:24.466Z"
   },
   {
    "duration": 22,
    "start_time": "2021-11-18T15:10:24.492Z"
   },
   {
    "duration": 16,
    "start_time": "2021-11-18T15:10:24.516Z"
   },
   {
    "duration": 21,
    "start_time": "2021-11-18T15:10:24.533Z"
   },
   {
    "duration": 81,
    "start_time": "2021-11-18T15:10:24.555Z"
   },
   {
    "duration": 67,
    "start_time": "2021-11-18T15:10:24.637Z"
   },
   {
    "duration": 44,
    "start_time": "2021-11-18T15:10:24.705Z"
   },
   {
    "duration": 58,
    "start_time": "2021-11-18T15:10:24.750Z"
   },
   {
    "duration": 3,
    "start_time": "2021-11-18T15:10:24.809Z"
   },
   {
    "duration": 11,
    "start_time": "2021-11-18T15:10:24.814Z"
   },
   {
    "duration": 39,
    "start_time": "2021-11-18T15:10:24.827Z"
   },
   {
    "duration": 27,
    "start_time": "2021-11-18T15:10:24.867Z"
   },
   {
    "duration": 10,
    "start_time": "2021-11-18T15:10:24.897Z"
   },
   {
    "duration": 3,
    "start_time": "2021-11-18T15:10:24.908Z"
   },
   {
    "duration": 20,
    "start_time": "2021-11-18T15:10:24.912Z"
   },
   {
    "duration": 14,
    "start_time": "2021-11-18T15:10:24.934Z"
   },
   {
    "duration": 40,
    "start_time": "2021-11-18T15:10:24.949Z"
   },
   {
    "duration": 13,
    "start_time": "2021-11-18T15:10:24.990Z"
   },
   {
    "duration": 15,
    "start_time": "2021-11-18T15:10:25.005Z"
   },
   {
    "duration": 13,
    "start_time": "2021-11-18T15:10:25.022Z"
   },
   {
    "duration": 7,
    "start_time": "2021-11-18T15:10:25.036Z"
   },
   {
    "duration": 15,
    "start_time": "2021-11-18T15:10:25.045Z"
   },
   {
    "duration": 35,
    "start_time": "2021-11-18T15:10:25.061Z"
   },
   {
    "duration": 4,
    "start_time": "2021-11-18T15:10:25.098Z"
   },
   {
    "duration": 29,
    "start_time": "2021-11-18T15:10:25.103Z"
   },
   {
    "duration": 12,
    "start_time": "2021-11-18T15:10:25.134Z"
   },
   {
    "duration": 41,
    "start_time": "2021-11-18T15:10:25.148Z"
   },
   {
    "duration": 12,
    "start_time": "2021-11-18T15:10:25.190Z"
   },
   {
    "duration": 10,
    "start_time": "2021-11-18T15:10:25.203Z"
   },
   {
    "duration": 4,
    "start_time": "2021-11-18T15:10:25.214Z"
   },
   {
    "duration": 9,
    "start_time": "2021-11-18T15:10:25.219Z"
   },
   {
    "duration": 4,
    "start_time": "2021-11-18T15:10:25.230Z"
   }
  ],
  "colab": {
   "collapsed_sections": [
    "E0vqbgi9ay0H",
    "VUC88oWjTJw2"
   ],
   "name": "yandex_music_project_2021.2.ipynb",
   "provenance": []
  },
  "kernelspec": {
   "display_name": "Python 3 (ipykernel)",
   "language": "python",
   "name": "python3"
  },
  "language_info": {
   "codemirror_mode": {
    "name": "ipython",
    "version": 3
   },
   "file_extension": ".py",
   "mimetype": "text/x-python",
   "name": "python",
   "nbconvert_exporter": "python",
   "pygments_lexer": "ipython3",
   "version": "3.9.12"
  },
  "toc": {
   "base_numbering": 1,
   "nav_menu": {},
   "number_sections": true,
   "sideBar": true,
   "skip_h1_title": true,
   "title_cell": "Table of Contents",
   "title_sidebar": "Contents",
   "toc_cell": false,
   "toc_position": {
    "height": "calc(100% - 180px)",
    "left": "10px",
    "top": "150px",
    "width": "369.6px"
   },
   "toc_section_display": true,
   "toc_window_display": true
  }
 },
 "nbformat": 4,
 "nbformat_minor": 1
}
