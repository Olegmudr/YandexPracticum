{
 "cells": [
  {
   "cell_type": "markdown",
   "metadata": {
    "toc": true
   },
   "source": [
    "<h1>Содержание<span class=\"tocSkip\"></span></h1>\n",
    "<div class=\"toc\"><ul class=\"toc-item\"><li><span><a href=\"#Подготовка-данных\" data-toc-modified-id=\"Подготовка-данных-1\"><span class=\"toc-item-num\">1&nbsp;&nbsp;</span>Подготовка данных</a></span></li><li><span><a href=\"#Исследование-задачи\" data-toc-modified-id=\"Исследование-задачи-2\"><span class=\"toc-item-num\">2&nbsp;&nbsp;</span>Исследование задачи</a></span><ul class=\"toc-item\"><li><span><a href=\"#Решающее-дерево\" data-toc-modified-id=\"Решающее-дерево-2.1\"><span class=\"toc-item-num\">2.1&nbsp;&nbsp;</span>Решающее дерево</a></span></li><li><span><a href=\"#Случайный-лес\" data-toc-modified-id=\"Случайный-лес-2.2\"><span class=\"toc-item-num\">2.2&nbsp;&nbsp;</span>Случайный лес</a></span></li><li><span><a href=\"#Логистическая-регрессия\" data-toc-modified-id=\"Логистическая-регрессия-2.3\"><span class=\"toc-item-num\">2.3&nbsp;&nbsp;</span>Логистическая регрессия</a></span></li></ul></li><li><span><a href=\"#Борьба-с-дисбалансом\" data-toc-modified-id=\"Борьба-с-дисбалансом-3\"><span class=\"toc-item-num\">3&nbsp;&nbsp;</span>Борьба с дисбалансом</a></span><ul class=\"toc-item\"><li><span><a href=\"#Upsampling\" data-toc-modified-id=\"Upsampling-3.1\"><span class=\"toc-item-num\">3.1&nbsp;&nbsp;</span>Upsampling</a></span></li><li><span><a href=\"#Downsampling\" data-toc-modified-id=\"Downsampling-3.2\"><span class=\"toc-item-num\">3.2&nbsp;&nbsp;</span>Downsampling</a></span></li></ul></li><li><span><a href=\"#Тестирование-модели\" data-toc-modified-id=\"Тестирование-модели-4\"><span class=\"toc-item-num\">4&nbsp;&nbsp;</span>Тестирование модели</a></span></li><li><span><a href=\"#Чек-лист-готовности-проекта\" data-toc-modified-id=\"Чек-лист-готовности-проекта-5\"><span class=\"toc-item-num\">5&nbsp;&nbsp;</span>Чек-лист готовности проекта</a></span></li></ul></div>"
   ]
  },
  {
   "cell_type": "markdown",
   "metadata": {},
   "source": [
    "# Отток клиентов"
   ]
  },
  {
   "cell_type": "markdown",
   "metadata": {},
   "source": [
    "Из «Бета-Банка» стали уходить клиенты. Каждый месяц. Немного, но заметно. Банковские маркетологи посчитали: сохранять текущих клиентов дешевле, чем привлекать новых.\n",
    "\n",
    "Нужно спрогнозировать, уйдёт клиент из банка в ближайшее время или нет. Вам предоставлены исторические данные о поведении клиентов и расторжении договоров с банком. \n",
    "\n",
    "Постройте модель с предельно большим значением *F1*-меры. Чтобы сдать проект успешно, нужно довести метрику до 0.59. Проверьте *F1*-меру на тестовой выборке самостоятельно.\n",
    "\n",
    "Дополнительно измеряйте *AUC-ROC*, сравнивайте её значение с *F1*-мерой.\n",
    "\n",
    "Источник данных: [https://www.kaggle.com/barelydedicated/bank-customer-churn-modeling](https://www.kaggle.com/barelydedicated/bank-customer-churn-modeling)"
   ]
  },
  {
   "cell_type": "markdown",
   "metadata": {},
   "source": [
    "## Подготовка данных"
   ]
  },
  {
   "cell_type": "code",
   "execution_count": 1,
   "metadata": {},
   "outputs": [],
   "source": [
    "import pandas as pd #импортируем для дальнейшей работы с файлами\n",
    "from sklearn.model_selection import train_test_split #для разделения выборки\n",
    "from sklearn.tree import DecisionTreeClassifier #решающее дерево\n",
    "from sklearn.model_selection import GridSearchCV #для гинерации автоматически оптимальных параметров\n",
    "from sklearn.metrics import classification_report #показать основные метрики классификации\n",
    "from sklearn.metrics import f1_score #вычислить f1\n",
    "from sklearn.metrics import roc_auc_score #auc-roc показатель\n",
    "from sklearn.ensemble import RandomForestClassifier #модель случайного леса\n",
    "from sklearn.linear_model import LogisticRegression #логистическая регрессия\n",
    "from sklearn.utils import shuffle #для перемешивания данных"
   ]
  },
  {
   "cell_type": "code",
   "execution_count": 2,
   "metadata": {},
   "outputs": [
    {
     "data": {
      "text/html": [
       "<div>\n",
       "<style scoped>\n",
       "    .dataframe tbody tr th:only-of-type {\n",
       "        vertical-align: middle;\n",
       "    }\n",
       "\n",
       "    .dataframe tbody tr th {\n",
       "        vertical-align: top;\n",
       "    }\n",
       "\n",
       "    .dataframe thead th {\n",
       "        text-align: right;\n",
       "    }\n",
       "</style>\n",
       "<table border=\"1\" class=\"dataframe\">\n",
       "  <thead>\n",
       "    <tr style=\"text-align: right;\">\n",
       "      <th></th>\n",
       "      <th>RowNumber</th>\n",
       "      <th>CustomerId</th>\n",
       "      <th>Surname</th>\n",
       "      <th>CreditScore</th>\n",
       "      <th>Geography</th>\n",
       "      <th>Gender</th>\n",
       "      <th>Age</th>\n",
       "      <th>Tenure</th>\n",
       "      <th>Balance</th>\n",
       "      <th>NumOfProducts</th>\n",
       "      <th>HasCrCard</th>\n",
       "      <th>IsActiveMember</th>\n",
       "      <th>EstimatedSalary</th>\n",
       "      <th>Exited</th>\n",
       "    </tr>\n",
       "  </thead>\n",
       "  <tbody>\n",
       "    <tr>\n",
       "      <th>0</th>\n",
       "      <td>1</td>\n",
       "      <td>15634602</td>\n",
       "      <td>Hargrave</td>\n",
       "      <td>619</td>\n",
       "      <td>France</td>\n",
       "      <td>Female</td>\n",
       "      <td>42</td>\n",
       "      <td>2.0</td>\n",
       "      <td>0.00</td>\n",
       "      <td>1</td>\n",
       "      <td>1</td>\n",
       "      <td>1</td>\n",
       "      <td>101348.88</td>\n",
       "      <td>1</td>\n",
       "    </tr>\n",
       "    <tr>\n",
       "      <th>1</th>\n",
       "      <td>2</td>\n",
       "      <td>15647311</td>\n",
       "      <td>Hill</td>\n",
       "      <td>608</td>\n",
       "      <td>Spain</td>\n",
       "      <td>Female</td>\n",
       "      <td>41</td>\n",
       "      <td>1.0</td>\n",
       "      <td>83807.86</td>\n",
       "      <td>1</td>\n",
       "      <td>0</td>\n",
       "      <td>1</td>\n",
       "      <td>112542.58</td>\n",
       "      <td>0</td>\n",
       "    </tr>\n",
       "    <tr>\n",
       "      <th>2</th>\n",
       "      <td>3</td>\n",
       "      <td>15619304</td>\n",
       "      <td>Onio</td>\n",
       "      <td>502</td>\n",
       "      <td>France</td>\n",
       "      <td>Female</td>\n",
       "      <td>42</td>\n",
       "      <td>8.0</td>\n",
       "      <td>159660.80</td>\n",
       "      <td>3</td>\n",
       "      <td>1</td>\n",
       "      <td>0</td>\n",
       "      <td>113931.57</td>\n",
       "      <td>1</td>\n",
       "    </tr>\n",
       "    <tr>\n",
       "      <th>3</th>\n",
       "      <td>4</td>\n",
       "      <td>15701354</td>\n",
       "      <td>Boni</td>\n",
       "      <td>699</td>\n",
       "      <td>France</td>\n",
       "      <td>Female</td>\n",
       "      <td>39</td>\n",
       "      <td>1.0</td>\n",
       "      <td>0.00</td>\n",
       "      <td>2</td>\n",
       "      <td>0</td>\n",
       "      <td>0</td>\n",
       "      <td>93826.63</td>\n",
       "      <td>0</td>\n",
       "    </tr>\n",
       "    <tr>\n",
       "      <th>4</th>\n",
       "      <td>5</td>\n",
       "      <td>15737888</td>\n",
       "      <td>Mitchell</td>\n",
       "      <td>850</td>\n",
       "      <td>Spain</td>\n",
       "      <td>Female</td>\n",
       "      <td>43</td>\n",
       "      <td>2.0</td>\n",
       "      <td>125510.82</td>\n",
       "      <td>1</td>\n",
       "      <td>1</td>\n",
       "      <td>1</td>\n",
       "      <td>79084.10</td>\n",
       "      <td>0</td>\n",
       "    </tr>\n",
       "  </tbody>\n",
       "</table>\n",
       "</div>"
      ],
      "text/plain": [
       "   RowNumber  CustomerId   Surname  CreditScore Geography  Gender  Age  \\\n",
       "0          1    15634602  Hargrave          619    France  Female   42   \n",
       "1          2    15647311      Hill          608     Spain  Female   41   \n",
       "2          3    15619304      Onio          502    France  Female   42   \n",
       "3          4    15701354      Boni          699    France  Female   39   \n",
       "4          5    15737888  Mitchell          850     Spain  Female   43   \n",
       "\n",
       "   Tenure    Balance  NumOfProducts  HasCrCard  IsActiveMember  \\\n",
       "0     2.0       0.00              1          1               1   \n",
       "1     1.0   83807.86              1          0               1   \n",
       "2     8.0  159660.80              3          1               0   \n",
       "3     1.0       0.00              2          0               0   \n",
       "4     2.0  125510.82              1          1               1   \n",
       "\n",
       "   EstimatedSalary  Exited  \n",
       "0        101348.88       1  \n",
       "1        112542.58       0  \n",
       "2        113931.57       1  \n",
       "3         93826.63       0  \n",
       "4         79084.10       0  "
      ]
     },
     "execution_count": 2,
     "metadata": {},
     "output_type": "execute_result"
    }
   ],
   "source": [
    "data = pd.read_csv(\"/datasets/Churn.csv\") #загружаем датасет и сохраняем в переменную\n",
    "data.head(5) #выводим 5 строк датасета"
   ]
  },
  {
   "cell_type": "code",
   "execution_count": 3,
   "metadata": {},
   "outputs": [
    {
     "name": "stdout",
     "output_type": "stream",
     "text": [
      "<class 'pandas.core.frame.DataFrame'>\n",
      "RangeIndex: 10000 entries, 0 to 9999\n",
      "Data columns (total 14 columns):\n",
      " #   Column           Non-Null Count  Dtype  \n",
      "---  ------           --------------  -----  \n",
      " 0   RowNumber        10000 non-null  int64  \n",
      " 1   CustomerId       10000 non-null  int64  \n",
      " 2   Surname          10000 non-null  object \n",
      " 3   CreditScore      10000 non-null  int64  \n",
      " 4   Geography        10000 non-null  object \n",
      " 5   Gender           10000 non-null  object \n",
      " 6   Age              10000 non-null  int64  \n",
      " 7   Tenure           9091 non-null   float64\n",
      " 8   Balance          10000 non-null  float64\n",
      " 9   NumOfProducts    10000 non-null  int64  \n",
      " 10  HasCrCard        10000 non-null  int64  \n",
      " 11  IsActiveMember   10000 non-null  int64  \n",
      " 12  EstimatedSalary  10000 non-null  float64\n",
      " 13  Exited           10000 non-null  int64  \n",
      "dtypes: float64(3), int64(8), object(3)\n",
      "memory usage: 1.1+ MB\n"
     ]
    }
   ],
   "source": [
    "data.info() #информация о данных"
   ]
  },
  {
   "cell_type": "markdown",
   "metadata": {},
   "source": [
    "Как мы можем заметить, \"Tenure\" имеет пропуски, думаю, что заменим его на медиану, так как она более стабильна."
   ]
  },
  {
   "cell_type": "code",
   "execution_count": 4,
   "metadata": {},
   "outputs": [
    {
     "data": {
      "text/plain": [
       "0"
      ]
     },
     "execution_count": 4,
     "metadata": {},
     "output_type": "execute_result"
    }
   ],
   "source": [
    "data[\"Tenure\"] = data[\"Tenure\"].fillna(data[\"Tenure\"].median()) #меняем пропуски на медиану\n",
    "data[\"Tenure\"].isna().sum() #проверяем количество пропусков"
   ]
  },
  {
   "cell_type": "markdown",
   "metadata": {},
   "source": [
    "Далее в данных присутсвуют столбцы, которые дают уникальные значения, которые не будут принимать участие в обучении модели. Это стобцы - \n",
    "RowNumber — индекс строки в данных,\n",
    "CustomerId — уникальный идентификатор клиента,\n",
    "Surname — фамилия."
   ]
  },
  {
   "cell_type": "code",
   "execution_count": 5,
   "metadata": {
    "scrolled": true
   },
   "outputs": [
    {
     "data": {
      "text/html": [
       "<div>\n",
       "<style scoped>\n",
       "    .dataframe tbody tr th:only-of-type {\n",
       "        vertical-align: middle;\n",
       "    }\n",
       "\n",
       "    .dataframe tbody tr th {\n",
       "        vertical-align: top;\n",
       "    }\n",
       "\n",
       "    .dataframe thead th {\n",
       "        text-align: right;\n",
       "    }\n",
       "</style>\n",
       "<table border=\"1\" class=\"dataframe\">\n",
       "  <thead>\n",
       "    <tr style=\"text-align: right;\">\n",
       "      <th></th>\n",
       "      <th>CreditScore</th>\n",
       "      <th>Geography</th>\n",
       "      <th>Gender</th>\n",
       "      <th>Age</th>\n",
       "      <th>Tenure</th>\n",
       "      <th>Balance</th>\n",
       "      <th>NumOfProducts</th>\n",
       "      <th>HasCrCard</th>\n",
       "      <th>IsActiveMember</th>\n",
       "      <th>EstimatedSalary</th>\n",
       "      <th>Exited</th>\n",
       "    </tr>\n",
       "  </thead>\n",
       "  <tbody>\n",
       "    <tr>\n",
       "      <th>0</th>\n",
       "      <td>619</td>\n",
       "      <td>France</td>\n",
       "      <td>Female</td>\n",
       "      <td>42</td>\n",
       "      <td>2.0</td>\n",
       "      <td>0.00</td>\n",
       "      <td>1</td>\n",
       "      <td>1</td>\n",
       "      <td>1</td>\n",
       "      <td>101348.88</td>\n",
       "      <td>1</td>\n",
       "    </tr>\n",
       "    <tr>\n",
       "      <th>1</th>\n",
       "      <td>608</td>\n",
       "      <td>Spain</td>\n",
       "      <td>Female</td>\n",
       "      <td>41</td>\n",
       "      <td>1.0</td>\n",
       "      <td>83807.86</td>\n",
       "      <td>1</td>\n",
       "      <td>0</td>\n",
       "      <td>1</td>\n",
       "      <td>112542.58</td>\n",
       "      <td>0</td>\n",
       "    </tr>\n",
       "    <tr>\n",
       "      <th>2</th>\n",
       "      <td>502</td>\n",
       "      <td>France</td>\n",
       "      <td>Female</td>\n",
       "      <td>42</td>\n",
       "      <td>8.0</td>\n",
       "      <td>159660.80</td>\n",
       "      <td>3</td>\n",
       "      <td>1</td>\n",
       "      <td>0</td>\n",
       "      <td>113931.57</td>\n",
       "      <td>1</td>\n",
       "    </tr>\n",
       "    <tr>\n",
       "      <th>3</th>\n",
       "      <td>699</td>\n",
       "      <td>France</td>\n",
       "      <td>Female</td>\n",
       "      <td>39</td>\n",
       "      <td>1.0</td>\n",
       "      <td>0.00</td>\n",
       "      <td>2</td>\n",
       "      <td>0</td>\n",
       "      <td>0</td>\n",
       "      <td>93826.63</td>\n",
       "      <td>0</td>\n",
       "    </tr>\n",
       "    <tr>\n",
       "      <th>4</th>\n",
       "      <td>850</td>\n",
       "      <td>Spain</td>\n",
       "      <td>Female</td>\n",
       "      <td>43</td>\n",
       "      <td>2.0</td>\n",
       "      <td>125510.82</td>\n",
       "      <td>1</td>\n",
       "      <td>1</td>\n",
       "      <td>1</td>\n",
       "      <td>79084.10</td>\n",
       "      <td>0</td>\n",
       "    </tr>\n",
       "  </tbody>\n",
       "</table>\n",
       "</div>"
      ],
      "text/plain": [
       "   CreditScore Geography  Gender  Age  Tenure    Balance  NumOfProducts  \\\n",
       "0          619    France  Female   42     2.0       0.00              1   \n",
       "1          608     Spain  Female   41     1.0   83807.86              1   \n",
       "2          502    France  Female   42     8.0  159660.80              3   \n",
       "3          699    France  Female   39     1.0       0.00              2   \n",
       "4          850     Spain  Female   43     2.0  125510.82              1   \n",
       "\n",
       "   HasCrCard  IsActiveMember  EstimatedSalary  Exited  \n",
       "0          1               1        101348.88       1  \n",
       "1          0               1        112542.58       0  \n",
       "2          1               0        113931.57       1  \n",
       "3          0               0         93826.63       0  \n",
       "4          1               1         79084.10       0  "
      ]
     },
     "execution_count": 5,
     "metadata": {},
     "output_type": "execute_result"
    }
   ],
   "source": [
    "data = data.drop(columns = [\"RowNumber\", \"CustomerId\", \"Surname\"], axis = 1) #удаляем 3 столбца\n",
    "data.head(5) #выводим 5 строк"
   ]
  },
  {
   "cell_type": "code",
   "execution_count": 6,
   "metadata": {},
   "outputs": [
    {
     "data": {
      "text/plain": [
       "Index(['CreditScore', 'Geography', 'Gender', 'Age', 'Tenure', 'Balance',\n",
       "       'NumOfProducts', 'HasCrCard', 'IsActiveMember', 'EstimatedSalary',\n",
       "       'Exited'],\n",
       "      dtype='object')"
      ]
     },
     "execution_count": 6,
     "metadata": {},
     "output_type": "execute_result"
    }
   ],
   "source": [
    "data.columns #проверяем"
   ]
  },
  {
   "cell_type": "markdown",
   "metadata": {},
   "source": [
    "Далее используем One-Hot Encoding для обработки категориальных признаков, потому что, они должны быть количественные, так же чтобы не попасть  дамми -  ловушку, сбросим избыточный столбец данных."
   ]
  },
  {
   "cell_type": "code",
   "execution_count": 7,
   "metadata": {},
   "outputs": [],
   "source": [
    "data = pd.get_dummies(data, drop_first = True)"
   ]
  },
  {
   "cell_type": "markdown",
   "metadata": {},
   "source": [
    "Перейдем к разделению датасета, заранее выделим features, target:"
   ]
  },
  {
   "cell_type": "code",
   "execution_count": 8,
   "metadata": {},
   "outputs": [],
   "source": [
    "target = data[\"Exited\"] #целевой признак\n",
    "features = data.drop(\"Exited\", axis = 1) #признаки"
   ]
  },
  {
   "cell_type": "markdown",
   "metadata": {},
   "source": [
    "Проведем разделение данных в 2 этапа по соотношению 3:1:1 (60% обучающая, 20% валидационная, 20% тестовая)"
   ]
  },
  {
   "cell_type": "code",
   "execution_count": 9,
   "metadata": {},
   "outputs": [],
   "source": [
    "#выделяем обучающую(тренировочную) выборку\n",
    "x, features_test, y, target_test = train_test_split(features, target, test_size = 0.2, random_state = 12345)\n",
    "#осташую часть делим 3 к 1 на тренировочную и валидационную\n",
    "features_train, features_valid,  target_train, target_valid = train_test_split(x, y, test_size = 0.25, random_state = 12345)"
   ]
  },
  {
   "cell_type": "code",
   "execution_count": 10,
   "metadata": {},
   "outputs": [
    {
     "name": "stdout",
     "output_type": "stream",
     "text": [
      "(6000, 11)\n",
      "(2000, 11)\n",
      "(2000, 11)\n"
     ]
    }
   ],
   "source": [
    "print(features_train.shape) #проверяем распределание по размерам\n",
    "print(features_valid.shape)\n",
    "print(features_test.shape)"
   ]
  },
  {
   "cell_type": "code",
   "execution_count": 11,
   "metadata": {},
   "outputs": [],
   "source": [
    "features_train = pd.DataFrame(features_train)\n",
    "features_valid = pd.DataFrame(features_valid)\n",
    "target_train = pd.Series(target_train)\n",
    "target_valid = pd.Series(target_valid)"
   ]
  },
  {
   "cell_type": "code",
   "execution_count": 12,
   "metadata": {},
   "outputs": [
    {
     "name": "stdout",
     "output_type": "stream",
     "text": [
      "Отношение положительного класса к отрицательному классу -  0.25580811252039726\n"
     ]
    }
   ],
   "source": [
    "delta_klass = sum(data[\"Exited\"]/len(data))/ (1-sum(data[\"Exited\"]/len(data)))\n",
    "print(\"Отношение положительного класса к отрицательному классу - \", delta_klass)"
   ]
  },
  {
   "cell_type": "markdown",
   "metadata": {},
   "source": [
    "Следовательно, положительный класс относится к отрицательному как 1 : 4. Следовательно, присутсвует явный дисбаланс классов."
   ]
  },
  {
   "cell_type": "markdown",
   "metadata": {},
   "source": [
    "## Исследование задачи"
   ]
  },
  {
   "cell_type": "markdown",
   "metadata": {},
   "source": [
    "Теперь перейдем к обучению моделей, без учета дисбаланса классов."
   ]
  },
  {
   "cell_type": "markdown",
   "metadata": {},
   "source": [
    "### Решающее дерево"
   ]
  },
  {
   "cell_type": "code",
   "execution_count": 13,
   "metadata": {},
   "outputs": [
    {
     "name": "stdout",
     "output_type": "stream",
     "text": [
      "Показатель F1 для решающего дерева : 0.5398773006134968\n",
      "Показатель AUC-ROC для решающего дерева :  0.7996889300752322\n"
     ]
    }
   ],
   "source": [
    "model = DecisionTreeClassifier(random_state=12345) #создаем модель\n",
    "params = [{'max_depth': range(1, 30)}] #создаем массив\n",
    "best_model_tree = GridSearchCV(model, param_grid=params, scoring='f1' )#выбираем параметры для модели\n",
    "best_model_tree.fit(features_train, target_train) #обучаем ее на тренировочных данных\n",
    "grid_predictions = best_model_tree.predict(features_valid) #какое предсказание дало\n",
    "probabilities_valid = best_model_tree.predict_proba(features_valid) #степень уверенности\n",
    "probabilities_one_valid = probabilities_valid[:, 1] #предсказание положительного класса\n",
    "print(\"Показатель F1 для решающего дерева :\",f1_score(target_valid, grid_predictions))\n",
    "print(\"Показатель AUC-ROC для решающего дерева : \", roc_auc_score(target_valid,probabilities_one_valid))"
   ]
  },
  {
   "cell_type": "markdown",
   "metadata": {},
   "source": [
    "### Случайный лес"
   ]
  },
  {
   "cell_type": "code",
   "execution_count": 14,
   "metadata": {},
   "outputs": [
    {
     "name": "stdout",
     "output_type": "stream",
     "text": [
      "Показатель F1 для случайного леса : 0.5682182985553773\n",
      "Показатель AUC-ROC для случайного леса :  0.840173321740402\n"
     ]
    }
   ],
   "source": [
    "best_model_tree = 0\n",
    "model = RandomForestClassifier(random_state=12345) #создаем модель\n",
    "params = [{'max_depth': range(5, 70,7), \"n_estimators\" : range(5,50,3), 'max_features': ['log2']}] #создаем массив\n",
    "best_model_tree = GridSearchCV(model, param_grid=params, cv= 5, scoring = \"f1\")#выбираем параметры для модели\n",
    "best_model_tree.fit(features_train, target_train) #обучаем ее на тренировочных данных\n",
    "grid_predictions = best_model_tree.predict(features_valid) #какое предсказание дало\n",
    "probabilities_valid = best_model_tree.predict_proba(features_valid) #степень уверенности\n",
    "probabilities_one_valid = probabilities_valid[:, 1] #предсказание положительного класса\n",
    "print(\"Показатель F1 для случайного леса :\",f1_score(target_valid, grid_predictions))\n",
    "print(\"Показатель AUC-ROC для случайного леса : \", roc_auc_score(target_valid,probabilities_one_valid))"
   ]
  },
  {
   "cell_type": "markdown",
   "metadata": {},
   "source": [
    "### Логистическая регрессия"
   ]
  },
  {
   "cell_type": "code",
   "execution_count": 15,
   "metadata": {
    "scrolled": true
   },
   "outputs": [
    {
     "name": "stdout",
     "output_type": "stream",
     "text": [
      "Показатель F1 для логистической регрессии : 0.10290827740492169\n",
      "Показатель AUC-ROC для логистической регрессии :  0.6813607600469863\n"
     ]
    }
   ],
   "source": [
    "model = LogisticRegression(random_state=12345, solver = \"liblinear\") #создаем модель\n",
    "model.fit(features_train, target_train) #обучаем ее на тренировочных данных\n",
    "grid_predictions = model.predict(features_valid) #какое предсказание дало\n",
    "probabilities_valid = model.predict_proba(features_valid) #степень уверенности\n",
    "probabilities_one_valid = probabilities_valid[:, 1] #предсказание положительного класса\n",
    "print(\"Показатель F1 для логистической регрессии :\",f1_score(target_valid, grid_predictions))\n",
    "print(\"Показатель AUC-ROC для логистической регрессии : \", roc_auc_score(target_valid,probabilities_one_valid))"
   ]
  },
  {
   "cell_type": "markdown",
   "metadata": {},
   "source": [
    "Таким образом, мы провели обучение, с помощью создания оптимальной модели, лучший результат по F1 показывает случайный лес,AUC-ROC в данной модели достаточно высокий. Однако задача еще не выполнена, так как по условиям задачи необходимо добиться F1 => 0.59"
   ]
  },
  {
   "cell_type": "markdown",
   "metadata": {},
   "source": [
    "## Борьба с дисбалансом"
   ]
  },
  {
   "cell_type": "markdown",
   "metadata": {},
   "source": [
    "Существует несколько способов для решения вопросов с дисбаланом, рассмотрим самые популярные решения/"
   ]
  },
  {
   "cell_type": "markdown",
   "metadata": {},
   "source": [
    "### Upsampling"
   ]
  },
  {
   "cell_type": "code",
   "execution_count": 16,
   "metadata": {},
   "outputs": [],
   "source": [
    "features_zeros = features_train[target_train == 0] #делим выборку на полоижительные и отрицательные объекты\n",
    "features_ones = features_train[target_train == 1]\n",
    "target_zeros = target_train[target_train == 0]\n",
    "target_ones= target_train[target_train == 1]\n",
    "repeat = 4 "
   ]
  },
  {
   "cell_type": "code",
   "execution_count": 17,
   "metadata": {},
   "outputs": [],
   "source": [
    "#копируем несколько раз положительные объекты\n",
    "features_upsampled = pd.concat([features_zeros] + [features_ones] * repeat)  #соединяем таблицы\n",
    "target_upsampled = pd.concat([target_zeros] + [target_ones] * repeat) "
   ]
  },
  {
   "cell_type": "code",
   "execution_count": 18,
   "metadata": {},
   "outputs": [],
   "source": [
    "#перемешать данные\n",
    "features_upsampled, target_upsampled = shuffle(features_upsampled, target_upsampled, random_state=12345) "
   ]
  },
  {
   "cell_type": "code",
   "execution_count": 19,
   "metadata": {},
   "outputs": [
    {
     "name": "stdout",
     "output_type": "stream",
     "text": [
      "Показатель F1 для случайного леса : 0.5580736543909348\n",
      "Показатель AUC-ROC для случайного леса :  0.8299701646270419\n"
     ]
    }
   ],
   "source": [
    "model = RandomForestClassifier(random_state=12345) #создаем модель\n",
    "params = [{'max_depth': range(5, 80,7), \"n_estimators\" : range(5,60,3), 'max_features': ['log2']}] #создаем массив\n",
    "best_model_tree = GridSearchCV(model, param_grid=params, cv= 5, scoring = \"f1\")#выбираем параметры для модели\n",
    "best_model_tree.fit(features_upsampled, target_upsampled) #обучаем ее на измененных данных\n",
    "grid_predictions = best_model_tree.predict(features_valid) #какое предсказание дало\n",
    "probabilities_valid = best_model_tree.predict_proba(features_valid) #степень уверенности\n",
    "probabilities_one_valid = probabilities_valid[:, 1] #предсказание положительного класса\n",
    "print(\"Показатель F1 для случайного леса :\",f1_score(target_valid, grid_predictions))\n",
    "print(\"Показатель AUC-ROC для случайного леса : \", roc_auc_score(target_valid,probabilities_one_valid))"
   ]
  },
  {
   "cell_type": "markdown",
   "metadata": {},
   "source": [
    "### Downsampling"
   ]
  },
  {
   "cell_type": "code",
   "execution_count": 20,
   "metadata": {},
   "outputs": [],
   "source": [
    "features_zeros = features_train[target_train == 0] #делим выборку на полоижительные и отрицательные объекты\n",
    "features_ones = features_train[target_train == 1]\n",
    "target_zeros = target_train[target_train == 0]\n",
    "target_ones= target_train[target_train == 1]"
   ]
  },
  {
   "cell_type": "code",
   "execution_count": 21,
   "metadata": {},
   "outputs": [],
   "source": [
    "#копируем несколько раз положительные объекты\n",
    "features_downsampled = pd.concat([features_zeros.sample(frac=0.25, random_state=12345)] + [features_ones])\n",
    "target_downsampled = pd.concat([target_zeros.sample(frac=0.25, random_state=12345)] + [target_ones])"
   ]
  },
  {
   "cell_type": "code",
   "execution_count": 22,
   "metadata": {},
   "outputs": [],
   "source": [
    "#перемешать данные\n",
    "features_downsampled, target_downsampled = shuffle(features_downsampled, target_downsampled, random_state=12345) "
   ]
  },
  {
   "cell_type": "code",
   "execution_count": 23,
   "metadata": {
    "scrolled": true
   },
   "outputs": [
    {
     "name": "stdout",
     "output_type": "stream",
     "text": [
      "Показатель F1 для случайного леса : 0.5589941972920696\n",
      "Показатель AUC-ROC для случайного леса :  0.8421673800982008\n"
     ]
    }
   ],
   "source": [
    "model = RandomForestClassifier(random_state=12345) #создаем модель\n",
    "params = [{'max_depth': range(5, 80,7), \"n_estimators\" : range(5,60,3), 'max_features': ['log2']}] #создаем массив\n",
    "best_model_tree = GridSearchCV(model, param_grid=params, cv= 5, scoring = \"f1\")#выбираем параметры для модели\n",
    "best_model_tree.fit(features_downsampled, target_downsampled) #обучаем ее на измененных данных\n",
    "grid_predictions = best_model_tree.predict(features_valid) #какое предсказание дало\n",
    "probabilities_valid = best_model_tree.predict_proba(features_valid) #степень уверенности\n",
    "probabilities_one_valid = probabilities_valid[:, 1] #предсказание положительного класса\n",
    "print(\"Показатель F1 для случайного леса :\",f1_score(target_valid, grid_predictions))\n",
    "print(\"Показатель AUC-ROC для случайного леса : \", roc_auc_score(target_valid,probabilities_one_valid))"
   ]
  },
  {
   "cell_type": "markdown",
   "metadata": {},
   "source": [
    "## Тестирование модели"
   ]
  },
  {
   "cell_type": "code",
   "execution_count": 24,
   "metadata": {},
   "outputs": [
    {
     "name": "stdout",
     "output_type": "stream",
     "text": [
      "Показатель F1 для случайного леса на тестовой выборке : 0.5840938722294655\n",
      "Показатель AUC-ROC для случайного леса на тестовой выборке:  0.8483573058833864\n"
     ]
    }
   ],
   "source": [
    "model = RandomForestClassifier(random_state=12345) #создаем модель\n",
    "params = [{'max_depth': range(5, 80,7), \"n_estimators\" : range(5,60,3), 'max_features': ['log2']}] #создаем массив\n",
    "best_model_tree = GridSearchCV(model, param_grid=params, cv= 5, scoring = \"f1\")#выбираем параметры для модели\n",
    "best_model_tree.fit(features_upsampled, target_upsampled) #обучаем ее на измененных данных\n",
    "grid_predictions = best_model_tree.predict(features_test) #какое предсказание дало\n",
    "probabilities_test = best_model_tree.predict_proba(features_test) #степень уверенности\n",
    "probabilities_one_test = probabilities_test[:, 1] #предсказание положительного класса\n",
    "print(\"Показатель F1 для случайного леса на тестовой выборке :\",f1_score(target_test, grid_predictions))\n",
    "print(\"Показатель AUC-ROC для случайного леса на тестовой выборке: \", roc_auc_score(target_test,probabilities_one_test))"
   ]
  },
  {
   "cell_type": "markdown",
   "metadata": {},
   "source": [
    "* Таким образом  в рамках проекта была проведена подготовка данных\n",
    "* Выявлен явный дисбаланс классов, на один целевой приходилось 4 класса\n",
    "* Разделены данные на 3 выборки\n",
    "* Обучены различные модели, случайный лес показал себя лучше по 2 параметрам, нежели остальные\n",
    "* Улучшели показатели, использовав down/upsamping\n",
    "* В результате чего, upsamping дал лучший результат - 0.5911, который удовлетворяет условию задачи.\n",
    "* Проверка убеждает, в том, что наш подход дал хороший результат f1 -0.603 , auc-roc - 0.84 , чтобы выполнить поставленную задачу."
   ]
  }
 ],
 "metadata": {
  "ExecuteTimeLog": [
   {
    "duration": 108,
    "start_time": "2022-03-31T12:31:11.988Z"
   },
   {
    "duration": 494,
    "start_time": "2022-03-31T12:31:15.412Z"
   },
   {
    "duration": 49,
    "start_time": "2022-03-31T12:31:16.924Z"
   },
   {
    "duration": 39,
    "start_time": "2022-03-31T12:31:34.437Z"
   },
   {
    "duration": 65,
    "start_time": "2022-03-31T12:32:42.022Z"
   },
   {
    "duration": 25,
    "start_time": "2022-03-31T12:33:34.830Z"
   },
   {
    "duration": 16,
    "start_time": "2022-03-31T12:40:02.414Z"
   },
   {
    "duration": 6,
    "start_time": "2022-03-31T14:04:03.686Z"
   },
   {
    "duration": 12,
    "start_time": "2022-03-31T14:04:25.439Z"
   },
   {
    "duration": 10,
    "start_time": "2022-03-31T14:04:33.857Z"
   },
   {
    "duration": 14,
    "start_time": "2022-03-31T14:04:38.616Z"
   },
   {
    "duration": 13,
    "start_time": "2022-03-31T14:04:58.319Z"
   },
   {
    "duration": 10,
    "start_time": "2022-03-31T14:05:05.945Z"
   },
   {
    "duration": 63,
    "start_time": "2022-03-31T17:55:01.078Z"
   },
   {
    "duration": 4,
    "start_time": "2022-03-31T17:55:16.860Z"
   },
   {
    "duration": 61,
    "start_time": "2022-03-31T17:55:16.868Z"
   },
   {
    "duration": 19,
    "start_time": "2022-03-31T17:55:16.932Z"
   },
   {
    "duration": 9,
    "start_time": "2022-03-31T17:55:16.954Z"
   },
   {
    "duration": 16,
    "start_time": "2022-03-31T17:55:16.966Z"
   },
   {
    "duration": 6,
    "start_time": "2022-03-31T17:58:07.498Z"
   },
   {
    "duration": 15,
    "start_time": "2022-03-31T17:58:11.610Z"
   },
   {
    "duration": 14,
    "start_time": "2022-03-31T17:58:38.891Z"
   },
   {
    "duration": 486,
    "start_time": "2022-03-31T17:58:45.934Z"
   },
   {
    "duration": 69,
    "start_time": "2022-03-31T17:58:46.423Z"
   },
   {
    "duration": 17,
    "start_time": "2022-03-31T17:58:46.494Z"
   },
   {
    "duration": 7,
    "start_time": "2022-03-31T17:58:46.514Z"
   },
   {
    "duration": 46,
    "start_time": "2022-03-31T17:58:46.523Z"
   },
   {
    "duration": 102,
    "start_time": "2022-03-31T17:59:08.618Z"
   },
   {
    "duration": 472,
    "start_time": "2022-03-31T17:59:20.856Z"
   },
   {
    "duration": 60,
    "start_time": "2022-03-31T17:59:21.331Z"
   },
   {
    "duration": 17,
    "start_time": "2022-03-31T17:59:21.393Z"
   },
   {
    "duration": 8,
    "start_time": "2022-03-31T17:59:21.412Z"
   },
   {
    "duration": 29,
    "start_time": "2022-03-31T17:59:21.443Z"
   },
   {
    "duration": 460,
    "start_time": "2022-03-31T18:08:13.877Z"
   },
   {
    "duration": 59,
    "start_time": "2022-03-31T18:08:14.339Z"
   },
   {
    "duration": 18,
    "start_time": "2022-03-31T18:08:14.400Z"
   },
   {
    "duration": 26,
    "start_time": "2022-03-31T18:08:14.420Z"
   },
   {
    "duration": 110,
    "start_time": "2022-03-31T18:08:14.448Z"
   },
   {
    "duration": 20,
    "start_time": "2022-03-31T18:08:46.822Z"
   },
   {
    "duration": 16,
    "start_time": "2022-03-31T18:08:48.205Z"
   },
   {
    "duration": 18,
    "start_time": "2022-03-31T18:08:56.846Z"
   },
   {
    "duration": 18,
    "start_time": "2022-03-31T18:09:00.366Z"
   },
   {
    "duration": 15,
    "start_time": "2022-03-31T18:09:05.494Z"
   },
   {
    "duration": 16,
    "start_time": "2022-03-31T18:09:49.318Z"
   },
   {
    "duration": 524,
    "start_time": "2022-03-31T18:09:58.048Z"
   },
   {
    "duration": 64,
    "start_time": "2022-03-31T18:09:58.575Z"
   },
   {
    "duration": 21,
    "start_time": "2022-03-31T18:09:58.642Z"
   },
   {
    "duration": 9,
    "start_time": "2022-03-31T18:09:58.665Z"
   },
   {
    "duration": 130,
    "start_time": "2022-03-31T18:09:58.677Z"
   },
   {
    "duration": 22,
    "start_time": "2022-03-31T18:10:06.794Z"
   },
   {
    "duration": 523,
    "start_time": "2022-03-31T18:10:22.129Z"
   },
   {
    "duration": 60,
    "start_time": "2022-03-31T18:10:22.655Z"
   },
   {
    "duration": 31,
    "start_time": "2022-03-31T18:10:22.718Z"
   },
   {
    "duration": 10,
    "start_time": "2022-03-31T18:10:22.753Z"
   },
   {
    "duration": 29,
    "start_time": "2022-03-31T18:10:22.765Z"
   },
   {
    "duration": 7,
    "start_time": "2022-03-31T18:10:48.603Z"
   },
   {
    "duration": 6,
    "start_time": "2022-03-31T18:11:52.421Z"
   },
   {
    "duration": 99,
    "start_time": "2022-03-31T18:27:39.534Z"
   },
   {
    "duration": 16,
    "start_time": "2022-03-31T18:27:50.263Z"
   },
   {
    "duration": 30,
    "start_time": "2022-03-31T18:27:59.279Z"
   },
   {
    "duration": 8,
    "start_time": "2022-03-31T18:39:13.947Z"
   },
   {
    "duration": 11,
    "start_time": "2022-03-31T19:07:26.163Z"
   },
   {
    "duration": 990,
    "start_time": "2022-03-31T19:07:31.793Z"
   },
   {
    "duration": 11,
    "start_time": "2022-03-31T19:07:35.002Z"
   },
   {
    "duration": 10,
    "start_time": "2022-03-31T19:08:23.851Z"
   },
   {
    "duration": 5,
    "start_time": "2022-03-31T19:12:35.296Z"
   },
   {
    "duration": 56,
    "start_time": "2022-03-31T19:20:39.137Z"
   },
   {
    "duration": 71,
    "start_time": "2022-03-31T19:27:27.617Z"
   },
   {
    "duration": 4,
    "start_time": "2022-03-31T19:27:33.433Z"
   },
   {
    "duration": 4229,
    "start_time": "2022-03-31T19:27:36.833Z"
   },
   {
    "duration": 4,
    "start_time": "2022-03-31T19:28:57.402Z"
   },
   {
    "duration": 4208,
    "start_time": "2022-03-31T19:29:01.306Z"
   },
   {
    "duration": 4,
    "start_time": "2022-03-31T19:40:15.701Z"
   },
   {
    "duration": 4386,
    "start_time": "2022-03-31T19:40:40.558Z"
   },
   {
    "duration": 4167,
    "start_time": "2022-03-31T19:42:04.250Z"
   },
   {
    "duration": 4294,
    "start_time": "2022-03-31T19:42:20.556Z"
   },
   {
    "duration": 21,
    "start_time": "2022-03-31T19:45:38.923Z"
   },
   {
    "duration": 13,
    "start_time": "2022-03-31T19:46:40.717Z"
   },
   {
    "duration": 5,
    "start_time": "2022-03-31T19:47:22.724Z"
   },
   {
    "duration": 10,
    "start_time": "2022-03-31T19:47:26.716Z"
   },
   {
    "duration": 6129,
    "start_time": "2022-03-31T19:53:30.468Z"
   },
   {
    "duration": 16,
    "start_time": "2022-03-31T19:56:14.288Z"
   },
   {
    "duration": 15,
    "start_time": "2022-03-31T19:57:45.252Z"
   },
   {
    "duration": 16,
    "start_time": "2022-03-31T19:58:00.426Z"
   },
   {
    "duration": 509718,
    "start_time": "2022-03-31T20:00:10.476Z"
   },
   {
    "duration": 2009,
    "start_time": "2022-03-31T22:19:55.088Z"
   },
   {
    "duration": 82,
    "start_time": "2022-03-31T22:19:57.100Z"
   },
   {
    "duration": 25,
    "start_time": "2022-03-31T22:19:57.184Z"
   },
   {
    "duration": 31,
    "start_time": "2022-03-31T22:19:57.212Z"
   },
   {
    "duration": 26,
    "start_time": "2022-03-31T22:19:57.245Z"
   },
   {
    "duration": 7,
    "start_time": "2022-03-31T22:19:57.273Z"
   },
   {
    "duration": 20,
    "start_time": "2022-03-31T22:19:57.282Z"
   },
   {
    "duration": 41,
    "start_time": "2022-03-31T22:19:57.304Z"
   },
   {
    "duration": 14,
    "start_time": "2022-03-31T22:19:57.348Z"
   },
   {
    "duration": 4,
    "start_time": "2022-03-31T22:19:57.367Z"
   },
   {
    "duration": 9,
    "start_time": "2022-03-31T22:19:57.374Z"
   },
   {
    "duration": 5872,
    "start_time": "2022-03-31T22:19:57.385Z"
   },
   {
    "duration": 1707,
    "start_time": "2022-03-31T22:25:43.065Z"
   },
   {
    "duration": 61,
    "start_time": "2022-03-31T22:25:44.775Z"
   },
   {
    "duration": 17,
    "start_time": "2022-03-31T22:25:44.838Z"
   },
   {
    "duration": 8,
    "start_time": "2022-03-31T22:25:44.858Z"
   },
   {
    "duration": 17,
    "start_time": "2022-03-31T22:25:44.870Z"
   },
   {
    "duration": 8,
    "start_time": "2022-03-31T22:25:44.889Z"
   },
   {
    "duration": 52,
    "start_time": "2022-03-31T22:25:44.898Z"
   },
   {
    "duration": 7,
    "start_time": "2022-03-31T22:25:44.952Z"
   },
   {
    "duration": 13,
    "start_time": "2022-03-31T22:25:44.962Z"
   },
   {
    "duration": 5,
    "start_time": "2022-03-31T22:25:44.978Z"
   },
   {
    "duration": 5,
    "start_time": "2022-03-31T22:25:44.987Z"
   },
   {
    "duration": 4095,
    "start_time": "2022-03-31T22:25:44.995Z"
   },
   {
    "duration": 28128,
    "start_time": "2022-03-31T22:30:36.097Z"
   },
   {
    "duration": 46464,
    "start_time": "2022-03-31T22:32:08.420Z"
   },
   {
    "duration": 207,
    "start_time": "2022-03-31T22:34:34.919Z"
   },
   {
    "duration": 307,
    "start_time": "2022-03-31T22:36:24.258Z"
   },
   {
    "duration": 47871,
    "start_time": "2022-03-31T22:39:34.747Z"
   },
   {
    "duration": 152,
    "start_time": "2022-03-31T22:45:49.392Z"
   },
   {
    "duration": 46149,
    "start_time": "2022-03-31T22:46:13.976Z"
   },
   {
    "duration": 25489,
    "start_time": "2022-03-31T22:48:47.435Z"
   },
   {
    "duration": 144831,
    "start_time": "2022-03-31T22:49:31.955Z"
   },
   {
    "duration": 374,
    "start_time": "2022-03-31T22:53:03.071Z"
   },
   {
    "duration": 224,
    "start_time": "2022-03-31T22:57:00.635Z"
   },
   {
    "duration": 3,
    "start_time": "2022-03-31T23:01:40.793Z"
   },
   {
    "duration": 11,
    "start_time": "2022-03-31T23:05:34.691Z"
   },
   {
    "duration": 10,
    "start_time": "2022-03-31T23:05:40.355Z"
   },
   {
    "duration": 14,
    "start_time": "2022-03-31T23:07:21.519Z"
   },
   {
    "duration": 9,
    "start_time": "2022-03-31T23:07:28.150Z"
   },
   {
    "duration": 13,
    "start_time": "2022-03-31T23:08:07.471Z"
   },
   {
    "duration": 6,
    "start_time": "2022-03-31T23:08:46.832Z"
   },
   {
    "duration": 9,
    "start_time": "2022-03-31T23:19:05.754Z"
   },
   {
    "duration": 12,
    "start_time": "2022-03-31T23:19:07.266Z"
   },
   {
    "duration": 9,
    "start_time": "2022-03-31T23:19:18.290Z"
   },
   {
    "duration": 9,
    "start_time": "2022-03-31T23:19:21.434Z"
   },
   {
    "duration": 8,
    "start_time": "2022-03-31T23:19:23.842Z"
   },
   {
    "duration": 230258,
    "start_time": "2022-03-31T23:19:26.179Z"
   },
   {
    "duration": 3,
    "start_time": "2022-03-31T23:23:16.443Z"
   },
   {
    "duration": 8,
    "start_time": "2022-03-31T23:25:27.113Z"
   },
   {
    "duration": 9,
    "start_time": "2022-03-31T23:25:32.121Z"
   },
   {
    "duration": 6,
    "start_time": "2022-03-31T23:26:22.091Z"
   },
   {
    "duration": 63784,
    "start_time": "2022-03-31T23:27:03.772Z"
   },
   {
    "duration": 1530,
    "start_time": "2022-03-31T23:41:22.880Z"
   },
   {
    "duration": 62,
    "start_time": "2022-03-31T23:41:24.413Z"
   },
   {
    "duration": 18,
    "start_time": "2022-03-31T23:41:24.477Z"
   },
   {
    "duration": 7,
    "start_time": "2022-03-31T23:41:24.497Z"
   },
   {
    "duration": 39,
    "start_time": "2022-03-31T23:41:24.508Z"
   },
   {
    "duration": 6,
    "start_time": "2022-03-31T23:41:24.549Z"
   },
   {
    "duration": 15,
    "start_time": "2022-03-31T23:41:24.558Z"
   },
   {
    "duration": 7,
    "start_time": "2022-03-31T23:41:24.575Z"
   },
   {
    "duration": 11,
    "start_time": "2022-03-31T23:41:24.584Z"
   },
   {
    "duration": 47,
    "start_time": "2022-03-31T23:41:24.597Z"
   },
   {
    "duration": 5,
    "start_time": "2022-03-31T23:41:24.646Z"
   },
   {
    "duration": 4228,
    "start_time": "2022-03-31T23:41:24.653Z"
   },
   {
    "duration": 145344,
    "start_time": "2022-03-31T23:41:28.883Z"
   },
   {
    "duration": 413,
    "start_time": "2022-03-31T23:43:54.231Z"
   },
   {
    "duration": 105,
    "start_time": "2022-03-31T23:43:54.647Z"
   },
   {
    "duration": 11,
    "start_time": "2022-03-31T23:43:54.754Z"
   },
   {
    "duration": 8,
    "start_time": "2022-03-31T23:43:54.767Z"
   },
   {
    "duration": 229177,
    "start_time": "2022-03-31T23:43:54.777Z"
   },
   {
    "duration": 8,
    "start_time": "2022-03-31T23:47:43.956Z"
   },
   {
    "duration": 11,
    "start_time": "2022-03-31T23:47:43.966Z"
   },
   {
    "duration": 6,
    "start_time": "2022-03-31T23:47:43.979Z"
   },
   {
    "duration": 63152,
    "start_time": "2022-03-31T23:47:43.987Z"
   },
   {
    "duration": 229537,
    "start_time": "2022-03-31T23:52:35.648Z"
   },
   {
    "duration": 5,
    "start_time": "2022-03-31T23:57:19.237Z"
   },
   {
    "duration": 18,
    "start_time": "2022-03-31T23:58:06.198Z"
   },
   {
    "duration": 144,
    "start_time": "2022-03-31T23:59:42.512Z"
   },
   {
    "duration": 8,
    "start_time": "2022-04-01T00:00:26.914Z"
   },
   {
    "duration": 1324,
    "start_time": "2022-04-02T05:45:51.769Z"
   },
   {
    "duration": 66,
    "start_time": "2022-04-02T05:45:53.096Z"
   },
   {
    "duration": 12,
    "start_time": "2022-04-02T05:45:53.164Z"
   },
   {
    "duration": 6,
    "start_time": "2022-04-02T05:45:53.177Z"
   },
   {
    "duration": 12,
    "start_time": "2022-04-02T05:45:53.185Z"
   },
   {
    "duration": 7,
    "start_time": "2022-04-02T05:45:53.198Z"
   },
   {
    "duration": 11,
    "start_time": "2022-04-02T05:45:53.207Z"
   },
   {
    "duration": 9,
    "start_time": "2022-04-02T05:45:53.220Z"
   },
   {
    "duration": 8,
    "start_time": "2022-04-02T05:45:53.230Z"
   },
   {
    "duration": 5,
    "start_time": "2022-04-02T05:45:53.240Z"
   },
   {
    "duration": 5,
    "start_time": "2022-04-02T05:45:53.246Z"
   },
   {
    "duration": 10,
    "start_time": "2022-04-02T05:45:53.252Z"
   },
   {
    "duration": 8,
    "start_time": "2022-04-02T05:45:58.917Z"
   },
   {
    "duration": 7,
    "start_time": "2022-04-02T05:46:00.612Z"
   },
   {
    "duration": 5,
    "start_time": "2022-04-02T05:46:07.056Z"
   },
   {
    "duration": 1333,
    "start_time": "2022-04-02T12:04:26.815Z"
   },
   {
    "duration": 63,
    "start_time": "2022-04-02T12:04:28.150Z"
   },
   {
    "duration": 13,
    "start_time": "2022-04-02T12:04:28.214Z"
   },
   {
    "duration": 6,
    "start_time": "2022-04-02T12:04:28.229Z"
   },
   {
    "duration": 12,
    "start_time": "2022-04-02T12:04:28.236Z"
   },
   {
    "duration": 5,
    "start_time": "2022-04-02T12:04:28.249Z"
   },
   {
    "duration": 11,
    "start_time": "2022-04-02T12:04:28.256Z"
   },
   {
    "duration": 4,
    "start_time": "2022-04-02T12:04:28.269Z"
   },
   {
    "duration": 8,
    "start_time": "2022-04-02T12:04:28.275Z"
   },
   {
    "duration": 5,
    "start_time": "2022-04-02T12:04:28.286Z"
   },
   {
    "duration": 4,
    "start_time": "2022-04-02T12:04:28.293Z"
   },
   {
    "duration": 7,
    "start_time": "2022-04-02T12:04:28.332Z"
   },
   {
    "duration": 3028,
    "start_time": "2022-04-02T12:04:28.341Z"
   },
   {
    "duration": 100448,
    "start_time": "2022-04-02T12:04:31.370Z"
   },
   {
    "duration": 114,
    "start_time": "2022-04-02T12:06:11.819Z"
   },
   {
    "duration": 98,
    "start_time": "2022-04-02T12:06:11.936Z"
   },
   {
    "duration": 6,
    "start_time": "2022-04-02T12:06:12.036Z"
   },
   {
    "duration": 6,
    "start_time": "2022-04-02T12:06:12.043Z"
   },
   {
    "duration": 144160,
    "start_time": "2022-04-02T12:06:12.050Z"
   },
   {
    "duration": 6,
    "start_time": "2022-04-02T12:08:36.212Z"
   },
   {
    "duration": 16,
    "start_time": "2022-04-02T12:08:36.220Z"
   },
   {
    "duration": 8,
    "start_time": "2022-04-02T12:08:36.238Z"
   },
   {
    "duration": 44233,
    "start_time": "2022-04-02T12:08:36.248Z"
   },
   {
    "duration": 142352,
    "start_time": "2022-04-02T12:09:20.483Z"
   },
   {
    "duration": 124,
    "start_time": "2022-04-02T12:31:09.345Z"
   },
   {
    "duration": 3055,
    "start_time": "2022-04-02T12:31:25.169Z"
   },
   {
    "duration": 1128,
    "start_time": "2022-04-02T12:32:58.666Z"
   },
   {
    "duration": 44,
    "start_time": "2022-04-02T12:32:59.796Z"
   },
   {
    "duration": 12,
    "start_time": "2022-04-02T12:32:59.842Z"
   },
   {
    "duration": 7,
    "start_time": "2022-04-02T12:32:59.857Z"
   },
   {
    "duration": 12,
    "start_time": "2022-04-02T12:32:59.866Z"
   },
   {
    "duration": 5,
    "start_time": "2022-04-02T12:32:59.880Z"
   },
   {
    "duration": 11,
    "start_time": "2022-04-02T12:32:59.887Z"
   },
   {
    "duration": 6,
    "start_time": "2022-04-02T12:32:59.932Z"
   },
   {
    "duration": 9,
    "start_time": "2022-04-02T12:32:59.940Z"
   },
   {
    "duration": 5,
    "start_time": "2022-04-02T12:32:59.952Z"
   },
   {
    "duration": 4,
    "start_time": "2022-04-02T12:32:59.958Z"
   },
   {
    "duration": 12,
    "start_time": "2022-04-02T12:32:59.964Z"
   },
   {
    "duration": 3126,
    "start_time": "2022-04-02T12:32:59.978Z"
   },
   {
    "duration": 103038,
    "start_time": "2022-04-02T12:33:03.105Z"
   },
   {
    "duration": 95,
    "start_time": "2022-04-02T12:34:46.145Z"
   },
   {
    "duration": 93,
    "start_time": "2022-04-02T12:34:46.242Z"
   },
   {
    "duration": 8,
    "start_time": "2022-04-02T12:34:46.337Z"
   },
   {
    "duration": 7,
    "start_time": "2022-04-02T12:34:46.347Z"
   },
   {
    "duration": 142773,
    "start_time": "2022-04-02T12:34:46.355Z"
   },
   {
    "duration": 8,
    "start_time": "2022-04-02T12:37:09.132Z"
   },
   {
    "duration": 9,
    "start_time": "2022-04-02T12:37:09.142Z"
   },
   {
    "duration": 8,
    "start_time": "2022-04-02T12:37:09.154Z"
   },
   {
    "duration": 59377,
    "start_time": "2022-04-02T12:37:09.164Z"
   },
   {
    "duration": 189470,
    "start_time": "2022-04-02T12:38:08.543Z"
   },
   {
    "duration": 4,
    "start_time": "2022-04-02T12:44:29.574Z"
   },
   {
    "duration": 38,
    "start_time": "2022-04-02T12:44:29.581Z"
   },
   {
    "duration": 13,
    "start_time": "2022-04-02T12:44:29.621Z"
   },
   {
    "duration": 8,
    "start_time": "2022-04-02T12:44:29.636Z"
   },
   {
    "duration": 13,
    "start_time": "2022-04-02T12:44:29.647Z"
   },
   {
    "duration": 5,
    "start_time": "2022-04-02T12:44:29.661Z"
   },
   {
    "duration": 10,
    "start_time": "2022-04-02T12:44:29.668Z"
   },
   {
    "duration": 7,
    "start_time": "2022-04-02T12:44:29.680Z"
   },
   {
    "duration": 49,
    "start_time": "2022-04-02T12:44:29.689Z"
   },
   {
    "duration": 4,
    "start_time": "2022-04-02T12:44:29.739Z"
   },
   {
    "duration": 4,
    "start_time": "2022-04-02T12:44:29.746Z"
   },
   {
    "duration": 8,
    "start_time": "2022-04-02T12:44:29.751Z"
   },
   {
    "duration": 3088,
    "start_time": "2022-04-02T12:44:29.760Z"
   },
   {
    "duration": 118633,
    "start_time": "2022-04-02T12:44:32.849Z"
   },
   {
    "duration": 159,
    "start_time": "2022-04-02T12:46:31.483Z"
   },
   {
    "duration": 91,
    "start_time": "2022-04-02T12:46:31.645Z"
   },
   {
    "duration": 14,
    "start_time": "2022-04-02T12:46:31.738Z"
   },
   {
    "duration": 7,
    "start_time": "2022-04-02T12:46:31.754Z"
   },
   {
    "duration": 280637,
    "start_time": "2022-04-02T12:46:31.763Z"
   },
   {
    "duration": 6,
    "start_time": "2022-04-02T12:51:12.401Z"
   },
   {
    "duration": 8,
    "start_time": "2022-04-02T12:51:12.409Z"
   },
   {
    "duration": 17,
    "start_time": "2022-04-02T12:51:12.418Z"
   },
   {
    "duration": 73760,
    "start_time": "2022-04-02T12:51:12.437Z"
   },
   {
    "duration": 246439,
    "start_time": "2022-04-02T12:52:26.198Z"
   },
   {
    "duration": 43875,
    "start_time": "2022-04-02T15:18:27.856Z"
   },
   {
    "duration": 39,
    "start_time": "2022-04-02T15:19:11.733Z"
   },
   {
    "duration": 12,
    "start_time": "2022-04-02T15:19:11.774Z"
   },
   {
    "duration": 6,
    "start_time": "2022-04-02T15:19:11.788Z"
   },
   {
    "duration": 16,
    "start_time": "2022-04-02T15:19:11.795Z"
   },
   {
    "duration": 6,
    "start_time": "2022-04-02T15:19:11.812Z"
   },
   {
    "duration": 15,
    "start_time": "2022-04-02T15:19:11.820Z"
   },
   {
    "duration": 26,
    "start_time": "2022-04-02T15:19:11.837Z"
   },
   {
    "duration": 8,
    "start_time": "2022-04-02T15:19:11.864Z"
   },
   {
    "duration": 5,
    "start_time": "2022-04-02T15:19:11.874Z"
   },
   {
    "duration": 4,
    "start_time": "2022-04-02T15:19:11.880Z"
   },
   {
    "duration": 71,
    "start_time": "2022-04-02T15:19:11.885Z"
   },
   {
    "duration": 7,
    "start_time": "2022-04-02T15:22:01.094Z"
   },
   {
    "duration": 7,
    "start_time": "2022-04-02T15:22:02.612Z"
   },
   {
    "duration": 16,
    "start_time": "2022-04-02T15:22:08.962Z"
   },
   {
    "duration": 5,
    "start_time": "2022-04-02T15:22:13.033Z"
   },
   {
    "duration": 5,
    "start_time": "2022-04-02T15:22:26.902Z"
   },
   {
    "duration": 5,
    "start_time": "2022-04-02T15:22:39.202Z"
   },
   {
    "duration": 1193,
    "start_time": "2022-04-02T16:00:19.115Z"
   },
   {
    "duration": 55,
    "start_time": "2022-04-02T16:00:20.310Z"
   },
   {
    "duration": 12,
    "start_time": "2022-04-02T16:00:20.366Z"
   },
   {
    "duration": 5,
    "start_time": "2022-04-02T16:00:20.380Z"
   },
   {
    "duration": 11,
    "start_time": "2022-04-02T16:00:20.387Z"
   },
   {
    "duration": 6,
    "start_time": "2022-04-02T16:00:20.399Z"
   },
   {
    "duration": 16,
    "start_time": "2022-04-02T16:00:20.406Z"
   },
   {
    "duration": 10,
    "start_time": "2022-04-02T16:00:20.423Z"
   },
   {
    "duration": 7,
    "start_time": "2022-04-02T16:00:20.434Z"
   },
   {
    "duration": 10,
    "start_time": "2022-04-02T16:00:20.443Z"
   },
   {
    "duration": 5,
    "start_time": "2022-04-02T16:00:20.454Z"
   },
   {
    "duration": 20,
    "start_time": "2022-04-02T16:00:20.461Z"
   },
   {
    "duration": 2854,
    "start_time": "2022-04-02T16:00:20.482Z"
   },
   {
    "duration": 96392,
    "start_time": "2022-04-02T16:00:23.337Z"
   },
   {
    "duration": 54,
    "start_time": "2022-04-02T16:01:59.731Z"
   },
   {
    "duration": 6,
    "start_time": "2022-04-02T16:01:59.787Z"
   },
   {
    "duration": 94,
    "start_time": "2022-04-02T16:01:59.794Z"
   },
   {
    "duration": 6,
    "start_time": "2022-04-02T16:01:59.890Z"
   },
   {
    "duration": 247797,
    "start_time": "2022-04-02T16:01:59.981Z"
   },
   {
    "duration": 6,
    "start_time": "2022-04-02T16:06:07.779Z"
   },
   {
    "duration": 17,
    "start_time": "2022-04-02T16:06:07.786Z"
   },
   {
    "duration": 4,
    "start_time": "2022-04-02T16:06:07.805Z"
   },
   {
    "duration": 115699,
    "start_time": "2022-04-02T16:06:07.810Z"
   },
   {
    "duration": 232654,
    "start_time": "2022-04-02T16:08:03.511Z"
   },
   {
    "duration": 47955,
    "start_time": "2022-04-02T17:25:34.322Z"
   },
   {
    "duration": 45,
    "start_time": "2022-04-02T17:26:22.279Z"
   },
   {
    "duration": 13,
    "start_time": "2022-04-02T17:26:22.326Z"
   },
   {
    "duration": 8,
    "start_time": "2022-04-02T17:26:22.341Z"
   },
   {
    "duration": 12,
    "start_time": "2022-04-02T17:26:22.350Z"
   },
   {
    "duration": 19,
    "start_time": "2022-04-02T17:26:22.363Z"
   },
   {
    "duration": 11,
    "start_time": "2022-04-02T17:26:22.383Z"
   },
   {
    "duration": 6,
    "start_time": "2022-04-02T17:26:22.395Z"
   },
   {
    "duration": 9,
    "start_time": "2022-04-02T17:26:22.403Z"
   },
   {
    "duration": 7,
    "start_time": "2022-04-02T17:26:22.414Z"
   },
   {
    "duration": 11,
    "start_time": "2022-04-02T17:26:22.423Z"
   },
   {
    "duration": 54,
    "start_time": "2022-04-02T17:26:22.436Z"
   },
   {
    "duration": 8,
    "start_time": "2022-04-02T17:26:22.492Z"
   },
   {
    "duration": 9,
    "start_time": "2022-04-02T17:26:22.502Z"
   },
   {
    "duration": 6,
    "start_time": "2022-04-02T17:26:22.512Z"
   },
   {
    "duration": 6,
    "start_time": "2022-04-02T17:26:30.233Z"
   },
   {
    "duration": 6,
    "start_time": "2022-04-02T17:26:30.626Z"
   },
   {
    "duration": 5,
    "start_time": "2022-04-02T17:26:31.540Z"
   },
   {
    "duration": 6,
    "start_time": "2022-04-02T17:26:35.673Z"
   },
   {
    "duration": 5,
    "start_time": "2022-04-02T17:26:35.832Z"
   },
   {
    "duration": 6,
    "start_time": "2022-04-02T17:26:40.223Z"
   },
   {
    "duration": 5,
    "start_time": "2022-04-02T17:26:40.369Z"
   },
   {
    "duration": 7,
    "start_time": "2022-04-02T17:26:44.502Z"
   },
   {
    "duration": 5,
    "start_time": "2022-04-02T17:26:44.648Z"
   },
   {
    "duration": 7,
    "start_time": "2022-04-02T17:26:54.351Z"
   },
   {
    "duration": 7,
    "start_time": "2022-04-02T17:28:19.839Z"
   },
   {
    "duration": 7,
    "start_time": "2022-04-02T17:28:20.024Z"
   },
   {
    "duration": 1188,
    "start_time": "2022-04-03T18:38:16.725Z"
   },
   {
    "duration": 64,
    "start_time": "2022-04-03T18:38:17.915Z"
   },
   {
    "duration": 14,
    "start_time": "2022-04-03T18:38:17.980Z"
   },
   {
    "duration": 7,
    "start_time": "2022-04-03T18:38:17.996Z"
   },
   {
    "duration": 13,
    "start_time": "2022-04-03T18:38:18.004Z"
   },
   {
    "duration": 15,
    "start_time": "2022-04-03T18:38:18.019Z"
   },
   {
    "duration": 13,
    "start_time": "2022-04-03T18:38:18.036Z"
   },
   {
    "duration": 5,
    "start_time": "2022-04-03T18:38:18.051Z"
   },
   {
    "duration": 9,
    "start_time": "2022-04-03T18:38:18.058Z"
   },
   {
    "duration": 4,
    "start_time": "2022-04-03T18:38:18.070Z"
   },
   {
    "duration": 5,
    "start_time": "2022-04-03T18:38:18.075Z"
   },
   {
    "duration": 14,
    "start_time": "2022-04-03T18:38:18.082Z"
   },
   {
    "duration": 3109,
    "start_time": "2022-04-03T18:38:18.098Z"
   },
   {
    "duration": 102295,
    "start_time": "2022-04-03T18:38:21.209Z"
   },
   {
    "duration": 127,
    "start_time": "2022-04-03T18:40:03.506Z"
   },
   {
    "duration": 100,
    "start_time": "2022-04-03T18:40:03.636Z"
   },
   {
    "duration": 12,
    "start_time": "2022-04-03T18:40:03.738Z"
   },
   {
    "duration": 6,
    "start_time": "2022-04-03T18:40:03.752Z"
   },
   {
    "duration": 243405,
    "start_time": "2022-04-03T18:40:03.759Z"
   },
   {
    "duration": 6,
    "start_time": "2022-04-03T18:44:07.166Z"
   },
   {
    "duration": 13,
    "start_time": "2022-04-03T18:44:07.174Z"
   },
   {
    "duration": 9,
    "start_time": "2022-04-03T18:44:07.189Z"
   },
   {
    "duration": 92036,
    "start_time": "2022-04-03T18:44:07.200Z"
   },
   {
    "duration": 243950,
    "start_time": "2022-04-03T18:45:39.237Z"
   }
  ],
  "kernelspec": {
   "display_name": "Python 3 (ipykernel)",
   "language": "python",
   "name": "python3"
  },
  "language_info": {
   "codemirror_mode": {
    "name": "ipython",
    "version": 3
   },
   "file_extension": ".py",
   "mimetype": "text/x-python",
   "name": "python",
   "nbconvert_exporter": "python",
   "pygments_lexer": "ipython3",
   "version": "3.9.12"
  },
  "toc": {
   "base_numbering": 1,
   "nav_menu": {},
   "number_sections": true,
   "sideBar": true,
   "skip_h1_title": true,
   "title_cell": "Содержание",
   "title_sidebar": "Contents",
   "toc_cell": true,
   "toc_position": {},
   "toc_section_display": true,
   "toc_window_display": true
  }
 },
 "nbformat": 4,
 "nbformat_minor": 2
}
