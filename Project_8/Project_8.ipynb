{
 "cells": [
  {
   "cell_type": "markdown",
   "metadata": {},
   "source": [
    "# Выбор локации для скважины"
   ]
  },
  {
   "cell_type": "markdown",
   "metadata": {},
   "source": [
    "Допустим, вы работаете в добывающей компании «ГлавРосГосНефть». Нужно решить, где бурить новую скважину.\n",
    "\n",
    "Вам предоставлены пробы нефти в трёх регионах: в каждом 10 000 месторождений, где измерили качество нефти и объём её запасов. Постройте модель машинного обучения, которая поможет определить регион, где добыча принесёт наибольшую прибыль. Проанализируйте возможную прибыль и риски техникой *Bootstrap.*\n",
    "\n",
    "Шаги для выбора локации:\n",
    "\n",
    "- В избранном регионе ищут месторождения, для каждого определяют значения признаков;\n",
    "- Строят модель и оценивают объём запасов;\n",
    "- Выбирают месторождения с самым высокими оценками значений. Количество месторождений зависит от бюджета компании и стоимости разработки одной скважины;\n",
    "- Прибыль равна суммарной прибыли отобранных месторождений."
   ]
  },
  {
   "cell_type": "markdown",
   "metadata": {},
   "source": [
    "## Загрузка и подготовка данных"
   ]
  },
  {
   "cell_type": "code",
   "execution_count": 1,
   "metadata": {},
   "outputs": [],
   "source": [
    "import numpy as np #импортируем для работы с данными\n",
    "import pandas as pd #импорт библиотеки Pandas\n",
    "from sklearn.model_selection import train_test_split #для разделения выборки\n",
    "from sklearn.linear_model import LinearRegression #логистическая регрессия\n",
    "from sklearn.metrics import mean_squared_error #для нахождения RSE\n",
    "from sklearn.preprocessing import MinMaxScaler #для стандартизации\n",
    "from sklearn.preprocessing import StandardScaler\n",
    "from sklearn import preprocessing"
   ]
  },
  {
   "cell_type": "code",
   "execution_count": 2,
   "metadata": {},
   "outputs": [],
   "source": [
    "data_1 = pd.read_csv(\"/datasets/geo_data_0.csv\") #загрузка датасетов\n",
    "data_2 = pd.read_csv(\"/datasets/geo_data_1.csv\")\n",
    "data_3 = pd.read_csv(\"/datasets/geo_data_2.csv\")"
   ]
  },
  {
   "cell_type": "code",
   "execution_count": 3,
   "metadata": {},
   "outputs": [],
   "source": [
    "def chek(data): #функция для проверки на дубликаты и т.п.\n",
    "    print(\"Количество пропусков :\", data.isna().sum().sum()) #сумма пропусков\n",
    "    print(\"Количество дубликатов :\", data.duplicated().sum())\n",
    "    print(\"Информация о датасете :\") #информация о датасете\n",
    "    data.info()\n",
    "    print(data.head(5)) #первые 5 строк"
   ]
  },
  {
   "cell_type": "code",
   "execution_count": 4,
   "metadata": {},
   "outputs": [
    {
     "name": "stdout",
     "output_type": "stream",
     "text": [
      "Количество пропусков : 0\n",
      "Количество дубликатов : 0\n",
      "Информация о датасете :\n",
      "<class 'pandas.core.frame.DataFrame'>\n",
      "RangeIndex: 100000 entries, 0 to 99999\n",
      "Data columns (total 5 columns):\n",
      " #   Column   Non-Null Count   Dtype  \n",
      "---  ------   --------------   -----  \n",
      " 0   id       100000 non-null  object \n",
      " 1   f0       100000 non-null  float64\n",
      " 2   f1       100000 non-null  float64\n",
      " 3   f2       100000 non-null  float64\n",
      " 4   product  100000 non-null  float64\n",
      "dtypes: float64(4), object(1)\n",
      "memory usage: 3.8+ MB\n",
      "      id        f0        f1        f2     product\n",
      "0  txEyH  0.705745 -0.497823  1.221170  105.280062\n",
      "1  2acmU  1.334711 -0.340164  4.365080   73.037750\n",
      "2  409Wp  1.022732  0.151990  1.419926   85.265647\n",
      "3  iJLyR -0.032172  0.139033  2.978566  168.620776\n",
      "4  Xdl7t  1.988431  0.155413  4.751769  154.036647\n"
     ]
    }
   ],
   "source": [
    "chek(data_1) #информация о первом датасете"
   ]
  },
  {
   "cell_type": "code",
   "execution_count": 5,
   "metadata": {},
   "outputs": [
    {
     "name": "stdout",
     "output_type": "stream",
     "text": [
      "Количество пропусков : 0\n",
      "Количество дубликатов : 0\n",
      "Информация о датасете :\n",
      "<class 'pandas.core.frame.DataFrame'>\n",
      "RangeIndex: 100000 entries, 0 to 99999\n",
      "Data columns (total 5 columns):\n",
      " #   Column   Non-Null Count   Dtype  \n",
      "---  ------   --------------   -----  \n",
      " 0   id       100000 non-null  object \n",
      " 1   f0       100000 non-null  float64\n",
      " 2   f1       100000 non-null  float64\n",
      " 3   f2       100000 non-null  float64\n",
      " 4   product  100000 non-null  float64\n",
      "dtypes: float64(4), object(1)\n",
      "memory usage: 3.8+ MB\n",
      "      id         f0         f1        f2     product\n",
      "0  kBEdx -15.001348  -8.276000 -0.005876    3.179103\n",
      "1  62mP7  14.272088  -3.475083  0.999183   26.953261\n",
      "2  vyE1P   6.263187  -5.948386  5.001160  134.766305\n",
      "3  KcrkZ -13.081196 -11.506057  4.999415  137.945408\n",
      "4  AHL4O  12.702195  -8.147433  5.004363  134.766305\n"
     ]
    }
   ],
   "source": [
    "chek(data_2) #втором"
   ]
  },
  {
   "cell_type": "code",
   "execution_count": 6,
   "metadata": {},
   "outputs": [
    {
     "name": "stdout",
     "output_type": "stream",
     "text": [
      "Количество пропусков : 0\n",
      "Количество дубликатов : 0\n",
      "Информация о датасете :\n",
      "<class 'pandas.core.frame.DataFrame'>\n",
      "RangeIndex: 100000 entries, 0 to 99999\n",
      "Data columns (total 5 columns):\n",
      " #   Column   Non-Null Count   Dtype  \n",
      "---  ------   --------------   -----  \n",
      " 0   id       100000 non-null  object \n",
      " 1   f0       100000 non-null  float64\n",
      " 2   f1       100000 non-null  float64\n",
      " 3   f2       100000 non-null  float64\n",
      " 4   product  100000 non-null  float64\n",
      "dtypes: float64(4), object(1)\n",
      "memory usage: 3.8+ MB\n",
      "      id        f0        f1        f2     product\n",
      "0  fwXo0 -1.146987  0.963328 -0.828965   27.758673\n",
      "1  WJtFt  0.262778  0.269839 -2.530187   56.069697\n",
      "2  ovLUW  0.194587  0.289035 -5.586433   62.871910\n",
      "3  q6cA6  2.236060 -0.553760  0.930038  114.572842\n",
      "4  WPMUX -0.515993  1.716266  5.899011  149.600746\n"
     ]
    }
   ],
   "source": [
    "chek(data_3) #третьем"
   ]
  },
  {
   "cell_type": "markdown",
   "metadata": {},
   "source": [
    "Как мы видим, с данными все впорядке, предлагаю удалить столбец id, так как он не нужен в обучении."
   ]
  },
  {
   "cell_type": "code",
   "execution_count": 7,
   "metadata": {},
   "outputs": [],
   "source": [
    "data_1 = data_1.drop([\"id\"], axis = 1) #удаляем столбцы\n",
    "data_2 = data_2.drop([\"id\"], axis = 1)\n",
    "data_3 = data_3.drop([\"id\"], axis = 1)"
   ]
  },
  {
   "cell_type": "markdown",
   "metadata": {},
   "source": [
    "Таким образом, данные готовы для дальнейшей работы, был произведен первчиный анализ, в результате чего:\n",
    "* f1, f2, f3 - признаки\n",
    "* product - целевой признак"
   ]
  },
  {
   "cell_type": "markdown",
   "metadata": {},
   "source": [
    "## Обучение и проверка модели"
   ]
  },
  {
   "cell_type": "code",
   "execution_count": 8,
   "metadata": {},
   "outputs": [],
   "source": [
    "def split_train(data):\n",
    "    features = data.drop([\"product\"], axis = 1)\n",
    "    target = data[\"product\"]\n",
    "    features_train, features_valid, target_train, target_valid = train_test_split(features, target, test_size = 0.25, random_state = 12345)\n",
    "    \n",
    "    scaler = StandardScaler() #стандартизация данных\n",
    "    scaler.fit(features_train) #вычисляем среднее\n",
    "    features_train = scaler.transform(features_train) #преобразуем обучающую и валидационную выборки\n",
    "    features_valid = scaler.transform(features_valid)\n",
    "    \n",
    "    model = LinearRegression() #создаем модель\n",
    "    model.fit(features_train, target_train) #обучаем ее на тренировочных данных\n",
    "    predictions_valid = model.predict(features_valid) # предсказание на валидационных данных\n",
    "    predictions_valid = pd.Series(predictions_valid) #преобразуем в Series\n",
    "    rmse = (mean_squared_error(predictions_valid, target_valid))**(0.5) #находим RMSE\n",
    "    mean_product = sum(predictions_valid) / len(predictions_valid) #средний запас сырья\n",
    "    print(\"RMSE:\" ,rmse) #вывод RMSE\n",
    "    print(\"Средний запас:\",mean_product) #Средний запас\n",
    "    return (predictions_valid, target_valid.reset_index(drop=True), rmse)  #Возвращаем данные для дальнейшей работы "
   ]
  },
  {
   "cell_type": "markdown",
   "metadata": {},
   "source": [
    "0 скважина"
   ]
  },
  {
   "cell_type": "code",
   "execution_count": 9,
   "metadata": {},
   "outputs": [
    {
     "name": "stdout",
     "output_type": "stream",
     "text": [
      "RMSE: 37.5794217150813\n",
      "Средний запас: 92.59256778438008\n"
     ]
    },
    {
     "data": {
      "text/plain": [
       "(0         95.894952\n",
       " 1         77.572583\n",
       " 2         77.892640\n",
       " 3         90.175134\n",
       " 4         70.510088\n",
       "             ...    \n",
       " 24995    103.037104\n",
       " 24996     85.403255\n",
       " 24997     61.509833\n",
       " 24998    118.180397\n",
       " 24999    118.169392\n",
       " Length: 25000, dtype: float64,\n",
       " 0         10.038645\n",
       " 1        114.551489\n",
       " 2        132.603635\n",
       " 3        169.072125\n",
       " 4        122.325180\n",
       "             ...    \n",
       " 24995    170.116726\n",
       " 24996     93.632175\n",
       " 24997    127.352259\n",
       " 24998     99.782700\n",
       " 24999    177.821022\n",
       " Name: product, Length: 25000, dtype: float64,\n",
       " 37.5794217150813)"
      ]
     },
     "execution_count": 9,
     "metadata": {},
     "output_type": "execute_result"
    }
   ],
   "source": [
    "split_train(data_1)"
   ]
  },
  {
   "cell_type": "markdown",
   "metadata": {},
   "source": [
    "1 скважина"
   ]
  },
  {
   "cell_type": "code",
   "execution_count": 10,
   "metadata": {},
   "outputs": [
    {
     "name": "stdout",
     "output_type": "stream",
     "text": [
      "RMSE: 0.893099286775617\n",
      "Средний запас: 68.7285468954458\n"
     ]
    },
    {
     "data": {
      "text/plain": [
       "(0         82.663314\n",
       " 1         54.431786\n",
       " 2         29.748760\n",
       " 3         53.552133\n",
       " 4          1.243856\n",
       "             ...    \n",
       " 24995    136.869211\n",
       " 24996    110.693465\n",
       " 24997    137.879341\n",
       " 24998     83.761966\n",
       " 24999     53.958466\n",
       " Length: 25000, dtype: float64,\n",
       " 0         80.859783\n",
       " 1         53.906522\n",
       " 2         30.132364\n",
       " 3         53.906522\n",
       " 4          0.000000\n",
       "             ...    \n",
       " 24995    137.945408\n",
       " 24996    110.992147\n",
       " 24997    137.945408\n",
       " 24998     84.038886\n",
       " 24999     53.906522\n",
       " Name: product, Length: 25000, dtype: float64,\n",
       " 0.893099286775617)"
      ]
     },
     "execution_count": 10,
     "metadata": {},
     "output_type": "execute_result"
    }
   ],
   "source": [
    "split_train(data_2)"
   ]
  },
  {
   "cell_type": "markdown",
   "metadata": {},
   "source": [
    "2 скважина"
   ]
  },
  {
   "cell_type": "code",
   "execution_count": 11,
   "metadata": {},
   "outputs": [
    {
     "name": "stdout",
     "output_type": "stream",
     "text": [
      "RMSE: 40.02970873393434\n",
      "Средний запас: 94.96504596800506\n"
     ]
    },
    {
     "data": {
      "text/plain": [
       "(0         93.599633\n",
       " 1         75.105159\n",
       " 2         90.066809\n",
       " 3        105.162375\n",
       " 4        115.303310\n",
       "             ...    \n",
       " 24995     78.765887\n",
       " 24996     95.603394\n",
       " 24997     99.407281\n",
       " 24998     77.779912\n",
       " 24999    129.032417\n",
       " Length: 25000, dtype: float64,\n",
       " 0         61.212375\n",
       " 1         41.850118\n",
       " 2         57.776581\n",
       " 3        100.053761\n",
       " 4        109.897122\n",
       "             ...    \n",
       " 24995     28.492402\n",
       " 24996     21.431303\n",
       " 24997    125.487229\n",
       " 24998     99.422903\n",
       " 24999    127.445075\n",
       " Name: product, Length: 25000, dtype: float64,\n",
       " 40.02970873393434)"
      ]
     },
     "execution_count": 11,
     "metadata": {},
     "output_type": "execute_result"
    }
   ],
   "source": [
    "split_train(data_3)"
   ]
  },
  {
   "cell_type": "code",
   "execution_count": 12,
   "metadata": {},
   "outputs": [
    {
     "name": "stdout",
     "output_type": "stream",
     "text": [
      "RMSE: 37.5794217150813\n",
      "Средний запас: 92.59256778438008\n",
      "RMSE: 0.893099286775617\n",
      "Средний запас: 68.7285468954458\n",
      "RMSE: 40.02970873393434\n",
      "Средний запас: 94.96504596800506\n"
     ]
    }
   ],
   "source": [
    "predictions_valid_0, target_valid_0, rmse_0 = split_train(data_1) #сохраняем данные\n",
    "predictions_valid_1, target_valid_1, rmse_1 = split_train(data_2)\n",
    "predictions_valid_2, target_valid_2, rmse_2 = split_train(data_3)"
   ]
  },
  {
   "cell_type": "markdown",
   "metadata": {},
   "source": [
    "Таким образом:\n",
    "* скважина 2 - самый высокий запас нефти, однако rmse высокий, что свидетельсвует о неточности обучения линейной регрессии\n",
    "* скважина 0 - сравнимые с первой скважиной параметры\n",
    "* скважина 1 - средний запас меньше чем, у других, но rmse низкий, что означает о хорошей обучаемости модели."
   ]
  },
  {
   "cell_type": "markdown",
   "metadata": {},
   "source": [
    "## Подготовка к расчёту прибыли"
   ]
  },
  {
   "cell_type": "markdown",
   "metadata": {},
   "source": [
    "Условия задачи:\n",
    "* Для обучения модели подходит только линейная регрессия (остальные — недостаточно предсказуемые).\n",
    "* При разведке региона исследуют 500 точек, из которых с помощью машинного обучения выбирают 200 лучших для разработки.\n",
    "* Бюджет на разработку скважин в регионе — 10 млрд рублей.\n",
    "* При нынешних ценах один баррель сырья приносит 450 рублей дохода. Доход с каждой единицы продукта составляет 450 тыс. рублей, поскольку объём указан в тысячах баррелей.\n",
    "* После оценки рисков нужно оставить лишь те регионы, в которых вероятность убытков меньше 2.5%. Среди них выбирают регион с наибольшей средней прибылью."
   ]
  },
  {
   "cell_type": "code",
   "execution_count": 13,
   "metadata": {},
   "outputs": [],
   "source": [
    "budjet = 10**10 #бюджет\n",
    "tocka_top = 200 #лучшее количество точек\n",
    "tocka_total = 500 #общее количество точек\n",
    "price = 450000 #доход на единицу продукта"
   ]
  },
  {
   "cell_type": "markdown",
   "metadata": {},
   "source": [
    "Чтобы рассчитать среднее количество продуктов, нужно бюджет разделить на доход от лучших точек."
   ]
  },
  {
   "cell_type": "code",
   "execution_count": 14,
   "metadata": {},
   "outputs": [
    {
     "data": {
      "text/plain": [
       "111.11111111111111"
      ]
     },
     "execution_count": 14,
     "metadata": {},
     "output_type": "execute_result"
    }
   ],
   "source": [
    "total_price = budjet / (tocka_top * price) #выводим формулу\n",
    "total_price"
   ]
  },
  {
   "cell_type": "markdown",
   "metadata": {},
   "source": [
    "Таким образом, чтобы окупиться нужно в среднем 111 единиц продукции. Данное значение превышает все имеющиеся скважины."
   ]
  },
  {
   "cell_type": "markdown",
   "metadata": {},
   "source": [
    "## Расчёт прибыли и рисков "
   ]
  },
  {
   "cell_type": "code",
   "execution_count": 15,
   "metadata": {},
   "outputs": [],
   "source": [
    "def price_delta(predictions, target): #функция для расчета прибыли для 200 скважин\n",
    "    top_predictions = predictions.sort_values(ascending = False)\n",
    "    top_target = target[top_predictions.index][:200] # лучшее 200\n",
    "    profit  =  top_target.sum() * price #прибыль с реальных точек\n",
    "    return profit - budjet "
   ]
  },
  {
   "cell_type": "code",
   "execution_count": 20,
   "metadata": {},
   "outputs": [],
   "source": [
    "state = np.random.RandomState(12345) #случайный шаг\n",
    "def bootstrap_1000(predictions, target): #функция для бутстрапа\n",
    "    profit=[] #пустой лист\n",
    "    lost = 0 #счетчик\n",
    "    for i in range(1000): #доверительный интервал\n",
    "        target_sample = target.sample(replace=True, random_state=state, n=500)\n",
    "        predictions_sample = predictions[target_sample.index]\n",
    "        profit.append(price_delta(predictions_sample, target_sample))\n",
    "    profit = pd.Series(profit)\n",
    "    lower = profit.quantile(0.025) #квантиль нижний\n",
    "    upper = profit.quantile(0.975) #квантиль верхний\n",
    "    mean = profit.mean() #средняя выручка\n",
    "    risk = (profit < 0).mean() #риск\n",
    "    print(\"Средняя выручка :\", mean)\n",
    "    print(f'Доверительный интервал от {lower} до {upper}')\n",
    "    print(\"Риск\",risk)\n",
    "    return mean, lower, upper, risk\n"
   ]
  },
  {
   "cell_type": "markdown",
   "metadata": {},
   "source": [
    "Для Первого региона"
   ]
  },
  {
   "cell_type": "code",
   "execution_count": 21,
   "metadata": {},
   "outputs": [
    {
     "name": "stdout",
     "output_type": "stream",
     "text": [
      "Средняя выручка : 425938526.91059244\n",
      "Доверительный интервал от -102090094.83793654 до 947976353.3583689\n",
      "Риск 0.06\n"
     ]
    },
    {
     "data": {
      "text/plain": [
       "(425938526.91059244, -102090094.83793654, 947976353.3583689, 0.06)"
      ]
     },
     "execution_count": 21,
     "metadata": {},
     "output_type": "execute_result"
    }
   ],
   "source": [
    "bootstrap_1000(predictions_valid_0, target_valid_0)"
   ]
  },
  {
   "cell_type": "markdown",
   "metadata": {},
   "source": [
    "Для Второго региона"
   ]
  },
  {
   "cell_type": "code",
   "execution_count": 22,
   "metadata": {},
   "outputs": [
    {
     "name": "stdout",
     "output_type": "stream",
     "text": [
      "Средняя выручка : 518259493.6973249\n",
      "Доверительный интервал от 128123231.43308444 до 953612982.0669085\n",
      "Риск 0.003\n"
     ]
    },
    {
     "data": {
      "text/plain": [
       "(518259493.6973249, 128123231.43308444, 953612982.0669085, 0.003)"
      ]
     },
     "execution_count": 22,
     "metadata": {},
     "output_type": "execute_result"
    }
   ],
   "source": [
    "bootstrap_1000(predictions_valid_1, target_valid_1)"
   ]
  },
  {
   "cell_type": "markdown",
   "metadata": {},
   "source": [
    "Для Третьего региона"
   ]
  },
  {
   "cell_type": "code",
   "execution_count": 19,
   "metadata": {},
   "outputs": [
    {
     "name": "stdout",
     "output_type": "stream",
     "text": [
      "Средняя выручка : 420194005.3440501\n",
      "Доверительный интервал от -115852609.16001143 до 989629939.8445739\n",
      "Риск 0.062\n"
     ]
    },
    {
     "data": {
      "text/plain": [
       "(420194005.3440501, -115852609.16001143, 989629939.8445739, 0.062)"
      ]
     },
     "execution_count": 19,
     "metadata": {},
     "output_type": "execute_result"
    }
   ],
   "source": [
    "bootstrap_1000(predictions_valid_2, target_valid_2)"
   ]
  },
  {
   "cell_type": "markdown",
   "metadata": {},
   "source": [
    "Таким образом, отсеиваем первый и третий варианты, т.к их риск выше нежели у второго региона.\n",
    "Нижняя граница доверительного интервала больше минимальной окупаемости следовательно - это оптимальное решение."
   ]
  },
  {
   "cell_type": "markdown",
   "metadata": {},
   "source": [
    "## Чек-лист готовности проекта"
   ]
  },
  {
   "cell_type": "markdown",
   "metadata": {},
   "source": [
    "## Итог"
   ]
  },
  {
   "cell_type": "markdown",
   "metadata": {},
   "source": [
    "Таким образом, в рамках работы были изучены данные, проведена подгтовка, обучена линейная регрессия для каждого региона, расчитана функция расчета прибыли и рисков для данных регионов. Было принято решение, использовать вторую скважину для дальнешей работы.\n"
   ]
  },
  {
   "cell_type": "code",
   "execution_count": null,
   "metadata": {},
   "outputs": [],
   "source": []
  }
 ],
 "metadata": {
  "ExecuteTimeLog": [
   {
    "duration": 281,
    "start_time": "2022-04-05T11:42:31.274Z"
   },
   {
    "duration": 4,
    "start_time": "2022-04-05T12:52:50.712Z"
   },
   {
    "duration": 73,
    "start_time": "2022-04-05T12:52:52.795Z"
   },
   {
    "duration": 10,
    "start_time": "2022-04-05T12:53:15.193Z"
   },
   {
    "duration": 245,
    "start_time": "2022-04-05T12:54:10.514Z"
   },
   {
    "duration": 440,
    "start_time": "2022-04-05T12:54:12.422Z"
   },
   {
    "duration": 122,
    "start_time": "2022-04-05T12:56:03.486Z"
   },
   {
    "duration": 4,
    "start_time": "2022-04-05T12:56:19.868Z"
   },
   {
    "duration": 4,
    "start_time": "2022-04-05T12:56:41.413Z"
   },
   {
    "duration": 5,
    "start_time": "2022-04-05T12:57:51.727Z"
   },
   {
    "duration": 34,
    "start_time": "2022-04-05T12:59:03.997Z"
   },
   {
    "duration": 12,
    "start_time": "2022-04-05T12:59:15.891Z"
   },
   {
    "duration": 4,
    "start_time": "2022-04-05T12:59:22.912Z"
   },
   {
    "duration": 17,
    "start_time": "2022-04-05T12:59:24.986Z"
   },
   {
    "duration": 4,
    "start_time": "2022-04-05T12:59:49.628Z"
   },
   {
    "duration": 13,
    "start_time": "2022-04-05T12:59:51.407Z"
   },
   {
    "duration": 5,
    "start_time": "2022-04-05T13:01:35.741Z"
   },
   {
    "duration": 13,
    "start_time": "2022-04-05T13:01:38.495Z"
   },
   {
    "duration": 50,
    "start_time": "2022-04-05T13:01:56.074Z"
   },
   {
    "duration": 23,
    "start_time": "2022-04-05T13:02:38.743Z"
   },
   {
    "duration": 13,
    "start_time": "2022-04-05T13:02:43.806Z"
   },
   {
    "duration": 5,
    "start_time": "2022-04-05T13:02:51.235Z"
   },
   {
    "duration": 20,
    "start_time": "2022-04-05T13:03:18.540Z"
   },
   {
    "duration": 18,
    "start_time": "2022-04-05T13:04:10.735Z"
   },
   {
    "duration": 502,
    "start_time": "2022-04-05T15:25:33.707Z"
   },
   {
    "duration": 456,
    "start_time": "2022-04-05T15:25:34.211Z"
   },
   {
    "duration": 5,
    "start_time": "2022-04-05T15:25:34.670Z"
   },
   {
    "duration": 97,
    "start_time": "2022-04-05T15:25:34.683Z"
   },
   {
    "duration": 13,
    "start_time": "2022-04-05T15:25:47.976Z"
   },
   {
    "duration": 10,
    "start_time": "2022-04-05T22:06:13.454Z"
   },
   {
    "duration": 433,
    "start_time": "2022-04-05T22:06:22.123Z"
   },
   {
    "duration": 392,
    "start_time": "2022-04-05T22:06:22.558Z"
   },
   {
    "duration": 4,
    "start_time": "2022-04-05T22:06:22.951Z"
   },
   {
    "duration": 144,
    "start_time": "2022-04-05T22:06:22.957Z"
   },
   {
    "duration": 73,
    "start_time": "2022-04-05T22:06:50.930Z"
   },
   {
    "duration": 4,
    "start_time": "2022-04-05T22:06:56.930Z"
   },
   {
    "duration": 71,
    "start_time": "2022-04-05T22:06:59.331Z"
   },
   {
    "duration": 70,
    "start_time": "2022-04-05T22:07:10.892Z"
   },
   {
    "duration": 4,
    "start_time": "2022-04-05T22:08:12.032Z"
   },
   {
    "duration": 68,
    "start_time": "2022-04-05T22:08:13.989Z"
   },
   {
    "duration": 64,
    "start_time": "2022-04-05T22:08:29.223Z"
   },
   {
    "duration": 69,
    "start_time": "2022-04-05T22:08:47.440Z"
   },
   {
    "duration": 25,
    "start_time": "2022-04-05T22:11:46.152Z"
   },
   {
    "duration": 18,
    "start_time": "2022-04-05T22:11:55.346Z"
   },
   {
    "duration": 159,
    "start_time": "2022-04-05T22:12:08.438Z"
   },
   {
    "duration": 23,
    "start_time": "2022-04-05T22:12:11.948Z"
   },
   {
    "duration": 15,
    "start_time": "2022-04-05T22:12:24.215Z"
   },
   {
    "duration": 13,
    "start_time": "2022-04-05T22:12:49.239Z"
   },
   {
    "duration": 402,
    "start_time": "2022-04-05T22:12:56.592Z"
   },
   {
    "duration": 413,
    "start_time": "2022-04-05T22:12:56.996Z"
   },
   {
    "duration": 4,
    "start_time": "2022-04-05T22:12:57.411Z"
   },
   {
    "duration": 85,
    "start_time": "2022-04-05T22:12:57.417Z"
   },
   {
    "duration": 80,
    "start_time": "2022-04-05T22:12:57.505Z"
   },
   {
    "duration": 84,
    "start_time": "2022-04-05T22:12:57.587Z"
   },
   {
    "duration": 104,
    "start_time": "2022-04-05T22:12:57.673Z"
   },
   {
    "duration": 12,
    "start_time": "2022-04-05T22:13:29.126Z"
   },
   {
    "duration": 414,
    "start_time": "2022-04-05T22:13:36.938Z"
   },
   {
    "duration": 379,
    "start_time": "2022-04-05T22:13:37.354Z"
   },
   {
    "duration": 3,
    "start_time": "2022-04-05T22:13:37.735Z"
   },
   {
    "duration": 76,
    "start_time": "2022-04-05T22:13:37.740Z"
   },
   {
    "duration": 71,
    "start_time": "2022-04-05T22:13:37.818Z"
   },
   {
    "duration": 84,
    "start_time": "2022-04-05T22:13:37.891Z"
   },
   {
    "duration": 18,
    "start_time": "2022-04-05T22:13:37.977Z"
   },
   {
    "duration": 768,
    "start_time": "2022-04-05T22:19:31.429Z"
   },
   {
    "duration": 1162,
    "start_time": "2022-04-06T16:59:51.986Z"
   },
   {
    "duration": 336,
    "start_time": "2022-04-06T16:59:53.150Z"
   },
   {
    "duration": 3,
    "start_time": "2022-04-06T16:59:53.488Z"
   },
   {
    "duration": 60,
    "start_time": "2022-04-06T16:59:53.492Z"
   },
   {
    "duration": 65,
    "start_time": "2022-04-06T16:59:53.553Z"
   },
   {
    "duration": 62,
    "start_time": "2022-04-06T16:59:53.620Z"
   },
   {
    "duration": 14,
    "start_time": "2022-04-06T16:59:53.683Z"
   },
   {
    "duration": 5,
    "start_time": "2022-04-06T16:59:53.699Z"
   },
   {
    "duration": 5,
    "start_time": "2022-04-06T17:00:10.480Z"
   },
   {
    "duration": 4,
    "start_time": "2022-04-06T17:01:06.799Z"
   },
   {
    "duration": 100,
    "start_time": "2022-04-06T17:01:20.636Z"
   },
   {
    "duration": 4,
    "start_time": "2022-04-06T17:08:07.065Z"
   },
   {
    "duration": 27,
    "start_time": "2022-04-06T17:08:09.062Z"
   },
   {
    "duration": 5,
    "start_time": "2022-04-06T17:09:22.605Z"
   },
   {
    "duration": 22,
    "start_time": "2022-04-06T17:09:25.845Z"
   },
   {
    "duration": 4,
    "start_time": "2022-04-06T17:09:46.756Z"
   },
   {
    "duration": 26,
    "start_time": "2022-04-06T17:09:50.039Z"
   },
   {
    "duration": 9,
    "start_time": "2022-04-06T17:13:41.621Z"
   },
   {
    "duration": 8,
    "start_time": "2022-04-06T17:13:52.399Z"
   },
   {
    "duration": 3,
    "start_time": "2022-04-06T17:14:26.242Z"
   },
   {
    "duration": 5,
    "start_time": "2022-04-06T17:21:37.362Z"
   },
   {
    "duration": 21,
    "start_time": "2022-04-06T17:21:40.033Z"
   },
   {
    "duration": 3,
    "start_time": "2022-04-06T17:21:49.454Z"
   },
   {
    "duration": 5,
    "start_time": "2022-04-06T17:21:57.445Z"
   },
   {
    "duration": 23,
    "start_time": "2022-04-06T17:21:59.690Z"
   },
   {
    "duration": 3,
    "start_time": "2022-04-06T17:23:05.922Z"
   },
   {
    "duration": 5,
    "start_time": "2022-04-06T17:23:21.421Z"
   },
   {
    "duration": 24,
    "start_time": "2022-04-06T17:23:23.500Z"
   },
   {
    "duration": 3,
    "start_time": "2022-04-06T17:32:23.933Z"
   },
   {
    "duration": 5,
    "start_time": "2022-04-06T17:32:28.184Z"
   },
   {
    "duration": 21,
    "start_time": "2022-04-06T17:32:31.050Z"
   },
   {
    "duration": 5,
    "start_time": "2022-04-06T17:32:33.375Z"
   },
   {
    "duration": 21,
    "start_time": "2022-04-06T17:32:35.451Z"
   },
   {
    "duration": 5,
    "start_time": "2022-04-06T17:32:53.510Z"
   },
   {
    "duration": 25,
    "start_time": "2022-04-06T17:32:55.872Z"
   },
   {
    "duration": 4,
    "start_time": "2022-04-06T17:34:22.741Z"
   },
   {
    "duration": 24,
    "start_time": "2022-04-06T17:34:24.909Z"
   },
   {
    "duration": 1101,
    "start_time": "2022-04-06T21:22:18.454Z"
   },
   {
    "duration": 332,
    "start_time": "2022-04-06T21:22:19.557Z"
   },
   {
    "duration": 4,
    "start_time": "2022-04-06T21:22:19.890Z"
   },
   {
    "duration": 65,
    "start_time": "2022-04-06T21:22:19.895Z"
   },
   {
    "duration": 61,
    "start_time": "2022-04-06T21:22:19.962Z"
   },
   {
    "duration": 74,
    "start_time": "2022-04-06T21:22:20.025Z"
   },
   {
    "duration": 16,
    "start_time": "2022-04-06T21:22:20.101Z"
   },
   {
    "duration": 22,
    "start_time": "2022-04-06T21:22:20.119Z"
   },
   {
    "duration": 123,
    "start_time": "2022-04-06T21:22:20.143Z"
   },
   {
    "duration": 7,
    "start_time": "2022-04-06T21:24:20.917Z"
   },
   {
    "duration": 3,
    "start_time": "2022-04-06T21:24:30.430Z"
   },
   {
    "duration": 4,
    "start_time": "2022-04-06T21:24:40.048Z"
   },
   {
    "duration": 114,
    "start_time": "2022-04-06T21:24:51.732Z"
   },
   {
    "duration": 8,
    "start_time": "2022-04-06T21:24:58.643Z"
   },
   {
    "duration": 12,
    "start_time": "2022-04-06T21:29:54.326Z"
   },
   {
    "duration": 7,
    "start_time": "2022-04-06T21:32:13.584Z"
   },
   {
    "duration": 27,
    "start_time": "2022-04-06T21:32:16.609Z"
   },
   {
    "duration": 5,
    "start_time": "2022-04-06T21:32:32.988Z"
   },
   {
    "duration": 6,
    "start_time": "2022-04-06T21:32:41.486Z"
   },
   {
    "duration": 29,
    "start_time": "2022-04-06T21:32:44.074Z"
   },
   {
    "duration": 28,
    "start_time": "2022-04-06T21:34:16.203Z"
   },
   {
    "duration": 177,
    "start_time": "2022-04-06T21:36:20.371Z"
   },
   {
    "duration": 3,
    "start_time": "2022-04-06T21:36:27.264Z"
   },
   {
    "duration": 5,
    "start_time": "2022-04-06T21:36:31.864Z"
   },
   {
    "duration": 29,
    "start_time": "2022-04-06T21:36:33.783Z"
   },
   {
    "duration": 4,
    "start_time": "2022-04-06T21:38:51.366Z"
   },
   {
    "duration": 5,
    "start_time": "2022-04-06T21:38:56.344Z"
   },
   {
    "duration": 30,
    "start_time": "2022-04-06T21:38:58.494Z"
   },
   {
    "duration": 5,
    "start_time": "2022-04-06T21:39:16.959Z"
   },
   {
    "duration": 26,
    "start_time": "2022-04-06T21:39:20.107Z"
   },
   {
    "duration": 27,
    "start_time": "2022-04-06T21:39:29.540Z"
   },
   {
    "duration": 5,
    "start_time": "2022-04-06T21:41:27.938Z"
   },
   {
    "duration": 28,
    "start_time": "2022-04-06T21:41:30.579Z"
   },
   {
    "duration": 5,
    "start_time": "2022-04-06T21:41:39.852Z"
   },
   {
    "duration": 28,
    "start_time": "2022-04-06T21:41:41.753Z"
   },
   {
    "duration": 5,
    "start_time": "2022-04-06T21:45:20.542Z"
   },
   {
    "duration": 30,
    "start_time": "2022-04-06T21:45:22.295Z"
   },
   {
    "duration": 11,
    "start_time": "2022-04-06T21:47:08.067Z"
   },
   {
    "duration": 17,
    "start_time": "2022-04-06T21:47:34.794Z"
   },
   {
    "duration": 1022,
    "start_time": "2022-04-06T21:47:46.564Z"
   },
   {
    "duration": 333,
    "start_time": "2022-04-06T21:47:47.588Z"
   },
   {
    "duration": 3,
    "start_time": "2022-04-06T21:47:47.923Z"
   },
   {
    "duration": 72,
    "start_time": "2022-04-06T21:47:47.928Z"
   },
   {
    "duration": 70,
    "start_time": "2022-04-06T21:47:48.002Z"
   },
   {
    "duration": 70,
    "start_time": "2022-04-06T21:47:48.074Z"
   },
   {
    "duration": 21,
    "start_time": "2022-04-06T21:47:48.146Z"
   },
   {
    "duration": 7,
    "start_time": "2022-04-06T21:47:48.169Z"
   },
   {
    "duration": 21,
    "start_time": "2022-04-06T21:47:48.178Z"
   },
   {
    "duration": 4,
    "start_time": "2022-04-06T21:47:48.200Z"
   },
   {
    "duration": 97,
    "start_time": "2022-04-06T21:48:07.307Z"
   },
   {
    "duration": 6,
    "start_time": "2022-04-06T21:51:11.894Z"
   },
   {
    "duration": 30,
    "start_time": "2022-04-06T21:51:37.450Z"
   },
   {
    "duration": 5,
    "start_time": "2022-04-06T21:52:08.457Z"
   },
   {
    "duration": 37,
    "start_time": "2022-04-06T21:52:10.685Z"
   },
   {
    "duration": 6,
    "start_time": "2022-04-06T21:53:29.154Z"
   },
   {
    "duration": 35,
    "start_time": "2022-04-06T21:53:31.736Z"
   },
   {
    "duration": 5,
    "start_time": "2022-04-06T21:57:59.930Z"
   },
   {
    "duration": 35,
    "start_time": "2022-04-06T21:58:02.166Z"
   },
   {
    "duration": 5,
    "start_time": "2022-04-06T21:59:10.806Z"
   },
   {
    "duration": 38,
    "start_time": "2022-04-06T21:59:13.366Z"
   },
   {
    "duration": 4,
    "start_time": "2022-04-06T22:01:34.483Z"
   },
   {
    "duration": 32,
    "start_time": "2022-04-06T22:01:36.424Z"
   },
   {
    "duration": 3,
    "start_time": "2022-04-06T22:01:50.137Z"
   },
   {
    "duration": 5,
    "start_time": "2022-04-06T22:01:55.087Z"
   },
   {
    "duration": 26,
    "start_time": "2022-04-06T22:01:58.142Z"
   },
   {
    "duration": 5,
    "start_time": "2022-04-06T22:02:11.617Z"
   },
   {
    "duration": 154,
    "start_time": "2022-04-06T22:02:14.045Z"
   },
   {
    "duration": 5,
    "start_time": "2022-04-06T22:05:00.622Z"
   },
   {
    "duration": 36,
    "start_time": "2022-04-06T22:05:02.525Z"
   },
   {
    "duration": 5,
    "start_time": "2022-04-06T22:05:28.560Z"
   },
   {
    "duration": 34,
    "start_time": "2022-04-06T22:05:30.722Z"
   },
   {
    "duration": 3,
    "start_time": "2022-04-06T22:16:28.457Z"
   },
   {
    "duration": 1113,
    "start_time": "2022-04-06T22:16:35.746Z"
   },
   {
    "duration": 354,
    "start_time": "2022-04-06T22:16:36.861Z"
   },
   {
    "duration": 3,
    "start_time": "2022-04-06T22:16:37.217Z"
   },
   {
    "duration": 76,
    "start_time": "2022-04-06T22:16:37.221Z"
   },
   {
    "duration": 62,
    "start_time": "2022-04-06T22:16:37.299Z"
   },
   {
    "duration": 62,
    "start_time": "2022-04-06T22:16:37.362Z"
   },
   {
    "duration": 17,
    "start_time": "2022-04-06T22:16:37.437Z"
   },
   {
    "duration": 6,
    "start_time": "2022-04-06T22:16:37.456Z"
   },
   {
    "duration": 106,
    "start_time": "2022-04-06T22:16:37.464Z"
   },
   {
    "duration": 0,
    "start_time": "2022-04-06T22:16:37.572Z"
   },
   {
    "duration": 32,
    "start_time": "2022-04-06T22:16:47.800Z"
   },
   {
    "duration": 5,
    "start_time": "2022-04-06T22:17:05.227Z"
   },
   {
    "duration": 112,
    "start_time": "2022-04-06T22:17:08.533Z"
   },
   {
    "duration": 5,
    "start_time": "2022-04-06T22:17:19.081Z"
   },
   {
    "duration": 103,
    "start_time": "2022-04-06T22:17:21.037Z"
   },
   {
    "duration": 77,
    "start_time": "2022-04-06T22:20:45.062Z"
   },
   {
    "duration": 44,
    "start_time": "2022-04-06T22:20:54.599Z"
   },
   {
    "duration": 3,
    "start_time": "2022-04-06T22:51:06.078Z"
   },
   {
    "duration": 3,
    "start_time": "2022-04-06T22:52:01.832Z"
   },
   {
    "duration": 3,
    "start_time": "2022-04-06T22:53:01.604Z"
   },
   {
    "duration": 7,
    "start_time": "2022-04-06T22:55:08.976Z"
   },
   {
    "duration": 4,
    "start_time": "2022-04-06T22:55:21.289Z"
   },
   {
    "duration": 9,
    "start_time": "2022-04-06T23:30:30.211Z"
   },
   {
    "duration": 38,
    "start_time": "2022-04-06T23:30:40.206Z"
   },
   {
    "duration": 1137,
    "start_time": "2022-04-06T23:32:47.636Z"
   },
   {
    "duration": 365,
    "start_time": "2022-04-06T23:32:48.775Z"
   },
   {
    "duration": 4,
    "start_time": "2022-04-06T23:32:49.142Z"
   },
   {
    "duration": 85,
    "start_time": "2022-04-06T23:32:49.147Z"
   },
   {
    "duration": 65,
    "start_time": "2022-04-06T23:32:49.235Z"
   },
   {
    "duration": 79,
    "start_time": "2022-04-06T23:32:49.302Z"
   },
   {
    "duration": 19,
    "start_time": "2022-04-06T23:32:49.383Z"
   },
   {
    "duration": 7,
    "start_time": "2022-04-06T23:32:49.404Z"
   },
   {
    "duration": 229,
    "start_time": "2022-04-06T23:32:49.413Z"
   },
   {
    "duration": 104,
    "start_time": "2022-04-06T23:32:49.643Z"
   },
   {
    "duration": 103,
    "start_time": "2022-04-06T23:32:49.839Z"
   },
   {
    "duration": 593,
    "start_time": "2022-04-06T23:32:49.945Z"
   },
   {
    "duration": 4,
    "start_time": "2022-04-06T23:32:50.541Z"
   },
   {
    "duration": 10,
    "start_time": "2022-04-06T23:32:50.637Z"
   },
   {
    "duration": 105,
    "start_time": "2022-04-06T23:32:50.649Z"
   },
   {
    "duration": 6,
    "start_time": "2022-04-06T23:33:29.053Z"
   },
   {
    "duration": 6,
    "start_time": "2022-04-06T23:33:33.047Z"
   },
   {
    "duration": 6,
    "start_time": "2022-04-06T23:33:36.716Z"
   },
   {
    "duration": 109,
    "start_time": "2022-04-06T23:56:52.511Z"
   },
   {
    "duration": 3,
    "start_time": "2022-04-06T23:56:59.217Z"
   },
   {
    "duration": 90,
    "start_time": "2022-04-07T00:23:17.594Z"
   },
   {
    "duration": 9,
    "start_time": "2022-04-07T00:23:31.963Z"
   },
   {
    "duration": 11,
    "start_time": "2022-04-07T00:24:04.691Z"
   },
   {
    "duration": 9,
    "start_time": "2022-04-07T00:24:39.398Z"
   },
   {
    "duration": 3,
    "start_time": "2022-04-07T00:24:49.784Z"
   },
   {
    "duration": 4,
    "start_time": "2022-04-07T00:24:56.658Z"
   },
   {
    "duration": 5,
    "start_time": "2022-04-07T00:27:31.071Z"
   },
   {
    "duration": 6,
    "start_time": "2022-04-07T00:27:35.619Z"
   },
   {
    "duration": 972,
    "start_time": "2022-04-07T00:28:40.685Z"
   },
   {
    "duration": 5,
    "start_time": "2022-04-07T00:29:04.385Z"
   },
   {
    "duration": 989,
    "start_time": "2022-04-07T00:29:06.994Z"
   },
   {
    "duration": 5,
    "start_time": "2022-04-07T00:29:50.837Z"
   },
   {
    "duration": 3,
    "start_time": "2022-04-07T00:29:54.377Z"
   },
   {
    "duration": 5,
    "start_time": "2022-04-07T00:29:56.897Z"
   },
   {
    "duration": 977,
    "start_time": "2022-04-07T00:29:58.601Z"
   },
   {
    "duration": 4,
    "start_time": "2022-04-07T00:30:21.226Z"
   },
   {
    "duration": 5,
    "start_time": "2022-04-07T00:30:23.308Z"
   },
   {
    "duration": 988,
    "start_time": "2022-04-07T00:30:25.477Z"
   },
   {
    "duration": 3,
    "start_time": "2022-04-07T00:30:33.571Z"
   },
   {
    "duration": 5,
    "start_time": "2022-04-07T00:30:35.359Z"
   },
   {
    "duration": 1119,
    "start_time": "2022-04-07T00:33:26.727Z"
   },
   {
    "duration": 340,
    "start_time": "2022-04-07T00:33:27.848Z"
   },
   {
    "duration": 3,
    "start_time": "2022-04-07T00:33:28.190Z"
   },
   {
    "duration": 74,
    "start_time": "2022-04-07T00:33:28.194Z"
   },
   {
    "duration": 69,
    "start_time": "2022-04-07T00:33:28.270Z"
   },
   {
    "duration": 65,
    "start_time": "2022-04-07T00:33:28.340Z"
   },
   {
    "duration": 31,
    "start_time": "2022-04-07T00:33:28.407Z"
   },
   {
    "duration": 8,
    "start_time": "2022-04-07T00:33:28.440Z"
   },
   {
    "duration": 189,
    "start_time": "2022-04-07T00:33:28.450Z"
   },
   {
    "duration": 100,
    "start_time": "2022-04-07T00:33:28.640Z"
   },
   {
    "duration": 202,
    "start_time": "2022-04-07T00:33:28.742Z"
   },
   {
    "duration": 511,
    "start_time": "2022-04-07T00:33:28.946Z"
   },
   {
    "duration": 81,
    "start_time": "2022-04-07T00:33:29.459Z"
   },
   {
    "duration": 97,
    "start_time": "2022-04-07T00:33:29.543Z"
   },
   {
    "duration": 8,
    "start_time": "2022-04-07T00:33:29.642Z"
   },
   {
    "duration": 9,
    "start_time": "2022-04-07T00:33:29.652Z"
   },
   {
    "duration": 1129,
    "start_time": "2022-04-07T00:36:43.431Z"
   },
   {
    "duration": 350,
    "start_time": "2022-04-07T00:36:44.562Z"
   },
   {
    "duration": 3,
    "start_time": "2022-04-07T00:36:44.914Z"
   },
   {
    "duration": 72,
    "start_time": "2022-04-07T00:36:44.919Z"
   },
   {
    "duration": 80,
    "start_time": "2022-04-07T00:36:44.993Z"
   },
   {
    "duration": 84,
    "start_time": "2022-04-07T00:36:45.075Z"
   },
   {
    "duration": 19,
    "start_time": "2022-04-07T00:36:45.161Z"
   },
   {
    "duration": 10,
    "start_time": "2022-04-07T00:36:45.182Z"
   },
   {
    "duration": 149,
    "start_time": "2022-04-07T00:36:45.193Z"
   },
   {
    "duration": 196,
    "start_time": "2022-04-07T00:36:45.345Z"
   },
   {
    "duration": 202,
    "start_time": "2022-04-07T00:36:45.543Z"
   },
   {
    "duration": 591,
    "start_time": "2022-04-07T00:36:45.747Z"
   },
   {
    "duration": 3,
    "start_time": "2022-04-07T00:36:46.341Z"
   },
   {
    "duration": 94,
    "start_time": "2022-04-07T00:36:46.347Z"
   },
   {
    "duration": 9,
    "start_time": "2022-04-07T00:36:46.442Z"
   },
   {
    "duration": 5,
    "start_time": "2022-04-07T00:36:46.453Z"
   },
   {
    "duration": 1031,
    "start_time": "2022-04-07T00:44:26.712Z"
   },
   {
    "duration": 330,
    "start_time": "2022-04-07T00:44:27.745Z"
   },
   {
    "duration": 4,
    "start_time": "2022-04-07T00:44:28.076Z"
   },
   {
    "duration": 65,
    "start_time": "2022-04-07T00:44:28.081Z"
   },
   {
    "duration": 56,
    "start_time": "2022-04-07T00:44:28.149Z"
   },
   {
    "duration": 79,
    "start_time": "2022-04-07T00:44:28.206Z"
   },
   {
    "duration": 18,
    "start_time": "2022-04-07T00:44:28.287Z"
   },
   {
    "duration": 6,
    "start_time": "2022-04-07T00:44:28.307Z"
   },
   {
    "duration": 223,
    "start_time": "2022-04-07T00:44:28.314Z"
   },
   {
    "duration": 106,
    "start_time": "2022-04-07T00:44:28.539Z"
   },
   {
    "duration": 192,
    "start_time": "2022-04-07T00:44:28.647Z"
   },
   {
    "duration": 598,
    "start_time": "2022-04-07T00:44:28.841Z"
   },
   {
    "duration": 3,
    "start_time": "2022-04-07T00:44:29.441Z"
   },
   {
    "duration": 4,
    "start_time": "2022-04-07T00:44:29.539Z"
   },
   {
    "duration": 6,
    "start_time": "2022-04-07T00:44:29.545Z"
   },
   {
    "duration": 6,
    "start_time": "2022-04-07T00:44:29.553Z"
   },
   {
    "duration": 1097,
    "start_time": "2022-04-07T00:45:59.649Z"
   },
   {
    "duration": 358,
    "start_time": "2022-04-07T00:46:00.749Z"
   },
   {
    "duration": 3,
    "start_time": "2022-04-07T00:46:01.110Z"
   },
   {
    "duration": 82,
    "start_time": "2022-04-07T00:46:01.114Z"
   },
   {
    "duration": 72,
    "start_time": "2022-04-07T00:46:01.198Z"
   },
   {
    "duration": 75,
    "start_time": "2022-04-07T00:46:01.272Z"
   },
   {
    "duration": 18,
    "start_time": "2022-04-07T00:46:01.349Z"
   },
   {
    "duration": 28,
    "start_time": "2022-04-07T00:46:01.369Z"
   },
   {
    "duration": 146,
    "start_time": "2022-04-07T00:46:01.399Z"
   },
   {
    "duration": 197,
    "start_time": "2022-04-07T00:46:01.547Z"
   },
   {
    "duration": 198,
    "start_time": "2022-04-07T00:46:01.746Z"
   },
   {
    "duration": 596,
    "start_time": "2022-04-07T00:46:01.946Z"
   },
   {
    "duration": 92,
    "start_time": "2022-04-07T00:46:02.547Z"
   },
   {
    "duration": 9,
    "start_time": "2022-04-07T00:46:02.641Z"
   },
   {
    "duration": 10,
    "start_time": "2022-04-07T00:46:02.652Z"
   },
   {
    "duration": 42,
    "start_time": "2022-04-07T00:46:02.664Z"
   },
   {
    "duration": 1086,
    "start_time": "2022-04-07T00:48:46.490Z"
   },
   {
    "duration": 340,
    "start_time": "2022-04-07T00:48:47.578Z"
   },
   {
    "duration": 3,
    "start_time": "2022-04-07T00:48:47.920Z"
   },
   {
    "duration": 75,
    "start_time": "2022-04-07T00:48:47.924Z"
   },
   {
    "duration": 77,
    "start_time": "2022-04-07T00:48:48.001Z"
   },
   {
    "duration": 78,
    "start_time": "2022-04-07T00:48:48.080Z"
   },
   {
    "duration": 18,
    "start_time": "2022-04-07T00:48:48.159Z"
   },
   {
    "duration": 8,
    "start_time": "2022-04-07T00:48:48.179Z"
   },
   {
    "duration": 152,
    "start_time": "2022-04-07T00:48:48.188Z"
   },
   {
    "duration": 202,
    "start_time": "2022-04-07T00:48:48.342Z"
   },
   {
    "duration": 197,
    "start_time": "2022-04-07T00:48:48.546Z"
   },
   {
    "duration": 593,
    "start_time": "2022-04-07T00:48:48.745Z"
   },
   {
    "duration": 93,
    "start_time": "2022-04-07T00:48:49.345Z"
   },
   {
    "duration": 7,
    "start_time": "2022-04-07T00:48:49.441Z"
   },
   {
    "duration": 7,
    "start_time": "2022-04-07T00:48:49.449Z"
   },
   {
    "duration": 7,
    "start_time": "2022-04-07T00:48:49.457Z"
   },
   {
    "duration": 1045,
    "start_time": "2022-04-07T00:52:43.298Z"
   },
   {
    "duration": 338,
    "start_time": "2022-04-07T00:52:44.345Z"
   },
   {
    "duration": 4,
    "start_time": "2022-04-07T00:52:44.685Z"
   },
   {
    "duration": 73,
    "start_time": "2022-04-07T00:52:44.691Z"
   },
   {
    "duration": 57,
    "start_time": "2022-04-07T00:52:44.766Z"
   },
   {
    "duration": 60,
    "start_time": "2022-04-07T00:52:44.838Z"
   },
   {
    "duration": 18,
    "start_time": "2022-04-07T00:52:44.900Z"
   },
   {
    "duration": 4,
    "start_time": "2022-04-07T00:52:44.938Z"
   },
   {
    "duration": 100,
    "start_time": "2022-04-07T00:52:44.944Z"
   },
   {
    "duration": 294,
    "start_time": "2022-04-07T00:52:45.047Z"
   },
   {
    "duration": 99,
    "start_time": "2022-04-07T00:52:45.342Z"
   },
   {
    "duration": 598,
    "start_time": "2022-04-07T00:52:45.443Z"
   },
   {
    "duration": 3,
    "start_time": "2022-04-07T00:52:46.137Z"
   },
   {
    "duration": 6,
    "start_time": "2022-04-07T00:52:46.142Z"
   },
   {
    "duration": 7,
    "start_time": "2022-04-07T00:52:46.150Z"
   },
   {
    "duration": 8,
    "start_time": "2022-04-07T00:52:46.159Z"
   },
   {
    "duration": 95,
    "start_time": "2022-04-07T00:53:28.521Z"
   },
   {
    "duration": 6,
    "start_time": "2022-04-07T00:53:45.053Z"
   },
   {
    "duration": 3759,
    "start_time": "2022-04-07T00:53:47.093Z"
   },
   {
    "duration": 3724,
    "start_time": "2022-04-07T00:54:04.617Z"
   },
   {
    "duration": 3709,
    "start_time": "2022-04-07T00:54:31.834Z"
   },
   {
    "duration": 4,
    "start_time": "2022-04-07T00:55:45.407Z"
   },
   {
    "duration": 5,
    "start_time": "2022-04-07T00:55:46.987Z"
   },
   {
    "duration": 3694,
    "start_time": "2022-04-07T00:55:48.721Z"
   },
   {
    "duration": 1059,
    "start_time": "2022-04-07T00:56:52.591Z"
   },
   {
    "duration": 341,
    "start_time": "2022-04-07T00:56:53.652Z"
   },
   {
    "duration": 4,
    "start_time": "2022-04-07T00:56:53.995Z"
   },
   {
    "duration": 69,
    "start_time": "2022-04-07T00:56:54.000Z"
   },
   {
    "duration": 66,
    "start_time": "2022-04-07T00:56:54.072Z"
   },
   {
    "duration": 61,
    "start_time": "2022-04-07T00:56:54.140Z"
   },
   {
    "duration": 35,
    "start_time": "2022-04-07T00:56:54.203Z"
   },
   {
    "duration": 7,
    "start_time": "2022-04-07T00:56:54.240Z"
   },
   {
    "duration": 191,
    "start_time": "2022-04-07T00:56:54.248Z"
   },
   {
    "duration": 100,
    "start_time": "2022-04-07T00:56:54.440Z"
   },
   {
    "duration": 202,
    "start_time": "2022-04-07T00:56:54.542Z"
   },
   {
    "duration": 593,
    "start_time": "2022-04-07T00:56:54.746Z"
   },
   {
    "duration": 4,
    "start_time": "2022-04-07T00:56:55.341Z"
   },
   {
    "duration": 11,
    "start_time": "2022-04-07T00:56:55.439Z"
   },
   {
    "duration": 23,
    "start_time": "2022-04-07T00:56:55.451Z"
   },
   {
    "duration": 10,
    "start_time": "2022-04-07T00:56:55.475Z"
   },
   {
    "duration": 3722,
    "start_time": "2022-04-07T00:56:55.487Z"
   },
   {
    "duration": 1139,
    "start_time": "2022-04-07T01:00:37.810Z"
   },
   {
    "duration": 356,
    "start_time": "2022-04-07T01:00:38.951Z"
   },
   {
    "duration": 3,
    "start_time": "2022-04-07T01:00:39.309Z"
   },
   {
    "duration": 81,
    "start_time": "2022-04-07T01:00:39.314Z"
   },
   {
    "duration": 74,
    "start_time": "2022-04-07T01:00:39.398Z"
   },
   {
    "duration": 75,
    "start_time": "2022-04-07T01:00:39.473Z"
   },
   {
    "duration": 18,
    "start_time": "2022-04-07T01:00:39.550Z"
   },
   {
    "duration": 8,
    "start_time": "2022-04-07T01:00:39.570Z"
   },
   {
    "duration": 66,
    "start_time": "2022-04-07T01:00:39.579Z"
   },
   {
    "duration": 197,
    "start_time": "2022-04-07T01:00:39.647Z"
   },
   {
    "duration": 197,
    "start_time": "2022-04-07T01:00:39.846Z"
   },
   {
    "duration": 593,
    "start_time": "2022-04-07T01:00:40.045Z"
   },
   {
    "duration": 4,
    "start_time": "2022-04-07T01:00:40.640Z"
   },
   {
    "duration": 98,
    "start_time": "2022-04-07T01:00:40.649Z"
   },
   {
    "duration": 11,
    "start_time": "2022-04-07T01:00:40.749Z"
   },
   {
    "duration": 9,
    "start_time": "2022-04-07T01:00:40.762Z"
   },
   {
    "duration": 3888,
    "start_time": "2022-04-07T01:00:40.772Z"
   },
   {
    "duration": 3,
    "start_time": "2022-04-07T01:29:43.958Z"
   },
   {
    "duration": 326,
    "start_time": "2022-04-07T01:29:43.962Z"
   },
   {
    "duration": 4,
    "start_time": "2022-04-07T01:29:44.289Z"
   },
   {
    "duration": 67,
    "start_time": "2022-04-07T01:29:44.294Z"
   },
   {
    "duration": 59,
    "start_time": "2022-04-07T01:29:44.362Z"
   },
   {
    "duration": 69,
    "start_time": "2022-04-07T01:29:44.423Z"
   },
   {
    "duration": 14,
    "start_time": "2022-04-07T01:29:44.494Z"
   },
   {
    "duration": 7,
    "start_time": "2022-04-07T01:29:44.510Z"
   },
   {
    "duration": 122,
    "start_time": "2022-04-07T01:29:44.518Z"
   },
   {
    "duration": 204,
    "start_time": "2022-04-07T01:29:44.642Z"
   },
   {
    "duration": 197,
    "start_time": "2022-04-07T01:29:44.848Z"
   },
   {
    "duration": 595,
    "start_time": "2022-04-07T01:29:45.046Z"
   },
   {
    "duration": 3,
    "start_time": "2022-04-07T01:29:45.737Z"
   },
   {
    "duration": 7,
    "start_time": "2022-04-07T01:29:45.741Z"
   },
   {
    "duration": 8,
    "start_time": "2022-04-07T01:29:45.750Z"
   },
   {
    "duration": 11,
    "start_time": "2022-04-07T01:29:45.760Z"
   },
   {
    "duration": 3717,
    "start_time": "2022-04-07T01:29:45.773Z"
   },
   {
    "duration": 3,
    "start_time": "2022-04-07T01:29:59.455Z"
   },
   {
    "duration": 3,
    "start_time": "2022-04-07T01:30:04.447Z"
   },
   {
    "duration": 4,
    "start_time": "2022-04-07T01:30:05.347Z"
   },
   {
    "duration": 3978,
    "start_time": "2022-04-07T01:30:05.984Z"
   },
   {
    "duration": 5,
    "start_time": "2022-04-07T01:35:19.114Z"
   },
   {
    "duration": 4,
    "start_time": "2022-04-07T01:35:22.088Z"
   },
   {
    "duration": 67,
    "start_time": "2022-04-07T01:35:24.974Z"
   },
   {
    "duration": 1029,
    "start_time": "2022-04-07T01:35:51.517Z"
   },
   {
    "duration": 348,
    "start_time": "2022-04-07T01:35:52.548Z"
   },
   {
    "duration": 4,
    "start_time": "2022-04-07T01:35:52.898Z"
   },
   {
    "duration": 66,
    "start_time": "2022-04-07T01:35:52.904Z"
   },
   {
    "duration": 73,
    "start_time": "2022-04-07T01:35:52.972Z"
   },
   {
    "duration": 63,
    "start_time": "2022-04-07T01:35:53.047Z"
   },
   {
    "duration": 26,
    "start_time": "2022-04-07T01:35:53.112Z"
   },
   {
    "duration": 7,
    "start_time": "2022-04-07T01:35:53.140Z"
   },
   {
    "duration": 192,
    "start_time": "2022-04-07T01:35:53.149Z"
   },
   {
    "duration": 101,
    "start_time": "2022-04-07T01:35:53.343Z"
   },
   {
    "duration": 196,
    "start_time": "2022-04-07T01:35:53.446Z"
   },
   {
    "duration": 515,
    "start_time": "2022-04-07T01:35:53.644Z"
   },
   {
    "duration": 4,
    "start_time": "2022-04-07T01:35:54.238Z"
   },
   {
    "duration": 101,
    "start_time": "2022-04-07T01:35:54.244Z"
   },
   {
    "duration": 8,
    "start_time": "2022-04-07T01:35:54.346Z"
   },
   {
    "duration": 7,
    "start_time": "2022-04-07T01:35:54.355Z"
   },
   {
    "duration": 98,
    "start_time": "2022-04-07T01:35:54.363Z"
   },
   {
    "duration": 5,
    "start_time": "2022-04-07T01:36:31.483Z"
   },
   {
    "duration": 16,
    "start_time": "2022-04-07T01:36:33.985Z"
   },
   {
    "duration": 1123,
    "start_time": "2022-04-07T01:37:19.925Z"
   },
   {
    "duration": 352,
    "start_time": "2022-04-07T01:37:21.050Z"
   },
   {
    "duration": 3,
    "start_time": "2022-04-07T01:37:21.404Z"
   },
   {
    "duration": 75,
    "start_time": "2022-04-07T01:37:21.409Z"
   },
   {
    "duration": 66,
    "start_time": "2022-04-07T01:37:21.485Z"
   },
   {
    "duration": 64,
    "start_time": "2022-04-07T01:37:21.553Z"
   },
   {
    "duration": 31,
    "start_time": "2022-04-07T01:37:21.619Z"
   },
   {
    "duration": 11,
    "start_time": "2022-04-07T01:37:21.652Z"
   },
   {
    "duration": 177,
    "start_time": "2022-04-07T01:37:21.665Z"
   },
   {
    "duration": 100,
    "start_time": "2022-04-07T01:37:21.845Z"
   },
   {
    "duration": 108,
    "start_time": "2022-04-07T01:37:22.037Z"
   },
   {
    "duration": 594,
    "start_time": "2022-04-07T01:37:22.147Z"
   },
   {
    "duration": 93,
    "start_time": "2022-04-07T01:37:22.747Z"
   },
   {
    "duration": 15,
    "start_time": "2022-04-07T01:37:22.841Z"
   },
   {
    "duration": 17,
    "start_time": "2022-04-07T01:37:22.857Z"
   },
   {
    "duration": 10,
    "start_time": "2022-04-07T01:37:22.876Z"
   },
   {
    "duration": 106,
    "start_time": "2022-04-07T01:37:22.888Z"
   },
   {
    "duration": 4,
    "start_time": "2022-04-07T01:37:48.510Z"
   },
   {
    "duration": 16,
    "start_time": "2022-04-07T01:37:51.155Z"
   },
   {
    "duration": 5,
    "start_time": "2022-04-07T01:39:14.516Z"
   },
   {
    "duration": 3801,
    "start_time": "2022-04-07T01:39:15.596Z"
   },
   {
    "duration": 4,
    "start_time": "2022-04-07T01:39:37.732Z"
   },
   {
    "duration": 3718,
    "start_time": "2022-04-07T01:39:38.920Z"
   },
   {
    "duration": 1042,
    "start_time": "2022-04-07T01:39:56.305Z"
   },
   {
    "duration": 336,
    "start_time": "2022-04-07T01:39:57.349Z"
   },
   {
    "duration": 3,
    "start_time": "2022-04-07T01:39:57.687Z"
   },
   {
    "duration": 71,
    "start_time": "2022-04-07T01:39:57.692Z"
   },
   {
    "duration": 58,
    "start_time": "2022-04-07T01:39:57.765Z"
   },
   {
    "duration": 68,
    "start_time": "2022-04-07T01:39:57.825Z"
   },
   {
    "duration": 17,
    "start_time": "2022-04-07T01:39:57.895Z"
   },
   {
    "duration": 24,
    "start_time": "2022-04-07T01:39:57.914Z"
   },
   {
    "duration": 104,
    "start_time": "2022-04-07T01:39:57.939Z"
   },
   {
    "duration": 199,
    "start_time": "2022-04-07T01:39:58.046Z"
   },
   {
    "duration": 198,
    "start_time": "2022-04-07T01:39:58.246Z"
   },
   {
    "duration": 509,
    "start_time": "2022-04-07T01:39:58.446Z"
   },
   {
    "duration": 84,
    "start_time": "2022-04-07T01:39:58.957Z"
   },
   {
    "duration": 9,
    "start_time": "2022-04-07T01:39:59.137Z"
   },
   {
    "duration": 10,
    "start_time": "2022-04-07T01:39:59.148Z"
   },
   {
    "duration": 5,
    "start_time": "2022-04-07T01:39:59.159Z"
   },
   {
    "duration": 3827,
    "start_time": "2022-04-07T01:39:59.166Z"
   },
   {
    "duration": 5,
    "start_time": "2022-04-07T01:42:00.660Z"
   },
   {
    "duration": 3782,
    "start_time": "2022-04-07T01:42:02.359Z"
   },
   {
    "duration": 1097,
    "start_time": "2022-04-07T01:42:16.851Z"
   },
   {
    "duration": 344,
    "start_time": "2022-04-07T01:42:17.950Z"
   },
   {
    "duration": 3,
    "start_time": "2022-04-07T01:42:18.297Z"
   },
   {
    "duration": 74,
    "start_time": "2022-04-07T01:42:18.303Z"
   },
   {
    "duration": 69,
    "start_time": "2022-04-07T01:42:18.379Z"
   },
   {
    "duration": 66,
    "start_time": "2022-04-07T01:42:18.450Z"
   },
   {
    "duration": 19,
    "start_time": "2022-04-07T01:42:18.538Z"
   },
   {
    "duration": 8,
    "start_time": "2022-04-07T01:42:18.559Z"
   },
   {
    "duration": 168,
    "start_time": "2022-04-07T01:42:18.569Z"
   },
   {
    "duration": 101,
    "start_time": "2022-04-07T01:42:18.740Z"
   },
   {
    "duration": 201,
    "start_time": "2022-04-07T01:42:18.842Z"
   },
   {
    "duration": 596,
    "start_time": "2022-04-07T01:42:19.045Z"
   },
   {
    "duration": 3,
    "start_time": "2022-04-07T01:42:19.737Z"
   },
   {
    "duration": 6,
    "start_time": "2022-04-07T01:42:19.742Z"
   },
   {
    "duration": 8,
    "start_time": "2022-04-07T01:42:19.749Z"
   },
   {
    "duration": 6,
    "start_time": "2022-04-07T01:42:19.758Z"
   },
   {
    "duration": 3837,
    "start_time": "2022-04-07T01:42:19.766Z"
   },
   {
    "duration": 5,
    "start_time": "2022-04-07T01:44:50.223Z"
   },
   {
    "duration": 3716,
    "start_time": "2022-04-07T01:44:50.817Z"
   },
   {
    "duration": 6,
    "start_time": "2022-04-07T01:46:04.730Z"
   },
   {
    "duration": 3668,
    "start_time": "2022-04-07T01:46:27.596Z"
   },
   {
    "duration": 1035,
    "start_time": "2022-04-07T12:05:35.696Z"
   },
   {
    "duration": 407,
    "start_time": "2022-04-07T12:05:36.733Z"
   },
   {
    "duration": 3,
    "start_time": "2022-04-07T12:05:37.142Z"
   },
   {
    "duration": 67,
    "start_time": "2022-04-07T12:05:37.147Z"
   },
   {
    "duration": 68,
    "start_time": "2022-04-07T12:05:37.216Z"
   },
   {
    "duration": 65,
    "start_time": "2022-04-07T12:05:37.285Z"
   },
   {
    "duration": 13,
    "start_time": "2022-04-07T12:05:37.352Z"
   },
   {
    "duration": 10,
    "start_time": "2022-04-07T12:05:37.366Z"
   },
   {
    "duration": 66,
    "start_time": "2022-04-07T12:05:37.378Z"
   },
   {
    "duration": 119,
    "start_time": "2022-04-07T12:05:37.521Z"
   },
   {
    "duration": 203,
    "start_time": "2022-04-07T12:05:37.643Z"
   },
   {
    "duration": 489,
    "start_time": "2022-04-07T12:05:37.919Z"
   },
   {
    "duration": 7,
    "start_time": "2022-04-07T12:05:38.418Z"
   },
   {
    "duration": 79,
    "start_time": "2022-04-07T12:05:38.434Z"
   },
   {
    "duration": 8,
    "start_time": "2022-04-07T12:05:38.517Z"
   },
   {
    "duration": 10,
    "start_time": "2022-04-07T12:05:38.527Z"
   },
   {
    "duration": 4257,
    "start_time": "2022-04-07T12:05:38.539Z"
   },
   {
    "duration": 104,
    "start_time": "2022-04-07T12:21:05.766Z"
   },
   {
    "duration": 4385,
    "start_time": "2022-04-07T12:21:10.594Z"
   },
   {
    "duration": 1027,
    "start_time": "2022-04-07T12:27:46.998Z"
   },
   {
    "duration": 343,
    "start_time": "2022-04-07T12:27:48.030Z"
   },
   {
    "duration": 3,
    "start_time": "2022-04-07T12:27:48.374Z"
   },
   {
    "duration": 73,
    "start_time": "2022-04-07T12:27:48.379Z"
   },
   {
    "duration": 73,
    "start_time": "2022-04-07T12:27:48.454Z"
   },
   {
    "duration": 61,
    "start_time": "2022-04-07T12:27:48.531Z"
   },
   {
    "duration": 32,
    "start_time": "2022-04-07T12:27:48.594Z"
   },
   {
    "duration": 5,
    "start_time": "2022-04-07T12:27:48.635Z"
   },
   {
    "duration": 171,
    "start_time": "2022-04-07T12:27:48.642Z"
   },
   {
    "duration": 109,
    "start_time": "2022-04-07T12:27:48.816Z"
   },
   {
    "duration": 197,
    "start_time": "2022-04-07T12:27:48.927Z"
   },
   {
    "duration": 415,
    "start_time": "2022-04-07T12:27:49.126Z"
   },
   {
    "duration": 67,
    "start_time": "2022-04-07T12:27:49.542Z"
   },
   {
    "duration": 6,
    "start_time": "2022-04-07T12:27:49.612Z"
   },
   {
    "duration": 93,
    "start_time": "2022-04-07T12:27:49.620Z"
   },
   {
    "duration": 9,
    "start_time": "2022-04-07T12:27:49.726Z"
   },
   {
    "duration": 110,
    "start_time": "2022-04-07T12:27:49.737Z"
   },
   {
    "duration": 12,
    "start_time": "2022-04-07T12:27:57.740Z"
   },
   {
    "duration": 5,
    "start_time": "2022-04-07T12:28:24.646Z"
   },
   {
    "duration": 1462,
    "start_time": "2022-04-07T12:28:26.050Z"
   },
   {
    "duration": 5,
    "start_time": "2022-04-07T12:28:38.044Z"
   },
   {
    "duration": 1411,
    "start_time": "2022-04-07T12:28:39.669Z"
   },
   {
    "duration": 6,
    "start_time": "2022-04-07T12:28:46.999Z"
   },
   {
    "duration": 1340,
    "start_time": "2022-04-07T12:28:50.183Z"
   },
   {
    "duration": 1038,
    "start_time": "2022-04-07T12:36:39.669Z"
   },
   {
    "duration": 360,
    "start_time": "2022-04-07T12:36:40.714Z"
   },
   {
    "duration": 3,
    "start_time": "2022-04-07T12:36:41.076Z"
   },
   {
    "duration": 93,
    "start_time": "2022-04-07T12:36:41.081Z"
   },
   {
    "duration": 71,
    "start_time": "2022-04-07T12:36:41.177Z"
   },
   {
    "duration": 88,
    "start_time": "2022-04-07T12:36:41.250Z"
   },
   {
    "duration": 14,
    "start_time": "2022-04-07T12:36:41.340Z"
   },
   {
    "duration": 61,
    "start_time": "2022-04-07T12:36:41.356Z"
   },
   {
    "duration": 109,
    "start_time": "2022-04-07T12:36:41.419Z"
   },
   {
    "duration": 195,
    "start_time": "2022-04-07T12:36:41.531Z"
   },
   {
    "duration": 184,
    "start_time": "2022-04-07T12:36:41.728Z"
   },
   {
    "duration": 424,
    "start_time": "2022-04-07T12:36:41.914Z"
   },
   {
    "duration": 8,
    "start_time": "2022-04-07T12:36:42.409Z"
   },
   {
    "duration": 26,
    "start_time": "2022-04-07T12:36:42.423Z"
   },
   {
    "duration": 6,
    "start_time": "2022-04-07T12:36:42.513Z"
   },
   {
    "duration": 9,
    "start_time": "2022-04-07T12:36:42.521Z"
   },
   {
    "duration": 1412,
    "start_time": "2022-04-07T12:36:42.533Z"
   },
   {
    "duration": 1162,
    "start_time": "2022-04-07T12:40:39.486Z"
   },
   {
    "duration": 351,
    "start_time": "2022-04-07T12:40:40.650Z"
   },
   {
    "duration": 4,
    "start_time": "2022-04-07T12:40:41.003Z"
   },
   {
    "duration": 81,
    "start_time": "2022-04-07T12:40:41.009Z"
   },
   {
    "duration": 67,
    "start_time": "2022-04-07T12:40:41.092Z"
   },
   {
    "duration": 94,
    "start_time": "2022-04-07T12:40:41.162Z"
   },
   {
    "duration": 15,
    "start_time": "2022-04-07T12:40:41.258Z"
   },
   {
    "duration": 22,
    "start_time": "2022-04-07T12:40:41.275Z"
   },
   {
    "duration": 212,
    "start_time": "2022-04-07T12:40:41.299Z"
   },
   {
    "duration": 108,
    "start_time": "2022-04-07T12:40:41.514Z"
   },
   {
    "duration": 204,
    "start_time": "2022-04-07T12:40:41.625Z"
   },
   {
    "duration": 413,
    "start_time": "2022-04-07T12:40:41.834Z"
   },
   {
    "duration": 19,
    "start_time": "2022-04-07T12:40:42.314Z"
   },
   {
    "duration": 11,
    "start_time": "2022-04-07T12:40:42.336Z"
   },
   {
    "duration": 21,
    "start_time": "2022-04-07T12:40:42.413Z"
   },
   {
    "duration": 6,
    "start_time": "2022-04-07T12:40:42.436Z"
   },
   {
    "duration": 1463,
    "start_time": "2022-04-07T12:40:42.444Z"
   },
   {
    "duration": 1383,
    "start_time": "2022-04-07T12:41:38.202Z"
   },
   {
    "duration": 5,
    "start_time": "2022-04-07T12:43:53.250Z"
   },
   {
    "duration": 112,
    "start_time": "2022-04-07T12:44:33.260Z"
   },
   {
    "duration": 5,
    "start_time": "2022-04-07T12:44:54.180Z"
   },
   {
    "duration": 4,
    "start_time": "2022-04-07T12:45:07.395Z"
   },
   {
    "duration": 16,
    "start_time": "2022-04-07T12:45:08.936Z"
   },
   {
    "duration": 4,
    "start_time": "2022-04-07T12:45:33.551Z"
   },
   {
    "duration": 17,
    "start_time": "2022-04-07T12:45:35.615Z"
   },
   {
    "duration": 1494,
    "start_time": "2022-04-07T12:45:37.261Z"
   },
   {
    "duration": 1350,
    "start_time": "2022-04-07T12:45:53.998Z"
   },
   {
    "duration": 1163,
    "start_time": "2022-04-07T12:46:25.801Z"
   },
   {
    "duration": 380,
    "start_time": "2022-04-07T12:46:26.966Z"
   },
   {
    "duration": 3,
    "start_time": "2022-04-07T12:46:27.348Z"
   },
   {
    "duration": 80,
    "start_time": "2022-04-07T12:46:27.352Z"
   },
   {
    "duration": 55,
    "start_time": "2022-04-07T12:46:27.439Z"
   },
   {
    "duration": 78,
    "start_time": "2022-04-07T12:46:27.496Z"
   },
   {
    "duration": 13,
    "start_time": "2022-04-07T12:46:27.576Z"
   },
   {
    "duration": 25,
    "start_time": "2022-04-07T12:46:27.590Z"
   },
   {
    "duration": 99,
    "start_time": "2022-04-07T12:46:27.617Z"
   },
   {
    "duration": 199,
    "start_time": "2022-04-07T12:46:27.718Z"
   },
   {
    "duration": 197,
    "start_time": "2022-04-07T12:46:27.919Z"
   },
   {
    "duration": 520,
    "start_time": "2022-04-07T12:46:28.119Z"
   },
   {
    "duration": 4,
    "start_time": "2022-04-07T12:46:28.642Z"
   },
   {
    "duration": 80,
    "start_time": "2022-04-07T12:46:28.649Z"
   },
   {
    "duration": 7,
    "start_time": "2022-04-07T12:46:28.732Z"
   },
   {
    "duration": 70,
    "start_time": "2022-04-07T12:46:28.742Z"
   },
   {
    "duration": 1418,
    "start_time": "2022-04-07T12:46:28.821Z"
   },
   {
    "duration": 1392,
    "start_time": "2022-04-07T12:46:43.363Z"
   },
   {
    "duration": 1412,
    "start_time": "2022-04-07T12:46:54.475Z"
   },
   {
    "duration": 1457,
    "start_time": "2022-04-07T12:47:05.084Z"
   },
   {
    "duration": 1435,
    "start_time": "2022-04-07T12:47:23.501Z"
   },
   {
    "duration": 1377,
    "start_time": "2022-04-07T12:47:37.479Z"
   },
   {
    "duration": 1362,
    "start_time": "2022-04-07T12:47:48.828Z"
   },
   {
    "duration": 1391,
    "start_time": "2022-04-07T12:48:05.766Z"
   },
   {
    "duration": 1399,
    "start_time": "2022-04-07T12:48:11.284Z"
   },
   {
    "duration": 1374,
    "start_time": "2022-04-07T12:48:15.416Z"
   },
   {
    "duration": 1359,
    "start_time": "2022-04-07T12:48:20.095Z"
   },
   {
    "duration": 1354,
    "start_time": "2022-04-07T12:48:23.727Z"
   },
   {
    "duration": 1113,
    "start_time": "2022-04-07T12:48:33.625Z"
   },
   {
    "duration": 358,
    "start_time": "2022-04-07T12:48:34.740Z"
   },
   {
    "duration": 4,
    "start_time": "2022-04-07T12:48:35.099Z"
   },
   {
    "duration": 82,
    "start_time": "2022-04-07T12:48:35.104Z"
   },
   {
    "duration": 64,
    "start_time": "2022-04-07T12:48:35.188Z"
   },
   {
    "duration": 78,
    "start_time": "2022-04-07T12:48:35.253Z"
   },
   {
    "duration": 15,
    "start_time": "2022-04-07T12:48:35.333Z"
   },
   {
    "duration": 7,
    "start_time": "2022-04-07T12:48:35.350Z"
   },
   {
    "duration": 154,
    "start_time": "2022-04-07T12:48:35.359Z"
   },
   {
    "duration": 108,
    "start_time": "2022-04-07T12:48:35.515Z"
   },
   {
    "duration": 193,
    "start_time": "2022-04-07T12:48:35.628Z"
   },
   {
    "duration": 419,
    "start_time": "2022-04-07T12:48:35.822Z"
   },
   {
    "duration": 18,
    "start_time": "2022-04-07T12:48:36.315Z"
   },
   {
    "duration": 72,
    "start_time": "2022-04-07T12:48:36.342Z"
   },
   {
    "duration": 9,
    "start_time": "2022-04-07T12:48:36.425Z"
   },
   {
    "duration": 5,
    "start_time": "2022-04-07T12:48:36.435Z"
   },
   {
    "duration": 1341,
    "start_time": "2022-04-07T12:48:36.442Z"
   },
   {
    "duration": 8,
    "start_time": "2022-04-07T12:51:58.711Z"
   },
   {
    "duration": 6,
    "start_time": "2022-04-07T12:54:20.641Z"
   },
   {
    "duration": 1423,
    "start_time": "2022-04-07T12:54:22.367Z"
   },
   {
    "duration": 7,
    "start_time": "2022-04-07T12:54:40.103Z"
   },
   {
    "duration": 1393,
    "start_time": "2022-04-07T12:54:42.139Z"
   },
   {
    "duration": 59,
    "start_time": "2022-04-07T13:07:27.736Z"
   },
   {
    "duration": 120,
    "start_time": "2022-04-07T13:07:37.039Z"
   },
   {
    "duration": 5,
    "start_time": "2022-04-07T13:08:39.945Z"
   },
   {
    "duration": 1280,
    "start_time": "2022-04-07T13:08:42.831Z"
   },
   {
    "duration": 1368,
    "start_time": "2022-04-07T13:10:20.309Z"
   },
   {
    "duration": 1318,
    "start_time": "2022-04-07T13:10:43.576Z"
   },
   {
    "duration": 1127,
    "start_time": "2022-04-07T13:10:52.821Z"
   },
   {
    "duration": 787,
    "start_time": "2022-04-07T13:10:53.950Z"
   },
   {
    "duration": 5,
    "start_time": "2022-04-07T13:10:54.739Z"
   },
   {
    "duration": 85,
    "start_time": "2022-04-07T13:10:54.746Z"
   },
   {
    "duration": 68,
    "start_time": "2022-04-07T13:10:54.833Z"
   },
   {
    "duration": 71,
    "start_time": "2022-04-07T13:10:54.908Z"
   },
   {
    "duration": 40,
    "start_time": "2022-04-07T13:10:54.981Z"
   },
   {
    "duration": 6,
    "start_time": "2022-04-07T13:10:55.023Z"
   },
   {
    "duration": 184,
    "start_time": "2022-04-07T13:10:55.031Z"
   },
   {
    "duration": 105,
    "start_time": "2022-04-07T13:10:55.217Z"
   },
   {
    "duration": 186,
    "start_time": "2022-04-07T13:10:55.328Z"
   },
   {
    "duration": 511,
    "start_time": "2022-04-07T13:10:55.516Z"
   },
   {
    "duration": 82,
    "start_time": "2022-04-07T13:10:56.029Z"
   },
   {
    "duration": 3,
    "start_time": "2022-04-07T13:10:56.114Z"
   },
   {
    "duration": 5,
    "start_time": "2022-04-07T13:10:56.119Z"
   },
   {
    "duration": 100,
    "start_time": "2022-04-07T13:10:56.125Z"
   },
   {
    "duration": 1348,
    "start_time": "2022-04-07T13:10:56.227Z"
   },
   {
    "duration": 1318,
    "start_time": "2022-04-07T13:10:57.576Z"
   },
   {
    "duration": 1308,
    "start_time": "2022-04-07T13:10:58.896Z"
   },
   {
    "duration": 6,
    "start_time": "2022-04-07T13:11:12.538Z"
   },
   {
    "duration": 1347,
    "start_time": "2022-04-07T13:11:20.403Z"
   },
   {
    "duration": 1095,
    "start_time": "2022-04-07T13:11:47.663Z"
   },
   {
    "duration": 376,
    "start_time": "2022-04-07T13:11:48.760Z"
   },
   {
    "duration": 3,
    "start_time": "2022-04-07T13:11:49.138Z"
   },
   {
    "duration": 72,
    "start_time": "2022-04-07T13:11:49.143Z"
   },
   {
    "duration": 73,
    "start_time": "2022-04-07T13:11:49.221Z"
   },
   {
    "duration": 74,
    "start_time": "2022-04-07T13:11:49.296Z"
   },
   {
    "duration": 15,
    "start_time": "2022-04-07T13:11:49.372Z"
   },
   {
    "duration": 23,
    "start_time": "2022-04-07T13:11:49.389Z"
   },
   {
    "duration": 198,
    "start_time": "2022-04-07T13:11:49.414Z"
   },
   {
    "duration": 103,
    "start_time": "2022-04-07T13:11:49.621Z"
   },
   {
    "duration": 188,
    "start_time": "2022-04-07T13:11:49.725Z"
   },
   {
    "duration": 510,
    "start_time": "2022-04-07T13:11:49.915Z"
   },
   {
    "duration": 5,
    "start_time": "2022-04-07T13:11:50.427Z"
   },
   {
    "duration": 17,
    "start_time": "2022-04-07T13:11:50.510Z"
   },
   {
    "duration": 86,
    "start_time": "2022-04-07T13:11:50.528Z"
   },
   {
    "duration": 6,
    "start_time": "2022-04-07T13:11:50.624Z"
   },
   {
    "duration": 1437,
    "start_time": "2022-04-07T13:11:50.631Z"
   },
   {
    "duration": 1372,
    "start_time": "2022-04-07T13:11:52.069Z"
   },
   {
    "duration": 1427,
    "start_time": "2022-04-07T13:11:53.443Z"
   },
   {
    "duration": 6,
    "start_time": "2022-04-07T13:12:13.839Z"
   },
   {
    "duration": 1485,
    "start_time": "2022-04-07T13:12:16.169Z"
   },
   {
    "duration": 1518,
    "start_time": "2022-04-07T13:12:20.628Z"
   },
   {
    "duration": 1490,
    "start_time": "2022-04-07T13:12:24.665Z"
   },
   {
    "duration": 1177,
    "start_time": "2022-04-07T13:12:56.107Z"
   },
   {
    "duration": 608,
    "start_time": "2022-04-07T13:12:57.286Z"
   },
   {
    "duration": 4,
    "start_time": "2022-04-07T13:12:57.896Z"
   },
   {
    "duration": 89,
    "start_time": "2022-04-07T13:12:57.902Z"
   },
   {
    "duration": 70,
    "start_time": "2022-04-07T13:12:57.993Z"
   },
   {
    "duration": 84,
    "start_time": "2022-04-07T13:12:58.065Z"
   },
   {
    "duration": 16,
    "start_time": "2022-04-07T13:12:58.150Z"
   },
   {
    "duration": 5,
    "start_time": "2022-04-07T13:12:58.168Z"
   },
   {
    "duration": 138,
    "start_time": "2022-04-07T13:12:58.175Z"
   },
   {
    "duration": 201,
    "start_time": "2022-04-07T13:12:58.316Z"
   },
   {
    "duration": 197,
    "start_time": "2022-04-07T13:12:58.523Z"
   },
   {
    "duration": 495,
    "start_time": "2022-04-07T13:12:58.730Z"
   },
   {
    "duration": 6,
    "start_time": "2022-04-07T13:12:59.228Z"
   },
   {
    "duration": 89,
    "start_time": "2022-04-07T13:12:59.236Z"
   },
   {
    "duration": 87,
    "start_time": "2022-04-07T13:12:59.328Z"
   },
   {
    "duration": 10,
    "start_time": "2022-04-07T13:12:59.417Z"
   },
   {
    "duration": 1429,
    "start_time": "2022-04-07T13:12:59.428Z"
   },
   {
    "duration": 1411,
    "start_time": "2022-04-07T13:13:00.859Z"
   },
   {
    "duration": 1473,
    "start_time": "2022-04-07T13:13:02.272Z"
   },
   {
    "duration": 5,
    "start_time": "2022-04-07T13:14:36.386Z"
   },
   {
    "duration": 1348,
    "start_time": "2022-04-07T13:14:38.787Z"
   },
   {
    "duration": 1427,
    "start_time": "2022-04-07T13:14:45.529Z"
   },
   {
    "duration": 1331,
    "start_time": "2022-04-07T13:14:49.710Z"
   },
   {
    "duration": 1112,
    "start_time": "2022-04-07T13:15:33.733Z"
   },
   {
    "duration": 420,
    "start_time": "2022-04-07T13:15:34.847Z"
   },
   {
    "duration": 3,
    "start_time": "2022-04-07T13:15:35.268Z"
   },
   {
    "duration": 76,
    "start_time": "2022-04-07T13:15:35.274Z"
   },
   {
    "duration": 78,
    "start_time": "2022-04-07T13:15:35.351Z"
   },
   {
    "duration": 67,
    "start_time": "2022-04-07T13:15:35.431Z"
   },
   {
    "duration": 18,
    "start_time": "2022-04-07T13:15:35.509Z"
   },
   {
    "duration": 7,
    "start_time": "2022-04-07T13:15:35.529Z"
   },
   {
    "duration": 173,
    "start_time": "2022-04-07T13:15:35.537Z"
   },
   {
    "duration": 107,
    "start_time": "2022-04-07T13:15:35.712Z"
   },
   {
    "duration": 202,
    "start_time": "2022-04-07T13:15:35.820Z"
   },
   {
    "duration": 503,
    "start_time": "2022-04-07T13:15:36.024Z"
   },
   {
    "duration": 3,
    "start_time": "2022-04-07T13:15:36.529Z"
   },
   {
    "duration": 8,
    "start_time": "2022-04-07T13:15:36.614Z"
   },
   {
    "duration": 5,
    "start_time": "2022-04-07T13:15:36.625Z"
   },
   {
    "duration": 8,
    "start_time": "2022-04-07T13:15:36.633Z"
   },
   {
    "duration": 1388,
    "start_time": "2022-04-07T13:15:36.716Z"
   },
   {
    "duration": 1351,
    "start_time": "2022-04-07T13:15:38.115Z"
   },
   {
    "duration": 1330,
    "start_time": "2022-04-07T13:15:39.468Z"
   },
   {
    "duration": 1536,
    "start_time": "2022-04-07T14:19:27.334Z"
   },
   {
    "duration": 449,
    "start_time": "2022-04-07T14:19:28.872Z"
   },
   {
    "duration": 6,
    "start_time": "2022-04-07T14:19:29.324Z"
   },
   {
    "duration": 127,
    "start_time": "2022-04-07T14:19:29.334Z"
   },
   {
    "duration": 116,
    "start_time": "2022-04-07T14:19:29.464Z"
   },
   {
    "duration": 108,
    "start_time": "2022-04-07T14:19:29.583Z"
   },
   {
    "duration": 19,
    "start_time": "2022-04-07T14:19:29.694Z"
   },
   {
    "duration": 10,
    "start_time": "2022-04-07T14:19:29.716Z"
   },
   {
    "duration": 160,
    "start_time": "2022-04-07T14:19:29.729Z"
   },
   {
    "duration": 205,
    "start_time": "2022-04-07T14:19:29.896Z"
   },
   {
    "duration": 107,
    "start_time": "2022-04-07T14:19:30.175Z"
   },
   {
    "duration": 608,
    "start_time": "2022-04-07T14:19:30.287Z"
   },
   {
    "duration": 75,
    "start_time": "2022-04-07T14:19:30.899Z"
   },
   {
    "duration": 42,
    "start_time": "2022-04-07T14:19:30.977Z"
   },
   {
    "duration": 30,
    "start_time": "2022-04-07T14:19:31.021Z"
   },
   {
    "duration": 16,
    "start_time": "2022-04-07T14:19:31.054Z"
   },
   {
    "duration": 2122,
    "start_time": "2022-04-07T14:19:31.073Z"
   },
   {
    "duration": 2454,
    "start_time": "2022-04-07T14:19:33.198Z"
   },
   {
    "duration": 1942,
    "start_time": "2022-04-07T14:19:35.654Z"
   },
   {
    "duration": 9,
    "start_time": "2022-04-07T15:06:23.610Z"
   },
   {
    "duration": 1838,
    "start_time": "2022-04-07T15:06:26.993Z"
   },
   {
    "duration": 1834,
    "start_time": "2022-04-07T15:06:34.468Z"
   }
  ],
  "kernelspec": {
   "display_name": "Python 3 (ipykernel)",
   "language": "python",
   "name": "python3"
  },
  "language_info": {
   "codemirror_mode": {
    "name": "ipython",
    "version": 3
   },
   "file_extension": ".py",
   "mimetype": "text/x-python",
   "name": "python",
   "nbconvert_exporter": "python",
   "pygments_lexer": "ipython3",
   "version": "3.9.12"
  },
  "toc": {
   "base_numbering": 1,
   "nav_menu": {},
   "number_sections": true,
   "sideBar": true,
   "skip_h1_title": true,
   "title_cell": "Table of Contents",
   "title_sidebar": "Contents",
   "toc_cell": false,
   "toc_position": {},
   "toc_section_display": true,
   "toc_window_display": false
  }
 },
 "nbformat": 4,
 "nbformat_minor": 2
}
